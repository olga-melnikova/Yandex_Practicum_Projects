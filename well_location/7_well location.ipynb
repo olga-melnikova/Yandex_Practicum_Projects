{
 "cells": [
  {
   "cell_type": "markdown",
   "metadata": {
    "toc": true
   },
   "source": [
    "<h1>Содержание<span class=\"tocSkip\"></span></h1>\n",
    "<div class=\"toc\"><ul class=\"toc-item\"><li><span><a href=\"#Загрузка-и-подготовка-данных\" data-toc-modified-id=\"Загрузка-и-подготовка-данных-1\"><span class=\"toc-item-num\">1&nbsp;&nbsp;</span>Загрузка и подготовка данных</a></span></li><li><span><a href=\"#Обучение-и-проверка-модели\" data-toc-modified-id=\"Обучение-и-проверка-модели-2\"><span class=\"toc-item-num\">2&nbsp;&nbsp;</span>Обучение и проверка модели</a></span></li><li><span><a href=\"#Подготовка-к-расчёту-прибыли\" data-toc-modified-id=\"Подготовка-к-расчёту-прибыли-3\"><span class=\"toc-item-num\">3&nbsp;&nbsp;</span>Подготовка к расчёту прибыли</a></span></li><li><span><a href=\"#Расчёт-прибыли-и-рисков\" data-toc-modified-id=\"Расчёт-прибыли-и-рисков-4\"><span class=\"toc-item-num\">4&nbsp;&nbsp;</span>Расчёт прибыли и рисков</a></span><ul class=\"toc-item\"><li><span><a href=\"#Расчет-прибыли\" data-toc-modified-id=\"Расчет-прибыли-4.1\"><span class=\"toc-item-num\">4.1&nbsp;&nbsp;</span>Расчет прибыли</a></span></li><li><span><a href=\"#Расчет-прибыли,-рисков-убытка\" data-toc-modified-id=\"Расчет-прибыли,-рисков-убытка-4.2\"><span class=\"toc-item-num\">4.2&nbsp;&nbsp;</span>Расчет прибыли, рисков убытка</a></span></li></ul></li><li><span><a href=\"#Вывод\" data-toc-modified-id=\"Вывод-5\"><span class=\"toc-item-num\">5&nbsp;&nbsp;</span>Вывод</a></span></li><li><span><a href=\"#Чек-лист-готовности-проекта\" data-toc-modified-id=\"Чек-лист-готовности-проекта-6\"><span class=\"toc-item-num\">6&nbsp;&nbsp;</span>Чек-лист готовности проекта</a></span></li></ul></div>"
   ]
  },
  {
   "cell_type": "markdown",
   "metadata": {},
   "source": [
    "# Выбор локации для скважины"
   ]
  },
  {
   "cell_type": "markdown",
   "metadata": {},
   "source": [
    "Нефтедобывающей компании нужно решить, где бурить новую скважину.\n",
    "\n",
    "Вам предоставлены пробы нефти в трёх регионах: в каждом 10 000 месторождений, где измерили качество нефти и объём её запасов. Постройте модель машинного обучения, которая поможет определить регион, где добыча принесёт наибольшую прибыль. Проанализируйте возможную прибыль и риски техникой *Bootstrap.*\n",
    "\n",
    "Шаги для выбора локации:\n",
    "\n",
    "- В избранном регионе ищут месторождения, для каждого определяют значения признаков;\n",
    "- Строят модель и оценивают объём запасов;\n",
    "- Выбирают месторождения с самым высокими оценками значений. Количество месторождений зависит от бюджета компании и стоимости разработки одной скважины;\n",
    "- Прибыль равна суммарной прибыли отобранных месторождений.\n",
    "\n",
    "Источник данных: Яндекс.Практикум"
   ]
  },
  {
   "cell_type": "markdown",
   "metadata": {},
   "source": [
    "## Загрузка и подготовка данных"
   ]
  },
  {
   "cell_type": "code",
   "execution_count": 51,
   "metadata": {},
   "outputs": [],
   "source": [
    "import pandas as pd\n",
    "import numpy as np\n",
    "import matplotlib.pyplot as plt\n",
    "import seaborn as sns\n",
    "import random\n",
    "from scipy import stats as st\n",
    "from sklearn.linear_model import LinearRegression\n",
    "from sklearn.model_selection import train_test_split\n",
    "from sklearn.metrics import mean_squared_error, r2_score"
   ]
  },
  {
   "cell_type": "code",
   "execution_count": 52,
   "metadata": {},
   "outputs": [],
   "source": [
    "data_1 = pd.read_csv('/datasets/geo_data_0.csv')\n",
    "data_2 = pd.read_csv('/datasets/geo_data_1.csv')\n",
    "data_3 = pd.read_csv('/datasets/geo_data_2.csv')"
   ]
  },
  {
   "cell_type": "markdown",
   "metadata": {},
   "source": [
    "Функция обзора датасета info(df) - выводит информацио о датасете, его размер, количество дубликатов  в данных и уникальные значения столбца id."
   ]
  },
  {
   "cell_type": "code",
   "execution_count": 53,
   "metadata": {},
   "outputs": [],
   "source": [
    "def info(df):\n",
    "    display(df.info())\n",
    "    print(\"Размер датасета: \", df.shape)\n",
    "    print(\"Дубликатов в датасете: \", df.duplicated().sum())\n",
    "    print(\"Уникальных значений столбца id в датасете: \", len(df['id'].unique()))    "
   ]
  },
  {
   "cell_type": "markdown",
   "metadata": {},
   "source": [
    "**Описание данных**  \n",
    "\n",
    "- id — уникальный идентификатор скважины;  \n",
    "- f0, f1, f2 — три признака точек (неважно, что они означают, но сами признаки значимы);  \n",
    "- product — объём запасов в скважине (тыс. баррелей).  "
   ]
  },
  {
   "cell_type": "code",
   "execution_count": 54,
   "metadata": {},
   "outputs": [
    {
     "data": {
      "text/html": [
       "<div>\n",
       "<style scoped>\n",
       "    .dataframe tbody tr th:only-of-type {\n",
       "        vertical-align: middle;\n",
       "    }\n",
       "\n",
       "    .dataframe tbody tr th {\n",
       "        vertical-align: top;\n",
       "    }\n",
       "\n",
       "    .dataframe thead th {\n",
       "        text-align: right;\n",
       "    }\n",
       "</style>\n",
       "<table border=\"1\" class=\"dataframe\">\n",
       "  <thead>\n",
       "    <tr style=\"text-align: right;\">\n",
       "      <th></th>\n",
       "      <th>id</th>\n",
       "      <th>f0</th>\n",
       "      <th>f1</th>\n",
       "      <th>f2</th>\n",
       "      <th>product</th>\n",
       "    </tr>\n",
       "  </thead>\n",
       "  <tbody>\n",
       "    <tr>\n",
       "      <th>0</th>\n",
       "      <td>txEyH</td>\n",
       "      <td>0.705745</td>\n",
       "      <td>-0.497823</td>\n",
       "      <td>1.221170</td>\n",
       "      <td>105.280062</td>\n",
       "    </tr>\n",
       "    <tr>\n",
       "      <th>1</th>\n",
       "      <td>2acmU</td>\n",
       "      <td>1.334711</td>\n",
       "      <td>-0.340164</td>\n",
       "      <td>4.365080</td>\n",
       "      <td>73.037750</td>\n",
       "    </tr>\n",
       "    <tr>\n",
       "      <th>2</th>\n",
       "      <td>409Wp</td>\n",
       "      <td>1.022732</td>\n",
       "      <td>0.151990</td>\n",
       "      <td>1.419926</td>\n",
       "      <td>85.265647</td>\n",
       "    </tr>\n",
       "    <tr>\n",
       "      <th>3</th>\n",
       "      <td>iJLyR</td>\n",
       "      <td>-0.032172</td>\n",
       "      <td>0.139033</td>\n",
       "      <td>2.978566</td>\n",
       "      <td>168.620776</td>\n",
       "    </tr>\n",
       "    <tr>\n",
       "      <th>4</th>\n",
       "      <td>Xdl7t</td>\n",
       "      <td>1.988431</td>\n",
       "      <td>0.155413</td>\n",
       "      <td>4.751769</td>\n",
       "      <td>154.036647</td>\n",
       "    </tr>\n",
       "  </tbody>\n",
       "</table>\n",
       "</div>"
      ],
      "text/plain": [
       "      id        f0        f1        f2     product\n",
       "0  txEyH  0.705745 -0.497823  1.221170  105.280062\n",
       "1  2acmU  1.334711 -0.340164  4.365080   73.037750\n",
       "2  409Wp  1.022732  0.151990  1.419926   85.265647\n",
       "3  iJLyR -0.032172  0.139033  2.978566  168.620776\n",
       "4  Xdl7t  1.988431  0.155413  4.751769  154.036647"
      ]
     },
     "execution_count": 54,
     "metadata": {},
     "output_type": "execute_result"
    }
   ],
   "source": [
    "data_1.head()"
   ]
  },
  {
   "cell_type": "code",
   "execution_count": 55,
   "metadata": {},
   "outputs": [
    {
     "name": "stdout",
     "output_type": "stream",
     "text": [
      "<class 'pandas.core.frame.DataFrame'>\n",
      "RangeIndex: 100000 entries, 0 to 99999\n",
      "Data columns (total 5 columns):\n",
      " #   Column   Non-Null Count   Dtype  \n",
      "---  ------   --------------   -----  \n",
      " 0   id       100000 non-null  object \n",
      " 1   f0       100000 non-null  float64\n",
      " 2   f1       100000 non-null  float64\n",
      " 3   f2       100000 non-null  float64\n",
      " 4   product  100000 non-null  float64\n",
      "dtypes: float64(4), object(1)\n",
      "memory usage: 3.8+ MB\n"
     ]
    },
    {
     "data": {
      "text/plain": [
       "None"
      ]
     },
     "metadata": {},
     "output_type": "display_data"
    },
    {
     "name": "stdout",
     "output_type": "stream",
     "text": [
      "Размер датасета:  (100000, 5)\n",
      "Дубликатов в датасете:  0\n",
      "Уникальных значений столбца id в датасете:  99990\n"
     ]
    }
   ],
   "source": [
    "info(data_1)"
   ]
  },
  {
   "cell_type": "code",
   "execution_count": 56,
   "metadata": {},
   "outputs": [
    {
     "data": {
      "text/html": [
       "<div>\n",
       "<style scoped>\n",
       "    .dataframe tbody tr th:only-of-type {\n",
       "        vertical-align: middle;\n",
       "    }\n",
       "\n",
       "    .dataframe tbody tr th {\n",
       "        vertical-align: top;\n",
       "    }\n",
       "\n",
       "    .dataframe thead th {\n",
       "        text-align: right;\n",
       "    }\n",
       "</style>\n",
       "<table border=\"1\" class=\"dataframe\">\n",
       "  <thead>\n",
       "    <tr style=\"text-align: right;\">\n",
       "      <th></th>\n",
       "      <th>id</th>\n",
       "      <th>f0</th>\n",
       "      <th>f1</th>\n",
       "      <th>f2</th>\n",
       "      <th>product</th>\n",
       "    </tr>\n",
       "  </thead>\n",
       "  <tbody>\n",
       "    <tr>\n",
       "      <th>7530</th>\n",
       "      <td>HZww2</td>\n",
       "      <td>1.061194</td>\n",
       "      <td>-0.373969</td>\n",
       "      <td>10.430210</td>\n",
       "      <td>158.828695</td>\n",
       "    </tr>\n",
       "    <tr>\n",
       "      <th>41724</th>\n",
       "      <td>bxg6G</td>\n",
       "      <td>-0.823752</td>\n",
       "      <td>0.546319</td>\n",
       "      <td>3.630479</td>\n",
       "      <td>93.007798</td>\n",
       "    </tr>\n",
       "    <tr>\n",
       "      <th>51970</th>\n",
       "      <td>A5aEY</td>\n",
       "      <td>-0.180335</td>\n",
       "      <td>0.935548</td>\n",
       "      <td>-2.094773</td>\n",
       "      <td>33.020205</td>\n",
       "    </tr>\n",
       "    <tr>\n",
       "      <th>63593</th>\n",
       "      <td>QcMuo</td>\n",
       "      <td>0.635635</td>\n",
       "      <td>-0.473422</td>\n",
       "      <td>0.862670</td>\n",
       "      <td>64.578675</td>\n",
       "    </tr>\n",
       "    <tr>\n",
       "      <th>66136</th>\n",
       "      <td>74z30</td>\n",
       "      <td>1.084962</td>\n",
       "      <td>-0.312358</td>\n",
       "      <td>6.990771</td>\n",
       "      <td>127.643327</td>\n",
       "    </tr>\n",
       "    <tr>\n",
       "      <th>69163</th>\n",
       "      <td>AGS9W</td>\n",
       "      <td>-0.933795</td>\n",
       "      <td>0.116194</td>\n",
       "      <td>-3.655896</td>\n",
       "      <td>19.230453</td>\n",
       "    </tr>\n",
       "    <tr>\n",
       "      <th>75715</th>\n",
       "      <td>Tdehs</td>\n",
       "      <td>0.112079</td>\n",
       "      <td>0.430296</td>\n",
       "      <td>3.218993</td>\n",
       "      <td>60.964018</td>\n",
       "    </tr>\n",
       "    <tr>\n",
       "      <th>90815</th>\n",
       "      <td>fiKDv</td>\n",
       "      <td>0.049883</td>\n",
       "      <td>0.841313</td>\n",
       "      <td>6.394613</td>\n",
       "      <td>137.346586</td>\n",
       "    </tr>\n",
       "    <tr>\n",
       "      <th>92341</th>\n",
       "      <td>TtcGQ</td>\n",
       "      <td>0.110711</td>\n",
       "      <td>1.022689</td>\n",
       "      <td>0.911381</td>\n",
       "      <td>101.318008</td>\n",
       "    </tr>\n",
       "    <tr>\n",
       "      <th>97785</th>\n",
       "      <td>bsk9y</td>\n",
       "      <td>0.378429</td>\n",
       "      <td>0.005837</td>\n",
       "      <td>0.160827</td>\n",
       "      <td>160.637302</td>\n",
       "    </tr>\n",
       "  </tbody>\n",
       "</table>\n",
       "</div>"
      ],
      "text/plain": [
       "          id        f0        f1         f2     product\n",
       "7530   HZww2  1.061194 -0.373969  10.430210  158.828695\n",
       "41724  bxg6G -0.823752  0.546319   3.630479   93.007798\n",
       "51970  A5aEY -0.180335  0.935548  -2.094773   33.020205\n",
       "63593  QcMuo  0.635635 -0.473422   0.862670   64.578675\n",
       "66136  74z30  1.084962 -0.312358   6.990771  127.643327\n",
       "69163  AGS9W -0.933795  0.116194  -3.655896   19.230453\n",
       "75715  Tdehs  0.112079  0.430296   3.218993   60.964018\n",
       "90815  fiKDv  0.049883  0.841313   6.394613  137.346586\n",
       "92341  TtcGQ  0.110711  1.022689   0.911381  101.318008\n",
       "97785  bsk9y  0.378429  0.005837   0.160827  160.637302"
      ]
     },
     "execution_count": 56,
     "metadata": {},
     "output_type": "execute_result"
    }
   ],
   "source": [
    "data_1.query('id.duplicated() == True')"
   ]
  },
  {
   "cell_type": "code",
   "execution_count": 57,
   "metadata": {},
   "outputs": [
    {
     "data": {
      "text/html": [
       "<div>\n",
       "<style scoped>\n",
       "    .dataframe tbody tr th:only-of-type {\n",
       "        vertical-align: middle;\n",
       "    }\n",
       "\n",
       "    .dataframe tbody tr th {\n",
       "        vertical-align: top;\n",
       "    }\n",
       "\n",
       "    .dataframe thead th {\n",
       "        text-align: right;\n",
       "    }\n",
       "</style>\n",
       "<table border=\"1\" class=\"dataframe\">\n",
       "  <thead>\n",
       "    <tr style=\"text-align: right;\">\n",
       "      <th></th>\n",
       "      <th>id</th>\n",
       "      <th>f0</th>\n",
       "      <th>f1</th>\n",
       "      <th>f2</th>\n",
       "      <th>product</th>\n",
       "    </tr>\n",
       "  </thead>\n",
       "  <tbody>\n",
       "    <tr>\n",
       "      <th>931</th>\n",
       "      <td>HZww2</td>\n",
       "      <td>0.755284</td>\n",
       "      <td>0.368511</td>\n",
       "      <td>1.863211</td>\n",
       "      <td>30.681774</td>\n",
       "    </tr>\n",
       "    <tr>\n",
       "      <th>7530</th>\n",
       "      <td>HZww2</td>\n",
       "      <td>1.061194</td>\n",
       "      <td>-0.373969</td>\n",
       "      <td>10.430210</td>\n",
       "      <td>158.828695</td>\n",
       "    </tr>\n",
       "  </tbody>\n",
       "</table>\n",
       "</div>"
      ],
      "text/plain": [
       "         id        f0        f1         f2     product\n",
       "931   HZww2  0.755284  0.368511   1.863211   30.681774\n",
       "7530  HZww2  1.061194 -0.373969  10.430210  158.828695"
      ]
     },
     "execution_count": 57,
     "metadata": {},
     "output_type": "execute_result"
    }
   ],
   "source": [
    "data_1.query('id == \"HZww2\"')"
   ]
  },
  {
   "cell_type": "markdown",
   "metadata": {},
   "source": [
    "В районе № 1 полных дубликатов не обнаружено, при этом имеется 10 одинаковых id, но с разными признаками."
   ]
  },
  {
   "cell_type": "code",
   "execution_count": 58,
   "metadata": {},
   "outputs": [
    {
     "data": {
      "text/html": [
       "<div>\n",
       "<style scoped>\n",
       "    .dataframe tbody tr th:only-of-type {\n",
       "        vertical-align: middle;\n",
       "    }\n",
       "\n",
       "    .dataframe tbody tr th {\n",
       "        vertical-align: top;\n",
       "    }\n",
       "\n",
       "    .dataframe thead th {\n",
       "        text-align: right;\n",
       "    }\n",
       "</style>\n",
       "<table border=\"1\" class=\"dataframe\">\n",
       "  <thead>\n",
       "    <tr style=\"text-align: right;\">\n",
       "      <th></th>\n",
       "      <th>count</th>\n",
       "      <th>mean</th>\n",
       "      <th>std</th>\n",
       "      <th>min</th>\n",
       "      <th>25%</th>\n",
       "      <th>50%</th>\n",
       "      <th>75%</th>\n",
       "      <th>max</th>\n",
       "    </tr>\n",
       "  </thead>\n",
       "  <tbody>\n",
       "    <tr>\n",
       "      <th>f0</th>\n",
       "      <td>100000.0</td>\n",
       "      <td>0.500419</td>\n",
       "      <td>0.871832</td>\n",
       "      <td>-1.408605</td>\n",
       "      <td>-0.072580</td>\n",
       "      <td>0.502360</td>\n",
       "      <td>1.073581</td>\n",
       "      <td>2.362331</td>\n",
       "    </tr>\n",
       "    <tr>\n",
       "      <th>f1</th>\n",
       "      <td>100000.0</td>\n",
       "      <td>0.250143</td>\n",
       "      <td>0.504433</td>\n",
       "      <td>-0.848218</td>\n",
       "      <td>-0.200881</td>\n",
       "      <td>0.250252</td>\n",
       "      <td>0.700646</td>\n",
       "      <td>1.343769</td>\n",
       "    </tr>\n",
       "    <tr>\n",
       "      <th>f2</th>\n",
       "      <td>100000.0</td>\n",
       "      <td>2.502647</td>\n",
       "      <td>3.248248</td>\n",
       "      <td>-12.088328</td>\n",
       "      <td>0.287748</td>\n",
       "      <td>2.515969</td>\n",
       "      <td>4.715088</td>\n",
       "      <td>16.003790</td>\n",
       "    </tr>\n",
       "    <tr>\n",
       "      <th>product</th>\n",
       "      <td>100000.0</td>\n",
       "      <td>92.500000</td>\n",
       "      <td>44.288691</td>\n",
       "      <td>0.000000</td>\n",
       "      <td>56.497507</td>\n",
       "      <td>91.849972</td>\n",
       "      <td>128.564089</td>\n",
       "      <td>185.364347</td>\n",
       "    </tr>\n",
       "  </tbody>\n",
       "</table>\n",
       "</div>"
      ],
      "text/plain": [
       "            count       mean        std        min        25%        50%  \\\n",
       "f0       100000.0   0.500419   0.871832  -1.408605  -0.072580   0.502360   \n",
       "f1       100000.0   0.250143   0.504433  -0.848218  -0.200881   0.250252   \n",
       "f2       100000.0   2.502647   3.248248 -12.088328   0.287748   2.515969   \n",
       "product  100000.0  92.500000  44.288691   0.000000  56.497507  91.849972   \n",
       "\n",
       "                75%         max  \n",
       "f0         1.073581    2.362331  \n",
       "f1         0.700646    1.343769  \n",
       "f2         4.715088   16.003790  \n",
       "product  128.564089  185.364347  "
      ]
     },
     "execution_count": 58,
     "metadata": {},
     "output_type": "execute_result"
    }
   ],
   "source": [
    "data_1.describe().T"
   ]
  },
  {
   "cell_type": "markdown",
   "metadata": {},
   "source": [
    "Порядок средних значений признаков f0, f1, f2 находится примерно в одном диапазоне от 0,25 до 2,5. Значения признаков могут быть как отрицательные, так и положительные. Так как природа признаков не понятна, нельзя сказать что значит отрицательное значение признака. Средние значения данных практически не отличаются от медианы в датасете 1.  \n",
    "Признак f2 имеет наибольшее стандартное отклонение и наибольший максимум - 16.   \n",
    "Целевой признак в регионе 1 - product - имеет медиану 92 и максимальное значение в 185 тыс. бар. запасов. "
   ]
  },
  {
   "cell_type": "code",
   "execution_count": 59,
   "metadata": {},
   "outputs": [
    {
     "data": {
      "text/html": [
       "<div>\n",
       "<style scoped>\n",
       "    .dataframe tbody tr th:only-of-type {\n",
       "        vertical-align: middle;\n",
       "    }\n",
       "\n",
       "    .dataframe tbody tr th {\n",
       "        vertical-align: top;\n",
       "    }\n",
       "\n",
       "    .dataframe thead th {\n",
       "        text-align: right;\n",
       "    }\n",
       "</style>\n",
       "<table border=\"1\" class=\"dataframe\">\n",
       "  <thead>\n",
       "    <tr style=\"text-align: right;\">\n",
       "      <th></th>\n",
       "      <th>id</th>\n",
       "      <th>f0</th>\n",
       "      <th>f1</th>\n",
       "      <th>f2</th>\n",
       "      <th>product</th>\n",
       "    </tr>\n",
       "  </thead>\n",
       "  <tbody>\n",
       "    <tr>\n",
       "      <th>0</th>\n",
       "      <td>kBEdx</td>\n",
       "      <td>-15.001348</td>\n",
       "      <td>-8.276000</td>\n",
       "      <td>-0.005876</td>\n",
       "      <td>3.179103</td>\n",
       "    </tr>\n",
       "    <tr>\n",
       "      <th>1</th>\n",
       "      <td>62mP7</td>\n",
       "      <td>14.272088</td>\n",
       "      <td>-3.475083</td>\n",
       "      <td>0.999183</td>\n",
       "      <td>26.953261</td>\n",
       "    </tr>\n",
       "    <tr>\n",
       "      <th>2</th>\n",
       "      <td>vyE1P</td>\n",
       "      <td>6.263187</td>\n",
       "      <td>-5.948386</td>\n",
       "      <td>5.001160</td>\n",
       "      <td>134.766305</td>\n",
       "    </tr>\n",
       "    <tr>\n",
       "      <th>3</th>\n",
       "      <td>KcrkZ</td>\n",
       "      <td>-13.081196</td>\n",
       "      <td>-11.506057</td>\n",
       "      <td>4.999415</td>\n",
       "      <td>137.945408</td>\n",
       "    </tr>\n",
       "    <tr>\n",
       "      <th>4</th>\n",
       "      <td>AHL4O</td>\n",
       "      <td>12.702195</td>\n",
       "      <td>-8.147433</td>\n",
       "      <td>5.004363</td>\n",
       "      <td>134.766305</td>\n",
       "    </tr>\n",
       "  </tbody>\n",
       "</table>\n",
       "</div>"
      ],
      "text/plain": [
       "      id         f0         f1        f2     product\n",
       "0  kBEdx -15.001348  -8.276000 -0.005876    3.179103\n",
       "1  62mP7  14.272088  -3.475083  0.999183   26.953261\n",
       "2  vyE1P   6.263187  -5.948386  5.001160  134.766305\n",
       "3  KcrkZ -13.081196 -11.506057  4.999415  137.945408\n",
       "4  AHL4O  12.702195  -8.147433  5.004363  134.766305"
      ]
     },
     "execution_count": 59,
     "metadata": {},
     "output_type": "execute_result"
    }
   ],
   "source": [
    "data_2.head()"
   ]
  },
  {
   "cell_type": "code",
   "execution_count": 60,
   "metadata": {},
   "outputs": [
    {
     "name": "stdout",
     "output_type": "stream",
     "text": [
      "<class 'pandas.core.frame.DataFrame'>\n",
      "RangeIndex: 100000 entries, 0 to 99999\n",
      "Data columns (total 5 columns):\n",
      " #   Column   Non-Null Count   Dtype  \n",
      "---  ------   --------------   -----  \n",
      " 0   id       100000 non-null  object \n",
      " 1   f0       100000 non-null  float64\n",
      " 2   f1       100000 non-null  float64\n",
      " 3   f2       100000 non-null  float64\n",
      " 4   product  100000 non-null  float64\n",
      "dtypes: float64(4), object(1)\n",
      "memory usage: 3.8+ MB\n"
     ]
    },
    {
     "data": {
      "text/plain": [
       "None"
      ]
     },
     "metadata": {},
     "output_type": "display_data"
    },
    {
     "name": "stdout",
     "output_type": "stream",
     "text": [
      "Размер датасета:  (100000, 5)\n",
      "Дубликатов в датасете:  0\n",
      "Уникальных значений столбца id в датасете:  99996\n"
     ]
    }
   ],
   "source": [
    "info(data_2)"
   ]
  },
  {
   "cell_type": "code",
   "execution_count": 61,
   "metadata": {},
   "outputs": [
    {
     "data": {
      "text/html": [
       "<div>\n",
       "<style scoped>\n",
       "    .dataframe tbody tr th:only-of-type {\n",
       "        vertical-align: middle;\n",
       "    }\n",
       "\n",
       "    .dataframe tbody tr th {\n",
       "        vertical-align: top;\n",
       "    }\n",
       "\n",
       "    .dataframe thead th {\n",
       "        text-align: right;\n",
       "    }\n",
       "</style>\n",
       "<table border=\"1\" class=\"dataframe\">\n",
       "  <thead>\n",
       "    <tr style=\"text-align: right;\">\n",
       "      <th></th>\n",
       "      <th>count</th>\n",
       "      <th>mean</th>\n",
       "      <th>std</th>\n",
       "      <th>min</th>\n",
       "      <th>25%</th>\n",
       "      <th>50%</th>\n",
       "      <th>75%</th>\n",
       "      <th>max</th>\n",
       "    </tr>\n",
       "  </thead>\n",
       "  <tbody>\n",
       "    <tr>\n",
       "      <th>f0</th>\n",
       "      <td>100000.0</td>\n",
       "      <td>1.141296</td>\n",
       "      <td>8.965932</td>\n",
       "      <td>-31.609576</td>\n",
       "      <td>-6.298551</td>\n",
       "      <td>1.153055</td>\n",
       "      <td>8.621015</td>\n",
       "      <td>29.421755</td>\n",
       "    </tr>\n",
       "    <tr>\n",
       "      <th>f1</th>\n",
       "      <td>100000.0</td>\n",
       "      <td>-4.796579</td>\n",
       "      <td>5.119872</td>\n",
       "      <td>-26.358598</td>\n",
       "      <td>-8.267985</td>\n",
       "      <td>-4.813172</td>\n",
       "      <td>-1.332816</td>\n",
       "      <td>18.734063</td>\n",
       "    </tr>\n",
       "    <tr>\n",
       "      <th>f2</th>\n",
       "      <td>100000.0</td>\n",
       "      <td>2.494541</td>\n",
       "      <td>1.703572</td>\n",
       "      <td>-0.018144</td>\n",
       "      <td>1.000021</td>\n",
       "      <td>2.011479</td>\n",
       "      <td>3.999904</td>\n",
       "      <td>5.019721</td>\n",
       "    </tr>\n",
       "    <tr>\n",
       "      <th>product</th>\n",
       "      <td>100000.0</td>\n",
       "      <td>68.825000</td>\n",
       "      <td>45.944423</td>\n",
       "      <td>0.000000</td>\n",
       "      <td>26.953261</td>\n",
       "      <td>57.085625</td>\n",
       "      <td>107.813044</td>\n",
       "      <td>137.945408</td>\n",
       "    </tr>\n",
       "  </tbody>\n",
       "</table>\n",
       "</div>"
      ],
      "text/plain": [
       "            count       mean        std        min        25%        50%  \\\n",
       "f0       100000.0   1.141296   8.965932 -31.609576  -6.298551   1.153055   \n",
       "f1       100000.0  -4.796579   5.119872 -26.358598  -8.267985  -4.813172   \n",
       "f2       100000.0   2.494541   1.703572  -0.018144   1.000021   2.011479   \n",
       "product  100000.0  68.825000  45.944423   0.000000  26.953261  57.085625   \n",
       "\n",
       "                75%         max  \n",
       "f0         8.621015   29.421755  \n",
       "f1        -1.332816   18.734063  \n",
       "f2         3.999904    5.019721  \n",
       "product  107.813044  137.945408  "
      ]
     },
     "execution_count": 61,
     "metadata": {},
     "output_type": "execute_result"
    }
   ],
   "source": [
    "data_2.describe().T"
   ]
  },
  {
   "cell_type": "markdown",
   "metadata": {},
   "source": [
    "Датасет для региона 2 состоит из 100 тыс. строк и 5 столбцов.  \n",
    "В данных по региону 2 присутствует 4 одинаковых наименований скважин. Пропущенные значения и дубликаты отсутсвуют.  \n",
    "Среднее значение признака f1 - отрицательно. В датасете региона 2 средние значения признаков отличаются от медианных значений сильнее, чем признаки региона 1.  \n",
    "Среднее значение целевого признака - product - в регионе 2 ниже, чем для региона 1. Так же, ниже и максимальные значения запасов сырья в регионе 2 (137 тыс. бар по сравнению с 185 тыс. бар.)"
   ]
  },
  {
   "cell_type": "code",
   "execution_count": 62,
   "metadata": {},
   "outputs": [
    {
     "data": {
      "text/html": [
       "<div>\n",
       "<style scoped>\n",
       "    .dataframe tbody tr th:only-of-type {\n",
       "        vertical-align: middle;\n",
       "    }\n",
       "\n",
       "    .dataframe tbody tr th {\n",
       "        vertical-align: top;\n",
       "    }\n",
       "\n",
       "    .dataframe thead th {\n",
       "        text-align: right;\n",
       "    }\n",
       "</style>\n",
       "<table border=\"1\" class=\"dataframe\">\n",
       "  <thead>\n",
       "    <tr style=\"text-align: right;\">\n",
       "      <th></th>\n",
       "      <th>id</th>\n",
       "      <th>f0</th>\n",
       "      <th>f1</th>\n",
       "      <th>f2</th>\n",
       "      <th>product</th>\n",
       "    </tr>\n",
       "  </thead>\n",
       "  <tbody>\n",
       "    <tr>\n",
       "      <th>0</th>\n",
       "      <td>fwXo0</td>\n",
       "      <td>-1.146987</td>\n",
       "      <td>0.963328</td>\n",
       "      <td>-0.828965</td>\n",
       "      <td>27.758673</td>\n",
       "    </tr>\n",
       "    <tr>\n",
       "      <th>1</th>\n",
       "      <td>WJtFt</td>\n",
       "      <td>0.262778</td>\n",
       "      <td>0.269839</td>\n",
       "      <td>-2.530187</td>\n",
       "      <td>56.069697</td>\n",
       "    </tr>\n",
       "    <tr>\n",
       "      <th>2</th>\n",
       "      <td>ovLUW</td>\n",
       "      <td>0.194587</td>\n",
       "      <td>0.289035</td>\n",
       "      <td>-5.586433</td>\n",
       "      <td>62.871910</td>\n",
       "    </tr>\n",
       "    <tr>\n",
       "      <th>3</th>\n",
       "      <td>q6cA6</td>\n",
       "      <td>2.236060</td>\n",
       "      <td>-0.553760</td>\n",
       "      <td>0.930038</td>\n",
       "      <td>114.572842</td>\n",
       "    </tr>\n",
       "    <tr>\n",
       "      <th>4</th>\n",
       "      <td>WPMUX</td>\n",
       "      <td>-0.515993</td>\n",
       "      <td>1.716266</td>\n",
       "      <td>5.899011</td>\n",
       "      <td>149.600746</td>\n",
       "    </tr>\n",
       "  </tbody>\n",
       "</table>\n",
       "</div>"
      ],
      "text/plain": [
       "      id        f0        f1        f2     product\n",
       "0  fwXo0 -1.146987  0.963328 -0.828965   27.758673\n",
       "1  WJtFt  0.262778  0.269839 -2.530187   56.069697\n",
       "2  ovLUW  0.194587  0.289035 -5.586433   62.871910\n",
       "3  q6cA6  2.236060 -0.553760  0.930038  114.572842\n",
       "4  WPMUX -0.515993  1.716266  5.899011  149.600746"
      ]
     },
     "execution_count": 62,
     "metadata": {},
     "output_type": "execute_result"
    }
   ],
   "source": [
    "data_3.head()"
   ]
  },
  {
   "cell_type": "code",
   "execution_count": 63,
   "metadata": {},
   "outputs": [
    {
     "name": "stdout",
     "output_type": "stream",
     "text": [
      "<class 'pandas.core.frame.DataFrame'>\n",
      "RangeIndex: 100000 entries, 0 to 99999\n",
      "Data columns (total 5 columns):\n",
      " #   Column   Non-Null Count   Dtype  \n",
      "---  ------   --------------   -----  \n",
      " 0   id       100000 non-null  object \n",
      " 1   f0       100000 non-null  float64\n",
      " 2   f1       100000 non-null  float64\n",
      " 3   f2       100000 non-null  float64\n",
      " 4   product  100000 non-null  float64\n",
      "dtypes: float64(4), object(1)\n",
      "memory usage: 3.8+ MB\n"
     ]
    },
    {
     "data": {
      "text/plain": [
       "None"
      ]
     },
     "metadata": {},
     "output_type": "display_data"
    },
    {
     "name": "stdout",
     "output_type": "stream",
     "text": [
      "Размер датасета:  (100000, 5)\n",
      "Дубликатов в датасете:  0\n",
      "Уникальных значений столбца id в датасете:  99996\n"
     ]
    }
   ],
   "source": [
    "info(data_3)"
   ]
  },
  {
   "cell_type": "code",
   "execution_count": 64,
   "metadata": {},
   "outputs": [
    {
     "data": {
      "text/html": [
       "<div>\n",
       "<style scoped>\n",
       "    .dataframe tbody tr th:only-of-type {\n",
       "        vertical-align: middle;\n",
       "    }\n",
       "\n",
       "    .dataframe tbody tr th {\n",
       "        vertical-align: top;\n",
       "    }\n",
       "\n",
       "    .dataframe thead th {\n",
       "        text-align: right;\n",
       "    }\n",
       "</style>\n",
       "<table border=\"1\" class=\"dataframe\">\n",
       "  <thead>\n",
       "    <tr style=\"text-align: right;\">\n",
       "      <th></th>\n",
       "      <th>count</th>\n",
       "      <th>mean</th>\n",
       "      <th>std</th>\n",
       "      <th>min</th>\n",
       "      <th>25%</th>\n",
       "      <th>50%</th>\n",
       "      <th>75%</th>\n",
       "      <th>max</th>\n",
       "    </tr>\n",
       "  </thead>\n",
       "  <tbody>\n",
       "    <tr>\n",
       "      <th>f0</th>\n",
       "      <td>100000.0</td>\n",
       "      <td>0.002023</td>\n",
       "      <td>1.732045</td>\n",
       "      <td>-8.760004</td>\n",
       "      <td>-1.162288</td>\n",
       "      <td>0.009424</td>\n",
       "      <td>1.158535</td>\n",
       "      <td>7.238262</td>\n",
       "    </tr>\n",
       "    <tr>\n",
       "      <th>f1</th>\n",
       "      <td>100000.0</td>\n",
       "      <td>-0.002081</td>\n",
       "      <td>1.730417</td>\n",
       "      <td>-7.084020</td>\n",
       "      <td>-1.174820</td>\n",
       "      <td>-0.009482</td>\n",
       "      <td>1.163678</td>\n",
       "      <td>7.844801</td>\n",
       "    </tr>\n",
       "    <tr>\n",
       "      <th>f2</th>\n",
       "      <td>100000.0</td>\n",
       "      <td>2.495128</td>\n",
       "      <td>3.473445</td>\n",
       "      <td>-11.970335</td>\n",
       "      <td>0.130359</td>\n",
       "      <td>2.484236</td>\n",
       "      <td>4.858794</td>\n",
       "      <td>16.739402</td>\n",
       "    </tr>\n",
       "    <tr>\n",
       "      <th>product</th>\n",
       "      <td>100000.0</td>\n",
       "      <td>95.000000</td>\n",
       "      <td>44.749921</td>\n",
       "      <td>0.000000</td>\n",
       "      <td>59.450441</td>\n",
       "      <td>94.925613</td>\n",
       "      <td>130.595027</td>\n",
       "      <td>190.029838</td>\n",
       "    </tr>\n",
       "  </tbody>\n",
       "</table>\n",
       "</div>"
      ],
      "text/plain": [
       "            count       mean        std        min        25%        50%  \\\n",
       "f0       100000.0   0.002023   1.732045  -8.760004  -1.162288   0.009424   \n",
       "f1       100000.0  -0.002081   1.730417  -7.084020  -1.174820  -0.009482   \n",
       "f2       100000.0   2.495128   3.473445 -11.970335   0.130359   2.484236   \n",
       "product  100000.0  95.000000  44.749921   0.000000  59.450441  94.925613   \n",
       "\n",
       "                75%         max  \n",
       "f0         1.158535    7.238262  \n",
       "f1         1.163678    7.844801  \n",
       "f2         4.858794   16.739402  \n",
       "product  130.595027  190.029838  "
      ]
     },
     "execution_count": 64,
     "metadata": {},
     "output_type": "execute_result"
    }
   ],
   "source": [
    "data_3.describe().T"
   ]
  },
  {
   "cell_type": "markdown",
   "metadata": {},
   "source": [
    "В датасете региона 3 имеется так же, как и в датасетах других регионов 100 тыс. строк и 5 столбцов.  \n",
    "Пропущенные значения и дубликаты отсутствуют.  \n",
    "Среднее значение запаса сырья в 3 регионе максимально - 95 тыс.бар., максимальное значение так же самое высокое в регионе 3 - 190 тыс. бар.   \n",
    "Все признаки имеют диапазон значения от отрицательных до положительных."
   ]
  },
  {
   "cell_type": "markdown",
   "metadata": {},
   "source": [
    "Рассмотрим распределение признаков и целевого признака на графиках.\n",
    "\n",
    "Создадим функции для построения графиков для исследования распределений признаков. \n",
    "-  **kde_df(data, title_1)** - график плотности распределения по всем столбцам датасета - на вход датасет, наименование.\n",
    "- **heatmap_b(df, col, title_1)** - тепловая карта корреляции признаков и целевого признака - на вход подается датасет, список исследуемых столбцов, название графика\n",
    "- **boxplot_4(df, suptitle_='Data', col=column_list)** - ящик с усами с диаграммой рассеивания для оценки выбросов в данных, медианы, межквартильного размаха признаков и целевого признака в датасете. "
   ]
  },
  {
   "cell_type": "code",
   "execution_count": 65,
   "metadata": {},
   "outputs": [],
   "source": [
    "column_list = ['f0', 'f1', 'f2', 'product'] # список наименований столбцов для построения графиков"
   ]
  },
  {
   "cell_type": "code",
   "execution_count": 66,
   "metadata": {},
   "outputs": [],
   "source": [
    "def kde_df(data, title_1='Оригинальные распределения признаков', col=column_list):\n",
    "    fig, (ax1) = plt.subplots(1, len(col), figsize = (22, 6))\n",
    "\n",
    "    fig.suptitle(title_1, fontsize=16)\n",
    "    \n",
    "    b_colors = ['mediumblue', 'skyblue', 'darkgreen', 'lightgreen']\n",
    "    \n",
    "    for i in range(len(column_list)):\n",
    "        kde_df = sns.kdeplot(data[column_list[i]], ax = ax1[i], shade=True, color=b_colors[i], alpha=.4)\n",
    "        kde_df.set_xlabel(column_list[i], fontsize=16)\n",
    "        kde_df.set_ylabel('Плотность', fontsize=16)\n",
    "        kde_df.grid(color = 'lightblue', linewidth = 1, linestyle=':')\n",
    "    return kde_df      "
   ]
  },
  {
   "cell_type": "code",
   "execution_count": 67,
   "metadata": {},
   "outputs": [],
   "source": [
    "# оценим корреляцию признаков и целевого признака\n",
    "\n",
    "def heatmap_b(df, col=column_list, title_1='Корреляция'):\n",
    "    plt.figure(figsize=(8, 5))\n",
    "\n",
    "    heatmap_b = sns.heatmap((df.corr()[col]), \n",
    "        vmin=-1, \n",
    "        vmax=1, \n",
    "        cmap=\"YlGnBu\", \n",
    "        annot=True, \n",
    "        fmt='.2g')\n",
    "\n",
    "\n",
    "    heatmap_b.set_title(title_1, fontdict={'fontsize':14})\n",
    "\n",
    "    return heatmap_b"
   ]
  },
  {
   "cell_type": "code",
   "execution_count": 68,
   "metadata": {},
   "outputs": [],
   "source": [
    "def boxplot_4(df, suptitle_='Data', col=column_list):  \n",
    "    \n",
    "    # функция по построению 4 графиков boxplot по 2 на строке\n",
    "    # на вход: датасет, имя датасета, список с колонками\n",
    "    \n",
    "    fig, axs = plt.subplots(2, 2, figsize=(20, 7))\n",
    "    \n",
    "    fig.suptitle(suptitle_, fontsize=16)\n",
    "    \n",
    "    axs_list = [[0, 0], [0, 1], [1, 0], [1, 1]]\n",
    "    \n",
    "    for i in range(len(col)):\n",
    "\n",
    "        n = axs_list[i]\n",
    "\n",
    "        box_col = sns.boxplot(x=df[column_list[i]],  ax=axs[n[0], n[1]], color='mediumblue', linewidth=2.5)\n",
    "        box_col = sns.stripplot(x=df[column_list[i]], ax=axs[n[0], n[1]], marker=\"o\", alpha=0.05, color=\"skyblue\")\n",
    "        \n",
    "        box_col.set_title(col[i], fontsize=16)\n",
    "        box_col.set_xlabel('')\n",
    "        box_col.grid(color = 'lightblue', linewidth = 1, linestyle=':')"
   ]
  },
  {
   "cell_type": "code",
   "execution_count": 69,
   "metadata": {},
   "outputs": [
    {
     "data": {
      "image/png": "[encoded data removed]",
      "text/plain": [
       "<Figure size 1584x432 with 4 Axes>"
      ]
     },
     "metadata": {
      "needs_background": "light"
     },
     "output_type": "display_data"
    }
   ],
   "source": [
    "kde_df(data_1, title_1='Оригинальные распределения признаков data_1')\n",
    "plt.show()"
   ]
  },
  {
   "cell_type": "markdown",
   "metadata": {},
   "source": [
    "Распределение признаков f2 - нормальное, признаки f0 и f1 имеют несколько пиков (4 и 3 соответственно).  \n",
    "Распределение значений столбца product отличается от нормального и имеет несколько пиков."
   ]
  },
  {
   "cell_type": "code",
   "execution_count": 70,
   "metadata": {},
   "outputs": [
    {
     "data": {
      "image/png": "[encoded data removed]",
      "text/plain": [
       "<Figure size 1440x504 with 4 Axes>"
      ]
     },
     "metadata": {
      "needs_background": "light"
     },
     "output_type": "display_data"
    }
   ],
   "source": [
    "boxplot_4(df=data_1, suptitle_='Data_1', col=column_list)"
   ]
  },
  {
   "cell_type": "markdown",
   "metadata": {},
   "source": [
    "Порядок медианного значения признаков f1, f2, f3 один.   \n",
    "Имеются выбросы в данных по признаку f2. Так как природа данных неизвестна, нельзя точно сказать что означают эти выбросы.  \n",
    "Медиана запасов сырья ~91 тыс. бар."
   ]
  },
  {
   "cell_type": "code",
   "execution_count": 71,
   "metadata": {},
   "outputs": [
    {
     "data": {
      "image/png": "[encoded data removed]",
      "text/plain": [
       "<Figure size 576x360 with 2 Axes>"
      ]
     },
     "metadata": {
      "needs_background": "light"
     },
     "output_type": "display_data"
    }
   ],
   "source": [
    "heatmap_b(df=data_1, col=column_list, title_1='Корреляция признаков data_1')\n",
    "plt.show()"
   ]
  },
  {
   "cell_type": "markdown",
   "metadata": {},
   "source": [
    "Наблюдается высокий коэффициент корреляции признака f2 с product (0,48) и признака f1 и f0 (0,44)."
   ]
  },
  {
   "cell_type": "code",
   "execution_count": 72,
   "metadata": {},
   "outputs": [
    {
     "data": {
      "image/png": "[encoded data removed]",
      "text/plain": [
       "<Figure size 1584x432 with 4 Axes>"
      ]
     },
     "metadata": {
      "needs_background": "light"
     },
     "output_type": "display_data"
    }
   ],
   "source": [
    "kde_df(data_2, title_1='Оригинальные распределения признаков data_2')\n",
    "plt.show()"
   ]
  },
  {
   "cell_type": "markdown",
   "metadata": {},
   "source": [
    "Распределение в регионе 2 нормальное у признака f1. Все остальные имеют несколько пиков.  \n",
    "Распределение запасов сырья находится в диапазоне от 0 до 150 тыс. бар. и имеет несколько резких пиков."
   ]
  },
  {
   "cell_type": "code",
   "execution_count": 73,
   "metadata": {},
   "outputs": [
    {
     "data": {
      "image/png": "[encoded data removed]",
      "text/plain": [
       "<Figure size 1440x504 with 4 Axes>"
      ]
     },
     "metadata": {
      "needs_background": "light"
     },
     "output_type": "display_data"
    }
   ],
   "source": [
    "boxplot_4(df=data_2, suptitle_='Data_2', col=column_list)"
   ]
  },
  {
   "cell_type": "markdown",
   "metadata": {},
   "source": [
    "В регионе 2 разброс запасов сырья сконцентрирован на нескольких значениях, не наблюдается слошного распределения. Вероятно, что запас в основном зависит от признака f2.  \n",
    "По признаку f1 имеются выбросы в данных.  \n",
    "Медиана целевого признака ~ 60 тыс. бар."
   ]
  },
  {
   "cell_type": "code",
   "execution_count": 74,
   "metadata": {},
   "outputs": [
    {
     "data": {
      "image/png": "[encoded data removed]",
      "text/plain": [
       "<Figure size 576x360 with 2 Axes>"
      ]
     },
     "metadata": {
      "needs_background": "light"
     },
     "output_type": "display_data"
    }
   ],
   "source": [
    "heatmap_b(df=data_2, col=column_list, title_1='Корреляция признаков data_2')\n",
    "plt.show()"
   ]
  },
  {
   "cell_type": "markdown",
   "metadata": {},
   "source": [
    "Коэффициент корреляции ~1 запасов сырья и признака f2 говорит о высокой зависимости запасов от признака f2. "
   ]
  },
  {
   "cell_type": "code",
   "execution_count": 75,
   "metadata": {},
   "outputs": [
    {
     "data": {
      "image/png": "[encoded data removed]",
      "text/plain": [
       "<Figure size 1584x432 with 4 Axes>"
      ]
     },
     "metadata": {
      "needs_background": "light"
     },
     "output_type": "display_data"
    }
   ],
   "source": [
    "kde_df(data_3, title_1='Оригинальные распределения признаков data_3')\n",
    "plt.show()"
   ]
  },
  {
   "cell_type": "markdown",
   "metadata": {},
   "source": [
    "Все признаки по региону 3 распределены нормальнос пиком около 0.   \n",
    "Целевой признак - запас сырья имеет несколько пиков, распределение значений находится в пределах от 0 до 200, примерно такое же как и в регионе 1."
   ]
  },
  {
   "cell_type": "code",
   "execution_count": 76,
   "metadata": {},
   "outputs": [
    {
     "data": {
      "image/png": "[encoded data removed]",
      "text/plain": [
       "<Figure size 1440x504 with 4 Axes>"
      ]
     },
     "metadata": {
      "needs_background": "light"
     },
     "output_type": "display_data"
    }
   ],
   "source": [
    "boxplot_4(df=data_3, suptitle_='Data_3', col=column_list)"
   ]
  },
  {
   "cell_type": "markdown",
   "metadata": {},
   "source": [
    "Во всех признаках в данных региона 3 имеются выбросы.   \n",
    "Медиана целевого признака 95 тыс. бар.  и максимум запасов - 190 тыс. бар. Значения запасов сырья в скважинах распределены равномерно от 0 до ~190 тыс. бар."
   ]
  },
  {
   "cell_type": "code",
   "execution_count": 77,
   "metadata": {},
   "outputs": [
    {
     "data": {
      "image/png": "[encoded data removed]",
      "text/plain": [
       "<Figure size 576x360 with 2 Axes>"
      ]
     },
     "metadata": {
      "needs_background": "light"
     },
     "output_type": "display_data"
    }
   ],
   "source": [
    "heatmap_b(df=data_3, col=column_list, title_1='Корреляция признаков data_3')\n",
    "plt.show()"
   ]
  },
  {
   "cell_type": "markdown",
   "metadata": {},
   "source": [
    "Так же, как и с другими регионами наибольший коэффициент корреляции наблюдается у product с признаком f2 - 0,45."
   ]
  },
  {
   "cell_type": "markdown",
   "metadata": {},
   "source": [
    "**Вывод**\n",
    "***\n",
    "- Каждый датасет содежит 100 тыс. строк и 5 столбцов.  \n",
    "- Типы данных - float64.  \n",
    "- Пропущенных значений, полных дубликатов не обнаружено.  \n",
    "- Признак f2 имеет высокую корреляцию с целевым признаком, особенно в регионе 2 - коэф. 0.99.  \n",
    "- В регионе 3 все признаки имеют выбросы в данных. Медианное значение признаков f0 и f1 около 0, f2 около 2.5 - сильных различий в среднем нет. В регионе 2 выбросы имеются в признаке f1, в регионе 1 в признаке - f2. Выбросы в целевом признаке отсутствуют в данных всех регионов.\n",
    "- Распределение запасов сырья в регионах 1 и 3 находится в пределах от 0 до 200, в регионе 2 - от 0 до 150 с ярко выраженными резкими пиками.\n",
    "- Распределение запасов сырья во всех регионах с несколькими пиками.\n",
    "- Среднее значение запасов максимально в регионе 1 и 3 (92 тыс.бар. и 95 тыс.бар.), минимально в регионе 2 (68 тыс. бар.).\n",
    "- Наблюдается, что в столбце id есть несколько повторяющихся значений. Столбец id для обучения модели не нужен, так как несет уникальную, почти не повторяющуюся информацию."
   ]
  },
  {
   "cell_type": "markdown",
   "metadata": {},
   "source": [
    "## Обучение и проверка модели"
   ]
  },
  {
   "cell_type": "markdown",
   "metadata": {},
   "source": [
    "Целевой признак - количественная переменная - предсказываем объес запаса в скважинах.   \n",
    "Напишем функцию для разделения исходных датасетов на выборки - 25% валидационная выборка, 75% обучающая."
   ]
  },
  {
   "cell_type": "code",
   "execution_count": 78,
   "metadata": {},
   "outputs": [],
   "source": [
    "def lg_data(data): # функция разделения датасета на целевой признак и на признаки\n",
    "    features = data.drop(['id', 'product'], axis=1)\n",
    "    target = data['product']\n",
    "    return features, target"
   ]
  },
  {
   "cell_type": "code",
   "execution_count": 79,
   "metadata": {},
   "outputs": [],
   "source": [
    "features_1, target_1 = lg_data(data_1) # делим датасеты на признаки и целевой признак product\n",
    "features_2, target_2 = lg_data(data_2)\n",
    "features_3, target_3 = lg_data(data_3)\n",
    "\n",
    "features_list = [features_1, features_2, features_3]\n",
    "target_list = [target_1, target_2, target_3]"
   ]
  },
  {
   "cell_type": "markdown",
   "metadata": {},
   "source": [
    "Проверяем размеры разделенных на признаки датасетов по регионам."
   ]
  },
  {
   "cell_type": "code",
   "execution_count": 80,
   "metadata": {},
   "outputs": [
    {
     "name": "stdout",
     "output_type": "stream",
     "text": [
      "Регион 1 data_ 1\n",
      "Размер датасета с признаками (100000, 3)\n",
      "Размер датасета с целевым признаком (100000,)\n",
      "\n",
      "Регион 2 data_ 2\n",
      "Размер датасета с признаками (100000, 3)\n",
      "Размер датасета с целевым признаком (100000,)\n",
      "\n",
      "Регион 3 data_ 3\n",
      "Размер датасета с признаками (100000, 3)\n",
      "Размер датасета с целевым признаком (100000,)\n",
      "\n"
     ]
    }
   ],
   "source": [
    "for i in range(3):\n",
    "    print('Регион', i+1, 'data_', i+1)\n",
    "    print('Размер датасета с признаками', features_list[i].shape)\n",
    "    print('Размер датасета с целевым признаком', target_list[i].shape)\n",
    "    print()"
   ]
  },
  {
   "cell_type": "markdown",
   "metadata": {},
   "source": [
    "Функция model_LG(features, target):\n",
    "- на вход подается признак - features и целевой признак target.\n",
    "- функция разделяет выборку на обучающую 75% и валидационную 25%, затем выводит на экран для проверки размеры выборок.\n",
    "- строит модель линейной регрессии, обучает модель на обучающей выборке, затем предсказывает значения по валидационной выборке. \n",
    "- проверяется эффективность модели двумя метриками - RMSE и R2. Так же, выводится на экран среднее значение предсказаний и оригинальной среднее запасов сырья на валидационной выборке.\n",
    "- R2 - коэффициент детерминации от 0 до 1. Чем ближе к 1, тем сильнее зависимость. \n",
    "- RMSE - среднеквадратичная ошибка - чем ближе к 0, тем меньше ошибка предсказания.\n",
    "- функция возвращает:  \n",
    "        predictions - предсказания модели, \n",
    "        target_valid - правильные ответы валидационной выборки, \n",
    "        result - RMSE,\n",
    "        mean_pred - среднее значение предсказаний сырья, \n",
    "        mean_target - среднее значение запасов сырья истиное, \n",
    "        r2_score_m - значение метрики R2."
   ]
  },
  {
   "cell_type": "code",
   "execution_count": 81,
   "metadata": {},
   "outputs": [],
   "source": [
    "def model_LG(features, target):\n",
    "    \n",
    "    # разделение на выборки обуч. 75% и вал. 25%\n",
    "    features_train, features_valid, target_train, target_valid = train_test_split(\n",
    "        features, target, test_size=.25, random_state=5)\n",
    "    # проверка размера выборок \n",
    "    print('Размер тренировочной выборки признаков:', features_train.shape, \n",
    "          'целевого признака:', target_train.shape, sep='\\n')\n",
    "    print('Размер валидационной выборки признаков:', features_valid.shape, \n",
    "          'целевого признака:', target_valid.shape, sep='\\n')\n",
    "    print()\n",
    "    \n",
    "    model = LinearRegression() # модель\n",
    "\n",
    "    model.fit(features_train, target_train) # обучение\n",
    "\n",
    "    predictions = model.predict(features_valid) # предсказания\n",
    "\n",
    "    result = mean_squared_error(target_valid, predictions) ** 0.5 # RMSE\n",
    "    \n",
    "    mean_pred = predictions.mean() # среднее значение запасов в предсказаниях\n",
    "    \n",
    "    mean_target = target_valid.mean() # истиное среднее запасов\n",
    "    \n",
    "    r2_score_m = r2_score(target_valid, predictions) # R2\n",
    "    \n",
    "    print('Среднее предсказаний: {:.5f}'.format(mean_pred))\n",
    "    print('Среднее оригинальное: {:.5f}'.format(mean_target))\n",
    "    print('RMSE: {:.5f}'.format(result))\n",
    "    print('R2 модели: {:.5f}'.format(r2_score_m))\n",
    "    \n",
    "    return predictions, target_valid, result, mean_pred, mean_target, r2_score_m"
   ]
  },
  {
   "cell_type": "code",
   "execution_count": 82,
   "metadata": {},
   "outputs": [
    {
     "name": "stdout",
     "output_type": "stream",
     "text": [
      "Размер тренировочной выборки признаков:\n",
      "(75000, 3)\n",
      "целевого признака:\n",
      "(75000,)\n",
      "Размер валидационной выборки признаков:\n",
      "(25000, 3)\n",
      "целевого признака:\n",
      "(25000,)\n",
      "\n",
      "Среднее предсказаний: 92.62395\n",
      "Среднее оригинальное: 92.90319\n",
      "RMSE: 37.80285\n",
      "R2 модели: 0.27582\n"
     ]
    }
   ],
   "source": [
    "predictions_1, target_valid_1, result_1, mean_pred_1, mean_target_1, r2_score_1 = model_LG(features_1, target_1)"
   ]
  },
  {
   "cell_type": "code",
   "execution_count": 83,
   "metadata": {},
   "outputs": [
    {
     "name": "stdout",
     "output_type": "stream",
     "text": [
      "Размер тренировочной выборки признаков:\n",
      "(75000, 3)\n",
      "целевого признака:\n",
      "(75000,)\n",
      "Размер валидационной выборки признаков:\n",
      "(25000, 3)\n",
      "целевого признака:\n",
      "(25000,)\n",
      "\n",
      "Среднее предсказаний: 68.64756\n",
      "Среднее оригинальное: 68.64128\n",
      "RMSE: 0.89116\n",
      "R2 модели: 0.99962\n"
     ]
    }
   ],
   "source": [
    "predictions_2, target_valid_2, result_2, mean_pred_2, mean_target_2, r2_score_2 = model_LG(features_2, target_2)"
   ]
  },
  {
   "cell_type": "code",
   "execution_count": 84,
   "metadata": {},
   "outputs": [
    {
     "name": "stdout",
     "output_type": "stream",
     "text": [
      "Размер тренировочной выборки признаков:\n",
      "(75000, 3)\n",
      "целевого признака:\n",
      "(75000,)\n",
      "Размер валидационной выборки признаков:\n",
      "(25000, 3)\n",
      "целевого признака:\n",
      "(25000,)\n",
      "\n",
      "Среднее предсказаний: 95.02418\n",
      "Среднее оригинальное: 95.08867\n",
      "RMSE: 40.27856\n",
      "R2 модели: 0.19011\n"
     ]
    }
   ],
   "source": [
    "predictions_3, target_valid_3, result_3, mean_pred_3, mean_target_3, r2_score_3 = model_LG(features_3, target_3)"
   ]
  },
  {
   "cell_type": "markdown",
   "metadata": {},
   "source": [
    "**Вывод**\n",
    "***\n",
    "- Максимальное значение средних запасов сырья в регионе 3 и 1 - 95 тыс.бар. и 92 тыс.бар. соответственно.\n",
    "- Лучший результат предсказаний согласно метрик RMSE и R2 показала модель для данный региона 2. RMSE - 0,9 что говорит о высокой точности предсказаний по сравнению с предсказаниями региона 1 и 3. R2 близка к 1, что говорит о высоком качестве предсказаний. Для региона 2 наблюдался высокий коэффициент корреляции с признаком f2 - 0.99. \n",
    "- Среднеквадратичная ошибка предсказаний модели RMSE для региона 1 - 38 тыс. бар., для региона 3 - 40 тыс. бар. - в разы выше, чем для региона 2.  \n",
    "- Истиные средние значения запасов сырья близки к предсказанным для всех моделей.  \n",
    "- Наименьший средний запас сырья в регионе 2."
   ]
  },
  {
   "cell_type": "markdown",
   "metadata": {},
   "source": [
    "## Подготовка к расчёту прибыли"
   ]
  },
  {
   "cell_type": "markdown",
   "metadata": {},
   "source": [
    "Условия задачи:  \n",
    "- При разведке региона исследуют 500 точек, из которых с помощью машинного обучения выбирают 200 лучших для разработки.  \n",
    "- Бюджет на разработку скважин в регионе — 10 млрд рублей.    \n",
    "- При нынешних ценах один баррель сырья приносит 450 рублей дохода. Доход с каждой единицы продукта составляет 450 тыс. рублей, поскольку объём указан в тысячах баррелей.    \n",
    "\n",
    "Запишем в переменные условия задачи."
   ]
  },
  {
   "cell_type": "markdown",
   "metadata": {},
   "source": [
    "<a id='s1'></a>\n",
    "#Переименовала константы"
   ]
  },
  {
   "cell_type": "code",
   "execution_count": 85,
   "metadata": {},
   "outputs": [],
   "source": [
    "TOTAL = 500 # выборка для разведки\n",
    "BEST = 200 # скважин для разработки\n",
    "ONE_BAR_INCOME = 4.5*10**5 # доход с тыс. бар.\n",
    "BUDGET = 10**10 # бюджет"
   ]
  },
  {
   "cell_type": "markdown",
   "metadata": {},
   "source": [
    "Вычислим минимальный объем запасов в 1 скважине для безубыточной добычи."
   ]
  },
  {
   "cell_type": "code",
   "execution_count": 86,
   "metadata": {},
   "outputs": [
    {
     "name": "stdout",
     "output_type": "stream",
     "text": [
      "Минимальный запас сырья в скважине для безубыточной добычи:  111.1 тыс. бар.\n"
     ]
    }
   ],
   "source": [
    "vol = round((BUDGET / ONE_BAR_INCOME / BEST), 1)\n",
    "print('Минимальный запас сырья в скважине для безубыточной добычи: ', vol, 'тыс. бар.')"
   ]
  },
  {
   "cell_type": "markdown",
   "metadata": {},
   "source": [
    "Сравним полученный показатель со средними значениями в каждом регионе."
   ]
  },
  {
   "cell_type": "code",
   "execution_count": 87,
   "metadata": {},
   "outputs": [
    {
     "data": {
      "text/html": [
       "<div>\n",
       "<style scoped>\n",
       "    .dataframe tbody tr th:only-of-type {\n",
       "        vertical-align: middle;\n",
       "    }\n",
       "\n",
       "    .dataframe tbody tr th {\n",
       "        vertical-align: top;\n",
       "    }\n",
       "\n",
       "    .dataframe thead th {\n",
       "        text-align: right;\n",
       "    }\n",
       "</style>\n",
       "<table border=\"1\" class=\"dataframe\">\n",
       "  <thead>\n",
       "    <tr style=\"text-align: right;\">\n",
       "      <th></th>\n",
       "      <th>Mean_product</th>\n",
       "      <th>Mean_predict</th>\n",
       "      <th>Min_product</th>\n",
       "    </tr>\n",
       "  </thead>\n",
       "  <tbody>\n",
       "    <tr>\n",
       "      <th>Регион 1</th>\n",
       "      <td>92.903192</td>\n",
       "      <td>92.623947</td>\n",
       "      <td>111.1</td>\n",
       "    </tr>\n",
       "    <tr>\n",
       "      <th>Регион 2</th>\n",
       "      <td>68.641276</td>\n",
       "      <td>68.647565</td>\n",
       "      <td>111.1</td>\n",
       "    </tr>\n",
       "    <tr>\n",
       "      <th>Регион 3</th>\n",
       "      <td>95.088669</td>\n",
       "      <td>95.024178</td>\n",
       "      <td>111.1</td>\n",
       "    </tr>\n",
       "  </tbody>\n",
       "</table>\n",
       "</div>"
      ],
      "text/plain": [
       "          Mean_product  Mean_predict  Min_product\n",
       "Регион 1     92.903192     92.623947        111.1\n",
       "Регион 2     68.641276     68.647565        111.1\n",
       "Регион 3     95.088669     95.024178        111.1"
      ]
     },
     "execution_count": 87,
     "metadata": {},
     "output_type": "execute_result"
    }
   ],
   "source": [
    "data_mean = pd.DataFrame({'Mean_product': [mean_target_1, mean_target_2, mean_target_3], \n",
    "                          'Mean_predict': [mean_pred_1, mean_pred_2, mean_pred_3],\n",
    "                          'Min_product': vol}, \n",
    "                         index=['Регион 1','Регион 2','Регион 3'])\n",
    "data_mean"
   ]
  },
  {
   "cell_type": "markdown",
   "metadata": {},
   "source": [
    "**Вывод**\n",
    "***\n",
    "- Минимальный запас сырья в скважине для безубыточной разработки составил 111 тыс. бар.\n",
    "- Средние значения запасов в скважинах ниже (от 68 до 95 тыс. бар.), чем минимальное необходимое количество запаса для безубыточной разработки (111,1)."
   ]
  },
  {
   "cell_type": "markdown",
   "metadata": {},
   "source": [
    "## Расчёт прибыли и рисков "
   ]
  },
  {
   "cell_type": "markdown",
   "metadata": {},
   "source": [
    "### Расчет прибыли"
   ]
  },
  {
   "cell_type": "markdown",
   "metadata": {},
   "source": [
    "Рассчитаем прибыль по регионам из выборки из случайных 500 скважин (на одной случайной выборке):\n",
    "- Выбрать случайные 500 скважин и из них 200 с максимальными запасами по предсказанным значениям.\n",
    "- Найти выбранные 200 скважин в реальных значениях target.\n",
    "- Вычислить среднее максимальных запасов.\n",
    "- Просуммировать все запасы и умножить на доход с единицы и вычесть бюджет на разработку."
   ]
  },
  {
   "cell_type": "markdown",
   "metadata": {},
   "source": [
    "Функция total_income для подсчета прибыли разработки n месторождений: \n",
    "- predictions - предсказания модели для региона\n",
    "- target_real - истиные значения запасов сырья\n",
    "- num_sample - длина случайной выборки (500)\n",
    "- num - количество скважин для разработки \n",
    "- income_per_unit - доход с тыс. бар.\n",
    "- gen_budget - бюджет на разработку 200 скважин  \n",
    "- reg - регион для разработки\n",
    "\n",
    "На выходе - датафрейм с показателями:\n",
    "- Минимальный запас для безубыточной разработки, \n",
    "- Средний запас сырья в скважине,\n",
    "- Общий запас сырья в лучших скважинах,\n",
    "- Прибыль от разработки  \n",
    "Возвращает так же - средний запас в 200 скважинах, суммарный запас в 200 скважинах, общий доход от разработки выбранных 200 скважин."
   ]
  },
  {
   "cell_type": "code",
   "execution_count": 88,
   "metadata": {},
   "outputs": [],
   "source": [
    "def total_income(predictions, target_real, num_sample=TOTAL, num=BEST, \n",
    "                 income_per_unit=ONE_BAR_INCOME, gen_budget=BUDGET, reg='Регион'):\n",
    "    \n",
    "    predictions = pd.Series(predictions) # Series с предсказаниями\n",
    "    \n",
    "    target_valid_f = target_real.reset_index(drop=True) # сброс индексов для целевого признака вал. выборки\n",
    "    \n",
    "    view_500 = predictions.sample(\n",
    "        n=num_sample, random_state=5).sort_values(ascending=False).head(num) # выбор случайных 500 скважин \n",
    "    \n",
    "    best_num = target_valid_f[view_500.index]\n",
    "    \n",
    "    mean_num = best_num.mean() # средний запас в 200 лучших скважинах\n",
    "    \n",
    "    sum_num = best_num.sum()# суммарный запас в 200 лучших скважинах\n",
    "    \n",
    "    total_income = sum_num * income_per_unit - gen_budget # общий доход от разработки \n",
    "    \n",
    "    data_income = pd.DataFrame({reg: [vol, mean_num, sum_num, total_income]}, \n",
    "                         index=['Минимальный запас для безубыточной разработки', \n",
    "                                'Средний запас сырья в скважине',\n",
    "                                'Общий запас сырья в лучших скважинах',\n",
    "                                'Прибыль от разработки'])\n",
    "    \n",
    "    return mean_num, sum_num, total_income, data_income"
   ]
  },
  {
   "cell_type": "code",
   "execution_count": 89,
   "metadata": {},
   "outputs": [],
   "source": [
    "pd.options.display.float_format ='{:,.3f}'.format"
   ]
  },
  {
   "cell_type": "code",
   "execution_count": 90,
   "metadata": {},
   "outputs": [],
   "source": [
    "mean_1, sum_1, total_income_1, data_income_1 = total_income(predictions_1, target_valid_1, reg='Регион_1')\n",
    "mean_2, sum_2, total_income_2, data_income_2 = total_income(predictions_2, target_valid_2, reg='Регион_2')\n",
    "mean_3, sum_3, total_income_3, data_income_3 = total_income(predictions_3, target_valid_3, reg='Регион_3')"
   ]
  },
  {
   "cell_type": "code",
   "execution_count": 91,
   "metadata": {},
   "outputs": [
    {
     "data": {
      "text/html": [
       "<div>\n",
       "<style scoped>\n",
       "    .dataframe tbody tr th:only-of-type {\n",
       "        vertical-align: middle;\n",
       "    }\n",
       "\n",
       "    .dataframe tbody tr th {\n",
       "        vertical-align: top;\n",
       "    }\n",
       "\n",
       "    .dataframe thead th {\n",
       "        text-align: right;\n",
       "    }\n",
       "</style>\n",
       "<table border=\"1\" class=\"dataframe\">\n",
       "  <thead>\n",
       "    <tr style=\"text-align: right;\">\n",
       "      <th></th>\n",
       "      <th>Регион_1</th>\n",
       "      <th>Регион_2</th>\n",
       "      <th>Регион_3</th>\n",
       "    </tr>\n",
       "  </thead>\n",
       "  <tbody>\n",
       "    <tr>\n",
       "      <th>Минимальный запас для безубыточной разработки</th>\n",
       "      <td>111.100</td>\n",
       "      <td>111.100</td>\n",
       "      <td>111.100</td>\n",
       "    </tr>\n",
       "    <tr>\n",
       "      <th>Средний запас сырья в скважине</th>\n",
       "      <td>120.994</td>\n",
       "      <td>113.779</td>\n",
       "      <td>118.026</td>\n",
       "    </tr>\n",
       "    <tr>\n",
       "      <th>Общий запас сырья в лучших скважинах</th>\n",
       "      <td>24,198.862</td>\n",
       "      <td>22,755.878</td>\n",
       "      <td>23,605.129</td>\n",
       "    </tr>\n",
       "    <tr>\n",
       "      <th>Прибыль от разработки</th>\n",
       "      <td>889,487,931.533</td>\n",
       "      <td>240,145,130.936</td>\n",
       "      <td>622,308,098.110</td>\n",
       "    </tr>\n",
       "  </tbody>\n",
       "</table>\n",
       "</div>"
      ],
      "text/plain": [
       "                                                     Регион_1        Регион_2  \\\n",
       "Минимальный запас для безубыточной разработки         111.100         111.100   \n",
       "Средний запас сырья в скважине                        120.994         113.779   \n",
       "Общий запас сырья в лучших скважинах               24,198.862      22,755.878   \n",
       "Прибыль от разработки                         889,487,931.533 240,145,130.936   \n",
       "\n",
       "                                                     Регион_3  \n",
       "Минимальный запас для безубыточной разработки         111.100  \n",
       "Средний запас сырья в скважине                        118.026  \n",
       "Общий запас сырья в лучших скважинах               23,605.129  \n",
       "Прибыль от разработки                         622,308,098.110  "
      ]
     },
     "execution_count": 91,
     "metadata": {},
     "output_type": "execute_result"
    }
   ],
   "source": [
    "data_income_1.join([data_income_2, data_income_3])"
   ]
  },
  {
   "cell_type": "markdown",
   "metadata": {},
   "source": [
    "### Расчет прибыли, рисков убытка"
   ]
  },
  {
   "cell_type": "markdown",
   "metadata": {},
   "source": [
    "Применим технику Bootstrap на 1000 выборок случайных 500 скважин. Рассчитаем 95% доверительный интервал и риск убытков по регионам - выберем регион с риском убытков менее 2.5 %.\n",
    "\n",
    "Функция revenue расчета прибыли:\n",
    "- target - Series значений запасов сырья\n",
    "- income_per_unit - доход за тыс. бар. (по умолчанию 4,5*10**5)\n",
    "- gen_budget - бюджет на разработку (по умолчанию 10**10)"
   ]
  },
  {
   "cell_type": "code",
   "execution_count": 92,
   "metadata": {},
   "outputs": [],
   "source": [
    "def revenue(target, income_per_unit=ONE_BAR_INCOME, gen_budget=BUDGET):\n",
    "    \n",
    "    return target.sum() * income_per_unit - gen_budget"
   ]
  },
  {
   "cell_type": "markdown",
   "metadata": {},
   "source": [
    "Далее применим технику бутстрап на 1000 выборках. Вычислим риски и доходы по регионам.  \n",
    "Найдем 95% доверительный интервал и риск убытков по регионам.  \n",
    "\n",
    "Функция risks - расчет прибыли с помощью техники Bootstrap на 1000 выборках, расчет 95% доверительного интервала прибыли и риска убытков. Подается на вход: \n",
    "- predictions - предсказания запасов сырья на валидационной выборке\n",
    "- target_valid - истиные значения запасов на валидационной выборке\n",
    "- num_view=total - длина выборки - количество случайно отобранных скважин\n",
    "- num_best=best - 200 скважин с максимальными запасами по предсказаниям\n",
    "- reg='Регион' - название региона\n",
    "\n",
    "Функция выводит на экран значения:\n",
    "- Средней прибыли\n",
    "- Доверительного интервала прибыли \n",
    "- Риска убытков   \n",
    "\n",
    "Возвращает список общей прибыли/убытков от разработки 200 скважин в регионе по предсказаниям и по истиным значениям.\n"
   ]
  },
  {
   "cell_type": "code",
   "execution_count": 94,
   "metadata": {},
   "outputs": [],
   "source": [
    "def risks(predictions, target_valid, num_view=TOTAL, num_best=BEST, reg='Регион'):\n",
    "    \n",
    "    target_valid_f = target_valid.reset_index(drop=True)\n",
    "\n",
    "    predictions_f = pd.Series(predictions)\n",
    "    \n",
    "    values_real = []\n",
    "    values_pred = []\n",
    "    \n",
    "    state = np.random.RandomState(5)\n",
    "\n",
    "    alpha = 0.05\n",
    "\n",
    "    for i in range(1000):\n",
    "\n",
    "        # выборка из 500 скважин, и выбор 200 c наибольшим запасом сырья\n",
    "        pred_subsample = predictions_f.sample(\n",
    "            n=num_view, replace=True, random_state=state).sort_values(ascending=False).head(num_best)\n",
    "\n",
    "        targ_subsample = target_valid_f[pred_subsample.index]\n",
    "\n",
    "        res_real = revenue(targ_subsample)\n",
    "        res_pred = revenue(pred_subsample)\n",
    "        \n",
    "        values_real.append(res_real)\n",
    "        values_pred.append(res_pred)\n",
    "        \n",
    "    values_real = pd.Series(values_real)\n",
    "    values_pred = pd.Series(values_pred)\n",
    "    \n",
    "    mean = values_real.mean()\n",
    "\n",
    "    prob = (values_real < 0).mean() \n",
    "    \n",
    "    upper = values_real.quantile(1 - alpha / 2) # расчет верхней границы дов. интервала по реальным значениям запасов\n",
    "    lower = values_real.quantile(alpha / 2) # расчет нижней границы дов. интервала по реальным значениям запасов\n",
    "    \n",
    "    \n",
    "    print(\"Средняя прибыль: {:,.2f}\".format(mean))\n",
    "    print(\"Доверительный интервал прибыли: {:,.2f}\".format(lower), '- {:,.2f}'.format(upper))\n",
    "    print(\"Риск убытков: {:.1%}\".format(prob))\n",
    "\n",
    "    return values_real, values_pred"
   ]
  },
  {
   "cell_type": "code",
   "execution_count": 95,
   "metadata": {},
   "outputs": [
    {
     "name": "stdout",
     "output_type": "stream",
     "text": [
      "Средняя прибыль: 457,194,862.49\n",
      "Доверительный интервал прибыли: -75,265,842.65 - 957,514,499.39\n",
      "Риск убытков: 4.3%\n"
     ]
    }
   ],
   "source": [
    "values_real_1, values_pred_1 = risks(predictions_1, target_valid_1)"
   ]
  },
  {
   "cell_type": "code",
   "execution_count": 96,
   "metadata": {},
   "outputs": [
    {
     "name": "stdout",
     "output_type": "stream",
     "text": [
      "Средняя прибыль: 424,216,766.97\n",
      "Доверительный интервал прибыли: 51,020,318.26 - 829,658,044.57\n",
      "Риск убытков: 1.2%\n"
     ]
    }
   ],
   "source": [
    "values_real_2, values_pred_2 = risks(predictions_2, target_valid_2)"
   ]
  },
  {
   "cell_type": "code",
   "execution_count": 97,
   "metadata": {},
   "outputs": [
    {
     "name": "stdout",
     "output_type": "stream",
     "text": [
      "Средняя прибыль: 334,052,183.88\n",
      "Доверительный интервал прибыли: -170,750,641.65 - 856,729,544.65\n",
      "Риск убытков: 11.3%\n"
     ]
    }
   ],
   "source": [
    "values_real_3, values_pred_3 = risks(predictions_3, target_valid_3)"
   ]
  },
  {
   "cell_type": "markdown",
   "metadata": {},
   "source": [
    "- В 95% доверительный интервал не попали отрицательные значения (убытки) только по региону 2. \n",
    "- Риск получить убытки по региону 2 самый низкий из всех - 1.2%. \n",
    "- Самая высокая средняя прибыль в регионе 1, но риск получить убытки выше -4,3%.  \n",
    "\n",
    "Построим гистограмму распределения прибыли по предсказанным и по истинным значениям запасов сырья."
   ]
  },
  {
   "cell_type": "code",
   "execution_count": 98,
   "metadata": {},
   "outputs": [
    {
     "data": {
      "image/png": "[encoded data removed]",
      "text/plain": [
       "<Figure size 1584x432 with 3 Axes>"
      ]
     },
     "metadata": {
      "needs_background": "light"
     },
     "output_type": "display_data"
    }
   ],
   "source": [
    "real = [values_real_1, values_real_2, values_real_3]\n",
    "pre = [values_pred_1, values_pred_2, values_pred_3]\n",
    "\n",
    "fig, (ax1) = plt.subplots(1, len(real), figsize = (22, 6))\n",
    "\n",
    "for i in range(len(real)):    \n",
    "\n",
    "    a = sns.histplot(real[i], legend=True, ax=ax1[i], color='mediumblue')\n",
    "    a = sns.histplot(pre[i], legend=True, ax=ax1[i], color='skyblue', linewidth=.5)\n",
    "    a.grid(color = 'lightblue', linewidth = 1, linestyle=':')\n",
    "    a.set_title('data_'+ str(i+1), fontsize=16)"
   ]
  },
  {
   "cell_type": "markdown",
   "metadata": {},
   "source": [
    "Значения прибыли по предсказаниям и по истиным значениям почти совпали по региону 2.  \n",
    "В регионах 1 и 3 разброс истиных значений прибыли значительно выше, чем предсказаний."
   ]
  },
  {
   "cell_type": "markdown",
   "metadata": {},
   "source": [
    "**Вывод**\n",
    "***\n",
    "При применении техники бутстреп были получены следующие результаты:\n",
    "- наименьший риск получения убытков при разработке 200 скважин в регионе 2 он составил 1.2 %. Риск убытков в регионе 1 - 4.3 %, в регионе 3 - 11.3 %.\n",
    "- наибольшая выручка в регионе 1 - 457,194,862 руб. Выручка в регионе 2 с наименьшим риском убытков - 424,216,766.\n",
    "- разброс истиных значений и предсказаний прибыли приближены друг к другу в регионе 2.\n",
    "- 95% доверительный интервал в регионе 2 - 51,020,318 руб. - 829,658,044 руб.\n",
    "\n",
    "По итогу исследоавния рекомендуется к разработке регион 2."
   ]
  },
  {
   "cell_type": "markdown",
   "metadata": {},
   "source": [
    "## Вывод"
   ]
  },
  {
   "cell_type": "markdown",
   "metadata": {},
   "source": [
    "Целью исследования было выбрать регион для разработки нефтяных скважин с наименьшими рисками по получению убытков при реализации продукта. \n",
    "- В ходе исследования была построена модель линейной регрессии и предсказаны значения запасов сырья в скважинах. Лучший результат предсказаний согласно метрик RMSE и R2 показала модель для данный региона 2. Максимальные средние значения запасов сырья по валидационной выборке в 25% от всех данных у региона 1 и 3 - 92 тыс.бар. и 95 тыс.бар. соответственно.  \n",
    "- Минимальный запас сырья в скважине для безубыточной добычи:  111.1 тыс. бар.  \n",
    "- При применении техники бутстреп были получены следующие реузльтаты: \n",
    "    - риск получить убытки по региону 2 самый низкий из всех - 1.2%. \n",
    "    - прибыль в регионе 1 составила 424,216,766 руб.   \n",
    "    - наибольшую прибыль показал регион 1 в 457,194,862 руб., но риск разработки в регионе 1 слишком высок - 4.3%.\n",
    "    - 95% доверительный интервал региона 2 - 51,020,318 руб. - 829,658,044 руб.  \n",
    "    - риск получения убытков при разработке скважин в регионе 3 самый высоких из всех - 11.3 %.    \n",
    "    \n",
    "По итогам исследования рекомендуется к разработке регион № 2.    "
   ]
  }
 ],
 "metadata": {
  "ExecuteTimeLog": [
   {
    "duration": 1544,
    "start_time": "2022-03-13T14:32:33.950Z"
   },
   {
    "duration": 3,
    "start_time": "2022-03-13T14:32:48.737Z"
   },
   {
    "duration": 419,
    "start_time": "2022-03-13T14:34:11.227Z"
   },
   {
    "duration": 16,
    "start_time": "2022-03-13T14:34:15.450Z"
   },
   {
    "duration": 13,
    "start_time": "2022-03-13T14:34:24.505Z"
   },
   {
    "duration": 13,
    "start_time": "2022-03-13T14:34:37.789Z"
   },
   {
    "duration": 9,
    "start_time": "2022-03-13T14:35:37.970Z"
   },
   {
    "duration": 10,
    "start_time": "2022-03-13T14:35:44.716Z"
   },
   {
    "duration": 11,
    "start_time": "2022-03-13T14:35:45.272Z"
   },
   {
    "duration": 17,
    "start_time": "2022-03-13T15:07:30.700Z"
   },
   {
    "duration": 18,
    "start_time": "2022-03-13T15:07:44.066Z"
   },
   {
    "duration": 20,
    "start_time": "2022-03-13T15:08:02.515Z"
   },
   {
    "duration": 307,
    "start_time": "2022-03-13T15:08:24.958Z"
   },
   {
    "duration": 44,
    "start_time": "2022-03-13T15:08:28.696Z"
   },
   {
    "duration": 21,
    "start_time": "2022-03-13T15:09:02.620Z"
   },
   {
    "duration": 18,
    "start_time": "2022-03-13T15:09:26.414Z"
   },
   {
    "duration": 19,
    "start_time": "2022-03-13T15:09:32.705Z"
   },
   {
    "duration": 26,
    "start_time": "2022-03-13T15:10:19.423Z"
   },
   {
    "duration": 14,
    "start_time": "2022-03-13T15:11:10.411Z"
   },
   {
    "duration": 10,
    "start_time": "2022-03-13T15:27:48.928Z"
   },
   {
    "duration": 11,
    "start_time": "2022-03-13T15:28:08.515Z"
   },
   {
    "duration": 19,
    "start_time": "2022-03-13T16:06:13.483Z"
   },
   {
    "duration": 43,
    "start_time": "2022-03-13T16:55:04.793Z"
   },
   {
    "duration": 42,
    "start_time": "2022-03-13T16:55:12.304Z"
   },
   {
    "duration": 40,
    "start_time": "2022-03-13T16:58:13.191Z"
   },
   {
    "duration": 41,
    "start_time": "2022-03-13T16:58:21.745Z"
   },
   {
    "duration": 3,
    "start_time": "2022-03-13T17:50:42.402Z"
   },
   {
    "duration": 1630,
    "start_time": "2022-03-14T08:30:59.342Z"
   },
   {
    "duration": 467,
    "start_time": "2022-03-14T08:31:00.975Z"
   },
   {
    "duration": 18,
    "start_time": "2022-03-14T08:31:01.446Z"
   },
   {
    "duration": 28,
    "start_time": "2022-03-14T08:31:01.467Z"
   },
   {
    "duration": 21,
    "start_time": "2022-03-14T08:31:01.498Z"
   },
   {
    "duration": 37,
    "start_time": "2022-03-14T08:31:01.522Z"
   },
   {
    "duration": 22,
    "start_time": "2022-03-14T08:31:01.586Z"
   },
   {
    "duration": 102,
    "start_time": "2022-03-14T08:31:01.611Z"
   },
   {
    "duration": 17,
    "start_time": "2022-03-14T08:31:01.717Z"
   },
   {
    "duration": 32,
    "start_time": "2022-03-14T08:31:01.737Z"
   },
   {
    "duration": 63,
    "start_time": "2022-03-14T08:31:01.771Z"
   },
   {
    "duration": 21,
    "start_time": "2022-03-14T08:31:01.837Z"
   },
   {
    "duration": 25,
    "start_time": "2022-03-14T08:31:32.514Z"
   },
   {
    "duration": 3,
    "start_time": "2022-03-14T08:32:45.510Z"
   },
   {
    "duration": 59,
    "start_time": "2022-03-14T08:32:55.846Z"
   },
   {
    "duration": 4,
    "start_time": "2022-03-14T08:33:23.956Z"
   },
   {
    "duration": 62,
    "start_time": "2022-03-14T08:33:24.998Z"
   },
   {
    "duration": 4,
    "start_time": "2022-03-14T08:33:39.390Z"
   },
   {
    "duration": 68,
    "start_time": "2022-03-14T08:33:39.711Z"
   },
   {
    "duration": 4,
    "start_time": "2022-03-14T08:33:53.055Z"
   },
   {
    "duration": 74,
    "start_time": "2022-03-14T08:33:53.292Z"
   },
   {
    "duration": 5,
    "start_time": "2022-03-14T08:34:17.510Z"
   },
   {
    "duration": 14,
    "start_time": "2022-03-14T08:34:17.758Z"
   },
   {
    "duration": 5,
    "start_time": "2022-03-14T08:34:26.418Z"
   },
   {
    "duration": 13,
    "start_time": "2022-03-14T08:34:26.631Z"
   },
   {
    "duration": 451,
    "start_time": "2022-03-14T08:44:52.263Z"
   },
   {
    "duration": 7,
    "start_time": "2022-03-14T08:48:10.958Z"
   },
   {
    "duration": 606,
    "start_time": "2022-03-14T08:48:25.168Z"
   },
   {
    "duration": 616,
    "start_time": "2022-03-14T08:48:31.737Z"
   },
   {
    "duration": 94,
    "start_time": "2022-03-14T08:49:28.129Z"
   },
   {
    "duration": 1388,
    "start_time": "2022-03-14T08:49:46.346Z"
   },
   {
    "duration": 17,
    "start_time": "2022-03-14T10:30:05.679Z"
   },
   {
    "duration": 53,
    "start_time": "2022-03-14T10:32:44.375Z"
   },
   {
    "duration": 44,
    "start_time": "2022-03-14T10:32:50.810Z"
   },
   {
    "duration": 485,
    "start_time": "2022-03-14T10:41:10.735Z"
   },
   {
    "duration": 31,
    "start_time": "2022-03-14T10:41:23.720Z"
   },
   {
    "duration": 45,
    "start_time": "2022-03-14T10:42:09.343Z"
   },
   {
    "duration": 469,
    "start_time": "2022-03-14T10:46:10.603Z"
   },
   {
    "duration": 311,
    "start_time": "2022-03-14T10:46:27.636Z"
   },
   {
    "duration": 221,
    "start_time": "2022-03-14T10:46:33.971Z"
   },
   {
    "duration": 214,
    "start_time": "2022-03-14T10:46:51.812Z"
   },
   {
    "duration": 181,
    "start_time": "2022-03-14T10:46:55.708Z"
   },
   {
    "duration": 198,
    "start_time": "2022-03-14T10:46:59.732Z"
   },
   {
    "duration": 214,
    "start_time": "2022-03-14T10:47:35.453Z"
   },
   {
    "duration": 832,
    "start_time": "2022-03-14T10:48:55.229Z"
   },
   {
    "duration": 279,
    "start_time": "2022-03-14T10:50:30.398Z"
   },
   {
    "duration": 273,
    "start_time": "2022-03-14T10:50:45.014Z"
   },
   {
    "duration": 312,
    "start_time": "2022-03-14T10:51:00.622Z"
   },
   {
    "duration": 321,
    "start_time": "2022-03-14T10:51:51.886Z"
   },
   {
    "duration": 309,
    "start_time": "2022-03-14T10:51:57.647Z"
   },
   {
    "duration": 313,
    "start_time": "2022-03-14T10:52:04.911Z"
   },
   {
    "duration": 5,
    "start_time": "2022-03-14T10:52:13.264Z"
   },
   {
    "duration": 482,
    "start_time": "2022-03-14T10:52:13.272Z"
   },
   {
    "duration": 13,
    "start_time": "2022-03-14T10:52:13.758Z"
   },
   {
    "duration": 13,
    "start_time": "2022-03-14T10:52:13.788Z"
   },
   {
    "duration": 20,
    "start_time": "2022-03-14T10:52:13.804Z"
   },
   {
    "duration": 65,
    "start_time": "2022-03-14T10:52:13.827Z"
   },
   {
    "duration": 112,
    "start_time": "2022-03-14T10:52:13.894Z"
   },
   {
    "duration": 54,
    "start_time": "2022-03-14T10:52:14.008Z"
   },
   {
    "duration": 31,
    "start_time": "2022-03-14T10:52:14.066Z"
   },
   {
    "duration": 17,
    "start_time": "2022-03-14T10:52:14.100Z"
   },
   {
    "duration": 80,
    "start_time": "2022-03-14T10:52:14.119Z"
   },
   {
    "duration": 21,
    "start_time": "2022-03-14T10:52:14.202Z"
   },
   {
    "duration": 12,
    "start_time": "2022-03-14T10:52:14.225Z"
   },
   {
    "duration": 48,
    "start_time": "2022-03-14T10:52:14.240Z"
   },
   {
    "duration": 73,
    "start_time": "2022-03-14T10:52:14.292Z"
   },
   {
    "duration": 48,
    "start_time": "2022-03-14T10:52:14.368Z"
   },
   {
    "duration": 10,
    "start_time": "2022-03-14T10:52:14.423Z"
   },
   {
    "duration": 1425,
    "start_time": "2022-03-14T10:52:14.436Z"
   },
   {
    "duration": 55,
    "start_time": "2022-03-14T10:52:15.864Z"
   },
   {
    "duration": 306,
    "start_time": "2022-03-14T10:53:35.360Z"
   },
   {
    "duration": 473,
    "start_time": "2022-03-14T10:53:47.729Z"
   },
   {
    "duration": 436,
    "start_time": "2022-03-14T10:54:07.952Z"
   },
   {
    "duration": 388,
    "start_time": "2022-03-14T10:54:11.808Z"
   },
   {
    "duration": 281,
    "start_time": "2022-03-14T10:55:15.508Z"
   },
   {
    "duration": 587,
    "start_time": "2022-03-14T10:56:50.578Z"
   },
   {
    "duration": 243,
    "start_time": "2022-03-14T10:57:00.241Z"
   },
   {
    "duration": 630,
    "start_time": "2022-03-14T10:57:30.045Z"
   },
   {
    "duration": 696,
    "start_time": "2022-03-14T10:57:39.180Z"
   },
   {
    "duration": 307,
    "start_time": "2022-03-14T10:57:42.762Z"
   },
   {
    "duration": 312,
    "start_time": "2022-03-14T10:59:26.459Z"
   },
   {
    "duration": 369,
    "start_time": "2022-03-14T11:01:35.437Z"
   },
   {
    "duration": 297,
    "start_time": "2022-03-14T11:01:47.196Z"
   },
   {
    "duration": 274,
    "start_time": "2022-03-14T11:01:54.457Z"
   },
   {
    "duration": 413,
    "start_time": "2022-03-14T11:02:01.104Z"
   },
   {
    "duration": 280,
    "start_time": "2022-03-14T11:02:09.221Z"
   },
   {
    "duration": 609,
    "start_time": "2022-03-14T11:04:06.118Z"
   },
   {
    "duration": 387,
    "start_time": "2022-03-14T11:04:09.510Z"
   },
   {
    "duration": 711,
    "start_time": "2022-03-14T11:04:15.863Z"
   },
   {
    "duration": 313,
    "start_time": "2022-03-14T11:04:18.848Z"
   },
   {
    "duration": 642,
    "start_time": "2022-03-14T11:04:23.848Z"
   },
   {
    "duration": 343,
    "start_time": "2022-03-14T11:04:47.311Z"
   },
   {
    "duration": 383,
    "start_time": "2022-03-14T11:05:24.671Z"
   },
   {
    "duration": 369,
    "start_time": "2022-03-14T11:05:25.889Z"
   },
   {
    "duration": 361,
    "start_time": "2022-03-14T11:06:03.160Z"
   },
   {
    "duration": 362,
    "start_time": "2022-03-14T11:06:19.561Z"
   },
   {
    "duration": 337,
    "start_time": "2022-03-14T11:33:47.344Z"
   },
   {
    "duration": 587,
    "start_time": "2022-03-14T11:34:32.240Z"
   },
   {
    "duration": 937,
    "start_time": "2022-03-14T11:34:42.720Z"
   },
   {
    "duration": 990,
    "start_time": "2022-03-14T11:35:02.256Z"
   },
   {
    "duration": 373,
    "start_time": "2022-03-14T11:35:20.856Z"
   },
   {
    "duration": 395,
    "start_time": "2022-03-14T11:35:25.976Z"
   },
   {
    "duration": 394,
    "start_time": "2022-03-14T11:35:39.865Z"
   },
   {
    "duration": 575,
    "start_time": "2022-03-14T11:37:15.861Z"
   },
   {
    "duration": 607,
    "start_time": "2022-03-14T11:37:32.930Z"
   },
   {
    "duration": 517,
    "start_time": "2022-03-14T11:37:41.530Z"
   },
   {
    "duration": 348,
    "start_time": "2022-03-14T11:38:38.899Z"
   },
   {
    "duration": 249,
    "start_time": "2022-03-14T11:38:45.564Z"
   },
   {
    "duration": 3052,
    "start_time": "2022-03-14T11:39:56.211Z"
   },
   {
    "duration": 2632,
    "start_time": "2022-03-14T11:42:48.061Z"
   },
   {
    "duration": 2748,
    "start_time": "2022-03-14T11:43:09.942Z"
   },
   {
    "duration": 2668,
    "start_time": "2022-03-14T11:43:51.062Z"
   },
   {
    "duration": 2623,
    "start_time": "2022-03-14T11:44:11.526Z"
   },
   {
    "duration": 2623,
    "start_time": "2022-03-14T11:44:32.174Z"
   },
   {
    "duration": 2851,
    "start_time": "2022-03-14T11:54:36.925Z"
   },
   {
    "duration": 2660,
    "start_time": "2022-03-14T11:54:52.343Z"
   },
   {
    "duration": 2670,
    "start_time": "2022-03-14T11:55:01.253Z"
   },
   {
    "duration": 2675,
    "start_time": "2022-03-14T11:55:32.494Z"
   },
   {
    "duration": 250,
    "start_time": "2022-03-14T12:03:25.395Z"
   },
   {
    "duration": 6,
    "start_time": "2022-03-14T12:03:30.699Z"
   },
   {
    "duration": 5,
    "start_time": "2022-03-14T12:04:39.124Z"
   },
   {
    "duration": 779,
    "start_time": "2022-03-14T12:05:14.893Z"
   },
   {
    "duration": 106,
    "start_time": "2022-03-14T12:06:06.365Z"
   },
   {
    "duration": 291,
    "start_time": "2022-03-14T12:06:11.620Z"
   },
   {
    "duration": 1846,
    "start_time": "2022-03-14T12:06:17.675Z"
   },
   {
    "duration": 3,
    "start_time": "2022-03-14T12:06:30.316Z"
   },
   {
    "duration": 5,
    "start_time": "2022-03-14T12:06:38.885Z"
   },
   {
    "duration": 10953,
    "start_time": "2022-03-14T12:06:59.717Z"
   },
   {
    "duration": 10993,
    "start_time": "2022-03-14T12:08:06.246Z"
   },
   {
    "duration": 10846,
    "start_time": "2022-03-14T12:08:29.086Z"
   },
   {
    "duration": 10864,
    "start_time": "2022-03-14T12:08:44.376Z"
   },
   {
    "duration": 7,
    "start_time": "2022-03-14T12:09:57.663Z"
   },
   {
    "duration": 10549,
    "start_time": "2022-03-14T12:09:58.022Z"
   },
   {
    "duration": 10688,
    "start_time": "2022-03-14T12:19:45.941Z"
   },
   {
    "duration": 10981,
    "start_time": "2022-03-14T12:29:16.892Z"
   },
   {
    "duration": 6,
    "start_time": "2022-03-14T12:58:29.045Z"
   },
   {
    "duration": 1090,
    "start_time": "2022-03-15T19:03:49.228Z"
   },
   {
    "duration": 320,
    "start_time": "2022-03-15T19:03:50.320Z"
   },
   {
    "duration": 12,
    "start_time": "2022-03-15T19:03:50.642Z"
   },
   {
    "duration": 12,
    "start_time": "2022-03-15T19:03:50.656Z"
   },
   {
    "duration": 14,
    "start_time": "2022-03-15T19:03:50.670Z"
   },
   {
    "duration": 48,
    "start_time": "2022-03-15T19:03:50.686Z"
   },
   {
    "duration": 11,
    "start_time": "2022-03-15T19:03:50.736Z"
   },
   {
    "duration": 40,
    "start_time": "2022-03-15T19:03:50.749Z"
   },
   {
    "duration": 8,
    "start_time": "2022-03-15T19:03:50.791Z"
   },
   {
    "duration": 33,
    "start_time": "2022-03-15T19:03:50.800Z"
   },
   {
    "duration": 34,
    "start_time": "2022-03-15T19:03:50.834Z"
   },
   {
    "duration": 14,
    "start_time": "2022-03-15T19:03:50.870Z"
   },
   {
    "duration": 7,
    "start_time": "2022-03-15T19:03:50.886Z"
   },
   {
    "duration": 23,
    "start_time": "2022-03-15T19:03:50.895Z"
   },
   {
    "duration": 33,
    "start_time": "2022-03-15T19:03:50.932Z"
   },
   {
    "duration": 13,
    "start_time": "2022-03-15T19:03:50.967Z"
   },
   {
    "duration": 4,
    "start_time": "2022-03-15T19:03:50.982Z"
   },
   {
    "duration": 797,
    "start_time": "2022-03-15T19:03:50.987Z"
   },
   {
    "duration": 260,
    "start_time": "2022-03-15T19:03:53.960Z"
   },
   {
    "duration": 4,
    "start_time": "2022-03-15T19:39:33.743Z"
   },
   {
    "duration": 3236,
    "start_time": "2022-03-15T19:39:55.371Z"
   },
   {
    "duration": 3,
    "start_time": "2022-03-15T19:40:19.852Z"
   },
   {
    "duration": 5,
    "start_time": "2022-03-15T19:40:20.485Z"
   },
   {
    "duration": 9,
    "start_time": "2022-03-15T19:40:24.203Z"
   },
   {
    "duration": 5,
    "start_time": "2022-03-15T19:40:29.473Z"
   },
   {
    "duration": 8,
    "start_time": "2022-03-15T19:40:41.394Z"
   },
   {
    "duration": 50,
    "start_time": "2022-03-15T19:41:33.465Z"
   },
   {
    "duration": 3,
    "start_time": "2022-03-15T19:41:39.854Z"
   },
   {
    "duration": 265,
    "start_time": "2022-03-15T19:41:41.561Z"
   },
   {
    "duration": 3,
    "start_time": "2022-03-15T19:45:35.392Z"
   },
   {
    "duration": 5,
    "start_time": "2022-03-15T19:45:35.944Z"
   },
   {
    "duration": 10,
    "start_time": "2022-03-15T19:45:37.320Z"
   },
   {
    "duration": 10,
    "start_time": "2022-03-15T19:45:47.741Z"
   },
   {
    "duration": 116,
    "start_time": "2022-03-15T19:45:55.330Z"
   },
   {
    "duration": 5,
    "start_time": "2022-03-15T19:45:57.795Z"
   },
   {
    "duration": 6,
    "start_time": "2022-03-15T19:45:58.251Z"
   },
   {
    "duration": 12,
    "start_time": "2022-03-15T19:46:34.922Z"
   },
   {
    "duration": 5,
    "start_time": "2022-03-15T19:46:35.639Z"
   },
   {
    "duration": 5,
    "start_time": "2022-03-15T19:46:38.659Z"
   },
   {
    "duration": 8,
    "start_time": "2022-03-15T19:48:52.185Z"
   },
   {
    "duration": 5,
    "start_time": "2022-03-15T19:49:36.498Z"
   },
   {
    "duration": 5,
    "start_time": "2022-03-15T19:50:08.126Z"
   },
   {
    "duration": 5,
    "start_time": "2022-03-15T19:50:12.917Z"
   },
   {
    "duration": 117,
    "start_time": "2022-03-15T19:50:26.227Z"
   },
   {
    "duration": 133,
    "start_time": "2022-03-15T19:50:56.733Z"
   },
   {
    "duration": 6,
    "start_time": "2022-03-15T19:51:11.668Z"
   },
   {
    "duration": 5,
    "start_time": "2022-03-15T19:51:16.348Z"
   },
   {
    "duration": 7,
    "start_time": "2022-03-15T19:51:20.630Z"
   },
   {
    "duration": 7,
    "start_time": "2022-03-15T19:51:36.864Z"
   },
   {
    "duration": 10,
    "start_time": "2022-03-15T19:52:27.501Z"
   },
   {
    "duration": 7,
    "start_time": "2022-03-15T19:52:27.817Z"
   },
   {
    "duration": 3,
    "start_time": "2022-03-15T19:53:03.673Z"
   },
   {
    "duration": 7,
    "start_time": "2022-03-15T19:53:03.958Z"
   },
   {
    "duration": 6,
    "start_time": "2022-03-15T19:53:04.186Z"
   },
   {
    "duration": 11,
    "start_time": "2022-03-15T19:59:31.821Z"
   },
   {
    "duration": 8,
    "start_time": "2022-03-15T19:59:35.817Z"
   },
   {
    "duration": 5,
    "start_time": "2022-03-15T20:00:40.307Z"
   },
   {
    "duration": 212,
    "start_time": "2022-03-15T20:10:42.099Z"
   },
   {
    "duration": 12,
    "start_time": "2022-03-15T20:10:57.979Z"
   },
   {
    "duration": 15,
    "start_time": "2022-03-15T20:12:36.354Z"
   },
   {
    "duration": 269,
    "start_time": "2022-03-15T20:12:52.117Z"
   },
   {
    "duration": 13,
    "start_time": "2022-03-15T20:13:09.018Z"
   },
   {
    "duration": 13,
    "start_time": "2022-03-15T20:16:04.707Z"
   },
   {
    "duration": 5,
    "start_time": "2022-03-15T20:24:58.104Z"
   },
   {
    "duration": 26,
    "start_time": "2022-03-15T20:25:17.810Z"
   },
   {
    "duration": 27,
    "start_time": "2022-03-15T20:25:49.411Z"
   },
   {
    "duration": 3,
    "start_time": "2022-03-15T20:25:54.709Z"
   },
   {
    "duration": 3,
    "start_time": "2022-03-15T20:26:00.883Z"
   },
   {
    "duration": 5,
    "start_time": "2022-03-15T20:26:21.456Z"
   },
   {
    "duration": 85,
    "start_time": "2022-03-15T20:26:21.747Z"
   },
   {
    "duration": 26,
    "start_time": "2022-03-15T20:33:47.996Z"
   },
   {
    "duration": 26,
    "start_time": "2022-03-15T20:34:12.653Z"
   },
   {
    "duration": 4,
    "start_time": "2022-03-15T20:41:16.557Z"
   },
   {
    "duration": 3,
    "start_time": "2022-03-15T20:41:24.122Z"
   },
   {
    "duration": 3,
    "start_time": "2022-03-15T20:41:28.101Z"
   },
   {
    "duration": 123,
    "start_time": "2022-03-15T20:43:17.116Z"
   },
   {
    "duration": 2,
    "start_time": "2022-03-15T20:43:20.140Z"
   },
   {
    "duration": 3,
    "start_time": "2022-03-15T20:43:20.525Z"
   },
   {
    "duration": 3,
    "start_time": "2022-03-15T20:43:41.523Z"
   },
   {
    "duration": 3,
    "start_time": "2022-03-15T20:43:41.708Z"
   },
   {
    "duration": 3,
    "start_time": "2022-03-15T20:45:20.023Z"
   },
   {
    "duration": 1789,
    "start_time": "2022-03-16T09:58:22.734Z"
   },
   {
    "duration": 484,
    "start_time": "2022-03-16T09:58:24.526Z"
   },
   {
    "duration": 21,
    "start_time": "2022-03-16T09:58:25.013Z"
   },
   {
    "duration": 15,
    "start_time": "2022-03-16T09:58:25.037Z"
   },
   {
    "duration": 41,
    "start_time": "2022-03-16T09:58:25.054Z"
   },
   {
    "duration": 43,
    "start_time": "2022-03-16T09:58:25.097Z"
   },
   {
    "duration": 47,
    "start_time": "2022-03-16T09:58:25.142Z"
   },
   {
    "duration": 56,
    "start_time": "2022-03-16T09:58:25.193Z"
   },
   {
    "duration": 14,
    "start_time": "2022-03-16T09:58:25.272Z"
   },
   {
    "duration": 20,
    "start_time": "2022-03-16T09:58:25.288Z"
   },
   {
    "duration": 78,
    "start_time": "2022-03-16T09:58:25.310Z"
   },
   {
    "duration": 25,
    "start_time": "2022-03-16T09:58:25.391Z"
   },
   {
    "duration": 12,
    "start_time": "2022-03-16T09:58:25.419Z"
   },
   {
    "duration": 42,
    "start_time": "2022-03-16T09:58:25.434Z"
   },
   {
    "duration": 54,
    "start_time": "2022-03-16T09:58:25.478Z"
   },
   {
    "duration": 54,
    "start_time": "2022-03-16T09:58:25.534Z"
   },
   {
    "duration": 7,
    "start_time": "2022-03-16T09:58:25.590Z"
   },
   {
    "duration": 1384,
    "start_time": "2022-03-16T09:58:25.599Z"
   },
   {
    "duration": 469,
    "start_time": "2022-03-16T09:58:26.985Z"
   },
   {
    "duration": 57,
    "start_time": "2022-03-16T09:58:27.456Z"
   },
   {
    "duration": 6,
    "start_time": "2022-03-16T09:58:27.515Z"
   },
   {
    "duration": 10449,
    "start_time": "2022-03-16T09:58:27.524Z"
   },
   {
    "duration": 10649,
    "start_time": "2022-03-16T09:58:37.979Z"
   },
   {
    "duration": 11227,
    "start_time": "2022-03-16T09:58:48.630Z"
   },
   {
    "duration": 17,
    "start_time": "2022-03-16T09:58:59.859Z"
   },
   {
    "duration": 14,
    "start_time": "2022-03-16T09:58:59.878Z"
   },
   {
    "duration": 12,
    "start_time": "2022-03-16T09:58:59.895Z"
   },
   {
    "duration": 9,
    "start_time": "2022-03-16T09:58:59.909Z"
   },
   {
    "duration": 153,
    "start_time": "2022-03-16T09:58:59.921Z"
   },
   {
    "duration": 128,
    "start_time": "2022-03-16T09:59:00.078Z"
   },
   {
    "duration": 129,
    "start_time": "2022-03-16T09:59:00.275Z"
   },
   {
    "duration": 6,
    "start_time": "2022-03-16T09:59:00.475Z"
   },
   {
    "duration": 6,
    "start_time": "2022-03-16T09:59:11.026Z"
   },
   {
    "duration": 4,
    "start_time": "2022-03-16T09:59:32.382Z"
   },
   {
    "duration": 5,
    "start_time": "2022-03-16T09:59:33.414Z"
   },
   {
    "duration": 8,
    "start_time": "2022-03-16T10:17:07.095Z"
   },
   {
    "duration": 68,
    "start_time": "2022-03-16T10:17:07.705Z"
   },
   {
    "duration": 64,
    "start_time": "2022-03-16T10:17:10.010Z"
   },
   {
    "duration": 55,
    "start_time": "2022-03-16T10:17:12.618Z"
   },
   {
    "duration": 8,
    "start_time": "2022-03-16T10:18:22.618Z"
   },
   {
    "duration": 733,
    "start_time": "2022-03-16T10:18:23.154Z"
   },
   {
    "duration": 9,
    "start_time": "2022-03-16T10:18:35.651Z"
   },
   {
    "duration": 76,
    "start_time": "2022-03-16T10:18:36.099Z"
   },
   {
    "duration": 7,
    "start_time": "2022-03-16T10:18:43.052Z"
   },
   {
    "duration": 86,
    "start_time": "2022-03-16T10:18:43.594Z"
   },
   {
    "duration": 8,
    "start_time": "2022-03-16T10:19:26.838Z"
   },
   {
    "duration": 111,
    "start_time": "2022-03-16T10:19:27.866Z"
   },
   {
    "duration": 38,
    "start_time": "2022-03-16T10:19:33.539Z"
   },
   {
    "duration": 8,
    "start_time": "2022-03-16T10:19:43.435Z"
   },
   {
    "duration": 42,
    "start_time": "2022-03-16T10:19:43.738Z"
   },
   {
    "duration": 37,
    "start_time": "2022-03-16T10:19:44.030Z"
   },
   {
    "duration": 38,
    "start_time": "2022-03-16T10:19:45.844Z"
   },
   {
    "duration": 96,
    "start_time": "2022-03-16T10:22:31.378Z"
   },
   {
    "duration": 37,
    "start_time": "2022-03-16T10:22:32.212Z"
   },
   {
    "duration": 71,
    "start_time": "2022-03-16T10:22:32.805Z"
   },
   {
    "duration": 4,
    "start_time": "2022-03-16T10:34:34.793Z"
   },
   {
    "duration": 4,
    "start_time": "2022-03-16T10:34:39.532Z"
   },
   {
    "duration": 5,
    "start_time": "2022-03-16T10:35:12.172Z"
   },
   {
    "duration": 5,
    "start_time": "2022-03-16T10:37:49.326Z"
   },
   {
    "duration": 5,
    "start_time": "2022-03-16T10:37:58.998Z"
   },
   {
    "duration": 5,
    "start_time": "2022-03-16T10:38:04.639Z"
   },
   {
    "duration": 208,
    "start_time": "2022-03-16T10:38:13.846Z"
   },
   {
    "duration": 211,
    "start_time": "2022-03-16T10:38:18.135Z"
   },
   {
    "duration": 5,
    "start_time": "2022-03-16T10:38:24.335Z"
   },
   {
    "duration": 5,
    "start_time": "2022-03-16T11:05:29.752Z"
   },
   {
    "duration": 5,
    "start_time": "2022-03-16T11:05:43.884Z"
   },
   {
    "duration": 4,
    "start_time": "2022-03-16T11:12:49.676Z"
   },
   {
    "duration": 5,
    "start_time": "2022-03-16T11:12:49.964Z"
   },
   {
    "duration": 6,
    "start_time": "2022-03-16T11:12:50.540Z"
   },
   {
    "duration": 5,
    "start_time": "2022-03-16T11:13:11.757Z"
   },
   {
    "duration": 4,
    "start_time": "2022-03-16T11:13:24.622Z"
   },
   {
    "duration": 5,
    "start_time": "2022-03-16T11:13:27.749Z"
   },
   {
    "duration": 211,
    "start_time": "2022-03-16T11:47:21.396Z"
   },
   {
    "duration": 5,
    "start_time": "2022-03-16T11:47:30.161Z"
   },
   {
    "duration": 8,
    "start_time": "2022-03-16T11:47:34.513Z"
   },
   {
    "duration": 9,
    "start_time": "2022-03-16T11:47:56.991Z"
   },
   {
    "duration": 113,
    "start_time": "2022-03-16T11:48:17.066Z"
   },
   {
    "duration": 12,
    "start_time": "2022-03-16T11:48:19.594Z"
   },
   {
    "duration": 11,
    "start_time": "2022-03-16T11:48:32.410Z"
   },
   {
    "duration": 11,
    "start_time": "2022-03-16T11:49:10.035Z"
   },
   {
    "duration": 11,
    "start_time": "2022-03-16T11:49:34.490Z"
   },
   {
    "duration": 10,
    "start_time": "2022-03-16T11:49:50.379Z"
   },
   {
    "duration": 11,
    "start_time": "2022-03-16T11:50:57.596Z"
   },
   {
    "duration": 4,
    "start_time": "2022-03-16T12:14:23.277Z"
   },
   {
    "duration": 224,
    "start_time": "2022-03-16T12:14:27.395Z"
   },
   {
    "duration": 349,
    "start_time": "2022-03-16T13:24:27.159Z"
   },
   {
    "duration": 256,
    "start_time": "2022-03-16T13:24:52.118Z"
   },
   {
    "duration": 262,
    "start_time": "2022-03-16T13:27:03.312Z"
   },
   {
    "duration": 7,
    "start_time": "2022-03-16T13:27:12.408Z"
   },
   {
    "duration": 327,
    "start_time": "2022-03-16T13:27:17.288Z"
   },
   {
    "duration": 240,
    "start_time": "2022-03-16T13:27:31.088Z"
   },
   {
    "duration": 557,
    "start_time": "2022-03-16T13:27:36.624Z"
   },
   {
    "duration": 5,
    "start_time": "2022-03-16T13:27:40.400Z"
   },
   {
    "duration": 4,
    "start_time": "2022-03-16T13:28:04.721Z"
   },
   {
    "duration": 8,
    "start_time": "2022-03-16T13:28:06.840Z"
   },
   {
    "duration": 11,
    "start_time": "2022-03-16T13:28:18.177Z"
   },
   {
    "duration": 10,
    "start_time": "2022-03-16T13:28:37.558Z"
   },
   {
    "duration": 11,
    "start_time": "2022-03-16T13:28:40.889Z"
   },
   {
    "duration": 5,
    "start_time": "2022-03-16T13:29:18.641Z"
   },
   {
    "duration": 10,
    "start_time": "2022-03-16T13:29:21.777Z"
   },
   {
    "duration": 4382,
    "start_time": "2022-03-16T13:30:06.043Z"
   },
   {
    "duration": 6,
    "start_time": "2022-03-16T13:30:15.116Z"
   },
   {
    "duration": 10,
    "start_time": "2022-03-16T13:30:44.138Z"
   },
   {
    "duration": 9,
    "start_time": "2022-03-16T13:31:11.210Z"
   },
   {
    "duration": 8,
    "start_time": "2022-03-16T13:31:14.530Z"
   },
   {
    "duration": 6,
    "start_time": "2022-03-16T13:31:20.642Z"
   },
   {
    "duration": 6,
    "start_time": "2022-03-16T13:31:56.203Z"
   },
   {
    "duration": 5,
    "start_time": "2022-03-16T13:36:35.798Z"
   },
   {
    "duration": 6,
    "start_time": "2022-03-16T13:36:57.238Z"
   },
   {
    "duration": 6,
    "start_time": "2022-03-16T13:37:12.221Z"
   },
   {
    "duration": 6,
    "start_time": "2022-03-16T13:37:32.143Z"
   },
   {
    "duration": 5,
    "start_time": "2022-03-16T13:40:31.473Z"
   },
   {
    "duration": 5,
    "start_time": "2022-03-16T13:40:35.320Z"
   },
   {
    "duration": 5,
    "start_time": "2022-03-16T13:40:40.233Z"
   },
   {
    "duration": 320,
    "start_time": "2022-03-16T13:40:48.001Z"
   },
   {
    "duration": 6,
    "start_time": "2022-03-16T13:40:54.344Z"
   },
   {
    "duration": 73,
    "start_time": "2022-03-16T13:41:10.057Z"
   },
   {
    "duration": 78,
    "start_time": "2022-03-16T13:41:12.161Z"
   },
   {
    "duration": 6,
    "start_time": "2022-03-16T13:41:17.706Z"
   },
   {
    "duration": 7,
    "start_time": "2022-03-16T13:41:37.985Z"
   },
   {
    "duration": 6,
    "start_time": "2022-03-16T13:41:38.625Z"
   },
   {
    "duration": 5,
    "start_time": "2022-03-16T13:41:39.417Z"
   },
   {
    "duration": 7,
    "start_time": "2022-03-16T13:41:43.978Z"
   },
   {
    "duration": 6,
    "start_time": "2022-03-16T13:41:45.407Z"
   },
   {
    "duration": 26,
    "start_time": "2022-03-16T13:41:45.415Z"
   },
   {
    "duration": 7,
    "start_time": "2022-03-16T13:41:50.129Z"
   },
   {
    "duration": 6,
    "start_time": "2022-03-16T13:41:50.537Z"
   },
   {
    "duration": 5,
    "start_time": "2022-03-16T13:41:50.842Z"
   },
   {
    "duration": 7,
    "start_time": "2022-03-16T13:41:55.666Z"
   },
   {
    "duration": 6,
    "start_time": "2022-03-16T13:41:55.937Z"
   },
   {
    "duration": 5,
    "start_time": "2022-03-16T13:41:56.233Z"
   },
   {
    "duration": 4,
    "start_time": "2022-03-16T13:52:22.152Z"
   },
   {
    "duration": 7,
    "start_time": "2022-03-16T13:52:25.895Z"
   },
   {
    "duration": 9,
    "start_time": "2022-03-16T13:52:31.072Z"
   },
   {
    "duration": 7,
    "start_time": "2022-03-16T13:54:12.901Z"
   },
   {
    "duration": 6,
    "start_time": "2022-03-16T13:54:13.833Z"
   },
   {
    "duration": 9,
    "start_time": "2022-03-16T13:54:51.603Z"
   },
   {
    "duration": 7,
    "start_time": "2022-03-16T13:54:54.802Z"
   },
   {
    "duration": 6,
    "start_time": "2022-03-16T13:54:56.553Z"
   },
   {
    "duration": 10,
    "start_time": "2022-03-16T13:54:59.435Z"
   },
   {
    "duration": 7,
    "start_time": "2022-03-16T13:55:00.291Z"
   },
   {
    "duration": 5,
    "start_time": "2022-03-16T13:55:00.809Z"
   },
   {
    "duration": 7,
    "start_time": "2022-03-16T13:57:46.891Z"
   },
   {
    "duration": 6,
    "start_time": "2022-03-16T13:57:47.115Z"
   },
   {
    "duration": 5,
    "start_time": "2022-03-16T13:57:47.435Z"
   },
   {
    "duration": 6,
    "start_time": "2022-03-16T14:26:17.246Z"
   },
   {
    "duration": 10,
    "start_time": "2022-03-16T14:27:07.813Z"
   },
   {
    "duration": 5,
    "start_time": "2022-03-16T14:27:23.797Z"
   },
   {
    "duration": 10,
    "start_time": "2022-03-16T14:27:24.277Z"
   },
   {
    "duration": 8,
    "start_time": "2022-03-16T14:28:19.638Z"
   },
   {
    "duration": 12,
    "start_time": "2022-03-16T14:28:20.342Z"
   },
   {
    "duration": 10,
    "start_time": "2022-03-16T14:35:41.876Z"
   },
   {
    "duration": 12,
    "start_time": "2022-03-16T14:35:43.706Z"
   },
   {
    "duration": 7,
    "start_time": "2022-03-16T14:36:19.011Z"
   },
   {
    "duration": 19,
    "start_time": "2022-03-16T14:36:24.659Z"
   },
   {
    "duration": 8,
    "start_time": "2022-03-16T14:37:04.491Z"
   },
   {
    "duration": 16,
    "start_time": "2022-03-16T14:37:04.919Z"
   },
   {
    "duration": 7,
    "start_time": "2022-03-16T14:38:10.164Z"
   },
   {
    "duration": 18,
    "start_time": "2022-03-16T14:38:10.765Z"
   },
   {
    "duration": 9,
    "start_time": "2022-03-16T14:38:19.229Z"
   },
   {
    "duration": 17,
    "start_time": "2022-03-16T14:38:19.676Z"
   },
   {
    "duration": 14,
    "start_time": "2022-03-16T14:38:34.235Z"
   },
   {
    "duration": 15,
    "start_time": "2022-03-16T14:38:38.939Z"
   },
   {
    "duration": 10,
    "start_time": "2022-03-16T14:40:11.958Z"
   },
   {
    "duration": 17,
    "start_time": "2022-03-16T14:40:12.421Z"
   },
   {
    "duration": 7,
    "start_time": "2022-03-16T14:41:40.710Z"
   },
   {
    "duration": 13,
    "start_time": "2022-03-16T14:41:41.134Z"
   },
   {
    "duration": 7,
    "start_time": "2022-03-16T14:41:55.902Z"
   },
   {
    "duration": 13,
    "start_time": "2022-03-16T14:41:56.245Z"
   },
   {
    "duration": 8,
    "start_time": "2022-03-16T14:42:10.262Z"
   },
   {
    "duration": 14,
    "start_time": "2022-03-16T14:42:10.511Z"
   },
   {
    "duration": 7,
    "start_time": "2022-03-16T14:42:17.110Z"
   },
   {
    "duration": 14,
    "start_time": "2022-03-16T14:42:17.414Z"
   },
   {
    "duration": 8,
    "start_time": "2022-03-16T14:43:09.679Z"
   },
   {
    "duration": 14,
    "start_time": "2022-03-16T14:43:10.759Z"
   },
   {
    "duration": 5,
    "start_time": "2022-03-16T14:43:26.481Z"
   },
   {
    "duration": 14,
    "start_time": "2022-03-16T14:43:27.031Z"
   },
   {
    "duration": 13,
    "start_time": "2022-03-16T14:49:29.007Z"
   },
   {
    "duration": 17,
    "start_time": "2022-03-16T14:49:48.788Z"
   },
   {
    "duration": 17,
    "start_time": "2022-03-16T14:50:10.724Z"
   },
   {
    "duration": 14,
    "start_time": "2022-03-16T14:51:41.421Z"
   },
   {
    "duration": 128,
    "start_time": "2022-03-16T14:51:49.149Z"
   },
   {
    "duration": 348,
    "start_time": "2022-03-16T17:20:27.200Z"
   },
   {
    "duration": 1196,
    "start_time": "2022-03-16T17:20:33.343Z"
   },
   {
    "duration": 370,
    "start_time": "2022-03-16T17:20:34.541Z"
   },
   {
    "duration": 16,
    "start_time": "2022-03-16T17:20:34.914Z"
   },
   {
    "duration": 14,
    "start_time": "2022-03-16T17:20:34.931Z"
   },
   {
    "duration": 15,
    "start_time": "2022-03-16T17:20:34.947Z"
   },
   {
    "duration": 27,
    "start_time": "2022-03-16T17:20:34.981Z"
   },
   {
    "duration": 12,
    "start_time": "2022-03-16T17:20:35.010Z"
   },
   {
    "duration": 58,
    "start_time": "2022-03-16T17:20:35.025Z"
   },
   {
    "duration": 8,
    "start_time": "2022-03-16T17:20:35.085Z"
   },
   {
    "duration": 16,
    "start_time": "2022-03-16T17:20:35.095Z"
   },
   {
    "duration": 48,
    "start_time": "2022-03-16T17:20:35.112Z"
   },
   {
    "duration": 20,
    "start_time": "2022-03-16T17:20:35.182Z"
   },
   {
    "duration": 10,
    "start_time": "2022-03-16T17:20:35.204Z"
   },
   {
    "duration": 11,
    "start_time": "2022-03-16T17:20:35.216Z"
   },
   {
    "duration": 57,
    "start_time": "2022-03-16T17:20:35.229Z"
   },
   {
    "duration": 20,
    "start_time": "2022-03-16T17:20:35.288Z"
   },
   {
    "duration": 3,
    "start_time": "2022-03-16T17:20:35.310Z"
   },
   {
    "duration": 866,
    "start_time": "2022-03-16T17:20:35.315Z"
   },
   {
    "duration": 367,
    "start_time": "2022-03-16T17:20:36.183Z"
   },
   {
    "duration": 58,
    "start_time": "2022-03-16T17:20:36.551Z"
   },
   {
    "duration": 5,
    "start_time": "2022-03-16T17:20:36.611Z"
   },
   {
    "duration": 9951,
    "start_time": "2022-03-16T17:20:36.618Z"
   },
   {
    "duration": 7167,
    "start_time": "2022-03-16T17:20:46.573Z"
   },
   {
    "duration": 10198,
    "start_time": "2022-03-16T17:20:53.742Z"
   },
   {
    "duration": 3,
    "start_time": "2022-03-16T17:21:03.942Z"
   },
   {
    "duration": 10,
    "start_time": "2022-03-16T17:21:03.947Z"
   },
   {
    "duration": 12,
    "start_time": "2022-03-16T17:21:03.959Z"
   },
   {
    "duration": 9,
    "start_time": "2022-03-16T17:21:03.980Z"
   },
   {
    "duration": 190,
    "start_time": "2022-03-16T17:21:03.991Z"
   },
   {
    "duration": 101,
    "start_time": "2022-03-16T17:21:04.183Z"
   },
   {
    "duration": 117,
    "start_time": "2022-03-16T17:21:04.288Z"
   },
   {
    "duration": 175,
    "start_time": "2022-03-16T17:21:04.407Z"
   },
   {
    "duration": 11,
    "start_time": "2022-03-16T17:21:04.584Z"
   },
   {
    "duration": 7,
    "start_time": "2022-03-16T17:21:04.596Z"
   },
   {
    "duration": 11,
    "start_time": "2022-03-16T17:21:04.605Z"
   },
   {
    "duration": 7,
    "start_time": "2022-03-16T17:21:04.618Z"
   },
   {
    "duration": 4,
    "start_time": "2022-03-16T17:21:04.627Z"
   },
   {
    "duration": 13,
    "start_time": "2022-03-16T17:21:04.633Z"
   },
   {
    "duration": 34,
    "start_time": "2022-03-16T17:21:04.648Z"
   },
   {
    "duration": 8,
    "start_time": "2022-03-16T17:21:04.683Z"
   },
   {
    "duration": 5,
    "start_time": "2022-03-16T17:24:00.421Z"
   },
   {
    "duration": 31,
    "start_time": "2022-03-16T17:24:07.863Z"
   },
   {
    "duration": 11,
    "start_time": "2022-03-16T17:25:02.664Z"
   },
   {
    "duration": 5,
    "start_time": "2022-03-16T17:25:58.999Z"
   },
   {
    "duration": 410,
    "start_time": "2022-03-16T17:25:59.181Z"
   },
   {
    "duration": 5,
    "start_time": "2022-03-16T17:26:31.643Z"
   },
   {
    "duration": 332,
    "start_time": "2022-03-16T17:26:33.849Z"
   },
   {
    "duration": 43,
    "start_time": "2022-03-16T17:26:46.586Z"
   },
   {
    "duration": 3,
    "start_time": "2022-03-16T17:34:15.910Z"
   },
   {
    "duration": 386,
    "start_time": "2022-03-16T17:34:15.914Z"
   },
   {
    "duration": 7,
    "start_time": "2022-03-16T17:34:16.302Z"
   },
   {
    "duration": 12,
    "start_time": "2022-03-16T17:34:16.310Z"
   },
   {
    "duration": 16,
    "start_time": "2022-03-16T17:34:16.324Z"
   },
   {
    "duration": 50,
    "start_time": "2022-03-16T17:34:16.341Z"
   },
   {
    "duration": 10,
    "start_time": "2022-03-16T17:34:16.393Z"
   },
   {
    "duration": 38,
    "start_time": "2022-03-16T17:34:16.406Z"
   },
   {
    "duration": 7,
    "start_time": "2022-03-16T17:34:16.446Z"
   },
   {
    "duration": 30,
    "start_time": "2022-03-16T17:34:16.455Z"
   },
   {
    "duration": 36,
    "start_time": "2022-03-16T17:34:16.487Z"
   },
   {
    "duration": 13,
    "start_time": "2022-03-16T17:34:16.525Z"
   },
   {
    "duration": 7,
    "start_time": "2022-03-16T17:34:16.539Z"
   },
   {
    "duration": 37,
    "start_time": "2022-03-16T17:34:16.547Z"
   },
   {
    "duration": 32,
    "start_time": "2022-03-16T17:34:16.586Z"
   },
   {
    "duration": 12,
    "start_time": "2022-03-16T17:34:16.620Z"
   },
   {
    "duration": 4,
    "start_time": "2022-03-16T17:34:16.633Z"
   },
   {
    "duration": 836,
    "start_time": "2022-03-16T17:34:16.639Z"
   },
   {
    "duration": 279,
    "start_time": "2022-03-16T17:34:17.480Z"
   },
   {
    "duration": 35,
    "start_time": "2022-03-16T17:34:17.761Z"
   },
   {
    "duration": 3,
    "start_time": "2022-03-16T17:34:17.798Z"
   },
   {
    "duration": 6589,
    "start_time": "2022-03-16T17:34:17.802Z"
   },
   {
    "duration": 6733,
    "start_time": "2022-03-16T17:34:24.395Z"
   },
   {
    "duration": 6453,
    "start_time": "2022-03-16T17:34:31.129Z"
   },
   {
    "duration": 4,
    "start_time": "2022-03-16T17:34:37.584Z"
   },
   {
    "duration": 11,
    "start_time": "2022-03-16T17:34:37.589Z"
   },
   {
    "duration": 14,
    "start_time": "2022-03-16T17:34:37.601Z"
   },
   {
    "duration": 5,
    "start_time": "2022-03-16T17:34:37.616Z"
   },
   {
    "duration": 69,
    "start_time": "2022-03-16T17:34:37.622Z"
   },
   {
    "duration": 188,
    "start_time": "2022-03-16T17:34:37.693Z"
   },
   {
    "duration": 123,
    "start_time": "2022-03-16T17:34:37.884Z"
   },
   {
    "duration": 5,
    "start_time": "2022-03-16T17:34:38.081Z"
   },
   {
    "duration": 102,
    "start_time": "2022-03-16T17:34:38.088Z"
   },
   {
    "duration": 5,
    "start_time": "2022-03-16T17:34:38.192Z"
   },
   {
    "duration": 10,
    "start_time": "2022-03-16T17:34:38.198Z"
   },
   {
    "duration": 5,
    "start_time": "2022-03-16T17:34:38.210Z"
   },
   {
    "duration": 8,
    "start_time": "2022-03-16T17:34:38.217Z"
   },
   {
    "duration": 10,
    "start_time": "2022-03-16T17:34:38.227Z"
   },
   {
    "duration": 8,
    "start_time": "2022-03-16T17:34:38.239Z"
   },
   {
    "duration": 34,
    "start_time": "2022-03-16T17:34:38.249Z"
   },
   {
    "duration": 1650,
    "start_time": "2022-03-17T08:40:34.605Z"
   },
   {
    "duration": 371,
    "start_time": "2022-03-17T08:40:36.258Z"
   },
   {
    "duration": 15,
    "start_time": "2022-03-17T08:40:36.631Z"
   },
   {
    "duration": 17,
    "start_time": "2022-03-17T08:40:36.648Z"
   },
   {
    "duration": 19,
    "start_time": "2022-03-17T08:40:36.667Z"
   },
   {
    "duration": 60,
    "start_time": "2022-03-17T08:40:36.688Z"
   },
   {
    "duration": 13,
    "start_time": "2022-03-17T08:40:36.750Z"
   },
   {
    "duration": 41,
    "start_time": "2022-03-17T08:40:36.765Z"
   },
   {
    "duration": 10,
    "start_time": "2022-03-17T08:40:36.807Z"
   },
   {
    "duration": 15,
    "start_time": "2022-03-17T08:40:36.839Z"
   },
   {
    "duration": 36,
    "start_time": "2022-03-17T08:40:36.856Z"
   },
   {
    "duration": 17,
    "start_time": "2022-03-17T08:40:36.894Z"
   },
   {
    "duration": 32,
    "start_time": "2022-03-17T08:40:36.913Z"
   },
   {
    "duration": 18,
    "start_time": "2022-03-17T08:40:36.948Z"
   },
   {
    "duration": 79,
    "start_time": "2022-03-17T08:40:36.968Z"
   },
   {
    "duration": 19,
    "start_time": "2022-03-17T08:40:37.049Z"
   },
   {
    "duration": 5,
    "start_time": "2022-03-17T08:40:37.070Z"
   },
   {
    "duration": 4909,
    "start_time": "2022-03-17T08:40:37.077Z"
   },
   {
    "duration": 1395,
    "start_time": "2022-03-17T08:40:41.988Z"
   },
   {
    "duration": 53,
    "start_time": "2022-03-17T08:40:43.385Z"
   },
   {
    "duration": 4,
    "start_time": "2022-03-17T08:40:43.440Z"
   },
   {
    "duration": 2040,
    "start_time": "2022-03-17T08:40:43.446Z"
   },
   {
    "duration": 2126,
    "start_time": "2022-03-17T08:40:45.488Z"
   },
   {
    "duration": 2065,
    "start_time": "2022-03-17T08:40:47.616Z"
   },
   {
    "duration": 4,
    "start_time": "2022-03-17T08:40:49.683Z"
   },
   {
    "duration": 12,
    "start_time": "2022-03-17T08:40:49.688Z"
   },
   {
    "duration": 10,
    "start_time": "2022-03-17T08:40:49.702Z"
   },
   {
    "duration": 25,
    "start_time": "2022-03-17T08:40:49.713Z"
   },
   {
    "duration": 102,
    "start_time": "2022-03-17T08:40:49.739Z"
   },
   {
    "duration": 120,
    "start_time": "2022-03-17T08:40:49.843Z"
   },
   {
    "duration": 191,
    "start_time": "2022-03-17T08:40:49.966Z"
   },
   {
    "duration": 4,
    "start_time": "2022-03-17T08:40:50.159Z"
   },
   {
    "duration": 12,
    "start_time": "2022-03-17T08:40:50.239Z"
   },
   {
    "duration": 3,
    "start_time": "2022-03-17T08:40:50.339Z"
   },
   {
    "duration": 10,
    "start_time": "2022-03-17T08:40:50.345Z"
   },
   {
    "duration": 6,
    "start_time": "2022-03-17T08:40:50.357Z"
   },
   {
    "duration": 6,
    "start_time": "2022-03-17T08:40:50.365Z"
   },
   {
    "duration": 14,
    "start_time": "2022-03-17T08:40:50.373Z"
   },
   {
    "duration": 11,
    "start_time": "2022-03-17T08:40:50.389Z"
   },
   {
    "duration": 40,
    "start_time": "2022-03-17T08:40:50.402Z"
   },
   {
    "duration": 8,
    "start_time": "2022-03-17T08:41:05.887Z"
   },
   {
    "duration": 124,
    "start_time": "2022-03-17T08:44:04.275Z"
   },
   {
    "duration": 10,
    "start_time": "2022-03-17T08:44:13.802Z"
   },
   {
    "duration": 16,
    "start_time": "2022-03-17T08:44:17.354Z"
   },
   {
    "duration": 13,
    "start_time": "2022-03-17T08:45:24.228Z"
   },
   {
    "duration": 9,
    "start_time": "2022-03-17T08:45:41.956Z"
   },
   {
    "duration": 18,
    "start_time": "2022-03-17T08:45:49.163Z"
   },
   {
    "duration": 8,
    "start_time": "2022-03-17T08:46:00.683Z"
   },
   {
    "duration": 8,
    "start_time": "2022-03-17T08:46:22.780Z"
   },
   {
    "duration": 10,
    "start_time": "2022-03-17T08:46:54.309Z"
   },
   {
    "duration": 8,
    "start_time": "2022-03-17T08:46:57.307Z"
   },
   {
    "duration": 6,
    "start_time": "2022-03-17T08:47:25.292Z"
   },
   {
    "duration": 3,
    "start_time": "2022-03-17T08:47:25.827Z"
   },
   {
    "duration": 10,
    "start_time": "2022-03-17T08:47:26.115Z"
   },
   {
    "duration": 8,
    "start_time": "2022-03-17T08:47:26.780Z"
   },
   {
    "duration": 5,
    "start_time": "2022-03-17T08:47:38.077Z"
   },
   {
    "duration": 3,
    "start_time": "2022-03-17T08:47:38.350Z"
   },
   {
    "duration": 11,
    "start_time": "2022-03-17T08:47:38.673Z"
   },
   {
    "duration": 8,
    "start_time": "2022-03-17T08:47:39.100Z"
   },
   {
    "duration": 9,
    "start_time": "2022-03-17T11:41:34.237Z"
   },
   {
    "duration": 4,
    "start_time": "2022-03-17T11:41:41.029Z"
   },
   {
    "duration": 9,
    "start_time": "2022-03-17T11:41:43.461Z"
   },
   {
    "duration": 3,
    "start_time": "2022-03-17T11:44:39.579Z"
   },
   {
    "duration": 390,
    "start_time": "2022-03-17T11:44:39.584Z"
   },
   {
    "duration": 7,
    "start_time": "2022-03-17T11:44:39.976Z"
   },
   {
    "duration": 42,
    "start_time": "2022-03-17T11:44:39.985Z"
   },
   {
    "duration": 51,
    "start_time": "2022-03-17T11:44:40.030Z"
   },
   {
    "duration": 57,
    "start_time": "2022-03-17T11:44:40.082Z"
   },
   {
    "duration": 13,
    "start_time": "2022-03-17T11:44:40.141Z"
   },
   {
    "duration": 33,
    "start_time": "2022-03-17T11:44:40.155Z"
   },
   {
    "duration": 7,
    "start_time": "2022-03-17T11:44:40.190Z"
   },
   {
    "duration": 40,
    "start_time": "2022-03-17T11:44:40.198Z"
   },
   {
    "duration": 36,
    "start_time": "2022-03-17T11:44:40.240Z"
   },
   {
    "duration": 18,
    "start_time": "2022-03-17T11:44:40.278Z"
   },
   {
    "duration": 9,
    "start_time": "2022-03-17T11:44:40.298Z"
   },
   {
    "duration": 16,
    "start_time": "2022-03-17T11:44:40.337Z"
   },
   {
    "duration": 34,
    "start_time": "2022-03-17T11:44:40.355Z"
   },
   {
    "duration": 18,
    "start_time": "2022-03-17T11:44:40.390Z"
   },
   {
    "duration": 27,
    "start_time": "2022-03-17T11:44:40.410Z"
   },
   {
    "duration": 4817,
    "start_time": "2022-03-17T11:44:40.440Z"
   },
   {
    "duration": 1519,
    "start_time": "2022-03-17T11:44:45.259Z"
   },
   {
    "duration": 40,
    "start_time": "2022-03-17T11:44:46.779Z"
   },
   {
    "duration": 17,
    "start_time": "2022-03-17T11:44:46.822Z"
   },
   {
    "duration": 2000,
    "start_time": "2022-03-17T11:44:46.842Z"
   },
   {
    "duration": 1997,
    "start_time": "2022-03-17T11:44:48.843Z"
   },
   {
    "duration": 2133,
    "start_time": "2022-03-17T11:44:50.842Z"
   },
   {
    "duration": 4,
    "start_time": "2022-03-17T11:44:52.976Z"
   },
   {
    "duration": 13,
    "start_time": "2022-03-17T11:44:52.981Z"
   },
   {
    "duration": 11,
    "start_time": "2022-03-17T11:44:52.996Z"
   },
   {
    "duration": 11,
    "start_time": "2022-03-17T11:44:53.008Z"
   },
   {
    "duration": 34,
    "start_time": "2022-03-17T11:44:53.021Z"
   },
   {
    "duration": 185,
    "start_time": "2022-03-17T11:44:53.057Z"
   },
   {
    "duration": 194,
    "start_time": "2022-03-17T11:44:53.244Z"
   },
   {
    "duration": 6,
    "start_time": "2022-03-17T11:44:53.441Z"
   },
   {
    "duration": 100,
    "start_time": "2022-03-17T11:44:53.448Z"
   },
   {
    "duration": 7,
    "start_time": "2022-03-17T11:44:53.550Z"
   },
   {
    "duration": 17,
    "start_time": "2022-03-17T11:44:53.558Z"
   },
   {
    "duration": 7,
    "start_time": "2022-03-17T11:44:53.577Z"
   },
   {
    "duration": 8,
    "start_time": "2022-03-17T11:44:53.586Z"
   },
   {
    "duration": 16,
    "start_time": "2022-03-17T11:44:53.595Z"
   },
   {
    "duration": 26,
    "start_time": "2022-03-17T11:44:53.613Z"
   },
   {
    "duration": 11,
    "start_time": "2022-03-17T12:50:44.006Z"
   },
   {
    "duration": 3,
    "start_time": "2022-03-17T12:50:56.781Z"
   },
   {
    "duration": 10,
    "start_time": "2022-03-17T12:51:04.589Z"
   },
   {
    "duration": 5,
    "start_time": "2022-03-17T12:52:17.166Z"
   },
   {
    "duration": 79,
    "start_time": "2022-03-17T13:15:19.205Z"
   },
   {
    "duration": 84,
    "start_time": "2022-03-17T13:15:23.622Z"
   },
   {
    "duration": 10,
    "start_time": "2022-03-17T13:15:32.310Z"
   },
   {
    "duration": 7,
    "start_time": "2022-03-17T13:15:44.734Z"
   },
   {
    "duration": 5,
    "start_time": "2022-03-17T13:15:56.142Z"
   },
   {
    "duration": 5,
    "start_time": "2022-03-17T13:16:01.838Z"
   },
   {
    "duration": 6,
    "start_time": "2022-03-17T13:23:24.884Z"
   },
   {
    "duration": 10,
    "start_time": "2022-03-17T13:26:00.133Z"
   },
   {
    "duration": 5,
    "start_time": "2022-03-17T13:26:12.741Z"
   },
   {
    "duration": 5,
    "start_time": "2022-03-17T13:26:16.157Z"
   },
   {
    "duration": 5,
    "start_time": "2022-03-17T13:27:02.982Z"
   },
   {
    "duration": 3,
    "start_time": "2022-03-17T13:27:06.198Z"
   },
   {
    "duration": 6,
    "start_time": "2022-03-17T13:28:05.071Z"
   },
   {
    "duration": 5,
    "start_time": "2022-03-17T13:28:09.934Z"
   },
   {
    "duration": 6,
    "start_time": "2022-03-17T13:28:21.310Z"
   },
   {
    "duration": 7,
    "start_time": "2022-03-17T13:28:31.143Z"
   },
   {
    "duration": 6,
    "start_time": "2022-03-17T13:28:51.335Z"
   },
   {
    "duration": 6,
    "start_time": "2022-03-17T13:29:00.487Z"
   },
   {
    "duration": 4,
    "start_time": "2022-03-17T13:29:26.471Z"
   },
   {
    "duration": 10,
    "start_time": "2022-03-17T13:29:33.984Z"
   },
   {
    "duration": 4,
    "start_time": "2022-03-17T13:31:58.376Z"
   },
   {
    "duration": 4,
    "start_time": "2022-03-17T13:32:12.097Z"
   },
   {
    "duration": 5,
    "start_time": "2022-03-17T13:32:17.432Z"
   },
   {
    "duration": 6,
    "start_time": "2022-03-17T13:32:49.401Z"
   },
   {
    "duration": 5,
    "start_time": "2022-03-17T13:33:04.810Z"
   },
   {
    "duration": 10,
    "start_time": "2022-03-17T13:38:50.284Z"
   },
   {
    "duration": 9,
    "start_time": "2022-03-17T13:39:10.996Z"
   },
   {
    "duration": 6,
    "start_time": "2022-03-17T13:39:59.692Z"
   },
   {
    "duration": 18,
    "start_time": "2022-03-17T13:40:16.996Z"
   },
   {
    "duration": 15,
    "start_time": "2022-03-17T13:40:29.549Z"
   },
   {
    "duration": 7,
    "start_time": "2022-03-17T13:40:32.309Z"
   },
   {
    "duration": 7,
    "start_time": "2022-03-17T13:40:41.901Z"
   },
   {
    "duration": 6,
    "start_time": "2022-03-17T13:41:51.550Z"
   },
   {
    "duration": 6,
    "start_time": "2022-03-17T13:42:02.270Z"
   },
   {
    "duration": 5,
    "start_time": "2022-03-17T13:43:39.583Z"
   },
   {
    "duration": 4,
    "start_time": "2022-03-17T13:44:12.583Z"
   },
   {
    "duration": 7,
    "start_time": "2022-03-17T13:44:25.320Z"
   },
   {
    "duration": 4,
    "start_time": "2022-03-17T13:46:13.937Z"
   },
   {
    "duration": 11,
    "start_time": "2022-03-17T13:46:23.352Z"
   },
   {
    "duration": 8,
    "start_time": "2022-03-17T13:46:30.034Z"
   },
   {
    "duration": 4,
    "start_time": "2022-03-17T13:53:16.773Z"
   },
   {
    "duration": 7,
    "start_time": "2022-03-17T13:53:16.979Z"
   },
   {
    "duration": 6,
    "start_time": "2022-03-17T13:53:22.702Z"
   },
   {
    "duration": 4,
    "start_time": "2022-03-17T13:54:01.965Z"
   },
   {
    "duration": 7,
    "start_time": "2022-03-17T13:58:35.743Z"
   },
   {
    "duration": 11,
    "start_time": "2022-03-17T13:59:25.952Z"
   },
   {
    "duration": 8,
    "start_time": "2022-03-17T13:59:32.792Z"
   },
   {
    "duration": 3,
    "start_time": "2022-03-17T14:06:02.229Z"
   },
   {
    "duration": 6,
    "start_time": "2022-03-17T14:06:04.645Z"
   },
   {
    "duration": 4,
    "start_time": "2022-03-17T14:14:10.169Z"
   },
   {
    "duration": 3,
    "start_time": "2022-03-17T14:15:47.399Z"
   },
   {
    "duration": 7,
    "start_time": "2022-03-17T14:16:13.902Z"
   },
   {
    "duration": 73,
    "start_time": "2022-03-17T17:47:12.664Z"
   },
   {
    "duration": 10,
    "start_time": "2022-03-17T17:47:34.991Z"
   },
   {
    "duration": 2539,
    "start_time": "2022-03-17T17:47:38.400Z"
   },
   {
    "duration": 432,
    "start_time": "2022-03-17T17:47:40.944Z"
   },
   {
    "duration": 19,
    "start_time": "2022-03-17T17:47:41.378Z"
   },
   {
    "duration": 20,
    "start_time": "2022-03-17T17:47:41.399Z"
   },
   {
    "duration": 55,
    "start_time": "2022-03-17T17:47:41.422Z"
   },
   {
    "duration": 40,
    "start_time": "2022-03-17T17:47:41.480Z"
   },
   {
    "duration": 18,
    "start_time": "2022-03-17T17:47:41.522Z"
   },
   {
    "duration": 77,
    "start_time": "2022-03-17T17:47:41.542Z"
   },
   {
    "duration": 12,
    "start_time": "2022-03-17T17:47:41.622Z"
   },
   {
    "duration": 51,
    "start_time": "2022-03-17T17:47:41.636Z"
   },
   {
    "duration": 51,
    "start_time": "2022-03-17T17:47:41.689Z"
   },
   {
    "duration": 42,
    "start_time": "2022-03-17T17:47:41.742Z"
   },
   {
    "duration": 13,
    "start_time": "2022-03-17T17:47:41.786Z"
   },
   {
    "duration": 24,
    "start_time": "2022-03-17T17:47:41.804Z"
   },
   {
    "duration": 82,
    "start_time": "2022-03-17T17:47:41.831Z"
   },
   {
    "duration": 22,
    "start_time": "2022-03-17T17:47:41.916Z"
   },
   {
    "duration": 33,
    "start_time": "2022-03-17T17:47:41.941Z"
   },
   {
    "duration": 6739,
    "start_time": "2022-03-17T17:47:41.977Z"
   },
   {
    "duration": 1932,
    "start_time": "2022-03-17T17:47:48.718Z"
   },
   {
    "duration": 66,
    "start_time": "2022-03-17T17:47:50.653Z"
   },
   {
    "duration": 6,
    "start_time": "2022-03-17T17:47:50.722Z"
   },
   {
    "duration": 3264,
    "start_time": "2022-03-17T17:47:50.730Z"
   },
   {
    "duration": 3339,
    "start_time": "2022-03-17T17:47:53.997Z"
   },
   {
    "duration": 3277,
    "start_time": "2022-03-17T17:47:57.339Z"
   },
   {
    "duration": 5,
    "start_time": "2022-03-17T17:48:00.618Z"
   },
   {
    "duration": 19,
    "start_time": "2022-03-17T17:48:00.625Z"
   },
   {
    "duration": 32,
    "start_time": "2022-03-17T17:48:00.646Z"
   },
   {
    "duration": 20,
    "start_time": "2022-03-17T17:48:00.682Z"
   },
   {
    "duration": 79,
    "start_time": "2022-03-17T17:48:00.705Z"
   },
   {
    "duration": 286,
    "start_time": "2022-03-17T17:48:00.788Z"
   },
   {
    "duration": 133,
    "start_time": "2022-03-17T17:48:01.078Z"
   },
   {
    "duration": 9,
    "start_time": "2022-03-17T17:48:01.280Z"
   },
   {
    "duration": 11,
    "start_time": "2022-03-17T17:48:01.375Z"
   },
   {
    "duration": 32,
    "start_time": "2022-03-17T17:48:01.388Z"
   },
   {
    "duration": 29,
    "start_time": "2022-03-17T17:48:01.423Z"
   },
   {
    "duration": 20,
    "start_time": "2022-03-17T17:48:01.455Z"
   },
   {
    "duration": 24,
    "start_time": "2022-03-17T17:48:01.478Z"
   },
   {
    "duration": 26,
    "start_time": "2022-03-17T17:48:01.504Z"
   },
   {
    "duration": 16,
    "start_time": "2022-03-17T17:48:01.532Z"
   },
   {
    "duration": 34,
    "start_time": "2022-03-17T17:48:01.551Z"
   },
   {
    "duration": 35,
    "start_time": "2022-03-17T17:48:01.591Z"
   },
   {
    "duration": 19,
    "start_time": "2022-03-17T17:48:01.628Z"
   },
   {
    "duration": 14,
    "start_time": "2022-03-17T17:48:01.650Z"
   },
   {
    "duration": 107,
    "start_time": "2022-03-17T17:48:01.667Z"
   },
   {
    "duration": 0,
    "start_time": "2022-03-17T17:48:01.776Z"
   },
   {
    "duration": 0,
    "start_time": "2022-03-17T17:48:01.777Z"
   },
   {
    "duration": 13,
    "start_time": "2022-03-17T17:48:20.601Z"
   },
   {
    "duration": 10,
    "start_time": "2022-03-17T17:49:28.376Z"
   },
   {
    "duration": 7,
    "start_time": "2022-03-17T17:54:16.726Z"
   },
   {
    "duration": 8,
    "start_time": "2022-03-17T17:54:30.921Z"
   },
   {
    "duration": 9,
    "start_time": "2022-03-17T17:54:57.706Z"
   },
   {
    "duration": 7,
    "start_time": "2022-03-17T17:57:22.722Z"
   },
   {
    "duration": 10,
    "start_time": "2022-03-17T17:57:37.666Z"
   },
   {
    "duration": 14,
    "start_time": "2022-03-17T17:59:35.237Z"
   },
   {
    "duration": 8,
    "start_time": "2022-03-17T17:59:38.692Z"
   },
   {
    "duration": 8,
    "start_time": "2022-03-17T17:59:51.829Z"
   },
   {
    "duration": 9,
    "start_time": "2022-03-17T18:00:00.648Z"
   },
   {
    "duration": 4,
    "start_time": "2022-03-17T18:01:49.211Z"
   },
   {
    "duration": 1256,
    "start_time": "2022-03-17T18:04:45.537Z"
   },
   {
    "duration": 1093,
    "start_time": "2022-03-17T18:05:11.552Z"
   },
   {
    "duration": 7,
    "start_time": "2022-03-17T18:11:10.097Z"
   },
   {
    "duration": 9,
    "start_time": "2022-03-17T18:11:16.536Z"
   },
   {
    "duration": 123,
    "start_time": "2022-03-17T18:11:20.937Z"
   },
   {
    "duration": 7,
    "start_time": "2022-03-17T18:11:28.682Z"
   },
   {
    "duration": 6,
    "start_time": "2022-03-17T18:11:34.033Z"
   },
   {
    "duration": 1074,
    "start_time": "2022-03-17T18:12:24.329Z"
   },
   {
    "duration": 1087,
    "start_time": "2022-03-17T18:12:31.561Z"
   },
   {
    "duration": 1084,
    "start_time": "2022-03-17T18:12:53.786Z"
   },
   {
    "duration": 1084,
    "start_time": "2022-03-17T18:13:48.034Z"
   },
   {
    "duration": 10,
    "start_time": "2022-03-17T18:13:50.807Z"
   },
   {
    "duration": 1065,
    "start_time": "2022-03-17T18:13:53.711Z"
   },
   {
    "duration": 1073,
    "start_time": "2022-03-17T18:13:58.200Z"
   },
   {
    "duration": 1094,
    "start_time": "2022-03-17T18:14:02.353Z"
   },
   {
    "duration": 1067,
    "start_time": "2022-03-17T18:14:06.483Z"
   },
   {
    "duration": 1146,
    "start_time": "2022-03-17T18:14:12.028Z"
   },
   {
    "duration": 1082,
    "start_time": "2022-03-17T18:15:17.869Z"
   },
   {
    "duration": 1083,
    "start_time": "2022-03-17T18:15:24.263Z"
   },
   {
    "duration": 1076,
    "start_time": "2022-03-17T18:15:42.412Z"
   },
   {
    "duration": 1185,
    "start_time": "2022-03-17T18:16:37.618Z"
   },
   {
    "duration": 4,
    "start_time": "2022-03-17T18:22:24.093Z"
   },
   {
    "duration": 1109,
    "start_time": "2022-03-17T18:22:35.288Z"
   },
   {
    "duration": 1082,
    "start_time": "2022-03-17T18:22:39.808Z"
   },
   {
    "duration": 1105,
    "start_time": "2022-03-17T18:22:42.995Z"
   },
   {
    "duration": 4,
    "start_time": "2022-03-17T18:22:51.012Z"
   },
   {
    "duration": 1088,
    "start_time": "2022-03-17T18:22:53.104Z"
   },
   {
    "duration": 1091,
    "start_time": "2022-03-17T18:23:49.528Z"
   },
   {
    "duration": 1227,
    "start_time": "2022-03-17T18:24:34.181Z"
   },
   {
    "duration": 1080,
    "start_time": "2022-03-17T18:25:24.687Z"
   },
   {
    "duration": 1457,
    "start_time": "2022-03-17T18:25:35.401Z"
   },
   {
    "duration": 1445,
    "start_time": "2022-03-17T18:26:11.742Z"
   },
   {
    "duration": 1456,
    "start_time": "2022-03-17T18:27:03.084Z"
   },
   {
    "duration": 1215,
    "start_time": "2022-03-17T18:27:13.560Z"
   },
   {
    "duration": 1110,
    "start_time": "2022-03-17T18:27:20.498Z"
   },
   {
    "duration": 1095,
    "start_time": "2022-03-17T18:31:05.354Z"
   },
   {
    "duration": 1105,
    "start_time": "2022-03-17T18:34:35.790Z"
   },
   {
    "duration": 1087,
    "start_time": "2022-03-17T18:34:57.306Z"
   },
   {
    "duration": 1076,
    "start_time": "2022-03-17T18:41:14.578Z"
   },
   {
    "duration": 1089,
    "start_time": "2022-03-17T18:41:34.610Z"
   },
   {
    "duration": 1165,
    "start_time": "2022-03-17T18:45:28.027Z"
   },
   {
    "duration": 1114,
    "start_time": "2022-03-17T18:45:49.989Z"
   },
   {
    "duration": 1097,
    "start_time": "2022-03-17T18:46:01.077Z"
   },
   {
    "duration": 1370,
    "start_time": "2022-03-17T18:46:11.880Z"
   },
   {
    "duration": 1095,
    "start_time": "2022-03-17T18:46:27.015Z"
   },
   {
    "duration": 1069,
    "start_time": "2022-03-17T18:47:33.928Z"
   },
   {
    "duration": 1058,
    "start_time": "2022-03-17T18:47:44.569Z"
   },
   {
    "duration": 1083,
    "start_time": "2022-03-17T18:47:52.355Z"
   },
   {
    "duration": 9,
    "start_time": "2022-03-17T18:53:46.540Z"
   },
   {
    "duration": 1059,
    "start_time": "2022-03-17T18:54:20.556Z"
   },
   {
    "duration": 8,
    "start_time": "2022-03-17T18:54:56.758Z"
   },
   {
    "duration": 1414,
    "start_time": "2022-03-17T18:54:59.899Z"
   },
   {
    "duration": 1415,
    "start_time": "2022-03-17T18:55:13.491Z"
   },
   {
    "duration": 1449,
    "start_time": "2022-03-17T18:55:22.266Z"
   },
   {
    "duration": 11,
    "start_time": "2022-03-17T18:56:03.224Z"
   },
   {
    "duration": 1065,
    "start_time": "2022-03-17T18:56:04.016Z"
   },
   {
    "duration": 11,
    "start_time": "2022-03-17T18:59:10.391Z"
   },
   {
    "duration": 1203,
    "start_time": "2022-03-17T18:59:11.356Z"
   },
   {
    "duration": 10,
    "start_time": "2022-03-17T19:00:00.227Z"
   },
   {
    "duration": 1578,
    "start_time": "2022-03-17T19:00:01.600Z"
   },
   {
    "duration": 9,
    "start_time": "2022-03-17T19:00:18.142Z"
   },
   {
    "duration": 1151,
    "start_time": "2022-03-17T19:00:19.168Z"
   },
   {
    "duration": 180,
    "start_time": "2022-03-17T19:03:22.454Z"
   },
   {
    "duration": 9,
    "start_time": "2022-03-17T19:03:48.316Z"
   },
   {
    "duration": 1159,
    "start_time": "2022-03-17T19:03:56.275Z"
   },
   {
    "duration": 11,
    "start_time": "2022-03-17T19:06:05.303Z"
   },
   {
    "duration": 1311,
    "start_time": "2022-03-17T19:06:05.748Z"
   },
   {
    "duration": 132,
    "start_time": "2022-03-17T19:06:26.987Z"
   },
   {
    "duration": 139,
    "start_time": "2022-03-17T19:07:02.747Z"
   },
   {
    "duration": 127,
    "start_time": "2022-03-17T19:08:03.157Z"
   },
   {
    "duration": 10,
    "start_time": "2022-03-17T19:08:41.182Z"
   },
   {
    "duration": 9,
    "start_time": "2022-03-17T19:08:53.528Z"
   },
   {
    "duration": 1170,
    "start_time": "2022-03-17T19:08:54.437Z"
   },
   {
    "duration": 1146,
    "start_time": "2022-03-17T19:08:59.621Z"
   },
   {
    "duration": 1153,
    "start_time": "2022-03-17T19:09:01.973Z"
   },
   {
    "duration": 9,
    "start_time": "2022-03-17T19:09:39.355Z"
   },
   {
    "duration": 1181,
    "start_time": "2022-03-17T19:09:39.615Z"
   },
   {
    "duration": 1200,
    "start_time": "2022-03-17T19:09:40.798Z"
   },
   {
    "duration": 1175,
    "start_time": "2022-03-17T19:09:42.000Z"
   },
   {
    "duration": 11,
    "start_time": "2022-03-17T19:27:51.742Z"
   },
   {
    "duration": 15,
    "start_time": "2022-03-17T19:28:42.768Z"
   },
   {
    "duration": 8,
    "start_time": "2022-03-17T19:28:44.818Z"
   },
   {
    "duration": 6,
    "start_time": "2022-03-17T19:28:45.381Z"
   },
   {
    "duration": 12,
    "start_time": "2022-03-17T19:31:05.823Z"
   },
   {
    "duration": 1168,
    "start_time": "2022-03-17T19:31:06.915Z"
   },
   {
    "duration": 1165,
    "start_time": "2022-03-17T19:33:15.592Z"
   },
   {
    "duration": 219,
    "start_time": "2022-03-17T19:33:33.567Z"
   },
   {
    "duration": 11,
    "start_time": "2022-03-17T19:34:00.593Z"
   },
   {
    "duration": 11,
    "start_time": "2022-03-17T19:34:05.655Z"
   },
   {
    "duration": 389,
    "start_time": "2022-03-17T19:35:22.507Z"
   },
   {
    "duration": 460,
    "start_time": "2022-03-17T19:35:30.175Z"
   },
   {
    "duration": 478,
    "start_time": "2022-03-17T19:36:32.370Z"
   },
   {
    "duration": 270,
    "start_time": "2022-03-17T19:37:15.503Z"
   },
   {
    "duration": 20,
    "start_time": "2022-03-17T19:37:47.957Z"
   },
   {
    "duration": 339,
    "start_time": "2022-03-17T19:37:51.163Z"
   },
   {
    "duration": 320,
    "start_time": "2022-03-17T19:38:01.853Z"
   },
   {
    "duration": 405,
    "start_time": "2022-03-17T19:38:05.534Z"
   },
   {
    "duration": 296,
    "start_time": "2022-03-17T19:38:35.997Z"
   },
   {
    "duration": 1162,
    "start_time": "2022-03-17T19:38:39.689Z"
   },
   {
    "duration": 374,
    "start_time": "2022-03-17T19:38:43.963Z"
   },
   {
    "duration": 370,
    "start_time": "2022-03-17T19:38:53.899Z"
   },
   {
    "duration": 380,
    "start_time": "2022-03-17T19:39:36.527Z"
   },
   {
    "duration": 373,
    "start_time": "2022-03-17T19:39:47.050Z"
   },
   {
    "duration": 358,
    "start_time": "2022-03-17T19:40:25.981Z"
   },
   {
    "duration": 6,
    "start_time": "2022-03-17T19:40:48.519Z"
   },
   {
    "duration": 4305,
    "start_time": "2022-03-17T19:40:49.210Z"
   },
   {
    "duration": 5,
    "start_time": "2022-03-17T19:41:08.835Z"
   },
   {
    "duration": 3365,
    "start_time": "2022-03-17T19:41:09.377Z"
   },
   {
    "duration": 365,
    "start_time": "2022-03-17T19:41:24.075Z"
   },
   {
    "duration": 485,
    "start_time": "2022-03-17T19:41:39.481Z"
   },
   {
    "duration": 496,
    "start_time": "2022-03-17T19:41:47.443Z"
   },
   {
    "duration": 370,
    "start_time": "2022-03-17T19:42:18.768Z"
   },
   {
    "duration": 351,
    "start_time": "2022-03-17T19:42:26.538Z"
   },
   {
    "duration": 363,
    "start_time": "2022-03-17T19:42:33.947Z"
   },
   {
    "duration": 1042,
    "start_time": "2022-03-17T19:42:52.804Z"
   },
   {
    "duration": 888,
    "start_time": "2022-03-17T19:43:04.917Z"
   },
   {
    "duration": 454,
    "start_time": "2022-03-17T19:43:12.805Z"
   },
   {
    "duration": 473,
    "start_time": "2022-03-17T19:43:25.421Z"
   },
   {
    "duration": 507,
    "start_time": "2022-03-17T19:43:30.055Z"
   },
   {
    "duration": 8,
    "start_time": "2022-03-18T06:27:07.024Z"
   },
   {
    "duration": 1611,
    "start_time": "2022-03-18T06:27:09.940Z"
   },
   {
    "duration": 336,
    "start_time": "2022-03-18T06:27:11.553Z"
   },
   {
    "duration": 12,
    "start_time": "2022-03-18T06:27:11.891Z"
   },
   {
    "duration": 15,
    "start_time": "2022-03-18T06:27:11.905Z"
   },
   {
    "duration": 16,
    "start_time": "2022-03-18T06:27:11.933Z"
   },
   {
    "duration": 26,
    "start_time": "2022-03-18T06:27:11.950Z"
   },
   {
    "duration": 11,
    "start_time": "2022-03-18T06:27:11.978Z"
   },
   {
    "duration": 59,
    "start_time": "2022-03-18T06:27:11.991Z"
   },
   {
    "duration": 8,
    "start_time": "2022-03-18T06:27:12.051Z"
   },
   {
    "duration": 14,
    "start_time": "2022-03-18T06:27:12.061Z"
   },
   {
    "duration": 33,
    "start_time": "2022-03-18T06:27:12.076Z"
   },
   {
    "duration": 15,
    "start_time": "2022-03-18T06:27:12.133Z"
   },
   {
    "duration": 9,
    "start_time": "2022-03-18T06:27:12.149Z"
   },
   {
    "duration": 19,
    "start_time": "2022-03-18T06:27:12.159Z"
   },
   {
    "duration": 31,
    "start_time": "2022-03-18T06:27:12.179Z"
   },
   {
    "duration": 14,
    "start_time": "2022-03-18T06:27:12.233Z"
   },
   {
    "duration": 4,
    "start_time": "2022-03-18T06:27:12.249Z"
   },
   {
    "duration": 4565,
    "start_time": "2022-03-18T06:27:12.254Z"
   },
   {
    "duration": 1336,
    "start_time": "2022-03-18T06:27:16.821Z"
   },
   {
    "duration": 40,
    "start_time": "2022-03-18T06:27:18.159Z"
   },
   {
    "duration": 4,
    "start_time": "2022-03-18T06:27:22.094Z"
   },
   {
    "duration": 97,
    "start_time": "2022-03-18T06:27:36.505Z"
   },
   {
    "duration": 9,
    "start_time": "2022-03-18T06:27:41.601Z"
   },
   {
    "duration": 8,
    "start_time": "2022-03-18T06:27:43.513Z"
   },
   {
    "duration": 4,
    "start_time": "2022-03-18T06:27:57.785Z"
   },
   {
    "duration": 483,
    "start_time": "2022-03-18T06:28:27.362Z"
   },
   {
    "duration": 4,
    "start_time": "2022-03-18T06:29:36.258Z"
   },
   {
    "duration": 1981,
    "start_time": "2022-03-18T06:30:54.723Z"
   },
   {
    "duration": 1871,
    "start_time": "2022-03-18T06:31:05.532Z"
   },
   {
    "duration": 1879,
    "start_time": "2022-03-18T06:31:11.203Z"
   },
   {
    "duration": 1831,
    "start_time": "2022-03-18T06:31:29.883Z"
   },
   {
    "duration": 4,
    "start_time": "2022-03-18T06:41:29.801Z"
   },
   {
    "duration": 4,
    "start_time": "2022-03-18T06:42:30.306Z"
   },
   {
    "duration": 4,
    "start_time": "2022-03-18T06:42:33.761Z"
   },
   {
    "duration": 1677,
    "start_time": "2022-03-18T06:42:52.657Z"
   },
   {
    "duration": 873,
    "start_time": "2022-03-18T06:43:01.361Z"
   },
   {
    "duration": 1791,
    "start_time": "2022-03-18T06:43:35.370Z"
   },
   {
    "duration": 1653,
    "start_time": "2022-03-18T06:43:57.414Z"
   },
   {
    "duration": 1734,
    "start_time": "2022-03-18T06:44:03.211Z"
   },
   {
    "duration": 922,
    "start_time": "2022-03-18T06:44:33.082Z"
   },
   {
    "duration": 1201,
    "start_time": "2022-03-18T06:45:02.947Z"
   },
   {
    "duration": 1620,
    "start_time": "2022-03-18T06:49:48.005Z"
   },
   {
    "duration": 2579,
    "start_time": "2022-03-18T06:50:12.967Z"
   },
   {
    "duration": 910,
    "start_time": "2022-03-18T06:50:32.373Z"
   },
   {
    "duration": 1178,
    "start_time": "2022-03-18T06:51:00.662Z"
   },
   {
    "duration": 192,
    "start_time": "2022-03-18T06:51:18.733Z"
   },
   {
    "duration": 243,
    "start_time": "2022-03-18T06:51:31.191Z"
   },
   {
    "duration": 364,
    "start_time": "2022-03-18T06:51:57.800Z"
   },
   {
    "duration": 410,
    "start_time": "2022-03-18T06:54:00.183Z"
   },
   {
    "duration": 236,
    "start_time": "2022-03-18T06:54:58.280Z"
   },
   {
    "duration": 239,
    "start_time": "2022-03-18T06:56:05.880Z"
   },
   {
    "duration": 236,
    "start_time": "2022-03-18T06:56:28.401Z"
   },
   {
    "duration": 3,
    "start_time": "2022-03-18T06:56:55.177Z"
   },
   {
    "duration": 3,
    "start_time": "2022-03-18T06:58:31.659Z"
   },
   {
    "duration": 335,
    "start_time": "2022-03-18T06:58:53.954Z"
   },
   {
    "duration": 118,
    "start_time": "2022-03-18T06:58:58.290Z"
   },
   {
    "duration": 245,
    "start_time": "2022-03-18T06:59:05.859Z"
   },
   {
    "duration": 3,
    "start_time": "2022-03-18T06:59:44.330Z"
   },
   {
    "duration": 239,
    "start_time": "2022-03-18T06:59:55.243Z"
   },
   {
    "duration": 252,
    "start_time": "2022-03-18T07:00:18.403Z"
   },
   {
    "duration": 1788,
    "start_time": "2022-03-18T07:00:35.115Z"
   },
   {
    "duration": 248,
    "start_time": "2022-03-18T07:02:03.723Z"
   },
   {
    "duration": 344,
    "start_time": "2022-03-18T07:03:05.076Z"
   },
   {
    "duration": 246,
    "start_time": "2022-03-18T07:03:23.333Z"
   },
   {
    "duration": 258,
    "start_time": "2022-03-18T07:04:45.725Z"
   },
   {
    "duration": 1761,
    "start_time": "2022-03-18T07:05:06.845Z"
   },
   {
    "duration": 342,
    "start_time": "2022-03-18T07:05:19.093Z"
   },
   {
    "duration": 668,
    "start_time": "2022-03-18T07:06:43.127Z"
   },
   {
    "duration": 821,
    "start_time": "2022-03-18T07:06:48.358Z"
   },
   {
    "duration": 621,
    "start_time": "2022-03-18T07:06:52.391Z"
   },
   {
    "duration": 629,
    "start_time": "2022-03-18T07:07:01.214Z"
   },
   {
    "duration": 639,
    "start_time": "2022-03-18T07:07:06.494Z"
   },
   {
    "duration": 650,
    "start_time": "2022-03-18T07:07:12.318Z"
   },
   {
    "duration": 813,
    "start_time": "2022-03-18T07:07:18.559Z"
   },
   {
    "duration": 719,
    "start_time": "2022-03-18T07:08:06.151Z"
   },
   {
    "duration": 701,
    "start_time": "2022-03-18T07:09:27.304Z"
   },
   {
    "duration": 708,
    "start_time": "2022-03-18T07:09:50.424Z"
   },
   {
    "duration": 688,
    "start_time": "2022-03-18T07:09:54.864Z"
   },
   {
    "duration": 693,
    "start_time": "2022-03-18T07:10:02.840Z"
   },
   {
    "duration": 1911,
    "start_time": "2022-03-18T07:16:10.732Z"
   },
   {
    "duration": 302,
    "start_time": "2022-03-18T07:17:04.820Z"
   },
   {
    "duration": 303,
    "start_time": "2022-03-18T07:18:49.533Z"
   },
   {
    "duration": 333,
    "start_time": "2022-03-18T07:19:03.110Z"
   },
   {
    "duration": 313,
    "start_time": "2022-03-18T07:19:22.005Z"
   },
   {
    "duration": 436,
    "start_time": "2022-03-18T07:19:43.294Z"
   },
   {
    "duration": 303,
    "start_time": "2022-03-18T07:20:01.974Z"
   },
   {
    "duration": 339,
    "start_time": "2022-03-18T07:20:09.982Z"
   },
   {
    "duration": 304,
    "start_time": "2022-03-18T07:20:18.278Z"
   },
   {
    "duration": 338,
    "start_time": "2022-03-18T07:21:27.828Z"
   },
   {
    "duration": 298,
    "start_time": "2022-03-18T07:21:52.486Z"
   },
   {
    "duration": 452,
    "start_time": "2022-03-18T07:22:51.944Z"
   },
   {
    "duration": 325,
    "start_time": "2022-03-18T07:23:02.167Z"
   },
   {
    "duration": 299,
    "start_time": "2022-03-18T07:23:27.735Z"
   },
   {
    "duration": 290,
    "start_time": "2022-03-18T07:25:19.521Z"
   },
   {
    "duration": 4,
    "start_time": "2022-03-18T07:25:35.592Z"
   },
   {
    "duration": 317,
    "start_time": "2022-03-18T07:26:09.490Z"
   },
   {
    "duration": 291,
    "start_time": "2022-03-18T07:26:57.633Z"
   },
   {
    "duration": 429,
    "start_time": "2022-03-18T07:27:28.218Z"
   },
   {
    "duration": 306,
    "start_time": "2022-03-18T07:27:39.018Z"
   },
   {
    "duration": 318,
    "start_time": "2022-03-18T07:27:46.035Z"
   },
   {
    "duration": 1839,
    "start_time": "2022-03-18T07:28:09.794Z"
   },
   {
    "duration": 6,
    "start_time": "2022-03-18T07:34:18.840Z"
   },
   {
    "duration": 1859,
    "start_time": "2022-03-18T07:34:33.990Z"
   },
   {
    "duration": 1798,
    "start_time": "2022-03-18T07:35:04.495Z"
   },
   {
    "duration": 2011,
    "start_time": "2022-03-18T07:35:33.551Z"
   },
   {
    "duration": 3,
    "start_time": "2022-03-18T07:36:10.558Z"
   },
   {
    "duration": 6,
    "start_time": "2022-03-18T07:39:49.224Z"
   },
   {
    "duration": 1832,
    "start_time": "2022-03-18T07:39:51.128Z"
   },
   {
    "duration": 4,
    "start_time": "2022-03-18T07:42:30.387Z"
   },
   {
    "duration": 4515,
    "start_time": "2022-03-18T07:42:30.994Z"
   },
   {
    "duration": 5,
    "start_time": "2022-03-18T07:42:49.050Z"
   },
   {
    "duration": 4526,
    "start_time": "2022-03-18T07:42:49.722Z"
   },
   {
    "duration": 4,
    "start_time": "2022-03-18T07:43:15.899Z"
   },
   {
    "duration": 4442,
    "start_time": "2022-03-18T07:43:16.470Z"
   },
   {
    "duration": 3,
    "start_time": "2022-03-18T07:43:27.979Z"
   },
   {
    "duration": 4741,
    "start_time": "2022-03-18T07:43:28.442Z"
   },
   {
    "duration": 4,
    "start_time": "2022-03-18T07:43:38.786Z"
   },
   {
    "duration": 4393,
    "start_time": "2022-03-18T07:43:40.266Z"
   },
   {
    "duration": 4,
    "start_time": "2022-03-18T07:43:52.627Z"
   },
   {
    "duration": 4508,
    "start_time": "2022-03-18T07:43:54.699Z"
   },
   {
    "duration": 4,
    "start_time": "2022-03-18T07:44:05.044Z"
   },
   {
    "duration": 4537,
    "start_time": "2022-03-18T07:44:11.915Z"
   },
   {
    "duration": 6,
    "start_time": "2022-03-18T07:46:59.188Z"
   },
   {
    "duration": 304,
    "start_time": "2022-03-18T07:47:11.022Z"
   },
   {
    "duration": 5,
    "start_time": "2022-03-18T07:47:41.389Z"
   },
   {
    "duration": 2075,
    "start_time": "2022-03-18T07:47:42.445Z"
   },
   {
    "duration": 5,
    "start_time": "2022-03-18T07:47:54.541Z"
   },
   {
    "duration": 2185,
    "start_time": "2022-03-18T07:47:56.166Z"
   },
   {
    "duration": 4,
    "start_time": "2022-03-18T07:49:10.368Z"
   },
   {
    "duration": 2306,
    "start_time": "2022-03-18T07:49:11.030Z"
   },
   {
    "duration": 5,
    "start_time": "2022-03-18T07:49:58.582Z"
   },
   {
    "duration": 2191,
    "start_time": "2022-03-18T07:49:59.558Z"
   },
   {
    "duration": 2144,
    "start_time": "2022-03-18T07:50:25.798Z"
   },
   {
    "duration": 2136,
    "start_time": "2022-03-18T07:50:34.608Z"
   },
   {
    "duration": 5,
    "start_time": "2022-03-18T07:50:46.848Z"
   },
   {
    "duration": 2178,
    "start_time": "2022-03-18T07:50:47.374Z"
   },
   {
    "duration": 8,
    "start_time": "2022-03-18T07:51:10.034Z"
   },
   {
    "duration": 2227,
    "start_time": "2022-03-18T07:51:11.534Z"
   },
   {
    "duration": 5,
    "start_time": "2022-03-18T07:51:40.638Z"
   },
   {
    "duration": 2410,
    "start_time": "2022-03-18T07:51:41.703Z"
   },
   {
    "duration": 6,
    "start_time": "2022-03-18T07:51:53.447Z"
   },
   {
    "duration": 2126,
    "start_time": "2022-03-18T07:51:54.679Z"
   },
   {
    "duration": 6,
    "start_time": "2022-03-18T07:52:34.128Z"
   },
   {
    "duration": 2083,
    "start_time": "2022-03-18T07:52:35.016Z"
   },
   {
    "duration": 5,
    "start_time": "2022-03-18T07:54:01.376Z"
   },
   {
    "duration": 2144,
    "start_time": "2022-03-18T07:54:01.888Z"
   },
   {
    "duration": 5,
    "start_time": "2022-03-18T07:54:13.088Z"
   },
   {
    "duration": 2096,
    "start_time": "2022-03-18T07:54:13.416Z"
   },
   {
    "duration": 5,
    "start_time": "2022-03-18T07:54:37.376Z"
   },
   {
    "duration": 2163,
    "start_time": "2022-03-18T07:54:38.848Z"
   },
   {
    "duration": 5,
    "start_time": "2022-03-18T08:07:00.446Z"
   },
   {
    "duration": 2255,
    "start_time": "2022-03-18T08:07:01.294Z"
   },
   {
    "duration": 5,
    "start_time": "2022-03-18T08:07:19.997Z"
   },
   {
    "duration": 5,
    "start_time": "2022-03-18T08:07:30.574Z"
   },
   {
    "duration": 2223,
    "start_time": "2022-03-18T08:07:31.806Z"
   },
   {
    "duration": 4,
    "start_time": "2022-03-18T08:07:44.527Z"
   },
   {
    "duration": 2282,
    "start_time": "2022-03-18T08:07:45.286Z"
   },
   {
    "duration": 4,
    "start_time": "2022-03-18T08:08:13.215Z"
   },
   {
    "duration": 2154,
    "start_time": "2022-03-18T08:08:13.886Z"
   },
   {
    "duration": 5,
    "start_time": "2022-03-18T08:08:33.727Z"
   },
   {
    "duration": 731,
    "start_time": "2022-03-18T08:08:33.990Z"
   },
   {
    "duration": 4,
    "start_time": "2022-03-18T08:09:00.159Z"
   },
   {
    "duration": 2173,
    "start_time": "2022-03-18T08:09:00.462Z"
   },
   {
    "duration": 4,
    "start_time": "2022-03-18T08:09:12.655Z"
   },
   {
    "duration": 2128,
    "start_time": "2022-03-18T08:09:13.007Z"
   },
   {
    "duration": 5,
    "start_time": "2022-03-18T08:09:19.887Z"
   },
   {
    "duration": 2407,
    "start_time": "2022-03-18T08:09:20.743Z"
   },
   {
    "duration": 4,
    "start_time": "2022-03-18T08:09:47.553Z"
   },
   {
    "duration": 758,
    "start_time": "2022-03-18T08:09:47.967Z"
   },
   {
    "duration": 4,
    "start_time": "2022-03-18T08:10:09.071Z"
   },
   {
    "duration": 776,
    "start_time": "2022-03-18T08:10:09.463Z"
   },
   {
    "duration": 5,
    "start_time": "2022-03-18T08:10:15.152Z"
   },
   {
    "duration": 2151,
    "start_time": "2022-03-18T08:10:15.520Z"
   },
   {
    "duration": 4,
    "start_time": "2022-03-18T08:10:40.266Z"
   },
   {
    "duration": 2134,
    "start_time": "2022-03-18T08:10:41.015Z"
   },
   {
    "duration": 5,
    "start_time": "2022-03-18T08:10:48.744Z"
   },
   {
    "duration": 5,
    "start_time": "2022-03-18T08:13:50.746Z"
   },
   {
    "duration": 2226,
    "start_time": "2022-03-18T08:13:51.338Z"
   },
   {
    "duration": 5,
    "start_time": "2022-03-18T08:16:16.419Z"
   },
   {
    "duration": 762,
    "start_time": "2022-03-18T08:16:16.859Z"
   },
   {
    "duration": 5,
    "start_time": "2022-03-18T08:16:24.875Z"
   },
   {
    "duration": 701,
    "start_time": "2022-03-18T08:16:25.523Z"
   },
   {
    "duration": 5,
    "start_time": "2022-03-18T08:16:54.635Z"
   },
   {
    "duration": 893,
    "start_time": "2022-03-18T08:16:55.692Z"
   },
   {
    "duration": 5,
    "start_time": "2022-03-18T08:17:41.251Z"
   },
   {
    "duration": 768,
    "start_time": "2022-03-18T08:17:41.851Z"
   },
   {
    "duration": 4,
    "start_time": "2022-03-18T08:18:35.173Z"
   },
   {
    "duration": 774,
    "start_time": "2022-03-18T08:18:35.748Z"
   },
   {
    "duration": 5,
    "start_time": "2022-03-18T08:18:48.308Z"
   },
   {
    "duration": 729,
    "start_time": "2022-03-18T08:18:49.485Z"
   },
   {
    "duration": 5,
    "start_time": "2022-03-18T08:18:57.756Z"
   },
   {
    "duration": 2167,
    "start_time": "2022-03-18T08:18:58.277Z"
   },
   {
    "duration": 5,
    "start_time": "2022-03-18T08:19:55.261Z"
   },
   {
    "duration": 699,
    "start_time": "2022-03-18T08:19:56.220Z"
   },
   {
    "duration": 5,
    "start_time": "2022-03-18T08:20:14.677Z"
   },
   {
    "duration": 300,
    "start_time": "2022-03-18T08:20:15.461Z"
   },
   {
    "duration": 5,
    "start_time": "2022-03-18T08:20:45.830Z"
   },
   {
    "duration": 803,
    "start_time": "2022-03-18T08:20:46.626Z"
   },
   {
    "duration": 5,
    "start_time": "2022-03-18T08:21:01.871Z"
   },
   {
    "duration": 704,
    "start_time": "2022-03-18T08:21:02.622Z"
   },
   {
    "duration": 5,
    "start_time": "2022-03-18T08:21:58.015Z"
   },
   {
    "duration": 928,
    "start_time": "2022-03-18T08:21:58.591Z"
   },
   {
    "duration": 4,
    "start_time": "2022-03-18T08:22:13.110Z"
   },
   {
    "duration": 1113,
    "start_time": "2022-03-18T08:22:13.630Z"
   },
   {
    "duration": 4,
    "start_time": "2022-03-18T08:22:33.246Z"
   },
   {
    "duration": 2165,
    "start_time": "2022-03-18T08:22:33.782Z"
   },
   {
    "duration": 5,
    "start_time": "2022-03-18T08:22:41.110Z"
   },
   {
    "duration": 2208,
    "start_time": "2022-03-18T08:22:41.542Z"
   },
   {
    "duration": 5,
    "start_time": "2022-03-18T08:23:03.086Z"
   },
   {
    "duration": 2938,
    "start_time": "2022-03-18T08:23:03.614Z"
   },
   {
    "duration": 6,
    "start_time": "2022-03-18T08:23:49.951Z"
   },
   {
    "duration": 2196,
    "start_time": "2022-03-18T08:23:50.567Z"
   },
   {
    "duration": 4,
    "start_time": "2022-03-18T08:24:08.688Z"
   },
   {
    "duration": 2316,
    "start_time": "2022-03-18T08:24:09.159Z"
   },
   {
    "duration": 5,
    "start_time": "2022-03-18T08:25:36.896Z"
   },
   {
    "duration": 491,
    "start_time": "2022-03-18T08:25:37.450Z"
   },
   {
    "duration": 5,
    "start_time": "2022-03-18T08:25:42.488Z"
   },
   {
    "duration": 1290,
    "start_time": "2022-03-18T08:25:42.850Z"
   },
   {
    "duration": 5,
    "start_time": "2022-03-18T08:25:50.424Z"
   },
   {
    "duration": 1928,
    "start_time": "2022-03-18T08:25:51.622Z"
   },
   {
    "duration": 4,
    "start_time": "2022-03-18T08:26:02.649Z"
   },
   {
    "duration": 2314,
    "start_time": "2022-03-18T08:26:03.081Z"
   },
   {
    "duration": 6,
    "start_time": "2022-03-18T08:26:45.753Z"
   },
   {
    "duration": 742,
    "start_time": "2022-03-18T08:26:46.193Z"
   },
   {
    "duration": 5,
    "start_time": "2022-03-18T08:26:54.305Z"
   },
   {
    "duration": 2292,
    "start_time": "2022-03-18T08:26:54.882Z"
   },
   {
    "duration": 4,
    "start_time": "2022-03-18T08:27:41.530Z"
   },
   {
    "duration": 2168,
    "start_time": "2022-03-18T08:27:41.802Z"
   },
   {
    "duration": 4,
    "start_time": "2022-03-18T08:27:49.114Z"
   },
   {
    "duration": 5,
    "start_time": "2022-03-18T08:27:53.858Z"
   },
   {
    "duration": 2197,
    "start_time": "2022-03-18T08:27:54.361Z"
   },
   {
    "duration": 4,
    "start_time": "2022-03-18T08:28:08.042Z"
   },
   {
    "duration": 2153,
    "start_time": "2022-03-18T08:28:08.322Z"
   },
   {
    "duration": 4,
    "start_time": "2022-03-18T08:28:29.059Z"
   },
   {
    "duration": 2241,
    "start_time": "2022-03-18T08:28:29.434Z"
   },
   {
    "duration": 5,
    "start_time": "2022-03-18T08:28:43.947Z"
   },
   {
    "duration": 982,
    "start_time": "2022-03-18T08:28:44.466Z"
   },
   {
    "duration": 5,
    "start_time": "2022-03-18T08:28:48.522Z"
   },
   {
    "duration": 744,
    "start_time": "2022-03-18T08:28:53.028Z"
   },
   {
    "duration": 5,
    "start_time": "2022-03-18T08:29:05.106Z"
   },
   {
    "duration": 2299,
    "start_time": "2022-03-18T08:29:05.683Z"
   },
   {
    "duration": 5,
    "start_time": "2022-03-18T08:30:34.909Z"
   },
   {
    "duration": 2581,
    "start_time": "2022-03-18T08:30:35.515Z"
   },
   {
    "duration": 13,
    "start_time": "2022-03-18T08:53:43.185Z"
   },
   {
    "duration": 3,
    "start_time": "2022-03-18T08:53:46.105Z"
   },
   {
    "duration": 5,
    "start_time": "2022-03-18T08:53:49.738Z"
   },
   {
    "duration": 3,
    "start_time": "2022-03-18T08:54:05.929Z"
   },
   {
    "duration": 2365,
    "start_time": "2022-03-18T08:54:19.417Z"
   },
   {
    "duration": 2497,
    "start_time": "2022-03-18T08:54:26.779Z"
   },
   {
    "duration": 2447,
    "start_time": "2022-03-18T08:54:41.234Z"
   },
   {
    "duration": 4,
    "start_time": "2022-03-18T08:57:17.579Z"
   },
   {
    "duration": 567,
    "start_time": "2022-03-18T08:57:31.316Z"
   },
   {
    "duration": 4,
    "start_time": "2022-03-18T08:57:38.668Z"
   },
   {
    "duration": 310,
    "start_time": "2022-03-18T08:57:39.676Z"
   },
   {
    "duration": 3,
    "start_time": "2022-03-18T08:58:46.453Z"
   },
   {
    "duration": 308,
    "start_time": "2022-03-18T08:58:47.876Z"
   },
   {
    "duration": 332,
    "start_time": "2022-03-18T08:59:08.132Z"
   },
   {
    "duration": 362,
    "start_time": "2022-03-18T08:59:31.321Z"
   },
   {
    "duration": 324,
    "start_time": "2022-03-18T09:00:27.485Z"
   },
   {
    "duration": 3,
    "start_time": "2022-03-18T10:46:04.613Z"
   },
   {
    "duration": 5,
    "start_time": "2022-03-18T10:48:12.048Z"
   },
   {
    "duration": 3,
    "start_time": "2022-03-18T10:48:16.904Z"
   },
   {
    "duration": 5,
    "start_time": "2022-03-18T10:48:26.520Z"
   },
   {
    "duration": 1854,
    "start_time": "2022-03-18T10:48:28.800Z"
   },
   {
    "duration": 5,
    "start_time": "2022-03-18T10:51:28.793Z"
   },
   {
    "duration": 2625,
    "start_time": "2022-03-18T10:51:32.354Z"
   },
   {
    "duration": 13,
    "start_time": "2022-03-18T10:52:54.363Z"
   },
   {
    "duration": 12,
    "start_time": "2022-03-18T11:09:27.926Z"
   },
   {
    "duration": 56,
    "start_time": "2022-03-18T11:09:31.414Z"
   },
   {
    "duration": 53,
    "start_time": "2022-03-18T11:09:46.022Z"
   },
   {
    "duration": 58,
    "start_time": "2022-03-18T11:14:14.208Z"
   },
   {
    "duration": 5,
    "start_time": "2022-03-18T11:17:38.444Z"
   },
   {
    "duration": 85,
    "start_time": "2022-03-18T11:17:52.386Z"
   },
   {
    "duration": 3,
    "start_time": "2022-03-18T11:18:01.099Z"
   },
   {
    "duration": 81,
    "start_time": "2022-03-18T11:18:02.706Z"
   },
   {
    "duration": 4,
    "start_time": "2022-03-18T11:18:54.467Z"
   },
   {
    "duration": 65,
    "start_time": "2022-03-18T11:18:56.516Z"
   },
   {
    "duration": 4,
    "start_time": "2022-03-18T11:19:23.397Z"
   },
   {
    "duration": 99,
    "start_time": "2022-03-18T11:19:26.973Z"
   },
   {
    "duration": 4,
    "start_time": "2022-03-18T11:19:56.499Z"
   },
   {
    "duration": 29,
    "start_time": "2022-03-18T11:19:58.142Z"
   },
   {
    "duration": 3,
    "start_time": "2022-03-18T11:20:08.261Z"
   },
   {
    "duration": 37,
    "start_time": "2022-03-18T11:20:09.676Z"
   },
   {
    "duration": 5,
    "start_time": "2022-03-18T11:20:14.948Z"
   },
   {
    "duration": 78,
    "start_time": "2022-03-18T11:20:16.284Z"
   },
   {
    "duration": 61,
    "start_time": "2022-03-18T11:21:10.570Z"
   },
   {
    "duration": 99,
    "start_time": "2022-03-18T11:21:26.541Z"
   },
   {
    "duration": 398,
    "start_time": "2022-03-18T11:53:30.178Z"
   },
   {
    "duration": 298,
    "start_time": "2022-03-18T11:53:39.354Z"
   },
   {
    "duration": 345,
    "start_time": "2022-03-18T11:53:43.409Z"
   },
   {
    "duration": 45,
    "start_time": "2022-03-18T17:47:18.425Z"
   },
   {
    "duration": 1599,
    "start_time": "2022-03-18T17:47:27.454Z"
   },
   {
    "duration": 329,
    "start_time": "2022-03-18T17:47:29.055Z"
   },
   {
    "duration": 3,
    "start_time": "2022-03-18T17:47:29.385Z"
   },
   {
    "duration": 18,
    "start_time": "2022-03-18T17:47:29.390Z"
   },
   {
    "duration": 63,
    "start_time": "2022-03-18T17:47:29.410Z"
   },
   {
    "duration": 46,
    "start_time": "2022-03-18T17:47:29.474Z"
   },
   {
    "duration": 10,
    "start_time": "2022-03-18T17:47:29.522Z"
   },
   {
    "duration": 35,
    "start_time": "2022-03-18T17:47:29.533Z"
   },
   {
    "duration": 8,
    "start_time": "2022-03-18T17:47:29.569Z"
   },
   {
    "duration": 61,
    "start_time": "2022-03-18T17:47:29.600Z"
   },
   {
    "duration": 55,
    "start_time": "2022-03-18T17:47:29.663Z"
   },
   {
    "duration": 7,
    "start_time": "2022-03-18T17:47:29.719Z"
   },
   {
    "duration": 61,
    "start_time": "2022-03-18T17:47:29.728Z"
   },
   {
    "duration": 31,
    "start_time": "2022-03-18T17:47:29.801Z"
   },
   {
    "duration": 2,
    "start_time": "2022-03-18T17:47:29.834Z"
   },
   {
    "duration": 5,
    "start_time": "2022-03-18T17:47:29.837Z"
   },
   {
    "duration": 5,
    "start_time": "2022-03-18T17:47:29.843Z"
   },
   {
    "duration": 5,
    "start_time": "2022-03-18T17:47:29.849Z"
   },
   {
    "duration": 2269,
    "start_time": "2022-03-18T17:47:29.856Z"
   },
   {
    "duration": 2022,
    "start_time": "2022-03-18T17:47:32.127Z"
   },
   {
    "duration": 313,
    "start_time": "2022-03-18T17:47:34.150Z"
   },
   {
    "duration": 2721,
    "start_time": "2022-03-18T17:47:34.464Z"
   },
   {
    "duration": 1872,
    "start_time": "2022-03-18T17:47:37.186Z"
   },
   {
    "duration": 328,
    "start_time": "2022-03-18T17:47:39.060Z"
   },
   {
    "duration": 3042,
    "start_time": "2022-03-18T17:47:39.390Z"
   },
   {
    "duration": 1971,
    "start_time": "2022-03-18T17:47:42.434Z"
   },
   {
    "duration": 317,
    "start_time": "2022-03-18T17:47:44.407Z"
   },
   {
    "duration": 3,
    "start_time": "2022-03-18T17:47:44.727Z"
   },
   {
    "duration": 9,
    "start_time": "2022-03-18T17:47:44.731Z"
   },
   {
    "duration": 8,
    "start_time": "2022-03-18T17:47:44.741Z"
   },
   {
    "duration": 6,
    "start_time": "2022-03-18T17:47:44.751Z"
   },
   {
    "duration": 55,
    "start_time": "2022-03-18T17:47:44.759Z"
   },
   {
    "duration": 200,
    "start_time": "2022-03-18T17:47:44.816Z"
   },
   {
    "duration": 112,
    "start_time": "2022-03-18T17:47:45.102Z"
   },
   {
    "duration": 4,
    "start_time": "2022-03-18T17:47:45.216Z"
   },
   {
    "duration": 88,
    "start_time": "2022-03-18T17:47:45.222Z"
   },
   {
    "duration": 91,
    "start_time": "2022-03-18T17:47:45.316Z"
   },
   {
    "duration": 5,
    "start_time": "2022-03-18T17:48:44.661Z"
   },
   {
    "duration": 3,
    "start_time": "2022-03-18T17:48:47.030Z"
   },
   {
    "duration": 60,
    "start_time": "2022-03-18T17:48:47.677Z"
   },
   {
    "duration": 10,
    "start_time": "2022-03-18T17:49:49.935Z"
   },
   {
    "duration": 8,
    "start_time": "2022-03-18T17:49:58.954Z"
   },
   {
    "duration": 4,
    "start_time": "2022-03-18T17:55:32.498Z"
   },
   {
    "duration": 333,
    "start_time": "2022-03-18T17:55:32.504Z"
   },
   {
    "duration": 3,
    "start_time": "2022-03-18T17:55:32.839Z"
   },
   {
    "duration": 10,
    "start_time": "2022-03-18T17:55:32.844Z"
   },
   {
    "duration": 72,
    "start_time": "2022-03-18T17:55:32.856Z"
   },
   {
    "duration": 22,
    "start_time": "2022-03-18T17:55:32.929Z"
   },
   {
    "duration": 10,
    "start_time": "2022-03-18T17:55:32.952Z"
   },
   {
    "duration": 50,
    "start_time": "2022-03-18T17:55:32.963Z"
   },
   {
    "duration": 6,
    "start_time": "2022-03-18T17:55:33.014Z"
   },
   {
    "duration": 56,
    "start_time": "2022-03-18T17:55:33.022Z"
   },
   {
    "duration": 45,
    "start_time": "2022-03-18T17:55:33.079Z"
   },
   {
    "duration": 16,
    "start_time": "2022-03-18T17:55:33.126Z"
   },
   {
    "duration": 75,
    "start_time": "2022-03-18T17:55:33.144Z"
   },
   {
    "duration": 29,
    "start_time": "2022-03-18T17:55:33.221Z"
   },
   {
    "duration": 3,
    "start_time": "2022-03-18T17:55:33.252Z"
   },
   {
    "duration": 4,
    "start_time": "2022-03-18T17:55:33.257Z"
   },
   {
    "duration": 7,
    "start_time": "2022-03-18T17:55:33.263Z"
   },
   {
    "duration": 30,
    "start_time": "2022-03-18T17:55:33.271Z"
   },
   {
    "duration": 2406,
    "start_time": "2022-03-18T17:55:33.303Z"
   },
   {
    "duration": 1896,
    "start_time": "2022-03-18T17:55:35.711Z"
   },
   {
    "duration": 311,
    "start_time": "2022-03-18T17:55:37.608Z"
   },
   {
    "duration": 2521,
    "start_time": "2022-03-18T17:55:37.921Z"
   },
   {
    "duration": 1788,
    "start_time": "2022-03-18T17:55:40.444Z"
   },
   {
    "duration": 288,
    "start_time": "2022-03-18T17:55:42.234Z"
   },
   {
    "duration": 2417,
    "start_time": "2022-03-18T17:55:42.524Z"
   },
   {
    "duration": 1931,
    "start_time": "2022-03-18T17:55:44.944Z"
   },
   {
    "duration": 381,
    "start_time": "2022-03-18T17:55:46.877Z"
   },
   {
    "duration": 3,
    "start_time": "2022-03-18T17:55:47.260Z"
   },
   {
    "duration": 9,
    "start_time": "2022-03-18T17:55:47.264Z"
   },
   {
    "duration": 7,
    "start_time": "2022-03-18T17:55:47.274Z"
   },
   {
    "duration": 20,
    "start_time": "2022-03-18T17:55:47.282Z"
   },
   {
    "duration": 28,
    "start_time": "2022-03-18T17:55:47.304Z"
   },
   {
    "duration": 179,
    "start_time": "2022-03-18T17:55:47.334Z"
   },
   {
    "duration": 191,
    "start_time": "2022-03-18T17:55:47.515Z"
   },
   {
    "duration": 3,
    "start_time": "2022-03-18T17:55:47.708Z"
   },
   {
    "duration": 6,
    "start_time": "2022-03-18T17:55:47.802Z"
   },
   {
    "duration": 92,
    "start_time": "2022-03-18T17:55:47.810Z"
   },
   {
    "duration": 4,
    "start_time": "2022-03-18T17:55:47.904Z"
   },
   {
    "duration": 10,
    "start_time": "2022-03-18T17:55:47.910Z"
   },
   {
    "duration": 10,
    "start_time": "2022-03-18T17:55:47.922Z"
   },
   {
    "duration": 6,
    "start_time": "2022-03-18T17:55:47.936Z"
   },
   {
    "duration": 5,
    "start_time": "2022-03-18T18:00:08.889Z"
   },
   {
    "duration": 2,
    "start_time": "2022-03-18T18:00:09.353Z"
   },
   {
    "duration": 11,
    "start_time": "2022-03-18T18:00:09.725Z"
   },
   {
    "duration": 8,
    "start_time": "2022-03-18T18:00:10.120Z"
   },
   {
    "duration": 3,
    "start_time": "2022-03-18T18:13:45.428Z"
   },
   {
    "duration": 6,
    "start_time": "2022-03-18T18:13:48.302Z"
   },
   {
    "duration": 632,
    "start_time": "2022-03-18T18:13:57.109Z"
   },
   {
    "duration": 6,
    "start_time": "2022-03-18T18:14:18.217Z"
   },
   {
    "duration": 630,
    "start_time": "2022-03-18T18:14:18.797Z"
   },
   {
    "duration": 6,
    "start_time": "2022-03-18T18:14:55.492Z"
   },
   {
    "duration": 619,
    "start_time": "2022-03-18T18:14:56.005Z"
   },
   {
    "duration": 6,
    "start_time": "2022-03-18T18:24:53.416Z"
   },
   {
    "duration": 626,
    "start_time": "2022-03-18T18:24:54.146Z"
   },
   {
    "duration": 630,
    "start_time": "2022-03-18T18:24:59.116Z"
   },
   {
    "duration": 637,
    "start_time": "2022-03-18T18:25:18.264Z"
   },
   {
    "duration": 614,
    "start_time": "2022-03-18T18:25:34.853Z"
   },
   {
    "duration": 12,
    "start_time": "2022-03-18T18:38:04.024Z"
   },
   {
    "duration": 150,
    "start_time": "2022-03-18T18:38:15.191Z"
   },
   {
    "duration": 146,
    "start_time": "2022-03-18T18:38:20.046Z"
   },
   {
    "duration": 136,
    "start_time": "2022-03-18T18:38:37.649Z"
   },
   {
    "duration": 435,
    "start_time": "2022-03-18T18:39:12.227Z"
   },
   {
    "duration": 511,
    "start_time": "2022-03-18T18:39:53.339Z"
   },
   {
    "duration": 605,
    "start_time": "2022-03-18T18:40:02.012Z"
   },
   {
    "duration": 146,
    "start_time": "2022-03-18T18:51:09.885Z"
   },
   {
    "duration": 600,
    "start_time": "2022-03-18T18:51:22.808Z"
   },
   {
    "duration": 618,
    "start_time": "2022-03-18T18:58:13.358Z"
   },
   {
    "duration": 230,
    "start_time": "2022-03-18T18:58:24.600Z"
   },
   {
    "duration": 714,
    "start_time": "2022-03-18T18:58:44.821Z"
   },
   {
    "duration": 618,
    "start_time": "2022-03-18T18:58:49.536Z"
   },
   {
    "duration": 627,
    "start_time": "2022-03-18T18:59:00.974Z"
   },
   {
    "duration": 536,
    "start_time": "2022-03-18T19:00:34.994Z"
   },
   {
    "duration": 602,
    "start_time": "2022-03-18T19:04:45.685Z"
   },
   {
    "duration": 3,
    "start_time": "2022-03-18T19:49:59.617Z"
   },
   {
    "duration": 305,
    "start_time": "2022-03-18T19:49:59.622Z"
   },
   {
    "duration": 4,
    "start_time": "2022-03-18T19:49:59.929Z"
   },
   {
    "duration": 9,
    "start_time": "2022-03-18T19:49:59.935Z"
   },
   {
    "duration": 84,
    "start_time": "2022-03-18T19:49:59.945Z"
   },
   {
    "duration": 23,
    "start_time": "2022-03-18T19:50:00.031Z"
   },
   {
    "duration": 10,
    "start_time": "2022-03-18T19:50:00.056Z"
   },
   {
    "duration": 47,
    "start_time": "2022-03-18T19:50:00.068Z"
   },
   {
    "duration": 6,
    "start_time": "2022-03-18T19:50:00.118Z"
   },
   {
    "duration": 79,
    "start_time": "2022-03-18T19:50:00.126Z"
   },
   {
    "duration": 30,
    "start_time": "2022-03-18T19:50:00.207Z"
   },
   {
    "duration": 7,
    "start_time": "2022-03-18T19:50:00.239Z"
   },
   {
    "duration": 81,
    "start_time": "2022-03-18T19:50:00.248Z"
   },
   {
    "duration": 31,
    "start_time": "2022-03-18T19:50:00.331Z"
   },
   {
    "duration": 3,
    "start_time": "2022-03-18T19:50:00.363Z"
   },
   {
    "duration": 11,
    "start_time": "2022-03-18T19:50:00.367Z"
   },
   {
    "duration": 5,
    "start_time": "2022-03-18T19:50:00.380Z"
   },
   {
    "duration": 5,
    "start_time": "2022-03-18T19:50:00.401Z"
   },
   {
    "duration": 2242,
    "start_time": "2022-03-18T19:50:00.408Z"
   },
   {
    "duration": 1792,
    "start_time": "2022-03-18T19:50:02.651Z"
   },
   {
    "duration": 325,
    "start_time": "2022-03-18T19:50:04.446Z"
   },
   {
    "duration": 2394,
    "start_time": "2022-03-18T19:50:04.773Z"
   },
   {
    "duration": 1916,
    "start_time": "2022-03-18T19:50:07.169Z"
   },
   {
    "duration": 322,
    "start_time": "2022-03-18T19:50:09.088Z"
   },
   {
    "duration": 2304,
    "start_time": "2022-03-18T19:50:09.412Z"
   },
   {
    "duration": 1839,
    "start_time": "2022-03-18T19:50:11.717Z"
   },
   {
    "duration": 322,
    "start_time": "2022-03-18T19:50:13.558Z"
   },
   {
    "duration": 2,
    "start_time": "2022-03-18T19:50:13.882Z"
   },
   {
    "duration": 17,
    "start_time": "2022-03-18T19:50:13.886Z"
   },
   {
    "duration": 8,
    "start_time": "2022-03-18T19:50:13.905Z"
   },
   {
    "duration": 4,
    "start_time": "2022-03-18T19:50:13.915Z"
   },
   {
    "duration": 23,
    "start_time": "2022-03-18T19:50:13.921Z"
   },
   {
    "duration": 113,
    "start_time": "2022-03-18T19:50:14.000Z"
   },
   {
    "duration": 195,
    "start_time": "2022-03-18T19:50:14.115Z"
   },
   {
    "duration": 4,
    "start_time": "2022-03-18T19:50:14.312Z"
   },
   {
    "duration": 6,
    "start_time": "2022-03-18T19:50:14.401Z"
   },
   {
    "duration": 96,
    "start_time": "2022-03-18T19:50:14.409Z"
   },
   {
    "duration": 5,
    "start_time": "2022-03-18T19:50:14.506Z"
   },
   {
    "duration": 7,
    "start_time": "2022-03-18T19:50:14.512Z"
   },
   {
    "duration": 11,
    "start_time": "2022-03-18T19:50:14.521Z"
   },
   {
    "duration": 7,
    "start_time": "2022-03-18T19:50:14.533Z"
   },
   {
    "duration": 3,
    "start_time": "2022-03-18T19:50:14.541Z"
   },
   {
    "duration": 12,
    "start_time": "2022-03-18T19:50:14.545Z"
   },
   {
    "duration": 659,
    "start_time": "2022-03-18T19:50:14.559Z"
   },
   {
    "duration": 623,
    "start_time": "2022-03-18T19:50:15.219Z"
   },
   {
    "duration": 646,
    "start_time": "2022-03-18T19:50:15.844Z"
   },
   {
    "duration": 612,
    "start_time": "2022-03-18T19:50:16.492Z"
   },
   {
    "duration": 3,
    "start_time": "2022-03-18T19:52:19.624Z"
   },
   {
    "duration": 321,
    "start_time": "2022-03-18T19:52:19.632Z"
   },
   {
    "duration": 4,
    "start_time": "2022-03-18T19:52:19.955Z"
   },
   {
    "duration": 10,
    "start_time": "2022-03-18T19:52:19.960Z"
   },
   {
    "duration": 63,
    "start_time": "2022-03-18T19:52:19.971Z"
   },
   {
    "duration": 20,
    "start_time": "2022-03-18T19:52:20.036Z"
   },
   {
    "duration": 10,
    "start_time": "2022-03-18T19:52:20.058Z"
   },
   {
    "duration": 46,
    "start_time": "2022-03-18T19:52:20.069Z"
   },
   {
    "duration": 6,
    "start_time": "2022-03-18T19:52:20.117Z"
   },
   {
    "duration": 53,
    "start_time": "2022-03-18T19:52:20.124Z"
   },
   {
    "duration": 47,
    "start_time": "2022-03-18T19:52:20.179Z"
   },
   {
    "duration": 7,
    "start_time": "2022-03-18T19:52:20.228Z"
   },
   {
    "duration": 76,
    "start_time": "2022-03-18T19:52:20.236Z"
   },
   {
    "duration": 32,
    "start_time": "2022-03-18T19:52:20.313Z"
   },
   {
    "duration": 2,
    "start_time": "2022-03-18T19:52:20.348Z"
   },
   {
    "duration": 6,
    "start_time": "2022-03-18T19:52:20.352Z"
   },
   {
    "duration": 6,
    "start_time": "2022-03-18T19:52:20.359Z"
   },
   {
    "duration": 5,
    "start_time": "2022-03-18T19:52:20.367Z"
   },
   {
    "duration": 2274,
    "start_time": "2022-03-18T19:52:20.374Z"
   },
   {
    "duration": 1796,
    "start_time": "2022-03-18T19:52:22.649Z"
   },
   {
    "duration": 320,
    "start_time": "2022-03-18T19:52:24.447Z"
   },
   {
    "duration": 2262,
    "start_time": "2022-03-18T19:52:24.768Z"
   },
   {
    "duration": 1781,
    "start_time": "2022-03-18T19:52:27.031Z"
   },
   {
    "duration": 281,
    "start_time": "2022-03-18T19:52:28.814Z"
   },
   {
    "duration": 2310,
    "start_time": "2022-03-18T19:52:29.100Z"
   },
   {
    "duration": 1929,
    "start_time": "2022-03-18T19:52:31.412Z"
   },
   {
    "duration": 315,
    "start_time": "2022-03-18T19:52:33.343Z"
   },
   {
    "duration": 3,
    "start_time": "2022-03-18T19:52:33.660Z"
   },
   {
    "duration": 12,
    "start_time": "2022-03-18T19:52:33.664Z"
   },
   {
    "duration": 8,
    "start_time": "2022-03-18T19:52:33.677Z"
   },
   {
    "duration": 15,
    "start_time": "2022-03-18T19:52:33.686Z"
   },
   {
    "duration": 102,
    "start_time": "2022-03-18T19:52:33.702Z"
   },
   {
    "duration": 116,
    "start_time": "2022-03-18T19:52:33.806Z"
   },
   {
    "duration": 124,
    "start_time": "2022-03-18T19:52:34.000Z"
   },
   {
    "duration": 77,
    "start_time": "2022-03-18T19:52:34.126Z"
   },
   {
    "duration": 97,
    "start_time": "2022-03-18T19:52:34.206Z"
   },
   {
    "duration": 10,
    "start_time": "2022-03-18T19:52:34.305Z"
   },
   {
    "duration": 5,
    "start_time": "2022-03-18T19:52:34.317Z"
   },
   {
    "duration": 5,
    "start_time": "2022-03-18T19:52:34.323Z"
   },
   {
    "duration": 11,
    "start_time": "2022-03-18T19:52:34.330Z"
   },
   {
    "duration": 7,
    "start_time": "2022-03-18T19:52:34.342Z"
   },
   {
    "duration": 6,
    "start_time": "2022-03-18T19:52:34.353Z"
   },
   {
    "duration": 11,
    "start_time": "2022-03-18T19:52:34.360Z"
   },
   {
    "duration": 651,
    "start_time": "2022-03-18T19:52:34.372Z"
   },
   {
    "duration": 652,
    "start_time": "2022-03-18T19:52:35.025Z"
   },
   {
    "duration": 671,
    "start_time": "2022-03-18T19:52:35.678Z"
   },
   {
    "duration": 569,
    "start_time": "2022-03-18T19:52:36.350Z"
   },
   {
    "duration": 4,
    "start_time": "2022-03-18T19:53:02.239Z"
   },
   {
    "duration": 321,
    "start_time": "2022-03-18T19:53:02.245Z"
   },
   {
    "duration": 3,
    "start_time": "2022-03-18T19:53:02.568Z"
   },
   {
    "duration": 9,
    "start_time": "2022-03-18T19:53:02.573Z"
   },
   {
    "duration": 66,
    "start_time": "2022-03-18T19:53:02.583Z"
   },
   {
    "duration": 20,
    "start_time": "2022-03-18T19:53:02.651Z"
   },
   {
    "duration": 29,
    "start_time": "2022-03-18T19:53:02.673Z"
   },
   {
    "duration": 30,
    "start_time": "2022-03-18T19:53:02.703Z"
   },
   {
    "duration": 7,
    "start_time": "2022-03-18T19:53:02.735Z"
   },
   {
    "duration": 72,
    "start_time": "2022-03-18T19:53:02.743Z"
   },
   {
    "duration": 29,
    "start_time": "2022-03-18T19:53:02.817Z"
   },
   {
    "duration": 7,
    "start_time": "2022-03-18T19:53:02.847Z"
   },
   {
    "duration": 77,
    "start_time": "2022-03-18T19:53:02.855Z"
   },
   {
    "duration": 29,
    "start_time": "2022-03-18T19:53:02.934Z"
   },
   {
    "duration": 2,
    "start_time": "2022-03-18T19:53:02.965Z"
   },
   {
    "duration": 5,
    "start_time": "2022-03-18T19:53:02.969Z"
   },
   {
    "duration": 26,
    "start_time": "2022-03-18T19:53:02.975Z"
   },
   {
    "duration": 6,
    "start_time": "2022-03-18T19:53:03.002Z"
   },
   {
    "duration": 2219,
    "start_time": "2022-03-18T19:53:03.009Z"
   },
   {
    "duration": 1848,
    "start_time": "2022-03-18T19:53:05.230Z"
   },
   {
    "duration": 312,
    "start_time": "2022-03-18T19:53:07.080Z"
   },
   {
    "duration": 2358,
    "start_time": "2022-03-18T19:53:07.393Z"
   },
   {
    "duration": 1755,
    "start_time": "2022-03-18T19:53:09.753Z"
   },
   {
    "duration": 285,
    "start_time": "2022-03-18T19:53:11.511Z"
   },
   {
    "duration": 2222,
    "start_time": "2022-03-18T19:53:11.801Z"
   },
   {
    "duration": 1782,
    "start_time": "2022-03-18T19:53:14.024Z"
   },
   {
    "duration": 315,
    "start_time": "2022-03-18T19:53:15.808Z"
   },
   {
    "duration": 3,
    "start_time": "2022-03-18T19:53:16.125Z"
   },
   {
    "duration": 10,
    "start_time": "2022-03-18T19:53:16.130Z"
   },
   {
    "duration": 7,
    "start_time": "2022-03-18T19:53:16.141Z"
   },
   {
    "duration": 5,
    "start_time": "2022-03-18T19:53:16.150Z"
   },
   {
    "duration": 46,
    "start_time": "2022-03-18T19:53:16.156Z"
   },
   {
    "duration": 202,
    "start_time": "2022-03-18T19:53:16.203Z"
   },
   {
    "duration": 194,
    "start_time": "2022-03-18T19:53:16.407Z"
   },
   {
    "duration": 3,
    "start_time": "2022-03-18T19:53:16.603Z"
   },
   {
    "duration": 99,
    "start_time": "2022-03-18T19:53:16.608Z"
   },
   {
    "duration": 8,
    "start_time": "2022-03-18T19:53:16.708Z"
   },
   {
    "duration": 4,
    "start_time": "2022-03-18T19:53:16.718Z"
   },
   {
    "duration": 6,
    "start_time": "2022-03-18T19:53:16.723Z"
   },
   {
    "duration": 10,
    "start_time": "2022-03-18T19:53:16.730Z"
   },
   {
    "duration": 8,
    "start_time": "2022-03-18T19:53:16.741Z"
   },
   {
    "duration": 8,
    "start_time": "2022-03-18T19:53:16.750Z"
   },
   {
    "duration": 12,
    "start_time": "2022-03-18T19:53:16.759Z"
   },
   {
    "duration": 629,
    "start_time": "2022-03-18T19:53:16.772Z"
   },
   {
    "duration": 630,
    "start_time": "2022-03-18T19:53:17.402Z"
   },
   {
    "duration": 639,
    "start_time": "2022-03-18T19:53:18.034Z"
   },
   {
    "duration": 622,
    "start_time": "2022-03-18T19:53:18.675Z"
   },
   {
    "duration": 3,
    "start_time": "2022-03-18T19:58:57.436Z"
   },
   {
    "duration": 320,
    "start_time": "2022-03-18T19:58:57.441Z"
   },
   {
    "duration": 3,
    "start_time": "2022-03-18T19:58:57.763Z"
   },
   {
    "duration": 8,
    "start_time": "2022-03-18T19:58:57.768Z"
   },
   {
    "duration": 74,
    "start_time": "2022-03-18T19:58:57.777Z"
   },
   {
    "duration": 21,
    "start_time": "2022-03-18T19:58:57.853Z"
   },
   {
    "duration": 26,
    "start_time": "2022-03-18T19:58:57.876Z"
   },
   {
    "duration": 29,
    "start_time": "2022-03-18T19:58:57.904Z"
   },
   {
    "duration": 7,
    "start_time": "2022-03-18T19:58:57.935Z"
   },
   {
    "duration": 70,
    "start_time": "2022-03-18T19:58:57.943Z"
   },
   {
    "duration": 29,
    "start_time": "2022-03-18T19:58:58.015Z"
   },
   {
    "duration": 6,
    "start_time": "2022-03-18T19:58:58.046Z"
   },
   {
    "duration": 80,
    "start_time": "2022-03-18T19:58:58.053Z"
   },
   {
    "duration": 30,
    "start_time": "2022-03-18T19:58:58.134Z"
   },
   {
    "duration": 2,
    "start_time": "2022-03-18T19:58:58.165Z"
   },
   {
    "duration": 20,
    "start_time": "2022-03-18T19:58:58.169Z"
   },
   {
    "duration": 33,
    "start_time": "2022-03-18T19:58:58.190Z"
   },
   {
    "duration": 24,
    "start_time": "2022-03-18T19:58:58.224Z"
   },
   {
    "duration": 2160,
    "start_time": "2022-03-18T19:58:58.250Z"
   },
   {
    "duration": 1789,
    "start_time": "2022-03-18T19:59:00.412Z"
   },
   {
    "duration": 288,
    "start_time": "2022-03-18T19:59:02.202Z"
   },
   {
    "duration": 2267,
    "start_time": "2022-03-18T19:59:02.491Z"
   },
   {
    "duration": 1819,
    "start_time": "2022-03-18T19:59:04.759Z"
   },
   {
    "duration": 403,
    "start_time": "2022-03-18T19:59:06.581Z"
   },
   {
    "duration": 2230,
    "start_time": "2022-03-18T19:59:06.985Z"
   },
   {
    "duration": 1799,
    "start_time": "2022-03-18T19:59:09.217Z"
   },
   {
    "duration": 283,
    "start_time": "2022-03-18T19:59:11.018Z"
   },
   {
    "duration": 2,
    "start_time": "2022-03-18T19:59:11.303Z"
   },
   {
    "duration": 9,
    "start_time": "2022-03-18T19:59:11.307Z"
   },
   {
    "duration": 7,
    "start_time": "2022-03-18T19:59:11.317Z"
   },
   {
    "duration": 5,
    "start_time": "2022-03-18T19:59:11.325Z"
   },
   {
    "duration": 70,
    "start_time": "2022-03-18T19:59:11.332Z"
   },
   {
    "duration": 110,
    "start_time": "2022-03-18T19:59:11.404Z"
   },
   {
    "duration": 188,
    "start_time": "2022-03-18T19:59:11.517Z"
   },
   {
    "duration": 3,
    "start_time": "2022-03-18T19:59:11.707Z"
   },
   {
    "duration": 5,
    "start_time": "2022-03-18T19:59:11.803Z"
   },
   {
    "duration": 11,
    "start_time": "2022-03-18T19:59:11.810Z"
   },
   {
    "duration": 78,
    "start_time": "2022-03-18T19:59:11.824Z"
   },
   {
    "duration": 6,
    "start_time": "2022-03-18T19:59:11.904Z"
   },
   {
    "duration": 11,
    "start_time": "2022-03-18T19:59:11.911Z"
   },
   {
    "duration": 8,
    "start_time": "2022-03-18T19:59:11.923Z"
   },
   {
    "duration": 2,
    "start_time": "2022-03-18T19:59:11.933Z"
   },
   {
    "duration": 6,
    "start_time": "2022-03-18T19:59:11.937Z"
   },
   {
    "duration": 667,
    "start_time": "2022-03-18T19:59:11.945Z"
   },
   {
    "duration": 630,
    "start_time": "2022-03-18T19:59:12.613Z"
   },
   {
    "duration": 642,
    "start_time": "2022-03-18T19:59:13.244Z"
   },
   {
    "duration": 526,
    "start_time": "2022-03-18T19:59:13.888Z"
   },
   {
    "duration": 2110,
    "start_time": "2022-03-20T11:51:08.710Z"
   },
   {
    "duration": 652,
    "start_time": "2022-03-20T11:51:10.824Z"
   },
   {
    "duration": 5,
    "start_time": "2022-03-20T11:51:11.478Z"
   },
   {
    "duration": 23,
    "start_time": "2022-03-20T11:51:11.484Z"
   },
   {
    "duration": 143,
    "start_time": "2022-03-20T11:51:11.510Z"
   },
   {
    "duration": 45,
    "start_time": "2022-03-20T11:51:11.667Z"
   },
   {
    "duration": 18,
    "start_time": "2022-03-20T11:51:11.716Z"
   },
   {
    "duration": 92,
    "start_time": "2022-03-20T11:51:11.737Z"
   },
   {
    "duration": 13,
    "start_time": "2022-03-20T11:51:11.831Z"
   },
   {
    "duration": 130,
    "start_time": "2022-03-20T11:51:11.846Z"
   },
   {
    "duration": 48,
    "start_time": "2022-03-20T11:51:11.978Z"
   },
   {
    "duration": 14,
    "start_time": "2022-03-20T11:51:12.028Z"
   },
   {
    "duration": 147,
    "start_time": "2022-03-20T11:51:12.044Z"
   },
   {
    "duration": 50,
    "start_time": "2022-03-20T11:51:12.197Z"
   },
   {
    "duration": 20,
    "start_time": "2022-03-20T11:51:12.250Z"
   },
   {
    "duration": 8,
    "start_time": "2022-03-20T11:51:12.273Z"
   },
   {
    "duration": 6,
    "start_time": "2022-03-20T11:51:12.284Z"
   },
   {
    "duration": 12,
    "start_time": "2022-03-20T11:51:12.292Z"
   },
   {
    "duration": 3545,
    "start_time": "2022-03-20T11:51:12.307Z"
   },
   {
    "duration": 5334,
    "start_time": "2022-03-20T11:51:15.855Z"
   },
   {
    "duration": 479,
    "start_time": "2022-03-20T11:51:21.192Z"
   },
   {
    "duration": 3364,
    "start_time": "2022-03-20T11:51:21.673Z"
   },
   {
    "duration": 3086,
    "start_time": "2022-03-20T11:51:25.040Z"
   },
   {
    "duration": 475,
    "start_time": "2022-03-20T11:51:28.129Z"
   },
   {
    "duration": 3436,
    "start_time": "2022-03-20T11:51:28.606Z"
   },
   {
    "duration": 3186,
    "start_time": "2022-03-20T11:51:32.045Z"
   },
   {
    "duration": 485,
    "start_time": "2022-03-20T11:51:35.233Z"
   },
   {
    "duration": 5,
    "start_time": "2022-03-20T11:51:35.721Z"
   },
   {
    "duration": 15,
    "start_time": "2022-03-20T11:51:35.729Z"
   },
   {
    "duration": 24,
    "start_time": "2022-03-20T11:51:35.747Z"
   },
   {
    "duration": 7,
    "start_time": "2022-03-20T11:51:35.775Z"
   },
   {
    "duration": 92,
    "start_time": "2022-03-20T11:51:35.786Z"
   },
   {
    "duration": 38,
    "start_time": "2022-03-20T11:51:35.967Z"
   },
   {
    "duration": 196,
    "start_time": "2022-03-20T11:51:36.071Z"
   },
   {
    "duration": 8,
    "start_time": "2022-03-20T11:51:36.271Z"
   },
   {
    "duration": 99,
    "start_time": "2022-03-20T11:51:36.281Z"
   },
   {
    "duration": 16,
    "start_time": "2022-03-20T11:51:36.382Z"
   },
   {
    "duration": 10,
    "start_time": "2022-03-20T11:51:36.400Z"
   },
   {
    "duration": 13,
    "start_time": "2022-03-20T11:51:36.412Z"
   },
   {
    "duration": 47,
    "start_time": "2022-03-20T11:51:36.427Z"
   },
   {
    "duration": 12,
    "start_time": "2022-03-20T11:51:36.480Z"
   },
   {
    "duration": 7,
    "start_time": "2022-03-20T11:51:36.494Z"
   },
   {
    "duration": 13,
    "start_time": "2022-03-20T11:51:36.503Z"
   },
   {
    "duration": 1982,
    "start_time": "2022-03-20T11:51:49.689Z"
   },
   {
    "duration": 14,
    "start_time": "2022-03-20T11:51:59.701Z"
   },
   {
    "duration": 1171,
    "start_time": "2022-03-20T11:52:02.168Z"
   },
   {
    "duration": 9,
    "start_time": "2022-03-20T11:52:52.322Z"
   },
   {
    "duration": 1168,
    "start_time": "2022-03-20T11:52:54.300Z"
   },
   {
    "duration": 3,
    "start_time": "2022-03-20T12:01:30.882Z"
   },
   {
    "duration": 5,
    "start_time": "2022-03-20T12:01:51.536Z"
   },
   {
    "duration": 13,
    "start_time": "2022-03-20T12:01:53.943Z"
   },
   {
    "duration": 7,
    "start_time": "2022-03-20T12:04:07.838Z"
   },
   {
    "duration": 4,
    "start_time": "2022-03-20T12:04:08.382Z"
   },
   {
    "duration": 16,
    "start_time": "2022-03-20T12:04:09.216Z"
   },
   {
    "duration": 20,
    "start_time": "2022-03-20T12:04:10.431Z"
   },
   {
    "duration": 4,
    "start_time": "2022-03-20T12:04:40.591Z"
   },
   {
    "duration": 4,
    "start_time": "2022-03-20T12:22:22.849Z"
   },
   {
    "duration": 5,
    "start_time": "2022-03-20T12:22:45.467Z"
   },
   {
    "duration": 460,
    "start_time": "2022-03-20T12:22:45.475Z"
   },
   {
    "duration": 4,
    "start_time": "2022-03-20T12:22:45.938Z"
   },
   {
    "duration": 35,
    "start_time": "2022-03-20T12:22:45.945Z"
   },
   {
    "duration": 149,
    "start_time": "2022-03-20T12:22:45.984Z"
   },
   {
    "duration": 54,
    "start_time": "2022-03-20T12:22:46.136Z"
   },
   {
    "duration": 17,
    "start_time": "2022-03-20T12:22:46.192Z"
   },
   {
    "duration": 70,
    "start_time": "2022-03-20T12:22:46.211Z"
   },
   {
    "duration": 12,
    "start_time": "2022-03-20T12:22:46.283Z"
   },
   {
    "duration": 121,
    "start_time": "2022-03-20T12:22:46.298Z"
   },
   {
    "duration": 62,
    "start_time": "2022-03-20T12:22:46.421Z"
   },
   {
    "duration": 11,
    "start_time": "2022-03-20T12:22:46.486Z"
   },
   {
    "duration": 133,
    "start_time": "2022-03-20T12:22:46.500Z"
   },
   {
    "duration": 56,
    "start_time": "2022-03-20T12:22:46.638Z"
   },
   {
    "duration": 4,
    "start_time": "2022-03-20T12:22:46.696Z"
   },
   {
    "duration": 9,
    "start_time": "2022-03-20T12:22:46.703Z"
   },
   {
    "duration": 9,
    "start_time": "2022-03-20T12:22:46.714Z"
   },
   {
    "duration": 42,
    "start_time": "2022-03-20T12:22:46.726Z"
   },
   {
    "duration": 3420,
    "start_time": "2022-03-20T12:22:46.770Z"
   },
   {
    "duration": 3121,
    "start_time": "2022-03-20T12:22:50.192Z"
   },
   {
    "duration": 467,
    "start_time": "2022-03-20T12:22:53.316Z"
   },
   {
    "duration": 3246,
    "start_time": "2022-03-20T12:22:53.786Z"
   },
   {
    "duration": 3205,
    "start_time": "2022-03-20T12:22:57.036Z"
   },
   {
    "duration": 452,
    "start_time": "2022-03-20T12:23:00.243Z"
   },
   {
    "duration": 3759,
    "start_time": "2022-03-20T12:23:00.697Z"
   },
   {
    "duration": 3157,
    "start_time": "2022-03-20T12:23:04.459Z"
   },
   {
    "duration": 467,
    "start_time": "2022-03-20T12:23:07.619Z"
   },
   {
    "duration": 4,
    "start_time": "2022-03-20T12:23:08.089Z"
   },
   {
    "duration": 12,
    "start_time": "2022-03-20T12:23:08.096Z"
   },
   {
    "duration": 10,
    "start_time": "2022-03-20T12:23:08.111Z"
   },
   {
    "duration": 44,
    "start_time": "2022-03-20T12:23:08.124Z"
   },
   {
    "duration": 104,
    "start_time": "2022-03-20T12:23:08.171Z"
   },
   {
    "duration": 118,
    "start_time": "2022-03-20T12:23:08.278Z"
   },
   {
    "duration": 129,
    "start_time": "2022-03-20T12:23:08.470Z"
   },
   {
    "duration": 5,
    "start_time": "2022-03-20T12:23:08.667Z"
   },
   {
    "duration": 99,
    "start_time": "2022-03-20T12:23:08.677Z"
   },
   {
    "duration": 17,
    "start_time": "2022-03-20T12:23:08.779Z"
   },
   {
    "duration": 10,
    "start_time": "2022-03-20T12:23:08.799Z"
   },
   {
    "duration": 21,
    "start_time": "2022-03-20T12:23:08.812Z"
   },
   {
    "duration": 43,
    "start_time": "2022-03-20T12:23:08.835Z"
   },
   {
    "duration": 14,
    "start_time": "2022-03-20T12:23:08.886Z"
   },
   {
    "duration": 5,
    "start_time": "2022-03-20T12:23:08.903Z"
   },
   {
    "duration": 17,
    "start_time": "2022-03-20T12:23:08.910Z"
   },
   {
    "duration": 1197,
    "start_time": "2022-03-20T12:23:08.929Z"
   },
   {
    "duration": 1214,
    "start_time": "2022-03-20T12:23:10.129Z"
   },
   {
    "duration": 1183,
    "start_time": "2022-03-20T12:23:11.346Z"
   },
   {
    "duration": 1045,
    "start_time": "2022-03-20T12:23:12.532Z"
   },
   {
    "duration": 5,
    "start_time": "2022-03-20T12:25:29.029Z"
   },
   {
    "duration": 432,
    "start_time": "2022-03-20T12:25:29.037Z"
   },
   {
    "duration": 5,
    "start_time": "2022-03-20T12:25:29.471Z"
   },
   {
    "duration": 13,
    "start_time": "2022-03-20T12:25:29.480Z"
   },
   {
    "duration": 146,
    "start_time": "2022-03-20T12:25:29.495Z"
   },
   {
    "duration": 55,
    "start_time": "2022-03-20T12:25:29.644Z"
   },
   {
    "duration": 18,
    "start_time": "2022-03-20T12:25:29.703Z"
   },
   {
    "duration": 88,
    "start_time": "2022-03-20T12:25:29.724Z"
   },
   {
    "duration": 16,
    "start_time": "2022-03-20T12:25:29.815Z"
   },
   {
    "duration": 134,
    "start_time": "2022-03-20T12:25:29.835Z"
   },
   {
    "duration": 46,
    "start_time": "2022-03-20T12:25:29.972Z"
   },
   {
    "duration": 11,
    "start_time": "2022-03-20T12:25:30.021Z"
   },
   {
    "duration": 145,
    "start_time": "2022-03-20T12:25:30.034Z"
   },
   {
    "duration": 45,
    "start_time": "2022-03-20T12:25:30.182Z"
   },
   {
    "duration": 4,
    "start_time": "2022-03-20T12:25:30.230Z"
   },
   {
    "duration": 32,
    "start_time": "2022-03-20T12:25:30.236Z"
   },
   {
    "duration": 21,
    "start_time": "2022-03-20T12:25:30.271Z"
   },
   {
    "duration": 8,
    "start_time": "2022-03-20T12:25:30.295Z"
   },
   {
    "duration": 3373,
    "start_time": "2022-03-20T12:25:30.305Z"
   },
   {
    "duration": 4794,
    "start_time": "2022-03-20T12:25:33.680Z"
   },
   {
    "duration": 725,
    "start_time": "2022-03-20T12:25:38.477Z"
   },
   {
    "duration": 4434,
    "start_time": "2022-03-20T12:25:39.205Z"
   },
   {
    "duration": 3270,
    "start_time": "2022-03-20T12:25:43.641Z"
   },
   {
    "duration": 489,
    "start_time": "2022-03-20T12:25:46.914Z"
   },
   {
    "duration": 3318,
    "start_time": "2022-03-20T12:25:47.406Z"
   },
   {
    "duration": 3102,
    "start_time": "2022-03-20T12:25:50.728Z"
   },
   {
    "duration": 474,
    "start_time": "2022-03-20T12:25:53.832Z"
   },
   {
    "duration": 5,
    "start_time": "2022-03-20T12:25:54.312Z"
   },
   {
    "duration": 12,
    "start_time": "2022-03-20T12:25:54.319Z"
   },
   {
    "duration": 38,
    "start_time": "2022-03-20T12:25:54.333Z"
   },
   {
    "duration": 117,
    "start_time": "2022-03-20T12:25:54.373Z"
   },
   {
    "duration": 85,
    "start_time": "2022-03-20T12:25:54.494Z"
   },
   {
    "duration": 193,
    "start_time": "2022-03-20T12:25:54.582Z"
   },
   {
    "duration": 113,
    "start_time": "2022-03-20T12:25:54.779Z"
   },
   {
    "duration": 5,
    "start_time": "2022-03-20T12:25:54.969Z"
   },
   {
    "duration": 94,
    "start_time": "2022-03-20T12:25:54.977Z"
   },
   {
    "duration": 14,
    "start_time": "2022-03-20T12:25:55.073Z"
   },
   {
    "duration": 8,
    "start_time": "2022-03-20T12:25:55.089Z"
   },
   {
    "duration": 7,
    "start_time": "2022-03-20T12:25:55.100Z"
   },
   {
    "duration": 66,
    "start_time": "2022-03-20T12:25:55.109Z"
   },
   {
    "duration": 13,
    "start_time": "2022-03-20T12:25:55.177Z"
   },
   {
    "duration": 11,
    "start_time": "2022-03-20T12:25:55.192Z"
   },
   {
    "duration": 15,
    "start_time": "2022-03-20T12:25:55.210Z"
   },
   {
    "duration": 1176,
    "start_time": "2022-03-20T12:25:55.227Z"
   },
   {
    "duration": 1157,
    "start_time": "2022-03-20T12:25:56.406Z"
   },
   {
    "duration": 1277,
    "start_time": "2022-03-20T12:25:57.565Z"
   },
   {
    "duration": 1115,
    "start_time": "2022-03-20T12:25:58.844Z"
   },
   {
    "duration": 5,
    "start_time": "2022-03-20T12:40:44.083Z"
   },
   {
    "duration": 416,
    "start_time": "2022-03-20T12:40:44.090Z"
   },
   {
    "duration": 5,
    "start_time": "2022-03-20T12:40:44.508Z"
   },
   {
    "duration": 12,
    "start_time": "2022-03-20T12:40:44.516Z"
   },
   {
    "duration": 125,
    "start_time": "2022-03-20T12:40:44.530Z"
   },
   {
    "duration": 48,
    "start_time": "2022-03-20T12:40:44.658Z"
   },
   {
    "duration": 21,
    "start_time": "2022-03-20T12:40:44.709Z"
   },
   {
    "duration": 87,
    "start_time": "2022-03-20T12:40:44.733Z"
   },
   {
    "duration": 16,
    "start_time": "2022-03-20T12:40:44.825Z"
   },
   {
    "duration": 141,
    "start_time": "2022-03-20T12:40:44.868Z"
   },
   {
    "duration": 56,
    "start_time": "2022-03-20T12:40:45.011Z"
   },
   {
    "duration": 12,
    "start_time": "2022-03-20T12:40:45.070Z"
   },
   {
    "duration": 134,
    "start_time": "2022-03-20T12:40:45.084Z"
   },
   {
    "duration": 52,
    "start_time": "2022-03-20T12:40:45.221Z"
   },
   {
    "duration": 4,
    "start_time": "2022-03-20T12:40:45.275Z"
   },
   {
    "duration": 7,
    "start_time": "2022-03-20T12:40:45.282Z"
   },
   {
    "duration": 7,
    "start_time": "2022-03-20T12:40:45.292Z"
   },
   {
    "duration": 13,
    "start_time": "2022-03-20T12:40:45.301Z"
   },
   {
    "duration": 3372,
    "start_time": "2022-03-20T12:40:45.316Z"
   },
   {
    "duration": 3120,
    "start_time": "2022-03-20T12:40:48.691Z"
   },
   {
    "duration": 482,
    "start_time": "2022-03-20T12:40:51.814Z"
   },
   {
    "duration": 3481,
    "start_time": "2022-03-20T12:40:52.299Z"
   },
   {
    "duration": 3129,
    "start_time": "2022-03-20T12:40:55.783Z"
   },
   {
    "duration": 487,
    "start_time": "2022-03-20T12:40:58.918Z"
   },
   {
    "duration": 3388,
    "start_time": "2022-03-20T12:40:59.407Z"
   },
   {
    "duration": 3086,
    "start_time": "2022-03-20T12:41:02.797Z"
   },
   {
    "duration": 474,
    "start_time": "2022-03-20T12:41:05.885Z"
   },
   {
    "duration": 5,
    "start_time": "2022-03-20T12:41:06.367Z"
   },
   {
    "duration": 16,
    "start_time": "2022-03-20T12:41:06.374Z"
   },
   {
    "duration": 12,
    "start_time": "2022-03-20T12:41:06.392Z"
   },
   {
    "duration": 36,
    "start_time": "2022-03-20T12:41:06.407Z"
   },
   {
    "duration": 121,
    "start_time": "2022-03-20T12:41:06.445Z"
   },
   {
    "duration": 120,
    "start_time": "2022-03-20T12:41:06.570Z"
   },
   {
    "duration": 195,
    "start_time": "2022-03-20T12:41:06.694Z"
   },
   {
    "duration": 5,
    "start_time": "2022-03-20T12:41:06.967Z"
   },
   {
    "duration": 100,
    "start_time": "2022-03-20T12:41:06.978Z"
   },
   {
    "duration": 16,
    "start_time": "2022-03-20T12:41:07.081Z"
   },
   {
    "duration": 9,
    "start_time": "2022-03-20T12:41:07.099Z"
   },
   {
    "duration": 8,
    "start_time": "2022-03-20T12:41:07.111Z"
   },
   {
    "duration": 49,
    "start_time": "2022-03-20T12:41:07.121Z"
   },
   {
    "duration": 12,
    "start_time": "2022-03-20T12:41:07.173Z"
   },
   {
    "duration": 6,
    "start_time": "2022-03-20T12:41:07.187Z"
   },
   {
    "duration": 10,
    "start_time": "2022-03-20T12:41:07.195Z"
   },
   {
    "duration": 1345,
    "start_time": "2022-03-20T12:41:07.207Z"
   },
   {
    "duration": 1558,
    "start_time": "2022-03-20T12:41:08.554Z"
   },
   {
    "duration": 1695,
    "start_time": "2022-03-20T12:41:10.115Z"
   },
   {
    "duration": 1151,
    "start_time": "2022-03-20T12:41:11.812Z"
   },
   {
    "duration": 5,
    "start_time": "2022-03-20T12:48:59.161Z"
   },
   {
    "duration": 451,
    "start_time": "2022-03-20T12:48:59.169Z"
   },
   {
    "duration": 5,
    "start_time": "2022-03-20T12:48:59.622Z"
   },
   {
    "duration": 13,
    "start_time": "2022-03-20T12:48:59.630Z"
   },
   {
    "duration": 147,
    "start_time": "2022-03-20T12:48:59.645Z"
   },
   {
    "duration": 34,
    "start_time": "2022-03-20T12:48:59.795Z"
   },
   {
    "duration": 45,
    "start_time": "2022-03-20T12:48:59.832Z"
   },
   {
    "duration": 47,
    "start_time": "2022-03-20T12:48:59.879Z"
   },
   {
    "duration": 11,
    "start_time": "2022-03-20T12:48:59.928Z"
   },
   {
    "duration": 232,
    "start_time": "2022-03-20T12:48:59.969Z"
   },
   {
    "duration": 46,
    "start_time": "2022-03-20T12:49:00.203Z"
   },
   {
    "duration": 26,
    "start_time": "2022-03-20T12:49:00.251Z"
   },
   {
    "duration": 145,
    "start_time": "2022-03-20T12:49:00.280Z"
   },
   {
    "duration": 62,
    "start_time": "2022-03-20T12:49:00.428Z"
   },
   {
    "duration": 5,
    "start_time": "2022-03-20T12:49:00.493Z"
   },
   {
    "duration": 19,
    "start_time": "2022-03-20T12:49:00.500Z"
   },
   {
    "duration": 23,
    "start_time": "2022-03-20T12:49:00.521Z"
   },
   {
    "duration": 23,
    "start_time": "2022-03-20T12:49:00.546Z"
   },
   {
    "duration": 3310,
    "start_time": "2022-03-20T12:49:00.571Z"
   },
   {
    "duration": 3311,
    "start_time": "2022-03-20T12:49:03.884Z"
   },
   {
    "duration": 488,
    "start_time": "2022-03-20T12:49:07.197Z"
   },
   {
    "duration": 3598,
    "start_time": "2022-03-20T12:49:07.688Z"
   },
   {
    "duration": 3029,
    "start_time": "2022-03-20T12:49:11.288Z"
   },
   {
    "duration": 511,
    "start_time": "2022-03-20T12:49:14.320Z"
   },
   {
    "duration": 3492,
    "start_time": "2022-03-20T12:49:14.833Z"
   },
   {
    "duration": 3162,
    "start_time": "2022-03-20T12:49:18.327Z"
   },
   {
    "duration": 502,
    "start_time": "2022-03-20T12:49:21.491Z"
   },
   {
    "duration": 5,
    "start_time": "2022-03-20T12:49:21.998Z"
   },
   {
    "duration": 12,
    "start_time": "2022-03-20T12:49:22.006Z"
   },
   {
    "duration": 11,
    "start_time": "2022-03-20T12:49:22.021Z"
   },
   {
    "duration": 42,
    "start_time": "2022-03-20T12:49:22.034Z"
   },
   {
    "duration": 92,
    "start_time": "2022-03-20T12:49:22.079Z"
   },
   {
    "duration": 194,
    "start_time": "2022-03-20T12:49:22.176Z"
   },
   {
    "duration": 125,
    "start_time": "2022-03-20T12:49:22.373Z"
   },
   {
    "duration": 6,
    "start_time": "2022-03-20T12:49:22.570Z"
   },
   {
    "duration": 10,
    "start_time": "2022-03-20T12:49:22.668Z"
   },
   {
    "duration": 13,
    "start_time": "2022-03-20T12:49:22.680Z"
   },
   {
    "duration": 8,
    "start_time": "2022-03-20T12:49:22.695Z"
   },
   {
    "duration": 8,
    "start_time": "2022-03-20T12:49:22.705Z"
   },
   {
    "duration": 52,
    "start_time": "2022-03-20T12:49:22.715Z"
   },
   {
    "duration": 12,
    "start_time": "2022-03-20T12:49:22.770Z"
   },
   {
    "duration": 4,
    "start_time": "2022-03-20T12:49:22.785Z"
   },
   {
    "duration": 10,
    "start_time": "2022-03-20T12:49:22.791Z"
   },
   {
    "duration": 1265,
    "start_time": "2022-03-20T12:49:22.804Z"
   },
   {
    "duration": 1144,
    "start_time": "2022-03-20T12:49:24.071Z"
   },
   {
    "duration": 1351,
    "start_time": "2022-03-20T12:49:25.217Z"
   },
   {
    "duration": 1097,
    "start_time": "2022-03-20T12:49:26.570Z"
   },
   {
    "duration": 6,
    "start_time": "2022-03-20T12:58:27.012Z"
   },
   {
    "duration": 488,
    "start_time": "2022-03-20T12:58:27.021Z"
   },
   {
    "duration": 6,
    "start_time": "2022-03-20T12:58:27.512Z"
   },
   {
    "duration": 23,
    "start_time": "2022-03-20T12:58:27.520Z"
   },
   {
    "duration": 169,
    "start_time": "2022-03-20T12:58:27.548Z"
   },
   {
    "duration": 59,
    "start_time": "2022-03-20T12:58:27.720Z"
   },
   {
    "duration": 24,
    "start_time": "2022-03-20T12:58:27.783Z"
   },
   {
    "duration": 88,
    "start_time": "2022-03-20T12:58:27.810Z"
   },
   {
    "duration": 16,
    "start_time": "2022-03-20T12:58:27.900Z"
   },
   {
    "duration": 126,
    "start_time": "2022-03-20T12:58:27.921Z"
   },
   {
    "duration": 62,
    "start_time": "2022-03-20T12:58:28.049Z"
   },
   {
    "duration": 12,
    "start_time": "2022-03-20T12:58:28.113Z"
   },
   {
    "duration": 140,
    "start_time": "2022-03-20T12:58:28.127Z"
   },
   {
    "duration": 46,
    "start_time": "2022-03-20T12:58:28.272Z"
   },
   {
    "duration": 5,
    "start_time": "2022-03-20T12:58:28.320Z"
   },
   {
    "duration": 41,
    "start_time": "2022-03-20T12:58:28.327Z"
   },
   {
    "duration": 35,
    "start_time": "2022-03-20T12:58:28.371Z"
   },
   {
    "duration": 12,
    "start_time": "2022-03-20T12:58:28.409Z"
   },
   {
    "duration": 4635,
    "start_time": "2022-03-20T12:58:28.423Z"
   },
   {
    "duration": 4089,
    "start_time": "2022-03-20T12:58:33.068Z"
   },
   {
    "duration": 528,
    "start_time": "2022-03-20T12:58:37.167Z"
   },
   {
    "duration": 4074,
    "start_time": "2022-03-20T12:58:37.698Z"
   },
   {
    "duration": 3453,
    "start_time": "2022-03-20T12:58:41.774Z"
   },
   {
    "duration": 484,
    "start_time": "2022-03-20T12:58:45.229Z"
   },
   {
    "duration": 3690,
    "start_time": "2022-03-20T12:58:45.715Z"
   },
   {
    "duration": 3156,
    "start_time": "2022-03-20T12:58:49.408Z"
   },
   {
    "duration": 618,
    "start_time": "2022-03-20T12:58:52.567Z"
   },
   {
    "duration": 5,
    "start_time": "2022-03-20T12:58:53.188Z"
   },
   {
    "duration": 12,
    "start_time": "2022-03-20T12:58:53.196Z"
   },
   {
    "duration": 12,
    "start_time": "2022-03-20T12:58:53.211Z"
   },
   {
    "duration": 47,
    "start_time": "2022-03-20T12:58:53.225Z"
   },
   {
    "duration": 40,
    "start_time": "2022-03-20T12:58:53.275Z"
   },
   {
    "duration": 123,
    "start_time": "2022-03-20T12:58:53.370Z"
   },
   {
    "duration": 191,
    "start_time": "2022-03-20T12:58:53.495Z"
   },
   {
    "duration": 79,
    "start_time": "2022-03-20T12:58:53.690Z"
   },
   {
    "duration": 106,
    "start_time": "2022-03-20T12:58:53.772Z"
   },
   {
    "duration": 12,
    "start_time": "2022-03-20T12:58:53.880Z"
   },
   {
    "duration": 7,
    "start_time": "2022-03-20T12:58:53.895Z"
   },
   {
    "duration": 7,
    "start_time": "2022-03-20T12:58:53.905Z"
   },
   {
    "duration": 16,
    "start_time": "2022-03-20T12:58:53.913Z"
   },
   {
    "duration": 13,
    "start_time": "2022-03-20T12:58:53.967Z"
   },
   {
    "duration": 5,
    "start_time": "2022-03-20T12:58:53.982Z"
   },
   {
    "duration": 10,
    "start_time": "2022-03-20T12:58:53.989Z"
   },
   {
    "duration": 1277,
    "start_time": "2022-03-20T12:58:54.001Z"
   },
   {
    "duration": 1166,
    "start_time": "2022-03-20T12:58:55.281Z"
   },
   {
    "duration": 1167,
    "start_time": "2022-03-20T12:58:56.449Z"
   },
   {
    "duration": 1028,
    "start_time": "2022-03-20T12:58:57.618Z"
   },
   {
    "duration": 5,
    "start_time": "2022-03-20T13:08:07.856Z"
   },
   {
    "duration": 390,
    "start_time": "2022-03-20T13:08:07.864Z"
   },
   {
    "duration": 5,
    "start_time": "2022-03-20T13:08:08.256Z"
   },
   {
    "duration": 16,
    "start_time": "2022-03-20T13:08:08.268Z"
   },
   {
    "duration": 125,
    "start_time": "2022-03-20T13:08:08.287Z"
   },
   {
    "duration": 32,
    "start_time": "2022-03-20T13:08:08.416Z"
   },
   {
    "duration": 30,
    "start_time": "2022-03-20T13:08:08.451Z"
   },
   {
    "duration": 46,
    "start_time": "2022-03-20T13:08:08.483Z"
   },
   {
    "duration": 37,
    "start_time": "2022-03-20T13:08:08.531Z"
   },
   {
    "duration": 120,
    "start_time": "2022-03-20T13:08:08.571Z"
   },
   {
    "duration": 45,
    "start_time": "2022-03-20T13:08:08.694Z"
   },
   {
    "duration": 29,
    "start_time": "2022-03-20T13:08:08.740Z"
   },
   {
    "duration": 125,
    "start_time": "2022-03-20T13:08:08.771Z"
   },
   {
    "duration": 46,
    "start_time": "2022-03-20T13:08:08.899Z"
   },
   {
    "duration": 20,
    "start_time": "2022-03-20T13:08:08.948Z"
   },
   {
    "duration": 9,
    "start_time": "2022-03-20T13:08:08.971Z"
   },
   {
    "duration": 8,
    "start_time": "2022-03-20T13:08:08.982Z"
   },
   {
    "duration": 8,
    "start_time": "2022-03-20T13:08:08.992Z"
   },
   {
    "duration": 3461,
    "start_time": "2022-03-20T13:08:09.002Z"
   },
   {
    "duration": 3069,
    "start_time": "2022-03-20T13:08:12.468Z"
   },
   {
    "duration": 444,
    "start_time": "2022-03-20T13:08:15.539Z"
   },
   {
    "duration": 3514,
    "start_time": "2022-03-20T13:08:15.985Z"
   },
   {
    "duration": 2993,
    "start_time": "2022-03-20T13:08:19.501Z"
   },
   {
    "duration": 475,
    "start_time": "2022-03-20T13:08:22.497Z"
   },
   {
    "duration": 3209,
    "start_time": "2022-03-20T13:08:22.975Z"
   },
   {
    "duration": 3293,
    "start_time": "2022-03-20T13:08:26.186Z"
   },
   {
    "duration": 491,
    "start_time": "2022-03-20T13:08:29.482Z"
   },
   {
    "duration": 4,
    "start_time": "2022-03-20T13:08:29.978Z"
   },
   {
    "duration": 13,
    "start_time": "2022-03-20T13:08:29.984Z"
   },
   {
    "duration": 11,
    "start_time": "2022-03-20T13:08:30.000Z"
   },
   {
    "duration": 8,
    "start_time": "2022-03-20T13:08:30.014Z"
   },
   {
    "duration": 73,
    "start_time": "2022-03-20T13:08:30.024Z"
   },
   {
    "duration": 125,
    "start_time": "2022-03-20T13:08:30.170Z"
   },
   {
    "duration": 124,
    "start_time": "2022-03-20T13:08:30.370Z"
   },
   {
    "duration": 5,
    "start_time": "2022-03-20T13:08:30.570Z"
   },
   {
    "duration": 107,
    "start_time": "2022-03-20T13:08:30.578Z"
   },
   {
    "duration": 27,
    "start_time": "2022-03-20T13:08:30.687Z"
   },
   {
    "duration": 10,
    "start_time": "2022-03-20T13:08:30.716Z"
   },
   {
    "duration": 16,
    "start_time": "2022-03-20T13:08:30.728Z"
   },
   {
    "duration": 21,
    "start_time": "2022-03-20T13:08:30.747Z"
   },
   {
    "duration": 12,
    "start_time": "2022-03-20T13:08:30.770Z"
   },
   {
    "duration": 14,
    "start_time": "2022-03-20T13:08:30.784Z"
   },
   {
    "duration": 23,
    "start_time": "2022-03-20T13:08:30.800Z"
   },
   {
    "duration": 1181,
    "start_time": "2022-03-20T13:08:30.826Z"
   },
   {
    "duration": 1140,
    "start_time": "2022-03-20T13:08:32.009Z"
   },
   {
    "duration": 1149,
    "start_time": "2022-03-20T13:08:33.152Z"
   },
   {
    "duration": 1134,
    "start_time": "2022-03-20T13:08:34.303Z"
   },
   {
    "duration": 5,
    "start_time": "2022-03-20T13:18:37.029Z"
   },
   {
    "duration": 387,
    "start_time": "2022-03-20T13:18:37.037Z"
   },
   {
    "duration": 5,
    "start_time": "2022-03-20T13:18:37.427Z"
   },
   {
    "duration": 23,
    "start_time": "2022-03-20T13:18:37.434Z"
   },
   {
    "duration": 118,
    "start_time": "2022-03-20T13:18:37.460Z"
   },
   {
    "duration": 32,
    "start_time": "2022-03-20T13:18:37.581Z"
   },
   {
    "duration": 18,
    "start_time": "2022-03-20T13:18:37.616Z"
   },
   {
    "duration": 70,
    "start_time": "2022-03-20T13:18:37.637Z"
   },
   {
    "duration": 12,
    "start_time": "2022-03-20T13:18:37.709Z"
   },
   {
    "duration": 120,
    "start_time": "2022-03-20T13:18:37.723Z"
   },
   {
    "duration": 55,
    "start_time": "2022-03-20T13:18:37.846Z"
   },
   {
    "duration": 11,
    "start_time": "2022-03-20T13:18:37.904Z"
   },
   {
    "duration": 124,
    "start_time": "2022-03-20T13:18:37.919Z"
   },
   {
    "duration": 59,
    "start_time": "2022-03-20T13:18:38.045Z"
   },
   {
    "duration": 4,
    "start_time": "2022-03-20T13:18:38.106Z"
   },
   {
    "duration": 15,
    "start_time": "2022-03-20T13:18:38.113Z"
   },
   {
    "duration": 19,
    "start_time": "2022-03-20T13:18:38.131Z"
   },
   {
    "duration": 17,
    "start_time": "2022-03-20T13:18:38.152Z"
   },
   {
    "duration": 3286,
    "start_time": "2022-03-20T13:18:38.172Z"
   },
   {
    "duration": 3284,
    "start_time": "2022-03-20T13:18:41.468Z"
   },
   {
    "duration": 478,
    "start_time": "2022-03-20T13:18:44.755Z"
   },
   {
    "duration": 3378,
    "start_time": "2022-03-20T13:18:45.236Z"
   },
   {
    "duration": 3031,
    "start_time": "2022-03-20T13:18:48.616Z"
   },
   {
    "duration": 433,
    "start_time": "2022-03-20T13:18:51.649Z"
   },
   {
    "duration": 3504,
    "start_time": "2022-03-20T13:18:52.084Z"
   },
   {
    "duration": 3077,
    "start_time": "2022-03-20T13:18:55.590Z"
   },
   {
    "duration": 457,
    "start_time": "2022-03-20T13:18:58.669Z"
   },
   {
    "duration": 5,
    "start_time": "2022-03-20T13:18:59.128Z"
   },
   {
    "duration": 14,
    "start_time": "2022-03-20T13:18:59.135Z"
   },
   {
    "duration": 12,
    "start_time": "2022-03-20T13:18:59.168Z"
   },
   {
    "duration": 11,
    "start_time": "2022-03-20T13:18:59.182Z"
   },
   {
    "duration": 78,
    "start_time": "2022-03-20T13:18:59.196Z"
   },
   {
    "duration": 193,
    "start_time": "2022-03-20T13:18:59.276Z"
   },
   {
    "duration": 118,
    "start_time": "2022-03-20T13:18:59.473Z"
   },
   {
    "duration": 78,
    "start_time": "2022-03-20T13:18:59.593Z"
   },
   {
    "duration": 102,
    "start_time": "2022-03-20T13:18:59.674Z"
   },
   {
    "duration": 16,
    "start_time": "2022-03-20T13:18:59.784Z"
   },
   {
    "duration": 9,
    "start_time": "2022-03-20T13:18:59.802Z"
   },
   {
    "duration": 51,
    "start_time": "2022-03-20T13:18:59.814Z"
   },
   {
    "duration": 21,
    "start_time": "2022-03-20T13:18:59.869Z"
   },
   {
    "duration": 11,
    "start_time": "2022-03-20T13:18:59.893Z"
   },
   {
    "duration": 5,
    "start_time": "2022-03-20T13:18:59.906Z"
   },
   {
    "duration": 11,
    "start_time": "2022-03-20T13:18:59.913Z"
   },
   {
    "duration": 1177,
    "start_time": "2022-03-20T13:18:59.926Z"
   },
   {
    "duration": 1486,
    "start_time": "2022-03-20T13:19:01.105Z"
   },
   {
    "duration": 1180,
    "start_time": "2022-03-20T13:19:02.593Z"
   },
   {
    "duration": 1021,
    "start_time": "2022-03-20T13:19:03.775Z"
   },
   {
    "duration": 76,
    "start_time": "2022-03-23T13:13:30.469Z"
   },
   {
    "duration": 2116,
    "start_time": "2022-03-23T13:13:34.474Z"
   },
   {
    "duration": 441,
    "start_time": "2022-03-23T13:13:36.593Z"
   },
   {
    "duration": 4,
    "start_time": "2022-03-23T13:13:37.036Z"
   },
   {
    "duration": 36,
    "start_time": "2022-03-23T13:13:37.043Z"
   },
   {
    "duration": 153,
    "start_time": "2022-03-23T13:13:37.082Z"
   },
   {
    "duration": 50,
    "start_time": "2022-03-23T13:13:37.238Z"
   },
   {
    "duration": 20,
    "start_time": "2022-03-23T13:13:37.290Z"
   },
   {
    "duration": 78,
    "start_time": "2022-03-23T13:13:37.313Z"
   },
   {
    "duration": 16,
    "start_time": "2022-03-23T13:13:37.394Z"
   },
   {
    "duration": 127,
    "start_time": "2022-03-23T13:13:37.414Z"
   },
   {
    "duration": 78,
    "start_time": "2022-03-23T13:13:37.543Z"
   },
   {
    "duration": 20,
    "start_time": "2022-03-23T13:13:37.623Z"
   },
   {
    "duration": 153,
    "start_time": "2022-03-23T13:13:37.646Z"
   },
   {
    "duration": 51,
    "start_time": "2022-03-23T13:13:37.802Z"
   },
   {
    "duration": 4,
    "start_time": "2022-03-23T13:13:37.874Z"
   },
   {
    "duration": 9,
    "start_time": "2022-03-23T13:13:37.881Z"
   },
   {
    "duration": 7,
    "start_time": "2022-03-23T13:13:37.893Z"
   },
   {
    "duration": 10,
    "start_time": "2022-03-23T13:13:37.902Z"
   },
   {
    "duration": 4055,
    "start_time": "2022-03-23T13:13:37.915Z"
   },
   {
    "duration": 3258,
    "start_time": "2022-03-23T13:13:41.972Z"
   },
   {
    "duration": 580,
    "start_time": "2022-03-23T13:13:45.232Z"
   },
   {
    "duration": 3569,
    "start_time": "2022-03-23T13:13:45.814Z"
   },
   {
    "duration": 3384,
    "start_time": "2022-03-23T13:13:49.385Z"
   },
   {
    "duration": 474,
    "start_time": "2022-03-23T13:13:52.773Z"
   },
   {
    "duration": 3624,
    "start_time": "2022-03-23T13:13:53.250Z"
   },
   {
    "duration": 3344,
    "start_time": "2022-03-23T13:13:56.877Z"
   },
   {
    "duration": 489,
    "start_time": "2022-03-23T13:14:00.223Z"
   },
   {
    "duration": 5,
    "start_time": "2022-03-23T13:14:00.716Z"
   },
   {
    "duration": 32,
    "start_time": "2022-03-23T13:14:00.723Z"
   },
   {
    "duration": 32,
    "start_time": "2022-03-23T13:14:00.757Z"
   },
   {
    "duration": 35,
    "start_time": "2022-03-23T13:14:00.791Z"
   },
   {
    "duration": 138,
    "start_time": "2022-03-23T13:14:00.829Z"
   },
   {
    "duration": 11,
    "start_time": "2022-03-23T13:14:09.961Z"
   },
   {
    "duration": 14,
    "start_time": "2022-03-23T13:14:40.741Z"
   },
   {
    "duration": 34,
    "start_time": "2022-03-23T13:14:48.668Z"
   },
   {
    "duration": 31,
    "start_time": "2022-03-23T13:15:36.591Z"
   },
   {
    "duration": 25,
    "start_time": "2022-03-23T13:15:47.752Z"
   },
   {
    "duration": 29,
    "start_time": "2022-03-23T13:15:57.269Z"
   },
   {
    "duration": 28,
    "start_time": "2022-03-23T13:16:05.774Z"
   },
   {
    "duration": 14,
    "start_time": "2022-03-23T13:16:23.918Z"
   },
   {
    "duration": 29,
    "start_time": "2022-03-23T13:16:31.417Z"
   },
   {
    "duration": 29,
    "start_time": "2022-03-23T13:16:32.742Z"
   },
   {
    "duration": 27,
    "start_time": "2022-03-23T13:16:40.878Z"
   },
   {
    "duration": 15,
    "start_time": "2022-03-23T13:16:54.438Z"
   },
   {
    "duration": 16,
    "start_time": "2022-03-23T13:16:55.174Z"
   },
   {
    "duration": 28,
    "start_time": "2022-03-23T13:16:59.325Z"
   },
   {
    "duration": 13,
    "start_time": "2022-03-23T13:17:08.590Z"
   },
   {
    "duration": 126,
    "start_time": "2022-03-23T13:17:08.853Z"
   },
   {
    "duration": 18,
    "start_time": "2022-03-23T13:17:15.886Z"
   },
   {
    "duration": 5,
    "start_time": "2022-03-23T13:17:37.417Z"
   },
   {
    "duration": 405,
    "start_time": "2022-03-23T13:17:37.425Z"
   },
   {
    "duration": 6,
    "start_time": "2022-03-23T13:17:37.832Z"
   },
   {
    "duration": 24,
    "start_time": "2022-03-23T13:17:37.841Z"
   },
   {
    "duration": 135,
    "start_time": "2022-03-23T13:17:37.873Z"
   },
   {
    "duration": 36,
    "start_time": "2022-03-23T13:17:38.011Z"
   },
   {
    "duration": 35,
    "start_time": "2022-03-23T13:17:38.049Z"
   },
   {
    "duration": 83,
    "start_time": "2022-03-23T13:17:38.086Z"
   },
   {
    "duration": 15,
    "start_time": "2022-03-23T13:17:38.171Z"
   },
   {
    "duration": 127,
    "start_time": "2022-03-23T13:17:38.192Z"
   },
   {
    "duration": 60,
    "start_time": "2022-03-23T13:17:38.321Z"
   },
   {
    "duration": 13,
    "start_time": "2022-03-23T13:17:38.384Z"
   },
   {
    "duration": 137,
    "start_time": "2022-03-23T13:17:38.399Z"
   },
   {
    "duration": 59,
    "start_time": "2022-03-23T13:17:38.538Z"
   },
   {
    "duration": 4,
    "start_time": "2022-03-23T13:17:38.599Z"
   },
   {
    "duration": 9,
    "start_time": "2022-03-23T13:17:38.605Z"
   },
   {
    "duration": 7,
    "start_time": "2022-03-23T13:17:38.616Z"
   },
   {
    "duration": 9,
    "start_time": "2022-03-23T13:17:38.626Z"
   },
   {
    "duration": 3341,
    "start_time": "2022-03-23T13:17:38.637Z"
   },
   {
    "duration": 3236,
    "start_time": "2022-03-23T13:17:41.980Z"
   },
   {
    "duration": 492,
    "start_time": "2022-03-23T13:17:45.218Z"
   },
   {
    "duration": 3507,
    "start_time": "2022-03-23T13:17:45.712Z"
   },
   {
    "duration": 3208,
    "start_time": "2022-03-23T13:17:49.221Z"
   },
   {
    "duration": 479,
    "start_time": "2022-03-23T13:17:52.432Z"
   },
   {
    "duration": 3518,
    "start_time": "2022-03-23T13:17:52.914Z"
   },
   {
    "duration": 3198,
    "start_time": "2022-03-23T13:17:56.434Z"
   },
   {
    "duration": 451,
    "start_time": "2022-03-23T13:17:59.634Z"
   },
   {
    "duration": 5,
    "start_time": "2022-03-23T13:18:00.091Z"
   },
   {
    "duration": 18,
    "start_time": "2022-03-23T13:18:00.098Z"
   },
   {
    "duration": 11,
    "start_time": "2022-03-23T13:18:00.118Z"
   },
   {
    "duration": 9,
    "start_time": "2022-03-23T13:18:00.133Z"
   },
   {
    "duration": 51,
    "start_time": "2022-03-23T13:18:00.144Z"
   },
   {
    "duration": 193,
    "start_time": "2022-03-23T13:18:00.197Z"
   },
   {
    "duration": 199,
    "start_time": "2022-03-23T13:18:00.392Z"
   },
   {
    "duration": 83,
    "start_time": "2022-03-23T13:18:00.593Z"
   },
   {
    "duration": 376,
    "start_time": "2022-03-23T13:18:00.679Z"
   },
   {
    "duration": 34,
    "start_time": "2022-03-23T13:18:01.057Z"
   },
   {
    "duration": 23,
    "start_time": "2022-03-23T13:18:01.093Z"
   },
   {
    "duration": 19,
    "start_time": "2022-03-23T13:18:01.118Z"
   },
   {
    "duration": 32,
    "start_time": "2022-03-23T13:18:01.140Z"
   },
   {
    "duration": 13,
    "start_time": "2022-03-23T13:18:01.174Z"
   },
   {
    "duration": 12,
    "start_time": "2022-03-23T13:18:01.189Z"
   },
   {
    "duration": 28,
    "start_time": "2022-03-23T13:18:01.204Z"
   },
   {
    "duration": 0,
    "start_time": "2022-03-23T13:18:01.234Z"
   },
   {
    "duration": 0,
    "start_time": "2022-03-23T13:18:01.236Z"
   },
   {
    "duration": 0,
    "start_time": "2022-03-23T13:18:01.238Z"
   },
   {
    "duration": 0,
    "start_time": "2022-03-23T13:18:01.239Z"
   },
   {
    "duration": 10,
    "start_time": "2022-03-23T13:19:09.687Z"
   },
   {
    "duration": 1168,
    "start_time": "2022-03-23T13:19:13.641Z"
   },
   {
    "duration": 1133,
    "start_time": "2022-03-23T13:19:14.812Z"
   },
   {
    "duration": 1212,
    "start_time": "2022-03-23T13:19:15.947Z"
   },
   {
    "duration": 1114,
    "start_time": "2022-03-23T13:19:22.183Z"
   }
  ],
  "kernelspec": {
   "display_name": "Python 3 (ipykernel)",
   "language": "python",
   "name": "python3"
  },
  "language_info": {
   "codemirror_mode": {
    "name": "ipython",
    "version": 3
   },
   "file_extension": ".py",
   "mimetype": "text/x-python",
   "name": "python",
   "nbconvert_exporter": "python",
   "pygments_lexer": "ipython3",
   "version": "3.9.7"
  },
  "toc": {
   "base_numbering": 1,
   "nav_menu": {},
   "number_sections": true,
   "sideBar": true,
   "skip_h1_title": true,
   "title_cell": "Содержание",
   "title_sidebar": "Contents",
   "toc_cell": true,
   "toc_position": {
    "height": "calc(100% - 180px)",
    "left": "10px",
    "top": "150px",
    "width": "336.992px"
   },
   "toc_section_display": true,
   "toc_window_display": true
  }
 },
 "nbformat": 4,
 "nbformat_minor": 2
}
