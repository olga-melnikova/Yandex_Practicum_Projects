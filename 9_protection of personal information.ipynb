{
 "cells": [
  {
   "cell_type": "markdown",
   "metadata": {
    "toc": true
   },
   "source": [
    "<h1>Содержание<span class=\"tocSkip\"></span></h1>\n",
    "<div class=\"toc\"><ul class=\"toc-item\"><li><span><a href=\"#Загрузка-данных\" data-toc-modified-id=\"Загрузка-данных-1\"><span class=\"toc-item-num\">1&nbsp;&nbsp;</span>Загрузка данных</a></span></li><li><span><a href=\"#Умножение-матриц\" data-toc-modified-id=\"Умножение-матриц-2\"><span class=\"toc-item-num\">2&nbsp;&nbsp;</span>Умножение матриц</a></span></li><li><span><a href=\"#Алгоритм-преобразования\" data-toc-modified-id=\"Алгоритм-преобразования-3\"><span class=\"toc-item-num\">3&nbsp;&nbsp;</span>Алгоритм преобразования</a></span></li><li><span><a href=\"#Проверка-алгоритма\" data-toc-modified-id=\"Проверка-алгоритма-4\"><span class=\"toc-item-num\">4&nbsp;&nbsp;</span>Проверка алгоритма</a></span></li><li><span><a href=\"#Общий-вывод\" data-toc-modified-id=\"Общий-вывод-5\"><span class=\"toc-item-num\">5&nbsp;&nbsp;</span>Общий вывод</a></span></li><li><span><a href=\"#Чек-лист-проверки\" data-toc-modified-id=\"Чек-лист-проверки-6\"><span class=\"toc-item-num\">6&nbsp;&nbsp;</span>Чек-лист проверки</a></span></li></ul></div>"
   ]
  },
  {
   "cell_type": "markdown",
   "metadata": {},
   "source": [
    "# Защита персональных данных клиентов"
   ]
  },
  {
   "cell_type": "markdown",
   "metadata": {},
   "source": [
    "Вам нужно защитить данные клиентов страховой компании «Хоть потоп». Разработайте такой метод преобразования данных, чтобы по ним было сложно восстановить персональную информацию. Обоснуйте корректность его работы.\n",
    "\n",
    "Нужно защитить данные, чтобы при преобразовании качество моделей машинного обучения не ухудшилось. Подбирать наилучшую модель не требуется.  \n",
    "\n",
    "Источник данных: Яндекс.Практикум"
   ]
  },
  {
   "cell_type": "markdown",
   "metadata": {},
   "source": [
    "## Загрузка данных"
   ]
  },
  {
   "cell_type": "code",
   "execution_count": 53,
   "metadata": {},
   "outputs": [],
   "source": [
    "import numpy as np\n",
    "import pandas as pd\n",
    "import matplotlib.pyplot as plt\n",
    "import seaborn as sns\n",
    "from scipy.spatial import distance\n",
    "from sklearn.metrics import r2_score\n",
    "from sklearn.linear_model import LinearRegression\n",
    "from sklearn.model_selection import train_test_split"
   ]
  },
  {
   "cell_type": "code",
   "execution_count": 54,
   "metadata": {},
   "outputs": [],
   "source": [
    "data = pd.read_csv('/datasets/insurance.csv')"
   ]
  },
  {
   "cell_type": "code",
   "execution_count": 55,
   "metadata": {},
   "outputs": [
    {
     "data": {
      "text/html": [
       "<div>\n",
       "<style scoped>\n",
       "    .dataframe tbody tr th:only-of-type {\n",
       "        vertical-align: middle;\n",
       "    }\n",
       "\n",
       "    .dataframe tbody tr th {\n",
       "        vertical-align: top;\n",
       "    }\n",
       "\n",
       "    .dataframe thead th {\n",
       "        text-align: right;\n",
       "    }\n",
       "</style>\n",
       "<table border=\"1\" class=\"dataframe\">\n",
       "  <thead>\n",
       "    <tr style=\"text-align: right;\">\n",
       "      <th></th>\n",
       "      <th>Пол</th>\n",
       "      <th>Возраст</th>\n",
       "      <th>Зарплата</th>\n",
       "      <th>Члены семьи</th>\n",
       "      <th>Страховые выплаты</th>\n",
       "    </tr>\n",
       "  </thead>\n",
       "  <tbody>\n",
       "    <tr>\n",
       "      <th>0</th>\n",
       "      <td>1</td>\n",
       "      <td>41.0</td>\n",
       "      <td>49600.0</td>\n",
       "      <td>1</td>\n",
       "      <td>0</td>\n",
       "    </tr>\n",
       "    <tr>\n",
       "      <th>1</th>\n",
       "      <td>0</td>\n",
       "      <td>46.0</td>\n",
       "      <td>38000.0</td>\n",
       "      <td>1</td>\n",
       "      <td>1</td>\n",
       "    </tr>\n",
       "    <tr>\n",
       "      <th>2</th>\n",
       "      <td>0</td>\n",
       "      <td>29.0</td>\n",
       "      <td>21000.0</td>\n",
       "      <td>0</td>\n",
       "      <td>0</td>\n",
       "    </tr>\n",
       "    <tr>\n",
       "      <th>3</th>\n",
       "      <td>0</td>\n",
       "      <td>21.0</td>\n",
       "      <td>41700.0</td>\n",
       "      <td>2</td>\n",
       "      <td>0</td>\n",
       "    </tr>\n",
       "    <tr>\n",
       "      <th>4</th>\n",
       "      <td>1</td>\n",
       "      <td>28.0</td>\n",
       "      <td>26100.0</td>\n",
       "      <td>0</td>\n",
       "      <td>0</td>\n",
       "    </tr>\n",
       "  </tbody>\n",
       "</table>\n",
       "</div>"
      ],
      "text/plain": [
       "   Пол  Возраст  Зарплата  Члены семьи  Страховые выплаты\n",
       "0    1     41.0   49600.0            1                  0\n",
       "1    0     46.0   38000.0            1                  1\n",
       "2    0     29.0   21000.0            0                  0\n",
       "3    0     21.0   41700.0            2                  0\n",
       "4    1     28.0   26100.0            0                  0"
      ]
     },
     "execution_count": 55,
     "metadata": {},
     "output_type": "execute_result"
    }
   ],
   "source": [
    "data.head()"
   ]
  },
  {
   "cell_type": "markdown",
   "metadata": {},
   "source": [
    "**Описание данных**  \n",
    "- Признаки: пол, возраст и зарплата застрахованного, количество членов его семьи.  \n",
    "- Целевой признак: количество страховых выплат клиенту за последние 5 лет."
   ]
  },
  {
   "cell_type": "code",
   "execution_count": 56,
   "metadata": {},
   "outputs": [
    {
     "name": "stdout",
     "output_type": "stream",
     "text": [
      "<class 'pandas.core.frame.DataFrame'>\n",
      "RangeIndex: 5000 entries, 0 to 4999\n",
      "Data columns (total 5 columns):\n",
      " #   Column             Non-Null Count  Dtype  \n",
      "---  ------             --------------  -----  \n",
      " 0   Пол                5000 non-null   int64  \n",
      " 1   Возраст            5000 non-null   float64\n",
      " 2   Зарплата           5000 non-null   float64\n",
      " 3   Члены семьи        5000 non-null   int64  \n",
      " 4   Страховые выплаты  5000 non-null   int64  \n",
      "dtypes: float64(2), int64(3)\n",
      "memory usage: 195.4 KB\n"
     ]
    }
   ],
   "source": [
    "data.info()"
   ]
  },
  {
   "cell_type": "code",
   "execution_count": 57,
   "metadata": {},
   "outputs": [
    {
     "data": {
      "text/html": [
       "<div>\n",
       "<style scoped>\n",
       "    .dataframe tbody tr th:only-of-type {\n",
       "        vertical-align: middle;\n",
       "    }\n",
       "\n",
       "    .dataframe tbody tr th {\n",
       "        vertical-align: top;\n",
       "    }\n",
       "\n",
       "    .dataframe thead th {\n",
       "        text-align: right;\n",
       "    }\n",
       "</style>\n",
       "<table border=\"1\" class=\"dataframe\">\n",
       "  <thead>\n",
       "    <tr style=\"text-align: right;\">\n",
       "      <th></th>\n",
       "      <th>count</th>\n",
       "      <th>mean</th>\n",
       "      <th>std</th>\n",
       "      <th>min</th>\n",
       "      <th>25%</th>\n",
       "      <th>50%</th>\n",
       "      <th>75%</th>\n",
       "      <th>max</th>\n",
       "    </tr>\n",
       "  </thead>\n",
       "  <tbody>\n",
       "    <tr>\n",
       "      <th>Пол</th>\n",
       "      <td>5000.0</td>\n",
       "      <td>0.4990</td>\n",
       "      <td>0.500049</td>\n",
       "      <td>0.0</td>\n",
       "      <td>0.0</td>\n",
       "      <td>0.0</td>\n",
       "      <td>1.0</td>\n",
       "      <td>1.0</td>\n",
       "    </tr>\n",
       "    <tr>\n",
       "      <th>Возраст</th>\n",
       "      <td>5000.0</td>\n",
       "      <td>30.9528</td>\n",
       "      <td>8.440807</td>\n",
       "      <td>18.0</td>\n",
       "      <td>24.0</td>\n",
       "      <td>30.0</td>\n",
       "      <td>37.0</td>\n",
       "      <td>65.0</td>\n",
       "    </tr>\n",
       "    <tr>\n",
       "      <th>Зарплата</th>\n",
       "      <td>5000.0</td>\n",
       "      <td>39916.3600</td>\n",
       "      <td>9900.083569</td>\n",
       "      <td>5300.0</td>\n",
       "      <td>33300.0</td>\n",
       "      <td>40200.0</td>\n",
       "      <td>46600.0</td>\n",
       "      <td>79000.0</td>\n",
       "    </tr>\n",
       "    <tr>\n",
       "      <th>Члены семьи</th>\n",
       "      <td>5000.0</td>\n",
       "      <td>1.1942</td>\n",
       "      <td>1.091387</td>\n",
       "      <td>0.0</td>\n",
       "      <td>0.0</td>\n",
       "      <td>1.0</td>\n",
       "      <td>2.0</td>\n",
       "      <td>6.0</td>\n",
       "    </tr>\n",
       "    <tr>\n",
       "      <th>Страховые выплаты</th>\n",
       "      <td>5000.0</td>\n",
       "      <td>0.1480</td>\n",
       "      <td>0.463183</td>\n",
       "      <td>0.0</td>\n",
       "      <td>0.0</td>\n",
       "      <td>0.0</td>\n",
       "      <td>0.0</td>\n",
       "      <td>5.0</td>\n",
       "    </tr>\n",
       "  </tbody>\n",
       "</table>\n",
       "</div>"
      ],
      "text/plain": [
       "                    count        mean          std     min      25%      50%  \\\n",
       "Пол                5000.0      0.4990     0.500049     0.0      0.0      0.0   \n",
       "Возраст            5000.0     30.9528     8.440807    18.0     24.0     30.0   \n",
       "Зарплата           5000.0  39916.3600  9900.083569  5300.0  33300.0  40200.0   \n",
       "Члены семьи        5000.0      1.1942     1.091387     0.0      0.0      1.0   \n",
       "Страховые выплаты  5000.0      0.1480     0.463183     0.0      0.0      0.0   \n",
       "\n",
       "                       75%      max  \n",
       "Пол                    1.0      1.0  \n",
       "Возраст               37.0     65.0  \n",
       "Зарплата           46600.0  79000.0  \n",
       "Члены семьи            2.0      6.0  \n",
       "Страховые выплаты      0.0      5.0  "
      ]
     },
     "execution_count": 57,
     "metadata": {},
     "output_type": "execute_result"
    }
   ],
   "source": [
    "data.describe().T"
   ]
  },
  {
   "cell_type": "code",
   "execution_count": 58,
   "metadata": {},
   "outputs": [],
   "source": [
    "def info_df(df):\n",
    "    print('Размер датасета -', df.shape)\n",
    "    print('Количество дубликатов -', df.duplicated().sum())\n",
    "    print('Количество пропущенных значений:', data.isna().sum().sum())"
   ]
  },
  {
   "cell_type": "code",
   "execution_count": 59,
   "metadata": {
    "scrolled": true
   },
   "outputs": [
    {
     "name": "stdout",
     "output_type": "stream",
     "text": [
      "Размер датасета - (5000, 5)\n",
      "Количество дубликатов - 153\n",
      "Количество пропущенных значений: 0\n"
     ]
    }
   ],
   "source": [
    "info_df(data)"
   ]
  },
  {
   "cell_type": "code",
   "execution_count": 60,
   "metadata": {},
   "outputs": [],
   "source": [
    "# тепловая карта корреляции\n",
    "\n",
    "def heatmap_b(df, title_1='Корреляция признаков'):\n",
    "    plt.figure(figsize=(15, 3))\n",
    "\n",
    "    matrix = np.triu(df.corr())\n",
    "    \n",
    "    heatmap_b = sns.heatmap((df.corr()), \n",
    "        vmin=-1, \n",
    "        vmax=1, \n",
    "        cmap=\"YlGnBu\", \n",
    "        annot=True, \n",
    "        fmt='.2g', mask=matrix, annot_kws={'fontsize':16})\n",
    "\n",
    "\n",
    "    heatmap_b.set_title(title_1, fontdict={'fontsize':16})\n",
    "\n",
    "    return heatmap_b"
   ]
  },
  {
   "cell_type": "code",
   "execution_count": 61,
   "metadata": {},
   "outputs": [
    {
     "data": {
      "image/png": "[encoded data removed]",
      "text/plain": [
       "<Figure size 1080x216 with 2 Axes>"
      ]
     },
     "metadata": {
      "needs_background": "light"
     },
     "output_type": "display_data"
    }
   ],
   "source": [
    "heatmap_b(data)\n",
    "plt.show()"
   ]
  },
  {
   "cell_type": "markdown",
   "metadata": {},
   "source": [
    "Рассмотрим уникальные значения признаков в датасете"
   ]
  },
  {
   "cell_type": "markdown",
   "metadata": {},
   "source": [
    "**Вывод**\n",
    "***\n",
    "- Исходный датасет содержит 5000 строк и 5 столбцов.\n",
    "- Целевой признак - страховые выплаты - минимальное значение признака - 0, максимальное - 5. Медиана - 0, среднее - 0.14, так же до 75 квантиля страховые выплаты равны 0, что говорит о том, что чаще выплат нет.   \n",
    "- Наиольший коэффициент корреляции наблюдается у целевого признака с признаком возраста клиента - 0.65. Для остальных признаков коэффициент корреляции мал - около 0.\n",
    "- В датасете имеется 153 дубликата, но так как информация обезличена - нет уникального идентификатора, то не представляется возможным узнать, действительно ли эти дубликаты относятся к одному клиенту.  \n",
    "- Пропущенные значения в датасете отсутствуют.\n",
    "- Типы данных в датасете - int, float, что удовлетворяет условиям обучения модели и преобразованию признаков.  "
   ]
  },
  {
   "cell_type": "markdown",
   "metadata": {},
   "source": [
    "## Умножение матриц"
   ]
  },
  {
   "cell_type": "markdown",
   "metadata": {},
   "source": [
    "**Признаки умножают на обратимую матрицу. Изменится ли качество линейной регрессии?**  \n",
    "\n",
    "a. Изменится. Приведите примеры матриц.  \n",
    "b. Не изменится. Укажите, как связаны параметры линейной регрессии в исходной задаче и в преобразованной."
   ]
  },
  {
   "cell_type": "markdown",
   "metadata": {},
   "source": [
    "Проверим, как теоретически повляет и повлият ли вообще преобразование признаков на качество модели линейной регрессии."
   ]
  },
  {
   "cell_type": "markdown",
   "metadata": {},
   "source": [
    "Обозначения:\n",
    "\n",
    "- $X$ — матрица признаков (нулевой столбец состоит из единиц)\n",
    "\n",
    "- $y$ — вектор целевого признака\n",
    "\n",
    "- $P$ — матрица, на которую умножаются признаки\n",
    "\n",
    "- $w$ — вектор весов линейной регрессии (нулевой элемент равен сдвигу)"
   ]
  },
  {
   "cell_type": "markdown",
   "metadata": {},
   "source": [
    "Предсказания:\n",
    "\n",
    "$$\n",
    "a = Xw\n",
    "$$\n",
    "\n",
    "Задача обучения:\n",
    "\n",
    "$$\n",
    "w = \\arg\\min_w MSE(Xw, y)\n",
    "$$\n",
    "\n",
    "Формула обучения:\n",
    "\n",
    "$$\n",
    "w = (X^T X)^{-1} X^T y\n",
    "$$"
   ]
  },
  {
   "cell_type": "markdown",
   "metadata": {},
   "source": [
    "Свойства матриц:  \n",
    "\n",
    "- порядок раскрытия скобок\n",
    "$$\n",
    "(AB)^{-1} = B^{-1} A^{-1}\n",
    "$$\n",
    "\n",
    "$$\n",
    "(AB)^T = B^T A^T\n",
    "$$\n",
    "- порядок перемножения нескольких матриц\n",
    "$$\n",
    "ABС = (AB)C = A(BC)\n",
    "$$\n",
    "\n",
    "$$\n",
    "EA = AE = A\n",
    "$$\n",
    "\n",
    "- умножение матрицы на обратную (для квадратной) $$ AA^{-1} = E\n",
    "$$\n",
    "\n"
   ]
  },
  {
   "cell_type": "markdown",
   "metadata": {},
   "source": [
    "Обозначим обратимую матрицу S c размером (n, n): на нее должна быть умножена матрица признаков X с размером (m, n).  \n",
    "То есть, вместо матрицы X будет использоваться XS. Подставим в формулу обучения новую матрицу."
   ]
  },
  {
   "cell_type": "markdown",
   "metadata": {},
   "source": [
    "$$\n",
    "w_s = ((X S)^T (X S))^{-1} (X S)^T y\n",
    "$$  "
   ]
  },
  {
   "cell_type": "markdown",
   "metadata": {},
   "source": [
    "\n",
    "Раскроем скобки в соответствии со свойствами матриц:  \n",
    "\n",
    "$$\n",
    "w_s = ((S^T X^T X) S)^{-1} (X S)^T y \n",
    "$$"
   ]
  },
  {
   "cell_type": "markdown",
   "metadata": {},
   "source": [
    "$$\n",
    "w_s = S^{-1} (S^T (X^T X))^{-1} (X S)^T y \n",
    "$$"
   ]
  },
  {
   "cell_type": "markdown",
   "metadata": {},
   "source": [
    "$$\n",
    "w_s = S^{-1} (X^T X)^{-1} (S^T)^{-1} S^T X^T  y \n",
    "$$"
   ]
  },
  {
   "cell_type": "markdown",
   "metadata": {},
   "source": [
    "$$\n",
    "w_s = S^{-1} (X^T X)^{-1} E X^T  y = S^{-1} (X^T X)^{-1} X^T  y \n",
    "$$"
   ]
  },
  {
   "cell_type": "markdown",
   "metadata": {},
   "source": [
    "Подставим в формулу предсказания полученный вектор w\n",
    "$$\n",
    "a_s = X S S^{-1} (X^T X)^{-1} X^T  y\n",
    "$$"
   ]
  },
  {
   "cell_type": "markdown",
   "metadata": {},
   "source": [
    "$$\n",
    "a_s = X E (X^T X)^{-1} X^T y\n",
    "$$"
   ]
  },
  {
   "cell_type": "markdown",
   "metadata": {},
   "source": [
    "$$\n",
    "a_s = X (X^T X)^{-1} X^T y\n",
    "$$\n",
    "\n",
    "Исходный ветор $w = (X^T X)^{-1} X^T y $\n",
    "\n",
    "Подставим вместо выражения вектор $w$ в $a_s$ \n",
    "$$\n",
    "a_s = Xw = a\n",
    "$$"
   ]
  },
  {
   "cell_type": "markdown",
   "metadata": {},
   "source": [
    "**Ответ:** \n",
    "<table> \n",
    "    <tr>\n",
    "        <td bgcolor= #F0FFF0>\n",
    "            <b> \n",
    "                <p align=\"right\">\n",
    "                    <big>\n",
    "                        Преобразование признаков путем их умножения на обратимую матрицу не повлияет на качество предсказаний модели линейной регрессии.\n",
    "</big></p></b></tr></table>  \n",
    "    \n",
    "**Обоснование:** \n",
    "В исходную формулу обучения и предсказания модели линейной регрессии была подставлена преобразованная матрица XS, где S - квадратная обратимая матрица, X - матрица исходных признаков. Путем преобразования формулы с помощью свойств матриц была получена следующая формула предсказаний на новой матрице: \n",
    "$$\n",
    "a_s = X (X^T X)^{-1} X^T y\n",
    "$$  \n",
    "\n",
    "Часть выражения $ (X^T X)^{-1} X^T y $ равна исходному значению форулы обучения w. Следовательно, при подставновке $w$ в $a_s$ получаем: \n",
    "$$\n",
    "a_s = Xw = a\n",
    "$$\n",
    "Следовательно, умножение матрицы признаков X на обратимую квадратную матрицу S не повлиет на значения предсказания модели.\n",
    "\n",
    "Рассмотрим пример.\n",
    "\n",
    "Функция random_matrix(features, s=5):\n",
    "На вход подаются признаки и фиксирующее значение.  \n",
    "Возвращает:\n",
    "- преобразованный набор признаков (матрица признаков умножается на случайную квадратную матрицу)  \n",
    "- возобновляемую квадратную обратимую матрицу, размера по длине признаков   \n",
    "\n",
    "Обратимость матрицы проверяется нахождением определителя матрицы - которые не должен быть равен 0 в случае с обратимой матрицей.   \n",
    "В случае, если матрица не обратима, фунция возвращает ошибку - \"Матрица не обратима\"."
   ]
  },
  {
   "cell_type": "code",
   "execution_count": 62,
   "metadata": {},
   "outputs": [],
   "source": [
    "def random_matrix(features, s=5):\n",
    "    # функция возвращает обратимую квадртаную матрицу по длине признаков и преобраованные признаки\n",
    "    np.random.seed(s)\n",
    "    S = np.random.normal(0, 1, size=(features.shape[1], features.shape[1]))\n",
    "    try: \n",
    "        det_s = np.linalg.det(S)\n",
    "        if det_s != 0:\n",
    "            return features @ S, S\n",
    "    except:\n",
    "        return print('Матрица не обратимая')"
   ]
  },
  {
   "cell_type": "markdown",
   "metadata": {},
   "source": [
    "Из исходного датасета выделим часть признаков для построения матрицы P размера (m, n)."
   ]
  },
  {
   "cell_type": "code",
   "execution_count": 63,
   "metadata": {},
   "outputs": [
    {
     "name": "stdout",
     "output_type": "stream",
     "text": [
      "Размер матрицы (17, 5)\n"
     ]
    },
    {
     "data": {
      "text/plain": [
       "array([[1.00e+00, 3.00e+01, 3.48e+04, 1.00e+00, 0.00e+00],\n",
       "       [0.00e+00, 4.80e+01, 5.12e+04, 1.00e+00, 1.00e+00],\n",
       "       [0.00e+00, 2.80e+01, 4.11e+04, 4.00e+00, 0.00e+00],\n",
       "       [1.00e+00, 3.60e+01, 2.23e+04, 2.00e+00, 0.00e+00],\n",
       "       [1.00e+00, 4.10e+01, 3.09e+04, 3.00e+00, 0.00e+00],\n",
       "       [1.00e+00, 3.00e+01, 4.03e+04, 0.00e+00, 0.00e+00],\n",
       "       [1.00e+00, 4.00e+01, 5.52e+04, 1.00e+00, 0.00e+00],\n",
       "       [1.00e+00, 3.90e+01, 5.99e+04, 0.00e+00, 0.00e+00],\n",
       "       [1.00e+00, 1.90e+01, 1.87e+04, 2.00e+00, 0.00e+00],\n",
       "       [0.00e+00, 4.00e+01, 3.47e+04, 2.00e+00, 0.00e+00],\n",
       "       [1.00e+00, 3.90e+01, 6.15e+04, 2.00e+00, 0.00e+00],\n",
       "       [0.00e+00, 2.40e+01, 5.62e+04, 0.00e+00, 0.00e+00],\n",
       "       [0.00e+00, 4.00e+01, 3.09e+04, 0.00e+00, 0.00e+00],\n",
       "       [0.00e+00, 3.70e+01, 4.32e+04, 2.00e+00, 0.00e+00],\n",
       "       [0.00e+00, 2.80e+01, 3.51e+04, 0.00e+00, 0.00e+00],\n",
       "       [1.00e+00, 3.30e+01, 4.36e+04, 2.00e+00, 0.00e+00],\n",
       "       [0.00e+00, 2.70e+01, 2.54e+04, 2.00e+00, 0.00e+00]])"
      ]
     },
     "execution_count": 63,
     "metadata": {},
     "output_type": "execute_result"
    }
   ],
   "source": [
    "np.random.seed(5)\n",
    "P = np.array(data.sample(17))\n",
    "print('Размер матрицы', P.shape)\n",
    "P"
   ]
  },
  {
   "cell_type": "markdown",
   "metadata": {},
   "source": [
    "Построим рандомную матрицу S размера (n, n) c помощью функции random_matrix."
   ]
  },
  {
   "cell_type": "code",
   "execution_count": 64,
   "metadata": {},
   "outputs": [
    {
     "name": "stdout",
     "output_type": "stream",
     "text": [
      "Размер преобразованных признаков (17, 5)\n",
      "Размер признаков до преобразования (17, 5)\n",
      "Преобразованные признаки\n",
      "[[ 91595.77830599  20978.03134178 -11734.04030422  43122.19081029\n",
      "    3852.68726977]\n",
      " [134765.88456478  30869.28697451 -17271.32676398  63451.03413851\n",
      "    5670.7625544 ]\n",
      " [108171.71855113  24766.75676796 -13847.74949716  50919.46240827\n",
      "    4558.57325327]\n",
      " [ 58710.38000057  13462.0917273   -7544.75980497  27660.93774181\n",
      "    2461.81647856]\n",
      " [ 81344.08820189  18643.47452316 -10441.06728778  38314.31387431\n",
      "    3416.17989975]\n",
      " [106067.6922197   24287.97758892 -13581.23405824  49929.11472269\n",
      "    4463.08153199]\n",
      " [145283.03418939  33266.47587814 -18601.16618133  68388.43572292\n",
      "    6115.4029358 ]\n",
      " [157649.01040576  36093.83726159 -20178.14055017  74203.53006965\n",
      "    6637.3245582 ]\n",
      " [ 49222.24471856  11276.37154412  -6309.84640629  23177.21355779\n",
      "    2069.06326945]\n",
      " [ 91342.2237004   20928.46687773 -11715.96602396  43016.34325393\n",
      "    3840.57295272]\n",
      " [161859.31759988  37056.90511675 -20715.86139039  76185.1790695\n",
      "    6816.75093504]\n",
      " [147899.88535474  33849.45997694 -18912.88499724  69600.20977527\n",
      "    6235.08552586]\n",
      " [ 81343.0992803   18641.39007268 -10439.30563086  38311.67099899\n",
      "    3416.664609  ]\n",
      " [113705.36868258  26040.57481118 -14566.41747128  53532.1970481\n",
      "    4786.45205105]\n",
      " [ 92383.51860255  21155.51875778 -11831.83929487  43490.49844754\n",
      "    3888.56163265]\n",
      " [114753.91611573  26277.52446018 -14694.49592356  54019.83592926\n",
      "    4830.13611152]\n",
      " [ 66859.44224807  15316.8681247   -8572.58379302  31484.07052786\n",
      "    2812.66961862]]\n",
      "\n",
      "Обратимая квадратная матрица\n",
      "[[-0.31178367  0.72900392  0.21782079 -0.8990918  -2.48678065]\n",
      " [ 0.91325152  1.12706373 -1.51409323  1.63929108 -0.4298936 ]\n",
      " [ 2.63128056  0.60182225 -0.33588161  1.23773784  0.11112817]\n",
      " [ 0.12915125  0.07612761 -0.15512816  0.63422534  0.810655  ]\n",
      " [ 0.35480861  1.81259031 -1.3564758  -0.46363197  0.82465384]]\n"
     ]
    }
   ],
   "source": [
    "new_P, S = random_matrix(P, s=6)\n",
    "\n",
    "print('Размер преобразованных признаков', new_P.shape)\n",
    "print('Размер признаков до преобразования', P.shape)\n",
    "print('Преобразованные признаки')\n",
    "print(new_P)\n",
    "print()\n",
    "print('Обратимая квадратная матрица')\n",
    "print(S)"
   ]
  },
  {
   "cell_type": "markdown",
   "metadata": {},
   "source": [
    "Найдем обратную для S матрицу."
   ]
  },
  {
   "cell_type": "code",
   "execution_count": 65,
   "metadata": {
    "scrolled": true
   },
   "outputs": [
    {
     "name": "stdout",
     "output_type": "stream",
     "text": [
      "Обратная матрица S\n",
      "[[-0.25180348 -0.08018932  0.41645152 -0.92464035  0.05169677]\n",
      " [ 0.93137811 -0.38415783  0.08963977  2.34856428  0.28757422]\n",
      " [ 0.96978616 -0.73599284  0.25626738  2.68187393 -0.1301227 ]\n",
      " [ 0.35837249  0.17832142 -0.05284485  1.5071183  -0.30076551]\n",
      " [-0.14214509 -0.2315012   0.01561766  0.49442661  0.17516499]]\n"
     ]
    }
   ],
   "source": [
    "print('Обратная матрица S') \n",
    "print(np.linalg.inv(S))"
   ]
  },
  {
   "cell_type": "markdown",
   "metadata": {},
   "source": [
    "Вернем преобразованную матрицу к исходной путем умножения на обратную матрицу S.\n",
    "Так как при преобразовании матриц появляется различная точность в числах с плавающей точкой, проверим равенство исходной и преобразованной матриц с помощью np.allclose(), которая сравнивает значения в пределах допуска.\n",
    "- X- исходная матрица признаков\n",
    "- S - матрица преобразователь\n",
    "- new - преобразованая матрица признаков"
   ]
  },
  {
   "cell_type": "code",
   "execution_count": 66,
   "metadata": {},
   "outputs": [],
   "source": [
    "def check_matrix(X, S, new):\n",
    "    if np.allclose(X, (new @ np.linalg.inv(S))) == True:\n",
    "        return print('Матрица возвращена к исходной')\n",
    "    else:\n",
    "        return print('Ошибка')"
   ]
  },
  {
   "cell_type": "code",
   "execution_count": 67,
   "metadata": {
    "scrolled": true
   },
   "outputs": [
    {
     "name": "stdout",
     "output_type": "stream",
     "text": [
      "Матрица возвращена к исходной\n"
     ]
    }
   ],
   "source": [
    "check_matrix(P, S, new_P,)"
   ]
  },
  {
   "cell_type": "markdown",
   "metadata": {},
   "source": [
    "**Вывод**\n",
    "***\n",
    "При умножении признаков на обратимую матрицу качество предсказаний линейной регрессии не изменится.  \n",
    "Признаки с помощью обратной матрицы возможно вернуть к исходному состоянию."
   ]
  },
  {
   "cell_type": "markdown",
   "metadata": {},
   "source": [
    "## Алгоритм преобразования"
   ]
  },
  {
   "cell_type": "markdown",
   "metadata": {},
   "source": [
    "**Алгоритм**\n",
    "\n",
    "Признаки размера (m, n) необходимо умножить на квадратную матрицу размера (n, n), при этом матрица 2 должна быть обратима.  \n",
    "\n",
    "- разделить датасет на признаки и целевой признак  \n",
    "- разделить выборку на обучающую и валидационную  \n",
    "- обучить модель линейной регрессии на исходных данных, проверить качество предсказаний метрикой r2\n",
    "- создать обратимую матрицу S с помощью np.random.normal()  \n",
    "- зашифровать признаки с помощью матрицы S путем умножения признаков на S  \n",
    "- обучить новую модель линейной регрессии уже на зашифрованных признаках, проверить качество предсказаний метрикой r2 \n",
    "- сравнить метрики до и после шифрования данных, проверить как изменилось качество предсказания  \n",
    "- дешифровать признаки и сравнить с матрицей исходных признаков"
   ]
  },
  {
   "cell_type": "markdown",
   "metadata": {},
   "source": [
    "**Обоснование**  \n",
    "С помощью данного алгоритма возможно проверить работу модели для данных как в исходном состоянии, так и в преобразованном виде. \n",
    "\n",
    "Построим функцию для обучения модели линейной регресии LinearRegresssion_df:\n",
    "Функция возвращает метрику R2 и выводит ее на экран.  \n",
    "Функция делит датасет на обучающую и валидационную выборки, строит и обучает модель линейной регрессии на обучающей выборке, делает предсказания на валидацтонной.  \n",
    "Метрика R2 считается на валидационной выборке.  \n",
    "Так же, функция выводит на экран размеры выборок после разделения."
   ]
  },
  {
   "cell_type": "code",
   "execution_count": 68,
   "metadata": {},
   "outputs": [],
   "source": [
    "def LinearRegresssion_df(features, target):\n",
    "    \n",
    "    # разделение на выборки обуч. 75% и вал. 25%\n",
    "    features_train, features_valid, target_train, target_valid = train_test_split(\n",
    "        features, target, test_size=.25, random_state=5)\n",
    "    # проверка размера выборок \n",
    "    print('Размер тренировочной выборки признаков:', features_train.shape, \n",
    "          'целевого признака:', target_train.shape, sep='\\n')\n",
    "    print('Размер валидационной выборки признаков:', features_valid.shape, \n",
    "          'целевого признака:', target_valid.shape, sep='\\n')\n",
    "    print()\n",
    "    \n",
    "    model = LinearRegression() # модель\n",
    "\n",
    "    model.fit(features_train, target_train) # обучение\n",
    "\n",
    "    predictions = model.predict(features_valid) # предсказания\n",
    "\n",
    "    r2_score_m = r2_score(target_valid, predictions) # R2\n",
    "\n",
    "    print('R2 модели: {:.5f}'.format(r2_score_m))\n",
    "    \n",
    "    return r2_score_m"
   ]
  },
  {
   "cell_type": "code",
   "execution_count": 69,
   "metadata": {},
   "outputs": [],
   "source": [
    "def shape_df(df, f, t):\n",
    "    print('Размер исходного датасета', df.shape)\n",
    "    print('Размер признаков', f.shape)\n",
    "    print('Размер целевого признака', t.shape)"
   ]
  },
  {
   "cell_type": "markdown",
   "metadata": {},
   "source": [
    "**Вывод**\n",
    "***\n",
    "Проверим далее работу линейной регрессии на исходных данных и на преобразованных."
   ]
  },
  {
   "cell_type": "markdown",
   "metadata": {},
   "source": [
    "## Проверка алгоритма"
   ]
  },
  {
   "cell_type": "markdown",
   "metadata": {},
   "source": [
    "Разделим датасет на признаки и целевой признак, проверим размеры данных до разделения и после."
   ]
  },
  {
   "cell_type": "code",
   "execution_count": 70,
   "metadata": {},
   "outputs": [
    {
     "data": {
      "text/html": [
       "<div>\n",
       "<style scoped>\n",
       "    .dataframe tbody tr th:only-of-type {\n",
       "        vertical-align: middle;\n",
       "    }\n",
       "\n",
       "    .dataframe tbody tr th {\n",
       "        vertical-align: top;\n",
       "    }\n",
       "\n",
       "    .dataframe thead th {\n",
       "        text-align: right;\n",
       "    }\n",
       "</style>\n",
       "<table border=\"1\" class=\"dataframe\">\n",
       "  <thead>\n",
       "    <tr style=\"text-align: right;\">\n",
       "      <th></th>\n",
       "      <th>Пол</th>\n",
       "      <th>Возраст</th>\n",
       "      <th>Зарплата</th>\n",
       "      <th>Члены семьи</th>\n",
       "      <th>Страховые выплаты</th>\n",
       "    </tr>\n",
       "  </thead>\n",
       "  <tbody>\n",
       "    <tr>\n",
       "      <th>0</th>\n",
       "      <td>1</td>\n",
       "      <td>41.0</td>\n",
       "      <td>49600.0</td>\n",
       "      <td>1</td>\n",
       "      <td>0</td>\n",
       "    </tr>\n",
       "    <tr>\n",
       "      <th>1</th>\n",
       "      <td>0</td>\n",
       "      <td>46.0</td>\n",
       "      <td>38000.0</td>\n",
       "      <td>1</td>\n",
       "      <td>1</td>\n",
       "    </tr>\n",
       "  </tbody>\n",
       "</table>\n",
       "</div>"
      ],
      "text/plain": [
       "   Пол  Возраст  Зарплата  Члены семьи  Страховые выплаты\n",
       "0    1     41.0   49600.0            1                  0\n",
       "1    0     46.0   38000.0            1                  1"
      ]
     },
     "execution_count": 70,
     "metadata": {},
     "output_type": "execute_result"
    }
   ],
   "source": [
    "data.head(2)"
   ]
  },
  {
   "cell_type": "code",
   "execution_count": 71,
   "metadata": {},
   "outputs": [],
   "source": [
    "features_1 = data.drop('Страховые выплаты', axis=1)\n",
    "target_1 = data['Страховые выплаты']"
   ]
  },
  {
   "cell_type": "code",
   "execution_count": 72,
   "metadata": {},
   "outputs": [
    {
     "name": "stdout",
     "output_type": "stream",
     "text": [
      "Размер исходного датасета (5000, 5)\n",
      "Размер признаков (5000, 4)\n",
      "Размер целевого признака (5000,)\n"
     ]
    }
   ],
   "source": [
    "shape_df(data, features_1, target_1)"
   ]
  },
  {
   "cell_type": "markdown",
   "metadata": {},
   "source": [
    "С помощью функции LinearRegresssion_df обучим модель линейной регрессии и проверим ее качетсво метрикой R2."
   ]
  },
  {
   "cell_type": "code",
   "execution_count": 73,
   "metadata": {},
   "outputs": [
    {
     "name": "stdout",
     "output_type": "stream",
     "text": [
      "Размер тренировочной выборки признаков:\n",
      "(3750, 4)\n",
      "целевого признака:\n",
      "(3750,)\n",
      "Размер валидационной выборки признаков:\n",
      "(1250, 4)\n",
      "целевого признака:\n",
      "(1250,)\n",
      "\n",
      "R2 модели: 0.42937\n"
     ]
    }
   ],
   "source": [
    "r2_1 = LinearRegresssion_df(features_1, target_1)"
   ]
  },
  {
   "cell_type": "markdown",
   "metadata": {},
   "source": [
    "Следующим шагом необходимо преобразовать исходные признаки. Для этого, вызовем ранее примененную функцию random_matrix на признаках, которая вернет преобразованные признаки и обратимую матрицу, с помощью которой эти преобразования были сделаны (умножение признаков на обратимую матрицу).\n",
    "\n",
    "new_feautures - матрица с преобразованными признаками,  \n",
    "S_after  - обратимая матрица, с помощью которой признаки преобразовались."
   ]
  },
  {
   "cell_type": "code",
   "execution_count": 74,
   "metadata": {},
   "outputs": [
    {
     "name": "stdout",
     "output_type": "stream",
     "text": [
      "Размер признаков после преобразования (5000, 4)\n"
     ]
    },
    {
     "data": {
      "text/html": [
       "<div>\n",
       "<style scoped>\n",
       "    .dataframe tbody tr th:only-of-type {\n",
       "        vertical-align: middle;\n",
       "    }\n",
       "\n",
       "    .dataframe tbody tr th {\n",
       "        vertical-align: top;\n",
       "    }\n",
       "\n",
       "    .dataframe thead th {\n",
       "        text-align: right;\n",
       "    }\n",
       "</style>\n",
       "<table border=\"1\" class=\"dataframe\">\n",
       "  <thead>\n",
       "    <tr style=\"text-align: right;\">\n",
       "      <th></th>\n",
       "      <th>0</th>\n",
       "      <th>1</th>\n",
       "      <th>2</th>\n",
       "      <th>3</th>\n",
       "    </tr>\n",
       "  </thead>\n",
       "  <tbody>\n",
       "    <tr>\n",
       "      <th>0</th>\n",
       "      <td>9309.696404</td>\n",
       "      <td>-16296.395579</td>\n",
       "      <td>-59197.637322</td>\n",
       "      <td>-10187.084299</td>\n",
       "    </tr>\n",
       "    <tr>\n",
       "      <th>1</th>\n",
       "      <td>7133.605806</td>\n",
       "      <td>-12461.660793</td>\n",
       "      <td>-45368.544751</td>\n",
       "      <td>-7813.222868</td>\n",
       "    </tr>\n",
       "    <tr>\n",
       "      <th>2</th>\n",
       "      <td>3942.846428</td>\n",
       "      <td>-6881.377161</td>\n",
       "      <td>-25074.424601</td>\n",
       "      <td>-4319.564185</td>\n",
       "    </tr>\n",
       "    <tr>\n",
       "      <th>3</th>\n",
       "      <td>7824.638666</td>\n",
       "      <td>-13721.138193</td>\n",
       "      <td>-49760.707796</td>\n",
       "      <td>-8557.175219</td>\n",
       "    </tr>\n",
       "    <tr>\n",
       "      <th>4</th>\n",
       "      <td>4899.954497</td>\n",
       "      <td>-8565.627297</td>\n",
       "      <td>-31154.184120</td>\n",
       "      <td>-5364.094845</td>\n",
       "    </tr>\n",
       "  </tbody>\n",
       "</table>\n",
       "</div>"
      ],
      "text/plain": [
       "             0             1             2             3\n",
       "0  9309.696404 -16296.395579 -59197.637322 -10187.084299\n",
       "1  7133.605806 -12461.660793 -45368.544751  -7813.222868\n",
       "2  3942.846428  -6881.377161 -25074.424601  -4319.564185\n",
       "3  7824.638666 -13721.138193 -49760.707796  -8557.175219\n",
       "4  4899.954497  -8565.627297 -31154.184120  -5364.094845"
      ]
     },
     "execution_count": 74,
     "metadata": {},
     "output_type": "execute_result"
    }
   ],
   "source": [
    "new_feautures, S_after = random_matrix(features_1)\n",
    "print('Размер признаков после преобразования', new_feautures.shape)\n",
    "new_feautures.head()"
   ]
  },
  {
   "cell_type": "markdown",
   "metadata": {},
   "source": [
    "Размер матрицы признаков остался неизменным - 5000 строк и 4 столбца, при этом данные изменились.  \n",
    "\n",
    "Проверим работу модели на измененных признаках."
   ]
  },
  {
   "cell_type": "code",
   "execution_count": 75,
   "metadata": {},
   "outputs": [
    {
     "name": "stdout",
     "output_type": "stream",
     "text": [
      "Размер тренировочной выборки признаков:\n",
      "(3750, 4)\n",
      "целевого признака:\n",
      "(3750,)\n",
      "Размер валидационной выборки признаков:\n",
      "(1250, 4)\n",
      "целевого признака:\n",
      "(1250,)\n",
      "\n",
      "R2 модели: 0.42937\n"
     ]
    }
   ],
   "source": [
    "r2_2 = LinearRegresssion_df(new_feautures, target_1)"
   ]
  },
  {
   "cell_type": "code",
   "execution_count": 76,
   "metadata": {},
   "outputs": [
    {
     "data": {
      "text/html": [
       "<div>\n",
       "<style scoped>\n",
       "    .dataframe tbody tr th:only-of-type {\n",
       "        vertical-align: middle;\n",
       "    }\n",
       "\n",
       "    .dataframe tbody tr th {\n",
       "        vertical-align: top;\n",
       "    }\n",
       "\n",
       "    .dataframe thead th {\n",
       "        text-align: right;\n",
       "    }\n",
       "</style>\n",
       "<table border=\"1\" class=\"dataframe\">\n",
       "  <thead>\n",
       "    <tr style=\"text-align: right;\">\n",
       "      <th></th>\n",
       "      <th>R2_score</th>\n",
       "    </tr>\n",
       "  </thead>\n",
       "  <tbody>\n",
       "    <tr>\n",
       "      <th>до преобразования</th>\n",
       "      <td>0.429374</td>\n",
       "    </tr>\n",
       "    <tr>\n",
       "      <th>после преобразования</th>\n",
       "      <td>0.429374</td>\n",
       "    </tr>\n",
       "  </tbody>\n",
       "</table>\n",
       "</div>"
      ],
      "text/plain": [
       "                      R2_score\n",
       "до преобразования     0.429374\n",
       "после преобразования  0.429374"
      ]
     },
     "execution_count": 76,
     "metadata": {},
     "output_type": "execute_result"
    }
   ],
   "source": [
    "pd.DataFrame({'R2_score': [r2_1, r2_2]}, index=['до преобразования', 'после преобразования'])"
   ]
  },
  {
   "cell_type": "markdown",
   "metadata": {},
   "source": [
    "Метрика R2 одинакова для исходных данных и для преобразованных.  \n",
    "\n",
    "Вернемся к исходным признакам умножив преобразованную матрицу на обратную."
   ]
  },
  {
   "cell_type": "code",
   "execution_count": 77,
   "metadata": {},
   "outputs": [
    {
     "name": "stdout",
     "output_type": "stream",
     "text": [
      "Матрица возвращена к исходной\n"
     ]
    }
   ],
   "source": [
    "check_matrix(np.array(features_1), S_after, new_feautures)"
   ]
  },
  {
   "cell_type": "code",
   "execution_count": 78,
   "metadata": {},
   "outputs": [
    {
     "data": {
      "text/plain": [
       "(5000, 4)"
      ]
     },
     "execution_count": 78,
     "metadata": {},
     "output_type": "execute_result"
    }
   ],
   "source": [
    "start_df = new_feautures @ np.linalg.inv(S_after)\n",
    "start_df.shape"
   ]
  },
  {
   "cell_type": "markdown",
   "metadata": {},
   "source": [
    "**Вывод**\n",
    "***\n",
    "Метрика R2 осталась неизменной для исходных данных и для преобраованных и составила 0.43 для модели линейной регрессии без учета гиперпараметров."
   ]
  },
  {
   "cell_type": "markdown",
   "metadata": {},
   "source": [
    "## Общий вывод"
   ]
  },
  {
   "cell_type": "markdown",
   "metadata": {},
   "source": [
    "Исходные данные пользователей содержат 5000 строк и 5 столбцов, целевой признак для модели линейной регрессии - количество страховых выплат.  \n",
    "\n",
    "Данные пользователей возможно преобразовать путем умножения матрицы признаков (m, n) на обратимую матрицу размера (n, n).   \n",
    "\n",
    "В этом случае качетсво предсказаний линейной регрессии останется неизменным:\n",
    "\n",
    "- **модель линейной регрессии показала одинаковое качество предсказаний** как на исходных данных, так и на преобразованных, метрика R2 составила 0,43.\n",
    "\n",
    "После преобразования данные возможно вернуть в исходное состояние (с учетом допуска преобразования) умножив преобразованные данные на обратную матрицу-преобразователь."
   ]
  }
 ],
 "metadata": {
  "ExecuteTimeLog": [
   {
    "duration": 2099,
    "start_time": "2022-04-12T16:16:10.207Z"
   },
   {
    "duration": 23,
    "start_time": "2022-04-12T16:17:25.034Z"
   },
   {
    "duration": 36,
    "start_time": "2022-04-12T16:17:29.248Z"
   },
   {
    "duration": 17,
    "start_time": "2022-04-12T16:17:40.685Z"
   },
   {
    "duration": 22,
    "start_time": "2022-04-12T16:17:56.748Z"
   },
   {
    "duration": 11,
    "start_time": "2022-04-12T16:18:10.162Z"
   },
   {
    "duration": 33,
    "start_time": "2022-04-12T16:18:15.496Z"
   },
   {
    "duration": 37,
    "start_time": "2022-04-12T16:18:25.616Z"
   },
   {
    "duration": 148,
    "start_time": "2022-04-12T17:01:56.339Z"
   },
   {
    "duration": 10,
    "start_time": "2022-04-12T17:01:59.785Z"
   },
   {
    "duration": 9,
    "start_time": "2022-04-12T17:02:03.647Z"
   },
   {
    "duration": 5,
    "start_time": "2022-04-12T17:07:08.757Z"
   },
   {
    "duration": 12,
    "start_time": "2022-04-12T17:07:18.238Z"
   },
   {
    "duration": 5,
    "start_time": "2022-04-12T17:08:03.530Z"
   },
   {
    "duration": 12,
    "start_time": "2022-04-12T17:08:03.939Z"
   },
   {
    "duration": 9,
    "start_time": "2022-04-12T17:08:40.940Z"
   },
   {
    "duration": 7,
    "start_time": "2022-04-12T17:08:45.857Z"
   },
   {
    "duration": 4,
    "start_time": "2022-04-12T17:08:55.469Z"
   },
   {
    "duration": 9,
    "start_time": "2022-04-12T17:08:55.804Z"
   },
   {
    "duration": 11,
    "start_time": "2022-04-12T17:12:08.224Z"
   },
   {
    "duration": 15,
    "start_time": "2022-04-12T17:12:11.354Z"
   },
   {
    "duration": 6,
    "start_time": "2022-04-12T17:13:10.127Z"
   },
   {
    "duration": 1559,
    "start_time": "2022-04-13T11:53:47.266Z"
   },
   {
    "duration": 14,
    "start_time": "2022-04-13T11:53:48.827Z"
   },
   {
    "duration": 13,
    "start_time": "2022-04-13T11:53:48.842Z"
   },
   {
    "duration": 20,
    "start_time": "2022-04-13T11:53:48.857Z"
   },
   {
    "duration": 32,
    "start_time": "2022-04-13T11:53:48.880Z"
   },
   {
    "duration": 59,
    "start_time": "2022-04-13T11:53:48.913Z"
   },
   {
    "duration": 40,
    "start_time": "2022-04-13T11:53:48.974Z"
   },
   {
    "duration": 10,
    "start_time": "2022-04-13T11:53:49.015Z"
   },
   {
    "duration": 4,
    "start_time": "2022-04-13T11:53:49.026Z"
   },
   {
    "duration": 5,
    "start_time": "2022-04-13T11:54:10.812Z"
   },
   {
    "duration": 6,
    "start_time": "2022-04-13T11:54:31.855Z"
   },
   {
    "duration": 101,
    "start_time": "2022-04-13T11:54:49.630Z"
   },
   {
    "duration": 4,
    "start_time": "2022-04-13T11:54:52.615Z"
   },
   {
    "duration": 4,
    "start_time": "2022-04-13T11:54:56.929Z"
   },
   {
    "duration": 6,
    "start_time": "2022-04-13T11:55:03.314Z"
   },
   {
    "duration": 6,
    "start_time": "2022-04-13T12:02:07.786Z"
   },
   {
    "duration": 6,
    "start_time": "2022-04-13T12:03:04.728Z"
   },
   {
    "duration": 7,
    "start_time": "2022-04-13T12:03:06.191Z"
   },
   {
    "duration": 5,
    "start_time": "2022-04-13T12:03:27.947Z"
   },
   {
    "duration": 101,
    "start_time": "2022-04-13T12:03:30.948Z"
   },
   {
    "duration": 5,
    "start_time": "2022-04-13T12:03:43.398Z"
   },
   {
    "duration": 6,
    "start_time": "2022-04-13T12:03:45.735Z"
   },
   {
    "duration": 9,
    "start_time": "2022-04-13T12:04:44.022Z"
   },
   {
    "duration": 8,
    "start_time": "2022-04-13T12:05:01.730Z"
   },
   {
    "duration": 9,
    "start_time": "2022-04-13T12:17:41.901Z"
   },
   {
    "duration": 7,
    "start_time": "2022-04-13T12:18:54.752Z"
   },
   {
    "duration": 13,
    "start_time": "2022-04-13T12:21:19.665Z"
   },
   {
    "duration": 7,
    "start_time": "2022-04-13T12:21:26.857Z"
   },
   {
    "duration": 11,
    "start_time": "2022-04-13T12:21:36.899Z"
   },
   {
    "duration": 6,
    "start_time": "2022-04-13T12:22:51.447Z"
   },
   {
    "duration": 6,
    "start_time": "2022-04-13T12:23:22.964Z"
   },
   {
    "duration": 53,
    "start_time": "2022-04-13T12:23:51.634Z"
   },
   {
    "duration": 18,
    "start_time": "2022-04-13T12:23:58.726Z"
   },
   {
    "duration": 23,
    "start_time": "2022-04-13T12:24:19.701Z"
   },
   {
    "duration": 10,
    "start_time": "2022-04-13T12:59:26.843Z"
   },
   {
    "duration": 11,
    "start_time": "2022-04-13T12:59:30.674Z"
   },
   {
    "duration": 5,
    "start_time": "2022-04-13T12:59:36.349Z"
   },
   {
    "duration": 32,
    "start_time": "2022-04-13T12:59:38.852Z"
   },
   {
    "duration": 6,
    "start_time": "2022-04-13T13:01:36.365Z"
   },
   {
    "duration": 9,
    "start_time": "2022-04-13T13:01:40.702Z"
   },
   {
    "duration": 6,
    "start_time": "2022-04-13T13:01:44.778Z"
   },
   {
    "duration": 5,
    "start_time": "2022-04-13T13:01:55.068Z"
   },
   {
    "duration": 7,
    "start_time": "2022-04-13T13:41:25.773Z"
   },
   {
    "duration": 7,
    "start_time": "2022-04-13T13:41:29.386Z"
   },
   {
    "duration": 4,
    "start_time": "2022-04-13T13:41:32.063Z"
   },
   {
    "duration": 8,
    "start_time": "2022-04-13T13:41:48.686Z"
   },
   {
    "duration": 10,
    "start_time": "2022-04-13T13:41:55.334Z"
   },
   {
    "duration": 4,
    "start_time": "2022-04-13T13:42:08.908Z"
   },
   {
    "duration": 9,
    "start_time": "2022-04-13T13:56:38.890Z"
   },
   {
    "duration": 9,
    "start_time": "2022-04-13T13:57:08.461Z"
   },
   {
    "duration": 9,
    "start_time": "2022-04-13T13:57:15.557Z"
   },
   {
    "duration": 12,
    "start_time": "2022-04-13T13:57:40.014Z"
   },
   {
    "duration": 5,
    "start_time": "2022-04-13T14:03:49.648Z"
   },
   {
    "duration": 8,
    "start_time": "2022-04-13T14:03:54.567Z"
   },
   {
    "duration": 5,
    "start_time": "2022-04-13T14:04:00.167Z"
   },
   {
    "duration": 5,
    "start_time": "2022-04-13T14:06:00.437Z"
   },
   {
    "duration": 6,
    "start_time": "2022-04-13T14:06:09.775Z"
   },
   {
    "duration": 6,
    "start_time": "2022-04-13T14:06:24.349Z"
   },
   {
    "duration": 99,
    "start_time": "2022-04-13T14:06:57.586Z"
   },
   {
    "duration": 96,
    "start_time": "2022-04-13T14:07:09.212Z"
   },
   {
    "duration": 91,
    "start_time": "2022-04-13T14:07:16.758Z"
   },
   {
    "duration": 6,
    "start_time": "2022-04-13T14:07:20.949Z"
   },
   {
    "duration": 10,
    "start_time": "2022-04-13T14:07:47.540Z"
   },
   {
    "duration": 7,
    "start_time": "2022-04-13T14:13:12.078Z"
   },
   {
    "duration": 12,
    "start_time": "2022-04-13T14:13:25.370Z"
   },
   {
    "duration": 5,
    "start_time": "2022-04-13T14:16:25.537Z"
   },
   {
    "duration": 6,
    "start_time": "2022-04-13T14:16:36.984Z"
   },
   {
    "duration": 7,
    "start_time": "2022-04-13T14:16:45.150Z"
   },
   {
    "duration": 7,
    "start_time": "2022-04-13T14:20:52.150Z"
   },
   {
    "duration": 8,
    "start_time": "2022-04-13T14:21:07.723Z"
   },
   {
    "duration": 11,
    "start_time": "2022-04-13T14:21:16.391Z"
   },
   {
    "duration": 4,
    "start_time": "2022-04-13T14:33:28.317Z"
   },
   {
    "duration": 3,
    "start_time": "2022-04-13T14:33:32.651Z"
   },
   {
    "duration": 4,
    "start_time": "2022-04-13T14:33:37.412Z"
   },
   {
    "duration": 5,
    "start_time": "2022-04-13T14:34:37.231Z"
   },
   {
    "duration": 5,
    "start_time": "2022-04-13T14:35:45.841Z"
   },
   {
    "duration": 5,
    "start_time": "2022-04-13T14:36:06.519Z"
   },
   {
    "duration": 6,
    "start_time": "2022-04-13T15:01:59.212Z"
   },
   {
    "duration": 99,
    "start_time": "2022-04-13T16:09:09.684Z"
   },
   {
    "duration": 5,
    "start_time": "2022-04-13T16:29:11.864Z"
   },
   {
    "duration": 9,
    "start_time": "2022-04-13T17:10:55.228Z"
   },
   {
    "duration": 12,
    "start_time": "2022-04-13T17:11:13.804Z"
   },
   {
    "duration": 25,
    "start_time": "2022-04-13T17:11:35.444Z"
   },
   {
    "duration": 2,
    "start_time": "2022-04-13T17:15:20.295Z"
   },
   {
    "duration": 13,
    "start_time": "2022-04-13T17:16:03.772Z"
   },
   {
    "duration": 4,
    "start_time": "2022-04-13T17:16:14.666Z"
   },
   {
    "duration": 20,
    "start_time": "2022-04-13T17:16:20.770Z"
   },
   {
    "duration": 5,
    "start_time": "2022-04-13T17:16:47.986Z"
   },
   {
    "duration": 6,
    "start_time": "2022-04-13T17:16:50.955Z"
   },
   {
    "duration": 3,
    "start_time": "2022-04-13T17:18:15.958Z"
   },
   {
    "duration": 3,
    "start_time": "2022-04-13T17:18:43.440Z"
   },
   {
    "duration": 4,
    "start_time": "2022-04-13T17:22:35.217Z"
   },
   {
    "duration": 3,
    "start_time": "2022-04-13T17:22:57.240Z"
   },
   {
    "duration": 4,
    "start_time": "2022-04-13T17:23:09.836Z"
   },
   {
    "duration": 4,
    "start_time": "2022-04-13T17:23:20.053Z"
   },
   {
    "duration": 15,
    "start_time": "2022-04-13T17:23:26.669Z"
   },
   {
    "duration": 9,
    "start_time": "2022-04-13T17:23:45.269Z"
   },
   {
    "duration": 4,
    "start_time": "2022-04-13T17:40:42.518Z"
   },
   {
    "duration": 5,
    "start_time": "2022-04-13T17:40:52.609Z"
   },
   {
    "duration": 16,
    "start_time": "2022-04-13T17:40:53.753Z"
   },
   {
    "duration": 3,
    "start_time": "2022-04-13T17:41:15.892Z"
   },
   {
    "duration": 5,
    "start_time": "2022-04-13T17:41:20.338Z"
   },
   {
    "duration": 11,
    "start_time": "2022-04-13T17:41:21.059Z"
   },
   {
    "duration": 3,
    "start_time": "2022-04-13T18:03:33.893Z"
   },
   {
    "duration": 72,
    "start_time": "2022-04-13T18:03:33.898Z"
   },
   {
    "duration": 9,
    "start_time": "2022-04-13T18:03:33.971Z"
   },
   {
    "duration": 12,
    "start_time": "2022-04-13T18:03:33.982Z"
   },
   {
    "duration": 26,
    "start_time": "2022-04-13T18:03:33.997Z"
   },
   {
    "duration": 3,
    "start_time": "2022-04-13T18:03:34.025Z"
   },
   {
    "duration": 11,
    "start_time": "2022-04-13T18:03:34.030Z"
   },
   {
    "duration": 36,
    "start_time": "2022-04-13T18:03:34.043Z"
   },
   {
    "duration": 5,
    "start_time": "2022-04-13T18:03:34.080Z"
   },
   {
    "duration": 9,
    "start_time": "2022-04-13T18:03:34.086Z"
   },
   {
    "duration": 7,
    "start_time": "2022-04-13T18:03:34.096Z"
   },
   {
    "duration": 8,
    "start_time": "2022-04-13T18:03:36.684Z"
   },
   {
    "duration": 4,
    "start_time": "2022-04-13T18:03:39.226Z"
   },
   {
    "duration": 7,
    "start_time": "2022-04-13T18:03:42.194Z"
   },
   {
    "duration": 7,
    "start_time": "2022-04-13T18:03:44.488Z"
   },
   {
    "duration": 334,
    "start_time": "2022-04-13T18:05:51.876Z"
   },
   {
    "duration": 312,
    "start_time": "2022-04-13T18:06:23.100Z"
   },
   {
    "duration": 340,
    "start_time": "2022-04-13T18:06:33.240Z"
   },
   {
    "duration": 7,
    "start_time": "2022-04-13T18:06:45.295Z"
   },
   {
    "duration": 7,
    "start_time": "2022-04-13T18:06:48.107Z"
   },
   {
    "duration": 4,
    "start_time": "2022-04-13T18:06:49.171Z"
   },
   {
    "duration": 7,
    "start_time": "2022-04-13T18:06:51.716Z"
   },
   {
    "duration": 7,
    "start_time": "2022-04-13T18:06:57.127Z"
   },
   {
    "duration": 10,
    "start_time": "2022-04-13T18:38:30.340Z"
   },
   {
    "duration": 9,
    "start_time": "2022-04-13T18:38:48.473Z"
   },
   {
    "duration": 8,
    "start_time": "2022-04-13T18:38:52.899Z"
   },
   {
    "duration": 10,
    "start_time": "2022-04-13T18:39:14.528Z"
   },
   {
    "duration": 9,
    "start_time": "2022-04-13T18:41:20.182Z"
   },
   {
    "duration": 8,
    "start_time": "2022-04-13T18:41:29.345Z"
   },
   {
    "duration": 7,
    "start_time": "2022-04-13T18:41:32.540Z"
   },
   {
    "duration": 7,
    "start_time": "2022-04-13T18:41:35.580Z"
   },
   {
    "duration": 7,
    "start_time": "2022-04-13T18:41:39.160Z"
   },
   {
    "duration": 8,
    "start_time": "2022-04-13T18:41:41.782Z"
   },
   {
    "duration": 7,
    "start_time": "2022-04-13T18:42:30.108Z"
   },
   {
    "duration": 8,
    "start_time": "2022-04-13T18:45:00.018Z"
   },
   {
    "duration": 4,
    "start_time": "2022-04-13T18:45:25.990Z"
   },
   {
    "duration": 10,
    "start_time": "2022-04-13T18:45:30.098Z"
   },
   {
    "duration": 4,
    "start_time": "2022-04-13T18:45:39.740Z"
   },
   {
    "duration": 10,
    "start_time": "2022-04-13T18:45:59.523Z"
   },
   {
    "duration": 79,
    "start_time": "2022-04-13T18:47:00.160Z"
   },
   {
    "duration": 12,
    "start_time": "2022-04-13T18:47:13.820Z"
   },
   {
    "duration": 7,
    "start_time": "2022-04-13T18:48:05.925Z"
   },
   {
    "duration": 8,
    "start_time": "2022-04-13T18:48:27.815Z"
   },
   {
    "duration": 7,
    "start_time": "2022-04-13T18:48:35.125Z"
   },
   {
    "duration": 3,
    "start_time": "2022-04-13T19:01:14.597Z"
   },
   {
    "duration": 6,
    "start_time": "2022-04-13T19:01:51.955Z"
   },
   {
    "duration": 11,
    "start_time": "2022-04-13T19:01:52.797Z"
   },
   {
    "duration": 4,
    "start_time": "2022-04-13T19:04:26.350Z"
   },
   {
    "duration": 3,
    "start_time": "2022-04-13T19:04:35.138Z"
   },
   {
    "duration": 4,
    "start_time": "2022-04-13T19:04:42.385Z"
   },
   {
    "duration": 10,
    "start_time": "2022-04-13T19:04:44.548Z"
   },
   {
    "duration": 11,
    "start_time": "2022-04-13T19:04:58.404Z"
   },
   {
    "duration": 11,
    "start_time": "2022-04-13T19:05:18.238Z"
   },
   {
    "duration": 3,
    "start_time": "2022-04-13T19:05:57.928Z"
   },
   {
    "duration": 3,
    "start_time": "2022-04-13T19:05:58.440Z"
   },
   {
    "duration": 4,
    "start_time": "2022-04-13T19:06:02.574Z"
   },
   {
    "duration": 11,
    "start_time": "2022-04-13T19:06:03.229Z"
   },
   {
    "duration": 4,
    "start_time": "2022-04-13T19:06:41.882Z"
   },
   {
    "duration": 11,
    "start_time": "2022-04-13T19:06:45.876Z"
   },
   {
    "duration": 3,
    "start_time": "2022-04-13T19:06:50.729Z"
   },
   {
    "duration": 5,
    "start_time": "2022-04-13T19:07:01.060Z"
   },
   {
    "duration": 15,
    "start_time": "2022-04-13T19:07:43.501Z"
   },
   {
    "duration": 10,
    "start_time": "2022-04-13T19:08:03.800Z"
   },
   {
    "duration": 8,
    "start_time": "2022-04-13T19:08:10.112Z"
   },
   {
    "duration": 10,
    "start_time": "2022-04-13T19:09:23.409Z"
   },
   {
    "duration": 4,
    "start_time": "2022-04-13T19:09:25.424Z"
   },
   {
    "duration": 11,
    "start_time": "2022-04-13T19:09:26.126Z"
   },
   {
    "duration": 10,
    "start_time": "2022-04-13T19:09:39.124Z"
   },
   {
    "duration": 13,
    "start_time": "2022-04-13T19:10:26.278Z"
   },
   {
    "duration": 15,
    "start_time": "2022-04-13T19:10:56.373Z"
   },
   {
    "duration": 15,
    "start_time": "2022-04-13T19:11:04.077Z"
   },
   {
    "duration": 10,
    "start_time": "2022-04-13T19:11:16.361Z"
   },
   {
    "duration": 9,
    "start_time": "2022-04-13T19:11:23.425Z"
   },
   {
    "duration": 12,
    "start_time": "2022-04-13T19:11:34.667Z"
   },
   {
    "duration": 3,
    "start_time": "2022-04-13T19:13:11.614Z"
   },
   {
    "duration": 18,
    "start_time": "2022-04-13T19:13:11.619Z"
   },
   {
    "duration": 9,
    "start_time": "2022-04-13T19:13:11.638Z"
   },
   {
    "duration": 12,
    "start_time": "2022-04-13T19:13:11.648Z"
   },
   {
    "duration": 31,
    "start_time": "2022-04-13T19:13:11.662Z"
   },
   {
    "duration": 3,
    "start_time": "2022-04-13T19:13:11.694Z"
   },
   {
    "duration": 8,
    "start_time": "2022-04-13T19:13:11.699Z"
   },
   {
    "duration": 10,
    "start_time": "2022-04-13T19:13:11.709Z"
   },
   {
    "duration": 4,
    "start_time": "2022-04-13T19:13:11.721Z"
   },
   {
    "duration": 7,
    "start_time": "2022-04-13T19:13:11.726Z"
   },
   {
    "duration": 46,
    "start_time": "2022-04-13T19:13:11.734Z"
   },
   {
    "duration": 91,
    "start_time": "2022-04-13T19:13:11.782Z"
   },
   {
    "duration": 12,
    "start_time": "2022-04-13T19:13:11.876Z"
   },
   {
    "duration": 10,
    "start_time": "2022-04-13T19:13:11.975Z"
   },
   {
    "duration": 88,
    "start_time": "2022-04-13T19:13:11.986Z"
   },
   {
    "duration": 10,
    "start_time": "2022-04-13T19:13:12.076Z"
   },
   {
    "duration": 97,
    "start_time": "2022-04-13T19:13:12.088Z"
   },
   {
    "duration": 6,
    "start_time": "2022-04-13T19:13:12.187Z"
   },
   {
    "duration": 6,
    "start_time": "2022-04-13T19:13:12.194Z"
   },
   {
    "duration": 5,
    "start_time": "2022-04-13T19:13:12.201Z"
   },
   {
    "duration": 15,
    "start_time": "2022-04-13T19:13:12.207Z"
   },
   {
    "duration": 3,
    "start_time": "2022-04-13T19:13:12.224Z"
   },
   {
    "duration": 12,
    "start_time": "2022-04-13T19:13:12.229Z"
   },
   {
    "duration": 42,
    "start_time": "2022-04-13T19:13:12.243Z"
   },
   {
    "duration": 9,
    "start_time": "2022-04-13T19:13:12.287Z"
   },
   {
    "duration": 18,
    "start_time": "2022-04-13T19:13:12.299Z"
   },
   {
    "duration": 57,
    "start_time": "2022-04-13T19:13:12.318Z"
   },
   {
    "duration": 18,
    "start_time": "2022-04-13T19:14:14.665Z"
   },
   {
    "duration": 20,
    "start_time": "2022-04-13T19:14:30.094Z"
   },
   {
    "duration": 4,
    "start_time": "2022-04-13T19:15:32.325Z"
   },
   {
    "duration": 20,
    "start_time": "2022-04-13T19:15:38.543Z"
   },
   {
    "duration": 5,
    "start_time": "2022-04-13T19:16:20.086Z"
   },
   {
    "duration": 18,
    "start_time": "2022-04-13T19:16:25.816Z"
   },
   {
    "duration": 4,
    "start_time": "2022-04-13T19:16:35.000Z"
   },
   {
    "duration": 22,
    "start_time": "2022-04-13T19:16:35.006Z"
   },
   {
    "duration": 12,
    "start_time": "2022-04-13T19:16:35.031Z"
   },
   {
    "duration": 16,
    "start_time": "2022-04-13T19:16:35.045Z"
   },
   {
    "duration": 33,
    "start_time": "2022-04-13T19:16:35.065Z"
   },
   {
    "duration": 3,
    "start_time": "2022-04-13T19:16:35.100Z"
   },
   {
    "duration": 10,
    "start_time": "2022-04-13T19:16:35.104Z"
   },
   {
    "duration": 10,
    "start_time": "2022-04-13T19:16:35.116Z"
   },
   {
    "duration": 4,
    "start_time": "2022-04-13T19:16:35.127Z"
   },
   {
    "duration": 6,
    "start_time": "2022-04-13T19:16:35.132Z"
   },
   {
    "duration": 36,
    "start_time": "2022-04-13T19:16:35.140Z"
   },
   {
    "duration": 96,
    "start_time": "2022-04-13T19:16:35.178Z"
   },
   {
    "duration": 5,
    "start_time": "2022-04-13T19:16:35.276Z"
   },
   {
    "duration": 95,
    "start_time": "2022-04-13T19:16:35.284Z"
   },
   {
    "duration": 15,
    "start_time": "2022-04-13T19:16:35.380Z"
   },
   {
    "duration": 87,
    "start_time": "2022-04-13T19:16:35.397Z"
   },
   {
    "duration": 91,
    "start_time": "2022-04-13T19:16:35.487Z"
   },
   {
    "duration": 41,
    "start_time": "2022-04-13T19:16:35.579Z"
   },
   {
    "duration": 9,
    "start_time": "2022-04-13T19:16:35.621Z"
   },
   {
    "duration": 6,
    "start_time": "2022-04-13T19:16:35.632Z"
   },
   {
    "duration": 54,
    "start_time": "2022-04-13T19:16:35.639Z"
   },
   {
    "duration": 28,
    "start_time": "2022-04-13T19:16:35.694Z"
   },
   {
    "duration": 20,
    "start_time": "2022-04-13T19:16:35.724Z"
   },
   {
    "duration": 11,
    "start_time": "2022-04-13T19:16:35.745Z"
   },
   {
    "duration": 8,
    "start_time": "2022-04-13T19:16:35.757Z"
   },
   {
    "duration": 13,
    "start_time": "2022-04-13T19:16:35.766Z"
   },
   {
    "duration": 17,
    "start_time": "2022-04-13T19:16:35.781Z"
   },
   {
    "duration": 16,
    "start_time": "2022-04-13T19:16:50.621Z"
   },
   {
    "duration": 14,
    "start_time": "2022-04-13T19:17:43.138Z"
   },
   {
    "duration": 16,
    "start_time": "2022-04-13T19:18:12.075Z"
   },
   {
    "duration": 21,
    "start_time": "2022-04-13T19:19:11.930Z"
   },
   {
    "duration": 19,
    "start_time": "2022-04-13T19:19:16.577Z"
   },
   {
    "duration": 19,
    "start_time": "2022-04-13T19:19:57.319Z"
   },
   {
    "duration": 15,
    "start_time": "2022-04-13T19:21:25.358Z"
   },
   {
    "duration": 14,
    "start_time": "2022-04-13T19:21:38.311Z"
   },
   {
    "duration": 21,
    "start_time": "2022-04-13T19:22:05.501Z"
   },
   {
    "duration": 16,
    "start_time": "2022-04-13T19:22:41.778Z"
   },
   {
    "duration": 16,
    "start_time": "2022-04-13T19:23:07.496Z"
   },
   {
    "duration": 16,
    "start_time": "2022-04-13T19:23:10.529Z"
   },
   {
    "duration": 16,
    "start_time": "2022-04-13T19:23:31.227Z"
   },
   {
    "duration": 11,
    "start_time": "2022-04-13T19:23:41.720Z"
   },
   {
    "duration": 7,
    "start_time": "2022-04-13T19:24:31.354Z"
   },
   {
    "duration": 24,
    "start_time": "2022-04-13T19:24:36.999Z"
   },
   {
    "duration": 15,
    "start_time": "2022-04-13T19:24:52.574Z"
   },
   {
    "duration": 12,
    "start_time": "2022-04-13T19:26:21.146Z"
   },
   {
    "duration": 7,
    "start_time": "2022-04-13T19:26:26.168Z"
   },
   {
    "duration": 16,
    "start_time": "2022-04-13T19:26:30.243Z"
   },
   {
    "duration": 22,
    "start_time": "2022-04-13T19:27:07.583Z"
   },
   {
    "duration": 23,
    "start_time": "2022-04-13T19:27:32.078Z"
   },
   {
    "duration": 88,
    "start_time": "2022-04-13T19:32:42.736Z"
   },
   {
    "duration": 119,
    "start_time": "2022-04-13T19:50:29.519Z"
   },
   {
    "duration": 4,
    "start_time": "2022-04-13T19:51:21.514Z"
   },
   {
    "duration": 11,
    "start_time": "2022-04-13T19:51:22.958Z"
   },
   {
    "duration": 11,
    "start_time": "2022-04-13T19:51:27.114Z"
   },
   {
    "duration": 8,
    "start_time": "2022-04-13T19:51:31.862Z"
   },
   {
    "duration": 11,
    "start_time": "2022-04-13T19:51:32.646Z"
   },
   {
    "duration": 24,
    "start_time": "2022-04-13T19:51:35.972Z"
   },
   {
    "duration": 11,
    "start_time": "2022-04-13T19:54:14.147Z"
   },
   {
    "duration": 6,
    "start_time": "2022-04-13T19:55:08.052Z"
   },
   {
    "duration": 389,
    "start_time": "2022-04-13T19:55:18.243Z"
   },
   {
    "duration": 54,
    "start_time": "2022-04-13T19:55:32.725Z"
   },
   {
    "duration": 406,
    "start_time": "2022-04-13T19:55:36.194Z"
   },
   {
    "duration": 5,
    "start_time": "2022-04-13T19:56:15.565Z"
   },
   {
    "duration": 381,
    "start_time": "2022-04-13T19:56:16.019Z"
   },
   {
    "duration": 4,
    "start_time": "2022-04-13T19:56:45.936Z"
   },
   {
    "duration": 5,
    "start_time": "2022-04-13T19:56:58.180Z"
   },
   {
    "duration": 5,
    "start_time": "2022-04-13T19:57:16.542Z"
   },
   {
    "duration": 4,
    "start_time": "2022-04-13T19:57:17.424Z"
   },
   {
    "duration": 371,
    "start_time": "2022-04-13T19:57:18.566Z"
   },
   {
    "duration": 5,
    "start_time": "2022-04-13T19:58:41.873Z"
   },
   {
    "duration": 2015,
    "start_time": "2022-04-13T19:58:43.334Z"
   },
   {
    "duration": 84,
    "start_time": "2022-04-13T20:01:15.140Z"
   },
   {
    "duration": 129,
    "start_time": "2022-04-13T20:01:29.206Z"
   },
   {
    "duration": 8,
    "start_time": "2022-04-14T09:16:19.626Z"
   },
   {
    "duration": 43,
    "start_time": "2022-04-14T09:16:42.447Z"
   },
   {
    "duration": 1704,
    "start_time": "2022-04-14T09:16:45.696Z"
   },
   {
    "duration": 17,
    "start_time": "2022-04-14T09:16:47.402Z"
   },
   {
    "duration": 12,
    "start_time": "2022-04-14T09:16:47.420Z"
   },
   {
    "duration": 12,
    "start_time": "2022-04-14T09:16:47.434Z"
   },
   {
    "duration": 31,
    "start_time": "2022-04-14T09:16:47.447Z"
   },
   {
    "duration": 3,
    "start_time": "2022-04-14T09:16:47.480Z"
   },
   {
    "duration": 10,
    "start_time": "2022-04-14T09:16:47.485Z"
   },
   {
    "duration": 4,
    "start_time": "2022-04-14T09:16:47.497Z"
   },
   {
    "duration": 79,
    "start_time": "2022-04-14T09:16:50.251Z"
   },
   {
    "duration": 4,
    "start_time": "2022-04-14T09:16:57.205Z"
   },
   {
    "duration": 433,
    "start_time": "2022-04-14T09:16:57.667Z"
   },
   {
    "duration": 4,
    "start_time": "2022-04-14T09:18:43.526Z"
   },
   {
    "duration": 399,
    "start_time": "2022-04-14T09:18:47.122Z"
   },
   {
    "duration": 4,
    "start_time": "2022-04-14T09:18:56.080Z"
   },
   {
    "duration": 412,
    "start_time": "2022-04-14T09:18:58.057Z"
   },
   {
    "duration": 4,
    "start_time": "2022-04-14T09:19:03.973Z"
   },
   {
    "duration": 316,
    "start_time": "2022-04-14T09:19:05.459Z"
   },
   {
    "duration": 5,
    "start_time": "2022-04-14T09:19:11.616Z"
   },
   {
    "duration": 337,
    "start_time": "2022-04-14T09:19:12.547Z"
   },
   {
    "duration": 4,
    "start_time": "2022-04-14T09:19:17.144Z"
   },
   {
    "duration": 365,
    "start_time": "2022-04-14T09:19:18.325Z"
   },
   {
    "duration": 368,
    "start_time": "2022-04-14T09:19:33.340Z"
   },
   {
    "duration": 5,
    "start_time": "2022-04-14T09:19:43.377Z"
   },
   {
    "duration": 425,
    "start_time": "2022-04-14T09:19:43.684Z"
   },
   {
    "duration": 3,
    "start_time": "2022-04-14T10:06:50.495Z"
   },
   {
    "duration": 4,
    "start_time": "2022-04-14T10:07:19.684Z"
   },
   {
    "duration": 4,
    "start_time": "2022-04-14T10:27:46.484Z"
   },
   {
    "duration": 7,
    "start_time": "2022-04-14T10:30:12.205Z"
   },
   {
    "duration": 7,
    "start_time": "2022-04-14T10:30:22.374Z"
   },
   {
    "duration": 5,
    "start_time": "2022-04-14T10:32:08.730Z"
   },
   {
    "duration": 5,
    "start_time": "2022-04-14T10:32:20.175Z"
   },
   {
    "duration": 13,
    "start_time": "2022-04-14T10:36:50.967Z"
   },
   {
    "duration": 3,
    "start_time": "2022-04-14T10:37:03.826Z"
   },
   {
    "duration": 6,
    "start_time": "2022-04-14T10:37:04.867Z"
   },
   {
    "duration": 6,
    "start_time": "2022-04-14T10:37:08.033Z"
   },
   {
    "duration": 5,
    "start_time": "2022-04-14T10:37:49.664Z"
   },
   {
    "duration": 4,
    "start_time": "2022-04-14T10:39:44.927Z"
   },
   {
    "duration": 4,
    "start_time": "2022-04-14T10:39:59.109Z"
   },
   {
    "duration": 7,
    "start_time": "2022-04-14T10:41:33.479Z"
   },
   {
    "duration": 5,
    "start_time": "2022-04-14T10:48:07.454Z"
   },
   {
    "duration": 3,
    "start_time": "2022-04-14T10:48:30.155Z"
   },
   {
    "duration": 20,
    "start_time": "2022-04-14T10:48:30.174Z"
   },
   {
    "duration": 9,
    "start_time": "2022-04-14T10:48:30.196Z"
   },
   {
    "duration": 22,
    "start_time": "2022-04-14T10:48:30.207Z"
   },
   {
    "duration": 32,
    "start_time": "2022-04-14T10:48:30.231Z"
   },
   {
    "duration": 3,
    "start_time": "2022-04-14T10:48:30.266Z"
   },
   {
    "duration": 43,
    "start_time": "2022-04-14T10:48:30.270Z"
   },
   {
    "duration": 32,
    "start_time": "2022-04-14T10:48:30.315Z"
   },
   {
    "duration": 352,
    "start_time": "2022-04-14T10:48:30.349Z"
   },
   {
    "duration": 4,
    "start_time": "2022-04-14T10:48:30.703Z"
   },
   {
    "duration": 18,
    "start_time": "2022-04-14T10:48:30.709Z"
   },
   {
    "duration": 23,
    "start_time": "2022-04-14T10:48:30.728Z"
   },
   {
    "duration": 14,
    "start_time": "2022-04-14T10:48:30.752Z"
   },
   {
    "duration": 95,
    "start_time": "2022-04-14T10:48:30.768Z"
   },
   {
    "duration": 3,
    "start_time": "2022-04-14T10:50:52.423Z"
   },
   {
    "duration": 12,
    "start_time": "2022-04-14T10:51:13.538Z"
   },
   {
    "duration": 4,
    "start_time": "2022-04-14T10:51:23.063Z"
   },
   {
    "duration": 11,
    "start_time": "2022-04-14T10:51:23.582Z"
   },
   {
    "duration": 117,
    "start_time": "2022-04-14T10:51:47.601Z"
   },
   {
    "duration": 13,
    "start_time": "2022-04-14T10:51:47.970Z"
   },
   {
    "duration": 4,
    "start_time": "2022-04-14T10:53:08.391Z"
   },
   {
    "duration": 15,
    "start_time": "2022-04-14T10:53:09.125Z"
   },
   {
    "duration": 3,
    "start_time": "2022-04-14T10:59:04.802Z"
   },
   {
    "duration": 14,
    "start_time": "2022-04-14T10:59:05.358Z"
   },
   {
    "duration": 3,
    "start_time": "2022-04-14T10:59:34.478Z"
   },
   {
    "duration": 15,
    "start_time": "2022-04-14T10:59:34.867Z"
   },
   {
    "duration": 12,
    "start_time": "2022-04-14T10:59:41.359Z"
   },
   {
    "duration": 6,
    "start_time": "2022-04-14T11:00:16.413Z"
   },
   {
    "duration": 4,
    "start_time": "2022-04-14T11:00:25.858Z"
   },
   {
    "duration": 18,
    "start_time": "2022-04-14T11:00:25.864Z"
   },
   {
    "duration": 8,
    "start_time": "2022-04-14T11:00:25.884Z"
   },
   {
    "duration": 13,
    "start_time": "2022-04-14T11:00:25.893Z"
   },
   {
    "duration": 23,
    "start_time": "2022-04-14T11:00:25.908Z"
   },
   {
    "duration": 22,
    "start_time": "2022-04-14T11:00:25.933Z"
   },
   {
    "duration": 6,
    "start_time": "2022-04-14T11:00:25.956Z"
   },
   {
    "duration": 4,
    "start_time": "2022-04-14T11:00:25.963Z"
   },
   {
    "duration": 314,
    "start_time": "2022-04-14T11:00:25.969Z"
   },
   {
    "duration": 4,
    "start_time": "2022-04-14T11:00:26.285Z"
   },
   {
    "duration": 13,
    "start_time": "2022-04-14T11:00:26.290Z"
   },
   {
    "duration": 9,
    "start_time": "2022-04-14T11:00:26.305Z"
   },
   {
    "duration": 38,
    "start_time": "2022-04-14T11:00:26.316Z"
   },
   {
    "duration": 10,
    "start_time": "2022-04-14T11:00:26.358Z"
   },
   {
    "duration": 95,
    "start_time": "2022-04-14T11:00:26.370Z"
   },
   {
    "duration": 3,
    "start_time": "2022-04-14T11:00:51.202Z"
   },
   {
    "duration": 19,
    "start_time": "2022-04-14T11:00:51.207Z"
   },
   {
    "duration": 8,
    "start_time": "2022-04-14T11:00:51.227Z"
   },
   {
    "duration": 12,
    "start_time": "2022-04-14T11:00:51.236Z"
   },
   {
    "duration": 24,
    "start_time": "2022-04-14T11:00:51.250Z"
   },
   {
    "duration": 3,
    "start_time": "2022-04-14T11:00:51.275Z"
   },
   {
    "duration": 13,
    "start_time": "2022-04-14T11:00:51.280Z"
   },
   {
    "duration": 10,
    "start_time": "2022-04-14T11:00:51.294Z"
   },
   {
    "duration": 342,
    "start_time": "2022-04-14T11:00:51.306Z"
   },
   {
    "duration": 4,
    "start_time": "2022-04-14T11:00:51.650Z"
   },
   {
    "duration": 8,
    "start_time": "2022-04-14T11:00:51.656Z"
   },
   {
    "duration": 7,
    "start_time": "2022-04-14T11:00:51.666Z"
   },
   {
    "duration": 5,
    "start_time": "2022-04-14T11:00:51.676Z"
   },
   {
    "duration": 73,
    "start_time": "2022-04-14T11:00:51.686Z"
   },
   {
    "duration": 7,
    "start_time": "2022-04-14T11:01:15.615Z"
   },
   {
    "duration": 5,
    "start_time": "2022-04-14T11:01:26.243Z"
   },
   {
    "duration": 2,
    "start_time": "2022-04-14T11:03:29.443Z"
   },
   {
    "duration": 5,
    "start_time": "2022-04-14T11:03:30.198Z"
   },
   {
    "duration": 15,
    "start_time": "2022-04-14T11:04:04.801Z"
   },
   {
    "duration": 14,
    "start_time": "2022-04-14T11:04:25.503Z"
   },
   {
    "duration": 9,
    "start_time": "2022-04-14T11:04:36.207Z"
   },
   {
    "duration": 9,
    "start_time": "2022-04-14T11:04:53.349Z"
   },
   {
    "duration": 8,
    "start_time": "2022-04-14T11:05:18.361Z"
   },
   {
    "duration": 106,
    "start_time": "2022-04-14T11:05:25.717Z"
   },
   {
    "duration": 14,
    "start_time": "2022-04-14T11:05:28.661Z"
   },
   {
    "duration": 8,
    "start_time": "2022-04-14T11:05:47.954Z"
   },
   {
    "duration": 10,
    "start_time": "2022-04-14T11:06:06.691Z"
   },
   {
    "duration": 3,
    "start_time": "2022-04-14T11:06:10.867Z"
   },
   {
    "duration": 13,
    "start_time": "2022-04-14T11:06:10.872Z"
   },
   {
    "duration": 7,
    "start_time": "2022-04-14T11:06:10.887Z"
   },
   {
    "duration": 10,
    "start_time": "2022-04-14T11:06:10.896Z"
   },
   {
    "duration": 23,
    "start_time": "2022-04-14T11:06:10.908Z"
   },
   {
    "duration": 2,
    "start_time": "2022-04-14T11:06:10.933Z"
   },
   {
    "duration": 21,
    "start_time": "2022-04-14T11:06:10.937Z"
   },
   {
    "duration": 4,
    "start_time": "2022-04-14T11:06:10.960Z"
   },
   {
    "duration": 342,
    "start_time": "2022-04-14T11:06:10.965Z"
   },
   {
    "duration": 4,
    "start_time": "2022-04-14T11:06:11.309Z"
   },
   {
    "duration": 16,
    "start_time": "2022-04-14T11:06:11.314Z"
   },
   {
    "duration": 7,
    "start_time": "2022-04-14T11:06:11.332Z"
   },
   {
    "duration": 15,
    "start_time": "2022-04-14T11:06:11.340Z"
   },
   {
    "duration": 5,
    "start_time": "2022-04-14T11:06:11.358Z"
   },
   {
    "duration": 98,
    "start_time": "2022-04-14T11:06:11.365Z"
   },
   {
    "duration": 8,
    "start_time": "2022-04-14T11:06:29.306Z"
   },
   {
    "duration": 7,
    "start_time": "2022-04-14T11:06:47.749Z"
   },
   {
    "duration": 7,
    "start_time": "2022-04-14T11:06:50.201Z"
   },
   {
    "duration": 7,
    "start_time": "2022-04-14T11:06:51.727Z"
   },
   {
    "duration": 8,
    "start_time": "2022-04-14T11:07:03.449Z"
   },
   {
    "duration": 7,
    "start_time": "2022-04-14T11:07:05.346Z"
   },
   {
    "duration": 7,
    "start_time": "2022-04-14T11:07:08.115Z"
   },
   {
    "duration": 3,
    "start_time": "2022-04-14T11:07:15.109Z"
   },
   {
    "duration": 16,
    "start_time": "2022-04-14T11:07:15.113Z"
   },
   {
    "duration": 9,
    "start_time": "2022-04-14T11:07:15.130Z"
   },
   {
    "duration": 32,
    "start_time": "2022-04-14T11:07:15.140Z"
   },
   {
    "duration": 26,
    "start_time": "2022-04-14T11:07:15.174Z"
   },
   {
    "duration": 3,
    "start_time": "2022-04-14T11:07:15.202Z"
   },
   {
    "duration": 10,
    "start_time": "2022-04-14T11:07:15.206Z"
   },
   {
    "duration": 3,
    "start_time": "2022-04-14T11:07:15.218Z"
   },
   {
    "duration": 364,
    "start_time": "2022-04-14T11:07:15.223Z"
   },
   {
    "duration": 4,
    "start_time": "2022-04-14T11:07:15.588Z"
   },
   {
    "duration": 10,
    "start_time": "2022-04-14T11:07:15.593Z"
   },
   {
    "duration": 9,
    "start_time": "2022-04-14T11:07:15.604Z"
   },
   {
    "duration": 40,
    "start_time": "2022-04-14T11:07:15.614Z"
   },
   {
    "duration": 7,
    "start_time": "2022-04-14T11:07:15.658Z"
   },
   {
    "duration": 93,
    "start_time": "2022-04-14T11:07:15.667Z"
   },
   {
    "duration": 19,
    "start_time": "2022-04-14T11:08:05.614Z"
   },
   {
    "duration": 9,
    "start_time": "2022-04-14T11:08:22.168Z"
   },
   {
    "duration": 16,
    "start_time": "2022-04-14T11:08:27.734Z"
   },
   {
    "duration": 11,
    "start_time": "2022-04-14T11:08:38.814Z"
   },
   {
    "duration": 9,
    "start_time": "2022-04-14T11:08:43.866Z"
   },
   {
    "duration": 8,
    "start_time": "2022-04-14T11:08:58.737Z"
   },
   {
    "duration": 7,
    "start_time": "2022-04-14T11:09:02.905Z"
   },
   {
    "duration": 3,
    "start_time": "2022-04-14T11:09:44.226Z"
   },
   {
    "duration": 37,
    "start_time": "2022-04-14T11:09:44.232Z"
   },
   {
    "duration": 33,
    "start_time": "2022-04-14T11:09:44.270Z"
   },
   {
    "duration": 139,
    "start_time": "2022-04-14T11:09:44.306Z"
   },
   {
    "duration": 44,
    "start_time": "2022-04-14T11:09:44.447Z"
   },
   {
    "duration": 4,
    "start_time": "2022-04-14T11:09:44.493Z"
   },
   {
    "duration": 23,
    "start_time": "2022-04-14T11:09:44.498Z"
   },
   {
    "duration": 20,
    "start_time": "2022-04-14T11:09:44.522Z"
   },
   {
    "duration": 317,
    "start_time": "2022-04-14T11:09:44.544Z"
   },
   {
    "duration": 4,
    "start_time": "2022-04-14T11:09:44.862Z"
   },
   {
    "duration": 22,
    "start_time": "2022-04-14T11:09:44.867Z"
   },
   {
    "duration": 17,
    "start_time": "2022-04-14T11:09:44.891Z"
   },
   {
    "duration": 33,
    "start_time": "2022-04-14T11:09:44.910Z"
   },
   {
    "duration": 15,
    "start_time": "2022-04-14T11:09:44.954Z"
   },
   {
    "duration": 87,
    "start_time": "2022-04-14T11:09:44.971Z"
   },
   {
    "duration": 7,
    "start_time": "2022-04-14T11:09:54.879Z"
   },
   {
    "duration": 3,
    "start_time": "2022-04-14T11:10:34.601Z"
   },
   {
    "duration": 16,
    "start_time": "2022-04-14T11:10:34.606Z"
   },
   {
    "duration": 8,
    "start_time": "2022-04-14T11:10:34.623Z"
   },
   {
    "duration": 11,
    "start_time": "2022-04-14T11:10:34.633Z"
   },
   {
    "duration": 28,
    "start_time": "2022-04-14T11:10:34.645Z"
   },
   {
    "duration": 3,
    "start_time": "2022-04-14T11:10:34.674Z"
   },
   {
    "duration": 9,
    "start_time": "2022-04-14T11:10:34.678Z"
   },
   {
    "duration": 4,
    "start_time": "2022-04-14T11:10:34.689Z"
   },
   {
    "duration": 327,
    "start_time": "2022-04-14T11:10:34.694Z"
   },
   {
    "duration": 4,
    "start_time": "2022-04-14T11:10:35.024Z"
   },
   {
    "duration": 11,
    "start_time": "2022-04-14T11:10:35.029Z"
   },
   {
    "duration": 17,
    "start_time": "2022-04-14T11:10:35.041Z"
   },
   {
    "duration": 9,
    "start_time": "2022-04-14T11:10:35.059Z"
   },
   {
    "duration": 10,
    "start_time": "2022-04-14T11:10:35.070Z"
   },
   {
    "duration": 8,
    "start_time": "2022-04-14T11:10:35.154Z"
   },
   {
    "duration": 4,
    "start_time": "2022-04-14T11:11:13.835Z"
   },
   {
    "duration": 15,
    "start_time": "2022-04-14T11:11:13.841Z"
   },
   {
    "duration": 8,
    "start_time": "2022-04-14T11:11:13.857Z"
   },
   {
    "duration": 11,
    "start_time": "2022-04-14T11:11:13.867Z"
   },
   {
    "duration": 23,
    "start_time": "2022-04-14T11:11:13.880Z"
   },
   {
    "duration": 3,
    "start_time": "2022-04-14T11:11:13.905Z"
   },
   {
    "duration": 11,
    "start_time": "2022-04-14T11:11:13.910Z"
   },
   {
    "duration": 4,
    "start_time": "2022-04-14T11:11:13.923Z"
   },
   {
    "duration": 326,
    "start_time": "2022-04-14T11:11:13.955Z"
   },
   {
    "duration": 3,
    "start_time": "2022-04-14T11:11:14.283Z"
   },
   {
    "duration": 12,
    "start_time": "2022-04-14T11:11:14.288Z"
   },
   {
    "duration": 8,
    "start_time": "2022-04-14T11:11:14.302Z"
   },
   {
    "duration": 42,
    "start_time": "2022-04-14T11:11:14.313Z"
   },
   {
    "duration": 6,
    "start_time": "2022-04-14T11:11:14.357Z"
   },
   {
    "duration": 95,
    "start_time": "2022-04-14T11:11:14.365Z"
   },
   {
    "duration": 9,
    "start_time": "2022-04-14T11:32:23.502Z"
   },
   {
    "duration": 6,
    "start_time": "2022-04-14T11:32:29.417Z"
   },
   {
    "duration": 5,
    "start_time": "2022-04-14T11:37:10.390Z"
   },
   {
    "duration": 12,
    "start_time": "2022-04-14T12:00:35.841Z"
   },
   {
    "duration": 3,
    "start_time": "2022-04-14T12:39:52.499Z"
   },
   {
    "duration": 23,
    "start_time": "2022-04-14T12:39:52.504Z"
   },
   {
    "duration": 8,
    "start_time": "2022-04-14T12:39:52.528Z"
   },
   {
    "duration": 11,
    "start_time": "2022-04-14T12:39:52.538Z"
   },
   {
    "duration": 28,
    "start_time": "2022-04-14T12:39:52.551Z"
   },
   {
    "duration": 3,
    "start_time": "2022-04-14T12:39:52.581Z"
   },
   {
    "duration": 13,
    "start_time": "2022-04-14T12:39:52.586Z"
   },
   {
    "duration": 8,
    "start_time": "2022-04-14T12:39:52.601Z"
   },
   {
    "duration": 378,
    "start_time": "2022-04-14T12:39:52.612Z"
   },
   {
    "duration": 4,
    "start_time": "2022-04-14T12:39:52.992Z"
   },
   {
    "duration": 18,
    "start_time": "2022-04-14T12:39:52.997Z"
   },
   {
    "duration": 32,
    "start_time": "2022-04-14T12:39:53.016Z"
   },
   {
    "duration": 12,
    "start_time": "2022-04-14T12:39:53.049Z"
   },
   {
    "duration": 22,
    "start_time": "2022-04-14T12:39:53.064Z"
   },
   {
    "duration": 100,
    "start_time": "2022-04-14T12:39:53.155Z"
   },
   {
    "duration": 19,
    "start_time": "2022-04-14T12:39:53.258Z"
   },
   {
    "duration": 10,
    "start_time": "2022-04-14T12:39:53.279Z"
   },
   {
    "duration": 5,
    "start_time": "2022-04-14T12:39:53.291Z"
   },
   {
    "duration": 7,
    "start_time": "2022-04-14T12:39:53.298Z"
   },
   {
    "duration": 12,
    "start_time": "2022-04-14T12:39:53.306Z"
   },
   {
    "duration": 9,
    "start_time": "2022-04-14T12:39:53.320Z"
   },
   {
    "duration": 39,
    "start_time": "2022-04-14T12:39:53.331Z"
   },
   {
    "duration": 16,
    "start_time": "2022-04-14T12:39:53.372Z"
   },
   {
    "duration": 158,
    "start_time": "2022-04-14T12:43:56.809Z"
   },
   {
    "duration": 3,
    "start_time": "2022-04-14T12:44:29.726Z"
   },
   {
    "duration": 162,
    "start_time": "2022-04-14T12:45:09.596Z"
   },
   {
    "duration": 4,
    "start_time": "2022-04-14T12:45:17.970Z"
   },
   {
    "duration": 19,
    "start_time": "2022-04-14T12:45:17.975Z"
   },
   {
    "duration": 9,
    "start_time": "2022-04-14T12:45:17.995Z"
   },
   {
    "duration": 10,
    "start_time": "2022-04-14T12:45:18.006Z"
   },
   {
    "duration": 25,
    "start_time": "2022-04-14T12:45:18.018Z"
   },
   {
    "duration": 4,
    "start_time": "2022-04-14T12:45:18.044Z"
   },
   {
    "duration": 9,
    "start_time": "2022-04-14T12:45:18.049Z"
   },
   {
    "duration": 4,
    "start_time": "2022-04-14T12:45:18.060Z"
   },
   {
    "duration": 309,
    "start_time": "2022-04-14T12:45:18.065Z"
   },
   {
    "duration": 4,
    "start_time": "2022-04-14T12:45:18.375Z"
   },
   {
    "duration": 12,
    "start_time": "2022-04-14T12:45:18.380Z"
   },
   {
    "duration": 6,
    "start_time": "2022-04-14T12:45:18.393Z"
   },
   {
    "duration": 7,
    "start_time": "2022-04-14T12:45:18.400Z"
   },
   {
    "duration": 47,
    "start_time": "2022-04-14T12:45:18.408Z"
   },
   {
    "duration": 193,
    "start_time": "2022-04-14T12:45:21.467Z"
   },
   {
    "duration": 3,
    "start_time": "2022-04-14T12:46:07.607Z"
   },
   {
    "duration": 3,
    "start_time": "2022-04-14T12:46:29.153Z"
   },
   {
    "duration": 4,
    "start_time": "2022-04-14T12:50:08.374Z"
   },
   {
    "duration": 13,
    "start_time": "2022-04-14T12:50:30.067Z"
   },
   {
    "duration": 13,
    "start_time": "2022-04-14T12:50:33.882Z"
   },
   {
    "duration": 11,
    "start_time": "2022-04-14T12:51:22.459Z"
   },
   {
    "duration": 4,
    "start_time": "2022-04-14T12:52:00.846Z"
   },
   {
    "duration": 15,
    "start_time": "2022-04-14T12:52:11.655Z"
   },
   {
    "duration": 3,
    "start_time": "2022-04-14T12:52:15.466Z"
   },
   {
    "duration": 36,
    "start_time": "2022-04-14T12:52:15.470Z"
   },
   {
    "duration": 7,
    "start_time": "2022-04-14T12:52:15.508Z"
   },
   {
    "duration": 17,
    "start_time": "2022-04-14T12:52:15.517Z"
   },
   {
    "duration": 164,
    "start_time": "2022-04-14T12:52:15.535Z"
   },
   {
    "duration": 4,
    "start_time": "2022-04-14T12:52:15.700Z"
   },
   {
    "duration": 9,
    "start_time": "2022-04-14T12:52:15.706Z"
   },
   {
    "duration": 4,
    "start_time": "2022-04-14T12:52:15.717Z"
   },
   {
    "duration": 369,
    "start_time": "2022-04-14T12:52:15.724Z"
   },
   {
    "duration": 4,
    "start_time": "2022-04-14T12:52:16.095Z"
   },
   {
    "duration": 12,
    "start_time": "2022-04-14T12:52:16.101Z"
   },
   {
    "duration": 10,
    "start_time": "2022-04-14T12:52:16.115Z"
   },
   {
    "duration": 29,
    "start_time": "2022-04-14T12:52:16.126Z"
   },
   {
    "duration": 8,
    "start_time": "2022-04-14T12:52:16.158Z"
   },
   {
    "duration": 4,
    "start_time": "2022-04-14T12:52:16.254Z"
   },
   {
    "duration": 8,
    "start_time": "2022-04-14T12:52:16.261Z"
   },
   {
    "duration": 5,
    "start_time": "2022-04-14T12:52:16.356Z"
   },
   {
    "duration": 97,
    "start_time": "2022-04-14T12:52:16.363Z"
   },
   {
    "duration": 4,
    "start_time": "2022-04-14T12:52:16.462Z"
   },
   {
    "duration": 11,
    "start_time": "2022-04-14T12:52:16.468Z"
   },
   {
    "duration": 11,
    "start_time": "2022-04-14T12:52:16.481Z"
   },
   {
    "duration": 10,
    "start_time": "2022-04-14T12:52:16.493Z"
   },
   {
    "duration": 10,
    "start_time": "2022-04-14T12:52:16.505Z"
   },
   {
    "duration": 39,
    "start_time": "2022-04-14T12:52:16.518Z"
   },
   {
    "duration": 11,
    "start_time": "2022-04-14T12:52:16.559Z"
   },
   {
    "duration": 84,
    "start_time": "2022-04-14T12:52:16.572Z"
   },
   {
    "duration": 16,
    "start_time": "2022-04-14T12:52:31.323Z"
   },
   {
    "duration": 13,
    "start_time": "2022-04-14T12:52:37.801Z"
   },
   {
    "duration": 13,
    "start_time": "2022-04-14T12:52:47.212Z"
   },
   {
    "duration": 6,
    "start_time": "2022-04-14T12:53:09.115Z"
   },
   {
    "duration": 4,
    "start_time": "2022-04-14T12:53:13.601Z"
   },
   {
    "duration": 28,
    "start_time": "2022-04-14T12:53:13.606Z"
   },
   {
    "duration": 13,
    "start_time": "2022-04-14T12:53:13.636Z"
   },
   {
    "duration": 22,
    "start_time": "2022-04-14T12:53:13.651Z"
   },
   {
    "duration": 27,
    "start_time": "2022-04-14T12:53:13.674Z"
   },
   {
    "duration": 3,
    "start_time": "2022-04-14T12:53:13.703Z"
   },
   {
    "duration": 19,
    "start_time": "2022-04-14T12:53:13.708Z"
   },
   {
    "duration": 11,
    "start_time": "2022-04-14T12:53:13.729Z"
   },
   {
    "duration": 350,
    "start_time": "2022-04-14T12:53:13.742Z"
   },
   {
    "duration": 4,
    "start_time": "2022-04-14T12:53:14.095Z"
   },
   {
    "duration": 15,
    "start_time": "2022-04-14T12:53:14.100Z"
   },
   {
    "duration": 18,
    "start_time": "2022-04-14T12:53:14.117Z"
   },
   {
    "duration": 18,
    "start_time": "2022-04-14T12:53:14.137Z"
   },
   {
    "duration": 99,
    "start_time": "2022-04-14T12:53:14.157Z"
   },
   {
    "duration": 97,
    "start_time": "2022-04-14T12:53:14.258Z"
   },
   {
    "duration": 7,
    "start_time": "2022-04-14T12:53:14.358Z"
   },
   {
    "duration": 89,
    "start_time": "2022-04-14T12:53:14.367Z"
   },
   {
    "duration": 13,
    "start_time": "2022-04-14T12:53:14.459Z"
   },
   {
    "duration": 4,
    "start_time": "2022-04-14T12:53:14.475Z"
   },
   {
    "duration": 7,
    "start_time": "2022-04-14T12:53:14.481Z"
   },
   {
    "duration": 16,
    "start_time": "2022-04-14T12:53:14.490Z"
   },
   {
    "duration": 12,
    "start_time": "2022-04-14T12:53:14.508Z"
   },
   {
    "duration": 45,
    "start_time": "2022-04-14T12:53:14.522Z"
   },
   {
    "duration": 11,
    "start_time": "2022-04-14T12:53:14.569Z"
   },
   {
    "duration": 14,
    "start_time": "2022-04-14T12:53:14.582Z"
   },
   {
    "duration": 58,
    "start_time": "2022-04-14T12:53:14.598Z"
   },
   {
    "duration": 3,
    "start_time": "2022-04-14T13:09:07.767Z"
   },
   {
    "duration": 40,
    "start_time": "2022-04-14T13:09:07.772Z"
   },
   {
    "duration": 7,
    "start_time": "2022-04-14T13:09:07.814Z"
   },
   {
    "duration": 10,
    "start_time": "2022-04-14T13:09:07.823Z"
   },
   {
    "duration": 22,
    "start_time": "2022-04-14T13:09:07.835Z"
   },
   {
    "duration": 3,
    "start_time": "2022-04-14T13:09:07.859Z"
   },
   {
    "duration": 10,
    "start_time": "2022-04-14T13:09:07.863Z"
   },
   {
    "duration": 4,
    "start_time": "2022-04-14T13:09:07.874Z"
   },
   {
    "duration": 301,
    "start_time": "2022-04-14T13:09:07.880Z"
   },
   {
    "duration": 4,
    "start_time": "2022-04-14T13:09:08.183Z"
   },
   {
    "duration": 9,
    "start_time": "2022-04-14T13:09:08.188Z"
   },
   {
    "duration": 7,
    "start_time": "2022-04-14T13:09:08.198Z"
   },
   {
    "duration": 7,
    "start_time": "2022-04-14T13:09:08.207Z"
   },
   {
    "duration": 50,
    "start_time": "2022-04-14T13:09:08.216Z"
   },
   {
    "duration": 89,
    "start_time": "2022-04-14T13:09:08.268Z"
   },
   {
    "duration": 94,
    "start_time": "2022-04-14T13:09:08.361Z"
   },
   {
    "duration": 3,
    "start_time": "2022-04-14T13:09:08.457Z"
   },
   {
    "duration": 11,
    "start_time": "2022-04-14T13:09:08.462Z"
   },
   {
    "duration": 4,
    "start_time": "2022-04-14T13:09:08.475Z"
   },
   {
    "duration": 8,
    "start_time": "2022-04-14T13:09:08.481Z"
   },
   {
    "duration": 18,
    "start_time": "2022-04-14T13:09:08.491Z"
   },
   {
    "duration": 10,
    "start_time": "2022-04-14T13:09:08.510Z"
   },
   {
    "duration": 10,
    "start_time": "2022-04-14T13:09:08.521Z"
   },
   {
    "duration": 7,
    "start_time": "2022-04-14T13:09:08.555Z"
   },
   {
    "duration": 7,
    "start_time": "2022-04-14T13:09:08.564Z"
   },
   {
    "duration": 7,
    "start_time": "2022-04-14T13:09:08.572Z"
   },
   {
    "duration": 4,
    "start_time": "2022-04-14T13:12:17.086Z"
   },
   {
    "duration": 23,
    "start_time": "2022-04-14T13:12:17.092Z"
   },
   {
    "duration": 8,
    "start_time": "2022-04-14T13:12:17.117Z"
   },
   {
    "duration": 16,
    "start_time": "2022-04-14T13:12:17.127Z"
   },
   {
    "duration": 23,
    "start_time": "2022-04-14T13:12:17.146Z"
   },
   {
    "duration": 4,
    "start_time": "2022-04-14T13:12:17.170Z"
   },
   {
    "duration": 9,
    "start_time": "2022-04-14T13:12:17.175Z"
   },
   {
    "duration": 4,
    "start_time": "2022-04-14T13:12:17.186Z"
   },
   {
    "duration": 323,
    "start_time": "2022-04-14T13:12:17.191Z"
   },
   {
    "duration": 4,
    "start_time": "2022-04-14T13:12:17.515Z"
   },
   {
    "duration": 11,
    "start_time": "2022-04-14T13:12:17.521Z"
   },
   {
    "duration": 23,
    "start_time": "2022-04-14T13:12:17.534Z"
   },
   {
    "duration": 6,
    "start_time": "2022-04-14T13:12:17.559Z"
   },
   {
    "duration": 7,
    "start_time": "2022-04-14T13:12:17.569Z"
   },
   {
    "duration": 79,
    "start_time": "2022-04-14T13:12:17.578Z"
   },
   {
    "duration": 9,
    "start_time": "2022-04-14T13:12:17.659Z"
   },
   {
    "duration": 95,
    "start_time": "2022-04-14T13:12:17.669Z"
   },
   {
    "duration": 93,
    "start_time": "2022-04-14T13:12:17.767Z"
   },
   {
    "duration": 4,
    "start_time": "2022-04-14T13:12:17.862Z"
   },
   {
    "duration": 7,
    "start_time": "2022-04-14T13:12:17.867Z"
   },
   {
    "duration": 11,
    "start_time": "2022-04-14T13:12:17.875Z"
   },
   {
    "duration": 9,
    "start_time": "2022-04-14T13:12:17.888Z"
   },
   {
    "duration": 9,
    "start_time": "2022-04-14T13:12:17.899Z"
   },
   {
    "duration": 7,
    "start_time": "2022-04-14T13:12:17.910Z"
   },
   {
    "duration": 40,
    "start_time": "2022-04-14T13:12:17.918Z"
   },
   {
    "duration": 7,
    "start_time": "2022-04-14T13:12:17.960Z"
   },
   {
    "duration": 1406,
    "start_time": "2022-04-14T13:13:19.571Z"
   },
   {
    "duration": 11,
    "start_time": "2022-04-14T13:13:20.979Z"
   },
   {
    "duration": 11,
    "start_time": "2022-04-14T13:13:20.992Z"
   },
   {
    "duration": 10,
    "start_time": "2022-04-14T13:13:21.005Z"
   },
   {
    "duration": 38,
    "start_time": "2022-04-14T13:13:21.017Z"
   },
   {
    "duration": 3,
    "start_time": "2022-04-14T13:13:21.057Z"
   },
   {
    "duration": 12,
    "start_time": "2022-04-14T13:13:21.062Z"
   },
   {
    "duration": 4,
    "start_time": "2022-04-14T13:13:21.075Z"
   },
   {
    "duration": 310,
    "start_time": "2022-04-14T13:13:21.080Z"
   },
   {
    "duration": 4,
    "start_time": "2022-04-14T13:13:21.392Z"
   },
   {
    "duration": 15,
    "start_time": "2022-04-14T13:13:21.397Z"
   },
   {
    "duration": 12,
    "start_time": "2022-04-14T13:13:21.414Z"
   },
   {
    "duration": 28,
    "start_time": "2022-04-14T13:13:21.427Z"
   },
   {
    "duration": 12,
    "start_time": "2022-04-14T13:13:21.459Z"
   },
   {
    "duration": 4,
    "start_time": "2022-04-14T13:13:21.555Z"
   },
   {
    "duration": 94,
    "start_time": "2022-04-14T13:13:21.561Z"
   },
   {
    "duration": 15,
    "start_time": "2022-04-14T13:13:21.657Z"
   },
   {
    "duration": 88,
    "start_time": "2022-04-14T13:13:21.674Z"
   },
   {
    "duration": 9,
    "start_time": "2022-04-14T13:13:21.764Z"
   },
   {
    "duration": 24,
    "start_time": "2022-04-14T13:13:21.774Z"
   },
   {
    "duration": 21,
    "start_time": "2022-04-14T13:13:21.800Z"
   },
   {
    "duration": 11,
    "start_time": "2022-04-14T13:13:21.823Z"
   },
   {
    "duration": 24,
    "start_time": "2022-04-14T13:13:21.836Z"
   },
   {
    "duration": 16,
    "start_time": "2022-04-14T13:13:21.862Z"
   },
   {
    "duration": 12,
    "start_time": "2022-04-14T13:13:21.879Z"
   },
   {
    "duration": 8,
    "start_time": "2022-04-14T13:13:21.893Z"
   },
   {
    "duration": 3,
    "start_time": "2022-04-14T13:15:27.244Z"
   },
   {
    "duration": 15,
    "start_time": "2022-04-14T13:15:27.250Z"
   },
   {
    "duration": 9,
    "start_time": "2022-04-14T13:15:27.267Z"
   },
   {
    "duration": 16,
    "start_time": "2022-04-14T13:15:27.278Z"
   },
   {
    "duration": 26,
    "start_time": "2022-04-14T13:15:27.296Z"
   },
   {
    "duration": 3,
    "start_time": "2022-04-14T13:15:27.324Z"
   },
   {
    "duration": 34,
    "start_time": "2022-04-14T13:15:27.329Z"
   },
   {
    "duration": 6,
    "start_time": "2022-04-14T13:15:27.365Z"
   },
   {
    "duration": 303,
    "start_time": "2022-04-14T13:15:27.372Z"
   },
   {
    "duration": 4,
    "start_time": "2022-04-14T13:15:27.677Z"
   },
   {
    "duration": 10,
    "start_time": "2022-04-14T13:15:27.683Z"
   },
   {
    "duration": 6,
    "start_time": "2022-04-14T13:15:27.695Z"
   },
   {
    "duration": 6,
    "start_time": "2022-04-14T13:15:27.702Z"
   },
   {
    "duration": 46,
    "start_time": "2022-04-14T13:15:27.711Z"
   },
   {
    "duration": 95,
    "start_time": "2022-04-14T13:15:27.759Z"
   },
   {
    "duration": 8,
    "start_time": "2022-04-14T13:15:27.857Z"
   },
   {
    "duration": 95,
    "start_time": "2022-04-14T13:15:27.867Z"
   },
   {
    "duration": 13,
    "start_time": "2022-04-14T13:15:27.964Z"
   },
   {
    "duration": 7,
    "start_time": "2022-04-14T13:15:27.978Z"
   },
   {
    "duration": 10,
    "start_time": "2022-04-14T13:15:27.986Z"
   },
   {
    "duration": 13,
    "start_time": "2022-04-14T13:15:27.997Z"
   },
   {
    "duration": 10,
    "start_time": "2022-04-14T13:15:28.011Z"
   },
   {
    "duration": 9,
    "start_time": "2022-04-14T13:15:28.023Z"
   },
   {
    "duration": 24,
    "start_time": "2022-04-14T13:15:28.034Z"
   },
   {
    "duration": 6,
    "start_time": "2022-04-14T13:15:28.060Z"
   },
   {
    "duration": 7,
    "start_time": "2022-04-14T13:15:28.068Z"
   },
   {
    "duration": 4,
    "start_time": "2022-04-14T13:16:42.101Z"
   },
   {
    "duration": 16,
    "start_time": "2022-04-14T13:16:42.107Z"
   },
   {
    "duration": 8,
    "start_time": "2022-04-14T13:16:42.124Z"
   },
   {
    "duration": 11,
    "start_time": "2022-04-14T13:16:42.133Z"
   },
   {
    "duration": 21,
    "start_time": "2022-04-14T13:16:42.146Z"
   },
   {
    "duration": 4,
    "start_time": "2022-04-14T13:16:42.169Z"
   },
   {
    "duration": 7,
    "start_time": "2022-04-14T13:16:42.175Z"
   },
   {
    "duration": 4,
    "start_time": "2022-04-14T13:16:42.184Z"
   },
   {
    "duration": 322,
    "start_time": "2022-04-14T13:16:42.190Z"
   },
   {
    "duration": 5,
    "start_time": "2022-04-14T13:16:42.514Z"
   },
   {
    "duration": 15,
    "start_time": "2022-04-14T13:16:42.520Z"
   },
   {
    "duration": 19,
    "start_time": "2022-04-14T13:16:42.537Z"
   },
   {
    "duration": 5,
    "start_time": "2022-04-14T13:16:42.558Z"
   },
   {
    "duration": 11,
    "start_time": "2022-04-14T13:16:42.567Z"
   },
   {
    "duration": 4,
    "start_time": "2022-04-14T13:16:42.656Z"
   },
   {
    "duration": 7,
    "start_time": "2022-04-14T13:16:42.661Z"
   },
   {
    "duration": 3,
    "start_time": "2022-04-14T13:16:42.755Z"
   },
   {
    "duration": 98,
    "start_time": "2022-04-14T13:16:42.760Z"
   },
   {
    "duration": 6,
    "start_time": "2022-04-14T13:16:42.859Z"
   },
   {
    "duration": 8,
    "start_time": "2022-04-14T13:16:42.866Z"
   },
   {
    "duration": 12,
    "start_time": "2022-04-14T13:16:42.876Z"
   },
   {
    "duration": 8,
    "start_time": "2022-04-14T13:16:42.890Z"
   },
   {
    "duration": 10,
    "start_time": "2022-04-14T13:16:42.900Z"
   },
   {
    "duration": 6,
    "start_time": "2022-04-14T13:16:42.912Z"
   },
   {
    "duration": 38,
    "start_time": "2022-04-14T13:16:42.919Z"
   },
   {
    "duration": 6,
    "start_time": "2022-04-14T13:16:42.959Z"
   },
   {
    "duration": 3,
    "start_time": "2022-04-14T13:17:51.683Z"
   },
   {
    "duration": 20,
    "start_time": "2022-04-14T13:17:51.688Z"
   },
   {
    "duration": 7,
    "start_time": "2022-04-14T13:17:51.710Z"
   },
   {
    "duration": 10,
    "start_time": "2022-04-14T13:17:51.719Z"
   },
   {
    "duration": 22,
    "start_time": "2022-04-14T13:17:51.731Z"
   },
   {
    "duration": 3,
    "start_time": "2022-04-14T13:17:51.755Z"
   },
   {
    "duration": 11,
    "start_time": "2022-04-14T13:17:51.759Z"
   },
   {
    "duration": 4,
    "start_time": "2022-04-14T13:17:51.771Z"
   },
   {
    "duration": 393,
    "start_time": "2022-04-14T13:17:51.776Z"
   },
   {
    "duration": 5,
    "start_time": "2022-04-14T13:17:52.171Z"
   },
   {
    "duration": 13,
    "start_time": "2022-04-14T13:17:52.177Z"
   },
   {
    "duration": 11,
    "start_time": "2022-04-14T13:17:52.191Z"
   },
   {
    "duration": 5,
    "start_time": "2022-04-14T13:17:52.204Z"
   },
   {
    "duration": 49,
    "start_time": "2022-04-14T13:17:52.212Z"
   },
   {
    "duration": 93,
    "start_time": "2022-04-14T13:17:52.263Z"
   },
   {
    "duration": 13,
    "start_time": "2022-04-14T13:17:52.358Z"
   },
   {
    "duration": 9,
    "start_time": "2022-04-14T13:17:52.456Z"
   },
   {
    "duration": 15,
    "start_time": "2022-04-14T13:17:52.467Z"
   },
   {
    "duration": 11,
    "start_time": "2022-04-14T13:17:52.484Z"
   },
   {
    "duration": 10,
    "start_time": "2022-04-14T13:17:52.497Z"
   },
   {
    "duration": 13,
    "start_time": "2022-04-14T13:17:52.509Z"
   },
   {
    "duration": 107,
    "start_time": "2022-04-14T13:17:52.524Z"
   },
   {
    "duration": 25,
    "start_time": "2022-04-14T13:17:52.633Z"
   },
   {
    "duration": 6,
    "start_time": "2022-04-14T13:17:52.660Z"
   },
   {
    "duration": 10,
    "start_time": "2022-04-14T13:17:52.668Z"
   },
   {
    "duration": 78,
    "start_time": "2022-04-14T13:17:52.680Z"
   },
   {
    "duration": 3,
    "start_time": "2022-04-14T13:20:52.196Z"
   },
   {
    "duration": 24,
    "start_time": "2022-04-14T13:20:52.201Z"
   },
   {
    "duration": 8,
    "start_time": "2022-04-14T13:20:52.226Z"
   },
   {
    "duration": 24,
    "start_time": "2022-04-14T13:20:52.236Z"
   },
   {
    "duration": 36,
    "start_time": "2022-04-14T13:20:52.262Z"
   },
   {
    "duration": 3,
    "start_time": "2022-04-14T13:20:52.299Z"
   },
   {
    "duration": 22,
    "start_time": "2022-04-14T13:20:52.304Z"
   },
   {
    "duration": 20,
    "start_time": "2022-04-14T13:20:52.327Z"
   },
   {
    "duration": 327,
    "start_time": "2022-04-14T13:20:52.349Z"
   },
   {
    "duration": 4,
    "start_time": "2022-04-14T13:20:52.677Z"
   },
   {
    "duration": 19,
    "start_time": "2022-04-14T13:20:52.682Z"
   },
   {
    "duration": 17,
    "start_time": "2022-04-14T13:20:52.703Z"
   },
   {
    "duration": 26,
    "start_time": "2022-04-14T13:20:52.721Z"
   },
   {
    "duration": 105,
    "start_time": "2022-04-14T13:20:52.749Z"
   },
   {
    "duration": 9,
    "start_time": "2022-04-14T13:20:52.857Z"
   },
   {
    "duration": 85,
    "start_time": "2022-04-14T13:20:52.870Z"
   },
   {
    "duration": 108,
    "start_time": "2022-04-14T13:20:52.958Z"
   },
   {
    "duration": 21,
    "start_time": "2022-04-14T13:20:53.068Z"
   },
   {
    "duration": 10,
    "start_time": "2022-04-14T13:20:53.091Z"
   },
   {
    "duration": 11,
    "start_time": "2022-04-14T13:20:53.103Z"
   },
   {
    "duration": 20,
    "start_time": "2022-04-14T13:20:53.116Z"
   },
   {
    "duration": 10,
    "start_time": "2022-04-14T13:20:53.138Z"
   },
   {
    "duration": 21,
    "start_time": "2022-04-14T13:20:53.149Z"
   },
   {
    "duration": 10,
    "start_time": "2022-04-14T13:20:53.173Z"
   },
   {
    "duration": 13,
    "start_time": "2022-04-14T13:20:53.185Z"
   },
   {
    "duration": 56,
    "start_time": "2022-04-14T13:20:53.201Z"
   },
   {
    "duration": 3,
    "start_time": "2022-04-14T13:22:31.172Z"
   },
   {
    "duration": 19,
    "start_time": "2022-04-14T13:22:31.177Z"
   },
   {
    "duration": 13,
    "start_time": "2022-04-14T13:22:31.198Z"
   },
   {
    "duration": 31,
    "start_time": "2022-04-14T13:22:31.212Z"
   },
   {
    "duration": 33,
    "start_time": "2022-04-14T13:22:31.245Z"
   },
   {
    "duration": 3,
    "start_time": "2022-04-14T13:22:31.279Z"
   },
   {
    "duration": 11,
    "start_time": "2022-04-14T13:22:31.284Z"
   },
   {
    "duration": 7,
    "start_time": "2022-04-14T13:22:31.299Z"
   },
   {
    "duration": 375,
    "start_time": "2022-04-14T13:22:31.308Z"
   },
   {
    "duration": 4,
    "start_time": "2022-04-14T13:22:31.684Z"
   },
   {
    "duration": 93,
    "start_time": "2022-04-14T13:22:31.689Z"
   },
   {
    "duration": 15,
    "start_time": "2022-04-14T13:22:31.783Z"
   },
   {
    "duration": 9,
    "start_time": "2022-04-14T13:22:31.799Z"
   },
   {
    "duration": 45,
    "start_time": "2022-04-14T13:22:31.811Z"
   },
   {
    "duration": 12,
    "start_time": "2022-04-14T13:22:31.859Z"
   },
   {
    "duration": 92,
    "start_time": "2022-04-14T13:22:31.873Z"
   },
   {
    "duration": 89,
    "start_time": "2022-04-14T13:22:31.967Z"
   },
   {
    "duration": 17,
    "start_time": "2022-04-14T13:22:32.059Z"
   },
   {
    "duration": 11,
    "start_time": "2022-04-14T13:22:32.078Z"
   },
   {
    "duration": 24,
    "start_time": "2022-04-14T13:22:32.091Z"
   },
   {
    "duration": 22,
    "start_time": "2022-04-14T13:22:32.117Z"
   },
   {
    "duration": 10,
    "start_time": "2022-04-14T13:22:32.141Z"
   },
   {
    "duration": 14,
    "start_time": "2022-04-14T13:22:32.153Z"
   },
   {
    "duration": 7,
    "start_time": "2022-04-14T13:22:32.168Z"
   },
   {
    "duration": 7,
    "start_time": "2022-04-14T13:22:32.177Z"
   },
   {
    "duration": 69,
    "start_time": "2022-04-14T13:22:32.187Z"
   },
   {
    "duration": 12,
    "start_time": "2022-04-14T15:21:51.171Z"
   },
   {
    "duration": 1587,
    "start_time": "2022-04-14T15:25:47.218Z"
   },
   {
    "duration": 29,
    "start_time": "2022-04-14T15:25:48.811Z"
   },
   {
    "duration": 13,
    "start_time": "2022-04-14T15:25:48.841Z"
   },
   {
    "duration": 12,
    "start_time": "2022-04-14T15:25:48.856Z"
   },
   {
    "duration": 26,
    "start_time": "2022-04-14T15:25:48.869Z"
   },
   {
    "duration": 3,
    "start_time": "2022-04-14T15:25:48.896Z"
   },
   {
    "duration": 17,
    "start_time": "2022-04-14T15:25:48.912Z"
   },
   {
    "duration": 4,
    "start_time": "2022-04-14T15:25:48.931Z"
   },
   {
    "duration": 341,
    "start_time": "2022-04-14T15:25:48.936Z"
   },
   {
    "duration": 4,
    "start_time": "2022-04-14T15:25:52.156Z"
   },
   {
    "duration": 7,
    "start_time": "2022-04-14T15:25:52.520Z"
   },
   {
    "duration": 6,
    "start_time": "2022-04-14T15:25:52.877Z"
   },
   {
    "duration": 5,
    "start_time": "2022-04-14T15:25:53.252Z"
   },
   {
    "duration": 4,
    "start_time": "2022-04-14T15:25:53.613Z"
   },
   {
    "duration": 5,
    "start_time": "2022-04-14T15:25:53.796Z"
   },
   {
    "duration": 6,
    "start_time": "2022-04-14T15:25:54.759Z"
   },
   {
    "duration": 4,
    "start_time": "2022-04-14T15:25:54.940Z"
   },
   {
    "duration": 13,
    "start_time": "2022-04-14T15:25:55.685Z"
   },
   {
    "duration": 3,
    "start_time": "2022-04-14T15:25:55.860Z"
   },
   {
    "duration": 3,
    "start_time": "2022-04-14T15:25:56.060Z"
   },
   {
    "duration": 14,
    "start_time": "2022-04-14T15:25:56.412Z"
   },
   {
    "duration": 13,
    "start_time": "2022-04-14T15:25:56.805Z"
   },
   {
    "duration": 13,
    "start_time": "2022-04-14T15:25:57.221Z"
   },
   {
    "duration": 8,
    "start_time": "2022-04-14T15:25:57.404Z"
   },
   {
    "duration": 6,
    "start_time": "2022-04-14T15:25:57.781Z"
   },
   {
    "duration": 5,
    "start_time": "2022-04-14T15:25:57.979Z"
   },
   {
    "duration": 88,
    "start_time": "2022-04-14T15:27:28.920Z"
   },
   {
    "duration": 79,
    "start_time": "2022-04-14T15:38:06.411Z"
   },
   {
    "duration": 59,
    "start_time": "2022-04-14T15:39:26.181Z"
   },
   {
    "duration": 1940,
    "start_time": "2022-04-15T09:50:34.327Z"
   },
   {
    "duration": 18,
    "start_time": "2022-04-15T09:50:36.270Z"
   },
   {
    "duration": 16,
    "start_time": "2022-04-15T09:50:36.290Z"
   },
   {
    "duration": 14,
    "start_time": "2022-04-15T09:50:36.308Z"
   },
   {
    "duration": 36,
    "start_time": "2022-04-15T09:50:36.332Z"
   },
   {
    "duration": 3,
    "start_time": "2022-04-15T09:50:36.370Z"
   },
   {
    "duration": 20,
    "start_time": "2022-04-15T09:50:36.375Z"
   },
   {
    "duration": 5,
    "start_time": "2022-04-15T09:50:36.397Z"
   },
   {
    "duration": 493,
    "start_time": "2022-04-15T09:50:36.404Z"
   },
   {
    "duration": 7,
    "start_time": "2022-04-15T09:50:58.506Z"
   },
   {
    "duration": 9,
    "start_time": "2022-04-15T09:52:14.531Z"
   },
   {
    "duration": 9,
    "start_time": "2022-04-15T09:52:19.330Z"
   },
   {
    "duration": 3,
    "start_time": "2022-04-15T09:52:20.190Z"
   },
   {
    "duration": 135,
    "start_time": "2022-04-15T09:55:10.386Z"
   },
   {
    "duration": 291,
    "start_time": "2022-04-15T09:55:24.835Z"
   },
   {
    "duration": 83,
    "start_time": "2022-04-15T09:55:31.554Z"
   },
   {
    "duration": 5,
    "start_time": "2022-04-15T09:56:11.641Z"
   },
   {
    "duration": 11,
    "start_time": "2022-04-15T09:56:28.384Z"
   },
   {
    "duration": 29,
    "start_time": "2022-04-15T09:57:06.107Z"
   },
   {
    "duration": 106,
    "start_time": "2022-04-15T09:57:26.930Z"
   },
   {
    "duration": 4,
    "start_time": "2022-04-15T10:33:33.280Z"
   },
   {
    "duration": 31,
    "start_time": "2022-04-15T10:33:33.287Z"
   },
   {
    "duration": 11,
    "start_time": "2022-04-15T10:33:33.320Z"
   },
   {
    "duration": 13,
    "start_time": "2022-04-15T10:33:33.333Z"
   },
   {
    "duration": 33,
    "start_time": "2022-04-15T10:33:33.348Z"
   },
   {
    "duration": 3,
    "start_time": "2022-04-15T10:33:33.383Z"
   },
   {
    "duration": 13,
    "start_time": "2022-04-15T10:33:33.387Z"
   },
   {
    "duration": 4,
    "start_time": "2022-04-15T10:33:33.401Z"
   },
   {
    "duration": 399,
    "start_time": "2022-04-15T10:33:33.407Z"
   },
   {
    "duration": 4,
    "start_time": "2022-04-15T10:33:33.808Z"
   },
   {
    "duration": 19,
    "start_time": "2022-04-15T10:33:33.814Z"
   },
   {
    "duration": 6,
    "start_time": "2022-04-15T10:33:33.835Z"
   },
   {
    "duration": 12,
    "start_time": "2022-04-15T10:33:33.844Z"
   },
   {
    "duration": 6,
    "start_time": "2022-04-15T10:33:33.857Z"
   },
   {
    "duration": 4,
    "start_time": "2022-04-15T10:33:33.935Z"
   },
   {
    "duration": 94,
    "start_time": "2022-04-15T10:33:33.942Z"
   },
   {
    "duration": 95,
    "start_time": "2022-04-15T10:33:34.039Z"
   },
   {
    "duration": 17,
    "start_time": "2022-04-15T10:33:34.136Z"
   },
   {
    "duration": 8,
    "start_time": "2022-04-15T10:33:34.155Z"
   },
   {
    "duration": 7,
    "start_time": "2022-04-15T10:33:34.165Z"
   },
   {
    "duration": 19,
    "start_time": "2022-04-15T10:33:34.174Z"
   },
   {
    "duration": 11,
    "start_time": "2022-04-15T10:33:34.195Z"
   },
   {
    "duration": 32,
    "start_time": "2022-04-15T10:33:34.208Z"
   },
   {
    "duration": 8,
    "start_time": "2022-04-15T10:33:34.242Z"
   },
   {
    "duration": 8,
    "start_time": "2022-04-15T10:33:34.251Z"
   },
   {
    "duration": 7,
    "start_time": "2022-04-15T10:33:34.260Z"
   },
   {
    "duration": 4,
    "start_time": "2022-04-15T10:57:54.982Z"
   },
   {
    "duration": 28,
    "start_time": "2022-04-15T10:57:54.988Z"
   },
   {
    "duration": 10,
    "start_time": "2022-04-15T10:57:55.018Z"
   },
   {
    "duration": 16,
    "start_time": "2022-04-15T10:57:55.030Z"
   },
   {
    "duration": 36,
    "start_time": "2022-04-15T10:57:55.048Z"
   },
   {
    "duration": 4,
    "start_time": "2022-04-15T10:57:55.085Z"
   },
   {
    "duration": 21,
    "start_time": "2022-04-15T10:57:55.090Z"
   },
   {
    "duration": 5,
    "start_time": "2022-04-15T10:57:55.113Z"
   },
   {
    "duration": 386,
    "start_time": "2022-04-15T10:57:55.119Z"
   },
   {
    "duration": 4,
    "start_time": "2022-04-15T10:57:55.509Z"
   },
   {
    "duration": 19,
    "start_time": "2022-04-15T10:57:55.515Z"
   },
   {
    "duration": 10,
    "start_time": "2022-04-15T10:57:55.536Z"
   },
   {
    "duration": 7,
    "start_time": "2022-04-15T10:57:55.548Z"
   },
   {
    "duration": 7,
    "start_time": "2022-04-15T10:57:55.557Z"
   },
   {
    "duration": 70,
    "start_time": "2022-04-15T10:57:55.566Z"
   },
   {
    "duration": 13,
    "start_time": "2022-04-15T10:57:55.639Z"
   },
   {
    "duration": 4,
    "start_time": "2022-04-15T10:57:55.734Z"
   },
   {
    "duration": 99,
    "start_time": "2022-04-15T10:57:55.741Z"
   },
   {
    "duration": 12,
    "start_time": "2022-04-15T10:57:55.842Z"
   },
   {
    "duration": 10,
    "start_time": "2022-04-15T10:57:55.856Z"
   },
   {
    "duration": 17,
    "start_time": "2022-04-15T10:57:55.867Z"
   },
   {
    "duration": 11,
    "start_time": "2022-04-15T10:57:55.886Z"
   },
   {
    "duration": 36,
    "start_time": "2022-04-15T10:57:55.898Z"
   },
   {
    "duration": 8,
    "start_time": "2022-04-15T10:57:55.936Z"
   },
   {
    "duration": 8,
    "start_time": "2022-04-15T10:57:55.945Z"
   },
   {
    "duration": 10,
    "start_time": "2022-04-15T10:57:55.955Z"
   },
   {
    "duration": 4,
    "start_time": "2022-04-15T11:02:12.358Z"
   },
   {
    "duration": 24,
    "start_time": "2022-04-15T11:02:12.363Z"
   },
   {
    "duration": 9,
    "start_time": "2022-04-15T11:02:12.389Z"
   },
   {
    "duration": 13,
    "start_time": "2022-04-15T11:02:12.401Z"
   },
   {
    "duration": 30,
    "start_time": "2022-04-15T11:02:12.416Z"
   },
   {
    "duration": 3,
    "start_time": "2022-04-15T11:02:12.448Z"
   },
   {
    "duration": 10,
    "start_time": "2022-04-15T11:02:12.453Z"
   },
   {
    "duration": 4,
    "start_time": "2022-04-15T11:02:12.465Z"
   },
   {
    "duration": 378,
    "start_time": "2022-04-15T11:02:12.471Z"
   },
   {
    "duration": 4,
    "start_time": "2022-04-15T11:02:12.851Z"
   },
   {
    "duration": 18,
    "start_time": "2022-04-15T11:02:12.858Z"
   },
   {
    "duration": 12,
    "start_time": "2022-04-15T11:02:12.878Z"
   },
   {
    "duration": 6,
    "start_time": "2022-04-15T11:02:12.892Z"
   },
   {
    "duration": 8,
    "start_time": "2022-04-15T11:02:12.935Z"
   },
   {
    "duration": 91,
    "start_time": "2022-04-15T11:02:12.945Z"
   },
   {
    "duration": 247,
    "start_time": "2022-04-15T11:02:13.038Z"
   },
   {
    "duration": 18,
    "start_time": "2022-04-15T11:02:13.287Z"
   },
   {
    "duration": 14,
    "start_time": "2022-04-15T11:02:13.307Z"
   },
   {
    "duration": 14,
    "start_time": "2022-04-15T11:02:13.322Z"
   },
   {
    "duration": 14,
    "start_time": "2022-04-15T11:02:13.337Z"
   },
   {
    "duration": 17,
    "start_time": "2022-04-15T11:02:13.353Z"
   },
   {
    "duration": 11,
    "start_time": "2022-04-15T11:02:13.372Z"
   },
   {
    "duration": 17,
    "start_time": "2022-04-15T11:02:13.384Z"
   },
   {
    "duration": 15,
    "start_time": "2022-04-15T11:02:13.402Z"
   },
   {
    "duration": 19,
    "start_time": "2022-04-15T11:02:13.419Z"
   },
   {
    "duration": 11,
    "start_time": "2022-04-15T11:02:13.440Z"
   },
   {
    "duration": 4,
    "start_time": "2022-04-15T11:03:28.557Z"
   },
   {
    "duration": 28,
    "start_time": "2022-04-15T11:03:28.562Z"
   },
   {
    "duration": 10,
    "start_time": "2022-04-15T11:03:28.592Z"
   },
   {
    "duration": 15,
    "start_time": "2022-04-15T11:03:28.604Z"
   },
   {
    "duration": 33,
    "start_time": "2022-04-15T11:03:28.621Z"
   },
   {
    "duration": 3,
    "start_time": "2022-04-15T11:03:28.656Z"
   },
   {
    "duration": 12,
    "start_time": "2022-04-15T11:03:28.661Z"
   },
   {
    "duration": 5,
    "start_time": "2022-04-15T11:03:28.675Z"
   },
   {
    "duration": 399,
    "start_time": "2022-04-15T11:03:28.683Z"
   },
   {
    "duration": 4,
    "start_time": "2022-04-15T11:03:29.084Z"
   },
   {
    "duration": 12,
    "start_time": "2022-04-15T11:03:29.089Z"
   },
   {
    "duration": 8,
    "start_time": "2022-04-15T11:03:29.103Z"
   },
   {
    "duration": 24,
    "start_time": "2022-04-15T11:03:29.113Z"
   },
   {
    "duration": 8,
    "start_time": "2022-04-15T11:03:29.139Z"
   },
   {
    "duration": 6,
    "start_time": "2022-04-15T11:03:29.234Z"
   },
   {
    "duration": 93,
    "start_time": "2022-04-15T11:03:29.242Z"
   },
   {
    "duration": 96,
    "start_time": "2022-04-15T11:03:29.338Z"
   },
   {
    "duration": 8,
    "start_time": "2022-04-15T11:03:29.436Z"
   },
   {
    "duration": 9,
    "start_time": "2022-04-15T11:03:29.446Z"
   },
   {
    "duration": 13,
    "start_time": "2022-04-15T11:03:29.457Z"
   },
   {
    "duration": 15,
    "start_time": "2022-04-15T11:03:29.471Z"
   },
   {
    "duration": 11,
    "start_time": "2022-04-15T11:03:29.488Z"
   },
   {
    "duration": 36,
    "start_time": "2022-04-15T11:03:29.501Z"
   },
   {
    "duration": 8,
    "start_time": "2022-04-15T11:03:29.541Z"
   },
   {
    "duration": 15,
    "start_time": "2022-04-15T11:03:29.550Z"
   },
   {
    "duration": 67,
    "start_time": "2022-04-15T11:03:29.568Z"
   },
   {
    "duration": 3,
    "start_time": "2022-04-15T11:05:11.240Z"
   },
   {
    "duration": 27,
    "start_time": "2022-04-15T11:05:11.245Z"
   },
   {
    "duration": 9,
    "start_time": "2022-04-15T11:05:11.274Z"
   },
   {
    "duration": 20,
    "start_time": "2022-04-15T11:05:11.285Z"
   },
   {
    "duration": 34,
    "start_time": "2022-04-15T11:05:11.307Z"
   },
   {
    "duration": 3,
    "start_time": "2022-04-15T11:05:11.342Z"
   },
   {
    "duration": 19,
    "start_time": "2022-04-15T11:05:11.347Z"
   },
   {
    "duration": 14,
    "start_time": "2022-04-15T11:05:11.368Z"
   },
   {
    "duration": 374,
    "start_time": "2022-04-15T11:05:11.385Z"
   },
   {
    "duration": 4,
    "start_time": "2022-04-15T11:05:11.761Z"
   },
   {
    "duration": 25,
    "start_time": "2022-04-15T11:05:11.767Z"
   },
   {
    "duration": 16,
    "start_time": "2022-04-15T11:05:11.794Z"
   },
   {
    "duration": 22,
    "start_time": "2022-04-15T11:05:11.812Z"
   },
   {
    "duration": 97,
    "start_time": "2022-04-15T11:05:11.837Z"
   },
   {
    "duration": 11,
    "start_time": "2022-04-15T11:05:11.938Z"
   },
   {
    "duration": 8,
    "start_time": "2022-04-15T11:05:12.035Z"
   },
   {
    "duration": 88,
    "start_time": "2022-04-15T11:05:12.046Z"
   },
   {
    "duration": 14,
    "start_time": "2022-04-15T11:05:12.136Z"
   },
   {
    "duration": 23,
    "start_time": "2022-04-15T11:05:12.152Z"
   },
   {
    "duration": 8,
    "start_time": "2022-04-15T11:05:12.176Z"
   },
   {
    "duration": 16,
    "start_time": "2022-04-15T11:05:12.186Z"
   },
   {
    "duration": 14,
    "start_time": "2022-04-15T11:05:12.204Z"
   },
   {
    "duration": 20,
    "start_time": "2022-04-15T11:05:12.220Z"
   },
   {
    "duration": 26,
    "start_time": "2022-04-15T11:05:12.243Z"
   },
   {
    "duration": 13,
    "start_time": "2022-04-15T11:05:12.270Z"
   },
   {
    "duration": 52,
    "start_time": "2022-04-15T11:05:12.284Z"
   },
   {
    "duration": 4,
    "start_time": "2022-04-15T11:06:18.547Z"
   },
   {
    "duration": 21,
    "start_time": "2022-04-15T11:06:18.554Z"
   },
   {
    "duration": 12,
    "start_time": "2022-04-15T11:06:18.577Z"
   },
   {
    "duration": 12,
    "start_time": "2022-04-15T11:06:18.591Z"
   },
   {
    "duration": 53,
    "start_time": "2022-04-15T11:06:18.606Z"
   },
   {
    "duration": 3,
    "start_time": "2022-04-15T11:06:18.661Z"
   },
   {
    "duration": 10,
    "start_time": "2022-04-15T11:06:18.666Z"
   },
   {
    "duration": 4,
    "start_time": "2022-04-15T11:06:18.678Z"
   },
   {
    "duration": 446,
    "start_time": "2022-04-15T11:06:18.683Z"
   },
   {
    "duration": 8,
    "start_time": "2022-04-15T11:06:19.131Z"
   },
   {
    "duration": 20,
    "start_time": "2022-04-15T11:06:19.141Z"
   },
   {
    "duration": 6,
    "start_time": "2022-04-15T11:06:19.162Z"
   },
   {
    "duration": 11,
    "start_time": "2022-04-15T11:06:19.170Z"
   },
   {
    "duration": 5,
    "start_time": "2022-04-15T11:06:19.235Z"
   },
   {
    "duration": 96,
    "start_time": "2022-04-15T11:06:19.242Z"
   },
   {
    "duration": 94,
    "start_time": "2022-04-15T11:06:19.341Z"
   },
   {
    "duration": 18,
    "start_time": "2022-04-15T11:06:19.439Z"
   },
   {
    "duration": 13,
    "start_time": "2022-04-15T11:06:19.537Z"
   },
   {
    "duration": 6,
    "start_time": "2022-04-15T11:06:19.552Z"
   },
   {
    "duration": 10,
    "start_time": "2022-04-15T11:06:19.560Z"
   },
   {
    "duration": 14,
    "start_time": "2022-04-15T11:06:19.571Z"
   },
   {
    "duration": 11,
    "start_time": "2022-04-15T11:06:19.586Z"
   },
   {
    "duration": 39,
    "start_time": "2022-04-15T11:06:19.598Z"
   },
   {
    "duration": 12,
    "start_time": "2022-04-15T11:06:19.640Z"
   },
   {
    "duration": 8,
    "start_time": "2022-04-15T11:06:19.653Z"
   },
   {
    "duration": 11,
    "start_time": "2022-04-15T11:06:19.663Z"
   },
   {
    "duration": 1616,
    "start_time": "2022-04-16T18:02:44.290Z"
   },
   {
    "duration": 35,
    "start_time": "2022-04-16T18:02:45.909Z"
   },
   {
    "duration": 12,
    "start_time": "2022-04-16T18:02:45.945Z"
   },
   {
    "duration": 10,
    "start_time": "2022-04-16T18:02:45.959Z"
   },
   {
    "duration": 26,
    "start_time": "2022-04-16T18:02:45.970Z"
   },
   {
    "duration": 3,
    "start_time": "2022-04-16T18:02:45.997Z"
   },
   {
    "duration": 16,
    "start_time": "2022-04-16T18:02:46.002Z"
   },
   {
    "duration": 4,
    "start_time": "2022-04-16T18:02:46.020Z"
   },
   {
    "duration": 404,
    "start_time": "2022-04-16T18:02:46.025Z"
   },
   {
    "duration": 4,
    "start_time": "2022-04-16T18:02:46.432Z"
   },
   {
    "duration": 10,
    "start_time": "2022-04-16T18:02:46.438Z"
   },
   {
    "duration": 8,
    "start_time": "2022-04-16T18:02:46.455Z"
   },
   {
    "duration": 6,
    "start_time": "2022-04-16T18:02:46.465Z"
   },
   {
    "duration": 82,
    "start_time": "2022-04-16T18:02:46.473Z"
   },
   {
    "duration": 5,
    "start_time": "2022-04-16T18:02:46.558Z"
   },
   {
    "duration": 96,
    "start_time": "2022-04-16T18:02:46.564Z"
   },
   {
    "duration": 92,
    "start_time": "2022-04-16T18:02:46.663Z"
   },
   {
    "duration": 11,
    "start_time": "2022-04-16T18:02:46.757Z"
   },
   {
    "duration": 7,
    "start_time": "2022-04-16T18:02:46.770Z"
   },
   {
    "duration": 8,
    "start_time": "2022-04-16T18:02:46.779Z"
   },
   {
    "duration": 13,
    "start_time": "2022-04-16T18:02:46.788Z"
   },
   {
    "duration": 9,
    "start_time": "2022-04-16T18:02:46.802Z"
   },
   {
    "duration": 10,
    "start_time": "2022-04-16T18:02:46.813Z"
   },
   {
    "duration": 37,
    "start_time": "2022-04-16T18:02:46.824Z"
   },
   {
    "duration": 8,
    "start_time": "2022-04-16T18:02:46.863Z"
   },
   {
    "duration": 8,
    "start_time": "2022-04-16T18:02:46.874Z"
   },
   {
    "duration": 3,
    "start_time": "2022-04-16T18:20:42.746Z"
   },
   {
    "duration": 14,
    "start_time": "2022-04-16T18:20:42.751Z"
   },
   {
    "duration": 8,
    "start_time": "2022-04-16T18:20:42.767Z"
   },
   {
    "duration": 10,
    "start_time": "2022-04-16T18:20:42.777Z"
   },
   {
    "duration": 24,
    "start_time": "2022-04-16T18:20:42.788Z"
   },
   {
    "duration": 3,
    "start_time": "2022-04-16T18:20:42.813Z"
   },
   {
    "duration": 8,
    "start_time": "2022-04-16T18:20:42.817Z"
   },
   {
    "duration": 29,
    "start_time": "2022-04-16T18:20:42.826Z"
   },
   {
    "duration": 327,
    "start_time": "2022-04-16T18:20:42.856Z"
   },
   {
    "duration": 4,
    "start_time": "2022-04-16T18:20:43.185Z"
   },
   {
    "duration": 11,
    "start_time": "2022-04-16T18:20:43.190Z"
   },
   {
    "duration": 6,
    "start_time": "2022-04-16T18:20:43.203Z"
   },
   {
    "duration": 8,
    "start_time": "2022-04-16T18:20:43.210Z"
   },
   {
    "duration": 4,
    "start_time": "2022-04-16T18:20:43.256Z"
   },
   {
    "duration": 112,
    "start_time": "2022-04-16T18:20:43.263Z"
   },
   {
    "duration": 86,
    "start_time": "2022-04-16T18:20:43.377Z"
   },
   {
    "duration": 9,
    "start_time": "2022-04-16T18:20:43.466Z"
   },
   {
    "duration": 89,
    "start_time": "2022-04-16T18:20:43.479Z"
   },
   {
    "duration": 10,
    "start_time": "2022-04-16T18:20:43.571Z"
   },
   {
    "duration": 9,
    "start_time": "2022-04-16T18:20:43.583Z"
   },
   {
    "duration": 15,
    "start_time": "2022-04-16T18:20:43.593Z"
   },
   {
    "duration": 9,
    "start_time": "2022-04-16T18:20:43.610Z"
   },
   {
    "duration": 13,
    "start_time": "2022-04-16T18:20:43.621Z"
   },
   {
    "duration": 19,
    "start_time": "2022-04-16T18:20:43.654Z"
   },
   {
    "duration": 15,
    "start_time": "2022-04-16T18:20:43.675Z"
   },
   {
    "duration": 7,
    "start_time": "2022-04-16T18:20:43.692Z"
   },
   {
    "duration": 4,
    "start_time": "2022-04-16T18:24:27.813Z"
   },
   {
    "duration": 21,
    "start_time": "2022-04-16T18:24:27.819Z"
   },
   {
    "duration": 9,
    "start_time": "2022-04-16T18:24:27.842Z"
   },
   {
    "duration": 11,
    "start_time": "2022-04-16T18:24:27.852Z"
   },
   {
    "duration": 24,
    "start_time": "2022-04-16T18:24:27.866Z"
   },
   {
    "duration": 3,
    "start_time": "2022-04-16T18:24:27.892Z"
   },
   {
    "duration": 10,
    "start_time": "2022-04-16T18:24:27.897Z"
   },
   {
    "duration": 5,
    "start_time": "2022-04-16T18:24:27.908Z"
   },
   {
    "duration": 381,
    "start_time": "2022-04-16T18:24:27.914Z"
   },
   {
    "duration": 4,
    "start_time": "2022-04-16T18:24:28.297Z"
   },
   {
    "duration": 9,
    "start_time": "2022-04-16T18:24:28.303Z"
   },
   {
    "duration": 8,
    "start_time": "2022-04-16T18:24:28.314Z"
   },
   {
    "duration": 32,
    "start_time": "2022-04-16T18:24:28.324Z"
   },
   {
    "duration": 96,
    "start_time": "2022-04-16T18:24:28.360Z"
   },
   {
    "duration": 7,
    "start_time": "2022-04-16T18:24:28.461Z"
   },
   {
    "duration": 93,
    "start_time": "2022-04-16T18:24:28.470Z"
   },
   {
    "duration": 89,
    "start_time": "2022-04-16T18:24:28.567Z"
   },
   {
    "duration": 13,
    "start_time": "2022-04-16T18:24:28.658Z"
   },
   {
    "duration": 6,
    "start_time": "2022-04-16T18:24:28.673Z"
   },
   {
    "duration": 10,
    "start_time": "2022-04-16T18:24:28.680Z"
   },
   {
    "duration": 11,
    "start_time": "2022-04-16T18:24:28.691Z"
   },
   {
    "duration": 13,
    "start_time": "2022-04-16T18:24:28.703Z"
   },
   {
    "duration": 44,
    "start_time": "2022-04-16T18:24:28.717Z"
   },
   {
    "duration": 7,
    "start_time": "2022-04-16T18:24:28.762Z"
   },
   {
    "duration": 11,
    "start_time": "2022-04-16T18:24:28.771Z"
   },
   {
    "duration": 6,
    "start_time": "2022-04-16T18:24:28.784Z"
   }
  ],
  "kernelspec": {
   "display_name": "Python 3 (ipykernel)",
   "language": "python",
   "name": "python3"
  },
  "language_info": {
   "codemirror_mode": {
    "name": "ipython",
    "version": 3
   },
   "file_extension": ".py",
   "mimetype": "text/x-python",
   "name": "python",
   "nbconvert_exporter": "python",
   "pygments_lexer": "ipython3",
   "version": "3.9.7"
  },
  "toc": {
   "base_numbering": 1,
   "nav_menu": {},
   "number_sections": true,
   "sideBar": true,
   "skip_h1_title": true,
   "title_cell": "Содержание",
   "title_sidebar": "Contents",
   "toc_cell": true,
   "toc_position": {},
   "toc_section_display": true,
   "toc_window_display": true
  }
 },
 "nbformat": 4,
 "nbformat_minor": 2
}
