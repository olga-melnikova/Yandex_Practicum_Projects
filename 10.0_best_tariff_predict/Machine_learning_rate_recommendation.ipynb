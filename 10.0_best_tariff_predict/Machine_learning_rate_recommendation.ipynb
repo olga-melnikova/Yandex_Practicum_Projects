{
 "cells": [
  {
   "cell_type": "markdown",
   "metadata": {
    "toc": true
   },
   "source": [
    "<h1>Содержание<span class=\"tocSkip\"></span></h1>\n",
    "<div class=\"toc\"><ul class=\"toc-item\"><li><span><a href=\"#Импорт-библиотек,-чтение-и-изучение-файла\" data-toc-modified-id=\"Импорт-библиотек,-чтение-и-изучение-файла-1\"><span class=\"toc-item-num\">1&nbsp;&nbsp;</span>Импорт библиотек, чтение и изучение файла</a></span></li><li><span><a href=\"#Разделение-датасета-на-выборки\" data-toc-modified-id=\"Разделение-датасета-на-выборки-2\"><span class=\"toc-item-num\">2&nbsp;&nbsp;</span>Разделение датасета на выборки</a></span></li><li><span><a href=\"#Исследование-моделей\" data-toc-modified-id=\"Исследование-моделей-3\"><span class=\"toc-item-num\">3&nbsp;&nbsp;</span>Исследование моделей</a></span><ul class=\"toc-item\"><li><span><a href=\"#Дерево-решений\" data-toc-modified-id=\"Дерево-решений-3.1\"><span class=\"toc-item-num\">3.1&nbsp;&nbsp;</span>Дерево решений</a></span></li><li><span><a href=\"#Случайный-лес\" data-toc-modified-id=\"Случайный-лес-3.2\"><span class=\"toc-item-num\">3.2&nbsp;&nbsp;</span>Случайный лес</a></span></li><li><span><a href=\"#Логистическая-регрессия\" data-toc-modified-id=\"Логистическая-регрессия-3.3\"><span class=\"toc-item-num\">3.3&nbsp;&nbsp;</span>Логистическая регрессия</a></span></li><li><span><a href=\"#Вывод\" data-toc-modified-id=\"Вывод-3.4\"><span class=\"toc-item-num\">3.4&nbsp;&nbsp;</span>Вывод</a></span></li></ul></li><li><span><a href=\"#Проверка-моделей-на-тестовой-выборке\" data-toc-modified-id=\"Проверка-моделей-на-тестовой-выборке-4\"><span class=\"toc-item-num\">4&nbsp;&nbsp;</span>Проверка моделей на тестовой выборке</a></span></li><li><span><a href=\"#Проверка-модели-на-адекватность\" data-toc-modified-id=\"Проверка-модели-на-адекватность-5\"><span class=\"toc-item-num\">5&nbsp;&nbsp;</span>Проверка модели на адекватность</a></span></li><li><span><a href=\"#Вывод\" data-toc-modified-id=\"Вывод-6\"><span class=\"toc-item-num\">6&nbsp;&nbsp;</span>Вывод</a></span></li></ul></div>"
   ]
  },
  {
   "cell_type": "markdown",
   "metadata": {},
   "source": [
    "# Рекомендация тарифов"
   ]
  },
  {
   "cell_type": "markdown",
   "metadata": {},
   "source": [
    "Оператор мобильной связи «Мегалайн» выяснил: многие клиенты пользуются архивными тарифами. Они хотят построить систему, способную проанализировать поведение клиентов и предложить пользователям новый тариф: «Смарт» или «Ультра».  \n",
    "\n",
    "Нужно подобрать модель для задачи классификации, которая порекомендует пользователю один из предложенных тарифов.\n",
    "Исходные данные - описание поведения пользователей.  \n",
    "\n",
    "Источник данных: Яндекс. Практикум"
   ]
  },
  {
   "cell_type": "markdown",
   "metadata": {},
   "source": [
    "## Импорт библиотек, чтение и изучение файла"
   ]
  },
  {
   "cell_type": "code",
   "execution_count": 26,
   "metadata": {},
   "outputs": [],
   "source": [
    "import pandas as pd\n",
    "import numpy as np\n",
    "import seaborn as sns\n",
    "import matplotlib.pyplot as plt\n",
    "from sklearn.tree import DecisionTreeClassifier\n",
    "from sklearn.ensemble import RandomForestClassifier\n",
    "from sklearn.linear_model import LogisticRegression\n",
    "\n",
    "from sklearn.model_selection import train_test_split\n",
    "from sklearn import metrics\n",
    "from sklearn.dummy import DummyClassifier"
   ]
  },
  {
   "cell_type": "code",
   "execution_count": 27,
   "metadata": {},
   "outputs": [],
   "source": [
    "users_behavior = pd.read_csv('/datasets/users_behavior.csv')"
   ]
  },
  {
   "cell_type": "code",
   "execution_count": 28,
   "metadata": {},
   "outputs": [
    {
     "data": {
      "text/html": [
       "<div>\n",
       "<style scoped>\n",
       "    .dataframe tbody tr th:only-of-type {\n",
       "        vertical-align: middle;\n",
       "    }\n",
       "\n",
       "    .dataframe tbody tr th {\n",
       "        vertical-align: top;\n",
       "    }\n",
       "\n",
       "    .dataframe thead th {\n",
       "        text-align: right;\n",
       "    }\n",
       "</style>\n",
       "<table border=\"1\" class=\"dataframe\">\n",
       "  <thead>\n",
       "    <tr style=\"text-align: right;\">\n",
       "      <th></th>\n",
       "      <th>calls</th>\n",
       "      <th>minutes</th>\n",
       "      <th>messages</th>\n",
       "      <th>mb_used</th>\n",
       "      <th>is_ultra</th>\n",
       "    </tr>\n",
       "  </thead>\n",
       "  <tbody>\n",
       "    <tr>\n",
       "      <td>0</td>\n",
       "      <td>40.0</td>\n",
       "      <td>311.90</td>\n",
       "      <td>83.0</td>\n",
       "      <td>19915.42</td>\n",
       "      <td>0</td>\n",
       "    </tr>\n",
       "    <tr>\n",
       "      <td>1</td>\n",
       "      <td>85.0</td>\n",
       "      <td>516.75</td>\n",
       "      <td>56.0</td>\n",
       "      <td>22696.96</td>\n",
       "      <td>0</td>\n",
       "    </tr>\n",
       "    <tr>\n",
       "      <td>2</td>\n",
       "      <td>77.0</td>\n",
       "      <td>467.66</td>\n",
       "      <td>86.0</td>\n",
       "      <td>21060.45</td>\n",
       "      <td>0</td>\n",
       "    </tr>\n",
       "    <tr>\n",
       "      <td>3</td>\n",
       "      <td>106.0</td>\n",
       "      <td>745.53</td>\n",
       "      <td>81.0</td>\n",
       "      <td>8437.39</td>\n",
       "      <td>1</td>\n",
       "    </tr>\n",
       "    <tr>\n",
       "      <td>4</td>\n",
       "      <td>66.0</td>\n",
       "      <td>418.74</td>\n",
       "      <td>1.0</td>\n",
       "      <td>14502.75</td>\n",
       "      <td>0</td>\n",
       "    </tr>\n",
       "    <tr>\n",
       "      <td>5</td>\n",
       "      <td>58.0</td>\n",
       "      <td>344.56</td>\n",
       "      <td>21.0</td>\n",
       "      <td>15823.37</td>\n",
       "      <td>0</td>\n",
       "    </tr>\n",
       "    <tr>\n",
       "      <td>6</td>\n",
       "      <td>57.0</td>\n",
       "      <td>431.64</td>\n",
       "      <td>20.0</td>\n",
       "      <td>3738.90</td>\n",
       "      <td>1</td>\n",
       "    </tr>\n",
       "    <tr>\n",
       "      <td>7</td>\n",
       "      <td>15.0</td>\n",
       "      <td>132.40</td>\n",
       "      <td>6.0</td>\n",
       "      <td>21911.60</td>\n",
       "      <td>0</td>\n",
       "    </tr>\n",
       "    <tr>\n",
       "      <td>8</td>\n",
       "      <td>7.0</td>\n",
       "      <td>43.39</td>\n",
       "      <td>3.0</td>\n",
       "      <td>2538.67</td>\n",
       "      <td>1</td>\n",
       "    </tr>\n",
       "    <tr>\n",
       "      <td>9</td>\n",
       "      <td>90.0</td>\n",
       "      <td>665.41</td>\n",
       "      <td>38.0</td>\n",
       "      <td>17358.61</td>\n",
       "      <td>0</td>\n",
       "    </tr>\n",
       "  </tbody>\n",
       "</table>\n",
       "</div>"
      ],
      "text/plain": [
       "   calls  minutes  messages   mb_used  is_ultra\n",
       "0   40.0   311.90      83.0  19915.42         0\n",
       "1   85.0   516.75      56.0  22696.96         0\n",
       "2   77.0   467.66      86.0  21060.45         0\n",
       "3  106.0   745.53      81.0   8437.39         1\n",
       "4   66.0   418.74       1.0  14502.75         0\n",
       "5   58.0   344.56      21.0  15823.37         0\n",
       "6   57.0   431.64      20.0   3738.90         1\n",
       "7   15.0   132.40       6.0  21911.60         0\n",
       "8    7.0    43.39       3.0   2538.67         1\n",
       "9   90.0   665.41      38.0  17358.61         0"
      ]
     },
     "execution_count": 28,
     "metadata": {},
     "output_type": "execute_result"
    }
   ],
   "source": [
    "users_behavior.head(10)"
   ]
  },
  {
   "cell_type": "markdown",
   "metadata": {},
   "source": [
    "Описание данных  \n",
    "\n",
    "Каждый объект в наборе данных — это информация о поведении одного пользователя за месяц. Известно:  \n",
    "\n",
    "`сalls` — количество звонков,  \n",
    "`minutes` — суммарная длительность звонков в минутах,  \n",
    "`messages` — количество sms-сообщений,  \n",
    "`mb_used` — израсходованный интернет-трафик в Мб,  \n",
    "`is_ultra` — каким тарифом пользовался в течение месяца («Ультра» — 1, «Смарт» — 0).  "
   ]
  },
  {
   "cell_type": "code",
   "execution_count": 29,
   "metadata": {},
   "outputs": [
    {
     "name": "stdout",
     "output_type": "stream",
     "text": [
      "<class 'pandas.core.frame.DataFrame'>\n",
      "RangeIndex: 3214 entries, 0 to 3213\n",
      "Data columns (total 5 columns):\n",
      "calls       3214 non-null float64\n",
      "minutes     3214 non-null float64\n",
      "messages    3214 non-null float64\n",
      "mb_used     3214 non-null float64\n",
      "is_ultra    3214 non-null int64\n",
      "dtypes: float64(4), int64(1)\n",
      "memory usage: 125.7 KB\n"
     ]
    }
   ],
   "source": [
    "users_behavior.info()"
   ]
  },
  {
   "cell_type": "code",
   "execution_count": 30,
   "metadata": {},
   "outputs": [
    {
     "data": {
      "text/plain": [
       "0    2229\n",
       "1     985\n",
       "Name: is_ultra, dtype: int64"
      ]
     },
     "execution_count": 30,
     "metadata": {},
     "output_type": "execute_result"
    }
   ],
   "source": [
    "users_behavior['is_ultra'].value_counts()"
   ]
  },
  {
   "cell_type": "code",
   "execution_count": 31,
   "metadata": {},
   "outputs": [
    {
     "data": {
      "text/plain": [
       "0"
      ]
     },
     "execution_count": 31,
     "metadata": {},
     "output_type": "execute_result"
    }
   ],
   "source": [
    "users_behavior.duplicated().sum()"
   ]
  },
  {
   "cell_type": "code",
   "execution_count": 32,
   "metadata": {},
   "outputs": [
    {
     "data": {
      "text/plain": [
       "calls       0\n",
       "minutes     0\n",
       "messages    0\n",
       "mb_used     0\n",
       "is_ultra    0\n",
       "dtype: int64"
      ]
     },
     "execution_count": 32,
     "metadata": {},
     "output_type": "execute_result"
    }
   ],
   "source": [
    "users_behavior.isna().sum()"
   ]
  },
  {
   "cell_type": "code",
   "execution_count": 33,
   "metadata": {},
   "outputs": [
    {
     "data": {
      "text/html": [
       "<div>\n",
       "<style scoped>\n",
       "    .dataframe tbody tr th:only-of-type {\n",
       "        vertical-align: middle;\n",
       "    }\n",
       "\n",
       "    .dataframe tbody tr th {\n",
       "        vertical-align: top;\n",
       "    }\n",
       "\n",
       "    .dataframe thead th {\n",
       "        text-align: right;\n",
       "    }\n",
       "</style>\n",
       "<table border=\"1\" class=\"dataframe\">\n",
       "  <thead>\n",
       "    <tr style=\"text-align: right;\">\n",
       "      <th></th>\n",
       "      <th>count</th>\n",
       "      <th>mean</th>\n",
       "      <th>std</th>\n",
       "      <th>min</th>\n",
       "      <th>25%</th>\n",
       "      <th>50%</th>\n",
       "      <th>75%</th>\n",
       "      <th>max</th>\n",
       "    </tr>\n",
       "  </thead>\n",
       "  <tbody>\n",
       "    <tr>\n",
       "      <td>calls</td>\n",
       "      <td>3214.0</td>\n",
       "      <td>63.038892</td>\n",
       "      <td>33.236368</td>\n",
       "      <td>0.0</td>\n",
       "      <td>40.0000</td>\n",
       "      <td>62.000</td>\n",
       "      <td>82.0000</td>\n",
       "      <td>244.00</td>\n",
       "    </tr>\n",
       "    <tr>\n",
       "      <td>minutes</td>\n",
       "      <td>3214.0</td>\n",
       "      <td>438.208787</td>\n",
       "      <td>234.569872</td>\n",
       "      <td>0.0</td>\n",
       "      <td>274.5750</td>\n",
       "      <td>430.600</td>\n",
       "      <td>571.9275</td>\n",
       "      <td>1632.06</td>\n",
       "    </tr>\n",
       "    <tr>\n",
       "      <td>messages</td>\n",
       "      <td>3214.0</td>\n",
       "      <td>38.281269</td>\n",
       "      <td>36.148326</td>\n",
       "      <td>0.0</td>\n",
       "      <td>9.0000</td>\n",
       "      <td>30.000</td>\n",
       "      <td>57.0000</td>\n",
       "      <td>224.00</td>\n",
       "    </tr>\n",
       "    <tr>\n",
       "      <td>mb_used</td>\n",
       "      <td>3214.0</td>\n",
       "      <td>17207.673836</td>\n",
       "      <td>7570.968246</td>\n",
       "      <td>0.0</td>\n",
       "      <td>12491.9025</td>\n",
       "      <td>16943.235</td>\n",
       "      <td>21424.7000</td>\n",
       "      <td>49745.73</td>\n",
       "    </tr>\n",
       "    <tr>\n",
       "      <td>is_ultra</td>\n",
       "      <td>3214.0</td>\n",
       "      <td>0.306472</td>\n",
       "      <td>0.461100</td>\n",
       "      <td>0.0</td>\n",
       "      <td>0.0000</td>\n",
       "      <td>0.000</td>\n",
       "      <td>1.0000</td>\n",
       "      <td>1.00</td>\n",
       "    </tr>\n",
       "  </tbody>\n",
       "</table>\n",
       "</div>"
      ],
      "text/plain": [
       "           count          mean          std  min         25%        50%  \\\n",
       "calls     3214.0     63.038892    33.236368  0.0     40.0000     62.000   \n",
       "minutes   3214.0    438.208787   234.569872  0.0    274.5750    430.600   \n",
       "messages  3214.0     38.281269    36.148326  0.0      9.0000     30.000   \n",
       "mb_used   3214.0  17207.673836  7570.968246  0.0  12491.9025  16943.235   \n",
       "is_ultra  3214.0      0.306472     0.461100  0.0      0.0000      0.000   \n",
       "\n",
       "                 75%       max  \n",
       "calls        82.0000    244.00  \n",
       "minutes     571.9275   1632.06  \n",
       "messages     57.0000    224.00  \n",
       "mb_used   21424.7000  49745.73  \n",
       "is_ultra      1.0000      1.00  "
      ]
     },
     "execution_count": 33,
     "metadata": {},
     "output_type": "execute_result"
    }
   ],
   "source": [
    "users_behavior.describe().T"
   ]
  },
  {
   "cell_type": "markdown",
   "metadata": {},
   "source": [
    "**Вывод**\n",
    "***\n",
    "В датасете 3214 строк, из них:\n",
    "- тариф смарт(0) - 2229  \n",
    "- тариф ультра(1) - 985  \n",
    "\n",
    "Дубликатов, пропущенных значений не обнаружено.  \n",
    "Минимальное значение звонков/смс/интернета - 0."
   ]
  },
  {
   "cell_type": "markdown",
   "metadata": {},
   "source": [
    "## Разделение датасета на выборки"
   ]
  },
  {
   "cell_type": "markdown",
   "metadata": {},
   "source": [
    "Модель должна порекомендовать на какой тариф лучше перейти пользователю, значит целевой признак это тариф - is_ultra. \n",
    "\n",
    "Целевой признак категориальный (два тарифа 0 и 1), поэтому решается задача классификации.  \n",
    "Разделим датасет на целевой признак и на признаки для обучения моделей."
   ]
  },
  {
   "cell_type": "code",
   "execution_count": 34,
   "metadata": {},
   "outputs": [],
   "source": [
    "features_users_behavior = users_behavior.drop('is_ultra', axis=1)\n",
    "target_users_behavior = users_behavior['is_ultra']"
   ]
  },
  {
   "cell_type": "code",
   "execution_count": 35,
   "metadata": {},
   "outputs": [
    {
     "name": "stdout",
     "output_type": "stream",
     "text": [
      "Размер датасета с признаками (3214, 4)\n",
      "Размер датасета с целевым признаком (3214,)\n"
     ]
    }
   ],
   "source": [
    "print('Размер датасета с признаками', features_users_behavior.shape)\n",
    "print('Размер датасета с целевым признаком', target_users_behavior.shape)"
   ]
  },
  {
   "cell_type": "markdown",
   "metadata": {},
   "source": [
    "Разделим данные на три части в два этапа: обучающую, валидационную и тестовую выборки в пропорции 3:1:1.  \n",
    "Соответственно, обучающая выборка - 60% от всех данных, 20% для валидационной и тестовой выборок."
   ]
  },
  {
   "cell_type": "code",
   "execution_count": 36,
   "metadata": {},
   "outputs": [],
   "source": [
    "# разделяем первым этапом тренировочную выборку - 60% и тестовую - 40%\n",
    "features_train, features_valid, target_train, target_valid = train_test_split(features_users_behavior,\n",
    "                                                                             target_users_behavior,\n",
    "                                                                             test_size=0.4, \n",
    "                                                                             random_state=12345)\n",
    "\n",
    "# разделяем тестовую - 40% в равных долях на две - валидационную и тестовую выборки\n",
    "features_valid, features_test, target_valid, target_test = train_test_split(features_valid, \n",
    "                                                                           target_valid, \n",
    "                                                                           test_size=0.5,\n",
    "                                                                           random_state=12345)"
   ]
  },
  {
   "cell_type": "code",
   "execution_count": 37,
   "metadata": {},
   "outputs": [
    {
     "name": "stdout",
     "output_type": "stream",
     "text": [
      "Размер тренировочной выборки признаков:\n",
      "(1928, 4)\n",
      "целевого признака:\n",
      "(1928,)\n",
      "Размер валидационной выборки признаков:\n",
      "(643, 4)\n",
      "целевого признака:\n",
      "(643,)\n",
      "Размер тестовой выборки признаков:\n",
      "(643, 4)\n",
      "целевого признака:\n",
      "(643,)\n"
     ]
    }
   ],
   "source": [
    "print('Размер тренировочной выборки признаков:', features_train.shape, 'целевого признака:', target_train.shape, sep='\\n')\n",
    "print('Размер валидационной выборки признаков:', features_valid.shape, 'целевого признака:', target_valid.shape, sep='\\n')\n",
    "print('Размер тестовой выборки признаков:', features_test.shape, 'целевого признака:', target_test.shape, sep='\\n')"
   ]
  },
  {
   "cell_type": "markdown",
   "metadata": {},
   "source": [
    "**Вывод**\n",
    "***\n",
    "Исходная выборка разделена на три:\n",
    "- 60% обучающая выборка.\n",
    "- по 20% валидационная и тестовая выборки."
   ]
  },
  {
   "cell_type": "markdown",
   "metadata": {},
   "source": [
    "## Исследование моделей"
   ]
  },
  {
   "cell_type": "markdown",
   "metadata": {},
   "source": [
    "### Дерево решений "
   ]
  },
  {
   "cell_type": "markdown",
   "metadata": {},
   "source": [
    "Обучим модель дерева решений на обучающей выборке features_train, target_train.   \n",
    "Переберем вложенным циклом гиперпараметры (max_depth, min_samples_split), и найдем модель с гиперпараметрами, которая дает наилучший результат точности предсказаний (accuracy) на валидационной выборке и сохраним результат в best_result_tree."
   ]
  },
  {
   "cell_type": "code",
   "execution_count": 38,
   "metadata": {},
   "outputs": [
    {
     "name": "stdout",
     "output_type": "stream",
     "text": [
      "Accuracy лучшей модели дерева решений: 78.69%\n",
      "Глубина дерева лучшей модели 5\n",
      "Мин. кол-во выборок для разделения вн. узла: 80\n"
     ]
    }
   ],
   "source": [
    "best_model_tree = None\n",
    "best_result_tree = 0\n",
    "best_depth = 0\n",
    "best_sample = 0\n",
    "\n",
    "for depth in range(1, 6): # глубина дерева от 1 до 6\n",
    "    \n",
    "    for sample in range(10, 100, 10): # минимальное количество выборок для разделения вн. узла \n",
    "        \n",
    "        model = DecisionTreeClassifier(random_state=5, \n",
    "                                       max_depth=depth, \n",
    "                                       min_samples_split = sample) # создание модели\n",
    "\n",
    "        model.fit(features_train, target_train) # обучение на обучающей выборке\n",
    "\n",
    "        result = model.score(features_valid, target_valid) # оценка точности предсказаний на вал. выборке \n",
    "        \n",
    "        if result > best_result_tree: # сохранение параметров лучшей модели\n",
    "            best_result_tree = result\n",
    "            best_model_tree = model\n",
    "            best_depth = depth\n",
    "            best_sample = sample\n",
    "        \n",
    "print(f'Accuracy лучшей модели дерева решений: {best_result_tree:.2%}')\n",
    "print('Глубина дерева лучшей модели', best_depth)\n",
    "print('Мин. кол-во выборок для разделения вн. узла:', best_sample)"
   ]
  },
  {
   "cell_type": "markdown",
   "metadata": {},
   "source": [
    "**Вывод**\n",
    "***\n",
    "Наилучший результат предсказаний на валидационной выборке показала модель дерева решений с гиперпараметрами:  \n",
    "- random_state=5\n",
    "- max_depth=5, \n",
    "- min_samples_split=80.    \n",
    "\n",
    "Точность предсказаний на валидационной выборке составила 78,69 %."
   ]
  },
  {
   "cell_type": "markdown",
   "metadata": {},
   "source": [
    "### Случайный лес"
   ]
  },
  {
   "cell_type": "markdown",
   "metadata": {},
   "source": [
    "Найдем гиперпараметры для модели случайного леса, с которыми модель дает наилучший результат accuracy.  \n",
    "Рассмотрим гиперпараметры - n_estimators (количество деревьев), max_depth (глубина деревьев).  \n",
    "Сохраним наилучшую модель в best_model_forest."
   ]
  },
  {
   "cell_type": "code",
   "execution_count": 39,
   "metadata": {},
   "outputs": [
    {
     "name": "stdout",
     "output_type": "stream",
     "text": [
      "Accuracy наилучшей модели на валидационной выборке: 81.03%\n",
      "Количество деревьев в наилучшей модели 15\n",
      "Глубина деревьев 7\n"
     ]
    }
   ],
   "source": [
    "best_result_forest = 0\n",
    "best_model_forest = None \n",
    "best_estimators_forest = 0\n",
    "best_depth = 0\n",
    "\n",
    "for est in range(1, 20): # количество деревьев от 1 до 50 \n",
    "    \n",
    "    for depth in range(1, 10): # глубина деревьев\n",
    "\n",
    "        model = RandomForestClassifier(random_state=5,  \n",
    "                                           n_estimators=est, \n",
    "                                           max_depth=depth) # модель\n",
    "\n",
    "        model.fit(features_train, target_train) # обучение на тренировочной выборке\n",
    "\n",
    "        result = model.score(features_valid, target_valid) # точность предсказаний на валидацонной выбоке\n",
    "\n",
    "        if result > best_result_forest: # лучший результат\n",
    "            best_model_forest = model\n",
    "            best_result_forest = result\n",
    "            best_estimators_forest = est\n",
    "            best_depth = depth\n",
    "\n",
    "            \n",
    "print(f'Accuracy наилучшей модели на валидационной выборке: {best_result_forest:.2%}')    \n",
    "print('Количество деревьев в наилучшей модели', best_estimators_forest)\n",
    "print('Глубина деревьев', best_depth)"
   ]
  },
  {
   "cell_type": "markdown",
   "metadata": {},
   "source": [
    "**Вывод**\n",
    "***\n",
    "Наилучший результат предсказаний на валидационной выборке показала модель случайного леса с гиперпараметрами:  \n",
    "\n",
    "- random_state=5\n",
    "- n_estimators=15\n",
    "- max_depth=7    \n",
    "    \n",
    "\n",
    "Точность предсказаний составила 81,03 %."
   ]
  },
  {
   "cell_type": "markdown",
   "metadata": {},
   "source": [
    "###  Логистическая регрессия"
   ]
  },
  {
   "cell_type": "markdown",
   "metadata": {},
   "source": [
    "Обучим модель логистической регрессии с гиперпараметрами:\n",
    "- random_state\n",
    "- solver\n",
    "- penalty\n",
    "- C\n",
    "\n",
    "И сохраним модель с наилучшей точностью предсказаний."
   ]
  },
  {
   "cell_type": "code",
   "execution_count": 40,
   "metadata": {},
   "outputs": [
    {
     "name": "stdout",
     "output_type": "stream",
     "text": [
      "Accuracy модели на валидационной выборке: 71.07%\n"
     ]
    }
   ],
   "source": [
    "model_reg_1 = LogisticRegression(random_state=5, solver='lbfgs')\n",
    "\n",
    "model_reg_1.fit(features_train, target_train)\n",
    "\n",
    "result_reg_1 = model_reg_1.score(features_valid, target_valid)\n",
    "\n",
    "print(f'Accuracy модели на валидационной выборке: {result_reg_1:.2%}') "
   ]
  },
  {
   "cell_type": "code",
   "execution_count": 41,
   "metadata": {},
   "outputs": [
    {
     "name": "stdout",
     "output_type": "stream",
     "text": [
      "Accuracy модели на валидационной выборке: 75.58%\n"
     ]
    }
   ],
   "source": [
    "model_reg_2 = LogisticRegression(penalty='none', random_state=5, solver='lbfgs')\n",
    "\n",
    "model_reg_2.fit(features_train, target_train)\n",
    "\n",
    "result_reg_2 = model_reg_2.score(features_valid, target_valid)\n",
    "\n",
    "print(f'Accuracy модели на валидационной выборке: {result_reg_2:.2%}') "
   ]
  },
  {
   "cell_type": "code",
   "execution_count": 42,
   "metadata": {},
   "outputs": [
    {
     "name": "stdout",
     "output_type": "stream",
     "text": [
      "Accuracy модели на валидационной выборке: 75.89%\n"
     ]
    }
   ],
   "source": [
    "model_reg_3 = LogisticRegression(penalty='l1', random_state=5, C=.09, solver='liblinear')\n",
    "\n",
    "model_reg_3.fit(features_train, target_train)\n",
    "\n",
    "result_reg_3 = model_reg_3.score(features_valid, target_valid)\n",
    "\n",
    "print(f'Accuracy модели на валидационной выборке: {result_reg_3:.2%}')"
   ]
  },
  {
   "cell_type": "markdown",
   "metadata": {},
   "source": [
    "**Вывод**\n",
    "***\n",
    "Максимальный результат точности предсказаний модели логистической регрессии составил 75,89%.   "
   ]
  },
  {
   "cell_type": "code",
   "execution_count": 43,
   "metadata": {},
   "outputs": [],
   "source": [
    "def df_accuracy(m1_tree, m2_forest, m3_reg):\n",
    "    data = pd.DataFrame({'accuracy': [m1_tree, \n",
    "                                      m2_forest, \n",
    "                                      m3_reg]}, index=['Дерево решений', \n",
    "                                                       'Случайный лес', \n",
    "                                                       'Логистическая регрессия']).sort_values(by='accuracy', \n",
    "                                                                                               ascending=False)\n",
    "    return data"
   ]
  },
  {
   "cell_type": "markdown",
   "metadata": {},
   "source": [
    "### Вывод \n",
    "***\n",
    "Наилучший результат предсказаний на валидационной выборке показала модель случайного леса - accuracy 81,02% с гиперпараметрами:\n",
    "- random_state=5\n",
    "- n_estimators=15\n",
    "- max_depth=7 \n"
   ]
  },
  {
   "cell_type": "code",
   "execution_count": 44,
   "metadata": {
    "scrolled": true
   },
   "outputs": [
    {
     "data": {
      "text/html": [
       "<div>\n",
       "<style scoped>\n",
       "    .dataframe tbody tr th:only-of-type {\n",
       "        vertical-align: middle;\n",
       "    }\n",
       "\n",
       "    .dataframe tbody tr th {\n",
       "        vertical-align: top;\n",
       "    }\n",
       "\n",
       "    .dataframe thead th {\n",
       "        text-align: right;\n",
       "    }\n",
       "</style>\n",
       "<table border=\"1\" class=\"dataframe\">\n",
       "  <thead>\n",
       "    <tr style=\"text-align: right;\">\n",
       "      <th></th>\n",
       "      <th>accuracy</th>\n",
       "    </tr>\n",
       "  </thead>\n",
       "  <tbody>\n",
       "    <tr>\n",
       "      <td>Случайный лес</td>\n",
       "      <td>0.810264</td>\n",
       "    </tr>\n",
       "    <tr>\n",
       "      <td>Дерево решений</td>\n",
       "      <td>0.786936</td>\n",
       "    </tr>\n",
       "    <tr>\n",
       "      <td>Логистическая регрессия</td>\n",
       "      <td>0.758942</td>\n",
       "    </tr>\n",
       "  </tbody>\n",
       "</table>\n",
       "</div>"
      ],
      "text/plain": [
       "                         accuracy\n",
       "Случайный лес            0.810264\n",
       "Дерево решений           0.786936\n",
       "Логистическая регрессия  0.758942"
      ]
     },
     "execution_count": 44,
     "metadata": {},
     "output_type": "execute_result"
    }
   ],
   "source": [
    "df_accuracy(m1_tree=best_result_tree, m2_forest=best_result_forest, m3_reg=result_reg_3)"
   ]
  },
  {
   "cell_type": "markdown",
   "metadata": {},
   "source": [
    "## Проверка моделей на тестовой выборке"
   ]
  },
  {
   "cell_type": "markdown",
   "metadata": {},
   "source": [
    "Проверим точность предсказаний лучшей модели дерева решений/случайного леса/лог.регрессии на тестовой выборке. \n",
    "\n",
    "Сохраним результаты предсказаний на тестовой выборке."
   ]
  },
  {
   "cell_type": "code",
   "execution_count": 45,
   "metadata": {},
   "outputs": [],
   "source": [
    "tree_test = best_model_tree.score(features_test, target_test) # дерево\n",
    "forest_test = best_model_forest.score(features_test, target_test) # лес\n",
    "log_reg_test = model_reg_3.score(features_test, target_test) # лог. регрессия"
   ]
  },
  {
   "cell_type": "markdown",
   "metadata": {},
   "source": [
    "Выведем на экран время, затраченное каждой моделью на предсказание."
   ]
  },
  {
   "cell_type": "code",
   "execution_count": 46,
   "metadata": {},
   "outputs": [
    {
     "name": "stdout",
     "output_type": "stream",
     "text": [
      "CPU times: user 1.01 ms, sys: 61 µs, total: 1.07 ms\n",
      "Wall time: 795 µs\n"
     ]
    }
   ],
   "source": [
    "%%time\n",
    "predict_tree = best_model_tree.predict(features_test)"
   ]
  },
  {
   "cell_type": "code",
   "execution_count": 47,
   "metadata": {},
   "outputs": [
    {
     "name": "stdout",
     "output_type": "stream",
     "text": [
      "CPU times: user 2.49 ms, sys: 149 µs, total: 2.64 ms\n",
      "Wall time: 2.45 ms\n"
     ]
    }
   ],
   "source": [
    "%%time\n",
    "predict_forest = best_model_forest.predict(features_test)"
   ]
  },
  {
   "cell_type": "code",
   "execution_count": 48,
   "metadata": {},
   "outputs": [
    {
     "name": "stdout",
     "output_type": "stream",
     "text": [
      "CPU times: user 554 µs, sys: 33 µs, total: 587 µs\n",
      "Wall time: 544 µs\n"
     ]
    }
   ],
   "source": [
    "%%time\n",
    "predict_reg = model_reg_3.predict(features_test)"
   ]
  },
  {
   "cell_type": "markdown",
   "metadata": {},
   "source": [
    "Выведем на экран  в порядке убывания значения точности accuracy для каждой модели на тестовой выборке."
   ]
  },
  {
   "cell_type": "code",
   "execution_count": 49,
   "metadata": {},
   "outputs": [
    {
     "data": {
      "text/html": [
       "<div>\n",
       "<style scoped>\n",
       "    .dataframe tbody tr th:only-of-type {\n",
       "        vertical-align: middle;\n",
       "    }\n",
       "\n",
       "    .dataframe tbody tr th {\n",
       "        vertical-align: top;\n",
       "    }\n",
       "\n",
       "    .dataframe thead th {\n",
       "        text-align: right;\n",
       "    }\n",
       "</style>\n",
       "<table border=\"1\" class=\"dataframe\">\n",
       "  <thead>\n",
       "    <tr style=\"text-align: right;\">\n",
       "      <th></th>\n",
       "      <th>accuracy</th>\n",
       "    </tr>\n",
       "  </thead>\n",
       "  <tbody>\n",
       "    <tr>\n",
       "      <td>Дерево решений</td>\n",
       "      <td>0.791602</td>\n",
       "    </tr>\n",
       "    <tr>\n",
       "      <td>Случайный лес</td>\n",
       "      <td>0.790047</td>\n",
       "    </tr>\n",
       "    <tr>\n",
       "      <td>Логистическая регрессия</td>\n",
       "      <td>0.740280</td>\n",
       "    </tr>\n",
       "  </tbody>\n",
       "</table>\n",
       "</div>"
      ],
      "text/plain": [
       "                         accuracy\n",
       "Дерево решений           0.791602\n",
       "Случайный лес            0.790047\n",
       "Логистическая регрессия  0.740280"
      ]
     },
     "execution_count": 49,
     "metadata": {},
     "output_type": "execute_result"
    }
   ],
   "source": [
    "df_accuracy(m1_tree=tree_test, m2_forest=forest_test, m3_reg=log_reg_test)"
   ]
  },
  {
   "cell_type": "markdown",
   "metadata": {},
   "source": [
    "**Вывод**\n",
    "***\n",
    "Почти одинаковые показатели accurancy на тестовой выборке у модели дерева решений - 0,7916 и случайного леса - 0,79. При этом, самое высокое время выполнения предсказаний у модели случайного леса.  \n",
    "Точность предсказаний у модели логистической регрессии самая низкая 74% и скорость выполнения так же, самая низкая."
   ]
  },
  {
   "cell_type": "markdown",
   "metadata": {},
   "source": [
    "## Проверка модели на адекватность"
   ]
  },
  {
   "cell_type": "markdown",
   "metadata": {},
   "source": [
    "Создадим модель DummyClassifier, в которой все предсказания будут равны наиболее часто встречающемуся признаку в датасете - 0 - тарифу смарт.   \n",
    "Оценим долю правильных ответов модели и сравним с полученной точностью моделей дерева решений/случайного леса. "
   ]
  },
  {
   "cell_type": "code",
   "execution_count": 50,
   "metadata": {},
   "outputs": [
    {
     "name": "stdout",
     "output_type": "stream",
     "text": [
      "Точность оценки модели Dummy на тестовой выборке 68.43%\n"
     ]
    }
   ],
   "source": [
    "clf = DummyClassifier(strategy='most_frequent', random_state=0)\n",
    "\n",
    "clf.fit(features_train, target_train)\n",
    "\n",
    "result_dummy = clf.score(features_test, target_test)\n",
    "\n",
    "print(f'Точность оценки модели Dummy на тестовой выборке {result_dummy:.2%}')"
   ]
  },
  {
   "cell_type": "markdown",
   "metadata": {},
   "source": [
    "Доля правильных ответов моделей дерева решений и случайного леса выше на ~10% по сравнению с моделью DummyClassifier."
   ]
  },
  {
   "cell_type": "markdown",
   "metadata": {},
   "source": [
    "## Вывод"
   ]
  },
  {
   "cell_type": "markdown",
   "metadata": {},
   "source": [
    "Целью нашего исследования было подобрать модель, рекомендующую пользователям наиболее подходящий для них тариф - смарт или ультра.   \n",
    "Для этого, в рамках решения задачи классификации было проведено обучение трех моделей:\n",
    "- дерева решений - DecisionTreeClassifier,\n",
    "- случайного леса - RandomForestClassifier,\n",
    "- логистической регрессии - LogisticRegression.  \n",
    "\n",
    "При этом, исходный датасет был разделен на три выборки: обучающую, валидационную и тестовую (60%, 20%, 20% соответветственно). \n",
    "\n",
    "При обучении на обучающей выборке и тестировании моделей на валидационной выборке наилучший результат показала модель случайного леса с гиперпараметрами random_state=5, n_estimators=15, max_depth=7 - точность предсказаний составила 81%.  \n",
    "Второй по точности предсказаний оказалась модель дерева решений с гиперпараметрами random_state=5, max_depth=5, min_samples_split=80 - точность предсказаний 78,7%.  \n",
    "Логистическая регрессия показала наименьшую точность предсказаний из всех обученных моделей - 75,9%.   \n",
    "\n",
    "При тестировании обученных моделей на тестовой выборке результат точности предсказаний оказался практически одинаковым для моделей случайного леса и дерева решений - точность составила 79% и 79,1% соответственно. При этом скорость выполнения предсказаний у модели случайного леса выше, чем у дерева решений. Модель логистической регрессии показала худший результат точности предсказаний на тестовой выборке из всех представленных моделей - 74%, при самой высокой скорости работы.\n",
    "\n",
    "Так же, стоит отметить, что обученные модели показали более высокую точность предсказаний, по сравнению с моделью DummyClassifier, в которой все предсказания - это самый часты целевой признак - тариф смарт(0). Точность моделей дерева решений и случайного леса оказалась выше на 10%.\n",
    "\n",
    "**Итак, по результатам исследования и исходя из оценки точности и скорости выполнения предсказаний рекомендуется модель дерева решений с гипермараметрами: random_state=5, max_depth=5, min_samples_split=80 и точностью предсказаний 79,1.%**"
   ]
  }
 ],
 "metadata": {
  "ExecuteTimeLog": [
   {
    "duration": 1303,
    "start_time": "2022-02-12T14:30:59.262Z"
   },
   {
    "duration": 2889,
    "start_time": "2022-02-12T14:31:01.267Z"
   },
   {
    "duration": 54,
    "start_time": "2022-02-12T14:31:43.149Z"
   },
   {
    "duration": 5,
    "start_time": "2022-02-12T14:35:00.139Z"
   },
   {
    "duration": 29,
    "start_time": "2022-02-12T14:35:00.148Z"
   },
   {
    "duration": 32,
    "start_time": "2022-02-12T14:35:00.181Z"
   },
   {
    "duration": 22,
    "start_time": "2022-02-12T14:35:00.224Z"
   },
   {
    "duration": 13,
    "start_time": "2022-02-12T14:35:00.249Z"
   },
   {
    "duration": 11,
    "start_time": "2022-02-12T14:35:00.265Z"
   },
   {
    "duration": 48,
    "start_time": "2022-02-12T14:35:00.279Z"
   },
   {
    "duration": 26,
    "start_time": "2022-02-12T14:35:00.329Z"
   },
   {
    "duration": 47,
    "start_time": "2022-02-12T14:35:00.361Z"
   },
   {
    "duration": 14,
    "start_time": "2022-02-12T14:35:00.411Z"
   },
   {
    "duration": 21,
    "start_time": "2022-02-12T14:35:00.429Z"
   },
   {
    "duration": 33,
    "start_time": "2022-02-12T14:35:00.456Z"
   },
   {
    "duration": 16,
    "start_time": "2022-02-12T14:35:00.492Z"
   },
   {
    "duration": 441,
    "start_time": "2022-02-12T14:35:00.511Z"
   },
   {
    "duration": 6450,
    "start_time": "2022-02-12T14:35:00.955Z"
   },
   {
    "duration": 56,
    "start_time": "2022-02-12T14:35:07.407Z"
   },
   {
    "duration": 332,
    "start_time": "2022-02-12T14:35:07.466Z"
   },
   {
    "duration": -1631,
    "start_time": "2022-02-12T14:35:09.432Z"
   },
   {
    "duration": -1634,
    "start_time": "2022-02-12T14:35:09.437Z"
   },
   {
    "duration": -1638,
    "start_time": "2022-02-12T14:35:09.442Z"
   },
   {
    "duration": -1641,
    "start_time": "2022-02-12T14:35:09.446Z"
   },
   {
    "duration": -1644,
    "start_time": "2022-02-12T14:35:09.450Z"
   },
   {
    "duration": -1646,
    "start_time": "2022-02-12T14:35:09.454Z"
   },
   {
    "duration": 29,
    "start_time": "2022-02-12T14:35:49.865Z"
   },
   {
    "duration": 43,
    "start_time": "2022-02-12T14:35:59.131Z"
   },
   {
    "duration": 6,
    "start_time": "2022-02-12T14:36:25.005Z"
   },
   {
    "duration": 20,
    "start_time": "2022-02-12T14:36:25.014Z"
   },
   {
    "duration": 13,
    "start_time": "2022-02-12T14:36:25.038Z"
   },
   {
    "duration": 9,
    "start_time": "2022-02-12T14:36:25.054Z"
   },
   {
    "duration": 11,
    "start_time": "2022-02-12T14:36:25.067Z"
   },
   {
    "duration": 57,
    "start_time": "2022-02-12T14:36:25.081Z"
   },
   {
    "duration": 6,
    "start_time": "2022-02-12T14:36:25.140Z"
   },
   {
    "duration": 10,
    "start_time": "2022-02-12T14:36:25.149Z"
   },
   {
    "duration": 75,
    "start_time": "2022-02-12T14:36:25.161Z"
   },
   {
    "duration": 5,
    "start_time": "2022-02-12T14:36:25.239Z"
   },
   {
    "duration": 8,
    "start_time": "2022-02-12T14:36:25.246Z"
   },
   {
    "duration": 14,
    "start_time": "2022-02-12T14:36:25.256Z"
   },
   {
    "duration": 8,
    "start_time": "2022-02-12T14:36:25.273Z"
   },
   {
    "duration": 257,
    "start_time": "2022-02-12T14:36:25.324Z"
   },
   {
    "duration": 7303,
    "start_time": "2022-02-12T14:36:25.584Z"
   },
   {
    "duration": 50,
    "start_time": "2022-02-12T14:36:32.890Z"
   },
   {
    "duration": 30,
    "start_time": "2022-02-12T14:36:36.905Z"
   },
   {
    "duration": 40,
    "start_time": "2022-02-12T14:36:38.188Z"
   },
   {
    "duration": 38,
    "start_time": "2022-02-12T14:36:39.398Z"
   },
   {
    "duration": 10,
    "start_time": "2022-02-12T14:36:49.106Z"
   },
   {
    "duration": 8,
    "start_time": "2022-02-12T14:36:50.667Z"
   },
   {
    "duration": 12,
    "start_time": "2022-02-12T14:36:52.067Z"
   },
   {
    "duration": 9,
    "start_time": "2022-02-12T14:36:52.670Z"
   },
   {
    "duration": 8,
    "start_time": "2022-02-12T14:36:53.393Z"
   },
   {
    "duration": 40,
    "start_time": "2022-02-12T14:37:32.499Z"
   },
   {
    "duration": 5,
    "start_time": "2022-02-12T14:37:46.386Z"
   },
   {
    "duration": 18,
    "start_time": "2022-02-12T14:37:46.395Z"
   },
   {
    "duration": 14,
    "start_time": "2022-02-12T14:37:46.416Z"
   },
   {
    "duration": 12,
    "start_time": "2022-02-12T14:37:46.434Z"
   },
   {
    "duration": 7,
    "start_time": "2022-02-12T14:37:46.449Z"
   },
   {
    "duration": 9,
    "start_time": "2022-02-12T14:37:46.459Z"
   },
   {
    "duration": 53,
    "start_time": "2022-02-12T14:37:46.470Z"
   },
   {
    "duration": 10,
    "start_time": "2022-02-12T14:37:46.526Z"
   },
   {
    "duration": 37,
    "start_time": "2022-02-12T14:37:46.540Z"
   },
   {
    "duration": 5,
    "start_time": "2022-02-12T14:37:46.579Z"
   },
   {
    "duration": 41,
    "start_time": "2022-02-12T14:37:46.586Z"
   },
   {
    "duration": 12,
    "start_time": "2022-02-12T14:37:46.631Z"
   },
   {
    "duration": 13,
    "start_time": "2022-02-12T14:37:46.645Z"
   },
   {
    "duration": 286,
    "start_time": "2022-02-12T14:37:46.661Z"
   },
   {
    "duration": 7302,
    "start_time": "2022-02-12T14:37:46.951Z"
   },
   {
    "duration": 3,
    "start_time": "2022-02-12T14:37:54.256Z"
   },
   {
    "duration": 6,
    "start_time": "2022-02-12T14:37:54.262Z"
   },
   {
    "duration": 55,
    "start_time": "2022-02-12T14:37:56.989Z"
   },
   {
    "duration": 38,
    "start_time": "2022-02-12T14:38:12.863Z"
   },
   {
    "duration": 50,
    "start_time": "2022-02-12T14:38:34.531Z"
   },
   {
    "duration": 29,
    "start_time": "2022-02-12T14:38:48.563Z"
   },
   {
    "duration": 10,
    "start_time": "2022-02-12T14:38:57.536Z"
   },
   {
    "duration": 11,
    "start_time": "2022-02-12T14:38:58.546Z"
   },
   {
    "duration": 39,
    "start_time": "2022-02-12T14:39:16.000Z"
   },
   {
    "duration": 47,
    "start_time": "2022-02-12T14:39:23.104Z"
   },
   {
    "duration": 9,
    "start_time": "2022-02-12T14:39:26.157Z"
   },
   {
    "duration": 8,
    "start_time": "2022-02-12T14:39:26.833Z"
   },
   {
    "duration": 74,
    "start_time": "2022-02-12T14:41:21.052Z"
   },
   {
    "duration": 6,
    "start_time": "2022-02-12T16:06:48.055Z"
   },
   {
    "duration": 22,
    "start_time": "2022-02-12T16:06:48.064Z"
   },
   {
    "duration": 13,
    "start_time": "2022-02-12T16:06:48.090Z"
   },
   {
    "duration": 8,
    "start_time": "2022-02-12T16:06:48.106Z"
   },
   {
    "duration": 11,
    "start_time": "2022-02-12T16:06:48.124Z"
   },
   {
    "duration": 12,
    "start_time": "2022-02-12T16:06:48.139Z"
   },
   {
    "duration": 10,
    "start_time": "2022-02-12T16:06:48.154Z"
   },
   {
    "duration": 10,
    "start_time": "2022-02-12T16:06:48.170Z"
   },
   {
    "duration": 56,
    "start_time": "2022-02-12T16:06:48.226Z"
   },
   {
    "duration": 4,
    "start_time": "2022-02-12T16:06:48.285Z"
   },
   {
    "duration": 31,
    "start_time": "2022-02-12T16:06:48.292Z"
   },
   {
    "duration": 11,
    "start_time": "2022-02-12T16:06:48.325Z"
   },
   {
    "duration": 7,
    "start_time": "2022-02-12T16:06:48.339Z"
   },
   {
    "duration": 333,
    "start_time": "2022-02-12T16:06:48.350Z"
   },
   {
    "duration": 7540,
    "start_time": "2022-02-12T16:06:48.686Z"
   },
   {
    "duration": 31,
    "start_time": "2022-02-12T16:06:56.230Z"
   },
   {
    "duration": 85,
    "start_time": "2022-02-12T16:06:56.263Z"
   },
   {
    "duration": 45,
    "start_time": "2022-02-12T16:06:56.351Z"
   },
   {
    "duration": 32,
    "start_time": "2022-02-12T16:06:56.398Z"
   },
   {
    "duration": 16,
    "start_time": "2022-02-12T16:06:56.432Z"
   },
   {
    "duration": 305,
    "start_time": "2022-02-12T16:07:17.259Z"
   },
   {
    "duration": 413,
    "start_time": "2022-02-12T16:07:32.899Z"
   },
   {
    "duration": 333,
    "start_time": "2022-02-12T16:08:01.601Z"
   },
   {
    "duration": 361,
    "start_time": "2022-02-12T16:08:26.755Z"
   },
   {
    "duration": 372,
    "start_time": "2022-02-12T16:09:23.788Z"
   },
   {
    "duration": 20,
    "start_time": "2022-02-12T16:09:33.322Z"
   },
   {
    "duration": 19,
    "start_time": "2022-02-12T16:09:48.864Z"
   },
   {
    "duration": 19,
    "start_time": "2022-02-12T16:10:04.325Z"
   },
   {
    "duration": 4,
    "start_time": "2022-02-12T16:25:13.760Z"
   },
   {
    "duration": 10,
    "start_time": "2022-02-12T16:39:27.329Z"
   },
   {
    "duration": 12,
    "start_time": "2022-02-12T16:43:21.431Z"
   },
   {
    "duration": 12,
    "start_time": "2022-02-12T16:43:25.421Z"
   },
   {
    "duration": 17,
    "start_time": "2022-02-12T16:45:18.621Z"
   },
   {
    "duration": 348,
    "start_time": "2022-02-12T16:45:45.469Z"
   },
   {
    "duration": 14,
    "start_time": "2022-02-12T16:45:51.233Z"
   },
   {
    "duration": 13,
    "start_time": "2022-02-12T16:46:17.735Z"
   },
   {
    "duration": 16,
    "start_time": "2022-02-12T16:46:27.148Z"
   },
   {
    "duration": 9,
    "start_time": "2022-02-12T16:46:31.552Z"
   },
   {
    "duration": 11,
    "start_time": "2022-02-12T16:46:39.809Z"
   },
   {
    "duration": 18,
    "start_time": "2022-02-12T16:46:45.412Z"
   },
   {
    "duration": 10,
    "start_time": "2022-02-12T16:46:48.274Z"
   },
   {
    "duration": 10,
    "start_time": "2022-02-12T16:47:33.547Z"
   },
   {
    "duration": 321,
    "start_time": "2022-02-12T16:56:51.276Z"
   },
   {
    "duration": 120,
    "start_time": "2022-02-12T16:57:16.470Z"
   },
   {
    "duration": 137,
    "start_time": "2022-02-12T16:57:25.846Z"
   },
   {
    "duration": 363,
    "start_time": "2022-02-12T16:57:34.711Z"
   },
   {
    "duration": 273,
    "start_time": "2022-02-12T17:41:48.008Z"
   },
   {
    "duration": 5,
    "start_time": "2022-02-12T17:46:07.809Z"
   },
   {
    "duration": 9,
    "start_time": "2022-02-12T17:46:23.165Z"
   },
   {
    "duration": 6,
    "start_time": "2022-02-12T17:46:27.007Z"
   },
   {
    "duration": 18,
    "start_time": "2022-02-12T17:46:34.619Z"
   },
   {
    "duration": 847,
    "start_time": "2022-02-12T17:46:56.232Z"
   },
   {
    "duration": 854,
    "start_time": "2022-02-12T17:47:03.561Z"
   },
   {
    "duration": 972,
    "start_time": "2022-02-12T17:47:12.630Z"
   },
   {
    "duration": 16,
    "start_time": "2022-02-12T17:47:24.284Z"
   },
   {
    "duration": 23,
    "start_time": "2022-02-12T17:47:30.619Z"
   },
   {
    "duration": 10,
    "start_time": "2022-02-12T17:49:18.401Z"
   },
   {
    "duration": 8,
    "start_time": "2022-02-12T17:49:26.571Z"
   },
   {
    "duration": 147,
    "start_time": "2022-02-12T17:50:13.726Z"
   },
   {
    "duration": 6249,
    "start_time": "2022-02-12T17:50:33.923Z"
   },
   {
    "duration": 349,
    "start_time": "2022-02-12T18:08:45.604Z"
   },
   {
    "duration": 194,
    "start_time": "2022-02-12T18:09:03.448Z"
   },
   {
    "duration": 365,
    "start_time": "2022-02-12T18:09:10.399Z"
   },
   {
    "duration": 368,
    "start_time": "2022-02-12T18:09:20.492Z"
   },
   {
    "duration": 209,
    "start_time": "2022-02-12T18:09:25.840Z"
   },
   {
    "duration": 555,
    "start_time": "2022-02-12T18:09:44.543Z"
   },
   {
    "duration": 5,
    "start_time": "2022-02-12T18:10:00.634Z"
   },
   {
    "duration": 188,
    "start_time": "2022-02-12T18:10:37.938Z"
   },
   {
    "duration": 352,
    "start_time": "2022-02-12T18:11:09.705Z"
   },
   {
    "duration": 238,
    "start_time": "2022-02-12T18:13:28.459Z"
   },
   {
    "duration": 647,
    "start_time": "2022-02-12T18:16:50.470Z"
   },
   {
    "duration": 5,
    "start_time": "2022-02-12T18:17:20.051Z"
   },
   {
    "duration": 659,
    "start_time": "2022-02-12T18:17:23.986Z"
   },
   {
    "duration": 829,
    "start_time": "2022-02-12T18:18:48.076Z"
   },
   {
    "duration": 679,
    "start_time": "2022-02-12T18:19:00.121Z"
   },
   {
    "duration": 758,
    "start_time": "2022-02-12T18:19:07.172Z"
   },
   {
    "duration": 39,
    "start_time": "2022-02-12T18:22:58.133Z"
   },
   {
    "duration": 25,
    "start_time": "2022-02-12T18:23:18.190Z"
   },
   {
    "duration": 12,
    "start_time": "2022-02-12T18:23:28.680Z"
   },
   {
    "duration": 5,
    "start_time": "2022-02-12T18:23:31.718Z"
   },
   {
    "duration": 25,
    "start_time": "2022-02-12T18:23:31.728Z"
   },
   {
    "duration": 16,
    "start_time": "2022-02-12T18:23:31.756Z"
   },
   {
    "duration": 12,
    "start_time": "2022-02-12T18:23:31.776Z"
   },
   {
    "duration": 33,
    "start_time": "2022-02-12T18:23:31.791Z"
   },
   {
    "duration": 10,
    "start_time": "2022-02-12T18:23:31.827Z"
   },
   {
    "duration": 9,
    "start_time": "2022-02-12T18:23:31.840Z"
   },
   {
    "duration": 73,
    "start_time": "2022-02-12T18:23:31.853Z"
   },
   {
    "duration": 900,
    "start_time": "2022-02-12T18:23:31.930Z"
   },
   {
    "duration": 12,
    "start_time": "2022-02-12T18:23:32.834Z"
   },
   {
    "duration": 10,
    "start_time": "2022-02-12T18:23:32.849Z"
   },
   {
    "duration": 11,
    "start_time": "2022-02-12T18:23:32.862Z"
   },
   {
    "duration": 11,
    "start_time": "2022-02-12T18:23:32.876Z"
   },
   {
    "duration": 9,
    "start_time": "2022-02-12T18:23:32.924Z"
   },
   {
    "duration": 400,
    "start_time": "2022-02-12T18:23:32.936Z"
   },
   {
    "duration": 8312,
    "start_time": "2022-02-12T18:23:33.339Z"
   },
   {
    "duration": 38,
    "start_time": "2022-02-12T18:23:41.654Z"
   },
   {
    "duration": 60,
    "start_time": "2022-02-12T18:23:41.698Z"
   },
   {
    "duration": 36,
    "start_time": "2022-02-12T18:23:41.761Z"
   },
   {
    "duration": 32,
    "start_time": "2022-02-12T18:23:41.799Z"
   },
   {
    "duration": 14,
    "start_time": "2022-02-12T18:23:41.834Z"
   },
   {
    "duration": 17,
    "start_time": "2022-02-12T18:23:41.851Z"
   },
   {
    "duration": 7,
    "start_time": "2022-02-12T18:23:41.871Z"
   },
   {
    "duration": 46,
    "start_time": "2022-02-12T18:23:41.880Z"
   },
   {
    "duration": 15415,
    "start_time": "2022-02-12T18:28:37.558Z"
   },
   {
    "duration": 10,
    "start_time": "2022-02-12T18:29:25.529Z"
   },
   {
    "duration": 19,
    "start_time": "2022-02-12T18:29:25.542Z"
   },
   {
    "duration": 18,
    "start_time": "2022-02-12T18:29:25.566Z"
   },
   {
    "duration": 36,
    "start_time": "2022-02-12T18:29:25.587Z"
   },
   {
    "duration": 19,
    "start_time": "2022-02-12T18:29:25.627Z"
   },
   {
    "duration": 10,
    "start_time": "2022-02-12T18:29:25.649Z"
   },
   {
    "duration": 8,
    "start_time": "2022-02-12T18:29:25.661Z"
   },
   {
    "duration": 92,
    "start_time": "2022-02-12T18:29:25.672Z"
   },
   {
    "duration": 5,
    "start_time": "2022-02-12T18:29:25.768Z"
   },
   {
    "duration": 12,
    "start_time": "2022-02-12T18:29:25.776Z"
   },
   {
    "duration": 34,
    "start_time": "2022-02-12T18:29:25.791Z"
   },
   {
    "duration": 10,
    "start_time": "2022-02-12T18:29:25.828Z"
   },
   {
    "duration": 306,
    "start_time": "2022-02-12T18:29:25.842Z"
   },
   {
    "duration": 7367,
    "start_time": "2022-02-12T18:29:26.152Z"
   },
   {
    "duration": 51,
    "start_time": "2022-02-12T18:29:33.525Z"
   },
   {
    "duration": 91,
    "start_time": "2022-02-12T18:29:33.579Z"
   },
   {
    "duration": 62,
    "start_time": "2022-02-12T18:29:33.674Z"
   },
   {
    "duration": 15,
    "start_time": "2022-02-12T18:29:33.740Z"
   },
   {
    "duration": 21,
    "start_time": "2022-02-12T18:29:33.759Z"
   },
   {
    "duration": 47,
    "start_time": "2022-02-12T18:29:33.782Z"
   },
   {
    "duration": 9,
    "start_time": "2022-02-12T18:29:33.831Z"
   },
   {
    "duration": 11,
    "start_time": "2022-02-12T18:29:33.844Z"
   },
   {
    "duration": 5,
    "start_time": "2022-02-12T18:43:14.215Z"
   },
   {
    "duration": 411,
    "start_time": "2022-02-12T18:52:27.386Z"
   },
   {
    "duration": 124,
    "start_time": "2022-02-12T19:05:22.691Z"
   },
   {
    "duration": 120,
    "start_time": "2022-02-12T19:05:53.248Z"
   },
   {
    "duration": 393,
    "start_time": "2022-02-12T19:05:58.006Z"
   },
   {
    "duration": 82,
    "start_time": "2022-02-12T19:06:02.146Z"
   },
   {
    "duration": 112,
    "start_time": "2022-02-12T19:06:06.034Z"
   },
   {
    "duration": 76,
    "start_time": "2022-02-12T19:06:09.439Z"
   },
   {
    "duration": 114,
    "start_time": "2022-02-12T19:06:12.697Z"
   },
   {
    "duration": 92,
    "start_time": "2022-02-12T19:06:16.241Z"
   },
   {
    "duration": 111,
    "start_time": "2022-02-12T19:06:21.247Z"
   },
   {
    "duration": 123,
    "start_time": "2022-02-12T19:06:41.789Z"
   },
   {
    "duration": 84,
    "start_time": "2022-02-12T19:08:01.801Z"
   },
   {
    "duration": 87,
    "start_time": "2022-02-12T19:08:08.231Z"
   },
   {
    "duration": 120,
    "start_time": "2022-02-12T19:08:10.982Z"
   },
   {
    "duration": 146,
    "start_time": "2022-02-12T19:08:14.552Z"
   },
   {
    "duration": 81,
    "start_time": "2022-02-12T19:08:18.455Z"
   },
   {
    "duration": 92,
    "start_time": "2022-02-12T19:08:21.401Z"
   },
   {
    "duration": 639,
    "start_time": "2022-02-12T19:08:44.271Z"
   },
   {
    "duration": 77,
    "start_time": "2022-02-12T19:08:56.191Z"
   },
   {
    "duration": 112,
    "start_time": "2022-02-12T19:09:01.274Z"
   },
   {
    "duration": 90,
    "start_time": "2022-02-12T19:09:05.923Z"
   },
   {
    "duration": 370,
    "start_time": "2022-02-12T19:09:19.906Z"
   },
   {
    "duration": 54,
    "start_time": "2022-02-12T19:09:27.731Z"
   },
   {
    "duration": 113,
    "start_time": "2022-02-12T19:09:31.940Z"
   },
   {
    "duration": 95,
    "start_time": "2022-02-12T19:09:54.103Z"
   },
   {
    "duration": 71,
    "start_time": "2022-02-12T19:10:03.536Z"
   },
   {
    "duration": 105,
    "start_time": "2022-02-12T19:10:13.346Z"
   },
   {
    "duration": 76,
    "start_time": "2022-02-12T19:10:22.801Z"
   },
   {
    "duration": 89,
    "start_time": "2022-02-12T19:10:45.448Z"
   },
   {
    "duration": 78,
    "start_time": "2022-02-12T19:10:50.582Z"
   },
   {
    "duration": 112,
    "start_time": "2022-02-12T19:11:01.780Z"
   },
   {
    "duration": 81,
    "start_time": "2022-02-12T19:11:07.635Z"
   },
   {
    "duration": 118,
    "start_time": "2022-02-12T19:11:14.298Z"
   },
   {
    "duration": 71,
    "start_time": "2022-02-12T19:11:31.338Z"
   },
   {
    "duration": 72,
    "start_time": "2022-02-12T19:11:35.177Z"
   },
   {
    "duration": 102,
    "start_time": "2022-02-12T19:11:38.747Z"
   },
   {
    "duration": 352,
    "start_time": "2022-02-12T19:11:41.901Z"
   },
   {
    "duration": 336,
    "start_time": "2022-02-12T19:12:11.075Z"
   },
   {
    "duration": 358,
    "start_time": "2022-02-12T19:12:19.519Z"
   },
   {
    "duration": 231,
    "start_time": "2022-02-12T19:12:27.054Z"
   },
   {
    "duration": 371,
    "start_time": "2022-02-12T19:12:32.094Z"
   },
   {
    "duration": 231,
    "start_time": "2022-02-12T19:12:39.375Z"
   },
   {
    "duration": 234,
    "start_time": "2022-02-12T19:12:43.843Z"
   },
   {
    "duration": 235,
    "start_time": "2022-02-12T19:13:12.542Z"
   },
   {
    "duration": 236,
    "start_time": "2022-02-12T19:13:36.434Z"
   },
   {
    "duration": 333,
    "start_time": "2022-02-12T19:13:45.804Z"
   },
   {
    "duration": 359,
    "start_time": "2022-02-12T19:14:14.767Z"
   },
   {
    "duration": 357,
    "start_time": "2022-02-12T19:14:18.840Z"
   },
   {
    "duration": 384,
    "start_time": "2022-02-12T19:14:55.061Z"
   },
   {
    "duration": 109,
    "start_time": "2022-02-12T19:15:09.622Z"
   },
   {
    "duration": 93,
    "start_time": "2022-02-12T19:15:13.201Z"
   },
   {
    "duration": 76,
    "start_time": "2022-02-12T19:15:16.714Z"
   },
   {
    "duration": 51,
    "start_time": "2022-02-12T19:15:20.749Z"
   },
   {
    "duration": 78,
    "start_time": "2022-02-12T19:15:34.553Z"
   },
   {
    "duration": 52,
    "start_time": "2022-02-12T19:28:34.847Z"
   },
   {
    "duration": 330,
    "start_time": "2022-02-12T19:31:55.317Z"
   },
   {
    "duration": 37,
    "start_time": "2022-02-12T19:32:11.936Z"
   },
   {
    "duration": 51,
    "start_time": "2022-02-12T19:32:34.011Z"
   },
   {
    "duration": 48,
    "start_time": "2022-02-12T19:32:51.609Z"
   },
   {
    "duration": 355,
    "start_time": "2022-02-12T19:35:55.548Z"
   },
   {
    "duration": 7,
    "start_time": "2022-02-12T19:36:18.446Z"
   },
   {
    "duration": 185,
    "start_time": "2022-02-12T19:36:26.562Z"
   },
   {
    "duration": 324,
    "start_time": "2022-02-12T19:36:40.948Z"
   },
   {
    "duration": 376,
    "start_time": "2022-02-12T19:36:55.959Z"
   },
   {
    "duration": 381,
    "start_time": "2022-02-12T19:37:03.495Z"
   },
   {
    "duration": 424,
    "start_time": "2022-02-12T19:37:07.651Z"
   },
   {
    "duration": 733,
    "start_time": "2022-02-12T19:37:15.737Z"
   },
   {
    "duration": 22,
    "start_time": "2022-02-12T19:37:19.572Z"
   },
   {
    "duration": 19,
    "start_time": "2022-02-12T19:37:35.602Z"
   },
   {
    "duration": 39,
    "start_time": "2022-02-12T19:37:49.074Z"
   },
   {
    "duration": 32,
    "start_time": "2022-02-12T19:37:57.543Z"
   },
   {
    "duration": 59,
    "start_time": "2022-02-12T19:38:01.633Z"
   },
   {
    "duration": 46,
    "start_time": "2022-02-12T19:38:02.192Z"
   },
   {
    "duration": 11,
    "start_time": "2022-02-12T19:43:01.983Z"
   },
   {
    "duration": 378,
    "start_time": "2022-02-12T19:44:15.600Z"
   },
   {
    "duration": 22,
    "start_time": "2022-02-12T19:44:33.044Z"
   },
   {
    "duration": 16,
    "start_time": "2022-02-12T19:44:47.528Z"
   },
   {
    "duration": 16,
    "start_time": "2022-02-12T19:44:58.666Z"
   },
   {
    "duration": 6,
    "start_time": "2022-02-12T19:46:39.201Z"
   },
   {
    "duration": 10,
    "start_time": "2022-02-12T19:46:45.802Z"
   },
   {
    "duration": 6,
    "start_time": "2022-02-12T19:47:51.540Z"
   },
   {
    "duration": 4,
    "start_time": "2022-02-12T19:49:21.011Z"
   },
   {
    "duration": 3,
    "start_time": "2022-02-12T19:49:22.970Z"
   },
   {
    "duration": 5,
    "start_time": "2022-02-12T19:51:54.802Z"
   },
   {
    "duration": 112,
    "start_time": "2022-02-12T19:52:33.861Z"
   },
   {
    "duration": 652,
    "start_time": "2022-02-12T19:52:48.173Z"
   },
   {
    "duration": 7,
    "start_time": "2022-02-12T19:53:02.141Z"
   },
   {
    "duration": 11,
    "start_time": "2022-02-12T19:53:04.154Z"
   },
   {
    "duration": 11,
    "start_time": "2022-02-12T19:53:12.369Z"
   },
   {
    "duration": 109,
    "start_time": "2022-02-12T19:55:17.884Z"
   },
   {
    "duration": 7,
    "start_time": "2022-02-12T19:55:23.932Z"
   },
   {
    "duration": 18,
    "start_time": "2022-02-12T19:55:26.925Z"
   },
   {
    "duration": 1360,
    "start_time": "2022-02-12T19:55:58.988Z"
   },
   {
    "duration": 7,
    "start_time": "2022-02-12T19:56:27.946Z"
   },
   {
    "duration": 6,
    "start_time": "2022-02-12T19:56:32.067Z"
   },
   {
    "duration": 324,
    "start_time": "2022-02-12T19:57:07.070Z"
   },
   {
    "duration": 14,
    "start_time": "2022-02-12T19:57:27.316Z"
   },
   {
    "duration": 12,
    "start_time": "2022-02-12T19:57:32.683Z"
   },
   {
    "duration": 17,
    "start_time": "2022-02-12T19:57:40.424Z"
   },
   {
    "duration": 11,
    "start_time": "2022-02-12T20:01:27.770Z"
   },
   {
    "duration": 10,
    "start_time": "2022-02-12T20:14:48.613Z"
   },
   {
    "duration": 8,
    "start_time": "2022-02-12T20:15:55.743Z"
   },
   {
    "duration": 11,
    "start_time": "2022-02-12T20:16:06.779Z"
   },
   {
    "duration": 12,
    "start_time": "2022-02-12T20:16:11.333Z"
   },
   {
    "duration": 14,
    "start_time": "2022-02-12T20:16:41.301Z"
   },
   {
    "duration": 8,
    "start_time": "2022-02-12T20:16:45.556Z"
   },
   {
    "duration": 17,
    "start_time": "2022-02-12T20:16:46.928Z"
   },
   {
    "duration": 8,
    "start_time": "2022-02-12T20:16:49.275Z"
   },
   {
    "duration": 12,
    "start_time": "2022-02-12T20:16:50.615Z"
   },
   {
    "duration": 7,
    "start_time": "2022-02-12T20:17:10.230Z"
   },
   {
    "duration": 7,
    "start_time": "2022-02-12T20:19:35.220Z"
   },
   {
    "duration": 33,
    "start_time": "2022-02-12T20:19:35.232Z"
   },
   {
    "duration": 15,
    "start_time": "2022-02-12T20:19:35.268Z"
   },
   {
    "duration": 14,
    "start_time": "2022-02-12T20:19:35.287Z"
   },
   {
    "duration": 11,
    "start_time": "2022-02-12T20:19:35.324Z"
   },
   {
    "duration": 24,
    "start_time": "2022-02-12T20:19:35.337Z"
   },
   {
    "duration": 8,
    "start_time": "2022-02-12T20:19:35.363Z"
   },
   {
    "duration": 71,
    "start_time": "2022-02-12T20:19:35.373Z"
   },
   {
    "duration": 6,
    "start_time": "2022-02-12T20:19:35.449Z"
   },
   {
    "duration": 14,
    "start_time": "2022-02-12T20:19:35.459Z"
   },
   {
    "duration": 10,
    "start_time": "2022-02-12T20:19:35.476Z"
   },
   {
    "duration": 43,
    "start_time": "2022-02-12T20:19:35.489Z"
   },
   {
    "duration": 273,
    "start_time": "2022-02-12T20:19:35.536Z"
   },
   {
    "duration": 6522,
    "start_time": "2022-02-12T20:19:35.811Z"
   },
   {
    "duration": 32,
    "start_time": "2022-02-12T20:19:42.336Z"
   },
   {
    "duration": 65,
    "start_time": "2022-02-12T20:19:42.370Z"
   },
   {
    "duration": 51,
    "start_time": "2022-02-12T20:19:42.438Z"
   },
   {
    "duration": 6,
    "start_time": "2022-02-12T20:19:42.492Z"
   },
   {
    "duration": 37,
    "start_time": "2022-02-12T20:19:42.501Z"
   },
   {
    "duration": 25,
    "start_time": "2022-02-12T20:19:42.541Z"
   },
   {
    "duration": 7,
    "start_time": "2022-02-12T20:19:42.569Z"
   },
   {
    "duration": 13,
    "start_time": "2022-02-12T20:19:42.578Z"
   },
   {
    "duration": 34,
    "start_time": "2022-02-12T20:19:42.593Z"
   },
   {
    "duration": 14,
    "start_time": "2022-02-12T20:19:42.629Z"
   },
   {
    "duration": 8,
    "start_time": "2022-02-12T20:24:54.439Z"
   },
   {
    "duration": 5,
    "start_time": "2022-02-12T20:29:27.893Z"
   },
   {
    "duration": 20,
    "start_time": "2022-02-12T20:29:27.901Z"
   },
   {
    "duration": 25,
    "start_time": "2022-02-12T20:29:27.923Z"
   },
   {
    "duration": 11,
    "start_time": "2022-02-12T20:29:27.955Z"
   },
   {
    "duration": 10,
    "start_time": "2022-02-12T20:29:27.969Z"
   },
   {
    "duration": 11,
    "start_time": "2022-02-12T20:29:27.981Z"
   },
   {
    "duration": 12,
    "start_time": "2022-02-12T20:29:28.024Z"
   },
   {
    "duration": 65,
    "start_time": "2022-02-12T20:29:28.039Z"
   },
   {
    "duration": 14,
    "start_time": "2022-02-12T20:29:28.109Z"
   },
   {
    "duration": 23,
    "start_time": "2022-02-12T20:29:28.127Z"
   },
   {
    "duration": 23,
    "start_time": "2022-02-12T20:29:28.153Z"
   },
   {
    "duration": 19,
    "start_time": "2022-02-12T20:29:28.179Z"
   },
   {
    "duration": 293,
    "start_time": "2022-02-12T20:29:28.201Z"
   },
   {
    "duration": 8237,
    "start_time": "2022-02-12T20:29:28.497Z"
   },
   {
    "duration": 37,
    "start_time": "2022-02-12T20:29:36.737Z"
   },
   {
    "duration": 63,
    "start_time": "2022-02-12T20:29:36.777Z"
   },
   {
    "duration": 38,
    "start_time": "2022-02-12T20:29:36.844Z"
   },
   {
    "duration": 5,
    "start_time": "2022-02-12T20:29:36.885Z"
   },
   {
    "duration": 44,
    "start_time": "2022-02-12T20:29:36.892Z"
   },
   {
    "duration": 33,
    "start_time": "2022-02-12T20:29:36.938Z"
   },
   {
    "duration": 10,
    "start_time": "2022-02-12T20:29:36.973Z"
   },
   {
    "duration": 13,
    "start_time": "2022-02-12T20:29:36.986Z"
   },
   {
    "duration": 12,
    "start_time": "2022-02-12T20:29:37.024Z"
   },
   {
    "duration": 26,
    "start_time": "2022-02-12T20:29:37.039Z"
   },
   {
    "duration": 7,
    "start_time": "2022-02-12T20:29:37.068Z"
   },
   {
    "duration": 5,
    "start_time": "2022-02-12T20:32:26.953Z"
   },
   {
    "duration": 23,
    "start_time": "2022-02-12T20:32:26.961Z"
   },
   {
    "duration": 14,
    "start_time": "2022-02-12T20:32:26.987Z"
   },
   {
    "duration": 20,
    "start_time": "2022-02-12T20:32:27.005Z"
   },
   {
    "duration": 9,
    "start_time": "2022-02-12T20:32:27.029Z"
   },
   {
    "duration": 20,
    "start_time": "2022-02-12T20:32:27.040Z"
   },
   {
    "duration": 8,
    "start_time": "2022-02-12T20:32:27.062Z"
   },
   {
    "duration": 102,
    "start_time": "2022-02-12T20:32:27.073Z"
   },
   {
    "duration": 5,
    "start_time": "2022-02-12T20:32:27.179Z"
   },
   {
    "duration": 8,
    "start_time": "2022-02-12T20:32:27.187Z"
   },
   {
    "duration": 42,
    "start_time": "2022-02-12T20:32:27.197Z"
   },
   {
    "duration": 23,
    "start_time": "2022-02-12T20:32:27.241Z"
   },
   {
    "duration": 382,
    "start_time": "2022-02-12T20:32:27.266Z"
   },
   {
    "duration": 8934,
    "start_time": "2022-02-12T20:32:27.651Z"
   },
   {
    "duration": 46,
    "start_time": "2022-02-12T20:32:36.588Z"
   },
   {
    "duration": 46,
    "start_time": "2022-02-12T20:32:36.638Z"
   },
   {
    "duration": 58,
    "start_time": "2022-02-12T20:32:36.688Z"
   },
   {
    "duration": 6,
    "start_time": "2022-02-12T20:32:36.749Z"
   },
   {
    "duration": 18,
    "start_time": "2022-02-12T20:32:36.759Z"
   },
   {
    "duration": 48,
    "start_time": "2022-02-12T20:32:36.781Z"
   },
   {
    "duration": 10,
    "start_time": "2022-02-12T20:32:36.831Z"
   },
   {
    "duration": 17,
    "start_time": "2022-02-12T20:32:36.845Z"
   },
   {
    "duration": 10,
    "start_time": "2022-02-12T20:32:36.865Z"
   },
   {
    "duration": 18,
    "start_time": "2022-02-12T20:32:36.877Z"
   },
   {
    "duration": 31,
    "start_time": "2022-02-12T20:32:36.898Z"
   },
   {
    "duration": 6,
    "start_time": "2022-02-12T20:33:08.405Z"
   },
   {
    "duration": 6,
    "start_time": "2022-02-12T20:36:48.279Z"
   },
   {
    "duration": 17,
    "start_time": "2022-02-12T20:36:48.288Z"
   },
   {
    "duration": 18,
    "start_time": "2022-02-12T20:36:48.309Z"
   },
   {
    "duration": 30,
    "start_time": "2022-02-12T20:36:48.331Z"
   },
   {
    "duration": 28,
    "start_time": "2022-02-12T20:36:48.365Z"
   },
   {
    "duration": 11,
    "start_time": "2022-02-12T20:36:48.396Z"
   },
   {
    "duration": 14,
    "start_time": "2022-02-12T20:36:48.409Z"
   },
   {
    "duration": 62,
    "start_time": "2022-02-12T20:36:48.426Z"
   },
   {
    "duration": 5,
    "start_time": "2022-02-12T20:36:48.492Z"
   },
   {
    "duration": 28,
    "start_time": "2022-02-12T20:36:48.500Z"
   },
   {
    "duration": 16,
    "start_time": "2022-02-12T20:36:48.531Z"
   },
   {
    "duration": 28,
    "start_time": "2022-02-12T20:36:48.550Z"
   },
   {
    "duration": 294,
    "start_time": "2022-02-12T20:36:48.581Z"
   },
   {
    "duration": 7621,
    "start_time": "2022-02-12T20:36:48.878Z"
   },
   {
    "duration": 56,
    "start_time": "2022-02-12T20:36:56.503Z"
   },
   {
    "duration": 45,
    "start_time": "2022-02-12T20:36:56.564Z"
   },
   {
    "duration": 61,
    "start_time": "2022-02-12T20:36:56.611Z"
   },
   {
    "duration": 9,
    "start_time": "2022-02-12T20:36:56.675Z"
   },
   {
    "duration": 12,
    "start_time": "2022-02-12T20:36:56.686Z"
   },
   {
    "duration": 65,
    "start_time": "2022-02-12T20:36:56.700Z"
   },
   {
    "duration": 8,
    "start_time": "2022-02-12T20:36:56.768Z"
   },
   {
    "duration": 14,
    "start_time": "2022-02-12T20:36:56.779Z"
   },
   {
    "duration": 9,
    "start_time": "2022-02-12T20:36:56.796Z"
   },
   {
    "duration": 32,
    "start_time": "2022-02-12T20:36:56.834Z"
   },
   {
    "duration": 21,
    "start_time": "2022-02-12T20:36:56.868Z"
   },
   {
    "duration": 7,
    "start_time": "2022-02-12T20:42:48.746Z"
   },
   {
    "duration": 30,
    "start_time": "2022-02-12T20:42:48.757Z"
   },
   {
    "duration": 23,
    "start_time": "2022-02-12T20:42:48.793Z"
   },
   {
    "duration": 17,
    "start_time": "2022-02-12T20:42:48.825Z"
   },
   {
    "duration": 19,
    "start_time": "2022-02-12T20:42:48.848Z"
   },
   {
    "duration": 15,
    "start_time": "2022-02-12T20:42:48.871Z"
   },
   {
    "duration": 45,
    "start_time": "2022-02-12T20:42:48.890Z"
   },
   {
    "duration": 38,
    "start_time": "2022-02-12T20:42:48.941Z"
   },
   {
    "duration": 6,
    "start_time": "2022-02-12T20:42:48.984Z"
   },
   {
    "duration": 46,
    "start_time": "2022-02-12T20:42:48.994Z"
   },
   {
    "duration": 22,
    "start_time": "2022-02-12T20:42:49.044Z"
   },
   {
    "duration": 9,
    "start_time": "2022-02-12T20:42:49.071Z"
   },
   {
    "duration": 422,
    "start_time": "2022-02-12T20:42:49.084Z"
   },
   {
    "duration": 6845,
    "start_time": "2022-02-12T20:42:49.509Z"
   },
   {
    "duration": 35,
    "start_time": "2022-02-12T20:42:56.357Z"
   },
   {
    "duration": 101,
    "start_time": "2022-02-12T20:42:56.396Z"
   },
   {
    "duration": 58,
    "start_time": "2022-02-12T20:42:56.500Z"
   },
   {
    "duration": 15,
    "start_time": "2022-02-12T20:42:56.561Z"
   },
   {
    "duration": 13,
    "start_time": "2022-02-12T20:42:56.579Z"
   },
   {
    "duration": 38,
    "start_time": "2022-02-12T20:42:56.595Z"
   },
   {
    "duration": 9,
    "start_time": "2022-02-12T20:42:56.636Z"
   },
   {
    "duration": 10,
    "start_time": "2022-02-12T20:42:56.648Z"
   },
   {
    "duration": 6,
    "start_time": "2022-02-12T20:42:56.661Z"
   },
   {
    "duration": 54,
    "start_time": "2022-02-12T20:42:56.669Z"
   },
   {
    "duration": 11,
    "start_time": "2022-02-12T20:42:56.731Z"
   },
   {
    "duration": 12,
    "start_time": "2022-02-12T20:43:12.935Z"
   },
   {
    "duration": 319,
    "start_time": "2022-02-12T20:43:20.707Z"
   },
   {
    "duration": 405,
    "start_time": "2022-02-12T20:43:29.129Z"
   },
   {
    "duration": 11,
    "start_time": "2022-02-12T20:43:48.727Z"
   },
   {
    "duration": 6,
    "start_time": "2022-02-12T20:43:57.135Z"
   },
   {
    "duration": 31,
    "start_time": "2022-02-12T20:43:57.143Z"
   },
   {
    "duration": 17,
    "start_time": "2022-02-12T20:43:57.177Z"
   },
   {
    "duration": 9,
    "start_time": "2022-02-12T20:43:57.197Z"
   },
   {
    "duration": 12,
    "start_time": "2022-02-12T20:43:57.224Z"
   },
   {
    "duration": 15,
    "start_time": "2022-02-12T20:43:57.240Z"
   },
   {
    "duration": 11,
    "start_time": "2022-02-12T20:43:57.258Z"
   },
   {
    "duration": 73,
    "start_time": "2022-02-12T20:43:57.271Z"
   },
   {
    "duration": 7,
    "start_time": "2022-02-12T20:43:57.348Z"
   },
   {
    "duration": 7,
    "start_time": "2022-02-12T20:43:57.358Z"
   },
   {
    "duration": 11,
    "start_time": "2022-02-12T20:43:57.368Z"
   },
   {
    "duration": 9,
    "start_time": "2022-02-12T20:43:57.382Z"
   },
   {
    "duration": 262,
    "start_time": "2022-02-12T20:43:57.431Z"
   },
   {
    "duration": 7049,
    "start_time": "2022-02-12T20:43:57.696Z"
   },
   {
    "duration": 47,
    "start_time": "2022-02-12T20:44:04.749Z"
   },
   {
    "duration": 63,
    "start_time": "2022-02-12T20:44:04.800Z"
   },
   {
    "duration": 77,
    "start_time": "2022-02-12T20:44:04.866Z"
   },
   {
    "duration": 7,
    "start_time": "2022-02-12T20:44:04.948Z"
   },
   {
    "duration": 23,
    "start_time": "2022-02-12T20:44:04.958Z"
   },
   {
    "duration": 16,
    "start_time": "2022-02-12T20:44:04.989Z"
   },
   {
    "duration": 15,
    "start_time": "2022-02-12T20:44:05.008Z"
   },
   {
    "duration": 39,
    "start_time": "2022-02-12T20:44:05.026Z"
   },
   {
    "duration": 6,
    "start_time": "2022-02-12T20:44:05.068Z"
   },
   {
    "duration": 14,
    "start_time": "2022-02-12T20:44:05.077Z"
   },
   {
    "duration": 9,
    "start_time": "2022-02-12T20:44:05.094Z"
   },
   {
    "duration": 6,
    "start_time": "2022-02-12T20:44:20.976Z"
   },
   {
    "duration": 30,
    "start_time": "2022-02-12T20:44:20.984Z"
   },
   {
    "duration": 14,
    "start_time": "2022-02-12T20:44:21.017Z"
   },
   {
    "duration": 25,
    "start_time": "2022-02-12T20:44:21.034Z"
   },
   {
    "duration": 11,
    "start_time": "2022-02-12T20:44:21.061Z"
   },
   {
    "duration": 12,
    "start_time": "2022-02-12T20:44:21.075Z"
   },
   {
    "duration": 41,
    "start_time": "2022-02-12T20:44:21.090Z"
   },
   {
    "duration": 39,
    "start_time": "2022-02-12T20:44:21.134Z"
   },
   {
    "duration": 8,
    "start_time": "2022-02-12T20:44:21.180Z"
   },
   {
    "duration": 33,
    "start_time": "2022-02-12T20:44:21.192Z"
   },
   {
    "duration": 20,
    "start_time": "2022-02-12T20:44:21.230Z"
   },
   {
    "duration": 11,
    "start_time": "2022-02-12T20:44:21.253Z"
   },
   {
    "duration": 413,
    "start_time": "2022-02-12T20:44:21.267Z"
   },
   {
    "duration": 7188,
    "start_time": "2022-02-12T20:44:21.682Z"
   },
   {
    "duration": 31,
    "start_time": "2022-02-12T20:44:28.873Z"
   },
   {
    "duration": 44,
    "start_time": "2022-02-12T20:44:28.924Z"
   },
   {
    "duration": 66,
    "start_time": "2022-02-12T20:44:28.970Z"
   },
   {
    "duration": 5,
    "start_time": "2022-02-12T20:44:29.038Z"
   },
   {
    "duration": 16,
    "start_time": "2022-02-12T20:44:29.046Z"
   },
   {
    "duration": 15,
    "start_time": "2022-02-12T20:44:29.065Z"
   },
   {
    "duration": 42,
    "start_time": "2022-02-12T20:44:29.083Z"
   },
   {
    "duration": 21,
    "start_time": "2022-02-12T20:44:29.128Z"
   },
   {
    "duration": 10,
    "start_time": "2022-02-12T20:44:29.152Z"
   },
   {
    "duration": 18,
    "start_time": "2022-02-12T20:44:29.165Z"
   },
   {
    "duration": 41,
    "start_time": "2022-02-12T20:44:29.186Z"
   },
   {
    "duration": 5,
    "start_time": "2022-02-12T20:46:47.839Z"
   },
   {
    "duration": 23,
    "start_time": "2022-02-12T20:46:47.848Z"
   },
   {
    "duration": 14,
    "start_time": "2022-02-12T20:46:47.874Z"
   },
   {
    "duration": 9,
    "start_time": "2022-02-12T20:46:47.891Z"
   },
   {
    "duration": 29,
    "start_time": "2022-02-12T20:46:47.903Z"
   },
   {
    "duration": 13,
    "start_time": "2022-02-12T20:46:47.937Z"
   },
   {
    "duration": 15,
    "start_time": "2022-02-12T20:46:47.952Z"
   },
   {
    "duration": 64,
    "start_time": "2022-02-12T20:46:47.970Z"
   },
   {
    "duration": 6,
    "start_time": "2022-02-12T20:46:48.039Z"
   },
   {
    "duration": 11,
    "start_time": "2022-02-12T20:46:48.048Z"
   },
   {
    "duration": 16,
    "start_time": "2022-02-12T20:46:48.061Z"
   },
   {
    "duration": 8,
    "start_time": "2022-02-12T20:46:48.079Z"
   },
   {
    "duration": 314,
    "start_time": "2022-02-12T20:46:48.124Z"
   },
   {
    "duration": 6824,
    "start_time": "2022-02-12T20:46:48.441Z"
   },
   {
    "duration": 30,
    "start_time": "2022-02-12T20:46:55.268Z"
   },
   {
    "duration": 66,
    "start_time": "2022-02-12T20:46:55.301Z"
   },
   {
    "duration": 61,
    "start_time": "2022-02-12T20:46:55.370Z"
   },
   {
    "duration": 5,
    "start_time": "2022-02-12T20:46:55.434Z"
   },
   {
    "duration": 16,
    "start_time": "2022-02-12T20:46:55.442Z"
   },
   {
    "duration": 16,
    "start_time": "2022-02-12T20:46:55.460Z"
   },
   {
    "duration": 6,
    "start_time": "2022-02-12T20:46:55.478Z"
   },
   {
    "duration": 14,
    "start_time": "2022-02-12T20:46:55.528Z"
   },
   {
    "duration": 11,
    "start_time": "2022-02-12T20:46:55.548Z"
   },
   {
    "duration": 13,
    "start_time": "2022-02-12T20:46:55.562Z"
   },
   {
    "duration": 9,
    "start_time": "2022-02-12T20:46:55.578Z"
   },
   {
    "duration": 1085,
    "start_time": "2022-02-13T10:43:05.896Z"
   },
   {
    "duration": 18,
    "start_time": "2022-02-13T10:43:06.983Z"
   },
   {
    "duration": 11,
    "start_time": "2022-02-13T10:43:07.002Z"
   },
   {
    "duration": 5,
    "start_time": "2022-02-13T10:43:07.014Z"
   },
   {
    "duration": 7,
    "start_time": "2022-02-13T10:43:07.020Z"
   },
   {
    "duration": 7,
    "start_time": "2022-02-13T10:43:07.029Z"
   },
   {
    "duration": 4,
    "start_time": "2022-02-13T10:43:07.037Z"
   },
   {
    "duration": 21,
    "start_time": "2022-02-13T10:43:07.042Z"
   },
   {
    "duration": 3,
    "start_time": "2022-02-13T10:43:07.066Z"
   },
   {
    "duration": 5,
    "start_time": "2022-02-13T10:43:07.070Z"
   },
   {
    "duration": 6,
    "start_time": "2022-02-13T10:43:07.076Z"
   },
   {
    "duration": 4,
    "start_time": "2022-02-13T10:43:07.084Z"
   },
   {
    "duration": 178,
    "start_time": "2022-02-13T10:43:07.090Z"
   },
   {
    "duration": 3499,
    "start_time": "2022-02-13T10:43:07.270Z"
   },
   {
    "duration": 19,
    "start_time": "2022-02-13T10:43:10.770Z"
   },
   {
    "duration": 20,
    "start_time": "2022-02-13T10:43:10.790Z"
   },
   {
    "duration": 31,
    "start_time": "2022-02-13T10:43:10.811Z"
   },
   {
    "duration": 3,
    "start_time": "2022-02-13T10:43:10.844Z"
   },
   {
    "duration": 12,
    "start_time": "2022-02-13T10:43:10.849Z"
   },
   {
    "duration": 24,
    "start_time": "2022-02-13T10:43:10.862Z"
   },
   {
    "duration": 5,
    "start_time": "2022-02-13T10:43:10.887Z"
   },
   {
    "duration": 9,
    "start_time": "2022-02-13T10:43:10.893Z"
   },
   {
    "duration": 3,
    "start_time": "2022-02-13T10:43:10.904Z"
   },
   {
    "duration": 26,
    "start_time": "2022-02-13T10:43:10.909Z"
   },
   {
    "duration": 5,
    "start_time": "2022-02-13T10:43:10.936Z"
   },
   {
    "duration": 3,
    "start_time": "2022-02-13T10:46:34.493Z"
   },
   {
    "duration": 25,
    "start_time": "2022-02-13T10:46:34.498Z"
   },
   {
    "duration": 8,
    "start_time": "2022-02-13T10:46:34.525Z"
   },
   {
    "duration": 7,
    "start_time": "2022-02-13T10:46:34.535Z"
   },
   {
    "duration": 6,
    "start_time": "2022-02-13T10:46:34.543Z"
   },
   {
    "duration": 6,
    "start_time": "2022-02-13T10:46:34.550Z"
   },
   {
    "duration": 5,
    "start_time": "2022-02-13T10:46:34.558Z"
   },
   {
    "duration": 20,
    "start_time": "2022-02-13T10:46:34.564Z"
   },
   {
    "duration": 40,
    "start_time": "2022-02-13T10:46:34.587Z"
   },
   {
    "duration": 6,
    "start_time": "2022-02-13T10:46:34.628Z"
   },
   {
    "duration": 7,
    "start_time": "2022-02-13T10:46:34.635Z"
   },
   {
    "duration": 4,
    "start_time": "2022-02-13T10:46:34.643Z"
   },
   {
    "duration": 167,
    "start_time": "2022-02-13T10:46:34.649Z"
   },
   {
    "duration": 3464,
    "start_time": "2022-02-13T10:46:34.817Z"
   },
   {
    "duration": 16,
    "start_time": "2022-02-13T10:46:38.282Z"
   },
   {
    "duration": 36,
    "start_time": "2022-02-13T10:46:38.300Z"
   },
   {
    "duration": 17,
    "start_time": "2022-02-13T10:46:38.338Z"
   },
   {
    "duration": 3,
    "start_time": "2022-02-13T10:46:38.356Z"
   },
   {
    "duration": 8,
    "start_time": "2022-02-13T10:46:38.360Z"
   },
   {
    "duration": 9,
    "start_time": "2022-02-13T10:46:38.369Z"
   },
   {
    "duration": 4,
    "start_time": "2022-02-13T10:46:38.379Z"
   },
   {
    "duration": 7,
    "start_time": "2022-02-13T10:46:38.384Z"
   },
   {
    "duration": 5,
    "start_time": "2022-02-13T10:46:38.392Z"
   },
   {
    "duration": 32,
    "start_time": "2022-02-13T10:46:38.398Z"
   },
   {
    "duration": 5,
    "start_time": "2022-02-13T10:46:38.431Z"
   }
  ],
  "kernelspec": {
   "display_name": "Python 3 (ipykernel)",
   "language": "python",
   "name": "python3"
  },
  "language_info": {
   "codemirror_mode": {
    "name": "ipython",
    "version": 3
   },
   "file_extension": ".py",
   "mimetype": "text/x-python",
   "name": "python",
   "nbconvert_exporter": "python",
   "pygments_lexer": "ipython3",
   "version": "3.9.7"
  },
  "toc": {
   "base_numbering": 1,
   "nav_menu": {
    "height": "237.983px",
    "width": "213.983px"
   },
   "number_sections": true,
   "sideBar": true,
   "skip_h1_title": true,
   "title_cell": "Содержание",
   "title_sidebar": "Contents",
   "toc_cell": true,
   "toc_position": {},
   "toc_section_display": true,
   "toc_window_display": false
  }
 },
 "nbformat": 4,
 "nbformat_minor": 2
}
