{
 "cells": [
  {
   "cell_type": "markdown",
   "metadata": {
    "toc": true
   },
   "source": [
    "<h1>Содержание<span class=\"tocSkip\"></span></h1>\n",
    "<div class=\"toc\"><ul class=\"toc-item\"><li><span><a href=\"#Подготовка-данных\" data-toc-modified-id=\"Подготовка-данных-1\"><span class=\"toc-item-num\">1&nbsp;&nbsp;</span>Подготовка данных</a></span><ul class=\"toc-item\"><li><span><a href=\"#Чтение-и-изучение-файла\" data-toc-modified-id=\"Чтение-и-изучение-файла-1.1\"><span class=\"toc-item-num\">1.1&nbsp;&nbsp;</span>Чтение и изучение файла</a></span></li><li><span><a href=\"#Предобработка-данных\" data-toc-modified-id=\"Предобработка-данных-1.2\"><span class=\"toc-item-num\">1.2&nbsp;&nbsp;</span>Предобработка данных</a></span></li></ul></li><li><span><a href=\"#Исследование-задачи\" data-toc-modified-id=\"Исследование-задачи-2\"><span class=\"toc-item-num\">2&nbsp;&nbsp;</span>Исследование задачи</a></span><ul class=\"toc-item\"><li><span><a href=\"#Разделение-датасета-на-выборки\" data-toc-modified-id=\"Разделение-датасета-на-выборки-2.1\"><span class=\"toc-item-num\">2.1&nbsp;&nbsp;</span>Разделение датасета на выборки</a></span></li><li><span><a href=\"#Стандартизация\" data-toc-modified-id=\"Стандартизация-2.2\"><span class=\"toc-item-num\">2.2&nbsp;&nbsp;</span>Стандартизация</a></span></li><li><span><a href=\"#Баланс-классов\" data-toc-modified-id=\"Баланс-классов-2.3\"><span class=\"toc-item-num\">2.3&nbsp;&nbsp;</span>Баланс классов</a></span></li><li><span><a href=\"#Обучение-моделей\" data-toc-modified-id=\"Обучение-моделей-2.4\"><span class=\"toc-item-num\">2.4&nbsp;&nbsp;</span>Обучение моделей</a></span></li></ul></li><li><span><a href=\"#Борьба-с-дисбалансом\" data-toc-modified-id=\"Борьба-с-дисбалансом-3\"><span class=\"toc-item-num\">3&nbsp;&nbsp;</span>Борьба с дисбалансом</a></span><ul class=\"toc-item\"><li><span><a href=\"#Гиперпараметры-моделей\" data-toc-modified-id=\"Гиперпараметры-моделей-3.1\"><span class=\"toc-item-num\">3.1&nbsp;&nbsp;</span>Гиперпараметры моделей</a></span></li><li><span><a href=\"#Уменьшение-и-увеличение-выборки\" data-toc-modified-id=\"Уменьшение-и-увеличение-выборки-3.2\"><span class=\"toc-item-num\">3.2&nbsp;&nbsp;</span>Уменьшение и увеличение выборки</a></span></li></ul></li><li><span><a href=\"#Тестирование-модели\" data-toc-modified-id=\"Тестирование-модели-4\"><span class=\"toc-item-num\">4&nbsp;&nbsp;</span>Тестирование модели</a></span></li><li><span><a href=\"#Вывод\" data-toc-modified-id=\"Вывод-5\"><span class=\"toc-item-num\">5&nbsp;&nbsp;</span>Вывод</a></span></li><li><span><a href=\"#Чек-лист-готовности-проекта\" data-toc-modified-id=\"Чек-лист-готовности-проекта-6\"><span class=\"toc-item-num\">6&nbsp;&nbsp;</span>Чек-лист готовности проекта</a></span></li></ul></div>"
   ]
  },
  {
   "cell_type": "markdown",
   "metadata": {},
   "source": [
    "# Отток клиентов"
   ]
  },
  {
   "cell_type": "markdown",
   "metadata": {},
   "source": [
    "Из «Бета-Банка» стали уходить клиенты. Каждый месяц. Немного, но заметно. Банковские маркетологи посчитали: сохранять текущих клиентов дешевле, чем привлекать новых.\n",
    "\n",
    "Нужно спрогнозировать, уйдёт клиент из банка в ближайшее время или нет. Вам предоставлены исторические данные о поведении клиентов и расторжении договоров с банком. \n",
    "\n",
    "\n",
    "Источник данных: [https://www.kaggle.com/barelydedicated/bank-customer-churn-modeling](https://www.kaggle.com/barelydedicated/bank-customer-churn-modeling)"
   ]
  },
  {
   "cell_type": "markdown",
   "metadata": {},
   "source": [
    "## Подготовка данных"
   ]
  },
  {
   "cell_type": "markdown",
   "metadata": {},
   "source": [
    "### Чтение и изучение файла"
   ]
  },
  {
   "cell_type": "code",
   "execution_count": 437,
   "metadata": {},
   "outputs": [],
   "source": [
    "!pip install -U scikit-learn -q"
   ]
  },
  {
   "cell_type": "code",
   "execution_count": 438,
   "metadata": {},
   "outputs": [],
   "source": [
    "import pandas as pd\n",
    "import numpy as np\n",
    "import matplotlib.pyplot as plt\n",
    "import seaborn as sns\n",
    "import random\n",
    "%matplotlib inline\n",
    "from sklearn.tree import DecisionTreeClassifier\n",
    "from sklearn.ensemble import RandomForestClassifier\n",
    "from sklearn.linear_model import LogisticRegression\n",
    "from sklearn.preprocessing import StandardScaler\n",
    "from sklearn.model_selection import train_test_split\n",
    "from sklearn import metrics\n",
    "from sklearn.dummy import DummyClassifier\n",
    "from sklearn.utils import shuffle\n",
    "\n",
    "\n",
    "from sklearn.metrics import precision_score, recall_score, accuracy_score, f1_score, confusion_matrix, roc_curve, roc_auc_score, ConfusionMatrixDisplay"
   ]
  },
  {
   "cell_type": "code",
   "execution_count": 439,
   "metadata": {},
   "outputs": [],
   "source": [
    "data_bank = pd.read_csv('/datasets/Churn.csv')"
   ]
  },
  {
   "cell_type": "code",
   "execution_count": 440,
   "metadata": {
    "scrolled": true
   },
   "outputs": [
    {
     "data": {
      "text/html": [
       "<div>\n",
       "<style scoped>\n",
       "    .dataframe tbody tr th:only-of-type {\n",
       "        vertical-align: middle;\n",
       "    }\n",
       "\n",
       "    .dataframe tbody tr th {\n",
       "        vertical-align: top;\n",
       "    }\n",
       "\n",
       "    .dataframe thead th {\n",
       "        text-align: right;\n",
       "    }\n",
       "</style>\n",
       "<table border=\"1\" class=\"dataframe\">\n",
       "  <thead>\n",
       "    <tr style=\"text-align: right;\">\n",
       "      <th></th>\n",
       "      <th>RowNumber</th>\n",
       "      <th>CustomerId</th>\n",
       "      <th>Surname</th>\n",
       "      <th>CreditScore</th>\n",
       "      <th>Geography</th>\n",
       "      <th>Gender</th>\n",
       "      <th>Age</th>\n",
       "      <th>Tenure</th>\n",
       "      <th>Balance</th>\n",
       "      <th>NumOfProducts</th>\n",
       "      <th>HasCrCard</th>\n",
       "      <th>IsActiveMember</th>\n",
       "      <th>EstimatedSalary</th>\n",
       "      <th>Exited</th>\n",
       "    </tr>\n",
       "  </thead>\n",
       "  <tbody>\n",
       "    <tr>\n",
       "      <td>0</td>\n",
       "      <td>1</td>\n",
       "      <td>15634602</td>\n",
       "      <td>Hargrave</td>\n",
       "      <td>619</td>\n",
       "      <td>France</td>\n",
       "      <td>Female</td>\n",
       "      <td>42</td>\n",
       "      <td>2.0</td>\n",
       "      <td>0.00</td>\n",
       "      <td>1</td>\n",
       "      <td>1</td>\n",
       "      <td>1</td>\n",
       "      <td>101348.88</td>\n",
       "      <td>1</td>\n",
       "    </tr>\n",
       "    <tr>\n",
       "      <td>1</td>\n",
       "      <td>2</td>\n",
       "      <td>15647311</td>\n",
       "      <td>Hill</td>\n",
       "      <td>608</td>\n",
       "      <td>Spain</td>\n",
       "      <td>Female</td>\n",
       "      <td>41</td>\n",
       "      <td>1.0</td>\n",
       "      <td>83807.86</td>\n",
       "      <td>1</td>\n",
       "      <td>0</td>\n",
       "      <td>1</td>\n",
       "      <td>112542.58</td>\n",
       "      <td>0</td>\n",
       "    </tr>\n",
       "    <tr>\n",
       "      <td>2</td>\n",
       "      <td>3</td>\n",
       "      <td>15619304</td>\n",
       "      <td>Onio</td>\n",
       "      <td>502</td>\n",
       "      <td>France</td>\n",
       "      <td>Female</td>\n",
       "      <td>42</td>\n",
       "      <td>8.0</td>\n",
       "      <td>159660.80</td>\n",
       "      <td>3</td>\n",
       "      <td>1</td>\n",
       "      <td>0</td>\n",
       "      <td>113931.57</td>\n",
       "      <td>1</td>\n",
       "    </tr>\n",
       "    <tr>\n",
       "      <td>3</td>\n",
       "      <td>4</td>\n",
       "      <td>15701354</td>\n",
       "      <td>Boni</td>\n",
       "      <td>699</td>\n",
       "      <td>France</td>\n",
       "      <td>Female</td>\n",
       "      <td>39</td>\n",
       "      <td>1.0</td>\n",
       "      <td>0.00</td>\n",
       "      <td>2</td>\n",
       "      <td>0</td>\n",
       "      <td>0</td>\n",
       "      <td>93826.63</td>\n",
       "      <td>0</td>\n",
       "    </tr>\n",
       "    <tr>\n",
       "      <td>4</td>\n",
       "      <td>5</td>\n",
       "      <td>15737888</td>\n",
       "      <td>Mitchell</td>\n",
       "      <td>850</td>\n",
       "      <td>Spain</td>\n",
       "      <td>Female</td>\n",
       "      <td>43</td>\n",
       "      <td>2.0</td>\n",
       "      <td>125510.82</td>\n",
       "      <td>1</td>\n",
       "      <td>1</td>\n",
       "      <td>1</td>\n",
       "      <td>79084.10</td>\n",
       "      <td>0</td>\n",
       "    </tr>\n",
       "    <tr>\n",
       "      <td>5</td>\n",
       "      <td>6</td>\n",
       "      <td>15574012</td>\n",
       "      <td>Chu</td>\n",
       "      <td>645</td>\n",
       "      <td>Spain</td>\n",
       "      <td>Male</td>\n",
       "      <td>44</td>\n",
       "      <td>8.0</td>\n",
       "      <td>113755.78</td>\n",
       "      <td>2</td>\n",
       "      <td>1</td>\n",
       "      <td>0</td>\n",
       "      <td>149756.71</td>\n",
       "      <td>1</td>\n",
       "    </tr>\n",
       "    <tr>\n",
       "      <td>6</td>\n",
       "      <td>7</td>\n",
       "      <td>15592531</td>\n",
       "      <td>Bartlett</td>\n",
       "      <td>822</td>\n",
       "      <td>France</td>\n",
       "      <td>Male</td>\n",
       "      <td>50</td>\n",
       "      <td>7.0</td>\n",
       "      <td>0.00</td>\n",
       "      <td>2</td>\n",
       "      <td>1</td>\n",
       "      <td>1</td>\n",
       "      <td>10062.80</td>\n",
       "      <td>0</td>\n",
       "    </tr>\n",
       "    <tr>\n",
       "      <td>7</td>\n",
       "      <td>8</td>\n",
       "      <td>15656148</td>\n",
       "      <td>Obinna</td>\n",
       "      <td>376</td>\n",
       "      <td>Germany</td>\n",
       "      <td>Female</td>\n",
       "      <td>29</td>\n",
       "      <td>4.0</td>\n",
       "      <td>115046.74</td>\n",
       "      <td>4</td>\n",
       "      <td>1</td>\n",
       "      <td>0</td>\n",
       "      <td>119346.88</td>\n",
       "      <td>1</td>\n",
       "    </tr>\n",
       "    <tr>\n",
       "      <td>8</td>\n",
       "      <td>9</td>\n",
       "      <td>15792365</td>\n",
       "      <td>He</td>\n",
       "      <td>501</td>\n",
       "      <td>France</td>\n",
       "      <td>Male</td>\n",
       "      <td>44</td>\n",
       "      <td>4.0</td>\n",
       "      <td>142051.07</td>\n",
       "      <td>2</td>\n",
       "      <td>0</td>\n",
       "      <td>1</td>\n",
       "      <td>74940.50</td>\n",
       "      <td>0</td>\n",
       "    </tr>\n",
       "    <tr>\n",
       "      <td>9</td>\n",
       "      <td>10</td>\n",
       "      <td>15592389</td>\n",
       "      <td>H?</td>\n",
       "      <td>684</td>\n",
       "      <td>France</td>\n",
       "      <td>Male</td>\n",
       "      <td>27</td>\n",
       "      <td>2.0</td>\n",
       "      <td>134603.88</td>\n",
       "      <td>1</td>\n",
       "      <td>1</td>\n",
       "      <td>1</td>\n",
       "      <td>71725.73</td>\n",
       "      <td>0</td>\n",
       "    </tr>\n",
       "  </tbody>\n",
       "</table>\n",
       "</div>"
      ],
      "text/plain": [
       "   RowNumber  CustomerId   Surname  CreditScore Geography  Gender  Age  \\\n",
       "0          1    15634602  Hargrave          619    France  Female   42   \n",
       "1          2    15647311      Hill          608     Spain  Female   41   \n",
       "2          3    15619304      Onio          502    France  Female   42   \n",
       "3          4    15701354      Boni          699    France  Female   39   \n",
       "4          5    15737888  Mitchell          850     Spain  Female   43   \n",
       "5          6    15574012       Chu          645     Spain    Male   44   \n",
       "6          7    15592531  Bartlett          822    France    Male   50   \n",
       "7          8    15656148    Obinna          376   Germany  Female   29   \n",
       "8          9    15792365        He          501    France    Male   44   \n",
       "9         10    15592389        H?          684    France    Male   27   \n",
       "\n",
       "   Tenure    Balance  NumOfProducts  HasCrCard  IsActiveMember  \\\n",
       "0     2.0       0.00              1          1               1   \n",
       "1     1.0   83807.86              1          0               1   \n",
       "2     8.0  159660.80              3          1               0   \n",
       "3     1.0       0.00              2          0               0   \n",
       "4     2.0  125510.82              1          1               1   \n",
       "5     8.0  113755.78              2          1               0   \n",
       "6     7.0       0.00              2          1               1   \n",
       "7     4.0  115046.74              4          1               0   \n",
       "8     4.0  142051.07              2          0               1   \n",
       "9     2.0  134603.88              1          1               1   \n",
       "\n",
       "   EstimatedSalary  Exited  \n",
       "0        101348.88       1  \n",
       "1        112542.58       0  \n",
       "2        113931.57       1  \n",
       "3         93826.63       0  \n",
       "4         79084.10       0  \n",
       "5        149756.71       1  \n",
       "6         10062.80       0  \n",
       "7        119346.88       1  \n",
       "8         74940.50       0  \n",
       "9         71725.73       0  "
      ]
     },
     "execution_count": 440,
     "metadata": {},
     "output_type": "execute_result"
    }
   ],
   "source": [
    "data_bank.head(10)"
   ]
  },
  {
   "cell_type": "markdown",
   "metadata": {},
   "source": [
    "**`Описание данных`**  \n",
    "\n",
    "**Признаки**   \n",
    "- RowNumber — индекс строки в данных  \n",
    "- CustomerId — уникальный идентификатор клиента  \n",
    "- Surname — фамилия  \n",
    "- CreditScore — кредитный рейтинг  \n",
    "- Geography — страна проживания  \n",
    "- Gender — пол  \n",
    "- Age — возраст  \n",
    "- Tenure — сколько лет человек является клиентом банка  \n",
    "- Balance — баланс на счёте  \n",
    "- NumOfProducts — количество продуктов банка, используемых клиентом  \n",
    "- HasCrCard — наличие кредитной карты  \n",
    "- IsActiveMember — активность клиента  \n",
    "- EstimatedSalary — предполагаемая зарплата  \n",
    "\n",
    "**Целевой признак**  \n",
    "- Exited — факт ухода клиента  \n",
    "\n",
    "Приведем названия столбцов к нижнему регистру и переименуем для читаемости."
   ]
  },
  {
   "cell_type": "code",
   "execution_count": 441,
   "metadata": {},
   "outputs": [],
   "source": [
    "data_bank.columns = data_bank.columns.str.lower()\n",
    "data_bank.columns = ['row_number', 'customer_id', 'surname', 'credit_score', 'geography',\n",
    "       'gender', 'age', 'tenure', 'balance', 'num_of_products', 'has_crcard',\n",
    "       'is_active_member', 'estimated_salary', 'exited']"
   ]
  },
  {
   "cell_type": "code",
   "execution_count": 442,
   "metadata": {},
   "outputs": [
    {
     "data": {
      "text/html": [
       "<div>\n",
       "<style scoped>\n",
       "    .dataframe tbody tr th:only-of-type {\n",
       "        vertical-align: middle;\n",
       "    }\n",
       "\n",
       "    .dataframe tbody tr th {\n",
       "        vertical-align: top;\n",
       "    }\n",
       "\n",
       "    .dataframe thead th {\n",
       "        text-align: right;\n",
       "    }\n",
       "</style>\n",
       "<table border=\"1\" class=\"dataframe\">\n",
       "  <thead>\n",
       "    <tr style=\"text-align: right;\">\n",
       "      <th></th>\n",
       "      <th>count</th>\n",
       "      <th>mean</th>\n",
       "      <th>std</th>\n",
       "      <th>min</th>\n",
       "      <th>25%</th>\n",
       "      <th>50%</th>\n",
       "      <th>75%</th>\n",
       "      <th>max</th>\n",
       "    </tr>\n",
       "  </thead>\n",
       "  <tbody>\n",
       "    <tr>\n",
       "      <td>row_number</td>\n",
       "      <td>10000.0</td>\n",
       "      <td>5.000500e+03</td>\n",
       "      <td>2886.895680</td>\n",
       "      <td>1.00</td>\n",
       "      <td>2500.75</td>\n",
       "      <td>5.000500e+03</td>\n",
       "      <td>7.500250e+03</td>\n",
       "      <td>10000.00</td>\n",
       "    </tr>\n",
       "    <tr>\n",
       "      <td>customer_id</td>\n",
       "      <td>10000.0</td>\n",
       "      <td>1.569094e+07</td>\n",
       "      <td>71936.186123</td>\n",
       "      <td>15565701.00</td>\n",
       "      <td>15628528.25</td>\n",
       "      <td>1.569074e+07</td>\n",
       "      <td>1.575323e+07</td>\n",
       "      <td>15815690.00</td>\n",
       "    </tr>\n",
       "    <tr>\n",
       "      <td>credit_score</td>\n",
       "      <td>10000.0</td>\n",
       "      <td>6.505288e+02</td>\n",
       "      <td>96.653299</td>\n",
       "      <td>350.00</td>\n",
       "      <td>584.00</td>\n",
       "      <td>6.520000e+02</td>\n",
       "      <td>7.180000e+02</td>\n",
       "      <td>850.00</td>\n",
       "    </tr>\n",
       "    <tr>\n",
       "      <td>age</td>\n",
       "      <td>10000.0</td>\n",
       "      <td>3.892180e+01</td>\n",
       "      <td>10.487806</td>\n",
       "      <td>18.00</td>\n",
       "      <td>32.00</td>\n",
       "      <td>3.700000e+01</td>\n",
       "      <td>4.400000e+01</td>\n",
       "      <td>92.00</td>\n",
       "    </tr>\n",
       "    <tr>\n",
       "      <td>tenure</td>\n",
       "      <td>9091.0</td>\n",
       "      <td>4.997690e+00</td>\n",
       "      <td>2.894723</td>\n",
       "      <td>0.00</td>\n",
       "      <td>2.00</td>\n",
       "      <td>5.000000e+00</td>\n",
       "      <td>7.000000e+00</td>\n",
       "      <td>10.00</td>\n",
       "    </tr>\n",
       "    <tr>\n",
       "      <td>balance</td>\n",
       "      <td>10000.0</td>\n",
       "      <td>7.648589e+04</td>\n",
       "      <td>62397.405202</td>\n",
       "      <td>0.00</td>\n",
       "      <td>0.00</td>\n",
       "      <td>9.719854e+04</td>\n",
       "      <td>1.276442e+05</td>\n",
       "      <td>250898.09</td>\n",
       "    </tr>\n",
       "    <tr>\n",
       "      <td>num_of_products</td>\n",
       "      <td>10000.0</td>\n",
       "      <td>1.530200e+00</td>\n",
       "      <td>0.581654</td>\n",
       "      <td>1.00</td>\n",
       "      <td>1.00</td>\n",
       "      <td>1.000000e+00</td>\n",
       "      <td>2.000000e+00</td>\n",
       "      <td>4.00</td>\n",
       "    </tr>\n",
       "    <tr>\n",
       "      <td>has_crcard</td>\n",
       "      <td>10000.0</td>\n",
       "      <td>7.055000e-01</td>\n",
       "      <td>0.455840</td>\n",
       "      <td>0.00</td>\n",
       "      <td>0.00</td>\n",
       "      <td>1.000000e+00</td>\n",
       "      <td>1.000000e+00</td>\n",
       "      <td>1.00</td>\n",
       "    </tr>\n",
       "    <tr>\n",
       "      <td>is_active_member</td>\n",
       "      <td>10000.0</td>\n",
       "      <td>5.151000e-01</td>\n",
       "      <td>0.499797</td>\n",
       "      <td>0.00</td>\n",
       "      <td>0.00</td>\n",
       "      <td>1.000000e+00</td>\n",
       "      <td>1.000000e+00</td>\n",
       "      <td>1.00</td>\n",
       "    </tr>\n",
       "    <tr>\n",
       "      <td>estimated_salary</td>\n",
       "      <td>10000.0</td>\n",
       "      <td>1.000902e+05</td>\n",
       "      <td>57510.492818</td>\n",
       "      <td>11.58</td>\n",
       "      <td>51002.11</td>\n",
       "      <td>1.001939e+05</td>\n",
       "      <td>1.493882e+05</td>\n",
       "      <td>199992.48</td>\n",
       "    </tr>\n",
       "    <tr>\n",
       "      <td>exited</td>\n",
       "      <td>10000.0</td>\n",
       "      <td>2.037000e-01</td>\n",
       "      <td>0.402769</td>\n",
       "      <td>0.00</td>\n",
       "      <td>0.00</td>\n",
       "      <td>0.000000e+00</td>\n",
       "      <td>0.000000e+00</td>\n",
       "      <td>1.00</td>\n",
       "    </tr>\n",
       "  </tbody>\n",
       "</table>\n",
       "</div>"
      ],
      "text/plain": [
       "                    count          mean           std          min  \\\n",
       "row_number        10000.0  5.000500e+03   2886.895680         1.00   \n",
       "customer_id       10000.0  1.569094e+07  71936.186123  15565701.00   \n",
       "credit_score      10000.0  6.505288e+02     96.653299       350.00   \n",
       "age               10000.0  3.892180e+01     10.487806        18.00   \n",
       "tenure             9091.0  4.997690e+00      2.894723         0.00   \n",
       "balance           10000.0  7.648589e+04  62397.405202         0.00   \n",
       "num_of_products   10000.0  1.530200e+00      0.581654         1.00   \n",
       "has_crcard        10000.0  7.055000e-01      0.455840         0.00   \n",
       "is_active_member  10000.0  5.151000e-01      0.499797         0.00   \n",
       "estimated_salary  10000.0  1.000902e+05  57510.492818        11.58   \n",
       "exited            10000.0  2.037000e-01      0.402769         0.00   \n",
       "\n",
       "                          25%           50%           75%          max  \n",
       "row_number            2500.75  5.000500e+03  7.500250e+03     10000.00  \n",
       "customer_id       15628528.25  1.569074e+07  1.575323e+07  15815690.00  \n",
       "credit_score           584.00  6.520000e+02  7.180000e+02       850.00  \n",
       "age                     32.00  3.700000e+01  4.400000e+01        92.00  \n",
       "tenure                   2.00  5.000000e+00  7.000000e+00        10.00  \n",
       "balance                  0.00  9.719854e+04  1.276442e+05    250898.09  \n",
       "num_of_products          1.00  1.000000e+00  2.000000e+00         4.00  \n",
       "has_crcard               0.00  1.000000e+00  1.000000e+00         1.00  \n",
       "is_active_member         0.00  1.000000e+00  1.000000e+00         1.00  \n",
       "estimated_salary     51002.11  1.001939e+05  1.493882e+05    199992.48  \n",
       "exited                   0.00  0.000000e+00  0.000000e+00         1.00  "
      ]
     },
     "execution_count": 442,
     "metadata": {},
     "output_type": "execute_result"
    }
   ],
   "source": [
    "data_bank.describe().T"
   ]
  },
  {
   "cell_type": "code",
   "execution_count": 443,
   "metadata": {},
   "outputs": [
    {
     "name": "stdout",
     "output_type": "stream",
     "text": [
      "<class 'pandas.core.frame.DataFrame'>\n",
      "RangeIndex: 10000 entries, 0 to 9999\n",
      "Data columns (total 14 columns):\n",
      "row_number          10000 non-null int64\n",
      "customer_id         10000 non-null int64\n",
      "surname             10000 non-null object\n",
      "credit_score        10000 non-null int64\n",
      "geography           10000 non-null object\n",
      "gender              10000 non-null object\n",
      "age                 10000 non-null int64\n",
      "tenure              9091 non-null float64\n",
      "balance             10000 non-null float64\n",
      "num_of_products     10000 non-null int64\n",
      "has_crcard          10000 non-null int64\n",
      "is_active_member    10000 non-null int64\n",
      "estimated_salary    10000 non-null float64\n",
      "exited              10000 non-null int64\n",
      "dtypes: float64(3), int64(8), object(3)\n",
      "memory usage: 1.1+ MB\n"
     ]
    }
   ],
   "source": [
    "data_bank.info()"
   ]
  },
  {
   "cell_type": "markdown",
   "metadata": {},
   "source": [
    "Всего в датасете 10 тыс. строк.\n",
    "Имеются пропуски в столбце Tenure - сколько лет человек является клиентом банка.  \n",
    "Столбец rownumber дублирует индексы датасета (за иключением того, что индексы с 0) и не несет в себе уникальной информации.   \n",
    "Имеется три колонки с категориальными признаками типа object - surname, geography, gender.   \n",
    "Столбец surname: клиенты могут быть однофамильцами и при этом, иметь различное поведение в плане обсуживания в банке, поэтому на основании этого признака модель может неверно обучится. Данный столбец можно удалить.  \n",
    "Для колонок geography, gender рассмотрим подробнее уникальные значения."
   ]
  },
  {
   "cell_type": "code",
   "execution_count": 444,
   "metadata": {},
   "outputs": [
    {
     "name": "stdout",
     "output_type": "stream",
     "text": [
      "['France' 'Spain' 'Germany']\n"
     ]
    },
    {
     "data": {
      "text/plain": [
       "array(['Female', 'Male'], dtype=object)"
      ]
     },
     "execution_count": 444,
     "metadata": {},
     "output_type": "execute_result"
    }
   ],
   "source": [
    "print(data_bank['geography'].unique())\n",
    "data_bank['gender'].unique()"
   ]
  },
  {
   "cell_type": "markdown",
   "metadata": {},
   "source": [
    "В данных имеются клиенты из трех стран и двух полов. Для обучения модели категориальные признаки необходимо преобразовать в количественные. Для вышеуказанных столбцов это возможно сделать с помощью OHE.  \n",
    "Рассмотрим столбец с пропусками в данных tenure (909 пропущенных значений из 10000).\n",
    "Вычислим коэффициент коррелияции по столбцу."
   ]
  },
  {
   "cell_type": "code",
   "execution_count": 445,
   "metadata": {
    "scrolled": true
   },
   "outputs": [
    {
     "data": {
      "text/html": [
       "<div>\n",
       "<style scoped>\n",
       "    .dataframe tbody tr th:only-of-type {\n",
       "        vertical-align: middle;\n",
       "    }\n",
       "\n",
       "    .dataframe tbody tr th {\n",
       "        vertical-align: top;\n",
       "    }\n",
       "\n",
       "    .dataframe thead th {\n",
       "        text-align: right;\n",
       "    }\n",
       "</style>\n",
       "<table border=\"1\" class=\"dataframe\">\n",
       "  <thead>\n",
       "    <tr style=\"text-align: right;\">\n",
       "      <th></th>\n",
       "      <th>tenure</th>\n",
       "    </tr>\n",
       "  </thead>\n",
       "  <tbody>\n",
       "    <tr>\n",
       "      <td>row_number</td>\n",
       "      <td>-0.007322</td>\n",
       "    </tr>\n",
       "    <tr>\n",
       "      <td>customer_id</td>\n",
       "      <td>-0.021418</td>\n",
       "    </tr>\n",
       "    <tr>\n",
       "      <td>credit_score</td>\n",
       "      <td>-0.000062</td>\n",
       "    </tr>\n",
       "    <tr>\n",
       "      <td>age</td>\n",
       "      <td>-0.013134</td>\n",
       "    </tr>\n",
       "    <tr>\n",
       "      <td>tenure</td>\n",
       "      <td>1.000000</td>\n",
       "    </tr>\n",
       "    <tr>\n",
       "      <td>balance</td>\n",
       "      <td>-0.007911</td>\n",
       "    </tr>\n",
       "    <tr>\n",
       "      <td>num_of_products</td>\n",
       "      <td>0.011979</td>\n",
       "    </tr>\n",
       "    <tr>\n",
       "      <td>has_crcard</td>\n",
       "      <td>0.027232</td>\n",
       "    </tr>\n",
       "    <tr>\n",
       "      <td>is_active_member</td>\n",
       "      <td>-0.032178</td>\n",
       "    </tr>\n",
       "    <tr>\n",
       "      <td>estimated_salary</td>\n",
       "      <td>0.010520</td>\n",
       "    </tr>\n",
       "    <tr>\n",
       "      <td>exited</td>\n",
       "      <td>-0.016761</td>\n",
       "    </tr>\n",
       "  </tbody>\n",
       "</table>\n",
       "</div>"
      ],
      "text/plain": [
       "                    tenure\n",
       "row_number       -0.007322\n",
       "customer_id      -0.021418\n",
       "credit_score     -0.000062\n",
       "age              -0.013134\n",
       "tenure            1.000000\n",
       "balance          -0.007911\n",
       "num_of_products   0.011979\n",
       "has_crcard        0.027232\n",
       "is_active_member -0.032178\n",
       "estimated_salary  0.010520\n",
       "exited           -0.016761"
      ]
     },
     "execution_count": 445,
     "metadata": {},
     "output_type": "execute_result"
    }
   ],
   "source": [
    "data_bank.corr()[['tenure']]"
   ]
  },
  {
   "cell_type": "markdown",
   "metadata": {},
   "source": [
    "Зависимости не не наблюдается.  \n",
    "Рассмотрим какие и сколько значений входят в этот столбец."
   ]
  },
  {
   "cell_type": "code",
   "execution_count": 446,
   "metadata": {},
   "outputs": [
    {
     "data": {
      "text/plain": [
       "1.0     952\n",
       "2.0     950\n",
       "8.0     933\n",
       "3.0     928\n",
       "5.0     927\n",
       "7.0     925\n",
       "NaN     909\n",
       "4.0     885\n",
       "9.0     882\n",
       "6.0     881\n",
       "10.0    446\n",
       "0.0     382\n",
       "Name: tenure, dtype: int64"
      ]
     },
     "execution_count": 446,
     "metadata": {},
     "output_type": "execute_result"
    }
   ],
   "source": [
    "data_bank['tenure'].value_counts(dropna=False)"
   ]
  },
  {
   "cell_type": "markdown",
   "metadata": {},
   "source": [
    "Для клиентов с пропусками их количество находится в том же диапазаоне, что и для клиентов с различным числом лет обслуживания в банке 909 клиентов. \n",
    "Рассмотрим распределение пропусков в столбце в зависимости от целевого признака."
   ]
  },
  {
   "cell_type": "code",
   "execution_count": 447,
   "metadata": {},
   "outputs": [
    {
     "data": {
      "text/html": [
       "<div>\n",
       "<style scoped>\n",
       "    .dataframe tbody tr th:only-of-type {\n",
       "        vertical-align: middle;\n",
       "    }\n",
       "\n",
       "    .dataframe tbody tr th {\n",
       "        vertical-align: top;\n",
       "    }\n",
       "\n",
       "    .dataframe thead th {\n",
       "        text-align: right;\n",
       "    }\n",
       "</style>\n",
       "<table border=\"1\" class=\"dataframe\">\n",
       "  <thead>\n",
       "    <tr style=\"text-align: right;\">\n",
       "      <th></th>\n",
       "      <th>exited</th>\n",
       "      <th>exited_all</th>\n",
       "    </tr>\n",
       "  </thead>\n",
       "  <tbody>\n",
       "    <tr>\n",
       "      <td>0</td>\n",
       "      <td>726</td>\n",
       "      <td>7963</td>\n",
       "    </tr>\n",
       "    <tr>\n",
       "      <td>1</td>\n",
       "      <td>183</td>\n",
       "      <td>2037</td>\n",
       "    </tr>\n",
       "  </tbody>\n",
       "</table>\n",
       "</div>"
      ],
      "text/plain": [
       "   exited  exited_all\n",
       "0     726        7963\n",
       "1     183        2037"
      ]
     },
     "execution_count": 447,
     "metadata": {},
     "output_type": "execute_result"
    }
   ],
   "source": [
    "(pd.DataFrame(data_bank.query('tenure.isna()')['exited'].value_counts())).join(\n",
    "    (pd.DataFrame(data_bank['exited'].value_counts())), rsuffix='_all')"
   ]
  },
  {
   "cell_type": "markdown",
   "metadata": {},
   "source": [
    "Имеется около 10% пропущенных значений в столбце tenure. По признаку ухода клиента из банка соотношение пропусков так же, в около 10 % от всех. Пропуски негативно повлияют на обучение модели, их нужно обработать.  \n",
    "\n",
    "Проверим наличие дубликатов в датасете."
   ]
  },
  {
   "cell_type": "code",
   "execution_count": 448,
   "metadata": {},
   "outputs": [
    {
     "name": "stdout",
     "output_type": "stream",
     "text": [
      "Дубликатов в датасете -  0\n"
     ]
    }
   ],
   "source": [
    "print('Дубликатов в датасете - ', data_bank.duplicated().sum())"
   ]
  },
  {
   "cell_type": "code",
   "execution_count": 449,
   "metadata": {},
   "outputs": [
    {
     "name": "stdout",
     "output_type": "stream",
     "text": [
      "В 7068 строках встречаются одинковые фамилии килентов\n"
     ]
    }
   ],
   "source": [
    "print('В', data_bank['surname'].duplicated().sum(), 'строках встречаются одинковые фамилии килентов')"
   ]
  },
  {
   "cell_type": "code",
   "execution_count": 450,
   "metadata": {},
   "outputs": [
    {
     "name": "stdout",
     "output_type": "stream",
     "text": [
      "Дубликатов в столбце customer_id -  0\n"
     ]
    }
   ],
   "source": [
    "print('Дубликатов в столбце customer_id - ', data_bank['customer_id'].duplicated().sum())"
   ]
  },
  {
   "cell_type": "markdown",
   "metadata": {},
   "source": [
    "Рассмотрим уникальные значения целевого признака exited"
   ]
  },
  {
   "cell_type": "code",
   "execution_count": 451,
   "metadata": {},
   "outputs": [
    {
     "data": {
      "text/plain": [
       "array([1, 0])"
      ]
     },
     "execution_count": 451,
     "metadata": {},
     "output_type": "execute_result"
    }
   ],
   "source": [
    "data_bank['exited'].unique()"
   ]
  },
  {
   "cell_type": "code",
   "execution_count": 452,
   "metadata": {},
   "outputs": [
    {
     "data": {
      "text/html": [
       "<div>\n",
       "<style scoped>\n",
       "    .dataframe tbody tr th:only-of-type {\n",
       "        vertical-align: middle;\n",
       "    }\n",
       "\n",
       "    .dataframe tbody tr th {\n",
       "        vertical-align: top;\n",
       "    }\n",
       "\n",
       "    .dataframe thead th {\n",
       "        text-align: right;\n",
       "    }\n",
       "</style>\n",
       "<table border=\"1\" class=\"dataframe\">\n",
       "  <thead>\n",
       "    <tr style=\"text-align: right;\">\n",
       "      <th></th>\n",
       "      <th>count</th>\n",
       "      <th>mean</th>\n",
       "      <th>std</th>\n",
       "      <th>min</th>\n",
       "      <th>25%</th>\n",
       "      <th>50%</th>\n",
       "      <th>75%</th>\n",
       "      <th>max</th>\n",
       "    </tr>\n",
       "  </thead>\n",
       "  <tbody>\n",
       "    <tr>\n",
       "      <td>row_number</td>\n",
       "      <td>10000.0</td>\n",
       "      <td>5.000500e+03</td>\n",
       "      <td>2886.895680</td>\n",
       "      <td>1.00</td>\n",
       "      <td>2500.75</td>\n",
       "      <td>5.000500e+03</td>\n",
       "      <td>7.500250e+03</td>\n",
       "      <td>10000.00</td>\n",
       "    </tr>\n",
       "    <tr>\n",
       "      <td>customer_id</td>\n",
       "      <td>10000.0</td>\n",
       "      <td>1.569094e+07</td>\n",
       "      <td>71936.186123</td>\n",
       "      <td>15565701.00</td>\n",
       "      <td>15628528.25</td>\n",
       "      <td>1.569074e+07</td>\n",
       "      <td>1.575323e+07</td>\n",
       "      <td>15815690.00</td>\n",
       "    </tr>\n",
       "    <tr>\n",
       "      <td>credit_score</td>\n",
       "      <td>10000.0</td>\n",
       "      <td>6.505288e+02</td>\n",
       "      <td>96.653299</td>\n",
       "      <td>350.00</td>\n",
       "      <td>584.00</td>\n",
       "      <td>6.520000e+02</td>\n",
       "      <td>7.180000e+02</td>\n",
       "      <td>850.00</td>\n",
       "    </tr>\n",
       "    <tr>\n",
       "      <td>age</td>\n",
       "      <td>10000.0</td>\n",
       "      <td>3.892180e+01</td>\n",
       "      <td>10.487806</td>\n",
       "      <td>18.00</td>\n",
       "      <td>32.00</td>\n",
       "      <td>3.700000e+01</td>\n",
       "      <td>4.400000e+01</td>\n",
       "      <td>92.00</td>\n",
       "    </tr>\n",
       "    <tr>\n",
       "      <td>tenure</td>\n",
       "      <td>9091.0</td>\n",
       "      <td>4.997690e+00</td>\n",
       "      <td>2.894723</td>\n",
       "      <td>0.00</td>\n",
       "      <td>2.00</td>\n",
       "      <td>5.000000e+00</td>\n",
       "      <td>7.000000e+00</td>\n",
       "      <td>10.00</td>\n",
       "    </tr>\n",
       "    <tr>\n",
       "      <td>balance</td>\n",
       "      <td>10000.0</td>\n",
       "      <td>7.648589e+04</td>\n",
       "      <td>62397.405202</td>\n",
       "      <td>0.00</td>\n",
       "      <td>0.00</td>\n",
       "      <td>9.719854e+04</td>\n",
       "      <td>1.276442e+05</td>\n",
       "      <td>250898.09</td>\n",
       "    </tr>\n",
       "    <tr>\n",
       "      <td>num_of_products</td>\n",
       "      <td>10000.0</td>\n",
       "      <td>1.530200e+00</td>\n",
       "      <td>0.581654</td>\n",
       "      <td>1.00</td>\n",
       "      <td>1.00</td>\n",
       "      <td>1.000000e+00</td>\n",
       "      <td>2.000000e+00</td>\n",
       "      <td>4.00</td>\n",
       "    </tr>\n",
       "    <tr>\n",
       "      <td>has_crcard</td>\n",
       "      <td>10000.0</td>\n",
       "      <td>7.055000e-01</td>\n",
       "      <td>0.455840</td>\n",
       "      <td>0.00</td>\n",
       "      <td>0.00</td>\n",
       "      <td>1.000000e+00</td>\n",
       "      <td>1.000000e+00</td>\n",
       "      <td>1.00</td>\n",
       "    </tr>\n",
       "    <tr>\n",
       "      <td>is_active_member</td>\n",
       "      <td>10000.0</td>\n",
       "      <td>5.151000e-01</td>\n",
       "      <td>0.499797</td>\n",
       "      <td>0.00</td>\n",
       "      <td>0.00</td>\n",
       "      <td>1.000000e+00</td>\n",
       "      <td>1.000000e+00</td>\n",
       "      <td>1.00</td>\n",
       "    </tr>\n",
       "    <tr>\n",
       "      <td>estimated_salary</td>\n",
       "      <td>10000.0</td>\n",
       "      <td>1.000902e+05</td>\n",
       "      <td>57510.492818</td>\n",
       "      <td>11.58</td>\n",
       "      <td>51002.11</td>\n",
       "      <td>1.001939e+05</td>\n",
       "      <td>1.493882e+05</td>\n",
       "      <td>199992.48</td>\n",
       "    </tr>\n",
       "    <tr>\n",
       "      <td>exited</td>\n",
       "      <td>10000.0</td>\n",
       "      <td>2.037000e-01</td>\n",
       "      <td>0.402769</td>\n",
       "      <td>0.00</td>\n",
       "      <td>0.00</td>\n",
       "      <td>0.000000e+00</td>\n",
       "      <td>0.000000e+00</td>\n",
       "      <td>1.00</td>\n",
       "    </tr>\n",
       "  </tbody>\n",
       "</table>\n",
       "</div>"
      ],
      "text/plain": [
       "                    count          mean           std          min  \\\n",
       "row_number        10000.0  5.000500e+03   2886.895680         1.00   \n",
       "customer_id       10000.0  1.569094e+07  71936.186123  15565701.00   \n",
       "credit_score      10000.0  6.505288e+02     96.653299       350.00   \n",
       "age               10000.0  3.892180e+01     10.487806        18.00   \n",
       "tenure             9091.0  4.997690e+00      2.894723         0.00   \n",
       "balance           10000.0  7.648589e+04  62397.405202         0.00   \n",
       "num_of_products   10000.0  1.530200e+00      0.581654         1.00   \n",
       "has_crcard        10000.0  7.055000e-01      0.455840         0.00   \n",
       "is_active_member  10000.0  5.151000e-01      0.499797         0.00   \n",
       "estimated_salary  10000.0  1.000902e+05  57510.492818        11.58   \n",
       "exited            10000.0  2.037000e-01      0.402769         0.00   \n",
       "\n",
       "                          25%           50%           75%          max  \n",
       "row_number            2500.75  5.000500e+03  7.500250e+03     10000.00  \n",
       "customer_id       15628528.25  1.569074e+07  1.575323e+07  15815690.00  \n",
       "credit_score           584.00  6.520000e+02  7.180000e+02       850.00  \n",
       "age                     32.00  3.700000e+01  4.400000e+01        92.00  \n",
       "tenure                   2.00  5.000000e+00  7.000000e+00        10.00  \n",
       "balance                  0.00  9.719854e+04  1.276442e+05    250898.09  \n",
       "num_of_products          1.00  1.000000e+00  2.000000e+00         4.00  \n",
       "has_crcard               0.00  1.000000e+00  1.000000e+00         1.00  \n",
       "is_active_member         0.00  1.000000e+00  1.000000e+00         1.00  \n",
       "estimated_salary     51002.11  1.001939e+05  1.493882e+05    199992.48  \n",
       "exited                   0.00  0.000000e+00  0.000000e+00         1.00  "
      ]
     },
     "execution_count": 452,
     "metadata": {},
     "output_type": "execute_result"
    }
   ],
   "source": [
    "data_bank.describe().T"
   ]
  },
  {
   "cell_type": "markdown",
   "metadata": {},
   "source": [
    "Целевой признак - столбец exited. В нем содержится информация о факте ухода клиента - 0 - не ушел, 1 - ушел. Значит предстоит решить задачу классификации."
   ]
  },
  {
   "cell_type": "markdown",
   "metadata": {},
   "source": [
    "**Вывод**\n",
    "***\n",
    "- Всего в датасете 10 тыс. строк и 14 столбцов. Из них 3 колонки с признаками типа object.\n",
    "- Имеются пропуски в столбце Tenure (сколько лет человек является клиентом банка) - около 10 % пропущенных значений. Для обучения модели пропуски необходимо обработать.\n",
    "- Дубликатов в датасете не обнаружено.\n",
    "- Столбцы surname, row_number и customer_id несут в себе персонифицированную информацию, поэтому в целях обучения модели их нужно удалить.\n",
    "- В датасете обнаружено три признака типа object - surname, geography, gender. Столбцы geography, gender для обучения модели возможно обработать методом OHE (привести к числу).\n",
    "- Определен целевой признак - столбец exited - два значения 0 и 1. Необходимо решить задачу классификации. "
   ]
  },
  {
   "cell_type": "markdown",
   "metadata": {},
   "source": [
    "### Предобработка данных"
   ]
  },
  {
   "cell_type": "markdown",
   "metadata": {},
   "source": [
    "Заменим пропуски в столбце tenure на значение, которого нет в датасете. Так как истиное значение узнать невозможно, а корреляция не показала сильной зависимости с каким-либо другим признаком в датасете."
   ]
  },
  {
   "cell_type": "code",
   "execution_count": 453,
   "metadata": {},
   "outputs": [],
   "source": [
    "data_bank.loc[data_bank['tenure'].isna(), 'tenure'] = data_bank['tenure'].apply(lambda x: np.random.randint(1, 10))"
   ]
  },
  {
   "cell_type": "code",
   "execution_count": 455,
   "metadata": {},
   "outputs": [
    {
     "data": {
      "text/plain": [
       "0"
      ]
     },
     "execution_count": 455,
     "metadata": {},
     "output_type": "execute_result"
    }
   ],
   "source": [
    "data_bank['tenure'].isna().sum()"
   ]
  },
  {
   "cell_type": "code",
   "execution_count": 456,
   "metadata": {
    "scrolled": true
   },
   "outputs": [
    {
     "name": "stdout",
     "output_type": "stream",
     "text": [
      "<class 'pandas.core.frame.DataFrame'>\n",
      "RangeIndex: 10000 entries, 0 to 9999\n",
      "Data columns (total 14 columns):\n",
      "row_number          10000 non-null int64\n",
      "customer_id         10000 non-null int64\n",
      "surname             10000 non-null object\n",
      "credit_score        10000 non-null int64\n",
      "geography           10000 non-null object\n",
      "gender              10000 non-null object\n",
      "age                 10000 non-null int64\n",
      "tenure              10000 non-null float64\n",
      "balance             10000 non-null float64\n",
      "num_of_products     10000 non-null int64\n",
      "has_crcard          10000 non-null int64\n",
      "is_active_member    10000 non-null int64\n",
      "estimated_salary    10000 non-null float64\n",
      "exited              10000 non-null int64\n",
      "dtypes: float64(3), int64(8), object(3)\n",
      "memory usage: 1.1+ MB\n"
     ]
    }
   ],
   "source": [
    "data_bank.info()"
   ]
  },
  {
   "cell_type": "markdown",
   "metadata": {},
   "source": [
    "Приведем типы даных к меньшему объему."
   ]
  },
  {
   "cell_type": "code",
   "execution_count": 457,
   "metadata": {},
   "outputs": [],
   "source": [
    "data_bank = data_bank.astype({'credit_score': 'int16',\n",
    "                             'age': 'int16',\n",
    "                             'tenure': 'int16',\n",
    "                             'num_of_products': 'int16',\n",
    "                             'has_crcard': 'int8',\n",
    "                             'is_active_member': 'int8',\n",
    "                             'exited': 'int8'})"
   ]
  },
  {
   "cell_type": "code",
   "execution_count": 458,
   "metadata": {},
   "outputs": [
    {
     "name": "stdout",
     "output_type": "stream",
     "text": [
      "<class 'pandas.core.frame.DataFrame'>\n",
      "RangeIndex: 10000 entries, 0 to 9999\n",
      "Data columns (total 14 columns):\n",
      "row_number          10000 non-null int64\n",
      "customer_id         10000 non-null int64\n",
      "surname             10000 non-null object\n",
      "credit_score        10000 non-null int16\n",
      "geography           10000 non-null object\n",
      "gender              10000 non-null object\n",
      "age                 10000 non-null int16\n",
      "tenure              10000 non-null int16\n",
      "balance             10000 non-null float64\n",
      "num_of_products     10000 non-null int16\n",
      "has_crcard          10000 non-null int8\n",
      "is_active_member    10000 non-null int8\n",
      "estimated_salary    10000 non-null float64\n",
      "exited              10000 non-null int8\n",
      "dtypes: float64(2), int16(4), int64(2), int8(3), object(3)\n",
      "memory usage: 654.4+ KB\n"
     ]
    }
   ],
   "source": [
    "data_bank.info()"
   ]
  },
  {
   "cell_type": "markdown",
   "metadata": {},
   "source": [
    "Удалим столбцы, несущие лишнюю персонализированную информацию для обучения модели, такие столбцы это:\n",
    "- row_number,\n",
    "- customer_id,\n",
    "- surname."
   ]
  },
  {
   "cell_type": "code",
   "execution_count": 459,
   "metadata": {},
   "outputs": [],
   "source": [
    "data_bank = data_bank.drop(['row_number', 'customer_id', 'surname'], axis=1)"
   ]
  },
  {
   "cell_type": "markdown",
   "metadata": {},
   "source": [
    "С помощью OHE преобразуем категориальные столбцы gender и geography. Чтобы исключить дамми-ловушку удалим первый столбец."
   ]
  },
  {
   "cell_type": "code",
   "execution_count": 460,
   "metadata": {
    "scrolled": true
   },
   "outputs": [
    {
     "data": {
      "text/html": [
       "<div>\n",
       "<style scoped>\n",
       "    .dataframe tbody tr th:only-of-type {\n",
       "        vertical-align: middle;\n",
       "    }\n",
       "\n",
       "    .dataframe tbody tr th {\n",
       "        vertical-align: top;\n",
       "    }\n",
       "\n",
       "    .dataframe thead th {\n",
       "        text-align: right;\n",
       "    }\n",
       "</style>\n",
       "<table border=\"1\" class=\"dataframe\">\n",
       "  <thead>\n",
       "    <tr style=\"text-align: right;\">\n",
       "      <th></th>\n",
       "      <th>credit_score</th>\n",
       "      <th>age</th>\n",
       "      <th>tenure</th>\n",
       "      <th>balance</th>\n",
       "      <th>num_of_products</th>\n",
       "      <th>has_crcard</th>\n",
       "      <th>is_active_member</th>\n",
       "      <th>estimated_salary</th>\n",
       "      <th>exited</th>\n",
       "      <th>geography_Germany</th>\n",
       "      <th>geography_Spain</th>\n",
       "      <th>gender_Male</th>\n",
       "    </tr>\n",
       "  </thead>\n",
       "  <tbody>\n",
       "    <tr>\n",
       "      <td>0</td>\n",
       "      <td>619</td>\n",
       "      <td>42</td>\n",
       "      <td>2</td>\n",
       "      <td>0.00</td>\n",
       "      <td>1</td>\n",
       "      <td>1</td>\n",
       "      <td>1</td>\n",
       "      <td>101348.88</td>\n",
       "      <td>1</td>\n",
       "      <td>0</td>\n",
       "      <td>0</td>\n",
       "      <td>0</td>\n",
       "    </tr>\n",
       "    <tr>\n",
       "      <td>1</td>\n",
       "      <td>608</td>\n",
       "      <td>41</td>\n",
       "      <td>1</td>\n",
       "      <td>83807.86</td>\n",
       "      <td>1</td>\n",
       "      <td>0</td>\n",
       "      <td>1</td>\n",
       "      <td>112542.58</td>\n",
       "      <td>0</td>\n",
       "      <td>0</td>\n",
       "      <td>1</td>\n",
       "      <td>0</td>\n",
       "    </tr>\n",
       "    <tr>\n",
       "      <td>2</td>\n",
       "      <td>502</td>\n",
       "      <td>42</td>\n",
       "      <td>8</td>\n",
       "      <td>159660.80</td>\n",
       "      <td>3</td>\n",
       "      <td>1</td>\n",
       "      <td>0</td>\n",
       "      <td>113931.57</td>\n",
       "      <td>1</td>\n",
       "      <td>0</td>\n",
       "      <td>0</td>\n",
       "      <td>0</td>\n",
       "    </tr>\n",
       "    <tr>\n",
       "      <td>3</td>\n",
       "      <td>699</td>\n",
       "      <td>39</td>\n",
       "      <td>1</td>\n",
       "      <td>0.00</td>\n",
       "      <td>2</td>\n",
       "      <td>0</td>\n",
       "      <td>0</td>\n",
       "      <td>93826.63</td>\n",
       "      <td>0</td>\n",
       "      <td>0</td>\n",
       "      <td>0</td>\n",
       "      <td>0</td>\n",
       "    </tr>\n",
       "    <tr>\n",
       "      <td>4</td>\n",
       "      <td>850</td>\n",
       "      <td>43</td>\n",
       "      <td>2</td>\n",
       "      <td>125510.82</td>\n",
       "      <td>1</td>\n",
       "      <td>1</td>\n",
       "      <td>1</td>\n",
       "      <td>79084.10</td>\n",
       "      <td>0</td>\n",
       "      <td>0</td>\n",
       "      <td>1</td>\n",
       "      <td>0</td>\n",
       "    </tr>\n",
       "  </tbody>\n",
       "</table>\n",
       "</div>"
      ],
      "text/plain": [
       "   credit_score  age  tenure    balance  num_of_products  has_crcard  \\\n",
       "0           619   42       2       0.00                1           1   \n",
       "1           608   41       1   83807.86                1           0   \n",
       "2           502   42       8  159660.80                3           1   \n",
       "3           699   39       1       0.00                2           0   \n",
       "4           850   43       2  125510.82                1           1   \n",
       "\n",
       "   is_active_member  estimated_salary  exited  geography_Germany  \\\n",
       "0                 1         101348.88       1                  0   \n",
       "1                 1         112542.58       0                  0   \n",
       "2                 0         113931.57       1                  0   \n",
       "3                 0          93826.63       0                  0   \n",
       "4                 1          79084.10       0                  0   \n",
       "\n",
       "   geography_Spain  gender_Male  \n",
       "0                0            0  \n",
       "1                1            0  \n",
       "2                0            0  \n",
       "3                0            0  \n",
       "4                1            0  "
      ]
     },
     "execution_count": 460,
     "metadata": {},
     "output_type": "execute_result"
    }
   ],
   "source": [
    "data_bank = pd.get_dummies(data=data_bank, drop_first=True)\n",
    "data_bank.head()"
   ]
  },
  {
   "cell_type": "markdown",
   "metadata": {},
   "source": [
    "Рассмотрим так же количество уникальных значений столбца credit_score."
   ]
  },
  {
   "cell_type": "code",
   "execution_count": 461,
   "metadata": {},
   "outputs": [
    {
     "data": {
      "text/plain": [
       "460"
      ]
     },
     "execution_count": 461,
     "metadata": {},
     "output_type": "execute_result"
    }
   ],
   "source": [
    "len(data_bank['credit_score'].unique())"
   ]
  },
  {
   "cell_type": "markdown",
   "metadata": {},
   "source": [
    "И проверим дубликаты после изменения датасета."
   ]
  },
  {
   "cell_type": "code",
   "execution_count": 462,
   "metadata": {},
   "outputs": [
    {
     "data": {
      "text/plain": [
       "0"
      ]
     },
     "execution_count": 462,
     "metadata": {},
     "output_type": "execute_result"
    }
   ],
   "source": [
    "data_bank.duplicated().sum()"
   ]
  },
  {
   "cell_type": "code",
   "execution_count": 463,
   "metadata": {
    "scrolled": true
   },
   "outputs": [
    {
     "name": "stdout",
     "output_type": "stream",
     "text": [
      "<class 'pandas.core.frame.DataFrame'>\n",
      "RangeIndex: 10000 entries, 0 to 9999\n",
      "Data columns (total 12 columns):\n",
      "credit_score         10000 non-null int16\n",
      "age                  10000 non-null int16\n",
      "tenure               10000 non-null int16\n",
      "balance              10000 non-null float64\n",
      "num_of_products      10000 non-null int16\n",
      "has_crcard           10000 non-null int8\n",
      "is_active_member     10000 non-null int8\n",
      "estimated_salary     10000 non-null float64\n",
      "exited               10000 non-null int8\n",
      "geography_Germany    10000 non-null uint8\n",
      "geography_Spain      10000 non-null uint8\n",
      "gender_Male          10000 non-null uint8\n",
      "dtypes: float64(2), int16(4), int8(3), uint8(3)\n",
      "memory usage: 293.1 KB\n"
     ]
    }
   ],
   "source": [
    "data_bank.info()"
   ]
  },
  {
   "cell_type": "markdown",
   "metadata": {},
   "source": [
    "**Вывод**\n",
    "***\n",
    "- С помощью техники OHE столбцы geography, gender были приведены к числовому типу.\n",
    "- Пропущенные значения в колонке tenure были заполнены значением (-1), которое отсутствовало в датасете.\n",
    "- Типы данных были приведены к типам с меньшим количеством затрачиваемой памяти.\n",
    "- Удалены столбцы с персонализированной информацией - row_number, customer_id, surname.\n",
    "- Для обучения модели получили датасет размером (10000, 12)"
   ]
  },
  {
   "cell_type": "markdown",
   "metadata": {},
   "source": [
    "## Исследование задачи"
   ]
  },
  {
   "cell_type": "markdown",
   "metadata": {},
   "source": [
    "### Разделение датасета на выборки"
   ]
  },
  {
   "cell_type": "markdown",
   "metadata": {},
   "source": [
    "Целевой признак - факт ухода клиента exited (0, 1).  \n",
    "Разделим датасет на три выборки: обучающую, валидационную и тестовую в соотношении 60%-20%-20% соответственно."
   ]
  },
  {
   "cell_type": "code",
   "execution_count": 464,
   "metadata": {},
   "outputs": [],
   "source": [
    "features_data_bank = data_bank.drop('exited', axis=1)\n",
    "target_data_bank = data_bank['exited']"
   ]
  },
  {
   "cell_type": "code",
   "execution_count": 465,
   "metadata": {},
   "outputs": [
    {
     "name": "stdout",
     "output_type": "stream",
     "text": [
      "Размер датасета с признаками (10000, 11)\n",
      "Размер датасета с целевым признаком (10000,)\n"
     ]
    }
   ],
   "source": [
    "print('Размер датасета с признаками', features_data_bank.shape)\n",
    "print('Размер датасета с целевым признаком', target_data_bank.shape)"
   ]
  },
  {
   "cell_type": "code",
   "execution_count": 466,
   "metadata": {},
   "outputs": [],
   "source": [
    "features_train, features_valid, target_train, target_valid = train_test_split(features_data_bank, \n",
    "                                                                              target_data_bank, \n",
    "                                                                              test_size=0.4, \n",
    "                                                                              random_state=123)\n",
    "\n",
    "features_valid, features_test, target_valid, target_test = train_test_split(features_valid, \n",
    "                                                                            target_valid,\n",
    "                                                                            test_size=0.5, \n",
    "                                                                            random_state=123)"
   ]
  },
  {
   "cell_type": "code",
   "execution_count": 467,
   "metadata": {
    "scrolled": true
   },
   "outputs": [
    {
     "name": "stdout",
     "output_type": "stream",
     "text": [
      "Размер тренировочной выборки признаков:\n",
      "(6000, 11)\n",
      "целевого признака:\n",
      "(6000,)\n",
      "Размер валидационной выборки признаков:\n",
      "(2000, 11)\n",
      "целевого признака:\n",
      "(2000,)\n",
      "Размер тестовой выборки признаков:\n",
      "(2000, 11)\n",
      "целевого признака:\n",
      "(2000,)\n"
     ]
    }
   ],
   "source": [
    "print('Размер тренировочной выборки признаков:', features_train.shape, 'целевого признака:', target_train.shape, sep='\\n')\n",
    "print('Размер валидационной выборки признаков:', features_valid.shape, 'целевого признака:', target_valid.shape, sep='\\n')\n",
    "print('Размер тестовой выборки признаков:', features_test.shape, 'целевого признака:', target_test.shape, sep='\\n')"
   ]
  },
  {
   "cell_type": "code",
   "execution_count": 468,
   "metadata": {},
   "outputs": [
    {
     "data": {
      "text/html": [
       "<div>\n",
       "<style scoped>\n",
       "    .dataframe tbody tr th:only-of-type {\n",
       "        vertical-align: middle;\n",
       "    }\n",
       "\n",
       "    .dataframe tbody tr th {\n",
       "        vertical-align: top;\n",
       "    }\n",
       "\n",
       "    .dataframe thead th {\n",
       "        text-align: right;\n",
       "    }\n",
       "</style>\n",
       "<table border=\"1\" class=\"dataframe\">\n",
       "  <thead>\n",
       "    <tr style=\"text-align: right;\">\n",
       "      <th></th>\n",
       "      <th>credit_score</th>\n",
       "      <th>age</th>\n",
       "      <th>tenure</th>\n",
       "      <th>balance</th>\n",
       "      <th>num_of_products</th>\n",
       "      <th>has_crcard</th>\n",
       "      <th>is_active_member</th>\n",
       "      <th>estimated_salary</th>\n",
       "      <th>geography_Germany</th>\n",
       "      <th>geography_Spain</th>\n",
       "      <th>gender_Male</th>\n",
       "    </tr>\n",
       "  </thead>\n",
       "  <tbody>\n",
       "    <tr>\n",
       "      <td>9696</td>\n",
       "      <td>550</td>\n",
       "      <td>32</td>\n",
       "      <td>8</td>\n",
       "      <td>97514.07</td>\n",
       "      <td>1</td>\n",
       "      <td>1</td>\n",
       "      <td>1</td>\n",
       "      <td>199138.84</td>\n",
       "      <td>0</td>\n",
       "      <td>0</td>\n",
       "      <td>1</td>\n",
       "    </tr>\n",
       "    <tr>\n",
       "      <td>509</td>\n",
       "      <td>599</td>\n",
       "      <td>37</td>\n",
       "      <td>2</td>\n",
       "      <td>0.00</td>\n",
       "      <td>2</td>\n",
       "      <td>1</td>\n",
       "      <td>1</td>\n",
       "      <td>143739.29</td>\n",
       "      <td>0</td>\n",
       "      <td>1</td>\n",
       "      <td>0</td>\n",
       "    </tr>\n",
       "    <tr>\n",
       "      <td>621</td>\n",
       "      <td>656</td>\n",
       "      <td>40</td>\n",
       "      <td>10</td>\n",
       "      <td>167878.50</td>\n",
       "      <td>1</td>\n",
       "      <td>0</td>\n",
       "      <td>1</td>\n",
       "      <td>151887.16</td>\n",
       "      <td>0</td>\n",
       "      <td>1</td>\n",
       "      <td>0</td>\n",
       "    </tr>\n",
       "    <tr>\n",
       "      <td>7681</td>\n",
       "      <td>641</td>\n",
       "      <td>33</td>\n",
       "      <td>2</td>\n",
       "      <td>146193.60</td>\n",
       "      <td>2</td>\n",
       "      <td>1</td>\n",
       "      <td>1</td>\n",
       "      <td>55796.83</td>\n",
       "      <td>0</td>\n",
       "      <td>0</td>\n",
       "      <td>1</td>\n",
       "    </tr>\n",
       "    <tr>\n",
       "      <td>4265</td>\n",
       "      <td>709</td>\n",
       "      <td>32</td>\n",
       "      <td>4</td>\n",
       "      <td>147307.91</td>\n",
       "      <td>1</td>\n",
       "      <td>0</td>\n",
       "      <td>1</td>\n",
       "      <td>40861.55</td>\n",
       "      <td>0</td>\n",
       "      <td>0</td>\n",
       "      <td>1</td>\n",
       "    </tr>\n",
       "  </tbody>\n",
       "</table>\n",
       "</div>"
      ],
      "text/plain": [
       "      credit_score  age  tenure    balance  num_of_products  has_crcard  \\\n",
       "9696           550   32       8   97514.07                1           1   \n",
       "509            599   37       2       0.00                2           1   \n",
       "621            656   40      10  167878.50                1           0   \n",
       "7681           641   33       2  146193.60                2           1   \n",
       "4265           709   32       4  147307.91                1           0   \n",
       "\n",
       "      is_active_member  estimated_salary  geography_Germany  geography_Spain  \\\n",
       "9696                 1         199138.84                  0                0   \n",
       "509                  1         143739.29                  0                1   \n",
       "621                  1         151887.16                  0                1   \n",
       "7681                 1          55796.83                  0                0   \n",
       "4265                 1          40861.55                  0                0   \n",
       "\n",
       "      gender_Male  \n",
       "9696            1  \n",
       "509             0  \n",
       "621             0  \n",
       "7681            1  \n",
       "4265            1  "
      ]
     },
     "execution_count": 468,
     "metadata": {},
     "output_type": "execute_result"
    }
   ],
   "source": [
    "features_train.head()"
   ]
  },
  {
   "cell_type": "markdown",
   "metadata": {},
   "source": [
    "**Вывод**\n",
    "***\n",
    "Исходный датасет разделен на обучающую, валидационную и тестовую выборки в пропорции 3:1:1."
   ]
  },
  {
   "cell_type": "markdown",
   "metadata": {},
   "source": [
    "### Стандартизация"
   ]
  },
  {
   "cell_type": "markdown",
   "metadata": {},
   "source": [
    "Исходные признаки имеют разный масштаб, поэтому модель может учесть, что один из признаков важнее другого. Чтобы этого избежать, стандартизируем признаки - 'credit_score', 'age', 'balance', 'estimated_salary', приведем среднее к 0 и стандартное отклонение к 1 ко всем выборкам с признаками."
   ]
  },
  {
   "cell_type": "code",
   "execution_count": 469,
   "metadata": {},
   "outputs": [
    {
     "data": {
      "text/html": [
       "<div>\n",
       "<style scoped>\n",
       "    .dataframe tbody tr th:only-of-type {\n",
       "        vertical-align: middle;\n",
       "    }\n",
       "\n",
       "    .dataframe tbody tr th {\n",
       "        vertical-align: top;\n",
       "    }\n",
       "\n",
       "    .dataframe thead th {\n",
       "        text-align: right;\n",
       "    }\n",
       "</style>\n",
       "<table border=\"1\" class=\"dataframe\">\n",
       "  <thead>\n",
       "    <tr style=\"text-align: right;\">\n",
       "      <th></th>\n",
       "      <th>count</th>\n",
       "      <th>mean</th>\n",
       "      <th>std</th>\n",
       "      <th>min</th>\n",
       "      <th>25%</th>\n",
       "      <th>50%</th>\n",
       "      <th>75%</th>\n",
       "      <th>max</th>\n",
       "    </tr>\n",
       "  </thead>\n",
       "  <tbody>\n",
       "    <tr>\n",
       "      <td>credit_score</td>\n",
       "      <td>6000.0</td>\n",
       "      <td>650.186167</td>\n",
       "      <td>96.665976</td>\n",
       "      <td>350.00</td>\n",
       "      <td>583.00</td>\n",
       "      <td>651.000</td>\n",
       "      <td>718.0000</td>\n",
       "      <td>850.00</td>\n",
       "    </tr>\n",
       "    <tr>\n",
       "      <td>age</td>\n",
       "      <td>6000.0</td>\n",
       "      <td>38.984167</td>\n",
       "      <td>10.692847</td>\n",
       "      <td>18.00</td>\n",
       "      <td>32.00</td>\n",
       "      <td>37.000</td>\n",
       "      <td>44.0000</td>\n",
       "      <td>92.00</td>\n",
       "    </tr>\n",
       "    <tr>\n",
       "      <td>tenure</td>\n",
       "      <td>6000.0</td>\n",
       "      <td>4.978000</td>\n",
       "      <td>2.875337</td>\n",
       "      <td>0.00</td>\n",
       "      <td>2.00</td>\n",
       "      <td>5.000</td>\n",
       "      <td>7.0000</td>\n",
       "      <td>10.00</td>\n",
       "    </tr>\n",
       "    <tr>\n",
       "      <td>balance</td>\n",
       "      <td>6000.0</td>\n",
       "      <td>76820.664757</td>\n",
       "      <td>62830.054890</td>\n",
       "      <td>0.00</td>\n",
       "      <td>0.00</td>\n",
       "      <td>97321.580</td>\n",
       "      <td>128265.6625</td>\n",
       "      <td>238387.56</td>\n",
       "    </tr>\n",
       "    <tr>\n",
       "      <td>num_of_products</td>\n",
       "      <td>6000.0</td>\n",
       "      <td>1.532833</td>\n",
       "      <td>0.584505</td>\n",
       "      <td>1.00</td>\n",
       "      <td>1.00</td>\n",
       "      <td>1.000</td>\n",
       "      <td>2.0000</td>\n",
       "      <td>4.00</td>\n",
       "    </tr>\n",
       "    <tr>\n",
       "      <td>has_crcard</td>\n",
       "      <td>6000.0</td>\n",
       "      <td>0.704000</td>\n",
       "      <td>0.456529</td>\n",
       "      <td>0.00</td>\n",
       "      <td>0.00</td>\n",
       "      <td>1.000</td>\n",
       "      <td>1.0000</td>\n",
       "      <td>1.00</td>\n",
       "    </tr>\n",
       "    <tr>\n",
       "      <td>is_active_member</td>\n",
       "      <td>6000.0</td>\n",
       "      <td>0.518167</td>\n",
       "      <td>0.499712</td>\n",
       "      <td>0.00</td>\n",
       "      <td>0.00</td>\n",
       "      <td>1.000</td>\n",
       "      <td>1.0000</td>\n",
       "      <td>1.00</td>\n",
       "    </tr>\n",
       "    <tr>\n",
       "      <td>estimated_salary</td>\n",
       "      <td>6000.0</td>\n",
       "      <td>99882.585395</td>\n",
       "      <td>57792.963860</td>\n",
       "      <td>11.58</td>\n",
       "      <td>50202.46</td>\n",
       "      <td>99649.585</td>\n",
       "      <td>149566.1025</td>\n",
       "      <td>199992.48</td>\n",
       "    </tr>\n",
       "    <tr>\n",
       "      <td>geography_Germany</td>\n",
       "      <td>6000.0</td>\n",
       "      <td>0.248500</td>\n",
       "      <td>0.432179</td>\n",
       "      <td>0.00</td>\n",
       "      <td>0.00</td>\n",
       "      <td>0.000</td>\n",
       "      <td>0.0000</td>\n",
       "      <td>1.00</td>\n",
       "    </tr>\n",
       "    <tr>\n",
       "      <td>geography_Spain</td>\n",
       "      <td>6000.0</td>\n",
       "      <td>0.249000</td>\n",
       "      <td>0.432470</td>\n",
       "      <td>0.00</td>\n",
       "      <td>0.00</td>\n",
       "      <td>0.000</td>\n",
       "      <td>0.0000</td>\n",
       "      <td>1.00</td>\n",
       "    </tr>\n",
       "    <tr>\n",
       "      <td>gender_Male</td>\n",
       "      <td>6000.0</td>\n",
       "      <td>0.545667</td>\n",
       "      <td>0.497952</td>\n",
       "      <td>0.00</td>\n",
       "      <td>0.00</td>\n",
       "      <td>1.000</td>\n",
       "      <td>1.0000</td>\n",
       "      <td>1.00</td>\n",
       "    </tr>\n",
       "  </tbody>\n",
       "</table>\n",
       "</div>"
      ],
      "text/plain": [
       "                    count          mean           std     min       25%  \\\n",
       "credit_score       6000.0    650.186167     96.665976  350.00    583.00   \n",
       "age                6000.0     38.984167     10.692847   18.00     32.00   \n",
       "tenure             6000.0      4.978000      2.875337    0.00      2.00   \n",
       "balance            6000.0  76820.664757  62830.054890    0.00      0.00   \n",
       "num_of_products    6000.0      1.532833      0.584505    1.00      1.00   \n",
       "has_crcard         6000.0      0.704000      0.456529    0.00      0.00   \n",
       "is_active_member   6000.0      0.518167      0.499712    0.00      0.00   \n",
       "estimated_salary   6000.0  99882.585395  57792.963860   11.58  50202.46   \n",
       "geography_Germany  6000.0      0.248500      0.432179    0.00      0.00   \n",
       "geography_Spain    6000.0      0.249000      0.432470    0.00      0.00   \n",
       "gender_Male        6000.0      0.545667      0.497952    0.00      0.00   \n",
       "\n",
       "                         50%          75%        max  \n",
       "credit_score         651.000     718.0000     850.00  \n",
       "age                   37.000      44.0000      92.00  \n",
       "tenure                 5.000       7.0000      10.00  \n",
       "balance            97321.580  128265.6625  238387.56  \n",
       "num_of_products        1.000       2.0000       4.00  \n",
       "has_crcard             1.000       1.0000       1.00  \n",
       "is_active_member       1.000       1.0000       1.00  \n",
       "estimated_salary   99649.585  149566.1025  199992.48  \n",
       "geography_Germany      0.000       0.0000       1.00  \n",
       "geography_Spain        0.000       0.0000       1.00  \n",
       "gender_Male            1.000       1.0000       1.00  "
      ]
     },
     "execution_count": 469,
     "metadata": {},
     "output_type": "execute_result"
    }
   ],
   "source": [
    "features_train.describe().T"
   ]
  },
  {
   "cell_type": "markdown",
   "metadata": {},
   "source": [
    "Рассмотрим оригинальное распределение признаков на графике, чье среднее значение сильно выше, по сравнению с другими признаками. Такие столбцы - это balance, estimated_salary (среднее 76820, 99882 соответственно). "
   ]
  },
  {
   "cell_type": "code",
   "execution_count": 470,
   "metadata": {},
   "outputs": [
    {
     "data": {
      "image/png": "[encoded data removed]",
      "text/plain": [
       "<Figure size 1440x216 with 1 Axes>"
      ]
     },
     "metadata": {
      "needs_background": "light"
     },
     "output_type": "display_data"
    },
    {
     "data": {
      "image/png": "[encoded data removed]",
      "text/plain": [
       "<Figure size 1440x216 with 1 Axes>"
      ]
     },
     "metadata": {
      "needs_background": "light"
     },
     "output_type": "display_data"
    }
   ],
   "source": [
    "# KDE для валидационной выборки\n",
    "fig, (ax1) = plt.subplots(ncols = 1, figsize = (20, 3))\n",
    "ax1.set_title('Оригинальные распределения валидационной выборки')\n",
    "\n",
    "sns.kdeplot(features_valid['balance'], ax = ax1, shade=True, legend=True, color='mediumblue')\n",
    "sns.kdeplot(features_valid['estimated_salary'], ax = ax1, shade=True, legend=True, color='lightgreen')\n",
    "plt.show()\n",
    "\n",
    "# KDE для обучающей выборки\n",
    "fig, (ax1) = plt.subplots(ncols = 1, figsize = (20, 3))\n",
    "ax1.set_title('Оригинальные распределения обучающей выборки')\n",
    "\n",
    "\n",
    "sns.kdeplot(features_train['balance'], ax = ax1, shade=True, legend=True, color='mediumblue')\n",
    "sns.kdeplot(features_train['estimated_salary'], ax = ax1, shade=True, legend=True, color='lightgreen')\n",
    "plt.show()"
   ]
  },
  {
   "cell_type": "markdown",
   "metadata": {},
   "source": [
    "Распределение столбца признака balance бимодально с двумя пиками в обеих выборках. Распределение значений столбца  estimated_salary ближе к нормальному, но без ярко выраженного пика.  "
   ]
  },
  {
   "cell_type": "code",
   "execution_count": 471,
   "metadata": {},
   "outputs": [
    {
     "data": {
      "image/png": "[encoded data removed]",
      "text/plain": [
       "<Figure size 1440x216 with 1 Axes>"
      ]
     },
     "metadata": {
      "needs_background": "light"
     },
     "output_type": "display_data"
    }
   ],
   "source": [
    "fig, (ax1) = plt.subplots(ncols = 1, figsize = (20, 3))\n",
    "ax1.set_title('Оригинальные распределения')\n",
    "\n",
    "sns.kdeplot(features_valid['num_of_products'], ax = ax1, shade=True, legend=True, color='mediumblue')\n",
    "sns.kdeplot(features_valid['has_crcard'], ax = ax1, shade=True, legend=True, color='lightgreen')\n",
    "sns.kdeplot(features_valid['tenure'], ax = ax1, shade=True, legend=True, color='y')\n",
    "plt.show()"
   ]
  },
  {
   "cell_type": "markdown",
   "metadata": {},
   "source": [
    "Средния значения разрых признаков находятся в разных диапазонах значений. Для того, чтобы при обучении моделей один признак не стал значительнее другого проведем стандартизацию признаков 'credit_score', 'age', 'balance', 'estimated_salary', 'tenure'."
   ]
  },
  {
   "cell_type": "code",
   "execution_count": 472,
   "metadata": {},
   "outputs": [],
   "source": [
    "pd.options.mode.chained_assignment = None\n",
    "\n",
    "columns_fs = ['credit_score', 'age', 'balance', 'estimated_salary', 'tenure']\n",
    "\n",
    "\n",
    "scaler = StandardScaler()\n",
    "scaler.fit(features_train[columns_fs])\n",
    "\n",
    "features_train[columns_fs] = scaler.transform(features_train[columns_fs])\n",
    "features_valid[columns_fs] = scaler.transform(features_valid[columns_fs])\n",
    "features_test[columns_fs] = scaler.transform(features_test[columns_fs])"
   ]
  },
  {
   "cell_type": "code",
   "execution_count": 473,
   "metadata": {},
   "outputs": [
    {
     "data": {
      "text/html": [
       "<div>\n",
       "<style scoped>\n",
       "    .dataframe tbody tr th:only-of-type {\n",
       "        vertical-align: middle;\n",
       "    }\n",
       "\n",
       "    .dataframe tbody tr th {\n",
       "        vertical-align: top;\n",
       "    }\n",
       "\n",
       "    .dataframe thead th {\n",
       "        text-align: right;\n",
       "    }\n",
       "</style>\n",
       "<table border=\"1\" class=\"dataframe\">\n",
       "  <thead>\n",
       "    <tr style=\"text-align: right;\">\n",
       "      <th></th>\n",
       "      <th>count</th>\n",
       "      <th>mean</th>\n",
       "      <th>std</th>\n",
       "      <th>min</th>\n",
       "      <th>25%</th>\n",
       "      <th>50%</th>\n",
       "      <th>75%</th>\n",
       "      <th>max</th>\n",
       "    </tr>\n",
       "  </thead>\n",
       "  <tbody>\n",
       "    <tr>\n",
       "      <td>credit_score</td>\n",
       "      <td>6000.0</td>\n",
       "      <td>4.594843e-16</td>\n",
       "      <td>1.000083</td>\n",
       "      <td>-3.105655</td>\n",
       "      <td>-0.695092</td>\n",
       "      <td>0.008420</td>\n",
       "      <td>0.701586</td>\n",
       "      <td>2.067227</td>\n",
       "    </tr>\n",
       "    <tr>\n",
       "      <td>age</td>\n",
       "      <td>6000.0</td>\n",
       "      <td>-2.368476e-17</td>\n",
       "      <td>1.000083</td>\n",
       "      <td>-1.962613</td>\n",
       "      <td>-0.653217</td>\n",
       "      <td>-0.185576</td>\n",
       "      <td>0.469122</td>\n",
       "      <td>4.958479</td>\n",
       "    </tr>\n",
       "    <tr>\n",
       "      <td>tenure</td>\n",
       "      <td>6000.0</td>\n",
       "      <td>5.210647e-17</td>\n",
       "      <td>1.000083</td>\n",
       "      <td>-1.731420</td>\n",
       "      <td>-1.035791</td>\n",
       "      <td>0.007652</td>\n",
       "      <td>0.703281</td>\n",
       "      <td>1.746724</td>\n",
       "    </tr>\n",
       "    <tr>\n",
       "      <td>balance</td>\n",
       "      <td>6000.0</td>\n",
       "      <td>4.263256e-17</td>\n",
       "      <td>1.000083</td>\n",
       "      <td>-1.222776</td>\n",
       "      <td>-1.222776</td>\n",
       "      <td>0.326319</td>\n",
       "      <td>0.818864</td>\n",
       "      <td>2.571705</td>\n",
       "    </tr>\n",
       "    <tr>\n",
       "      <td>num_of_products</td>\n",
       "      <td>6000.0</td>\n",
       "      <td>1.532833e+00</td>\n",
       "      <td>0.584505</td>\n",
       "      <td>1.000000</td>\n",
       "      <td>1.000000</td>\n",
       "      <td>1.000000</td>\n",
       "      <td>2.000000</td>\n",
       "      <td>4.000000</td>\n",
       "    </tr>\n",
       "    <tr>\n",
       "      <td>has_crcard</td>\n",
       "      <td>6000.0</td>\n",
       "      <td>7.040000e-01</td>\n",
       "      <td>0.456529</td>\n",
       "      <td>0.000000</td>\n",
       "      <td>0.000000</td>\n",
       "      <td>1.000000</td>\n",
       "      <td>1.000000</td>\n",
       "      <td>1.000000</td>\n",
       "    </tr>\n",
       "    <tr>\n",
       "      <td>is_active_member</td>\n",
       "      <td>6000.0</td>\n",
       "      <td>5.181667e-01</td>\n",
       "      <td>0.499712</td>\n",
       "      <td>0.000000</td>\n",
       "      <td>0.000000</td>\n",
       "      <td>1.000000</td>\n",
       "      <td>1.000000</td>\n",
       "      <td>1.000000</td>\n",
       "    </tr>\n",
       "    <tr>\n",
       "      <td>estimated_salary</td>\n",
       "      <td>6000.0</td>\n",
       "      <td>-3.315866e-17</td>\n",
       "      <td>1.000083</td>\n",
       "      <td>-1.728226</td>\n",
       "      <td>-0.859694</td>\n",
       "      <td>-0.004032</td>\n",
       "      <td>0.859753</td>\n",
       "      <td>1.732360</td>\n",
       "    </tr>\n",
       "    <tr>\n",
       "      <td>geography_Germany</td>\n",
       "      <td>6000.0</td>\n",
       "      <td>2.485000e-01</td>\n",
       "      <td>0.432179</td>\n",
       "      <td>0.000000</td>\n",
       "      <td>0.000000</td>\n",
       "      <td>0.000000</td>\n",
       "      <td>0.000000</td>\n",
       "      <td>1.000000</td>\n",
       "    </tr>\n",
       "    <tr>\n",
       "      <td>geography_Spain</td>\n",
       "      <td>6000.0</td>\n",
       "      <td>2.490000e-01</td>\n",
       "      <td>0.432470</td>\n",
       "      <td>0.000000</td>\n",
       "      <td>0.000000</td>\n",
       "      <td>0.000000</td>\n",
       "      <td>0.000000</td>\n",
       "      <td>1.000000</td>\n",
       "    </tr>\n",
       "    <tr>\n",
       "      <td>gender_Male</td>\n",
       "      <td>6000.0</td>\n",
       "      <td>5.456667e-01</td>\n",
       "      <td>0.497952</td>\n",
       "      <td>0.000000</td>\n",
       "      <td>0.000000</td>\n",
       "      <td>1.000000</td>\n",
       "      <td>1.000000</td>\n",
       "      <td>1.000000</td>\n",
       "    </tr>\n",
       "  </tbody>\n",
       "</table>\n",
       "</div>"
      ],
      "text/plain": [
       "                    count          mean       std       min       25%  \\\n",
       "credit_score       6000.0  4.594843e-16  1.000083 -3.105655 -0.695092   \n",
       "age                6000.0 -2.368476e-17  1.000083 -1.962613 -0.653217   \n",
       "tenure             6000.0  5.210647e-17  1.000083 -1.731420 -1.035791   \n",
       "balance            6000.0  4.263256e-17  1.000083 -1.222776 -1.222776   \n",
       "num_of_products    6000.0  1.532833e+00  0.584505  1.000000  1.000000   \n",
       "has_crcard         6000.0  7.040000e-01  0.456529  0.000000  0.000000   \n",
       "is_active_member   6000.0  5.181667e-01  0.499712  0.000000  0.000000   \n",
       "estimated_salary   6000.0 -3.315866e-17  1.000083 -1.728226 -0.859694   \n",
       "geography_Germany  6000.0  2.485000e-01  0.432179  0.000000  0.000000   \n",
       "geography_Spain    6000.0  2.490000e-01  0.432470  0.000000  0.000000   \n",
       "gender_Male        6000.0  5.456667e-01  0.497952  0.000000  0.000000   \n",
       "\n",
       "                        50%       75%       max  \n",
       "credit_score       0.008420  0.701586  2.067227  \n",
       "age               -0.185576  0.469122  4.958479  \n",
       "tenure             0.007652  0.703281  1.746724  \n",
       "balance            0.326319  0.818864  2.571705  \n",
       "num_of_products    1.000000  2.000000  4.000000  \n",
       "has_crcard         1.000000  1.000000  1.000000  \n",
       "is_active_member   1.000000  1.000000  1.000000  \n",
       "estimated_salary  -0.004032  0.859753  1.732360  \n",
       "geography_Germany  0.000000  0.000000  1.000000  \n",
       "geography_Spain    0.000000  0.000000  1.000000  \n",
       "gender_Male        1.000000  1.000000  1.000000  "
      ]
     },
     "execution_count": 473,
     "metadata": {},
     "output_type": "execute_result"
    }
   ],
   "source": [
    "features_train.describe().T"
   ]
  },
  {
   "cell_type": "markdown",
   "metadata": {},
   "source": [
    "Проведена стандартизация признаков, стандартное отклонение каждого признака не более 1.  \n",
    "Выведем на экран графики распределений уже после стандартизации."
   ]
  },
  {
   "cell_type": "code",
   "execution_count": 474,
   "metadata": {},
   "outputs": [
    {
     "data": {
      "image/png": "[encoded data removed]",
      "text/plain": [
       "<Figure size 1440x216 with 1 Axes>"
      ]
     },
     "metadata": {
      "needs_background": "light"
     },
     "output_type": "display_data"
    },
    {
     "data": {
      "image/png": "[encoded data removed]",
      "text/plain": [
       "<Figure size 1440x216 with 1 Axes>"
      ]
     },
     "metadata": {
      "needs_background": "light"
     },
     "output_type": "display_data"
    }
   ],
   "source": [
    "# fig, (ax1) = plt.subplots(ncols = 1, figsize = (20, 5))\n",
    "# ax1.set_title('Распределение после стандартизации')\n",
    "\n",
    "# sns.kdeplot(features_valid['balance'], ax = ax1, shade=True, legend=True, color='mediumblue')\n",
    "# sns.kdeplot(features_valid['estimated_salary'], ax = ax1, shade=True, legend=True, color='lightgreen')\n",
    "# plt.show()\n",
    "\n",
    "# KDE для валидационной выборки\n",
    "fig, (ax1) = plt.subplots(ncols = 1, figsize = (20, 3))\n",
    "ax1.set_title('Распределение после стандартизации на валидационной выборки')\n",
    "\n",
    "sns.kdeplot(features_valid['balance'], ax = ax1, shade=True, legend=True, color='mediumblue')\n",
    "sns.kdeplot(features_valid['estimated_salary'], ax = ax1, shade=True, legend=True, color='lightgreen')\n",
    "plt.show()\n",
    "\n",
    "# KDE для обучающей выборки\n",
    "fig, (ax1) = plt.subplots(ncols = 1, figsize = (20, 3))\n",
    "ax1.set_title('Распределение после стандартизации на обучающей выборки')\n",
    "\n",
    "\n",
    "sns.kdeplot(features_train['balance'], ax = ax1, shade=True, legend=True, color='mediumblue')\n",
    "sns.kdeplot(features_train['estimated_salary'], ax = ax1, shade=True, legend=True, color='lightgreen')\n",
    "plt.show()"
   ]
  },
  {
   "cell_type": "markdown",
   "metadata": {},
   "source": [
    "**Вывод**\n",
    "***"
   ]
  },
  {
   "cell_type": "code",
   "execution_count": 475,
   "metadata": {},
   "outputs": [
    {
     "name": "stdout",
     "output_type": "stream",
     "text": [
      "(6000, 11)\n",
      "(2000, 11)\n",
      "(2000, 11)\n"
     ]
    }
   ],
   "source": [
    "print(features_train.shape)\n",
    "print(features_valid.shape)\n",
    "print(features_test.shape)"
   ]
  },
  {
   "cell_type": "markdown",
   "metadata": {},
   "source": [
    "**Вывод**\n",
    "***\n",
    "- Была проведена стандартизация признаков "
   ]
  },
  {
   "cell_type": "markdown",
   "metadata": {},
   "source": [
    "### Баланс классов"
   ]
  },
  {
   "cell_type": "markdown",
   "metadata": {},
   "source": [
    "Рассмотрим доли классов целевого признака - факта ухода клиента на всех выборках."
   ]
  },
  {
   "cell_type": "code",
   "execution_count": 476,
   "metadata": {},
   "outputs": [],
   "source": [
    "def class_frequency(data):    \n",
    "    class_frequency_data = data.value_counts(normalize=True).to_frame()\n",
    "    return class_frequency_data"
   ]
  },
  {
   "cell_type": "code",
   "execution_count": 477,
   "metadata": {},
   "outputs": [
    {
     "data": {
      "image/png": "[encoded data removed]",
      "text/plain": [
       "<Figure size 1584x432 with 3 Axes>"
      ]
     },
     "metadata": {
      "needs_background": "light"
     },
     "output_type": "display_data"
    }
   ],
   "source": [
    "fig, axes = plt.subplots(1, 3, figsize=(22,6))\n",
    "\n",
    "class_frequency(target_train).plot(kind='bar', \n",
    "                                   ax=axes[0], \n",
    "                                   color='mediumblue').set_title('Распределение признака в тренировочной выборке', \n",
    "                                                          fontdict={'fontsize': 14})\n",
    "class_frequency(target_valid).plot(kind='bar', \n",
    "                                   ax=axes[1], \n",
    "                                   color='mediumblue').set_title('Распределение признака в валидационной выборке', \n",
    "                                                                     fontdict={'fontsize': 14})\n",
    "class_frequency(target_test).plot(kind='bar', \n",
    "                                  ax=axes[2], \n",
    "                                  color='mediumblue').set_title('Распределение признака в тестовой выборке', \n",
    "                                                                    fontdict={'fontsize': 14})\n",
    "\n",
    "plt.show()"
   ]
  },
  {
   "cell_type": "markdown",
   "metadata": {},
   "source": [
    "**Вывод**\n",
    "****\n",
    "Классы не сбалансированы. Соотношение классов целевого признака - факта ухода клиента (0, 1) ~4:1 (0,8 и 0,2 соответственно).\n",
    "\n",
    "\n"
   ]
  },
  {
   "cell_type": "markdown",
   "metadata": {},
   "source": [
    "### Обучение моделей"
   ]
  },
  {
   "cell_type": "markdown",
   "metadata": {},
   "source": [
    "Построим модели дерева решений, случайного леса и логистической регрессии без учета баланса классов. Найдем лучшие гиперпараметры и оценим модели метрикой F1 и AUC-ROC.  \n",
    "\n",
    "Подготовим функции:\n",
    "- для расчета метрик F1, AUC-ROC, Accuracy по модели - metrics_model\n",
    "- для построения ROC кривой\n",
    "- для построения тепловой карты матрицы ошибок"
   ]
  },
  {
   "cell_type": "code",
   "execution_count": 478,
   "metadata": {},
   "outputs": [],
   "source": [
    "# функция для расчета метрик F1 и ROC_AUC   \n",
    "def metrics_model(model, features=features_valid, target=target_valid):\n",
    "    \n",
    "    predictions = model.predict(features) # предсказания\n",
    "    \n",
    "    probabilities_valid = model.predict_proba(features) # вероятности\n",
    "    probabilities_one_valid = probabilities_valid[:, 1]\n",
    "    \n",
    "    auc_roc = roc_auc_score(target, probabilities_one_valid)\n",
    "    \n",
    "    f1 = f1_score(target, predictions)\n",
    "    \n",
    "    accuracy = model.score(features, target)\n",
    "    \n",
    "    return pd.DataFrame({'metric_result':[auc_roc, f1, accuracy]}, \n",
    "                        index=['AUC-ROC', 'F1', 'Accuracy'])"
   ]
  },
  {
   "cell_type": "code",
   "execution_count": 479,
   "metadata": {},
   "outputs": [],
   "source": [
    "# функция для построения ROC -кривой\n",
    "def plot_ROC(fpr, tpr, name='ROC-кривая'):\n",
    "    plt.figure()\n",
    "\n",
    "    plot_ROC = plt.plot(fpr, tpr, color='mediumblue')\n",
    "    plot_ROC = plt.plot([0, 1], [0, 1], linestyle='--', color='r') # ROC-кривая случайной модели\n",
    "\n",
    "    plt.xlim([0.0, 1.0]) #  границы осей \n",
    "    plt.ylim([0.0, 1.0])\n",
    "\n",
    "    plt.xlabel('False Positive Rate')\n",
    "    plt.ylabel('True Positive Rate')\n",
    "    plt.title(name)\n",
    "   \n",
    "    return plot_ROC"
   ]
  },
  {
   "cell_type": "code",
   "execution_count": 480,
   "metadata": {},
   "outputs": [],
   "source": [
    "# функция для построения тепловой карты по матрице ошибок модели\n",
    "def heatmap_confusion_matrix(best_predictions, name='Матрица ошибок модели', target=target_valid):\n",
    "\n",
    "    heatmap_1 = sns.heatmap((confusion_matrix(target, best_predictions)), \n",
    "                            cmap=\"YlGnBu\", \n",
    "                            annot=True, fmt='d')\n",
    "    \n",
    "    heatmap_1.set_title(name, fontdict={'fontsize':14})\n",
    "    heatmap_1.set_xlabel('Предсказания', fontsize=14)\n",
    "    heatmap_1.set_ylabel('Ответы', fontsize=14)\n",
    "    \n",
    "    return heatmap_1"
   ]
  },
  {
   "cell_type": "code",
   "execution_count": 481,
   "metadata": {},
   "outputs": [
    {
     "name": "stdout",
     "output_type": "stream",
     "text": [
      "F1 лучшей модели дерева решений: 0.623\n",
      "AUC-ROC лучшей модели дерева решений: 0.848\n",
      "Гиперпараметры лучшей модели: DecisionTreeClassifier(max_depth=12, min_samples_leaf=6, min_samples_split=90,\n",
      "                       random_state=5)\n"
     ]
    }
   ],
   "source": [
    "best_model_tree = None\n",
    "best_result_tree = 0\n",
    "best_depth = 0\n",
    "best_sample = 0\n",
    "best_auc_roc = 0 \n",
    "\n",
    "for depth in range(1, 15): # глубина дерева от 1 до 6\n",
    "    \n",
    "    for sample in range(10, 100, 2): # минимальное количество выборок для разделения вн. узла \n",
    "        \n",
    "        for leaf in range(1, 10):\n",
    "            \n",
    "            model_tree = DecisionTreeClassifier(random_state=5, \n",
    "                                           max_depth=depth, \n",
    "                                           min_samples_split = sample,\n",
    "                                           min_samples_leaf=leaf) # создание модели\n",
    "\n",
    "            model_tree.fit(features_train, target_train) # обучение на обучающей выборке\n",
    "\n",
    "            predicted_valid = model_tree.predict(features_valid)\n",
    "\n",
    "            result_f1 = f1_score(target_valid, predicted_valid, zero_division=0) # оценка точности предсказаний на вал. выборке \n",
    "\n",
    "            probabilities_valid = model_tree.predict_proba(features_valid)\n",
    "            probabilities_one_valid = probabilities_valid[:, 1]\n",
    "\n",
    "            auc_roc = roc_auc_score(target_valid, probabilities_one_valid)\n",
    "\n",
    "            if result_f1 > best_result_tree: # сохранение параметров лучшей модели по F1\n",
    "                \n",
    "                best_model_tree = model_tree\n",
    "                best_predicted_tree = predicted_valid\n",
    "\n",
    "                best_result_tree = result_f1\n",
    "                best_auc_roc = auc_roc \n",
    "\n",
    "                fpr_t, tpr_t, thresholds_t = roc_curve(target_valid, probabilities_one_valid)\n",
    "\n",
    "print(f'F1 лучшей модели дерева решений: {best_result_tree:.3}')\n",
    "print(f'AUC-ROC лучшей модели дерева решений: {best_auc_roc:.3}')\n",
    "print('Гиперпараметры лучшей модели:', best_model_tree)"
   ]
  },
  {
   "cell_type": "code",
   "execution_count": 482,
   "metadata": {},
   "outputs": [
    {
     "data": {
      "text/html": [
       "<div>\n",
       "<style scoped>\n",
       "    .dataframe tbody tr th:only-of-type {\n",
       "        vertical-align: middle;\n",
       "    }\n",
       "\n",
       "    .dataframe tbody tr th {\n",
       "        vertical-align: top;\n",
       "    }\n",
       "\n",
       "    .dataframe thead th {\n",
       "        text-align: right;\n",
       "    }\n",
       "</style>\n",
       "<table border=\"1\" class=\"dataframe\">\n",
       "  <thead>\n",
       "    <tr style=\"text-align: right;\">\n",
       "      <th></th>\n",
       "      <th>metric_result</th>\n",
       "    </tr>\n",
       "  </thead>\n",
       "  <tbody>\n",
       "    <tr>\n",
       "      <td>AUC-ROC</td>\n",
       "      <td>0.848402</td>\n",
       "    </tr>\n",
       "    <tr>\n",
       "      <td>F1</td>\n",
       "      <td>0.622721</td>\n",
       "    </tr>\n",
       "    <tr>\n",
       "      <td>Accuracy</td>\n",
       "      <td>0.865500</td>\n",
       "    </tr>\n",
       "  </tbody>\n",
       "</table>\n",
       "</div>"
      ],
      "text/plain": [
       "          metric_result\n",
       "AUC-ROC        0.848402\n",
       "F1             0.622721\n",
       "Accuracy       0.865500"
      ]
     },
     "execution_count": 482,
     "metadata": {},
     "output_type": "execute_result"
    }
   ],
   "source": [
    "metrics_model(best_model_tree)"
   ]
  },
  {
   "cell_type": "markdown",
   "metadata": {},
   "source": [
    "Построим график ROC кривую для лучшей модели дерева решений и матрицу ошибок."
   ]
  },
  {
   "cell_type": "code",
   "execution_count": 483,
   "metadata": {},
   "outputs": [
    {
     "data": {
      "image/png": "[encoded data removed]",
      "text/plain": [
       "<Figure size 432x288 with 1 Axes>"
      ]
     },
     "metadata": {
      "needs_background": "light"
     },
     "output_type": "display_data"
    }
   ],
   "source": [
    "plot_ROC(fpr_t, tpr_t, name='ROC-кривая модели дерева решений')\n",
    "plt.show()"
   ]
  },
  {
   "cell_type": "markdown",
   "metadata": {},
   "source": [
    "Матрица ошибок для лучшей модели дерева решений."
   ]
  },
  {
   "cell_type": "code",
   "execution_count": 484,
   "metadata": {
    "scrolled": true
   },
   "outputs": [
    {
     "data": {
      "image/png": "[encoded data removed]",
      "text/plain": [
       "<Figure size 432x288 with 2 Axes>"
      ]
     },
     "metadata": {
      "needs_background": "light"
     },
     "output_type": "display_data"
    }
   ],
   "source": [
    "heatmap_confusion_matrix(best_predictions=best_predicted_tree, \n",
    "                         name='Матрица ошибок модели дерево решений')\n",
    "plt.show()"
   ]
  },
  {
   "cell_type": "markdown",
   "metadata": {},
   "source": [
    "- **Гиперпараметры лучшей модели дерева решений - max_depth=12, min_samples_leaf=6, min_samples_split=74, random_state=5**\n",
    "- **F1 лучшей модели дерева решений - 0,62, AUC-ROC -0.84** \n",
    "- **Правильных прогнозов 1730, ложных - 270. Из 394 ответов класса 1 - 226 истинно положительных.**"
   ]
  },
  {
   "cell_type": "markdown",
   "metadata": {},
   "source": [
    "**Случайный лес**"
   ]
  },
  {
   "cell_type": "code",
   "execution_count": 485,
   "metadata": {},
   "outputs": [
    {
     "name": "stdout",
     "output_type": "stream",
     "text": [
      "F1 наилучшей модели на валидационной выборке: 0.581\n",
      "AUC-ROC наилучшей модели на валидационной выборке: 0.866\n",
      "Гиперпараметры лучшей модели: RandomForestClassifier(max_depth=18, min_samples_split=8, n_estimators=84,\n",
      "                       random_state=5)\n"
     ]
    }
   ],
   "source": [
    "best_result_forest_f1 = 0\n",
    "best_result_forest_auc = 0\n",
    "\n",
    "best_model_forest = None \n",
    "\n",
    "best_estimators_forest = 0\n",
    "best_depth_forest = 0\n",
    "\n",
    "for est in range(84, 86): # количество деревьев\n",
    "    \n",
    "    for depth in range(18, 19): # глубина деревьев\n",
    "        \n",
    "        for sample in range(8, 10):\n",
    "        \n",
    "\n",
    "            model = RandomForestClassifier(random_state=5, \n",
    "                                           n_estimators=est, \n",
    "                                           max_depth=depth, min_samples_split=sample) # модель\n",
    "\n",
    "            model.fit(features_train, target_train) # обучение на тренировочной выборке\n",
    "\n",
    "            predicted_valid = model.predict(features_valid)\n",
    "\n",
    "            result_f1 = f1_score(target_valid, predicted_valid, zero_division=0) # точность предсказаний на валидацонной выбоке\n",
    "\n",
    "            probabilities_valid = model.predict_proba(features_valid)\n",
    "            probabilities_one_valid = probabilities_valid[:, 1]\n",
    "\n",
    "            auc_roc = roc_auc_score(target_valid, probabilities_one_valid)\n",
    "\n",
    "\n",
    "            if result_f1 > best_result_forest_f1: # лучший результат\n",
    "\n",
    "                best_model_forest = model # сохранить лучшую модель\n",
    "                best_forest_predictions = predicted_valid # сохранить предсказания лучшей модели\n",
    "\n",
    "                best_result_forest_f1 = result_f1 # сохранить лучшие результаты\n",
    "                best_result_forest_auc = auc_roc\n",
    "\n",
    "                fpr_f, tpr_f, thresholds_f = roc_curve(target_valid, probabilities_one_valid)\n",
    "            \n",
    "print(f'F1 наилучшей модели на валидационной выборке: {best_result_forest_f1:.3}')  \n",
    "print(f'AUC-ROC наилучшей модели на валидационной выборке: {best_result_forest_auc:.3}')  \n",
    "print('Гиперпараметры лучшей модели:', best_model_forest)"
   ]
  },
  {
   "cell_type": "code",
   "execution_count": 486,
   "metadata": {},
   "outputs": [
    {
     "data": {
      "text/html": [
       "<div>\n",
       "<style scoped>\n",
       "    .dataframe tbody tr th:only-of-type {\n",
       "        vertical-align: middle;\n",
       "    }\n",
       "\n",
       "    .dataframe tbody tr th {\n",
       "        vertical-align: top;\n",
       "    }\n",
       "\n",
       "    .dataframe thead th {\n",
       "        text-align: right;\n",
       "    }\n",
       "</style>\n",
       "<table border=\"1\" class=\"dataframe\">\n",
       "  <thead>\n",
       "    <tr style=\"text-align: right;\">\n",
       "      <th></th>\n",
       "      <th>metric_result</th>\n",
       "    </tr>\n",
       "  </thead>\n",
       "  <tbody>\n",
       "    <tr>\n",
       "      <td>AUC-ROC</td>\n",
       "      <td>0.866298</td>\n",
       "    </tr>\n",
       "    <tr>\n",
       "      <td>F1</td>\n",
       "      <td>0.580848</td>\n",
       "    </tr>\n",
       "    <tr>\n",
       "      <td>Accuracy</td>\n",
       "      <td>0.866500</td>\n",
       "    </tr>\n",
       "  </tbody>\n",
       "</table>\n",
       "</div>"
      ],
      "text/plain": [
       "          metric_result\n",
       "AUC-ROC        0.866298\n",
       "F1             0.580848\n",
       "Accuracy       0.866500"
      ]
     },
     "execution_count": 486,
     "metadata": {},
     "output_type": "execute_result"
    }
   ],
   "source": [
    "metrics_model(best_model_forest)"
   ]
  },
  {
   "cell_type": "code",
   "execution_count": 487,
   "metadata": {},
   "outputs": [
    {
     "data": {
      "image/png": "[encoded data removed]",
      "text/plain": [
       "<Figure size 432x288 with 1 Axes>"
      ]
     },
     "metadata": {
      "needs_background": "light"
     },
     "output_type": "display_data"
    }
   ],
   "source": [
    "plot_ROC(fpr_f, tpr_f, name='ROC-кривая модели случайного леса')\n",
    "plt.show()"
   ]
  },
  {
   "cell_type": "code",
   "execution_count": 488,
   "metadata": {},
   "outputs": [
    {
     "data": {
      "image/png": "[encoded data removed]",
      "text/plain": [
       "<Figure size 432x288 with 2 Axes>"
      ]
     },
     "metadata": {
      "needs_background": "light"
     },
     "output_type": "display_data"
    },
    {
     "data": {
      "text/plain": [
       "0    1606\n",
       "1     394\n",
       "Name: exited, dtype: int64"
      ]
     },
     "execution_count": 488,
     "metadata": {},
     "output_type": "execute_result"
    }
   ],
   "source": [
    "heatmap_confusion_matrix(best_predictions=best_forest_predictions, \n",
    "                         name='Матрица ошибок модели случайного леса')\n",
    "plt.show()\n",
    "target_valid.value_counts()"
   ]
  },
  {
   "cell_type": "markdown",
   "metadata": {},
   "source": [
    "- **Гиперпараметры лучшей модели случайного леса - max_depth=18, min_samples_split=8, n_estimators=84, random_state=5**\n",
    "- **F1 лучшей модели дерева решений - 0,59, AUC-ROC - 0.87** \n",
    "- **Истиных прогнозов 1747, ложных - 259. Из 394 ответов класса 1 - 187 истинно положительных.**"
   ]
  },
  {
   "cell_type": "markdown",
   "metadata": {},
   "source": [
    "**Логистическая регрессия**"
   ]
  },
  {
   "cell_type": "code",
   "execution_count": 489,
   "metadata": {},
   "outputs": [
    {
     "data": {
      "text/html": [
       "<div>\n",
       "<style scoped>\n",
       "    .dataframe tbody tr th:only-of-type {\n",
       "        vertical-align: middle;\n",
       "    }\n",
       "\n",
       "    .dataframe tbody tr th {\n",
       "        vertical-align: top;\n",
       "    }\n",
       "\n",
       "    .dataframe thead th {\n",
       "        text-align: right;\n",
       "    }\n",
       "</style>\n",
       "<table border=\"1\" class=\"dataframe\">\n",
       "  <thead>\n",
       "    <tr style=\"text-align: right;\">\n",
       "      <th></th>\n",
       "      <th>metric_result</th>\n",
       "    </tr>\n",
       "  </thead>\n",
       "  <tbody>\n",
       "    <tr>\n",
       "      <td>AUC-ROC</td>\n",
       "      <td>0.747016</td>\n",
       "    </tr>\n",
       "    <tr>\n",
       "      <td>F1</td>\n",
       "      <td>0.288973</td>\n",
       "    </tr>\n",
       "    <tr>\n",
       "      <td>Accuracy</td>\n",
       "      <td>0.813000</td>\n",
       "    </tr>\n",
       "  </tbody>\n",
       "</table>\n",
       "</div>"
      ],
      "text/plain": [
       "          metric_result\n",
       "AUC-ROC        0.747016\n",
       "F1             0.288973\n",
       "Accuracy       0.813000"
      ]
     },
     "execution_count": 489,
     "metadata": {},
     "output_type": "execute_result"
    }
   ],
   "source": [
    "model_logistic = LogisticRegression(penalty='l2', random_state=5, solver='lbfgs', C=3)\n",
    "\n",
    "model_logistic.fit(features_train, target_train)\n",
    "\n",
    "predictions_logistic = model_logistic.predict(features_valid)\n",
    "\n",
    "probabilities_valid_lg = model_logistic.predict_proba(features_valid)\n",
    "probabilities_one_valid_lg = probabilities_valid_lg[:, 1]\n",
    "\n",
    "fpr_lg, tpr_lg, thresholds_lg = roc_curve(target_valid, probabilities_one_valid_lg)\n",
    "\n",
    "result_f1_log = f1_score(target_valid, predictions_logistic)\n",
    "result_f1_log\n",
    "\n",
    "metrics_model(model_logistic)"
   ]
  },
  {
   "cell_type": "code",
   "execution_count": 490,
   "metadata": {},
   "outputs": [
    {
     "data": {
      "image/png": "[encoded data removed]",
      "text/plain": [
       "<Figure size 432x288 with 1 Axes>"
      ]
     },
     "metadata": {
      "needs_background": "light"
     },
     "output_type": "display_data"
    }
   ],
   "source": [
    "plot_ROC(fpr_lg, tpr_lg, name='ROC-кривая модели логистической регрессии')\n",
    "plt.show()"
   ]
  },
  {
   "cell_type": "code",
   "execution_count": 491,
   "metadata": {},
   "outputs": [
    {
     "data": {
      "image/png": "[encoded data removed]",
      "text/plain": [
       "<Figure size 432x288 with 2 Axes>"
      ]
     },
     "metadata": {
      "needs_background": "light"
     },
     "output_type": "display_data"
    },
    {
     "data": {
      "text/plain": [
       "0    1606\n",
       "1     394\n",
       "Name: exited, dtype: int64"
      ]
     },
     "execution_count": 491,
     "metadata": {},
     "output_type": "execute_result"
    }
   ],
   "source": [
    "heatmap_confusion_matrix(best_predictions=predictions_logistic, \n",
    "                         name='Матрица ошибок модели логистической регрессии')\n",
    "plt.show()\n",
    "target_valid.value_counts()"
   ]
  },
  {
   "cell_type": "markdown",
   "metadata": {},
   "source": [
    "- **построена модель логистической регрессии с гиперпараметрами penalty='l2', random_state=5, solver='lbfgs', C=3**\n",
    "- **метрика F1-0.28, AUC-ROC-0.86.**\n",
    "- **истинных предсказаний целевого признака 0 - 1548, 1 - 76.**"
   ]
  },
  {
   "cell_type": "markdown",
   "metadata": {},
   "source": [
    "**Вывод**\n",
    "***\n",
    "- построены три модели - модель дерева решений, случайного леса и логистической регрессии без учета дисбаланса классов.\n",
    "- лучший результат метрики F1 0,62 у модели дерева решений с гиперпараметрами max_depth=12, min_samples_leaf=6, min_samples_split=72, random_state=5, истинно положительных предсказаний так же, больше у данной модели.\n",
    "- модель логистической регрессии показала наихудший результат метрики F1- 0,29. \n",
    "- классы целевого признака распределены в отношении 4:1 (0,1 соответственно)."
   ]
  },
  {
   "cell_type": "markdown",
   "metadata": {},
   "source": [
    "## Борьба с дисбалансом"
   ]
  },
  {
   "cell_type": "markdown",
   "metadata": {},
   "source": [
    "### Гиперпараметры моделей"
   ]
  },
  {
   "cell_type": "markdown",
   "metadata": {},
   "source": [
    "Как было выяснено ранее, баланс класса 1 - в 4 раза ниже, чем класса 0.   \n",
    "\n",
    "Возмем за основу модели с лучшими гиперпараметрами и сбалансируем классы, добавив гиперпараметр баланс классов.   \n",
    "Посмотрим как изменятся метрики F1 и AUC-ROC."
   ]
  },
  {
   "cell_type": "code",
   "execution_count": 492,
   "metadata": {},
   "outputs": [
    {
     "data": {
      "text/plain": [
       "DecisionTreeClassifier(max_depth=12, min_samples_leaf=6, min_samples_split=90,\n",
       "                       random_state=5)"
      ]
     },
     "execution_count": 492,
     "metadata": {},
     "output_type": "execute_result"
    }
   ],
   "source": [
    "best_model_tree"
   ]
  },
  {
   "cell_type": "code",
   "execution_count": 493,
   "metadata": {},
   "outputs": [
    {
     "data": {
      "text/html": [
       "<div>\n",
       "<style scoped>\n",
       "    .dataframe tbody tr th:only-of-type {\n",
       "        vertical-align: middle;\n",
       "    }\n",
       "\n",
       "    .dataframe tbody tr th {\n",
       "        vertical-align: top;\n",
       "    }\n",
       "\n",
       "    .dataframe thead th {\n",
       "        text-align: right;\n",
       "    }\n",
       "</style>\n",
       "<table border=\"1\" class=\"dataframe\">\n",
       "  <thead>\n",
       "    <tr style=\"text-align: right;\">\n",
       "      <th></th>\n",
       "      <th>metric_result</th>\n",
       "    </tr>\n",
       "  </thead>\n",
       "  <tbody>\n",
       "    <tr>\n",
       "      <td>AUC-ROC</td>\n",
       "      <td>0.851460</td>\n",
       "    </tr>\n",
       "    <tr>\n",
       "      <td>F1</td>\n",
       "      <td>0.584906</td>\n",
       "    </tr>\n",
       "    <tr>\n",
       "      <td>Accuracy</td>\n",
       "      <td>0.780000</td>\n",
       "    </tr>\n",
       "  </tbody>\n",
       "</table>\n",
       "</div>"
      ],
      "text/plain": [
       "          metric_result\n",
       "AUC-ROC        0.851460\n",
       "F1             0.584906\n",
       "Accuracy       0.780000"
      ]
     },
     "execution_count": 493,
     "metadata": {},
     "output_type": "execute_result"
    }
   ],
   "source": [
    "balanced_model_tree = DecisionTreeClassifier(random_state=5, max_depth=9, \n",
    "                                             min_samples_split = 72, min_samples_leaf=6,\n",
    "                                             class_weight='balanced')                              \n",
    "\n",
    "balanced_model_tree.fit(features_train, target_train)\n",
    "\n",
    "predicted_valid_tb = balanced_model_tree.predict(features_valid)\n",
    "\n",
    "probabilities_valid_tb = balanced_model_tree.predict_proba(features_valid)\n",
    "probabilities_one_valid_tb = probabilities_valid_tb[:, 1]\n",
    "\n",
    "fpr_tb, tpr_tb, thresholds_tb = roc_curve(target_valid, probabilities_one_valid_tb)\n",
    "\n",
    "metrics_model(balanced_model_tree)"
   ]
  },
  {
   "cell_type": "code",
   "execution_count": 494,
   "metadata": {},
   "outputs": [
    {
     "data": {
      "text/html": [
       "<div>\n",
       "<style scoped>\n",
       "    .dataframe tbody tr th:only-of-type {\n",
       "        vertical-align: middle;\n",
       "    }\n",
       "\n",
       "    .dataframe tbody tr th {\n",
       "        vertical-align: top;\n",
       "    }\n",
       "\n",
       "    .dataframe thead th {\n",
       "        text-align: right;\n",
       "    }\n",
       "</style>\n",
       "<table border=\"1\" class=\"dataframe\">\n",
       "  <thead>\n",
       "    <tr style=\"text-align: right;\">\n",
       "      <th></th>\n",
       "      <th>metric_result</th>\n",
       "    </tr>\n",
       "  </thead>\n",
       "  <tbody>\n",
       "    <tr>\n",
       "      <td>AUC-ROC</td>\n",
       "      <td>0.839496</td>\n",
       "    </tr>\n",
       "    <tr>\n",
       "      <td>F1</td>\n",
       "      <td>0.628032</td>\n",
       "    </tr>\n",
       "    <tr>\n",
       "      <td>Accuracy</td>\n",
       "      <td>0.862000</td>\n",
       "    </tr>\n",
       "  </tbody>\n",
       "</table>\n",
       "</div>"
      ],
      "text/plain": [
       "          metric_result\n",
       "AUC-ROC        0.839496\n",
       "F1             0.628032\n",
       "Accuracy       0.862000"
      ]
     },
     "execution_count": 494,
     "metadata": {},
     "output_type": "execute_result"
    }
   ],
   "source": [
    "balanced_model_tree = DecisionTreeClassifier(random_state=5, max_depth=9, \n",
    "                                             min_samples_split = 72, min_samples_leaf=6, \n",
    "                                             class_weight={0: 0.4, 1: 0.6})\n",
    "\n",
    "balanced_model_tree.fit(features_train, target_train)\n",
    "\n",
    "predicted_valid_tb = balanced_model_tree.predict(features_valid)\n",
    "\n",
    "metrics_model(balanced_model_tree)"
   ]
  },
  {
   "cell_type": "markdown",
   "metadata": {},
   "source": [
    "Только в случае применения гиперпараметра  class_weight={0: 0.4, 1: 0.6} удается добится результата метрики F1 выше на 0,4, чем без учета баланса классов. При добавлении class_weight='balanced' метрика F1 снижается."
   ]
  },
  {
   "cell_type": "code",
   "execution_count": 495,
   "metadata": {},
   "outputs": [
    {
     "data": {
      "image/png": "[encoded data removed]",
      "text/plain": [
       "<Figure size 432x288 with 2 Axes>"
      ]
     },
     "metadata": {
      "needs_background": "light"
     },
     "output_type": "display_data"
    }
   ],
   "source": [
    "heatmap_confusion_matrix(best_predictions=predicted_valid_tb, \n",
    "                         name='Матрица ошибок модели дерево решений')\n",
    "plt.show()"
   ]
  },
  {
   "cell_type": "markdown",
   "metadata": {},
   "source": [
    "При этом, количество истинно положительных ответов увеличилось, по сравнению с моделью без учета баланса классов."
   ]
  },
  {
   "cell_type": "code",
   "execution_count": 496,
   "metadata": {},
   "outputs": [
    {
     "data": {
      "text/html": [
       "<div>\n",
       "<style scoped>\n",
       "    .dataframe tbody tr th:only-of-type {\n",
       "        vertical-align: middle;\n",
       "    }\n",
       "\n",
       "    .dataframe tbody tr th {\n",
       "        vertical-align: top;\n",
       "    }\n",
       "\n",
       "    .dataframe thead th {\n",
       "        text-align: right;\n",
       "    }\n",
       "</style>\n",
       "<table border=\"1\" class=\"dataframe\">\n",
       "  <thead>\n",
       "    <tr style=\"text-align: right;\">\n",
       "      <th></th>\n",
       "      <th>metric_result</th>\n",
       "    </tr>\n",
       "  </thead>\n",
       "  <tbody>\n",
       "    <tr>\n",
       "      <td>AUC-ROC</td>\n",
       "      <td>0.864054</td>\n",
       "    </tr>\n",
       "    <tr>\n",
       "      <td>F1</td>\n",
       "      <td>0.589313</td>\n",
       "    </tr>\n",
       "    <tr>\n",
       "      <td>Accuracy</td>\n",
       "      <td>0.865500</td>\n",
       "    </tr>\n",
       "  </tbody>\n",
       "</table>\n",
       "</div>"
      ],
      "text/plain": [
       "          metric_result\n",
       "AUC-ROC        0.864054\n",
       "F1             0.589313\n",
       "Accuracy       0.865500"
      ]
     },
     "execution_count": 496,
     "metadata": {},
     "output_type": "execute_result"
    }
   ],
   "source": [
    "model = RandomForestClassifier(max_depth=18, min_samples_split=8, n_estimators=84, \n",
    "                               random_state=5, class_weight={0: 0.4, 1: 0.6})\n",
    "\n",
    "model.fit(features_train, target_train)\n",
    "\n",
    "predicted_valid  = model.predict(features_valid)\n",
    "\n",
    "metrics_model(model)"
   ]
  },
  {
   "cell_type": "code",
   "execution_count": 497,
   "metadata": {},
   "outputs": [
    {
     "data": {
      "image/png": "[encoded data removed]",
      "text/plain": [
       "<Figure size 432x288 with 2 Axes>"
      ]
     },
     "metadata": {
      "needs_background": "light"
     },
     "output_type": "display_data"
    }
   ],
   "source": [
    "heatmap_confusion_matrix(best_predictions=predicted_valid, \n",
    "                         name='Матрица ошибок модели случайного леса')\n",
    "plt.show()"
   ]
  },
  {
   "cell_type": "markdown",
   "metadata": {},
   "source": [
    "**Вывод**\n",
    "***\n",
    "\n",
    "Метрика F1 увеличилась для модели случайного леса на 1.4  при установке гиперпараметра class_weight={0: 0.3, 1: 0.7}, и увеличилась для модели дерева решений с 0,626 до 0,63  "
   ]
  },
  {
   "cell_type": "markdown",
   "metadata": {},
   "source": [
    "### Уменьшение и увеличение выборки"
   ]
  },
  {
   "cell_type": "markdown",
   "metadata": {},
   "source": [
    "Приведем баланс классов техникой upsamling и downsample. Увеличим баланс класса 1 и уменьшим баланс класса 0. Проведем обучение модели на новых выборках.\n",
    "\n",
    "Функция upsample увеличивает в выборке признак 1 в заданное количество раз, функция downsample уменьшает прзнак 0 на заданное чилло."
   ]
  },
  {
   "cell_type": "code",
   "execution_count": 498,
   "metadata": {},
   "outputs": [],
   "source": [
    "# функция для увеличения признака 1\n",
    "def upsample(features, target, repeat):\n",
    "    \n",
    "    features_zeros = features[target == 0]\n",
    "    features_ones = features[target == 1]\n",
    "    target_zeros = target[target == 0]\n",
    "    target_ones = target[target == 1]\n",
    "    \n",
    "    features_upsampled = pd.concat([features_zeros] + [features_ones] * repeat)\n",
    "    target_upsampled = pd.concat([target_zeros] + [target_ones] * repeat)\n",
    "    \n",
    "    features_upsampled, target_upsampled = shuffle(\n",
    "        features_upsampled, target_upsampled, random_state=12345)\n",
    "    \n",
    "    return features_upsampled, target_upsampled"
   ]
  },
  {
   "cell_type": "code",
   "execution_count": 499,
   "metadata": {},
   "outputs": [],
   "source": [
    "# функция для уменьшения признака 0\n",
    "def downsample(features, target, fraction):\n",
    "    features_zeros = features[target == 0]\n",
    "    features_ones = features[target == 1]\n",
    "    target_zeros = target[target == 0]\n",
    "    target_ones = target[target == 1]\n",
    "\n",
    "    features_downsampled = pd.concat(\n",
    "        [features_zeros.sample(frac=fraction, random_state=12345)] + [features_ones])\n",
    "    target_downsampled = pd.concat(\n",
    "        [target_zeros.sample(frac=fraction, random_state=12345)] + [target_ones])\n",
    "    \n",
    "    features_downsampled, target_downsampled = shuffle(\n",
    "        features_downsampled, target_downsampled, random_state=12345)\n",
    "    \n",
    "    return features_downsampled, target_downsampled\n",
    "\n"
   ]
  },
  {
   "cell_type": "markdown",
   "metadata": {},
   "source": [
    "Увеличим признак 1 (факт ухода клиента) в 2 раза в обучающей выборке. Данные сохраним в новые переменные features_upsampled, target_upsampled."
   ]
  },
  {
   "cell_type": "code",
   "execution_count": 500,
   "metadata": {},
   "outputs": [],
   "source": [
    "features_upsampled, target_upsampled = upsample(features_train, target_train, 2)"
   ]
  },
  {
   "cell_type": "markdown",
   "metadata": {},
   "source": [
    "Проверим количество класса целевого признака после увеличения в выборке признака 1."
   ]
  },
  {
   "cell_type": "code",
   "execution_count": 501,
   "metadata": {},
   "outputs": [
    {
     "name": "stdout",
     "output_type": "stream",
     "text": [
      "Количество объектов с классом 1 до увеличения выборки 1239\n",
      "Количество объектов с классом 1 после увеличения выборки 2478\n"
     ]
    }
   ],
   "source": [
    "print('Количество объектов с классом 1 до увеличения выборки', target_train.value_counts()[1])\n",
    "print('Количество объектов с классом 1 после увеличения выборки', target_upsampled.value_counts()[1])"
   ]
  },
  {
   "cell_type": "markdown",
   "metadata": {},
   "source": [
    "Обучим модель по новой выборке."
   ]
  },
  {
   "cell_type": "code",
   "execution_count": 502,
   "metadata": {},
   "outputs": [
    {
     "data": {
      "text/plain": [
       "DecisionTreeClassifier(max_depth=12, min_samples_leaf=6, min_samples_split=90,\n",
       "                       random_state=5)"
      ]
     },
     "execution_count": 502,
     "metadata": {},
     "output_type": "execute_result"
    }
   ],
   "source": [
    "best_model_tree"
   ]
  },
  {
   "cell_type": "code",
   "execution_count": 503,
   "metadata": {},
   "outputs": [
    {
     "data": {
      "text/html": [
       "<div>\n",
       "<style scoped>\n",
       "    .dataframe tbody tr th:only-of-type {\n",
       "        vertical-align: middle;\n",
       "    }\n",
       "\n",
       "    .dataframe tbody tr th {\n",
       "        vertical-align: top;\n",
       "    }\n",
       "\n",
       "    .dataframe thead th {\n",
       "        text-align: right;\n",
       "    }\n",
       "</style>\n",
       "<table border=\"1\" class=\"dataframe\">\n",
       "  <thead>\n",
       "    <tr style=\"text-align: right;\">\n",
       "      <th></th>\n",
       "      <th>metric_result</th>\n",
       "    </tr>\n",
       "  </thead>\n",
       "  <tbody>\n",
       "    <tr>\n",
       "      <td>AUC-ROC</td>\n",
       "      <td>0.845994</td>\n",
       "    </tr>\n",
       "    <tr>\n",
       "      <td>F1</td>\n",
       "      <td>0.607443</td>\n",
       "    </tr>\n",
       "    <tr>\n",
       "      <td>Accuracy</td>\n",
       "      <td>0.836500</td>\n",
       "    </tr>\n",
       "  </tbody>\n",
       "</table>\n",
       "</div>"
      ],
      "text/plain": [
       "          metric_result\n",
       "AUC-ROC        0.845994\n",
       "F1             0.607443\n",
       "Accuracy       0.836500"
      ]
     },
     "execution_count": 503,
     "metadata": {},
     "output_type": "execute_result"
    }
   ],
   "source": [
    "best_model_tree.fit(features_upsampled, target_upsampled)\n",
    "\n",
    "predicted_valid_up = best_model_tree.predict(features_valid)\n",
    "\n",
    "probabilities_valid_up = best_model_tree.predict_proba(features_valid)\n",
    "probabilities_one_valid_up = probabilities_valid_up[:, 1]\n",
    "\n",
    "fpr_up, tpr_up, thresholds_up = roc_curve(target_valid, probabilities_one_valid_up)\n",
    "\n",
    "metrics_model(best_model_tree)"
   ]
  },
  {
   "cell_type": "code",
   "execution_count": 504,
   "metadata": {},
   "outputs": [],
   "source": [
    "features_sampled, target_sampled = downsample(features_upsampled, target_upsampled, .7)"
   ]
  },
  {
   "cell_type": "code",
   "execution_count": 505,
   "metadata": {
    "scrolled": true
   },
   "outputs": [
    {
     "name": "stdout",
     "output_type": "stream",
     "text": [
      "F1 лучшей модели дерева решений: 0.623\n",
      "AUC-ROC лучшей модели дерева решений: 0.848\n",
      "Гиперпараметры лучшей модели: DecisionTreeClassifier(max_depth=9, min_samples_leaf=8, min_samples_split=40,\n",
      "                       random_state=5)\n"
     ]
    }
   ],
   "source": [
    "best_model_tree_sampled = None\n",
    "best_result_tree_sampled = 0\n",
    "best_depth_sampled = 0\n",
    "best_sample_sampled = 0\n",
    "best_auc_roc_sampled = 0 \n",
    "\n",
    "for depth in range(1, 15): # глубина дерева от 1 до 6\n",
    "    \n",
    "    for sample in range(39, 45): # минимальное количество выборок для разделения вн. узла \n",
    "        \n",
    "        for leaf in range(1, 10):\n",
    "            \n",
    "            model_tree = DecisionTreeClassifier(random_state=5, \n",
    "                                           max_depth=depth, \n",
    "                                           min_samples_split = sample,\n",
    "                                           min_samples_leaf=leaf) # создание модели\n",
    "\n",
    "            model_tree.fit(features_sampled, target_sampled) # обучение на обучающей выборке\n",
    "\n",
    "            predicted_valid = model_tree.predict(features_valid)\n",
    "\n",
    "            result_f1 = f1_score(target_valid, predicted_valid, zero_division=0) # оценка точности предсказаний на вал. выборке \n",
    "\n",
    "            probabilities_valid = model_tree.predict_proba(features_valid)\n",
    "            probabilities_one_valid = probabilities_valid[:, 1]\n",
    "\n",
    "            auc_roc = roc_auc_score(target_valid, probabilities_one_valid)\n",
    "\n",
    "            if result_f1 > best_result_tree_sampled: # сохранение параметров лучшей модели по F1\n",
    "                \n",
    "                best_model_tree_sampled = model_tree\n",
    "                best_predicted_tree_sampled = predicted_valid\n",
    "\n",
    "                best_result_tree_sampled = result_f1\n",
    "                best_auc_roc_sampled = auc_roc \n",
    "\n",
    "                fpr_ts, tpr_ts, thresholds_ts = roc_curve(target_valid, probabilities_one_valid)\n",
    "\n",
    "print(f'F1 лучшей модели дерева решений: {best_result_tree:.3}')\n",
    "print(f'AUC-ROC лучшей модели дерева решений: {best_auc_roc:.3}')\n",
    "print('Гиперпараметры лучшей модели:', best_model_tree_sampled)"
   ]
  },
  {
   "cell_type": "markdown",
   "metadata": {},
   "source": [
    "На моделе дерева решений на метрику F1 больше влияет подбор гиперпараметров, чем увеличение/уменьшение выборок. После сэмплирования метрика F1 снизилась на 0.1 для модели с гиперпараметрами, которые были подобраны до балансировки классов.  \n",
    "\n",
    "Рассмотрим то же для модели случаного леса."
   ]
  },
  {
   "cell_type": "code",
   "execution_count": 506,
   "metadata": {},
   "outputs": [
    {
     "data": {
      "text/plain": [
       "RandomForestClassifier(max_depth=18, min_samples_split=8, n_estimators=84,\n",
       "                       random_state=5)"
      ]
     },
     "execution_count": 506,
     "metadata": {},
     "output_type": "execute_result"
    }
   ],
   "source": [
    "best_model_forest"
   ]
  },
  {
   "cell_type": "code",
   "execution_count": 507,
   "metadata": {},
   "outputs": [
    {
     "data": {
      "text/html": [
       "<div>\n",
       "<style scoped>\n",
       "    .dataframe tbody tr th:only-of-type {\n",
       "        vertical-align: middle;\n",
       "    }\n",
       "\n",
       "    .dataframe tbody tr th {\n",
       "        vertical-align: top;\n",
       "    }\n",
       "\n",
       "    .dataframe thead th {\n",
       "        text-align: right;\n",
       "    }\n",
       "</style>\n",
       "<table border=\"1\" class=\"dataframe\">\n",
       "  <thead>\n",
       "    <tr style=\"text-align: right;\">\n",
       "      <th></th>\n",
       "      <th>metric_result</th>\n",
       "    </tr>\n",
       "  </thead>\n",
       "  <tbody>\n",
       "    <tr>\n",
       "      <td>AUC-ROC</td>\n",
       "      <td>0.868354</td>\n",
       "    </tr>\n",
       "    <tr>\n",
       "      <td>F1</td>\n",
       "      <td>0.628429</td>\n",
       "    </tr>\n",
       "    <tr>\n",
       "      <td>Accuracy</td>\n",
       "      <td>0.851000</td>\n",
       "    </tr>\n",
       "  </tbody>\n",
       "</table>\n",
       "</div>"
      ],
      "text/plain": [
       "          metric_result\n",
       "AUC-ROC        0.868354\n",
       "F1             0.628429\n",
       "Accuracy       0.851000"
      ]
     },
     "execution_count": 507,
     "metadata": {},
     "output_type": "execute_result"
    }
   ],
   "source": [
    "best_model_forest.fit(features_sampled, target_sampled)\n",
    "\n",
    "predicted_valid_f = best_model_forest.predict(features_valid)\n",
    "\n",
    "probabilities_valid_ff = best_model_forest.predict_proba(features_valid)\n",
    "probabilities_one_valid_ff = probabilities_valid_ff[:, 1]\n",
    "\n",
    "fpr_ff, tpr_ff, thresholds_ff = roc_curve(target_valid, probabilities_one_valid_ff)\n",
    "\n",
    "metrics_model(best_model_forest)"
   ]
  },
  {
   "cell_type": "markdown",
   "metadata": {},
   "source": [
    "Для модели случайного леса достигнута путем балансировки классов метрика F1 в 0,63, при этом без уета баланса метрика была равна 0,59."
   ]
  },
  {
   "cell_type": "code",
   "execution_count": 508,
   "metadata": {},
   "outputs": [
    {
     "data": {
      "image/png": "[encoded data removed]",
      "text/plain": [
       "<Figure size 432x288 with 2 Axes>"
      ]
     },
     "metadata": {
      "needs_background": "light"
     },
     "output_type": "display_data"
    }
   ],
   "source": [
    "heatmap_confusion_matrix(best_predictions=predicted_valid_f, \n",
    "                         name='Матрица ошибок модели случайного леса после балансировки')\n",
    "plt.show()"
   ]
  },
  {
   "cell_type": "markdown",
   "metadata": {},
   "source": [
    "Увеличилось для модели случайного леса и количество истинно положительных предсказаний с 187 до 249."
   ]
  },
  {
   "cell_type": "markdown",
   "metadata": {},
   "source": [
    "**Вывод**\n",
    "***\n",
    "- Было достигнуто значение метрики F1 на валидационной выборке для модели случаного леса - 0,63, для модели дерева решений - 0,62.\n",
    "- Изменились гиперпараметры для модели дерева решений после обучения на сбалансированной выборках.\n",
    "- Гиперпараметр class_weight практически не повлиял на метрику F1 для модели дерева решений.\n",
    "- В обучающей выборке в 2 раза был увеличен класс 1 и в 0.7 раз уменьшен класс 0."
   ]
  },
  {
   "cell_type": "markdown",
   "metadata": {},
   "source": [
    "## Тестирование модели"
   ]
  },
  {
   "cell_type": "markdown",
   "metadata": {},
   "source": [
    "Протестируем лучшие модели дерева решений и случайного леса на тестовой выборке.  \n",
    "Напишем функцию для расчета метрик F1 и ROC_AUC и accuracy на тестовой выборке metrics_model_test."
   ]
  },
  {
   "cell_type": "markdown",
   "metadata": {},
   "source": [
    "Лучшая модель дерева решений, обученная на сбалансированной выборке."
   ]
  },
  {
   "cell_type": "code",
   "execution_count": 511,
   "metadata": {},
   "outputs": [
    {
     "data": {
      "text/plain": [
       "DecisionTreeClassifier(max_depth=9, min_samples_leaf=8, min_samples_split=40,\n",
       "                       random_state=5)"
      ]
     },
     "execution_count": 511,
     "metadata": {},
     "output_type": "execute_result"
    }
   ],
   "source": [
    "# модель дерева решений на сбалансированной выборке\n",
    "best_model_tree_sampled"
   ]
  },
  {
   "cell_type": "code",
   "execution_count": 512,
   "metadata": {},
   "outputs": [
    {
     "data": {
      "text/html": [
       "<div>\n",
       "<style scoped>\n",
       "    .dataframe tbody tr th:only-of-type {\n",
       "        vertical-align: middle;\n",
       "    }\n",
       "\n",
       "    .dataframe tbody tr th {\n",
       "        vertical-align: top;\n",
       "    }\n",
       "\n",
       "    .dataframe thead th {\n",
       "        text-align: right;\n",
       "    }\n",
       "</style>\n",
       "<table border=\"1\" class=\"dataframe\">\n",
       "  <thead>\n",
       "    <tr style=\"text-align: right;\">\n",
       "      <th></th>\n",
       "      <th>metric_result</th>\n",
       "    </tr>\n",
       "  </thead>\n",
       "  <tbody>\n",
       "    <tr>\n",
       "      <td>AUC-ROC</td>\n",
       "      <td>0.824551</td>\n",
       "    </tr>\n",
       "    <tr>\n",
       "      <td>F1</td>\n",
       "      <td>0.575630</td>\n",
       "    </tr>\n",
       "    <tr>\n",
       "      <td>Accuracy</td>\n",
       "      <td>0.798000</td>\n",
       "    </tr>\n",
       "  </tbody>\n",
       "</table>\n",
       "</div>"
      ],
      "text/plain": [
       "          metric_result\n",
       "AUC-ROC        0.824551\n",
       "F1             0.575630\n",
       "Accuracy       0.798000"
      ]
     },
     "execution_count": 512,
     "metadata": {},
     "output_type": "execute_result"
    }
   ],
   "source": [
    "prediction_tree_test_sampled = best_model_tree_sampled.predict(features_test)\n",
    "\n",
    "\n",
    "metrics_model(best_model_tree_sampled, features=features_test, target=target_test)"
   ]
  },
  {
   "cell_type": "markdown",
   "metadata": {},
   "source": [
    "Модель показала метрику F1 - 0,59.\n",
    "Протестируем модель дерева решений, обученную на несбалансированной выборке."
   ]
  },
  {
   "cell_type": "code",
   "execution_count": 513,
   "metadata": {
    "scrolled": true
   },
   "outputs": [
    {
     "data": {
      "text/plain": [
       "DecisionTreeClassifier(class_weight={0: 0.4, 1: 0.6}, max_depth=9,\n",
       "                       min_samples_leaf=6, min_samples_split=72,\n",
       "                       random_state=5)"
      ]
     },
     "execution_count": 513,
     "metadata": {},
     "output_type": "execute_result"
    }
   ],
   "source": [
    "# модель дерева решений на несбалансированной выборке\n",
    "balanced_model_tree"
   ]
  },
  {
   "cell_type": "code",
   "execution_count": 514,
   "metadata": {},
   "outputs": [
    {
     "data": {
      "text/html": [
       "<div>\n",
       "<style scoped>\n",
       "    .dataframe tbody tr th:only-of-type {\n",
       "        vertical-align: middle;\n",
       "    }\n",
       "\n",
       "    .dataframe tbody tr th {\n",
       "        vertical-align: top;\n",
       "    }\n",
       "\n",
       "    .dataframe thead th {\n",
       "        text-align: right;\n",
       "    }\n",
       "</style>\n",
       "<table border=\"1\" class=\"dataframe\">\n",
       "  <thead>\n",
       "    <tr style=\"text-align: right;\">\n",
       "      <th></th>\n",
       "      <th>metric_result</th>\n",
       "    </tr>\n",
       "  </thead>\n",
       "  <tbody>\n",
       "    <tr>\n",
       "      <td>AUC-ROC</td>\n",
       "      <td>0.842405</td>\n",
       "    </tr>\n",
       "    <tr>\n",
       "      <td>F1</td>\n",
       "      <td>0.615588</td>\n",
       "    </tr>\n",
       "    <tr>\n",
       "      <td>Accuracy</td>\n",
       "      <td>0.854500</td>\n",
       "    </tr>\n",
       "  </tbody>\n",
       "</table>\n",
       "</div>"
      ],
      "text/plain": [
       "          metric_result\n",
       "AUC-ROC        0.842405\n",
       "F1             0.615588\n",
       "Accuracy       0.854500"
      ]
     },
     "execution_count": 514,
     "metadata": {},
     "output_type": "execute_result"
    }
   ],
   "source": [
    "prediction_tree_test = balanced_model_tree.predict(features_test)\n",
    "\n",
    "metrics_model(balanced_model_tree, features=features_test, target=target_test)"
   ]
  },
  {
   "cell_type": "markdown",
   "metadata": {},
   "source": [
    "Метрика F1 0,61 > 0.59. AUC-ROC 0,84, выше, чем для модели обученной на сбалансированной выборке.."
   ]
  },
  {
   "cell_type": "code",
   "execution_count": 515,
   "metadata": {},
   "outputs": [
    {
     "data": {
      "text/plain": [
       "0    1596\n",
       "1     404\n",
       "Name: exited, dtype: int64"
      ]
     },
     "execution_count": 515,
     "metadata": {},
     "output_type": "execute_result"
    }
   ],
   "source": [
    "target_test.value_counts()"
   ]
  },
  {
   "cell_type": "code",
   "execution_count": 516,
   "metadata": {},
   "outputs": [
    {
     "data": {
      "image/png": "[encoded data removed]",
      "text/plain": [
       "<Figure size 432x288 with 2 Axes>"
      ]
     },
     "metadata": {
      "needs_background": "light"
     },
     "output_type": "display_data"
    }
   ],
   "source": [
    "heatmap_confusion_matrix(prediction_tree_test, name='Матрица ошибок модели дерева решений на несбалансированной выборке', \n",
    "                         target=target_test)\n",
    "plt.show()"
   ]
  },
  {
   "cell_type": "markdown",
   "metadata": {},
   "source": [
    "Протестируем модель случайного леса на тестовой выборке. Метрики F1=0,61 на модели случайного леса удалось добится при обучении модели на сбалансированных данных. Применим модель для тестовой выборки. "
   ]
  },
  {
   "cell_type": "code",
   "execution_count": 517,
   "metadata": {},
   "outputs": [
    {
     "data": {
      "text/plain": [
       "RandomForestClassifier(max_depth=18, min_samples_split=8, n_estimators=84,\n",
       "                       random_state=5)"
      ]
     },
     "execution_count": 517,
     "metadata": {},
     "output_type": "execute_result"
    }
   ],
   "source": [
    "best_model_forest"
   ]
  },
  {
   "cell_type": "code",
   "execution_count": 518,
   "metadata": {},
   "outputs": [
    {
     "data": {
      "text/html": [
       "<div>\n",
       "<style scoped>\n",
       "    .dataframe tbody tr th:only-of-type {\n",
       "        vertical-align: middle;\n",
       "    }\n",
       "\n",
       "    .dataframe tbody tr th {\n",
       "        vertical-align: top;\n",
       "    }\n",
       "\n",
       "    .dataframe thead th {\n",
       "        text-align: right;\n",
       "    }\n",
       "</style>\n",
       "<table border=\"1\" class=\"dataframe\">\n",
       "  <thead>\n",
       "    <tr style=\"text-align: right;\">\n",
       "      <th></th>\n",
       "      <th>metric_result</th>\n",
       "    </tr>\n",
       "  </thead>\n",
       "  <tbody>\n",
       "    <tr>\n",
       "      <td>AUC-ROC</td>\n",
       "      <td>0.864409</td>\n",
       "    </tr>\n",
       "    <tr>\n",
       "      <td>F1</td>\n",
       "      <td>0.631961</td>\n",
       "    </tr>\n",
       "    <tr>\n",
       "      <td>Accuracy</td>\n",
       "      <td>0.848000</td>\n",
       "    </tr>\n",
       "  </tbody>\n",
       "</table>\n",
       "</div>"
      ],
      "text/plain": [
       "          metric_result\n",
       "AUC-ROC        0.864409\n",
       "F1             0.631961\n",
       "Accuracy       0.848000"
      ]
     },
     "execution_count": 518,
     "metadata": {},
     "output_type": "execute_result"
    }
   ],
   "source": [
    "predict_forest_test = best_model_forest.predict(features_test)\n",
    "\n",
    "metrics_model(best_model_forest, features=features_test, target=target_test)"
   ]
  },
  {
   "cell_type": "code",
   "execution_count": 519,
   "metadata": {},
   "outputs": [
    {
     "data": {
      "image/png": "[encoded data removed]",
      "text/plain": [
       "<Figure size 432x288 with 2 Axes>"
      ]
     },
     "metadata": {
      "needs_background": "light"
     },
     "output_type": "display_data"
    }
   ],
   "source": [
    "heatmap_confusion_matrix(predict_forest_test, name='Матрица ошибок модели случайного леса на сбалансированной выборке', \n",
    "                         target=target_test)\n",
    "plt.show()"
   ]
  },
  {
   "cell_type": "markdown",
   "metadata": {},
   "source": [
    "Предсказания модели случайного леса дают больше истинно-положительных ответов (261) по сравнению с моделью дерева решений (233).  \n",
    "Удалось достичь метрики F1 - 0,638 при тестировании модели случаного леса."
   ]
  },
  {
   "cell_type": "markdown",
   "metadata": {},
   "source": [
    "**Вывод**\n",
    "***\n",
    "- При тестировании моделей удалось достичь метрики F1 > 0,59 на двух моделях:   \n",
    "     -  модели дерева решений с гиперпараметрами class_weight={0: 0.4, 1: 0.6}, max_depth=9, min_samples_leaf=6, min_samples_split=72, random_state=5 и обучении на выборках без учета баланса классов. F1 составила 0,61.  \n",
    "     -  модели случайного леса, обученной на сбалансированных данных путем уменьшения класса 0 в 0,7 раз и увеличения класса 1 в 2 раза. F1 составила 0,638."
   ]
  },
  {
   "cell_type": "markdown",
   "metadata": {},
   "source": [
    "## Вывод"
   ]
  },
  {
   "cell_type": "markdown",
   "metadata": {},
   "source": [
    "Целью нашего исследования было подобрать модель, предсказывающую уход клиента из банка.   \n",
    "Для этого, в рамках решения задачи классификации было проведено обучение трех моделей:\n",
    "\n",
    "- дерева решений - DecisionTreeClassifier,\n",
    "- случайного леса - RandomForestClassifier,\n",
    "- логистической регрессии - LogisticRegression.  \n",
    "\n",
    "Для оценки предсказаний полученных моделей была использована метрики F1, AUC-ROC и ROC-кривая, а так же матрица ошибок. \n",
    "\n",
    "Для обучения, предсказания и тестирования моделей исходный датасет был разделен на три выборки в пропорции 60:20:20%.\n",
    "\n",
    "Признаки 'credit_score', 'age', 'balance', 'estimated_salary', 'tenure' имели большие различия в средних значениях и диапазонах этих значений. Для того, чтобы привести данные к единому масштабу была проведена стандартизация признаков с помощью Sklearn.preprocessing.StandardScaler().  \n",
    "\n",
    "При обучении моделей без учета дисбаланса целевого признака лучшей моделью стала модель дерева решений с гиперпараметрами (max_depth=12, min_samples_leaf=6, min_samples_split=72,random_state=5), и с F1=0,62 и AUC-ROC 0.84. Матрица ошибок показала результат в 1727 истинных прогноза и 273 ложных.\n",
    "Результаты остальных моделей следующие:  \n",
    "\n",
    "- Модель случайного леса с гиперпараметрами (max_depth=18, min_samples_split=8, n_estimators=84, random_state=5) достигла метрик F1 - 0.591, AUC-ROC - 0.866. Истиных прогнозов 1747, ложных - 259. Из 394 ответов класса 1 - 187 истинно положительных.\n",
    "\n",
    "- Модель логистической регрессии с гиперпараметрами penalty='l2', random_state=5, solver='lbfgs', C=3 показала худший результат метрики F1-0.28. Истинных предсказаний целевого признака 0 - 1548, 1 - 76.  \n",
    "\n",
    "В исходном датасете целевой признак не сбалансирован. Соотношение классов 0 и 1 4:1. Для борьбы с дисбалансом класса были применены следующие способы:\n",
    "- гиперпараметр class_weight: 'balanced' и {0: 0.3, 1: 0.7}.\n",
    "- увеличение редкого класса 1 и уменьшение выборки частого класса 0.\n",
    "\n",
    "Применение гиперпараметров практически не дало результатов для модели случайного леса. class_weight='balanced' отрицательно сказался на модели дерева решений и метрика F1 упала с 0,62 до 0,57. При этом, применение гиперпараметра сlass_weight={0: 0.3, 1: 0.7} оставил метрику F1 для модели дерева решений на том же уровне - 0,63.\n",
    "\n",
    "Уменьшение/увеличение выборки класса хорошо повлияло на модель случайного леса: метрика F1 выросла с 0,59 до 0,63 на валидационной выборке.\n",
    "\n",
    "Тестирование моделей было проведено на тестовой выборке для моделей:\n",
    "- DecisionTreeClassifier(max_depth=7, min_samples_leaf=7, min_samples_split=39, random_state=5)- обучено на сбалансированных данных\n",
    "- DecisionTreeClassifier(class_weight={0: 0.4, 1: 0.6}, max_depth=9, min_samples_leaf=6, min_samples_split=72, random_state=5 - обучено на несбалансированных данных\n",
    "- RandomForestClassifier(max_depth=18, min_samples_split=8, n_estimators=84, random_state=5) - обучено на сбалансированных данных.\n",
    "\n",
    "На тестовой выборке лучший результат показала модель случайного леса с F1=0.638 и AUC_ROC=0.86. Модель дерева решений на несбалансированных данных достигла значения метрики F1 = 0,61 с гиперпараметром веса классов. При этом на моделе дерева решений, обученной на сбалансированных данных не удалось достичь метрики F1>0.59, F1 составила 0,59.  \n",
    "\n",
    "При построении модели наиболее важными факторами являются: \n",
    "- age — возраст\n",
    "- credit_score — кредитный рейтинг\n",
    "- balance — баланс на счёте\n",
    "- num_of_products — количество продуктов банка, используемых клиентом\n",
    "- estimated_salary — предполагаемая зарплата"
   ]
  }
 ],
 "metadata": {
  "ExecuteTimeLog": [
   {
    "duration": 534,
    "start_time": "2022-02-26T17:03:16.044Z"
   },
   {
    "duration": 24,
    "start_time": "2022-02-26T17:03:44.085Z"
   },
   {
    "duration": 25,
    "start_time": "2022-02-26T17:03:53.862Z"
   },
   {
    "duration": 13,
    "start_time": "2022-02-26T17:23:17.465Z"
   },
   {
    "duration": 14,
    "start_time": "2022-02-26T17:23:27.915Z"
   },
   {
    "duration": 13,
    "start_time": "2022-02-26T17:23:35.138Z"
   },
   {
    "duration": 13,
    "start_time": "2022-02-26T17:25:02.135Z"
   },
   {
    "duration": 10,
    "start_time": "2022-02-26T17:25:05.087Z"
   },
   {
    "duration": 2,
    "start_time": "2022-02-26T17:25:38.023Z"
   },
   {
    "duration": 65,
    "start_time": "2022-02-26T17:25:50.093Z"
   },
   {
    "duration": 451,
    "start_time": "2022-02-26T17:26:40.827Z"
   },
   {
    "duration": 25,
    "start_time": "2022-02-26T17:35:21.375Z"
   },
   {
    "duration": 15,
    "start_time": "2022-02-26T17:35:22.136Z"
   },
   {
    "duration": 3,
    "start_time": "2022-02-26T17:36:30.362Z"
   },
   {
    "duration": 19,
    "start_time": "2022-02-26T17:36:34.764Z"
   },
   {
    "duration": 216,
    "start_time": "2022-02-26T17:37:03.343Z"
   },
   {
    "duration": 25,
    "start_time": "2022-02-26T17:37:13.153Z"
   },
   {
    "duration": 20,
    "start_time": "2022-02-26T17:37:20.842Z"
   },
   {
    "duration": 23,
    "start_time": "2022-02-26T17:37:36.687Z"
   },
   {
    "duration": 13,
    "start_time": "2022-02-26T17:37:37.328Z"
   },
   {
    "duration": 9,
    "start_time": "2022-02-26T17:37:40.935Z"
   },
   {
    "duration": 3,
    "start_time": "2022-02-26T17:37:43.696Z"
   },
   {
    "duration": 19,
    "start_time": "2022-02-26T17:37:45.614Z"
   },
   {
    "duration": 8,
    "start_time": "2022-02-26T17:50:40.172Z"
   },
   {
    "duration": 22,
    "start_time": "2022-02-26T17:51:30.574Z"
   },
   {
    "duration": 15,
    "start_time": "2022-02-26T17:51:52.602Z"
   },
   {
    "duration": 16,
    "start_time": "2022-02-26T17:51:55.930Z"
   },
   {
    "duration": 130,
    "start_time": "2022-02-26T17:52:22.603Z"
   },
   {
    "duration": 75,
    "start_time": "2022-02-26T17:52:33.476Z"
   },
   {
    "duration": 131,
    "start_time": "2022-02-26T17:52:40.603Z"
   },
   {
    "duration": 166,
    "start_time": "2022-02-26T17:57:00.514Z"
   },
   {
    "duration": 5,
    "start_time": "2022-02-26T17:57:06.148Z"
   },
   {
    "duration": 10,
    "start_time": "2022-02-26T17:57:27.039Z"
   },
   {
    "duration": 11,
    "start_time": "2022-02-26T18:00:08.674Z"
   },
   {
    "duration": 16,
    "start_time": "2022-02-26T18:00:24.864Z"
   },
   {
    "duration": 4,
    "start_time": "2022-02-26T18:01:22.995Z"
   },
   {
    "duration": 5,
    "start_time": "2022-02-26T18:01:39.369Z"
   },
   {
    "duration": 434,
    "start_time": "2022-02-26T18:01:51.434Z"
   },
   {
    "duration": 45,
    "start_time": "2022-02-26T18:02:12.264Z"
   },
   {
    "duration": 47,
    "start_time": "2022-02-26T18:02:16.160Z"
   },
   {
    "duration": 4,
    "start_time": "2022-02-26T18:02:31.473Z"
   },
   {
    "duration": 7,
    "start_time": "2022-02-26T18:02:54.401Z"
   },
   {
    "duration": 6,
    "start_time": "2022-02-26T18:03:20.674Z"
   },
   {
    "duration": 12,
    "start_time": "2022-02-26T18:09:43.033Z"
   },
   {
    "duration": 10,
    "start_time": "2022-02-26T18:09:52.538Z"
   },
   {
    "duration": 8,
    "start_time": "2022-02-26T18:10:06.204Z"
   },
   {
    "duration": 153,
    "start_time": "2022-02-26T18:10:20.580Z"
   },
   {
    "duration": 6,
    "start_time": "2022-02-26T18:10:29.417Z"
   },
   {
    "duration": 40,
    "start_time": "2022-02-26T18:31:02.171Z"
   },
   {
    "duration": 38,
    "start_time": "2022-02-26T18:31:09.885Z"
   },
   {
    "duration": 160,
    "start_time": "2022-02-26T18:34:26.888Z"
   },
   {
    "duration": 13,
    "start_time": "2022-02-26T18:34:32.389Z"
   },
   {
    "duration": 11,
    "start_time": "2022-02-26T18:34:37.262Z"
   },
   {
    "duration": 5,
    "start_time": "2022-02-26T18:35:01.464Z"
   },
   {
    "duration": 3443,
    "start_time": "2022-02-26T18:36:40.453Z"
   },
   {
    "duration": 4,
    "start_time": "2022-02-26T18:36:49.399Z"
   },
   {
    "duration": 10,
    "start_time": "2022-02-26T18:43:56.581Z"
   },
   {
    "duration": 139,
    "start_time": "2022-02-26T18:50:06.875Z"
   },
   {
    "duration": 4706,
    "start_time": "2022-02-26T18:50:13.420Z"
   },
   {
    "duration": 6,
    "start_time": "2022-02-26T18:50:40.690Z"
   },
   {
    "duration": 4,
    "start_time": "2022-02-26T19:11:00.062Z"
   },
   {
    "duration": 4,
    "start_time": "2022-02-26T19:18:51.858Z"
   },
   {
    "duration": 3,
    "start_time": "2022-02-26T19:19:53.810Z"
   },
   {
    "duration": 5,
    "start_time": "2022-02-26T19:20:04.295Z"
   },
   {
    "duration": 12,
    "start_time": "2022-02-26T19:20:05.670Z"
   },
   {
    "duration": 3,
    "start_time": "2022-02-26T19:21:07.272Z"
   },
   {
    "duration": 44,
    "start_time": "2022-02-26T19:21:07.277Z"
   },
   {
    "duration": 13,
    "start_time": "2022-02-26T19:21:07.324Z"
   },
   {
    "duration": 3,
    "start_time": "2022-02-26T19:21:07.339Z"
   },
   {
    "duration": 9,
    "start_time": "2022-02-26T19:21:07.344Z"
   },
   {
    "duration": 10,
    "start_time": "2022-02-26T19:21:07.355Z"
   },
   {
    "duration": 13,
    "start_time": "2022-02-26T19:21:07.366Z"
   },
   {
    "duration": 7,
    "start_time": "2022-02-26T19:21:07.381Z"
   },
   {
    "duration": 11,
    "start_time": "2022-02-26T19:21:07.390Z"
   },
   {
    "duration": 31,
    "start_time": "2022-02-26T19:21:07.403Z"
   },
   {
    "duration": 7,
    "start_time": "2022-02-26T19:21:07.436Z"
   },
   {
    "duration": 6,
    "start_time": "2022-02-26T19:21:07.445Z"
   },
   {
    "duration": 12,
    "start_time": "2022-02-26T19:21:07.452Z"
   },
   {
    "duration": 5,
    "start_time": "2022-02-26T19:21:07.466Z"
   },
   {
    "duration": 4,
    "start_time": "2022-02-26T19:46:24.294Z"
   },
   {
    "duration": 4,
    "start_time": "2022-02-26T19:46:45.287Z"
   },
   {
    "duration": 4,
    "start_time": "2022-02-26T19:49:10.948Z"
   },
   {
    "duration": 5,
    "start_time": "2022-02-26T19:49:21.513Z"
   },
   {
    "duration": 9,
    "start_time": "2022-02-26T19:50:27.045Z"
   },
   {
    "duration": 4,
    "start_time": "2022-02-26T19:53:24.801Z"
   },
   {
    "duration": 5,
    "start_time": "2022-02-26T19:53:28.784Z"
   },
   {
    "duration": 4,
    "start_time": "2022-02-26T19:53:56.455Z"
   },
   {
    "duration": 5,
    "start_time": "2022-02-26T19:53:59.713Z"
   },
   {
    "duration": 4,
    "start_time": "2022-02-26T19:54:32.522Z"
   },
   {
    "duration": 5,
    "start_time": "2022-02-26T19:54:36.294Z"
   },
   {
    "duration": 37,
    "start_time": "2022-02-26T19:55:17.360Z"
   },
   {
    "duration": 38,
    "start_time": "2022-02-26T19:55:22.054Z"
   },
   {
    "duration": 132,
    "start_time": "2022-02-26T19:56:23.222Z"
   },
   {
    "duration": 132,
    "start_time": "2022-02-26T19:56:43.022Z"
   },
   {
    "duration": 6,
    "start_time": "2022-02-26T19:56:56.118Z"
   },
   {
    "duration": 8,
    "start_time": "2022-02-26T19:57:16.721Z"
   },
   {
    "duration": 4,
    "start_time": "2022-02-26T20:00:05.150Z"
   },
   {
    "duration": 7,
    "start_time": "2022-02-26T20:00:09.802Z"
   },
   {
    "duration": 16,
    "start_time": "2022-02-26T20:00:26.744Z"
   },
   {
    "duration": 31,
    "start_time": "2022-02-26T20:02:53.577Z"
   },
   {
    "duration": 12,
    "start_time": "2022-02-26T20:07:47.622Z"
   },
   {
    "duration": 25,
    "start_time": "2022-02-26T20:07:51.851Z"
   },
   {
    "duration": 17,
    "start_time": "2022-02-26T20:09:49.009Z"
   },
   {
    "duration": 1125,
    "start_time": "2022-02-27T16:15:19.565Z"
   },
   {
    "duration": 35,
    "start_time": "2022-02-27T16:15:20.692Z"
   },
   {
    "duration": 23,
    "start_time": "2022-02-27T16:15:20.729Z"
   },
   {
    "duration": 6,
    "start_time": "2022-02-27T16:15:20.754Z"
   },
   {
    "duration": 50,
    "start_time": "2022-02-27T16:15:20.761Z"
   },
   {
    "duration": 26,
    "start_time": "2022-02-27T16:15:20.812Z"
   },
   {
    "duration": 7,
    "start_time": "2022-02-27T16:15:20.840Z"
   },
   {
    "duration": 17,
    "start_time": "2022-02-27T16:15:20.850Z"
   },
   {
    "duration": 7,
    "start_time": "2022-02-27T16:15:20.870Z"
   },
   {
    "duration": 10,
    "start_time": "2022-02-27T16:15:20.879Z"
   },
   {
    "duration": 6,
    "start_time": "2022-02-27T16:15:20.891Z"
   },
   {
    "duration": 42,
    "start_time": "2022-02-27T16:15:20.898Z"
   },
   {
    "duration": 8,
    "start_time": "2022-02-27T16:15:20.942Z"
   },
   {
    "duration": 17,
    "start_time": "2022-02-27T16:15:20.952Z"
   },
   {
    "duration": 7,
    "start_time": "2022-02-27T16:15:20.970Z"
   },
   {
    "duration": 7,
    "start_time": "2022-02-27T16:15:20.978Z"
   },
   {
    "duration": 5,
    "start_time": "2022-02-27T16:15:20.987Z"
   },
   {
    "duration": 9,
    "start_time": "2022-02-27T16:15:20.993Z"
   },
   {
    "duration": 39,
    "start_time": "2022-02-27T16:15:21.004Z"
   },
   {
    "duration": 7,
    "start_time": "2022-02-27T16:15:21.045Z"
   },
   {
    "duration": 9,
    "start_time": "2022-02-27T16:15:21.054Z"
   },
   {
    "duration": 7,
    "start_time": "2022-02-27T16:15:21.065Z"
   },
   {
    "duration": 35,
    "start_time": "2022-02-27T16:15:21.074Z"
   },
   {
    "duration": 391,
    "start_time": "2022-02-27T16:22:43.414Z"
   },
   {
    "duration": 303,
    "start_time": "2022-02-27T16:23:07.848Z"
   },
   {
    "duration": 1089,
    "start_time": "2022-02-27T16:23:50.669Z"
   },
   {
    "duration": 249,
    "start_time": "2022-02-27T16:24:11.951Z"
   },
   {
    "duration": 40,
    "start_time": "2022-02-27T16:24:57.055Z"
   },
   {
    "duration": 40,
    "start_time": "2022-02-27T16:25:03.227Z"
   },
   {
    "duration": 261,
    "start_time": "2022-02-27T16:25:22.836Z"
   },
   {
    "duration": 103,
    "start_time": "2022-02-27T16:55:06.759Z"
   },
   {
    "duration": 7,
    "start_time": "2022-02-27T16:55:26.817Z"
   },
   {
    "duration": 5,
    "start_time": "2022-02-27T17:27:18.977Z"
   },
   {
    "duration": 4,
    "start_time": "2022-02-27T17:43:03.195Z"
   },
   {
    "duration": 9,
    "start_time": "2022-02-27T17:46:57.996Z"
   },
   {
    "duration": 6,
    "start_time": "2022-02-27T17:47:27.088Z"
   },
   {
    "duration": 11,
    "start_time": "2022-02-27T18:01:24.437Z"
   },
   {
    "duration": 4,
    "start_time": "2022-02-27T18:01:35.164Z"
   },
   {
    "duration": 397,
    "start_time": "2022-02-27T18:33:18.626Z"
   },
   {
    "duration": 282,
    "start_time": "2022-02-27T18:33:26.937Z"
   },
   {
    "duration": 278,
    "start_time": "2022-02-27T18:34:11.982Z"
   },
   {
    "duration": 158,
    "start_time": "2022-02-27T18:34:29.159Z"
   },
   {
    "duration": 273,
    "start_time": "2022-02-27T18:34:34.716Z"
   },
   {
    "duration": 12,
    "start_time": "2022-02-27T18:53:44.809Z"
   },
   {
    "duration": 280,
    "start_time": "2022-02-27T19:01:54.121Z"
   },
   {
    "duration": 295,
    "start_time": "2022-02-27T19:01:59.901Z"
   },
   {
    "duration": 148,
    "start_time": "2022-02-27T19:41:23.935Z"
   },
   {
    "duration": 19,
    "start_time": "2022-02-27T19:41:46.105Z"
   },
   {
    "duration": 18,
    "start_time": "2022-02-27T19:41:50.731Z"
   },
   {
    "duration": 260,
    "start_time": "2022-02-27T19:49:08.972Z"
   },
   {
    "duration": 259,
    "start_time": "2022-02-27T19:49:49.995Z"
   },
   {
    "duration": 254,
    "start_time": "2022-02-27T19:49:55.886Z"
   },
   {
    "duration": 4,
    "start_time": "2022-02-27T19:50:01.457Z"
   },
   {
    "duration": 41,
    "start_time": "2022-02-27T19:50:01.463Z"
   },
   {
    "duration": 15,
    "start_time": "2022-02-27T19:50:01.507Z"
   },
   {
    "duration": 15,
    "start_time": "2022-02-27T19:50:01.524Z"
   },
   {
    "duration": 45,
    "start_time": "2022-02-27T19:50:01.541Z"
   },
   {
    "duration": 11,
    "start_time": "2022-02-27T19:50:01.588Z"
   },
   {
    "duration": 9,
    "start_time": "2022-02-27T19:50:01.601Z"
   },
   {
    "duration": 33,
    "start_time": "2022-02-27T19:50:01.612Z"
   },
   {
    "duration": 6,
    "start_time": "2022-02-27T19:50:01.648Z"
   },
   {
    "duration": 18,
    "start_time": "2022-02-27T19:50:01.656Z"
   },
   {
    "duration": 6,
    "start_time": "2022-02-27T19:50:01.676Z"
   },
   {
    "duration": 16,
    "start_time": "2022-02-27T19:50:01.684Z"
   },
   {
    "duration": 16,
    "start_time": "2022-02-27T19:50:01.701Z"
   },
   {
    "duration": 20,
    "start_time": "2022-02-27T19:50:01.719Z"
   },
   {
    "duration": 20,
    "start_time": "2022-02-27T19:50:01.741Z"
   },
   {
    "duration": 37,
    "start_time": "2022-02-27T19:50:01.763Z"
   },
   {
    "duration": 58,
    "start_time": "2022-02-27T19:50:01.801Z"
   },
   {
    "duration": 4,
    "start_time": "2022-02-27T19:50:01.861Z"
   },
   {
    "duration": 26,
    "start_time": "2022-02-27T19:50:01.867Z"
   },
   {
    "duration": 26,
    "start_time": "2022-02-27T19:50:01.895Z"
   },
   {
    "duration": 17,
    "start_time": "2022-02-27T19:50:01.923Z"
   },
   {
    "duration": 22,
    "start_time": "2022-02-27T19:50:01.942Z"
   },
   {
    "duration": 6,
    "start_time": "2022-02-27T19:50:01.966Z"
   },
   {
    "duration": 35,
    "start_time": "2022-02-27T19:50:01.974Z"
   },
   {
    "duration": 14,
    "start_time": "2022-02-27T19:50:02.011Z"
   },
   {
    "duration": 11,
    "start_time": "2022-02-27T19:50:02.027Z"
   },
   {
    "duration": 16,
    "start_time": "2022-02-27T19:50:02.042Z"
   },
   {
    "duration": 17,
    "start_time": "2022-02-27T19:50:02.060Z"
   },
   {
    "duration": 32,
    "start_time": "2022-02-27T19:50:02.079Z"
   },
   {
    "duration": 284,
    "start_time": "2022-02-27T19:50:02.113Z"
   },
   {
    "duration": 11,
    "start_time": "2022-02-27T19:50:02.399Z"
   },
   {
    "duration": 31,
    "start_time": "2022-02-27T19:50:02.411Z"
   },
   {
    "duration": 33,
    "start_time": "2022-02-27T19:50:02.443Z"
   },
   {
    "duration": 339,
    "start_time": "2022-02-27T19:50:07.070Z"
   },
   {
    "duration": 19,
    "start_time": "2022-02-27T19:53:05.035Z"
   },
   {
    "duration": 4,
    "start_time": "2022-02-27T20:16:51.456Z"
   },
   {
    "duration": 30,
    "start_time": "2022-02-27T20:16:51.463Z"
   },
   {
    "duration": 14,
    "start_time": "2022-02-27T20:16:51.496Z"
   },
   {
    "duration": 6,
    "start_time": "2022-02-27T20:16:51.512Z"
   },
   {
    "duration": 57,
    "start_time": "2022-02-27T20:16:51.520Z"
   },
   {
    "duration": 7,
    "start_time": "2022-02-27T20:16:51.579Z"
   },
   {
    "duration": 7,
    "start_time": "2022-02-27T20:16:51.588Z"
   },
   {
    "duration": 13,
    "start_time": "2022-02-27T20:16:51.597Z"
   },
   {
    "duration": 6,
    "start_time": "2022-02-27T20:16:51.612Z"
   },
   {
    "duration": 9,
    "start_time": "2022-02-27T20:16:51.639Z"
   },
   {
    "duration": 8,
    "start_time": "2022-02-27T20:16:51.649Z"
   },
   {
    "duration": 6,
    "start_time": "2022-02-27T20:16:51.658Z"
   },
   {
    "duration": 7,
    "start_time": "2022-02-27T20:16:51.666Z"
   },
   {
    "duration": 12,
    "start_time": "2022-02-27T20:16:51.674Z"
   },
   {
    "duration": 8,
    "start_time": "2022-02-27T20:16:51.688Z"
   },
   {
    "duration": 41,
    "start_time": "2022-02-27T20:16:51.698Z"
   },
   {
    "duration": 42,
    "start_time": "2022-02-27T20:16:51.741Z"
   },
   {
    "duration": 3,
    "start_time": "2022-02-27T20:16:51.785Z"
   },
   {
    "duration": 7,
    "start_time": "2022-02-27T20:16:51.790Z"
   },
   {
    "duration": 10,
    "start_time": "2022-02-27T20:16:51.798Z"
   },
   {
    "duration": 7,
    "start_time": "2022-02-27T20:16:51.838Z"
   },
   {
    "duration": 7,
    "start_time": "2022-02-27T20:16:51.847Z"
   },
   {
    "duration": 4,
    "start_time": "2022-02-27T20:16:51.855Z"
   },
   {
    "duration": 21,
    "start_time": "2022-02-27T20:16:51.861Z"
   },
   {
    "duration": 6,
    "start_time": "2022-02-27T20:16:51.884Z"
   },
   {
    "duration": 5,
    "start_time": "2022-02-27T20:16:51.892Z"
   },
   {
    "duration": 39,
    "start_time": "2022-02-27T20:16:51.900Z"
   },
   {
    "duration": 14,
    "start_time": "2022-02-27T20:16:51.941Z"
   },
   {
    "duration": 7,
    "start_time": "2022-02-27T20:16:51.956Z"
   },
   {
    "duration": 20,
    "start_time": "2022-02-27T20:16:51.964Z"
   },
   {
    "duration": 4,
    "start_time": "2022-02-27T20:24:19.762Z"
   },
   {
    "duration": 7,
    "start_time": "2022-02-27T20:33:11.851Z"
   },
   {
    "duration": 3,
    "start_time": "2022-02-27T21:04:53.111Z"
   },
   {
    "duration": 261,
    "start_time": "2022-02-28T09:59:10.449Z"
   },
   {
    "duration": 1409,
    "start_time": "2022-02-28T09:59:14.706Z"
   },
   {
    "duration": 35,
    "start_time": "2022-02-28T09:59:16.118Z"
   },
   {
    "duration": 28,
    "start_time": "2022-02-28T09:59:16.156Z"
   },
   {
    "duration": 5,
    "start_time": "2022-02-28T09:59:16.187Z"
   },
   {
    "duration": 59,
    "start_time": "2022-02-28T09:59:16.194Z"
   },
   {
    "duration": 33,
    "start_time": "2022-02-28T09:59:16.256Z"
   },
   {
    "duration": 9,
    "start_time": "2022-02-28T09:59:16.291Z"
   },
   {
    "duration": 18,
    "start_time": "2022-02-28T09:59:16.302Z"
   },
   {
    "duration": 8,
    "start_time": "2022-02-28T09:59:16.323Z"
   },
   {
    "duration": 56,
    "start_time": "2022-02-28T09:59:16.335Z"
   },
   {
    "duration": 9,
    "start_time": "2022-02-28T09:59:16.394Z"
   },
   {
    "duration": 8,
    "start_time": "2022-02-28T09:59:16.405Z"
   },
   {
    "duration": 10,
    "start_time": "2022-02-28T09:59:16.415Z"
   },
   {
    "duration": 18,
    "start_time": "2022-02-28T09:59:16.427Z"
   },
   {
    "duration": 6,
    "start_time": "2022-02-28T09:59:16.483Z"
   },
   {
    "duration": 7,
    "start_time": "2022-02-28T09:59:16.492Z"
   },
   {
    "duration": 81,
    "start_time": "2022-02-28T09:59:16.502Z"
   },
   {
    "duration": 5,
    "start_time": "2022-02-28T09:59:16.586Z"
   },
   {
    "duration": 10,
    "start_time": "2022-02-28T09:59:16.593Z"
   },
   {
    "duration": 14,
    "start_time": "2022-02-28T09:59:16.605Z"
   },
   {
    "duration": 9,
    "start_time": "2022-02-28T09:59:16.621Z"
   },
   {
    "duration": 11,
    "start_time": "2022-02-28T09:59:16.633Z"
   },
   {
    "duration": 6,
    "start_time": "2022-02-28T09:59:16.684Z"
   },
   {
    "duration": 35,
    "start_time": "2022-02-28T09:59:16.693Z"
   },
   {
    "duration": 10,
    "start_time": "2022-02-28T09:59:16.731Z"
   },
   {
    "duration": 43,
    "start_time": "2022-02-28T09:59:16.743Z"
   },
   {
    "duration": 11,
    "start_time": "2022-02-28T09:59:16.791Z"
   },
   {
    "duration": 16,
    "start_time": "2022-02-28T09:59:16.805Z"
   },
   {
    "duration": 7,
    "start_time": "2022-02-28T09:59:16.824Z"
   },
   {
    "duration": 50,
    "start_time": "2022-02-28T09:59:16.834Z"
   },
   {
    "duration": 433,
    "start_time": "2022-02-28T09:59:16.887Z"
   },
   {
    "duration": 15,
    "start_time": "2022-02-28T09:59:17.323Z"
   },
   {
    "duration": 55,
    "start_time": "2022-02-28T09:59:17.342Z"
   },
   {
    "duration": 17,
    "start_time": "2022-02-28T09:59:17.400Z"
   },
   {
    "duration": 438,
    "start_time": "2022-02-28T09:59:17.420Z"
   },
   {
    "duration": 6,
    "start_time": "2022-02-28T09:59:17.861Z"
   },
   {
    "duration": 10,
    "start_time": "2022-02-28T09:59:20.006Z"
   },
   {
    "duration": 6,
    "start_time": "2022-02-28T09:59:38.726Z"
   },
   {
    "duration": 12,
    "start_time": "2022-02-28T09:59:46.855Z"
   },
   {
    "duration": 226,
    "start_time": "2022-02-28T10:00:13.840Z"
   },
   {
    "duration": 5,
    "start_time": "2022-02-28T10:15:36.921Z"
   },
   {
    "duration": 342,
    "start_time": "2022-02-28T10:54:25.360Z"
   },
   {
    "duration": 5,
    "start_time": "2022-02-28T10:54:36.586Z"
   },
   {
    "duration": 197,
    "start_time": "2022-02-28T10:54:44.473Z"
   },
   {
    "duration": 215,
    "start_time": "2022-02-28T10:55:07.445Z"
   },
   {
    "duration": 190,
    "start_time": "2022-02-28T10:56:21.225Z"
   },
   {
    "duration": 5,
    "start_time": "2022-02-28T10:56:54.414Z"
   },
   {
    "duration": 32,
    "start_time": "2022-02-28T10:56:54.422Z"
   },
   {
    "duration": 19,
    "start_time": "2022-02-28T10:56:54.457Z"
   },
   {
    "duration": 9,
    "start_time": "2022-02-28T10:56:54.482Z"
   },
   {
    "duration": 67,
    "start_time": "2022-02-28T10:56:54.493Z"
   },
   {
    "duration": 20,
    "start_time": "2022-02-28T10:56:54.563Z"
   },
   {
    "duration": 7,
    "start_time": "2022-02-28T10:56:54.586Z"
   },
   {
    "duration": 16,
    "start_time": "2022-02-28T10:56:54.595Z"
   },
   {
    "duration": 7,
    "start_time": "2022-02-28T10:56:54.615Z"
   },
   {
    "duration": 58,
    "start_time": "2022-02-28T10:56:54.625Z"
   },
   {
    "duration": 8,
    "start_time": "2022-02-28T10:56:54.686Z"
   },
   {
    "duration": 9,
    "start_time": "2022-02-28T10:56:54.696Z"
   },
   {
    "duration": 13,
    "start_time": "2022-02-28T10:56:54.708Z"
   },
   {
    "duration": 26,
    "start_time": "2022-02-28T10:56:54.724Z"
   },
   {
    "duration": 36,
    "start_time": "2022-02-28T10:56:54.752Z"
   },
   {
    "duration": 7,
    "start_time": "2022-02-28T10:56:54.790Z"
   },
   {
    "duration": 58,
    "start_time": "2022-02-28T10:56:54.800Z"
   },
   {
    "duration": 24,
    "start_time": "2022-02-28T10:56:54.860Z"
   },
   {
    "duration": 9,
    "start_time": "2022-02-28T10:56:54.887Z"
   },
   {
    "duration": 14,
    "start_time": "2022-02-28T10:56:54.899Z"
   },
   {
    "duration": 8,
    "start_time": "2022-02-28T10:56:54.916Z"
   },
   {
    "duration": 14,
    "start_time": "2022-02-28T10:56:54.927Z"
   },
   {
    "duration": 40,
    "start_time": "2022-02-28T10:56:54.944Z"
   },
   {
    "duration": 30,
    "start_time": "2022-02-28T10:56:54.986Z"
   },
   {
    "duration": 10,
    "start_time": "2022-02-28T10:56:55.018Z"
   },
   {
    "duration": 13,
    "start_time": "2022-02-28T10:56:55.030Z"
   },
   {
    "duration": 36,
    "start_time": "2022-02-28T10:56:55.048Z"
   },
   {
    "duration": 12,
    "start_time": "2022-02-28T10:56:55.086Z"
   },
   {
    "duration": 5,
    "start_time": "2022-02-28T10:56:55.101Z"
   },
   {
    "duration": 19,
    "start_time": "2022-02-28T10:56:55.109Z"
   },
   {
    "duration": 463,
    "start_time": "2022-02-28T10:56:55.131Z"
   },
   {
    "duration": 16,
    "start_time": "2022-02-28T10:56:55.597Z"
   },
   {
    "duration": 29,
    "start_time": "2022-02-28T10:56:55.616Z"
   },
   {
    "duration": 46,
    "start_time": "2022-02-28T10:56:55.647Z"
   },
   {
    "duration": 425,
    "start_time": "2022-02-28T10:56:55.696Z"
   },
   {
    "duration": 4,
    "start_time": "2022-02-28T10:56:56.124Z"
   },
   {
    "duration": 11,
    "start_time": "2022-02-28T10:56:56.131Z"
   },
   {
    "duration": 291,
    "start_time": "2022-02-28T10:56:56.144Z"
   },
   {
    "duration": 188,
    "start_time": "2022-02-28T10:56:56.437Z"
   },
   {
    "duration": 638,
    "start_time": "2022-02-28T10:57:24.346Z"
   },
   {
    "duration": 748,
    "start_time": "2022-02-28T10:59:54.187Z"
   },
   {
    "duration": 192,
    "start_time": "2022-02-28T11:00:14.283Z"
   },
   {
    "duration": 210,
    "start_time": "2022-02-28T11:00:22.188Z"
   },
   {
    "duration": 3619,
    "start_time": "2022-02-28T11:00:28.885Z"
   },
   {
    "duration": 4287,
    "start_time": "2022-02-28T11:00:40.988Z"
   },
   {
    "duration": 10715,
    "start_time": "2022-02-28T11:01:07.028Z"
   },
   {
    "duration": 9002,
    "start_time": "2022-02-28T11:01:39.237Z"
   },
   {
    "duration": 10657,
    "start_time": "2022-02-28T11:02:11.572Z"
   },
   {
    "duration": 8183,
    "start_time": "2022-02-28T11:03:19.110Z"
   },
   {
    "duration": 27173,
    "start_time": "2022-02-28T11:03:45.270Z"
   },
   {
    "duration": 179,
    "start_time": "2022-02-28T11:07:22.577Z"
   },
   {
    "duration": 181,
    "start_time": "2022-02-28T11:08:05.009Z"
   },
   {
    "duration": 7,
    "start_time": "2022-02-28T11:09:35.606Z"
   },
   {
    "duration": 39,
    "start_time": "2022-02-28T11:09:35.617Z"
   },
   {
    "duration": 28,
    "start_time": "2022-02-28T11:09:35.659Z"
   },
   {
    "duration": 5,
    "start_time": "2022-02-28T11:09:35.690Z"
   },
   {
    "duration": 65,
    "start_time": "2022-02-28T11:09:35.697Z"
   },
   {
    "duration": 11,
    "start_time": "2022-02-28T11:09:35.782Z"
   },
   {
    "duration": 8,
    "start_time": "2022-02-28T11:09:35.795Z"
   },
   {
    "duration": 17,
    "start_time": "2022-02-28T11:09:35.806Z"
   },
   {
    "duration": 8,
    "start_time": "2022-02-28T11:09:35.826Z"
   },
   {
    "duration": 14,
    "start_time": "2022-02-28T11:09:35.881Z"
   },
   {
    "duration": 10,
    "start_time": "2022-02-28T11:09:35.897Z"
   },
   {
    "duration": 16,
    "start_time": "2022-02-28T11:09:35.909Z"
   },
   {
    "duration": 15,
    "start_time": "2022-02-28T11:09:35.928Z"
   },
   {
    "duration": 47,
    "start_time": "2022-02-28T11:09:35.945Z"
   },
   {
    "duration": 9,
    "start_time": "2022-02-28T11:09:35.994Z"
   },
   {
    "duration": 8,
    "start_time": "2022-02-28T11:09:36.006Z"
   },
   {
    "duration": 84,
    "start_time": "2022-02-28T11:09:36.016Z"
   },
   {
    "duration": 5,
    "start_time": "2022-02-28T11:09:36.103Z"
   },
   {
    "duration": 10,
    "start_time": "2022-02-28T11:09:36.110Z"
   },
   {
    "duration": 11,
    "start_time": "2022-02-28T11:09:36.122Z"
   },
   {
    "duration": 10,
    "start_time": "2022-02-28T11:09:36.136Z"
   },
   {
    "duration": 12,
    "start_time": "2022-02-28T11:09:36.183Z"
   },
   {
    "duration": 5,
    "start_time": "2022-02-28T11:09:36.198Z"
   },
   {
    "duration": 39,
    "start_time": "2022-02-28T11:09:36.206Z"
   },
   {
    "duration": 38,
    "start_time": "2022-02-28T11:09:36.247Z"
   },
   {
    "duration": 6,
    "start_time": "2022-02-28T11:09:36.288Z"
   },
   {
    "duration": 6,
    "start_time": "2022-02-28T11:09:36.298Z"
   },
   {
    "duration": 22,
    "start_time": "2022-02-28T11:09:36.307Z"
   },
   {
    "duration": 10,
    "start_time": "2022-02-28T11:09:36.332Z"
   },
   {
    "duration": 43,
    "start_time": "2022-02-28T11:09:36.345Z"
   },
   {
    "duration": 428,
    "start_time": "2022-02-28T11:09:36.390Z"
   },
   {
    "duration": 15,
    "start_time": "2022-02-28T11:09:36.821Z"
   },
   {
    "duration": 50,
    "start_time": "2022-02-28T11:09:36.838Z"
   },
   {
    "duration": 14,
    "start_time": "2022-02-28T11:09:36.891Z"
   },
   {
    "duration": 425,
    "start_time": "2022-02-28T11:09:36.908Z"
   },
   {
    "duration": 4,
    "start_time": "2022-02-28T11:09:37.336Z"
   },
   {
    "duration": 15,
    "start_time": "2022-02-28T11:09:37.342Z"
   },
   {
    "duration": 243,
    "start_time": "2022-02-28T11:09:37.359Z"
   },
   {
    "duration": 190,
    "start_time": "2022-02-28T11:09:39.841Z"
   },
   {
    "duration": 22436,
    "start_time": "2022-02-28T11:09:46.474Z"
   },
   {
    "duration": 6,
    "start_time": "2022-02-28T11:10:45.629Z"
   },
   {
    "duration": 46,
    "start_time": "2022-02-28T11:10:45.638Z"
   },
   {
    "duration": 20,
    "start_time": "2022-02-28T11:10:45.687Z"
   },
   {
    "duration": 7,
    "start_time": "2022-02-28T11:10:45.709Z"
   },
   {
    "duration": 85,
    "start_time": "2022-02-28T11:10:45.718Z"
   },
   {
    "duration": 11,
    "start_time": "2022-02-28T11:10:45.805Z"
   },
   {
    "duration": 7,
    "start_time": "2022-02-28T11:10:45.819Z"
   },
   {
    "duration": 14,
    "start_time": "2022-02-28T11:10:45.829Z"
   },
   {
    "duration": 40,
    "start_time": "2022-02-28T11:10:45.847Z"
   },
   {
    "duration": 17,
    "start_time": "2022-02-28T11:10:45.890Z"
   },
   {
    "duration": 7,
    "start_time": "2022-02-28T11:10:45.909Z"
   },
   {
    "duration": 7,
    "start_time": "2022-02-28T11:10:45.918Z"
   },
   {
    "duration": 8,
    "start_time": "2022-02-28T11:10:45.927Z"
   },
   {
    "duration": 58,
    "start_time": "2022-02-28T11:10:45.938Z"
   },
   {
    "duration": 9,
    "start_time": "2022-02-28T11:10:45.999Z"
   },
   {
    "duration": 8,
    "start_time": "2022-02-28T11:10:46.010Z"
   },
   {
    "duration": 97,
    "start_time": "2022-02-28T11:10:46.020Z"
   },
   {
    "duration": 4,
    "start_time": "2022-02-28T11:10:46.120Z"
   },
   {
    "duration": 10,
    "start_time": "2022-02-28T11:10:46.127Z"
   },
   {
    "duration": 12,
    "start_time": "2022-02-28T11:10:46.139Z"
   },
   {
    "duration": 36,
    "start_time": "2022-02-28T11:10:46.154Z"
   },
   {
    "duration": 11,
    "start_time": "2022-02-28T11:10:46.192Z"
   },
   {
    "duration": 6,
    "start_time": "2022-02-28T11:10:46.206Z"
   },
   {
    "duration": 31,
    "start_time": "2022-02-28T11:10:46.215Z"
   },
   {
    "duration": 43,
    "start_time": "2022-02-28T11:10:46.248Z"
   },
   {
    "duration": 5,
    "start_time": "2022-02-28T11:10:46.293Z"
   },
   {
    "duration": 8,
    "start_time": "2022-02-28T11:10:46.303Z"
   },
   {
    "duration": 13,
    "start_time": "2022-02-28T11:10:46.314Z"
   },
   {
    "duration": 8,
    "start_time": "2022-02-28T11:10:46.329Z"
   },
   {
    "duration": 14,
    "start_time": "2022-02-28T11:10:46.384Z"
   },
   {
    "duration": 446,
    "start_time": "2022-02-28T11:10:46.401Z"
   },
   {
    "duration": 14,
    "start_time": "2022-02-28T11:10:46.849Z"
   },
   {
    "duration": 41,
    "start_time": "2022-02-28T11:10:46.866Z"
   },
   {
    "duration": 15,
    "start_time": "2022-02-28T11:10:46.909Z"
   },
   {
    "duration": 421,
    "start_time": "2022-02-28T11:10:46.927Z"
   },
   {
    "duration": 6,
    "start_time": "2022-02-28T11:10:47.350Z"
   },
   {
    "duration": 27,
    "start_time": "2022-02-28T11:10:47.359Z"
   },
   {
    "duration": 248,
    "start_time": "2022-02-28T11:10:47.388Z"
   },
   {
    "duration": 27204,
    "start_time": "2022-02-28T11:10:52.715Z"
   },
   {
    "duration": 27113,
    "start_time": "2022-02-28T11:13:41.564Z"
   },
   {
    "duration": 26788,
    "start_time": "2022-02-28T11:15:38.285Z"
   },
   {
    "duration": 9,
    "start_time": "2022-02-28T11:16:59.441Z"
   },
   {
    "duration": 186,
    "start_time": "2022-02-28T11:17:38.175Z"
   },
   {
    "duration": 12,
    "start_time": "2022-02-28T11:17:56.048Z"
   },
   {
    "duration": 7,
    "start_time": "2022-02-28T11:18:31.576Z"
   },
   {
    "duration": 5,
    "start_time": "2022-02-28T11:18:43.295Z"
   },
   {
    "duration": 16,
    "start_time": "2022-02-28T11:18:49.855Z"
   },
   {
    "duration": 14,
    "start_time": "2022-02-28T11:19:00.755Z"
   },
   {
    "duration": 13,
    "start_time": "2022-02-28T11:19:08.031Z"
   },
   {
    "duration": 6,
    "start_time": "2022-02-28T11:19:13.421Z"
   },
   {
    "duration": 68,
    "start_time": "2022-02-28T11:19:13.430Z"
   },
   {
    "duration": 20,
    "start_time": "2022-02-28T11:19:13.501Z"
   },
   {
    "duration": 16,
    "start_time": "2022-02-28T11:19:13.523Z"
   },
   {
    "duration": 85,
    "start_time": "2022-02-28T11:19:13.541Z"
   },
   {
    "duration": 11,
    "start_time": "2022-02-28T11:19:13.628Z"
   },
   {
    "duration": 14,
    "start_time": "2022-02-28T11:19:13.641Z"
   },
   {
    "duration": 32,
    "start_time": "2022-02-28T11:19:13.658Z"
   },
   {
    "duration": 7,
    "start_time": "2022-02-28T11:19:13.695Z"
   },
   {
    "duration": 24,
    "start_time": "2022-02-28T11:19:13.705Z"
   },
   {
    "duration": 14,
    "start_time": "2022-02-28T11:19:13.731Z"
   },
   {
    "duration": 20,
    "start_time": "2022-02-28T11:19:13.748Z"
   },
   {
    "duration": 23,
    "start_time": "2022-02-28T11:19:13.784Z"
   },
   {
    "duration": 29,
    "start_time": "2022-02-28T11:19:13.810Z"
   },
   {
    "duration": 16,
    "start_time": "2022-02-28T11:19:13.842Z"
   },
   {
    "duration": 18,
    "start_time": "2022-02-28T11:19:13.860Z"
   },
   {
    "duration": 68,
    "start_time": "2022-02-28T11:19:13.881Z"
   },
   {
    "duration": 4,
    "start_time": "2022-02-28T11:19:13.952Z"
   },
   {
    "duration": 24,
    "start_time": "2022-02-28T11:19:13.959Z"
   },
   {
    "duration": 23,
    "start_time": "2022-02-28T11:19:13.985Z"
   },
   {
    "duration": 19,
    "start_time": "2022-02-28T11:19:14.011Z"
   },
   {
    "duration": 22,
    "start_time": "2022-02-28T11:19:14.033Z"
   },
   {
    "duration": 23,
    "start_time": "2022-02-28T11:19:14.058Z"
   },
   {
    "duration": 36,
    "start_time": "2022-02-28T11:19:14.084Z"
   },
   {
    "duration": 25,
    "start_time": "2022-02-28T11:19:14.122Z"
   },
   {
    "duration": 24,
    "start_time": "2022-02-28T11:19:14.149Z"
   },
   {
    "duration": 10,
    "start_time": "2022-02-28T11:19:14.178Z"
   },
   {
    "duration": 25,
    "start_time": "2022-02-28T11:19:14.190Z"
   },
   {
    "duration": 21,
    "start_time": "2022-02-28T11:19:14.218Z"
   },
   {
    "duration": 23,
    "start_time": "2022-02-28T11:19:14.241Z"
   },
   {
    "duration": 425,
    "start_time": "2022-02-28T11:19:14.267Z"
   },
   {
    "duration": 15,
    "start_time": "2022-02-28T11:19:14.695Z"
   },
   {
    "duration": 34,
    "start_time": "2022-02-28T11:19:14.713Z"
   },
   {
    "duration": 36,
    "start_time": "2022-02-28T11:19:14.750Z"
   },
   {
    "duration": 421,
    "start_time": "2022-02-28T11:19:14.789Z"
   },
   {
    "duration": 5,
    "start_time": "2022-02-28T11:19:15.213Z"
   },
   {
    "duration": 11,
    "start_time": "2022-02-28T11:19:15.222Z"
   },
   {
    "duration": 250,
    "start_time": "2022-02-28T11:19:15.235Z"
   },
   {
    "duration": 6,
    "start_time": "2022-02-28T11:19:17.184Z"
   },
   {
    "duration": 4,
    "start_time": "2022-02-28T11:19:36.671Z"
   },
   {
    "duration": 8,
    "start_time": "2022-02-28T11:19:41.471Z"
   },
   {
    "duration": 27274,
    "start_time": "2022-02-28T11:19:53.472Z"
   },
   {
    "duration": 7,
    "start_time": "2022-02-28T11:20:40.880Z"
   },
   {
    "duration": 27283,
    "start_time": "2022-02-28T11:20:46.000Z"
   },
   {
    "duration": 5502,
    "start_time": "2022-02-28T11:21:29.129Z"
   },
   {
    "duration": 5436,
    "start_time": "2022-02-28T11:42:54.177Z"
   },
   {
    "duration": 9,
    "start_time": "2022-02-28T11:43:07.302Z"
   },
   {
    "duration": 5,
    "start_time": "2022-02-28T11:48:24.688Z"
   },
   {
    "duration": 45,
    "start_time": "2022-02-28T11:48:24.696Z"
   },
   {
    "duration": 41,
    "start_time": "2022-02-28T11:48:24.744Z"
   },
   {
    "duration": 9,
    "start_time": "2022-02-28T11:48:24.788Z"
   },
   {
    "duration": 61,
    "start_time": "2022-02-28T11:48:24.800Z"
   },
   {
    "duration": 25,
    "start_time": "2022-02-28T11:48:24.864Z"
   },
   {
    "duration": 9,
    "start_time": "2022-02-28T11:48:24.891Z"
   },
   {
    "duration": 24,
    "start_time": "2022-02-28T11:48:24.902Z"
   },
   {
    "duration": 12,
    "start_time": "2022-02-28T11:48:24.930Z"
   },
   {
    "duration": 49,
    "start_time": "2022-02-28T11:48:24.945Z"
   },
   {
    "duration": 11,
    "start_time": "2022-02-28T11:48:24.996Z"
   },
   {
    "duration": 8,
    "start_time": "2022-02-28T11:48:25.009Z"
   },
   {
    "duration": 15,
    "start_time": "2022-02-28T11:48:25.019Z"
   },
   {
    "duration": 46,
    "start_time": "2022-02-28T11:48:25.036Z"
   },
   {
    "duration": 6,
    "start_time": "2022-02-28T11:48:25.084Z"
   },
   {
    "duration": 10,
    "start_time": "2022-02-28T11:48:25.093Z"
   },
   {
    "duration": 86,
    "start_time": "2022-02-28T11:48:25.105Z"
   },
   {
    "duration": 4,
    "start_time": "2022-02-28T11:48:25.194Z"
   },
   {
    "duration": 10,
    "start_time": "2022-02-28T11:48:25.200Z"
   },
   {
    "duration": 14,
    "start_time": "2022-02-28T11:48:25.212Z"
   },
   {
    "duration": 9,
    "start_time": "2022-02-28T11:48:25.229Z"
   },
   {
    "duration": 48,
    "start_time": "2022-02-28T11:48:25.240Z"
   },
   {
    "duration": 6,
    "start_time": "2022-02-28T11:48:25.291Z"
   },
   {
    "duration": 37,
    "start_time": "2022-02-28T11:48:25.299Z"
   },
   {
    "duration": 9,
    "start_time": "2022-02-28T11:48:25.339Z"
   },
   {
    "duration": 34,
    "start_time": "2022-02-28T11:48:25.351Z"
   },
   {
    "duration": 13,
    "start_time": "2022-02-28T11:48:25.390Z"
   },
   {
    "duration": 17,
    "start_time": "2022-02-28T11:48:25.405Z"
   },
   {
    "duration": 9,
    "start_time": "2022-02-28T11:48:25.425Z"
   },
   {
    "duration": 29,
    "start_time": "2022-02-28T11:48:25.437Z"
   },
   {
    "duration": 445,
    "start_time": "2022-02-28T11:48:25.468Z"
   },
   {
    "duration": 14,
    "start_time": "2022-02-28T11:48:25.915Z"
   },
   {
    "duration": 52,
    "start_time": "2022-02-28T11:48:25.932Z"
   },
   {
    "duration": 16,
    "start_time": "2022-02-28T11:48:25.987Z"
   },
   {
    "duration": 499,
    "start_time": "2022-02-28T11:48:26.005Z"
   },
   {
    "duration": 5,
    "start_time": "2022-02-28T11:48:26.507Z"
   },
   {
    "duration": 23,
    "start_time": "2022-02-28T11:48:26.515Z"
   },
   {
    "duration": 233,
    "start_time": "2022-02-28T11:48:26.540Z"
   },
   {
    "duration": 5538,
    "start_time": "2022-02-28T11:48:26.782Z"
   },
   {
    "duration": 8,
    "start_time": "2022-02-28T11:48:32.323Z"
   },
   {
    "duration": 6988,
    "start_time": "2022-02-28T11:48:44.609Z"
   },
   {
    "duration": 7840,
    "start_time": "2022-02-28T11:49:00.427Z"
   },
   {
    "duration": 9,
    "start_time": "2022-02-28T12:06:51.557Z"
   },
   {
    "duration": 71,
    "start_time": "2022-02-28T12:10:00.160Z"
   },
   {
    "duration": 1253,
    "start_time": "2022-02-28T12:10:19.311Z"
   },
   {
    "duration": 9782,
    "start_time": "2022-02-28T12:10:24.991Z"
   },
   {
    "duration": 3630,
    "start_time": "2022-02-28T12:12:30.533Z"
   },
   {
    "duration": 6,
    "start_time": "2022-02-28T12:12:34.166Z"
   },
   {
    "duration": 43,
    "start_time": "2022-02-28T12:12:34.175Z"
   },
   {
    "duration": 21,
    "start_time": "2022-02-28T12:12:34.222Z"
   },
   {
    "duration": 6,
    "start_time": "2022-02-28T12:12:34.245Z"
   },
   {
    "duration": 86,
    "start_time": "2022-02-28T12:12:34.254Z"
   },
   {
    "duration": 12,
    "start_time": "2022-02-28T12:12:34.342Z"
   },
   {
    "duration": 33,
    "start_time": "2022-02-28T12:12:34.357Z"
   },
   {
    "duration": 17,
    "start_time": "2022-02-28T12:12:34.394Z"
   },
   {
    "duration": 9,
    "start_time": "2022-02-28T12:12:34.414Z"
   },
   {
    "duration": 14,
    "start_time": "2022-02-28T12:12:34.425Z"
   },
   {
    "duration": 42,
    "start_time": "2022-02-28T12:12:34.442Z"
   },
   {
    "duration": 8,
    "start_time": "2022-02-28T12:12:34.487Z"
   },
   {
    "duration": 10,
    "start_time": "2022-02-28T12:12:34.497Z"
   },
   {
    "duration": 27,
    "start_time": "2022-02-28T12:12:34.510Z"
   },
   {
    "duration": 9,
    "start_time": "2022-02-28T12:12:34.540Z"
   },
   {
    "duration": 7,
    "start_time": "2022-02-28T12:12:34.583Z"
   },
   {
    "duration": 64,
    "start_time": "2022-02-28T12:12:34.592Z"
   },
   {
    "duration": 27,
    "start_time": "2022-02-28T12:12:34.658Z"
   },
   {
    "duration": 11,
    "start_time": "2022-02-28T12:12:34.689Z"
   },
   {
    "duration": 15,
    "start_time": "2022-02-28T12:12:34.702Z"
   },
   {
    "duration": 10,
    "start_time": "2022-02-28T12:12:34.720Z"
   },
   {
    "duration": 59,
    "start_time": "2022-02-28T12:12:34.733Z"
   },
   {
    "duration": 10,
    "start_time": "2022-02-28T12:12:34.795Z"
   },
   {
    "duration": 38,
    "start_time": "2022-02-28T12:12:34.808Z"
   },
   {
    "duration": 33,
    "start_time": "2022-02-28T12:12:34.849Z"
   },
   {
    "duration": 6,
    "start_time": "2022-02-28T12:12:34.887Z"
   },
   {
    "duration": 10,
    "start_time": "2022-02-28T12:12:34.896Z"
   },
   {
    "duration": 15,
    "start_time": "2022-02-28T12:12:34.909Z"
   },
   {
    "duration": 7,
    "start_time": "2022-02-28T12:12:34.927Z"
   },
   {
    "duration": 62,
    "start_time": "2022-02-28T12:12:34.936Z"
   },
   {
    "duration": 617,
    "start_time": "2022-02-28T12:12:35.001Z"
   },
   {
    "duration": 15,
    "start_time": "2022-02-28T12:12:35.620Z"
   },
   {
    "duration": 57,
    "start_time": "2022-02-28T12:12:35.638Z"
   },
   {
    "duration": 20,
    "start_time": "2022-02-28T12:12:35.698Z"
   },
   {
    "duration": 452,
    "start_time": "2022-02-28T12:12:35.720Z"
   },
   {
    "duration": 10,
    "start_time": "2022-02-28T12:12:36.175Z"
   },
   {
    "duration": 12,
    "start_time": "2022-02-28T12:12:36.188Z"
   },
   {
    "duration": 249,
    "start_time": "2022-02-28T12:12:36.203Z"
   },
   {
    "duration": 5719,
    "start_time": "2022-02-28T12:12:42.073Z"
   },
   {
    "duration": 216,
    "start_time": "2022-02-28T12:13:21.233Z"
   },
   {
    "duration": 6,
    "start_time": "2022-02-28T12:13:45.949Z"
   },
   {
    "duration": 38,
    "start_time": "2022-02-28T12:13:45.958Z"
   },
   {
    "duration": 20,
    "start_time": "2022-02-28T12:13:45.999Z"
   },
   {
    "duration": 10,
    "start_time": "2022-02-28T12:13:46.022Z"
   },
   {
    "duration": 85,
    "start_time": "2022-02-28T12:13:46.034Z"
   },
   {
    "duration": 11,
    "start_time": "2022-02-28T12:13:46.122Z"
   },
   {
    "duration": 7,
    "start_time": "2022-02-28T12:13:46.136Z"
   },
   {
    "duration": 44,
    "start_time": "2022-02-28T12:13:46.146Z"
   },
   {
    "duration": 8,
    "start_time": "2022-02-28T12:13:46.195Z"
   },
   {
    "duration": 11,
    "start_time": "2022-02-28T12:13:46.206Z"
   },
   {
    "duration": 8,
    "start_time": "2022-02-28T12:13:46.219Z"
   },
   {
    "duration": 8,
    "start_time": "2022-02-28T12:13:46.229Z"
   },
   {
    "duration": 6,
    "start_time": "2022-02-28T12:13:46.282Z"
   },
   {
    "duration": 18,
    "start_time": "2022-02-28T12:13:46.291Z"
   },
   {
    "duration": 6,
    "start_time": "2022-02-28T12:13:46.311Z"
   },
   {
    "duration": 6,
    "start_time": "2022-02-28T12:13:46.320Z"
   },
   {
    "duration": 104,
    "start_time": "2022-02-28T12:13:46.329Z"
   },
   {
    "duration": 4,
    "start_time": "2022-02-28T12:13:46.436Z"
   },
   {
    "duration": 12,
    "start_time": "2022-02-28T12:13:46.442Z"
   },
   {
    "duration": 28,
    "start_time": "2022-02-28T12:13:46.456Z"
   },
   {
    "duration": 10,
    "start_time": "2022-02-28T12:13:46.487Z"
   },
   {
    "duration": 15,
    "start_time": "2022-02-28T12:13:46.500Z"
   },
   {
    "duration": 18,
    "start_time": "2022-02-28T12:13:46.518Z"
   },
   {
    "duration": 60,
    "start_time": "2022-02-28T12:13:46.539Z"
   },
   {
    "duration": 10,
    "start_time": "2022-02-28T12:13:46.601Z"
   },
   {
    "duration": 17,
    "start_time": "2022-02-28T12:13:46.614Z"
   },
   {
    "duration": 17,
    "start_time": "2022-02-28T12:13:46.636Z"
   },
   {
    "duration": 27,
    "start_time": "2022-02-28T12:13:46.655Z"
   },
   {
    "duration": 7,
    "start_time": "2022-02-28T12:13:46.685Z"
   },
   {
    "duration": 21,
    "start_time": "2022-02-28T12:13:46.695Z"
   },
   {
    "duration": 447,
    "start_time": "2022-02-28T12:13:46.719Z"
   },
   {
    "duration": 21,
    "start_time": "2022-02-28T12:13:47.168Z"
   },
   {
    "duration": 50,
    "start_time": "2022-02-28T12:13:47.191Z"
   },
   {
    "duration": 16,
    "start_time": "2022-02-28T12:13:47.243Z"
   },
   {
    "duration": 421,
    "start_time": "2022-02-28T12:13:47.261Z"
   },
   {
    "duration": 6,
    "start_time": "2022-02-28T12:13:47.684Z"
   },
   {
    "duration": 14,
    "start_time": "2022-02-28T12:13:47.694Z"
   },
   {
    "duration": 252,
    "start_time": "2022-02-28T12:13:47.711Z"
   },
   {
    "duration": 5445,
    "start_time": "2022-02-28T12:13:47.966Z"
   },
   {
    "duration": 46,
    "start_time": "2022-02-28T14:17:56.413Z"
   },
   {
    "duration": 48,
    "start_time": "2022-02-28T14:18:09.261Z"
   },
   {
    "duration": 5404,
    "start_time": "2022-02-28T14:20:16.128Z"
   },
   {
    "duration": 10434,
    "start_time": "2022-02-28T14:25:18.643Z"
   },
   {
    "duration": 240115,
    "start_time": "2022-02-28T14:25:46.698Z"
   },
   {
    "duration": 216,
    "start_time": "2022-02-28T14:29:46.815Z"
   },
   {
    "duration": 1583,
    "start_time": "2022-02-28T17:32:19.147Z"
   },
   {
    "duration": 458,
    "start_time": "2022-02-28T17:33:22.727Z"
   },
   {
    "duration": 5,
    "start_time": "2022-02-28T17:40:20.208Z"
   },
   {
    "duration": 41,
    "start_time": "2022-02-28T17:40:20.216Z"
   },
   {
    "duration": 33,
    "start_time": "2022-02-28T17:40:20.260Z"
   },
   {
    "duration": 7,
    "start_time": "2022-02-28T17:40:20.296Z"
   },
   {
    "duration": 63,
    "start_time": "2022-02-28T17:40:20.306Z"
   },
   {
    "duration": 11,
    "start_time": "2022-02-28T17:40:20.388Z"
   },
   {
    "duration": 10,
    "start_time": "2022-02-28T17:40:20.402Z"
   },
   {
    "duration": 21,
    "start_time": "2022-02-28T17:40:20.417Z"
   },
   {
    "duration": 48,
    "start_time": "2022-02-28T17:40:20.441Z"
   },
   {
    "duration": 19,
    "start_time": "2022-02-28T17:40:20.492Z"
   },
   {
    "duration": 9,
    "start_time": "2022-02-28T17:40:20.514Z"
   },
   {
    "duration": 8,
    "start_time": "2022-02-28T17:40:20.526Z"
   },
   {
    "duration": 51,
    "start_time": "2022-02-28T17:40:20.537Z"
   },
   {
    "duration": 25,
    "start_time": "2022-02-28T17:40:20.591Z"
   },
   {
    "duration": 7,
    "start_time": "2022-02-28T17:40:20.619Z"
   },
   {
    "duration": 8,
    "start_time": "2022-02-28T17:40:20.629Z"
   },
   {
    "duration": 130,
    "start_time": "2022-02-28T17:40:20.640Z"
   },
   {
    "duration": 16,
    "start_time": "2022-02-28T17:40:20.773Z"
   },
   {
    "duration": 13,
    "start_time": "2022-02-28T17:40:20.792Z"
   },
   {
    "duration": 17,
    "start_time": "2022-02-28T17:40:20.808Z"
   },
   {
    "duration": 14,
    "start_time": "2022-02-28T17:40:20.828Z"
   },
   {
    "duration": 45,
    "start_time": "2022-02-28T17:40:20.845Z"
   },
   {
    "duration": 7,
    "start_time": "2022-02-28T17:40:20.897Z"
   },
   {
    "duration": 51,
    "start_time": "2022-02-28T17:40:20.908Z"
   },
   {
    "duration": 35,
    "start_time": "2022-02-28T17:40:20.962Z"
   },
   {
    "duration": 6,
    "start_time": "2022-02-28T17:40:21.000Z"
   },
   {
    "duration": 10,
    "start_time": "2022-02-28T17:40:21.009Z"
   },
   {
    "duration": 12,
    "start_time": "2022-02-28T17:40:21.022Z"
   },
   {
    "duration": 50,
    "start_time": "2022-02-28T17:40:21.036Z"
   },
   {
    "duration": 15,
    "start_time": "2022-02-28T17:40:21.089Z"
   },
   {
    "duration": 470,
    "start_time": "2022-02-28T17:40:21.107Z"
   },
   {
    "duration": 19,
    "start_time": "2022-02-28T17:40:21.580Z"
   },
   {
    "duration": 27,
    "start_time": "2022-02-28T17:40:21.601Z"
   },
   {
    "duration": 16,
    "start_time": "2022-02-28T17:40:21.630Z"
   },
   {
    "duration": 451,
    "start_time": "2022-02-28T17:40:21.649Z"
   },
   {
    "duration": 6,
    "start_time": "2022-02-28T17:40:22.104Z"
   },
   {
    "duration": 14,
    "start_time": "2022-02-28T17:40:22.113Z"
   },
   {
    "duration": 265,
    "start_time": "2022-02-28T17:40:22.129Z"
   },
   {
    "duration": 5809,
    "start_time": "2022-02-28T17:40:22.397Z"
   },
   {
    "duration": 10,
    "start_time": "2022-02-28T17:40:28.208Z"
   },
   {
    "duration": 291,
    "start_time": "2022-02-28T17:40:28.221Z"
   },
   {
    "duration": 42,
    "start_time": "2022-02-28T17:42:18.249Z"
   },
   {
    "duration": 8,
    "start_time": "2022-02-28T18:20:30.005Z"
   },
   {
    "duration": 231,
    "start_time": "2022-02-28T18:20:45.429Z"
   },
   {
    "duration": 6,
    "start_time": "2022-02-28T18:21:15.033Z"
   },
   {
    "duration": 392,
    "start_time": "2022-02-28T18:21:15.521Z"
   },
   {
    "duration": 7,
    "start_time": "2022-02-28T18:21:19.267Z"
   },
   {
    "duration": 407,
    "start_time": "2022-02-28T18:21:19.792Z"
   },
   {
    "duration": 7,
    "start_time": "2022-02-28T18:21:27.090Z"
   },
   {
    "duration": 218,
    "start_time": "2022-02-28T18:21:48.255Z"
   },
   {
    "duration": 6,
    "start_time": "2022-02-28T18:22:10.837Z"
   },
   {
    "duration": 251,
    "start_time": "2022-02-28T18:22:12.008Z"
   },
   {
    "duration": 278,
    "start_time": "2022-02-28T18:22:28.584Z"
   },
   {
    "duration": 6,
    "start_time": "2022-02-28T18:22:38.961Z"
   },
   {
    "duration": 266,
    "start_time": "2022-02-28T18:22:39.964Z"
   },
   {
    "duration": 6,
    "start_time": "2022-02-28T18:22:48.196Z"
   },
   {
    "duration": 269,
    "start_time": "2022-02-28T18:22:48.873Z"
   },
   {
    "duration": 5,
    "start_time": "2022-02-28T18:23:52.800Z"
   },
   {
    "duration": 797,
    "start_time": "2022-02-28T18:23:53.872Z"
   },
   {
    "duration": 6,
    "start_time": "2022-02-28T18:24:08.329Z"
   },
   {
    "duration": 352,
    "start_time": "2022-02-28T18:24:09.285Z"
   },
   {
    "duration": 6,
    "start_time": "2022-02-28T18:24:31.344Z"
   },
   {
    "duration": 253,
    "start_time": "2022-02-28T18:24:32.766Z"
   },
   {
    "duration": 5,
    "start_time": "2022-02-28T18:24:55.900Z"
   },
   {
    "duration": 7807,
    "start_time": "2022-02-28T18:24:56.719Z"
   },
   {
    "duration": 5,
    "start_time": "2022-02-28T18:25:49.173Z"
   },
   {
    "duration": 246,
    "start_time": "2022-02-28T18:25:49.928Z"
   },
   {
    "duration": 6,
    "start_time": "2022-02-28T18:26:03.947Z"
   },
   {
    "duration": 253,
    "start_time": "2022-02-28T18:26:05.313Z"
   },
   {
    "duration": 6,
    "start_time": "2022-02-28T18:26:14.463Z"
   },
   {
    "duration": 344,
    "start_time": "2022-02-28T18:26:16.411Z"
   },
   {
    "duration": 264,
    "start_time": "2022-02-28T18:28:24.477Z"
   },
   {
    "duration": 852,
    "start_time": "2022-02-28T18:33:15.827Z"
   },
   {
    "duration": 978,
    "start_time": "2022-02-28T18:33:48.037Z"
   },
   {
    "duration": 1251,
    "start_time": "2022-02-28T18:34:04.313Z"
   },
   {
    "duration": 1223,
    "start_time": "2022-02-28T18:34:19.252Z"
   },
   {
    "duration": 1438,
    "start_time": "2022-02-28T18:35:18.912Z"
   },
   {
    "duration": 337,
    "start_time": "2022-02-28T18:35:41.235Z"
   },
   {
    "duration": 266,
    "start_time": "2022-02-28T18:35:54.076Z"
   },
   {
    "duration": 286,
    "start_time": "2022-02-28T18:36:01.460Z"
   },
   {
    "duration": 314,
    "start_time": "2022-02-28T18:36:21.518Z"
   },
   {
    "duration": 270,
    "start_time": "2022-02-28T18:36:40.767Z"
   },
   {
    "duration": 4,
    "start_time": "2022-02-28T18:36:51.463Z"
   },
   {
    "duration": 12,
    "start_time": "2022-02-28T18:37:05.092Z"
   },
   {
    "duration": 342,
    "start_time": "2022-02-28T18:37:25.116Z"
   },
   {
    "duration": 760,
    "start_time": "2022-02-28T18:38:15.999Z"
   },
   {
    "duration": 891,
    "start_time": "2022-02-28T18:38:30.438Z"
   },
   {
    "duration": 973,
    "start_time": "2022-02-28T18:38:35.850Z"
   },
   {
    "duration": 931,
    "start_time": "2022-02-28T18:38:50.091Z"
   },
   {
    "duration": 1142,
    "start_time": "2022-02-28T18:38:59.069Z"
   },
   {
    "duration": 1082,
    "start_time": "2022-02-28T18:39:08.257Z"
   },
   {
    "duration": 695,
    "start_time": "2022-02-28T19:08:53.453Z"
   },
   {
    "duration": 4,
    "start_time": "2022-02-28T19:09:15.595Z"
   },
   {
    "duration": 48,
    "start_time": "2022-02-28T19:10:42.019Z"
   },
   {
    "duration": 47,
    "start_time": "2022-02-28T19:10:44.887Z"
   },
   {
    "duration": 8,
    "start_time": "2022-02-28T19:10:59.387Z"
   },
   {
    "duration": 46,
    "start_time": "2022-02-28T19:11:08.203Z"
   },
   {
    "duration": 9,
    "start_time": "2022-02-28T19:11:08.827Z"
   },
   {
    "duration": 6,
    "start_time": "2022-02-28T19:12:38.638Z"
   },
   {
    "duration": 8,
    "start_time": "2022-02-28T19:12:43.161Z"
   },
   {
    "duration": 48,
    "start_time": "2022-02-28T19:14:07.507Z"
   },
   {
    "duration": 10,
    "start_time": "2022-02-28T19:14:14.541Z"
   },
   {
    "duration": 264,
    "start_time": "2022-02-28T19:14:37.910Z"
   },
   {
    "duration": 12,
    "start_time": "2022-02-28T19:14:46.481Z"
   },
   {
    "duration": 113,
    "start_time": "2022-02-28T19:16:03.005Z"
   },
   {
    "duration": 111,
    "start_time": "2022-02-28T19:16:28.626Z"
   },
   {
    "duration": 8,
    "start_time": "2022-02-28T19:16:48.991Z"
   },
   {
    "duration": 1017,
    "start_time": "2022-02-28T19:20:18.171Z"
   },
   {
    "duration": 109,
    "start_time": "2022-02-28T19:20:37.761Z"
   },
   {
    "duration": 113,
    "start_time": "2022-02-28T19:23:01.781Z"
   },
   {
    "duration": 60,
    "start_time": "2022-02-28T19:23:51.127Z"
   },
   {
    "duration": 38,
    "start_time": "2022-02-28T19:23:56.263Z"
   },
   {
    "duration": 8,
    "start_time": "2022-02-28T19:24:28.331Z"
   },
   {
    "duration": 345,
    "start_time": "2022-02-28T19:34:40.403Z"
   },
   {
    "duration": 390,
    "start_time": "2022-02-28T19:34:50.477Z"
   },
   {
    "duration": 87,
    "start_time": "2022-02-28T19:34:59.208Z"
   },
   {
    "duration": 1578,
    "start_time": "2022-03-01T06:54:50.636Z"
   },
   {
    "duration": 31,
    "start_time": "2022-03-01T06:54:52.216Z"
   },
   {
    "duration": 34,
    "start_time": "2022-03-01T06:54:52.250Z"
   },
   {
    "duration": 5,
    "start_time": "2022-03-01T06:54:52.287Z"
   },
   {
    "duration": 80,
    "start_time": "2022-03-01T06:54:52.294Z"
   },
   {
    "duration": 11,
    "start_time": "2022-03-01T06:54:52.377Z"
   },
   {
    "duration": 7,
    "start_time": "2022-03-01T06:54:52.390Z"
   },
   {
    "duration": 18,
    "start_time": "2022-03-01T06:54:52.400Z"
   },
   {
    "duration": 8,
    "start_time": "2022-03-01T06:54:52.422Z"
   },
   {
    "duration": 13,
    "start_time": "2022-03-01T06:54:52.474Z"
   },
   {
    "duration": 8,
    "start_time": "2022-03-01T06:54:52.490Z"
   },
   {
    "duration": 10,
    "start_time": "2022-03-01T06:54:52.500Z"
   },
   {
    "duration": 6,
    "start_time": "2022-03-01T06:54:52.513Z"
   },
   {
    "duration": 60,
    "start_time": "2022-03-01T06:54:52.521Z"
   },
   {
    "duration": 13,
    "start_time": "2022-03-01T06:54:52.584Z"
   },
   {
    "duration": 8,
    "start_time": "2022-03-01T06:54:52.599Z"
   },
   {
    "duration": 89,
    "start_time": "2022-03-01T06:54:52.610Z"
   },
   {
    "duration": 7,
    "start_time": "2022-03-01T06:54:52.702Z"
   },
   {
    "duration": 20,
    "start_time": "2022-03-01T06:54:52.711Z"
   },
   {
    "duration": 26,
    "start_time": "2022-03-01T06:54:52.734Z"
   },
   {
    "duration": 18,
    "start_time": "2022-03-01T06:54:52.763Z"
   },
   {
    "duration": 20,
    "start_time": "2022-03-01T06:54:52.784Z"
   },
   {
    "duration": 17,
    "start_time": "2022-03-01T06:54:52.806Z"
   },
   {
    "duration": 53,
    "start_time": "2022-03-01T06:54:52.825Z"
   },
   {
    "duration": 10,
    "start_time": "2022-03-01T06:54:52.881Z"
   },
   {
    "duration": 13,
    "start_time": "2022-03-01T06:54:52.894Z"
   },
   {
    "duration": 20,
    "start_time": "2022-03-01T06:54:52.912Z"
   },
   {
    "duration": 32,
    "start_time": "2022-03-01T06:54:52.934Z"
   },
   {
    "duration": 16,
    "start_time": "2022-03-01T06:54:52.969Z"
   },
   {
    "duration": 28,
    "start_time": "2022-03-01T06:54:52.987Z"
   },
   {
    "duration": 454,
    "start_time": "2022-03-01T06:54:53.017Z"
   },
   {
    "duration": 16,
    "start_time": "2022-03-01T06:54:53.475Z"
   },
   {
    "duration": 44,
    "start_time": "2022-03-01T06:54:53.494Z"
   },
   {
    "duration": 40,
    "start_time": "2022-03-01T06:54:53.540Z"
   },
   {
    "duration": 444,
    "start_time": "2022-03-01T06:54:53.583Z"
   },
   {
    "duration": 7,
    "start_time": "2022-03-01T06:54:54.030Z"
   },
   {
    "duration": 18,
    "start_time": "2022-03-01T06:54:54.039Z"
   },
   {
    "duration": 724,
    "start_time": "2022-03-01T06:54:54.059Z"
   },
   {
    "duration": 50,
    "start_time": "2022-03-01T06:54:54.785Z"
   },
   {
    "duration": 510,
    "start_time": "2022-03-01T07:02:12.366Z"
   },
   {
    "duration": 80,
    "start_time": "2022-03-01T07:06:27.602Z"
   },
   {
    "duration": 84,
    "start_time": "2022-03-01T07:06:37.096Z"
   },
   {
    "duration": 124,
    "start_time": "2022-03-01T07:06:41.152Z"
   },
   {
    "duration": 80,
    "start_time": "2022-03-01T07:06:47.400Z"
   },
   {
    "duration": 163,
    "start_time": "2022-03-01T07:06:50.912Z"
   },
   {
    "duration": 121,
    "start_time": "2022-03-01T07:06:57.361Z"
   },
   {
    "duration": 151,
    "start_time": "2022-03-01T07:07:01.025Z"
   },
   {
    "duration": 100,
    "start_time": "2022-03-01T07:07:05.481Z"
   },
   {
    "duration": 163,
    "start_time": "2022-03-01T07:07:09.713Z"
   },
   {
    "duration": 66,
    "start_time": "2022-03-01T07:07:17.313Z"
   },
   {
    "duration": 91,
    "start_time": "2022-03-01T07:07:27.289Z"
   },
   {
    "duration": 65,
    "start_time": "2022-03-01T07:07:45.514Z"
   },
   {
    "duration": 6,
    "start_time": "2022-03-01T07:19:04.222Z"
   },
   {
    "duration": 423,
    "start_time": "2022-03-01T07:19:43.208Z"
   },
   {
    "duration": 6,
    "start_time": "2022-03-01T07:19:52.441Z"
   },
   {
    "duration": 14,
    "start_time": "2022-03-01T07:19:57.793Z"
   },
   {
    "duration": 6,
    "start_time": "2022-03-01T07:21:50.769Z"
   },
   {
    "duration": 5,
    "start_time": "2022-03-01T08:27:52.731Z"
   },
   {
    "duration": 1000,
    "start_time": "2022-03-01T08:30:45.182Z"
   },
   {
    "duration": 8,
    "start_time": "2022-03-01T08:30:57.196Z"
   },
   {
    "duration": 119,
    "start_time": "2022-03-01T08:31:11.454Z"
   },
   {
    "duration": 8,
    "start_time": "2022-03-01T08:31:13.772Z"
   },
   {
    "duration": 1013,
    "start_time": "2022-03-01T08:31:28.413Z"
   },
   {
    "duration": 11,
    "start_time": "2022-03-01T08:31:31.628Z"
   },
   {
    "duration": 347,
    "start_time": "2022-03-01T08:32:58.141Z"
   },
   {
    "duration": 50,
    "start_time": "2022-03-01T08:33:09.033Z"
   },
   {
    "duration": 6,
    "start_time": "2022-03-01T08:35:16.694Z"
   },
   {
    "duration": 5,
    "start_time": "2022-03-01T08:41:48.376Z"
   },
   {
    "duration": 5,
    "start_time": "2022-03-01T08:42:00.059Z"
   },
   {
    "duration": 51,
    "start_time": "2022-03-01T08:43:07.372Z"
   },
   {
    "duration": 8,
    "start_time": "2022-03-01T08:43:21.779Z"
   },
   {
    "duration": 5,
    "start_time": "2022-03-01T08:44:50.720Z"
   },
   {
    "duration": 53,
    "start_time": "2022-03-01T08:44:52.830Z"
   },
   {
    "duration": 9,
    "start_time": "2022-03-01T08:44:54.604Z"
   },
   {
    "duration": 5,
    "start_time": "2022-03-01T08:46:22.798Z"
   },
   {
    "duration": 53,
    "start_time": "2022-03-01T08:46:23.590Z"
   },
   {
    "duration": 10,
    "start_time": "2022-03-01T08:46:27.621Z"
   },
   {
    "duration": 5,
    "start_time": "2022-03-01T08:47:31.470Z"
   },
   {
    "duration": 56,
    "start_time": "2022-03-01T08:47:32.103Z"
   },
   {
    "duration": 6,
    "start_time": "2022-03-01T08:48:00.542Z"
   },
   {
    "duration": 53,
    "start_time": "2022-03-01T08:48:07.094Z"
   },
   {
    "duration": 53,
    "start_time": "2022-03-01T08:48:13.913Z"
   },
   {
    "duration": 385,
    "start_time": "2022-03-01T08:48:20.111Z"
   },
   {
    "duration": 53,
    "start_time": "2022-03-01T08:48:24.030Z"
   },
   {
    "duration": 6,
    "start_time": "2022-03-01T08:49:28.520Z"
   },
   {
    "duration": 582,
    "start_time": "2022-03-01T08:49:29.327Z"
   },
   {
    "duration": 6,
    "start_time": "2022-03-01T08:53:36.250Z"
   },
   {
    "duration": 56,
    "start_time": "2022-03-01T08:53:36.506Z"
   },
   {
    "duration": 58,
    "start_time": "2022-03-01T08:53:44.146Z"
   },
   {
    "duration": 8,
    "start_time": "2022-03-01T08:53:58.410Z"
   },
   {
    "duration": 6,
    "start_time": "2022-03-01T08:54:35.610Z"
   },
   {
    "duration": 63,
    "start_time": "2022-03-01T08:54:35.928Z"
   },
   {
    "duration": 6,
    "start_time": "2022-03-01T08:55:23.763Z"
   },
   {
    "duration": 57,
    "start_time": "2022-03-01T08:55:24.299Z"
   },
   {
    "duration": 6,
    "start_time": "2022-03-01T08:56:47.893Z"
   },
   {
    "duration": 59,
    "start_time": "2022-03-01T08:56:48.460Z"
   },
   {
    "duration": 662,
    "start_time": "2022-03-01T08:57:08.100Z"
   },
   {
    "duration": 5,
    "start_time": "2022-03-01T08:57:14.900Z"
   },
   {
    "duration": 59,
    "start_time": "2022-03-01T08:57:15.412Z"
   },
   {
    "duration": 1174,
    "start_time": "2022-03-01T10:36:46.321Z"
   },
   {
    "duration": 9,
    "start_time": "2022-03-01T10:37:13.394Z"
   },
   {
    "duration": 355,
    "start_time": "2022-03-01T10:37:29.787Z"
   },
   {
    "duration": 211,
    "start_time": "2022-03-01T10:37:35.663Z"
   },
   {
    "duration": 6,
    "start_time": "2022-03-01T10:40:25.219Z"
   },
   {
    "duration": 9,
    "start_time": "2022-03-01T10:40:28.547Z"
   },
   {
    "duration": 20,
    "start_time": "2022-03-01T10:40:38.415Z"
   },
   {
    "duration": 421,
    "start_time": "2022-03-01T10:55:50.885Z"
   },
   {
    "duration": 678,
    "start_time": "2022-03-01T10:56:00.598Z"
   },
   {
    "duration": 679,
    "start_time": "2022-03-01T10:56:58.149Z"
   },
   {
    "duration": 670,
    "start_time": "2022-03-01T10:57:06.142Z"
   },
   {
    "duration": 838,
    "start_time": "2022-03-01T11:00:58.578Z"
   },
   {
    "duration": 809,
    "start_time": "2022-03-01T11:01:11.169Z"
   },
   {
    "duration": 807,
    "start_time": "2022-03-01T11:34:47.518Z"
   },
   {
    "duration": 909,
    "start_time": "2022-03-01T11:35:10.606Z"
   },
   {
    "duration": 799,
    "start_time": "2022-03-01T11:44:09.119Z"
   },
   {
    "duration": 811,
    "start_time": "2022-03-01T11:44:34.717Z"
   },
   {
    "duration": 810,
    "start_time": "2022-03-01T11:44:46.875Z"
   },
   {
    "duration": 309,
    "start_time": "2022-03-01T11:44:56.179Z"
   },
   {
    "duration": 817,
    "start_time": "2022-03-01T11:45:10.189Z"
   },
   {
    "duration": 820,
    "start_time": "2022-03-01T11:45:55.669Z"
   },
   {
    "duration": 811,
    "start_time": "2022-03-01T11:46:00.932Z"
   },
   {
    "duration": 792,
    "start_time": "2022-03-01T11:46:05.108Z"
   },
   {
    "duration": 811,
    "start_time": "2022-03-01T11:46:18.518Z"
   },
   {
    "duration": 790,
    "start_time": "2022-03-01T11:46:24.236Z"
   },
   {
    "duration": 796,
    "start_time": "2022-03-01T11:46:28.269Z"
   },
   {
    "duration": 822,
    "start_time": "2022-03-01T11:46:32.613Z"
   },
   {
    "duration": 10861,
    "start_time": "2022-03-01T11:49:02.118Z"
   },
   {
    "duration": 3676,
    "start_time": "2022-03-01T11:49:47.817Z"
   },
   {
    "duration": 5,
    "start_time": "2022-03-01T11:49:51.497Z"
   },
   {
    "duration": 42,
    "start_time": "2022-03-01T11:49:51.505Z"
   },
   {
    "duration": 21,
    "start_time": "2022-03-01T11:49:51.549Z"
   },
   {
    "duration": 9,
    "start_time": "2022-03-01T11:49:51.573Z"
   },
   {
    "duration": 64,
    "start_time": "2022-03-01T11:49:51.584Z"
   },
   {
    "duration": 25,
    "start_time": "2022-03-01T11:49:51.650Z"
   },
   {
    "duration": 9,
    "start_time": "2022-03-01T11:49:51.680Z"
   },
   {
    "duration": 31,
    "start_time": "2022-03-01T11:49:51.691Z"
   },
   {
    "duration": 23,
    "start_time": "2022-03-01T11:49:51.724Z"
   },
   {
    "duration": 34,
    "start_time": "2022-03-01T11:49:51.749Z"
   },
   {
    "duration": 11,
    "start_time": "2022-03-01T11:49:51.787Z"
   },
   {
    "duration": 16,
    "start_time": "2022-03-01T11:49:51.800Z"
   },
   {
    "duration": 12,
    "start_time": "2022-03-01T11:49:51.819Z"
   },
   {
    "duration": 45,
    "start_time": "2022-03-01T11:49:51.834Z"
   },
   {
    "duration": 21,
    "start_time": "2022-03-01T11:49:51.882Z"
   },
   {
    "duration": 16,
    "start_time": "2022-03-01T11:49:51.905Z"
   },
   {
    "duration": 76,
    "start_time": "2022-03-01T11:49:51.924Z"
   },
   {
    "duration": 6,
    "start_time": "2022-03-01T11:49:52.003Z"
   },
   {
    "duration": 42,
    "start_time": "2022-03-01T11:49:52.011Z"
   },
   {
    "duration": 21,
    "start_time": "2022-03-01T11:49:52.056Z"
   },
   {
    "duration": 26,
    "start_time": "2022-03-01T11:49:52.080Z"
   },
   {
    "duration": 30,
    "start_time": "2022-03-01T11:49:52.113Z"
   },
   {
    "duration": 8,
    "start_time": "2022-03-01T11:49:52.147Z"
   },
   {
    "duration": 57,
    "start_time": "2022-03-01T11:49:52.157Z"
   },
   {
    "duration": 12,
    "start_time": "2022-03-01T11:49:52.217Z"
   },
   {
    "duration": 11,
    "start_time": "2022-03-01T11:49:52.232Z"
   },
   {
    "duration": 13,
    "start_time": "2022-03-01T11:49:52.245Z"
   },
   {
    "duration": 25,
    "start_time": "2022-03-01T11:49:52.261Z"
   },
   {
    "duration": 20,
    "start_time": "2022-03-01T11:49:52.289Z"
   },
   {
    "duration": 33,
    "start_time": "2022-03-01T11:49:52.311Z"
   },
   {
    "duration": 546,
    "start_time": "2022-03-01T11:49:52.347Z"
   },
   {
    "duration": 15,
    "start_time": "2022-03-01T11:49:52.896Z"
   },
   {
    "duration": 44,
    "start_time": "2022-03-01T11:49:52.914Z"
   },
   {
    "duration": 26,
    "start_time": "2022-03-01T11:49:52.961Z"
   },
   {
    "duration": 442,
    "start_time": "2022-03-01T11:49:52.989Z"
   },
   {
    "duration": 5,
    "start_time": "2022-03-01T11:49:53.434Z"
   },
   {
    "duration": 13,
    "start_time": "2022-03-01T11:49:53.442Z"
   },
   {
    "duration": 833,
    "start_time": "2022-03-01T11:49:53.458Z"
   },
   {
    "duration": 5,
    "start_time": "2022-03-01T11:49:54.294Z"
   },
   {
    "duration": 91,
    "start_time": "2022-03-01T11:49:54.301Z"
   },
   {
    "duration": 820,
    "start_time": "2022-03-01T11:49:54.394Z"
   },
   {
    "duration": 818,
    "start_time": "2022-03-01T11:53:40.177Z"
   },
   {
    "duration": 831,
    "start_time": "2022-03-01T11:53:59.065Z"
   },
   {
    "duration": 8,
    "start_time": "2022-03-01T11:54:05.050Z"
   },
   {
    "duration": 934,
    "start_time": "2022-03-01T11:55:05.766Z"
   },
   {
    "duration": 3776,
    "start_time": "2022-03-01T11:57:07.703Z"
   },
   {
    "duration": 1740,
    "start_time": "2022-03-01T11:57:11.482Z"
   },
   {
    "duration": 36,
    "start_time": "2022-03-01T11:57:13.226Z"
   },
   {
    "duration": 28,
    "start_time": "2022-03-01T11:57:13.265Z"
   },
   {
    "duration": 9,
    "start_time": "2022-03-01T11:57:13.295Z"
   },
   {
    "duration": 80,
    "start_time": "2022-03-01T11:57:13.306Z"
   },
   {
    "duration": 11,
    "start_time": "2022-03-01T11:57:13.388Z"
   },
   {
    "duration": 15,
    "start_time": "2022-03-01T11:57:13.403Z"
   },
   {
    "duration": 14,
    "start_time": "2022-03-01T11:57:13.421Z"
   },
   {
    "duration": 38,
    "start_time": "2022-03-01T11:57:13.437Z"
   },
   {
    "duration": 15,
    "start_time": "2022-03-01T11:57:13.477Z"
   },
   {
    "duration": 8,
    "start_time": "2022-03-01T11:57:13.495Z"
   },
   {
    "duration": 7,
    "start_time": "2022-03-01T11:57:13.505Z"
   },
   {
    "duration": 14,
    "start_time": "2022-03-01T11:57:13.514Z"
   },
   {
    "duration": 56,
    "start_time": "2022-03-01T11:57:13.531Z"
   },
   {
    "duration": 10,
    "start_time": "2022-03-01T11:57:13.589Z"
   },
   {
    "duration": 19,
    "start_time": "2022-03-01T11:57:13.601Z"
   },
   {
    "duration": 78,
    "start_time": "2022-03-01T11:57:13.623Z"
   },
   {
    "duration": 5,
    "start_time": "2022-03-01T11:57:13.703Z"
   },
   {
    "duration": 12,
    "start_time": "2022-03-01T11:57:13.710Z"
   },
   {
    "duration": 18,
    "start_time": "2022-03-01T11:57:13.725Z"
   },
   {
    "duration": 30,
    "start_time": "2022-03-01T11:57:13.745Z"
   },
   {
    "duration": 11,
    "start_time": "2022-03-01T11:57:13.779Z"
   },
   {
    "duration": 15,
    "start_time": "2022-03-01T11:57:13.793Z"
   },
   {
    "duration": 40,
    "start_time": "2022-03-01T11:57:13.811Z"
   },
   {
    "duration": 26,
    "start_time": "2022-03-01T11:57:13.854Z"
   },
   {
    "duration": 5,
    "start_time": "2022-03-01T11:57:13.883Z"
   },
   {
    "duration": 18,
    "start_time": "2022-03-01T11:57:13.890Z"
   },
   {
    "duration": 13,
    "start_time": "2022-03-01T11:57:13.911Z"
   },
   {
    "duration": 11,
    "start_time": "2022-03-01T11:57:13.926Z"
   },
   {
    "duration": 42,
    "start_time": "2022-03-01T11:57:13.940Z"
   },
   {
    "duration": 451,
    "start_time": "2022-03-01T11:57:13.985Z"
   },
   {
    "duration": 15,
    "start_time": "2022-03-01T11:57:14.439Z"
   },
   {
    "duration": 49,
    "start_time": "2022-03-01T11:57:14.457Z"
   },
   {
    "duration": 17,
    "start_time": "2022-03-01T11:57:14.509Z"
   },
   {
    "duration": 538,
    "start_time": "2022-03-01T11:57:14.529Z"
   },
   {
    "duration": 6,
    "start_time": "2022-03-01T11:57:15.074Z"
   },
   {
    "duration": 6,
    "start_time": "2022-03-01T11:57:15.083Z"
   },
   {
    "duration": 726,
    "start_time": "2022-03-01T11:57:15.092Z"
   },
   {
    "duration": 6,
    "start_time": "2022-03-01T11:57:15.821Z"
   },
   {
    "duration": 89,
    "start_time": "2022-03-01T11:57:15.830Z"
   },
   {
    "duration": 2172,
    "start_time": "2022-03-01T11:57:54.110Z"
   },
   {
    "duration": 1101,
    "start_time": "2022-03-01T11:58:17.598Z"
   },
   {
    "duration": 6,
    "start_time": "2022-03-01T11:58:41.254Z"
   },
   {
    "duration": 3,
    "start_time": "2022-03-01T12:00:02.095Z"
   },
   {
    "duration": 3,
    "start_time": "2022-03-01T12:00:05.303Z"
   },
   {
    "duration": 3,
    "start_time": "2022-03-01T12:00:05.823Z"
   },
   {
    "duration": 1063,
    "start_time": "2022-03-01T12:00:06.399Z"
   },
   {
    "duration": 6,
    "start_time": "2022-03-01T12:00:14.198Z"
   },
   {
    "duration": 3,
    "start_time": "2022-03-01T12:00:48.471Z"
   },
   {
    "duration": 15322,
    "start_time": "2022-03-01T12:04:21.769Z"
   },
   {
    "duration": 13516,
    "start_time": "2022-03-01T12:05:43.755Z"
   },
   {
    "duration": 13037,
    "start_time": "2022-03-01T12:10:24.245Z"
   },
   {
    "duration": 155658,
    "start_time": "2022-03-01T12:11:09.022Z"
   },
   {
    "duration": 459219,
    "start_time": "2022-03-01T12:14:23.408Z"
   },
   {
    "duration": 260150,
    "start_time": "2022-03-01T12:49:03.101Z"
   },
   {
    "duration": 134270,
    "start_time": "2022-03-01T12:55:18.010Z"
   },
   {
    "duration": 48740,
    "start_time": "2022-03-01T13:00:36.109Z"
   },
   {
    "duration": 40746,
    "start_time": "2022-03-01T13:02:00.470Z"
   },
   {
    "duration": 659399,
    "start_time": "2022-03-01T13:03:06.831Z"
   },
   {
    "duration": 10941,
    "start_time": "2022-03-01T13:16:27.535Z"
   },
   {
    "duration": 31811,
    "start_time": "2022-03-01T13:16:52.259Z"
   },
   {
    "duration": 39985,
    "start_time": "2022-03-01T13:19:24.242Z"
   },
   {
    "duration": 39357,
    "start_time": "2022-03-01T13:22:56.035Z"
   },
   {
    "duration": 38680,
    "start_time": "2022-03-01T13:23:57.636Z"
   },
   {
    "duration": 6,
    "start_time": "2022-03-01T13:27:42.485Z"
   },
   {
    "duration": 461,
    "start_time": "2022-03-01T13:48:17.514Z"
   },
   {
    "duration": 1103,
    "start_time": "2022-03-01T13:48:34.173Z"
   },
   {
    "duration": 657,
    "start_time": "2022-03-01T14:21:38.117Z"
   },
   {
    "duration": 3821,
    "start_time": "2022-03-01T14:21:50.608Z"
   },
   {
    "duration": 6,
    "start_time": "2022-03-01T14:21:54.433Z"
   },
   {
    "duration": 36,
    "start_time": "2022-03-01T14:21:54.442Z"
   },
   {
    "duration": 22,
    "start_time": "2022-03-01T14:21:54.481Z"
   },
   {
    "duration": 6,
    "start_time": "2022-03-01T14:21:54.505Z"
   },
   {
    "duration": 81,
    "start_time": "2022-03-01T14:21:54.513Z"
   },
   {
    "duration": 12,
    "start_time": "2022-03-01T14:21:54.597Z"
   },
   {
    "duration": 7,
    "start_time": "2022-03-01T14:21:54.613Z"
   },
   {
    "duration": 15,
    "start_time": "2022-03-01T14:21:54.623Z"
   },
   {
    "duration": 9,
    "start_time": "2022-03-01T14:21:54.674Z"
   },
   {
    "duration": 12,
    "start_time": "2022-03-01T14:21:54.685Z"
   },
   {
    "duration": 11,
    "start_time": "2022-03-01T14:21:54.699Z"
   },
   {
    "duration": 7,
    "start_time": "2022-03-01T14:21:54.713Z"
   },
   {
    "duration": 10,
    "start_time": "2022-03-01T14:21:54.722Z"
   },
   {
    "duration": 19,
    "start_time": "2022-03-01T14:21:54.774Z"
   },
   {
    "duration": 7,
    "start_time": "2022-03-01T14:21:54.795Z"
   },
   {
    "duration": 7,
    "start_time": "2022-03-01T14:21:54.804Z"
   },
   {
    "duration": 95,
    "start_time": "2022-03-01T14:21:54.813Z"
   },
   {
    "duration": 4,
    "start_time": "2022-03-01T14:21:54.910Z"
   },
   {
    "duration": 10,
    "start_time": "2022-03-01T14:21:54.917Z"
   },
   {
    "duration": 14,
    "start_time": "2022-03-01T14:21:54.930Z"
   },
   {
    "duration": 12,
    "start_time": "2022-03-01T14:21:54.975Z"
   },
   {
    "duration": 13,
    "start_time": "2022-03-01T14:21:54.994Z"
   },
   {
    "duration": 7,
    "start_time": "2022-03-01T14:21:55.011Z"
   },
   {
    "duration": 75,
    "start_time": "2022-03-01T14:21:55.021Z"
   },
   {
    "duration": 11,
    "start_time": "2022-03-01T14:21:55.099Z"
   },
   {
    "duration": 6,
    "start_time": "2022-03-01T14:21:55.112Z"
   },
   {
    "duration": 8,
    "start_time": "2022-03-01T14:21:55.120Z"
   },
   {
    "duration": 47,
    "start_time": "2022-03-01T14:21:55.130Z"
   },
   {
    "duration": 7,
    "start_time": "2022-03-01T14:21:55.180Z"
   },
   {
    "duration": 23,
    "start_time": "2022-03-01T14:21:55.189Z"
   },
   {
    "duration": 481,
    "start_time": "2022-03-01T14:21:55.214Z"
   },
   {
    "duration": 16,
    "start_time": "2022-03-01T14:21:55.697Z"
   },
   {
    "duration": 62,
    "start_time": "2022-03-01T14:21:55.715Z"
   },
   {
    "duration": 17,
    "start_time": "2022-03-01T14:21:55.779Z"
   },
   {
    "duration": 452,
    "start_time": "2022-03-01T14:21:55.799Z"
   },
   {
    "duration": 5,
    "start_time": "2022-03-01T14:21:56.254Z"
   },
   {
    "duration": 4,
    "start_time": "2022-03-01T14:21:56.273Z"
   },
   {
    "duration": 743,
    "start_time": "2022-03-01T14:21:56.279Z"
   },
   {
    "duration": 3,
    "start_time": "2022-03-01T14:21:57.024Z"
   },
   {
    "duration": 6,
    "start_time": "2022-03-01T14:21:57.029Z"
   },
   {
    "duration": 1226,
    "start_time": "2022-03-01T14:21:57.037Z"
   },
   {
    "duration": 13,
    "start_time": "2022-03-01T14:21:58.265Z"
   },
   {
    "duration": 38247,
    "start_time": "2022-03-01T14:21:58.281Z"
   },
   {
    "duration": 6,
    "start_time": "2022-03-01T14:22:36.531Z"
   },
   {
    "duration": 834,
    "start_time": "2022-03-01T14:22:36.539Z"
   },
   {
    "duration": 7,
    "start_time": "2022-03-01T14:22:37.376Z"
   },
   {
    "duration": 675,
    "start_time": "2022-03-01T14:22:59.309Z"
   },
   {
    "duration": 6,
    "start_time": "2022-03-01T14:23:12.550Z"
   },
   {
    "duration": 446,
    "start_time": "2022-03-01T14:23:17.829Z"
   },
   {
    "duration": 7,
    "start_time": "2022-03-01T14:23:29.702Z"
   },
   {
    "duration": 19,
    "start_time": "2022-03-01T14:23:37.213Z"
   },
   {
    "duration": 6707,
    "start_time": "2022-03-02T08:04:35.738Z"
   },
   {
    "duration": 1257,
    "start_time": "2022-03-02T08:04:42.447Z"
   },
   {
    "duration": 24,
    "start_time": "2022-03-02T08:04:43.706Z"
   },
   {
    "duration": 16,
    "start_time": "2022-03-02T08:04:43.731Z"
   },
   {
    "duration": 7,
    "start_time": "2022-03-02T08:04:43.748Z"
   },
   {
    "duration": 43,
    "start_time": "2022-03-02T08:04:43.757Z"
   },
   {
    "duration": 8,
    "start_time": "2022-03-02T08:04:43.802Z"
   },
   {
    "duration": 5,
    "start_time": "2022-03-02T08:04:43.814Z"
   },
   {
    "duration": 42,
    "start_time": "2022-03-02T08:04:43.822Z"
   },
   {
    "duration": 7,
    "start_time": "2022-03-02T08:04:43.866Z"
   },
   {
    "duration": 9,
    "start_time": "2022-03-02T08:04:43.876Z"
   },
   {
    "duration": 6,
    "start_time": "2022-03-02T08:04:43.886Z"
   },
   {
    "duration": 8,
    "start_time": "2022-03-02T08:04:43.893Z"
   },
   {
    "duration": 6,
    "start_time": "2022-03-02T08:04:43.903Z"
   },
   {
    "duration": 16,
    "start_time": "2022-03-02T08:04:43.911Z"
   },
   {
    "duration": 36,
    "start_time": "2022-03-02T08:04:43.928Z"
   },
   {
    "duration": 7,
    "start_time": "2022-03-02T08:04:43.966Z"
   },
   {
    "duration": 40,
    "start_time": "2022-03-02T08:04:43.975Z"
   },
   {
    "duration": 3,
    "start_time": "2022-03-02T08:04:44.017Z"
   },
   {
    "duration": 10,
    "start_time": "2022-03-02T08:04:44.021Z"
   },
   {
    "duration": 10,
    "start_time": "2022-03-02T08:04:44.032Z"
   },
   {
    "duration": 25,
    "start_time": "2022-03-02T08:04:44.043Z"
   },
   {
    "duration": 9,
    "start_time": "2022-03-02T08:04:44.071Z"
   },
   {
    "duration": 4,
    "start_time": "2022-03-02T08:04:44.082Z"
   },
   {
    "duration": 25,
    "start_time": "2022-03-02T08:04:44.087Z"
   },
   {
    "duration": 7,
    "start_time": "2022-03-02T08:04:44.113Z"
   },
   {
    "duration": 3,
    "start_time": "2022-03-02T08:04:44.122Z"
   },
   {
    "duration": 35,
    "start_time": "2022-03-02T08:04:44.127Z"
   },
   {
    "duration": 8,
    "start_time": "2022-03-02T08:04:44.165Z"
   },
   {
    "duration": 4,
    "start_time": "2022-03-02T08:04:44.175Z"
   },
   {
    "duration": 12,
    "start_time": "2022-03-02T08:04:44.181Z"
   },
   {
    "duration": 295,
    "start_time": "2022-03-02T08:04:44.195Z"
   },
   {
    "duration": 10,
    "start_time": "2022-03-02T08:04:44.491Z"
   },
   {
    "duration": 25,
    "start_time": "2022-03-02T08:04:44.503Z"
   },
   {
    "duration": 10,
    "start_time": "2022-03-02T08:04:44.530Z"
   },
   {
    "duration": 264,
    "start_time": "2022-03-02T08:04:44.564Z"
   },
   {
    "duration": 4,
    "start_time": "2022-03-02T08:04:44.830Z"
   },
   {
    "duration": 25,
    "start_time": "2022-03-02T08:04:44.836Z"
   },
   {
    "duration": 441,
    "start_time": "2022-03-02T08:04:44.863Z"
   },
   {
    "duration": 4,
    "start_time": "2022-03-02T08:04:45.307Z"
   },
   {
    "duration": 10,
    "start_time": "2022-03-02T08:04:45.313Z"
   },
   {
    "duration": 759,
    "start_time": "2022-03-02T08:04:45.325Z"
   },
   {
    "duration": 156,
    "start_time": "2022-03-02T08:04:58.253Z"
   },
   {
    "duration": 152,
    "start_time": "2022-03-02T08:05:37.778Z"
   },
   {
    "duration": 525,
    "start_time": "2022-03-02T08:05:46.641Z"
   },
   {
    "duration": 151,
    "start_time": "2022-03-02T08:05:53.713Z"
   },
   {
    "duration": 156,
    "start_time": "2022-03-02T08:06:36.145Z"
   },
   {
    "duration": 5,
    "start_time": "2022-03-02T08:08:03.512Z"
   },
   {
    "duration": 152,
    "start_time": "2022-03-02T08:08:16.995Z"
   },
   {
    "duration": 4,
    "start_time": "2022-03-02T08:08:47.826Z"
   },
   {
    "duration": 164,
    "start_time": "2022-03-02T08:08:48.370Z"
   },
   {
    "duration": 156,
    "start_time": "2022-03-02T08:08:57.426Z"
   },
   {
    "duration": 5,
    "start_time": "2022-03-02T08:09:31.475Z"
   },
   {
    "duration": 465,
    "start_time": "2022-03-02T08:09:34.931Z"
   },
   {
    "duration": 4,
    "start_time": "2022-03-02T08:09:41.646Z"
   },
   {
    "duration": 154,
    "start_time": "2022-03-02T08:10:55.348Z"
   },
   {
    "duration": 5,
    "start_time": "2022-03-02T08:11:07.988Z"
   },
   {
    "duration": 153,
    "start_time": "2022-03-02T08:16:42.471Z"
   },
   {
    "duration": 25115,
    "start_time": "2022-03-02T08:16:44.432Z"
   },
   {
    "duration": 154,
    "start_time": "2022-03-02T08:17:12.048Z"
   },
   {
    "duration": 24983,
    "start_time": "2022-03-02T08:17:26.056Z"
   },
   {
    "duration": 170,
    "start_time": "2022-03-02T08:17:51.042Z"
   },
   {
    "duration": 5,
    "start_time": "2022-03-02T08:18:10.304Z"
   },
   {
    "duration": 374,
    "start_time": "2022-03-02T08:18:43.498Z"
   },
   {
    "duration": 87,
    "start_time": "2022-03-02T08:18:55.678Z"
   },
   {
    "duration": 482,
    "start_time": "2022-03-02T08:20:51.089Z"
   },
   {
    "duration": 262,
    "start_time": "2022-03-02T08:20:56.705Z"
   },
   {
    "duration": 465,
    "start_time": "2022-03-02T08:21:06.298Z"
   },
   {
    "duration": 530,
    "start_time": "2022-03-02T08:21:13.833Z"
   },
   {
    "duration": 425,
    "start_time": "2022-03-02T08:21:17.346Z"
   },
   {
    "duration": 305,
    "start_time": "2022-03-02T08:21:21.066Z"
   },
   {
    "duration": 295,
    "start_time": "2022-03-02T08:21:24.170Z"
   },
   {
    "duration": 469,
    "start_time": "2022-03-02T08:21:27.394Z"
   },
   {
    "duration": 345,
    "start_time": "2022-03-02T08:21:30.522Z"
   },
   {
    "duration": 488,
    "start_time": "2022-03-02T08:21:34.683Z"
   },
   {
    "duration": 485,
    "start_time": "2022-03-02T08:21:39.282Z"
   },
   {
    "duration": 590,
    "start_time": "2022-03-02T08:23:04.475Z"
   },
   {
    "duration": 149,
    "start_time": "2022-03-02T08:23:13.755Z"
   },
   {
    "duration": 5,
    "start_time": "2022-03-02T08:23:27.364Z"
   },
   {
    "duration": 667,
    "start_time": "2022-03-02T08:34:07.026Z"
   },
   {
    "duration": 648,
    "start_time": "2022-03-02T08:34:11.274Z"
   },
   {
    "duration": 679,
    "start_time": "2022-03-02T08:34:15.698Z"
   },
   {
    "duration": 661,
    "start_time": "2022-03-02T08:34:20.242Z"
   },
   {
    "duration": 664,
    "start_time": "2022-03-02T08:34:24.123Z"
   },
   {
    "duration": 822,
    "start_time": "2022-03-02T08:34:27.834Z"
   },
   {
    "duration": 677,
    "start_time": "2022-03-02T08:34:31.379Z"
   },
   {
    "duration": 669,
    "start_time": "2022-03-02T08:34:36.387Z"
   },
   {
    "duration": 668,
    "start_time": "2022-03-02T08:34:49.296Z"
   },
   {
    "duration": 666,
    "start_time": "2022-03-02T08:34:53.138Z"
   },
   {
    "duration": 70,
    "start_time": "2022-03-02T08:40:31.261Z"
   },
   {
    "duration": 151,
    "start_time": "2022-03-02T08:41:42.841Z"
   },
   {
    "duration": 175,
    "start_time": "2022-03-02T08:42:13.214Z"
   },
   {
    "duration": 160,
    "start_time": "2022-03-02T08:42:18.896Z"
   },
   {
    "duration": 33,
    "start_time": "2022-03-02T08:45:07.598Z"
   },
   {
    "duration": 33,
    "start_time": "2022-03-02T08:45:20.822Z"
   },
   {
    "duration": 32,
    "start_time": "2022-03-02T08:45:28.169Z"
   },
   {
    "duration": 155,
    "start_time": "2022-03-02T08:46:52.058Z"
   },
   {
    "duration": 173,
    "start_time": "2022-03-02T08:55:50.982Z"
   },
   {
    "duration": 160,
    "start_time": "2022-03-02T08:56:01.872Z"
   },
   {
    "duration": 160,
    "start_time": "2022-03-02T08:56:37.472Z"
   },
   {
    "duration": 152,
    "start_time": "2022-03-02T08:56:44.744Z"
   },
   {
    "duration": 68,
    "start_time": "2022-03-02T08:56:53.576Z"
   },
   {
    "duration": 32,
    "start_time": "2022-03-02T08:56:58.992Z"
   },
   {
    "duration": 945,
    "start_time": "2022-03-02T08:58:31.290Z"
   },
   {
    "duration": 66,
    "start_time": "2022-03-02T08:58:40.729Z"
   },
   {
    "duration": 5,
    "start_time": "2022-03-02T10:15:49.681Z"
   },
   {
    "duration": 665,
    "start_time": "2022-03-02T10:52:26.359Z"
   },
   {
    "duration": 4,
    "start_time": "2022-03-02T11:13:22.036Z"
   },
   {
    "duration": 19,
    "start_time": "2022-03-02T12:49:48.925Z"
   },
   {
    "duration": 4,
    "start_time": "2022-03-02T12:52:41.550Z"
   },
   {
    "duration": 13,
    "start_time": "2022-03-02T12:53:03.675Z"
   },
   {
    "duration": 16,
    "start_time": "2022-03-02T12:53:17.891Z"
   },
   {
    "duration": 53,
    "start_time": "2022-03-02T12:53:37.448Z"
   },
   {
    "duration": 5,
    "start_time": "2022-03-02T12:53:39.876Z"
   },
   {
    "duration": 166,
    "start_time": "2022-03-02T12:53:50.627Z"
   },
   {
    "duration": 5,
    "start_time": "2022-03-02T12:53:57.539Z"
   },
   {
    "duration": 7,
    "start_time": "2022-03-02T12:54:10.379Z"
   },
   {
    "duration": 12,
    "start_time": "2022-03-02T12:54:15.907Z"
   },
   {
    "duration": 6,
    "start_time": "2022-03-02T12:54:16.629Z"
   },
   {
    "duration": 37,
    "start_time": "2022-03-02T12:56:27.569Z"
   },
   {
    "duration": 40,
    "start_time": "2022-03-02T12:57:36.397Z"
   },
   {
    "duration": 14,
    "start_time": "2022-03-02T12:57:50.559Z"
   },
   {
    "duration": 7,
    "start_time": "2022-03-02T12:57:51.116Z"
   },
   {
    "duration": 38,
    "start_time": "2022-03-02T12:57:51.981Z"
   },
   {
    "duration": 11,
    "start_time": "2022-03-02T12:57:56.405Z"
   },
   {
    "duration": 5,
    "start_time": "2022-03-02T12:57:56.909Z"
   },
   {
    "duration": 36,
    "start_time": "2022-03-02T12:57:58.052Z"
   },
   {
    "duration": 413,
    "start_time": "2022-03-02T12:58:57.056Z"
   },
   {
    "duration": 535,
    "start_time": "2022-03-02T13:00:44.158Z"
   },
   {
    "duration": 686,
    "start_time": "2022-03-02T13:11:03.813Z"
   },
   {
    "duration": 647,
    "start_time": "2022-03-02T13:11:17.501Z"
   },
   {
    "duration": 4,
    "start_time": "2022-03-02T13:13:30.982Z"
   },
   {
    "duration": 12,
    "start_time": "2022-03-02T13:14:50.951Z"
   },
   {
    "duration": 35,
    "start_time": "2022-03-02T13:15:57.589Z"
   },
   {
    "duration": 34,
    "start_time": "2022-03-02T13:16:56.570Z"
   },
   {
    "duration": 13,
    "start_time": "2022-03-02T13:17:08.265Z"
   },
   {
    "duration": 35,
    "start_time": "2022-03-02T13:17:09.968Z"
   },
   {
    "duration": 13,
    "start_time": "2022-03-02T13:17:23.457Z"
   },
   {
    "duration": 47,
    "start_time": "2022-03-02T13:17:24.017Z"
   },
   {
    "duration": 13,
    "start_time": "2022-03-02T13:17:27.338Z"
   },
   {
    "duration": 34,
    "start_time": "2022-03-02T13:17:28.017Z"
   },
   {
    "duration": 13,
    "start_time": "2022-03-02T13:17:31.233Z"
   },
   {
    "duration": 35,
    "start_time": "2022-03-02T13:17:31.698Z"
   },
   {
    "duration": 12,
    "start_time": "2022-03-02T13:17:34.741Z"
   },
   {
    "duration": 32,
    "start_time": "2022-03-02T13:17:35.281Z"
   },
   {
    "duration": 13,
    "start_time": "2022-03-02T13:17:40.337Z"
   },
   {
    "duration": 36,
    "start_time": "2022-03-02T13:17:40.905Z"
   },
   {
    "duration": 13,
    "start_time": "2022-03-02T13:17:48.217Z"
   },
   {
    "duration": 34,
    "start_time": "2022-03-02T13:17:48.898Z"
   },
   {
    "duration": 14,
    "start_time": "2022-03-02T13:17:52.849Z"
   },
   {
    "duration": 35,
    "start_time": "2022-03-02T13:17:53.434Z"
   },
   {
    "duration": 12,
    "start_time": "2022-03-02T13:17:59.578Z"
   },
   {
    "duration": 39,
    "start_time": "2022-03-02T13:18:00.058Z"
   },
   {
    "duration": 12,
    "start_time": "2022-03-02T13:18:05.210Z"
   },
   {
    "duration": 34,
    "start_time": "2022-03-02T13:18:05.722Z"
   },
   {
    "duration": 12,
    "start_time": "2022-03-02T13:18:15.946Z"
   },
   {
    "duration": 29,
    "start_time": "2022-03-02T13:18:16.531Z"
   },
   {
    "duration": 15,
    "start_time": "2022-03-02T13:18:21.172Z"
   },
   {
    "duration": 36,
    "start_time": "2022-03-02T13:18:21.388Z"
   },
   {
    "duration": 12,
    "start_time": "2022-03-02T13:18:24.738Z"
   },
   {
    "duration": 36,
    "start_time": "2022-03-02T13:18:24.970Z"
   },
   {
    "duration": 12,
    "start_time": "2022-03-02T13:18:29.146Z"
   },
   {
    "duration": 35,
    "start_time": "2022-03-02T13:18:29.313Z"
   },
   {
    "duration": 535,
    "start_time": "2022-03-02T13:18:57.995Z"
   },
   {
    "duration": 5,
    "start_time": "2022-03-02T13:19:53.676Z"
   },
   {
    "duration": 4,
    "start_time": "2022-03-02T13:20:25.196Z"
   },
   {
    "duration": 5,
    "start_time": "2022-03-02T13:43:43.529Z"
   },
   {
    "duration": 5,
    "start_time": "2022-03-02T13:44:51.403Z"
   },
   {
    "duration": 5,
    "start_time": "2022-03-02T13:44:55.475Z"
   },
   {
    "duration": 397,
    "start_time": "2022-03-02T14:32:52.456Z"
   },
   {
    "duration": 485,
    "start_time": "2022-03-02T14:32:59.049Z"
   },
   {
    "duration": 478,
    "start_time": "2022-03-02T14:33:24.753Z"
   },
   {
    "duration": 456,
    "start_time": "2022-03-02T14:33:35.197Z"
   },
   {
    "duration": 486,
    "start_time": "2022-03-02T14:33:38.818Z"
   },
   {
    "duration": 447,
    "start_time": "2022-03-02T14:35:41.571Z"
   },
   {
    "duration": 467,
    "start_time": "2022-03-02T14:35:53.684Z"
   },
   {
    "duration": 475,
    "start_time": "2022-03-02T14:36:02.179Z"
   },
   {
    "duration": 31,
    "start_time": "2022-03-02T14:38:59.028Z"
   },
   {
    "duration": 11056,
    "start_time": "2022-03-02T17:02:08.911Z"
   },
   {
    "duration": 1694,
    "start_time": "2022-03-02T17:02:19.970Z"
   },
   {
    "duration": 34,
    "start_time": "2022-03-02T17:02:21.667Z"
   },
   {
    "duration": 25,
    "start_time": "2022-03-02T17:02:21.704Z"
   },
   {
    "duration": 5,
    "start_time": "2022-03-02T17:02:21.731Z"
   },
   {
    "duration": 86,
    "start_time": "2022-03-02T17:02:21.738Z"
   },
   {
    "duration": 11,
    "start_time": "2022-03-02T17:02:21.827Z"
   },
   {
    "duration": 14,
    "start_time": "2022-03-02T17:02:21.841Z"
   },
   {
    "duration": 15,
    "start_time": "2022-03-02T17:02:21.874Z"
   },
   {
    "duration": 9,
    "start_time": "2022-03-02T17:02:21.892Z"
   },
   {
    "duration": 17,
    "start_time": "2022-03-02T17:02:21.903Z"
   },
   {
    "duration": 8,
    "start_time": "2022-03-02T17:02:21.922Z"
   },
   {
    "duration": 52,
    "start_time": "2022-03-02T17:02:21.932Z"
   },
   {
    "duration": 10,
    "start_time": "2022-03-02T17:02:21.987Z"
   },
   {
    "duration": 29,
    "start_time": "2022-03-02T17:02:22.000Z"
   },
   {
    "duration": 17,
    "start_time": "2022-03-02T17:02:22.032Z"
   },
   {
    "duration": 25,
    "start_time": "2022-03-02T17:02:22.052Z"
   },
   {
    "duration": 71,
    "start_time": "2022-03-02T17:02:22.080Z"
   },
   {
    "duration": 21,
    "start_time": "2022-03-02T17:02:22.154Z"
   },
   {
    "duration": 10,
    "start_time": "2022-03-02T17:02:22.178Z"
   },
   {
    "duration": 13,
    "start_time": "2022-03-02T17:02:22.191Z"
   },
   {
    "duration": 9,
    "start_time": "2022-03-02T17:02:22.206Z"
   },
   {
    "duration": 12,
    "start_time": "2022-03-02T17:02:22.217Z"
   },
   {
    "duration": 6,
    "start_time": "2022-03-02T17:02:22.273Z"
   },
   {
    "duration": 43,
    "start_time": "2022-03-02T17:02:22.282Z"
   },
   {
    "duration": 11,
    "start_time": "2022-03-02T17:02:22.327Z"
   },
   {
    "duration": 5,
    "start_time": "2022-03-02T17:02:22.343Z"
   },
   {
    "duration": 5,
    "start_time": "2022-03-02T17:02:22.374Z"
   },
   {
    "duration": 18,
    "start_time": "2022-03-02T17:02:22.382Z"
   },
   {
    "duration": 6,
    "start_time": "2022-03-02T17:02:22.402Z"
   },
   {
    "duration": 21,
    "start_time": "2022-03-02T17:02:22.411Z"
   },
   {
    "duration": 464,
    "start_time": "2022-03-02T17:02:37.449Z"
   },
   {
    "duration": 425,
    "start_time": "2022-03-02T17:06:20.366Z"
   },
   {
    "duration": 441,
    "start_time": "2022-03-02T17:07:43.940Z"
   },
   {
    "duration": 470,
    "start_time": "2022-03-02T17:07:59.356Z"
   },
   {
    "duration": 3839,
    "start_time": "2022-03-02T17:09:55.971Z"
   },
   {
    "duration": 6,
    "start_time": "2022-03-02T17:09:59.813Z"
   },
   {
    "duration": 38,
    "start_time": "2022-03-02T17:09:59.822Z"
   },
   {
    "duration": 22,
    "start_time": "2022-03-02T17:09:59.863Z"
   },
   {
    "duration": 5,
    "start_time": "2022-03-02T17:09:59.887Z"
   },
   {
    "duration": 165,
    "start_time": "2022-03-02T17:09:59.895Z"
   },
   {
    "duration": 21,
    "start_time": "2022-03-02T17:10:00.063Z"
   },
   {
    "duration": 8,
    "start_time": "2022-03-02T17:10:00.086Z"
   },
   {
    "duration": 15,
    "start_time": "2022-03-02T17:10:00.099Z"
   },
   {
    "duration": 9,
    "start_time": "2022-03-02T17:10:00.118Z"
   },
   {
    "duration": 56,
    "start_time": "2022-03-02T17:10:00.129Z"
   },
   {
    "duration": 8,
    "start_time": "2022-03-02T17:10:00.187Z"
   },
   {
    "duration": 7,
    "start_time": "2022-03-02T17:10:00.198Z"
   },
   {
    "duration": 7,
    "start_time": "2022-03-02T17:10:00.207Z"
   },
   {
    "duration": 62,
    "start_time": "2022-03-02T17:10:00.216Z"
   },
   {
    "duration": 18,
    "start_time": "2022-03-02T17:10:00.280Z"
   },
   {
    "duration": 11,
    "start_time": "2022-03-02T17:10:00.301Z"
   },
   {
    "duration": 79,
    "start_time": "2022-03-02T17:10:00.314Z"
   },
   {
    "duration": 4,
    "start_time": "2022-03-02T17:10:00.395Z"
   },
   {
    "duration": 21,
    "start_time": "2022-03-02T17:10:00.401Z"
   },
   {
    "duration": 22,
    "start_time": "2022-03-02T17:10:00.424Z"
   },
   {
    "duration": 10,
    "start_time": "2022-03-02T17:10:00.448Z"
   },
   {
    "duration": 13,
    "start_time": "2022-03-02T17:10:00.474Z"
   },
   {
    "duration": 13,
    "start_time": "2022-03-02T17:10:00.490Z"
   },
   {
    "duration": 45,
    "start_time": "2022-03-02T17:10:00.505Z"
   },
   {
    "duration": 23,
    "start_time": "2022-03-02T17:10:00.552Z"
   },
   {
    "duration": 5,
    "start_time": "2022-03-02T17:10:00.582Z"
   },
   {
    "duration": 13,
    "start_time": "2022-03-02T17:10:00.590Z"
   },
   {
    "duration": 20,
    "start_time": "2022-03-02T17:10:00.605Z"
   },
   {
    "duration": 9,
    "start_time": "2022-03-02T17:10:00.627Z"
   },
   {
    "duration": 16,
    "start_time": "2022-03-02T17:10:00.674Z"
   },
   {
    "duration": 37,
    "start_time": "2022-03-02T17:10:00.692Z"
   },
   {
    "duration": 471,
    "start_time": "2022-03-02T17:10:00.731Z"
   },
   {
    "duration": 480,
    "start_time": "2022-03-02T17:10:01.206Z"
   },
   {
    "duration": 39,
    "start_time": "2022-03-02T17:10:01.688Z"
   },
   {
    "duration": 27,
    "start_time": "2022-03-02T17:10:01.730Z"
   },
   {
    "duration": 438,
    "start_time": "2022-03-02T17:10:01.772Z"
   },
   {
    "duration": 4,
    "start_time": "2022-03-02T17:10:02.213Z"
   },
   {
    "duration": 7,
    "start_time": "2022-03-02T17:10:02.219Z"
   },
   {
    "duration": 744,
    "start_time": "2022-03-02T17:10:02.229Z"
   },
   {
    "duration": 7,
    "start_time": "2022-03-02T17:10:02.975Z"
   },
   {
    "duration": 13,
    "start_time": "2022-03-02T17:10:02.984Z"
   },
   {
    "duration": 15,
    "start_time": "2022-03-02T17:10:02.999Z"
   },
   {
    "duration": 1102,
    "start_time": "2022-03-02T17:10:03.017Z"
   },
   {
    "duration": 8,
    "start_time": "2022-03-02T17:10:24.136Z"
   },
   {
    "duration": 38252,
    "start_time": "2022-03-02T17:10:27.675Z"
   },
   {
    "duration": 8,
    "start_time": "2022-03-02T17:38:03.834Z"
   },
   {
    "duration": 6,
    "start_time": "2022-03-02T17:38:08.643Z"
   },
   {
    "duration": 6,
    "start_time": "2022-03-02T17:41:48.167Z"
   },
   {
    "duration": 1063,
    "start_time": "2022-03-02T17:41:52.005Z"
   },
   {
    "duration": 6,
    "start_time": "2022-03-02T17:42:07.116Z"
   },
   {
    "duration": 258,
    "start_time": "2022-03-02T17:42:11.372Z"
   },
   {
    "duration": 1255,
    "start_time": "2022-03-02T17:44:22.703Z"
   },
   {
    "duration": 1125,
    "start_time": "2022-03-02T17:44:37.963Z"
   },
   {
    "duration": 1170,
    "start_time": "2022-03-02T17:45:21.957Z"
   },
   {
    "duration": 846,
    "start_time": "2022-03-02T17:46:56.662Z"
   },
   {
    "duration": 777,
    "start_time": "2022-03-02T17:47:13.183Z"
   },
   {
    "duration": 791,
    "start_time": "2022-03-02T17:47:20.375Z"
   },
   {
    "duration": 754,
    "start_time": "2022-03-02T17:48:45.562Z"
   },
   {
    "duration": 834,
    "start_time": "2022-03-02T17:48:55.788Z"
   },
   {
    "duration": 747,
    "start_time": "2022-03-02T17:49:04.045Z"
   },
   {
    "duration": 1050,
    "start_time": "2022-03-02T17:49:37.153Z"
   },
   {
    "duration": 972,
    "start_time": "2022-03-02T17:49:49.209Z"
   },
   {
    "duration": 787,
    "start_time": "2022-03-02T17:50:07.433Z"
   },
   {
    "duration": 898,
    "start_time": "2022-03-02T19:18:09.081Z"
   },
   {
    "duration": 793,
    "start_time": "2022-03-02T19:18:36.176Z"
   },
   {
    "duration": 771,
    "start_time": "2022-03-02T19:18:59.819Z"
   },
   {
    "duration": 1161,
    "start_time": "2022-03-02T19:19:27.146Z"
   },
   {
    "duration": 6761,
    "start_time": "2022-03-03T10:25:38.808Z"
   },
   {
    "duration": 1170,
    "start_time": "2022-03-03T10:25:45.571Z"
   },
   {
    "duration": 23,
    "start_time": "2022-03-03T10:25:46.743Z"
   },
   {
    "duration": 16,
    "start_time": "2022-03-03T10:25:46.768Z"
   },
   {
    "duration": 8,
    "start_time": "2022-03-03T10:25:46.785Z"
   },
   {
    "duration": 49,
    "start_time": "2022-03-03T10:25:46.794Z"
   },
   {
    "duration": 8,
    "start_time": "2022-03-03T10:25:46.845Z"
   },
   {
    "duration": 11,
    "start_time": "2022-03-03T10:25:46.855Z"
   },
   {
    "duration": 12,
    "start_time": "2022-03-03T10:25:46.868Z"
   },
   {
    "duration": 6,
    "start_time": "2022-03-03T10:25:46.881Z"
   },
   {
    "duration": 11,
    "start_time": "2022-03-03T10:25:46.888Z"
   },
   {
    "duration": 5,
    "start_time": "2022-03-03T10:25:46.901Z"
   },
   {
    "duration": 6,
    "start_time": "2022-03-03T10:31:18.040Z"
   },
   {
    "duration": 5,
    "start_time": "2022-03-03T10:32:25.425Z"
   },
   {
    "duration": 11,
    "start_time": "2022-03-03T10:32:30.929Z"
   },
   {
    "duration": 2468,
    "start_time": "2022-03-03T10:32:34.478Z"
   },
   {
    "duration": 4,
    "start_time": "2022-03-03T10:32:36.948Z"
   },
   {
    "duration": 31,
    "start_time": "2022-03-03T10:32:36.954Z"
   },
   {
    "duration": 17,
    "start_time": "2022-03-03T10:32:36.987Z"
   },
   {
    "duration": 7,
    "start_time": "2022-03-03T10:32:37.006Z"
   },
   {
    "duration": 45,
    "start_time": "2022-03-03T10:32:37.014Z"
   },
   {
    "duration": 8,
    "start_time": "2022-03-03T10:32:37.060Z"
   },
   {
    "duration": 5,
    "start_time": "2022-03-03T10:32:37.071Z"
   },
   {
    "duration": 15,
    "start_time": "2022-03-03T10:32:37.077Z"
   },
   {
    "duration": 6,
    "start_time": "2022-03-03T10:32:37.094Z"
   },
   {
    "duration": 8,
    "start_time": "2022-03-03T10:32:37.101Z"
   },
   {
    "duration": 5,
    "start_time": "2022-03-03T10:32:37.111Z"
   },
   {
    "duration": 52,
    "start_time": "2022-03-03T10:32:37.118Z"
   },
   {
    "duration": 4,
    "start_time": "2022-03-03T10:32:37.171Z"
   },
   {
    "duration": 4,
    "start_time": "2022-03-03T10:33:27.529Z"
   },
   {
    "duration": 4,
    "start_time": "2022-03-03T10:33:31.611Z"
   },
   {
    "duration": 10,
    "start_time": "2022-03-03T10:34:04.042Z"
   },
   {
    "duration": 254,
    "start_time": "2022-03-03T10:34:43.571Z"
   },
   {
    "duration": 186,
    "start_time": "2022-03-03T10:35:43.516Z"
   },
   {
    "duration": 163,
    "start_time": "2022-03-03T10:36:21.484Z"
   },
   {
    "duration": 186,
    "start_time": "2022-03-03T10:36:39.227Z"
   },
   {
    "duration": 10,
    "start_time": "2022-03-03T10:36:48.660Z"
   },
   {
    "duration": 191,
    "start_time": "2022-03-03T10:37:21.843Z"
   },
   {
    "duration": 13,
    "start_time": "2022-03-03T10:37:44.620Z"
   },
   {
    "duration": 12,
    "start_time": "2022-03-03T10:37:51.956Z"
   },
   {
    "duration": 12,
    "start_time": "2022-03-03T10:38:18.277Z"
   },
   {
    "duration": 13,
    "start_time": "2022-03-03T11:23:07.888Z"
   },
   {
    "duration": 179,
    "start_time": "2022-03-03T11:36:55.297Z"
   },
   {
    "duration": 167,
    "start_time": "2022-03-03T11:36:58.473Z"
   },
   {
    "duration": 6,
    "start_time": "2022-03-03T11:37:06.676Z"
   },
   {
    "duration": 9,
    "start_time": "2022-03-03T11:37:31.802Z"
   },
   {
    "duration": 5,
    "start_time": "2022-03-03T11:46:42.040Z"
   },
   {
    "duration": 5,
    "start_time": "2022-03-03T11:46:53.072Z"
   },
   {
    "duration": 12,
    "start_time": "2022-03-03T11:48:29.786Z"
   },
   {
    "duration": 208,
    "start_time": "2022-03-03T12:23:25.208Z"
   },
   {
    "duration": 2500,
    "start_time": "2022-03-03T12:23:29.012Z"
   },
   {
    "duration": 4,
    "start_time": "2022-03-03T12:23:31.515Z"
   },
   {
    "duration": 40,
    "start_time": "2022-03-03T12:23:31.521Z"
   },
   {
    "duration": 14,
    "start_time": "2022-03-03T12:23:31.563Z"
   },
   {
    "duration": 11,
    "start_time": "2022-03-03T12:23:31.579Z"
   },
   {
    "duration": 43,
    "start_time": "2022-03-03T12:23:31.591Z"
   },
   {
    "duration": 8,
    "start_time": "2022-03-03T12:23:31.635Z"
   },
   {
    "duration": 20,
    "start_time": "2022-03-03T12:23:31.646Z"
   },
   {
    "duration": 14,
    "start_time": "2022-03-03T12:23:31.668Z"
   },
   {
    "duration": 5,
    "start_time": "2022-03-03T12:23:31.684Z"
   },
   {
    "duration": 24,
    "start_time": "2022-03-03T12:23:31.691Z"
   },
   {
    "duration": 11,
    "start_time": "2022-03-03T12:23:31.717Z"
   },
   {
    "duration": 34,
    "start_time": "2022-03-03T12:23:31.730Z"
   },
   {
    "duration": 7,
    "start_time": "2022-03-03T12:23:31.767Z"
   },
   {
    "duration": 7,
    "start_time": "2022-03-03T12:23:31.775Z"
   },
   {
    "duration": 44,
    "start_time": "2022-03-03T12:23:31.784Z"
   },
   {
    "duration": 5,
    "start_time": "2022-03-03T12:23:31.830Z"
   },
   {
    "duration": 30,
    "start_time": "2022-03-03T12:23:31.837Z"
   },
   {
    "duration": 22,
    "start_time": "2022-03-03T12:23:31.869Z"
   },
   {
    "duration": 29,
    "start_time": "2022-03-03T12:23:31.892Z"
   },
   {
    "duration": 21,
    "start_time": "2022-03-03T12:23:31.923Z"
   },
   {
    "duration": 20,
    "start_time": "2022-03-03T12:23:31.946Z"
   },
   {
    "duration": 46,
    "start_time": "2022-03-03T12:23:31.969Z"
   },
   {
    "duration": 9,
    "start_time": "2022-03-03T12:23:32.016Z"
   },
   {
    "duration": 10,
    "start_time": "2022-03-03T12:23:32.027Z"
   },
   {
    "duration": 6,
    "start_time": "2022-03-03T12:23:32.039Z"
   },
   {
    "duration": 4,
    "start_time": "2022-03-03T12:23:32.047Z"
   },
   {
    "duration": 6,
    "start_time": "2022-03-03T12:23:32.053Z"
   },
   {
    "duration": 15,
    "start_time": "2022-03-03T12:23:32.062Z"
   },
   {
    "duration": 5,
    "start_time": "2022-03-03T12:23:32.079Z"
   },
   {
    "duration": 14,
    "start_time": "2022-03-03T12:23:32.086Z"
   },
   {
    "duration": 10,
    "start_time": "2022-03-03T12:23:35.282Z"
   },
   {
    "duration": 277,
    "start_time": "2022-03-03T12:25:49.625Z"
   },
   {
    "duration": 232,
    "start_time": "2022-03-03T13:11:35.421Z"
   },
   {
    "duration": 233,
    "start_time": "2022-03-03T13:11:40.855Z"
   },
   {
    "duration": 222,
    "start_time": "2022-03-03T13:11:47.581Z"
   },
   {
    "duration": 532,
    "start_time": "2022-03-03T13:45:30.611Z"
   },
   {
    "duration": 450,
    "start_time": "2022-03-03T13:46:11.019Z"
   },
   {
    "duration": 37,
    "start_time": "2022-03-03T13:46:34.615Z"
   },
   {
    "duration": 4108,
    "start_time": "2022-03-03T13:46:51.019Z"
   },
   {
    "duration": 36,
    "start_time": "2022-03-03T13:47:00.148Z"
   },
   {
    "duration": 25,
    "start_time": "2022-03-03T13:55:46.888Z"
   },
   {
    "duration": 13,
    "start_time": "2022-03-03T13:55:48.392Z"
   },
   {
    "duration": 37,
    "start_time": "2022-03-03T13:56:01.634Z"
   },
   {
    "duration": 39,
    "start_time": "2022-03-03T13:56:08.648Z"
   },
   {
    "duration": 448,
    "start_time": "2022-03-03T13:56:50.729Z"
   },
   {
    "duration": 25,
    "start_time": "2022-03-03T13:57:35.281Z"
   },
   {
    "duration": 38,
    "start_time": "2022-03-03T13:57:35.681Z"
   },
   {
    "duration": 3,
    "start_time": "2022-03-03T14:01:30.900Z"
   },
   {
    "duration": 458,
    "start_time": "2022-03-03T14:01:31.236Z"
   },
   {
    "duration": 2390,
    "start_time": "2022-03-03T14:02:13.394Z"
   },
   {
    "duration": 4,
    "start_time": "2022-03-03T14:02:15.786Z"
   },
   {
    "duration": 37,
    "start_time": "2022-03-03T14:02:15.792Z"
   },
   {
    "duration": 14,
    "start_time": "2022-03-03T14:02:15.830Z"
   },
   {
    "duration": 7,
    "start_time": "2022-03-03T14:02:15.845Z"
   },
   {
    "duration": 41,
    "start_time": "2022-03-03T14:02:15.853Z"
   },
   {
    "duration": 8,
    "start_time": "2022-03-03T14:02:15.896Z"
   },
   {
    "duration": 6,
    "start_time": "2022-03-03T14:02:15.906Z"
   },
   {
    "duration": 9,
    "start_time": "2022-03-03T14:02:15.914Z"
   },
   {
    "duration": 5,
    "start_time": "2022-03-03T14:02:15.925Z"
   },
   {
    "duration": 40,
    "start_time": "2022-03-03T14:02:15.931Z"
   },
   {
    "duration": 10,
    "start_time": "2022-03-03T14:02:15.972Z"
   },
   {
    "duration": 4,
    "start_time": "2022-03-03T14:02:15.983Z"
   },
   {
    "duration": 8,
    "start_time": "2022-03-03T14:02:15.989Z"
   },
   {
    "duration": 6,
    "start_time": "2022-03-03T14:02:15.999Z"
   },
   {
    "duration": 62,
    "start_time": "2022-03-03T14:02:16.006Z"
   },
   {
    "duration": 4,
    "start_time": "2022-03-03T14:02:16.069Z"
   },
   {
    "duration": 10,
    "start_time": "2022-03-03T14:02:16.074Z"
   },
   {
    "duration": 10,
    "start_time": "2022-03-03T14:02:16.085Z"
   },
   {
    "duration": 8,
    "start_time": "2022-03-03T14:02:16.096Z"
   },
   {
    "duration": 9,
    "start_time": "2022-03-03T14:02:16.105Z"
   },
   {
    "duration": 4,
    "start_time": "2022-03-03T14:02:16.115Z"
   },
   {
    "duration": 48,
    "start_time": "2022-03-03T14:02:16.122Z"
   },
   {
    "duration": 4,
    "start_time": "2022-03-03T14:02:16.171Z"
   },
   {
    "duration": 17,
    "start_time": "2022-03-03T14:02:16.177Z"
   },
   {
    "duration": 8,
    "start_time": "2022-03-03T14:02:16.195Z"
   },
   {
    "duration": 8,
    "start_time": "2022-03-03T14:02:16.204Z"
   },
   {
    "duration": 8,
    "start_time": "2022-03-03T14:02:16.213Z"
   },
   {
    "duration": 13,
    "start_time": "2022-03-03T14:02:16.223Z"
   },
   {
    "duration": 28,
    "start_time": "2022-03-03T14:02:16.238Z"
   },
   {
    "duration": 19,
    "start_time": "2022-03-03T14:02:16.269Z"
   },
   {
    "duration": 37,
    "start_time": "2022-03-03T14:02:16.290Z"
   },
   {
    "duration": 497,
    "start_time": "2022-03-03T14:02:16.329Z"
   },
   {
    "duration": 245,
    "start_time": "2022-03-03T14:02:16.828Z"
   },
   {
    "duration": 16,
    "start_time": "2022-03-03T14:02:17.074Z"
   },
   {
    "duration": 35,
    "start_time": "2022-03-03T14:02:17.092Z"
   },
   {
    "duration": 541,
    "start_time": "2022-03-03T14:02:23.581Z"
   },
   {
    "duration": 660,
    "start_time": "2022-03-03T14:02:33.630Z"
   },
   {
    "duration": 23227,
    "start_time": "2022-03-03T14:02:43.437Z"
   },
   {
    "duration": 24,
    "start_time": "2022-03-03T14:03:45.941Z"
   },
   {
    "duration": 38,
    "start_time": "2022-03-03T14:03:47.158Z"
   },
   {
    "duration": 456,
    "start_time": "2022-03-03T14:03:48.246Z"
   },
   {
    "duration": 2424,
    "start_time": "2022-03-03T14:03:52.748Z"
   },
   {
    "duration": 4,
    "start_time": "2022-03-03T14:03:55.174Z"
   },
   {
    "duration": 31,
    "start_time": "2022-03-03T14:03:55.180Z"
   },
   {
    "duration": 13,
    "start_time": "2022-03-03T14:03:55.213Z"
   },
   {
    "duration": 10,
    "start_time": "2022-03-03T14:03:55.227Z"
   },
   {
    "duration": 40,
    "start_time": "2022-03-03T14:03:55.238Z"
   },
   {
    "duration": 10,
    "start_time": "2022-03-03T14:03:55.280Z"
   },
   {
    "duration": 7,
    "start_time": "2022-03-03T14:03:55.291Z"
   },
   {
    "duration": 11,
    "start_time": "2022-03-03T14:03:55.301Z"
   },
   {
    "duration": 7,
    "start_time": "2022-03-03T14:03:55.314Z"
   },
   {
    "duration": 51,
    "start_time": "2022-03-03T14:03:55.323Z"
   },
   {
    "duration": 11,
    "start_time": "2022-03-03T14:03:55.376Z"
   },
   {
    "duration": 4,
    "start_time": "2022-03-03T14:03:55.389Z"
   },
   {
    "duration": 5,
    "start_time": "2022-03-03T14:03:55.395Z"
   },
   {
    "duration": 6,
    "start_time": "2022-03-03T14:03:55.402Z"
   },
   {
    "duration": 68,
    "start_time": "2022-03-03T14:03:55.409Z"
   },
   {
    "duration": 3,
    "start_time": "2022-03-03T14:03:55.479Z"
   },
   {
    "duration": 8,
    "start_time": "2022-03-03T14:03:55.483Z"
   },
   {
    "duration": 13,
    "start_time": "2022-03-03T14:03:55.492Z"
   },
   {
    "duration": 7,
    "start_time": "2022-03-03T14:03:55.506Z"
   },
   {
    "duration": 12,
    "start_time": "2022-03-03T14:03:55.515Z"
   },
   {
    "duration": 8,
    "start_time": "2022-03-03T14:03:55.528Z"
   },
   {
    "duration": 40,
    "start_time": "2022-03-03T14:03:55.538Z"
   },
   {
    "duration": 4,
    "start_time": "2022-03-03T14:03:55.580Z"
   },
   {
    "duration": 10,
    "start_time": "2022-03-03T14:03:55.586Z"
   },
   {
    "duration": 8,
    "start_time": "2022-03-03T14:03:55.597Z"
   },
   {
    "duration": 3,
    "start_time": "2022-03-03T14:03:55.608Z"
   },
   {
    "duration": 5,
    "start_time": "2022-03-03T14:03:55.613Z"
   },
   {
    "duration": 10,
    "start_time": "2022-03-03T14:03:55.620Z"
   },
   {
    "duration": 5,
    "start_time": "2022-03-03T14:03:55.664Z"
   },
   {
    "duration": 14,
    "start_time": "2022-03-03T14:03:55.670Z"
   },
   {
    "duration": 36,
    "start_time": "2022-03-03T14:03:55.685Z"
   },
   {
    "duration": 493,
    "start_time": "2022-03-03T14:03:55.723Z"
   },
   {
    "duration": 245,
    "start_time": "2022-03-03T14:03:56.218Z"
   },
   {
    "duration": 26,
    "start_time": "2022-03-03T14:03:56.464Z"
   },
   {
    "duration": 34,
    "start_time": "2022-03-03T14:03:56.491Z"
   },
   {
    "duration": 453,
    "start_time": "2022-03-03T14:03:56.526Z"
   },
   {
    "duration": 19,
    "start_time": "2022-03-03T14:05:03.983Z"
   },
   {
    "duration": 38,
    "start_time": "2022-03-03T14:05:04.703Z"
   },
   {
    "duration": 2372,
    "start_time": "2022-03-03T14:05:12.348Z"
   },
   {
    "duration": 5,
    "start_time": "2022-03-03T14:05:14.723Z"
   },
   {
    "duration": 29,
    "start_time": "2022-03-03T14:05:14.730Z"
   },
   {
    "duration": 14,
    "start_time": "2022-03-03T14:05:14.761Z"
   },
   {
    "duration": 7,
    "start_time": "2022-03-03T14:05:14.777Z"
   },
   {
    "duration": 42,
    "start_time": "2022-03-03T14:05:14.785Z"
   },
   {
    "duration": 7,
    "start_time": "2022-03-03T14:05:14.829Z"
   },
   {
    "duration": 28,
    "start_time": "2022-03-03T14:05:14.838Z"
   },
   {
    "duration": 11,
    "start_time": "2022-03-03T14:05:14.868Z"
   },
   {
    "duration": 6,
    "start_time": "2022-03-03T14:05:14.880Z"
   },
   {
    "duration": 13,
    "start_time": "2022-03-03T14:05:14.887Z"
   },
   {
    "duration": 10,
    "start_time": "2022-03-03T14:05:14.901Z"
   },
   {
    "duration": 4,
    "start_time": "2022-03-03T14:05:14.912Z"
   },
   {
    "duration": 8,
    "start_time": "2022-03-03T14:05:14.918Z"
   },
   {
    "duration": 5,
    "start_time": "2022-03-03T14:05:14.962Z"
   },
   {
    "duration": 39,
    "start_time": "2022-03-03T14:05:14.969Z"
   },
   {
    "duration": 4,
    "start_time": "2022-03-03T14:05:15.010Z"
   },
   {
    "duration": 38,
    "start_time": "2022-03-03T14:05:15.016Z"
   },
   {
    "duration": 9,
    "start_time": "2022-03-03T14:05:15.056Z"
   },
   {
    "duration": 8,
    "start_time": "2022-03-03T14:05:15.067Z"
   },
   {
    "duration": 8,
    "start_time": "2022-03-03T14:05:15.076Z"
   },
   {
    "duration": 4,
    "start_time": "2022-03-03T14:05:15.086Z"
   },
   {
    "duration": 22,
    "start_time": "2022-03-03T14:05:15.094Z"
   },
   {
    "duration": 4,
    "start_time": "2022-03-03T14:05:15.119Z"
   },
   {
    "duration": 45,
    "start_time": "2022-03-03T14:05:15.125Z"
   },
   {
    "duration": 7,
    "start_time": "2022-03-03T14:05:15.171Z"
   },
   {
    "duration": 4,
    "start_time": "2022-03-03T14:05:15.180Z"
   },
   {
    "duration": 12,
    "start_time": "2022-03-03T14:05:15.185Z"
   },
   {
    "duration": 10,
    "start_time": "2022-03-03T14:05:15.199Z"
   },
   {
    "duration": 6,
    "start_time": "2022-03-03T14:05:15.211Z"
   },
   {
    "duration": 13,
    "start_time": "2022-03-03T14:05:15.218Z"
   },
   {
    "duration": 62,
    "start_time": "2022-03-03T14:05:15.232Z"
   },
   {
    "duration": 483,
    "start_time": "2022-03-03T14:05:15.296Z"
   },
   {
    "duration": 351,
    "start_time": "2022-03-03T14:05:15.780Z"
   },
   {
    "duration": 16,
    "start_time": "2022-03-03T14:05:16.133Z"
   },
   {
    "duration": 46,
    "start_time": "2022-03-03T14:05:16.150Z"
   },
   {
    "duration": 451,
    "start_time": "2022-03-03T14:05:16.198Z"
   },
   {
    "duration": 3,
    "start_time": "2022-03-03T14:05:16.651Z"
   },
   {
    "duration": 9,
    "start_time": "2022-03-03T14:05:16.655Z"
   },
   {
    "duration": 472,
    "start_time": "2022-03-03T14:05:16.666Z"
   },
   {
    "duration": 4,
    "start_time": "2022-03-03T14:05:17.139Z"
   },
   {
    "duration": 8,
    "start_time": "2022-03-03T14:05:17.145Z"
   },
   {
    "duration": 2,
    "start_time": "2022-03-03T14:05:17.162Z"
   },
   {
    "duration": 2558,
    "start_time": "2022-03-03T14:29:35.559Z"
   },
   {
    "duration": 4,
    "start_time": "2022-03-03T14:29:38.119Z"
   },
   {
    "duration": 28,
    "start_time": "2022-03-03T14:29:38.125Z"
   },
   {
    "duration": 13,
    "start_time": "2022-03-03T14:29:38.155Z"
   },
   {
    "duration": 4,
    "start_time": "2022-03-03T14:29:38.170Z"
   },
   {
    "duration": 41,
    "start_time": "2022-03-03T14:29:38.176Z"
   },
   {
    "duration": 8,
    "start_time": "2022-03-03T14:29:38.219Z"
   },
   {
    "duration": 7,
    "start_time": "2022-03-03T14:29:38.228Z"
   },
   {
    "duration": 33,
    "start_time": "2022-03-03T14:29:38.238Z"
   },
   {
    "duration": 5,
    "start_time": "2022-03-03T14:29:38.274Z"
   },
   {
    "duration": 26,
    "start_time": "2022-03-03T14:29:38.281Z"
   },
   {
    "duration": 10,
    "start_time": "2022-03-03T14:29:38.309Z"
   },
   {
    "duration": 4,
    "start_time": "2022-03-03T14:29:38.321Z"
   },
   {
    "duration": 6,
    "start_time": "2022-03-03T14:29:38.327Z"
   },
   {
    "duration": 7,
    "start_time": "2022-03-03T14:29:38.335Z"
   },
   {
    "duration": 36,
    "start_time": "2022-03-03T14:29:38.363Z"
   },
   {
    "duration": 3,
    "start_time": "2022-03-03T14:29:38.401Z"
   },
   {
    "duration": 7,
    "start_time": "2022-03-03T14:29:38.406Z"
   },
   {
    "duration": 11,
    "start_time": "2022-03-03T14:29:38.414Z"
   },
   {
    "duration": 6,
    "start_time": "2022-03-03T14:29:38.427Z"
   },
   {
    "duration": 21,
    "start_time": "2022-03-03T14:29:38.448Z"
   },
   {
    "duration": 4,
    "start_time": "2022-03-03T14:29:38.471Z"
   },
   {
    "duration": 23,
    "start_time": "2022-03-03T14:29:38.476Z"
   },
   {
    "duration": 4,
    "start_time": "2022-03-03T14:29:38.501Z"
   },
   {
    "duration": 10,
    "start_time": "2022-03-03T14:29:38.507Z"
   },
   {
    "duration": 8,
    "start_time": "2022-03-03T14:29:38.519Z"
   },
   {
    "duration": 33,
    "start_time": "2022-03-03T14:29:38.531Z"
   },
   {
    "duration": 5,
    "start_time": "2022-03-03T14:29:38.567Z"
   },
   {
    "duration": 10,
    "start_time": "2022-03-03T14:29:38.573Z"
   },
   {
    "duration": 5,
    "start_time": "2022-03-03T14:29:38.584Z"
   },
   {
    "duration": 11,
    "start_time": "2022-03-03T14:29:38.590Z"
   },
   {
    "duration": 66,
    "start_time": "2022-03-03T14:29:38.603Z"
   },
   {
    "duration": 494,
    "start_time": "2022-03-03T14:29:38.671Z"
   },
   {
    "duration": 247,
    "start_time": "2022-03-03T14:29:39.167Z"
   },
   {
    "duration": 26,
    "start_time": "2022-03-03T14:29:39.416Z"
   },
   {
    "duration": 48,
    "start_time": "2022-03-03T14:29:39.444Z"
   },
   {
    "duration": 447,
    "start_time": "2022-03-03T14:29:39.494Z"
   },
   {
    "duration": 3,
    "start_time": "2022-03-03T14:29:39.943Z"
   },
   {
    "duration": 15,
    "start_time": "2022-03-03T14:29:39.948Z"
   },
   {
    "duration": 600,
    "start_time": "2022-03-03T14:29:39.964Z"
   },
   {
    "duration": 4,
    "start_time": "2022-03-03T14:29:40.566Z"
   },
   {
    "duration": 6,
    "start_time": "2022-03-03T14:29:40.571Z"
   },
   {
    "duration": 6,
    "start_time": "2022-03-03T14:29:40.579Z"
   },
   {
    "duration": 33234,
    "start_time": "2022-03-03T17:40:54.372Z"
   },
   {
    "duration": 1084,
    "start_time": "2022-03-03T17:41:27.608Z"
   },
   {
    "duration": 29,
    "start_time": "2022-03-03T17:41:28.694Z"
   },
   {
    "duration": 24,
    "start_time": "2022-03-03T17:41:28.725Z"
   },
   {
    "duration": 5,
    "start_time": "2022-03-03T17:41:28.751Z"
   },
   {
    "duration": 39,
    "start_time": "2022-03-03T17:41:28.758Z"
   },
   {
    "duration": 9,
    "start_time": "2022-03-03T17:41:28.798Z"
   },
   {
    "duration": 6,
    "start_time": "2022-03-03T17:41:28.809Z"
   },
   {
    "duration": 13,
    "start_time": "2022-03-03T17:41:28.839Z"
   },
   {
    "duration": 7,
    "start_time": "2022-03-03T17:41:28.854Z"
   },
   {
    "duration": 15,
    "start_time": "2022-03-03T17:41:28.863Z"
   },
   {
    "duration": 9,
    "start_time": "2022-03-03T17:41:28.879Z"
   },
   {
    "duration": 4,
    "start_time": "2022-03-03T17:41:28.889Z"
   },
   {
    "duration": 6,
    "start_time": "2022-03-03T17:41:28.894Z"
   },
   {
    "duration": 44,
    "start_time": "2022-03-03T17:41:28.901Z"
   },
   {
    "duration": 37,
    "start_time": "2022-03-03T17:41:28.947Z"
   },
   {
    "duration": 3,
    "start_time": "2022-03-03T17:41:28.986Z"
   },
   {
    "duration": 7,
    "start_time": "2022-03-03T17:41:28.990Z"
   },
   {
    "duration": 17,
    "start_time": "2022-03-03T17:41:28.999Z"
   },
   {
    "duration": 5,
    "start_time": "2022-03-03T17:41:29.018Z"
   },
   {
    "duration": 22,
    "start_time": "2022-03-03T17:41:29.024Z"
   },
   {
    "duration": 13,
    "start_time": "2022-03-03T17:41:29.048Z"
   },
   {
    "duration": 21,
    "start_time": "2022-03-03T17:41:29.062Z"
   },
   {
    "duration": 5,
    "start_time": "2022-03-03T17:41:29.085Z"
   },
   {
    "duration": 11,
    "start_time": "2022-03-03T17:41:29.091Z"
   },
   {
    "duration": 8,
    "start_time": "2022-03-03T17:41:29.104Z"
   },
   {
    "duration": 4,
    "start_time": "2022-03-03T17:41:29.115Z"
   },
   {
    "duration": 3,
    "start_time": "2022-03-03T17:41:29.139Z"
   },
   {
    "duration": 20,
    "start_time": "2022-03-03T17:41:29.143Z"
   },
   {
    "duration": 4,
    "start_time": "2022-03-03T17:41:29.164Z"
   },
   {
    "duration": 14,
    "start_time": "2022-03-03T17:41:29.170Z"
   },
   {
    "duration": 37,
    "start_time": "2022-03-03T17:41:29.185Z"
   },
   {
    "duration": 493,
    "start_time": "2022-03-03T17:41:29.223Z"
   },
   {
    "duration": 254,
    "start_time": "2022-03-03T17:41:29.718Z"
   },
   {
    "duration": 20,
    "start_time": "2022-03-03T17:41:29.973Z"
   },
   {
    "duration": 71,
    "start_time": "2022-03-03T17:41:29.995Z"
   },
   {
    "duration": 491,
    "start_time": "2022-03-03T17:41:30.068Z"
   },
   {
    "duration": 4,
    "start_time": "2022-03-03T17:41:30.561Z"
   },
   {
    "duration": 3,
    "start_time": "2022-03-03T17:41:55.402Z"
   },
   {
    "duration": 4,
    "start_time": "2022-03-03T17:41:55.409Z"
   },
   {
    "duration": 34,
    "start_time": "2022-03-03T17:41:55.415Z"
   },
   {
    "duration": 13,
    "start_time": "2022-03-03T17:41:55.451Z"
   },
   {
    "duration": 6,
    "start_time": "2022-03-03T17:41:55.466Z"
   },
   {
    "duration": 124,
    "start_time": "2022-03-03T17:41:55.474Z"
   },
   {
    "duration": 8,
    "start_time": "2022-03-03T17:41:55.599Z"
   },
   {
    "duration": 7,
    "start_time": "2022-03-03T17:41:55.609Z"
   },
   {
    "duration": 29,
    "start_time": "2022-03-03T17:41:55.618Z"
   },
   {
    "duration": 6,
    "start_time": "2022-03-03T17:41:55.651Z"
   },
   {
    "duration": 12,
    "start_time": "2022-03-03T17:41:55.659Z"
   },
   {
    "duration": 10,
    "start_time": "2022-03-03T17:41:55.673Z"
   },
   {
    "duration": 4,
    "start_time": "2022-03-03T17:41:55.684Z"
   },
   {
    "duration": 5,
    "start_time": "2022-03-03T17:41:55.689Z"
   },
   {
    "duration": 5,
    "start_time": "2022-03-03T17:41:55.696Z"
   },
   {
    "duration": 72,
    "start_time": "2022-03-03T17:41:55.702Z"
   },
   {
    "duration": 3,
    "start_time": "2022-03-03T17:41:55.776Z"
   },
   {
    "duration": 8,
    "start_time": "2022-03-03T17:41:55.781Z"
   },
   {
    "duration": 10,
    "start_time": "2022-03-03T17:41:55.790Z"
   },
   {
    "duration": 7,
    "start_time": "2022-03-03T17:41:55.801Z"
   },
   {
    "duration": 10,
    "start_time": "2022-03-03T17:41:55.809Z"
   },
   {
    "duration": 7,
    "start_time": "2022-03-03T17:41:55.837Z"
   },
   {
    "duration": 28,
    "start_time": "2022-03-03T17:41:55.846Z"
   },
   {
    "duration": 5,
    "start_time": "2022-03-03T17:41:55.876Z"
   },
   {
    "duration": 10,
    "start_time": "2022-03-03T17:41:55.883Z"
   },
   {
    "duration": 8,
    "start_time": "2022-03-03T17:41:55.895Z"
   },
   {
    "duration": 40,
    "start_time": "2022-03-03T17:41:55.904Z"
   },
   {
    "duration": 9,
    "start_time": "2022-03-03T17:41:55.948Z"
   },
   {
    "duration": 9,
    "start_time": "2022-03-03T17:41:55.959Z"
   },
   {
    "duration": 5,
    "start_time": "2022-03-03T17:41:55.970Z"
   },
   {
    "duration": 11,
    "start_time": "2022-03-03T17:41:55.977Z"
   },
   {
    "duration": 63,
    "start_time": "2022-03-03T17:41:55.990Z"
   },
   {
    "duration": 476,
    "start_time": "2022-03-03T17:41:56.055Z"
   },
   {
    "duration": 247,
    "start_time": "2022-03-03T17:41:56.533Z"
   },
   {
    "duration": 20,
    "start_time": "2022-03-03T17:41:56.782Z"
   },
   {
    "duration": 52,
    "start_time": "2022-03-03T17:41:56.804Z"
   },
   {
    "duration": 464,
    "start_time": "2022-03-03T17:41:56.857Z"
   },
   {
    "duration": 4,
    "start_time": "2022-03-03T17:41:57.323Z"
   },
   {
    "duration": 2,
    "start_time": "2022-03-03T17:42:04.623Z"
   },
   {
    "duration": 496,
    "start_time": "2022-03-03T17:42:05.283Z"
   },
   {
    "duration": 252,
    "start_time": "2022-03-03T17:42:22.080Z"
   },
   {
    "duration": 48479,
    "start_time": "2022-03-03T17:42:37.650Z"
   },
   {
    "duration": 4,
    "start_time": "2022-03-03T17:43:26.131Z"
   },
   {
    "duration": 43,
    "start_time": "2022-03-03T17:43:26.137Z"
   },
   {
    "duration": 13,
    "start_time": "2022-03-03T17:43:26.182Z"
   },
   {
    "duration": 7,
    "start_time": "2022-03-03T17:43:26.196Z"
   },
   {
    "duration": 46,
    "start_time": "2022-03-03T17:43:26.205Z"
   },
   {
    "duration": 7,
    "start_time": "2022-03-03T17:43:26.253Z"
   },
   {
    "duration": 6,
    "start_time": "2022-03-03T17:43:26.263Z"
   },
   {
    "duration": 11,
    "start_time": "2022-03-03T17:43:26.271Z"
   },
   {
    "duration": 7,
    "start_time": "2022-03-03T17:43:26.284Z"
   },
   {
    "duration": 53,
    "start_time": "2022-03-03T17:43:26.292Z"
   },
   {
    "duration": 14,
    "start_time": "2022-03-03T17:43:26.347Z"
   },
   {
    "duration": 4,
    "start_time": "2022-03-03T17:43:26.363Z"
   },
   {
    "duration": 7,
    "start_time": "2022-03-03T17:43:26.368Z"
   },
   {
    "duration": 6,
    "start_time": "2022-03-03T17:43:26.376Z"
   },
   {
    "duration": 55,
    "start_time": "2022-03-03T17:43:26.383Z"
   },
   {
    "duration": 5,
    "start_time": "2022-03-03T17:43:26.446Z"
   },
   {
    "duration": 11,
    "start_time": "2022-03-03T17:43:26.453Z"
   },
   {
    "duration": 12,
    "start_time": "2022-03-03T17:43:26.465Z"
   },
   {
    "duration": 7,
    "start_time": "2022-03-03T17:43:26.478Z"
   },
   {
    "duration": 8,
    "start_time": "2022-03-03T17:43:26.487Z"
   },
   {
    "duration": 4,
    "start_time": "2022-03-03T17:43:26.497Z"
   },
   {
    "duration": 46,
    "start_time": "2022-03-03T17:43:26.504Z"
   },
   {
    "duration": 4,
    "start_time": "2022-03-03T17:43:26.552Z"
   },
   {
    "duration": 12,
    "start_time": "2022-03-03T17:43:26.557Z"
   },
   {
    "duration": 6,
    "start_time": "2022-03-03T17:43:26.571Z"
   },
   {
    "duration": 7,
    "start_time": "2022-03-03T17:43:26.578Z"
   },
   {
    "duration": 6,
    "start_time": "2022-03-03T17:43:26.587Z"
   },
   {
    "duration": 11,
    "start_time": "2022-03-03T17:43:26.594Z"
   },
   {
    "duration": 4,
    "start_time": "2022-03-03T17:43:26.607Z"
   },
   {
    "duration": 39,
    "start_time": "2022-03-03T17:43:26.612Z"
   },
   {
    "duration": 38,
    "start_time": "2022-03-03T17:43:26.653Z"
   },
   {
    "duration": 538,
    "start_time": "2022-03-03T17:43:26.693Z"
   },
   {
    "duration": 267,
    "start_time": "2022-03-03T17:43:27.233Z"
   },
   {
    "duration": 23,
    "start_time": "2022-03-03T17:43:27.501Z"
   },
   {
    "duration": 54,
    "start_time": "2022-03-03T17:43:27.525Z"
   },
   {
    "duration": 573,
    "start_time": "2022-03-03T17:43:27.580Z"
   },
   {
    "duration": 3,
    "start_time": "2022-03-03T17:43:28.155Z"
   },
   {
    "duration": 6,
    "start_time": "2022-03-03T17:43:28.160Z"
   },
   {
    "duration": 503,
    "start_time": "2022-03-03T17:43:28.167Z"
   },
   {
    "duration": 4,
    "start_time": "2022-03-03T17:43:28.671Z"
   },
   {
    "duration": 9,
    "start_time": "2022-03-03T17:43:28.677Z"
   },
   {
    "duration": 7,
    "start_time": "2022-03-03T17:43:28.688Z"
   },
   {
    "duration": 154,
    "start_time": "2022-03-03T17:43:46.318Z"
   },
   {
    "duration": 217,
    "start_time": "2022-03-03T17:43:59.421Z"
   },
   {
    "duration": 2384,
    "start_time": "2022-03-03T17:44:02.269Z"
   },
   {
    "duration": 1127,
    "start_time": "2022-03-03T17:44:04.655Z"
   },
   {
    "duration": 30,
    "start_time": "2022-03-03T17:44:05.785Z"
   },
   {
    "duration": 15,
    "start_time": "2022-03-03T17:44:05.817Z"
   },
   {
    "duration": 3,
    "start_time": "2022-03-03T17:44:05.834Z"
   },
   {
    "duration": 54,
    "start_time": "2022-03-03T17:44:05.840Z"
   },
   {
    "duration": 7,
    "start_time": "2022-03-03T17:44:05.895Z"
   },
   {
    "duration": 10,
    "start_time": "2022-03-03T17:44:05.904Z"
   },
   {
    "duration": 14,
    "start_time": "2022-03-03T17:44:05.916Z"
   },
   {
    "duration": 6,
    "start_time": "2022-03-03T17:44:05.932Z"
   },
   {
    "duration": 25,
    "start_time": "2022-03-03T17:44:05.939Z"
   },
   {
    "duration": 10,
    "start_time": "2022-03-03T17:44:05.965Z"
   },
   {
    "duration": 3,
    "start_time": "2022-03-03T17:44:05.977Z"
   },
   {
    "duration": 6,
    "start_time": "2022-03-03T17:44:05.982Z"
   },
   {
    "duration": 7,
    "start_time": "2022-03-03T17:44:05.990Z"
   },
   {
    "duration": 60,
    "start_time": "2022-03-03T17:44:05.998Z"
   },
   {
    "duration": 4,
    "start_time": "2022-03-03T17:44:06.059Z"
   },
   {
    "duration": 7,
    "start_time": "2022-03-03T17:44:06.064Z"
   },
   {
    "duration": 10,
    "start_time": "2022-03-03T17:44:06.073Z"
   },
   {
    "duration": 7,
    "start_time": "2022-03-03T17:44:06.085Z"
   },
   {
    "duration": 9,
    "start_time": "2022-03-03T17:44:06.093Z"
   },
   {
    "duration": 3,
    "start_time": "2022-03-03T17:44:06.104Z"
   },
   {
    "duration": 47,
    "start_time": "2022-03-03T17:44:06.109Z"
   },
   {
    "duration": 3,
    "start_time": "2022-03-03T17:44:06.158Z"
   },
   {
    "duration": 10,
    "start_time": "2022-03-03T17:44:06.163Z"
   },
   {
    "duration": 6,
    "start_time": "2022-03-03T17:44:06.175Z"
   },
   {
    "duration": 4,
    "start_time": "2022-03-03T17:44:06.184Z"
   },
   {
    "duration": 6,
    "start_time": "2022-03-03T17:44:06.190Z"
   },
   {
    "duration": 55,
    "start_time": "2022-03-03T17:44:06.197Z"
   },
   {
    "duration": 5,
    "start_time": "2022-03-03T17:44:06.254Z"
   },
   {
    "duration": 15,
    "start_time": "2022-03-03T17:44:06.260Z"
   },
   {
    "duration": 37,
    "start_time": "2022-03-03T17:44:06.277Z"
   },
   {
    "duration": 511,
    "start_time": "2022-03-03T17:44:06.315Z"
   },
   {
    "duration": 272,
    "start_time": "2022-03-03T17:44:06.827Z"
   },
   {
    "duration": 25,
    "start_time": "2022-03-03T17:44:07.101Z"
   },
   {
    "duration": 54,
    "start_time": "2022-03-03T17:44:07.128Z"
   },
   {
    "duration": 544,
    "start_time": "2022-03-03T17:44:07.184Z"
   },
   {
    "duration": 13,
    "start_time": "2022-03-03T17:44:07.730Z"
   },
   {
    "duration": 12,
    "start_time": "2022-03-03T17:44:07.745Z"
   },
   {
    "duration": 466,
    "start_time": "2022-03-03T17:44:07.759Z"
   },
   {
    "duration": 4,
    "start_time": "2022-03-03T17:44:08.227Z"
   },
   {
    "duration": 10,
    "start_time": "2022-03-03T17:44:08.237Z"
   },
   {
    "duration": 15,
    "start_time": "2022-03-03T17:44:08.249Z"
   },
   {
    "duration": 651,
    "start_time": "2022-03-03T17:44:08.266Z"
   },
   {
    "duration": 4,
    "start_time": "2022-03-03T17:49:43.288Z"
   },
   {
    "duration": 4,
    "start_time": "2022-03-03T17:49:45.998Z"
   },
   {
    "duration": 123244,
    "start_time": "2022-03-03T17:53:32.825Z"
   },
   {
    "duration": 338,
    "start_time": "2022-03-03T17:56:13.465Z"
   },
   {
    "duration": 4,
    "start_time": "2022-03-03T17:56:31.162Z"
   },
   {
    "duration": 3600,
    "start_time": "2022-03-03T17:56:36.430Z"
   },
   {
    "duration": 4,
    "start_time": "2022-03-03T17:56:50.747Z"
   },
   {
    "duration": 16,
    "start_time": "2022-03-03T17:56:53.832Z"
   },
   {
    "duration": 54,
    "start_time": "2022-03-03T18:12:15.522Z"
   },
   {
    "duration": 42,
    "start_time": "2022-03-03T18:12:19.091Z"
   },
   {
    "duration": 44,
    "start_time": "2022-03-03T18:12:27.834Z"
   },
   {
    "duration": 7,
    "start_time": "2022-03-03T18:12:38.374Z"
   },
   {
    "duration": 6,
    "start_time": "2022-03-03T18:12:55.214Z"
   },
   {
    "duration": 5,
    "start_time": "2022-03-03T18:12:59.532Z"
   },
   {
    "duration": 221,
    "start_time": "2022-03-03T18:17:01.845Z"
   },
   {
    "duration": 5,
    "start_time": "2022-03-03T18:17:06.759Z"
   },
   {
    "duration": 4,
    "start_time": "2022-03-03T18:32:12.501Z"
   },
   {
    "duration": 150,
    "start_time": "2022-03-03T18:32:35.102Z"
   },
   {
    "duration": 149,
    "start_time": "2022-03-03T18:34:15.778Z"
   },
   {
    "duration": 299,
    "start_time": "2022-03-03T18:34:28.511Z"
   },
   {
    "duration": 5,
    "start_time": "2022-03-03T18:35:42.019Z"
   },
   {
    "duration": 339,
    "start_time": "2022-03-03T18:36:27.078Z"
   },
   {
    "duration": 286,
    "start_time": "2022-03-03T18:37:02.415Z"
   },
   {
    "duration": 296,
    "start_time": "2022-03-03T18:37:28.796Z"
   },
   {
    "duration": 375,
    "start_time": "2022-03-03T18:38:19.059Z"
   },
   {
    "duration": 401,
    "start_time": "2022-03-03T18:38:25.318Z"
   },
   {
    "duration": 248,
    "start_time": "2022-03-03T18:38:39.473Z"
   },
   {
    "duration": 391,
    "start_time": "2022-03-03T18:39:09.407Z"
   },
   {
    "duration": 274,
    "start_time": "2022-03-03T18:39:24.145Z"
   },
   {
    "duration": 303,
    "start_time": "2022-03-03T18:40:20.709Z"
   },
   {
    "duration": 273,
    "start_time": "2022-03-03T18:40:24.797Z"
   },
   {
    "duration": 242,
    "start_time": "2022-03-03T18:41:49.673Z"
   },
   {
    "duration": 257,
    "start_time": "2022-03-03T18:43:00.966Z"
   },
   {
    "duration": 286,
    "start_time": "2022-03-03T18:43:13.419Z"
   },
   {
    "duration": 238,
    "start_time": "2022-03-03T18:43:30.776Z"
   },
   {
    "duration": 279,
    "start_time": "2022-03-03T18:44:56.337Z"
   },
   {
    "duration": 294,
    "start_time": "2022-03-03T18:45:05.923Z"
   },
   {
    "duration": 304,
    "start_time": "2022-03-03T18:45:19.113Z"
   },
   {
    "duration": 4,
    "start_time": "2022-03-03T18:47:11.413Z"
   },
   {
    "duration": 4,
    "start_time": "2022-03-03T18:47:30.772Z"
   },
   {
    "duration": 4,
    "start_time": "2022-03-03T18:48:10.528Z"
   },
   {
    "duration": 394,
    "start_time": "2022-03-03T18:48:29.936Z"
   },
   {
    "duration": 266,
    "start_time": "2022-03-03T18:48:40.750Z"
   },
   {
    "duration": 4,
    "start_time": "2022-03-03T18:49:24.067Z"
   },
   {
    "duration": 4,
    "start_time": "2022-03-03T18:49:53.923Z"
   },
   {
    "duration": 168,
    "start_time": "2022-03-03T18:49:57.140Z"
   },
   {
    "duration": 5,
    "start_time": "2022-03-03T18:50:20.797Z"
   },
   {
    "duration": 215,
    "start_time": "2022-03-03T18:50:29.991Z"
   },
   {
    "duration": 4,
    "start_time": "2022-03-03T18:50:46.714Z"
   },
   {
    "duration": 181,
    "start_time": "2022-03-03T18:50:50.116Z"
   },
   {
    "duration": 180,
    "start_time": "2022-03-03T18:51:04.300Z"
   },
   {
    "duration": 8,
    "start_time": "2022-03-03T18:52:31.737Z"
   },
   {
    "duration": 179,
    "start_time": "2022-03-03T18:52:34.488Z"
   },
   {
    "duration": 104,
    "start_time": "2022-03-03T18:52:38.114Z"
   },
   {
    "duration": 4,
    "start_time": "2022-03-03T18:52:46.780Z"
   },
   {
    "duration": 98,
    "start_time": "2022-03-03T18:52:50.167Z"
   },
   {
    "duration": 4,
    "start_time": "2022-03-03T18:53:09.069Z"
   },
   {
    "duration": 1475,
    "start_time": "2022-03-03T18:53:58.122Z"
   },
   {
    "duration": 185,
    "start_time": "2022-03-03T18:54:04.650Z"
   },
   {
    "duration": 4,
    "start_time": "2022-03-03T18:54:30.972Z"
   },
   {
    "duration": 385,
    "start_time": "2022-03-03T18:54:37.463Z"
   },
   {
    "duration": 291,
    "start_time": "2022-03-03T18:54:47.457Z"
   },
   {
    "duration": 265,
    "start_time": "2022-03-03T18:54:55.880Z"
   },
   {
    "duration": 302,
    "start_time": "2022-03-03T18:59:09.919Z"
   },
   {
    "duration": 303,
    "start_time": "2022-03-03T18:59:15.504Z"
   },
   {
    "duration": 258,
    "start_time": "2022-03-03T18:59:21.163Z"
   },
   {
    "duration": 4,
    "start_time": "2022-03-03T19:00:33.152Z"
   },
   {
    "duration": 401,
    "start_time": "2022-03-03T19:03:27.159Z"
   },
   {
    "duration": 143,
    "start_time": "2022-03-03T19:03:50.928Z"
   },
   {
    "duration": 7,
    "start_time": "2022-03-03T19:04:01.141Z"
   },
   {
    "duration": 409,
    "start_time": "2022-03-03T19:11:01.728Z"
   },
   {
    "duration": 141402,
    "start_time": "2022-03-03T19:28:35.228Z"
   },
   {
    "duration": 569138,
    "start_time": "2022-03-03T19:35:02.326Z"
   },
   {
    "duration": 4,
    "start_time": "2022-03-03T19:45:32.114Z"
   },
   {
    "duration": 4406,
    "start_time": "2022-03-03T19:46:42.938Z"
   },
   {
    "duration": 4429,
    "start_time": "2022-03-03T19:47:52.286Z"
   },
   {
    "duration": 4341,
    "start_time": "2022-03-03T19:48:14.170Z"
   },
   {
    "duration": 645,
    "start_time": "2022-03-03T19:48:36.953Z"
   },
   {
    "duration": 1251,
    "start_time": "2022-03-03T19:48:52.099Z"
   },
   {
    "duration": 33842,
    "start_time": "2022-03-03T19:49:16.850Z"
   },
   {
    "duration": 285648,
    "start_time": "2022-03-03T19:50:24.782Z"
   },
   {
    "duration": 962,
    "start_time": "2022-03-03T19:55:47.311Z"
   },
   {
    "duration": 4831,
    "start_time": "2022-03-03T19:55:57.659Z"
   },
   {
    "duration": 5,
    "start_time": "2022-03-03T19:56:11.650Z"
   },
   {
    "duration": 168,
    "start_time": "2022-03-03T19:56:39.285Z"
   },
   {
    "duration": 282,
    "start_time": "2022-03-03T19:57:13.317Z"
   },
   {
    "duration": 94,
    "start_time": "2022-03-03T19:58:31.816Z"
   },
   {
    "duration": 241,
    "start_time": "2022-03-03T20:00:48.563Z"
   },
   {
    "duration": 345,
    "start_time": "2022-03-03T20:03:26.292Z"
   },
   {
    "duration": 235,
    "start_time": "2022-03-03T20:03:40.104Z"
   },
   {
    "duration": 406,
    "start_time": "2022-03-03T20:04:33.540Z"
   },
   {
    "duration": 165,
    "start_time": "2022-03-03T20:05:19.365Z"
   },
   {
    "duration": 140,
    "start_time": "2022-03-03T20:05:57.432Z"
   },
   {
    "duration": 264,
    "start_time": "2022-03-03T20:06:03.953Z"
   },
   {
    "duration": 585,
    "start_time": "2022-03-03T20:08:49.741Z"
   },
   {
    "duration": 630,
    "start_time": "2022-03-03T20:09:06.377Z"
   },
   {
    "duration": 5,
    "start_time": "2022-03-03T20:22:43.523Z"
   },
   {
    "duration": 49,
    "start_time": "2022-03-03T20:23:30.036Z"
   },
   {
    "duration": 40,
    "start_time": "2022-03-03T20:24:07.059Z"
   },
   {
    "duration": 64,
    "start_time": "2022-03-03T20:24:16.127Z"
   },
   {
    "duration": 42,
    "start_time": "2022-03-03T20:24:19.621Z"
   },
   {
    "duration": 39,
    "start_time": "2022-03-03T20:24:42.834Z"
   },
   {
    "duration": 39,
    "start_time": "2022-03-03T20:24:49.672Z"
   },
   {
    "duration": 38,
    "start_time": "2022-03-03T20:24:57.952Z"
   },
   {
    "duration": 38,
    "start_time": "2022-03-03T20:25:03.838Z"
   },
   {
    "duration": 39,
    "start_time": "2022-03-03T20:25:09.599Z"
   },
   {
    "duration": 39,
    "start_time": "2022-03-03T20:25:14.960Z"
   },
   {
    "duration": 250,
    "start_time": "2022-03-03T20:27:15.365Z"
   },
   {
    "duration": 4,
    "start_time": "2022-03-03T20:29:38.495Z"
   },
   {
    "duration": 484,
    "start_time": "2022-03-03T20:30:01.552Z"
   },
   {
    "duration": 523,
    "start_time": "2022-03-03T20:30:34.078Z"
   },
   {
    "duration": 527,
    "start_time": "2022-03-03T20:30:48.150Z"
   },
   {
    "duration": 528,
    "start_time": "2022-03-03T20:30:55.198Z"
   },
   {
    "duration": 454,
    "start_time": "2022-03-03T20:31:16.954Z"
   },
   {
    "duration": 552,
    "start_time": "2022-03-03T20:31:44.846Z"
   },
   {
    "duration": 277,
    "start_time": "2022-03-03T20:32:45.610Z"
   },
   {
    "duration": 523,
    "start_time": "2022-03-03T20:33:04.272Z"
   },
   {
    "duration": 256,
    "start_time": "2022-03-03T20:33:09.793Z"
   },
   {
    "duration": 38,
    "start_time": "2022-03-03T20:33:55.224Z"
   },
   {
    "duration": 38,
    "start_time": "2022-03-03T20:34:03.301Z"
   },
   {
    "duration": 3,
    "start_time": "2022-03-03T20:34:53.481Z"
   },
   {
    "duration": 4,
    "start_time": "2022-03-03T20:34:55.682Z"
   },
   {
    "duration": 10,
    "start_time": "2022-03-03T20:35:37.850Z"
   },
   {
    "duration": 6,
    "start_time": "2022-03-03T20:35:39.935Z"
   },
   {
    "duration": 6,
    "start_time": "2022-03-03T20:37:00.464Z"
   },
   {
    "duration": 11,
    "start_time": "2022-03-03T20:41:20.335Z"
   },
   {
    "duration": 256,
    "start_time": "2022-03-03T20:42:00.093Z"
   },
   {
    "duration": 6,
    "start_time": "2022-03-03T20:42:10.673Z"
   },
   {
    "duration": 7,
    "start_time": "2022-03-03T20:42:23.293Z"
   },
   {
    "duration": 7,
    "start_time": "2022-03-03T20:42:26.183Z"
   },
   {
    "duration": 7,
    "start_time": "2022-03-03T20:43:23.277Z"
   },
   {
    "duration": 4,
    "start_time": "2022-03-03T20:50:02.387Z"
   },
   {
    "duration": 155,
    "start_time": "2022-03-03T20:50:18.979Z"
   },
   {
    "duration": 171,
    "start_time": "2022-03-03T20:50:40.403Z"
   },
   {
    "duration": 42,
    "start_time": "2022-03-03T20:50:49.254Z"
   },
   {
    "duration": 12,
    "start_time": "2022-03-03T20:51:04.799Z"
   },
   {
    "duration": 38,
    "start_time": "2022-03-03T20:51:21.103Z"
   },
   {
    "duration": 39,
    "start_time": "2022-03-03T20:51:26.458Z"
   },
   {
    "duration": 11,
    "start_time": "2022-03-03T20:51:38.070Z"
   },
   {
    "duration": 38,
    "start_time": "2022-03-03T20:51:38.618Z"
   },
   {
    "duration": 12,
    "start_time": "2022-03-03T20:51:45.432Z"
   },
   {
    "duration": 36,
    "start_time": "2022-03-03T20:51:46.563Z"
   },
   {
    "duration": 13,
    "start_time": "2022-03-03T20:51:50.206Z"
   },
   {
    "duration": 38,
    "start_time": "2022-03-03T20:51:51.352Z"
   },
   {
    "duration": 13,
    "start_time": "2022-03-03T20:51:55.184Z"
   },
   {
    "duration": 11,
    "start_time": "2022-03-03T20:51:58.948Z"
   },
   {
    "duration": 43,
    "start_time": "2022-03-03T20:52:00.123Z"
   },
   {
    "duration": 11,
    "start_time": "2022-03-03T20:52:03.150Z"
   },
   {
    "duration": 37,
    "start_time": "2022-03-03T20:52:03.572Z"
   },
   {
    "duration": 111231,
    "start_time": "2022-03-03T20:53:51.705Z"
   },
   {
    "duration": 525,
    "start_time": "2022-03-03T20:57:49.194Z"
   },
   {
    "duration": 4,
    "start_time": "2022-03-03T20:58:05.605Z"
   },
   {
    "duration": 472,
    "start_time": "2022-03-03T21:00:01.380Z"
   },
   {
    "duration": 262,
    "start_time": "2022-03-03T21:00:34.836Z"
   },
   {
    "duration": 4,
    "start_time": "2022-03-03T21:06:53.937Z"
   },
   {
    "duration": 5,
    "start_time": "2022-03-03T21:06:54.498Z"
   },
   {
    "duration": 10,
    "start_time": "2022-03-03T21:08:09.170Z"
   },
   {
    "duration": 33,
    "start_time": "2022-03-03T21:08:27.868Z"
   },
   {
    "duration": 12945,
    "start_time": "2022-03-04T08:14:00.854Z"
   },
   {
    "duration": 1497,
    "start_time": "2022-03-04T08:14:13.803Z"
   },
   {
    "duration": 38,
    "start_time": "2022-03-04T08:14:15.304Z"
   },
   {
    "duration": 29,
    "start_time": "2022-03-04T08:14:15.345Z"
   },
   {
    "duration": 9,
    "start_time": "2022-03-04T08:14:15.376Z"
   },
   {
    "duration": 77,
    "start_time": "2022-03-04T08:14:15.387Z"
   },
   {
    "duration": 12,
    "start_time": "2022-03-04T08:14:15.466Z"
   },
   {
    "duration": 8,
    "start_time": "2022-03-04T08:14:15.480Z"
   },
   {
    "duration": 15,
    "start_time": "2022-03-04T08:14:15.492Z"
   },
   {
    "duration": 46,
    "start_time": "2022-03-04T08:14:15.510Z"
   },
   {
    "duration": 22,
    "start_time": "2022-03-04T08:14:15.559Z"
   },
   {
    "duration": 14,
    "start_time": "2022-03-04T08:14:15.584Z"
   },
   {
    "duration": 7,
    "start_time": "2022-03-04T08:14:15.600Z"
   },
   {
    "duration": 42,
    "start_time": "2022-03-04T08:14:15.609Z"
   },
   {
    "duration": 7,
    "start_time": "2022-03-04T08:14:15.654Z"
   },
   {
    "duration": 91,
    "start_time": "2022-03-04T08:14:15.663Z"
   },
   {
    "duration": 6,
    "start_time": "2022-03-04T08:14:15.757Z"
   },
   {
    "duration": 7,
    "start_time": "2022-03-04T08:14:15.765Z"
   },
   {
    "duration": 11,
    "start_time": "2022-03-04T08:14:15.774Z"
   },
   {
    "duration": 11,
    "start_time": "2022-03-04T08:14:15.788Z"
   },
   {
    "duration": 59,
    "start_time": "2022-03-04T08:14:15.801Z"
   },
   {
    "duration": 7,
    "start_time": "2022-03-04T08:14:15.863Z"
   },
   {
    "duration": 34,
    "start_time": "2022-03-04T08:14:15.872Z"
   },
   {
    "duration": 6,
    "start_time": "2022-03-04T08:14:15.909Z"
   },
   {
    "duration": 14,
    "start_time": "2022-03-04T08:14:15.952Z"
   },
   {
    "duration": 12,
    "start_time": "2022-03-04T08:14:15.968Z"
   },
   {
    "duration": 6,
    "start_time": "2022-03-04T08:14:15.986Z"
   },
   {
    "duration": 6,
    "start_time": "2022-03-04T08:14:15.995Z"
   },
   {
    "duration": 58,
    "start_time": "2022-03-04T08:14:16.003Z"
   },
   {
    "duration": 9,
    "start_time": "2022-03-04T08:14:16.064Z"
   },
   {
    "duration": 17,
    "start_time": "2022-03-04T08:14:16.075Z"
   },
   {
    "duration": 96,
    "start_time": "2022-03-04T08:14:16.095Z"
   },
   {
    "duration": 791,
    "start_time": "2022-03-04T08:14:16.193Z"
   },
   {
    "duration": 407,
    "start_time": "2022-03-04T08:14:16.986Z"
   },
   {
    "duration": 37,
    "start_time": "2022-03-04T08:14:17.395Z"
   },
   {
    "duration": 73,
    "start_time": "2022-03-04T08:14:17.435Z"
   },
   {
    "duration": 832,
    "start_time": "2022-03-04T08:14:17.511Z"
   },
   {
    "duration": 9,
    "start_time": "2022-03-04T08:14:18.345Z"
   },
   {
    "duration": 6,
    "start_time": "2022-03-04T08:14:18.356Z"
   },
   {
    "duration": 790,
    "start_time": "2022-03-04T08:14:18.365Z"
   },
   {
    "duration": 6,
    "start_time": "2022-03-04T08:14:19.157Z"
   },
   {
    "duration": 11,
    "start_time": "2022-03-04T08:14:19.166Z"
   },
   {
    "duration": 12,
    "start_time": "2022-03-04T08:14:19.179Z"
   },
   {
    "duration": 181188,
    "start_time": "2022-03-04T08:14:19.193Z"
   },
   {
    "duration": 23,
    "start_time": "2022-03-04T08:17:20.384Z"
   },
   {
    "duration": 287,
    "start_time": "2022-03-04T08:17:20.409Z"
   },
   {
    "duration": 383,
    "start_time": "2022-03-04T08:17:20.698Z"
   },
   {
    "duration": 7315,
    "start_time": "2022-03-04T08:17:21.084Z"
   },
   {
    "duration": 174,
    "start_time": "2022-03-04T08:17:28.402Z"
   },
   {
    "duration": 359,
    "start_time": "2022-03-04T08:17:28.578Z"
   },
   {
    "duration": 377,
    "start_time": "2022-03-04T08:17:28.940Z"
   },
   {
    "duration": 633,
    "start_time": "2022-03-04T08:17:29.320Z"
   },
   {
    "duration": 368,
    "start_time": "2022-03-04T08:17:29.957Z"
   },
   {
    "duration": 388,
    "start_time": "2022-03-04T08:17:30.328Z"
   },
   {
    "duration": 6,
    "start_time": "2022-03-04T08:17:30.718Z"
   },
   {
    "duration": 84,
    "start_time": "2022-03-04T08:17:30.727Z"
   },
   {
    "duration": 66,
    "start_time": "2022-03-04T08:17:30.813Z"
   },
   {
    "duration": 363,
    "start_time": "2022-03-04T08:17:30.882Z"
   },
   {
    "duration": 799,
    "start_time": "2022-03-04T08:17:31.247Z"
   },
   {
    "duration": 345,
    "start_time": "2022-03-04T08:17:32.051Z"
   },
   {
    "duration": 5,
    "start_time": "2022-03-04T08:17:32.398Z"
   },
   {
    "duration": 7,
    "start_time": "2022-03-04T08:17:32.405Z"
   },
   {
    "duration": 37,
    "start_time": "2022-03-04T08:17:32.414Z"
   },
   {
    "duration": 9,
    "start_time": "2022-03-04T08:17:32.454Z"
   },
   {
    "duration": 7,
    "start_time": "2022-03-04T08:17:32.466Z"
   },
   {
    "duration": 186,
    "start_time": "2022-03-04T08:17:32.476Z"
   },
   {
    "duration": 17,
    "start_time": "2022-03-04T08:17:32.665Z"
   },
   {
    "duration": 169056,
    "start_time": "2022-03-04T08:17:32.685Z"
   },
   {
    "duration": 6,
    "start_time": "2022-03-04T08:20:21.752Z"
   },
   {
    "duration": 853,
    "start_time": "2022-03-04T08:20:21.761Z"
   },
   {
    "duration": 384,
    "start_time": "2022-03-04T08:20:22.616Z"
   },
   {
    "duration": 6,
    "start_time": "2022-03-04T08:20:23.002Z"
   },
   {
    "duration": 16,
    "start_time": "2022-03-04T08:20:23.010Z"
   },
   {
    "duration": 26,
    "start_time": "2022-03-04T08:20:23.029Z"
   },
   {
    "duration": 29203,
    "start_time": "2022-03-04T08:24:26.373Z"
   },
   {
    "duration": 24934,
    "start_time": "2022-03-04T08:27:19.473Z"
   },
   {
    "duration": 4,
    "start_time": "2022-03-04T08:28:19.321Z"
   },
   {
    "duration": 437,
    "start_time": "2022-03-04T08:28:21.081Z"
   },
   {
    "duration": 3,
    "start_time": "2022-03-04T08:28:39.498Z"
   },
   {
    "duration": 24684,
    "start_time": "2022-03-04T08:28:45.803Z"
   },
   {
    "duration": 4,
    "start_time": "2022-03-04T08:29:25.618Z"
   },
   {
    "duration": 31800,
    "start_time": "2022-03-04T08:29:34.891Z"
   },
   {
    "duration": 24243,
    "start_time": "2022-03-04T08:30:56.219Z"
   },
   {
    "duration": 6,
    "start_time": "2022-03-04T08:31:33.174Z"
   },
   {
    "duration": 15,
    "start_time": "2022-03-04T08:31:39.885Z"
   },
   {
    "duration": 3835,
    "start_time": "2022-03-04T08:33:00.083Z"
   },
   {
    "duration": 7,
    "start_time": "2022-03-04T08:33:03.922Z"
   },
   {
    "duration": 35,
    "start_time": "2022-03-04T08:33:03.933Z"
   },
   {
    "duration": 21,
    "start_time": "2022-03-04T08:33:03.971Z"
   },
   {
    "duration": 6,
    "start_time": "2022-03-04T08:33:03.994Z"
   },
   {
    "duration": 92,
    "start_time": "2022-03-04T08:33:04.002Z"
   },
   {
    "duration": 11,
    "start_time": "2022-03-04T08:33:04.097Z"
   },
   {
    "duration": 12,
    "start_time": "2022-03-04T08:33:04.112Z"
   },
   {
    "duration": 37,
    "start_time": "2022-03-04T08:33:04.127Z"
   },
   {
    "duration": 8,
    "start_time": "2022-03-04T08:33:04.167Z"
   },
   {
    "duration": 20,
    "start_time": "2022-03-04T08:33:04.177Z"
   },
   {
    "duration": 57,
    "start_time": "2022-03-04T08:33:04.199Z"
   },
   {
    "duration": 6,
    "start_time": "2022-03-04T08:33:04.259Z"
   },
   {
    "duration": 11,
    "start_time": "2022-03-04T08:33:04.268Z"
   },
   {
    "duration": 8,
    "start_time": "2022-03-04T08:33:04.282Z"
   },
   {
    "duration": 97,
    "start_time": "2022-03-04T08:33:04.292Z"
   },
   {
    "duration": 4,
    "start_time": "2022-03-04T08:33:04.391Z"
   },
   {
    "duration": 9,
    "start_time": "2022-03-04T08:33:04.398Z"
   },
   {
    "duration": 11,
    "start_time": "2022-03-04T08:33:04.409Z"
   },
   {
    "duration": 29,
    "start_time": "2022-03-04T08:33:04.423Z"
   },
   {
    "duration": 12,
    "start_time": "2022-03-04T08:33:04.455Z"
   },
   {
    "duration": 6,
    "start_time": "2022-03-04T08:33:04.469Z"
   },
   {
    "duration": 31,
    "start_time": "2022-03-04T08:33:04.482Z"
   },
   {
    "duration": 5,
    "start_time": "2022-03-04T08:33:04.517Z"
   },
   {
    "duration": 15,
    "start_time": "2022-03-04T08:33:04.524Z"
   },
   {
    "duration": 10,
    "start_time": "2022-03-04T08:33:04.552Z"
   },
   {
    "duration": 6,
    "start_time": "2022-03-04T08:33:04.564Z"
   },
   {
    "duration": 6,
    "start_time": "2022-03-04T08:33:04.573Z"
   },
   {
    "duration": 18,
    "start_time": "2022-03-04T08:33:04.582Z"
   },
   {
    "duration": 9,
    "start_time": "2022-03-04T08:33:04.603Z"
   },
   {
    "duration": 52,
    "start_time": "2022-03-04T08:33:04.616Z"
   },
   {
    "duration": 58,
    "start_time": "2022-03-04T08:33:04.670Z"
   },
   {
    "duration": 832,
    "start_time": "2022-03-04T08:33:04.731Z"
   },
   {
    "duration": 731,
    "start_time": "2022-03-04T08:33:05.566Z"
   },
   {
    "duration": 88,
    "start_time": "2022-03-04T08:33:06.299Z"
   },
   {
    "duration": 112,
    "start_time": "2022-03-04T08:33:06.389Z"
   },
   {
    "duration": 785,
    "start_time": "2022-03-04T08:33:06.503Z"
   },
   {
    "duration": 5,
    "start_time": "2022-03-04T08:33:07.291Z"
   },
   {
    "duration": 7,
    "start_time": "2022-03-04T08:33:07.299Z"
   },
   {
    "duration": 810,
    "start_time": "2022-03-04T08:33:07.308Z"
   },
   {
    "duration": 5,
    "start_time": "2022-03-04T08:33:08.120Z"
   },
   {
    "duration": 23,
    "start_time": "2022-03-04T08:33:08.128Z"
   },
   {
    "duration": 14,
    "start_time": "2022-03-04T08:33:08.155Z"
   },
   {
    "duration": 193463,
    "start_time": "2022-03-04T08:33:08.172Z"
   },
   {
    "duration": 30,
    "start_time": "2022-03-04T08:36:21.637Z"
   },
   {
    "duration": 342,
    "start_time": "2022-03-04T08:36:21.671Z"
   },
   {
    "duration": 409,
    "start_time": "2022-03-04T08:36:22.016Z"
   },
   {
    "duration": 7795,
    "start_time": "2022-03-04T08:36:22.428Z"
   },
   {
    "duration": 194,
    "start_time": "2022-03-04T08:36:30.226Z"
   },
   {
    "duration": 408,
    "start_time": "2022-03-04T08:36:30.422Z"
   },
   {
    "duration": 659,
    "start_time": "2022-03-04T08:36:30.833Z"
   },
   {
    "duration": 982,
    "start_time": "2022-03-04T08:36:31.495Z"
   },
   {
    "duration": 272,
    "start_time": "2022-03-04T08:36:32.564Z"
   },
   {
    "duration": 617,
    "start_time": "2022-03-04T08:36:32.840Z"
   },
   {
    "duration": 7,
    "start_time": "2022-03-04T08:36:33.459Z"
   },
   {
    "duration": 88,
    "start_time": "2022-03-04T08:36:33.469Z"
   },
   {
    "duration": 60,
    "start_time": "2022-03-04T08:36:33.560Z"
   },
   {
    "duration": 373,
    "start_time": "2022-03-04T08:36:33.623Z"
   },
   {
    "duration": 853,
    "start_time": "2022-03-04T08:36:33.999Z"
   },
   {
    "duration": 350,
    "start_time": "2022-03-04T08:36:34.855Z"
   },
   {
    "duration": 5,
    "start_time": "2022-03-04T08:36:35.208Z"
   },
   {
    "duration": 12,
    "start_time": "2022-03-04T08:36:35.216Z"
   },
   {
    "duration": 34,
    "start_time": "2022-03-04T08:36:35.231Z"
   },
   {
    "duration": 12,
    "start_time": "2022-03-04T08:36:35.268Z"
   },
   {
    "duration": 8,
    "start_time": "2022-03-04T08:36:35.283Z"
   },
   {
    "duration": 125,
    "start_time": "2022-03-04T08:36:35.294Z"
   },
   {
    "duration": 39,
    "start_time": "2022-03-04T08:36:35.422Z"
   },
   {
    "duration": 30202,
    "start_time": "2022-03-04T08:36:35.473Z"
   },
   {
    "duration": 6,
    "start_time": "2022-03-04T08:37:05.677Z"
   },
   {
    "duration": 1234,
    "start_time": "2022-03-04T08:37:05.686Z"
   },
   {
    "duration": 409,
    "start_time": "2022-03-04T08:37:06.922Z"
   },
   {
    "duration": 17,
    "start_time": "2022-03-04T08:37:07.334Z"
   },
   {
    "duration": 21,
    "start_time": "2022-03-04T08:37:07.353Z"
   },
   {
    "duration": 5,
    "start_time": "2022-03-04T08:40:27.674Z"
   },
   {
    "duration": 42,
    "start_time": "2022-03-04T08:41:29.994Z"
   },
   {
    "duration": 39,
    "start_time": "2022-03-04T08:41:39.290Z"
   },
   {
    "duration": 32,
    "start_time": "2022-03-04T08:42:27.541Z"
   },
   {
    "duration": 850,
    "start_time": "2022-03-04T08:43:12.323Z"
   },
   {
    "duration": 837,
    "start_time": "2022-03-04T08:43:22.187Z"
   },
   {
    "duration": 849,
    "start_time": "2022-03-04T08:43:36.011Z"
   },
   {
    "duration": 6,
    "start_time": "2022-03-04T08:46:24.046Z"
   },
   {
    "duration": 30,
    "start_time": "2022-03-04T08:46:38.974Z"
   },
   {
    "duration": 25,
    "start_time": "2022-03-04T08:48:02.220Z"
   },
   {
    "duration": 6,
    "start_time": "2022-03-04T08:48:04.086Z"
   },
   {
    "duration": 40,
    "start_time": "2022-03-04T08:48:05.564Z"
   },
   {
    "duration": 25,
    "start_time": "2022-03-04T08:48:10.173Z"
   },
   {
    "duration": 6,
    "start_time": "2022-03-04T08:49:01.207Z"
   },
   {
    "duration": 40,
    "start_time": "2022-03-04T08:49:02.311Z"
   },
   {
    "duration": 62,
    "start_time": "2022-03-04T08:49:19.363Z"
   },
   {
    "duration": 5,
    "start_time": "2022-03-04T08:51:26.777Z"
   },
   {
    "duration": 354,
    "start_time": "2022-03-04T08:51:52.778Z"
   },
   {
    "duration": 381,
    "start_time": "2022-03-04T08:52:04.249Z"
   },
   {
    "duration": 8,
    "start_time": "2022-03-04T08:55:57.091Z"
   },
   {
    "duration": 6,
    "start_time": "2022-03-04T08:57:14.028Z"
   },
   {
    "duration": 6,
    "start_time": "2022-03-04T08:58:33.637Z"
   },
   {
    "duration": 54,
    "start_time": "2022-03-04T08:58:41.292Z"
   },
   {
    "duration": 134,
    "start_time": "2022-03-04T08:58:48.748Z"
   },
   {
    "duration": 181,
    "start_time": "2022-03-04T08:59:02.693Z"
   },
   {
    "duration": 359,
    "start_time": "2022-03-04T09:06:48.449Z"
   },
   {
    "duration": 3647,
    "start_time": "2022-03-04T13:07:14.517Z"
   },
   {
    "duration": 6,
    "start_time": "2022-03-04T13:07:18.168Z"
   },
   {
    "duration": 45,
    "start_time": "2022-03-04T13:07:18.177Z"
   },
   {
    "duration": 39,
    "start_time": "2022-03-04T13:07:18.226Z"
   },
   {
    "duration": 7,
    "start_time": "2022-03-04T13:07:18.268Z"
   },
   {
    "duration": 83,
    "start_time": "2022-03-04T13:07:18.279Z"
   },
   {
    "duration": 14,
    "start_time": "2022-03-04T13:07:18.365Z"
   },
   {
    "duration": 7,
    "start_time": "2022-03-04T13:07:18.384Z"
   },
   {
    "duration": 16,
    "start_time": "2022-03-04T13:07:18.394Z"
   },
   {
    "duration": 45,
    "start_time": "2022-03-04T13:07:18.412Z"
   },
   {
    "duration": 19,
    "start_time": "2022-03-04T13:07:18.460Z"
   },
   {
    "duration": 15,
    "start_time": "2022-03-04T13:07:18.482Z"
   },
   {
    "duration": 6,
    "start_time": "2022-03-04T13:07:18.499Z"
   },
   {
    "duration": 47,
    "start_time": "2022-03-04T13:07:18.508Z"
   },
   {
    "duration": 6,
    "start_time": "2022-03-04T13:07:18.558Z"
   },
   {
    "duration": 93,
    "start_time": "2022-03-04T13:07:18.567Z"
   },
   {
    "duration": 5,
    "start_time": "2022-03-04T13:07:18.662Z"
   },
   {
    "duration": 8,
    "start_time": "2022-03-04T13:07:18.670Z"
   },
   {
    "duration": 11,
    "start_time": "2022-03-04T13:07:18.681Z"
   },
   {
    "duration": 10,
    "start_time": "2022-03-04T13:07:18.694Z"
   },
   {
    "duration": 54,
    "start_time": "2022-03-04T13:07:18.707Z"
   },
   {
    "duration": 6,
    "start_time": "2022-03-04T13:07:18.764Z"
   },
   {
    "duration": 33,
    "start_time": "2022-03-04T13:07:18.776Z"
   },
   {
    "duration": 41,
    "start_time": "2022-03-04T13:07:18.813Z"
   },
   {
    "duration": 16,
    "start_time": "2022-03-04T13:07:18.856Z"
   },
   {
    "duration": 15,
    "start_time": "2022-03-04T13:07:18.875Z"
   },
   {
    "duration": 8,
    "start_time": "2022-03-04T13:07:18.892Z"
   },
   {
    "duration": 49,
    "start_time": "2022-03-04T13:07:18.902Z"
   },
   {
    "duration": 13,
    "start_time": "2022-03-04T13:07:18.954Z"
   },
   {
    "duration": 7,
    "start_time": "2022-03-04T13:07:18.970Z"
   },
   {
    "duration": 21,
    "start_time": "2022-03-04T13:07:18.979Z"
   },
   {
    "duration": 97,
    "start_time": "2022-03-04T13:07:19.003Z"
   },
   {
    "duration": 778,
    "start_time": "2022-03-04T13:07:19.103Z"
   },
   {
    "duration": 514,
    "start_time": "2022-03-04T13:07:19.884Z"
   },
   {
    "duration": 57,
    "start_time": "2022-03-04T13:07:20.401Z"
   },
   {
    "duration": 60,
    "start_time": "2022-03-04T13:07:20.461Z"
   },
   {
    "duration": 752,
    "start_time": "2022-03-04T13:07:20.523Z"
   },
   {
    "duration": 5,
    "start_time": "2022-03-04T13:07:21.277Z"
   },
   {
    "duration": 6,
    "start_time": "2022-03-04T13:07:21.284Z"
   },
   {
    "duration": 898,
    "start_time": "2022-03-04T13:07:21.293Z"
   },
   {
    "duration": 6,
    "start_time": "2022-03-04T13:07:22.195Z"
   },
   {
    "duration": 9,
    "start_time": "2022-03-04T13:07:22.204Z"
   },
   {
    "duration": 36,
    "start_time": "2022-03-04T13:07:22.216Z"
   },
   {
    "duration": 191500,
    "start_time": "2022-03-04T13:07:22.255Z"
   },
   {
    "duration": 26,
    "start_time": "2022-03-04T13:10:33.758Z"
   },
   {
    "duration": 306,
    "start_time": "2022-03-04T13:10:33.787Z"
   },
   {
    "duration": 441,
    "start_time": "2022-03-04T13:10:34.095Z"
   },
   {
    "duration": 7675,
    "start_time": "2022-03-04T13:10:34.539Z"
   },
   {
    "duration": 252,
    "start_time": "2022-03-04T13:10:42.216Z"
   },
   {
    "duration": 293,
    "start_time": "2022-03-04T13:10:42.471Z"
   },
   {
    "duration": 362,
    "start_time": "2022-03-04T13:10:42.767Z"
   },
   {
    "duration": 623,
    "start_time": "2022-03-04T13:10:43.131Z"
   },
   {
    "duration": 355,
    "start_time": "2022-03-04T13:10:43.764Z"
   },
   {
    "duration": 394,
    "start_time": "2022-03-04T13:10:44.121Z"
   },
   {
    "duration": 5,
    "start_time": "2022-03-04T13:10:44.518Z"
   },
   {
    "duration": 88,
    "start_time": "2022-03-04T13:10:44.526Z"
   },
   {
    "duration": 78,
    "start_time": "2022-03-04T13:10:44.616Z"
   },
   {
    "duration": 505,
    "start_time": "2022-03-04T13:10:44.696Z"
   },
   {
    "duration": 858,
    "start_time": "2022-03-04T13:10:45.203Z"
   },
   {
    "duration": 379,
    "start_time": "2022-03-04T13:10:46.064Z"
   },
   {
    "duration": 12,
    "start_time": "2022-03-04T13:10:46.446Z"
   },
   {
    "duration": 23,
    "start_time": "2022-03-04T13:10:46.463Z"
   },
   {
    "duration": 22,
    "start_time": "2022-03-04T13:10:46.489Z"
   },
   {
    "duration": 11,
    "start_time": "2022-03-04T13:10:46.513Z"
   },
   {
    "duration": 27,
    "start_time": "2022-03-04T13:10:46.526Z"
   },
   {
    "duration": 71,
    "start_time": "2022-03-04T13:10:46.557Z"
   },
   {
    "duration": 43,
    "start_time": "2022-03-04T13:10:46.630Z"
   },
   {
    "duration": 24561,
    "start_time": "2022-03-04T13:10:46.683Z"
   },
   {
    "duration": 12,
    "start_time": "2022-03-04T13:11:11.251Z"
   },
   {
    "duration": 907,
    "start_time": "2022-03-04T13:11:11.266Z"
   },
   {
    "duration": 375,
    "start_time": "2022-03-04T13:11:12.176Z"
   },
   {
    "duration": 7,
    "start_time": "2022-03-04T13:11:12.554Z"
   },
   {
    "duration": 14,
    "start_time": "2022-03-04T13:11:12.564Z"
   },
   {
    "duration": 11,
    "start_time": "2022-03-04T13:11:12.581Z"
   },
   {
    "duration": 34,
    "start_time": "2022-03-04T13:11:12.594Z"
   },
   {
    "duration": 29,
    "start_time": "2022-03-04T13:11:12.630Z"
   },
   {
    "duration": 56,
    "start_time": "2022-03-04T13:11:12.662Z"
   },
   {
    "duration": 7,
    "start_time": "2022-03-04T13:11:12.720Z"
   },
   {
    "duration": 378,
    "start_time": "2022-03-04T13:11:12.752Z"
   },
   {
    "duration": 5,
    "start_time": "2022-03-04T13:11:13.132Z"
   },
   {
    "duration": 206,
    "start_time": "2022-03-04T13:11:13.139Z"
   },
   {
    "duration": 388,
    "start_time": "2022-03-04T13:11:13.351Z"
   },
   {
    "duration": 14772,
    "start_time": "2022-03-05T17:02:37.989Z"
   },
   {
    "duration": 1533,
    "start_time": "2022-03-05T17:03:34.272Z"
   },
   {
    "duration": 3812,
    "start_time": "2022-03-05T17:04:21.140Z"
   },
   {
    "duration": 6,
    "start_time": "2022-03-05T17:04:24.955Z"
   },
   {
    "duration": 38,
    "start_time": "2022-03-05T17:04:24.965Z"
   },
   {
    "duration": 26,
    "start_time": "2022-03-05T17:04:25.006Z"
   },
   {
    "duration": 6,
    "start_time": "2022-03-05T17:04:25.035Z"
   },
   {
    "duration": 64,
    "start_time": "2022-03-05T17:04:25.043Z"
   },
   {
    "duration": 31,
    "start_time": "2022-03-05T17:04:25.109Z"
   },
   {
    "duration": 9,
    "start_time": "2022-03-05T17:04:25.143Z"
   },
   {
    "duration": 15,
    "start_time": "2022-03-05T17:04:25.154Z"
   },
   {
    "duration": 8,
    "start_time": "2022-03-05T17:04:25.171Z"
   },
   {
    "duration": 60,
    "start_time": "2022-03-05T17:04:25.181Z"
   },
   {
    "duration": 16,
    "start_time": "2022-03-05T17:04:25.243Z"
   },
   {
    "duration": 5,
    "start_time": "2022-03-05T17:04:25.261Z"
   },
   {
    "duration": 6,
    "start_time": "2022-03-05T17:04:25.269Z"
   },
   {
    "duration": 6,
    "start_time": "2022-03-05T17:04:25.277Z"
   },
   {
    "duration": 103,
    "start_time": "2022-03-05T17:04:25.285Z"
   },
   {
    "duration": 7,
    "start_time": "2022-03-05T17:09:16.834Z"
   },
   {
    "duration": 8,
    "start_time": "2022-03-05T17:09:21.676Z"
   },
   {
    "duration": 8,
    "start_time": "2022-03-05T17:09:54.538Z"
   },
   {
    "duration": 8,
    "start_time": "2022-03-05T17:09:59.585Z"
   },
   {
    "duration": 34,
    "start_time": "2022-03-05T17:10:17.989Z"
   },
   {
    "duration": 9,
    "start_time": "2022-03-05T17:10:28.448Z"
   },
   {
    "duration": 434,
    "start_time": "2022-03-05T17:11:22.028Z"
   },
   {
    "duration": 284,
    "start_time": "2022-03-05T17:11:43.934Z"
   },
   {
    "duration": 279,
    "start_time": "2022-03-05T17:11:56.706Z"
   },
   {
    "duration": 10,
    "start_time": "2022-03-05T17:12:02.172Z"
   },
   {
    "duration": 6,
    "start_time": "2022-03-05T17:12:09.789Z"
   },
   {
    "duration": 16,
    "start_time": "2022-03-05T17:12:39.858Z"
   },
   {
    "duration": 3,
    "start_time": "2022-03-05T17:12:55.283Z"
   },
   {
    "duration": 16,
    "start_time": "2022-03-05T17:12:56.409Z"
   },
   {
    "duration": 3672,
    "start_time": "2022-03-05T17:12:59.558Z"
   },
   {
    "duration": 6,
    "start_time": "2022-03-05T17:13:03.234Z"
   },
   {
    "duration": 42,
    "start_time": "2022-03-05T17:13:03.243Z"
   },
   {
    "duration": 20,
    "start_time": "2022-03-05T17:13:03.288Z"
   },
   {
    "duration": 4,
    "start_time": "2022-03-05T17:13:03.310Z"
   },
   {
    "duration": 72,
    "start_time": "2022-03-05T17:13:03.317Z"
   },
   {
    "duration": 11,
    "start_time": "2022-03-05T17:13:03.391Z"
   },
   {
    "duration": 33,
    "start_time": "2022-03-05T17:13:03.404Z"
   },
   {
    "duration": 16,
    "start_time": "2022-03-05T17:13:03.440Z"
   },
   {
    "duration": 8,
    "start_time": "2022-03-05T17:13:03.458Z"
   },
   {
    "duration": 19,
    "start_time": "2022-03-05T17:13:03.468Z"
   },
   {
    "duration": 57,
    "start_time": "2022-03-05T17:13:03.489Z"
   },
   {
    "duration": 6,
    "start_time": "2022-03-05T17:13:03.548Z"
   },
   {
    "duration": 6,
    "start_time": "2022-03-05T17:13:03.557Z"
   },
   {
    "duration": 6,
    "start_time": "2022-03-05T17:13:03.565Z"
   },
   {
    "duration": 103,
    "start_time": "2022-03-05T17:13:03.573Z"
   },
   {
    "duration": 3,
    "start_time": "2022-03-05T17:13:03.678Z"
   },
   {
    "duration": 56,
    "start_time": "2022-03-05T17:13:03.684Z"
   },
   {
    "duration": 335,
    "start_time": "2022-03-05T17:13:16.204Z"
   },
   {
    "duration": 35,
    "start_time": "2022-03-05T17:13:53.865Z"
   },
   {
    "duration": 8,
    "start_time": "2022-03-05T17:14:05.768Z"
   },
   {
    "duration": 6,
    "start_time": "2022-03-05T17:14:32.569Z"
   },
   {
    "duration": 6,
    "start_time": "2022-03-05T17:14:36.518Z"
   },
   {
    "duration": 10,
    "start_time": "2022-03-05T17:14:55.863Z"
   },
   {
    "duration": 34,
    "start_time": "2022-03-05T17:15:08.932Z"
   },
   {
    "duration": 30,
    "start_time": "2022-03-05T17:15:21.710Z"
   },
   {
    "duration": 5,
    "start_time": "2022-03-05T17:16:41.561Z"
   },
   {
    "duration": 3,
    "start_time": "2022-03-05T17:16:52.089Z"
   },
   {
    "duration": 4039,
    "start_time": "2022-03-05T17:20:17.723Z"
   },
   {
    "duration": 6,
    "start_time": "2022-03-05T17:20:21.765Z"
   },
   {
    "duration": 996,
    "start_time": "2022-03-05T17:20:21.774Z"
   },
   {
    "duration": 347,
    "start_time": "2022-03-05T17:20:22.773Z"
   },
   {
    "duration": 802,
    "start_time": "2022-03-05T17:20:23.122Z"
   },
   {
    "duration": 642,
    "start_time": "2022-03-05T17:20:23.926Z"
   },
   {
    "duration": 585,
    "start_time": "2022-03-05T17:20:24.570Z"
   },
   {
    "duration": 8,
    "start_time": "2022-03-05T17:20:25.159Z"
   },
   {
    "duration": 28,
    "start_time": "2022-03-05T17:20:25.170Z"
   },
   {
    "duration": 27,
    "start_time": "2022-03-05T17:20:25.200Z"
   },
   {
    "duration": 854,
    "start_time": "2022-03-05T17:20:25.229Z"
   },
   {
    "duration": 402,
    "start_time": "2022-03-05T17:20:26.085Z"
   },
   {
    "duration": 279,
    "start_time": "2022-03-05T17:20:26.489Z"
   },
   {
    "duration": 403,
    "start_time": "2022-03-05T17:20:26.771Z"
   },
   {
    "duration": 9,
    "start_time": "2022-03-05T17:20:27.176Z"
   },
   {
    "duration": 59,
    "start_time": "2022-03-05T17:20:27.188Z"
   },
   {
    "duration": 12,
    "start_time": "2022-03-05T17:20:33.612Z"
   },
   {
    "duration": 29,
    "start_time": "2022-03-05T17:20:36.967Z"
   },
   {
    "duration": 11,
    "start_time": "2022-03-05T17:24:18.652Z"
   },
   {
    "duration": 28,
    "start_time": "2022-03-05T17:24:21.185Z"
   },
   {
    "duration": 3753,
    "start_time": "2022-03-05T17:24:26.630Z"
   },
   {
    "duration": 6,
    "start_time": "2022-03-05T17:24:30.386Z"
   },
   {
    "duration": 51,
    "start_time": "2022-03-05T17:24:30.396Z"
   },
   {
    "duration": 21,
    "start_time": "2022-03-05T17:24:30.450Z"
   },
   {
    "duration": 5,
    "start_time": "2022-03-05T17:24:30.474Z"
   },
   {
    "duration": 82,
    "start_time": "2022-03-05T17:24:30.482Z"
   },
   {
    "duration": 11,
    "start_time": "2022-03-05T17:24:30.567Z"
   },
   {
    "duration": 9,
    "start_time": "2022-03-05T17:24:30.582Z"
   },
   {
    "duration": 49,
    "start_time": "2022-03-05T17:24:30.594Z"
   },
   {
    "duration": 9,
    "start_time": "2022-03-05T17:24:30.645Z"
   },
   {
    "duration": 21,
    "start_time": "2022-03-05T17:24:30.656Z"
   },
   {
    "duration": 16,
    "start_time": "2022-03-05T17:24:30.679Z"
   },
   {
    "duration": 39,
    "start_time": "2022-03-05T17:24:30.697Z"
   },
   {
    "duration": 7,
    "start_time": "2022-03-05T17:24:30.739Z"
   },
   {
    "duration": 6,
    "start_time": "2022-03-05T17:24:30.748Z"
   },
   {
    "duration": 92,
    "start_time": "2022-03-05T17:24:30.756Z"
   },
   {
    "duration": 8,
    "start_time": "2022-03-05T17:24:34.301Z"
   },
   {
    "duration": 30,
    "start_time": "2022-03-05T17:24:37.240Z"
   },
   {
    "duration": 3761,
    "start_time": "2022-03-05T17:25:53.055Z"
   },
   {
    "duration": 7,
    "start_time": "2022-03-05T17:25:56.819Z"
   },
   {
    "duration": 40,
    "start_time": "2022-03-05T17:25:56.829Z"
   },
   {
    "duration": 20,
    "start_time": "2022-03-05T17:25:56.872Z"
   },
   {
    "duration": 5,
    "start_time": "2022-03-05T17:25:56.895Z"
   },
   {
    "duration": 74,
    "start_time": "2022-03-05T17:25:56.902Z"
   },
   {
    "duration": 12,
    "start_time": "2022-03-05T17:25:56.978Z"
   },
   {
    "duration": 9,
    "start_time": "2022-03-05T17:25:56.993Z"
   },
   {
    "duration": 16,
    "start_time": "2022-03-05T17:25:57.034Z"
   },
   {
    "duration": 9,
    "start_time": "2022-03-05T17:25:57.052Z"
   },
   {
    "duration": 19,
    "start_time": "2022-03-05T17:25:57.063Z"
   },
   {
    "duration": 56,
    "start_time": "2022-03-05T17:25:57.084Z"
   },
   {
    "duration": 6,
    "start_time": "2022-03-05T17:25:57.143Z"
   },
   {
    "duration": 8,
    "start_time": "2022-03-05T17:25:57.151Z"
   },
   {
    "duration": 8,
    "start_time": "2022-03-05T17:25:57.161Z"
   },
   {
    "duration": 99,
    "start_time": "2022-03-05T17:25:57.171Z"
   },
   {
    "duration": 1079,
    "start_time": "2022-03-05T17:25:57.273Z"
   },
   {
    "duration": 2920,
    "start_time": "2022-03-05T17:27:35.252Z"
   },
   {
    "duration": 53,
    "start_time": "2022-03-05T17:27:48.776Z"
   },
   {
    "duration": 29,
    "start_time": "2022-03-05T17:27:53.738Z"
   },
   {
    "duration": 3,
    "start_time": "2022-03-05T17:28:31.244Z"
   },
   {
    "duration": 6,
    "start_time": "2022-03-05T17:28:33.519Z"
   },
   {
    "duration": 12,
    "start_time": "2022-03-05T17:28:35.911Z"
   },
   {
    "duration": 12,
    "start_time": "2022-03-05T17:29:28.789Z"
   },
   {
    "duration": 3676,
    "start_time": "2022-03-05T17:29:31.874Z"
   },
   {
    "duration": 6,
    "start_time": "2022-03-05T17:29:35.554Z"
   },
   {
    "duration": 40,
    "start_time": "2022-03-05T17:29:35.563Z"
   },
   {
    "duration": 21,
    "start_time": "2022-03-05T17:29:35.606Z"
   },
   {
    "duration": 7,
    "start_time": "2022-03-05T17:29:35.629Z"
   },
   {
    "duration": 72,
    "start_time": "2022-03-05T17:29:35.638Z"
   },
   {
    "duration": 27,
    "start_time": "2022-03-05T17:29:35.712Z"
   },
   {
    "duration": 8,
    "start_time": "2022-03-05T17:29:35.743Z"
   },
   {
    "duration": 16,
    "start_time": "2022-03-05T17:29:35.754Z"
   },
   {
    "duration": 8,
    "start_time": "2022-03-05T17:29:35.772Z"
   },
   {
    "duration": 69,
    "start_time": "2022-03-05T17:29:35.782Z"
   },
   {
    "duration": 18,
    "start_time": "2022-03-05T17:29:35.854Z"
   },
   {
    "duration": 7,
    "start_time": "2022-03-05T17:29:35.874Z"
   },
   {
    "duration": 6,
    "start_time": "2022-03-05T17:29:35.884Z"
   },
   {
    "duration": 14,
    "start_time": "2022-03-05T17:29:35.934Z"
   },
   {
    "duration": 83,
    "start_time": "2022-03-05T17:29:35.951Z"
   },
   {
    "duration": 35,
    "start_time": "2022-03-05T17:29:47.350Z"
   },
   {
    "duration": 34,
    "start_time": "2022-03-05T17:30:01.613Z"
   },
   {
    "duration": 53,
    "start_time": "2022-03-05T17:30:10.851Z"
   },
   {
    "duration": 12,
    "start_time": "2022-03-05T17:30:16.179Z"
   },
   {
    "duration": 107,
    "start_time": "2022-03-05T17:30:20.074Z"
   },
   {
    "duration": 33,
    "start_time": "2022-03-05T17:30:22.558Z"
   },
   {
    "duration": 288,
    "start_time": "2022-03-05T17:39:15.697Z"
   },
   {
    "duration": 3722,
    "start_time": "2022-03-05T17:39:26.294Z"
   },
   {
    "duration": 7,
    "start_time": "2022-03-05T17:39:30.019Z"
   },
   {
    "duration": 41,
    "start_time": "2022-03-05T17:39:30.029Z"
   },
   {
    "duration": 23,
    "start_time": "2022-03-05T17:39:30.073Z"
   },
   {
    "duration": 8,
    "start_time": "2022-03-05T17:39:30.099Z"
   },
   {
    "duration": 76,
    "start_time": "2022-03-05T17:39:30.109Z"
   },
   {
    "duration": 11,
    "start_time": "2022-03-05T17:39:30.187Z"
   },
   {
    "duration": 20,
    "start_time": "2022-03-05T17:39:30.201Z"
   },
   {
    "duration": 16,
    "start_time": "2022-03-05T17:39:30.234Z"
   },
   {
    "duration": 8,
    "start_time": "2022-03-05T17:39:30.253Z"
   },
   {
    "duration": 22,
    "start_time": "2022-03-05T17:39:30.263Z"
   },
   {
    "duration": 50,
    "start_time": "2022-03-05T17:39:30.287Z"
   },
   {
    "duration": 7,
    "start_time": "2022-03-05T17:39:30.339Z"
   },
   {
    "duration": 11,
    "start_time": "2022-03-05T17:39:30.349Z"
   },
   {
    "duration": 6,
    "start_time": "2022-03-05T17:39:30.363Z"
   },
   {
    "duration": 106,
    "start_time": "2022-03-05T17:39:30.372Z"
   },
   {
    "duration": 63,
    "start_time": "2022-03-05T17:39:30.480Z"
   },
   {
    "duration": 3,
    "start_time": "2022-03-05T17:39:30.545Z"
   },
   {
    "duration": 14,
    "start_time": "2022-03-05T17:39:30.550Z"
   },
   {
    "duration": 18,
    "start_time": "2022-03-05T17:39:30.566Z"
   },
   {
    "duration": 17,
    "start_time": "2022-03-05T17:39:30.586Z"
   },
   {
    "duration": 27,
    "start_time": "2022-03-05T17:39:30.605Z"
   },
   {
    "duration": 6,
    "start_time": "2022-03-05T17:39:30.635Z"
   },
   {
    "duration": 33,
    "start_time": "2022-03-05T17:39:30.643Z"
   },
   {
    "duration": 5,
    "start_time": "2022-03-05T17:39:30.678Z"
   },
   {
    "duration": 55,
    "start_time": "2022-03-05T17:39:30.686Z"
   },
   {
    "duration": 11,
    "start_time": "2022-03-05T17:39:30.746Z"
   },
   {
    "duration": 6,
    "start_time": "2022-03-05T17:39:30.760Z"
   },
   {
    "duration": 11,
    "start_time": "2022-03-05T17:39:30.768Z"
   },
   {
    "duration": 14,
    "start_time": "2022-03-05T17:39:30.781Z"
   },
   {
    "duration": 39,
    "start_time": "2022-03-05T17:39:30.798Z"
   },
   {
    "duration": 17,
    "start_time": "2022-03-05T17:39:30.839Z"
   },
   {
    "duration": 75,
    "start_time": "2022-03-05T17:39:30.859Z"
   },
   {
    "duration": 801,
    "start_time": "2022-03-05T17:39:30.936Z"
   },
   {
    "duration": 510,
    "start_time": "2022-03-05T17:39:31.740Z"
   },
   {
    "duration": 41,
    "start_time": "2022-03-05T17:39:32.252Z"
   },
   {
    "duration": 80,
    "start_time": "2022-03-05T17:39:32.296Z"
   },
   {
    "duration": 805,
    "start_time": "2022-03-05T17:39:32.379Z"
   },
   {
    "duration": 5,
    "start_time": "2022-03-05T17:39:33.187Z"
   },
   {
    "duration": 14,
    "start_time": "2022-03-05T17:39:33.194Z"
   },
   {
    "duration": 779,
    "start_time": "2022-03-05T17:39:33.211Z"
   },
   {
    "duration": 5,
    "start_time": "2022-03-05T17:40:16.795Z"
   },
   {
    "duration": 6,
    "start_time": "2022-03-05T17:41:13.952Z"
   },
   {
    "duration": 6,
    "start_time": "2022-03-05T17:41:14.390Z"
   },
   {
    "duration": 185193,
    "start_time": "2022-03-05T17:41:18.613Z"
   },
   {
    "duration": 24,
    "start_time": "2022-03-05T17:44:38.545Z"
   },
   {
    "duration": 26,
    "start_time": "2022-03-05T17:46:26.826Z"
   },
   {
    "duration": 250,
    "start_time": "2022-03-05T17:46:28.611Z"
   },
   {
    "duration": 404,
    "start_time": "2022-03-05T17:46:32.551Z"
   },
   {
    "duration": 7094,
    "start_time": "2022-03-05T17:47:16.609Z"
   },
   {
    "duration": 1381198,
    "start_time": "2022-03-05T17:48:01.947Z"
   },
   {
    "duration": 160,
    "start_time": "2022-03-05T18:11:54.251Z"
   },
   {
    "duration": 352,
    "start_time": "2022-03-05T18:12:39.765Z"
   },
   {
    "duration": 711,
    "start_time": "2022-03-05T18:13:31.823Z"
   },
   {
    "duration": 329,
    "start_time": "2022-03-05T18:13:36.311Z"
   },
   {
    "duration": 368,
    "start_time": "2022-03-05T18:13:37.206Z"
   },
   {
    "duration": 6,
    "start_time": "2022-03-05T18:18:13.549Z"
   },
   {
    "duration": 63,
    "start_time": "2022-03-05T18:18:15.550Z"
   },
   {
    "duration": 66,
    "start_time": "2022-03-05T18:18:52.088Z"
   },
   {
    "duration": 58,
    "start_time": "2022-03-05T18:19:02.890Z"
   },
   {
    "duration": 67,
    "start_time": "2022-03-05T18:19:27.805Z"
   },
   {
    "duration": 62,
    "start_time": "2022-03-05T18:19:34.216Z"
   },
   {
    "duration": 67,
    "start_time": "2022-03-05T18:19:38.469Z"
   },
   {
    "duration": 947,
    "start_time": "2022-03-05T18:20:23.274Z"
   },
   {
    "duration": 356,
    "start_time": "2022-03-05T18:20:27.435Z"
   },
   {
    "duration": 375,
    "start_time": "2022-03-05T18:20:32.302Z"
   },
   {
    "duration": 1254,
    "start_time": "2022-03-05T18:22:29.016Z"
   },
   {
    "duration": 6,
    "start_time": "2022-03-05T18:22:59.514Z"
   },
   {
    "duration": 6,
    "start_time": "2022-03-05T18:22:59.523Z"
   },
   {
    "duration": 16,
    "start_time": "2022-03-05T18:23:02.273Z"
   },
   {
    "duration": 9,
    "start_time": "2022-03-05T18:23:03.638Z"
   },
   {
    "duration": 7,
    "start_time": "2022-03-05T18:23:04.979Z"
   },
   {
    "duration": 102,
    "start_time": "2022-03-05T18:23:08.345Z"
   },
   {
    "duration": 18,
    "start_time": "2022-03-05T18:23:16.309Z"
   },
   {
    "duration": 24730,
    "start_time": "2022-03-05T18:23:17.798Z"
   },
   {
    "duration": 6,
    "start_time": "2022-03-05T18:23:56.771Z"
   },
   {
    "duration": 976,
    "start_time": "2022-03-05T18:24:09.623Z"
   },
   {
    "duration": 401,
    "start_time": "2022-03-05T18:24:57.858Z"
   },
   {
    "duration": 6,
    "start_time": "2022-03-05T18:27:30.867Z"
   },
   {
    "duration": 165,
    "start_time": "2022-03-05T18:28:20.769Z"
   },
   {
    "duration": 6,
    "start_time": "2022-03-05T18:28:44.298Z"
   },
   {
    "duration": 39,
    "start_time": "2022-03-05T18:29:10.424Z"
   },
   {
    "duration": 59,
    "start_time": "2022-03-05T18:29:30.238Z"
   },
   {
    "duration": 6,
    "start_time": "2022-03-05T18:29:52.540Z"
   },
   {
    "duration": 99,
    "start_time": "2022-03-05T18:31:33.075Z"
   },
   {
    "duration": 414,
    "start_time": "2022-03-05T18:31:38.580Z"
   },
   {
    "duration": 6,
    "start_time": "2022-03-05T18:31:46.397Z"
   },
   {
    "duration": 201,
    "start_time": "2022-03-05T18:32:23.844Z"
   },
   {
    "duration": 387,
    "start_time": "2022-03-05T18:32:53.027Z"
   },
   {
    "duration": 306,
    "start_time": "2022-03-05T19:13:32.375Z"
   },
   {
    "duration": 458,
    "start_time": "2022-03-05T19:13:45.278Z"
   },
   {
    "duration": 551,
    "start_time": "2022-03-05T19:21:31.349Z"
   },
   {
    "duration": 707,
    "start_time": "2022-03-05T19:21:37.046Z"
   },
   {
    "duration": 886,
    "start_time": "2022-03-05T19:22:05.558Z"
   },
   {
    "duration": 1144,
    "start_time": "2022-03-05T19:22:28.407Z"
   },
   {
    "duration": 851,
    "start_time": "2022-03-05T19:25:58.122Z"
   },
   {
    "duration": 1010,
    "start_time": "2022-03-05T19:26:05.729Z"
   },
   {
    "duration": 868,
    "start_time": "2022-03-05T19:26:16.653Z"
   },
   {
    "duration": 889,
    "start_time": "2022-03-05T19:26:27.749Z"
   },
   {
    "duration": 884,
    "start_time": "2022-03-05T19:26:44.324Z"
   },
   {
    "duration": 665,
    "start_time": "2022-03-05T19:26:52.222Z"
   },
   {
    "duration": 479,
    "start_time": "2022-03-05T19:28:07.443Z"
   },
   {
    "duration": 689,
    "start_time": "2022-03-05T19:28:38.008Z"
   },
   {
    "duration": 484,
    "start_time": "2022-03-05T19:28:44.338Z"
   },
   {
    "duration": 503,
    "start_time": "2022-03-05T19:29:59.893Z"
   },
   {
    "duration": 604,
    "start_time": "2022-03-05T19:30:06.051Z"
   },
   {
    "duration": 594,
    "start_time": "2022-03-05T19:30:25.762Z"
   },
   {
    "duration": 479,
    "start_time": "2022-03-05T19:30:30.472Z"
   },
   {
    "duration": 500,
    "start_time": "2022-03-05T19:33:40.036Z"
   },
   {
    "duration": 493,
    "start_time": "2022-03-05T19:33:46.542Z"
   },
   {
    "duration": 20,
    "start_time": "2022-03-05T19:34:11.098Z"
   },
   {
    "duration": 493,
    "start_time": "2022-03-05T19:34:16.027Z"
   },
   {
    "duration": 496,
    "start_time": "2022-03-05T19:45:42.074Z"
   },
   {
    "duration": 846,
    "start_time": "2022-03-05T19:45:57.453Z"
   },
   {
    "duration": 3816,
    "start_time": "2022-03-05T19:56:28.858Z"
   },
   {
    "duration": 10,
    "start_time": "2022-03-05T19:56:32.677Z"
   },
   {
    "duration": 39,
    "start_time": "2022-03-05T19:56:32.691Z"
   },
   {
    "duration": 22,
    "start_time": "2022-03-05T19:56:32.733Z"
   },
   {
    "duration": 7,
    "start_time": "2022-03-05T19:56:32.758Z"
   },
   {
    "duration": 90,
    "start_time": "2022-03-05T19:56:32.768Z"
   },
   {
    "duration": 13,
    "start_time": "2022-03-05T19:56:32.860Z"
   },
   {
    "duration": 9,
    "start_time": "2022-03-05T19:56:32.876Z"
   },
   {
    "duration": 51,
    "start_time": "2022-03-05T19:56:32.889Z"
   },
   {
    "duration": 9,
    "start_time": "2022-03-05T19:56:32.945Z"
   },
   {
    "duration": 21,
    "start_time": "2022-03-05T19:56:32.957Z"
   },
   {
    "duration": 53,
    "start_time": "2022-03-05T19:56:32.981Z"
   },
   {
    "duration": 7,
    "start_time": "2022-03-05T19:56:33.037Z"
   },
   {
    "duration": 9,
    "start_time": "2022-03-05T19:56:33.047Z"
   },
   {
    "duration": 6,
    "start_time": "2022-03-05T19:56:33.059Z"
   },
   {
    "duration": 97,
    "start_time": "2022-03-05T19:56:33.068Z"
   },
   {
    "duration": 64,
    "start_time": "2022-03-05T19:56:33.168Z"
   },
   {
    "duration": 3,
    "start_time": "2022-03-05T19:56:33.235Z"
   },
   {
    "duration": 13,
    "start_time": "2022-03-05T19:56:33.241Z"
   },
   {
    "duration": 14,
    "start_time": "2022-03-05T19:56:33.257Z"
   },
   {
    "duration": 10,
    "start_time": "2022-03-05T19:56:33.274Z"
   },
   {
    "duration": 49,
    "start_time": "2022-03-05T19:56:33.286Z"
   },
   {
    "duration": 6,
    "start_time": "2022-03-05T19:56:33.338Z"
   },
   {
    "duration": 35,
    "start_time": "2022-03-05T19:56:33.346Z"
   },
   {
    "duration": 5,
    "start_time": "2022-03-05T19:56:33.384Z"
   },
   {
    "duration": 48,
    "start_time": "2022-03-05T19:56:33.391Z"
   },
   {
    "duration": 11,
    "start_time": "2022-03-05T19:56:33.446Z"
   },
   {
    "duration": 5,
    "start_time": "2022-03-05T19:56:33.461Z"
   },
   {
    "duration": 12,
    "start_time": "2022-03-05T19:56:33.469Z"
   },
   {
    "duration": 18,
    "start_time": "2022-03-05T19:56:33.484Z"
   },
   {
    "duration": 32,
    "start_time": "2022-03-05T19:56:33.504Z"
   },
   {
    "duration": 20,
    "start_time": "2022-03-05T19:56:33.539Z"
   },
   {
    "duration": 87,
    "start_time": "2022-03-05T19:56:33.561Z"
   },
   {
    "duration": 785,
    "start_time": "2022-03-05T19:56:33.650Z"
   },
   {
    "duration": 500,
    "start_time": "2022-03-05T19:56:34.437Z"
   },
   {
    "duration": 40,
    "start_time": "2022-03-05T19:56:34.939Z"
   },
   {
    "duration": 79,
    "start_time": "2022-03-05T19:56:34.981Z"
   },
   {
    "duration": 740,
    "start_time": "2022-03-05T19:56:35.062Z"
   },
   {
    "duration": 6,
    "start_time": "2022-03-05T19:56:35.805Z"
   },
   {
    "duration": 5,
    "start_time": "2022-03-05T19:56:35.833Z"
   },
   {
    "duration": 797,
    "start_time": "2022-03-05T19:56:35.840Z"
   },
   {
    "duration": 6,
    "start_time": "2022-03-05T19:56:36.640Z"
   },
   {
    "duration": 6,
    "start_time": "2022-03-05T19:56:36.648Z"
   },
   {
    "duration": 8,
    "start_time": "2022-03-05T19:56:36.657Z"
   },
   {
    "duration": 229337,
    "start_time": "2022-03-05T19:56:36.667Z"
   },
   {
    "duration": 41,
    "start_time": "2022-03-05T20:00:26.007Z"
   },
   {
    "duration": 276,
    "start_time": "2022-03-05T20:00:26.051Z"
   },
   {
    "duration": 454,
    "start_time": "2022-03-05T20:00:26.332Z"
   },
   {
    "duration": 3481,
    "start_time": "2022-03-05T20:00:26.789Z"
   },
   {
    "duration": 214,
    "start_time": "2022-03-05T20:00:30.273Z"
   },
   {
    "duration": 277,
    "start_time": "2022-03-05T20:00:30.490Z"
   },
   {
    "duration": 409,
    "start_time": "2022-03-05T20:00:30.769Z"
   },
   {
    "duration": 466,
    "start_time": "2022-03-05T20:00:31.181Z"
   },
   {
    "duration": 359,
    "start_time": "2022-03-05T20:00:31.734Z"
   },
   {
    "duration": 474,
    "start_time": "2022-03-05T20:00:32.096Z"
   },
   {
    "duration": 7,
    "start_time": "2022-03-05T20:00:32.573Z"
   },
   {
    "duration": 96,
    "start_time": "2022-03-05T20:00:32.583Z"
   },
   {
    "duration": 76,
    "start_time": "2022-03-05T20:00:32.682Z"
   },
   {
    "duration": 385,
    "start_time": "2022-03-05T20:00:32.761Z"
   },
   {
    "duration": 1011,
    "start_time": "2022-03-05T20:00:33.149Z"
   },
   {
    "duration": 527,
    "start_time": "2022-03-05T20:00:34.163Z"
   },
   {
    "duration": 6,
    "start_time": "2022-03-05T20:00:34.692Z"
   },
   {
    "duration": 6,
    "start_time": "2022-03-05T20:00:34.701Z"
   },
   {
    "duration": 36,
    "start_time": "2022-03-05T20:00:34.709Z"
   },
   {
    "duration": 10,
    "start_time": "2022-03-05T20:00:34.748Z"
   },
   {
    "duration": 7,
    "start_time": "2022-03-05T20:00:34.761Z"
   },
   {
    "duration": 112,
    "start_time": "2022-03-05T20:00:34.771Z"
   },
   {
    "duration": 17,
    "start_time": "2022-03-05T20:00:34.885Z"
   },
   {
    "duration": 24568,
    "start_time": "2022-03-05T20:00:34.904Z"
   },
   {
    "duration": 57,
    "start_time": "2022-03-05T20:00:59.474Z"
   },
   {
    "duration": 1248,
    "start_time": "2022-03-05T20:00:59.534Z"
   },
   {
    "duration": 413,
    "start_time": "2022-03-05T20:01:00.784Z"
   },
   {
    "duration": 3,
    "start_time": "2022-03-05T20:01:01.200Z"
   },
   {
    "duration": 3,
    "start_time": "2022-03-05T20:01:01.205Z"
   },
   {
    "duration": 24,
    "start_time": "2022-03-05T20:01:01.211Z"
   },
   {
    "duration": 35,
    "start_time": "2022-03-05T20:01:01.237Z"
   },
   {
    "duration": 6,
    "start_time": "2022-03-05T20:01:01.274Z"
   },
   {
    "duration": 141,
    "start_time": "2022-03-05T20:01:01.282Z"
   },
   {
    "duration": -61,
    "start_time": "2022-03-05T20:01:01.487Z"
   },
   {
    "duration": -64,
    "start_time": "2022-03-05T20:01:01.491Z"
   },
   {
    "duration": -66,
    "start_time": "2022-03-05T20:01:01.494Z"
   },
   {
    "duration": -68,
    "start_time": "2022-03-05T20:01:01.497Z"
   },
   {
    "duration": -69,
    "start_time": "2022-03-05T20:01:01.499Z"
   },
   {
    "duration": -71,
    "start_time": "2022-03-05T20:01:01.502Z"
   },
   {
    "duration": 731,
    "start_time": "2022-03-05T20:03:45.678Z"
   },
   {
    "duration": 28,
    "start_time": "2022-03-05T20:04:18.995Z"
   },
   {
    "duration": 11,
    "start_time": "2022-03-05T20:05:06.914Z"
   },
   {
    "duration": 351,
    "start_time": "2022-03-05T20:05:08.147Z"
   },
   {
    "duration": 6,
    "start_time": "2022-03-05T20:05:22.606Z"
   },
   {
    "duration": 27,
    "start_time": "2022-03-05T20:05:23.156Z"
   },
   {
    "duration": 6,
    "start_time": "2022-03-05T20:05:47.491Z"
   },
   {
    "duration": 230,
    "start_time": "2022-03-05T20:05:55.937Z"
   },
   {
    "duration": 390,
    "start_time": "2022-03-05T20:05:58.512Z"
   },
   {
    "duration": 6,
    "start_time": "2022-03-05T20:21:37.920Z"
   },
   {
    "duration": 27,
    "start_time": "2022-03-05T20:21:50.739Z"
   },
   {
    "duration": 8,
    "start_time": "2022-03-05T20:22:42.157Z"
   },
   {
    "duration": 392,
    "start_time": "2022-03-05T20:22:42.517Z"
   },
   {
    "duration": 206,
    "start_time": "2022-03-05T20:23:11.752Z"
   },
   {
    "duration": 373,
    "start_time": "2022-03-05T20:23:18.236Z"
   },
   {
    "duration": 3806,
    "start_time": "2022-03-05T20:26:27.634Z"
   },
   {
    "duration": 16,
    "start_time": "2022-03-05T20:26:31.445Z"
   },
   {
    "duration": 42,
    "start_time": "2022-03-05T20:26:31.467Z"
   },
   {
    "duration": 23,
    "start_time": "2022-03-05T20:26:31.512Z"
   },
   {
    "duration": 5,
    "start_time": "2022-03-05T20:26:31.537Z"
   },
   {
    "duration": 91,
    "start_time": "2022-03-05T20:26:31.545Z"
   },
   {
    "duration": 18,
    "start_time": "2022-03-05T20:26:31.640Z"
   },
   {
    "duration": 10,
    "start_time": "2022-03-05T20:26:31.664Z"
   },
   {
    "duration": 59,
    "start_time": "2022-03-05T20:26:31.679Z"
   },
   {
    "duration": 12,
    "start_time": "2022-03-05T20:26:31.741Z"
   },
   {
    "duration": 28,
    "start_time": "2022-03-05T20:26:31.756Z"
   },
   {
    "duration": 52,
    "start_time": "2022-03-05T20:26:31.787Z"
   },
   {
    "duration": 7,
    "start_time": "2022-03-05T20:26:31.841Z"
   },
   {
    "duration": 8,
    "start_time": "2022-03-05T20:26:31.851Z"
   },
   {
    "duration": 7,
    "start_time": "2022-03-05T20:26:31.861Z"
   },
   {
    "duration": 101,
    "start_time": "2022-03-05T20:26:31.871Z"
   },
   {
    "duration": 110,
    "start_time": "2022-03-05T20:26:31.975Z"
   },
   {
    "duration": 3,
    "start_time": "2022-03-05T20:26:32.088Z"
   },
   {
    "duration": 8,
    "start_time": "2022-03-05T20:26:32.093Z"
   },
   {
    "duration": 30,
    "start_time": "2022-03-05T20:26:32.104Z"
   },
   {
    "duration": 15,
    "start_time": "2022-03-05T20:26:32.137Z"
   },
   {
    "duration": 15,
    "start_time": "2022-03-05T20:26:32.155Z"
   },
   {
    "duration": 5,
    "start_time": "2022-03-05T20:26:32.176Z"
   },
   {
    "duration": 77,
    "start_time": "2022-03-05T20:26:32.185Z"
   },
   {
    "duration": 6,
    "start_time": "2022-03-05T20:26:32.264Z"
   },
   {
    "duration": 17,
    "start_time": "2022-03-05T20:26:32.272Z"
   },
   {
    "duration": 47,
    "start_time": "2022-03-05T20:26:32.291Z"
   },
   {
    "duration": 5,
    "start_time": "2022-03-05T20:26:32.341Z"
   },
   {
    "duration": 9,
    "start_time": "2022-03-05T20:26:32.348Z"
   },
   {
    "duration": 16,
    "start_time": "2022-03-05T20:26:32.359Z"
   },
   {
    "duration": 7,
    "start_time": "2022-03-05T20:26:32.377Z"
   },
   {
    "duration": 53,
    "start_time": "2022-03-05T20:26:32.386Z"
   },
   {
    "duration": 56,
    "start_time": "2022-03-05T20:26:32.442Z"
   },
   {
    "duration": 872,
    "start_time": "2022-03-05T20:26:32.500Z"
   },
   {
    "duration": 405,
    "start_time": "2022-03-05T20:26:33.374Z"
   },
   {
    "duration": 53,
    "start_time": "2022-03-05T20:26:33.781Z"
   },
   {
    "duration": 59,
    "start_time": "2022-03-05T20:26:33.837Z"
   },
   {
    "duration": 1015,
    "start_time": "2022-03-05T20:26:33.898Z"
   },
   {
    "duration": 6,
    "start_time": "2022-03-05T20:26:34.915Z"
   },
   {
    "duration": 4,
    "start_time": "2022-03-05T20:26:34.933Z"
   },
   {
    "duration": 818,
    "start_time": "2022-03-05T20:26:34.939Z"
   },
   {
    "duration": 6,
    "start_time": "2022-03-05T20:26:35.760Z"
   },
   {
    "duration": 7,
    "start_time": "2022-03-05T20:26:35.768Z"
   },
   {
    "duration": 6,
    "start_time": "2022-03-05T20:26:35.778Z"
   },
   {
    "duration": 188567,
    "start_time": "2022-03-05T20:26:35.786Z"
   },
   {
    "duration": 30,
    "start_time": "2022-03-05T20:29:44.356Z"
   },
   {
    "duration": 315,
    "start_time": "2022-03-05T20:29:44.388Z"
   },
   {
    "duration": 498,
    "start_time": "2022-03-05T20:29:44.706Z"
   },
   {
    "duration": 3854,
    "start_time": "2022-03-05T20:29:45.208Z"
   },
   {
    "duration": 204,
    "start_time": "2022-03-05T20:29:49.066Z"
   },
   {
    "duration": 400,
    "start_time": "2022-03-05T20:29:49.273Z"
   },
   {
    "duration": 453,
    "start_time": "2022-03-05T20:29:49.675Z"
   },
   {
    "duration": 519,
    "start_time": "2022-03-05T20:29:50.134Z"
   },
   {
    "duration": 459,
    "start_time": "2022-03-05T20:29:50.658Z"
   },
   {
    "duration": 399,
    "start_time": "2022-03-05T20:29:51.120Z"
   },
   {
    "duration": 34,
    "start_time": "2022-03-05T20:29:51.521Z"
   },
   {
    "duration": 63,
    "start_time": "2022-03-05T20:29:51.558Z"
   },
   {
    "duration": 59,
    "start_time": "2022-03-05T20:29:51.623Z"
   },
   {
    "duration": 396,
    "start_time": "2022-03-05T20:29:51.686Z"
   },
   {
    "duration": 972,
    "start_time": "2022-03-05T20:29:52.085Z"
   },
   {
    "duration": 368,
    "start_time": "2022-03-05T20:29:53.061Z"
   },
   {
    "duration": 6,
    "start_time": "2022-03-05T20:29:53.433Z"
   },
   {
    "duration": 7,
    "start_time": "2022-03-05T20:29:53.443Z"
   },
   {
    "duration": 18,
    "start_time": "2022-03-05T20:29:53.453Z"
   },
   {
    "duration": 9,
    "start_time": "2022-03-05T20:29:53.474Z"
   },
   {
    "duration": 49,
    "start_time": "2022-03-05T20:29:53.486Z"
   },
   {
    "duration": 179,
    "start_time": "2022-03-05T20:29:53.537Z"
   },
   {
    "duration": 18,
    "start_time": "2022-03-05T20:29:53.735Z"
   },
   {
    "duration": 23859,
    "start_time": "2022-03-05T20:29:53.756Z"
   },
   {
    "duration": 15,
    "start_time": "2022-03-05T20:30:17.618Z"
   },
   {
    "duration": 991,
    "start_time": "2022-03-05T20:30:17.636Z"
   },
   {
    "duration": 370,
    "start_time": "2022-03-05T20:30:18.632Z"
   },
   {
    "duration": 4,
    "start_time": "2022-03-05T20:30:19.005Z"
   },
   {
    "duration": 6,
    "start_time": "2022-03-05T20:30:19.011Z"
   },
   {
    "duration": 6,
    "start_time": "2022-03-05T20:30:19.033Z"
   },
   {
    "duration": 29,
    "start_time": "2022-03-05T20:30:19.041Z"
   },
   {
    "duration": 5,
    "start_time": "2022-03-05T20:30:19.073Z"
   },
   {
    "duration": 57,
    "start_time": "2022-03-05T20:30:19.081Z"
   },
   {
    "duration": 8,
    "start_time": "2022-03-05T20:30:19.140Z"
   },
   {
    "duration": 375,
    "start_time": "2022-03-05T20:30:19.151Z"
   },
   {
    "duration": 6,
    "start_time": "2022-03-05T20:30:19.532Z"
   },
   {
    "duration": 230,
    "start_time": "2022-03-05T20:30:19.540Z"
   },
   {
    "duration": 428,
    "start_time": "2022-03-05T20:30:19.773Z"
   },
   {
    "duration": 499,
    "start_time": "2022-03-05T20:30:20.204Z"
   },
   {
    "duration": 4164,
    "start_time": "2022-03-05T20:36:35.192Z"
   },
   {
    "duration": 11,
    "start_time": "2022-03-05T20:36:39.360Z"
   },
   {
    "duration": 48,
    "start_time": "2022-03-05T20:36:39.374Z"
   },
   {
    "duration": 21,
    "start_time": "2022-03-05T20:36:39.425Z"
   },
   {
    "duration": 6,
    "start_time": "2022-03-05T20:36:39.449Z"
   },
   {
    "duration": 83,
    "start_time": "2022-03-05T20:36:39.457Z"
   },
   {
    "duration": 13,
    "start_time": "2022-03-05T20:36:39.542Z"
   },
   {
    "duration": 8,
    "start_time": "2022-03-05T20:36:39.559Z"
   },
   {
    "duration": 22,
    "start_time": "2022-03-05T20:36:39.570Z"
   },
   {
    "duration": 48,
    "start_time": "2022-03-05T20:36:39.595Z"
   },
   {
    "duration": 20,
    "start_time": "2022-03-05T20:36:39.646Z"
   },
   {
    "duration": 17,
    "start_time": "2022-03-05T20:36:39.668Z"
   },
   {
    "duration": 6,
    "start_time": "2022-03-05T20:36:39.687Z"
   },
   {
    "duration": 5,
    "start_time": "2022-03-05T20:36:39.734Z"
   },
   {
    "duration": 12,
    "start_time": "2022-03-05T20:36:39.742Z"
   },
   {
    "duration": 86,
    "start_time": "2022-03-05T20:36:39.757Z"
   },
   {
    "duration": 104,
    "start_time": "2022-03-05T20:36:39.845Z"
   },
   {
    "duration": 3,
    "start_time": "2022-03-05T20:36:39.952Z"
   },
   {
    "duration": 9,
    "start_time": "2022-03-05T20:36:39.958Z"
   },
   {
    "duration": 16,
    "start_time": "2022-03-05T20:36:39.969Z"
   },
   {
    "duration": 11,
    "start_time": "2022-03-05T20:36:39.988Z"
   },
   {
    "duration": 47,
    "start_time": "2022-03-05T20:36:40.001Z"
   },
   {
    "duration": 8,
    "start_time": "2022-03-05T20:36:40.056Z"
   },
   {
    "duration": 44,
    "start_time": "2022-03-05T20:36:40.067Z"
   },
   {
    "duration": 8,
    "start_time": "2022-03-05T20:36:40.136Z"
   },
   {
    "duration": 16,
    "start_time": "2022-03-05T20:36:40.147Z"
   },
   {
    "duration": 12,
    "start_time": "2022-03-05T20:36:40.166Z"
   },
   {
    "duration": 6,
    "start_time": "2022-03-05T20:36:40.180Z"
   },
   {
    "duration": 6,
    "start_time": "2022-03-05T20:36:40.188Z"
   },
   {
    "duration": 14,
    "start_time": "2022-03-05T20:36:40.234Z"
   },
   {
    "duration": 13,
    "start_time": "2022-03-05T20:36:40.250Z"
   },
   {
    "duration": 21,
    "start_time": "2022-03-05T20:36:40.265Z"
   },
   {
    "duration": 98,
    "start_time": "2022-03-05T20:36:40.288Z"
   },
   {
    "duration": 1089,
    "start_time": "2022-03-05T20:36:40.388Z"
   },
   {
    "duration": 545,
    "start_time": "2022-03-05T20:36:41.480Z"
   },
   {
    "duration": 51,
    "start_time": "2022-03-05T20:36:42.028Z"
   },
   {
    "duration": 101,
    "start_time": "2022-03-05T20:36:42.082Z"
   },
   {
    "duration": 1010,
    "start_time": "2022-03-05T20:36:42.186Z"
   },
   {
    "duration": 6,
    "start_time": "2022-03-05T20:36:43.199Z"
   },
   {
    "duration": 24,
    "start_time": "2022-03-05T20:36:43.208Z"
   },
   {
    "duration": 1200,
    "start_time": "2022-03-05T20:36:43.235Z"
   },
   {
    "duration": 7,
    "start_time": "2022-03-05T20:36:44.438Z"
   },
   {
    "duration": 8,
    "start_time": "2022-03-05T20:36:44.448Z"
   },
   {
    "duration": 8,
    "start_time": "2022-03-05T20:36:44.459Z"
   },
   {
    "duration": 238517,
    "start_time": "2022-03-05T20:36:44.469Z"
   },
   {
    "duration": 44,
    "start_time": "2022-03-05T20:40:42.989Z"
   },
   {
    "duration": 271,
    "start_time": "2022-03-05T20:40:43.035Z"
   },
   {
    "duration": 453,
    "start_time": "2022-03-05T20:40:43.309Z"
   },
   {
    "duration": 3482,
    "start_time": "2022-03-05T20:40:43.765Z"
   },
   {
    "duration": 168,
    "start_time": "2022-03-05T20:40:47.249Z"
   },
   {
    "duration": 277,
    "start_time": "2022-03-05T20:40:47.419Z"
   },
   {
    "duration": 374,
    "start_time": "2022-03-05T20:40:47.698Z"
   },
   {
    "duration": 765,
    "start_time": "2022-03-05T20:40:48.074Z"
   },
   {
    "duration": 339,
    "start_time": "2022-03-05T20:40:48.842Z"
   },
   {
    "duration": 390,
    "start_time": "2022-03-05T20:40:49.184Z"
   },
   {
    "duration": 6,
    "start_time": "2022-03-05T20:40:49.577Z"
   },
   {
    "duration": 83,
    "start_time": "2022-03-05T20:40:49.585Z"
   },
   {
    "duration": 69,
    "start_time": "2022-03-05T20:40:49.671Z"
   },
   {
    "duration": 330,
    "start_time": "2022-03-05T20:40:49.742Z"
   },
   {
    "duration": 981,
    "start_time": "2022-03-05T20:40:50.075Z"
   },
   {
    "duration": 345,
    "start_time": "2022-03-05T20:40:51.059Z"
   },
   {
    "duration": 5,
    "start_time": "2022-03-05T20:40:51.407Z"
   },
   {
    "duration": 17,
    "start_time": "2022-03-05T20:40:51.415Z"
   },
   {
    "duration": 35,
    "start_time": "2022-03-05T20:40:51.435Z"
   },
   {
    "duration": 17,
    "start_time": "2022-03-05T20:40:51.473Z"
   },
   {
    "duration": 13,
    "start_time": "2022-03-05T20:40:51.493Z"
   },
   {
    "duration": 73,
    "start_time": "2022-03-05T20:40:51.508Z"
   },
   {
    "duration": 16,
    "start_time": "2022-03-05T20:40:51.589Z"
   },
   {
    "duration": 24648,
    "start_time": "2022-03-05T20:40:51.608Z"
   },
   {
    "duration": 6,
    "start_time": "2022-03-05T20:41:16.259Z"
   },
   {
    "duration": 1005,
    "start_time": "2022-03-05T20:41:16.268Z"
   },
   {
    "duration": 419,
    "start_time": "2022-03-05T20:41:17.276Z"
   },
   {
    "duration": 3,
    "start_time": "2022-03-05T20:41:17.697Z"
   },
   {
    "duration": 7,
    "start_time": "2022-03-05T20:41:17.702Z"
   },
   {
    "duration": 22,
    "start_time": "2022-03-05T20:41:17.711Z"
   },
   {
    "duration": 27,
    "start_time": "2022-03-05T20:41:17.736Z"
   },
   {
    "duration": 5,
    "start_time": "2022-03-05T20:41:17.766Z"
   },
   {
    "duration": 62,
    "start_time": "2022-03-05T20:41:17.774Z"
   },
   {
    "duration": 8,
    "start_time": "2022-03-05T20:41:17.838Z"
   },
   {
    "duration": 350,
    "start_time": "2022-03-05T20:41:17.848Z"
   },
   {
    "duration": 6,
    "start_time": "2022-03-05T20:41:18.201Z"
   },
   {
    "duration": 224,
    "start_time": "2022-03-05T20:41:18.210Z"
   },
   {
    "duration": 452,
    "start_time": "2022-03-05T20:41:18.436Z"
   },
   {
    "duration": 495,
    "start_time": "2022-03-05T20:41:18.890Z"
   }
  ],
  "kernelspec": {
   "display_name": "Python 3 (ipykernel)",
   "language": "python",
   "name": "python3"
  },
  "language_info": {
   "codemirror_mode": {
    "name": "ipython",
    "version": 3
   },
   "file_extension": ".py",
   "mimetype": "text/x-python",
   "name": "python",
   "nbconvert_exporter": "python",
   "pygments_lexer": "ipython3",
   "version": "3.9.7"
  },
  "toc": {
   "base_numbering": 1,
   "nav_menu": {},
   "number_sections": true,
   "sideBar": true,
   "skip_h1_title": true,
   "title_cell": "Содержание",
   "title_sidebar": "Contents",
   "toc_cell": true,
   "toc_position": {},
   "toc_section_display": true,
   "toc_window_display": true
  }
 },
 "nbformat": 4,
 "nbformat_minor": 2
}
