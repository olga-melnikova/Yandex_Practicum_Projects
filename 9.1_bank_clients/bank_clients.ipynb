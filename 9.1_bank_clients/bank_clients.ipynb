{
 "cells": [
  {
   "cell_type": "markdown",
   "metadata": {
    "toc": true
   },
   "source": [
    "<h1>Содержание<span class=\"tocSkip\"></span></h1>\n",
    "<div class=\"toc\"><ul class=\"toc-item\"><li><span><a href=\"#Обзор-данных\" data-toc-modified-id=\"Обзор-данных-1\"><span class=\"toc-item-num\">1&nbsp;&nbsp;</span>Обзор данных</a></span><ul class=\"toc-item\"><li><span><a href=\"#Подключение-библиотек,-чтение-и-изучение-файла\" data-toc-modified-id=\"Подключение-библиотек,-чтение-и-изучение-файла-1.1\"><span class=\"toc-item-num\">1.1&nbsp;&nbsp;</span>Подключение библиотек, чтение и изучение файла</a></span></li></ul></li><li><span><a href=\"#Предобработка-данных\" data-toc-modified-id=\"Предобработка-данных-2\"><span class=\"toc-item-num\">2&nbsp;&nbsp;</span>Предобработка данных</a></span><ul class=\"toc-item\"><li><span><a href=\"#Поиск-и-определение-пропусков-в-данных\" data-toc-modified-id=\"Поиск-и-определение-пропусков-в-данных-2.1\"><span class=\"toc-item-num\">2.1&nbsp;&nbsp;</span>Поиск и определение пропусков в данных</a></span></li><li><span><a href=\"#Обработка-артефактов-в-датасете\" data-toc-modified-id=\"Обработка-артефактов-в-датасете-2.2\"><span class=\"toc-item-num\">2.2&nbsp;&nbsp;</span>Обработка артефактов в датасете</a></span><ul class=\"toc-item\"><li><span><a href=\"#Устранение-дубликатов-записанных-в-разных-регистрах\" data-toc-modified-id=\"Устранение-дубликатов-записанных-в-разных-регистрах-2.2.1\"><span class=\"toc-item-num\">2.2.1&nbsp;&nbsp;</span>Устранение дубликатов записанных в разных регистрах</a></span></li><li><span><a href=\"#Исправление-некорректных-значений-в-столбце-трудового-стажа-'days_employed'\" data-toc-modified-id=\"Исправление-некорректных-значений-в-столбце-трудового-стажа-'days_employed'-2.2.2\"><span class=\"toc-item-num\">2.2.2&nbsp;&nbsp;</span>Исправление некорректных значений в столбце трудового стажа 'days_employed'</a></span></li><li><span><a href=\"#Обзор-и-поиск-возможных-ошибок-в-столбце-'children'\" data-toc-modified-id=\"Обзор-и-поиск-возможных-ошибок-в-столбце-'children'-2.2.3\"><span class=\"toc-item-num\">2.2.3&nbsp;&nbsp;</span>Обзор и поиск возможных ошибок в столбце 'children'</a></span></li><li><span><a href=\"#Отсуствующий-возраст-клиента-в-столбце-'dob_years\" data-toc-modified-id=\"Отсуствующий-возраст-клиента-в-столбце-'dob_years-2.2.4\"><span class=\"toc-item-num\">2.2.4&nbsp;&nbsp;</span>Отсуствующий возраст клиента в столбце 'dob_years</a></span></li><li><span><a href=\"#Проверка-на-артефакты-других-столбцов-данных\" data-toc-modified-id=\"Проверка-на-артефакты-других-столбцов-данных-2.2.5\"><span class=\"toc-item-num\">2.2.5&nbsp;&nbsp;</span>Проверка на артефакты других столбцов данных</a></span></li></ul></li><li><span><a href=\"#Заполнение-пропусков-медианными-значениями-по-категории\" data-toc-modified-id=\"Заполнение-пропусков-медианными-значениями-по-категории-2.3\"><span class=\"toc-item-num\">2.3&nbsp;&nbsp;</span>Заполнение пропусков медианными значениями по категории</a></span></li><li><span><a href=\"#Замена-типа-данных\" data-toc-modified-id=\"Замена-типа-данных-2.4\"><span class=\"toc-item-num\">2.4&nbsp;&nbsp;</span>Замена типа данных</a></span></li><li><span><a href=\"#Обработка-дубликатов\" data-toc-modified-id=\"Обработка-дубликатов-2.5\"><span class=\"toc-item-num\">2.5&nbsp;&nbsp;</span>Обработка дубликатов</a></span></li><li><span><a href=\"#Лемматизация\" data-toc-modified-id=\"Лемматизация-2.6\"><span class=\"toc-item-num\">2.6&nbsp;&nbsp;</span>Лемматизация</a></span></li><li><span><a href=\"#Категоризация-данных\" data-toc-modified-id=\"Категоризация-данных-2.7\"><span class=\"toc-item-num\">2.7&nbsp;&nbsp;</span>Категоризация данных</a></span></li></ul></li><li><span><a href=\"#Результаты-исследования\" data-toc-modified-id=\"Результаты-исследования-3\"><span class=\"toc-item-num\">3&nbsp;&nbsp;</span>Результаты исследования</a></span><ul class=\"toc-item\"><li><span><a href=\"#Есть-ли-зависимость-между-наличием-детей-и-возвратом-кредита-в-срок?\" data-toc-modified-id=\"Есть-ли-зависимость-между-наличием-детей-и-возвратом-кредита-в-срок?-3.1\"><span class=\"toc-item-num\">3.1&nbsp;&nbsp;</span>Есть ли зависимость между наличием детей и возвратом кредита в срок?</a></span></li><li><span><a href=\"#Есть-ли-зависимость-между-семейным-положением-и-возвратом-кредита-в-срок?\" data-toc-modified-id=\"Есть-ли-зависимость-между-семейным-положением-и-возвратом-кредита-в-срок?-3.2\"><span class=\"toc-item-num\">3.2&nbsp;&nbsp;</span>Есть ли зависимость между семейным положением и возвратом кредита в срок?</a></span></li><li><span><a href=\"#Есть-ли-зависимость-между-уровнем-дохода-и-возвратом-кредита-в-срок?\" data-toc-modified-id=\"Есть-ли-зависимость-между-уровнем-дохода-и-возвратом-кредита-в-срок?-3.3\"><span class=\"toc-item-num\">3.3&nbsp;&nbsp;</span>Есть ли зависимость между уровнем дохода и возвратом кредита в срок?</a></span></li><li><span><a href=\"#Как-разные-цели-кредита-влияют-на-его-возврат-в-срок?\" data-toc-modified-id=\"Как-разные-цели-кредита-влияют-на-его-возврат-в-срок?-3.4\"><span class=\"toc-item-num\">3.4&nbsp;&nbsp;</span>Как разные цели кредита влияют на его возврат в срок?</a></span></li></ul></li><li><span><a href=\"#Общие-выводы\" data-toc-modified-id=\"Общие-выводы-4\"><span class=\"toc-item-num\">4&nbsp;&nbsp;</span>Общие выводы</a></span></li><li><span><a href=\"#Чек-лист-готовности-проекта\" data-toc-modified-id=\"Чек-лист-готовности-проекта-5\"><span class=\"toc-item-num\">5&nbsp;&nbsp;</span>Чек-лист готовности проекта</a></span></li></ul></div>"
   ]
  },
  {
   "cell_type": "markdown",
   "metadata": {},
   "source": [
    "# Исследование надёжности заёмщиков\n",
    "\n",
    "Заказчик — кредитный отдел банка. Нужно разобраться, влияет ли семейное положение и количество детей клиента на факт погашения кредита в срок. Входные данные от банка — статистика о платёжеспособности клиентов.\n",
    "\n",
    "Результаты исследования будут учтены при построении модели **кредитного скоринга** — специальной системы, которая оценивает способность потенциального заёмщика вернуть кредит банку."
   ]
  },
  {
   "cell_type": "markdown",
   "metadata": {},
   "source": [
    "## Обзор данных "
   ]
  },
  {
   "cell_type": "markdown",
   "metadata": {},
   "source": [
    "### Подключение библиотек, чтение и изучение файла"
   ]
  },
  {
   "cell_type": "code",
   "execution_count": 998,
   "metadata": {},
   "outputs": [],
   "source": [
    "import pandas as pd\n",
    "import numpy as np\n",
    "from pymystem3 import Mystem\n",
    "from  collections import Counter"
   ]
  },
  {
   "cell_type": "code",
   "execution_count": 999,
   "metadata": {},
   "outputs": [],
   "source": [
    "data_bank_clients = pd.read_csv('/datasets/data.csv')"
   ]
  },
  {
   "cell_type": "markdown",
   "metadata": {},
   "source": [
    "Ознакомимся с данными, выведем первые 10 строк датасета"
   ]
  },
  {
   "cell_type": "code",
   "execution_count": 1000,
   "metadata": {},
   "outputs": [
    {
     "data": {
      "text/html": [
       "<div>\n",
       "<style scoped>\n",
       "    .dataframe tbody tr th:only-of-type {\n",
       "        vertical-align: middle;\n",
       "    }\n",
       "\n",
       "    .dataframe tbody tr th {\n",
       "        vertical-align: top;\n",
       "    }\n",
       "\n",
       "    .dataframe thead th {\n",
       "        text-align: right;\n",
       "    }\n",
       "</style>\n",
       "<table border=\"1\" class=\"dataframe\">\n",
       "  <thead>\n",
       "    <tr style=\"text-align: right;\">\n",
       "      <th></th>\n",
       "      <th>children</th>\n",
       "      <th>days_employed</th>\n",
       "      <th>dob_years</th>\n",
       "      <th>education</th>\n",
       "      <th>education_id</th>\n",
       "      <th>family_status</th>\n",
       "      <th>family_status_id</th>\n",
       "      <th>gender</th>\n",
       "      <th>income_type</th>\n",
       "      <th>debt</th>\n",
       "      <th>total_income</th>\n",
       "      <th>purpose</th>\n",
       "    </tr>\n",
       "  </thead>\n",
       "  <tbody>\n",
       "    <tr>\n",
       "      <td>0</td>\n",
       "      <td>1</td>\n",
       "      <td>-8437.673028</td>\n",
       "      <td>42</td>\n",
       "      <td>высшее</td>\n",
       "      <td>0</td>\n",
       "      <td>женат / замужем</td>\n",
       "      <td>0</td>\n",
       "      <td>F</td>\n",
       "      <td>сотрудник</td>\n",
       "      <td>0</td>\n",
       "      <td>253875.639453</td>\n",
       "      <td>покупка жилья</td>\n",
       "    </tr>\n",
       "    <tr>\n",
       "      <td>1</td>\n",
       "      <td>1</td>\n",
       "      <td>-4024.803754</td>\n",
       "      <td>36</td>\n",
       "      <td>среднее</td>\n",
       "      <td>1</td>\n",
       "      <td>женат / замужем</td>\n",
       "      <td>0</td>\n",
       "      <td>F</td>\n",
       "      <td>сотрудник</td>\n",
       "      <td>0</td>\n",
       "      <td>112080.014102</td>\n",
       "      <td>приобретение автомобиля</td>\n",
       "    </tr>\n",
       "    <tr>\n",
       "      <td>2</td>\n",
       "      <td>0</td>\n",
       "      <td>-5623.422610</td>\n",
       "      <td>33</td>\n",
       "      <td>Среднее</td>\n",
       "      <td>1</td>\n",
       "      <td>женат / замужем</td>\n",
       "      <td>0</td>\n",
       "      <td>M</td>\n",
       "      <td>сотрудник</td>\n",
       "      <td>0</td>\n",
       "      <td>145885.952297</td>\n",
       "      <td>покупка жилья</td>\n",
       "    </tr>\n",
       "    <tr>\n",
       "      <td>3</td>\n",
       "      <td>3</td>\n",
       "      <td>-4124.747207</td>\n",
       "      <td>32</td>\n",
       "      <td>среднее</td>\n",
       "      <td>1</td>\n",
       "      <td>женат / замужем</td>\n",
       "      <td>0</td>\n",
       "      <td>M</td>\n",
       "      <td>сотрудник</td>\n",
       "      <td>0</td>\n",
       "      <td>267628.550329</td>\n",
       "      <td>дополнительное образование</td>\n",
       "    </tr>\n",
       "    <tr>\n",
       "      <td>4</td>\n",
       "      <td>0</td>\n",
       "      <td>340266.072047</td>\n",
       "      <td>53</td>\n",
       "      <td>среднее</td>\n",
       "      <td>1</td>\n",
       "      <td>гражданский брак</td>\n",
       "      <td>1</td>\n",
       "      <td>F</td>\n",
       "      <td>пенсионер</td>\n",
       "      <td>0</td>\n",
       "      <td>158616.077870</td>\n",
       "      <td>сыграть свадьбу</td>\n",
       "    </tr>\n",
       "    <tr>\n",
       "      <td>5</td>\n",
       "      <td>0</td>\n",
       "      <td>-926.185831</td>\n",
       "      <td>27</td>\n",
       "      <td>высшее</td>\n",
       "      <td>0</td>\n",
       "      <td>гражданский брак</td>\n",
       "      <td>1</td>\n",
       "      <td>M</td>\n",
       "      <td>компаньон</td>\n",
       "      <td>0</td>\n",
       "      <td>255763.565419</td>\n",
       "      <td>покупка жилья</td>\n",
       "    </tr>\n",
       "    <tr>\n",
       "      <td>6</td>\n",
       "      <td>0</td>\n",
       "      <td>-2879.202052</td>\n",
       "      <td>43</td>\n",
       "      <td>высшее</td>\n",
       "      <td>0</td>\n",
       "      <td>женат / замужем</td>\n",
       "      <td>0</td>\n",
       "      <td>F</td>\n",
       "      <td>компаньон</td>\n",
       "      <td>0</td>\n",
       "      <td>240525.971920</td>\n",
       "      <td>операции с жильем</td>\n",
       "    </tr>\n",
       "    <tr>\n",
       "      <td>7</td>\n",
       "      <td>0</td>\n",
       "      <td>-152.779569</td>\n",
       "      <td>50</td>\n",
       "      <td>СРЕДНЕЕ</td>\n",
       "      <td>1</td>\n",
       "      <td>женат / замужем</td>\n",
       "      <td>0</td>\n",
       "      <td>M</td>\n",
       "      <td>сотрудник</td>\n",
       "      <td>0</td>\n",
       "      <td>135823.934197</td>\n",
       "      <td>образование</td>\n",
       "    </tr>\n",
       "    <tr>\n",
       "      <td>8</td>\n",
       "      <td>2</td>\n",
       "      <td>-6929.865299</td>\n",
       "      <td>35</td>\n",
       "      <td>ВЫСШЕЕ</td>\n",
       "      <td>0</td>\n",
       "      <td>гражданский брак</td>\n",
       "      <td>1</td>\n",
       "      <td>F</td>\n",
       "      <td>сотрудник</td>\n",
       "      <td>0</td>\n",
       "      <td>95856.832424</td>\n",
       "      <td>на проведение свадьбы</td>\n",
       "    </tr>\n",
       "    <tr>\n",
       "      <td>9</td>\n",
       "      <td>0</td>\n",
       "      <td>-2188.756445</td>\n",
       "      <td>41</td>\n",
       "      <td>среднее</td>\n",
       "      <td>1</td>\n",
       "      <td>женат / замужем</td>\n",
       "      <td>0</td>\n",
       "      <td>M</td>\n",
       "      <td>сотрудник</td>\n",
       "      <td>0</td>\n",
       "      <td>144425.938277</td>\n",
       "      <td>покупка жилья для семьи</td>\n",
       "    </tr>\n",
       "  </tbody>\n",
       "</table>\n",
       "</div>"
      ],
      "text/plain": [
       "   children  days_employed  dob_years education  education_id  \\\n",
       "0         1   -8437.673028         42    высшее             0   \n",
       "1         1   -4024.803754         36   среднее             1   \n",
       "2         0   -5623.422610         33   Среднее             1   \n",
       "3         3   -4124.747207         32   среднее             1   \n",
       "4         0  340266.072047         53   среднее             1   \n",
       "5         0    -926.185831         27    высшее             0   \n",
       "6         0   -2879.202052         43    высшее             0   \n",
       "7         0    -152.779569         50   СРЕДНЕЕ             1   \n",
       "8         2   -6929.865299         35    ВЫСШЕЕ             0   \n",
       "9         0   -2188.756445         41   среднее             1   \n",
       "\n",
       "      family_status  family_status_id gender income_type  debt   total_income  \\\n",
       "0   женат / замужем                 0      F   сотрудник     0  253875.639453   \n",
       "1   женат / замужем                 0      F   сотрудник     0  112080.014102   \n",
       "2   женат / замужем                 0      M   сотрудник     0  145885.952297   \n",
       "3   женат / замужем                 0      M   сотрудник     0  267628.550329   \n",
       "4  гражданский брак                 1      F   пенсионер     0  158616.077870   \n",
       "5  гражданский брак                 1      M   компаньон     0  255763.565419   \n",
       "6   женат / замужем                 0      F   компаньон     0  240525.971920   \n",
       "7   женат / замужем                 0      M   сотрудник     0  135823.934197   \n",
       "8  гражданский брак                 1      F   сотрудник     0   95856.832424   \n",
       "9   женат / замужем                 0      M   сотрудник     0  144425.938277   \n",
       "\n",
       "                      purpose  \n",
       "0               покупка жилья  \n",
       "1     приобретение автомобиля  \n",
       "2               покупка жилья  \n",
       "3  дополнительное образование  \n",
       "4             сыграть свадьбу  \n",
       "5               покупка жилья  \n",
       "6           операции с жильем  \n",
       "7                 образование  \n",
       "8       на проведение свадьбы  \n",
       "9     покупка жилья для семьи  "
      ]
     },
     "execution_count": 1000,
     "metadata": {},
     "output_type": "execute_result"
    }
   ],
   "source": [
    "data_bank_clients.head(10) "
   ]
  },
  {
   "cell_type": "markdown",
   "metadata": {},
   "source": [
    "Оценим корректность наименований столбцов"
   ]
  },
  {
   "cell_type": "code",
   "execution_count": 1001,
   "metadata": {},
   "outputs": [
    {
     "data": {
      "text/plain": [
       "['children',\n",
       " 'days_employed',\n",
       " 'dob_years',\n",
       " 'education',\n",
       " 'education_id',\n",
       " 'family_status',\n",
       " 'family_status_id',\n",
       " 'gender',\n",
       " 'income_type',\n",
       " 'debt',\n",
       " 'total_income',\n",
       " 'purpose']"
      ]
     },
     "execution_count": 1001,
     "metadata": {},
     "output_type": "execute_result"
    }
   ],
   "source": [
    "data_bank_clients.columns.tolist()"
   ]
  },
  {
   "cell_type": "markdown",
   "metadata": {},
   "source": [
    "Выведем на экран общую информацию о датасете"
   ]
  },
  {
   "cell_type": "code",
   "execution_count": 1002,
   "metadata": {},
   "outputs": [
    {
     "name": "stdout",
     "output_type": "stream",
     "text": [
      "<class 'pandas.core.frame.DataFrame'>\n",
      "RangeIndex: 21525 entries, 0 to 21524\n",
      "Data columns (total 12 columns):\n",
      "children            21525 non-null int64\n",
      "days_employed       19351 non-null float64\n",
      "dob_years           21525 non-null int64\n",
      "education           21525 non-null object\n",
      "education_id        21525 non-null int64\n",
      "family_status       21525 non-null object\n",
      "family_status_id    21525 non-null int64\n",
      "gender              21525 non-null object\n",
      "income_type         21525 non-null object\n",
      "debt                21525 non-null int64\n",
      "total_income        19351 non-null float64\n",
      "purpose             21525 non-null object\n",
      "dtypes: float64(2), int64(5), object(5)\n",
      "memory usage: 2.0+ MB\n"
     ]
    }
   ],
   "source": [
    "data_bank_clients.info()"
   ]
  },
  {
   "cell_type": "markdown",
   "metadata": {},
   "source": [
    "Выведем на экран сводную статистику по датафрему"
   ]
  },
  {
   "cell_type": "code",
   "execution_count": 1003,
   "metadata": {},
   "outputs": [
    {
     "data": {
      "text/html": [
       "<div>\n",
       "<style scoped>\n",
       "    .dataframe tbody tr th:only-of-type {\n",
       "        vertical-align: middle;\n",
       "    }\n",
       "\n",
       "    .dataframe tbody tr th {\n",
       "        vertical-align: top;\n",
       "    }\n",
       "\n",
       "    .dataframe thead th {\n",
       "        text-align: right;\n",
       "    }\n",
       "</style>\n",
       "<table border=\"1\" class=\"dataframe\">\n",
       "  <thead>\n",
       "    <tr style=\"text-align: right;\">\n",
       "      <th></th>\n",
       "      <th>children</th>\n",
       "      <th>days_employed</th>\n",
       "      <th>dob_years</th>\n",
       "      <th>education_id</th>\n",
       "      <th>family_status_id</th>\n",
       "      <th>debt</th>\n",
       "      <th>total_income</th>\n",
       "    </tr>\n",
       "  </thead>\n",
       "  <tbody>\n",
       "    <tr>\n",
       "      <td>count</td>\n",
       "      <td>21525.000000</td>\n",
       "      <td>19351.000000</td>\n",
       "      <td>21525.000000</td>\n",
       "      <td>21525.000000</td>\n",
       "      <td>21525.000000</td>\n",
       "      <td>21525.000000</td>\n",
       "      <td>1.935100e+04</td>\n",
       "    </tr>\n",
       "    <tr>\n",
       "      <td>mean</td>\n",
       "      <td>0.538908</td>\n",
       "      <td>63046.497661</td>\n",
       "      <td>43.293380</td>\n",
       "      <td>0.817236</td>\n",
       "      <td>0.972544</td>\n",
       "      <td>0.080883</td>\n",
       "      <td>1.674223e+05</td>\n",
       "    </tr>\n",
       "    <tr>\n",
       "      <td>std</td>\n",
       "      <td>1.381587</td>\n",
       "      <td>140827.311974</td>\n",
       "      <td>12.574584</td>\n",
       "      <td>0.548138</td>\n",
       "      <td>1.420324</td>\n",
       "      <td>0.272661</td>\n",
       "      <td>1.029716e+05</td>\n",
       "    </tr>\n",
       "    <tr>\n",
       "      <td>min</td>\n",
       "      <td>-1.000000</td>\n",
       "      <td>-18388.949901</td>\n",
       "      <td>0.000000</td>\n",
       "      <td>0.000000</td>\n",
       "      <td>0.000000</td>\n",
       "      <td>0.000000</td>\n",
       "      <td>2.066726e+04</td>\n",
       "    </tr>\n",
       "    <tr>\n",
       "      <td>25%</td>\n",
       "      <td>0.000000</td>\n",
       "      <td>-2747.423625</td>\n",
       "      <td>33.000000</td>\n",
       "      <td>1.000000</td>\n",
       "      <td>0.000000</td>\n",
       "      <td>0.000000</td>\n",
       "      <td>1.030532e+05</td>\n",
       "    </tr>\n",
       "    <tr>\n",
       "      <td>50%</td>\n",
       "      <td>0.000000</td>\n",
       "      <td>-1203.369529</td>\n",
       "      <td>42.000000</td>\n",
       "      <td>1.000000</td>\n",
       "      <td>0.000000</td>\n",
       "      <td>0.000000</td>\n",
       "      <td>1.450179e+05</td>\n",
       "    </tr>\n",
       "    <tr>\n",
       "      <td>75%</td>\n",
       "      <td>1.000000</td>\n",
       "      <td>-291.095954</td>\n",
       "      <td>53.000000</td>\n",
       "      <td>1.000000</td>\n",
       "      <td>1.000000</td>\n",
       "      <td>0.000000</td>\n",
       "      <td>2.034351e+05</td>\n",
       "    </tr>\n",
       "    <tr>\n",
       "      <td>max</td>\n",
       "      <td>20.000000</td>\n",
       "      <td>401755.400475</td>\n",
       "      <td>75.000000</td>\n",
       "      <td>4.000000</td>\n",
       "      <td>4.000000</td>\n",
       "      <td>1.000000</td>\n",
       "      <td>2.265604e+06</td>\n",
       "    </tr>\n",
       "  </tbody>\n",
       "</table>\n",
       "</div>"
      ],
      "text/plain": [
       "           children  days_employed     dob_years  education_id  \\\n",
       "count  21525.000000   19351.000000  21525.000000  21525.000000   \n",
       "mean       0.538908   63046.497661     43.293380      0.817236   \n",
       "std        1.381587  140827.311974     12.574584      0.548138   \n",
       "min       -1.000000  -18388.949901      0.000000      0.000000   \n",
       "25%        0.000000   -2747.423625     33.000000      1.000000   \n",
       "50%        0.000000   -1203.369529     42.000000      1.000000   \n",
       "75%        1.000000    -291.095954     53.000000      1.000000   \n",
       "max       20.000000  401755.400475     75.000000      4.000000   \n",
       "\n",
       "       family_status_id          debt  total_income  \n",
       "count      21525.000000  21525.000000  1.935100e+04  \n",
       "mean           0.972544      0.080883  1.674223e+05  \n",
       "std            1.420324      0.272661  1.029716e+05  \n",
       "min            0.000000      0.000000  2.066726e+04  \n",
       "25%            0.000000      0.000000  1.030532e+05  \n",
       "50%            0.000000      0.000000  1.450179e+05  \n",
       "75%            1.000000      0.000000  2.034351e+05  \n",
       "max            4.000000      1.000000  2.265604e+06  "
      ]
     },
     "execution_count": 1003,
     "metadata": {},
     "output_type": "execute_result"
    }
   ],
   "source": [
    "data_bank_clients.describe()"
   ]
  },
  {
   "cell_type": "markdown",
   "metadata": {},
   "source": [
    "Согласно документации в датафрейме содержится следующая информация:\n",
    "\n",
    "* children — количество детей в семье\n",
    "* days_employed — общий трудовой стаж в днях\n",
    "* dob_years — возраст клиента в годах\n",
    "* education — уровень образования клиента\n",
    "* education_id — идентификатор уровня образования\n",
    "* family_status — семейное положение\n",
    "* family_status_id — идентификатор семейного положения\n",
    "* gender — пол клиента\n",
    "* income_type — тип занятости\n",
    "* debt — имел ли задолженность по возврату кредитов\n",
    "* total_income — ежемесячный доход\n",
    "* purpose — цель получения кредита"
   ]
  },
  {
   "cell_type": "markdown",
   "metadata": {},
   "source": [
    "**ВЫВОДЫ ПО ГЛАВЕ 1. Обзор данных**\n",
    "\n",
    "1. Исходный файл содержит 21525 строк и 12 столбцов.\n",
    "2. Тип данных по столбцам соответствует информации в них. Для удобства работы тип данных в столбцах days_employed и total_income нужно привести к целочисленному типу.\n",
    "3. Наименования колонок соответствуют \"хорошему\" стилю и их названия соответствуют документации. \n",
    "\n",
    "**Проблемные вопросы по исходному датасету:**\n",
    "\n",
    "* В колонке 'days_employed' имеются отрицательные значения и неудобные для анализа значения. Имеются значения не соответствующие возрасту клиента.\n",
    "* Пропущенные значения имеются в колонках 'days_employed' и 'total_income' (для каждой колонки заполнено 19351 строк из 21525).\n",
    "* В колонке 'education' данные представлены в разном регистре.\n",
    "* В колонке 'children' присутствуют отрицательные значения, а максимальное количество детей у клиента - 20.\n",
    "* В колонке dob_years (возраст клиента) встречается возраст '0'. Возраст клиента не соответствует значению стажа."
   ]
  },
  {
   "cell_type": "markdown",
   "metadata": {},
   "source": [
    "## Предобработка данных"
   ]
  },
  {
   "cell_type": "markdown",
   "metadata": {},
   "source": [
    "### Поиск и определение пропусков в данных"
   ]
  },
  {
   "cell_type": "markdown",
   "metadata": {},
   "source": [
    "Проверим общее количество пропусков в каждой колонке."
   ]
  },
  {
   "cell_type": "code",
   "execution_count": 1004,
   "metadata": {},
   "outputs": [
    {
     "data": {
      "text/plain": [
       "children               0\n",
       "days_employed       2174\n",
       "dob_years              0\n",
       "education              0\n",
       "education_id           0\n",
       "family_status          0\n",
       "family_status_id       0\n",
       "gender                 0\n",
       "income_type            0\n",
       "debt                   0\n",
       "total_income        2174\n",
       "purpose                0\n",
       "dtype: int64"
      ]
     },
     "execution_count": 1004,
     "metadata": {},
     "output_type": "execute_result"
    }
   ],
   "source": [
    "isna_dbc = data_bank_clients.isna().sum()\n",
    "isna_dbc"
   ]
  },
  {
   "cell_type": "markdown",
   "metadata": {},
   "source": [
    "Рассчитаем процентное отношение пропущенных значений к общему числу данных по столбцам 'days_employed' и 'total_income'"
   ]
  },
  {
   "cell_type": "code",
   "execution_count": 1005,
   "metadata": {
    "scrolled": true
   },
   "outputs": [
    {
     "name": "stdout",
     "output_type": "stream",
     "text": [
      "Процент пропущенных значений по колонке 'days_employed': 10.1%\n",
      "Процент пропущенных значений по колонке 'total_income': 10.1%\n"
     ]
    }
   ],
   "source": [
    "isna_de = isna_dbc['days_employed'] / len(data_bank_clients)\n",
    "isna_ti = isna_dbc['total_income'] / len(data_bank_clients)\n",
    "print(\"Процент пропущенных значений по колонке 'days_employed': {:.1%}\".format(isna_de))\n",
    "print(\"Процент пропущенных значений по колонке 'total_income': {:.1%}\".format(isna_ti))"
   ]
  },
  {
   "cell_type": "markdown",
   "metadata": {},
   "source": [
    "Убедимся что пропуски в обоих столбцах находятся на одних и тех же строках: получим таблицу только их строк с пропущенными значениями, выведем краткую информацию"
   ]
  },
  {
   "cell_type": "code",
   "execution_count": 1006,
   "metadata": {
    "scrolled": true
   },
   "outputs": [
    {
     "name": "stdout",
     "output_type": "stream",
     "text": [
      "<class 'pandas.core.frame.DataFrame'>\n",
      "Int64Index: 2174 entries, 12 to 21510\n",
      "Data columns (total 12 columns):\n",
      "children            2174 non-null int64\n",
      "days_employed       0 non-null float64\n",
      "dob_years           2174 non-null int64\n",
      "education           2174 non-null object\n",
      "education_id        2174 non-null int64\n",
      "family_status       2174 non-null object\n",
      "family_status_id    2174 non-null int64\n",
      "gender              2174 non-null object\n",
      "income_type         2174 non-null object\n",
      "debt                2174 non-null int64\n",
      "total_income        0 non-null float64\n",
      "purpose             2174 non-null object\n",
      "dtypes: float64(2), int64(5), object(5)\n",
      "memory usage: 220.8+ KB\n"
     ]
    }
   ],
   "source": [
    "\n",
    "data_bank_clients.query('days_employed.isna()').info()"
   ]
  },
  {
   "cell_type": "markdown",
   "metadata": {},
   "source": [
    "Там где пустые значения 'days_employed', там  и  пустые 'total_income' и всего 2174.\n",
    "\n",
    "***Трудовой стаж и ежемесячный доход - важные критерии для выдачи кредита, особенно при большой сумме заема, например при приобретении недвижижмости. Маленькая вероятность того, что изначально эти данные не были заполнены.***\n",
    "\n",
    "Возможно, при выгрузке данных произошел сбой и пропуски появились по определенному приниципу (например только у клиентов со средним образованием или у клиентов определенного семейного положения) или по причине технического сбоя при занесении данных."
   ]
  },
  {
   "cell_type": "markdown",
   "metadata": {},
   "source": [
    "Проверим зависимость появления пропусков от других данных представленных в исходной таблице.  \n",
    "null_persent_category(column) - группирует по категорям столбца column и возвращает процент пропусков по категории.  \n",
    "Столбец purpose выбран для подсчета значение т.к. в нем нет пропусков и он не будет использоваться для группировки по категориям в текущем разделе."
   ]
  },
  {
   "cell_type": "code",
   "execution_count": 1007,
   "metadata": {},
   "outputs": [],
   "source": [
    "def null_persent_category(column):\n",
    "    full_category = data_bank_clients.pivot_table(index=[column], \n",
    "                                                  values=['purpose', 'days_employed'], aggfunc=['count'])\n",
    "    full_category['percent_null'] = (1 - (full_category['count']['days_employed'] / \n",
    "                                          full_category['count']['purpose'])) * 100\n",
    "    full_category['percent_null'] = round(full_category['percent_null'], 1)\n",
    "    return full_category"
   ]
  },
  {
   "cell_type": "markdown",
   "metadata": {},
   "source": [
    "Проверим работу функции на примере со столбцом 'children', на случай ошибки печатаем 'WARNING! Неподходящие столбцы'"
   ]
  },
  {
   "cell_type": "code",
   "execution_count": 1008,
   "metadata": {},
   "outputs": [
    {
     "data": {
      "text/html": [
       "<div>\n",
       "<style scoped>\n",
       "    .dataframe tbody tr th:only-of-type {\n",
       "        vertical-align: middle;\n",
       "    }\n",
       "\n",
       "    .dataframe tbody tr th {\n",
       "        vertical-align: top;\n",
       "    }\n",
       "\n",
       "    .dataframe thead tr th {\n",
       "        text-align: left;\n",
       "    }\n",
       "\n",
       "    .dataframe thead tr:last-of-type th {\n",
       "        text-align: right;\n",
       "    }\n",
       "</style>\n",
       "<table border=\"1\" class=\"dataframe\">\n",
       "  <thead>\n",
       "    <tr>\n",
       "      <th></th>\n",
       "      <th colspan=\"2\" halign=\"left\">count</th>\n",
       "      <th>percent_null</th>\n",
       "    </tr>\n",
       "    <tr>\n",
       "      <th></th>\n",
       "      <th>days_employed</th>\n",
       "      <th>purpose</th>\n",
       "      <th></th>\n",
       "    </tr>\n",
       "    <tr>\n",
       "      <th>children</th>\n",
       "      <th></th>\n",
       "      <th></th>\n",
       "      <th></th>\n",
       "    </tr>\n",
       "  </thead>\n",
       "  <tbody>\n",
       "    <tr>\n",
       "      <td>-1</td>\n",
       "      <td>44</td>\n",
       "      <td>47</td>\n",
       "      <td>6.4</td>\n",
       "    </tr>\n",
       "    <tr>\n",
       "      <td>0</td>\n",
       "      <td>12710</td>\n",
       "      <td>14149</td>\n",
       "      <td>10.2</td>\n",
       "    </tr>\n",
       "    <tr>\n",
       "      <td>1</td>\n",
       "      <td>4343</td>\n",
       "      <td>4818</td>\n",
       "      <td>9.9</td>\n",
       "    </tr>\n",
       "    <tr>\n",
       "      <td>2</td>\n",
       "      <td>1851</td>\n",
       "      <td>2055</td>\n",
       "      <td>9.9</td>\n",
       "    </tr>\n",
       "    <tr>\n",
       "      <td>3</td>\n",
       "      <td>294</td>\n",
       "      <td>330</td>\n",
       "      <td>10.9</td>\n",
       "    </tr>\n",
       "    <tr>\n",
       "      <td>4</td>\n",
       "      <td>34</td>\n",
       "      <td>41</td>\n",
       "      <td>17.1</td>\n",
       "    </tr>\n",
       "    <tr>\n",
       "      <td>5</td>\n",
       "      <td>8</td>\n",
       "      <td>9</td>\n",
       "      <td>11.1</td>\n",
       "    </tr>\n",
       "    <tr>\n",
       "      <td>20</td>\n",
       "      <td>67</td>\n",
       "      <td>76</td>\n",
       "      <td>11.8</td>\n",
       "    </tr>\n",
       "  </tbody>\n",
       "</table>\n",
       "</div>"
      ],
      "text/plain": [
       "                 count         percent_null\n",
       "         days_employed purpose             \n",
       "children                                   \n",
       "-1                  44      47          6.4\n",
       " 0               12710   14149         10.2\n",
       " 1                4343    4818          9.9\n",
       " 2                1851    2055          9.9\n",
       " 3                 294     330         10.9\n",
       " 4                  34      41         17.1\n",
       " 5                   8       9         11.1\n",
       " 20                 67      76         11.8"
      ]
     },
     "metadata": {},
     "output_type": "display_data"
    }
   ],
   "source": [
    "try:\n",
    "    display(null_persent_category('children'))\n",
    "except:\n",
    "    print('WARNING! Неподходящие столбцы')"
   ]
  },
  {
   "cell_type": "markdown",
   "metadata": {},
   "source": [
    "- Пропуски разбросаны равномерно по всем категориям и процент пропусков по категориям находится в основном в диапазоне от 9,9 до 11,8.   \n",
    "- Ислючения составляют данные о клиентах с 4 детьми - здесь процент пропусков в данных выше -17,1%, при этом количество таких клиентов в выборке мало - 41 из 21525.\n",
    "- Очень мала выборка по клиетам с 5 детьми - 9 из 21525.\n",
    "- Процент пропусков у клиентов со значением -1 не оцениваю, так как значение ошибочно."
   ]
  },
  {
   "cell_type": "code",
   "execution_count": 1009,
   "metadata": {},
   "outputs": [
    {
     "data": {
      "text/html": [
       "<div>\n",
       "<style scoped>\n",
       "    .dataframe tbody tr th:only-of-type {\n",
       "        vertical-align: middle;\n",
       "    }\n",
       "\n",
       "    .dataframe tbody tr th {\n",
       "        vertical-align: top;\n",
       "    }\n",
       "\n",
       "    .dataframe thead tr th {\n",
       "        text-align: left;\n",
       "    }\n",
       "\n",
       "    .dataframe thead tr:last-of-type th {\n",
       "        text-align: right;\n",
       "    }\n",
       "</style>\n",
       "<table border=\"1\" class=\"dataframe\">\n",
       "  <thead>\n",
       "    <tr>\n",
       "      <th></th>\n",
       "      <th colspan=\"2\" halign=\"left\">count</th>\n",
       "      <th>percent_null</th>\n",
       "    </tr>\n",
       "    <tr>\n",
       "      <th></th>\n",
       "      <th>days_employed</th>\n",
       "      <th>purpose</th>\n",
       "      <th></th>\n",
       "    </tr>\n",
       "    <tr>\n",
       "      <th>education</th>\n",
       "      <th></th>\n",
       "      <th></th>\n",
       "      <th></th>\n",
       "    </tr>\n",
       "  </thead>\n",
       "  <tbody>\n",
       "    <tr>\n",
       "      <td>ВЫСШЕЕ</td>\n",
       "      <td>251</td>\n",
       "      <td>274</td>\n",
       "      <td>8.4</td>\n",
       "    </tr>\n",
       "    <tr>\n",
       "      <td>Высшее</td>\n",
       "      <td>243</td>\n",
       "      <td>268</td>\n",
       "      <td>9.3</td>\n",
       "    </tr>\n",
       "    <tr>\n",
       "      <td>НАЧАЛЬНОЕ</td>\n",
       "      <td>16</td>\n",
       "      <td>17</td>\n",
       "      <td>5.9</td>\n",
       "    </tr>\n",
       "    <tr>\n",
       "      <td>НЕОКОНЧЕННОЕ ВЫСШЕЕ</td>\n",
       "      <td>22</td>\n",
       "      <td>29</td>\n",
       "      <td>24.1</td>\n",
       "    </tr>\n",
       "    <tr>\n",
       "      <td>Начальное</td>\n",
       "      <td>14</td>\n",
       "      <td>15</td>\n",
       "      <td>6.7</td>\n",
       "    </tr>\n",
       "    <tr>\n",
       "      <td>Неоконченное высшее</td>\n",
       "      <td>40</td>\n",
       "      <td>47</td>\n",
       "      <td>14.9</td>\n",
       "    </tr>\n",
       "    <tr>\n",
       "      <td>СРЕДНЕЕ</td>\n",
       "      <td>705</td>\n",
       "      <td>772</td>\n",
       "      <td>8.7</td>\n",
       "    </tr>\n",
       "    <tr>\n",
       "      <td>Среднее</td>\n",
       "      <td>646</td>\n",
       "      <td>711</td>\n",
       "      <td>9.1</td>\n",
       "    </tr>\n",
       "    <tr>\n",
       "      <td>УЧЕНАЯ СТЕПЕНЬ</td>\n",
       "      <td>1</td>\n",
       "      <td>1</td>\n",
       "      <td>0.0</td>\n",
       "    </tr>\n",
       "    <tr>\n",
       "      <td>Ученая степень</td>\n",
       "      <td>1</td>\n",
       "      <td>1</td>\n",
       "      <td>0.0</td>\n",
       "    </tr>\n",
       "    <tr>\n",
       "      <td>высшее</td>\n",
       "      <td>4222</td>\n",
       "      <td>4718</td>\n",
       "      <td>10.5</td>\n",
       "    </tr>\n",
       "    <tr>\n",
       "      <td>начальное</td>\n",
       "      <td>231</td>\n",
       "      <td>250</td>\n",
       "      <td>7.6</td>\n",
       "    </tr>\n",
       "    <tr>\n",
       "      <td>неоконченное высшее</td>\n",
       "      <td>613</td>\n",
       "      <td>668</td>\n",
       "      <td>8.2</td>\n",
       "    </tr>\n",
       "    <tr>\n",
       "      <td>среднее</td>\n",
       "      <td>12342</td>\n",
       "      <td>13750</td>\n",
       "      <td>10.2</td>\n",
       "    </tr>\n",
       "    <tr>\n",
       "      <td>ученая степень</td>\n",
       "      <td>4</td>\n",
       "      <td>4</td>\n",
       "      <td>0.0</td>\n",
       "    </tr>\n",
       "  </tbody>\n",
       "</table>\n",
       "</div>"
      ],
      "text/plain": [
       "                            count         percent_null\n",
       "                    days_employed purpose             \n",
       "education                                             \n",
       "ВЫСШЕЕ                        251     274          8.4\n",
       "Высшее                        243     268          9.3\n",
       "НАЧАЛЬНОЕ                      16      17          5.9\n",
       "НЕОКОНЧЕННОЕ ВЫСШЕЕ            22      29         24.1\n",
       "Начальное                      14      15          6.7\n",
       "Неоконченное высшее            40      47         14.9\n",
       "СРЕДНЕЕ                       705     772          8.7\n",
       "Среднее                       646     711          9.1\n",
       "УЧЕНАЯ СТЕПЕНЬ                  1       1          0.0\n",
       "Ученая степень                  1       1          0.0\n",
       "высшее                       4222    4718         10.5\n",
       "начальное                     231     250          7.6\n",
       "неоконченное высшее           613     668          8.2\n",
       "среднее                     12342   13750         10.2\n",
       "ученая степень                  4       4          0.0"
      ]
     },
     "metadata": {},
     "output_type": "display_data"
    }
   ],
   "source": [
    "try:\n",
    "    display(null_persent_category('education'))\n",
    "except:\n",
    "    print('WARNING! Неподходящие столбцы')"
   ]
  },
  {
   "cell_type": "markdown",
   "metadata": {},
   "source": [
    "- Пропуски встречаются во всех категориях стролбца образование, за исключением клиентов с ученой степенью.  \n",
    "- На первый взгляд есть явно высокий процент пропусков - 24 % у клиентов с неоконченным высшим образованием и явно низкий - у клиентов с начальным образованием. Но сейчас сложно оценить, так как в столбце образование данные не приведены к единому регистру и группировка не дала окончательный ответ.  \n",
    "\n",
    "Оценим пропуски в категорях по столбцу 'family_status'"
   ]
  },
  {
   "cell_type": "code",
   "execution_count": 1010,
   "metadata": {},
   "outputs": [
    {
     "data": {
      "text/html": [
       "<div>\n",
       "<style scoped>\n",
       "    .dataframe tbody tr th:only-of-type {\n",
       "        vertical-align: middle;\n",
       "    }\n",
       "\n",
       "    .dataframe tbody tr th {\n",
       "        vertical-align: top;\n",
       "    }\n",
       "\n",
       "    .dataframe thead tr th {\n",
       "        text-align: left;\n",
       "    }\n",
       "\n",
       "    .dataframe thead tr:last-of-type th {\n",
       "        text-align: right;\n",
       "    }\n",
       "</style>\n",
       "<table border=\"1\" class=\"dataframe\">\n",
       "  <thead>\n",
       "    <tr>\n",
       "      <th></th>\n",
       "      <th colspan=\"2\" halign=\"left\">count</th>\n",
       "      <th>percent_null</th>\n",
       "    </tr>\n",
       "    <tr>\n",
       "      <th></th>\n",
       "      <th>days_employed</th>\n",
       "      <th>purpose</th>\n",
       "      <th></th>\n",
       "    </tr>\n",
       "    <tr>\n",
       "      <th>family_status</th>\n",
       "      <th></th>\n",
       "      <th></th>\n",
       "      <th></th>\n",
       "    </tr>\n",
       "  </thead>\n",
       "  <tbody>\n",
       "    <tr>\n",
       "      <td>Не женат / не замужем</td>\n",
       "      <td>2525</td>\n",
       "      <td>2813</td>\n",
       "      <td>10.2</td>\n",
       "    </tr>\n",
       "    <tr>\n",
       "      <td>в разводе</td>\n",
       "      <td>1083</td>\n",
       "      <td>1195</td>\n",
       "      <td>9.4</td>\n",
       "    </tr>\n",
       "    <tr>\n",
       "      <td>вдовец / вдова</td>\n",
       "      <td>865</td>\n",
       "      <td>960</td>\n",
       "      <td>9.9</td>\n",
       "    </tr>\n",
       "    <tr>\n",
       "      <td>гражданский брак</td>\n",
       "      <td>3735</td>\n",
       "      <td>4177</td>\n",
       "      <td>10.6</td>\n",
       "    </tr>\n",
       "    <tr>\n",
       "      <td>женат / замужем</td>\n",
       "      <td>11143</td>\n",
       "      <td>12380</td>\n",
       "      <td>10.0</td>\n",
       "    </tr>\n",
       "  </tbody>\n",
       "</table>\n",
       "</div>"
      ],
      "text/plain": [
       "                              count         percent_null\n",
       "                      days_employed purpose             \n",
       "family_status                                           \n",
       "Не женат / не замужем          2525    2813         10.2\n",
       "в разводе                      1083    1195          9.4\n",
       "вдовец / вдова                  865     960          9.9\n",
       "гражданский брак               3735    4177         10.6\n",
       "женат / замужем               11143   12380         10.0"
      ]
     },
     "metadata": {},
     "output_type": "display_data"
    }
   ],
   "source": [
    "try:\n",
    "    display(null_persent_category('family_status'))\n",
    "except:\n",
    "    print('WARNING! Неподходящие столбцы')"
   ]
  },
  {
   "cell_type": "markdown",
   "metadata": {},
   "source": [
    "- Пропуски по категориям столбца семейного положения распределены равномерно ~10% и присутствуют во всех категориях.  \n",
    "\n",
    "оценим пропуски в категорях по столбцу 'gender'"
   ]
  },
  {
   "cell_type": "code",
   "execution_count": 1011,
   "metadata": {},
   "outputs": [
    {
     "data": {
      "text/html": [
       "<div>\n",
       "<style scoped>\n",
       "    .dataframe tbody tr th:only-of-type {\n",
       "        vertical-align: middle;\n",
       "    }\n",
       "\n",
       "    .dataframe tbody tr th {\n",
       "        vertical-align: top;\n",
       "    }\n",
       "\n",
       "    .dataframe thead tr th {\n",
       "        text-align: left;\n",
       "    }\n",
       "\n",
       "    .dataframe thead tr:last-of-type th {\n",
       "        text-align: right;\n",
       "    }\n",
       "</style>\n",
       "<table border=\"1\" class=\"dataframe\">\n",
       "  <thead>\n",
       "    <tr>\n",
       "      <th></th>\n",
       "      <th colspan=\"2\" halign=\"left\">count</th>\n",
       "      <th>percent_null</th>\n",
       "    </tr>\n",
       "    <tr>\n",
       "      <th></th>\n",
       "      <th>days_employed</th>\n",
       "      <th>purpose</th>\n",
       "      <th></th>\n",
       "    </tr>\n",
       "    <tr>\n",
       "      <th>gender</th>\n",
       "      <th></th>\n",
       "      <th></th>\n",
       "      <th></th>\n",
       "    </tr>\n",
       "  </thead>\n",
       "  <tbody>\n",
       "    <tr>\n",
       "      <td>F</td>\n",
       "      <td>12752</td>\n",
       "      <td>14236</td>\n",
       "      <td>10.4</td>\n",
       "    </tr>\n",
       "    <tr>\n",
       "      <td>M</td>\n",
       "      <td>6598</td>\n",
       "      <td>7288</td>\n",
       "      <td>9.5</td>\n",
       "    </tr>\n",
       "    <tr>\n",
       "      <td>XNA</td>\n",
       "      <td>1</td>\n",
       "      <td>1</td>\n",
       "      <td>0.0</td>\n",
       "    </tr>\n",
       "  </tbody>\n",
       "</table>\n",
       "</div>"
      ],
      "text/plain": [
       "               count         percent_null\n",
       "       days_employed purpose             \n",
       "gender                                   \n",
       "F              12752   14236         10.4\n",
       "M               6598    7288          9.5\n",
       "XNA                1       1          0.0"
      ]
     },
     "metadata": {},
     "output_type": "display_data"
    }
   ],
   "source": [
    "try:\n",
    "    display(null_persent_category('gender'))\n",
    "except:\n",
    "    print('WARNING! Неподходящие столбцы')"
   ]
  },
  {
   "cell_type": "markdown",
   "metadata": {},
   "source": [
    "- Еще одна проблема в данных - третий пол 'XNA'. К счастью, такая строчка одна и это не повлияет на результат исследования. До уточнения этого вопроса оставим значение таким, какое оно есть.\n",
    "- Пропуски распределены в том же диапазоне, что и в общей выборке ~10%.  \n",
    "\n",
    "оценим пропуски в категорях по столбцу'income_type'"
   ]
  },
  {
   "cell_type": "code",
   "execution_count": 1012,
   "metadata": {},
   "outputs": [
    {
     "data": {
      "text/html": [
       "<div>\n",
       "<style scoped>\n",
       "    .dataframe tbody tr th:only-of-type {\n",
       "        vertical-align: middle;\n",
       "    }\n",
       "\n",
       "    .dataframe tbody tr th {\n",
       "        vertical-align: top;\n",
       "    }\n",
       "\n",
       "    .dataframe thead tr th {\n",
       "        text-align: left;\n",
       "    }\n",
       "\n",
       "    .dataframe thead tr:last-of-type th {\n",
       "        text-align: right;\n",
       "    }\n",
       "</style>\n",
       "<table border=\"1\" class=\"dataframe\">\n",
       "  <thead>\n",
       "    <tr>\n",
       "      <th></th>\n",
       "      <th colspan=\"2\" halign=\"left\">count</th>\n",
       "      <th>percent_null</th>\n",
       "    </tr>\n",
       "    <tr>\n",
       "      <th></th>\n",
       "      <th>days_employed</th>\n",
       "      <th>purpose</th>\n",
       "      <th></th>\n",
       "    </tr>\n",
       "    <tr>\n",
       "      <th>income_type</th>\n",
       "      <th></th>\n",
       "      <th></th>\n",
       "      <th></th>\n",
       "    </tr>\n",
       "  </thead>\n",
       "  <tbody>\n",
       "    <tr>\n",
       "      <td>безработный</td>\n",
       "      <td>2</td>\n",
       "      <td>2</td>\n",
       "      <td>0.0</td>\n",
       "    </tr>\n",
       "    <tr>\n",
       "      <td>в декрете</td>\n",
       "      <td>1</td>\n",
       "      <td>1</td>\n",
       "      <td>0.0</td>\n",
       "    </tr>\n",
       "    <tr>\n",
       "      <td>госслужащий</td>\n",
       "      <td>1312</td>\n",
       "      <td>1459</td>\n",
       "      <td>10.1</td>\n",
       "    </tr>\n",
       "    <tr>\n",
       "      <td>компаньон</td>\n",
       "      <td>4577</td>\n",
       "      <td>5085</td>\n",
       "      <td>10.0</td>\n",
       "    </tr>\n",
       "    <tr>\n",
       "      <td>пенсионер</td>\n",
       "      <td>3443</td>\n",
       "      <td>3856</td>\n",
       "      <td>10.7</td>\n",
       "    </tr>\n",
       "    <tr>\n",
       "      <td>предприниматель</td>\n",
       "      <td>1</td>\n",
       "      <td>2</td>\n",
       "      <td>50.0</td>\n",
       "    </tr>\n",
       "    <tr>\n",
       "      <td>сотрудник</td>\n",
       "      <td>10014</td>\n",
       "      <td>11119</td>\n",
       "      <td>9.9</td>\n",
       "    </tr>\n",
       "    <tr>\n",
       "      <td>студент</td>\n",
       "      <td>1</td>\n",
       "      <td>1</td>\n",
       "      <td>0.0</td>\n",
       "    </tr>\n",
       "  </tbody>\n",
       "</table>\n",
       "</div>"
      ],
      "text/plain": [
       "                        count         percent_null\n",
       "                days_employed purpose             \n",
       "income_type                                       \n",
       "безработный                 2       2          0.0\n",
       "в декрете                   1       1          0.0\n",
       "госслужащий              1312    1459         10.1\n",
       "компаньон                4577    5085         10.0\n",
       "пенсионер                3443    3856         10.7\n",
       "предприниматель             1       2         50.0\n",
       "сотрудник               10014   11119          9.9\n",
       "студент                     1       1          0.0"
      ]
     },
     "metadata": {},
     "output_type": "display_data"
    }
   ],
   "source": [
    "try:\n",
    "    display(null_persent_category('income_type'))\n",
    "except:\n",
    "    print('WARNING! Неподходящие столбцы')"
   ]
  },
  {
   "cell_type": "markdown",
   "metadata": {},
   "source": [
    "- Явная проблема с предпринимателями: из-за того, что выборка по ним слишком мала (2 клиента) процент пропусков в данных составил 50%.\n",
    "- По категориям типа дохода, представленным в датасете в достаточном количестве процент пропусков находится на уровне среднего по всему столбцу ~10%."
   ]
  },
  {
   "cell_type": "code",
   "execution_count": 1013,
   "metadata": {},
   "outputs": [
    {
     "data": {
      "text/html": [
       "<div>\n",
       "<style scoped>\n",
       "    .dataframe tbody tr th:only-of-type {\n",
       "        vertical-align: middle;\n",
       "    }\n",
       "\n",
       "    .dataframe tbody tr th {\n",
       "        vertical-align: top;\n",
       "    }\n",
       "\n",
       "    .dataframe thead tr th {\n",
       "        text-align: left;\n",
       "    }\n",
       "\n",
       "    .dataframe thead tr:last-of-type th {\n",
       "        text-align: right;\n",
       "    }\n",
       "</style>\n",
       "<table border=\"1\" class=\"dataframe\">\n",
       "  <thead>\n",
       "    <tr>\n",
       "      <th></th>\n",
       "      <th colspan=\"2\" halign=\"left\">count</th>\n",
       "      <th>percent_null</th>\n",
       "    </tr>\n",
       "    <tr>\n",
       "      <th></th>\n",
       "      <th>days_employed</th>\n",
       "      <th>purpose</th>\n",
       "      <th></th>\n",
       "    </tr>\n",
       "    <tr>\n",
       "      <th>debt</th>\n",
       "      <th></th>\n",
       "      <th></th>\n",
       "      <th></th>\n",
       "    </tr>\n",
       "  </thead>\n",
       "  <tbody>\n",
       "    <tr>\n",
       "      <td>0</td>\n",
       "      <td>17780</td>\n",
       "      <td>19784</td>\n",
       "      <td>10.1</td>\n",
       "    </tr>\n",
       "    <tr>\n",
       "      <td>1</td>\n",
       "      <td>1571</td>\n",
       "      <td>1741</td>\n",
       "      <td>9.8</td>\n",
       "    </tr>\n",
       "  </tbody>\n",
       "</table>\n",
       "</div>"
      ],
      "text/plain": [
       "             count         percent_null\n",
       "     days_employed purpose             \n",
       "debt                                   \n",
       "0            17780   19784         10.1\n",
       "1             1571    1741          9.8"
      ]
     },
     "metadata": {},
     "output_type": "display_data"
    }
   ],
   "source": [
    "try:\n",
    "    display(null_persent_category('debt'))\n",
    "except:\n",
    "    print('WARNING! Неподходящие столбцы')"
   ]
  },
  {
   "cell_type": "markdown",
   "metadata": {},
   "source": [
    "- Группировка в соответствии с кредитной историей клиентов показывает равномерное распределение пропусков на уровне ~10%."
   ]
  },
  {
   "cell_type": "markdown",
   "metadata": {},
   "source": [
    "**Вывод**\n",
    "***"
   ]
  },
  {
   "cell_type": "markdown",
   "metadata": {},
   "source": [
    "Итак, пропущенные значения имеются в двух колонках: 'days_employed' - трудовой стаж и 'total_income' - ежемесячный доход. Пропуски в колонках находятся в одних и тех же строках - 2174 строк.  \n",
    "\n",
    "Рассмотрение распределения пропусков в соответствии с различными группами показало, что пропуски распределены внутри категорий столбцов на том же уровне (~10%), что и в общей выборке, за исключением случаев, когда выборка по категории слишком мала. Какая-либо закономерность появления пропущенных значений не прослеживается.\n",
    "\n",
    "Для последующей обработки пропусков необходимо обработать артефакты в данных.\n",
    "\n",
    "Так же, был обнаружен еще один артефакт: значение XNA - в столбце пола."
   ]
  },
  {
   "cell_type": "markdown",
   "metadata": {},
   "source": [
    "### Обработка артефактов в датасете"
   ]
  },
  {
   "cell_type": "markdown",
   "metadata": {},
   "source": [
    "В исходном файле имеются некорректные данные, которые усложняют дальнейшую обработку:\n",
    "- категориальные данные записаны в разных регистрах\n",
    "- отрицательные значения стажа клиентов\n",
    "- максимальное значение стажа клиента в пересчете на года - 1100 лет\n",
    "- отрицательное количество детей\n",
    "- максимальное количество детей 20\n",
    "- возраст клиентов 0 лет\n",
    "- пол 'XNA'"
   ]
  },
  {
   "cell_type": "markdown",
   "metadata": {},
   "source": [
    " #### Устранение дубликатов записанных в разных регистрах"
   ]
  },
  {
   "cell_type": "markdown",
   "metadata": {},
   "source": [
    "Составим список из столбцов, в которых могла появится проблема с форматом данных"
   ]
  },
  {
   "cell_type": "code",
   "execution_count": 1014,
   "metadata": {
    "scrolled": false
   },
   "outputs": [
    {
     "name": "stdout",
     "output_type": "stream",
     "text": [
      "Уникальные значения столбца education:\n",
      "высшее\n",
      "среднее\n",
      "Среднее\n",
      "СРЕДНЕЕ\n",
      "ВЫСШЕЕ\n",
      "неоконченное высшее\n",
      "начальное\n",
      "Высшее\n",
      "НЕОКОНЧЕННОЕ ВЫСШЕЕ\n",
      "Неоконченное высшее\n",
      "НАЧАЛЬНОЕ\n",
      "Начальное\n",
      "Ученая степень\n",
      "УЧЕНАЯ СТЕПЕНЬ\n",
      "ученая степень\n",
      "\n",
      "Уникальные значения столбца family_status:\n",
      "женат / замужем\n",
      "гражданский брак\n",
      "вдовец / вдова\n",
      "в разводе\n",
      "Не женат / не замужем\n",
      "\n",
      "Уникальные значения столбца gender:\n",
      "F\n",
      "M\n",
      "XNA\n",
      "\n",
      "Уникальные значения столбца income_type:\n",
      "сотрудник\n",
      "пенсионер\n",
      "компаньон\n",
      "госслужащий\n",
      "безработный\n",
      "предприниматель\n",
      "студент\n",
      "в декрете\n",
      "\n",
      "Уникальные значения столбца debt:\n",
      "0\n",
      "1\n",
      "\n",
      "Уникальные значения столбца purpose:\n",
      "покупка жилья\n",
      "приобретение автомобиля\n",
      "дополнительное образование\n",
      "сыграть свадьбу\n",
      "операции с жильем\n",
      "образование\n",
      "на проведение свадьбы\n",
      "покупка жилья для семьи\n",
      "покупка недвижимости\n",
      "покупка коммерческой недвижимости\n",
      "покупка жилой недвижимости\n",
      "строительство собственной недвижимости\n",
      "недвижимость\n",
      "строительство недвижимости\n",
      "на покупку подержанного автомобиля\n",
      "на покупку своего автомобиля\n",
      "операции с коммерческой недвижимостью\n",
      "строительство жилой недвижимости\n",
      "жилье\n",
      "операции со своей недвижимостью\n",
      "автомобили\n",
      "заняться образованием\n",
      "сделка с подержанным автомобилем\n",
      "получение образования\n",
      "автомобиль\n",
      "свадьба\n",
      "получение дополнительного образования\n",
      "покупка своего жилья\n",
      "операции с недвижимостью\n",
      "получение высшего образования\n",
      "свой автомобиль\n",
      "сделка с автомобилем\n",
      "профильное образование\n",
      "высшее образование\n",
      "покупка жилья для сдачи\n",
      "на покупку автомобиля\n",
      "ремонт жилью\n",
      "заняться высшим образованием\n",
      "\n"
     ]
    }
   ],
   "source": [
    "name_columns_df_bc = ['education', 'family_status', 'gender', 'income_type', 'debt', 'purpose']\n",
    "\n",
    "for column in name_columns_df_bc:\n",
    "    print(f'Уникальные значения столбца {column}:')\n",
    "    print(*(data_bank_clients[column].unique()), sep='\\n')\n",
    "    print()"
   ]
  },
  {
   "cell_type": "markdown",
   "metadata": {},
   "source": [
    "Приведем данные в колонках 'education', 'family_status', 'income_type' 'purpose' к одному регистру"
   ]
  },
  {
   "cell_type": "code",
   "execution_count": 1015,
   "metadata": {},
   "outputs": [],
   "source": [
    "name_columns_dbc_object = ['education', 'family_status', 'income_type', 'purpose']\n",
    "for column in name_columns_dbc_object:\n",
    "    data_bank_clients[column] = data_bank_clients[column].str.lower()"
   ]
  },
  {
   "cell_type": "markdown",
   "metadata": {},
   "source": [
    "Проверим результат смены регистра: выведем уникальные значения на экран"
   ]
  },
  {
   "cell_type": "code",
   "execution_count": 1016,
   "metadata": {
    "scrolled": false
   },
   "outputs": [
    {
     "name": "stdout",
     "output_type": "stream",
     "text": [
      "Уникальные значения столбца education:\n",
      "['высшее' 'среднее' 'неоконченное высшее' 'начальное' 'ученая степень']\n",
      "\n",
      "Уникальные значения столбца family_status:\n",
      "['женат / замужем' 'гражданский брак' 'вдовец / вдова' 'в разводе'\n",
      " 'не женат / не замужем']\n",
      "\n",
      "Уникальные значения столбца income_type:\n",
      "['сотрудник' 'пенсионер' 'компаньон' 'госслужащий' 'безработный'\n",
      " 'предприниматель' 'студент' 'в декрете']\n",
      "\n",
      "Уникальные значения столбца purpose:\n",
      "['покупка жилья' 'приобретение автомобиля' 'дополнительное образование'\n",
      " 'сыграть свадьбу' 'операции с жильем' 'образование'\n",
      " 'на проведение свадьбы' 'покупка жилья для семьи' 'покупка недвижимости'\n",
      " 'покупка коммерческой недвижимости' 'покупка жилой недвижимости'\n",
      " 'строительство собственной недвижимости' 'недвижимость'\n",
      " 'строительство недвижимости' 'на покупку подержанного автомобиля'\n",
      " 'на покупку своего автомобиля' 'операции с коммерческой недвижимостью'\n",
      " 'строительство жилой недвижимости' 'жилье'\n",
      " 'операции со своей недвижимостью' 'автомобили' 'заняться образованием'\n",
      " 'сделка с подержанным автомобилем' 'получение образования' 'автомобиль'\n",
      " 'свадьба' 'получение дополнительного образования' 'покупка своего жилья'\n",
      " 'операции с недвижимостью' 'получение высшего образования'\n",
      " 'свой автомобиль' 'сделка с автомобилем' 'профильное образование'\n",
      " 'высшее образование' 'покупка жилья для сдачи' 'на покупку автомобиля'\n",
      " 'ремонт жилью' 'заняться высшим образованием']\n",
      "\n"
     ]
    }
   ],
   "source": [
    "for column in name_columns_dbc_object:\n",
    "    print(f'Уникальные значения столбца {column}:')\n",
    "    print(data_bank_clients[column].unique())\n",
    "    print()"
   ]
  },
  {
   "cell_type": "markdown",
   "metadata": {},
   "source": [
    "**Вывод**\n",
    "\n",
    "Категориальные значения в столбцах: 'education', 'family_status', 'income_type', 'purpose' приведены к единому регистру."
   ]
  },
  {
   "cell_type": "markdown",
   "metadata": {},
   "source": [
    " #### Исправление некорректных значений в столбце трудового стажа 'days_employed'"
   ]
  },
  {
   "cell_type": "markdown",
   "metadata": {},
   "source": [
    "Сгруппируем данные по столбцу тип занятости 'income_type' и выведем среднее значение стажа заемщика."
   ]
  },
  {
   "cell_type": "code",
   "execution_count": 1017,
   "metadata": {},
   "outputs": [
    {
     "data": {
      "text/plain": [
       "income_type\n",
       "безработный        366413.652744\n",
       "в декрете           -3296.759962\n",
       "госслужащий         -3399.896902\n",
       "компаньон           -2111.524398\n",
       "пенсионер          365003.491245\n",
       "предприниматель      -520.848083\n",
       "сотрудник           -2326.499216\n",
       "студент              -578.751554\n",
       "Name: days_employed, dtype: float64"
      ]
     },
     "execution_count": 1017,
     "metadata": {},
     "output_type": "execute_result"
    }
   ],
   "source": [
    "days_employed_mean = data_bank_clients.groupby(by=['income_type'])['days_employed'].mean()\n",
    "days_employed_mean"
   ]
  },
  {
   "cell_type": "code",
   "execution_count": 1018,
   "metadata": {},
   "outputs": [
    {
     "data": {
      "text/plain": [
       "count     19351.000000\n",
       "mean      63046.497661\n",
       "std      140827.311974\n",
       "min      -18388.949901\n",
       "25%       -2747.423625\n",
       "50%       -1203.369529\n",
       "75%        -291.095954\n",
       "max      401755.400475\n",
       "Name: days_employed, dtype: float64"
      ]
     },
     "execution_count": 1018,
     "metadata": {},
     "output_type": "execute_result"
    }
   ],
   "source": [
    "data_bank_clients['days_employed'].describe()"
   ]
  },
  {
   "cell_type": "markdown",
   "metadata": {},
   "source": [
    "Две проблемы со столбцом 'days_employed':\n",
    "- Трудовой стаж безработных и пенсионеров записан не в днях или с неким коэффициентом.\n",
    "- Трудовой стаж работающих людей отрицательный."
   ]
  },
  {
   "cell_type": "markdown",
   "metadata": {},
   "source": [
    "***Разберемся сначала с порядком цифр для безработных и пенсионеров.***"
   ]
  },
  {
   "cell_type": "code",
   "execution_count": 1019,
   "metadata": {
    "scrolled": false
   },
   "outputs": [
    {
     "name": "stdout",
     "output_type": "stream",
     "text": [
      "[0, 22, 24, 26, 27, 28, 31, 32, 33, 34, 35, 36, 37, 38, 39, 40, 41, 42, 43, 44, 45, 46, 47, 48, 49, 50, 51, 52, 53, 54, 55, 56, 57, 58, 59, 60, 61, 62, 63, 64, 65, 66, 67, 68, 69, 70, 71, 72, 73, 74]\n"
     ]
    },
    {
     "data": {
      "text/html": [
       "<div>\n",
       "<style scoped>\n",
       "    .dataframe tbody tr th:only-of-type {\n",
       "        vertical-align: middle;\n",
       "    }\n",
       "\n",
       "    .dataframe tbody tr th {\n",
       "        vertical-align: top;\n",
       "    }\n",
       "\n",
       "    .dataframe thead th {\n",
       "        text-align: right;\n",
       "    }\n",
       "</style>\n",
       "<table border=\"1\" class=\"dataframe\">\n",
       "  <thead>\n",
       "    <tr style=\"text-align: right;\">\n",
       "      <th></th>\n",
       "      <th>children</th>\n",
       "      <th>days_employed</th>\n",
       "      <th>dob_years</th>\n",
       "      <th>education</th>\n",
       "      <th>education_id</th>\n",
       "      <th>family_status</th>\n",
       "      <th>family_status_id</th>\n",
       "      <th>gender</th>\n",
       "      <th>income_type</th>\n",
       "      <th>debt</th>\n",
       "      <th>total_income</th>\n",
       "      <th>purpose</th>\n",
       "    </tr>\n",
       "  </thead>\n",
       "  <tbody>\n",
       "    <tr>\n",
       "      <td>99</td>\n",
       "      <td>0</td>\n",
       "      <td>346541.618895</td>\n",
       "      <td>0</td>\n",
       "      <td>среднее</td>\n",
       "      <td>1</td>\n",
       "      <td>женат / замужем</td>\n",
       "      <td>0</td>\n",
       "      <td>F</td>\n",
       "      <td>пенсионер</td>\n",
       "      <td>0</td>\n",
       "      <td>71291.522491</td>\n",
       "      <td>автомобиль</td>\n",
       "    </tr>\n",
       "    <tr>\n",
       "      <td>157</td>\n",
       "      <td>0</td>\n",
       "      <td>348414.028009</td>\n",
       "      <td>38</td>\n",
       "      <td>среднее</td>\n",
       "      <td>1</td>\n",
       "      <td>женат / замужем</td>\n",
       "      <td>0</td>\n",
       "      <td>F</td>\n",
       "      <td>пенсионер</td>\n",
       "      <td>1</td>\n",
       "      <td>113560.650035</td>\n",
       "      <td>сделка с автомобилем</td>\n",
       "    </tr>\n",
       "    <tr>\n",
       "      <td>578</td>\n",
       "      <td>0</td>\n",
       "      <td>397856.565013</td>\n",
       "      <td>0</td>\n",
       "      <td>среднее</td>\n",
       "      <td>1</td>\n",
       "      <td>женат / замужем</td>\n",
       "      <td>0</td>\n",
       "      <td>F</td>\n",
       "      <td>пенсионер</td>\n",
       "      <td>0</td>\n",
       "      <td>97620.687042</td>\n",
       "      <td>строительство собственной недвижимости</td>\n",
       "    </tr>\n",
       "    <tr>\n",
       "      <td>776</td>\n",
       "      <td>0</td>\n",
       "      <td>365336.560325</td>\n",
       "      <td>38</td>\n",
       "      <td>среднее</td>\n",
       "      <td>1</td>\n",
       "      <td>женат / замужем</td>\n",
       "      <td>0</td>\n",
       "      <td>F</td>\n",
       "      <td>пенсионер</td>\n",
       "      <td>0</td>\n",
       "      <td>73859.425084</td>\n",
       "      <td>покупка недвижимости</td>\n",
       "    </tr>\n",
       "    <tr>\n",
       "      <td>1175</td>\n",
       "      <td>0</td>\n",
       "      <td>370879.508002</td>\n",
       "      <td>0</td>\n",
       "      <td>среднее</td>\n",
       "      <td>1</td>\n",
       "      <td>женат / замужем</td>\n",
       "      <td>0</td>\n",
       "      <td>F</td>\n",
       "      <td>пенсионер</td>\n",
       "      <td>0</td>\n",
       "      <td>313949.845188</td>\n",
       "      <td>получение дополнительного образования</td>\n",
       "    </tr>\n",
       "    <tr>\n",
       "      <td>...</td>\n",
       "      <td>...</td>\n",
       "      <td>...</td>\n",
       "      <td>...</td>\n",
       "      <td>...</td>\n",
       "      <td>...</td>\n",
       "      <td>...</td>\n",
       "      <td>...</td>\n",
       "      <td>...</td>\n",
       "      <td>...</td>\n",
       "      <td>...</td>\n",
       "      <td>...</td>\n",
       "      <td>...</td>\n",
       "    </tr>\n",
       "    <tr>\n",
       "      <td>19439</td>\n",
       "      <td>0</td>\n",
       "      <td>389397.167577</td>\n",
       "      <td>26</td>\n",
       "      <td>высшее</td>\n",
       "      <td>0</td>\n",
       "      <td>женат / замужем</td>\n",
       "      <td>0</td>\n",
       "      <td>F</td>\n",
       "      <td>пенсионер</td>\n",
       "      <td>0</td>\n",
       "      <td>214963.301941</td>\n",
       "      <td>покупка недвижимости</td>\n",
       "    </tr>\n",
       "    <tr>\n",
       "      <td>20271</td>\n",
       "      <td>0</td>\n",
       "      <td>383832.244324</td>\n",
       "      <td>37</td>\n",
       "      <td>высшее</td>\n",
       "      <td>0</td>\n",
       "      <td>женат / замужем</td>\n",
       "      <td>0</td>\n",
       "      <td>F</td>\n",
       "      <td>пенсионер</td>\n",
       "      <td>0</td>\n",
       "      <td>188236.765814</td>\n",
       "      <td>на покупку автомобиля</td>\n",
       "    </tr>\n",
       "    <tr>\n",
       "      <td>20462</td>\n",
       "      <td>0</td>\n",
       "      <td>338734.868540</td>\n",
       "      <td>0</td>\n",
       "      <td>среднее</td>\n",
       "      <td>1</td>\n",
       "      <td>женат / замужем</td>\n",
       "      <td>0</td>\n",
       "      <td>F</td>\n",
       "      <td>пенсионер</td>\n",
       "      <td>0</td>\n",
       "      <td>259193.920299</td>\n",
       "      <td>покупка своего жилья</td>\n",
       "    </tr>\n",
       "    <tr>\n",
       "      <td>20560</td>\n",
       "      <td>0</td>\n",
       "      <td>333394.000848</td>\n",
       "      <td>33</td>\n",
       "      <td>среднее</td>\n",
       "      <td>1</td>\n",
       "      <td>женат / замужем</td>\n",
       "      <td>0</td>\n",
       "      <td>M</td>\n",
       "      <td>пенсионер</td>\n",
       "      <td>0</td>\n",
       "      <td>163411.879628</td>\n",
       "      <td>образование</td>\n",
       "    </tr>\n",
       "    <tr>\n",
       "      <td>20577</td>\n",
       "      <td>0</td>\n",
       "      <td>331741.271455</td>\n",
       "      <td>0</td>\n",
       "      <td>среднее</td>\n",
       "      <td>1</td>\n",
       "      <td>не женат / не замужем</td>\n",
       "      <td>4</td>\n",
       "      <td>F</td>\n",
       "      <td>пенсионер</td>\n",
       "      <td>0</td>\n",
       "      <td>129788.762899</td>\n",
       "      <td>недвижимость</td>\n",
       "    </tr>\n",
       "  </tbody>\n",
       "</table>\n",
       "<p>62 rows × 12 columns</p>\n",
       "</div>"
      ],
      "text/plain": [
       "       children  days_employed  dob_years education  education_id  \\\n",
       "99            0  346541.618895          0   среднее             1   \n",
       "157           0  348414.028009         38   среднее             1   \n",
       "578           0  397856.565013          0   среднее             1   \n",
       "776           0  365336.560325         38   среднее             1   \n",
       "1175          0  370879.508002          0   среднее             1   \n",
       "...         ...            ...        ...       ...           ...   \n",
       "19439         0  389397.167577         26    высшее             0   \n",
       "20271         0  383832.244324         37    высшее             0   \n",
       "20462         0  338734.868540          0   среднее             1   \n",
       "20560         0  333394.000848         33   среднее             1   \n",
       "20577         0  331741.271455          0   среднее             1   \n",
       "\n",
       "               family_status  family_status_id gender income_type  debt  \\\n",
       "99           женат / замужем                 0      F   пенсионер     0   \n",
       "157          женат / замужем                 0      F   пенсионер     1   \n",
       "578          женат / замужем                 0      F   пенсионер     0   \n",
       "776          женат / замужем                 0      F   пенсионер     0   \n",
       "1175         женат / замужем                 0      F   пенсионер     0   \n",
       "...                      ...               ...    ...         ...   ...   \n",
       "19439        женат / замужем                 0      F   пенсионер     0   \n",
       "20271        женат / замужем                 0      F   пенсионер     0   \n",
       "20462        женат / замужем                 0      F   пенсионер     0   \n",
       "20560        женат / замужем                 0      M   пенсионер     0   \n",
       "20577  не женат / не замужем                 4      F   пенсионер     0   \n",
       "\n",
       "        total_income                                 purpose  \n",
       "99      71291.522491                              автомобиль  \n",
       "157    113560.650035                    сделка с автомобилем  \n",
       "578     97620.687042  строительство собственной недвижимости  \n",
       "776     73859.425084                    покупка недвижимости  \n",
       "1175   313949.845188   получение дополнительного образования  \n",
       "...              ...                                     ...  \n",
       "19439  214963.301941                    покупка недвижимости  \n",
       "20271  188236.765814                   на покупку автомобиля  \n",
       "20462  259193.920299                    покупка своего жилья  \n",
       "20560  163411.879628                             образование  \n",
       "20577  129788.762899                            недвижимость  \n",
       "\n",
       "[62 rows x 12 columns]"
      ]
     },
     "execution_count": 1019,
     "metadata": {},
     "output_type": "execute_result"
    }
   ],
   "source": [
    "data_pensionika = data_bank_clients[data_bank_clients['income_type'] == 'пенсионер']\n",
    "\n",
    "# выводим уникальные значения возраста для пенсионеров\n",
    "print(sorted(data_pensionika['dob_years'].unique()))\n",
    "\n",
    "# таблица для пенсионеров возраст которых меньше 40 лет\n",
    "data_pensionika[data_pensionika['dob_years'] < 40]"
   ]
  },
  {
   "cell_type": "code",
   "execution_count": 1020,
   "metadata": {},
   "outputs": [
    {
     "name": "stdout",
     "output_type": "stream",
     "text": [
      "Если работать 47 лет без перерывов, то это 17155 дней\n",
      "А средний стаж пенсионера по исходным данным 1000 лет и это 365003 дней\n",
      "При этом средний возраст пенсионеров 59 лет\n"
     ]
    }
   ],
   "source": [
    "# рассчитаем максимальный трудовой стаж в днях для пенсионеров\n",
    "# для расчета обозначим, что трудовая деятельность начинается в 18 лет, выход на пенсию - 65 лет.\n",
    "\n",
    "long_emploed = (65 - 18) * 365\n",
    "mid_age_pens = data_bank_clients[data_bank_clients['income_type'] == 'пенсионер']['dob_years'].mean()\n",
    "print(f'Если работать {65-18} лет без перерывов, то это {long_emploed} дней')\n",
    "print(f'А средний стаж пенсионера по исходным данным {int(days_employed_mean[4] / 365)} лет и это {int(days_employed_mean[4])} дней')\n",
    "print(f'При этом средний возраст пенсионеров {int(mid_age_pens)} лет')"
   ]
  },
  {
   "cell_type": "code",
   "execution_count": 1021,
   "metadata": {},
   "outputs": [
    {
     "data": {
      "text/plain": [
       "328728.72060451825"
      ]
     },
     "metadata": {},
     "output_type": "display_data"
    },
    {
     "data": {
      "text/plain": [
       "401755.40047533"
      ]
     },
     "execution_count": 1021,
     "metadata": {},
     "output_type": "execute_result"
    }
   ],
   "source": [
    "# выведем на экран максимальное и минимальное значение стажа для пенсионеров в днях\n",
    "display(data_bank_clients[data_bank_clients['income_type'] == 'пенсионер']['days_employed'].min())\n",
    "data_bank_clients[data_bank_clients['income_type'] == 'пенсионер']['days_employed'].max()"
   ]
  },
  {
   "cell_type": "markdown",
   "metadata": {},
   "source": [
    "Можно предположить, что данные по стажу для пенсионеров записаны не в днях, а в часах. Проверим эту гипотезу и разделим средний стаж пенсионера на 24 часа."
   ]
  },
  {
   "cell_type": "code",
   "execution_count": 1022,
   "metadata": {},
   "outputs": [
    {
     "name": "stdout",
     "output_type": "stream",
     "text": [
      "Средний стаж пенсионера теперь -  41 год\n"
     ]
    }
   ],
   "source": [
    "# выведем на экран средний трудовой стаж исходя из гипотезы что он записан в часах\n",
    "print('Средний стаж пенсионера теперь - ',int(days_employed_mean[4] / 365 / 24), 'год')"
   ]
  },
  {
   "cell_type": "markdown",
   "metadata": {},
   "source": [
    "Это уже ближе к истине! Переведем значения из формата часов в дни в исходном датафрейме."
   ]
  },
  {
   "cell_type": "code",
   "execution_count": 1023,
   "metadata": {},
   "outputs": [
    {
     "data": {
      "text/plain": [
       "income_type\n",
       "безработный        366413.652744\n",
       "в декрете           -3296.759962\n",
       "госслужащий         -3399.896902\n",
       "компаньон           -2111.524398\n",
       "пенсионер           15208.478802\n",
       "предприниматель      -520.848083\n",
       "сотрудник           -2326.499216\n",
       "студент              -578.751554\n",
       "Name: days_employed, dtype: float64"
      ]
     },
     "execution_count": 1023,
     "metadata": {},
     "output_type": "execute_result"
    }
   ],
   "source": [
    "# разделить значения в столбце 'days_employed' на 24 \n",
    "data_bank_clients.loc[data_bank_clients['income_type'] == 'пенсионер', 'days_employed'] /= 24\n",
    "\n",
    "# проверим результат - выведем среднее значение трудового стажа по професссиям\n",
    "data_bank_clients.groupby(by=['income_type'])['days_employed'].mean()"
   ]
  },
  {
   "cell_type": "code",
   "execution_count": 1024,
   "metadata": {},
   "outputs": [
    {
     "data": {
      "text/html": [
       "<div>\n",
       "<style scoped>\n",
       "    .dataframe tbody tr th:only-of-type {\n",
       "        vertical-align: middle;\n",
       "    }\n",
       "\n",
       "    .dataframe tbody tr th {\n",
       "        vertical-align: top;\n",
       "    }\n",
       "\n",
       "    .dataframe thead th {\n",
       "        text-align: right;\n",
       "    }\n",
       "</style>\n",
       "<table border=\"1\" class=\"dataframe\">\n",
       "  <thead>\n",
       "    <tr style=\"text-align: right;\">\n",
       "      <th></th>\n",
       "      <th>children</th>\n",
       "      <th>days_employed</th>\n",
       "      <th>dob_years</th>\n",
       "      <th>education</th>\n",
       "      <th>education_id</th>\n",
       "      <th>family_status</th>\n",
       "      <th>family_status_id</th>\n",
       "      <th>gender</th>\n",
       "      <th>income_type</th>\n",
       "      <th>debt</th>\n",
       "      <th>total_income</th>\n",
       "      <th>purpose</th>\n",
       "    </tr>\n",
       "  </thead>\n",
       "  <tbody>\n",
       "    <tr>\n",
       "      <td>99</td>\n",
       "      <td>0</td>\n",
       "      <td>14439.234121</td>\n",
       "      <td>0</td>\n",
       "      <td>среднее</td>\n",
       "      <td>1</td>\n",
       "      <td>женат / замужем</td>\n",
       "      <td>0</td>\n",
       "      <td>F</td>\n",
       "      <td>пенсионер</td>\n",
       "      <td>0</td>\n",
       "      <td>71291.522491</td>\n",
       "      <td>автомобиль</td>\n",
       "    </tr>\n",
       "    <tr>\n",
       "      <td>157</td>\n",
       "      <td>0</td>\n",
       "      <td>14517.251167</td>\n",
       "      <td>38</td>\n",
       "      <td>среднее</td>\n",
       "      <td>1</td>\n",
       "      <td>женат / замужем</td>\n",
       "      <td>0</td>\n",
       "      <td>F</td>\n",
       "      <td>пенсионер</td>\n",
       "      <td>1</td>\n",
       "      <td>113560.650035</td>\n",
       "      <td>сделка с автомобилем</td>\n",
       "    </tr>\n",
       "    <tr>\n",
       "      <td>578</td>\n",
       "      <td>0</td>\n",
       "      <td>16577.356876</td>\n",
       "      <td>0</td>\n",
       "      <td>среднее</td>\n",
       "      <td>1</td>\n",
       "      <td>женат / замужем</td>\n",
       "      <td>0</td>\n",
       "      <td>F</td>\n",
       "      <td>пенсионер</td>\n",
       "      <td>0</td>\n",
       "      <td>97620.687042</td>\n",
       "      <td>строительство собственной недвижимости</td>\n",
       "    </tr>\n",
       "    <tr>\n",
       "      <td>751</td>\n",
       "      <td>0</td>\n",
       "      <td>16281.477669</td>\n",
       "      <td>41</td>\n",
       "      <td>среднее</td>\n",
       "      <td>1</td>\n",
       "      <td>женат / замужем</td>\n",
       "      <td>0</td>\n",
       "      <td>M</td>\n",
       "      <td>пенсионер</td>\n",
       "      <td>0</td>\n",
       "      <td>151898.693438</td>\n",
       "      <td>операции со своей недвижимостью</td>\n",
       "    </tr>\n",
       "    <tr>\n",
       "      <td>776</td>\n",
       "      <td>0</td>\n",
       "      <td>15222.356680</td>\n",
       "      <td>38</td>\n",
       "      <td>среднее</td>\n",
       "      <td>1</td>\n",
       "      <td>женат / замужем</td>\n",
       "      <td>0</td>\n",
       "      <td>F</td>\n",
       "      <td>пенсионер</td>\n",
       "      <td>0</td>\n",
       "      <td>73859.425084</td>\n",
       "      <td>покупка недвижимости</td>\n",
       "    </tr>\n",
       "    <tr>\n",
       "      <td>...</td>\n",
       "      <td>...</td>\n",
       "      <td>...</td>\n",
       "      <td>...</td>\n",
       "      <td>...</td>\n",
       "      <td>...</td>\n",
       "      <td>...</td>\n",
       "      <td>...</td>\n",
       "      <td>...</td>\n",
       "      <td>...</td>\n",
       "      <td>...</td>\n",
       "      <td>...</td>\n",
       "      <td>...</td>\n",
       "    </tr>\n",
       "    <tr>\n",
       "      <td>20271</td>\n",
       "      <td>0</td>\n",
       "      <td>15993.010180</td>\n",
       "      <td>37</td>\n",
       "      <td>высшее</td>\n",
       "      <td>0</td>\n",
       "      <td>женат / замужем</td>\n",
       "      <td>0</td>\n",
       "      <td>F</td>\n",
       "      <td>пенсионер</td>\n",
       "      <td>0</td>\n",
       "      <td>188236.765814</td>\n",
       "      <td>на покупку автомобиля</td>\n",
       "    </tr>\n",
       "    <tr>\n",
       "      <td>20462</td>\n",
       "      <td>0</td>\n",
       "      <td>14113.952856</td>\n",
       "      <td>0</td>\n",
       "      <td>среднее</td>\n",
       "      <td>1</td>\n",
       "      <td>женат / замужем</td>\n",
       "      <td>0</td>\n",
       "      <td>F</td>\n",
       "      <td>пенсионер</td>\n",
       "      <td>0</td>\n",
       "      <td>259193.920299</td>\n",
       "      <td>покупка своего жилья</td>\n",
       "    </tr>\n",
       "    <tr>\n",
       "      <td>20560</td>\n",
       "      <td>0</td>\n",
       "      <td>13891.416702</td>\n",
       "      <td>33</td>\n",
       "      <td>среднее</td>\n",
       "      <td>1</td>\n",
       "      <td>женат / замужем</td>\n",
       "      <td>0</td>\n",
       "      <td>M</td>\n",
       "      <td>пенсионер</td>\n",
       "      <td>0</td>\n",
       "      <td>163411.879628</td>\n",
       "      <td>образование</td>\n",
       "    </tr>\n",
       "    <tr>\n",
       "      <td>20577</td>\n",
       "      <td>0</td>\n",
       "      <td>13822.552977</td>\n",
       "      <td>0</td>\n",
       "      <td>среднее</td>\n",
       "      <td>1</td>\n",
       "      <td>не женат / не замужем</td>\n",
       "      <td>4</td>\n",
       "      <td>F</td>\n",
       "      <td>пенсионер</td>\n",
       "      <td>0</td>\n",
       "      <td>129788.762899</td>\n",
       "      <td>недвижимость</td>\n",
       "    </tr>\n",
       "    <tr>\n",
       "      <td>20829</td>\n",
       "      <td>1</td>\n",
       "      <td>16591.942999</td>\n",
       "      <td>40</td>\n",
       "      <td>среднее</td>\n",
       "      <td>1</td>\n",
       "      <td>женат / замужем</td>\n",
       "      <td>0</td>\n",
       "      <td>F</td>\n",
       "      <td>пенсионер</td>\n",
       "      <td>0</td>\n",
       "      <td>39107.907534</td>\n",
       "      <td>получение образования</td>\n",
       "    </tr>\n",
       "  </tbody>\n",
       "</table>\n",
       "<p>71 rows × 12 columns</p>\n",
       "</div>"
      ],
      "text/plain": [
       "       children  days_employed  dob_years education  education_id  \\\n",
       "99            0   14439.234121          0   среднее             1   \n",
       "157           0   14517.251167         38   среднее             1   \n",
       "578           0   16577.356876          0   среднее             1   \n",
       "751           0   16281.477669         41   среднее             1   \n",
       "776           0   15222.356680         38   среднее             1   \n",
       "...         ...            ...        ...       ...           ...   \n",
       "20271         0   15993.010180         37    высшее             0   \n",
       "20462         0   14113.952856          0   среднее             1   \n",
       "20560         0   13891.416702         33   среднее             1   \n",
       "20577         0   13822.552977          0   среднее             1   \n",
       "20829         1   16591.942999         40   среднее             1   \n",
       "\n",
       "               family_status  family_status_id gender income_type  debt  \\\n",
       "99           женат / замужем                 0      F   пенсионер     0   \n",
       "157          женат / замужем                 0      F   пенсионер     1   \n",
       "578          женат / замужем                 0      F   пенсионер     0   \n",
       "751          женат / замужем                 0      M   пенсионер     0   \n",
       "776          женат / замужем                 0      F   пенсионер     0   \n",
       "...                      ...               ...    ...         ...   ...   \n",
       "20271        женат / замужем                 0      F   пенсионер     0   \n",
       "20462        женат / замужем                 0      F   пенсионер     0   \n",
       "20560        женат / замужем                 0      M   пенсионер     0   \n",
       "20577  не женат / не замужем                 4      F   пенсионер     0   \n",
       "20829        женат / замужем                 0      F   пенсионер     0   \n",
       "\n",
       "        total_income                                 purpose  \n",
       "99      71291.522491                              автомобиль  \n",
       "157    113560.650035                    сделка с автомобилем  \n",
       "578     97620.687042  строительство собственной недвижимости  \n",
       "751    151898.693438         операции со своей недвижимостью  \n",
       "776     73859.425084                    покупка недвижимости  \n",
       "...              ...                                     ...  \n",
       "20271  188236.765814                   на покупку автомобиля  \n",
       "20462  259193.920299                    покупка своего жилья  \n",
       "20560  163411.879628                             образование  \n",
       "20577  129788.762899                            недвижимость  \n",
       "20829   39107.907534                   получение образования  \n",
       "\n",
       "[71 rows x 12 columns]"
      ]
     },
     "execution_count": 1024,
     "metadata": {},
     "output_type": "execute_result"
    }
   ],
   "source": [
    "# проверим, нет ли данных, в которых трудовой стаж будет превышать трудовой возраст (трудовой восраст от 18 лет)\n",
    "data_bank_clients.query('income_type = пенсионер' and '(days_employed / 365) > dob_years')"
   ]
  },
  {
   "cell_type": "markdown",
   "metadata": {},
   "source": [
    "Имеются данные, где трудовой стаж превышает возраст. Таких строк - 71.  \n",
    "- В них присутствуют пенсионеры с отсутствующим возрастом (0) и пенсионеры от 22 лет. Касательно возраста, возможно, что человек вышел на пенсию раньше, например военный. Или пенсия была выдана по инвалидности. Вариантов много.  \n",
    "- Стаж не должен превышать возраст человека. Возможно, в стаж попадают значения возраста клиента в днях или здесь возраст клиента указан неверно. До уточнения этих данных оставим значения как есть."
   ]
  },
  {
   "cell_type": "markdown",
   "metadata": {},
   "source": [
    "***Рассмотрим даннные о безработных***"
   ]
  },
  {
   "cell_type": "code",
   "execution_count": 1025,
   "metadata": {},
   "outputs": [
    {
     "name": "stdout",
     "output_type": "stream",
     "text": [
      "[31, 45]\n"
     ]
    },
    {
     "data": {
      "text/plain": [
       "3133     38.530190\n",
       "14798    45.125895\n",
       "Name: days_employed, dtype: float64"
      ]
     },
     "execution_count": 1025,
     "metadata": {},
     "output_type": "execute_result"
    }
   ],
   "source": [
    "data_jobless = data_bank_clients[data_bank_clients['income_type'] == 'безработный']\n",
    "\n",
    "# выводим уникальные значения возраста для безработных\n",
    "print(sorted(data_jobless['dob_years'].unique()))\n",
    "\n",
    "# проверим гипотезу, что значения записаны в часах.\n",
    "data_jobless['days_employed'] / 365 / 24"
   ]
  },
  {
   "cell_type": "markdown",
   "metadata": {},
   "source": [
    "В таком случае, стаж в одном случае больше возраста заемщика, в другом случае равен возрасту заемщика. Возможно, данные были записаны с ошибкой в плавающей точке."
   ]
  },
  {
   "cell_type": "code",
   "execution_count": 1026,
   "metadata": {},
   "outputs": [
    {
     "data": {
      "text/plain": [
       "3133      9.247246\n",
       "14798    10.830215\n",
       "Name: days_employed, dtype: float64"
      ]
     },
     "execution_count": 1026,
     "metadata": {},
     "output_type": "execute_result"
    }
   ],
   "source": [
    "data_jobless['days_employed'] / 365 / 100"
   ]
  },
  {
   "cell_type": "markdown",
   "metadata": {},
   "source": [
    "При делении на коэффициент 100 трудовой стаж в 9 и 10 лет становится более вероятным. Возможно эти 2 человека не работают временно или работают не официально."
   ]
  },
  {
   "cell_type": "code",
   "execution_count": 1027,
   "metadata": {},
   "outputs": [
    {
     "data": {
      "text/html": [
       "<div>\n",
       "<style scoped>\n",
       "    .dataframe tbody tr th:only-of-type {\n",
       "        vertical-align: middle;\n",
       "    }\n",
       "\n",
       "    .dataframe tbody tr th {\n",
       "        vertical-align: top;\n",
       "    }\n",
       "\n",
       "    .dataframe thead th {\n",
       "        text-align: right;\n",
       "    }\n",
       "</style>\n",
       "<table border=\"1\" class=\"dataframe\">\n",
       "  <thead>\n",
       "    <tr style=\"text-align: right;\">\n",
       "      <th></th>\n",
       "      <th>children</th>\n",
       "      <th>days_employed</th>\n",
       "      <th>dob_years</th>\n",
       "      <th>education</th>\n",
       "      <th>education_id</th>\n",
       "      <th>family_status</th>\n",
       "      <th>family_status_id</th>\n",
       "      <th>gender</th>\n",
       "      <th>income_type</th>\n",
       "      <th>debt</th>\n",
       "      <th>total_income</th>\n",
       "      <th>purpose</th>\n",
       "    </tr>\n",
       "  </thead>\n",
       "  <tbody>\n",
       "    <tr>\n",
       "      <td>3133</td>\n",
       "      <td>1</td>\n",
       "      <td>3375.244668</td>\n",
       "      <td>31</td>\n",
       "      <td>среднее</td>\n",
       "      <td>1</td>\n",
       "      <td>женат / замужем</td>\n",
       "      <td>0</td>\n",
       "      <td>M</td>\n",
       "      <td>безработный</td>\n",
       "      <td>1</td>\n",
       "      <td>59956.991984</td>\n",
       "      <td>покупка жилья для сдачи</td>\n",
       "    </tr>\n",
       "    <tr>\n",
       "      <td>14798</td>\n",
       "      <td>0</td>\n",
       "      <td>3953.028387</td>\n",
       "      <td>45</td>\n",
       "      <td>высшее</td>\n",
       "      <td>0</td>\n",
       "      <td>гражданский брак</td>\n",
       "      <td>1</td>\n",
       "      <td>F</td>\n",
       "      <td>безработный</td>\n",
       "      <td>0</td>\n",
       "      <td>202722.511368</td>\n",
       "      <td>ремонт жилью</td>\n",
       "    </tr>\n",
       "  </tbody>\n",
       "</table>\n",
       "</div>"
      ],
      "text/plain": [
       "       children  days_employed  dob_years education  education_id  \\\n",
       "3133          1    3375.244668         31   среднее             1   \n",
       "14798         0    3953.028387         45    высшее             0   \n",
       "\n",
       "          family_status  family_status_id gender  income_type  debt  \\\n",
       "3133    женат / замужем                 0      M  безработный     1   \n",
       "14798  гражданский брак                 1      F  безработный     0   \n",
       "\n",
       "        total_income                  purpose  \n",
       "3133    59956.991984  покупка жилья для сдачи  \n",
       "14798  202722.511368             ремонт жилью  "
      ]
     },
     "execution_count": 1027,
     "metadata": {},
     "output_type": "execute_result"
    }
   ],
   "source": [
    "# приведем трудовой стаж безработных к реальному значению\n",
    "data_bank_clients.loc[data_bank_clients['income_type'] == 'безработный', 'days_employed'] /= 100\n",
    "data_bank_clients[data_bank_clients['income_type'] == 'безработный']"
   ]
  },
  {
   "cell_type": "markdown",
   "metadata": {},
   "source": [
    "**Отрицательные значения в столбце 'days_employed'**"
   ]
  },
  {
   "cell_type": "code",
   "execution_count": 1028,
   "metadata": {},
   "outputs": [
    {
     "data": {
      "text/plain": [
       "-6.446618991777744"
      ]
     },
     "execution_count": 1028,
     "metadata": {},
     "output_type": "execute_result"
    }
   ],
   "source": [
    "# выведем на экран среднее значения по отрицательному стажу работников\n",
    "# разделим среднее на 365 чтобы результат получился в годах для наглядности\n",
    "data_bank_clients[data_bank_clients['days_employed'] < 0]['days_employed'].mean() / 365"
   ]
  },
  {
   "cell_type": "markdown",
   "metadata": {},
   "source": [
    "Средний стаж всех категорий работников с отрицательным значением равен 6 годам. Из этого, можно сделать вывод, что стаж работающих клиентов записывается в отрицательном значении.  \n",
    "Судя по тому, что стаж заещика записан в днях, возможно, подсчет ведется автоматически из даты начала трудового стажа и текущей даты(или окончания) и даты либо были сразу указаны в обратном порядке или вычитается дата окончания из даты начала."
   ]
  },
  {
   "cell_type": "code",
   "execution_count": 1029,
   "metadata": {},
   "outputs": [],
   "source": [
    "# заменим отрицательные значения на положительные\n",
    "data_bank_clients.loc[data_bank_clients['days_employed'] < 0, 'days_employed'] = abs(data_bank_clients['days_employed'])"
   ]
  },
  {
   "cell_type": "code",
   "execution_count": 1030,
   "metadata": {},
   "outputs": [
    {
     "data": {
      "text/plain": [
       "income_type\n",
       "безработный         3664.136527\n",
       "в декрете           3296.759962\n",
       "госслужащий         3399.896902\n",
       "компаньон           2111.524398\n",
       "пенсионер          15208.478802\n",
       "предприниматель      520.848083\n",
       "сотрудник           2326.499216\n",
       "студент              578.751554\n",
       "Name: days_employed, dtype: float64"
      ]
     },
     "execution_count": 1030,
     "metadata": {},
     "output_type": "execute_result"
    }
   ],
   "source": [
    "# проверим как изменился средний стаж по группам работников\n",
    "data_bank_clients.groupby(by=['income_type'])['days_employed'].mean()"
   ]
  },
  {
   "cell_type": "markdown",
   "metadata": {},
   "source": [
    "За счет того, что в выборке имеется только 2 безработных клиента, их средний общий трудовой стаж выглядит не маленьким."
   ]
  },
  {
   "cell_type": "markdown",
   "metadata": {},
   "source": [
    "**Вывод**\n",
    "\n",
    "До уточнения данных по столбцу 'days_employed' отрицательные значения переведены в положительные, а стаж в 1000+ лет переведен с коэффициентом на более реальный."
   ]
  },
  {
   "cell_type": "markdown",
   "metadata": {},
   "source": [
    " #### Обзор и поиск возможных ошибок в столбце 'children'"
   ]
  },
  {
   "cell_type": "code",
   "execution_count": 1031,
   "metadata": {},
   "outputs": [
    {
     "data": {
      "text/plain": [
       "count    21525.000000\n",
       "mean         0.538908\n",
       "std          1.381587\n",
       "min         -1.000000\n",
       "25%          0.000000\n",
       "50%          0.000000\n",
       "75%          1.000000\n",
       "max         20.000000\n",
       "Name: children, dtype: float64"
      ]
     },
     "execution_count": 1031,
     "metadata": {},
     "output_type": "execute_result"
    }
   ],
   "source": [
    "data_bank_clients['children'].describe()"
   ]
  },
  {
   "cell_type": "markdown",
   "metadata": {},
   "source": [
    "Рассмотрим два сомнительных значения в столбце 'children':\n",
    "- Отрицательное количество детей.\n",
    "- Максимальное количество детей - 20."
   ]
  },
  {
   "cell_type": "code",
   "execution_count": 1032,
   "metadata": {},
   "outputs": [
    {
     "data": {
      "text/plain": [
       " 0     14149\n",
       " 1      4818\n",
       " 2      2055\n",
       " 3       330\n",
       " 20       76\n",
       "-1        47\n",
       " 4        41\n",
       " 5         9\n",
       "Name: children, dtype: int64"
      ]
     },
     "execution_count": 1032,
     "metadata": {},
     "output_type": "execute_result"
    }
   ],
   "source": [
    "# посмотрим сколько строк с отрицательным значением и значением 20\n",
    "data_bank_clients['children'].value_counts()"
   ]
  },
  {
   "cell_type": "markdown",
   "metadata": {},
   "source": [
    "Имеется 47 клиентов банка с -1 ребенком и 76 клиентов с 20 детьми. Что выглядит в первом случае нереальным, а во втором - крайне маловероятным.\n"
   ]
  },
  {
   "cell_type": "code",
   "execution_count": 1033,
   "metadata": {},
   "outputs": [
    {
     "data": {
      "text/html": [
       "<div>\n",
       "<style scoped>\n",
       "    .dataframe tbody tr th:only-of-type {\n",
       "        vertical-align: middle;\n",
       "    }\n",
       "\n",
       "    .dataframe tbody tr th {\n",
       "        vertical-align: top;\n",
       "    }\n",
       "\n",
       "    .dataframe thead th {\n",
       "        text-align: right;\n",
       "    }\n",
       "</style>\n",
       "<table border=\"1\" class=\"dataframe\">\n",
       "  <thead>\n",
       "    <tr style=\"text-align: right;\">\n",
       "      <th></th>\n",
       "      <th>children</th>\n",
       "      <th>days_employed</th>\n",
       "      <th>dob_years</th>\n",
       "      <th>education</th>\n",
       "      <th>education_id</th>\n",
       "      <th>family_status</th>\n",
       "      <th>family_status_id</th>\n",
       "      <th>gender</th>\n",
       "      <th>income_type</th>\n",
       "      <th>debt</th>\n",
       "      <th>total_income</th>\n",
       "      <th>purpose</th>\n",
       "    </tr>\n",
       "  </thead>\n",
       "  <tbody>\n",
       "    <tr>\n",
       "      <td>606</td>\n",
       "      <td>20</td>\n",
       "      <td>880.221113</td>\n",
       "      <td>21</td>\n",
       "      <td>среднее</td>\n",
       "      <td>1</td>\n",
       "      <td>женат / замужем</td>\n",
       "      <td>0</td>\n",
       "      <td>M</td>\n",
       "      <td>компаньон</td>\n",
       "      <td>0</td>\n",
       "      <td>145334.865002</td>\n",
       "      <td>покупка жилья</td>\n",
       "    </tr>\n",
       "    <tr>\n",
       "      <td>720</td>\n",
       "      <td>20</td>\n",
       "      <td>855.595512</td>\n",
       "      <td>44</td>\n",
       "      <td>среднее</td>\n",
       "      <td>1</td>\n",
       "      <td>женат / замужем</td>\n",
       "      <td>0</td>\n",
       "      <td>F</td>\n",
       "      <td>компаньон</td>\n",
       "      <td>0</td>\n",
       "      <td>112998.738649</td>\n",
       "      <td>покупка недвижимости</td>\n",
       "    </tr>\n",
       "    <tr>\n",
       "      <td>1074</td>\n",
       "      <td>20</td>\n",
       "      <td>3310.411598</td>\n",
       "      <td>56</td>\n",
       "      <td>среднее</td>\n",
       "      <td>1</td>\n",
       "      <td>женат / замужем</td>\n",
       "      <td>0</td>\n",
       "      <td>F</td>\n",
       "      <td>сотрудник</td>\n",
       "      <td>1</td>\n",
       "      <td>229518.537004</td>\n",
       "      <td>получение образования</td>\n",
       "    </tr>\n",
       "    <tr>\n",
       "      <td>2510</td>\n",
       "      <td>20</td>\n",
       "      <td>2714.161249</td>\n",
       "      <td>59</td>\n",
       "      <td>высшее</td>\n",
       "      <td>0</td>\n",
       "      <td>вдовец / вдова</td>\n",
       "      <td>2</td>\n",
       "      <td>F</td>\n",
       "      <td>сотрудник</td>\n",
       "      <td>0</td>\n",
       "      <td>264474.835577</td>\n",
       "      <td>операции с коммерческой недвижимостью</td>\n",
       "    </tr>\n",
       "    <tr>\n",
       "      <td>2941</td>\n",
       "      <td>20</td>\n",
       "      <td>2161.591519</td>\n",
       "      <td>0</td>\n",
       "      <td>среднее</td>\n",
       "      <td>1</td>\n",
       "      <td>женат / замужем</td>\n",
       "      <td>0</td>\n",
       "      <td>F</td>\n",
       "      <td>сотрудник</td>\n",
       "      <td>0</td>\n",
       "      <td>199739.941398</td>\n",
       "      <td>на покупку автомобиля</td>\n",
       "    </tr>\n",
       "    <tr>\n",
       "      <td>3302</td>\n",
       "      <td>20</td>\n",
       "      <td>NaN</td>\n",
       "      <td>35</td>\n",
       "      <td>среднее</td>\n",
       "      <td>1</td>\n",
       "      <td>не женат / не замужем</td>\n",
       "      <td>4</td>\n",
       "      <td>F</td>\n",
       "      <td>госслужащий</td>\n",
       "      <td>0</td>\n",
       "      <td>NaN</td>\n",
       "      <td>профильное образование</td>\n",
       "    </tr>\n",
       "    <tr>\n",
       "      <td>3396</td>\n",
       "      <td>20</td>\n",
       "      <td>NaN</td>\n",
       "      <td>56</td>\n",
       "      <td>высшее</td>\n",
       "      <td>0</td>\n",
       "      <td>женат / замужем</td>\n",
       "      <td>0</td>\n",
       "      <td>F</td>\n",
       "      <td>компаньон</td>\n",
       "      <td>0</td>\n",
       "      <td>NaN</td>\n",
       "      <td>высшее образование</td>\n",
       "    </tr>\n",
       "    <tr>\n",
       "      <td>3671</td>\n",
       "      <td>20</td>\n",
       "      <td>913.161503</td>\n",
       "      <td>23</td>\n",
       "      <td>среднее</td>\n",
       "      <td>1</td>\n",
       "      <td>не женат / не замужем</td>\n",
       "      <td>4</td>\n",
       "      <td>F</td>\n",
       "      <td>сотрудник</td>\n",
       "      <td>0</td>\n",
       "      <td>101255.492076</td>\n",
       "      <td>на покупку подержанного автомобиля</td>\n",
       "    </tr>\n",
       "    <tr>\n",
       "      <td>3697</td>\n",
       "      <td>20</td>\n",
       "      <td>2907.910616</td>\n",
       "      <td>40</td>\n",
       "      <td>среднее</td>\n",
       "      <td>1</td>\n",
       "      <td>гражданский брак</td>\n",
       "      <td>1</td>\n",
       "      <td>M</td>\n",
       "      <td>сотрудник</td>\n",
       "      <td>0</td>\n",
       "      <td>115380.694664</td>\n",
       "      <td>на покупку подержанного автомобиля</td>\n",
       "    </tr>\n",
       "    <tr>\n",
       "      <td>3735</td>\n",
       "      <td>20</td>\n",
       "      <td>805.044438</td>\n",
       "      <td>26</td>\n",
       "      <td>высшее</td>\n",
       "      <td>0</td>\n",
       "      <td>не женат / не замужем</td>\n",
       "      <td>4</td>\n",
       "      <td>M</td>\n",
       "      <td>сотрудник</td>\n",
       "      <td>0</td>\n",
       "      <td>137200.646181</td>\n",
       "      <td>ремонт жилью</td>\n",
       "    </tr>\n",
       "  </tbody>\n",
       "</table>\n",
       "</div>"
      ],
      "text/plain": [
       "      children  days_employed  dob_years education  education_id  \\\n",
       "606         20     880.221113         21   среднее             1   \n",
       "720         20     855.595512         44   среднее             1   \n",
       "1074        20    3310.411598         56   среднее             1   \n",
       "2510        20    2714.161249         59    высшее             0   \n",
       "2941        20    2161.591519          0   среднее             1   \n",
       "3302        20            NaN         35   среднее             1   \n",
       "3396        20            NaN         56    высшее             0   \n",
       "3671        20     913.161503         23   среднее             1   \n",
       "3697        20    2907.910616         40   среднее             1   \n",
       "3735        20     805.044438         26    высшее             0   \n",
       "\n",
       "              family_status  family_status_id gender  income_type  debt  \\\n",
       "606         женат / замужем                 0      M    компаньон     0   \n",
       "720         женат / замужем                 0      F    компаньон     0   \n",
       "1074        женат / замужем                 0      F    сотрудник     1   \n",
       "2510         вдовец / вдова                 2      F    сотрудник     0   \n",
       "2941        женат / замужем                 0      F    сотрудник     0   \n",
       "3302  не женат / не замужем                 4      F  госслужащий     0   \n",
       "3396        женат / замужем                 0      F    компаньон     0   \n",
       "3671  не женат / не замужем                 4      F    сотрудник     0   \n",
       "3697       гражданский брак                 1      M    сотрудник     0   \n",
       "3735  не женат / не замужем                 4      M    сотрудник     0   \n",
       "\n",
       "       total_income                                purpose  \n",
       "606   145334.865002                          покупка жилья  \n",
       "720   112998.738649                   покупка недвижимости  \n",
       "1074  229518.537004                  получение образования  \n",
       "2510  264474.835577  операции с коммерческой недвижимостью  \n",
       "2941  199739.941398                  на покупку автомобиля  \n",
       "3302            NaN                 профильное образование  \n",
       "3396            NaN                     высшее образование  \n",
       "3671  101255.492076     на покупку подержанного автомобиля  \n",
       "3697  115380.694664     на покупку подержанного автомобиля  \n",
       "3735  137200.646181                           ремонт жилью  "
      ]
     },
     "execution_count": 1033,
     "metadata": {},
     "output_type": "execute_result"
    }
   ],
   "source": [
    "# ознакомимся с данными о клиентах с 20 детьми\n",
    "data_bank_clients[data_bank_clients['children'] == 20].head(10)"
   ]
  },
  {
   "cell_type": "code",
   "execution_count": 1034,
   "metadata": {},
   "outputs": [
    {
     "data": {
      "text/html": [
       "<div>\n",
       "<style scoped>\n",
       "    .dataframe tbody tr th:only-of-type {\n",
       "        vertical-align: middle;\n",
       "    }\n",
       "\n",
       "    .dataframe tbody tr th {\n",
       "        vertical-align: top;\n",
       "    }\n",
       "\n",
       "    .dataframe thead th {\n",
       "        text-align: right;\n",
       "    }\n",
       "</style>\n",
       "<table border=\"1\" class=\"dataframe\">\n",
       "  <thead>\n",
       "    <tr style=\"text-align: right;\">\n",
       "      <th></th>\n",
       "      <th>children</th>\n",
       "      <th>days_employed</th>\n",
       "      <th>dob_years</th>\n",
       "      <th>education</th>\n",
       "      <th>education_id</th>\n",
       "      <th>family_status</th>\n",
       "      <th>family_status_id</th>\n",
       "      <th>gender</th>\n",
       "      <th>income_type</th>\n",
       "      <th>debt</th>\n",
       "      <th>total_income</th>\n",
       "      <th>purpose</th>\n",
       "    </tr>\n",
       "  </thead>\n",
       "  <tbody>\n",
       "    <tr>\n",
       "      <td>291</td>\n",
       "      <td>-1</td>\n",
       "      <td>4417.703588</td>\n",
       "      <td>46</td>\n",
       "      <td>среднее</td>\n",
       "      <td>1</td>\n",
       "      <td>гражданский брак</td>\n",
       "      <td>1</td>\n",
       "      <td>F</td>\n",
       "      <td>сотрудник</td>\n",
       "      <td>0</td>\n",
       "      <td>102816.346412</td>\n",
       "      <td>профильное образование</td>\n",
       "    </tr>\n",
       "    <tr>\n",
       "      <td>705</td>\n",
       "      <td>-1</td>\n",
       "      <td>902.084528</td>\n",
       "      <td>50</td>\n",
       "      <td>среднее</td>\n",
       "      <td>1</td>\n",
       "      <td>женат / замужем</td>\n",
       "      <td>0</td>\n",
       "      <td>F</td>\n",
       "      <td>госслужащий</td>\n",
       "      <td>0</td>\n",
       "      <td>137882.899271</td>\n",
       "      <td>приобретение автомобиля</td>\n",
       "    </tr>\n",
       "    <tr>\n",
       "      <td>742</td>\n",
       "      <td>-1</td>\n",
       "      <td>3174.456205</td>\n",
       "      <td>57</td>\n",
       "      <td>среднее</td>\n",
       "      <td>1</td>\n",
       "      <td>женат / замужем</td>\n",
       "      <td>0</td>\n",
       "      <td>F</td>\n",
       "      <td>сотрудник</td>\n",
       "      <td>0</td>\n",
       "      <td>64268.044444</td>\n",
       "      <td>дополнительное образование</td>\n",
       "    </tr>\n",
       "    <tr>\n",
       "      <td>800</td>\n",
       "      <td>-1</td>\n",
       "      <td>14582.827176</td>\n",
       "      <td>54</td>\n",
       "      <td>среднее</td>\n",
       "      <td>1</td>\n",
       "      <td>не женат / не замужем</td>\n",
       "      <td>4</td>\n",
       "      <td>F</td>\n",
       "      <td>пенсионер</td>\n",
       "      <td>0</td>\n",
       "      <td>86293.724153</td>\n",
       "      <td>дополнительное образование</td>\n",
       "    </tr>\n",
       "    <tr>\n",
       "      <td>941</td>\n",
       "      <td>-1</td>\n",
       "      <td>NaN</td>\n",
       "      <td>57</td>\n",
       "      <td>среднее</td>\n",
       "      <td>1</td>\n",
       "      <td>женат / замужем</td>\n",
       "      <td>0</td>\n",
       "      <td>F</td>\n",
       "      <td>пенсионер</td>\n",
       "      <td>0</td>\n",
       "      <td>NaN</td>\n",
       "      <td>на покупку своего автомобиля</td>\n",
       "    </tr>\n",
       "    <tr>\n",
       "      <td>1363</td>\n",
       "      <td>-1</td>\n",
       "      <td>1195.264956</td>\n",
       "      <td>55</td>\n",
       "      <td>среднее</td>\n",
       "      <td>1</td>\n",
       "      <td>женат / замужем</td>\n",
       "      <td>0</td>\n",
       "      <td>F</td>\n",
       "      <td>компаньон</td>\n",
       "      <td>0</td>\n",
       "      <td>69550.699692</td>\n",
       "      <td>профильное образование</td>\n",
       "    </tr>\n",
       "    <tr>\n",
       "      <td>1929</td>\n",
       "      <td>-1</td>\n",
       "      <td>1461.303336</td>\n",
       "      <td>38</td>\n",
       "      <td>среднее</td>\n",
       "      <td>1</td>\n",
       "      <td>не женат / не замужем</td>\n",
       "      <td>4</td>\n",
       "      <td>M</td>\n",
       "      <td>сотрудник</td>\n",
       "      <td>0</td>\n",
       "      <td>109121.569013</td>\n",
       "      <td>покупка жилья</td>\n",
       "    </tr>\n",
       "    <tr>\n",
       "      <td>2073</td>\n",
       "      <td>-1</td>\n",
       "      <td>2539.761232</td>\n",
       "      <td>42</td>\n",
       "      <td>среднее</td>\n",
       "      <td>1</td>\n",
       "      <td>в разводе</td>\n",
       "      <td>3</td>\n",
       "      <td>F</td>\n",
       "      <td>компаньон</td>\n",
       "      <td>0</td>\n",
       "      <td>162638.609373</td>\n",
       "      <td>покупка жилья</td>\n",
       "    </tr>\n",
       "    <tr>\n",
       "      <td>3814</td>\n",
       "      <td>-1</td>\n",
       "      <td>3045.290443</td>\n",
       "      <td>26</td>\n",
       "      <td>среднее</td>\n",
       "      <td>1</td>\n",
       "      <td>гражданский брак</td>\n",
       "      <td>1</td>\n",
       "      <td>F</td>\n",
       "      <td>госслужащий</td>\n",
       "      <td>0</td>\n",
       "      <td>131892.785435</td>\n",
       "      <td>на проведение свадьбы</td>\n",
       "    </tr>\n",
       "    <tr>\n",
       "      <td>4201</td>\n",
       "      <td>-1</td>\n",
       "      <td>901.101738</td>\n",
       "      <td>41</td>\n",
       "      <td>среднее</td>\n",
       "      <td>1</td>\n",
       "      <td>женат / замужем</td>\n",
       "      <td>0</td>\n",
       "      <td>F</td>\n",
       "      <td>госслужащий</td>\n",
       "      <td>0</td>\n",
       "      <td>226375.766751</td>\n",
       "      <td>операции со своей недвижимостью</td>\n",
       "    </tr>\n",
       "  </tbody>\n",
       "</table>\n",
       "</div>"
      ],
      "text/plain": [
       "      children  days_employed  dob_years education  education_id  \\\n",
       "291         -1    4417.703588         46   среднее             1   \n",
       "705         -1     902.084528         50   среднее             1   \n",
       "742         -1    3174.456205         57   среднее             1   \n",
       "800         -1   14582.827176         54   среднее             1   \n",
       "941         -1            NaN         57   среднее             1   \n",
       "1363        -1    1195.264956         55   среднее             1   \n",
       "1929        -1    1461.303336         38   среднее             1   \n",
       "2073        -1    2539.761232         42   среднее             1   \n",
       "3814        -1    3045.290443         26   среднее             1   \n",
       "4201        -1     901.101738         41   среднее             1   \n",
       "\n",
       "              family_status  family_status_id gender  income_type  debt  \\\n",
       "291        гражданский брак                 1      F    сотрудник     0   \n",
       "705         женат / замужем                 0      F  госслужащий     0   \n",
       "742         женат / замужем                 0      F    сотрудник     0   \n",
       "800   не женат / не замужем                 4      F    пенсионер     0   \n",
       "941         женат / замужем                 0      F    пенсионер     0   \n",
       "1363        женат / замужем                 0      F    компаньон     0   \n",
       "1929  не женат / не замужем                 4      M    сотрудник     0   \n",
       "2073              в разводе                 3      F    компаньон     0   \n",
       "3814       гражданский брак                 1      F  госслужащий     0   \n",
       "4201        женат / замужем                 0      F  госслужащий     0   \n",
       "\n",
       "       total_income                          purpose  \n",
       "291   102816.346412           профильное образование  \n",
       "705   137882.899271          приобретение автомобиля  \n",
       "742    64268.044444       дополнительное образование  \n",
       "800    86293.724153       дополнительное образование  \n",
       "941             NaN     на покупку своего автомобиля  \n",
       "1363   69550.699692           профильное образование  \n",
       "1929  109121.569013                    покупка жилья  \n",
       "2073  162638.609373                    покупка жилья  \n",
       "3814  131892.785435            на проведение свадьбы  \n",
       "4201  226375.766751  операции со своей недвижимостью  "
      ]
     },
     "execution_count": 1034,
     "metadata": {},
     "output_type": "execute_result"
    }
   ],
   "source": [
    "# ознакомимся с данными о клиентах с -1 детьми\n",
    "data_bank_clients[data_bank_clients['children'] == -1].head(10)"
   ]
  },
  {
   "cell_type": "markdown",
   "metadata": {},
   "source": [
    "Проверим нет ли взаимосвязи появления отрицательных значений с другими значениями, выведем уникальные значения возраста, и образования"
   ]
  },
  {
   "cell_type": "code",
   "execution_count": 1035,
   "metadata": {},
   "outputs": [
    {
     "name": "stdout",
     "output_type": "stream",
     "text": [
      "[23, 26, 27, 28, 30, 31, 32, 33, 34, 35, 37, 38, 40, 41, 42, 43, 44, 46, 48, 50, 51, 53, 54, 55, 57, 59, 61, 63, 64, 69]\n",
      "['высшее', 'неоконченное высшее', 'среднее']\n"
     ]
    }
   ],
   "source": [
    "print(sorted(data_bank_clients[data_bank_clients['children'] == -1]['dob_years'].unique()))\n",
    "print(sorted(data_bank_clients[data_bank_clients['children'] == -1]['education'].unique()))"
   ]
  },
  {
   "cell_type": "markdown",
   "metadata": {},
   "source": [
    "Значение -1 попало к клиентам разного возраста от 23 до 69 лет и с разным образованием.  \n",
    "Посчитаем данные ошибочными и примем, что 20 - это 2 ребенка, а -1 это 1."
   ]
  },
  {
   "cell_type": "code",
   "execution_count": 1036,
   "metadata": {},
   "outputs": [],
   "source": [
    "# заменим ошибочные значения\n",
    "data_bank_clients['children'] = data_bank_clients['children'].replace(20, 2)\n",
    "data_bank_clients['children'] = data_bank_clients['children'].replace(-1, 1)"
   ]
  },
  {
   "cell_type": "code",
   "execution_count": 1037,
   "metadata": {},
   "outputs": [
    {
     "data": {
      "text/plain": [
       "array([1, 0, 3, 2, 4, 5])"
      ]
     },
     "execution_count": 1037,
     "metadata": {},
     "output_type": "execute_result"
    }
   ],
   "source": [
    "# проверим результат замены: выведем на экран уникальное количество детей\n",
    "data_bank_clients['children'].unique()"
   ]
  },
  {
   "cell_type": "markdown",
   "metadata": {},
   "source": [
    "**Вывод**\n",
    "\n",
    "Отрицательное количество детей заменено на положительное, а значения 20 заменены на 2."
   ]
  },
  {
   "cell_type": "markdown",
   "metadata": {},
   "source": [
    "#### Отсуствующий возраст клиента в столбце 'dob_years"
   ]
  },
  {
   "cell_type": "markdown",
   "metadata": {},
   "source": [
    "Рассмотрим подробнее все значения возраста клиентов."
   ]
  },
  {
   "cell_type": "code",
   "execution_count": 1038,
   "metadata": {},
   "outputs": [
    {
     "data": {
      "text/plain": [
       "count    21525.000000\n",
       "mean        43.293380\n",
       "std         12.574584\n",
       "min          0.000000\n",
       "25%         33.000000\n",
       "50%         42.000000\n",
       "75%         53.000000\n",
       "max         75.000000\n",
       "Name: dob_years, dtype: float64"
      ]
     },
     "execution_count": 1038,
     "metadata": {},
     "output_type": "execute_result"
    }
   ],
   "source": [
    "data_bank_clients['dob_years'].describe()"
   ]
  },
  {
   "cell_type": "markdown",
   "metadata": {},
   "source": [
    "Выведем в сводную таблицу значения возраста для каждой категории работников"
   ]
  },
  {
   "cell_type": "code",
   "execution_count": 1039,
   "metadata": {
    "scrolled": true
   },
   "outputs": [
    {
     "data": {
      "text/html": [
       "<div>\n",
       "<style scoped>\n",
       "    .dataframe tbody tr th:only-of-type {\n",
       "        vertical-align: middle;\n",
       "    }\n",
       "\n",
       "    .dataframe tbody tr th {\n",
       "        vertical-align: top;\n",
       "    }\n",
       "\n",
       "    .dataframe thead tr th {\n",
       "        text-align: left;\n",
       "    }\n",
       "</style>\n",
       "<table border=\"1\" class=\"dataframe\">\n",
       "  <thead>\n",
       "    <tr>\n",
       "      <th></th>\n",
       "      <th>income_type</th>\n",
       "      <th>count</th>\n",
       "      <th>min</th>\n",
       "      <th>max</th>\n",
       "      <th>mean</th>\n",
       "      <th>median</th>\n",
       "    </tr>\n",
       "    <tr>\n",
       "      <th></th>\n",
       "      <th></th>\n",
       "      <th>dob_years</th>\n",
       "      <th>dob_years</th>\n",
       "      <th>dob_years</th>\n",
       "      <th>dob_years</th>\n",
       "      <th>dob_years</th>\n",
       "    </tr>\n",
       "  </thead>\n",
       "  <tbody>\n",
       "    <tr>\n",
       "      <td>0</td>\n",
       "      <td>безработный</td>\n",
       "      <td>2</td>\n",
       "      <td>31</td>\n",
       "      <td>45</td>\n",
       "      <td>38.000000</td>\n",
       "      <td>38.0</td>\n",
       "    </tr>\n",
       "    <tr>\n",
       "      <td>1</td>\n",
       "      <td>в декрете</td>\n",
       "      <td>1</td>\n",
       "      <td>39</td>\n",
       "      <td>39</td>\n",
       "      <td>39.000000</td>\n",
       "      <td>39.0</td>\n",
       "    </tr>\n",
       "    <tr>\n",
       "      <td>2</td>\n",
       "      <td>госслужащий</td>\n",
       "      <td>1459</td>\n",
       "      <td>0</td>\n",
       "      <td>75</td>\n",
       "      <td>40.636737</td>\n",
       "      <td>40.0</td>\n",
       "    </tr>\n",
       "    <tr>\n",
       "      <td>3</td>\n",
       "      <td>компаньон</td>\n",
       "      <td>5085</td>\n",
       "      <td>0</td>\n",
       "      <td>74</td>\n",
       "      <td>39.697542</td>\n",
       "      <td>39.0</td>\n",
       "    </tr>\n",
       "    <tr>\n",
       "      <td>4</td>\n",
       "      <td>пенсионер</td>\n",
       "      <td>3856</td>\n",
       "      <td>0</td>\n",
       "      <td>74</td>\n",
       "      <td>59.063019</td>\n",
       "      <td>60.0</td>\n",
       "    </tr>\n",
       "    <tr>\n",
       "      <td>5</td>\n",
       "      <td>предприниматель</td>\n",
       "      <td>2</td>\n",
       "      <td>27</td>\n",
       "      <td>58</td>\n",
       "      <td>42.500000</td>\n",
       "      <td>42.5</td>\n",
       "    </tr>\n",
       "    <tr>\n",
       "      <td>6</td>\n",
       "      <td>сотрудник</td>\n",
       "      <td>11119</td>\n",
       "      <td>0</td>\n",
       "      <td>74</td>\n",
       "      <td>39.821027</td>\n",
       "      <td>39.0</td>\n",
       "    </tr>\n",
       "    <tr>\n",
       "      <td>7</td>\n",
       "      <td>студент</td>\n",
       "      <td>1</td>\n",
       "      <td>22</td>\n",
       "      <td>22</td>\n",
       "      <td>22.000000</td>\n",
       "      <td>22.0</td>\n",
       "    </tr>\n",
       "  </tbody>\n",
       "</table>\n",
       "</div>"
      ],
      "text/plain": [
       "       income_type     count       min       max       mean    median\n",
       "                   dob_years dob_years dob_years  dob_years dob_years\n",
       "0      безработный         2        31        45  38.000000      38.0\n",
       "1        в декрете         1        39        39  39.000000      39.0\n",
       "2      госслужащий      1459         0        75  40.636737      40.0\n",
       "3        компаньон      5085         0        74  39.697542      39.0\n",
       "4        пенсионер      3856         0        74  59.063019      60.0\n",
       "5  предприниматель         2        27        58  42.500000      42.5\n",
       "6        сотрудник     11119         0        74  39.821027      39.0\n",
       "7          студент         1        22        22  22.000000      22.0"
      ]
     },
     "execution_count": 1039,
     "metadata": {},
     "output_type": "execute_result"
    }
   ],
   "source": [
    "pivot_dbc = data_bank_clients.pivot_table(index=['income_type'], values='dob_years', aggfunc=['count', 'min', 'max', 'mean', 'median'])\n",
    "pivot_dbc.reset_index()"
   ]
  },
  {
   "cell_type": "markdown",
   "metadata": {},
   "source": [
    "Из таблицы видно, что минимальное значение возраста - 0 присутствует у госслужащих, пенсионеров, компаньонов и сотрудников.  \n",
    "Возможно произошла ошибка при выгрузке данных.  \n",
    "0 - значения возможно заполнить средним возратом по группам сотрудников.   \n",
    "\n",
    "Оценим сколько строк с 0 возрастом присуствуют в таблице"
   ]
  },
  {
   "cell_type": "code",
   "execution_count": 1040,
   "metadata": {},
   "outputs": [
    {
     "data": {
      "text/plain": [
       "101"
      ]
     },
     "execution_count": 1040,
     "metadata": {},
     "output_type": "execute_result"
    }
   ],
   "source": [
    "data_bank_clients[data_bank_clients['dob_years'] == 0]['dob_years'].count()"
   ]
  },
  {
   "cell_type": "markdown",
   "metadata": {},
   "source": [
    "Всего 101 строка с 0 значениями возраста из 25525 строк (~ 0,4 %).  \n",
    "То есть замена данных на среднее значение по категории повлияет на данные слабо, но для обработки будет проще без 0 значений.  \n",
    "\n",
    "Сохраним средние значения по типу занятости для тех категорий, у которых минимальный возраст равен 0 c округлением до полных лет в меньшую сторону"
   ]
  },
  {
   "cell_type": "code",
   "execution_count": 1041,
   "metadata": {},
   "outputs": [],
   "source": [
    "mean_age_state = int(pivot_dbc.loc['госслужащий']['mean'])\n",
    "mean_age_partner = int(pivot_dbc.loc['компаньон']['mean'])\n",
    "mean_age_pensioner = int(pivot_dbc.loc['пенсионер']['mean'])\n",
    "mean_age_employee = int(pivot_dbc.loc['сотрудник']['mean'])"
   ]
  },
  {
   "cell_type": "markdown",
   "metadata": {},
   "source": [
    "Сохраним в список категории клиентов для которых нужна замена 0-го возраста и среднее значение возраста для категории"
   ]
  },
  {
   "cell_type": "code",
   "execution_count": 1042,
   "metadata": {},
   "outputs": [],
   "source": [
    "age_null_type = ['госслужащий', 'компаньон', 'пенсионер', 'сотрудник']\n",
    "age_null_mean = [mean_age_state, mean_age_partner, mean_age_pensioner, mean_age_employee]                "
   ]
  },
  {
   "cell_type": "markdown",
   "metadata": {},
   "source": [
    "Заменим циклом значения возраста с 0 на среднее по категории типа занятости\n",
    "- замена только в строках с возрастом = 0, по значению категории"
   ]
  },
  {
   "cell_type": "code",
   "execution_count": 1043,
   "metadata": {},
   "outputs": [],
   "source": [
    "for i in range(len(age_null_type)):\n",
    "    data_bank_clients.loc[(data_bank_clients['dob_years'] == 0) & (data_bank_clients['income_type'] == age_null_type[i]),\n",
    "                          'dob_years'] = age_null_mean[i]"
   ]
  },
  {
   "cell_type": "markdown",
   "metadata": {},
   "source": [
    "Проверим остались ли категории работников со значением 0 в столбце возраст 'dob_years'"
   ]
  },
  {
   "cell_type": "code",
   "execution_count": 1044,
   "metadata": {},
   "outputs": [
    {
     "data": {
      "text/plain": [
       "array([], dtype=object)"
      ]
     },
     "execution_count": 1044,
     "metadata": {},
     "output_type": "execute_result"
    }
   ],
   "source": [
    "data_bank_clients[data_bank_clients['dob_years'] == 0]['income_type'].unique()"
   ]
  },
  {
   "cell_type": "code",
   "execution_count": 1045,
   "metadata": {
    "scrolled": true
   },
   "outputs": [
    {
     "data": {
      "text/html": [
       "<div>\n",
       "<style scoped>\n",
       "    .dataframe tbody tr th:only-of-type {\n",
       "        vertical-align: middle;\n",
       "    }\n",
       "\n",
       "    .dataframe tbody tr th {\n",
       "        vertical-align: top;\n",
       "    }\n",
       "\n",
       "    .dataframe thead tr th {\n",
       "        text-align: left;\n",
       "    }\n",
       "</style>\n",
       "<table border=\"1\" class=\"dataframe\">\n",
       "  <thead>\n",
       "    <tr>\n",
       "      <th></th>\n",
       "      <th>income_type</th>\n",
       "      <th>min</th>\n",
       "      <th>mean</th>\n",
       "    </tr>\n",
       "    <tr>\n",
       "      <th></th>\n",
       "      <th></th>\n",
       "      <th>dob_years</th>\n",
       "      <th>dob_years</th>\n",
       "    </tr>\n",
       "  </thead>\n",
       "  <tbody>\n",
       "    <tr>\n",
       "      <td>0</td>\n",
       "      <td>безработный</td>\n",
       "      <td>31</td>\n",
       "      <td>38.000000</td>\n",
       "    </tr>\n",
       "    <tr>\n",
       "      <td>1</td>\n",
       "      <td>в декрете</td>\n",
       "      <td>39</td>\n",
       "      <td>39.000000</td>\n",
       "    </tr>\n",
       "    <tr>\n",
       "      <td>2</td>\n",
       "      <td>госслужащий</td>\n",
       "      <td>19</td>\n",
       "      <td>40.801234</td>\n",
       "    </tr>\n",
       "    <tr>\n",
       "      <td>3</td>\n",
       "      <td>компаньон</td>\n",
       "      <td>19</td>\n",
       "      <td>39.850934</td>\n",
       "    </tr>\n",
       "    <tr>\n",
       "      <td>4</td>\n",
       "      <td>пенсионер</td>\n",
       "      <td>22</td>\n",
       "      <td>59.369035</td>\n",
       "    </tr>\n",
       "    <tr>\n",
       "      <td>5</td>\n",
       "      <td>предприниматель</td>\n",
       "      <td>27</td>\n",
       "      <td>42.500000</td>\n",
       "    </tr>\n",
       "    <tr>\n",
       "      <td>6</td>\n",
       "      <td>сотрудник</td>\n",
       "      <td>19</td>\n",
       "      <td>40.013940</td>\n",
       "    </tr>\n",
       "    <tr>\n",
       "      <td>7</td>\n",
       "      <td>студент</td>\n",
       "      <td>22</td>\n",
       "      <td>22.000000</td>\n",
       "    </tr>\n",
       "  </tbody>\n",
       "</table>\n",
       "</div>"
      ],
      "text/plain": [
       "       income_type       min       mean\n",
       "                   dob_years  dob_years\n",
       "0      безработный        31  38.000000\n",
       "1        в декрете        39  39.000000\n",
       "2      госслужащий        19  40.801234\n",
       "3        компаньон        19  39.850934\n",
       "4        пенсионер        22  59.369035\n",
       "5  предприниматель        27  42.500000\n",
       "6        сотрудник        19  40.013940\n",
       "7          студент        22  22.000000"
      ]
     },
     "execution_count": 1045,
     "metadata": {},
     "output_type": "execute_result"
    }
   ],
   "source": [
    "# проверка исправленных данных\n",
    "data_bank_clients.pivot_table(index=['income_type'], values='dob_years', aggfunc=['min', 'mean']).reset_index()"
   ]
  },
  {
   "cell_type": "markdown",
   "metadata": {},
   "source": [
    "**Вывод**\n",
    "\n",
    "Минимального значения возраста '0' в таблице больше нет. Среднее значение возраста по категориям по типу занятости после замены '0' на среднее значение изменились слабо."
   ]
  },
  {
   "cell_type": "markdown",
   "metadata": {},
   "source": [
    "#### Проверка на артефакты других столбцов данных"
   ]
  },
  {
   "cell_type": "code",
   "execution_count": 1046,
   "metadata": {},
   "outputs": [
    {
     "data": {
      "text/plain": [
       "['children',\n",
       " 'days_employed',\n",
       " 'dob_years',\n",
       " 'education',\n",
       " 'education_id',\n",
       " 'family_status',\n",
       " 'family_status_id',\n",
       " 'gender',\n",
       " 'income_type',\n",
       " 'debt',\n",
       " 'total_income',\n",
       " 'purpose']"
      ]
     },
     "execution_count": 1046,
     "metadata": {},
     "output_type": "execute_result"
    }
   ],
   "source": [
    "data_bank_clients.columns.tolist()"
   ]
  },
  {
   "cell_type": "markdown",
   "metadata": {},
   "source": [
    "Проверим на наличие артефактов столбцы, которым ранее внимание было не уделено.  \n",
    "Это столбцы - 'education_id', 'family_status_id', 'gender', 'debt', 'purpose'."
   ]
  },
  {
   "cell_type": "code",
   "execution_count": 1047,
   "metadata": {},
   "outputs": [
    {
     "name": "stdout",
     "output_type": "stream",
     "text": [
      "Уникальные значения столбца education:\n",
      "['высшее' 'среднее' 'неоконченное высшее' 'начальное' 'ученая степень']\n",
      "Уникальные значения столбца education_id:\n",
      "[0 1 2 3 4]\n",
      "Уникальные значения столбца family_status:\n",
      "['женат / замужем' 'гражданский брак' 'вдовец / вдова' 'в разводе'\n",
      " 'не женат / не замужем']\n",
      "Уникальные значения столбца family_status_id:\n",
      "[0 1 2 3 4]\n",
      "Уникальные значения столбца gender:\n",
      "['F' 'M' 'XNA']\n",
      "Уникальные значения столбца debt:\n",
      "[0 1]\n",
      "Уникальные значения столбца purpose:\n",
      "['покупка жилья' 'приобретение автомобиля' 'дополнительное образование'\n",
      " 'сыграть свадьбу' 'операции с жильем' 'образование'\n",
      " 'на проведение свадьбы' 'покупка жилья для семьи' 'покупка недвижимости'\n",
      " 'покупка коммерческой недвижимости' 'покупка жилой недвижимости'\n",
      " 'строительство собственной недвижимости' 'недвижимость'\n",
      " 'строительство недвижимости' 'на покупку подержанного автомобиля'\n",
      " 'на покупку своего автомобиля' 'операции с коммерческой недвижимостью'\n",
      " 'строительство жилой недвижимости' 'жилье'\n",
      " 'операции со своей недвижимостью' 'автомобили' 'заняться образованием'\n",
      " 'сделка с подержанным автомобилем' 'получение образования' 'автомобиль'\n",
      " 'свадьба' 'получение дополнительного образования' 'покупка своего жилья'\n",
      " 'операции с недвижимостью' 'получение высшего образования'\n",
      " 'свой автомобиль' 'сделка с автомобилем' 'профильное образование'\n",
      " 'высшее образование' 'покупка жилья для сдачи' 'на покупку автомобиля'\n",
      " 'ремонт жилью' 'заняться высшим образованием']\n"
     ]
    }
   ],
   "source": [
    "# выведем уникальные значения столбцов на экран \n",
    "columns = ['education', 'education_id', 'family_status', 'family_status_id', 'gender', 'debt', 'purpose']\n",
    "for column in columns:\n",
    "    print(f'Уникальные значения столбца {column}:')\n",
    "    print(data_bank_clients[column].unique())"
   ]
  },
  {
   "cell_type": "markdown",
   "metadata": {},
   "source": [
    "**Вывод**\n",
    "\n",
    "Со значениями в рассматриваемых колонках все в порядке."
   ]
  },
  {
   "cell_type": "markdown",
   "metadata": {},
   "source": [
    "Ознакомимся с данными уже после замены ошибочных значений. Вызовем функцию describe() и оценим данные."
   ]
  },
  {
   "cell_type": "code",
   "execution_count": 1048,
   "metadata": {},
   "outputs": [
    {
     "data": {
      "text/html": [
       "<div>\n",
       "<style scoped>\n",
       "    .dataframe tbody tr th:only-of-type {\n",
       "        vertical-align: middle;\n",
       "    }\n",
       "\n",
       "    .dataframe tbody tr th {\n",
       "        vertical-align: top;\n",
       "    }\n",
       "\n",
       "    .dataframe thead th {\n",
       "        text-align: right;\n",
       "    }\n",
       "</style>\n",
       "<table border=\"1\" class=\"dataframe\">\n",
       "  <thead>\n",
       "    <tr style=\"text-align: right;\">\n",
       "      <th></th>\n",
       "      <th>children</th>\n",
       "      <th>days_employed</th>\n",
       "      <th>dob_years</th>\n",
       "      <th>education_id</th>\n",
       "      <th>family_status_id</th>\n",
       "      <th>debt</th>\n",
       "      <th>total_income</th>\n",
       "    </tr>\n",
       "  </thead>\n",
       "  <tbody>\n",
       "    <tr>\n",
       "      <td>count</td>\n",
       "      <td>21525.000000</td>\n",
       "      <td>19351.000000</td>\n",
       "      <td>21525.000000</td>\n",
       "      <td>21525.000000</td>\n",
       "      <td>21525.000000</td>\n",
       "      <td>21525.000000</td>\n",
       "      <td>1.935100e+04</td>\n",
       "    </tr>\n",
       "    <tr>\n",
       "      <td>mean</td>\n",
       "      <td>0.479721</td>\n",
       "      <td>4640.441951</td>\n",
       "      <td>43.495238</td>\n",
       "      <td>0.817236</td>\n",
       "      <td>0.972544</td>\n",
       "      <td>0.080883</td>\n",
       "      <td>1.674223e+05</td>\n",
       "    </tr>\n",
       "    <tr>\n",
       "      <td>std</td>\n",
       "      <td>0.755528</td>\n",
       "      <td>5354.870687</td>\n",
       "      <td>12.230322</td>\n",
       "      <td>0.548138</td>\n",
       "      <td>1.420324</td>\n",
       "      <td>0.272661</td>\n",
       "      <td>1.029716e+05</td>\n",
       "    </tr>\n",
       "    <tr>\n",
       "      <td>min</td>\n",
       "      <td>0.000000</td>\n",
       "      <td>24.141633</td>\n",
       "      <td>19.000000</td>\n",
       "      <td>0.000000</td>\n",
       "      <td>0.000000</td>\n",
       "      <td>0.000000</td>\n",
       "      <td>2.066726e+04</td>\n",
       "    </tr>\n",
       "    <tr>\n",
       "      <td>25%</td>\n",
       "      <td>0.000000</td>\n",
       "      <td>927.009265</td>\n",
       "      <td>34.000000</td>\n",
       "      <td>1.000000</td>\n",
       "      <td>0.000000</td>\n",
       "      <td>0.000000</td>\n",
       "      <td>1.030532e+05</td>\n",
       "    </tr>\n",
       "    <tr>\n",
       "      <td>50%</td>\n",
       "      <td>0.000000</td>\n",
       "      <td>2194.220567</td>\n",
       "      <td>43.000000</td>\n",
       "      <td>1.000000</td>\n",
       "      <td>0.000000</td>\n",
       "      <td>0.000000</td>\n",
       "      <td>1.450179e+05</td>\n",
       "    </tr>\n",
       "    <tr>\n",
       "      <td>75%</td>\n",
       "      <td>1.000000</td>\n",
       "      <td>5534.630567</td>\n",
       "      <td>53.000000</td>\n",
       "      <td>1.000000</td>\n",
       "      <td>1.000000</td>\n",
       "      <td>0.000000</td>\n",
       "      <td>2.034351e+05</td>\n",
       "    </tr>\n",
       "    <tr>\n",
       "      <td>max</td>\n",
       "      <td>5.000000</td>\n",
       "      <td>18388.949901</td>\n",
       "      <td>75.000000</td>\n",
       "      <td>4.000000</td>\n",
       "      <td>4.000000</td>\n",
       "      <td>1.000000</td>\n",
       "      <td>2.265604e+06</td>\n",
       "    </tr>\n",
       "  </tbody>\n",
       "</table>\n",
       "</div>"
      ],
      "text/plain": [
       "           children  days_employed     dob_years  education_id  \\\n",
       "count  21525.000000   19351.000000  21525.000000  21525.000000   \n",
       "mean       0.479721    4640.441951     43.495238      0.817236   \n",
       "std        0.755528    5354.870687     12.230322      0.548138   \n",
       "min        0.000000      24.141633     19.000000      0.000000   \n",
       "25%        0.000000     927.009265     34.000000      1.000000   \n",
       "50%        0.000000    2194.220567     43.000000      1.000000   \n",
       "75%        1.000000    5534.630567     53.000000      1.000000   \n",
       "max        5.000000   18388.949901     75.000000      4.000000   \n",
       "\n",
       "       family_status_id          debt  total_income  \n",
       "count      21525.000000  21525.000000  1.935100e+04  \n",
       "mean           0.972544      0.080883  1.674223e+05  \n",
       "std            1.420324      0.272661  1.029716e+05  \n",
       "min            0.000000      0.000000  2.066726e+04  \n",
       "25%            0.000000      0.000000  1.030532e+05  \n",
       "50%            0.000000      0.000000  1.450179e+05  \n",
       "75%            1.000000      0.000000  2.034351e+05  \n",
       "max            4.000000      1.000000  2.265604e+06  "
      ]
     },
     "execution_count": 1048,
     "metadata": {},
     "output_type": "execute_result"
    }
   ],
   "source": [
    "data_bank_clients.describe()"
   ]
  },
  {
   "cell_type": "markdown",
   "metadata": {},
   "source": [
    "**Вывод**\n",
    "****\n",
    "- Исправлены столбцы с категориальными данными - все строки приведены к одному регистру.\n",
    "- Трудовой стаж с отрицательным значением переведен на положительное, слишком долгий стаж приведет к реальному. Остались вопросы по поводу возраста клиента и его стажа по категории пенсионеров. На результате исследования столбец со стажем клиента не отразится, поэтому до уточнения этих данных оставим их такими какие они есть.\n",
    "- Приведено в соответствие количество детей - отрицательное заменено на положительное, а 20 к 2.\n",
    "- Отсутствующий возраст заменен на средний по группам.\n",
    "- Третье значение в столбце пол ('XNA') оставляем как есть, на результате не отразится."
   ]
  },
  {
   "cell_type": "markdown",
   "metadata": {},
   "source": [
    "### Заполнение пропусков медианными значениями по категории"
   ]
  },
  {
   "cell_type": "markdown",
   "metadata": {},
   "source": [
    "Остались пропуски в данных о трудовом стаже и ежемесячном заработке.  \n",
    "\n",
    "Пропущенные значения - количественные переменные. Исключим вариант удаления целых строк с пропусками, так как в этих строках все таки имеется ценная для исследования информация. Возможно заполнить пропуски нулями или средними / медианными значениям.\n",
    "\n",
    "***Обрабатываемые данные - это статистика по уже выданным кредитам, при этом, вероятность того, что банк выдал кредиты и не поинтересовался стажем и доходом заемщика мала.***  \n",
    "\n",
    "Чтобы исключить очень низкие или очень высокие значения стажа и дохода запоним пропуски медианными значениями по категориям клиентов.\n",
    "\n",
    "Вполне вероятно, что значения стажа и дохода клиента по большей части зависят от типа занятости и уровня образования."
   ]
  },
  {
   "cell_type": "code",
   "execution_count": 1049,
   "metadata": {},
   "outputs": [
    {
     "data": {
      "text/html": [
       "<div>\n",
       "<style scoped>\n",
       "    .dataframe tbody tr th:only-of-type {\n",
       "        vertical-align: middle;\n",
       "    }\n",
       "\n",
       "    .dataframe tbody tr th {\n",
       "        vertical-align: top;\n",
       "    }\n",
       "\n",
       "    .dataframe thead th {\n",
       "        text-align: right;\n",
       "    }\n",
       "</style>\n",
       "<table border=\"1\" class=\"dataframe\">\n",
       "  <thead>\n",
       "    <tr style=\"text-align: right;\">\n",
       "      <th></th>\n",
       "      <th>children</th>\n",
       "      <th>days_employed</th>\n",
       "      <th>dob_years</th>\n",
       "      <th>education</th>\n",
       "      <th>education_id</th>\n",
       "      <th>family_status</th>\n",
       "      <th>family_status_id</th>\n",
       "      <th>gender</th>\n",
       "      <th>income_type</th>\n",
       "      <th>debt</th>\n",
       "      <th>total_income</th>\n",
       "      <th>purpose</th>\n",
       "    </tr>\n",
       "  </thead>\n",
       "  <tbody>\n",
       "    <tr>\n",
       "      <td>12</td>\n",
       "      <td>0</td>\n",
       "      <td>NaN</td>\n",
       "      <td>65</td>\n",
       "      <td>среднее</td>\n",
       "      <td>1</td>\n",
       "      <td>гражданский брак</td>\n",
       "      <td>1</td>\n",
       "      <td>M</td>\n",
       "      <td>пенсионер</td>\n",
       "      <td>0</td>\n",
       "      <td>NaN</td>\n",
       "      <td>сыграть свадьбу</td>\n",
       "    </tr>\n",
       "    <tr>\n",
       "      <td>26</td>\n",
       "      <td>0</td>\n",
       "      <td>NaN</td>\n",
       "      <td>41</td>\n",
       "      <td>среднее</td>\n",
       "      <td>1</td>\n",
       "      <td>женат / замужем</td>\n",
       "      <td>0</td>\n",
       "      <td>M</td>\n",
       "      <td>госслужащий</td>\n",
       "      <td>0</td>\n",
       "      <td>NaN</td>\n",
       "      <td>образование</td>\n",
       "    </tr>\n",
       "    <tr>\n",
       "      <td>29</td>\n",
       "      <td>0</td>\n",
       "      <td>NaN</td>\n",
       "      <td>63</td>\n",
       "      <td>среднее</td>\n",
       "      <td>1</td>\n",
       "      <td>не женат / не замужем</td>\n",
       "      <td>4</td>\n",
       "      <td>F</td>\n",
       "      <td>пенсионер</td>\n",
       "      <td>0</td>\n",
       "      <td>NaN</td>\n",
       "      <td>строительство жилой недвижимости</td>\n",
       "    </tr>\n",
       "    <tr>\n",
       "      <td>41</td>\n",
       "      <td>0</td>\n",
       "      <td>NaN</td>\n",
       "      <td>50</td>\n",
       "      <td>среднее</td>\n",
       "      <td>1</td>\n",
       "      <td>женат / замужем</td>\n",
       "      <td>0</td>\n",
       "      <td>F</td>\n",
       "      <td>госслужащий</td>\n",
       "      <td>0</td>\n",
       "      <td>NaN</td>\n",
       "      <td>сделка с подержанным автомобилем</td>\n",
       "    </tr>\n",
       "    <tr>\n",
       "      <td>55</td>\n",
       "      <td>0</td>\n",
       "      <td>NaN</td>\n",
       "      <td>54</td>\n",
       "      <td>среднее</td>\n",
       "      <td>1</td>\n",
       "      <td>гражданский брак</td>\n",
       "      <td>1</td>\n",
       "      <td>F</td>\n",
       "      <td>пенсионер</td>\n",
       "      <td>1</td>\n",
       "      <td>NaN</td>\n",
       "      <td>сыграть свадьбу</td>\n",
       "    </tr>\n",
       "    <tr>\n",
       "      <td>65</td>\n",
       "      <td>0</td>\n",
       "      <td>NaN</td>\n",
       "      <td>21</td>\n",
       "      <td>среднее</td>\n",
       "      <td>1</td>\n",
       "      <td>не женат / не замужем</td>\n",
       "      <td>4</td>\n",
       "      <td>M</td>\n",
       "      <td>компаньон</td>\n",
       "      <td>0</td>\n",
       "      <td>NaN</td>\n",
       "      <td>операции с коммерческой недвижимостью</td>\n",
       "    </tr>\n",
       "    <tr>\n",
       "      <td>67</td>\n",
       "      <td>0</td>\n",
       "      <td>NaN</td>\n",
       "      <td>52</td>\n",
       "      <td>высшее</td>\n",
       "      <td>0</td>\n",
       "      <td>женат / замужем</td>\n",
       "      <td>0</td>\n",
       "      <td>F</td>\n",
       "      <td>пенсионер</td>\n",
       "      <td>0</td>\n",
       "      <td>NaN</td>\n",
       "      <td>покупка жилья для семьи</td>\n",
       "    </tr>\n",
       "    <tr>\n",
       "      <td>72</td>\n",
       "      <td>1</td>\n",
       "      <td>NaN</td>\n",
       "      <td>32</td>\n",
       "      <td>высшее</td>\n",
       "      <td>0</td>\n",
       "      <td>женат / замужем</td>\n",
       "      <td>0</td>\n",
       "      <td>M</td>\n",
       "      <td>госслужащий</td>\n",
       "      <td>0</td>\n",
       "      <td>NaN</td>\n",
       "      <td>операции с коммерческой недвижимостью</td>\n",
       "    </tr>\n",
       "    <tr>\n",
       "      <td>82</td>\n",
       "      <td>2</td>\n",
       "      <td>NaN</td>\n",
       "      <td>50</td>\n",
       "      <td>высшее</td>\n",
       "      <td>0</td>\n",
       "      <td>женат / замужем</td>\n",
       "      <td>0</td>\n",
       "      <td>F</td>\n",
       "      <td>сотрудник</td>\n",
       "      <td>0</td>\n",
       "      <td>NaN</td>\n",
       "      <td>жилье</td>\n",
       "    </tr>\n",
       "    <tr>\n",
       "      <td>83</td>\n",
       "      <td>0</td>\n",
       "      <td>NaN</td>\n",
       "      <td>52</td>\n",
       "      <td>среднее</td>\n",
       "      <td>1</td>\n",
       "      <td>женат / замужем</td>\n",
       "      <td>0</td>\n",
       "      <td>M</td>\n",
       "      <td>сотрудник</td>\n",
       "      <td>0</td>\n",
       "      <td>NaN</td>\n",
       "      <td>жилье</td>\n",
       "    </tr>\n",
       "  </tbody>\n",
       "</table>\n",
       "</div>"
      ],
      "text/plain": [
       "    children  days_employed  dob_years education  education_id  \\\n",
       "12         0            NaN         65   среднее             1   \n",
       "26         0            NaN         41   среднее             1   \n",
       "29         0            NaN         63   среднее             1   \n",
       "41         0            NaN         50   среднее             1   \n",
       "55         0            NaN         54   среднее             1   \n",
       "65         0            NaN         21   среднее             1   \n",
       "67         0            NaN         52    высшее             0   \n",
       "72         1            NaN         32    высшее             0   \n",
       "82         2            NaN         50    высшее             0   \n",
       "83         0            NaN         52   среднее             1   \n",
       "\n",
       "            family_status  family_status_id gender  income_type  debt  \\\n",
       "12       гражданский брак                 1      M    пенсионер     0   \n",
       "26        женат / замужем                 0      M  госслужащий     0   \n",
       "29  не женат / не замужем                 4      F    пенсионер     0   \n",
       "41        женат / замужем                 0      F  госслужащий     0   \n",
       "55       гражданский брак                 1      F    пенсионер     1   \n",
       "65  не женат / не замужем                 4      M    компаньон     0   \n",
       "67        женат / замужем                 0      F    пенсионер     0   \n",
       "72        женат / замужем                 0      M  госслужащий     0   \n",
       "82        женат / замужем                 0      F    сотрудник     0   \n",
       "83        женат / замужем                 0      M    сотрудник     0   \n",
       "\n",
       "    total_income                                purpose  \n",
       "12           NaN                        сыграть свадьбу  \n",
       "26           NaN                            образование  \n",
       "29           NaN       строительство жилой недвижимости  \n",
       "41           NaN       сделка с подержанным автомобилем  \n",
       "55           NaN                        сыграть свадьбу  \n",
       "65           NaN  операции с коммерческой недвижимостью  \n",
       "67           NaN                покупка жилья для семьи  \n",
       "72           NaN  операции с коммерческой недвижимостью  \n",
       "82           NaN                                  жилье  \n",
       "83           NaN                                  жилье  "
      ]
     },
     "execution_count": 1049,
     "metadata": {},
     "output_type": "execute_result"
    }
   ],
   "source": [
    "data_null_employed_income = pd.DataFrame(data_bank_clients.query('days_employed.isna()'))\n",
    "data_null_employed_income.head(10)"
   ]
  },
  {
   "cell_type": "markdown",
   "metadata": {},
   "source": [
    "Рассмотрим подробднее в каких категориях по типу занятости и уровню образования образовались пропуски.  \n",
    "Выведем на экран сводную таблицу. Сгруппируем пропущенные данные по типу занятости и уровню образования."
   ]
  },
  {
   "cell_type": "code",
   "execution_count": 1050,
   "metadata": {},
   "outputs": [
    {
     "data": {
      "text/html": [
       "<div>\n",
       "<style scoped>\n",
       "    .dataframe tbody tr th:only-of-type {\n",
       "        vertical-align: middle;\n",
       "    }\n",
       "\n",
       "    .dataframe tbody tr th {\n",
       "        vertical-align: top;\n",
       "    }\n",
       "\n",
       "    .dataframe thead tr th {\n",
       "        text-align: left;\n",
       "    }\n",
       "</style>\n",
       "<table border=\"1\" class=\"dataframe\">\n",
       "  <thead>\n",
       "    <tr>\n",
       "      <th></th>\n",
       "      <th>income_type</th>\n",
       "      <th>education</th>\n",
       "      <th colspan=\"2\" halign=\"left\">sum</th>\n",
       "    </tr>\n",
       "    <tr>\n",
       "      <th></th>\n",
       "      <th></th>\n",
       "      <th></th>\n",
       "      <th>days_employed</th>\n",
       "      <th>total_income</th>\n",
       "    </tr>\n",
       "  </thead>\n",
       "  <tbody>\n",
       "    <tr>\n",
       "      <td>0</td>\n",
       "      <td>госслужащий</td>\n",
       "      <td>высшее</td>\n",
       "      <td>0.0</td>\n",
       "      <td>0.0</td>\n",
       "    </tr>\n",
       "    <tr>\n",
       "      <td>1</td>\n",
       "      <td>госслужащий</td>\n",
       "      <td>начальное</td>\n",
       "      <td>0.0</td>\n",
       "      <td>0.0</td>\n",
       "    </tr>\n",
       "    <tr>\n",
       "      <td>2</td>\n",
       "      <td>госслужащий</td>\n",
       "      <td>неоконченное высшее</td>\n",
       "      <td>0.0</td>\n",
       "      <td>0.0</td>\n",
       "    </tr>\n",
       "    <tr>\n",
       "      <td>3</td>\n",
       "      <td>госслужащий</td>\n",
       "      <td>среднее</td>\n",
       "      <td>0.0</td>\n",
       "      <td>0.0</td>\n",
       "    </tr>\n",
       "    <tr>\n",
       "      <td>4</td>\n",
       "      <td>компаньон</td>\n",
       "      <td>высшее</td>\n",
       "      <td>0.0</td>\n",
       "      <td>0.0</td>\n",
       "    </tr>\n",
       "    <tr>\n",
       "      <td>5</td>\n",
       "      <td>компаньон</td>\n",
       "      <td>начальное</td>\n",
       "      <td>0.0</td>\n",
       "      <td>0.0</td>\n",
       "    </tr>\n",
       "    <tr>\n",
       "      <td>6</td>\n",
       "      <td>компаньон</td>\n",
       "      <td>неоконченное высшее</td>\n",
       "      <td>0.0</td>\n",
       "      <td>0.0</td>\n",
       "    </tr>\n",
       "    <tr>\n",
       "      <td>7</td>\n",
       "      <td>компаньон</td>\n",
       "      <td>среднее</td>\n",
       "      <td>0.0</td>\n",
       "      <td>0.0</td>\n",
       "    </tr>\n",
       "    <tr>\n",
       "      <td>8</td>\n",
       "      <td>пенсионер</td>\n",
       "      <td>высшее</td>\n",
       "      <td>0.0</td>\n",
       "      <td>0.0</td>\n",
       "    </tr>\n",
       "    <tr>\n",
       "      <td>9</td>\n",
       "      <td>пенсионер</td>\n",
       "      <td>начальное</td>\n",
       "      <td>0.0</td>\n",
       "      <td>0.0</td>\n",
       "    </tr>\n",
       "    <tr>\n",
       "      <td>10</td>\n",
       "      <td>пенсионер</td>\n",
       "      <td>неоконченное высшее</td>\n",
       "      <td>0.0</td>\n",
       "      <td>0.0</td>\n",
       "    </tr>\n",
       "    <tr>\n",
       "      <td>11</td>\n",
       "      <td>пенсионер</td>\n",
       "      <td>среднее</td>\n",
       "      <td>0.0</td>\n",
       "      <td>0.0</td>\n",
       "    </tr>\n",
       "    <tr>\n",
       "      <td>12</td>\n",
       "      <td>предприниматель</td>\n",
       "      <td>высшее</td>\n",
       "      <td>0.0</td>\n",
       "      <td>0.0</td>\n",
       "    </tr>\n",
       "    <tr>\n",
       "      <td>13</td>\n",
       "      <td>сотрудник</td>\n",
       "      <td>высшее</td>\n",
       "      <td>0.0</td>\n",
       "      <td>0.0</td>\n",
       "    </tr>\n",
       "    <tr>\n",
       "      <td>14</td>\n",
       "      <td>сотрудник</td>\n",
       "      <td>начальное</td>\n",
       "      <td>0.0</td>\n",
       "      <td>0.0</td>\n",
       "    </tr>\n",
       "    <tr>\n",
       "      <td>15</td>\n",
       "      <td>сотрудник</td>\n",
       "      <td>неоконченное высшее</td>\n",
       "      <td>0.0</td>\n",
       "      <td>0.0</td>\n",
       "    </tr>\n",
       "    <tr>\n",
       "      <td>16</td>\n",
       "      <td>сотрудник</td>\n",
       "      <td>среднее</td>\n",
       "      <td>0.0</td>\n",
       "      <td>0.0</td>\n",
       "    </tr>\n",
       "  </tbody>\n",
       "</table>\n",
       "</div>"
      ],
      "text/plain": [
       "        income_type            education           sum             \n",
       "                                         days_employed total_income\n",
       "0       госслужащий               высшее           0.0          0.0\n",
       "1       госслужащий            начальное           0.0          0.0\n",
       "2       госслужащий  неоконченное высшее           0.0          0.0\n",
       "3       госслужащий              среднее           0.0          0.0\n",
       "4         компаньон               высшее           0.0          0.0\n",
       "5         компаньон            начальное           0.0          0.0\n",
       "6         компаньон  неоконченное высшее           0.0          0.0\n",
       "7         компаньон              среднее           0.0          0.0\n",
       "8         пенсионер               высшее           0.0          0.0\n",
       "9         пенсионер            начальное           0.0          0.0\n",
       "10        пенсионер  неоконченное высшее           0.0          0.0\n",
       "11        пенсионер              среднее           0.0          0.0\n",
       "12  предприниматель               высшее           0.0          0.0\n",
       "13        сотрудник               высшее           0.0          0.0\n",
       "14        сотрудник            начальное           0.0          0.0\n",
       "15        сотрудник  неоконченное высшее           0.0          0.0\n",
       "16        сотрудник              среднее           0.0          0.0"
      ]
     },
     "execution_count": 1050,
     "metadata": {},
     "output_type": "execute_result"
    }
   ],
   "source": [
    "pivot_null_employed_income = data_null_employed_income.pivot_table(index=['income_type', 'education'],\n",
    "                                                          values=['days_employed', 'total_income'], \n",
    "                                                          aggfunc=['sum']).reset_index()\n",
    "pivot_null_employed_income"
   ]
  },
  {
   "cell_type": "markdown",
   "metadata": {},
   "source": [
    "Необходимо сделать замену по 17 признакам.\n",
    "\n",
    "Создадим сводную таблицу со средними значениями трудового стажа 'days_employed' и ежемесячного дохода 'total_income' по признаку типа занятости и уровня образования.  \n",
    "Для расчета возьмем медианное значение дохода и стажа, чтобы исключить очень низкие или очень высокие доходы в единичных случаях."
   ]
  },
  {
   "cell_type": "code",
   "execution_count": 1051,
   "metadata": {},
   "outputs": [
    {
     "data": {
      "text/html": [
       "<div>\n",
       "<style scoped>\n",
       "    .dataframe tbody tr th:only-of-type {\n",
       "        vertical-align: middle;\n",
       "    }\n",
       "\n",
       "    .dataframe tbody tr th {\n",
       "        vertical-align: top;\n",
       "    }\n",
       "\n",
       "    .dataframe thead tr th {\n",
       "        text-align: left;\n",
       "    }\n",
       "</style>\n",
       "<table border=\"1\" class=\"dataframe\">\n",
       "  <thead>\n",
       "    <tr>\n",
       "      <th></th>\n",
       "      <th>income_type</th>\n",
       "      <th>education</th>\n",
       "      <th colspan=\"2\" halign=\"left\">median</th>\n",
       "    </tr>\n",
       "    <tr>\n",
       "      <th></th>\n",
       "      <th></th>\n",
       "      <th></th>\n",
       "      <th>days_employed</th>\n",
       "      <th>total_income</th>\n",
       "    </tr>\n",
       "  </thead>\n",
       "  <tbody>\n",
       "    <tr>\n",
       "      <td>0</td>\n",
       "      <td>безработный</td>\n",
       "      <td>высшее</td>\n",
       "      <td>3953.028387</td>\n",
       "      <td>202722.511368</td>\n",
       "    </tr>\n",
       "    <tr>\n",
       "      <td>1</td>\n",
       "      <td>безработный</td>\n",
       "      <td>среднее</td>\n",
       "      <td>3375.244668</td>\n",
       "      <td>59956.991984</td>\n",
       "    </tr>\n",
       "    <tr>\n",
       "      <td>2</td>\n",
       "      <td>в декрете</td>\n",
       "      <td>среднее</td>\n",
       "      <td>3296.759962</td>\n",
       "      <td>53829.130729</td>\n",
       "    </tr>\n",
       "    <tr>\n",
       "      <td>3</td>\n",
       "      <td>госслужащий</td>\n",
       "      <td>высшее</td>\n",
       "      <td>2531.034209</td>\n",
       "      <td>172511.107016</td>\n",
       "    </tr>\n",
       "    <tr>\n",
       "      <td>4</td>\n",
       "      <td>госслужащий</td>\n",
       "      <td>начальное</td>\n",
       "      <td>2787.767403</td>\n",
       "      <td>148339.290825</td>\n",
       "    </tr>\n",
       "    <tr>\n",
       "      <td>5</td>\n",
       "      <td>госслужащий</td>\n",
       "      <td>неоконченное высшее</td>\n",
       "      <td>1885.183639</td>\n",
       "      <td>160592.345303</td>\n",
       "    </tr>\n",
       "    <tr>\n",
       "      <td>6</td>\n",
       "      <td>госслужащий</td>\n",
       "      <td>среднее</td>\n",
       "      <td>2857.770974</td>\n",
       "      <td>136652.970357</td>\n",
       "    </tr>\n",
       "    <tr>\n",
       "      <td>7</td>\n",
       "      <td>госслужащий</td>\n",
       "      <td>ученая степень</td>\n",
       "      <td>5968.075884</td>\n",
       "      <td>111392.231107</td>\n",
       "    </tr>\n",
       "    <tr>\n",
       "      <td>8</td>\n",
       "      <td>компаньон</td>\n",
       "      <td>высшее</td>\n",
       "      <td>1454.659104</td>\n",
       "      <td>201785.400018</td>\n",
       "    </tr>\n",
       "    <tr>\n",
       "      <td>9</td>\n",
       "      <td>компаньон</td>\n",
       "      <td>начальное</td>\n",
       "      <td>1151.634460</td>\n",
       "      <td>136798.905143</td>\n",
       "    </tr>\n",
       "    <tr>\n",
       "      <td>10</td>\n",
       "      <td>компаньон</td>\n",
       "      <td>неоконченное высшее</td>\n",
       "      <td>1017.888120</td>\n",
       "      <td>179867.152890</td>\n",
       "    </tr>\n",
       "    <tr>\n",
       "      <td>11</td>\n",
       "      <td>компаньон</td>\n",
       "      <td>среднее</td>\n",
       "      <td>1670.809068</td>\n",
       "      <td>159070.690289</td>\n",
       "    </tr>\n",
       "    <tr>\n",
       "      <td>12</td>\n",
       "      <td>пенсионер</td>\n",
       "      <td>высшее</td>\n",
       "      <td>15256.605268</td>\n",
       "      <td>144240.768611</td>\n",
       "    </tr>\n",
       "    <tr>\n",
       "      <td>13</td>\n",
       "      <td>пенсионер</td>\n",
       "      <td>начальное</td>\n",
       "      <td>15011.041056</td>\n",
       "      <td>102598.653164</td>\n",
       "    </tr>\n",
       "    <tr>\n",
       "      <td>14</td>\n",
       "      <td>пенсионер</td>\n",
       "      <td>неоконченное высшее</td>\n",
       "      <td>15510.437569</td>\n",
       "      <td>120136.896353</td>\n",
       "    </tr>\n",
       "    <tr>\n",
       "      <td>15</td>\n",
       "      <td>пенсионер</td>\n",
       "      <td>среднее</td>\n",
       "      <td>15209.389119</td>\n",
       "      <td>114842.854099</td>\n",
       "    </tr>\n",
       "    <tr>\n",
       "      <td>16</td>\n",
       "      <td>пенсионер</td>\n",
       "      <td>ученая степень</td>\n",
       "      <td>14872.104898</td>\n",
       "      <td>177088.845999</td>\n",
       "    </tr>\n",
       "    <tr>\n",
       "      <td>17</td>\n",
       "      <td>предприниматель</td>\n",
       "      <td>высшее</td>\n",
       "      <td>520.848083</td>\n",
       "      <td>499163.144947</td>\n",
       "    </tr>\n",
       "    <tr>\n",
       "      <td>18</td>\n",
       "      <td>сотрудник</td>\n",
       "      <td>высшее</td>\n",
       "      <td>1556.457266</td>\n",
       "      <td>165640.744634</td>\n",
       "    </tr>\n",
       "    <tr>\n",
       "      <td>19</td>\n",
       "      <td>сотрудник</td>\n",
       "      <td>начальное</td>\n",
       "      <td>1197.176853</td>\n",
       "      <td>125994.910603</td>\n",
       "    </tr>\n",
       "    <tr>\n",
       "      <td>20</td>\n",
       "      <td>сотрудник</td>\n",
       "      <td>неоконченное высшее</td>\n",
       "      <td>1197.676879</td>\n",
       "      <td>151308.937846</td>\n",
       "    </tr>\n",
       "    <tr>\n",
       "      <td>21</td>\n",
       "      <td>сотрудник</td>\n",
       "      <td>среднее</td>\n",
       "      <td>1613.581420</td>\n",
       "      <td>136555.108821</td>\n",
       "    </tr>\n",
       "    <tr>\n",
       "      <td>22</td>\n",
       "      <td>сотрудник</td>\n",
       "      <td>ученая степень</td>\n",
       "      <td>2351.431934</td>\n",
       "      <td>198570.757322</td>\n",
       "    </tr>\n",
       "    <tr>\n",
       "      <td>23</td>\n",
       "      <td>студент</td>\n",
       "      <td>высшее</td>\n",
       "      <td>578.751554</td>\n",
       "      <td>98201.625314</td>\n",
       "    </tr>\n",
       "  </tbody>\n",
       "</table>\n",
       "</div>"
      ],
      "text/plain": [
       "        income_type            education        median               \n",
       "                                         days_employed   total_income\n",
       "0       безработный               высшее   3953.028387  202722.511368\n",
       "1       безработный              среднее   3375.244668   59956.991984\n",
       "2         в декрете              среднее   3296.759962   53829.130729\n",
       "3       госслужащий               высшее   2531.034209  172511.107016\n",
       "4       госслужащий            начальное   2787.767403  148339.290825\n",
       "5       госслужащий  неоконченное высшее   1885.183639  160592.345303\n",
       "6       госслужащий              среднее   2857.770974  136652.970357\n",
       "7       госслужащий       ученая степень   5968.075884  111392.231107\n",
       "8         компаньон               высшее   1454.659104  201785.400018\n",
       "9         компаньон            начальное   1151.634460  136798.905143\n",
       "10        компаньон  неоконченное высшее   1017.888120  179867.152890\n",
       "11        компаньон              среднее   1670.809068  159070.690289\n",
       "12        пенсионер               высшее  15256.605268  144240.768611\n",
       "13        пенсионер            начальное  15011.041056  102598.653164\n",
       "14        пенсионер  неоконченное высшее  15510.437569  120136.896353\n",
       "15        пенсионер              среднее  15209.389119  114842.854099\n",
       "16        пенсионер       ученая степень  14872.104898  177088.845999\n",
       "17  предприниматель               высшее    520.848083  499163.144947\n",
       "18        сотрудник               высшее   1556.457266  165640.744634\n",
       "19        сотрудник            начальное   1197.176853  125994.910603\n",
       "20        сотрудник  неоконченное высшее   1197.676879  151308.937846\n",
       "21        сотрудник              среднее   1613.581420  136555.108821\n",
       "22        сотрудник       ученая степень   2351.431934  198570.757322\n",
       "23          студент               высшее    578.751554   98201.625314"
      ]
     },
     "execution_count": 1051,
     "metadata": {},
     "output_type": "execute_result"
    }
   ],
   "source": [
    "pivot_mean_employed_income = data_bank_clients.pivot_table(index=['income_type', 'education'],\n",
    "                                                          values=['days_employed', 'total_income'], \n",
    "                                                          aggfunc=['median']).reset_index()\n",
    "pivot_mean_employed_income"
   ]
  },
  {
   "cell_type": "markdown",
   "metadata": {},
   "source": [
    "Соединение двух сводных таблиц для получения средних значений трудового стажа и ежемесячного дохода только по тем категориям клиентов, в стоках которых есть пропуски в данных"
   ]
  },
  {
   "cell_type": "code",
   "execution_count": 1052,
   "metadata": {},
   "outputs": [
    {
     "data": {
      "text/html": [
       "<div>\n",
       "<style scoped>\n",
       "    .dataframe tbody tr th:only-of-type {\n",
       "        vertical-align: middle;\n",
       "    }\n",
       "\n",
       "    .dataframe tbody tr th {\n",
       "        vertical-align: top;\n",
       "    }\n",
       "\n",
       "    .dataframe thead tr th {\n",
       "        text-align: left;\n",
       "    }\n",
       "</style>\n",
       "<table border=\"1\" class=\"dataframe\">\n",
       "  <thead>\n",
       "    <tr>\n",
       "      <th></th>\n",
       "      <th>income_type</th>\n",
       "      <th>education</th>\n",
       "      <th colspan=\"2\" halign=\"left\">median</th>\n",
       "      <th colspan=\"2\" halign=\"left\">sum</th>\n",
       "    </tr>\n",
       "    <tr>\n",
       "      <th></th>\n",
       "      <th></th>\n",
       "      <th></th>\n",
       "      <th>days_employed</th>\n",
       "      <th>total_income</th>\n",
       "      <th>days_employed</th>\n",
       "      <th>total_income</th>\n",
       "    </tr>\n",
       "  </thead>\n",
       "  <tbody>\n",
       "    <tr>\n",
       "      <td>0</td>\n",
       "      <td>госслужащий</td>\n",
       "      <td>высшее</td>\n",
       "      <td>2531.034209</td>\n",
       "      <td>172511.107016</td>\n",
       "      <td>0.0</td>\n",
       "      <td>0.0</td>\n",
       "    </tr>\n",
       "    <tr>\n",
       "      <td>1</td>\n",
       "      <td>госслужащий</td>\n",
       "      <td>начальное</td>\n",
       "      <td>2787.767403</td>\n",
       "      <td>148339.290825</td>\n",
       "      <td>0.0</td>\n",
       "      <td>0.0</td>\n",
       "    </tr>\n",
       "    <tr>\n",
       "      <td>2</td>\n",
       "      <td>госслужащий</td>\n",
       "      <td>неоконченное высшее</td>\n",
       "      <td>1885.183639</td>\n",
       "      <td>160592.345303</td>\n",
       "      <td>0.0</td>\n",
       "      <td>0.0</td>\n",
       "    </tr>\n",
       "    <tr>\n",
       "      <td>3</td>\n",
       "      <td>госслужащий</td>\n",
       "      <td>среднее</td>\n",
       "      <td>2857.770974</td>\n",
       "      <td>136652.970357</td>\n",
       "      <td>0.0</td>\n",
       "      <td>0.0</td>\n",
       "    </tr>\n",
       "    <tr>\n",
       "      <td>4</td>\n",
       "      <td>компаньон</td>\n",
       "      <td>высшее</td>\n",
       "      <td>1454.659104</td>\n",
       "      <td>201785.400018</td>\n",
       "      <td>0.0</td>\n",
       "      <td>0.0</td>\n",
       "    </tr>\n",
       "    <tr>\n",
       "      <td>5</td>\n",
       "      <td>компаньон</td>\n",
       "      <td>начальное</td>\n",
       "      <td>1151.634460</td>\n",
       "      <td>136798.905143</td>\n",
       "      <td>0.0</td>\n",
       "      <td>0.0</td>\n",
       "    </tr>\n",
       "    <tr>\n",
       "      <td>6</td>\n",
       "      <td>компаньон</td>\n",
       "      <td>неоконченное высшее</td>\n",
       "      <td>1017.888120</td>\n",
       "      <td>179867.152890</td>\n",
       "      <td>0.0</td>\n",
       "      <td>0.0</td>\n",
       "    </tr>\n",
       "    <tr>\n",
       "      <td>7</td>\n",
       "      <td>компаньон</td>\n",
       "      <td>среднее</td>\n",
       "      <td>1670.809068</td>\n",
       "      <td>159070.690289</td>\n",
       "      <td>0.0</td>\n",
       "      <td>0.0</td>\n",
       "    </tr>\n",
       "    <tr>\n",
       "      <td>8</td>\n",
       "      <td>пенсионер</td>\n",
       "      <td>высшее</td>\n",
       "      <td>15256.605268</td>\n",
       "      <td>144240.768611</td>\n",
       "      <td>0.0</td>\n",
       "      <td>0.0</td>\n",
       "    </tr>\n",
       "    <tr>\n",
       "      <td>9</td>\n",
       "      <td>пенсионер</td>\n",
       "      <td>начальное</td>\n",
       "      <td>15011.041056</td>\n",
       "      <td>102598.653164</td>\n",
       "      <td>0.0</td>\n",
       "      <td>0.0</td>\n",
       "    </tr>\n",
       "    <tr>\n",
       "      <td>10</td>\n",
       "      <td>пенсионер</td>\n",
       "      <td>неоконченное высшее</td>\n",
       "      <td>15510.437569</td>\n",
       "      <td>120136.896353</td>\n",
       "      <td>0.0</td>\n",
       "      <td>0.0</td>\n",
       "    </tr>\n",
       "    <tr>\n",
       "      <td>11</td>\n",
       "      <td>пенсионер</td>\n",
       "      <td>среднее</td>\n",
       "      <td>15209.389119</td>\n",
       "      <td>114842.854099</td>\n",
       "      <td>0.0</td>\n",
       "      <td>0.0</td>\n",
       "    </tr>\n",
       "    <tr>\n",
       "      <td>12</td>\n",
       "      <td>предприниматель</td>\n",
       "      <td>высшее</td>\n",
       "      <td>520.848083</td>\n",
       "      <td>499163.144947</td>\n",
       "      <td>0.0</td>\n",
       "      <td>0.0</td>\n",
       "    </tr>\n",
       "    <tr>\n",
       "      <td>13</td>\n",
       "      <td>сотрудник</td>\n",
       "      <td>высшее</td>\n",
       "      <td>1556.457266</td>\n",
       "      <td>165640.744634</td>\n",
       "      <td>0.0</td>\n",
       "      <td>0.0</td>\n",
       "    </tr>\n",
       "    <tr>\n",
       "      <td>14</td>\n",
       "      <td>сотрудник</td>\n",
       "      <td>начальное</td>\n",
       "      <td>1197.176853</td>\n",
       "      <td>125994.910603</td>\n",
       "      <td>0.0</td>\n",
       "      <td>0.0</td>\n",
       "    </tr>\n",
       "    <tr>\n",
       "      <td>15</td>\n",
       "      <td>сотрудник</td>\n",
       "      <td>неоконченное высшее</td>\n",
       "      <td>1197.676879</td>\n",
       "      <td>151308.937846</td>\n",
       "      <td>0.0</td>\n",
       "      <td>0.0</td>\n",
       "    </tr>\n",
       "    <tr>\n",
       "      <td>16</td>\n",
       "      <td>сотрудник</td>\n",
       "      <td>среднее</td>\n",
       "      <td>1613.581420</td>\n",
       "      <td>136555.108821</td>\n",
       "      <td>0.0</td>\n",
       "      <td>0.0</td>\n",
       "    </tr>\n",
       "  </tbody>\n",
       "</table>\n",
       "</div>"
      ],
      "text/plain": [
       "        income_type            education        median                 \\\n",
       "                                         days_employed   total_income   \n",
       "0       госслужащий               высшее   2531.034209  172511.107016   \n",
       "1       госслужащий            начальное   2787.767403  148339.290825   \n",
       "2       госслужащий  неоконченное высшее   1885.183639  160592.345303   \n",
       "3       госслужащий              среднее   2857.770974  136652.970357   \n",
       "4         компаньон               высшее   1454.659104  201785.400018   \n",
       "5         компаньон            начальное   1151.634460  136798.905143   \n",
       "6         компаньон  неоконченное высшее   1017.888120  179867.152890   \n",
       "7         компаньон              среднее   1670.809068  159070.690289   \n",
       "8         пенсионер               высшее  15256.605268  144240.768611   \n",
       "9         пенсионер            начальное  15011.041056  102598.653164   \n",
       "10        пенсионер  неоконченное высшее  15510.437569  120136.896353   \n",
       "11        пенсионер              среднее  15209.389119  114842.854099   \n",
       "12  предприниматель               высшее    520.848083  499163.144947   \n",
       "13        сотрудник               высшее   1556.457266  165640.744634   \n",
       "14        сотрудник            начальное   1197.176853  125994.910603   \n",
       "15        сотрудник  неоконченное высшее   1197.676879  151308.937846   \n",
       "16        сотрудник              среднее   1613.581420  136555.108821   \n",
       "\n",
       "             sum               \n",
       "   days_employed total_income  \n",
       "0            0.0          0.0  \n",
       "1            0.0          0.0  \n",
       "2            0.0          0.0  \n",
       "3            0.0          0.0  \n",
       "4            0.0          0.0  \n",
       "5            0.0          0.0  \n",
       "6            0.0          0.0  \n",
       "7            0.0          0.0  \n",
       "8            0.0          0.0  \n",
       "9            0.0          0.0  \n",
       "10           0.0          0.0  \n",
       "11           0.0          0.0  \n",
       "12           0.0          0.0  \n",
       "13           0.0          0.0  \n",
       "14           0.0          0.0  \n",
       "15           0.0          0.0  \n",
       "16           0.0          0.0  "
      ]
     },
     "execution_count": 1052,
     "metadata": {},
     "output_type": "execute_result"
    }
   ],
   "source": [
    "pivot_end = pivot_mean_employed_income.merge(pivot_null_employed_income)\n",
    "pivot_end"
   ]
  },
  {
   "cell_type": "code",
   "execution_count": 1053,
   "metadata": {},
   "outputs": [
    {
     "name": "stdout",
     "output_type": "stream",
     "text": [
      "['госслужащий', 'госслужащий', 'госслужащий', 'госслужащий', 'компаньон', 'компаньон', 'компаньон', 'компаньон', 'пенсионер', 'пенсионер', 'пенсионер', 'пенсионер', 'предприниматель', 'сотрудник', 'сотрудник', 'сотрудник', 'сотрудник']\n",
      "['высшее', 'начальное', 'неоконченное высшее', 'среднее', 'высшее', 'начальное', 'неоконченное высшее', 'среднее', 'высшее', 'начальное', 'неоконченное высшее', 'среднее', 'высшее', 'высшее', 'начальное', 'неоконченное высшее', 'среднее']\n",
      "[2531.0342091733646, 2787.7674025586484, 1885.1836391786355, 2857.7709737955824, 1454.6591042048294, 1151.634459637238, 1017.888120007462, 1670.809067562865, 15256.605267845207, 15011.041056265909, 15510.437569187496, 15209.389119446227, 520.8480834953765, 1556.4572664208927, 1197.1768530446493, 1197.6768793542578, 1613.581419770452]\n",
      "[172511.10701550177, 148339.29082488286, 160592.34530334338, 136652.9703567915, 201785.40001791567, 136798.9051432623, 179867.15288993614, 159070.69028882936, 144240.76861073746, 102598.65316356516, 120136.89635252525, 114842.85409937633, 499163.1449470857, 165640.74463370856, 125994.91060275196, 151308.9378458309, 136555.10882100096]\n",
      "17\n"
     ]
    }
   ],
   "source": [
    "# создадим 4 списка, значения каждого будут соответствовать значениям в сводной таблице pivot_end\n",
    "# выведем на экран полученные списки и длину одного из них (для проверки)\n",
    "\n",
    "median_it, median_ed, median_de, median_ti = [], [], [], []\n",
    "\n",
    "for i in range(len(pivot_end)):\n",
    "    median_it.append(pivot_end['income_type'][i]) # список с типом занятости\n",
    "    median_ed.append(pivot_end['education'][i])   # список с образованием\n",
    "    median_de.append(pivot_end['median']['days_employed'][i]) # медианное значение стажа по категории\n",
    "    median_ti.append(pivot_end['median']['total_income'][i])  # медианное значение дохода по категории\n",
    "print(median_it, median_ed, median_de, median_ti, sep='\\n')\n",
    "print(len(median_it))"
   ]
  },
  {
   "cell_type": "code",
   "execution_count": 1054,
   "metadata": {},
   "outputs": [
    {
     "name": "stdout",
     "output_type": "stream",
     "text": [
      "госслужащий высшее 2531.0342091733646 172511.10701550177\n",
      "компаньон высшее 1454.6591042048294 201785.40001791567\n",
      "пенсионер неоконченное высшее 15510.437569187496 120136.89635252525\n",
      "сотрудник неоконченное высшее 1197.6768793542578 151308.9378458309\n"
     ]
    }
   ],
   "source": [
    "# проверим правильность заполнения списков.\n",
    "print(median_it[0], median_ed[0], median_de[0], median_ti[0])\n",
    "print(median_it[4], median_ed[4], median_de[4], median_ti[4])\n",
    "print(median_it[10], median_ed[10], median_de[10], median_ti[10])\n",
    "print(median_it[15], median_ed[15], median_de[15], median_ti[15])"
   ]
  },
  {
   "cell_type": "markdown",
   "metadata": {},
   "source": [
    "Значения в списках соответствую значениям в сводной таблице pivot_end.  \n",
    "Индекс значения в списке соответствует индексу строки в pivot_end.  \n",
    "\n",
    "\n",
    "Можно приступать к замене пропущенных значений в колонках 'days_employed' и 'total_income'"
   ]
  },
  {
   "cell_type": "code",
   "execution_count": 1055,
   "metadata": {},
   "outputs": [],
   "source": [
    "for i in range(len(median_it)):\n",
    "    data_bank_clients.loc[(data_bank_clients['income_type'] == median_it[i]) & \n",
    "                          (data_bank_clients['education'] == median_ed[i]) &\n",
    "                          (data_bank_clients['days_employed'].isna()),\n",
    "                          'days_employed'] = median_de[i]"
   ]
  },
  {
   "cell_type": "code",
   "execution_count": 1056,
   "metadata": {},
   "outputs": [],
   "source": [
    "for i in range(len(median_it)):\n",
    "    data_bank_clients.loc[(data_bank_clients['income_type'] == median_it[i]) & \n",
    "                          (data_bank_clients['education'] == median_ed[i]) &\n",
    "                          (data_bank_clients['total_income'].isna()),\n",
    "                          'total_income'] = median_ti[i]"
   ]
  },
  {
   "cell_type": "markdown",
   "metadata": {},
   "source": [
    "Посчитаем количество пропусков после замены пропущенных значений"
   ]
  },
  {
   "cell_type": "code",
   "execution_count": 1057,
   "metadata": {},
   "outputs": [
    {
     "data": {
      "text/plain": [
       "children            0\n",
       "days_employed       0\n",
       "dob_years           0\n",
       "education           0\n",
       "education_id        0\n",
       "family_status       0\n",
       "family_status_id    0\n",
       "gender              0\n",
       "income_type         0\n",
       "debt                0\n",
       "total_income        0\n",
       "purpose             0\n",
       "dtype: int64"
      ]
     },
     "execution_count": 1057,
     "metadata": {},
     "output_type": "execute_result"
    }
   ],
   "source": [
    "data_bank_clients.isna().sum()"
   ]
  },
  {
   "cell_type": "markdown",
   "metadata": {},
   "source": [
    "Все пропуски были заменены на медианные значения трудового стажа и дохода в соответствии с типом занятости и уровнем образования заемщика"
   ]
  },
  {
   "cell_type": "code",
   "execution_count": 1058,
   "metadata": {},
   "outputs": [
    {
     "data": {
      "text/html": [
       "<div>\n",
       "<style scoped>\n",
       "    .dataframe tbody tr th:only-of-type {\n",
       "        vertical-align: middle;\n",
       "    }\n",
       "\n",
       "    .dataframe tbody tr th {\n",
       "        vertical-align: top;\n",
       "    }\n",
       "\n",
       "    .dataframe thead tr th {\n",
       "        text-align: left;\n",
       "    }\n",
       "</style>\n",
       "<table border=\"1\" class=\"dataframe\">\n",
       "  <thead>\n",
       "    <tr>\n",
       "      <th></th>\n",
       "      <th>income_type</th>\n",
       "      <th>education</th>\n",
       "      <th colspan=\"2\" halign=\"left\">median</th>\n",
       "    </tr>\n",
       "    <tr>\n",
       "      <th></th>\n",
       "      <th></th>\n",
       "      <th></th>\n",
       "      <th>days_employed</th>\n",
       "      <th>total_income</th>\n",
       "    </tr>\n",
       "  </thead>\n",
       "  <tbody>\n",
       "    <tr>\n",
       "      <td>0</td>\n",
       "      <td>безработный</td>\n",
       "      <td>высшее</td>\n",
       "      <td>3953.028387</td>\n",
       "      <td>202722.511368</td>\n",
       "    </tr>\n",
       "    <tr>\n",
       "      <td>1</td>\n",
       "      <td>безработный</td>\n",
       "      <td>среднее</td>\n",
       "      <td>3375.244668</td>\n",
       "      <td>59956.991984</td>\n",
       "    </tr>\n",
       "    <tr>\n",
       "      <td>2</td>\n",
       "      <td>в декрете</td>\n",
       "      <td>среднее</td>\n",
       "      <td>3296.759962</td>\n",
       "      <td>53829.130729</td>\n",
       "    </tr>\n",
       "    <tr>\n",
       "      <td>3</td>\n",
       "      <td>госслужащий</td>\n",
       "      <td>высшее</td>\n",
       "      <td>2531.034209</td>\n",
       "      <td>172511.107016</td>\n",
       "    </tr>\n",
       "    <tr>\n",
       "      <td>4</td>\n",
       "      <td>госслужащий</td>\n",
       "      <td>начальное</td>\n",
       "      <td>2787.767403</td>\n",
       "      <td>148339.290825</td>\n",
       "    </tr>\n",
       "    <tr>\n",
       "      <td>5</td>\n",
       "      <td>госслужащий</td>\n",
       "      <td>неоконченное высшее</td>\n",
       "      <td>1885.183639</td>\n",
       "      <td>160592.345303</td>\n",
       "    </tr>\n",
       "    <tr>\n",
       "      <td>6</td>\n",
       "      <td>госслужащий</td>\n",
       "      <td>среднее</td>\n",
       "      <td>2857.770974</td>\n",
       "      <td>136652.970357</td>\n",
       "    </tr>\n",
       "    <tr>\n",
       "      <td>7</td>\n",
       "      <td>госслужащий</td>\n",
       "      <td>ученая степень</td>\n",
       "      <td>5968.075884</td>\n",
       "      <td>111392.231107</td>\n",
       "    </tr>\n",
       "    <tr>\n",
       "      <td>8</td>\n",
       "      <td>компаньон</td>\n",
       "      <td>высшее</td>\n",
       "      <td>1454.659104</td>\n",
       "      <td>201785.400018</td>\n",
       "    </tr>\n",
       "    <tr>\n",
       "      <td>9</td>\n",
       "      <td>компаньон</td>\n",
       "      <td>начальное</td>\n",
       "      <td>1151.634460</td>\n",
       "      <td>136798.905143</td>\n",
       "    </tr>\n",
       "    <tr>\n",
       "      <td>10</td>\n",
       "      <td>компаньон</td>\n",
       "      <td>неоконченное высшее</td>\n",
       "      <td>1017.888120</td>\n",
       "      <td>179867.152890</td>\n",
       "    </tr>\n",
       "    <tr>\n",
       "      <td>11</td>\n",
       "      <td>компаньон</td>\n",
       "      <td>среднее</td>\n",
       "      <td>1670.809068</td>\n",
       "      <td>159070.690289</td>\n",
       "    </tr>\n",
       "    <tr>\n",
       "      <td>12</td>\n",
       "      <td>пенсионер</td>\n",
       "      <td>высшее</td>\n",
       "      <td>15256.605268</td>\n",
       "      <td>144240.768611</td>\n",
       "    </tr>\n",
       "    <tr>\n",
       "      <td>13</td>\n",
       "      <td>пенсионер</td>\n",
       "      <td>начальное</td>\n",
       "      <td>15011.041056</td>\n",
       "      <td>102598.653164</td>\n",
       "    </tr>\n",
       "    <tr>\n",
       "      <td>14</td>\n",
       "      <td>пенсионер</td>\n",
       "      <td>неоконченное высшее</td>\n",
       "      <td>15510.437569</td>\n",
       "      <td>120136.896353</td>\n",
       "    </tr>\n",
       "    <tr>\n",
       "      <td>15</td>\n",
       "      <td>пенсионер</td>\n",
       "      <td>среднее</td>\n",
       "      <td>15209.389119</td>\n",
       "      <td>114842.854099</td>\n",
       "    </tr>\n",
       "    <tr>\n",
       "      <td>16</td>\n",
       "      <td>пенсионер</td>\n",
       "      <td>ученая степень</td>\n",
       "      <td>14872.104898</td>\n",
       "      <td>177088.845999</td>\n",
       "    </tr>\n",
       "    <tr>\n",
       "      <td>17</td>\n",
       "      <td>предприниматель</td>\n",
       "      <td>высшее</td>\n",
       "      <td>520.848083</td>\n",
       "      <td>499163.144947</td>\n",
       "    </tr>\n",
       "    <tr>\n",
       "      <td>18</td>\n",
       "      <td>сотрудник</td>\n",
       "      <td>высшее</td>\n",
       "      <td>1556.457266</td>\n",
       "      <td>165640.744634</td>\n",
       "    </tr>\n",
       "    <tr>\n",
       "      <td>19</td>\n",
       "      <td>сотрудник</td>\n",
       "      <td>начальное</td>\n",
       "      <td>1197.176853</td>\n",
       "      <td>125994.910603</td>\n",
       "    </tr>\n",
       "    <tr>\n",
       "      <td>20</td>\n",
       "      <td>сотрудник</td>\n",
       "      <td>неоконченное высшее</td>\n",
       "      <td>1197.676879</td>\n",
       "      <td>151308.937846</td>\n",
       "    </tr>\n",
       "    <tr>\n",
       "      <td>21</td>\n",
       "      <td>сотрудник</td>\n",
       "      <td>среднее</td>\n",
       "      <td>1613.581420</td>\n",
       "      <td>136555.108821</td>\n",
       "    </tr>\n",
       "    <tr>\n",
       "      <td>22</td>\n",
       "      <td>сотрудник</td>\n",
       "      <td>ученая степень</td>\n",
       "      <td>2351.431934</td>\n",
       "      <td>198570.757322</td>\n",
       "    </tr>\n",
       "    <tr>\n",
       "      <td>23</td>\n",
       "      <td>студент</td>\n",
       "      <td>высшее</td>\n",
       "      <td>578.751554</td>\n",
       "      <td>98201.625314</td>\n",
       "    </tr>\n",
       "  </tbody>\n",
       "</table>\n",
       "</div>"
      ],
      "text/plain": [
       "        income_type            education        median               \n",
       "                                         days_employed   total_income\n",
       "0       безработный               высшее   3953.028387  202722.511368\n",
       "1       безработный              среднее   3375.244668   59956.991984\n",
       "2         в декрете              среднее   3296.759962   53829.130729\n",
       "3       госслужащий               высшее   2531.034209  172511.107016\n",
       "4       госслужащий            начальное   2787.767403  148339.290825\n",
       "5       госслужащий  неоконченное высшее   1885.183639  160592.345303\n",
       "6       госслужащий              среднее   2857.770974  136652.970357\n",
       "7       госслужащий       ученая степень   5968.075884  111392.231107\n",
       "8         компаньон               высшее   1454.659104  201785.400018\n",
       "9         компаньон            начальное   1151.634460  136798.905143\n",
       "10        компаньон  неоконченное высшее   1017.888120  179867.152890\n",
       "11        компаньон              среднее   1670.809068  159070.690289\n",
       "12        пенсионер               высшее  15256.605268  144240.768611\n",
       "13        пенсионер            начальное  15011.041056  102598.653164\n",
       "14        пенсионер  неоконченное высшее  15510.437569  120136.896353\n",
       "15        пенсионер              среднее  15209.389119  114842.854099\n",
       "16        пенсионер       ученая степень  14872.104898  177088.845999\n",
       "17  предприниматель               высшее    520.848083  499163.144947\n",
       "18        сотрудник               высшее   1556.457266  165640.744634\n",
       "19        сотрудник            начальное   1197.176853  125994.910603\n",
       "20        сотрудник  неоконченное высшее   1197.676879  151308.937846\n",
       "21        сотрудник              среднее   1613.581420  136555.108821\n",
       "22        сотрудник       ученая степень   2351.431934  198570.757322\n",
       "23          студент               высшее    578.751554   98201.625314"
      ]
     },
     "execution_count": 1058,
     "metadata": {},
     "output_type": "execute_result"
    }
   ],
   "source": [
    "data_bank_clients.pivot_table(index=['income_type', 'education'],\n",
    "                              values=['days_employed', 'total_income'], \n",
    "                              aggfunc=['median']).reset_index()"
   ]
  },
  {
   "cell_type": "markdown",
   "metadata": {},
   "source": [
    "**Вывод**\n",
    "***\n",
    "\n",
    "Все пропущенные значения были обработаны и заполнены медианными значениями стажа и дохода в зависимости от категории занятости и уровня образования заемщика."
   ]
  },
  {
   "cell_type": "markdown",
   "metadata": {},
   "source": [
    "### Замена типа данных"
   ]
  },
  {
   "cell_type": "markdown",
   "metadata": {},
   "source": [
    "Для удобства дальнейшей работы с обработаем типы данных столбцов."
   ]
  },
  {
   "cell_type": "code",
   "execution_count": 1059,
   "metadata": {},
   "outputs": [
    {
     "data": {
      "text/plain": [
       "children              int64\n",
       "days_employed       float64\n",
       "dob_years             int64\n",
       "education            object\n",
       "education_id          int64\n",
       "family_status        object\n",
       "family_status_id      int64\n",
       "gender               object\n",
       "income_type          object\n",
       "debt                  int64\n",
       "total_income        float64\n",
       "purpose              object\n",
       "dtype: object"
      ]
     },
     "execution_count": 1059,
     "metadata": {},
     "output_type": "execute_result"
    }
   ],
   "source": [
    "data_bank_clients.dtypes"
   ]
  },
  {
   "cell_type": "markdown",
   "metadata": {},
   "source": [
    "Все типы данных  в столбцах соответствуют представленной в них информации. Где числа - там тип int64 или float64, где значения строчные - object. Категоральные значения, выраженные числами (столбцы 'education_id', 'family_status_id', 'debt') представлены целочисленным типом данных.\n",
    "\n",
    "В столбцах days_employed (трудовой стаж) и total_income (ежемесячный доход) тип данных float64 и много знаков после запятой, что усложняет читаемость данных и дальнейшую работу с ними.  \n",
    "\n",
    "Для того, чтобы привести значения с плавающей точкой к целочисленным можно применить метод astype(). Так как приводить к целочисленному типу int нужно две колонки воспользуемся словарем."
   ]
  },
  {
   "cell_type": "markdown",
   "metadata": {},
   "source": [
    "Приведем столбцы 'days_employed' и 'total_income' к целочисленному типу и выведем измененные типы на экран методом dtypes()"
   ]
  },
  {
   "cell_type": "code",
   "execution_count": 1060,
   "metadata": {},
   "outputs": [
    {
     "data": {
      "text/plain": [
       "children             int64\n",
       "days_employed        int64\n",
       "dob_years            int64\n",
       "education           object\n",
       "education_id         int64\n",
       "family_status       object\n",
       "family_status_id     int64\n",
       "gender              object\n",
       "income_type         object\n",
       "debt                 int64\n",
       "total_income         int64\n",
       "purpose             object\n",
       "dtype: object"
      ]
     },
     "execution_count": 1060,
     "metadata": {},
     "output_type": "execute_result"
    }
   ],
   "source": [
    "data_bank_clients = data_bank_clients.astype({'days_employed': 'int64', 'total_income' : 'int64'})\n",
    "data_bank_clients.dtypes"
   ]
  },
  {
   "cell_type": "markdown",
   "metadata": {},
   "source": [
    "**Вывод** \n",
    "***\n",
    "Типы данных в столбцах 'days_employed' (трудовой стаж) и 'total_income' (ежемесячный доход) изменены с типов значений с павающей точкой (float64) на целочисленные (int64) для удобства дальнейшей работы с ними.\n",
    "\n",
    "Других проблем с типами данных в датафрейме нет."
   ]
  },
  {
   "cell_type": "markdown",
   "metadata": {},
   "source": [
    "### Обработка дубликатов"
   ]
  },
  {
   "cell_type": "markdown",
   "metadata": {},
   "source": [
    "Найдем количество дубликатов в датафрейме, если такие имеются.\n",
    "Вызовем метод duplicated() и sum() для подсчета дублированных строк."
   ]
  },
  {
   "cell_type": "code",
   "execution_count": 1061,
   "metadata": {},
   "outputs": [
    {
     "name": "stdout",
     "output_type": "stream",
     "text": [
      "Дубликатов в датафрейме:  71\n"
     ]
    }
   ],
   "source": [
    "print('Дубликатов в датафрейме: ', data_bank_clients.duplicated().sum())"
   ]
  },
  {
   "cell_type": "markdown",
   "metadata": {},
   "source": [
    "Уникального идентификатора заемщика или какого - либо другого признака по которому возможно было бы выделить уникальных клиентов и уже на них проверить дубликаты в таблице нет, поэтому подсчитать количество дубликатов по определенному признаку не представляется возможным: по любым признакам имеющимся в нашем распоряжении дубликаты будут, например:"
   ]
  },
  {
   "cell_type": "code",
   "execution_count": 1062,
   "metadata": {},
   "outputs": [
    {
     "name": "stdout",
     "output_type": "stream",
     "text": [
      "True     21517\n",
      "False        8\n",
      "Name: income_type, dtype: int64\n"
     ]
    }
   ],
   "source": [
    "print(data_bank_clients['income_type'].duplicated().value_counts())"
   ]
  },
  {
   "cell_type": "markdown",
   "metadata": {},
   "source": [
    "Теоретически, дубликаты могли появится в результате технического сбоя при при выгрузке данных. Так как уникального идентификатора нет, уточнить относятся ли наденные дубликаты к однуму клиенту не представляется возможным. "
   ]
  },
  {
   "cell_type": "markdown",
   "metadata": {},
   "source": [
    "Для дальнейшей обработки удалим дубликаты и заменим индексы и проверим количество дубликатов после удаления"
   ]
  },
  {
   "cell_type": "code",
   "execution_count": 1063,
   "metadata": {},
   "outputs": [
    {
     "name": "stdout",
     "output_type": "stream",
     "text": [
      "Дубликатов в датафрейме:  0\n"
     ]
    }
   ],
   "source": [
    "data_bank_clients = data_bank_clients.drop_duplicates().reset_index(drop=True)\n",
    "print('Дубликатов в датафрейме: ', data_bank_clients.duplicated().sum())"
   ]
  },
  {
   "cell_type": "markdown",
   "metadata": {},
   "source": [
    "**Вывод**\n",
    "***\n",
    "- всего был найден 71 дубликат в датафрейме методом duplicated().sum()  \n",
    "- методом drop_duplicates() дубликаты в строках были удалены"
   ]
  },
  {
   "cell_type": "markdown",
   "metadata": {},
   "source": [
    "### Лемматизация"
   ]
  },
  {
   "cell_type": "markdown",
   "metadata": {},
   "source": [
    "Найдем наиболее часто встречающиеся слова в категории целей кредита. В остальных столбцах уже можно выделить отдельные категории, их лемматизировать не нужно.  \n",
    "Воспользуемся библиотекой pymystem3 с функцией лемматизации Mystem()"
   ]
  },
  {
   "cell_type": "code",
   "execution_count": 1064,
   "metadata": {},
   "outputs": [],
   "source": [
    "m = Mystem()"
   ]
  },
  {
   "cell_type": "markdown",
   "metadata": {},
   "source": [
    "Подготовим столбец с целями кредита для лемматизации и выявления наиболее часто встречающихся слов.\n",
    "\n",
    "Рассмотрим подробнее уникальные значения столбца 'purpoze' - целей кредита и количество их повторений для этого воспользуемся методом value_counts(). Сохраним в purpose_unique_dbc уникальные значения столбца и переведем их в строку."
   ]
  },
  {
   "cell_type": "code",
   "execution_count": 1065,
   "metadata": {},
   "outputs": [
    {
     "data": {
      "text/plain": [
       "свадьба                                   791\n",
       "на проведение свадьбы                     768\n",
       "сыграть свадьбу                           765\n",
       "операции с недвижимостью                  675\n",
       "покупка коммерческой недвижимости         661\n",
       "операции с жильем                         652\n",
       "покупка жилья для сдачи                   651\n",
       "операции с коммерческой недвижимостью     650\n",
       "покупка жилья                             646\n",
       "жилье                                     646\n",
       "покупка жилья для семьи                   638\n",
       "строительство собственной недвижимости    635\n",
       "недвижимость                              633\n",
       "операции со своей недвижимостью           627\n",
       "строительство жилой недвижимости          624\n",
       "покупка недвижимости                      621\n",
       "покупка своего жилья                      620\n",
       "строительство недвижимости                619\n",
       "ремонт жилью                              607\n",
       "покупка жилой недвижимости                606\n",
       "на покупку своего автомобиля              505\n",
       "заняться высшим образованием              496\n",
       "автомобиль                                494\n",
       "сделка с подержанным автомобилем          486\n",
       "на покупку подержанного автомобиля        478\n",
       "свой автомобиль                           478\n",
       "автомобили                                478\n",
       "на покупку автомобиля                     471\n",
       "приобретение автомобиля                   461\n",
       "дополнительное образование                460\n",
       "сделка с автомобилем                      455\n",
       "высшее образование                        452\n",
       "образование                               447\n",
       "получение дополнительного образования     446\n",
       "получение образования                     442\n",
       "профильное образование                    436\n",
       "получение высшего образования             426\n",
       "заняться образованием                     408\n",
       "Name: purpose, dtype: int64"
      ]
     },
     "metadata": {},
     "output_type": "display_data"
    }
   ],
   "source": [
    "display(data_bank_clients['purpose'].value_counts())\n",
    "purpose_unique_dbc = ','.join(data_bank_clients['purpose'].unique())"
   ]
  },
  {
   "cell_type": "markdown",
   "metadata": {},
   "source": [
    "Лемматизируем слова в переменной purpose_unique_dbc и подсчитаем количество слов и отсортируем по убыванию"
   ]
  },
  {
   "cell_type": "code",
   "execution_count": 1066,
   "metadata": {},
   "outputs": [
    {
     "data": {
      "text/plain": [
       "[(' ', 59),\n",
       " (',', 37),\n",
       " ('покупка', 10),\n",
       " ('недвижимость', 10),\n",
       " ('автомобиль', 9),\n",
       " ('образование', 9),\n",
       " ('жилье', 7),\n",
       " ('с', 5),\n",
       " ('операция', 4),\n",
       " ('на', 4),\n",
       " ('свой', 4),\n",
       " ('свадьба', 3),\n",
       " ('строительство', 3),\n",
       " ('получение', 3),\n",
       " ('высокий', 3),\n",
       " ('дополнительный', 2),\n",
       " ('для', 2),\n",
       " ('коммерческий', 2),\n",
       " ('жилой', 2),\n",
       " ('подержать', 2),\n",
       " ('заниматься', 2),\n",
       " ('сделка', 2),\n",
       " ('приобретение', 1),\n",
       " ('сыграть', 1),\n",
       " ('проведение', 1),\n",
       " ('семья', 1),\n",
       " ('собственный', 1),\n",
       " ('со', 1),\n",
       " ('профильный', 1),\n",
       " ('сдача', 1),\n",
       " ('ремонт', 1),\n",
       " ('\\n', 1)]"
      ]
     },
     "execution_count": 1066,
     "metadata": {},
     "output_type": "execute_result"
    }
   ],
   "source": [
    "lemme_purpose = m.lemmatize((purpose_unique_dbc))\n",
    "count_lemme_purpose = Counter(lemme_purpose)\n",
    "count_lemme_purpose.most_common()"
   ]
  },
  {
   "cell_type": "code",
   "execution_count": 1067,
   "metadata": {},
   "outputs": [
    {
     "data": {
      "text/plain": [
       "['\\n',\n",
       " ' ',\n",
       " ',',\n",
       " 'автомобиль',\n",
       " 'высокий',\n",
       " 'для',\n",
       " 'дополнительный',\n",
       " 'жилой',\n",
       " 'жилье',\n",
       " 'заниматься',\n",
       " 'коммерческий',\n",
       " 'на',\n",
       " 'недвижимость',\n",
       " 'образование',\n",
       " 'операция',\n",
       " 'подержать',\n",
       " 'покупка',\n",
       " 'получение',\n",
       " 'приобретение',\n",
       " 'проведение',\n",
       " 'профильный',\n",
       " 'ремонт',\n",
       " 'с',\n",
       " 'свадьба',\n",
       " 'свой',\n",
       " 'сдача',\n",
       " 'сделка',\n",
       " 'семья',\n",
       " 'со',\n",
       " 'собственный',\n",
       " 'строительство',\n",
       " 'сыграть']"
      ]
     },
     "execution_count": 1067,
     "metadata": {},
     "output_type": "execute_result"
    }
   ],
   "source": [
    "sorted(list(count_lemme_purpose))"
   ]
  },
  {
   "cell_type": "markdown",
   "metadata": {},
   "source": [
    "Проведем подсчет лемм по всем значениям в столбце целей - purpose и сохраним в purpose_dbc_all все значения столбца purpose и переведем их в строку"
   ]
  },
  {
   "cell_type": "code",
   "execution_count": 1068,
   "metadata": {},
   "outputs": [],
   "source": [
    "purpose_dbc_all = []\n",
    "for i in range(len(data_bank_clients['purpose'])):\n",
    "    purpose_dbc_all.append(data_bank_clients['purpose'][i])\n",
    "purpose_dbc_all = ','.join(purpose_dbc_all)"
   ]
  },
  {
   "cell_type": "markdown",
   "metadata": {},
   "source": [
    "Лемматизируем слова в столбце purpose и подсчитаем количество слов во всем столбце и отсортируем по убыванию"
   ]
  },
  {
   "cell_type": "code",
   "execution_count": 1069,
   "metadata": {},
   "outputs": [
    {
     "data": {
      "text/plain": [
       "[(' ', 33570),\n",
       " (',', 21453),\n",
       " ('недвижимость', 6351),\n",
       " ('покупка', 5897),\n",
       " ('жилье', 4460),\n",
       " ('автомобиль', 4306),\n",
       " ('образование', 4013),\n",
       " ('с', 2918),\n",
       " ('операция', 2604),\n",
       " ('свадьба', 2324),\n",
       " ('свой', 2230),\n",
       " ('на', 2222),\n",
       " ('строительство', 1878),\n",
       " ('высокий', 1374),\n",
       " ('получение', 1314),\n",
       " ('коммерческий', 1311),\n",
       " ('для', 1289),\n",
       " ('жилой', 1230),\n",
       " ('сделка', 941),\n",
       " ('дополнительный', 906),\n",
       " ('заниматься', 904),\n",
       " ('подержать', 853),\n",
       " ('проведение', 768),\n",
       " ('сыграть', 765),\n",
       " ('сдача', 651),\n",
       " ('семья', 638),\n",
       " ('собственный', 635),\n",
       " ('со', 627),\n",
       " ('ремонт', 607),\n",
       " ('приобретение', 461),\n",
       " ('профильный', 436),\n",
       " ('подержанный', 111),\n",
       " ('\\n', 1)]"
      ]
     },
     "execution_count": 1069,
     "metadata": {},
     "output_type": "execute_result"
    }
   ],
   "source": [
    "lemme_purpose_all = m.lemmatize(purpose_dbc_all)\n",
    "count_lemme_purpose_all = Counter(lemme_purpose_all)\n",
    "count_lemme_purpose_all.most_common()"
   ]
  },
  {
   "cell_type": "markdown",
   "metadata": {},
   "source": [
    "Объединим все цели в 4 категории, сохраним в список\n",
    "\n",
    "1. Все сделки с недвижимостью, ремонт, сдача жилья, строительство объединим в одну категорию - недвижимость.\n",
    "2. Все, что связано с автомобилями - автомобиль.\n",
    "3. Дополнительное образование, высшее образование - образование.\n",
    "4. Сыграть свадьбу - свадьба."
   ]
  },
  {
   "cell_type": "markdown",
   "metadata": {},
   "source": [
    "Выделим общий список категорий целей кредита - category_purpose."
   ]
  },
  {
   "cell_type": "code",
   "execution_count": 1070,
   "metadata": {},
   "outputs": [],
   "source": [
    "category_purpose = ['автомобиль', 'недвижимость', 'образование', 'свадьба']"
   ]
  },
  {
   "cell_type": "markdown",
   "metadata": {},
   "source": [
    "**Вывод**\n",
    "***\n",
    "Путем лемматизации столбца 'purpose' (целей выдачи кредита) было выделено 4 основные целевые категории: 'автомобиль', 'недвижимость', 'образование', 'свадьба'"
   ]
  },
  {
   "cell_type": "markdown",
   "metadata": {},
   "source": [
    "### Категоризация данных"
   ]
  },
  {
   "cell_type": "markdown",
   "metadata": {},
   "source": [
    "Категоризируем данные по цели выдачи кредитов. Для получения ответов на вопрос как влияет цель кредита на его возврат в срок.\n",
    "В предыдущем разделе было выделено 4 больших категории целей для выдачи кредитов:\n",
    "- 'автомобиль', \n",
    "- 'недвижимость',\n",
    "- 'образование',\n",
    "- 'свадьба'\n",
    "\n",
    "Добавим новый столбец с категорией цели кредита"
   ]
  },
  {
   "cell_type": "code",
   "execution_count": 1071,
   "metadata": {},
   "outputs": [],
   "source": [
    "def f_purpose_type(purpose):\n",
    "    if 'автомобил' in purpose:\n",
    "        pt = 'автомобиль'\n",
    "    elif 'образован' in purpose:\n",
    "        pt = 'образование'\n",
    "    elif 'свад' in purpose:\n",
    "        pt = 'свадьба'\n",
    "    elif 'жил' in purpose or 'недвиж' in purpose:\n",
    "        pt = 'недвижимость'\n",
    "    else:\n",
    "        pt = 'пропущена'\n",
    "    return pt      "
   ]
  },
  {
   "cell_type": "code",
   "execution_count": 1072,
   "metadata": {},
   "outputs": [],
   "source": [
    "# заполним значения столбца 'purpose_type' с помощью функции f_purpose_type\n",
    "data_bank_clients['purpose_type'] = data_bank_clients['purpose'].apply(f_purpose_type)"
   ]
  },
  {
   "cell_type": "code",
   "execution_count": 1073,
   "metadata": {},
   "outputs": [
    {
     "data": {
      "text/plain": [
       "array(['недвижимость', 'автомобиль', 'образование', 'свадьба'],\n",
       "      dtype=object)"
      ]
     },
     "execution_count": 1073,
     "metadata": {},
     "output_type": "execute_result"
    }
   ],
   "source": [
    "# проверим правильность заполнения - выведем уникальные значения столбца 'purpose_type'\n",
    "data_bank_clients['purpose_type'].unique()"
   ]
  },
  {
   "cell_type": "markdown",
   "metadata": {},
   "source": [
    "Проверка на ошибку работы функции прошла успешно. Категория 'пропущена' отсутствует.\n"
   ]
  },
  {
   "cell_type": "code",
   "execution_count": 1074,
   "metadata": {},
   "outputs": [
    {
     "data": {
      "text/html": [
       "<div>\n",
       "<style scoped>\n",
       "    .dataframe tbody tr th:only-of-type {\n",
       "        vertical-align: middle;\n",
       "    }\n",
       "\n",
       "    .dataframe tbody tr th {\n",
       "        vertical-align: top;\n",
       "    }\n",
       "\n",
       "    .dataframe thead tr th {\n",
       "        text-align: left;\n",
       "    }\n",
       "</style>\n",
       "<table border=\"1\" class=\"dataframe\">\n",
       "  <thead>\n",
       "    <tr>\n",
       "      <th></th>\n",
       "      <th>purpose_type</th>\n",
       "      <th>purpose</th>\n",
       "      <th>count</th>\n",
       "    </tr>\n",
       "    <tr>\n",
       "      <th></th>\n",
       "      <th></th>\n",
       "      <th></th>\n",
       "      <th>debt</th>\n",
       "    </tr>\n",
       "  </thead>\n",
       "  <tbody>\n",
       "    <tr>\n",
       "      <td>0</td>\n",
       "      <td>автомобиль</td>\n",
       "      <td>автомобили</td>\n",
       "      <td>478</td>\n",
       "    </tr>\n",
       "    <tr>\n",
       "      <td>1</td>\n",
       "      <td>автомобиль</td>\n",
       "      <td>автомобиль</td>\n",
       "      <td>494</td>\n",
       "    </tr>\n",
       "    <tr>\n",
       "      <td>2</td>\n",
       "      <td>автомобиль</td>\n",
       "      <td>на покупку автомобиля</td>\n",
       "      <td>471</td>\n",
       "    </tr>\n",
       "    <tr>\n",
       "      <td>3</td>\n",
       "      <td>автомобиль</td>\n",
       "      <td>на покупку подержанного автомобиля</td>\n",
       "      <td>478</td>\n",
       "    </tr>\n",
       "    <tr>\n",
       "      <td>4</td>\n",
       "      <td>автомобиль</td>\n",
       "      <td>на покупку своего автомобиля</td>\n",
       "      <td>505</td>\n",
       "    </tr>\n",
       "  </tbody>\n",
       "</table>\n",
       "</div>"
      ],
      "text/plain": [
       "  purpose_type                             purpose count\n",
       "                                                    debt\n",
       "0   автомобиль                          автомобили   478\n",
       "1   автомобиль                          автомобиль   494\n",
       "2   автомобиль               на покупку автомобиля   471\n",
       "3   автомобиль  на покупку подержанного автомобиля   478\n",
       "4   автомобиль        на покупку своего автомобиля   505"
      ]
     },
     "execution_count": 1074,
     "metadata": {},
     "output_type": "execute_result"
    }
   ],
   "source": [
    "# сгруппируем данные по большой цели и по исходной цели\n",
    "data_bank_clients_purpose = data_bank_clients.pivot_table(index=['purpose_type', 'purpose'],\n",
    "                              values=['debt'], \n",
    "                              aggfunc=['count']).reset_index()\n",
    "data_bank_clients_purpose.head()"
   ]
  },
  {
   "cell_type": "markdown",
   "metadata": {},
   "source": [
    "***Категоризируем данные по уровню дохода***"
   ]
  },
  {
   "cell_type": "markdown",
   "metadata": {},
   "source": [
    "Категоризация доходов понадобится для ответа на вопрос как влияет уровень дохода на возврат кредитов в срок."
   ]
  },
  {
   "cell_type": "code",
   "execution_count": 1075,
   "metadata": {},
   "outputs": [
    {
     "data": {
      "text/plain": [
       "count      21454\n",
       "mean      165453\n",
       "std        98288\n",
       "min        20667\n",
       "25%       107515\n",
       "50%       143707\n",
       "75%       198307\n",
       "max      2265604\n",
       "Name: total_income, dtype: int64"
      ]
     },
     "execution_count": 1075,
     "metadata": {},
     "output_type": "execute_result"
    }
   ],
   "source": [
    "# определим какой вообще имеется доход у клиентов\n",
    "total_income_category = data_bank_clients['total_income'].describe().astype('int')\n",
    "total_income_category"
   ]
  },
  {
   "cell_type": "markdown",
   "metadata": {},
   "source": [
    "Разделим на 4 группы:\n",
    "1. Низкий доход - менее 25 %\n",
    "2. Средний доход - от 25 % до 50 %\n",
    "3. Высокий доход от 50 % до 75 %\n",
    "4. Очень высокий доход - выше 75 %"
   ]
  },
  {
   "cell_type": "code",
   "execution_count": 1080,
   "metadata": {},
   "outputs": [],
   "source": [
    "# разделим доход клиентов на 4 основные категории:\n",
    "data_bank_clients['category_income_type'] = pd.qcut(data_bank_clients['total_income'], 4, \n",
    "                               labels=[\"низкий доход\", \"средний доход\", \"высокий доход\", \"очень высокий доход\"])"
   ]
  },
  {
   "cell_type": "code",
   "execution_count": 1081,
   "metadata": {},
   "outputs": [
    {
     "data": {
      "text/plain": [
       "[очень высокий доход, средний доход, высокий доход, низкий доход]\n",
       "Categories (4, object): [низкий доход < средний доход < высокий доход < очень высокий доход]"
      ]
     },
     "execution_count": 1081,
     "metadata": {},
     "output_type": "execute_result"
    }
   ],
   "source": [
    "# проверим правильность заполнения - выведем уникальные значения столбца 'category_income_type'\n",
    "data_bank_clients['category_income_type'].unique()"
   ]
  },
  {
   "cell_type": "markdown",
   "metadata": {},
   "source": [
    "Пропущенных категорий по доходам не появилось. Все данные столбца 'total_income' категоризированы для последующей обработки."
   ]
  },
  {
   "cell_type": "markdown",
   "metadata": {},
   "source": [
    "**Вывод**\n",
    "***\n",
    "- Путем категоризации столбца целей кредита 'purpose' был добавлен новый столбец 'purpose_category', который объединил разные варианты написания целей кредита по основным категориям: недвижимость, образование, свадьба и автомобиль.\n",
    "- Данные по доходам были объединены по категориям: 'очень высокий доход', 'средний доход', 'высокий доход', 'низкий доход' и добавлен новый столбец 'category_income_type'"
   ]
  },
  {
   "cell_type": "markdown",
   "metadata": {},
   "source": [
    "**ВЫВОДЫ ПО ГЛАВЕ 2. Предобработка данных**\n",
    "***\n",
    "Найденные артефакты обработаны.  \n",
    "\n",
    "Пропущенные значения в колонках с трудовым стажем и доходом были заменены на медианные значения в соответствии с типом занятости и уровнем образования.\n",
    "\n",
    "Необходимо уточнить по какому принципу собиралась информация о трудовом стаже заемщиков, так как после перевода значений, остались строки, в которых стаж клиента слишком высок для его возраста.  \n",
    "В данном исследовании трудовой стаж не повлияет на результат поэтому, до уточнения данных оставим их такими какие они есть.\n",
    "\n",
    "Лемматизирован столбец с целями кредита. \n",
    "\n",
    "Категоризированы данные по целям кредита и уровню дохода. Результат два новых столбца - 'purpose_type' и 'category_income_type'."
   ]
  },
  {
   "cell_type": "markdown",
   "metadata": {},
   "source": [
    "##  Результаты исследования"
   ]
  },
  {
   "cell_type": "markdown",
   "metadata": {},
   "source": [
    "Результатом исследования будут ответы на следующие вопросы:\n",
    "1. Есть ли зависимость между наличием детей и возвратом кредита в срок?\n",
    "2. Есть ли зависимость между семейным положением и возвратом кредита в срок?\n",
    "3. Есть ли зависимость между уровнем дохода и возвратом кредита в срок?\n",
    "4. Как разные цели кредита влияют на его возврат в срок?\n",
    "\n",
    "Для ответов на эти вопросы подготовим функцию, которая будет группировать и подсчитывать данные по интересующим нас столбцам."
   ]
  },
  {
   "cell_type": "markdown",
   "metadata": {},
   "source": [
    "share_percent(column): \n",
    "- функция нахождения процента данных по категории от общих данных\n",
    "- параметр функции - наименование столбца по которому необходимо получить данные\n",
    "- выход - % данных по категориям столбца"
   ]
  },
  {
   "cell_type": "code",
   "execution_count": 1082,
   "metadata": {},
   "outputs": [],
   "source": [
    "def share_percent(column):\n",
    "    count_dbc = (data_bank_clients[column].value_counts()).to_frame()\n",
    "    count_dbc['share_percent'] = round((data_bank_clients[column].value_counts() / len(data_bank_clients) * 100), 2)\n",
    "    return count_dbc"
   ]
  },
  {
   "cell_type": "markdown",
   "metadata": {},
   "source": [
    "share_debt(column): \n",
    "- функция для подсчета процента задолженностей\n",
    "- параметр функции - наименование столбца по которому необходимо получить данные\n",
    "- выход - сводная таблица с колонками: '0' - количество клиентов без задолженности,\n",
    "- '1' - количество клиентов с задолженностью, 'total' - общее количество клиентов по группам\n",
    "- 'share_bad_debt_%' - процент клиентов с задолженностью по категориям"
   ]
  },
  {
   "cell_type": "code",
   "execution_count": 1,
   "metadata": {},
   "outputs": [],
   "source": [
    "def share_debt(column):\n",
    "    data_bank_clients_debt = data_bank_clients.pivot_table(index=[column], \n",
    "                                                                 columns=['debt'], values='purpose', aggfunc='count').fillna(0)\n",
    "    data_bank_clients_debt['total'] = data_bank_clients_debt[0] + data_bank_clients_debt[1]\n",
    "    data_bank_clients_debt['share_bad_debt_%'] = round((data_bank_clients_debt[1] / \n",
    "                                                        data_bank_clients_debt['total'] * 100), 2)\n",
    "    return data_bank_clients_debt"
   ]
  },
  {
   "cell_type": "markdown",
   "metadata": {},
   "source": [
    "### Есть ли зависимость между наличием детей и возвратом кредита в срок?"
   ]
  },
  {
   "cell_type": "code",
   "execution_count": 1084,
   "metadata": {},
   "outputs": [
    {
     "data": {
      "text/html": [
       "<div>\n",
       "<style scoped>\n",
       "    .dataframe tbody tr th:only-of-type {\n",
       "        vertical-align: middle;\n",
       "    }\n",
       "\n",
       "    .dataframe tbody tr th {\n",
       "        vertical-align: top;\n",
       "    }\n",
       "\n",
       "    .dataframe thead th {\n",
       "        text-align: right;\n",
       "    }\n",
       "</style>\n",
       "<table border=\"1\" class=\"dataframe\">\n",
       "  <thead>\n",
       "    <tr style=\"text-align: right;\">\n",
       "      <th></th>\n",
       "      <th>children</th>\n",
       "      <th>share_percent</th>\n",
       "    </tr>\n",
       "  </thead>\n",
       "  <tbody>\n",
       "    <tr>\n",
       "      <td>0</td>\n",
       "      <td>14091</td>\n",
       "      <td>65.68</td>\n",
       "    </tr>\n",
       "    <tr>\n",
       "      <td>1</td>\n",
       "      <td>4855</td>\n",
       "      <td>22.63</td>\n",
       "    </tr>\n",
       "    <tr>\n",
       "      <td>2</td>\n",
       "      <td>2128</td>\n",
       "      <td>9.92</td>\n",
       "    </tr>\n",
       "    <tr>\n",
       "      <td>3</td>\n",
       "      <td>330</td>\n",
       "      <td>1.54</td>\n",
       "    </tr>\n",
       "    <tr>\n",
       "      <td>4</td>\n",
       "      <td>41</td>\n",
       "      <td>0.19</td>\n",
       "    </tr>\n",
       "    <tr>\n",
       "      <td>5</td>\n",
       "      <td>9</td>\n",
       "      <td>0.04</td>\n",
       "    </tr>\n",
       "  </tbody>\n",
       "</table>\n",
       "</div>"
      ],
      "text/plain": [
       "   children  share_percent\n",
       "0     14091          65.68\n",
       "1      4855          22.63\n",
       "2      2128           9.92\n",
       "3       330           1.54\n",
       "4        41           0.19\n",
       "5         9           0.04"
      ]
     },
     "execution_count": 1084,
     "metadata": {},
     "output_type": "execute_result"
    }
   ],
   "source": [
    "share_percent('children')"
   ]
  },
  {
   "cell_type": "markdown",
   "metadata": {},
   "source": [
    "Выборка для заемщиков с количеством детей от 3 до 5 слишком мала для оценки зависимости между наличием детей и возвратом кредита в срок  \n",
    "(совокупно < 2 % от общего числа заемщиков)."
   ]
  },
  {
   "cell_type": "code",
   "execution_count": 1085,
   "metadata": {},
   "outputs": [
    {
     "data": {
      "text/html": [
       "<div>\n",
       "<style scoped>\n",
       "    .dataframe tbody tr th:only-of-type {\n",
       "        vertical-align: middle;\n",
       "    }\n",
       "\n",
       "    .dataframe tbody tr th {\n",
       "        vertical-align: top;\n",
       "    }\n",
       "\n",
       "    .dataframe thead th {\n",
       "        text-align: right;\n",
       "    }\n",
       "</style>\n",
       "<table border=\"1\" class=\"dataframe\">\n",
       "  <thead>\n",
       "    <tr style=\"text-align: right;\">\n",
       "      <th>debt</th>\n",
       "      <th>0</th>\n",
       "      <th>1</th>\n",
       "      <th>total</th>\n",
       "      <th>share_bad_debt_%</th>\n",
       "    </tr>\n",
       "    <tr>\n",
       "      <th>children</th>\n",
       "      <th></th>\n",
       "      <th></th>\n",
       "      <th></th>\n",
       "      <th></th>\n",
       "    </tr>\n",
       "  </thead>\n",
       "  <tbody>\n",
       "    <tr>\n",
       "      <td>5</td>\n",
       "      <td>9.0</td>\n",
       "      <td>0.0</td>\n",
       "      <td>9.0</td>\n",
       "      <td>0.00</td>\n",
       "    </tr>\n",
       "    <tr>\n",
       "      <td>0</td>\n",
       "      <td>13028.0</td>\n",
       "      <td>1063.0</td>\n",
       "      <td>14091.0</td>\n",
       "      <td>7.54</td>\n",
       "    </tr>\n",
       "    <tr>\n",
       "      <td>3</td>\n",
       "      <td>303.0</td>\n",
       "      <td>27.0</td>\n",
       "      <td>330.0</td>\n",
       "      <td>8.18</td>\n",
       "    </tr>\n",
       "    <tr>\n",
       "      <td>1</td>\n",
       "      <td>4410.0</td>\n",
       "      <td>445.0</td>\n",
       "      <td>4855.0</td>\n",
       "      <td>9.17</td>\n",
       "    </tr>\n",
       "    <tr>\n",
       "      <td>2</td>\n",
       "      <td>1926.0</td>\n",
       "      <td>202.0</td>\n",
       "      <td>2128.0</td>\n",
       "      <td>9.49</td>\n",
       "    </tr>\n",
       "    <tr>\n",
       "      <td>4</td>\n",
       "      <td>37.0</td>\n",
       "      <td>4.0</td>\n",
       "      <td>41.0</td>\n",
       "      <td>9.76</td>\n",
       "    </tr>\n",
       "  </tbody>\n",
       "</table>\n",
       "</div>"
      ],
      "text/plain": [
       "debt            0       1    total  share_bad_debt_%\n",
       "children                                            \n",
       "5             9.0     0.0      9.0              0.00\n",
       "0         13028.0  1063.0  14091.0              7.54\n",
       "3           303.0    27.0    330.0              8.18\n",
       "1          4410.0   445.0   4855.0              9.17\n",
       "2          1926.0   202.0   2128.0              9.49\n",
       "4            37.0     4.0     41.0              9.76"
      ]
     },
     "execution_count": 1085,
     "metadata": {},
     "output_type": "execute_result"
    }
   ],
   "source": [
    "share_debt('children').sort_values(by='share_bad_debt_%')"
   ]
  },
  {
   "cell_type": "markdown",
   "metadata": {},
   "source": [
    "**Вывод**\n",
    "***"
   ]
  },
  {
   "cell_type": "markdown",
   "metadata": {},
   "source": [
    "- Бездетные клиенты примерно на 2% лучше отдают кредиты по сравнению с клентами с одним или двумя детьми. Процент наличия задолженностей у них ниже.\n",
    "\n",
    "- Практически на одном уровне по количеству задолженностей находятся клиенты с одним или двумя детьми (с разницей ~0.3%).  \n",
    "\n",
    "- Выборка по клиентам с 4 и 5 детьми слишком мала для оценки. \n",
    "\n",
    "- Стоит заметить, что самый высокий процент задолженностей имеют клиенты с одним, двумя и четырьмя детьми.\n",
    "\n"
   ]
  },
  {
   "cell_type": "markdown",
   "metadata": {},
   "source": [
    "### Есть ли зависимость между семейным положением и возвратом кредита в срок?"
   ]
  },
  {
   "cell_type": "markdown",
   "metadata": {},
   "source": [
    "Рассмотрим подробнее категорию семейного положения и оценим долю каждой категории"
   ]
  },
  {
   "cell_type": "code",
   "execution_count": 1086,
   "metadata": {},
   "outputs": [
    {
     "data": {
      "text/html": [
       "<div>\n",
       "<style scoped>\n",
       "    .dataframe tbody tr th:only-of-type {\n",
       "        vertical-align: middle;\n",
       "    }\n",
       "\n",
       "    .dataframe tbody tr th {\n",
       "        vertical-align: top;\n",
       "    }\n",
       "\n",
       "    .dataframe thead th {\n",
       "        text-align: right;\n",
       "    }\n",
       "</style>\n",
       "<table border=\"1\" class=\"dataframe\">\n",
       "  <thead>\n",
       "    <tr style=\"text-align: right;\">\n",
       "      <th></th>\n",
       "      <th>family_status</th>\n",
       "      <th>share_percent</th>\n",
       "    </tr>\n",
       "  </thead>\n",
       "  <tbody>\n",
       "    <tr>\n",
       "      <td>женат / замужем</td>\n",
       "      <td>12339</td>\n",
       "      <td>57.51</td>\n",
       "    </tr>\n",
       "    <tr>\n",
       "      <td>гражданский брак</td>\n",
       "      <td>4151</td>\n",
       "      <td>19.35</td>\n",
       "    </tr>\n",
       "    <tr>\n",
       "      <td>не женат / не замужем</td>\n",
       "      <td>2810</td>\n",
       "      <td>13.10</td>\n",
       "    </tr>\n",
       "    <tr>\n",
       "      <td>в разводе</td>\n",
       "      <td>1195</td>\n",
       "      <td>5.57</td>\n",
       "    </tr>\n",
       "    <tr>\n",
       "      <td>вдовец / вдова</td>\n",
       "      <td>959</td>\n",
       "      <td>4.47</td>\n",
       "    </tr>\n",
       "  </tbody>\n",
       "</table>\n",
       "</div>"
      ],
      "text/plain": [
       "                       family_status  share_percent\n",
       "женат / замужем                12339          57.51\n",
       "гражданский брак                4151          19.35\n",
       "не женат / не замужем           2810          13.10\n",
       "в разводе                       1195           5.57\n",
       "вдовец / вдова                   959           4.47"
      ]
     },
     "execution_count": 1086,
     "metadata": {},
     "output_type": "execute_result"
    }
   ],
   "source": [
    "share_percent('family_status')"
   ]
  },
  {
   "cell_type": "markdown",
   "metadata": {},
   "source": [
    "Создадим сводную таблицу в которой строки - семейное положение клиентов  \n",
    "'share_bad_debt' - процент просроченных кредитов в соответствии с категорией"
   ]
  },
  {
   "cell_type": "code",
   "execution_count": 1087,
   "metadata": {},
   "outputs": [
    {
     "data": {
      "text/html": [
       "<div>\n",
       "<style scoped>\n",
       "    .dataframe tbody tr th:only-of-type {\n",
       "        vertical-align: middle;\n",
       "    }\n",
       "\n",
       "    .dataframe tbody tr th {\n",
       "        vertical-align: top;\n",
       "    }\n",
       "\n",
       "    .dataframe thead th {\n",
       "        text-align: right;\n",
       "    }\n",
       "</style>\n",
       "<table border=\"1\" class=\"dataframe\">\n",
       "  <thead>\n",
       "    <tr style=\"text-align: right;\">\n",
       "      <th>debt</th>\n",
       "      <th>0</th>\n",
       "      <th>1</th>\n",
       "      <th>total</th>\n",
       "      <th>share_bad_debt_%</th>\n",
       "    </tr>\n",
       "    <tr>\n",
       "      <th>family_status</th>\n",
       "      <th></th>\n",
       "      <th></th>\n",
       "      <th></th>\n",
       "      <th></th>\n",
       "    </tr>\n",
       "  </thead>\n",
       "  <tbody>\n",
       "    <tr>\n",
       "      <td>вдовец / вдова</td>\n",
       "      <td>896</td>\n",
       "      <td>63</td>\n",
       "      <td>959</td>\n",
       "      <td>6.57</td>\n",
       "    </tr>\n",
       "    <tr>\n",
       "      <td>в разводе</td>\n",
       "      <td>1110</td>\n",
       "      <td>85</td>\n",
       "      <td>1195</td>\n",
       "      <td>7.11</td>\n",
       "    </tr>\n",
       "    <tr>\n",
       "      <td>женат / замужем</td>\n",
       "      <td>11408</td>\n",
       "      <td>931</td>\n",
       "      <td>12339</td>\n",
       "      <td>7.55</td>\n",
       "    </tr>\n",
       "    <tr>\n",
       "      <td>гражданский брак</td>\n",
       "      <td>3763</td>\n",
       "      <td>388</td>\n",
       "      <td>4151</td>\n",
       "      <td>9.35</td>\n",
       "    </tr>\n",
       "    <tr>\n",
       "      <td>не женат / не замужем</td>\n",
       "      <td>2536</td>\n",
       "      <td>274</td>\n",
       "      <td>2810</td>\n",
       "      <td>9.75</td>\n",
       "    </tr>\n",
       "  </tbody>\n",
       "</table>\n",
       "</div>"
      ],
      "text/plain": [
       "debt                       0    1  total  share_bad_debt_%\n",
       "family_status                                             \n",
       "вдовец / вдова           896   63    959              6.57\n",
       "в разводе               1110   85   1195              7.11\n",
       "женат / замужем        11408  931  12339              7.55\n",
       "гражданский брак        3763  388   4151              9.35\n",
       "не женат / не замужем   2536  274   2810              9.75"
      ]
     },
     "execution_count": 1087,
     "metadata": {},
     "output_type": "execute_result"
    }
   ],
   "source": [
    "share_debt('family_status').sort_values(by='share_bad_debt_%')"
   ]
  },
  {
   "cell_type": "markdown",
   "metadata": {},
   "source": [
    "**Вывод**\n",
    "***"
   ]
  },
  {
   "cell_type": "markdown",
   "metadata": {},
   "source": [
    "- Процент задолженностей у людей в браке и в разводе примерно одинаковый. Кредит возвращают ~ 93 % клиентов.  \n",
    "\n",
    "\n",
    "- Самый высокий процент просроченных кредитов у людей не состоявших в браке (гражданский брак или не женат/не замужем). По этим категориям просроченные задолженности отсутствуют у ~ 90 % клиентов.  \n",
    "\n",
    "\n",
    "- Среди вдовцов самый низкий процент просрочек. При этом в данных эта категория представлена в небольшом (относительно других) количестве.  \n",
    "\n",
    "Резкой зависимости между семейным положением и возвратом кредита в срок не наблюдается: процент задолженностей в категориях варьируется от ~7% до ~10%. Нельзя сказать, что, например, задолженность по кредитам имелась только у людей в разводе.  \n",
    "При этом некоторая зависимость прослеживается: с разницей до ~3% клиенты в браке/разводе/вдовцы имеют меньше задолженностей, чем клиенты в гражданском браке/не в браке."
   ]
  },
  {
   "cell_type": "markdown",
   "metadata": {},
   "source": [
    "### Есть ли зависимость между уровнем дохода и возвратом кредита в срок?"
   ]
  },
  {
   "cell_type": "markdown",
   "metadata": {},
   "source": [
    "Рассмотрим подробнее категории доходов заемщиков и оценим долю каждой категории:\n",
    "- в строках - категория доходов, \n",
    "- в стобце 'category_income_type' - количество клиентов с соответствующим доходом\n",
    "- в столбце 'share_percent' - процент категории клиентов от общего числа"
   ]
  },
  {
   "cell_type": "code",
   "execution_count": 1088,
   "metadata": {},
   "outputs": [
    {
     "data": {
      "text/html": [
       "<div>\n",
       "<style scoped>\n",
       "    .dataframe tbody tr th:only-of-type {\n",
       "        vertical-align: middle;\n",
       "    }\n",
       "\n",
       "    .dataframe tbody tr th {\n",
       "        vertical-align: top;\n",
       "    }\n",
       "\n",
       "    .dataframe thead th {\n",
       "        text-align: right;\n",
       "    }\n",
       "</style>\n",
       "<table border=\"1\" class=\"dataframe\">\n",
       "  <thead>\n",
       "    <tr style=\"text-align: right;\">\n",
       "      <th></th>\n",
       "      <th>category_income_type</th>\n",
       "      <th>share_percent</th>\n",
       "    </tr>\n",
       "  </thead>\n",
       "  <tbody>\n",
       "    <tr>\n",
       "      <td>очень высокий доход</td>\n",
       "      <td>5364</td>\n",
       "      <td>25.0</td>\n",
       "    </tr>\n",
       "    <tr>\n",
       "      <td>низкий доход</td>\n",
       "      <td>5364</td>\n",
       "      <td>25.0</td>\n",
       "    </tr>\n",
       "    <tr>\n",
       "      <td>высокий доход</td>\n",
       "      <td>5363</td>\n",
       "      <td>25.0</td>\n",
       "    </tr>\n",
       "    <tr>\n",
       "      <td>средний доход</td>\n",
       "      <td>5363</td>\n",
       "      <td>25.0</td>\n",
       "    </tr>\n",
       "  </tbody>\n",
       "</table>\n",
       "</div>"
      ],
      "text/plain": [
       "                     category_income_type  share_percent\n",
       "очень высокий доход                  5364           25.0\n",
       "низкий доход                         5364           25.0\n",
       "высокий доход                        5363           25.0\n",
       "средний доход                        5363           25.0"
      ]
     },
     "execution_count": 1088,
     "metadata": {},
     "output_type": "execute_result"
    }
   ],
   "source": [
    "share_percent('category_income_type')"
   ]
  },
  {
   "cell_type": "markdown",
   "metadata": {},
   "source": [
    "Создадим сводную таблицу в которой строки - уровень дохода\n",
    "- 'share_bad_debt' - процент просроченных кредитов в соответствии с категорией"
   ]
  },
  {
   "cell_type": "code",
   "execution_count": 1089,
   "metadata": {},
   "outputs": [
    {
     "data": {
      "text/html": [
       "<div>\n",
       "<style scoped>\n",
       "    .dataframe tbody tr th:only-of-type {\n",
       "        vertical-align: middle;\n",
       "    }\n",
       "\n",
       "    .dataframe tbody tr th {\n",
       "        vertical-align: top;\n",
       "    }\n",
       "\n",
       "    .dataframe thead th {\n",
       "        text-align: right;\n",
       "    }\n",
       "</style>\n",
       "<table border=\"1\" class=\"dataframe\">\n",
       "  <thead>\n",
       "    <tr style=\"text-align: right;\">\n",
       "      <th>debt</th>\n",
       "      <th>0</th>\n",
       "      <th>1</th>\n",
       "      <th>total</th>\n",
       "      <th>share_bad_debt_%</th>\n",
       "    </tr>\n",
       "    <tr>\n",
       "      <th>category_income_type</th>\n",
       "      <th></th>\n",
       "      <th></th>\n",
       "      <th></th>\n",
       "      <th></th>\n",
       "    </tr>\n",
       "  </thead>\n",
       "  <tbody>\n",
       "    <tr>\n",
       "      <td>очень высокий доход</td>\n",
       "      <td>4991</td>\n",
       "      <td>373</td>\n",
       "      <td>5364</td>\n",
       "      <td>6.95</td>\n",
       "    </tr>\n",
       "    <tr>\n",
       "      <td>низкий доход</td>\n",
       "      <td>4937</td>\n",
       "      <td>427</td>\n",
       "      <td>5364</td>\n",
       "      <td>7.96</td>\n",
       "    </tr>\n",
       "    <tr>\n",
       "      <td>высокий доход</td>\n",
       "      <td>4907</td>\n",
       "      <td>456</td>\n",
       "      <td>5363</td>\n",
       "      <td>8.50</td>\n",
       "    </tr>\n",
       "    <tr>\n",
       "      <td>средний доход</td>\n",
       "      <td>4878</td>\n",
       "      <td>485</td>\n",
       "      <td>5363</td>\n",
       "      <td>9.04</td>\n",
       "    </tr>\n",
       "  </tbody>\n",
       "</table>\n",
       "</div>"
      ],
      "text/plain": [
       "debt                     0    1  total  share_bad_debt_%\n",
       "category_income_type                                    \n",
       "очень высокий доход   4991  373   5364              6.95\n",
       "низкий доход          4937  427   5364              7.96\n",
       "высокий доход         4907  456   5363              8.50\n",
       "средний доход         4878  485   5363              9.04"
      ]
     },
     "execution_count": 1089,
     "metadata": {},
     "output_type": "execute_result"
    }
   ],
   "source": [
    "share_debt('category_income_type').sort_values(by='share_bad_debt_%')"
   ]
  },
  {
   "cell_type": "markdown",
   "metadata": {},
   "source": [
    "**Вывод**\n",
    "***\n",
    "\n",
    "- Самый высокий процент просроченных выплат по кредиту у клиентов со средним  и высоким доходом. \n",
    "- Самое низкое количество просрочек имеют люди с очень высоким доходом.\n",
    "- Клиенты с низкими доходами менее склонны к просрочкам, по сравнению с клиентами со средним и высоким доходами.\n",
    "\n",
    "От уровня дохода зависит возврат кредита в срок. Чаще задолженности происходят у людей со средним и высоким уровнем дохода. Люди с очень высоким доходом имеют меньше всего просрочек."
   ]
  },
  {
   "cell_type": "markdown",
   "metadata": {},
   "source": [
    "### Как разные цели кредита влияют на его возврат в срок?"
   ]
  },
  {
   "cell_type": "markdown",
   "metadata": {},
   "source": [
    "Рассмотрим подробнее категории целей и оценим долю каждой:\n",
    "- в строках - цель кредита\n",
    "- в стобце 'purpose_type' - количество клиентов с целью кредита\n",
    "- в столбце 'share_percent' - процент категории клиентов от общего числа"
   ]
  },
  {
   "cell_type": "code",
   "execution_count": 1090,
   "metadata": {},
   "outputs": [
    {
     "data": {
      "text/html": [
       "<div>\n",
       "<style scoped>\n",
       "    .dataframe tbody tr th:only-of-type {\n",
       "        vertical-align: middle;\n",
       "    }\n",
       "\n",
       "    .dataframe tbody tr th {\n",
       "        vertical-align: top;\n",
       "    }\n",
       "\n",
       "    .dataframe thead th {\n",
       "        text-align: right;\n",
       "    }\n",
       "</style>\n",
       "<table border=\"1\" class=\"dataframe\">\n",
       "  <thead>\n",
       "    <tr style=\"text-align: right;\">\n",
       "      <th></th>\n",
       "      <th>purpose_type</th>\n",
       "      <th>share_percent</th>\n",
       "    </tr>\n",
       "  </thead>\n",
       "  <tbody>\n",
       "    <tr>\n",
       "      <td>недвижимость</td>\n",
       "      <td>10811</td>\n",
       "      <td>50.39</td>\n",
       "    </tr>\n",
       "    <tr>\n",
       "      <td>автомобиль</td>\n",
       "      <td>4306</td>\n",
       "      <td>20.07</td>\n",
       "    </tr>\n",
       "    <tr>\n",
       "      <td>образование</td>\n",
       "      <td>4013</td>\n",
       "      <td>18.71</td>\n",
       "    </tr>\n",
       "    <tr>\n",
       "      <td>свадьба</td>\n",
       "      <td>2324</td>\n",
       "      <td>10.83</td>\n",
       "    </tr>\n",
       "  </tbody>\n",
       "</table>\n",
       "</div>"
      ],
      "text/plain": [
       "              purpose_type  share_percent\n",
       "недвижимость         10811          50.39\n",
       "автомобиль            4306          20.07\n",
       "образование           4013          18.71\n",
       "свадьба               2324          10.83"
      ]
     },
     "execution_count": 1090,
     "metadata": {},
     "output_type": "execute_result"
    }
   ],
   "source": [
    "share_percent('purpose_type')"
   ]
  },
  {
   "cell_type": "markdown",
   "metadata": {},
   "source": [
    "Создадим сводную таблицу в которой строки - цель кредита\n",
    "- 'share_bad_debt' - процент просроченных кредитов в соответствии с категорией"
   ]
  },
  {
   "cell_type": "code",
   "execution_count": 1091,
   "metadata": {},
   "outputs": [
    {
     "data": {
      "text/html": [
       "<div>\n",
       "<style scoped>\n",
       "    .dataframe tbody tr th:only-of-type {\n",
       "        vertical-align: middle;\n",
       "    }\n",
       "\n",
       "    .dataframe tbody tr th {\n",
       "        vertical-align: top;\n",
       "    }\n",
       "\n",
       "    .dataframe thead th {\n",
       "        text-align: right;\n",
       "    }\n",
       "</style>\n",
       "<table border=\"1\" class=\"dataframe\">\n",
       "  <thead>\n",
       "    <tr style=\"text-align: right;\">\n",
       "      <th>debt</th>\n",
       "      <th>0</th>\n",
       "      <th>1</th>\n",
       "      <th>total</th>\n",
       "      <th>share_bad_debt_%</th>\n",
       "    </tr>\n",
       "    <tr>\n",
       "      <th>purpose_type</th>\n",
       "      <th></th>\n",
       "      <th></th>\n",
       "      <th></th>\n",
       "      <th></th>\n",
       "    </tr>\n",
       "  </thead>\n",
       "  <tbody>\n",
       "    <tr>\n",
       "      <td>недвижимость</td>\n",
       "      <td>10029</td>\n",
       "      <td>782</td>\n",
       "      <td>10811</td>\n",
       "      <td>7.23</td>\n",
       "    </tr>\n",
       "    <tr>\n",
       "      <td>свадьба</td>\n",
       "      <td>2138</td>\n",
       "      <td>186</td>\n",
       "      <td>2324</td>\n",
       "      <td>8.00</td>\n",
       "    </tr>\n",
       "    <tr>\n",
       "      <td>образование</td>\n",
       "      <td>3643</td>\n",
       "      <td>370</td>\n",
       "      <td>4013</td>\n",
       "      <td>9.22</td>\n",
       "    </tr>\n",
       "    <tr>\n",
       "      <td>автомобиль</td>\n",
       "      <td>3903</td>\n",
       "      <td>403</td>\n",
       "      <td>4306</td>\n",
       "      <td>9.36</td>\n",
       "    </tr>\n",
       "  </tbody>\n",
       "</table>\n",
       "</div>"
      ],
      "text/plain": [
       "debt              0    1  total  share_bad_debt_%\n",
       "purpose_type                                     \n",
       "недвижимость  10029  782  10811              7.23\n",
       "свадьба        2138  186   2324              8.00\n",
       "образование    3643  370   4013              9.22\n",
       "автомобиль     3903  403   4306              9.36"
      ]
     },
     "execution_count": 1091,
     "metadata": {},
     "output_type": "execute_result"
    }
   ],
   "source": [
    "share_debt('purpose_type').sort_values(by='share_bad_debt_%')"
   ]
  },
  {
   "cell_type": "markdown",
   "metadata": {},
   "source": [
    "**Вывод**\n",
    "***\n",
    "- Цели кредита влияют на количество задолженностей по кредиту.\n",
    "Так, люди, которые берут кредит на различные сделки или манипуляции с недвижимостью допускают на ~2% меньше просрочек, чем те, кто берет кредит на образование или на покупку автомобиля.  \n",
    "- Из 4 категорий целей кредита - автомобиль показывает самый высокий результат по задолженностям. Кредит на образования идет следом с разницей ~ 0.15%. Порядка 9% заемщиков данным целевым категорям имеют задолженности."
   ]
  },
  {
   "cell_type": "markdown",
   "metadata": {},
   "source": [
    "## Общие выводы"
   ]
  },
  {
   "cell_type": "markdown",
   "metadata": {},
   "source": [
    "Подводя итоги нашего исследования, отметим что прослеживается некоторая зависимость возврата кредита в срок от наличия и количества детей, семейного положения, дохода и целей кредита:\n",
    "\n",
    "- У бездетных клиентов задолженностей перед банком меньше, чем у клиентов с 1 или 2 детьми.\n",
    "- При этом у людей не состоящих в официальном браке процент задолженностей выше, чем у людей в браке или разводе.\n",
    "- Меньше задолженностей по кредиту имеют люди с очень высокими или низкими доходам по сравнению с клиентами с высокими или средними доходами.\n",
    "- Самый рисковая цель получения кредита - это автомобиль. Рядом с ней и образование. Меньше всего задолженностей у людей, которые берут кредит на сделки с недвижимостью.\n",
    "\n",
    "Итак, наименее рисковый заемщик для банка - бездетный клиент в браке или разводе с очень высоким доходом с целью приобрести недвижимость.\n",
    "А наиболее рисковый - клиент с 1-2 детьми в неофициальном браке со средним доходом и целью приобретения автомомбиля.\n"
   ]
  },
  {
   "cell_type": "markdown",
   "metadata": {},
   "source": [
    "## Чек-лист готовности проекта"
   ]
  },
  {
   "cell_type": "markdown",
   "metadata": {},
   "source": [
    "- [x]  открыт файл;\n",
    "- [x]  файл изучен;\n",
    "- [x]  определены пропущенные значения;\n",
    "- [x]  заполнены пропущенные значения;\n",
    "- [x]  есть пояснение, какие пропущенные значения обнаружены;\n",
    "- [x]  описаны возможные причины появления пропусков в данных;\n",
    "- [x]  объяснено, по какому принципу заполнены пропуски;\n",
    "- [x]  заменен вещественный тип данных на целочисленный;\n",
    "- [x]  есть пояснение, какой метод используется для изменения типа данных и почему;\n",
    "- [x]  удалены дубликаты;\n",
    "- [x]  есть пояснение, какой метод используется для поиска и удаления дубликатов;\n",
    "- [x]  описаны возможные причины появления дубликатов в данных;\n",
    "- [x]  выделены леммы в значениях столбца с целями получения кредита;\n",
    "- [x]  описан процесс лемматизации;\n",
    "- [x]  данные категоризированы;\n",
    "- [x]  есть объяснение принципа категоризации данных;\n",
    "- [x]  есть ответ на вопрос: \"Есть ли зависимость между наличием детей и возвратом кредита в срок?\";\n",
    "- [x]  есть ответ на вопрос: \"Есть ли зависимость между семейным положением и возвратом кредита в срок?\";\n",
    "- [x]  есть ответ на вопрос: \"Есть ли зависимость между уровнем дохода и возвратом кредита в срок?\";\n",
    "- [x]  есть ответ на вопрос: \"Как разные цели кредита влияют на его возврат в срок?\";\n",
    "- [x]  в каждом этапе есть выводы;\n",
    "- [x]  есть общий вывод."
   ]
  }
 ],
 "metadata": {
  "ExecuteTimeLog": [
   {
    "duration": 791,
    "start_time": "2021-12-12T16:03:52.856Z"
   },
   {
    "duration": 64,
    "start_time": "2021-12-12T16:10:06.584Z"
   },
   {
    "duration": 33,
    "start_time": "2021-12-12T16:10:16.565Z"
   },
   {
    "duration": 5,
    "start_time": "2021-12-12T16:11:20.974Z"
   },
   {
    "duration": 18,
    "start_time": "2021-12-12T16:11:49.498Z"
   },
   {
    "duration": 12,
    "start_time": "2021-12-12T17:28:26.719Z"
   },
   {
    "duration": 14,
    "start_time": "2021-12-12T17:29:24.417Z"
   },
   {
    "duration": 11,
    "start_time": "2021-12-12T17:29:42.616Z"
   },
   {
    "duration": 8,
    "start_time": "2021-12-12T17:30:10.560Z"
   },
   {
    "duration": 8,
    "start_time": "2021-12-12T17:30:16.484Z"
   },
   {
    "duration": 12,
    "start_time": "2021-12-12T17:30:23.506Z"
   },
   {
    "duration": 13,
    "start_time": "2021-12-12T17:30:34.199Z"
   },
   {
    "duration": 10,
    "start_time": "2021-12-12T17:38:39.041Z"
   },
   {
    "duration": 8,
    "start_time": "2021-12-12T17:39:08.453Z"
   },
   {
    "duration": 8,
    "start_time": "2021-12-12T17:40:20.299Z"
   },
   {
    "duration": 8,
    "start_time": "2021-12-12T17:40:24.436Z"
   },
   {
    "duration": 8,
    "start_time": "2021-12-12T17:41:16.524Z"
   },
   {
    "duration": 7,
    "start_time": "2021-12-12T17:47:27.225Z"
   },
   {
    "duration": 8,
    "start_time": "2021-12-12T17:52:28.537Z"
   },
   {
    "duration": 7,
    "start_time": "2021-12-12T17:54:21.930Z"
   },
   {
    "duration": 9,
    "start_time": "2021-12-12T17:55:40.194Z"
   },
   {
    "duration": 8,
    "start_time": "2021-12-12T17:55:46.160Z"
   },
   {
    "duration": 11,
    "start_time": "2021-12-12T17:57:11.391Z"
   },
   {
    "duration": 12,
    "start_time": "2021-12-12T17:59:13.062Z"
   },
   {
    "duration": 7,
    "start_time": "2021-12-12T17:59:43.212Z"
   },
   {
    "duration": 11,
    "start_time": "2021-12-12T18:04:22.471Z"
   },
   {
    "duration": 11,
    "start_time": "2021-12-12T18:04:37.517Z"
   },
   {
    "duration": 12,
    "start_time": "2021-12-12T18:10:32.519Z"
   },
   {
    "duration": 12,
    "start_time": "2021-12-12T18:10:46.074Z"
   },
   {
    "duration": 7,
    "start_time": "2021-12-12T18:14:45.694Z"
   },
   {
    "duration": 5,
    "start_time": "2021-12-12T18:17:53.921Z"
   },
   {
    "duration": 12,
    "start_time": "2021-12-12T18:18:15.876Z"
   },
   {
    "duration": 3,
    "start_time": "2021-12-12T18:18:25.884Z"
   },
   {
    "duration": 60,
    "start_time": "2021-12-12T18:18:26.492Z"
   },
   {
    "duration": 23,
    "start_time": "2021-12-12T18:18:31.545Z"
   },
   {
    "duration": 6,
    "start_time": "2021-12-12T18:18:36.532Z"
   },
   {
    "duration": 17,
    "start_time": "2021-12-12T18:18:38.684Z"
   },
   {
    "duration": 15,
    "start_time": "2021-12-12T18:18:43.576Z"
   },
   {
    "duration": 13,
    "start_time": "2021-12-12T18:18:46.377Z"
   },
   {
    "duration": 559,
    "start_time": "2021-12-12T18:22:43.944Z"
   },
   {
    "duration": 498,
    "start_time": "2021-12-12T18:23:03.404Z"
   },
   {
    "duration": 406,
    "start_time": "2021-12-12T18:24:22.098Z"
   },
   {
    "duration": 125,
    "start_time": "2021-12-12T18:24:47.831Z"
   },
   {
    "duration": 12,
    "start_time": "2021-12-12T18:25:27.440Z"
   },
   {
    "duration": 13,
    "start_time": "2021-12-12T18:25:39.809Z"
   },
   {
    "duration": 13,
    "start_time": "2021-12-12T18:25:48.831Z"
   },
   {
    "duration": 410,
    "start_time": "2021-12-12T18:26:01.843Z"
   },
   {
    "duration": 6,
    "start_time": "2021-12-12T18:26:51.922Z"
   },
   {
    "duration": 12,
    "start_time": "2021-12-12T18:29:16.480Z"
   },
   {
    "duration": 12,
    "start_time": "2021-12-12T18:29:27.646Z"
   },
   {
    "duration": 7,
    "start_time": "2021-12-12T18:30:21.550Z"
   },
   {
    "duration": 493,
    "start_time": "2021-12-12T18:30:44.568Z"
   },
   {
    "duration": 6,
    "start_time": "2021-12-12T18:30:52.650Z"
   },
   {
    "duration": 374,
    "start_time": "2021-12-12T18:36:33.604Z"
   },
   {
    "duration": 20,
    "start_time": "2021-12-12T18:36:42.692Z"
   },
   {
    "duration": 33,
    "start_time": "2021-12-12T18:37:07.639Z"
   },
   {
    "duration": 22,
    "start_time": "2021-12-12T18:37:13.971Z"
   },
   {
    "duration": 13,
    "start_time": "2021-12-12T18:37:22.760Z"
   },
   {
    "duration": 34,
    "start_time": "2021-12-12T18:38:00.715Z"
   },
   {
    "duration": 12,
    "start_time": "2021-12-12T18:45:11.270Z"
   },
   {
    "duration": 20,
    "start_time": "2021-12-12T18:45:14.575Z"
   },
   {
    "duration": 13,
    "start_time": "2021-12-12T18:45:27.324Z"
   },
   {
    "duration": 526,
    "start_time": "2021-12-12T18:48:28.985Z"
   },
   {
    "duration": 19,
    "start_time": "2021-12-12T18:48:40.062Z"
   },
   {
    "duration": 37,
    "start_time": "2021-12-12T18:48:53.585Z"
   },
   {
    "duration": 32,
    "start_time": "2021-12-12T18:49:16.992Z"
   },
   {
    "duration": 13,
    "start_time": "2021-12-12T18:49:49.170Z"
   },
   {
    "duration": 9,
    "start_time": "2021-12-12T18:53:26.751Z"
   },
   {
    "duration": 9,
    "start_time": "2021-12-12T18:53:44.597Z"
   },
   {
    "duration": 8,
    "start_time": "2021-12-12T18:54:08.920Z"
   },
   {
    "duration": 7,
    "start_time": "2021-12-12T18:54:36.695Z"
   },
   {
    "duration": 8,
    "start_time": "2021-12-12T18:55:22.952Z"
   },
   {
    "duration": 20,
    "start_time": "2021-12-12T18:56:23.652Z"
   },
   {
    "duration": 35,
    "start_time": "2021-12-12T18:56:39.000Z"
   },
   {
    "duration": 13,
    "start_time": "2021-12-12T18:57:14.714Z"
   },
   {
    "duration": 37,
    "start_time": "2021-12-12T18:58:25.855Z"
   },
   {
    "duration": 12,
    "start_time": "2021-12-12T19:00:16.104Z"
   },
   {
    "duration": 10,
    "start_time": "2021-12-12T19:00:48.770Z"
   },
   {
    "duration": 8,
    "start_time": "2021-12-12T19:01:08.142Z"
   },
   {
    "duration": 8,
    "start_time": "2021-12-12T19:01:37.568Z"
   },
   {
    "duration": 36,
    "start_time": "2021-12-12T19:03:21.974Z"
   },
   {
    "duration": 15,
    "start_time": "2021-12-12T19:03:59.925Z"
   },
   {
    "duration": 36,
    "start_time": "2021-12-12T19:04:07.625Z"
   },
   {
    "duration": 15,
    "start_time": "2021-12-12T19:04:18.636Z"
   },
   {
    "duration": 16,
    "start_time": "2021-12-12T19:04:25.006Z"
   },
   {
    "duration": 34,
    "start_time": "2021-12-12T19:04:34.026Z"
   },
   {
    "duration": 9,
    "start_time": "2021-12-12T19:06:29.658Z"
   },
   {
    "duration": 374,
    "start_time": "2021-12-12T19:06:51.133Z"
   },
   {
    "duration": 462,
    "start_time": "2021-12-12T19:06:57.394Z"
   },
   {
    "duration": 391,
    "start_time": "2021-12-12T19:07:01.997Z"
   },
   {
    "duration": 10,
    "start_time": "2021-12-12T19:07:25.707Z"
   },
   {
    "duration": 5,
    "start_time": "2021-12-12T19:13:19.852Z"
   },
   {
    "duration": 365,
    "start_time": "2021-12-12T19:14:45.083Z"
   },
   {
    "duration": 4,
    "start_time": "2021-12-12T19:14:57.128Z"
   },
   {
    "duration": 780,
    "start_time": "2021-12-12T19:15:00.593Z"
   },
   {
    "duration": 4,
    "start_time": "2021-12-12T19:15:52.271Z"
   },
   {
    "duration": 30,
    "start_time": "2021-12-12T19:15:54.312Z"
   },
   {
    "duration": 37,
    "start_time": "2021-12-12T19:16:21.776Z"
   },
   {
    "duration": 125,
    "start_time": "2021-12-12T19:16:33.600Z"
   },
   {
    "duration": 40,
    "start_time": "2021-12-12T19:16:43.716Z"
   },
   {
    "duration": 4,
    "start_time": "2021-12-12T19:18:04.828Z"
   },
   {
    "duration": 119,
    "start_time": "2021-12-12T19:18:20.754Z"
   },
   {
    "duration": 4,
    "start_time": "2021-12-12T19:18:49.661Z"
   },
   {
    "duration": 70,
    "start_time": "2021-12-12T19:18:52.108Z"
   },
   {
    "duration": 4,
    "start_time": "2021-12-12T19:20:13.303Z"
   },
   {
    "duration": 80,
    "start_time": "2021-12-12T19:20:16.697Z"
   },
   {
    "duration": 471,
    "start_time": "2021-12-12T19:21:59.831Z"
   },
   {
    "duration": 74,
    "start_time": "2021-12-12T19:22:13.054Z"
   },
   {
    "duration": 4,
    "start_time": "2021-12-12T19:38:27.544Z"
   },
   {
    "duration": 53,
    "start_time": "2021-12-12T19:38:31.508Z"
   },
   {
    "duration": 4,
    "start_time": "2021-12-12T19:38:41.981Z"
   },
   {
    "duration": 67,
    "start_time": "2021-12-12T19:38:44.253Z"
   },
   {
    "duration": 4,
    "start_time": "2021-12-12T19:40:14.730Z"
   },
   {
    "duration": 55,
    "start_time": "2021-12-12T19:40:17.360Z"
   },
   {
    "duration": 400,
    "start_time": "2021-12-12T19:42:10.938Z"
   },
   {
    "duration": 20,
    "start_time": "2021-12-12T19:42:19.193Z"
   },
   {
    "duration": 25,
    "start_time": "2021-12-12T19:42:56.539Z"
   },
   {
    "duration": 29,
    "start_time": "2021-12-12T19:43:41.858Z"
   },
   {
    "duration": 390,
    "start_time": "2021-12-12T19:43:56.981Z"
   },
   {
    "duration": 30,
    "start_time": "2021-12-12T19:44:09.039Z"
   },
   {
    "duration": 37,
    "start_time": "2021-12-12T19:45:44.749Z"
   },
   {
    "duration": 441,
    "start_time": "2021-12-12T19:46:45.121Z"
   },
   {
    "duration": 38,
    "start_time": "2021-12-12T19:46:55.005Z"
   },
   {
    "duration": 387,
    "start_time": "2021-12-12T19:58:53.608Z"
   },
   {
    "duration": 411,
    "start_time": "2021-12-12T19:59:00.823Z"
   },
   {
    "duration": 364,
    "start_time": "2021-12-12T20:00:36.343Z"
   },
   {
    "duration": 15,
    "start_time": "2021-12-12T20:00:59.015Z"
   },
   {
    "duration": 15,
    "start_time": "2021-12-12T20:01:05.710Z"
   },
   {
    "duration": 17,
    "start_time": "2021-12-12T20:01:21.292Z"
   },
   {
    "duration": 16,
    "start_time": "2021-12-12T20:01:44.554Z"
   },
   {
    "duration": 27,
    "start_time": "2021-12-12T20:02:15.970Z"
   },
   {
    "duration": 35,
    "start_time": "2021-12-12T20:03:54.371Z"
   },
   {
    "duration": 171,
    "start_time": "2021-12-12T20:39:07.381Z"
   },
   {
    "duration": 35,
    "start_time": "2021-12-12T20:45:34.074Z"
   },
   {
    "duration": 8,
    "start_time": "2021-12-12T20:45:45.210Z"
   },
   {
    "duration": 12,
    "start_time": "2021-12-12T20:46:18.911Z"
   },
   {
    "duration": 14,
    "start_time": "2021-12-12T21:02:48.574Z"
   },
   {
    "duration": 24,
    "start_time": "2021-12-12T21:03:32.869Z"
   },
   {
    "duration": 131,
    "start_time": "2021-12-12T21:05:07.908Z"
   },
   {
    "duration": 124,
    "start_time": "2021-12-12T21:05:17.748Z"
   },
   {
    "duration": 119,
    "start_time": "2021-12-12T21:05:26.127Z"
   },
   {
    "duration": 138,
    "start_time": "2021-12-12T21:05:37.773Z"
   },
   {
    "duration": 135,
    "start_time": "2021-12-12T21:05:57.047Z"
   },
   {
    "duration": 24,
    "start_time": "2021-12-12T21:06:04.696Z"
   },
   {
    "duration": 39,
    "start_time": "2021-12-12T21:07:00.637Z"
   },
   {
    "duration": 24,
    "start_time": "2021-12-12T21:07:47.913Z"
   },
   {
    "duration": 39,
    "start_time": "2021-12-12T21:08:08.558Z"
   },
   {
    "duration": 32,
    "start_time": "2021-12-12T21:08:20.556Z"
   },
   {
    "duration": 189,
    "start_time": "2021-12-12T21:08:44.853Z"
   },
   {
    "duration": 554,
    "start_time": "2021-12-12T21:08:49.293Z"
   },
   {
    "duration": 40,
    "start_time": "2021-12-12T21:08:56.144Z"
   },
   {
    "duration": 7,
    "start_time": "2021-12-12T21:13:59.631Z"
   },
   {
    "duration": 371,
    "start_time": "2021-12-12T21:14:36.603Z"
   },
   {
    "duration": 28,
    "start_time": "2021-12-12T21:15:40.828Z"
   },
   {
    "duration": 46,
    "start_time": "2021-12-12T21:15:50.566Z"
   },
   {
    "duration": 24,
    "start_time": "2021-12-12T21:16:03.327Z"
   },
   {
    "duration": 10,
    "start_time": "2021-12-12T21:16:20.783Z"
   },
   {
    "duration": 28,
    "start_time": "2021-12-12T21:32:14.453Z"
   },
   {
    "duration": 43,
    "start_time": "2021-12-12T21:32:26.078Z"
   },
   {
    "duration": 421,
    "start_time": "2021-12-12T21:34:34.594Z"
   },
   {
    "duration": 4,
    "start_time": "2021-12-12T21:35:02.317Z"
   },
   {
    "duration": 4843,
    "start_time": "2021-12-12T21:35:03.095Z"
   },
   {
    "duration": 359,
    "start_time": "2021-12-12T21:37:29.261Z"
   },
   {
    "duration": 469,
    "start_time": "2021-12-12T21:37:34.896Z"
   },
   {
    "duration": 373,
    "start_time": "2021-12-12T21:37:43.954Z"
   },
   {
    "duration": 423,
    "start_time": "2021-12-12T21:38:03.339Z"
   },
   {
    "duration": 6,
    "start_time": "2021-12-12T21:38:27.189Z"
   },
   {
    "duration": 26,
    "start_time": "2021-12-12T21:38:40.382Z"
   },
   {
    "duration": 44,
    "start_time": "2021-12-12T21:39:39.793Z"
   },
   {
    "duration": 372,
    "start_time": "2021-12-12T21:40:13.282Z"
   },
   {
    "duration": 416,
    "start_time": "2021-12-12T21:40:40.576Z"
   },
   {
    "duration": 1284,
    "start_time": "2021-12-12T21:40:50.366Z"
   },
   {
    "duration": 41,
    "start_time": "2021-12-12T21:41:01.303Z"
   },
   {
    "duration": 14,
    "start_time": "2021-12-12T21:41:42.397Z"
   },
   {
    "duration": 36,
    "start_time": "2021-12-12T21:41:46.377Z"
   },
   {
    "duration": 16,
    "start_time": "2021-12-12T21:42:56.959Z"
   },
   {
    "duration": 22,
    "start_time": "2021-12-12T21:45:33.845Z"
   },
   {
    "duration": 355,
    "start_time": "2021-12-12T21:46:32.528Z"
   },
   {
    "duration": 25,
    "start_time": "2021-12-12T21:46:46.147Z"
   },
   {
    "duration": 4,
    "start_time": "2021-12-12T21:48:23.175Z"
   },
   {
    "duration": 16,
    "start_time": "2021-12-12T21:50:12.897Z"
   },
   {
    "duration": 116,
    "start_time": "2021-12-12T21:50:41.212Z"
   },
   {
    "duration": 30,
    "start_time": "2021-12-12T21:50:54.211Z"
   },
   {
    "duration": 32,
    "start_time": "2021-12-12T21:51:20.358Z"
   },
   {
    "duration": 28,
    "start_time": "2021-12-12T21:51:27.529Z"
   },
   {
    "duration": 30,
    "start_time": "2021-12-12T21:51:31.127Z"
   },
   {
    "duration": 28,
    "start_time": "2021-12-12T21:51:57.449Z"
   },
   {
    "duration": 548,
    "start_time": "2021-12-13T06:21:13.119Z"
   },
   {
    "duration": 768,
    "start_time": "2021-12-13T06:21:19.077Z"
   },
   {
    "duration": 66,
    "start_time": "2021-12-13T06:21:20.965Z"
   },
   {
    "duration": 36,
    "start_time": "2021-12-13T06:21:22.931Z"
   },
   {
    "duration": 5,
    "start_time": "2021-12-13T06:21:25.869Z"
   },
   {
    "duration": 16,
    "start_time": "2021-12-13T06:21:28.029Z"
   },
   {
    "duration": 449,
    "start_time": "2021-12-13T06:21:32.436Z"
   },
   {
    "duration": 141,
    "start_time": "2021-12-13T06:21:40.789Z"
   },
   {
    "duration": 22,
    "start_time": "2021-12-13T06:21:51.205Z"
   },
   {
    "duration": 135,
    "start_time": "2021-12-13T06:24:04.351Z"
   },
   {
    "duration": 479,
    "start_time": "2021-12-13T06:24:29.895Z"
   },
   {
    "duration": 23,
    "start_time": "2021-12-13T06:24:46.072Z"
   },
   {
    "duration": 567,
    "start_time": "2021-12-13T06:26:23.640Z"
   },
   {
    "duration": 470,
    "start_time": "2021-12-13T06:26:36.226Z"
   },
   {
    "duration": 163,
    "start_time": "2021-12-13T06:26:53.507Z"
   },
   {
    "duration": 32,
    "start_time": "2021-12-13T06:27:00.473Z"
   },
   {
    "duration": 139,
    "start_time": "2021-12-13T06:29:36.562Z"
   },
   {
    "duration": 137,
    "start_time": "2021-12-13T06:29:50.238Z"
   },
   {
    "duration": 22,
    "start_time": "2021-12-13T06:29:53.739Z"
   },
   {
    "duration": 623,
    "start_time": "2021-12-13T06:30:52.499Z"
   },
   {
    "duration": 144,
    "start_time": "2021-12-13T06:31:37.876Z"
   },
   {
    "duration": 23,
    "start_time": "2021-12-13T06:31:43.132Z"
   },
   {
    "duration": 547,
    "start_time": "2021-12-13T06:34:21.479Z"
   },
   {
    "duration": 417,
    "start_time": "2021-12-13T06:34:31.822Z"
   },
   {
    "duration": 463,
    "start_time": "2021-12-13T06:34:47.543Z"
   },
   {
    "duration": 486,
    "start_time": "2021-12-13T06:34:57.350Z"
   },
   {
    "duration": 425,
    "start_time": "2021-12-13T06:43:21.764Z"
   },
   {
    "duration": 382,
    "start_time": "2021-12-13T06:43:33.516Z"
   },
   {
    "duration": 394,
    "start_time": "2021-12-13T06:45:02.212Z"
   },
   {
    "duration": 574,
    "start_time": "2021-12-13T06:45:14.148Z"
   },
   {
    "duration": 119,
    "start_time": "2021-12-13T06:45:36.949Z"
   },
   {
    "duration": 24,
    "start_time": "2021-12-13T06:45:43.565Z"
   },
   {
    "duration": 23,
    "start_time": "2021-12-13T06:46:53.622Z"
   },
   {
    "duration": 127,
    "start_time": "2021-12-13T06:47:03.515Z"
   },
   {
    "duration": 382,
    "start_time": "2021-12-13T06:48:00.455Z"
   },
   {
    "duration": 21,
    "start_time": "2021-12-13T06:48:23.151Z"
   },
   {
    "duration": 25,
    "start_time": "2021-12-13T07:11:05.951Z"
   },
   {
    "duration": 11,
    "start_time": "2021-12-13T07:11:09.780Z"
   },
   {
    "duration": 28,
    "start_time": "2021-12-13T07:47:32.576Z"
   },
   {
    "duration": 27,
    "start_time": "2021-12-13T07:47:39.622Z"
   },
   {
    "duration": 27,
    "start_time": "2021-12-13T07:47:47.861Z"
   },
   {
    "duration": 33,
    "start_time": "2021-12-13T07:47:49.357Z"
   },
   {
    "duration": 25,
    "start_time": "2021-12-13T07:47:52.686Z"
   },
   {
    "duration": 4,
    "start_time": "2021-12-13T07:56:10.203Z"
   },
   {
    "duration": 792,
    "start_time": "2021-12-13T07:57:03.938Z"
   },
   {
    "duration": 766,
    "start_time": "2021-12-13T07:57:26.450Z"
   },
   {
    "duration": 4,
    "start_time": "2021-12-13T07:58:05.827Z"
   },
   {
    "duration": 716,
    "start_time": "2021-12-13T07:58:06.672Z"
   },
   {
    "duration": 4,
    "start_time": "2021-12-13T07:58:14.179Z"
   },
   {
    "duration": 20,
    "start_time": "2021-12-13T07:58:15.956Z"
   },
   {
    "duration": 4,
    "start_time": "2021-12-13T07:58:53.107Z"
   },
   {
    "duration": 18,
    "start_time": "2021-12-13T07:58:53.795Z"
   },
   {
    "duration": 182,
    "start_time": "2021-12-13T07:58:59.648Z"
   },
   {
    "duration": 128,
    "start_time": "2021-12-13T07:59:06.091Z"
   },
   {
    "duration": 24,
    "start_time": "2021-12-13T07:59:12.700Z"
   },
   {
    "duration": 17,
    "start_time": "2021-12-13T07:59:29.915Z"
   },
   {
    "duration": 15,
    "start_time": "2021-12-13T07:59:51.363Z"
   },
   {
    "duration": 4,
    "start_time": "2021-12-13T08:00:01.421Z"
   },
   {
    "duration": 19,
    "start_time": "2021-12-13T08:00:03.539Z"
   },
   {
    "duration": 19,
    "start_time": "2021-12-13T08:00:40.292Z"
   },
   {
    "duration": 19,
    "start_time": "2021-12-13T08:00:44.876Z"
   },
   {
    "duration": 24,
    "start_time": "2021-12-13T08:01:45.746Z"
   },
   {
    "duration": 22,
    "start_time": "2021-12-13T08:02:08.334Z"
   },
   {
    "duration": 43,
    "start_time": "2021-12-13T08:49:24.397Z"
   },
   {
    "duration": 34,
    "start_time": "2021-12-13T08:49:30.052Z"
   },
   {
    "duration": 20,
    "start_time": "2021-12-13T08:49:43.893Z"
   },
   {
    "duration": 49,
    "start_time": "2021-12-13T08:58:30.441Z"
   },
   {
    "duration": 18,
    "start_time": "2021-12-13T08:58:32.131Z"
   },
   {
    "duration": 12,
    "start_time": "2021-12-13T09:01:16.332Z"
   },
   {
    "duration": 13,
    "start_time": "2021-12-13T09:01:28.659Z"
   },
   {
    "duration": 13,
    "start_time": "2021-12-13T09:03:41.333Z"
   },
   {
    "duration": 25,
    "start_time": "2021-12-13T09:03:50.465Z"
   },
   {
    "duration": 12,
    "start_time": "2021-12-13T09:04:03.676Z"
   },
   {
    "duration": 11,
    "start_time": "2021-12-13T09:07:32.036Z"
   },
   {
    "duration": 17,
    "start_time": "2021-12-13T09:09:32.536Z"
   },
   {
    "duration": 10809,
    "start_time": "2021-12-13T09:09:41.112Z"
   },
   {
    "duration": 9,
    "start_time": "2021-12-13T09:10:19.314Z"
   },
   {
    "duration": 13,
    "start_time": "2021-12-13T09:10:35.161Z"
   },
   {
    "duration": 12,
    "start_time": "2021-12-13T09:10:54.256Z"
   },
   {
    "duration": 10,
    "start_time": "2021-12-13T09:13:51.427Z"
   },
   {
    "duration": 10,
    "start_time": "2021-12-13T09:14:00.635Z"
   },
   {
    "duration": 14,
    "start_time": "2021-12-13T09:16:38.557Z"
   },
   {
    "duration": 5,
    "start_time": "2021-12-13T09:17:08.406Z"
   },
   {
    "duration": 403,
    "start_time": "2021-12-13T09:39:04.715Z"
   },
   {
    "duration": 197,
    "start_time": "2021-12-13T09:39:18.893Z"
   },
   {
    "duration": 410,
    "start_time": "2021-12-13T09:39:25.469Z"
   },
   {
    "duration": 11,
    "start_time": "2021-12-13T09:39:31.485Z"
   },
   {
    "duration": 5,
    "start_time": "2021-12-13T09:39:56.180Z"
   },
   {
    "duration": 6,
    "start_time": "2021-12-13T09:40:05.925Z"
   },
   {
    "duration": 5,
    "start_time": "2021-12-13T09:40:14.492Z"
   },
   {
    "duration": 10,
    "start_time": "2021-12-13T09:40:19.933Z"
   },
   {
    "duration": 10,
    "start_time": "2021-12-13T09:40:34.804Z"
   },
   {
    "duration": 5,
    "start_time": "2021-12-13T09:40:40.948Z"
   },
   {
    "duration": 19,
    "start_time": "2021-12-13T09:41:26.202Z"
   },
   {
    "duration": 12,
    "start_time": "2021-12-13T09:41:40.397Z"
   },
   {
    "duration": 13,
    "start_time": "2021-12-13T09:41:52.309Z"
   },
   {
    "duration": 5,
    "start_time": "2021-12-13T09:42:29.935Z"
   },
   {
    "duration": 11,
    "start_time": "2021-12-13T09:43:32.374Z"
   },
   {
    "duration": 6,
    "start_time": "2021-12-13T09:44:11.190Z"
   },
   {
    "duration": 5,
    "start_time": "2021-12-13T09:44:16.627Z"
   },
   {
    "duration": 5,
    "start_time": "2021-12-13T09:44:19.838Z"
   },
   {
    "duration": 5,
    "start_time": "2021-12-13T09:44:22.511Z"
   },
   {
    "duration": 11,
    "start_time": "2021-12-13T09:50:15.828Z"
   },
   {
    "duration": 36,
    "start_time": "2021-12-13T09:50:31.855Z"
   },
   {
    "duration": 18,
    "start_time": "2021-12-13T09:50:57.417Z"
   },
   {
    "duration": 456,
    "start_time": "2021-12-13T09:51:50.563Z"
   },
   {
    "duration": 126,
    "start_time": "2021-12-13T09:51:54.268Z"
   },
   {
    "duration": 11,
    "start_time": "2021-12-13T10:13:02.294Z"
   },
   {
    "duration": 11,
    "start_time": "2021-12-13T10:13:14.961Z"
   },
   {
    "duration": 5,
    "start_time": "2021-12-13T10:13:25.758Z"
   },
   {
    "duration": 65,
    "start_time": "2021-12-13T10:13:25.767Z"
   },
   {
    "duration": 36,
    "start_time": "2021-12-13T10:13:25.836Z"
   },
   {
    "duration": 9,
    "start_time": "2021-12-13T10:13:25.875Z"
   },
   {
    "duration": 19,
    "start_time": "2021-12-13T10:13:25.886Z"
   },
   {
    "duration": 53,
    "start_time": "2021-12-13T10:13:25.908Z"
   },
   {
    "duration": 24,
    "start_time": "2021-12-13T10:13:25.964Z"
   },
   {
    "duration": 10,
    "start_time": "2021-12-13T10:13:25.991Z"
   },
   {
    "duration": 82,
    "start_time": "2021-12-13T10:13:26.006Z"
   },
   {
    "duration": 23,
    "start_time": "2021-12-13T10:13:26.091Z"
   },
   {
    "duration": 14,
    "start_time": "2021-12-13T10:13:26.116Z"
   },
   {
    "duration": 46,
    "start_time": "2021-12-13T10:13:26.132Z"
   },
   {
    "duration": 5,
    "start_time": "2021-12-13T10:14:29.410Z"
   },
   {
    "duration": 167,
    "start_time": "2021-12-13T10:14:38.714Z"
   },
   {
    "duration": 4,
    "start_time": "2021-12-13T10:14:57.365Z"
   },
   {
    "duration": 12,
    "start_time": "2021-12-13T10:15:21.106Z"
   },
   {
    "duration": 5,
    "start_time": "2021-12-13T10:15:39.899Z"
   },
   {
    "duration": 5,
    "start_time": "2021-12-13T10:16:01.715Z"
   },
   {
    "duration": 5,
    "start_time": "2021-12-13T10:16:46.772Z"
   },
   {
    "duration": 4,
    "start_time": "2021-12-13T10:16:51.156Z"
   },
   {
    "duration": 4,
    "start_time": "2021-12-13T10:16:59.172Z"
   },
   {
    "duration": 11,
    "start_time": "2021-12-13T10:17:25.403Z"
   },
   {
    "duration": 375,
    "start_time": "2021-12-13T10:17:52.916Z"
   },
   {
    "duration": 621,
    "start_time": "2021-12-13T10:18:09.717Z"
   },
   {
    "duration": 11,
    "start_time": "2021-12-13T10:18:18.822Z"
   },
   {
    "duration": 5,
    "start_time": "2021-12-13T10:18:27.308Z"
   },
   {
    "duration": 6,
    "start_time": "2021-12-13T10:18:35.006Z"
   },
   {
    "duration": 62,
    "start_time": "2021-12-13T10:18:54.397Z"
   },
   {
    "duration": 11,
    "start_time": "2021-12-13T10:19:37.067Z"
   },
   {
    "duration": 5,
    "start_time": "2021-12-13T10:19:58.061Z"
   },
   {
    "duration": 10,
    "start_time": "2021-12-13T10:23:11.680Z"
   },
   {
    "duration": 11,
    "start_time": "2021-12-13T10:23:40.856Z"
   },
   {
    "duration": 40,
    "start_time": "2021-12-13T10:26:57.658Z"
   },
   {
    "duration": 39,
    "start_time": "2021-12-13T10:27:19.031Z"
   },
   {
    "duration": 137,
    "start_time": "2021-12-13T10:28:19.428Z"
   },
   {
    "duration": 169,
    "start_time": "2021-12-13T10:28:25.307Z"
   },
   {
    "duration": 122,
    "start_time": "2021-12-13T10:28:36.119Z"
   },
   {
    "duration": 11,
    "start_time": "2021-12-13T10:29:25.236Z"
   },
   {
    "duration": 387,
    "start_time": "2021-12-13T10:30:07.907Z"
   },
   {
    "duration": 149,
    "start_time": "2021-12-13T10:30:38.261Z"
   },
   {
    "duration": 35,
    "start_time": "2021-12-13T10:30:56.292Z"
   },
   {
    "duration": 13,
    "start_time": "2021-12-13T10:31:28.314Z"
   },
   {
    "duration": 11,
    "start_time": "2021-12-13T10:31:46.789Z"
   },
   {
    "duration": 19,
    "start_time": "2021-12-13T10:32:32.894Z"
   },
   {
    "duration": 6,
    "start_time": "2021-12-13T10:33:06.192Z"
   },
   {
    "duration": 3,
    "start_time": "2021-12-13T10:33:09.219Z"
   },
   {
    "duration": 63,
    "start_time": "2021-12-13T10:33:09.225Z"
   },
   {
    "duration": 25,
    "start_time": "2021-12-13T10:33:09.291Z"
   },
   {
    "duration": 6,
    "start_time": "2021-12-13T10:33:09.319Z"
   },
   {
    "duration": 40,
    "start_time": "2021-12-13T10:33:09.327Z"
   },
   {
    "duration": 21,
    "start_time": "2021-12-13T10:33:09.369Z"
   },
   {
    "duration": 23,
    "start_time": "2021-12-13T10:33:09.392Z"
   },
   {
    "duration": 45,
    "start_time": "2021-12-13T10:33:09.417Z"
   },
   {
    "duration": 43,
    "start_time": "2021-12-13T10:33:09.467Z"
   },
   {
    "duration": 46,
    "start_time": "2021-12-13T10:33:09.513Z"
   },
   {
    "duration": 14,
    "start_time": "2021-12-13T10:33:09.562Z"
   },
   {
    "duration": 5,
    "start_time": "2021-12-13T10:33:09.578Z"
   },
   {
    "duration": 25,
    "start_time": "2021-12-13T10:33:09.585Z"
   },
   {
    "duration": 5,
    "start_time": "2021-12-13T10:33:17.751Z"
   },
   {
    "duration": 20,
    "start_time": "2021-12-13T10:35:37.754Z"
   },
   {
    "duration": 14,
    "start_time": "2021-12-13T10:36:34.624Z"
   },
   {
    "duration": 40,
    "start_time": "2021-12-13T10:37:16.374Z"
   },
   {
    "duration": 11,
    "start_time": "2021-12-13T10:37:40.267Z"
   },
   {
    "duration": 38,
    "start_time": "2021-12-13T10:38:38.625Z"
   },
   {
    "duration": 11,
    "start_time": "2021-12-13T10:39:24.123Z"
   },
   {
    "duration": 39,
    "start_time": "2021-12-13T10:39:44.387Z"
   },
   {
    "duration": 37,
    "start_time": "2021-12-13T10:40:04.659Z"
   },
   {
    "duration": 14,
    "start_time": "2021-12-13T10:40:31.004Z"
   },
   {
    "duration": 11,
    "start_time": "2021-12-13T10:40:57.706Z"
   },
   {
    "duration": 51,
    "start_time": "2021-12-13T10:41:05.965Z"
   },
   {
    "duration": 22,
    "start_time": "2021-12-13T10:42:52.388Z"
   },
   {
    "duration": 14,
    "start_time": "2021-12-13T10:45:23.765Z"
   },
   {
    "duration": 12,
    "start_time": "2021-12-13T10:45:36.854Z"
   },
   {
    "duration": 373,
    "start_time": "2021-12-13T10:46:36.383Z"
   },
   {
    "duration": 46,
    "start_time": "2021-12-13T10:46:47.934Z"
   },
   {
    "duration": 30,
    "start_time": "2021-12-13T10:47:00.623Z"
   },
   {
    "duration": 37,
    "start_time": "2021-12-13T10:47:06.543Z"
   },
   {
    "duration": 29,
    "start_time": "2021-12-13T10:50:51.851Z"
   },
   {
    "duration": 10,
    "start_time": "2021-12-13T11:23:05.478Z"
   },
   {
    "duration": 23,
    "start_time": "2021-12-13T11:24:56.921Z"
   },
   {
    "duration": 54,
    "start_time": "2021-12-13T11:36:35.435Z"
   },
   {
    "duration": 363,
    "start_time": "2021-12-13T11:37:29.760Z"
   },
   {
    "duration": 16,
    "start_time": "2021-12-13T11:37:40.671Z"
   },
   {
    "duration": 52,
    "start_time": "2021-12-13T11:37:47.028Z"
   },
   {
    "duration": 53,
    "start_time": "2021-12-13T11:39:24.817Z"
   },
   {
    "duration": 72,
    "start_time": "2021-12-13T11:39:56.137Z"
   },
   {
    "duration": 4,
    "start_time": "2021-12-13T11:40:26.893Z"
   },
   {
    "duration": 78,
    "start_time": "2021-12-13T11:40:26.900Z"
   },
   {
    "duration": 20,
    "start_time": "2021-12-13T11:40:26.982Z"
   },
   {
    "duration": 16,
    "start_time": "2021-12-13T11:40:27.006Z"
   },
   {
    "duration": 35,
    "start_time": "2021-12-13T11:40:27.025Z"
   },
   {
    "duration": 49,
    "start_time": "2021-12-13T11:40:27.063Z"
   },
   {
    "duration": 58,
    "start_time": "2021-12-13T11:40:27.115Z"
   },
   {
    "duration": 26,
    "start_time": "2021-12-13T11:40:27.178Z"
   },
   {
    "duration": 24,
    "start_time": "2021-12-13T11:40:27.208Z"
   },
   {
    "duration": 40,
    "start_time": "2021-12-13T11:40:27.236Z"
   },
   {
    "duration": 54,
    "start_time": "2021-12-13T11:40:27.278Z"
   },
   {
    "duration": 30,
    "start_time": "2021-12-13T11:40:27.334Z"
   },
   {
    "duration": 21,
    "start_time": "2021-12-13T11:40:27.366Z"
   },
   {
    "duration": 15,
    "start_time": "2021-12-13T11:40:27.389Z"
   },
   {
    "duration": 55,
    "start_time": "2021-12-13T11:40:27.406Z"
   },
   {
    "duration": 24,
    "start_time": "2021-12-13T11:40:27.464Z"
   },
   {
    "duration": 23,
    "start_time": "2021-12-13T11:43:06.715Z"
   },
   {
    "duration": 53,
    "start_time": "2021-12-13T11:43:19.826Z"
   },
   {
    "duration": 8,
    "start_time": "2021-12-13T11:54:03.334Z"
   },
   {
    "duration": 11,
    "start_time": "2021-12-13T11:56:23.943Z"
   },
   {
    "duration": 34,
    "start_time": "2021-12-13T11:56:52.235Z"
   },
   {
    "duration": 14,
    "start_time": "2021-12-13T11:57:26.553Z"
   },
   {
    "duration": 8,
    "start_time": "2021-12-13T11:57:37.163Z"
   },
   {
    "duration": 42,
    "start_time": "2021-12-13T12:14:03.347Z"
   },
   {
    "duration": 41,
    "start_time": "2021-12-13T12:14:51.904Z"
   },
   {
    "duration": 102,
    "start_time": "2021-12-13T12:15:18.608Z"
   },
   {
    "duration": 37,
    "start_time": "2021-12-13T12:15:22.991Z"
   },
   {
    "duration": 28,
    "start_time": "2021-12-13T12:15:55.376Z"
   },
   {
    "duration": 139,
    "start_time": "2021-12-13T12:19:41.112Z"
   },
   {
    "duration": 31,
    "start_time": "2021-12-13T12:19:43.836Z"
   },
   {
    "duration": 13,
    "start_time": "2021-12-13T12:22:49.870Z"
   },
   {
    "duration": 14,
    "start_time": "2021-12-13T12:23:04.579Z"
   },
   {
    "duration": 13,
    "start_time": "2021-12-13T12:23:14.196Z"
   },
   {
    "duration": 11,
    "start_time": "2021-12-13T12:23:34.612Z"
   },
   {
    "duration": 26,
    "start_time": "2021-12-13T12:23:41.436Z"
   },
   {
    "duration": 128,
    "start_time": "2021-12-13T12:24:37.454Z"
   },
   {
    "duration": 29,
    "start_time": "2021-12-13T12:24:40.453Z"
   },
   {
    "duration": 10,
    "start_time": "2021-12-13T12:25:37.686Z"
   },
   {
    "duration": 13,
    "start_time": "2021-12-13T12:41:44.857Z"
   },
   {
    "duration": 135,
    "start_time": "2021-12-13T12:44:00.747Z"
   },
   {
    "duration": 5,
    "start_time": "2021-12-13T12:44:04.168Z"
   },
   {
    "duration": 6,
    "start_time": "2021-12-13T12:44:41.976Z"
   },
   {
    "duration": 6,
    "start_time": "2021-12-13T12:45:11.129Z"
   },
   {
    "duration": 5,
    "start_time": "2021-12-13T12:45:14.585Z"
   },
   {
    "duration": 5,
    "start_time": "2021-12-13T12:45:53.698Z"
   },
   {
    "duration": 50233,
    "start_time": "2021-12-13T12:47:38.779Z"
   },
   {
    "duration": 65,
    "start_time": "2021-12-13T12:48:29.015Z"
   },
   {
    "duration": 23139,
    "start_time": "2021-12-13T12:48:29.083Z"
   },
   {
    "duration": 4,
    "start_time": "2021-12-13T12:49:27.813Z"
   },
   {
    "duration": 3,
    "start_time": "2021-12-13T12:49:31.009Z"
   },
   {
    "duration": 82,
    "start_time": "2021-12-13T12:49:31.015Z"
   },
   {
    "duration": 25,
    "start_time": "2021-12-13T12:49:31.101Z"
   },
   {
    "duration": 33,
    "start_time": "2021-12-13T12:49:31.129Z"
   },
   {
    "duration": 24,
    "start_time": "2021-12-13T12:49:31.165Z"
   },
   {
    "duration": 67,
    "start_time": "2021-12-13T12:49:31.192Z"
   },
   {
    "duration": 25,
    "start_time": "2021-12-13T12:49:31.261Z"
   },
   {
    "duration": 41,
    "start_time": "2021-12-13T12:49:31.289Z"
   },
   {
    "duration": 30,
    "start_time": "2021-12-13T12:49:31.334Z"
   },
   {
    "duration": 44,
    "start_time": "2021-12-13T12:49:31.367Z"
   },
   {
    "duration": 11,
    "start_time": "2021-12-13T12:49:31.413Z"
   },
   {
    "duration": 32,
    "start_time": "2021-12-13T12:49:31.427Z"
   },
   {
    "duration": 36,
    "start_time": "2021-12-13T12:49:31.462Z"
   },
   {
    "duration": 58,
    "start_time": "2021-12-13T12:49:31.501Z"
   },
   {
    "duration": 31,
    "start_time": "2021-12-13T12:51:35.853Z"
   },
   {
    "duration": 8995,
    "start_time": "2021-12-13T12:52:11.478Z"
   },
   {
    "duration": 12,
    "start_time": "2021-12-13T12:52:27.678Z"
   },
   {
    "duration": 12,
    "start_time": "2021-12-13T12:52:40.493Z"
   },
   {
    "duration": 125,
    "start_time": "2021-12-13T12:52:44.910Z"
   },
   {
    "duration": 13,
    "start_time": "2021-12-13T12:53:05.839Z"
   },
   {
    "duration": 13,
    "start_time": "2021-12-13T12:53:13.207Z"
   },
   {
    "duration": 12,
    "start_time": "2021-12-13T12:53:25.526Z"
   },
   {
    "duration": 13,
    "start_time": "2021-12-13T12:53:29.030Z"
   },
   {
    "duration": 25,
    "start_time": "2021-12-13T13:03:34.178Z"
   },
   {
    "duration": 36,
    "start_time": "2021-12-13T13:03:40.744Z"
   },
   {
    "duration": 3,
    "start_time": "2021-12-13T13:10:46.163Z"
   },
   {
    "duration": 69,
    "start_time": "2021-12-13T13:10:46.170Z"
   },
   {
    "duration": 43,
    "start_time": "2021-12-13T13:10:46.242Z"
   },
   {
    "duration": 7,
    "start_time": "2021-12-13T13:10:46.289Z"
   },
   {
    "duration": 19,
    "start_time": "2021-12-13T13:10:46.299Z"
   },
   {
    "duration": 92,
    "start_time": "2021-12-13T13:10:46.320Z"
   },
   {
    "duration": 45,
    "start_time": "2021-12-13T13:10:46.414Z"
   },
   {
    "duration": 26,
    "start_time": "2021-12-13T13:10:46.464Z"
   },
   {
    "duration": 13,
    "start_time": "2021-12-13T13:10:46.492Z"
   },
   {
    "duration": 79,
    "start_time": "2021-12-13T13:10:46.508Z"
   },
   {
    "duration": 14,
    "start_time": "2021-12-13T13:10:46.590Z"
   },
   {
    "duration": 5,
    "start_time": "2021-12-13T13:10:46.607Z"
   },
   {
    "duration": 71,
    "start_time": "2021-12-13T13:10:46.615Z"
   },
   {
    "duration": 26,
    "start_time": "2021-12-13T13:10:46.689Z"
   },
   {
    "duration": 20,
    "start_time": "2021-12-13T13:11:20.262Z"
   },
   {
    "duration": 21,
    "start_time": "2021-12-13T13:14:14.415Z"
   },
   {
    "duration": 20,
    "start_time": "2021-12-13T13:14:34.411Z"
   },
   {
    "duration": 20,
    "start_time": "2021-12-13T13:14:43.779Z"
   },
   {
    "duration": 17,
    "start_time": "2021-12-13T13:14:51.644Z"
   },
   {
    "duration": 21,
    "start_time": "2021-12-13T13:14:58.996Z"
   },
   {
    "duration": 17,
    "start_time": "2021-12-13T13:15:09.268Z"
   },
   {
    "duration": 19,
    "start_time": "2021-12-13T13:15:21.852Z"
   },
   {
    "duration": 5,
    "start_time": "2021-12-13T14:12:56.302Z"
   },
   {
    "duration": 5,
    "start_time": "2021-12-13T14:12:57.065Z"
   },
   {
    "duration": 14,
    "start_time": "2021-12-13T14:13:46.618Z"
   },
   {
    "duration": 4,
    "start_time": "2021-12-13T14:14:05.239Z"
   },
   {
    "duration": 68,
    "start_time": "2021-12-13T14:14:05.245Z"
   },
   {
    "duration": 20,
    "start_time": "2021-12-13T14:14:05.316Z"
   },
   {
    "duration": 24,
    "start_time": "2021-12-13T14:14:05.338Z"
   },
   {
    "duration": 21,
    "start_time": "2021-12-13T14:14:05.365Z"
   },
   {
    "duration": 48,
    "start_time": "2021-12-13T14:14:05.388Z"
   },
   {
    "duration": 21,
    "start_time": "2021-12-13T14:14:05.459Z"
   },
   {
    "duration": 24,
    "start_time": "2021-12-13T14:14:05.484Z"
   },
   {
    "duration": 53,
    "start_time": "2021-12-13T14:14:05.510Z"
   },
   {
    "duration": 5,
    "start_time": "2021-12-13T14:14:05.565Z"
   },
   {
    "duration": 6,
    "start_time": "2021-12-13T14:14:05.572Z"
   },
   {
    "duration": 14,
    "start_time": "2021-12-13T14:14:05.581Z"
   },
   {
    "duration": 71,
    "start_time": "2021-12-13T14:14:05.597Z"
   },
   {
    "duration": 11,
    "start_time": "2021-12-13T14:14:05.671Z"
   },
   {
    "duration": 6,
    "start_time": "2021-12-13T14:14:05.685Z"
   },
   {
    "duration": 68,
    "start_time": "2021-12-13T14:14:05.693Z"
   },
   {
    "duration": 26,
    "start_time": "2021-12-13T14:14:05.763Z"
   },
   {
    "duration": 33,
    "start_time": "2021-12-13T14:23:04.018Z"
   },
   {
    "duration": 7,
    "start_time": "2021-12-13T14:23:04.103Z"
   },
   {
    "duration": 10,
    "start_time": "2021-12-13T14:25:23.849Z"
   },
   {
    "duration": 8,
    "start_time": "2021-12-13T14:25:36.331Z"
   },
   {
    "duration": 9,
    "start_time": "2021-12-13T14:26:41.899Z"
   },
   {
    "duration": 7,
    "start_time": "2021-12-13T14:28:50.582Z"
   },
   {
    "duration": 3,
    "start_time": "2021-12-13T14:28:56.383Z"
   },
   {
    "duration": 67,
    "start_time": "2021-12-13T14:28:56.389Z"
   },
   {
    "duration": 19,
    "start_time": "2021-12-13T14:28:56.459Z"
   },
   {
    "duration": 5,
    "start_time": "2021-12-13T14:28:56.481Z"
   },
   {
    "duration": 15,
    "start_time": "2021-12-13T14:28:56.488Z"
   },
   {
    "duration": 73,
    "start_time": "2021-12-13T14:28:56.505Z"
   },
   {
    "duration": 22,
    "start_time": "2021-12-13T14:28:56.580Z"
   },
   {
    "duration": 25,
    "start_time": "2021-12-13T14:28:56.605Z"
   },
   {
    "duration": 31,
    "start_time": "2021-12-13T14:28:56.633Z"
   },
   {
    "duration": 33,
    "start_time": "2021-12-13T14:28:56.667Z"
   },
   {
    "duration": 58,
    "start_time": "2021-12-13T14:28:56.702Z"
   },
   {
    "duration": 5,
    "start_time": "2021-12-13T14:28:56.763Z"
   },
   {
    "duration": 5,
    "start_time": "2021-12-13T14:28:56.771Z"
   },
   {
    "duration": 12,
    "start_time": "2021-12-13T14:28:56.779Z"
   },
   {
    "duration": 74,
    "start_time": "2021-12-13T14:28:56.793Z"
   },
   {
    "duration": 15,
    "start_time": "2021-12-13T14:28:56.870Z"
   },
   {
    "duration": 6,
    "start_time": "2021-12-13T14:28:56.888Z"
   },
   {
    "duration": 78,
    "start_time": "2021-12-13T14:28:56.897Z"
   },
   {
    "duration": 26,
    "start_time": "2021-12-13T14:28:56.978Z"
   },
   {
    "duration": 789,
    "start_time": "2021-12-13T18:38:27.599Z"
   },
   {
    "duration": 66,
    "start_time": "2021-12-13T18:38:28.392Z"
   },
   {
    "duration": 45,
    "start_time": "2021-12-13T18:38:28.461Z"
   },
   {
    "duration": 16,
    "start_time": "2021-12-13T18:38:28.509Z"
   },
   {
    "duration": 39,
    "start_time": "2021-12-13T18:38:28.528Z"
   },
   {
    "duration": 60,
    "start_time": "2021-12-13T18:38:28.570Z"
   },
   {
    "duration": 64,
    "start_time": "2021-12-13T18:38:28.632Z"
   },
   {
    "duration": 24,
    "start_time": "2021-12-13T18:38:28.699Z"
   },
   {
    "duration": 7,
    "start_time": "2021-12-13T18:38:28.726Z"
   },
   {
    "duration": 76,
    "start_time": "2021-12-13T18:38:28.736Z"
   },
   {
    "duration": 8,
    "start_time": "2021-12-13T18:38:28.814Z"
   },
   {
    "duration": 21,
    "start_time": "2021-12-13T18:38:28.867Z"
   },
   {
    "duration": 24,
    "start_time": "2021-12-13T18:38:28.891Z"
   },
   {
    "duration": 29,
    "start_time": "2021-12-13T18:38:28.917Z"
   },
   {
    "duration": 73,
    "start_time": "2021-12-13T18:38:28.949Z"
   },
   {
    "duration": 13,
    "start_time": "2021-12-13T18:38:29.024Z"
   },
   {
    "duration": 11,
    "start_time": "2021-12-13T18:38:29.040Z"
   },
   {
    "duration": 46,
    "start_time": "2021-12-13T18:38:29.069Z"
   },
   {
    "duration": 62,
    "start_time": "2021-12-13T18:38:29.117Z"
   },
   {
    "duration": 571,
    "start_time": "2021-12-13T18:40:32.059Z"
   },
   {
    "duration": 8,
    "start_time": "2021-12-13T18:41:33.589Z"
   },
   {
    "duration": 5983,
    "start_time": "2021-12-13T18:44:37.524Z"
   },
   {
    "duration": 7,
    "start_time": "2021-12-13T18:44:58.011Z"
   },
   {
    "duration": 47,
    "start_time": "2021-12-13T18:46:07.075Z"
   },
   {
    "duration": 9,
    "start_time": "2021-12-13T18:46:14.979Z"
   },
   {
    "duration": 71,
    "start_time": "2021-12-13T18:46:14.990Z"
   },
   {
    "duration": 32,
    "start_time": "2021-12-13T18:46:15.063Z"
   },
   {
    "duration": 12,
    "start_time": "2021-12-13T18:46:15.101Z"
   },
   {
    "duration": 23,
    "start_time": "2021-12-13T18:46:15.115Z"
   },
   {
    "duration": 96,
    "start_time": "2021-12-13T18:46:15.141Z"
   },
   {
    "duration": 49,
    "start_time": "2021-12-13T18:46:15.240Z"
   },
   {
    "duration": 33,
    "start_time": "2021-12-13T18:46:15.293Z"
   },
   {
    "duration": 77,
    "start_time": "2021-12-13T18:46:15.330Z"
   },
   {
    "duration": 8,
    "start_time": "2021-12-13T18:46:15.409Z"
   },
   {
    "duration": 53,
    "start_time": "2021-12-13T18:46:15.420Z"
   },
   {
    "duration": 6,
    "start_time": "2021-12-13T18:46:15.477Z"
   },
   {
    "duration": 21,
    "start_time": "2021-12-13T18:46:15.486Z"
   },
   {
    "duration": 88,
    "start_time": "2021-12-13T18:46:15.510Z"
   },
   {
    "duration": 14,
    "start_time": "2021-12-13T18:46:15.601Z"
   },
   {
    "duration": 6,
    "start_time": "2021-12-13T18:46:15.617Z"
   },
   {
    "duration": 87,
    "start_time": "2021-12-13T18:46:15.626Z"
   },
   {
    "duration": 25,
    "start_time": "2021-12-13T18:46:15.716Z"
   },
   {
    "duration": 23,
    "start_time": "2021-12-13T18:51:14.256Z"
   },
   {
    "duration": 788,
    "start_time": "2021-12-13T18:52:22.416Z"
   },
   {
    "duration": 25,
    "start_time": "2021-12-13T18:52:51.531Z"
   },
   {
    "duration": 31,
    "start_time": "2021-12-13T18:53:30.051Z"
   },
   {
    "duration": 26,
    "start_time": "2021-12-13T18:53:40.020Z"
   },
   {
    "duration": 34,
    "start_time": "2021-12-13T18:53:45.573Z"
   },
   {
    "duration": 123,
    "start_time": "2021-12-13T18:55:04.338Z"
   },
   {
    "duration": 39,
    "start_time": "2021-12-13T18:55:24.571Z"
   },
   {
    "duration": 23,
    "start_time": "2021-12-13T18:57:30.016Z"
   },
   {
    "duration": 16,
    "start_time": "2021-12-13T19:08:38.047Z"
   },
   {
    "duration": 17,
    "start_time": "2021-12-13T19:08:45.519Z"
   },
   {
    "duration": 4,
    "start_time": "2021-12-13T19:08:56.906Z"
   },
   {
    "duration": 69,
    "start_time": "2021-12-13T19:08:56.913Z"
   },
   {
    "duration": 20,
    "start_time": "2021-12-13T19:08:56.987Z"
   },
   {
    "duration": 18,
    "start_time": "2021-12-13T19:08:57.010Z"
   },
   {
    "duration": 45,
    "start_time": "2021-12-13T19:08:57.030Z"
   },
   {
    "duration": 52,
    "start_time": "2021-12-13T19:08:57.078Z"
   },
   {
    "duration": 42,
    "start_time": "2021-12-13T19:08:57.132Z"
   },
   {
    "duration": 31,
    "start_time": "2021-12-13T19:08:57.178Z"
   },
   {
    "duration": 83,
    "start_time": "2021-12-13T19:08:57.214Z"
   },
   {
    "duration": 20,
    "start_time": "2021-12-13T19:08:57.301Z"
   },
   {
    "duration": 7,
    "start_time": "2021-12-13T19:08:57.368Z"
   },
   {
    "duration": 8,
    "start_time": "2021-12-13T19:08:57.379Z"
   },
   {
    "duration": 27,
    "start_time": "2021-12-13T19:08:57.391Z"
   },
   {
    "duration": 94,
    "start_time": "2021-12-13T19:08:57.421Z"
   },
   {
    "duration": 13,
    "start_time": "2021-12-13T19:08:57.518Z"
   },
   {
    "duration": 6,
    "start_time": "2021-12-13T19:08:57.534Z"
   },
   {
    "duration": 58,
    "start_time": "2021-12-13T19:08:57.543Z"
   },
   {
    "duration": 27,
    "start_time": "2021-12-13T19:08:57.604Z"
   },
   {
    "duration": 19,
    "start_time": "2021-12-13T19:29:11.972Z"
   },
   {
    "duration": 11,
    "start_time": "2021-12-13T19:29:15.402Z"
   },
   {
    "duration": 26,
    "start_time": "2021-12-13T19:55:04.907Z"
   },
   {
    "duration": 6,
    "start_time": "2021-12-13T20:12:29.343Z"
   },
   {
    "duration": 7,
    "start_time": "2021-12-13T20:14:28.484Z"
   },
   {
    "duration": 278,
    "start_time": "2021-12-13T20:14:50.656Z"
   },
   {
    "duration": 5,
    "start_time": "2021-12-13T20:14:54.702Z"
   },
   {
    "duration": 7,
    "start_time": "2021-12-13T20:17:47.781Z"
   },
   {
    "duration": 6,
    "start_time": "2021-12-13T20:17:56.903Z"
   },
   {
    "duration": 101,
    "start_time": "2021-12-13T20:20:39.479Z"
   },
   {
    "duration": 5,
    "start_time": "2021-12-13T20:21:03.216Z"
   },
   {
    "duration": 87,
    "start_time": "2021-12-13T20:21:05.883Z"
   },
   {
    "duration": 136,
    "start_time": "2021-12-13T20:22:32.451Z"
   },
   {
    "duration": 343,
    "start_time": "2021-12-13T20:22:52.974Z"
   },
   {
    "duration": 333,
    "start_time": "2021-12-13T20:23:12.715Z"
   },
   {
    "duration": 107,
    "start_time": "2021-12-13T20:23:19.501Z"
   },
   {
    "duration": 8,
    "start_time": "2021-12-13T20:23:40.788Z"
   },
   {
    "duration": 88,
    "start_time": "2021-12-13T20:23:40.800Z"
   },
   {
    "duration": 24,
    "start_time": "2021-12-13T20:23:40.893Z"
   },
   {
    "duration": 12,
    "start_time": "2021-12-13T20:23:40.920Z"
   },
   {
    "duration": 34,
    "start_time": "2021-12-13T20:23:40.934Z"
   },
   {
    "duration": 52,
    "start_time": "2021-12-13T20:23:40.971Z"
   },
   {
    "duration": 56,
    "start_time": "2021-12-13T20:23:41.026Z"
   },
   {
    "duration": 28,
    "start_time": "2021-12-13T20:23:41.088Z"
   },
   {
    "duration": 11,
    "start_time": "2021-12-13T20:23:41.119Z"
   },
   {
    "duration": 37,
    "start_time": "2021-12-13T20:23:41.168Z"
   },
   {
    "duration": 73,
    "start_time": "2021-12-13T20:23:41.207Z"
   },
   {
    "duration": 6,
    "start_time": "2021-12-13T20:23:41.283Z"
   },
   {
    "duration": 39,
    "start_time": "2021-12-13T20:23:41.292Z"
   },
   {
    "duration": 58,
    "start_time": "2021-12-13T20:23:41.334Z"
   },
   {
    "duration": 46,
    "start_time": "2021-12-13T20:23:41.395Z"
   },
   {
    "duration": 8491,
    "start_time": "2021-12-13T20:23:41.444Z"
   },
   {
    "duration": -999,
    "start_time": "2021-12-13T20:23:50.937Z"
   },
   {
    "duration": -1000,
    "start_time": "2021-12-13T20:23:50.940Z"
   },
   {
    "duration": -998,
    "start_time": "2021-12-13T20:23:50.941Z"
   },
   {
    "duration": -998,
    "start_time": "2021-12-13T20:23:50.943Z"
   },
   {
    "duration": -998,
    "start_time": "2021-12-13T20:23:50.945Z"
   },
   {
    "duration": 3,
    "start_time": "2021-12-13T20:24:41.408Z"
   },
   {
    "duration": 75,
    "start_time": "2021-12-13T20:24:41.414Z"
   },
   {
    "duration": 24,
    "start_time": "2021-12-13T20:24:41.493Z"
   },
   {
    "duration": 10,
    "start_time": "2021-12-13T20:24:41.519Z"
   },
   {
    "duration": 17,
    "start_time": "2021-12-13T20:24:41.532Z"
   },
   {
    "duration": 55,
    "start_time": "2021-12-13T20:24:41.576Z"
   },
   {
    "duration": 40,
    "start_time": "2021-12-13T20:24:41.633Z"
   },
   {
    "duration": 28,
    "start_time": "2021-12-13T20:24:41.675Z"
   },
   {
    "duration": 14,
    "start_time": "2021-12-13T20:24:41.706Z"
   },
   {
    "duration": 81,
    "start_time": "2021-12-13T20:24:41.722Z"
   },
   {
    "duration": 67,
    "start_time": "2021-12-13T20:24:41.806Z"
   },
   {
    "duration": 7,
    "start_time": "2021-12-13T20:24:41.876Z"
   },
   {
    "duration": 8,
    "start_time": "2021-12-13T20:24:41.886Z"
   },
   {
    "duration": 14,
    "start_time": "2021-12-13T20:24:41.898Z"
   },
   {
    "duration": 6,
    "start_time": "2021-12-13T20:24:41.914Z"
   },
   {
    "duration": 10597,
    "start_time": "2021-12-13T20:24:41.924Z"
   },
   {
    "duration": -1006,
    "start_time": "2021-12-13T20:24:53.529Z"
   },
   {
    "duration": -1007,
    "start_time": "2021-12-13T20:24:53.532Z"
   },
   {
    "duration": -1010,
    "start_time": "2021-12-13T20:24:53.536Z"
   },
   {
    "duration": 131,
    "start_time": "2021-12-13T20:25:13.274Z"
   },
   {
    "duration": 20,
    "start_time": "2021-12-13T20:27:00.121Z"
   },
   {
    "duration": 124,
    "start_time": "2021-12-13T20:29:16.942Z"
   },
   {
    "duration": 191,
    "start_time": "2021-12-13T20:30:32.579Z"
   },
   {
    "duration": 97,
    "start_time": "2021-12-13T20:30:38.022Z"
   },
   {
    "duration": 6,
    "start_time": "2021-12-13T20:30:56.734Z"
   },
   {
    "duration": 97,
    "start_time": "2021-12-13T20:31:01.005Z"
   },
   {
    "duration": 31,
    "start_time": "2021-12-13T20:32:34.731Z"
   },
   {
    "duration": 37,
    "start_time": "2021-12-13T20:37:37.633Z"
   },
   {
    "duration": 48,
    "start_time": "2021-12-13T20:38:14.143Z"
   },
   {
    "duration": 19,
    "start_time": "2021-12-13T20:38:32.826Z"
   },
   {
    "duration": 16,
    "start_time": "2021-12-13T20:39:08.640Z"
   },
   {
    "duration": 16,
    "start_time": "2021-12-13T20:39:38.103Z"
   },
   {
    "duration": 27,
    "start_time": "2021-12-13T20:39:58.348Z"
   },
   {
    "duration": 276,
    "start_time": "2021-12-13T20:40:45.495Z"
   },
   {
    "duration": 300,
    "start_time": "2021-12-13T20:40:53.771Z"
   },
   {
    "duration": 36,
    "start_time": "2021-12-13T20:41:31.338Z"
   },
   {
    "duration": 30,
    "start_time": "2021-12-13T20:42:02.171Z"
   },
   {
    "duration": 16,
    "start_time": "2021-12-13T20:48:15.025Z"
   },
   {
    "duration": 12,
    "start_time": "2021-12-13T20:48:52.664Z"
   },
   {
    "duration": 35,
    "start_time": "2021-12-13T20:50:21.580Z"
   },
   {
    "duration": 41,
    "start_time": "2021-12-13T20:50:33.860Z"
   },
   {
    "duration": 28,
    "start_time": "2021-12-13T20:50:44.223Z"
   },
   {
    "duration": 320,
    "start_time": "2021-12-13T20:52:44.777Z"
   },
   {
    "duration": 15,
    "start_time": "2021-12-13T20:53:36.677Z"
   },
   {
    "duration": 303,
    "start_time": "2021-12-13T20:53:47.495Z"
   },
   {
    "duration": 15,
    "start_time": "2021-12-13T20:54:25.382Z"
   },
   {
    "duration": 290,
    "start_time": "2021-12-13T20:59:02.773Z"
   },
   {
    "duration": 10,
    "start_time": "2021-12-13T20:59:06.599Z"
   },
   {
    "duration": 15,
    "start_time": "2021-12-13T20:59:12.821Z"
   },
   {
    "duration": 11,
    "start_time": "2021-12-13T20:59:23.811Z"
   },
   {
    "duration": 13,
    "start_time": "2021-12-13T21:00:12.912Z"
   },
   {
    "duration": 9,
    "start_time": "2021-12-13T21:01:02.349Z"
   },
   {
    "duration": 43,
    "start_time": "2021-12-13T21:03:08.163Z"
   },
   {
    "duration": 6853,
    "start_time": "2021-12-13T21:03:43.197Z"
   },
   {
    "duration": 7046,
    "start_time": "2021-12-13T21:04:00.456Z"
   },
   {
    "duration": 16,
    "start_time": "2021-12-13T21:04:42.023Z"
   },
   {
    "duration": 12,
    "start_time": "2021-12-13T21:10:08.069Z"
   },
   {
    "duration": 216,
    "start_time": "2021-12-14T07:46:01.219Z"
   },
   {
    "duration": 546,
    "start_time": "2021-12-14T07:46:06.712Z"
   },
   {
    "duration": 50,
    "start_time": "2021-12-14T07:46:07.259Z"
   },
   {
    "duration": 20,
    "start_time": "2021-12-14T07:46:07.311Z"
   },
   {
    "duration": 5,
    "start_time": "2021-12-14T07:46:07.333Z"
   },
   {
    "duration": 12,
    "start_time": "2021-12-14T07:46:07.339Z"
   },
   {
    "duration": 56,
    "start_time": "2021-12-14T07:46:07.352Z"
   },
   {
    "duration": 18,
    "start_time": "2021-12-14T07:46:07.410Z"
   },
   {
    "duration": 15,
    "start_time": "2021-12-14T07:46:07.429Z"
   },
   {
    "duration": 7,
    "start_time": "2021-12-14T07:46:07.446Z"
   },
   {
    "duration": 49,
    "start_time": "2021-12-14T07:46:07.455Z"
   },
   {
    "duration": 16,
    "start_time": "2021-12-14T07:46:07.505Z"
   },
   {
    "duration": 3,
    "start_time": "2021-12-14T07:46:07.523Z"
   },
   {
    "duration": 4,
    "start_time": "2021-12-14T07:46:07.528Z"
   },
   {
    "duration": 9,
    "start_time": "2021-12-14T07:46:07.534Z"
   },
   {
    "duration": 47,
    "start_time": "2021-12-14T07:46:07.545Z"
   },
   {
    "duration": 18,
    "start_time": "2021-12-14T07:46:07.594Z"
   },
   {
    "duration": 6,
    "start_time": "2021-12-14T07:46:07.613Z"
   },
   {
    "duration": 11,
    "start_time": "2021-12-14T07:46:07.621Z"
   },
   {
    "duration": 19,
    "start_time": "2021-12-14T07:46:07.633Z"
   },
   {
    "duration": 38,
    "start_time": "2021-12-14T07:46:07.654Z"
   },
   {
    "duration": 2,
    "start_time": "2021-12-14T07:46:07.694Z"
   },
   {
    "duration": 9,
    "start_time": "2021-12-14T07:46:07.697Z"
   },
   {
    "duration": 23,
    "start_time": "2021-12-14T07:48:50.312Z"
   },
   {
    "duration": 13,
    "start_time": "2021-12-14T07:49:23.882Z"
   },
   {
    "duration": 23,
    "start_time": "2021-12-14T07:50:15.172Z"
   },
   {
    "duration": 231,
    "start_time": "2021-12-14T07:50:27.325Z"
   },
   {
    "duration": 22,
    "start_time": "2021-12-14T07:50:33.288Z"
   },
   {
    "duration": 9,
    "start_time": "2021-12-14T08:12:16.957Z"
   },
   {
    "duration": 7,
    "start_time": "2021-12-14T08:12:34.915Z"
   },
   {
    "duration": 8,
    "start_time": "2021-12-14T08:18:45.873Z"
   },
   {
    "duration": 4,
    "start_time": "2021-12-14T08:18:55.967Z"
   },
   {
    "duration": 3,
    "start_time": "2021-12-14T08:36:01.287Z"
   },
   {
    "duration": 4,
    "start_time": "2021-12-14T08:36:08.426Z"
   },
   {
    "duration": 58,
    "start_time": "2021-12-14T08:43:01.305Z"
   },
   {
    "duration": 60,
    "start_time": "2021-12-14T08:43:15.919Z"
   },
   {
    "duration": 52,
    "start_time": "2021-12-14T08:43:23.312Z"
   },
   {
    "duration": 3,
    "start_time": "2021-12-14T08:43:32.440Z"
   },
   {
    "duration": 4,
    "start_time": "2021-12-14T08:43:52.039Z"
   },
   {
    "duration": 4,
    "start_time": "2021-12-14T08:45:30.080Z"
   },
   {
    "duration": 3,
    "start_time": "2021-12-14T08:45:45.041Z"
   },
   {
    "duration": 4,
    "start_time": "2021-12-14T08:45:58.409Z"
   },
   {
    "duration": 57,
    "start_time": "2021-12-14T08:46:01.056Z"
   },
   {
    "duration": 52,
    "start_time": "2021-12-14T08:46:04.153Z"
   },
   {
    "duration": 3,
    "start_time": "2021-12-14T08:46:15.857Z"
   },
   {
    "duration": 3,
    "start_time": "2021-12-14T08:46:26.985Z"
   },
   {
    "duration": 3,
    "start_time": "2021-12-14T08:46:47.849Z"
   },
   {
    "duration": 3,
    "start_time": "2021-12-14T08:46:53.737Z"
   },
   {
    "duration": 4,
    "start_time": "2021-12-14T08:53:12.605Z"
   },
   {
    "duration": 4,
    "start_time": "2021-12-14T08:53:31.942Z"
   },
   {
    "duration": 5,
    "start_time": "2021-12-14T08:54:30.014Z"
   },
   {
    "duration": 3,
    "start_time": "2021-12-14T08:54:45.270Z"
   },
   {
    "duration": 4,
    "start_time": "2021-12-14T08:54:56.222Z"
   },
   {
    "duration": 63,
    "start_time": "2021-12-14T08:55:06.766Z"
   },
   {
    "duration": 4,
    "start_time": "2021-12-14T08:55:14.806Z"
   },
   {
    "duration": 5,
    "start_time": "2021-12-14T08:55:48.150Z"
   },
   {
    "duration": 4,
    "start_time": "2021-12-14T09:02:58.972Z"
   },
   {
    "duration": 8,
    "start_time": "2021-12-14T09:06:22.352Z"
   },
   {
    "duration": 7,
    "start_time": "2021-12-14T09:06:33.026Z"
   },
   {
    "duration": 7,
    "start_time": "2021-12-14T09:06:40.175Z"
   },
   {
    "duration": 181,
    "start_time": "2021-12-14T09:07:46.455Z"
   },
   {
    "duration": 2,
    "start_time": "2021-12-14T09:07:59.855Z"
   },
   {
    "duration": 63,
    "start_time": "2021-12-14T09:10:47.740Z"
   },
   {
    "duration": 7,
    "start_time": "2021-12-14T09:11:07.305Z"
   },
   {
    "duration": 3,
    "start_time": "2021-12-14T09:11:52.297Z"
   },
   {
    "duration": 8,
    "start_time": "2021-12-14T09:12:08.899Z"
   },
   {
    "duration": 8,
    "start_time": "2021-12-14T09:12:18.099Z"
   },
   {
    "duration": 63,
    "start_time": "2021-12-14T09:15:31.645Z"
   },
   {
    "duration": 266,
    "start_time": "2021-12-14T09:15:49.628Z"
   },
   {
    "duration": 4,
    "start_time": "2021-12-14T09:16:13.373Z"
   },
   {
    "duration": 4,
    "start_time": "2021-12-14T09:28:42.704Z"
   },
   {
    "duration": 171,
    "start_time": "2021-12-14T09:34:50.203Z"
   },
   {
    "duration": 10,
    "start_time": "2021-12-14T09:36:20.007Z"
   },
   {
    "duration": 25,
    "start_time": "2021-12-14T09:36:38.121Z"
   },
   {
    "duration": 13,
    "start_time": "2021-12-14T09:36:59.440Z"
   },
   {
    "duration": 12,
    "start_time": "2021-12-14T09:37:12.763Z"
   },
   {
    "duration": 12,
    "start_time": "2021-12-14T09:37:51.657Z"
   },
   {
    "duration": 12,
    "start_time": "2021-12-14T09:38:38.026Z"
   },
   {
    "duration": 11,
    "start_time": "2021-12-14T09:38:48.884Z"
   },
   {
    "duration": 13,
    "start_time": "2021-12-14T09:38:57.467Z"
   },
   {
    "duration": 8,
    "start_time": "2021-12-14T09:39:30.508Z"
   },
   {
    "duration": 16,
    "start_time": "2021-12-14T09:47:35.765Z"
   },
   {
    "duration": 10,
    "start_time": "2021-12-14T09:47:48.031Z"
   },
   {
    "duration": 2,
    "start_time": "2021-12-14T09:47:54.973Z"
   },
   {
    "duration": 61,
    "start_time": "2021-12-14T09:47:54.977Z"
   },
   {
    "duration": 12,
    "start_time": "2021-12-14T09:47:55.040Z"
   },
   {
    "duration": 6,
    "start_time": "2021-12-14T09:47:55.054Z"
   },
   {
    "duration": 12,
    "start_time": "2021-12-14T09:47:55.062Z"
   },
   {
    "duration": 47,
    "start_time": "2021-12-14T09:47:55.076Z"
   },
   {
    "duration": 15,
    "start_time": "2021-12-14T09:47:55.125Z"
   },
   {
    "duration": 14,
    "start_time": "2021-12-14T09:47:55.142Z"
   },
   {
    "duration": 6,
    "start_time": "2021-12-14T09:47:55.158Z"
   },
   {
    "duration": 46,
    "start_time": "2021-12-14T09:47:55.165Z"
   },
   {
    "duration": 17,
    "start_time": "2021-12-14T09:47:55.212Z"
   },
   {
    "duration": 3,
    "start_time": "2021-12-14T09:47:55.230Z"
   },
   {
    "duration": 5,
    "start_time": "2021-12-14T09:47:55.235Z"
   },
   {
    "duration": 11,
    "start_time": "2021-12-14T09:47:55.241Z"
   },
   {
    "duration": 5,
    "start_time": "2021-12-14T09:47:55.292Z"
   },
   {
    "duration": 25,
    "start_time": "2021-12-14T09:47:55.298Z"
   },
   {
    "duration": 6,
    "start_time": "2021-12-14T09:47:55.325Z"
   },
   {
    "duration": 17,
    "start_time": "2021-12-14T09:47:55.332Z"
   },
   {
    "duration": 46,
    "start_time": "2021-12-14T09:47:55.352Z"
   },
   {
    "duration": 16,
    "start_time": "2021-12-14T09:47:55.400Z"
   },
   {
    "duration": 7,
    "start_time": "2021-12-14T09:47:55.417Z"
   },
   {
    "duration": 11,
    "start_time": "2021-12-14T09:47:55.426Z"
   },
   {
    "duration": 6,
    "start_time": "2021-12-14T09:47:55.438Z"
   },
   {
    "duration": 9,
    "start_time": "2021-12-14T09:47:55.446Z"
   },
   {
    "duration": 3,
    "start_time": "2021-12-14T09:47:55.457Z"
   },
   {
    "duration": 10,
    "start_time": "2021-12-14T09:52:15.126Z"
   },
   {
    "duration": 16,
    "start_time": "2021-12-14T09:55:04.579Z"
   },
   {
    "duration": 12,
    "start_time": "2021-12-14T09:55:18.988Z"
   },
   {
    "duration": 1151,
    "start_time": "2021-12-14T09:55:47.700Z"
   },
   {
    "duration": 174,
    "start_time": "2021-12-14T09:56:36.556Z"
   },
   {
    "duration": 182,
    "start_time": "2021-12-14T09:56:44.220Z"
   },
   {
    "duration": 13,
    "start_time": "2021-12-14T09:57:09.381Z"
   },
   {
    "duration": 13,
    "start_time": "2021-12-14T10:07:11.850Z"
   },
   {
    "duration": 12,
    "start_time": "2021-12-14T10:14:16.848Z"
   },
   {
    "duration": 7,
    "start_time": "2021-12-14T10:14:42.664Z"
   },
   {
    "duration": 3,
    "start_time": "2021-12-14T10:14:47.244Z"
   },
   {
    "duration": 55,
    "start_time": "2021-12-14T10:14:47.249Z"
   },
   {
    "duration": 13,
    "start_time": "2021-12-14T10:14:47.307Z"
   },
   {
    "duration": 6,
    "start_time": "2021-12-14T10:14:47.322Z"
   },
   {
    "duration": 13,
    "start_time": "2021-12-14T10:14:47.329Z"
   },
   {
    "duration": 66,
    "start_time": "2021-12-14T10:14:47.344Z"
   },
   {
    "duration": 17,
    "start_time": "2021-12-14T10:14:47.412Z"
   },
   {
    "duration": 15,
    "start_time": "2021-12-14T10:14:47.431Z"
   },
   {
    "duration": 6,
    "start_time": "2021-12-14T10:14:47.447Z"
   },
   {
    "duration": 49,
    "start_time": "2021-12-14T10:14:47.455Z"
   },
   {
    "duration": 17,
    "start_time": "2021-12-14T10:14:47.506Z"
   },
   {
    "duration": 3,
    "start_time": "2021-12-14T10:14:47.524Z"
   },
   {
    "duration": 7,
    "start_time": "2021-12-14T10:14:47.529Z"
   },
   {
    "duration": 55,
    "start_time": "2021-12-14T10:14:47.537Z"
   },
   {
    "duration": 4,
    "start_time": "2021-12-14T10:14:47.594Z"
   },
   {
    "duration": 21,
    "start_time": "2021-12-14T10:14:47.600Z"
   },
   {
    "duration": 7,
    "start_time": "2021-12-14T10:14:47.622Z"
   },
   {
    "duration": 12,
    "start_time": "2021-12-14T10:14:47.630Z"
   },
   {
    "duration": 59,
    "start_time": "2021-12-14T10:14:47.644Z"
   },
   {
    "duration": 12,
    "start_time": "2021-12-14T10:14:47.705Z"
   },
   {
    "duration": 7,
    "start_time": "2021-12-14T10:14:47.718Z"
   },
   {
    "duration": 9,
    "start_time": "2021-12-14T10:14:47.727Z"
   },
   {
    "duration": 7,
    "start_time": "2021-12-14T10:14:47.738Z"
   },
   {
    "duration": 52,
    "start_time": "2021-12-14T10:14:47.747Z"
   },
   {
    "duration": 4,
    "start_time": "2021-12-14T10:14:47.800Z"
   },
   {
    "duration": 8,
    "start_time": "2021-12-14T10:14:47.805Z"
   },
   {
    "duration": 3,
    "start_time": "2021-12-14T10:14:47.815Z"
   },
   {
    "duration": 12,
    "start_time": "2021-12-14T10:15:12.232Z"
   },
   {
    "duration": 449,
    "start_time": "2021-12-14T10:47:07.110Z"
   },
   {
    "duration": 182,
    "start_time": "2021-12-14T10:48:08.185Z"
   },
   {
    "duration": 178,
    "start_time": "2021-12-14T10:48:33.478Z"
   },
   {
    "duration": 187,
    "start_time": "2021-12-14T10:48:50.077Z"
   },
   {
    "duration": 187,
    "start_time": "2021-12-14T10:50:32.401Z"
   },
   {
    "duration": 175,
    "start_time": "2021-12-14T10:50:39.865Z"
   },
   {
    "duration": 394,
    "start_time": "2021-12-14T10:50:57.751Z"
   },
   {
    "duration": 15,
    "start_time": "2021-12-14T10:53:32.936Z"
   },
   {
    "duration": 3,
    "start_time": "2021-12-14T10:53:38.254Z"
   },
   {
    "duration": 59,
    "start_time": "2021-12-14T10:53:38.259Z"
   },
   {
    "duration": 14,
    "start_time": "2021-12-14T10:53:38.320Z"
   },
   {
    "duration": 6,
    "start_time": "2021-12-14T10:53:38.336Z"
   },
   {
    "duration": 11,
    "start_time": "2021-12-14T10:53:38.343Z"
   },
   {
    "duration": 72,
    "start_time": "2021-12-14T10:53:38.356Z"
   },
   {
    "duration": 11,
    "start_time": "2021-12-14T10:53:38.430Z"
   },
   {
    "duration": 16,
    "start_time": "2021-12-14T10:53:38.443Z"
   },
   {
    "duration": 7,
    "start_time": "2021-12-14T10:53:38.462Z"
   },
   {
    "duration": 24,
    "start_time": "2021-12-14T10:53:38.499Z"
   },
   {
    "duration": 17,
    "start_time": "2021-12-14T10:53:38.524Z"
   },
   {
    "duration": 2,
    "start_time": "2021-12-14T10:53:38.543Z"
   },
   {
    "duration": 6,
    "start_time": "2021-12-14T10:53:38.547Z"
   },
   {
    "duration": 49,
    "start_time": "2021-12-14T10:53:38.554Z"
   },
   {
    "duration": 6,
    "start_time": "2021-12-14T10:53:38.608Z"
   },
   {
    "duration": 22,
    "start_time": "2021-12-14T10:53:38.616Z"
   },
   {
    "duration": 7,
    "start_time": "2021-12-14T10:53:38.639Z"
   },
   {
    "duration": 53,
    "start_time": "2021-12-14T10:53:38.648Z"
   },
   {
    "duration": 24,
    "start_time": "2021-12-14T10:53:38.705Z"
   },
   {
    "duration": 11,
    "start_time": "2021-12-14T10:53:38.731Z"
   },
   {
    "duration": 6,
    "start_time": "2021-12-14T10:53:38.744Z"
   },
   {
    "duration": 8,
    "start_time": "2021-12-14T10:53:38.752Z"
   },
   {
    "duration": 42,
    "start_time": "2021-12-14T10:53:38.761Z"
   },
   {
    "duration": 16,
    "start_time": "2021-12-14T10:53:38.805Z"
   },
   {
    "duration": 3,
    "start_time": "2021-12-14T10:53:38.823Z"
   },
   {
    "duration": 14,
    "start_time": "2021-12-14T10:53:38.828Z"
   },
   {
    "duration": 3,
    "start_time": "2021-12-14T10:53:38.845Z"
   },
   {
    "duration": 3,
    "start_time": "2021-12-14T10:53:59.509Z"
   },
   {
    "duration": 57,
    "start_time": "2021-12-14T10:53:59.514Z"
   },
   {
    "duration": 12,
    "start_time": "2021-12-14T10:53:59.573Z"
   },
   {
    "duration": 19,
    "start_time": "2021-12-14T10:53:59.587Z"
   },
   {
    "duration": 11,
    "start_time": "2021-12-14T10:53:59.608Z"
   },
   {
    "duration": 32,
    "start_time": "2021-12-14T10:53:59.621Z"
   },
   {
    "duration": 16,
    "start_time": "2021-12-14T10:53:59.655Z"
   },
   {
    "duration": 27,
    "start_time": "2021-12-14T10:53:59.693Z"
   },
   {
    "duration": 8,
    "start_time": "2021-12-14T10:53:59.722Z"
   },
   {
    "duration": 27,
    "start_time": "2021-12-14T10:53:59.732Z"
   },
   {
    "duration": 25,
    "start_time": "2021-12-14T10:53:59.795Z"
   },
   {
    "duration": 3,
    "start_time": "2021-12-14T10:53:59.822Z"
   },
   {
    "duration": 5,
    "start_time": "2021-12-14T10:53:59.827Z"
   },
   {
    "duration": 12,
    "start_time": "2021-12-14T10:53:59.833Z"
   },
   {
    "duration": 5,
    "start_time": "2021-12-14T10:53:59.846Z"
   },
   {
    "duration": 46,
    "start_time": "2021-12-14T10:53:59.853Z"
   },
   {
    "duration": 8,
    "start_time": "2021-12-14T10:53:59.904Z"
   },
   {
    "duration": 12,
    "start_time": "2021-12-14T10:53:59.914Z"
   },
   {
    "duration": 22,
    "start_time": "2021-12-14T10:53:59.927Z"
   },
   {
    "duration": 44,
    "start_time": "2021-12-14T10:53:59.951Z"
   },
   {
    "duration": 12,
    "start_time": "2021-12-14T10:53:59.998Z"
   },
   {
    "duration": 14,
    "start_time": "2021-12-14T10:54:00.012Z"
   },
   {
    "duration": 18,
    "start_time": "2021-12-14T10:54:00.029Z"
   },
   {
    "duration": 22,
    "start_time": "2021-12-14T10:54:00.049Z"
   },
   {
    "duration": 4,
    "start_time": "2021-12-14T10:54:00.072Z"
   },
   {
    "duration": 36,
    "start_time": "2021-12-14T10:54:00.077Z"
   },
   {
    "duration": 4,
    "start_time": "2021-12-14T10:54:00.115Z"
   },
   {
    "duration": 28,
    "start_time": "2021-12-14T11:13:34.209Z"
   },
   {
    "duration": 3,
    "start_time": "2021-12-14T11:42:01.048Z"
   },
   {
    "duration": 68,
    "start_time": "2021-12-14T11:42:01.052Z"
   },
   {
    "duration": 14,
    "start_time": "2021-12-14T11:42:01.122Z"
   },
   {
    "duration": 13,
    "start_time": "2021-12-14T11:42:01.138Z"
   },
   {
    "duration": 15,
    "start_time": "2021-12-14T11:42:01.153Z"
   },
   {
    "duration": 61,
    "start_time": "2021-12-14T11:42:01.170Z"
   },
   {
    "duration": 15,
    "start_time": "2021-12-14T11:42:01.233Z"
   },
   {
    "duration": 19,
    "start_time": "2021-12-14T11:42:01.250Z"
   },
   {
    "duration": 11,
    "start_time": "2021-12-14T11:42:01.271Z"
   },
   {
    "duration": 37,
    "start_time": "2021-12-14T11:42:01.284Z"
   },
   {
    "duration": 16,
    "start_time": "2021-12-14T11:42:01.323Z"
   },
   {
    "duration": 4,
    "start_time": "2021-12-14T11:42:01.341Z"
   },
   {
    "duration": 63,
    "start_time": "2021-12-14T11:42:01.346Z"
   },
   {
    "duration": 8,
    "start_time": "2021-12-14T11:42:01.411Z"
   },
   {
    "duration": 14,
    "start_time": "2021-12-14T11:42:01.421Z"
   },
   {
    "duration": 34,
    "start_time": "2021-12-14T11:42:01.437Z"
   },
   {
    "duration": 35,
    "start_time": "2021-12-14T11:42:01.473Z"
   },
   {
    "duration": 8,
    "start_time": "2021-12-14T11:42:01.510Z"
   },
   {
    "duration": 19,
    "start_time": "2021-12-14T11:42:01.520Z"
   },
   {
    "duration": 10,
    "start_time": "2021-12-14T11:42:01.541Z"
   },
   {
    "duration": 43,
    "start_time": "2021-12-14T11:42:01.553Z"
   },
   {
    "duration": 6,
    "start_time": "2021-12-14T11:42:01.599Z"
   },
   {
    "duration": 19,
    "start_time": "2021-12-14T11:42:01.608Z"
   },
   {
    "duration": 26,
    "start_time": "2021-12-14T11:42:01.628Z"
   },
   {
    "duration": 12,
    "start_time": "2021-12-14T11:42:01.656Z"
   },
   {
    "duration": 10,
    "start_time": "2021-12-14T11:42:01.670Z"
   },
   {
    "duration": 22,
    "start_time": "2021-12-14T11:42:01.682Z"
   },
   {
    "duration": 3,
    "start_time": "2021-12-14T11:42:20.430Z"
   },
   {
    "duration": 74,
    "start_time": "2021-12-14T11:42:20.435Z"
   },
   {
    "duration": 18,
    "start_time": "2021-12-14T11:42:20.512Z"
   },
   {
    "duration": 7,
    "start_time": "2021-12-14T11:42:20.533Z"
   },
   {
    "duration": 17,
    "start_time": "2021-12-14T11:42:20.542Z"
   },
   {
    "duration": 55,
    "start_time": "2021-12-14T11:42:20.561Z"
   },
   {
    "duration": 17,
    "start_time": "2021-12-14T11:42:20.618Z"
   },
   {
    "duration": 17,
    "start_time": "2021-12-14T11:42:20.637Z"
   },
   {
    "duration": 39,
    "start_time": "2021-12-14T11:42:20.657Z"
   },
   {
    "duration": 29,
    "start_time": "2021-12-14T11:42:20.700Z"
   },
   {
    "duration": 18,
    "start_time": "2021-12-14T11:42:20.730Z"
   },
   {
    "duration": 45,
    "start_time": "2021-12-14T11:42:20.750Z"
   },
   {
    "duration": 31,
    "start_time": "2021-12-14T11:42:20.798Z"
   },
   {
    "duration": 7,
    "start_time": "2021-12-14T11:42:20.831Z"
   },
   {
    "duration": 14,
    "start_time": "2021-12-14T11:42:20.840Z"
   },
   {
    "duration": 49,
    "start_time": "2021-12-14T11:42:20.856Z"
   },
   {
    "duration": 15,
    "start_time": "2021-12-14T11:42:20.908Z"
   },
   {
    "duration": 11,
    "start_time": "2021-12-14T11:42:20.925Z"
   },
   {
    "duration": 13,
    "start_time": "2021-12-14T11:42:20.939Z"
   },
   {
    "duration": 45,
    "start_time": "2021-12-14T11:42:20.954Z"
   },
   {
    "duration": 24,
    "start_time": "2021-12-14T11:42:21.003Z"
   },
   {
    "duration": 4,
    "start_time": "2021-12-14T11:42:21.029Z"
   },
   {
    "duration": 21,
    "start_time": "2021-12-14T11:42:21.035Z"
   },
   {
    "duration": 4,
    "start_time": "2021-12-14T11:42:21.058Z"
   },
   {
    "duration": 31,
    "start_time": "2021-12-14T11:42:21.064Z"
   },
   {
    "duration": 14,
    "start_time": "2021-12-14T11:42:21.097Z"
   },
   {
    "duration": 2,
    "start_time": "2021-12-14T11:42:21.118Z"
   },
   {
    "duration": 9,
    "start_time": "2021-12-14T11:47:27.798Z"
   },
   {
    "duration": 8,
    "start_time": "2021-12-14T11:47:34.180Z"
   },
   {
    "duration": 3,
    "start_time": "2021-12-14T11:47:48.407Z"
   },
   {
    "duration": 57,
    "start_time": "2021-12-14T11:47:48.412Z"
   },
   {
    "duration": 13,
    "start_time": "2021-12-14T11:47:48.471Z"
   },
   {
    "duration": 11,
    "start_time": "2021-12-14T11:47:48.486Z"
   },
   {
    "duration": 14,
    "start_time": "2021-12-14T11:47:48.500Z"
   },
   {
    "duration": 32,
    "start_time": "2021-12-14T11:47:48.516Z"
   },
   {
    "duration": 63,
    "start_time": "2021-12-14T11:47:48.550Z"
   },
   {
    "duration": 17,
    "start_time": "2021-12-14T11:47:48.616Z"
   },
   {
    "duration": 8,
    "start_time": "2021-12-14T11:47:48.635Z"
   },
   {
    "duration": 65,
    "start_time": "2021-12-14T11:47:48.645Z"
   },
   {
    "duration": 18,
    "start_time": "2021-12-14T11:47:48.712Z"
   },
   {
    "duration": 3,
    "start_time": "2021-12-14T11:47:48.732Z"
   },
   {
    "duration": 61,
    "start_time": "2021-12-14T11:47:48.737Z"
   },
   {
    "duration": 25,
    "start_time": "2021-12-14T11:47:48.800Z"
   },
   {
    "duration": 15,
    "start_time": "2021-12-14T11:47:48.827Z"
   },
   {
    "duration": 7,
    "start_time": "2021-12-14T11:47:48.843Z"
   },
   {
    "duration": 12,
    "start_time": "2021-12-14T11:47:48.851Z"
   },
   {
    "duration": 39,
    "start_time": "2021-12-14T11:47:48.864Z"
   },
   {
    "duration": 12,
    "start_time": "2021-12-14T11:47:48.906Z"
   },
   {
    "duration": 10,
    "start_time": "2021-12-14T11:47:48.919Z"
   },
   {
    "duration": 13,
    "start_time": "2021-12-14T11:47:48.931Z"
   },
   {
    "duration": 5,
    "start_time": "2021-12-14T11:47:48.946Z"
   },
   {
    "duration": 54,
    "start_time": "2021-12-14T11:47:48.954Z"
   },
   {
    "duration": 5,
    "start_time": "2021-12-14T11:47:49.010Z"
   },
   {
    "duration": 6,
    "start_time": "2021-12-14T11:47:49.016Z"
   },
   {
    "duration": 4,
    "start_time": "2021-12-14T11:47:49.024Z"
   },
   {
    "duration": 4,
    "start_time": "2021-12-14T11:47:49.030Z"
   },
   {
    "duration": 13,
    "start_time": "2021-12-14T11:49:48.723Z"
   },
   {
    "duration": 474,
    "start_time": "2021-12-14T11:52:06.149Z"
   },
   {
    "duration": 12,
    "start_time": "2021-12-14T11:52:34.663Z"
   },
   {
    "duration": 23,
    "start_time": "2021-12-14T11:59:45.282Z"
   },
   {
    "duration": 23,
    "start_time": "2021-12-14T12:01:11.135Z"
   },
   {
    "duration": 23,
    "start_time": "2021-12-14T12:01:19.563Z"
   },
   {
    "duration": 24,
    "start_time": "2021-12-14T12:01:32.596Z"
   },
   {
    "duration": 23,
    "start_time": "2021-12-14T12:01:47.619Z"
   },
   {
    "duration": 9,
    "start_time": "2021-12-14T12:03:29.475Z"
   },
   {
    "duration": 13,
    "start_time": "2021-12-14T12:04:21.904Z"
   },
   {
    "duration": 43,
    "start_time": "2021-12-14T12:06:02.022Z"
   },
   {
    "duration": 12,
    "start_time": "2021-12-14T12:06:46.446Z"
   },
   {
    "duration": 173,
    "start_time": "2021-12-14T12:09:10.471Z"
   },
   {
    "duration": 190,
    "start_time": "2021-12-14T12:12:57.203Z"
   },
   {
    "duration": 200,
    "start_time": "2021-12-14T12:13:22.423Z"
   },
   {
    "duration": 62,
    "start_time": "2021-12-14T12:15:47.672Z"
   },
   {
    "duration": 21,
    "start_time": "2021-12-14T12:15:55.027Z"
   },
   {
    "duration": 21,
    "start_time": "2021-12-14T12:20:20.317Z"
   },
   {
    "duration": 2708,
    "start_time": "2021-12-14T12:21:47.506Z"
   },
   {
    "duration": 20,
    "start_time": "2021-12-14T12:21:59.375Z"
   },
   {
    "duration": 15,
    "start_time": "2021-12-14T12:25:25.865Z"
   },
   {
    "duration": 22,
    "start_time": "2021-12-14T12:25:37.609Z"
   },
   {
    "duration": 8,
    "start_time": "2021-12-14T12:26:09.835Z"
   },
   {
    "duration": 530,
    "start_time": "2021-12-14T12:26:23.553Z"
   },
   {
    "duration": 224,
    "start_time": "2021-12-14T12:26:31.018Z"
   },
   {
    "duration": 3739,
    "start_time": "2021-12-14T12:26:37.034Z"
   },
   {
    "duration": 512,
    "start_time": "2021-12-14T12:27:30.020Z"
   },
   {
    "duration": 6,
    "start_time": "2021-12-14T12:27:33.562Z"
   },
   {
    "duration": 6,
    "start_time": "2021-12-14T12:27:38.547Z"
   },
   {
    "duration": 8,
    "start_time": "2021-12-14T12:27:42.138Z"
   },
   {
    "duration": 176,
    "start_time": "2021-12-14T12:50:24.746Z"
   },
   {
    "duration": 8,
    "start_time": "2021-12-14T12:50:30.233Z"
   },
   {
    "duration": 8,
    "start_time": "2021-12-14T12:50:57.864Z"
   },
   {
    "duration": 28,
    "start_time": "2021-12-14T12:51:17.754Z"
   },
   {
    "duration": 35,
    "start_time": "2021-12-14T12:51:57.609Z"
   },
   {
    "duration": 4,
    "start_time": "2021-12-14T12:52:39.962Z"
   },
   {
    "duration": 7,
    "start_time": "2021-12-14T12:53:09.458Z"
   },
   {
    "duration": 23,
    "start_time": "2021-12-14T12:54:47.331Z"
   },
   {
    "duration": 7,
    "start_time": "2021-12-14T12:55:08.761Z"
   },
   {
    "duration": 63,
    "start_time": "2021-12-14T12:55:43.307Z"
   },
   {
    "duration": 7,
    "start_time": "2021-12-14T12:55:46.365Z"
   },
   {
    "duration": 11,
    "start_time": "2021-12-14T12:57:38.109Z"
   },
   {
    "duration": 11,
    "start_time": "2021-12-14T12:57:58.005Z"
   },
   {
    "duration": 7,
    "start_time": "2021-12-14T12:58:19.309Z"
   },
   {
    "duration": 26,
    "start_time": "2021-12-14T12:59:18.439Z"
   },
   {
    "duration": 179,
    "start_time": "2021-12-14T12:59:53.933Z"
   },
   {
    "duration": 22,
    "start_time": "2021-12-14T12:59:59.287Z"
   },
   {
    "duration": 28,
    "start_time": "2021-12-14T13:01:01.594Z"
   },
   {
    "duration": 25,
    "start_time": "2021-12-14T13:02:09.865Z"
   },
   {
    "duration": 27,
    "start_time": "2021-12-14T13:02:15.056Z"
   },
   {
    "duration": 3,
    "start_time": "2021-12-14T13:02:26.245Z"
   },
   {
    "duration": 59,
    "start_time": "2021-12-14T13:02:26.251Z"
   },
   {
    "duration": 14,
    "start_time": "2021-12-14T13:02:26.313Z"
   },
   {
    "duration": 6,
    "start_time": "2021-12-14T13:02:26.329Z"
   },
   {
    "duration": 12,
    "start_time": "2021-12-14T13:02:26.336Z"
   },
   {
    "duration": 64,
    "start_time": "2021-12-14T13:02:26.349Z"
   },
   {
    "duration": 16,
    "start_time": "2021-12-14T13:02:26.415Z"
   },
   {
    "duration": 22,
    "start_time": "2021-12-14T13:02:26.433Z"
   },
   {
    "duration": 7,
    "start_time": "2021-12-14T13:02:26.458Z"
   },
   {
    "duration": 43,
    "start_time": "2021-12-14T13:02:26.467Z"
   },
   {
    "duration": 16,
    "start_time": "2021-12-14T13:02:26.512Z"
   },
   {
    "duration": 4,
    "start_time": "2021-12-14T13:02:26.529Z"
   },
   {
    "duration": 63,
    "start_time": "2021-12-14T13:02:26.535Z"
   },
   {
    "duration": 23,
    "start_time": "2021-12-14T13:02:26.599Z"
   },
   {
    "duration": 15,
    "start_time": "2021-12-14T13:02:26.624Z"
   },
   {
    "duration": 8,
    "start_time": "2021-12-14T13:02:26.641Z"
   },
   {
    "duration": 42,
    "start_time": "2021-12-14T13:02:26.650Z"
   },
   {
    "duration": 7,
    "start_time": "2021-12-14T13:02:26.694Z"
   },
   {
    "duration": 9,
    "start_time": "2021-12-14T13:02:26.703Z"
   },
   {
    "duration": 27,
    "start_time": "2021-12-14T13:02:26.713Z"
   },
   {
    "duration": 8,
    "start_time": "2021-12-14T13:02:26.741Z"
   },
   {
    "duration": 74,
    "start_time": "2021-12-14T13:02:26.751Z"
   },
   {
    "duration": 9,
    "start_time": "2021-12-14T13:02:26.827Z"
   },
   {
    "duration": 16,
    "start_time": "2021-12-14T13:02:26.838Z"
   },
   {
    "duration": 4,
    "start_time": "2021-12-14T13:02:26.855Z"
   },
   {
    "duration": 41,
    "start_time": "2021-12-14T13:02:26.860Z"
   },
   {
    "duration": 30,
    "start_time": "2021-12-14T13:02:26.905Z"
   },
   {
    "duration": 3,
    "start_time": "2021-12-14T13:02:26.937Z"
   },
   {
    "duration": 6,
    "start_time": "2021-12-14T13:02:26.942Z"
   },
   {
    "duration": 23,
    "start_time": "2021-12-14T13:02:26.949Z"
   },
   {
    "duration": 6,
    "start_time": "2021-12-14T13:02:26.973Z"
   },
   {
    "duration": 28,
    "start_time": "2021-12-14T13:02:51.953Z"
   },
   {
    "duration": 3,
    "start_time": "2021-12-14T13:03:03.717Z"
   },
   {
    "duration": 55,
    "start_time": "2021-12-14T13:03:03.722Z"
   },
   {
    "duration": 12,
    "start_time": "2021-12-14T13:03:03.779Z"
   },
   {
    "duration": 9,
    "start_time": "2021-12-14T13:03:03.793Z"
   },
   {
    "duration": 11,
    "start_time": "2021-12-14T13:03:03.804Z"
   },
   {
    "duration": 31,
    "start_time": "2021-12-14T13:03:03.817Z"
   },
   {
    "duration": 16,
    "start_time": "2021-12-14T13:03:03.850Z"
   },
   {
    "duration": 16,
    "start_time": "2021-12-14T13:03:03.892Z"
   },
   {
    "duration": 7,
    "start_time": "2021-12-14T13:03:03.910Z"
   },
   {
    "duration": 23,
    "start_time": "2021-12-14T13:03:03.918Z"
   },
   {
    "duration": 56,
    "start_time": "2021-12-14T13:03:03.942Z"
   },
   {
    "duration": 4,
    "start_time": "2021-12-14T13:03:04.000Z"
   },
   {
    "duration": 25,
    "start_time": "2021-12-14T13:03:04.006Z"
   },
   {
    "duration": 21,
    "start_time": "2021-12-14T13:03:04.033Z"
   },
   {
    "duration": 37,
    "start_time": "2021-12-14T13:03:04.055Z"
   },
   {
    "duration": 7,
    "start_time": "2021-12-14T13:03:04.094Z"
   },
   {
    "duration": 12,
    "start_time": "2021-12-14T13:03:04.103Z"
   },
   {
    "duration": 21,
    "start_time": "2021-12-14T13:03:04.117Z"
   },
   {
    "duration": 16,
    "start_time": "2021-12-14T13:03:04.141Z"
   },
   {
    "duration": 41,
    "start_time": "2021-12-14T13:03:04.160Z"
   },
   {
    "duration": 10,
    "start_time": "2021-12-14T13:03:04.203Z"
   },
   {
    "duration": 43,
    "start_time": "2021-12-14T13:03:04.215Z"
   },
   {
    "duration": 32,
    "start_time": "2021-12-14T13:03:04.261Z"
   },
   {
    "duration": 13,
    "start_time": "2021-12-14T13:03:04.295Z"
   },
   {
    "duration": 5,
    "start_time": "2021-12-14T13:03:04.309Z"
   },
   {
    "duration": 13,
    "start_time": "2021-12-14T13:03:04.316Z"
   },
   {
    "duration": 24,
    "start_time": "2021-12-14T13:03:04.331Z"
   },
   {
    "duration": 36,
    "start_time": "2021-12-14T13:03:04.358Z"
   },
   {
    "duration": 5,
    "start_time": "2021-12-14T13:03:04.396Z"
   },
   {
    "duration": 8,
    "start_time": "2021-12-14T13:03:04.402Z"
   },
   {
    "duration": 5,
    "start_time": "2021-12-14T13:03:04.412Z"
   },
   {
    "duration": 66,
    "start_time": "2021-12-14T13:08:15.040Z"
   },
   {
    "duration": 55,
    "start_time": "2021-12-14T13:08:21.556Z"
   },
   {
    "duration": 60,
    "start_time": "2021-12-14T13:08:38.950Z"
   },
   {
    "duration": 3,
    "start_time": "2021-12-14T13:08:44.740Z"
   },
   {
    "duration": 3,
    "start_time": "2021-12-14T13:08:55.220Z"
   },
   {
    "duration": 3,
    "start_time": "2021-12-14T13:09:15.996Z"
   },
   {
    "duration": 4,
    "start_time": "2021-12-14T13:09:22.460Z"
   },
   {
    "duration": 3,
    "start_time": "2021-12-14T13:10:24.277Z"
   },
   {
    "duration": 4,
    "start_time": "2021-12-14T13:10:30.420Z"
   },
   {
    "duration": 3,
    "start_time": "2021-12-14T13:15:41.473Z"
   },
   {
    "duration": 9,
    "start_time": "2021-12-14T13:31:07.650Z"
   },
   {
    "duration": 18,
    "start_time": "2021-12-14T13:32:19.250Z"
   },
   {
    "duration": 36,
    "start_time": "2021-12-14T13:33:53.016Z"
   },
   {
    "duration": 15,
    "start_time": "2021-12-14T13:34:28.204Z"
   },
   {
    "duration": 9,
    "start_time": "2021-12-14T13:34:55.868Z"
   },
   {
    "duration": 8,
    "start_time": "2021-12-14T13:35:12.972Z"
   },
   {
    "duration": 9,
    "start_time": "2021-12-14T13:35:23.236Z"
   },
   {
    "duration": 14,
    "start_time": "2021-12-14T13:37:16.750Z"
   },
   {
    "duration": 9,
    "start_time": "2021-12-14T13:38:19.504Z"
   },
   {
    "duration": 5,
    "start_time": "2021-12-14T13:41:36.436Z"
   },
   {
    "duration": 7,
    "start_time": "2021-12-14T13:46:19.133Z"
   },
   {
    "duration": 16,
    "start_time": "2021-12-14T13:46:39.836Z"
   },
   {
    "duration": 2,
    "start_time": "2021-12-14T13:47:04.443Z"
   },
   {
    "duration": 55,
    "start_time": "2021-12-14T13:47:04.447Z"
   },
   {
    "duration": 12,
    "start_time": "2021-12-14T13:47:04.504Z"
   },
   {
    "duration": 5,
    "start_time": "2021-12-14T13:47:04.518Z"
   },
   {
    "duration": 15,
    "start_time": "2021-12-14T13:47:04.524Z"
   },
   {
    "duration": 52,
    "start_time": "2021-12-14T13:47:04.540Z"
   },
   {
    "duration": 16,
    "start_time": "2021-12-14T13:47:04.594Z"
   },
   {
    "duration": 15,
    "start_time": "2021-12-14T13:47:04.612Z"
   },
   {
    "duration": 6,
    "start_time": "2021-12-14T13:47:04.629Z"
   },
   {
    "duration": 62,
    "start_time": "2021-12-14T13:47:04.637Z"
   },
   {
    "duration": 17,
    "start_time": "2021-12-14T13:47:04.701Z"
   },
   {
    "duration": 4,
    "start_time": "2021-12-14T13:47:04.719Z"
   },
   {
    "duration": 23,
    "start_time": "2021-12-14T13:47:04.724Z"
   },
   {
    "duration": 57,
    "start_time": "2021-12-14T13:47:04.749Z"
   },
   {
    "duration": 17,
    "start_time": "2021-12-14T13:47:04.808Z"
   },
   {
    "duration": 7,
    "start_time": "2021-12-14T13:47:04.826Z"
   },
   {
    "duration": 13,
    "start_time": "2021-12-14T13:47:04.834Z"
   },
   {
    "duration": 12,
    "start_time": "2021-12-14T13:47:04.849Z"
   },
   {
    "duration": 33,
    "start_time": "2021-12-14T13:47:04.867Z"
   },
   {
    "duration": 12,
    "start_time": "2021-12-14T13:47:04.901Z"
   },
   {
    "duration": 189,
    "start_time": "2021-12-14T13:47:04.914Z"
   },
   {
    "duration": 41,
    "start_time": "2021-12-14T13:47:05.064Z"
   },
   {
    "duration": 39,
    "start_time": "2021-12-14T13:47:05.067Z"
   },
   {
    "duration": 38,
    "start_time": "2021-12-14T13:47:05.069Z"
   },
   {
    "duration": 37,
    "start_time": "2021-12-14T13:47:05.071Z"
   },
   {
    "duration": 36,
    "start_time": "2021-12-14T13:47:05.073Z"
   },
   {
    "duration": 35,
    "start_time": "2021-12-14T13:47:05.075Z"
   },
   {
    "duration": 33,
    "start_time": "2021-12-14T13:47:05.077Z"
   },
   {
    "duration": 23,
    "start_time": "2021-12-14T13:47:05.088Z"
   },
   {
    "duration": 21,
    "start_time": "2021-12-14T13:47:05.091Z"
   },
   {
    "duration": 20,
    "start_time": "2021-12-14T13:47:05.093Z"
   },
   {
    "duration": 19,
    "start_time": "2021-12-14T13:47:05.095Z"
   },
   {
    "duration": 3,
    "start_time": "2021-12-14T13:48:04.194Z"
   },
   {
    "duration": 55,
    "start_time": "2021-12-14T13:48:04.199Z"
   },
   {
    "duration": 13,
    "start_time": "2021-12-14T13:48:04.256Z"
   },
   {
    "duration": 21,
    "start_time": "2021-12-14T13:48:04.271Z"
   },
   {
    "duration": 11,
    "start_time": "2021-12-14T13:48:04.294Z"
   },
   {
    "duration": 32,
    "start_time": "2021-12-14T13:48:04.307Z"
   },
   {
    "duration": 15,
    "start_time": "2021-12-14T13:48:04.341Z"
   },
   {
    "duration": 47,
    "start_time": "2021-12-14T13:48:04.358Z"
   },
   {
    "duration": 6,
    "start_time": "2021-12-14T13:48:04.407Z"
   },
   {
    "duration": 18,
    "start_time": "2021-12-14T13:48:04.415Z"
   },
   {
    "duration": 16,
    "start_time": "2021-12-14T13:48:04.435Z"
   },
   {
    "duration": 41,
    "start_time": "2021-12-14T13:48:04.452Z"
   },
   {
    "duration": 19,
    "start_time": "2021-12-14T13:48:04.495Z"
   },
   {
    "duration": 31,
    "start_time": "2021-12-14T13:48:04.515Z"
   },
   {
    "duration": 11,
    "start_time": "2021-12-14T13:48:04.548Z"
   },
   {
    "duration": 7,
    "start_time": "2021-12-14T13:48:04.591Z"
   },
   {
    "duration": 13,
    "start_time": "2021-12-14T13:48:04.600Z"
   },
   {
    "duration": 11,
    "start_time": "2021-12-14T13:48:04.615Z"
   },
   {
    "duration": 8,
    "start_time": "2021-12-14T13:48:04.628Z"
   },
   {
    "duration": 10,
    "start_time": "2021-12-14T13:48:04.638Z"
   },
   {
    "duration": 195,
    "start_time": "2021-12-14T13:48:04.649Z"
   },
   {
    "duration": 40,
    "start_time": "2021-12-14T13:48:04.806Z"
   },
   {
    "duration": 39,
    "start_time": "2021-12-14T13:48:04.808Z"
   },
   {
    "duration": 28,
    "start_time": "2021-12-14T13:48:04.820Z"
   },
   {
    "duration": 26,
    "start_time": "2021-12-14T13:48:04.823Z"
   },
   {
    "duration": 24,
    "start_time": "2021-12-14T13:48:04.826Z"
   },
   {
    "duration": 22,
    "start_time": "2021-12-14T13:48:04.828Z"
   },
   {
    "duration": 21,
    "start_time": "2021-12-14T13:48:04.831Z"
   },
   {
    "duration": 20,
    "start_time": "2021-12-14T13:48:04.833Z"
   },
   {
    "duration": 18,
    "start_time": "2021-12-14T13:48:04.835Z"
   },
   {
    "duration": 17,
    "start_time": "2021-12-14T13:48:04.837Z"
   },
   {
    "duration": 16,
    "start_time": "2021-12-14T13:48:04.839Z"
   },
   {
    "duration": 20,
    "start_time": "2021-12-14T13:51:34.956Z"
   },
   {
    "duration": 20,
    "start_time": "2021-12-14T13:52:07.439Z"
   },
   {
    "duration": 3,
    "start_time": "2021-12-14T13:53:12.938Z"
   },
   {
    "duration": 53,
    "start_time": "2021-12-14T13:53:12.943Z"
   },
   {
    "duration": 11,
    "start_time": "2021-12-14T13:53:12.998Z"
   },
   {
    "duration": 5,
    "start_time": "2021-12-14T13:53:13.011Z"
   },
   {
    "duration": 12,
    "start_time": "2021-12-14T13:53:13.017Z"
   },
   {
    "duration": 29,
    "start_time": "2021-12-14T13:53:13.030Z"
   },
   {
    "duration": 44,
    "start_time": "2021-12-14T13:53:13.062Z"
   },
   {
    "duration": 15,
    "start_time": "2021-12-14T13:53:13.109Z"
   },
   {
    "duration": 8,
    "start_time": "2021-12-14T13:53:13.126Z"
   },
   {
    "duration": 60,
    "start_time": "2021-12-14T13:53:13.136Z"
   },
   {
    "duration": 16,
    "start_time": "2021-12-14T13:53:13.198Z"
   },
   {
    "duration": 4,
    "start_time": "2021-12-14T13:53:13.215Z"
   },
   {
    "duration": 18,
    "start_time": "2021-12-14T13:53:13.220Z"
   },
   {
    "duration": 68,
    "start_time": "2021-12-14T13:53:13.240Z"
   },
   {
    "duration": 11,
    "start_time": "2021-12-14T13:53:13.310Z"
   },
   {
    "duration": 18,
    "start_time": "2021-12-14T13:53:13.323Z"
   },
   {
    "duration": 5,
    "start_time": "2021-12-14T13:53:13.343Z"
   },
   {
    "duration": 11,
    "start_time": "2021-12-14T13:53:13.350Z"
   },
   {
    "duration": 34,
    "start_time": "2021-12-14T13:53:13.364Z"
   },
   {
    "duration": 8,
    "start_time": "2021-12-14T13:53:13.400Z"
   },
   {
    "duration": 24,
    "start_time": "2021-12-14T13:53:13.409Z"
   },
   {
    "duration": 20,
    "start_time": "2021-12-14T13:53:13.435Z"
   },
   {
    "duration": 40,
    "start_time": "2021-12-14T13:53:13.457Z"
   },
   {
    "duration": 39,
    "start_time": "2021-12-14T13:53:13.499Z"
   },
   {
    "duration": 12,
    "start_time": "2021-12-14T13:53:13.540Z"
   },
   {
    "duration": 3,
    "start_time": "2021-12-14T13:53:13.553Z"
   },
   {
    "duration": 36,
    "start_time": "2021-12-14T13:53:13.558Z"
   },
   {
    "duration": 22,
    "start_time": "2021-12-14T13:53:13.596Z"
   },
   {
    "duration": 7,
    "start_time": "2021-12-14T13:53:13.620Z"
   },
   {
    "duration": 6,
    "start_time": "2021-12-14T13:53:13.629Z"
   },
   {
    "duration": 15,
    "start_time": "2021-12-14T13:53:13.637Z"
   },
   {
    "duration": 2,
    "start_time": "2021-12-14T13:53:13.654Z"
   },
   {
    "duration": 2,
    "start_time": "2021-12-14T13:53:13.692Z"
   },
   {
    "duration": 5,
    "start_time": "2021-12-14T13:53:13.695Z"
   },
   {
    "duration": 2,
    "start_time": "2021-12-14T13:55:26.173Z"
   },
   {
    "duration": 58,
    "start_time": "2021-12-14T13:55:26.177Z"
   },
   {
    "duration": 13,
    "start_time": "2021-12-14T13:55:26.237Z"
   },
   {
    "duration": 5,
    "start_time": "2021-12-14T13:55:26.252Z"
   },
   {
    "duration": 35,
    "start_time": "2021-12-14T13:55:26.258Z"
   },
   {
    "duration": 32,
    "start_time": "2021-12-14T13:55:26.295Z"
   },
   {
    "duration": 15,
    "start_time": "2021-12-14T13:55:26.329Z"
   },
   {
    "duration": 15,
    "start_time": "2021-12-14T13:55:26.345Z"
   },
   {
    "duration": 35,
    "start_time": "2021-12-14T13:55:26.362Z"
   },
   {
    "duration": 21,
    "start_time": "2021-12-14T13:55:26.399Z"
   },
   {
    "duration": 17,
    "start_time": "2021-12-14T13:55:26.422Z"
   },
   {
    "duration": 4,
    "start_time": "2021-12-14T13:55:26.440Z"
   },
   {
    "duration": 59,
    "start_time": "2021-12-14T13:55:26.445Z"
   },
   {
    "duration": 29,
    "start_time": "2021-12-14T13:55:26.506Z"
   },
   {
    "duration": 12,
    "start_time": "2021-12-14T13:55:26.537Z"
   },
   {
    "duration": 44,
    "start_time": "2021-12-14T13:55:26.551Z"
   },
   {
    "duration": 13,
    "start_time": "2021-12-14T13:55:26.597Z"
   },
   {
    "duration": 11,
    "start_time": "2021-12-14T13:55:26.612Z"
   },
   {
    "duration": 8,
    "start_time": "2021-12-14T13:55:26.624Z"
   },
   {
    "duration": 25,
    "start_time": "2021-12-14T13:55:26.633Z"
   },
   {
    "duration": 36,
    "start_time": "2021-12-14T13:55:26.659Z"
   },
   {
    "duration": 37,
    "start_time": "2021-12-14T13:55:26.697Z"
   },
   {
    "duration": 11,
    "start_time": "2021-12-14T13:55:26.736Z"
   },
   {
    "duration": 3,
    "start_time": "2021-12-14T13:55:26.748Z"
   },
   {
    "duration": 40,
    "start_time": "2021-12-14T13:55:26.752Z"
   },
   {
    "duration": 22,
    "start_time": "2021-12-14T13:55:26.794Z"
   },
   {
    "duration": 7,
    "start_time": "2021-12-14T13:55:26.819Z"
   },
   {
    "duration": 5,
    "start_time": "2021-12-14T13:55:26.828Z"
   },
   {
    "duration": 18,
    "start_time": "2021-12-14T13:55:26.835Z"
   },
   {
    "duration": 3,
    "start_time": "2021-12-14T13:55:26.854Z"
   },
   {
    "duration": 34,
    "start_time": "2021-12-14T13:55:26.858Z"
   },
   {
    "duration": 5,
    "start_time": "2021-12-14T13:55:26.894Z"
   },
   {
    "duration": 3,
    "start_time": "2021-12-14T13:56:00.319Z"
   },
   {
    "duration": 75,
    "start_time": "2021-12-14T13:56:00.324Z"
   },
   {
    "duration": 13,
    "start_time": "2021-12-14T13:56:00.401Z"
   },
   {
    "duration": 8,
    "start_time": "2021-12-14T13:56:00.416Z"
   },
   {
    "duration": 19,
    "start_time": "2021-12-14T13:56:00.425Z"
   },
   {
    "duration": 39,
    "start_time": "2021-12-14T13:56:00.445Z"
   },
   {
    "duration": 18,
    "start_time": "2021-12-14T13:56:00.487Z"
   },
   {
    "duration": 18,
    "start_time": "2021-12-14T13:56:00.507Z"
   },
   {
    "duration": 6,
    "start_time": "2021-12-14T13:56:00.527Z"
   },
   {
    "duration": 59,
    "start_time": "2021-12-14T13:56:00.535Z"
   },
   {
    "duration": 16,
    "start_time": "2021-12-14T13:56:00.595Z"
   },
   {
    "duration": 24,
    "start_time": "2021-12-14T13:56:00.613Z"
   },
   {
    "duration": 54,
    "start_time": "2021-12-14T13:56:00.638Z"
   },
   {
    "duration": 34,
    "start_time": "2021-12-14T13:56:00.693Z"
   },
   {
    "duration": 43,
    "start_time": "2021-12-14T13:56:00.729Z"
   },
   {
    "duration": 34,
    "start_time": "2021-12-14T13:56:00.773Z"
   },
   {
    "duration": 41,
    "start_time": "2021-12-14T13:56:00.808Z"
   },
   {
    "duration": 28,
    "start_time": "2021-12-14T13:56:00.851Z"
   },
   {
    "duration": 29,
    "start_time": "2021-12-14T13:56:00.882Z"
   },
   {
    "duration": 30,
    "start_time": "2021-12-14T13:56:00.913Z"
   },
   {
    "duration": 9,
    "start_time": "2021-12-14T13:56:00.944Z"
   },
   {
    "duration": 71,
    "start_time": "2021-12-14T13:56:00.955Z"
   },
   {
    "duration": 13,
    "start_time": "2021-12-14T13:56:01.028Z"
   },
   {
    "duration": 13,
    "start_time": "2021-12-14T13:56:01.042Z"
   },
   {
    "duration": 31,
    "start_time": "2021-12-14T13:56:01.057Z"
   },
   {
    "duration": 37,
    "start_time": "2021-12-14T13:56:01.090Z"
   },
   {
    "duration": 11,
    "start_time": "2021-12-14T13:56:01.129Z"
   },
   {
    "duration": 24,
    "start_time": "2021-12-14T13:56:01.141Z"
   },
   {
    "duration": 45,
    "start_time": "2021-12-14T13:56:01.166Z"
   },
   {
    "duration": 2,
    "start_time": "2021-12-14T13:56:01.213Z"
   },
   {
    "duration": 32,
    "start_time": "2021-12-14T13:56:01.216Z"
   },
   {
    "duration": 20,
    "start_time": "2021-12-14T13:56:01.249Z"
   },
   {
    "duration": 18,
    "start_time": "2021-12-14T14:06:41.345Z"
   },
   {
    "duration": 3,
    "start_time": "2021-12-14T14:06:53.270Z"
   },
   {
    "duration": 55,
    "start_time": "2021-12-14T14:06:53.275Z"
   },
   {
    "duration": 12,
    "start_time": "2021-12-14T14:06:53.333Z"
   },
   {
    "duration": 6,
    "start_time": "2021-12-14T14:06:53.347Z"
   },
   {
    "duration": 39,
    "start_time": "2021-12-14T14:06:53.355Z"
   },
   {
    "duration": 32,
    "start_time": "2021-12-14T14:06:53.395Z"
   },
   {
    "duration": 16,
    "start_time": "2021-12-14T14:06:53.428Z"
   },
   {
    "duration": 15,
    "start_time": "2021-12-14T14:06:53.446Z"
   },
   {
    "duration": 33,
    "start_time": "2021-12-14T14:06:53.463Z"
   },
   {
    "duration": 21,
    "start_time": "2021-12-14T14:06:53.498Z"
   },
   {
    "duration": 15,
    "start_time": "2021-12-14T14:06:53.521Z"
   },
   {
    "duration": 4,
    "start_time": "2021-12-14T14:06:53.537Z"
   },
   {
    "duration": 58,
    "start_time": "2021-12-14T14:06:53.542Z"
   },
   {
    "duration": 29,
    "start_time": "2021-12-14T14:06:53.601Z"
   },
   {
    "duration": 11,
    "start_time": "2021-12-14T14:06:53.632Z"
   },
   {
    "duration": 6,
    "start_time": "2021-12-14T14:06:53.645Z"
   },
   {
    "duration": 39,
    "start_time": "2021-12-14T14:06:53.653Z"
   },
   {
    "duration": 9,
    "start_time": "2021-12-14T14:06:53.694Z"
   },
   {
    "duration": 8,
    "start_time": "2021-12-14T14:06:53.705Z"
   },
   {
    "duration": 26,
    "start_time": "2021-12-14T14:06:53.714Z"
   },
   {
    "duration": 8,
    "start_time": "2021-12-14T14:06:53.741Z"
   },
   {
    "duration": 73,
    "start_time": "2021-12-14T14:06:53.750Z"
   },
   {
    "duration": 11,
    "start_time": "2021-12-14T14:06:53.826Z"
   },
   {
    "duration": 3,
    "start_time": "2021-12-14T14:06:53.839Z"
   },
   {
    "duration": 12,
    "start_time": "2021-12-14T14:06:53.844Z"
   },
   {
    "duration": 50,
    "start_time": "2021-12-14T14:06:53.857Z"
   },
   {
    "duration": 8,
    "start_time": "2021-12-14T14:06:53.908Z"
   },
   {
    "duration": 6,
    "start_time": "2021-12-14T14:06:53.917Z"
   },
   {
    "duration": 17,
    "start_time": "2021-12-14T14:06:53.924Z"
   },
   {
    "duration": 2,
    "start_time": "2021-12-14T14:06:53.942Z"
   },
   {
    "duration": 5,
    "start_time": "2021-12-14T14:06:53.946Z"
   },
   {
    "duration": 5,
    "start_time": "2021-12-14T14:06:53.952Z"
   },
   {
    "duration": 7,
    "start_time": "2021-12-14T14:10:42.960Z"
   },
   {
    "duration": 189,
    "start_time": "2021-12-14T14:12:31.995Z"
   },
   {
    "duration": 170,
    "start_time": "2021-12-14T14:12:38.072Z"
   },
   {
    "duration": 7,
    "start_time": "2021-12-14T14:14:24.108Z"
   },
   {
    "duration": 6,
    "start_time": "2021-12-14T14:15:13.436Z"
   },
   {
    "duration": 22,
    "start_time": "2021-12-14T14:21:54.402Z"
   },
   {
    "duration": 13,
    "start_time": "2021-12-14T14:23:03.898Z"
   },
   {
    "duration": 14,
    "start_time": "2021-12-14T14:23:47.771Z"
   },
   {
    "duration": 13,
    "start_time": "2021-12-14T14:28:12.349Z"
   },
   {
    "duration": 16,
    "start_time": "2021-12-14T14:28:34.259Z"
   },
   {
    "duration": 15,
    "start_time": "2021-12-14T14:28:48.253Z"
   },
   {
    "duration": 5,
    "start_time": "2021-12-14T14:30:39.143Z"
   },
   {
    "duration": 173,
    "start_time": "2021-12-14T14:30:52.818Z"
   },
   {
    "duration": 6,
    "start_time": "2021-12-14T14:30:56.102Z"
   },
   {
    "duration": 6,
    "start_time": "2021-12-14T14:31:10.806Z"
   },
   {
    "duration": 7,
    "start_time": "2021-12-14T14:31:45.023Z"
   },
   {
    "duration": 5,
    "start_time": "2021-12-14T14:34:44.970Z"
   },
   {
    "duration": 5,
    "start_time": "2021-12-14T14:35:32.720Z"
   },
   {
    "duration": 749,
    "start_time": "2021-12-14T17:34:15.179Z"
   },
   {
    "duration": 64,
    "start_time": "2021-12-14T17:34:15.931Z"
   },
   {
    "duration": 31,
    "start_time": "2021-12-14T17:34:15.998Z"
   },
   {
    "duration": 26,
    "start_time": "2021-12-14T17:34:16.033Z"
   },
   {
    "duration": 16,
    "start_time": "2021-12-14T17:34:16.063Z"
   },
   {
    "duration": 77,
    "start_time": "2021-12-14T17:34:16.082Z"
   },
   {
    "duration": 25,
    "start_time": "2021-12-14T17:34:16.162Z"
   },
   {
    "duration": 24,
    "start_time": "2021-12-14T17:34:16.193Z"
   },
   {
    "duration": 49,
    "start_time": "2021-12-14T17:34:16.220Z"
   },
   {
    "duration": 41,
    "start_time": "2021-12-14T17:34:16.272Z"
   },
   {
    "duration": 65,
    "start_time": "2021-12-14T17:34:16.315Z"
   },
   {
    "duration": 6,
    "start_time": "2021-12-14T17:34:16.382Z"
   },
   {
    "duration": 25,
    "start_time": "2021-12-14T17:34:16.390Z"
   },
   {
    "duration": 46,
    "start_time": "2021-12-14T17:34:16.459Z"
   },
   {
    "duration": 14,
    "start_time": "2021-12-14T17:34:16.508Z"
   },
   {
    "duration": 36,
    "start_time": "2021-12-14T17:34:16.524Z"
   },
   {
    "duration": 16,
    "start_time": "2021-12-14T17:34:16.563Z"
   },
   {
    "duration": 12,
    "start_time": "2021-12-14T17:34:16.582Z"
   },
   {
    "duration": 11,
    "start_time": "2021-12-14T17:34:16.596Z"
   },
   {
    "duration": 79,
    "start_time": "2021-12-14T17:34:16.609Z"
   },
   {
    "duration": 10,
    "start_time": "2021-12-14T17:34:16.691Z"
   },
   {
    "duration": 82,
    "start_time": "2021-12-14T17:34:16.703Z"
   },
   {
    "duration": 18,
    "start_time": "2021-12-14T17:34:16.790Z"
   },
   {
    "duration": 5,
    "start_time": "2021-12-14T17:34:16.811Z"
   },
   {
    "duration": 53,
    "start_time": "2021-12-14T17:34:16.818Z"
   },
   {
    "duration": 35,
    "start_time": "2021-12-14T17:34:16.873Z"
   },
   {
    "duration": 12,
    "start_time": "2021-12-14T17:34:16.910Z"
   },
   {
    "duration": 7,
    "start_time": "2021-12-14T17:34:16.960Z"
   },
   {
    "duration": 25,
    "start_time": "2021-12-14T17:34:16.969Z"
   },
   {
    "duration": 9,
    "start_time": "2021-12-14T17:34:16.996Z"
   },
   {
    "duration": 7,
    "start_time": "2021-12-14T17:34:17.008Z"
   },
   {
    "duration": 62,
    "start_time": "2021-12-14T17:34:17.017Z"
   },
   {
    "duration": 22,
    "start_time": "2021-12-14T17:34:17.082Z"
   },
   {
    "duration": 9,
    "start_time": "2021-12-14T17:34:17.106Z"
   },
   {
    "duration": 43,
    "start_time": "2021-12-14T17:34:17.117Z"
   },
   {
    "duration": 6,
    "start_time": "2021-12-14T17:34:17.163Z"
   },
   {
    "duration": 4,
    "start_time": "2021-12-14T17:34:17.171Z"
   },
   {
    "duration": 5,
    "start_time": "2021-12-14T17:34:17.177Z"
   },
   {
    "duration": 5,
    "start_time": "2021-12-14T17:34:17.184Z"
   },
   {
    "duration": 7,
    "start_time": "2021-12-14T17:42:42.262Z"
   },
   {
    "duration": 8,
    "start_time": "2021-12-14T17:42:46.126Z"
   },
   {
    "duration": 540,
    "start_time": "2021-12-14T17:48:46.462Z"
   },
   {
    "duration": 4,
    "start_time": "2021-12-14T17:48:50.180Z"
   },
   {
    "duration": 91,
    "start_time": "2021-12-14T17:48:50.187Z"
   },
   {
    "duration": 27,
    "start_time": "2021-12-14T17:48:50.282Z"
   },
   {
    "duration": 7,
    "start_time": "2021-12-14T17:48:50.312Z"
   },
   {
    "duration": 47,
    "start_time": "2021-12-14T17:48:50.322Z"
   },
   {
    "duration": 48,
    "start_time": "2021-12-14T17:48:50.371Z"
   },
   {
    "duration": 47,
    "start_time": "2021-12-14T17:48:50.422Z"
   },
   {
    "duration": 23,
    "start_time": "2021-12-14T17:48:50.472Z"
   },
   {
    "duration": 14,
    "start_time": "2021-12-14T17:48:50.501Z"
   },
   {
    "duration": 81,
    "start_time": "2021-12-14T17:48:50.519Z"
   },
   {
    "duration": 68,
    "start_time": "2021-12-14T17:48:50.603Z"
   },
   {
    "duration": 7,
    "start_time": "2021-12-14T17:48:50.674Z"
   },
   {
    "duration": 35,
    "start_time": "2021-12-14T17:48:50.684Z"
   },
   {
    "duration": 83,
    "start_time": "2021-12-14T17:48:50.721Z"
   },
   {
    "duration": 15,
    "start_time": "2021-12-14T17:48:50.806Z"
   },
   {
    "duration": 38,
    "start_time": "2021-12-14T17:48:50.824Z"
   },
   {
    "duration": 20,
    "start_time": "2021-12-14T17:48:50.864Z"
   },
   {
    "duration": 16,
    "start_time": "2021-12-14T17:48:50.887Z"
   },
   {
    "duration": 11,
    "start_time": "2021-12-14T17:48:50.905Z"
   },
   {
    "duration": 81,
    "start_time": "2021-12-14T17:48:50.919Z"
   },
   {
    "duration": 14,
    "start_time": "2021-12-14T17:48:51.003Z"
   },
   {
    "duration": 89,
    "start_time": "2021-12-14T17:48:51.019Z"
   },
   {
    "duration": 15,
    "start_time": "2021-12-14T17:48:51.110Z"
   },
   {
    "duration": 4,
    "start_time": "2021-12-14T17:48:51.128Z"
   },
   {
    "duration": 37,
    "start_time": "2021-12-14T17:48:51.135Z"
   },
   {
    "duration": 36,
    "start_time": "2021-12-14T17:48:51.175Z"
   },
   {
    "duration": 50,
    "start_time": "2021-12-14T17:48:51.216Z"
   },
   {
    "duration": 17,
    "start_time": "2021-12-14T17:48:51.268Z"
   },
   {
    "duration": 393,
    "start_time": "2021-12-14T17:48:51.287Z"
   },
   {
    "duration": -2251,
    "start_time": "2021-12-14T17:48:53.934Z"
   },
   {
    "duration": -2259,
    "start_time": "2021-12-14T17:48:53.943Z"
   },
   {
    "duration": -2261,
    "start_time": "2021-12-14T17:48:53.947Z"
   },
   {
    "duration": -2266,
    "start_time": "2021-12-14T17:48:53.953Z"
   },
   {
    "duration": -2267,
    "start_time": "2021-12-14T17:48:53.955Z"
   },
   {
    "duration": -2266,
    "start_time": "2021-12-14T17:48:53.956Z"
   },
   {
    "duration": -2269,
    "start_time": "2021-12-14T17:48:53.960Z"
   },
   {
    "duration": -2271,
    "start_time": "2021-12-14T17:48:53.963Z"
   },
   {
    "duration": -2286,
    "start_time": "2021-12-14T17:48:53.980Z"
   },
   {
    "duration": -2291,
    "start_time": "2021-12-14T17:48:53.986Z"
   },
   {
    "duration": 25,
    "start_time": "2021-12-14T17:49:07.930Z"
   },
   {
    "duration": 3,
    "start_time": "2021-12-14T17:49:12.013Z"
   },
   {
    "duration": 73,
    "start_time": "2021-12-14T17:49:12.019Z"
   },
   {
    "duration": 19,
    "start_time": "2021-12-14T17:49:12.096Z"
   },
   {
    "duration": 42,
    "start_time": "2021-12-14T17:49:12.119Z"
   },
   {
    "duration": 17,
    "start_time": "2021-12-14T17:49:12.164Z"
   },
   {
    "duration": 76,
    "start_time": "2021-12-14T17:49:12.184Z"
   },
   {
    "duration": 22,
    "start_time": "2021-12-14T17:49:12.262Z"
   },
   {
    "duration": 34,
    "start_time": "2021-12-14T17:49:12.286Z"
   },
   {
    "duration": 43,
    "start_time": "2021-12-14T17:49:12.323Z"
   },
   {
    "duration": 35,
    "start_time": "2021-12-14T17:49:12.369Z"
   },
   {
    "duration": 69,
    "start_time": "2021-12-14T17:49:12.407Z"
   },
   {
    "duration": 6,
    "start_time": "2021-12-14T17:49:12.478Z"
   },
   {
    "duration": 26,
    "start_time": "2021-12-14T17:49:12.486Z"
   },
   {
    "duration": 75,
    "start_time": "2021-12-14T17:49:12.514Z"
   },
   {
    "duration": 16,
    "start_time": "2021-12-14T17:49:12.592Z"
   },
   {
    "duration": 11,
    "start_time": "2021-12-14T17:49:12.610Z"
   },
   {
    "duration": 50,
    "start_time": "2021-12-14T17:49:12.623Z"
   },
   {
    "duration": 14,
    "start_time": "2021-12-14T17:49:12.676Z"
   },
   {
    "duration": 13,
    "start_time": "2021-12-14T17:49:12.693Z"
   },
   {
    "duration": 79,
    "start_time": "2021-12-14T17:49:12.709Z"
   },
   {
    "duration": 11,
    "start_time": "2021-12-14T17:49:12.790Z"
   },
   {
    "duration": 84,
    "start_time": "2021-12-14T17:49:12.803Z"
   },
   {
    "duration": 18,
    "start_time": "2021-12-14T17:49:12.890Z"
   },
   {
    "duration": 5,
    "start_time": "2021-12-14T17:49:12.910Z"
   },
   {
    "duration": 50,
    "start_time": "2021-12-14T17:49:12.917Z"
   },
   {
    "duration": 39,
    "start_time": "2021-12-14T17:49:12.969Z"
   },
   {
    "duration": 10,
    "start_time": "2021-12-14T17:49:13.013Z"
   },
   {
    "duration": 36,
    "start_time": "2021-12-14T17:49:13.025Z"
   },
   {
    "duration": 25,
    "start_time": "2021-12-14T17:49:13.063Z"
   },
   {
    "duration": 12,
    "start_time": "2021-12-14T17:49:13.090Z"
   },
   {
    "duration": 7,
    "start_time": "2021-12-14T17:49:13.104Z"
   },
   {
    "duration": 61,
    "start_time": "2021-12-14T17:49:13.113Z"
   },
   {
    "duration": 21,
    "start_time": "2021-12-14T17:49:13.177Z"
   },
   {
    "duration": 11,
    "start_time": "2021-12-14T17:49:13.200Z"
   },
   {
    "duration": 7,
    "start_time": "2021-12-14T17:49:13.213Z"
   },
   {
    "duration": 40,
    "start_time": "2021-12-14T17:49:13.223Z"
   },
   {
    "duration": 6,
    "start_time": "2021-12-14T17:49:13.265Z"
   },
   {
    "duration": 6,
    "start_time": "2021-12-14T17:49:13.273Z"
   },
   {
    "duration": 6,
    "start_time": "2021-12-14T17:49:13.281Z"
   },
   {
    "duration": 6,
    "start_time": "2021-12-14T17:49:42.351Z"
   },
   {
    "duration": 8,
    "start_time": "2021-12-14T17:49:50.545Z"
   },
   {
    "duration": 37,
    "start_time": "2021-12-14T17:51:55.468Z"
   },
   {
    "duration": 11,
    "start_time": "2021-12-14T17:52:55.293Z"
   },
   {
    "duration": 12,
    "start_time": "2021-12-14T17:53:24.232Z"
   },
   {
    "duration": 10,
    "start_time": "2021-12-14T17:54:09.175Z"
   },
   {
    "duration": 9,
    "start_time": "2021-12-14T18:00:19.191Z"
   },
   {
    "duration": 9,
    "start_time": "2021-12-14T18:00:20.493Z"
   },
   {
    "duration": 10,
    "start_time": "2021-12-14T18:00:31.145Z"
   },
   {
    "duration": 10,
    "start_time": "2021-12-14T18:00:39.307Z"
   },
   {
    "duration": 5,
    "start_time": "2021-12-14T18:01:30.393Z"
   },
   {
    "duration": 3,
    "start_time": "2021-12-14T18:04:28.161Z"
   },
   {
    "duration": 92,
    "start_time": "2021-12-14T18:04:28.167Z"
   },
   {
    "duration": 19,
    "start_time": "2021-12-14T18:04:28.262Z"
   },
   {
    "duration": 8,
    "start_time": "2021-12-14T18:04:28.284Z"
   },
   {
    "duration": 17,
    "start_time": "2021-12-14T18:04:28.296Z"
   },
   {
    "duration": 86,
    "start_time": "2021-12-14T18:04:28.316Z"
   },
   {
    "duration": 55,
    "start_time": "2021-12-14T18:04:28.407Z"
   },
   {
    "duration": 37,
    "start_time": "2021-12-14T18:04:28.466Z"
   },
   {
    "duration": 10,
    "start_time": "2021-12-14T18:04:28.505Z"
   },
   {
    "duration": 72,
    "start_time": "2021-12-14T18:04:28.517Z"
   },
   {
    "duration": 26,
    "start_time": "2021-12-14T18:04:28.591Z"
   },
   {
    "duration": 5,
    "start_time": "2021-12-14T18:04:28.660Z"
   },
   {
    "duration": 21,
    "start_time": "2021-12-14T18:04:28.668Z"
   },
   {
    "duration": 82,
    "start_time": "2021-12-14T18:04:28.691Z"
   },
   {
    "duration": 19,
    "start_time": "2021-12-14T18:04:28.776Z"
   },
   {
    "duration": 9,
    "start_time": "2021-12-14T18:04:28.798Z"
   },
   {
    "duration": 17,
    "start_time": "2021-12-14T18:04:28.809Z"
   },
   {
    "duration": 42,
    "start_time": "2021-12-14T18:04:28.828Z"
   },
   {
    "duration": 11,
    "start_time": "2021-12-14T18:04:28.874Z"
   },
   {
    "duration": 71,
    "start_time": "2021-12-14T18:04:28.888Z"
   },
   {
    "duration": 11,
    "start_time": "2021-12-14T18:04:28.961Z"
   },
   {
    "duration": 90,
    "start_time": "2021-12-14T18:04:28.974Z"
   },
   {
    "duration": 15,
    "start_time": "2021-12-14T18:04:29.066Z"
   },
   {
    "duration": 5,
    "start_time": "2021-12-14T18:04:29.083Z"
   },
   {
    "duration": 17,
    "start_time": "2021-12-14T18:04:29.090Z"
   },
   {
    "duration": 84,
    "start_time": "2021-12-14T18:04:29.109Z"
   },
   {
    "duration": 11,
    "start_time": "2021-12-14T18:04:29.195Z"
   },
   {
    "duration": 8,
    "start_time": "2021-12-14T18:04:29.208Z"
   },
   {
    "duration": 57,
    "start_time": "2021-12-14T18:04:29.218Z"
   },
   {
    "duration": 10,
    "start_time": "2021-12-14T18:04:29.277Z"
   },
   {
    "duration": 12,
    "start_time": "2021-12-14T18:04:29.290Z"
   },
   {
    "duration": 12,
    "start_time": "2021-12-14T18:04:29.304Z"
   },
   {
    "duration": 13,
    "start_time": "2021-12-14T18:04:29.360Z"
   },
   {
    "duration": 8,
    "start_time": "2021-12-14T18:04:29.376Z"
   },
   {
    "duration": 23,
    "start_time": "2021-12-14T18:04:29.387Z"
   },
   {
    "duration": 65,
    "start_time": "2021-12-14T18:04:29.413Z"
   },
   {
    "duration": 11,
    "start_time": "2021-12-14T18:04:29.481Z"
   },
   {
    "duration": 11,
    "start_time": "2021-12-14T18:04:29.494Z"
   },
   {
    "duration": 6,
    "start_time": "2021-12-14T18:04:29.507Z"
   },
   {
    "duration": 44,
    "start_time": "2021-12-14T18:04:29.517Z"
   },
   {
    "duration": 7,
    "start_time": "2021-12-14T18:04:29.563Z"
   },
   {
    "duration": 7,
    "start_time": "2021-12-14T18:04:29.572Z"
   },
   {
    "duration": 3,
    "start_time": "2021-12-14T18:06:06.999Z"
   },
   {
    "duration": 95,
    "start_time": "2021-12-14T18:06:07.005Z"
   },
   {
    "duration": 29,
    "start_time": "2021-12-14T18:06:07.104Z"
   },
   {
    "duration": 25,
    "start_time": "2021-12-14T18:06:07.137Z"
   },
   {
    "duration": 17,
    "start_time": "2021-12-14T18:06:07.165Z"
   },
   {
    "duration": 80,
    "start_time": "2021-12-14T18:06:07.185Z"
   },
   {
    "duration": 25,
    "start_time": "2021-12-14T18:06:07.268Z"
   },
   {
    "duration": 26,
    "start_time": "2021-12-14T18:06:07.296Z"
   },
   {
    "duration": 11,
    "start_time": "2021-12-14T18:06:07.361Z"
   },
   {
    "duration": 31,
    "start_time": "2021-12-14T18:06:07.375Z"
   },
   {
    "duration": 74,
    "start_time": "2021-12-14T18:06:07.409Z"
   },
   {
    "duration": 5,
    "start_time": "2021-12-14T18:06:07.485Z"
   },
   {
    "duration": 25,
    "start_time": "2021-12-14T18:06:07.492Z"
   },
   {
    "duration": 100,
    "start_time": "2021-12-14T18:06:07.519Z"
   },
   {
    "duration": 48,
    "start_time": "2021-12-14T18:06:07.621Z"
   },
   {
    "duration": 12,
    "start_time": "2021-12-14T18:06:07.672Z"
   },
   {
    "duration": 25,
    "start_time": "2021-12-14T18:06:07.687Z"
   },
   {
    "duration": 51,
    "start_time": "2021-12-14T18:06:07.715Z"
   },
   {
    "duration": 14,
    "start_time": "2021-12-14T18:06:07.769Z"
   },
   {
    "duration": 42,
    "start_time": "2021-12-14T18:06:07.786Z"
   },
   {
    "duration": 11,
    "start_time": "2021-12-14T18:06:07.858Z"
   },
   {
    "duration": 105,
    "start_time": "2021-12-14T18:06:07.872Z"
   },
   {
    "duration": 22,
    "start_time": "2021-12-14T18:06:07.980Z"
   },
   {
    "duration": 6,
    "start_time": "2021-12-14T18:06:08.004Z"
   },
   {
    "duration": 49,
    "start_time": "2021-12-14T18:06:08.012Z"
   },
   {
    "duration": 39,
    "start_time": "2021-12-14T18:06:08.064Z"
   },
   {
    "duration": 11,
    "start_time": "2021-12-14T18:06:08.109Z"
   },
   {
    "duration": 41,
    "start_time": "2021-12-14T18:06:08.123Z"
   },
   {
    "duration": 25,
    "start_time": "2021-12-14T18:06:08.167Z"
   },
   {
    "duration": 11,
    "start_time": "2021-12-14T18:06:08.194Z"
   },
   {
    "duration": 8,
    "start_time": "2021-12-14T18:06:08.207Z"
   },
   {
    "duration": 48,
    "start_time": "2021-12-14T18:06:08.218Z"
   },
   {
    "duration": 10,
    "start_time": "2021-12-14T18:06:08.269Z"
   },
   {
    "duration": 7,
    "start_time": "2021-12-14T18:06:08.282Z"
   },
   {
    "duration": 23,
    "start_time": "2021-12-14T18:06:08.292Z"
   },
   {
    "duration": 63,
    "start_time": "2021-12-14T18:06:08.317Z"
   },
   {
    "duration": 9,
    "start_time": "2021-12-14T18:06:08.383Z"
   },
   {
    "duration": 6,
    "start_time": "2021-12-14T18:06:08.395Z"
   },
   {
    "duration": 6,
    "start_time": "2021-12-14T18:06:08.403Z"
   },
   {
    "duration": 49,
    "start_time": "2021-12-14T18:06:08.411Z"
   },
   {
    "duration": 6,
    "start_time": "2021-12-14T18:06:08.463Z"
   },
   {
    "duration": 6,
    "start_time": "2021-12-14T18:06:08.472Z"
   },
   {
    "duration": 25,
    "start_time": "2021-12-14T18:09:10.784Z"
   },
   {
    "duration": 3,
    "start_time": "2021-12-14T18:19:09.960Z"
   },
   {
    "duration": 105,
    "start_time": "2021-12-14T18:19:09.966Z"
   },
   {
    "duration": 19,
    "start_time": "2021-12-14T18:19:10.075Z"
   },
   {
    "duration": 11,
    "start_time": "2021-12-14T18:19:10.096Z"
   },
   {
    "duration": 18,
    "start_time": "2021-12-14T18:19:10.109Z"
   },
   {
    "duration": 73,
    "start_time": "2021-12-14T18:19:10.129Z"
   },
   {
    "duration": 22,
    "start_time": "2021-12-14T18:19:10.206Z"
   },
   {
    "duration": 51,
    "start_time": "2021-12-14T18:19:10.231Z"
   },
   {
    "duration": 10,
    "start_time": "2021-12-14T18:19:10.284Z"
   },
   {
    "duration": 72,
    "start_time": "2021-12-14T18:19:10.296Z"
   },
   {
    "duration": 27,
    "start_time": "2021-12-14T18:19:10.372Z"
   },
   {
    "duration": 7,
    "start_time": "2021-12-14T18:19:10.401Z"
   },
   {
    "duration": 72,
    "start_time": "2021-12-14T18:19:10.411Z"
   },
   {
    "duration": 76,
    "start_time": "2021-12-14T18:19:10.485Z"
   },
   {
    "duration": 20,
    "start_time": "2021-12-14T18:19:10.564Z"
   },
   {
    "duration": 10,
    "start_time": "2021-12-14T18:19:10.586Z"
   },
   {
    "duration": 17,
    "start_time": "2021-12-14T18:19:10.599Z"
   },
   {
    "duration": 50,
    "start_time": "2021-12-14T18:19:10.619Z"
   },
   {
    "duration": 11,
    "start_time": "2021-12-14T18:19:10.674Z"
   },
   {
    "duration": 75,
    "start_time": "2021-12-14T18:19:10.688Z"
   },
   {
    "duration": 11,
    "start_time": "2021-12-14T18:19:10.766Z"
   },
   {
    "duration": 82,
    "start_time": "2021-12-14T18:19:10.779Z"
   },
   {
    "duration": 18,
    "start_time": "2021-12-14T18:19:10.863Z"
   },
   {
    "duration": 4,
    "start_time": "2021-12-14T18:19:10.883Z"
   },
   {
    "duration": 19,
    "start_time": "2021-12-14T18:19:10.890Z"
   },
   {
    "duration": 78,
    "start_time": "2021-12-14T18:19:10.912Z"
   },
   {
    "duration": 13,
    "start_time": "2021-12-14T18:19:10.993Z"
   },
   {
    "duration": 9,
    "start_time": "2021-12-14T18:19:11.009Z"
   },
   {
    "duration": 59,
    "start_time": "2021-12-14T18:19:11.021Z"
   },
   {
    "duration": 13,
    "start_time": "2021-12-14T18:19:11.082Z"
   },
   {
    "duration": 9,
    "start_time": "2021-12-14T18:19:11.098Z"
   },
   {
    "duration": 11,
    "start_time": "2021-12-14T18:19:11.109Z"
   },
   {
    "duration": 11,
    "start_time": "2021-12-14T18:19:11.160Z"
   },
   {
    "duration": 8,
    "start_time": "2021-12-14T18:19:11.173Z"
   },
   {
    "duration": 22,
    "start_time": "2021-12-14T18:19:11.183Z"
   },
   {
    "duration": 60,
    "start_time": "2021-12-14T18:19:11.208Z"
   },
   {
    "duration": 11,
    "start_time": "2021-12-14T18:19:11.270Z"
   },
   {
    "duration": 6,
    "start_time": "2021-12-14T18:19:11.283Z"
   },
   {
    "duration": 6,
    "start_time": "2021-12-14T18:19:11.292Z"
   },
   {
    "duration": 3,
    "start_time": "2021-12-14T18:19:11.300Z"
   },
   {
    "duration": 5,
    "start_time": "2021-12-14T18:19:11.305Z"
   },
   {
    "duration": 47,
    "start_time": "2021-12-14T18:19:11.312Z"
   },
   {
    "duration": 10,
    "start_time": "2021-12-14T18:22:21.080Z"
   },
   {
    "duration": 11,
    "start_time": "2021-12-14T18:23:32.868Z"
   },
   {
    "duration": 356,
    "start_time": "2021-12-14T18:24:56.912Z"
   },
   {
    "duration": 967,
    "start_time": "2021-12-14T18:25:05.882Z"
   },
   {
    "duration": 13,
    "start_time": "2021-12-14T18:25:11.938Z"
   },
   {
    "duration": 9,
    "start_time": "2021-12-14T18:32:08.796Z"
   },
   {
    "duration": 58,
    "start_time": "2021-12-14T18:35:40.984Z"
   },
   {
    "duration": -29,
    "start_time": "2021-12-14T18:37:29.268Z"
   },
   {
    "duration": 4,
    "start_time": "2021-12-14T18:37:35.595Z"
   },
   {
    "duration": 68,
    "start_time": "2021-12-14T18:37:35.601Z"
   },
   {
    "duration": 18,
    "start_time": "2021-12-14T18:37:35.672Z"
   },
   {
    "duration": 7,
    "start_time": "2021-12-14T18:37:35.693Z"
   },
   {
    "duration": 14,
    "start_time": "2021-12-14T18:37:35.703Z"
   },
   {
    "duration": 75,
    "start_time": "2021-12-14T18:37:35.719Z"
   },
   {
    "duration": 23,
    "start_time": "2021-12-14T18:37:35.797Z"
   },
   {
    "duration": 56,
    "start_time": "2021-12-14T18:37:35.822Z"
   },
   {
    "duration": 12,
    "start_time": "2021-12-14T18:37:35.884Z"
   },
   {
    "duration": 78,
    "start_time": "2021-12-14T18:37:35.900Z"
   },
   {
    "duration": 24,
    "start_time": "2021-12-14T18:37:35.980Z"
   },
   {
    "duration": 5,
    "start_time": "2021-12-14T18:37:36.006Z"
   },
   {
    "duration": 74,
    "start_time": "2021-12-14T18:37:36.013Z"
   },
   {
    "duration": 72,
    "start_time": "2021-12-14T18:37:36.090Z"
   },
   {
    "duration": 15,
    "start_time": "2021-12-14T18:37:36.165Z"
   },
   {
    "duration": 10,
    "start_time": "2021-12-14T18:37:36.182Z"
   },
   {
    "duration": 18,
    "start_time": "2021-12-14T18:37:36.195Z"
   },
   {
    "duration": 57,
    "start_time": "2021-12-14T18:37:36.216Z"
   },
   {
    "duration": 13,
    "start_time": "2021-12-14T18:37:36.275Z"
   },
   {
    "duration": 73,
    "start_time": "2021-12-14T18:37:36.291Z"
   },
   {
    "duration": 10,
    "start_time": "2021-12-14T18:37:36.367Z"
   },
   {
    "duration": 19,
    "start_time": "2021-12-14T18:37:36.380Z"
   },
   {
    "duration": 4,
    "start_time": "2021-12-14T18:37:36.401Z"
   },
   {
    "duration": 62,
    "start_time": "2021-12-14T18:37:36.407Z"
   },
   {
    "duration": 36,
    "start_time": "2021-12-14T18:37:36.472Z"
   },
   {
    "duration": 12,
    "start_time": "2021-12-14T18:37:36.511Z"
   },
   {
    "duration": 6,
    "start_time": "2021-12-14T18:37:36.562Z"
   },
   {
    "duration": 25,
    "start_time": "2021-12-14T18:37:36.571Z"
   },
   {
    "duration": 10,
    "start_time": "2021-12-14T18:37:36.598Z"
   },
   {
    "duration": 7,
    "start_time": "2021-12-14T18:37:36.611Z"
   },
   {
    "duration": 10,
    "start_time": "2021-12-14T18:37:36.659Z"
   },
   {
    "duration": 10,
    "start_time": "2021-12-14T18:37:36.671Z"
   },
   {
    "duration": 7,
    "start_time": "2021-12-14T18:37:36.684Z"
   },
   {
    "duration": 21,
    "start_time": "2021-12-14T18:37:36.693Z"
   },
   {
    "duration": 61,
    "start_time": "2021-12-14T18:37:36.716Z"
   },
   {
    "duration": 10,
    "start_time": "2021-12-14T18:37:36.779Z"
   },
   {
    "duration": 7,
    "start_time": "2021-12-14T18:37:36.792Z"
   },
   {
    "duration": 6,
    "start_time": "2021-12-14T18:37:36.802Z"
   },
   {
    "duration": 59,
    "start_time": "2021-12-14T18:37:36.811Z"
   },
   {
    "duration": 86,
    "start_time": "2021-12-14T18:37:36.873Z"
   },
   {
    "duration": 11,
    "start_time": "2021-12-14T18:37:36.962Z"
   },
   {
    "duration": 9078,
    "start_time": "2021-12-14T18:37:36.976Z"
   },
   {
    "duration": -35,
    "start_time": "2021-12-14T18:37:46.092Z"
   },
   {
    "duration": -37,
    "start_time": "2021-12-14T18:37:46.095Z"
   },
   {
    "duration": -36,
    "start_time": "2021-12-14T18:37:46.097Z"
   },
   {
    "duration": 10074,
    "start_time": "2021-12-14T18:38:20.091Z"
   },
   {
    "duration": 428,
    "start_time": "2021-12-14T18:39:01.336Z"
   },
   {
    "duration": 375,
    "start_time": "2021-12-14T18:39:09.722Z"
   },
   {
    "duration": 10327,
    "start_time": "2021-12-14T18:39:15.045Z"
   },
   {
    "duration": 60,
    "start_time": "2021-12-14T18:44:26.659Z"
   },
   {
    "duration": 57,
    "start_time": "2021-12-14T18:44:33.704Z"
   },
   {
    "duration": 60,
    "start_time": "2021-12-14T18:44:46.382Z"
   },
   {
    "duration": 12,
    "start_time": "2021-12-14T18:47:25.653Z"
   },
   {
    "duration": -33,
    "start_time": "2021-12-14T18:48:05.773Z"
   },
   {
    "duration": 12,
    "start_time": "2021-12-14T18:48:11.698Z"
   },
   {
    "duration": -34,
    "start_time": "2021-12-14T18:48:34.015Z"
   },
   {
    "duration": 11,
    "start_time": "2021-12-14T18:48:36.366Z"
   },
   {
    "duration": 9262,
    "start_time": "2021-12-14T18:48:56.571Z"
   },
   {
    "duration": 372,
    "start_time": "2021-12-14T18:49:40.975Z"
   },
   {
    "duration": 10216,
    "start_time": "2021-12-14T18:49:48.133Z"
   },
   {
    "duration": 11441,
    "start_time": "2021-12-14T18:50:09.951Z"
   },
   {
    "duration": 12,
    "start_time": "2021-12-14T18:50:26.638Z"
   },
   {
    "duration": 140,
    "start_time": "2021-12-14T18:52:32.210Z"
   },
   {
    "duration": 957,
    "start_time": "2021-12-14T18:55:50.421Z"
   },
   {
    "duration": -28,
    "start_time": "2021-12-14T18:56:15.354Z"
   },
   {
    "duration": -40,
    "start_time": "2021-12-14T18:56:36.973Z"
   },
   {
    "duration": 335,
    "start_time": "2021-12-14T18:56:40.012Z"
   },
   {
    "duration": 348,
    "start_time": "2021-12-14T18:56:49.150Z"
   },
   {
    "duration": 21151,
    "start_time": "2021-12-14T18:56:55.958Z"
   },
   {
    "duration": 996,
    "start_time": "2021-12-14T19:00:35.228Z"
   },
   {
    "duration": 960,
    "start_time": "2021-12-14T19:00:52.110Z"
   },
   {
    "duration": 625,
    "start_time": "2021-12-14T19:01:13.162Z"
   },
   {
    "duration": -32,
    "start_time": "2021-12-14T19:01:50.485Z"
   },
   {
    "duration": 247,
    "start_time": "2021-12-14T19:01:53.491Z"
   },
   {
    "duration": 19122,
    "start_time": "2021-12-14T19:01:58.500Z"
   },
   {
    "duration": 6,
    "start_time": "2021-12-14T19:02:32.935Z"
   },
   {
    "duration": 6,
    "start_time": "2021-12-14T19:02:36.552Z"
   },
   {
    "duration": 5,
    "start_time": "2021-12-14T19:02:39.924Z"
   },
   {
    "duration": 11,
    "start_time": "2021-12-14T19:02:48.889Z"
   },
   {
    "duration": 949,
    "start_time": "2021-12-14T19:06:51.574Z"
   },
   {
    "duration": 322,
    "start_time": "2021-12-14T19:07:05.845Z"
   },
   {
    "duration": 233,
    "start_time": "2021-12-14T19:07:23.392Z"
   },
   {
    "duration": 440,
    "start_time": "2021-12-14T19:07:43.128Z"
   },
   {
    "duration": -30,
    "start_time": "2021-12-14T19:08:14.333Z"
   },
   {
    "duration": 450,
    "start_time": "2021-12-14T19:08:54.387Z"
   },
   {
    "duration": 720,
    "start_time": "2021-12-14T19:09:03.441Z"
   },
   {
    "duration": 933,
    "start_time": "2021-12-14T19:09:16.308Z"
   },
   {
    "duration": 791,
    "start_time": "2021-12-14T19:09:37.449Z"
   },
   {
    "duration": 21392,
    "start_time": "2021-12-14T19:09:48.009Z"
   },
   {
    "duration": 1052,
    "start_time": "2021-12-14T19:11:02.308Z"
   },
   {
    "duration": 897,
    "start_time": "2021-12-14T19:11:27.507Z"
   },
   {
    "duration": 835,
    "start_time": "2021-12-14T19:11:32.645Z"
   },
   {
    "duration": 3,
    "start_time": "2021-12-14T19:11:47.952Z"
   },
   {
    "duration": 364,
    "start_time": "2021-12-14T19:14:54.635Z"
   },
   {
    "duration": 4,
    "start_time": "2021-12-14T19:14:58.460Z"
   },
   {
    "duration": 497,
    "start_time": "2021-12-14T19:15:00.405Z"
   },
   {
    "duration": 5,
    "start_time": "2021-12-14T19:15:10.357Z"
   },
   {
    "duration": 11,
    "start_time": "2021-12-14T19:20:30.264Z"
   },
   {
    "duration": 10,
    "start_time": "2021-12-14T19:20:43.515Z"
   },
   {
    "duration": 5951,
    "start_time": "2021-12-14T19:22:02.908Z"
   },
   {
    "duration": 8,
    "start_time": "2021-12-14T19:23:20.797Z"
   },
   {
    "duration": 797,
    "start_time": "2021-12-15T06:40:50.575Z"
   },
   {
    "duration": 71,
    "start_time": "2021-12-15T06:40:51.374Z"
   },
   {
    "duration": 30,
    "start_time": "2021-12-15T06:40:51.448Z"
   },
   {
    "duration": 7,
    "start_time": "2021-12-15T06:40:51.480Z"
   },
   {
    "duration": 39,
    "start_time": "2021-12-15T06:40:51.490Z"
   },
   {
    "duration": 47,
    "start_time": "2021-12-15T06:40:51.531Z"
   },
   {
    "duration": 60,
    "start_time": "2021-12-15T06:40:51.580Z"
   },
   {
    "duration": 23,
    "start_time": "2021-12-15T06:40:51.643Z"
   },
   {
    "duration": 9,
    "start_time": "2021-12-15T06:40:51.669Z"
   },
   {
    "duration": 66,
    "start_time": "2021-12-15T06:40:51.681Z"
   },
   {
    "duration": 92,
    "start_time": "2021-12-15T06:40:51.749Z"
   },
   {
    "duration": 7,
    "start_time": "2021-12-15T06:40:51.844Z"
   },
   {
    "duration": 63,
    "start_time": "2021-12-15T06:40:51.853Z"
   },
   {
    "duration": 42,
    "start_time": "2021-12-15T06:40:51.918Z"
   },
   {
    "duration": 15,
    "start_time": "2021-12-15T06:40:51.963Z"
   },
   {
    "duration": 42,
    "start_time": "2021-12-15T06:40:51.980Z"
   },
   {
    "duration": 20,
    "start_time": "2021-12-15T06:40:52.025Z"
   },
   {
    "duration": 14,
    "start_time": "2021-12-15T06:40:52.047Z"
   },
   {
    "duration": 54,
    "start_time": "2021-12-15T06:40:52.063Z"
   },
   {
    "duration": 42,
    "start_time": "2021-12-15T06:40:52.120Z"
   },
   {
    "duration": 11,
    "start_time": "2021-12-15T06:40:52.164Z"
   },
   {
    "duration": 18,
    "start_time": "2021-12-15T06:40:52.217Z"
   },
   {
    "duration": 6,
    "start_time": "2021-12-15T06:40:52.240Z"
   },
   {
    "duration": 17,
    "start_time": "2021-12-15T06:40:52.248Z"
   },
   {
    "duration": 82,
    "start_time": "2021-12-15T06:40:52.268Z"
   },
   {
    "duration": 17,
    "start_time": "2021-12-15T06:40:52.353Z"
   },
   {
    "duration": 9,
    "start_time": "2021-12-15T06:40:52.372Z"
   },
   {
    "duration": 25,
    "start_time": "2021-12-15T06:40:52.418Z"
   },
   {
    "duration": 11,
    "start_time": "2021-12-15T06:40:52.446Z"
   },
   {
    "duration": 8,
    "start_time": "2021-12-15T06:40:52.459Z"
   },
   {
    "duration": 10,
    "start_time": "2021-12-15T06:40:52.518Z"
   },
   {
    "duration": 10,
    "start_time": "2021-12-15T06:40:52.531Z"
   },
   {
    "duration": 7,
    "start_time": "2021-12-15T06:40:52.544Z"
   },
   {
    "duration": 70,
    "start_time": "2021-12-15T06:40:52.554Z"
   },
   {
    "duration": 23,
    "start_time": "2021-12-15T06:40:52.627Z"
   },
   {
    "duration": 10,
    "start_time": "2021-12-15T06:40:52.653Z"
   },
   {
    "duration": 6,
    "start_time": "2021-12-15T06:40:52.665Z"
   },
   {
    "duration": 45,
    "start_time": "2021-12-15T06:40:52.674Z"
   },
   {
    "duration": 11,
    "start_time": "2021-12-15T06:40:52.721Z"
   },
   {
    "duration": 95,
    "start_time": "2021-12-15T06:40:52.734Z"
   },
   {
    "duration": 11,
    "start_time": "2021-12-15T06:40:52.832Z"
   },
   {
    "duration": 5,
    "start_time": "2021-12-15T06:40:52.846Z"
   },
   {
    "duration": 63,
    "start_time": "2021-12-15T06:40:52.854Z"
   },
   {
    "duration": 10,
    "start_time": "2021-12-15T06:40:52.920Z"
   },
   {
    "duration": 4,
    "start_time": "2021-12-15T06:40:52.933Z"
   },
   {
    "duration": 5,
    "start_time": "2021-12-15T06:40:52.939Z"
   },
   {
    "duration": 5,
    "start_time": "2021-12-15T06:40:52.947Z"
   },
   {
    "duration": 11,
    "start_time": "2021-12-15T06:43:07.902Z"
   },
   {
    "duration": 11,
    "start_time": "2021-12-15T06:44:39.213Z"
   },
   {
    "duration": 390,
    "start_time": "2021-12-15T06:46:39.557Z"
   },
   {
    "duration": 18,
    "start_time": "2021-12-15T06:46:47.007Z"
   },
   {
    "duration": -15,
    "start_time": "2021-12-15T06:47:42.741Z"
   },
   {
    "duration": 7384,
    "start_time": "2021-12-15T06:47:46.424Z"
   },
   {
    "duration": -14,
    "start_time": "2021-12-15T06:48:13.920Z"
   },
   {
    "duration": 13,
    "start_time": "2021-12-15T06:48:18.704Z"
   },
   {
    "duration": 77,
    "start_time": "2021-12-15T06:49:33.227Z"
   },
   {
    "duration": 83,
    "start_time": "2021-12-15T06:49:54.497Z"
   },
   {
    "duration": 87,
    "start_time": "2021-12-15T06:49:58.985Z"
   },
   {
    "duration": 7,
    "start_time": "2021-12-15T06:51:07.084Z"
   },
   {
    "duration": 6,
    "start_time": "2021-12-15T06:51:33.338Z"
   },
   {
    "duration": 248,
    "start_time": "2021-12-15T06:51:57.362Z"
   },
   {
    "duration": 79,
    "start_time": "2021-12-15T06:52:08.203Z"
   },
   {
    "duration": 6,
    "start_time": "2021-12-15T06:52:22.323Z"
   },
   {
    "duration": 7,
    "start_time": "2021-12-15T06:52:32.892Z"
   },
   {
    "duration": 9,
    "start_time": "2021-12-15T06:52:42.732Z"
   },
   {
    "duration": 7,
    "start_time": "2021-12-15T06:53:34.028Z"
   },
   {
    "duration": 7,
    "start_time": "2021-12-15T06:53:48.299Z"
   },
   {
    "duration": 4,
    "start_time": "2021-12-15T06:54:45.388Z"
   },
   {
    "duration": 8,
    "start_time": "2021-12-15T07:18:56.313Z"
   },
   {
    "duration": 247,
    "start_time": "2021-12-15T07:19:08.916Z"
   },
   {
    "duration": 7,
    "start_time": "2021-12-15T07:19:12.985Z"
   },
   {
    "duration": 7,
    "start_time": "2021-12-15T07:19:36.156Z"
   },
   {
    "duration": 3,
    "start_time": "2021-12-15T07:47:14.095Z"
   },
   {
    "duration": 86,
    "start_time": "2021-12-15T07:47:14.102Z"
   },
   {
    "duration": 27,
    "start_time": "2021-12-15T07:47:14.219Z"
   },
   {
    "duration": 7,
    "start_time": "2021-12-15T07:47:14.249Z"
   },
   {
    "duration": 67,
    "start_time": "2021-12-15T07:47:14.259Z"
   },
   {
    "duration": 66,
    "start_time": "2021-12-15T07:47:14.328Z"
   },
   {
    "duration": 50,
    "start_time": "2021-12-15T07:47:14.397Z"
   },
   {
    "duration": 29,
    "start_time": "2021-12-15T07:47:14.450Z"
   },
   {
    "duration": 10,
    "start_time": "2021-12-15T07:47:14.520Z"
   },
   {
    "duration": 32,
    "start_time": "2021-12-15T07:47:14.534Z"
   },
   {
    "duration": 28,
    "start_time": "2021-12-15T07:47:14.618Z"
   },
   {
    "duration": 6,
    "start_time": "2021-12-15T07:47:14.649Z"
   },
   {
    "duration": 71,
    "start_time": "2021-12-15T07:47:14.658Z"
   },
   {
    "duration": 104,
    "start_time": "2021-12-15T07:47:14.732Z"
   },
   {
    "duration": 21,
    "start_time": "2021-12-15T07:47:14.840Z"
   },
   {
    "duration": 13,
    "start_time": "2021-12-15T07:47:14.864Z"
   },
   {
    "duration": 60,
    "start_time": "2021-12-15T07:47:14.880Z"
   },
   {
    "duration": 22,
    "start_time": "2021-12-15T07:47:14.942Z"
   },
   {
    "duration": 51,
    "start_time": "2021-12-15T07:47:14.967Z"
   },
   {
    "duration": 57,
    "start_time": "2021-12-15T07:47:15.021Z"
   },
   {
    "duration": 42,
    "start_time": "2021-12-15T07:47:15.081Z"
   },
   {
    "duration": 31,
    "start_time": "2021-12-15T07:47:15.126Z"
   },
   {
    "duration": 6,
    "start_time": "2021-12-15T07:47:15.160Z"
   },
   {
    "duration": 62,
    "start_time": "2021-12-15T07:47:15.169Z"
   },
   {
    "duration": 37,
    "start_time": "2021-12-15T07:47:15.234Z"
   },
   {
    "duration": 46,
    "start_time": "2021-12-15T07:47:15.273Z"
   },
   {
    "duration": 7,
    "start_time": "2021-12-15T07:47:15.325Z"
   },
   {
    "duration": 34,
    "start_time": "2021-12-15T07:47:15.335Z"
   },
   {
    "duration": 52,
    "start_time": "2021-12-15T07:47:15.372Z"
   },
   {
    "duration": 8,
    "start_time": "2021-12-15T07:47:15.427Z"
   },
   {
    "duration": 13,
    "start_time": "2021-12-15T07:47:15.437Z"
   },
   {
    "duration": 11,
    "start_time": "2021-12-15T07:47:15.452Z"
   },
   {
    "duration": 8,
    "start_time": "2021-12-15T07:47:15.518Z"
   },
   {
    "duration": 22,
    "start_time": "2021-12-15T07:47:15.529Z"
   },
   {
    "duration": 66,
    "start_time": "2021-12-15T07:47:15.554Z"
   },
   {
    "duration": 11,
    "start_time": "2021-12-15T07:47:15.622Z"
   },
   {
    "duration": 11,
    "start_time": "2021-12-15T07:47:15.636Z"
   },
   {
    "duration": 15,
    "start_time": "2021-12-15T07:47:15.650Z"
   },
   {
    "duration": 55,
    "start_time": "2021-12-15T07:47:15.668Z"
   },
   {
    "duration": 97,
    "start_time": "2021-12-15T07:47:15.727Z"
   },
   {
    "duration": 4,
    "start_time": "2021-12-15T07:47:15.827Z"
   },
   {
    "duration": 12,
    "start_time": "2021-12-15T07:47:15.834Z"
   },
   {
    "duration": 13,
    "start_time": "2021-12-15T07:47:15.849Z"
   },
   {
    "duration": 99,
    "start_time": "2021-12-15T07:47:15.865Z"
   },
   {
    "duration": -5,
    "start_time": "2021-12-15T07:47:15.972Z"
   },
   {
    "duration": -7,
    "start_time": "2021-12-15T07:47:15.975Z"
   },
   {
    "duration": -9,
    "start_time": "2021-12-15T07:47:15.978Z"
   },
   {
    "duration": -10,
    "start_time": "2021-12-15T07:47:15.981Z"
   },
   {
    "duration": -17,
    "start_time": "2021-12-15T07:47:15.989Z"
   },
   {
    "duration": -17,
    "start_time": "2021-12-15T07:47:15.991Z"
   },
   {
    "duration": 273,
    "start_time": "2021-12-15T07:49:38.963Z"
   },
   {
    "duration": 11,
    "start_time": "2021-12-15T07:49:58.376Z"
   },
   {
    "duration": 10,
    "start_time": "2021-12-15T07:50:10.488Z"
   },
   {
    "duration": 5,
    "start_time": "2021-12-15T07:53:17.423Z"
   },
   {
    "duration": 10,
    "start_time": "2021-12-15T07:58:33.975Z"
   },
   {
    "duration": 320,
    "start_time": "2021-12-15T08:02:04.223Z"
   },
   {
    "duration": 3,
    "start_time": "2021-12-15T08:02:21.712Z"
   },
   {
    "duration": 65,
    "start_time": "2021-12-15T08:02:21.718Z"
   },
   {
    "duration": 44,
    "start_time": "2021-12-15T08:02:21.786Z"
   },
   {
    "duration": 7,
    "start_time": "2021-12-15T08:02:21.833Z"
   },
   {
    "duration": 65,
    "start_time": "2021-12-15T08:02:21.843Z"
   },
   {
    "duration": 78,
    "start_time": "2021-12-15T08:02:21.911Z"
   },
   {
    "duration": 26,
    "start_time": "2021-12-15T08:02:21.994Z"
   },
   {
    "duration": 38,
    "start_time": "2021-12-15T08:02:22.024Z"
   },
   {
    "duration": 43,
    "start_time": "2021-12-15T08:02:22.066Z"
   },
   {
    "duration": 51,
    "start_time": "2021-12-15T08:02:22.112Z"
   },
   {
    "duration": 70,
    "start_time": "2021-12-15T08:02:22.166Z"
   },
   {
    "duration": 29,
    "start_time": "2021-12-15T08:02:22.239Z"
   },
   {
    "duration": 54,
    "start_time": "2021-12-15T08:02:22.271Z"
   },
   {
    "duration": 48,
    "start_time": "2021-12-15T08:02:22.327Z"
   },
   {
    "duration": 53,
    "start_time": "2021-12-15T08:02:22.377Z"
   },
   {
    "duration": 13,
    "start_time": "2021-12-15T08:02:22.434Z"
   },
   {
    "duration": 69,
    "start_time": "2021-12-15T08:02:22.450Z"
   },
   {
    "duration": 25,
    "start_time": "2021-12-15T08:02:22.522Z"
   },
   {
    "duration": 26,
    "start_time": "2021-12-15T08:02:22.555Z"
   },
   {
    "duration": 67,
    "start_time": "2021-12-15T08:02:22.585Z"
   },
   {
    "duration": 15,
    "start_time": "2021-12-15T08:02:22.655Z"
   },
   {
    "duration": 55,
    "start_time": "2021-12-15T08:02:22.674Z"
   },
   {
    "duration": 6,
    "start_time": "2021-12-15T08:02:22.731Z"
   },
   {
    "duration": 18,
    "start_time": "2021-12-15T08:02:22.740Z"
   },
   {
    "duration": 85,
    "start_time": "2021-12-15T08:02:22.761Z"
   },
   {
    "duration": 12,
    "start_time": "2021-12-15T08:02:22.849Z"
   },
   {
    "duration": 7,
    "start_time": "2021-12-15T08:02:22.863Z"
   },
   {
    "duration": 64,
    "start_time": "2021-12-15T08:02:22.872Z"
   },
   {
    "duration": 11,
    "start_time": "2021-12-15T08:02:22.938Z"
   },
   {
    "duration": 15,
    "start_time": "2021-12-15T08:02:22.951Z"
   },
   {
    "duration": 53,
    "start_time": "2021-12-15T08:02:22.968Z"
   },
   {
    "duration": 11,
    "start_time": "2021-12-15T08:02:23.023Z"
   },
   {
    "duration": 7,
    "start_time": "2021-12-15T08:02:23.036Z"
   },
   {
    "duration": 23,
    "start_time": "2021-12-15T08:02:23.046Z"
   },
   {
    "duration": 21,
    "start_time": "2021-12-15T08:02:23.116Z"
   },
   {
    "duration": 10,
    "start_time": "2021-12-15T08:02:23.140Z"
   },
   {
    "duration": 8,
    "start_time": "2021-12-15T08:02:23.153Z"
   },
   {
    "duration": 56,
    "start_time": "2021-12-15T08:02:23.163Z"
   },
   {
    "duration": 12,
    "start_time": "2021-12-15T08:02:23.221Z"
   },
   {
    "duration": 102,
    "start_time": "2021-12-15T08:02:23.236Z"
   },
   {
    "duration": 15,
    "start_time": "2021-12-15T08:02:23.341Z"
   },
   {
    "duration": 14,
    "start_time": "2021-12-15T08:02:23.359Z"
   },
   {
    "duration": 80,
    "start_time": "2021-12-15T08:02:23.376Z"
   },
   {
    "duration": -12,
    "start_time": "2021-12-15T08:02:23.470Z"
   },
   {
    "duration": -19,
    "start_time": "2021-12-15T08:02:23.479Z"
   },
   {
    "duration": -25,
    "start_time": "2021-12-15T08:02:23.486Z"
   },
   {
    "duration": -34,
    "start_time": "2021-12-15T08:02:23.496Z"
   },
   {
    "duration": -35,
    "start_time": "2021-12-15T08:02:23.498Z"
   },
   {
    "duration": -36,
    "start_time": "2021-12-15T08:02:23.501Z"
   },
   {
    "duration": 949,
    "start_time": "2021-12-15T08:02:47.520Z"
   },
   {
    "duration": 14,
    "start_time": "2021-12-15T08:03:01.929Z"
   },
   {
    "duration": 12,
    "start_time": "2021-12-15T08:03:41.835Z"
   },
   {
    "duration": 4,
    "start_time": "2021-12-15T08:15:56.202Z"
   },
   {
    "duration": 4,
    "start_time": "2021-12-15T08:24:56.674Z"
   },
   {
    "duration": 63,
    "start_time": "2021-12-15T08:24:56.680Z"
   },
   {
    "duration": 20,
    "start_time": "2021-12-15T08:24:56.746Z"
   },
   {
    "duration": 6,
    "start_time": "2021-12-15T08:24:56.768Z"
   },
   {
    "duration": 53,
    "start_time": "2021-12-15T08:24:56.777Z"
   },
   {
    "duration": 46,
    "start_time": "2021-12-15T08:24:56.832Z"
   },
   {
    "duration": 55,
    "start_time": "2021-12-15T08:24:56.881Z"
   },
   {
    "duration": 24,
    "start_time": "2021-12-15T08:24:56.938Z"
   },
   {
    "duration": 10,
    "start_time": "2021-12-15T08:24:56.964Z"
   },
   {
    "duration": 36,
    "start_time": "2021-12-15T08:24:57.017Z"
   },
   {
    "duration": 76,
    "start_time": "2021-12-15T08:24:57.056Z"
   },
   {
    "duration": 6,
    "start_time": "2021-12-15T08:24:57.135Z"
   },
   {
    "duration": 25,
    "start_time": "2021-12-15T08:24:57.143Z"
   },
   {
    "duration": 42,
    "start_time": "2021-12-15T08:24:57.217Z"
   },
   {
    "duration": 21,
    "start_time": "2021-12-15T08:24:57.261Z"
   },
   {
    "duration": 40,
    "start_time": "2021-12-15T08:24:57.284Z"
   },
   {
    "duration": 17,
    "start_time": "2021-12-15T08:24:57.326Z"
   },
   {
    "duration": 14,
    "start_time": "2021-12-15T08:24:57.346Z"
   },
   {
    "duration": 59,
    "start_time": "2021-12-15T08:24:57.367Z"
   },
   {
    "duration": 40,
    "start_time": "2021-12-15T08:24:57.429Z"
   },
   {
    "duration": 51,
    "start_time": "2021-12-15T08:24:57.472Z"
   },
   {
    "duration": 16,
    "start_time": "2021-12-15T08:24:57.526Z"
   },
   {
    "duration": 4,
    "start_time": "2021-12-15T08:24:57.544Z"
   },
   {
    "duration": 73,
    "start_time": "2021-12-15T08:24:57.550Z"
   },
   {
    "duration": 35,
    "start_time": "2021-12-15T08:24:57.625Z"
   },
   {
    "duration": 10,
    "start_time": "2021-12-15T08:24:57.663Z"
   },
   {
    "duration": 7,
    "start_time": "2021-12-15T08:24:57.716Z"
   },
   {
    "duration": 23,
    "start_time": "2021-12-15T08:24:57.725Z"
   },
   {
    "duration": 10,
    "start_time": "2021-12-15T08:24:57.750Z"
   },
   {
    "duration": 58,
    "start_time": "2021-12-15T08:24:57.762Z"
   },
   {
    "duration": 10,
    "start_time": "2021-12-15T08:24:57.822Z"
   },
   {
    "duration": 11,
    "start_time": "2021-12-15T08:24:57.834Z"
   },
   {
    "duration": 7,
    "start_time": "2021-12-15T08:24:57.847Z"
   },
   {
    "duration": 70,
    "start_time": "2021-12-15T08:24:57.856Z"
   },
   {
    "duration": 24,
    "start_time": "2021-12-15T08:24:57.929Z"
   },
   {
    "duration": 10,
    "start_time": "2021-12-15T08:24:57.955Z"
   },
   {
    "duration": 6,
    "start_time": "2021-12-15T08:24:57.967Z"
   },
   {
    "duration": 44,
    "start_time": "2021-12-15T08:24:57.975Z"
   },
   {
    "duration": 12,
    "start_time": "2021-12-15T08:24:58.022Z"
   },
   {
    "duration": 106,
    "start_time": "2021-12-15T08:24:58.037Z"
   },
   {
    "duration": 7,
    "start_time": "2021-12-15T08:24:58.145Z"
   },
   {
    "duration": 10,
    "start_time": "2021-12-15T08:24:58.154Z"
   },
   {
    "duration": 6,
    "start_time": "2021-12-15T08:24:58.166Z"
   },
   {
    "duration": 60,
    "start_time": "2021-12-15T08:24:58.174Z"
   },
   {
    "duration": 8,
    "start_time": "2021-12-15T08:24:58.237Z"
   },
   {
    "duration": 11,
    "start_time": "2021-12-15T08:24:58.247Z"
   },
   {
    "duration": 2,
    "start_time": "2021-12-15T08:24:58.260Z"
   },
   {
    "duration": 6,
    "start_time": "2021-12-15T08:24:58.264Z"
   },
   {
    "duration": 50,
    "start_time": "2021-12-15T08:24:58.272Z"
   },
   {
    "duration": 12,
    "start_time": "2021-12-15T08:25:18.558Z"
   },
   {
    "duration": 29,
    "start_time": "2021-12-15T08:28:38.908Z"
   },
   {
    "duration": 8,
    "start_time": "2021-12-15T08:28:41.224Z"
   },
   {
    "duration": 10,
    "start_time": "2021-12-15T08:28:43.305Z"
   },
   {
    "duration": 13,
    "start_time": "2021-12-15T08:29:16.824Z"
   },
   {
    "duration": 32,
    "start_time": "2021-12-15T08:31:35.490Z"
   },
   {
    "duration": 8,
    "start_time": "2021-12-15T08:31:37.857Z"
   },
   {
    "duration": 11,
    "start_time": "2021-12-15T08:31:49.194Z"
   },
   {
    "duration": 17,
    "start_time": "2021-12-15T08:46:52.283Z"
   },
   {
    "duration": 48,
    "start_time": "2021-12-15T08:47:22.140Z"
   },
   {
    "duration": 76,
    "start_time": "2021-12-15T08:47:34.357Z"
   },
   {
    "duration": 38,
    "start_time": "2021-12-15T08:47:39.073Z"
   },
   {
    "duration": 8,
    "start_time": "2021-12-15T08:48:55.197Z"
   },
   {
    "duration": 62,
    "start_time": "2021-12-15T08:54:26.464Z"
   },
   {
    "duration": 50,
    "start_time": "2021-12-15T08:59:37.633Z"
   },
   {
    "duration": 3,
    "start_time": "2021-12-15T10:13:27.704Z"
   },
   {
    "duration": 74,
    "start_time": "2021-12-15T10:13:27.710Z"
   },
   {
    "duration": 24,
    "start_time": "2021-12-15T10:13:27.820Z"
   },
   {
    "duration": 5,
    "start_time": "2021-12-15T10:13:27.846Z"
   },
   {
    "duration": 17,
    "start_time": "2021-12-15T10:13:27.853Z"
   },
   {
    "duration": 90,
    "start_time": "2021-12-15T10:13:27.873Z"
   },
   {
    "duration": 21,
    "start_time": "2021-12-15T10:13:27.967Z"
   },
   {
    "duration": 51,
    "start_time": "2021-12-15T10:13:27.990Z"
   },
   {
    "duration": 12,
    "start_time": "2021-12-15T10:13:28.044Z"
   },
   {
    "duration": 85,
    "start_time": "2021-12-15T10:13:28.059Z"
   },
   {
    "duration": 24,
    "start_time": "2021-12-15T10:13:28.146Z"
   },
   {
    "duration": 9,
    "start_time": "2021-12-15T10:13:28.217Z"
   },
   {
    "duration": 27,
    "start_time": "2021-12-15T10:13:28.229Z"
   },
   {
    "duration": 92,
    "start_time": "2021-12-15T10:13:28.258Z"
   },
   {
    "duration": 16,
    "start_time": "2021-12-15T10:13:28.353Z"
   },
   {
    "duration": 9,
    "start_time": "2021-12-15T10:13:28.371Z"
   },
   {
    "duration": 51,
    "start_time": "2021-12-15T10:13:28.382Z"
   },
   {
    "duration": 17,
    "start_time": "2021-12-15T10:13:28.435Z"
   },
   {
    "duration": 13,
    "start_time": "2021-12-15T10:13:28.457Z"
   },
   {
    "duration": 86,
    "start_time": "2021-12-15T10:13:28.473Z"
   },
   {
    "duration": 10,
    "start_time": "2021-12-15T10:13:28.561Z"
   },
   {
    "duration": 47,
    "start_time": "2021-12-15T10:13:28.573Z"
   },
   {
    "duration": 13,
    "start_time": "2021-12-15T10:13:28.623Z"
   },
   {
    "duration": 20,
    "start_time": "2021-12-15T10:13:28.638Z"
   },
   {
    "duration": 73,
    "start_time": "2021-12-15T10:13:28.660Z"
   },
   {
    "duration": 11,
    "start_time": "2021-12-15T10:13:28.735Z"
   },
   {
    "duration": 8,
    "start_time": "2021-12-15T10:13:28.749Z"
   },
   {
    "duration": 69,
    "start_time": "2021-12-15T10:13:28.759Z"
   },
   {
    "duration": 11,
    "start_time": "2021-12-15T10:13:28.831Z"
   },
   {
    "duration": 8,
    "start_time": "2021-12-15T10:13:28.845Z"
   },
   {
    "duration": 11,
    "start_time": "2021-12-15T10:13:28.856Z"
   },
   {
    "duration": 59,
    "start_time": "2021-12-15T10:13:28.870Z"
   },
   {
    "duration": 7,
    "start_time": "2021-12-15T10:13:28.932Z"
   },
   {
    "duration": 20,
    "start_time": "2021-12-15T10:13:28.942Z"
   },
   {
    "duration": 69,
    "start_time": "2021-12-15T10:13:28.964Z"
   },
   {
    "duration": 8,
    "start_time": "2021-12-15T10:13:29.035Z"
   },
   {
    "duration": 6,
    "start_time": "2021-12-15T10:13:29.046Z"
   },
   {
    "duration": 5,
    "start_time": "2021-12-15T10:13:29.054Z"
   },
   {
    "duration": 55,
    "start_time": "2021-12-15T10:13:29.062Z"
   },
   {
    "duration": 106,
    "start_time": "2021-12-15T10:13:29.120Z"
   },
   {
    "duration": 7,
    "start_time": "2021-12-15T10:13:29.229Z"
   },
   {
    "duration": 10,
    "start_time": "2021-12-15T10:13:29.238Z"
   },
   {
    "duration": 9,
    "start_time": "2021-12-15T10:13:29.250Z"
   },
   {
    "duration": 66,
    "start_time": "2021-12-15T10:13:29.262Z"
   },
   {
    "duration": 7,
    "start_time": "2021-12-15T10:13:29.331Z"
   },
   {
    "duration": 37,
    "start_time": "2021-12-15T10:13:29.340Z"
   },
   {
    "duration": 84,
    "start_time": "2021-12-15T10:13:29.380Z"
   },
   {
    "duration": 3,
    "start_time": "2021-12-15T10:13:29.466Z"
   },
   {
    "duration": 8,
    "start_time": "2021-12-15T10:13:29.471Z"
   },
   {
    "duration": 6,
    "start_time": "2021-12-15T10:13:29.482Z"
   },
   {
    "duration": 5,
    "start_time": "2021-12-15T10:18:03.947Z"
   },
   {
    "duration": 228,
    "start_time": "2021-12-15T10:25:43.231Z"
   },
   {
    "duration": 6,
    "start_time": "2021-12-15T10:25:51.112Z"
   },
   {
    "duration": 7,
    "start_time": "2021-12-15T10:28:58.926Z"
   },
   {
    "duration": 12,
    "start_time": "2021-12-15T10:39:13.636Z"
   },
   {
    "duration": 274,
    "start_time": "2021-12-15T10:39:19.844Z"
   },
   {
    "duration": 11,
    "start_time": "2021-12-15T10:39:27.892Z"
   },
   {
    "duration": 12,
    "start_time": "2021-12-15T10:39:38.325Z"
   },
   {
    "duration": 11,
    "start_time": "2021-12-15T10:39:53.228Z"
   },
   {
    "duration": 9,
    "start_time": "2021-12-15T10:40:13.636Z"
   },
   {
    "duration": 4,
    "start_time": "2021-12-15T10:43:28.227Z"
   },
   {
    "duration": 100,
    "start_time": "2021-12-15T10:43:28.235Z"
   },
   {
    "duration": 29,
    "start_time": "2021-12-15T10:43:28.337Z"
   },
   {
    "duration": 5,
    "start_time": "2021-12-15T10:43:28.369Z"
   },
   {
    "duration": 61,
    "start_time": "2021-12-15T10:43:28.377Z"
   },
   {
    "duration": 47,
    "start_time": "2021-12-15T10:43:28.441Z"
   },
   {
    "duration": 60,
    "start_time": "2021-12-15T10:43:28.491Z"
   },
   {
    "duration": 23,
    "start_time": "2021-12-15T10:43:28.554Z"
   },
   {
    "duration": 53,
    "start_time": "2021-12-15T10:43:28.581Z"
   },
   {
    "duration": 85,
    "start_time": "2021-12-15T10:43:28.637Z"
   },
   {
    "duration": 29,
    "start_time": "2021-12-15T10:43:28.726Z"
   },
   {
    "duration": 6,
    "start_time": "2021-12-15T10:43:28.758Z"
   },
   {
    "duration": 68,
    "start_time": "2021-12-15T10:43:28.766Z"
   },
   {
    "duration": 302,
    "start_time": "2021-12-15T10:43:28.838Z"
   },
   {
    "duration": -7,
    "start_time": "2021-12-15T10:43:29.152Z"
   },
   {
    "duration": -7,
    "start_time": "2021-12-15T10:43:29.154Z"
   },
   {
    "duration": -9,
    "start_time": "2021-12-15T10:43:29.157Z"
   },
   {
    "duration": -9,
    "start_time": "2021-12-15T10:43:29.159Z"
   },
   {
    "duration": -10,
    "start_time": "2021-12-15T10:43:29.162Z"
   },
   {
    "duration": -15,
    "start_time": "2021-12-15T10:43:29.170Z"
   },
   {
    "duration": -16,
    "start_time": "2021-12-15T10:43:29.173Z"
   },
   {
    "duration": -16,
    "start_time": "2021-12-15T10:43:29.175Z"
   },
   {
    "duration": -17,
    "start_time": "2021-12-15T10:43:29.178Z"
   },
   {
    "duration": -18,
    "start_time": "2021-12-15T10:43:29.181Z"
   },
   {
    "duration": -45,
    "start_time": "2021-12-15T10:43:29.210Z"
   },
   {
    "duration": -47,
    "start_time": "2021-12-15T10:43:29.214Z"
   },
   {
    "duration": -54,
    "start_time": "2021-12-15T10:43:29.223Z"
   },
   {
    "duration": -56,
    "start_time": "2021-12-15T10:43:29.226Z"
   },
   {
    "duration": -57,
    "start_time": "2021-12-15T10:43:29.229Z"
   },
   {
    "duration": -65,
    "start_time": "2021-12-15T10:43:29.240Z"
   },
   {
    "duration": -65,
    "start_time": "2021-12-15T10:43:29.242Z"
   },
   {
    "duration": -29,
    "start_time": "2021-12-15T10:43:29.246Z"
   },
   {
    "duration": -29,
    "start_time": "2021-12-15T10:43:29.249Z"
   },
   {
    "duration": -31,
    "start_time": "2021-12-15T10:43:29.252Z"
   },
   {
    "duration": -38,
    "start_time": "2021-12-15T10:43:29.261Z"
   },
   {
    "duration": -50,
    "start_time": "2021-12-15T10:43:29.274Z"
   },
   {
    "duration": -206,
    "start_time": "2021-12-15T10:43:29.431Z"
   },
   {
    "duration": -207,
    "start_time": "2021-12-15T10:43:29.434Z"
   },
   {
    "duration": -209,
    "start_time": "2021-12-15T10:43:29.437Z"
   },
   {
    "duration": -210,
    "start_time": "2021-12-15T10:43:29.441Z"
   },
   {
    "duration": -211,
    "start_time": "2021-12-15T10:43:29.444Z"
   },
   {
    "duration": -212,
    "start_time": "2021-12-15T10:43:29.447Z"
   },
   {
    "duration": -212,
    "start_time": "2021-12-15T10:43:29.450Z"
   },
   {
    "duration": -214,
    "start_time": "2021-12-15T10:43:29.453Z"
   },
   {
    "duration": -215,
    "start_time": "2021-12-15T10:43:29.456Z"
   },
   {
    "duration": -216,
    "start_time": "2021-12-15T10:43:29.460Z"
   },
   {
    "duration": -222,
    "start_time": "2021-12-15T10:43:29.468Z"
   },
   {
    "duration": -230,
    "start_time": "2021-12-15T10:43:29.478Z"
   },
   {
    "duration": -238,
    "start_time": "2021-12-15T10:43:29.487Z"
   },
   {
    "duration": -240,
    "start_time": "2021-12-15T10:43:29.490Z"
   },
   {
    "duration": -242,
    "start_time": "2021-12-15T10:43:29.493Z"
   },
   {
    "duration": -244,
    "start_time": "2021-12-15T10:43:29.496Z"
   },
   {
    "duration": 4,
    "start_time": "2021-12-15T10:44:20.542Z"
   },
   {
    "duration": 74,
    "start_time": "2021-12-15T10:44:20.549Z"
   },
   {
    "duration": 24,
    "start_time": "2021-12-15T10:44:20.627Z"
   },
   {
    "duration": 8,
    "start_time": "2021-12-15T10:44:20.654Z"
   },
   {
    "duration": 72,
    "start_time": "2021-12-15T10:44:20.664Z"
   },
   {
    "duration": 87,
    "start_time": "2021-12-15T10:44:20.739Z"
   },
   {
    "duration": 23,
    "start_time": "2021-12-15T10:44:20.831Z"
   },
   {
    "duration": 26,
    "start_time": "2021-12-15T10:44:20.857Z"
   },
   {
    "duration": 43,
    "start_time": "2021-12-15T10:44:20.885Z"
   },
   {
    "duration": 38,
    "start_time": "2021-12-15T10:44:20.930Z"
   },
   {
    "duration": 29,
    "start_time": "2021-12-15T10:44:21.022Z"
   },
   {
    "duration": 6,
    "start_time": "2021-12-15T10:44:21.054Z"
   },
   {
    "duration": 60,
    "start_time": "2021-12-15T10:44:21.063Z"
   },
   {
    "duration": 102,
    "start_time": "2021-12-15T10:44:21.128Z"
   },
   {
    "duration": 7,
    "start_time": "2021-12-15T10:44:21.233Z"
   },
   {
    "duration": 19,
    "start_time": "2021-12-15T10:44:21.242Z"
   },
   {
    "duration": 15,
    "start_time": "2021-12-15T10:44:21.263Z"
   },
   {
    "duration": 54,
    "start_time": "2021-12-15T10:44:21.281Z"
   },
   {
    "duration": 13,
    "start_time": "2021-12-15T10:44:21.340Z"
   },
   {
    "duration": 12,
    "start_time": "2021-12-15T10:44:21.356Z"
   },
   {
    "duration": 95,
    "start_time": "2021-12-15T10:44:21.370Z"
   },
   {
    "duration": 11,
    "start_time": "2021-12-15T10:44:21.468Z"
   },
   {
    "duration": 42,
    "start_time": "2021-12-15T10:44:21.482Z"
   },
   {
    "duration": 6,
    "start_time": "2021-12-15T10:44:21.533Z"
   },
   {
    "duration": 17,
    "start_time": "2021-12-15T10:44:21.541Z"
   },
   {
    "duration": 95,
    "start_time": "2021-12-15T10:44:21.561Z"
   },
   {
    "duration": 17,
    "start_time": "2021-12-15T10:44:21.659Z"
   },
   {
    "duration": 39,
    "start_time": "2021-12-15T10:44:21.679Z"
   },
   {
    "duration": 27,
    "start_time": "2021-12-15T10:44:21.729Z"
   },
   {
    "duration": 11,
    "start_time": "2021-12-15T10:44:21.758Z"
   },
   {
    "duration": 8,
    "start_time": "2021-12-15T10:44:21.771Z"
   },
   {
    "duration": 19,
    "start_time": "2021-12-15T10:44:21.817Z"
   },
   {
    "duration": 16,
    "start_time": "2021-12-15T10:44:21.839Z"
   },
   {
    "duration": 10,
    "start_time": "2021-12-15T10:44:21.858Z"
   },
   {
    "duration": 76,
    "start_time": "2021-12-15T10:44:21.872Z"
   },
   {
    "duration": 27,
    "start_time": "2021-12-15T10:44:21.951Z"
   },
   {
    "duration": 45,
    "start_time": "2021-12-15T10:44:21.981Z"
   },
   {
    "duration": 7,
    "start_time": "2021-12-15T10:44:22.029Z"
   },
   {
    "duration": 6,
    "start_time": "2021-12-15T10:44:22.038Z"
   },
   {
    "duration": 12,
    "start_time": "2021-12-15T10:44:22.047Z"
   },
   {
    "duration": 120,
    "start_time": "2021-12-15T10:44:22.062Z"
   },
   {
    "duration": 7,
    "start_time": "2021-12-15T10:44:22.184Z"
   },
   {
    "duration": 16,
    "start_time": "2021-12-15T10:44:22.217Z"
   },
   {
    "duration": 9,
    "start_time": "2021-12-15T10:44:22.235Z"
   },
   {
    "duration": 32,
    "start_time": "2021-12-15T10:44:22.246Z"
   },
   {
    "duration": 8,
    "start_time": "2021-12-15T10:44:22.280Z"
   },
   {
    "duration": 45,
    "start_time": "2021-12-15T10:44:22.319Z"
   },
   {
    "duration": 7,
    "start_time": "2021-12-15T10:44:22.368Z"
   },
   {
    "duration": 87,
    "start_time": "2021-12-15T10:44:22.377Z"
   },
   {
    "duration": 3,
    "start_time": "2021-12-15T10:44:22.466Z"
   },
   {
    "duration": 7,
    "start_time": "2021-12-15T10:44:22.471Z"
   },
   {
    "duration": 5,
    "start_time": "2021-12-15T10:44:22.481Z"
   },
   {
    "duration": 28,
    "start_time": "2021-12-15T10:45:10.789Z"
   },
   {
    "duration": 20,
    "start_time": "2021-12-15T10:46:12.608Z"
   },
   {
    "duration": 3,
    "start_time": "2021-12-15T10:46:26.648Z"
   },
   {
    "duration": 89,
    "start_time": "2021-12-15T10:46:26.655Z"
   },
   {
    "duration": 23,
    "start_time": "2021-12-15T10:46:26.747Z"
   },
   {
    "duration": 51,
    "start_time": "2021-12-15T10:46:26.774Z"
   },
   {
    "duration": 23,
    "start_time": "2021-12-15T10:46:26.828Z"
   },
   {
    "duration": 93,
    "start_time": "2021-12-15T10:46:26.854Z"
   },
   {
    "duration": 25,
    "start_time": "2021-12-15T10:46:26.951Z"
   },
   {
    "duration": 69,
    "start_time": "2021-12-15T10:46:26.981Z"
   },
   {
    "duration": 12,
    "start_time": "2021-12-15T10:46:27.054Z"
   },
   {
    "duration": 83,
    "start_time": "2021-12-15T10:46:27.069Z"
   },
   {
    "duration": 80,
    "start_time": "2021-12-15T10:46:27.156Z"
   },
   {
    "duration": 6,
    "start_time": "2021-12-15T10:46:27.239Z"
   },
   {
    "duration": 83,
    "start_time": "2021-12-15T10:46:27.248Z"
   },
   {
    "duration": 63,
    "start_time": "2021-12-15T10:46:27.334Z"
   },
   {
    "duration": 26,
    "start_time": "2021-12-15T10:46:27.400Z"
   },
   {
    "duration": 29,
    "start_time": "2021-12-15T10:46:27.429Z"
   },
   {
    "duration": 11,
    "start_time": "2021-12-15T10:46:27.461Z"
   },
   {
    "duration": 22,
    "start_time": "2021-12-15T10:46:27.522Z"
   },
   {
    "duration": 19,
    "start_time": "2021-12-15T10:46:27.553Z"
   },
   {
    "duration": 50,
    "start_time": "2021-12-15T10:46:27.576Z"
   },
   {
    "duration": 64,
    "start_time": "2021-12-15T10:46:27.628Z"
   },
   {
    "duration": 13,
    "start_time": "2021-12-15T10:46:27.717Z"
   },
   {
    "duration": 34,
    "start_time": "2021-12-15T10:46:27.735Z"
   },
   {
    "duration": 5,
    "start_time": "2021-12-15T10:46:27.771Z"
   },
   {
    "duration": 53,
    "start_time": "2021-12-15T10:46:27.778Z"
   },
   {
    "duration": 40,
    "start_time": "2021-12-15T10:46:27.833Z"
   },
   {
    "duration": 55,
    "start_time": "2021-12-15T10:46:27.876Z"
   },
   {
    "duration": 17,
    "start_time": "2021-12-15T10:46:27.934Z"
   },
   {
    "duration": 66,
    "start_time": "2021-12-15T10:46:27.954Z"
   },
   {
    "duration": 25,
    "start_time": "2021-12-15T10:46:28.023Z"
   },
   {
    "duration": 17,
    "start_time": "2021-12-15T10:46:28.051Z"
   },
   {
    "duration": 16,
    "start_time": "2021-12-15T10:46:28.071Z"
   },
   {
    "duration": 43,
    "start_time": "2021-12-15T10:46:28.090Z"
   },
   {
    "duration": 9,
    "start_time": "2021-12-15T10:46:28.138Z"
   },
   {
    "duration": 23,
    "start_time": "2021-12-15T10:46:28.152Z"
   },
   {
    "duration": 60,
    "start_time": "2021-12-15T10:46:28.178Z"
   },
   {
    "duration": 21,
    "start_time": "2021-12-15T10:46:28.240Z"
   },
   {
    "duration": 17,
    "start_time": "2021-12-15T10:46:28.263Z"
   },
   {
    "duration": 31,
    "start_time": "2021-12-15T10:46:28.282Z"
   },
   {
    "duration": 28,
    "start_time": "2021-12-15T10:46:28.315Z"
   },
   {
    "duration": 118,
    "start_time": "2021-12-15T10:46:28.346Z"
   },
   {
    "duration": 8,
    "start_time": "2021-12-15T10:46:28.466Z"
   },
   {
    "duration": 14,
    "start_time": "2021-12-15T10:46:28.477Z"
   },
   {
    "duration": 35,
    "start_time": "2021-12-15T10:46:28.494Z"
   },
   {
    "duration": 33,
    "start_time": "2021-12-15T10:46:28.532Z"
   },
   {
    "duration": 7,
    "start_time": "2021-12-15T10:46:28.568Z"
   },
   {
    "duration": 72,
    "start_time": "2021-12-15T10:46:28.577Z"
   },
   {
    "duration": 6,
    "start_time": "2021-12-15T10:46:28.652Z"
   },
   {
    "duration": 75,
    "start_time": "2021-12-15T10:46:28.661Z"
   },
   {
    "duration": 3,
    "start_time": "2021-12-15T10:46:28.739Z"
   },
   {
    "duration": 13,
    "start_time": "2021-12-15T10:46:28.745Z"
   },
   {
    "duration": 10,
    "start_time": "2021-12-15T10:46:28.761Z"
   },
   {
    "duration": 16,
    "start_time": "2021-12-15T10:49:07.539Z"
   },
   {
    "duration": 4,
    "start_time": "2021-12-15T10:49:11.561Z"
   },
   {
    "duration": 71,
    "start_time": "2021-12-15T10:49:11.568Z"
   },
   {
    "duration": 19,
    "start_time": "2021-12-15T10:49:11.642Z"
   },
   {
    "duration": 9,
    "start_time": "2021-12-15T10:49:11.664Z"
   },
   {
    "duration": 21,
    "start_time": "2021-12-15T10:49:11.717Z"
   },
   {
    "duration": 46,
    "start_time": "2021-12-15T10:49:11.740Z"
   },
   {
    "duration": 56,
    "start_time": "2021-12-15T10:49:11.788Z"
   },
   {
    "duration": 25,
    "start_time": "2021-12-15T10:49:11.849Z"
   },
   {
    "duration": 52,
    "start_time": "2021-12-15T10:49:11.877Z"
   },
   {
    "duration": 32,
    "start_time": "2021-12-15T10:49:11.934Z"
   },
   {
    "duration": 29,
    "start_time": "2021-12-15T10:49:12.019Z"
   },
   {
    "duration": 5,
    "start_time": "2021-12-15T10:49:12.050Z"
   },
   {
    "duration": 76,
    "start_time": "2021-12-15T10:49:12.057Z"
   },
   {
    "duration": 91,
    "start_time": "2021-12-15T10:49:12.135Z"
   },
   {
    "duration": 27,
    "start_time": "2021-12-15T10:49:12.229Z"
   },
   {
    "duration": 10,
    "start_time": "2021-12-15T10:49:12.259Z"
   },
   {
    "duration": 52,
    "start_time": "2021-12-15T10:49:12.272Z"
   },
   {
    "duration": 16,
    "start_time": "2021-12-15T10:49:12.327Z"
   },
   {
    "duration": 12,
    "start_time": "2021-12-15T10:49:12.346Z"
   },
   {
    "duration": 82,
    "start_time": "2021-12-15T10:49:12.360Z"
   },
   {
    "duration": 11,
    "start_time": "2021-12-15T10:49:12.445Z"
   },
   {
    "duration": 22,
    "start_time": "2021-12-15T10:49:12.458Z"
   },
   {
    "duration": 12,
    "start_time": "2021-12-15T10:49:12.524Z"
   },
   {
    "duration": 20,
    "start_time": "2021-12-15T10:49:12.541Z"
   },
   {
    "duration": 77,
    "start_time": "2021-12-15T10:49:12.564Z"
   },
   {
    "duration": 12,
    "start_time": "2021-12-15T10:49:12.644Z"
   },
   {
    "duration": 8,
    "start_time": "2021-12-15T10:49:12.659Z"
   },
   {
    "duration": 74,
    "start_time": "2021-12-15T10:49:12.670Z"
   },
   {
    "duration": 10,
    "start_time": "2021-12-15T10:49:12.747Z"
   },
   {
    "duration": 8,
    "start_time": "2021-12-15T10:49:12.759Z"
   },
   {
    "duration": 58,
    "start_time": "2021-12-15T10:49:12.769Z"
   },
   {
    "duration": 11,
    "start_time": "2021-12-15T10:49:12.830Z"
   },
   {
    "duration": 8,
    "start_time": "2021-12-15T10:49:12.843Z"
   },
   {
    "duration": 21,
    "start_time": "2021-12-15T10:49:12.853Z"
   },
   {
    "duration": 69,
    "start_time": "2021-12-15T10:49:12.876Z"
   },
   {
    "duration": 13,
    "start_time": "2021-12-15T10:49:12.948Z"
   },
   {
    "duration": 7,
    "start_time": "2021-12-15T10:49:12.964Z"
   },
   {
    "duration": 45,
    "start_time": "2021-12-15T10:49:12.973Z"
   },
   {
    "duration": 18,
    "start_time": "2021-12-15T10:49:13.021Z"
   },
   {
    "duration": 97,
    "start_time": "2021-12-15T10:49:13.042Z"
   },
   {
    "duration": 7,
    "start_time": "2021-12-15T10:49:13.141Z"
   },
   {
    "duration": 9,
    "start_time": "2021-12-15T10:49:13.150Z"
   },
   {
    "duration": 12,
    "start_time": "2021-12-15T10:49:13.161Z"
   },
   {
    "duration": 68,
    "start_time": "2021-12-15T10:49:13.175Z"
   },
   {
    "duration": 7,
    "start_time": "2021-12-15T10:49:13.246Z"
   },
   {
    "duration": 67,
    "start_time": "2021-12-15T10:49:13.255Z"
   },
   {
    "duration": 6,
    "start_time": "2021-12-15T10:49:13.326Z"
   },
   {
    "duration": 53,
    "start_time": "2021-12-15T10:49:13.335Z"
   },
   {
    "duration": 28,
    "start_time": "2021-12-15T10:49:13.391Z"
   },
   {
    "duration": 7,
    "start_time": "2021-12-15T10:49:13.423Z"
   },
   {
    "duration": 8,
    "start_time": "2021-12-15T10:49:13.432Z"
   },
   {
    "duration": 4,
    "start_time": "2021-12-15T10:50:46.458Z"
   },
   {
    "duration": 70,
    "start_time": "2021-12-15T10:50:46.465Z"
   },
   {
    "duration": 23,
    "start_time": "2021-12-15T10:50:46.538Z"
   },
   {
    "duration": 6,
    "start_time": "2021-12-15T10:50:46.564Z"
   },
   {
    "duration": 57,
    "start_time": "2021-12-15T10:50:46.572Z"
   },
   {
    "duration": 52,
    "start_time": "2021-12-15T10:50:46.632Z"
   },
   {
    "duration": 58,
    "start_time": "2021-12-15T10:50:46.687Z"
   },
   {
    "duration": 24,
    "start_time": "2021-12-15T10:50:46.748Z"
   },
   {
    "duration": 53,
    "start_time": "2021-12-15T10:50:46.775Z"
   },
   {
    "duration": 88,
    "start_time": "2021-12-15T10:50:46.830Z"
   },
   {
    "duration": 25,
    "start_time": "2021-12-15T10:50:46.926Z"
   },
   {
    "duration": 9,
    "start_time": "2021-12-15T10:50:46.953Z"
   },
   {
    "duration": 71,
    "start_time": "2021-12-15T10:50:46.965Z"
   },
   {
    "duration": 85,
    "start_time": "2021-12-15T10:50:47.039Z"
   },
   {
    "duration": 24,
    "start_time": "2021-12-15T10:50:47.127Z"
   },
   {
    "duration": 9,
    "start_time": "2021-12-15T10:50:47.154Z"
   },
   {
    "duration": 55,
    "start_time": "2021-12-15T10:50:47.166Z"
   },
   {
    "duration": 16,
    "start_time": "2021-12-15T10:50:47.224Z"
   },
   {
    "duration": 11,
    "start_time": "2021-12-15T10:50:47.245Z"
   },
   {
    "duration": 82,
    "start_time": "2021-12-15T10:50:47.259Z"
   },
   {
    "duration": 11,
    "start_time": "2021-12-15T10:50:47.344Z"
   },
   {
    "duration": 18,
    "start_time": "2021-12-15T10:50:47.357Z"
   },
   {
    "duration": 43,
    "start_time": "2021-12-15T10:50:47.378Z"
   },
   {
    "duration": 18,
    "start_time": "2021-12-15T10:50:47.430Z"
   },
   {
    "duration": 76,
    "start_time": "2021-12-15T10:50:47.450Z"
   },
   {
    "duration": 12,
    "start_time": "2021-12-15T10:50:47.530Z"
   },
   {
    "duration": 8,
    "start_time": "2021-12-15T10:50:47.544Z"
   },
   {
    "duration": 65,
    "start_time": "2021-12-15T10:50:47.555Z"
   },
   {
    "duration": 16,
    "start_time": "2021-12-15T10:50:47.622Z"
   },
   {
    "duration": 9,
    "start_time": "2021-12-15T10:50:47.640Z"
   },
   {
    "duration": 13,
    "start_time": "2021-12-15T10:50:47.651Z"
   },
   {
    "duration": 57,
    "start_time": "2021-12-15T10:50:47.666Z"
   },
   {
    "duration": 10,
    "start_time": "2021-12-15T10:50:47.726Z"
   },
   {
    "duration": 30,
    "start_time": "2021-12-15T10:50:47.739Z"
   },
   {
    "duration": 56,
    "start_time": "2021-12-15T10:50:47.773Z"
   },
   {
    "duration": 9,
    "start_time": "2021-12-15T10:50:47.832Z"
   },
   {
    "duration": 22,
    "start_time": "2021-12-15T10:50:47.843Z"
   },
   {
    "duration": 12,
    "start_time": "2021-12-15T10:50:47.867Z"
   },
   {
    "duration": 45,
    "start_time": "2021-12-15T10:50:47.881Z"
   },
   {
    "duration": 71,
    "start_time": "2021-12-15T10:50:47.929Z"
   },
   {
    "duration": 24,
    "start_time": "2021-12-15T10:50:48.002Z"
   },
   {
    "duration": 17,
    "start_time": "2021-12-15T10:50:48.029Z"
   },
   {
    "duration": 19,
    "start_time": "2021-12-15T10:50:48.049Z"
   },
   {
    "duration": 52,
    "start_time": "2021-12-15T10:50:48.071Z"
   },
   {
    "duration": 12,
    "start_time": "2021-12-15T10:50:48.126Z"
   },
   {
    "duration": 38,
    "start_time": "2021-12-15T10:50:48.140Z"
   },
   {
    "duration": 6,
    "start_time": "2021-12-15T10:50:48.180Z"
   },
   {
    "duration": 77,
    "start_time": "2021-12-15T10:50:48.188Z"
   },
   {
    "duration": 3,
    "start_time": "2021-12-15T10:50:48.267Z"
   },
   {
    "duration": 18,
    "start_time": "2021-12-15T10:50:48.272Z"
   },
   {
    "duration": 30,
    "start_time": "2021-12-15T10:50:48.292Z"
   },
   {
    "duration": 4,
    "start_time": "2021-12-15T10:51:32.268Z"
   },
   {
    "duration": 90,
    "start_time": "2021-12-15T10:51:32.274Z"
   },
   {
    "duration": 18,
    "start_time": "2021-12-15T10:51:32.367Z"
   },
   {
    "duration": 32,
    "start_time": "2021-12-15T10:51:32.388Z"
   },
   {
    "duration": 27,
    "start_time": "2021-12-15T10:51:32.422Z"
   },
   {
    "duration": 64,
    "start_time": "2021-12-15T10:51:32.452Z"
   },
   {
    "duration": 26,
    "start_time": "2021-12-15T10:51:32.522Z"
   },
   {
    "duration": 27,
    "start_time": "2021-12-15T10:51:32.550Z"
   },
   {
    "duration": 42,
    "start_time": "2021-12-15T10:51:32.581Z"
   },
   {
    "duration": 40,
    "start_time": "2021-12-15T10:51:32.629Z"
   },
   {
    "duration": 27,
    "start_time": "2021-12-15T10:51:32.720Z"
   },
   {
    "duration": 47,
    "start_time": "2021-12-15T10:51:32.749Z"
   },
   {
    "duration": 62,
    "start_time": "2021-12-15T10:51:32.799Z"
   },
   {
    "duration": 70,
    "start_time": "2021-12-15T10:51:32.863Z"
   },
   {
    "duration": 29,
    "start_time": "2021-12-15T10:51:32.936Z"
   },
   {
    "duration": 25,
    "start_time": "2021-12-15T10:51:32.968Z"
   },
   {
    "duration": 42,
    "start_time": "2021-12-15T10:51:32.995Z"
   },
   {
    "duration": 27,
    "start_time": "2021-12-15T10:51:33.040Z"
   },
   {
    "duration": 39,
    "start_time": "2021-12-15T10:51:33.070Z"
   },
   {
    "duration": 63,
    "start_time": "2021-12-15T10:51:33.112Z"
   },
   {
    "duration": 10,
    "start_time": "2021-12-15T10:51:33.178Z"
   },
   {
    "duration": 49,
    "start_time": "2021-12-15T10:51:33.191Z"
   },
   {
    "duration": 22,
    "start_time": "2021-12-15T10:51:33.243Z"
   },
   {
    "duration": 59,
    "start_time": "2021-12-15T10:51:33.268Z"
   },
   {
    "duration": 39,
    "start_time": "2021-12-15T10:51:33.330Z"
   },
   {
    "duration": 55,
    "start_time": "2021-12-15T10:51:33.372Z"
   },
   {
    "duration": 7,
    "start_time": "2021-12-15T10:51:33.435Z"
   },
   {
    "duration": 46,
    "start_time": "2021-12-15T10:51:33.444Z"
   },
   {
    "duration": 43,
    "start_time": "2021-12-15T10:51:33.492Z"
   },
   {
    "duration": 21,
    "start_time": "2021-12-15T10:51:33.538Z"
   },
   {
    "duration": 28,
    "start_time": "2021-12-15T10:51:33.561Z"
   },
   {
    "duration": 47,
    "start_time": "2021-12-15T10:51:33.591Z"
   },
   {
    "duration": 13,
    "start_time": "2021-12-15T10:51:33.641Z"
   },
   {
    "duration": 49,
    "start_time": "2021-12-15T10:51:33.656Z"
   },
   {
    "duration": 80,
    "start_time": "2021-12-15T10:51:33.708Z"
   },
   {
    "duration": 37,
    "start_time": "2021-12-15T10:51:33.791Z"
   },
   {
    "duration": 39,
    "start_time": "2021-12-15T10:51:33.831Z"
   },
   {
    "duration": 22,
    "start_time": "2021-12-15T10:51:33.872Z"
   },
   {
    "duration": 15,
    "start_time": "2021-12-15T10:51:33.896Z"
   },
   {
    "duration": 78,
    "start_time": "2021-12-15T10:51:33.913Z"
   },
   {
    "duration": 8,
    "start_time": "2021-12-15T10:51:33.993Z"
   },
   {
    "duration": 10,
    "start_time": "2021-12-15T10:51:34.019Z"
   },
   {
    "duration": 20,
    "start_time": "2021-12-15T10:51:34.031Z"
   },
   {
    "duration": 46,
    "start_time": "2021-12-15T10:51:34.054Z"
   },
   {
    "duration": 19,
    "start_time": "2021-12-15T10:51:34.103Z"
   },
   {
    "duration": 44,
    "start_time": "2021-12-15T10:51:34.124Z"
   },
   {
    "duration": 5,
    "start_time": "2021-12-15T10:51:34.170Z"
   },
   {
    "duration": 82,
    "start_time": "2021-12-15T10:51:34.177Z"
   },
   {
    "duration": 3,
    "start_time": "2021-12-15T10:51:34.261Z"
   },
   {
    "duration": 23,
    "start_time": "2021-12-15T10:51:34.267Z"
   },
   {
    "duration": 34,
    "start_time": "2021-12-15T10:51:34.292Z"
   },
   {
    "duration": 10,
    "start_time": "2021-12-15T10:59:24.778Z"
   },
   {
    "duration": 11,
    "start_time": "2021-12-15T10:59:37.533Z"
   },
   {
    "duration": 13,
    "start_time": "2021-12-15T11:00:13.723Z"
   },
   {
    "duration": 13,
    "start_time": "2021-12-15T11:00:22.770Z"
   },
   {
    "duration": 14,
    "start_time": "2021-12-15T11:01:36.963Z"
   },
   {
    "duration": 19,
    "start_time": "2021-12-15T11:01:45.610Z"
   },
   {
    "duration": 242,
    "start_time": "2021-12-15T11:03:21.867Z"
   },
   {
    "duration": 16,
    "start_time": "2021-12-15T11:03:28.235Z"
   },
   {
    "duration": 297,
    "start_time": "2021-12-15T11:04:10.052Z"
   },
   {
    "duration": 9,
    "start_time": "2021-12-15T11:04:23.077Z"
   },
   {
    "duration": 47,
    "start_time": "2021-12-15T11:06:04.822Z"
   },
   {
    "duration": 17,
    "start_time": "2021-12-15T11:06:59.799Z"
   },
   {
    "duration": 35,
    "start_time": "2021-12-15T11:17:54.890Z"
   },
   {
    "duration": 34,
    "start_time": "2021-12-15T11:41:22.833Z"
   },
   {
    "duration": 25,
    "start_time": "2021-12-15T11:42:21.222Z"
   },
   {
    "duration": 33,
    "start_time": "2021-12-15T11:43:52.023Z"
   },
   {
    "duration": 31,
    "start_time": "2021-12-15T11:44:03.150Z"
   },
   {
    "duration": 26,
    "start_time": "2021-12-15T11:44:13.743Z"
   },
   {
    "duration": 80,
    "start_time": "2021-12-15T11:44:22.998Z"
   },
   {
    "duration": 37,
    "start_time": "2021-12-15T11:44:26.543Z"
   },
   {
    "duration": 30,
    "start_time": "2021-12-15T11:46:36.984Z"
   },
   {
    "duration": 40,
    "start_time": "2021-12-15T11:47:44.376Z"
   },
   {
    "duration": 29,
    "start_time": "2021-12-15T11:50:45.872Z"
   },
   {
    "duration": 25,
    "start_time": "2021-12-15T11:50:57.947Z"
   },
   {
    "duration": 38,
    "start_time": "2021-12-15T11:51:06.826Z"
   },
   {
    "duration": 284,
    "start_time": "2021-12-15T11:53:11.798Z"
   },
   {
    "duration": 40,
    "start_time": "2021-12-15T11:53:24.860Z"
   },
   {
    "duration": 266,
    "start_time": "2021-12-15T11:55:32.643Z"
   },
   {
    "duration": 24,
    "start_time": "2021-12-15T11:55:47.229Z"
   },
   {
    "duration": 25,
    "start_time": "2021-12-15T11:56:12.086Z"
   },
   {
    "duration": 26,
    "start_time": "2021-12-15T11:56:34.255Z"
   },
   {
    "duration": 25,
    "start_time": "2021-12-15T11:56:37.157Z"
   },
   {
    "duration": 33,
    "start_time": "2021-12-15T11:57:09.470Z"
   },
   {
    "duration": 31,
    "start_time": "2021-12-15T11:57:25.087Z"
   },
   {
    "duration": 42,
    "start_time": "2021-12-15T12:08:23.117Z"
   },
   {
    "duration": 433,
    "start_time": "2021-12-15T12:12:25.397Z"
   },
   {
    "duration": 44,
    "start_time": "2021-12-15T12:12:38.041Z"
   },
   {
    "duration": 35,
    "start_time": "2021-12-15T12:12:47.097Z"
   },
   {
    "duration": 35,
    "start_time": "2021-12-15T12:15:13.136Z"
   },
   {
    "duration": 32,
    "start_time": "2021-12-15T12:15:38.139Z"
   },
   {
    "duration": 34,
    "start_time": "2021-12-15T12:15:44.691Z"
   },
   {
    "duration": 32,
    "start_time": "2021-12-15T12:16:09.994Z"
   },
   {
    "duration": 38,
    "start_time": "2021-12-15T12:16:13.643Z"
   },
   {
    "duration": 299,
    "start_time": "2021-12-15T12:21:30.611Z"
   },
   {
    "duration": 7,
    "start_time": "2021-12-15T12:21:42.330Z"
   },
   {
    "duration": 244,
    "start_time": "2021-12-15T12:22:01.214Z"
   },
   {
    "duration": 294,
    "start_time": "2021-12-15T12:22:18.801Z"
   },
   {
    "duration": 262,
    "start_time": "2021-12-15T12:22:24.119Z"
   },
   {
    "duration": 4752,
    "start_time": "2021-12-15T12:23:00.278Z"
   },
   {
    "duration": 336,
    "start_time": "2021-12-15T12:23:15.746Z"
   },
   {
    "duration": 4846,
    "start_time": "2021-12-15T12:24:38.719Z"
   },
   {
    "duration": 6229,
    "start_time": "2021-12-15T12:24:49.216Z"
   },
   {
    "duration": 5873,
    "start_time": "2021-12-15T12:25:46.388Z"
   },
   {
    "duration": 5852,
    "start_time": "2021-12-15T12:26:03.034Z"
   },
   {
    "duration": 31,
    "start_time": "2021-12-15T12:34:38.989Z"
   },
   {
    "duration": 296,
    "start_time": "2021-12-15T12:35:08.647Z"
   },
   {
    "duration": 23,
    "start_time": "2021-12-15T12:35:15.176Z"
   },
   {
    "duration": 5805,
    "start_time": "2021-12-15T12:35:34.246Z"
   },
   {
    "duration": 3106,
    "start_time": "2021-12-15T12:36:02.360Z"
   },
   {
    "duration": 6238,
    "start_time": "2021-12-15T12:36:19.424Z"
   },
   {
    "duration": 4866,
    "start_time": "2021-12-15T12:36:29.560Z"
   },
   {
    "duration": 4701,
    "start_time": "2021-12-15T12:36:59.273Z"
   },
   {
    "duration": 23,
    "start_time": "2021-12-15T12:37:04.729Z"
   },
   {
    "duration": 23,
    "start_time": "2021-12-15T12:37:14.392Z"
   },
   {
    "duration": 33,
    "start_time": "2021-12-15T12:37:37.792Z"
   },
   {
    "duration": 9,
    "start_time": "2021-12-15T12:37:41.040Z"
   },
   {
    "duration": 8,
    "start_time": "2021-12-15T12:38:22.619Z"
   },
   {
    "duration": 9,
    "start_time": "2021-12-15T12:39:21.585Z"
   },
   {
    "duration": 8,
    "start_time": "2021-12-15T12:39:28.001Z"
   },
   {
    "duration": 7,
    "start_time": "2021-12-15T12:39:43.091Z"
   },
   {
    "duration": 7,
    "start_time": "2021-12-15T12:40:02.946Z"
   },
   {
    "duration": 9,
    "start_time": "2021-12-15T12:40:04.587Z"
   },
   {
    "duration": 8,
    "start_time": "2021-12-15T12:40:06.818Z"
   },
   {
    "duration": 8,
    "start_time": "2021-12-15T12:40:20.137Z"
   },
   {
    "duration": 8,
    "start_time": "2021-12-15T12:40:22.105Z"
   },
   {
    "duration": 8,
    "start_time": "2021-12-15T12:41:31.107Z"
   },
   {
    "duration": 7,
    "start_time": "2021-12-15T12:41:31.955Z"
   },
   {
    "duration": 8,
    "start_time": "2021-12-15T12:41:32.421Z"
   },
   {
    "duration": 8,
    "start_time": "2021-12-15T12:41:32.922Z"
   },
   {
    "duration": 54,
    "start_time": "2021-12-15T12:43:43.653Z"
   },
   {
    "duration": 75,
    "start_time": "2021-12-15T12:48:17.842Z"
   },
   {
    "duration": 41,
    "start_time": "2021-12-15T12:50:22.811Z"
   },
   {
    "duration": 55,
    "start_time": "2021-12-15T13:05:36.841Z"
   },
   {
    "duration": 38,
    "start_time": "2021-12-15T13:06:54.867Z"
   },
   {
    "duration": 38,
    "start_time": "2021-12-15T13:07:41.757Z"
   },
   {
    "duration": 35,
    "start_time": "2021-12-15T13:07:48.028Z"
   },
   {
    "duration": 10,
    "start_time": "2021-12-15T13:08:03.883Z"
   },
   {
    "duration": 9,
    "start_time": "2021-12-15T13:08:05.827Z"
   },
   {
    "duration": 8,
    "start_time": "2021-12-15T13:08:07.603Z"
   },
   {
    "duration": 138,
    "start_time": "2021-12-15T13:11:08.520Z"
   },
   {
    "duration": 132,
    "start_time": "2021-12-15T13:11:23.262Z"
   },
   {
    "duration": 152,
    "start_time": "2021-12-15T13:11:35.886Z"
   },
   {
    "duration": 109,
    "start_time": "2021-12-15T13:12:26.903Z"
   },
   {
    "duration": 128,
    "start_time": "2021-12-15T13:12:34.167Z"
   },
   {
    "duration": 128,
    "start_time": "2021-12-15T13:13:03.247Z"
   },
   {
    "duration": 131,
    "start_time": "2021-12-15T13:13:07.975Z"
   },
   {
    "duration": 138,
    "start_time": "2021-12-15T13:13:15.327Z"
   },
   {
    "duration": 142,
    "start_time": "2021-12-15T13:15:13.145Z"
   },
   {
    "duration": 131,
    "start_time": "2021-12-15T13:16:12.433Z"
   },
   {
    "duration": 6,
    "start_time": "2021-12-15T13:17:23.138Z"
   },
   {
    "duration": 10,
    "start_time": "2021-12-15T13:18:08.731Z"
   },
   {
    "duration": 9,
    "start_time": "2021-12-15T13:20:15.164Z"
   },
   {
    "duration": 134,
    "start_time": "2021-12-15T13:29:33.051Z"
   },
   {
    "duration": 9,
    "start_time": "2021-12-15T13:30:35.010Z"
   },
   {
    "duration": 104,
    "start_time": "2021-12-15T13:32:08.331Z"
   },
   {
    "duration": 16,
    "start_time": "2021-12-15T13:32:24.365Z"
   },
   {
    "duration": 32,
    "start_time": "2021-12-15T13:32:44.555Z"
   },
   {
    "duration": 72,
    "start_time": "2021-12-15T13:34:28.592Z"
   },
   {
    "duration": 118,
    "start_time": "2021-12-15T13:34:36.965Z"
   },
   {
    "duration": 14,
    "start_time": "2021-12-15T13:34:40.318Z"
   },
   {
    "duration": 33,
    "start_time": "2021-12-15T13:34:46.234Z"
   },
   {
    "duration": 22,
    "start_time": "2021-12-15T13:35:05.071Z"
   },
   {
    "duration": 4,
    "start_time": "2021-12-15T13:36:05.038Z"
   },
   {
    "duration": 87,
    "start_time": "2021-12-15T13:36:05.045Z"
   },
   {
    "duration": 21,
    "start_time": "2021-12-15T13:36:05.135Z"
   },
   {
    "duration": 18,
    "start_time": "2021-12-15T13:36:05.158Z"
   },
   {
    "duration": 51,
    "start_time": "2021-12-15T13:36:05.179Z"
   },
   {
    "duration": 86,
    "start_time": "2021-12-15T13:36:05.233Z"
   },
   {
    "duration": 22,
    "start_time": "2021-12-15T13:36:05.323Z"
   },
   {
    "duration": 24,
    "start_time": "2021-12-15T13:36:05.348Z"
   },
   {
    "duration": 11,
    "start_time": "2021-12-15T13:36:05.417Z"
   },
   {
    "duration": 101,
    "start_time": "2021-12-15T13:36:05.431Z"
   },
   {
    "duration": 30,
    "start_time": "2021-12-15T13:36:05.535Z"
   },
   {
    "duration": 49,
    "start_time": "2021-12-15T13:36:05.568Z"
   },
   {
    "duration": 33,
    "start_time": "2021-12-15T13:36:05.621Z"
   },
   {
    "duration": 105,
    "start_time": "2021-12-15T13:36:05.658Z"
   },
   {
    "duration": 52,
    "start_time": "2021-12-15T13:36:05.765Z"
   },
   {
    "duration": 11,
    "start_time": "2021-12-15T13:36:05.820Z"
   },
   {
    "duration": 21,
    "start_time": "2021-12-15T13:36:05.834Z"
   },
   {
    "duration": 20,
    "start_time": "2021-12-15T13:36:05.857Z"
   },
   {
    "duration": 11,
    "start_time": "2021-12-15T13:36:05.919Z"
   },
   {
    "duration": 42,
    "start_time": "2021-12-15T13:36:05.934Z"
   },
   {
    "duration": 13,
    "start_time": "2021-12-15T13:36:06.018Z"
   },
   {
    "duration": 23,
    "start_time": "2021-12-15T13:36:06.033Z"
   },
   {
    "duration": 6,
    "start_time": "2021-12-15T13:36:06.060Z"
   },
   {
    "duration": 69,
    "start_time": "2021-12-15T13:36:06.069Z"
   },
   {
    "duration": 82,
    "start_time": "2021-12-15T13:36:06.141Z"
   },
   {
    "duration": 16,
    "start_time": "2021-12-15T13:36:06.226Z"
   },
   {
    "duration": 14,
    "start_time": "2021-12-15T13:36:06.245Z"
   },
   {
    "duration": 63,
    "start_time": "2021-12-15T13:36:06.262Z"
   },
   {
    "duration": 14,
    "start_time": "2021-12-15T13:36:06.327Z"
   },
   {
    "duration": 11,
    "start_time": "2021-12-15T13:36:06.344Z"
   },
   {
    "duration": 59,
    "start_time": "2021-12-15T13:36:06.358Z"
   },
   {
    "duration": 15,
    "start_time": "2021-12-15T13:36:06.421Z"
   },
   {
    "duration": 11,
    "start_time": "2021-12-15T13:36:06.439Z"
   },
   {
    "duration": 67,
    "start_time": "2021-12-15T13:36:06.453Z"
   },
   {
    "duration": 30,
    "start_time": "2021-12-15T13:36:06.523Z"
   },
   {
    "duration": 11,
    "start_time": "2021-12-15T13:36:06.556Z"
   },
   {
    "duration": 6,
    "start_time": "2021-12-15T13:36:06.569Z"
   },
   {
    "duration": 44,
    "start_time": "2021-12-15T13:36:06.578Z"
   },
   {
    "duration": 12,
    "start_time": "2021-12-15T13:36:06.626Z"
   },
   {
    "duration": 109,
    "start_time": "2021-12-15T13:36:06.641Z"
   },
   {
    "duration": 8,
    "start_time": "2021-12-15T13:36:06.753Z"
   },
   {
    "duration": 14,
    "start_time": "2021-12-15T13:36:06.763Z"
   },
   {
    "duration": 37,
    "start_time": "2021-12-15T13:36:06.780Z"
   },
   {
    "duration": 52,
    "start_time": "2021-12-15T13:36:06.820Z"
   },
   {
    "duration": 8,
    "start_time": "2021-12-15T13:36:06.875Z"
   },
   {
    "duration": 60,
    "start_time": "2021-12-15T13:36:06.885Z"
   },
   {
    "duration": 5,
    "start_time": "2021-12-15T13:36:06.947Z"
   },
   {
    "duration": 24,
    "start_time": "2021-12-15T13:36:06.954Z"
   },
   {
    "duration": 79,
    "start_time": "2021-12-15T13:36:06.980Z"
   },
   {
    "duration": 58,
    "start_time": "2021-12-15T13:36:07.062Z"
   },
   {
    "duration": 40,
    "start_time": "2021-12-15T13:36:07.123Z"
   },
   {
    "duration": 79,
    "start_time": "2021-12-15T13:36:07.166Z"
   },
   {
    "duration": 36,
    "start_time": "2021-12-15T13:36:07.247Z"
   },
   {
    "duration": 39,
    "start_time": "2021-12-15T13:36:07.286Z"
   },
   {
    "duration": 24,
    "start_time": "2021-12-15T13:36:07.334Z"
   },
   {
    "duration": 117,
    "start_time": "2021-12-15T13:36:07.362Z"
   },
   {
    "duration": 24,
    "start_time": "2021-12-15T13:36:07.482Z"
   },
   {
    "duration": 145,
    "start_time": "2021-12-15T13:36:07.509Z"
   },
   {
    "duration": 14,
    "start_time": "2021-12-15T13:36:07.657Z"
   },
   {
    "duration": 149,
    "start_time": "2021-12-15T13:36:07.674Z"
   },
   {
    "duration": 3,
    "start_time": "2021-12-15T13:36:07.825Z"
   },
   {
    "duration": 11,
    "start_time": "2021-12-15T13:36:07.830Z"
   },
   {
    "duration": 43,
    "start_time": "2021-12-15T13:36:07.843Z"
   },
   {
    "duration": 18,
    "start_time": "2021-12-15T13:36:07.890Z"
   },
   {
    "duration": 115,
    "start_time": "2021-12-15T13:40:37.394Z"
   },
   {
    "duration": 13,
    "start_time": "2021-12-15T13:40:40.937Z"
   },
   {
    "duration": 15,
    "start_time": "2021-12-15T13:43:14.271Z"
   },
   {
    "duration": 36,
    "start_time": "2021-12-15T13:43:44.691Z"
   },
   {
    "duration": 3,
    "start_time": "2021-12-15T13:46:10.599Z"
   },
   {
    "duration": 69,
    "start_time": "2021-12-15T13:46:10.604Z"
   },
   {
    "duration": 55,
    "start_time": "2021-12-15T13:46:10.678Z"
   },
   {
    "duration": 5,
    "start_time": "2021-12-15T13:46:10.736Z"
   },
   {
    "duration": 20,
    "start_time": "2021-12-15T13:46:10.744Z"
   },
   {
    "duration": 49,
    "start_time": "2021-12-15T13:46:10.818Z"
   },
   {
    "duration": 53,
    "start_time": "2021-12-15T13:46:10.869Z"
   },
   {
    "duration": 24,
    "start_time": "2021-12-15T13:46:10.925Z"
   },
   {
    "duration": 12,
    "start_time": "2021-12-15T13:46:10.953Z"
   },
   {
    "duration": 76,
    "start_time": "2021-12-15T13:46:10.968Z"
   },
   {
    "duration": 75,
    "start_time": "2021-12-15T13:46:11.047Z"
   },
   {
    "duration": 6,
    "start_time": "2021-12-15T13:46:11.124Z"
   },
   {
    "duration": 27,
    "start_time": "2021-12-15T13:46:11.133Z"
   },
   {
    "duration": 104,
    "start_time": "2021-12-15T13:46:11.164Z"
   },
   {
    "duration": 46,
    "start_time": "2021-12-15T13:46:11.271Z"
   },
   {
    "duration": 10,
    "start_time": "2021-12-15T13:46:11.320Z"
   },
   {
    "duration": 19,
    "start_time": "2021-12-15T13:46:11.333Z"
   },
   {
    "duration": 14,
    "start_time": "2021-12-15T13:46:11.354Z"
   },
   {
    "duration": 12,
    "start_time": "2021-12-15T13:46:11.417Z"
   },
   {
    "duration": 45,
    "start_time": "2021-12-15T13:46:11.431Z"
   },
   {
    "duration": 39,
    "start_time": "2021-12-15T13:46:11.478Z"
   },
   {
    "duration": 18,
    "start_time": "2021-12-15T13:46:11.519Z"
   },
   {
    "duration": 5,
    "start_time": "2021-12-15T13:46:11.539Z"
   },
   {
    "duration": 17,
    "start_time": "2021-12-15T13:46:11.546Z"
   },
   {
    "duration": 37,
    "start_time": "2021-12-15T13:46:11.618Z"
   },
   {
    "duration": 18,
    "start_time": "2021-12-15T13:46:11.657Z"
   },
   {
    "duration": 7,
    "start_time": "2021-12-15T13:46:11.720Z"
   },
   {
    "duration": 26,
    "start_time": "2021-12-15T13:46:11.731Z"
   },
   {
    "duration": 18,
    "start_time": "2021-12-15T13:46:11.759Z"
   },
   {
    "duration": 42,
    "start_time": "2021-12-15T13:46:11.779Z"
   },
   {
    "duration": 10,
    "start_time": "2021-12-15T13:46:11.823Z"
   },
   {
    "duration": 9,
    "start_time": "2021-12-15T13:46:11.836Z"
   },
   {
    "duration": 8,
    "start_time": "2021-12-15T13:46:11.848Z"
   },
   {
    "duration": 66,
    "start_time": "2021-12-15T13:46:11.858Z"
   },
   {
    "duration": 25,
    "start_time": "2021-12-15T13:46:11.926Z"
   },
   {
    "duration": 9,
    "start_time": "2021-12-15T13:46:11.953Z"
   },
   {
    "duration": 5,
    "start_time": "2021-12-15T13:46:11.965Z"
   },
   {
    "duration": 6,
    "start_time": "2021-12-15T13:46:12.017Z"
   },
   {
    "duration": 12,
    "start_time": "2021-12-15T13:46:12.025Z"
   },
   {
    "duration": 110,
    "start_time": "2021-12-15T13:46:12.039Z"
   },
   {
    "duration": 7,
    "start_time": "2021-12-15T13:46:12.151Z"
   },
   {
    "duration": 31,
    "start_time": "2021-12-15T13:46:12.160Z"
   },
   {
    "duration": 9,
    "start_time": "2021-12-15T13:46:12.193Z"
   },
   {
    "duration": 37,
    "start_time": "2021-12-15T13:46:12.204Z"
   },
   {
    "duration": 7,
    "start_time": "2021-12-15T13:46:12.243Z"
   },
   {
    "duration": 66,
    "start_time": "2021-12-15T13:46:12.252Z"
   },
   {
    "duration": 6,
    "start_time": "2021-12-15T13:46:12.320Z"
   },
   {
    "duration": 19,
    "start_time": "2021-12-15T13:46:12.328Z"
   },
   {
    "duration": 97,
    "start_time": "2021-12-15T13:46:12.349Z"
   },
   {
    "duration": 26,
    "start_time": "2021-12-15T13:46:12.448Z"
   },
   {
    "duration": 58,
    "start_time": "2021-12-15T13:46:12.476Z"
   },
   {
    "duration": 40,
    "start_time": "2021-12-15T13:46:12.537Z"
   },
   {
    "duration": 75,
    "start_time": "2021-12-15T13:46:12.580Z"
   },
   {
    "duration": 9,
    "start_time": "2021-12-15T13:46:12.658Z"
   },
   {
    "duration": 50,
    "start_time": "2021-12-15T13:46:12.669Z"
   },
   {
    "duration": 12,
    "start_time": "2021-12-15T13:46:12.721Z"
   },
   {
    "duration": 20,
    "start_time": "2021-12-15T13:46:12.735Z"
   },
   {
    "duration": 159,
    "start_time": "2021-12-15T13:46:12.757Z"
   },
   {
    "duration": 8,
    "start_time": "2021-12-15T13:46:12.919Z"
   },
   {
    "duration": 147,
    "start_time": "2021-12-15T13:46:12.929Z"
   },
   {
    "duration": 128,
    "start_time": "2021-12-15T13:46:13.079Z"
   },
   {
    "duration": 3,
    "start_time": "2021-12-15T13:46:13.209Z"
   },
   {
    "duration": 3,
    "start_time": "2021-12-15T13:46:13.217Z"
   },
   {
    "duration": 15,
    "start_time": "2021-12-15T13:46:13.223Z"
   },
   {
    "duration": 76,
    "start_time": "2021-12-15T13:46:13.241Z"
   },
   {
    "duration": 7,
    "start_time": "2021-12-15T13:46:40.853Z"
   },
   {
    "duration": 7,
    "start_time": "2021-12-15T13:46:54.877Z"
   },
   {
    "duration": 7,
    "start_time": "2021-12-15T13:49:08.030Z"
   },
   {
    "duration": 4,
    "start_time": "2021-12-15T13:49:44.679Z"
   },
   {
    "duration": 70,
    "start_time": "2021-12-15T13:49:44.686Z"
   },
   {
    "duration": 19,
    "start_time": "2021-12-15T13:49:44.759Z"
   },
   {
    "duration": 37,
    "start_time": "2021-12-15T13:49:44.781Z"
   },
   {
    "duration": 38,
    "start_time": "2021-12-15T13:49:44.820Z"
   },
   {
    "duration": 63,
    "start_time": "2021-12-15T13:49:44.860Z"
   },
   {
    "duration": 23,
    "start_time": "2021-12-15T13:49:44.926Z"
   },
   {
    "duration": 24,
    "start_time": "2021-12-15T13:49:44.952Z"
   },
   {
    "duration": 10,
    "start_time": "2021-12-15T13:49:45.017Z"
   },
   {
    "duration": 38,
    "start_time": "2021-12-15T13:49:45.029Z"
   },
   {
    "duration": 71,
    "start_time": "2021-12-15T13:49:45.069Z"
   },
   {
    "duration": 5,
    "start_time": "2021-12-15T13:49:45.143Z"
   },
   {
    "duration": 83,
    "start_time": "2021-12-15T13:49:45.151Z"
   },
   {
    "duration": 81,
    "start_time": "2021-12-15T13:49:45.236Z"
   },
   {
    "duration": 23,
    "start_time": "2021-12-15T13:49:45.320Z"
   },
   {
    "duration": 18,
    "start_time": "2021-12-15T13:49:45.346Z"
   },
   {
    "duration": 54,
    "start_time": "2021-12-15T13:49:45.366Z"
   },
   {
    "duration": 20,
    "start_time": "2021-12-15T13:49:45.422Z"
   },
   {
    "duration": 32,
    "start_time": "2021-12-15T13:49:45.448Z"
   },
   {
    "duration": 49,
    "start_time": "2021-12-15T13:49:45.484Z"
   },
   {
    "duration": 11,
    "start_time": "2021-12-15T13:49:45.535Z"
   },
   {
    "duration": 38,
    "start_time": "2021-12-15T13:49:45.548Z"
   },
   {
    "duration": 30,
    "start_time": "2021-12-15T13:49:45.588Z"
   },
   {
    "duration": 26,
    "start_time": "2021-12-15T13:49:45.620Z"
   },
   {
    "duration": 53,
    "start_time": "2021-12-15T13:49:45.648Z"
   },
   {
    "duration": 19,
    "start_time": "2021-12-15T13:49:45.704Z"
   },
   {
    "duration": 34,
    "start_time": "2021-12-15T13:49:45.725Z"
   },
   {
    "duration": 37,
    "start_time": "2021-12-15T13:49:45.761Z"
   },
   {
    "duration": 19,
    "start_time": "2021-12-15T13:49:45.801Z"
   },
   {
    "duration": 24,
    "start_time": "2021-12-15T13:49:45.822Z"
   },
   {
    "duration": 13,
    "start_time": "2021-12-15T13:49:45.848Z"
   },
   {
    "duration": 11,
    "start_time": "2021-12-15T13:49:45.863Z"
   },
   {
    "duration": 41,
    "start_time": "2021-12-15T13:49:45.876Z"
   },
   {
    "duration": 23,
    "start_time": "2021-12-15T13:49:45.919Z"
   },
   {
    "duration": 29,
    "start_time": "2021-12-15T13:49:45.944Z"
   },
   {
    "duration": 17,
    "start_time": "2021-12-15T13:49:45.975Z"
   },
   {
    "duration": 5,
    "start_time": "2021-12-15T13:49:46.018Z"
   },
   {
    "duration": 10,
    "start_time": "2021-12-15T13:49:46.026Z"
   },
   {
    "duration": 26,
    "start_time": "2021-12-15T13:49:46.039Z"
   },
   {
    "duration": 98,
    "start_time": "2021-12-15T13:49:46.068Z"
   },
   {
    "duration": 7,
    "start_time": "2021-12-15T13:49:46.168Z"
   },
   {
    "duration": 11,
    "start_time": "2021-12-15T13:49:46.178Z"
   },
   {
    "duration": 3,
    "start_time": "2021-12-15T13:49:46.217Z"
   },
   {
    "duration": 39,
    "start_time": "2021-12-15T13:49:46.223Z"
   },
   {
    "duration": 7,
    "start_time": "2021-12-15T13:49:46.265Z"
   },
   {
    "duration": 64,
    "start_time": "2021-12-15T13:49:46.274Z"
   },
   {
    "duration": 5,
    "start_time": "2021-12-15T13:49:46.340Z"
   },
   {
    "duration": 20,
    "start_time": "2021-12-15T13:49:46.348Z"
   },
   {
    "duration": 83,
    "start_time": "2021-12-15T13:49:46.370Z"
   },
   {
    "duration": 25,
    "start_time": "2021-12-15T13:49:46.456Z"
   },
   {
    "duration": 60,
    "start_time": "2021-12-15T13:49:46.484Z"
   },
   {
    "duration": 34,
    "start_time": "2021-12-15T13:49:46.546Z"
   },
   {
    "duration": 64,
    "start_time": "2021-12-15T13:49:46.583Z"
   },
   {
    "duration": 18,
    "start_time": "2021-12-15T13:49:46.649Z"
   },
   {
    "duration": 8,
    "start_time": "2021-12-15T13:49:46.673Z"
   },
   {
    "duration": 39,
    "start_time": "2021-12-15T13:49:46.683Z"
   },
   {
    "duration": 24,
    "start_time": "2021-12-15T13:49:46.725Z"
   },
   {
    "duration": 140,
    "start_time": "2021-12-15T13:49:46.751Z"
   },
   {
    "duration": 26,
    "start_time": "2021-12-15T13:49:46.893Z"
   },
   {
    "duration": 147,
    "start_time": "2021-12-15T13:49:46.922Z"
   },
   {
    "duration": 138,
    "start_time": "2021-12-15T13:49:47.071Z"
   },
   {
    "duration": 7,
    "start_time": "2021-12-15T13:49:47.211Z"
   },
   {
    "duration": 8,
    "start_time": "2021-12-15T13:49:47.220Z"
   },
   {
    "duration": 20,
    "start_time": "2021-12-15T13:49:47.231Z"
   },
   {
    "duration": 68,
    "start_time": "2021-12-15T13:49:47.253Z"
   },
   {
    "duration": 7,
    "start_time": "2021-12-15T13:49:47.323Z"
   },
   {
    "duration": 4,
    "start_time": "2021-12-15T13:57:00.129Z"
   },
   {
    "duration": 108,
    "start_time": "2021-12-15T13:57:00.137Z"
   },
   {
    "duration": 29,
    "start_time": "2021-12-15T13:57:00.248Z"
   },
   {
    "duration": 40,
    "start_time": "2021-12-15T13:57:00.280Z"
   },
   {
    "duration": 26,
    "start_time": "2021-12-15T13:57:00.322Z"
   },
   {
    "duration": 82,
    "start_time": "2021-12-15T13:57:00.350Z"
   },
   {
    "duration": 22,
    "start_time": "2021-12-15T13:57:00.435Z"
   },
   {
    "duration": 60,
    "start_time": "2021-12-15T13:57:00.460Z"
   },
   {
    "duration": 10,
    "start_time": "2021-12-15T13:57:00.522Z"
   },
   {
    "duration": 81,
    "start_time": "2021-12-15T13:57:00.535Z"
   },
   {
    "duration": 26,
    "start_time": "2021-12-15T13:57:00.619Z"
   },
   {
    "duration": 6,
    "start_time": "2021-12-15T13:57:00.647Z"
   },
   {
    "duration": 83,
    "start_time": "2021-12-15T13:57:00.656Z"
   },
   {
    "duration": 83,
    "start_time": "2021-12-15T13:57:00.742Z"
   },
   {
    "duration": 28,
    "start_time": "2021-12-15T13:57:00.828Z"
   },
   {
    "duration": 61,
    "start_time": "2021-12-15T13:57:00.859Z"
   },
   {
    "duration": 34,
    "start_time": "2021-12-15T13:57:00.923Z"
   },
   {
    "duration": 27,
    "start_time": "2021-12-15T13:57:00.959Z"
   },
   {
    "duration": 24,
    "start_time": "2021-12-15T13:57:00.992Z"
   },
   {
    "duration": 56,
    "start_time": "2021-12-15T13:57:01.021Z"
   },
   {
    "duration": 38,
    "start_time": "2021-12-15T13:57:01.080Z"
   },
   {
    "duration": 51,
    "start_time": "2021-12-15T13:57:01.121Z"
   },
   {
    "duration": 70,
    "start_time": "2021-12-15T13:57:01.174Z"
   },
   {
    "duration": 58,
    "start_time": "2021-12-15T13:57:01.247Z"
   },
   {
    "duration": 151,
    "start_time": "2021-12-15T13:57:01.307Z"
   },
   {
    "duration": 13,
    "start_time": "2021-12-15T13:57:01.460Z"
   },
   {
    "duration": 65,
    "start_time": "2021-12-15T13:57:01.475Z"
   },
   {
    "duration": 79,
    "start_time": "2021-12-15T13:57:01.542Z"
   },
   {
    "duration": 168,
    "start_time": "2021-12-15T13:57:01.623Z"
   },
   {
    "duration": 84,
    "start_time": "2021-12-15T13:57:01.794Z"
   },
   {
    "duration": 109,
    "start_time": "2021-12-15T13:57:01.880Z"
   },
   {
    "duration": 47,
    "start_time": "2021-12-15T13:57:01.992Z"
   },
   {
    "duration": 15,
    "start_time": "2021-12-15T13:57:02.042Z"
   },
   {
    "duration": 35,
    "start_time": "2021-12-15T13:57:02.059Z"
   },
   {
    "duration": 58,
    "start_time": "2021-12-15T13:57:02.097Z"
   },
   {
    "duration": 49,
    "start_time": "2021-12-15T13:57:02.157Z"
   },
   {
    "duration": 21,
    "start_time": "2021-12-15T13:57:02.209Z"
   },
   {
    "duration": 12,
    "start_time": "2021-12-15T13:57:02.233Z"
   },
   {
    "duration": 18,
    "start_time": "2021-12-15T13:57:02.247Z"
   },
   {
    "duration": 89,
    "start_time": "2021-12-15T13:57:02.268Z"
   },
   {
    "duration": 11,
    "start_time": "2021-12-15T13:57:02.361Z"
   },
   {
    "duration": 46,
    "start_time": "2021-12-15T13:57:02.375Z"
   },
   {
    "duration": 24,
    "start_time": "2021-12-15T13:57:02.423Z"
   },
   {
    "duration": 36,
    "start_time": "2021-12-15T13:57:02.449Z"
   },
   {
    "duration": 7,
    "start_time": "2021-12-15T13:57:02.487Z"
   },
   {
    "duration": 54,
    "start_time": "2021-12-15T13:57:02.496Z"
   },
   {
    "duration": 6,
    "start_time": "2021-12-15T13:57:02.552Z"
   },
   {
    "duration": 32,
    "start_time": "2021-12-15T13:57:02.560Z"
   },
   {
    "duration": 63,
    "start_time": "2021-12-15T13:57:02.594Z"
   },
   {
    "duration": 25,
    "start_time": "2021-12-15T13:57:02.660Z"
   },
   {
    "duration": 61,
    "start_time": "2021-12-15T13:57:02.687Z"
   },
   {
    "duration": 73,
    "start_time": "2021-12-15T13:57:02.751Z"
   },
   {
    "duration": 35,
    "start_time": "2021-12-15T13:57:02.827Z"
   },
   {
    "duration": 19,
    "start_time": "2021-12-15T13:57:02.865Z"
   },
   {
    "duration": 34,
    "start_time": "2021-12-15T13:57:02.891Z"
   },
   {
    "duration": 11,
    "start_time": "2021-12-15T13:57:02.928Z"
   },
   {
    "duration": 8,
    "start_time": "2021-12-15T13:57:02.942Z"
   },
   {
    "duration": 189,
    "start_time": "2021-12-15T13:57:02.952Z"
   },
   {
    "duration": 8,
    "start_time": "2021-12-15T13:57:03.144Z"
   },
   {
    "duration": 153,
    "start_time": "2021-12-15T13:57:03.155Z"
   },
   {
    "duration": 140,
    "start_time": "2021-12-15T13:57:03.310Z"
   },
   {
    "duration": 3,
    "start_time": "2021-12-15T13:57:03.453Z"
   },
   {
    "duration": 17,
    "start_time": "2021-12-15T13:57:03.458Z"
   },
   {
    "duration": 21,
    "start_time": "2021-12-15T13:57:03.477Z"
   },
   {
    "duration": 47,
    "start_time": "2021-12-15T13:57:03.500Z"
   },
   {
    "duration": 7,
    "start_time": "2021-12-15T13:57:03.549Z"
   },
   {
    "duration": 2576,
    "start_time": "2021-12-15T14:43:43.930Z"
   },
   {
    "duration": 2507,
    "start_time": "2021-12-15T14:45:36.487Z"
   },
   {
    "duration": 2768,
    "start_time": "2021-12-15T14:46:05.338Z"
   },
   {
    "duration": 2478,
    "start_time": "2021-12-15T14:46:44.307Z"
   },
   {
    "duration": 7,
    "start_time": "2021-12-15T14:46:54.676Z"
   },
   {
    "duration": 301,
    "start_time": "2021-12-15T17:46:15.953Z"
   },
   {
    "duration": 665,
    "start_time": "2021-12-15T17:46:19.005Z"
   },
   {
    "duration": 55,
    "start_time": "2021-12-15T17:46:19.672Z"
   },
   {
    "duration": 121,
    "start_time": "2021-12-15T17:46:19.729Z"
   },
   {
    "duration": 18,
    "start_time": "2021-12-15T17:46:19.852Z"
   },
   {
    "duration": 36,
    "start_time": "2021-12-15T17:46:19.872Z"
   },
   {
    "duration": 47,
    "start_time": "2021-12-15T17:46:19.910Z"
   },
   {
    "duration": 20,
    "start_time": "2021-12-15T17:46:19.960Z"
   },
   {
    "duration": 16,
    "start_time": "2021-12-15T17:46:19.983Z"
   },
   {
    "duration": 12,
    "start_time": "2021-12-15T17:46:20.001Z"
   },
   {
    "duration": 66,
    "start_time": "2021-12-15T17:46:20.015Z"
   },
   {
    "duration": 107,
    "start_time": "2021-12-15T17:46:20.083Z"
   },
   {
    "duration": 52,
    "start_time": "2021-12-15T17:46:20.192Z"
   },
   {
    "duration": 79,
    "start_time": "2021-12-15T17:46:20.246Z"
   },
   {
    "duration": 67,
    "start_time": "2021-12-15T17:46:20.327Z"
   },
   {
    "duration": 179,
    "start_time": "2021-12-15T17:46:20.396Z"
   },
   {
    "duration": 49,
    "start_time": "2021-12-15T17:46:20.577Z"
   },
   {
    "duration": 58,
    "start_time": "2021-12-15T17:46:20.628Z"
   },
   {
    "duration": 44,
    "start_time": "2021-12-15T17:46:20.688Z"
   },
   {
    "duration": 63,
    "start_time": "2021-12-15T17:46:20.734Z"
   },
   {
    "duration": 80,
    "start_time": "2021-12-15T17:46:20.799Z"
   },
   {
    "duration": 36,
    "start_time": "2021-12-15T17:46:20.881Z"
   },
   {
    "duration": 97,
    "start_time": "2021-12-15T17:46:20.919Z"
   },
   {
    "duration": 27,
    "start_time": "2021-12-15T17:46:21.020Z"
   },
   {
    "duration": 47,
    "start_time": "2021-12-15T17:46:21.050Z"
   },
   {
    "duration": 52,
    "start_time": "2021-12-15T17:46:21.099Z"
   },
   {
    "duration": 27,
    "start_time": "2021-12-15T17:46:21.153Z"
   },
   {
    "duration": 36,
    "start_time": "2021-12-15T17:46:21.182Z"
   },
   {
    "duration": 42,
    "start_time": "2021-12-15T17:46:21.220Z"
   },
   {
    "duration": 33,
    "start_time": "2021-12-15T17:46:21.264Z"
   },
   {
    "duration": 18,
    "start_time": "2021-12-15T17:46:21.299Z"
   },
   {
    "duration": 20,
    "start_time": "2021-12-15T17:46:21.319Z"
   },
   {
    "duration": 34,
    "start_time": "2021-12-15T17:46:21.342Z"
   },
   {
    "duration": 27,
    "start_time": "2021-12-15T17:46:21.378Z"
   },
   {
    "duration": 38,
    "start_time": "2021-12-15T17:46:21.407Z"
   },
   {
    "duration": 80,
    "start_time": "2021-12-15T17:46:21.447Z"
   },
   {
    "duration": 32,
    "start_time": "2021-12-15T17:46:21.530Z"
   },
   {
    "duration": 37,
    "start_time": "2021-12-15T17:46:21.565Z"
   },
   {
    "duration": 27,
    "start_time": "2021-12-15T17:46:21.604Z"
   },
   {
    "duration": 45,
    "start_time": "2021-12-15T17:46:21.633Z"
   },
   {
    "duration": 102,
    "start_time": "2021-12-15T17:46:21.680Z"
   },
   {
    "duration": 5,
    "start_time": "2021-12-15T17:46:21.785Z"
   },
   {
    "duration": 42,
    "start_time": "2021-12-15T17:46:21.793Z"
   },
   {
    "duration": 48,
    "start_time": "2021-12-15T17:46:21.837Z"
   },
   {
    "duration": 388,
    "start_time": "2021-12-15T17:46:21.887Z"
   },
   {
    "duration": -576,
    "start_time": "2021-12-15T17:46:22.852Z"
   },
   {
    "duration": -578,
    "start_time": "2021-12-15T17:46:22.855Z"
   },
   {
    "duration": -580,
    "start_time": "2021-12-15T17:46:22.858Z"
   },
   {
    "duration": -581,
    "start_time": "2021-12-15T17:46:22.860Z"
   },
   {
    "duration": -583,
    "start_time": "2021-12-15T17:46:22.863Z"
   },
   {
    "duration": -585,
    "start_time": "2021-12-15T17:46:22.866Z"
   },
   {
    "duration": -587,
    "start_time": "2021-12-15T17:46:22.869Z"
   },
   {
    "duration": -588,
    "start_time": "2021-12-15T17:46:22.871Z"
   },
   {
    "duration": -589,
    "start_time": "2021-12-15T17:46:22.874Z"
   },
   {
    "duration": -590,
    "start_time": "2021-12-15T17:46:22.876Z"
   },
   {
    "duration": -598,
    "start_time": "2021-12-15T17:46:22.885Z"
   },
   {
    "duration": -600,
    "start_time": "2021-12-15T17:46:22.887Z"
   },
   {
    "duration": -602,
    "start_time": "2021-12-15T17:46:22.890Z"
   },
   {
    "duration": -603,
    "start_time": "2021-12-15T17:46:22.892Z"
   },
   {
    "duration": -604,
    "start_time": "2021-12-15T17:46:22.894Z"
   },
   {
    "duration": -606,
    "start_time": "2021-12-15T17:46:22.897Z"
   },
   {
    "duration": -608,
    "start_time": "2021-12-15T17:46:22.900Z"
   },
   {
    "duration": -614,
    "start_time": "2021-12-15T17:46:22.907Z"
   },
   {
    "duration": -616,
    "start_time": "2021-12-15T17:46:22.910Z"
   },
   {
    "duration": 3,
    "start_time": "2021-12-15T17:47:34.783Z"
   },
   {
    "duration": 71,
    "start_time": "2021-12-15T17:47:34.788Z"
   },
   {
    "duration": 13,
    "start_time": "2021-12-15T17:47:34.861Z"
   },
   {
    "duration": 24,
    "start_time": "2021-12-15T17:47:34.876Z"
   },
   {
    "duration": 19,
    "start_time": "2021-12-15T17:47:34.902Z"
   },
   {
    "duration": 51,
    "start_time": "2021-12-15T17:47:34.922Z"
   },
   {
    "duration": 17,
    "start_time": "2021-12-15T17:47:34.974Z"
   },
   {
    "duration": 16,
    "start_time": "2021-12-15T17:47:34.992Z"
   },
   {
    "duration": 24,
    "start_time": "2021-12-15T17:47:35.011Z"
   },
   {
    "duration": 46,
    "start_time": "2021-12-15T17:47:35.038Z"
   },
   {
    "duration": 18,
    "start_time": "2021-12-15T17:47:35.086Z"
   },
   {
    "duration": 21,
    "start_time": "2021-12-15T17:47:35.105Z"
   },
   {
    "duration": 31,
    "start_time": "2021-12-15T17:47:35.128Z"
   },
   {
    "duration": 40,
    "start_time": "2021-12-15T17:47:35.161Z"
   },
   {
    "duration": 41,
    "start_time": "2021-12-15T17:47:35.203Z"
   },
   {
    "duration": 8,
    "start_time": "2021-12-15T17:47:35.246Z"
   },
   {
    "duration": 13,
    "start_time": "2021-12-15T17:47:35.256Z"
   },
   {
    "duration": 11,
    "start_time": "2021-12-15T17:47:35.271Z"
   },
   {
    "duration": 15,
    "start_time": "2021-12-15T17:47:35.284Z"
   },
   {
    "duration": 61,
    "start_time": "2021-12-15T17:47:35.301Z"
   },
   {
    "duration": 10,
    "start_time": "2021-12-15T17:47:35.364Z"
   },
   {
    "duration": 16,
    "start_time": "2021-12-15T17:47:35.376Z"
   },
   {
    "duration": 4,
    "start_time": "2021-12-15T17:47:35.394Z"
   },
   {
    "duration": 13,
    "start_time": "2021-12-15T17:47:35.400Z"
   },
   {
    "duration": 50,
    "start_time": "2021-12-15T17:47:35.415Z"
   },
   {
    "duration": 7,
    "start_time": "2021-12-15T17:47:35.467Z"
   },
   {
    "duration": 6,
    "start_time": "2021-12-15T17:47:35.480Z"
   },
   {
    "duration": 20,
    "start_time": "2021-12-15T17:47:35.488Z"
   },
   {
    "duration": 36,
    "start_time": "2021-12-15T17:47:35.510Z"
   },
   {
    "duration": 8,
    "start_time": "2021-12-15T17:47:35.547Z"
   },
   {
    "duration": 7,
    "start_time": "2021-12-15T17:47:35.557Z"
   },
   {
    "duration": 8,
    "start_time": "2021-12-15T17:47:35.566Z"
   },
   {
    "duration": 6,
    "start_time": "2021-12-15T17:47:35.576Z"
   },
   {
    "duration": 17,
    "start_time": "2021-12-15T17:47:35.584Z"
   },
   {
    "duration": 57,
    "start_time": "2021-12-15T17:47:35.602Z"
   },
   {
    "duration": 10,
    "start_time": "2021-12-15T17:47:35.661Z"
   },
   {
    "duration": 9,
    "start_time": "2021-12-15T17:47:35.673Z"
   },
   {
    "duration": 8,
    "start_time": "2021-12-15T17:47:35.683Z"
   },
   {
    "duration": 11,
    "start_time": "2021-12-15T17:47:35.693Z"
   },
   {
    "duration": 64,
    "start_time": "2021-12-15T17:47:35.706Z"
   },
   {
    "duration": 5,
    "start_time": "2021-12-15T17:47:35.772Z"
   },
   {
    "duration": 8,
    "start_time": "2021-12-15T17:47:35.779Z"
   },
   {
    "duration": 6,
    "start_time": "2021-12-15T17:47:35.789Z"
   },
   {
    "duration": 23,
    "start_time": "2021-12-15T17:47:35.797Z"
   },
   {
    "duration": 25,
    "start_time": "2021-12-15T17:47:35.821Z"
   },
   {
    "duration": 29,
    "start_time": "2021-12-15T17:47:35.847Z"
   },
   {
    "duration": 4,
    "start_time": "2021-12-15T17:47:35.878Z"
   },
   {
    "duration": 15,
    "start_time": "2021-12-15T17:47:35.884Z"
   },
   {
    "duration": 58,
    "start_time": "2021-12-15T17:47:35.901Z"
   },
   {
    "duration": 18,
    "start_time": "2021-12-15T17:47:35.960Z"
   },
   {
    "duration": 21,
    "start_time": "2021-12-15T17:47:35.980Z"
   },
   {
    "duration": 49,
    "start_time": "2021-12-15T17:47:36.003Z"
   },
   {
    "duration": 29,
    "start_time": "2021-12-15T17:47:36.054Z"
   },
   {
    "duration": 114,
    "start_time": "2021-12-15T17:47:36.085Z"
   },
   {
    "duration": 8,
    "start_time": "2021-12-15T17:47:36.201Z"
   },
   {
    "duration": 637,
    "start_time": "2021-12-15T17:47:36.210Z"
   },
   {
    "duration": -1237,
    "start_time": "2021-12-15T17:47:38.086Z"
   },
   {
    "duration": -1240,
    "start_time": "2021-12-15T17:47:38.090Z"
   },
   {
    "duration": -1244,
    "start_time": "2021-12-15T17:47:38.095Z"
   },
   {
    "duration": -1246,
    "start_time": "2021-12-15T17:47:38.098Z"
   },
   {
    "duration": -1249,
    "start_time": "2021-12-15T17:47:38.101Z"
   },
   {
    "duration": -1252,
    "start_time": "2021-12-15T17:47:38.105Z"
   },
   {
    "duration": -1253,
    "start_time": "2021-12-15T17:47:38.107Z"
   },
   {
    "duration": 2,
    "start_time": "2021-12-15T17:48:06.590Z"
   },
   {
    "duration": 75,
    "start_time": "2021-12-15T17:48:06.594Z"
   },
   {
    "duration": 12,
    "start_time": "2021-12-15T17:48:06.671Z"
   },
   {
    "duration": 25,
    "start_time": "2021-12-15T17:48:06.685Z"
   },
   {
    "duration": 12,
    "start_time": "2021-12-15T17:48:06.712Z"
   },
   {
    "duration": 44,
    "start_time": "2021-12-15T17:48:06.726Z"
   },
   {
    "duration": 17,
    "start_time": "2021-12-15T17:48:06.772Z"
   },
   {
    "duration": 15,
    "start_time": "2021-12-15T17:48:06.790Z"
   },
   {
    "duration": 6,
    "start_time": "2021-12-15T17:48:06.807Z"
   },
   {
    "duration": 21,
    "start_time": "2021-12-15T17:48:06.844Z"
   },
   {
    "duration": 16,
    "start_time": "2021-12-15T17:48:06.866Z"
   },
   {
    "duration": 3,
    "start_time": "2021-12-15T17:48:06.884Z"
   },
   {
    "duration": 58,
    "start_time": "2021-12-15T17:48:06.889Z"
   },
   {
    "duration": 42,
    "start_time": "2021-12-15T17:48:06.949Z"
   },
   {
    "duration": 19,
    "start_time": "2021-12-15T17:48:06.992Z"
   },
   {
    "duration": 9,
    "start_time": "2021-12-15T17:48:07.012Z"
   },
   {
    "duration": 13,
    "start_time": "2021-12-15T17:48:07.044Z"
   },
   {
    "duration": 11,
    "start_time": "2021-12-15T17:48:07.059Z"
   },
   {
    "duration": 9,
    "start_time": "2021-12-15T17:48:07.075Z"
   },
   {
    "duration": 26,
    "start_time": "2021-12-15T17:48:07.087Z"
   },
   {
    "duration": 34,
    "start_time": "2021-12-15T17:48:07.115Z"
   },
   {
    "duration": 16,
    "start_time": "2021-12-15T17:48:07.150Z"
   },
   {
    "duration": 3,
    "start_time": "2021-12-15T17:48:07.168Z"
   },
   {
    "duration": 14,
    "start_time": "2021-12-15T17:48:07.173Z"
   },
   {
    "duration": 23,
    "start_time": "2021-12-15T17:48:07.189Z"
   },
   {
    "duration": 9,
    "start_time": "2021-12-15T17:48:07.245Z"
   },
   {
    "duration": 6,
    "start_time": "2021-12-15T17:48:07.256Z"
   },
   {
    "duration": 18,
    "start_time": "2021-12-15T17:48:07.264Z"
   },
   {
    "duration": 8,
    "start_time": "2021-12-15T17:48:07.284Z"
   },
   {
    "duration": 6,
    "start_time": "2021-12-15T17:48:07.293Z"
   },
   {
    "duration": 48,
    "start_time": "2021-12-15T17:48:07.301Z"
   },
   {
    "duration": 7,
    "start_time": "2021-12-15T17:48:07.351Z"
   },
   {
    "duration": 6,
    "start_time": "2021-12-15T17:48:07.360Z"
   },
   {
    "duration": 16,
    "start_time": "2021-12-15T17:48:07.367Z"
   },
   {
    "duration": 13,
    "start_time": "2021-12-15T17:48:07.385Z"
   },
   {
    "duration": 9,
    "start_time": "2021-12-15T17:48:07.400Z"
   },
   {
    "duration": 36,
    "start_time": "2021-12-15T17:48:07.411Z"
   },
   {
    "duration": 5,
    "start_time": "2021-12-15T17:48:07.449Z"
   },
   {
    "duration": 9,
    "start_time": "2021-12-15T17:48:07.456Z"
   },
   {
    "duration": 46,
    "start_time": "2021-12-15T17:48:07.467Z"
   },
   {
    "duration": 34,
    "start_time": "2021-12-15T17:48:07.514Z"
   },
   {
    "duration": 10,
    "start_time": "2021-12-15T17:48:07.550Z"
   },
   {
    "duration": 7,
    "start_time": "2021-12-15T17:48:07.562Z"
   },
   {
    "duration": 20,
    "start_time": "2021-12-15T17:48:07.571Z"
   },
   {
    "duration": 5,
    "start_time": "2021-12-15T17:48:07.593Z"
   },
   {
    "duration": 45,
    "start_time": "2021-12-15T17:48:07.600Z"
   },
   {
    "duration": 5,
    "start_time": "2021-12-15T17:48:07.647Z"
   },
   {
    "duration": 48,
    "start_time": "2021-12-15T17:48:07.654Z"
   },
   {
    "duration": 37,
    "start_time": "2021-12-15T17:48:07.705Z"
   },
   {
    "duration": 16,
    "start_time": "2021-12-15T17:48:07.743Z"
   },
   {
    "duration": 52,
    "start_time": "2021-12-15T17:48:07.761Z"
   },
   {
    "duration": 24,
    "start_time": "2021-12-15T17:48:07.815Z"
   },
   {
    "duration": 22,
    "start_time": "2021-12-15T17:48:07.841Z"
   },
   {
    "duration": 97,
    "start_time": "2021-12-15T17:48:07.865Z"
   },
   {
    "duration": 8,
    "start_time": "2021-12-15T17:48:07.968Z"
   },
   {
    "duration": 100,
    "start_time": "2021-12-15T17:48:07.978Z"
   },
   {
    "duration": 286,
    "start_time": "2021-12-15T17:48:08.080Z"
   },
   {
    "duration": -576,
    "start_time": "2021-12-15T17:48:08.944Z"
   },
   {
    "duration": -581,
    "start_time": "2021-12-15T17:48:08.950Z"
   },
   {
    "duration": -585,
    "start_time": "2021-12-15T17:48:08.955Z"
   },
   {
    "duration": -589,
    "start_time": "2021-12-15T17:48:08.960Z"
   },
   {
    "duration": -591,
    "start_time": "2021-12-15T17:48:08.963Z"
   },
   {
    "duration": -604,
    "start_time": "2021-12-15T17:48:08.977Z"
   },
   {
    "duration": 2,
    "start_time": "2021-12-15T17:48:36.152Z"
   },
   {
    "duration": 81,
    "start_time": "2021-12-15T17:48:36.156Z"
   },
   {
    "duration": 13,
    "start_time": "2021-12-15T17:48:36.239Z"
   },
   {
    "duration": 43,
    "start_time": "2021-12-15T17:48:36.254Z"
   },
   {
    "duration": 30,
    "start_time": "2021-12-15T17:48:36.299Z"
   },
   {
    "duration": 53,
    "start_time": "2021-12-15T17:48:36.331Z"
   },
   {
    "duration": 34,
    "start_time": "2021-12-15T17:48:36.387Z"
   },
   {
    "duration": 41,
    "start_time": "2021-12-15T17:48:36.423Z"
   },
   {
    "duration": 38,
    "start_time": "2021-12-15T17:48:36.466Z"
   },
   {
    "duration": 52,
    "start_time": "2021-12-15T17:48:36.505Z"
   },
   {
    "duration": 59,
    "start_time": "2021-12-15T17:48:36.559Z"
   },
   {
    "duration": 62,
    "start_time": "2021-12-15T17:48:36.620Z"
   },
   {
    "duration": 40,
    "start_time": "2021-12-15T17:48:36.684Z"
   },
   {
    "duration": 66,
    "start_time": "2021-12-15T17:48:36.726Z"
   },
   {
    "duration": 39,
    "start_time": "2021-12-15T17:48:36.794Z"
   },
   {
    "duration": 32,
    "start_time": "2021-12-15T17:48:36.834Z"
   },
   {
    "duration": 50,
    "start_time": "2021-12-15T17:48:36.867Z"
   },
   {
    "duration": 45,
    "start_time": "2021-12-15T17:48:36.918Z"
   },
   {
    "duration": 33,
    "start_time": "2021-12-15T17:48:36.968Z"
   },
   {
    "duration": 66,
    "start_time": "2021-12-15T17:48:37.004Z"
   },
   {
    "duration": 17,
    "start_time": "2021-12-15T17:48:37.072Z"
   },
   {
    "duration": 62,
    "start_time": "2021-12-15T17:48:37.090Z"
   },
   {
    "duration": 40,
    "start_time": "2021-12-15T17:48:37.153Z"
   },
   {
    "duration": 54,
    "start_time": "2021-12-15T17:48:37.194Z"
   },
   {
    "duration": 47,
    "start_time": "2021-12-15T17:48:37.250Z"
   },
   {
    "duration": 48,
    "start_time": "2021-12-15T17:48:37.299Z"
   },
   {
    "duration": 39,
    "start_time": "2021-12-15T17:48:37.349Z"
   },
   {
    "duration": 48,
    "start_time": "2021-12-15T17:48:37.389Z"
   },
   {
    "duration": 26,
    "start_time": "2021-12-15T17:48:37.438Z"
   },
   {
    "duration": 53,
    "start_time": "2021-12-15T17:48:37.466Z"
   },
   {
    "duration": 39,
    "start_time": "2021-12-15T17:48:37.520Z"
   },
   {
    "duration": 46,
    "start_time": "2021-12-15T17:48:37.561Z"
   },
   {
    "duration": 48,
    "start_time": "2021-12-15T17:48:37.609Z"
   },
   {
    "duration": 41,
    "start_time": "2021-12-15T17:48:37.659Z"
   },
   {
    "duration": 53,
    "start_time": "2021-12-15T17:48:37.702Z"
   },
   {
    "duration": 46,
    "start_time": "2021-12-15T17:48:37.757Z"
   },
   {
    "duration": 28,
    "start_time": "2021-12-15T17:48:37.805Z"
   },
   {
    "duration": 20,
    "start_time": "2021-12-15T17:48:37.835Z"
   },
   {
    "duration": 39,
    "start_time": "2021-12-15T17:48:37.857Z"
   },
   {
    "duration": 74,
    "start_time": "2021-12-15T17:48:37.898Z"
   },
   {
    "duration": 6,
    "start_time": "2021-12-15T17:48:37.974Z"
   },
   {
    "duration": 45,
    "start_time": "2021-12-15T17:48:37.982Z"
   },
   {
    "duration": 43,
    "start_time": "2021-12-15T17:48:38.029Z"
   },
   {
    "duration": 50,
    "start_time": "2021-12-15T17:48:38.074Z"
   },
   {
    "duration": 22,
    "start_time": "2021-12-15T17:48:38.126Z"
   },
   {
    "duration": 43,
    "start_time": "2021-12-15T17:48:38.150Z"
   },
   {
    "duration": 23,
    "start_time": "2021-12-15T17:48:38.196Z"
   },
   {
    "duration": 38,
    "start_time": "2021-12-15T17:48:38.221Z"
   },
   {
    "duration": 76,
    "start_time": "2021-12-15T17:48:38.261Z"
   },
   {
    "duration": 40,
    "start_time": "2021-12-15T17:48:38.339Z"
   },
   {
    "duration": 61,
    "start_time": "2021-12-15T17:48:38.381Z"
   },
   {
    "duration": 59,
    "start_time": "2021-12-15T17:48:38.444Z"
   },
   {
    "duration": 58,
    "start_time": "2021-12-15T17:48:38.505Z"
   },
   {
    "duration": 134,
    "start_time": "2021-12-15T17:48:38.565Z"
   },
   {
    "duration": 38,
    "start_time": "2021-12-15T17:48:38.703Z"
   },
   {
    "duration": 126,
    "start_time": "2021-12-15T17:48:38.743Z"
   },
   {
    "duration": 79,
    "start_time": "2021-12-15T17:48:38.871Z"
   },
   {
    "duration": 2,
    "start_time": "2021-12-15T17:48:38.952Z"
   },
   {
    "duration": 48,
    "start_time": "2021-12-15T17:48:38.956Z"
   },
   {
    "duration": 73,
    "start_time": "2021-12-15T17:48:39.006Z"
   },
   {
    "duration": 81,
    "start_time": "2021-12-15T17:48:39.080Z"
   },
   {
    "duration": 23,
    "start_time": "2021-12-15T17:48:39.163Z"
   },
   {
    "duration": 24,
    "start_time": "2021-12-15T17:48:39.188Z"
   },
   {
    "duration": 5,
    "start_time": "2021-12-15T17:58:18.676Z"
   },
   {
    "duration": 4,
    "start_time": "2021-12-15T17:59:19.876Z"
   },
   {
    "duration": 9504,
    "start_time": "2021-12-15T18:09:41.341Z"
   },
   {
    "duration": -583,
    "start_time": "2021-12-15T18:09:51.431Z"
   },
   {
    "duration": 4,
    "start_time": "2021-12-15T18:10:15.670Z"
   },
   {
    "duration": 13,
    "start_time": "2021-12-15T18:12:28.088Z"
   },
   {
    "duration": 7,
    "start_time": "2021-12-15T18:12:38.250Z"
   },
   {
    "duration": 5,
    "start_time": "2021-12-15T18:13:03.197Z"
   },
   {
    "duration": 8,
    "start_time": "2021-12-15T18:13:08.352Z"
   },
   {
    "duration": 35,
    "start_time": "2021-12-15T18:13:14.140Z"
   },
   {
    "duration": 19,
    "start_time": "2021-12-15T18:14:17.813Z"
   },
   {
    "duration": 14,
    "start_time": "2021-12-15T18:20:20.698Z"
   },
   {
    "duration": 2,
    "start_time": "2021-12-15T18:20:31.976Z"
   },
   {
    "duration": 59,
    "start_time": "2021-12-15T18:20:31.980Z"
   },
   {
    "duration": 20,
    "start_time": "2021-12-15T18:20:32.041Z"
   },
   {
    "duration": 5,
    "start_time": "2021-12-15T18:20:32.063Z"
   },
   {
    "duration": 12,
    "start_time": "2021-12-15T18:20:32.070Z"
   },
   {
    "duration": 76,
    "start_time": "2021-12-15T18:20:32.084Z"
   },
   {
    "duration": 21,
    "start_time": "2021-12-15T18:20:32.162Z"
   },
   {
    "duration": 22,
    "start_time": "2021-12-15T18:20:32.185Z"
   },
   {
    "duration": 8,
    "start_time": "2021-12-15T18:20:32.209Z"
   },
   {
    "duration": 54,
    "start_time": "2021-12-15T18:20:32.219Z"
   },
   {
    "duration": 17,
    "start_time": "2021-12-15T18:20:32.275Z"
   },
   {
    "duration": 20,
    "start_time": "2021-12-15T18:20:32.293Z"
   },
   {
    "duration": 46,
    "start_time": "2021-12-15T18:20:32.315Z"
   },
   {
    "duration": 48,
    "start_time": "2021-12-15T18:20:32.364Z"
   },
   {
    "duration": 34,
    "start_time": "2021-12-15T18:20:32.413Z"
   },
   {
    "duration": 11,
    "start_time": "2021-12-15T18:20:32.449Z"
   },
   {
    "duration": 19,
    "start_time": "2021-12-15T18:20:32.463Z"
   },
   {
    "duration": 32,
    "start_time": "2021-12-15T18:20:32.483Z"
   },
   {
    "duration": 25,
    "start_time": "2021-12-15T18:20:32.516Z"
   },
   {
    "duration": 39,
    "start_time": "2021-12-15T18:20:32.543Z"
   },
   {
    "duration": 9,
    "start_time": "2021-12-15T18:20:32.583Z"
   },
   {
    "duration": 17,
    "start_time": "2021-12-15T18:20:32.594Z"
   },
   {
    "duration": 3,
    "start_time": "2021-12-15T18:20:32.616Z"
   },
   {
    "duration": 27,
    "start_time": "2021-12-15T18:20:32.621Z"
   },
   {
    "duration": 27,
    "start_time": "2021-12-15T18:20:32.652Z"
   },
   {
    "duration": 9,
    "start_time": "2021-12-15T18:20:32.681Z"
   },
   {
    "duration": 8,
    "start_time": "2021-12-15T18:20:32.692Z"
   },
   {
    "duration": 45,
    "start_time": "2021-12-15T18:20:32.701Z"
   },
   {
    "duration": 13,
    "start_time": "2021-12-15T18:20:32.748Z"
   },
   {
    "duration": 6,
    "start_time": "2021-12-15T18:20:32.763Z"
   },
   {
    "duration": 7,
    "start_time": "2021-12-15T18:20:32.771Z"
   },
   {
    "duration": 7,
    "start_time": "2021-12-15T18:20:32.780Z"
   },
   {
    "duration": 5,
    "start_time": "2021-12-15T18:20:32.789Z"
   },
   {
    "duration": 61,
    "start_time": "2021-12-15T18:20:32.796Z"
   },
   {
    "duration": 14,
    "start_time": "2021-12-15T18:20:32.859Z"
   },
   {
    "duration": 7,
    "start_time": "2021-12-15T18:20:32.875Z"
   },
   {
    "duration": 4,
    "start_time": "2021-12-15T18:20:32.883Z"
   },
   {
    "duration": 5,
    "start_time": "2021-12-15T18:20:32.889Z"
   },
   {
    "duration": 8,
    "start_time": "2021-12-15T18:20:32.896Z"
   },
   {
    "duration": 83,
    "start_time": "2021-12-15T18:20:32.906Z"
   },
   {
    "duration": 6,
    "start_time": "2021-12-15T18:20:32.990Z"
   },
   {
    "duration": 7,
    "start_time": "2021-12-15T18:20:32.997Z"
   },
   {
    "duration": 11,
    "start_time": "2021-12-15T18:20:33.006Z"
   },
   {
    "duration": 36,
    "start_time": "2021-12-15T18:20:33.019Z"
   },
   {
    "duration": 7,
    "start_time": "2021-12-15T18:20:33.058Z"
   },
   {
    "duration": 44,
    "start_time": "2021-12-15T18:20:33.067Z"
   },
   {
    "duration": 3,
    "start_time": "2021-12-15T18:20:33.113Z"
   },
   {
    "duration": 15,
    "start_time": "2021-12-15T18:20:33.118Z"
   },
   {
    "duration": 37,
    "start_time": "2021-12-15T18:20:33.144Z"
   },
   {
    "duration": 16,
    "start_time": "2021-12-15T18:20:33.183Z"
   },
   {
    "duration": 48,
    "start_time": "2021-12-15T18:20:33.201Z"
   },
   {
    "duration": 28,
    "start_time": "2021-12-15T18:20:33.252Z"
   },
   {
    "duration": 24,
    "start_time": "2021-12-15T18:20:33.282Z"
   },
   {
    "duration": 113,
    "start_time": "2021-12-15T18:20:33.308Z"
   },
   {
    "duration": 22,
    "start_time": "2021-12-15T18:20:33.423Z"
   },
   {
    "duration": 82,
    "start_time": "2021-12-15T18:20:33.448Z"
   },
   {
    "duration": 82,
    "start_time": "2021-12-15T18:20:33.547Z"
   },
   {
    "duration": 2,
    "start_time": "2021-12-15T18:20:33.631Z"
   },
   {
    "duration": 10,
    "start_time": "2021-12-15T18:20:33.635Z"
   },
   {
    "duration": 15,
    "start_time": "2021-12-15T18:20:33.648Z"
   },
   {
    "duration": 25,
    "start_time": "2021-12-15T18:20:33.665Z"
   },
   {
    "duration": 4,
    "start_time": "2021-12-15T18:20:33.691Z"
   },
   {
    "duration": 4,
    "start_time": "2021-12-15T18:20:33.697Z"
   },
   {
    "duration": 55,
    "start_time": "2021-12-15T18:20:33.703Z"
   },
   {
    "duration": 13,
    "start_time": "2021-12-15T18:34:33.000Z"
   },
   {
    "duration": 12,
    "start_time": "2021-12-15T18:34:50.555Z"
   },
   {
    "duration": 18,
    "start_time": "2021-12-15T18:40:14.311Z"
   },
   {
    "duration": 17,
    "start_time": "2021-12-15T18:41:32.587Z"
   },
   {
    "duration": 17,
    "start_time": "2021-12-15T18:41:45.827Z"
   },
   {
    "duration": 16,
    "start_time": "2021-12-15T18:41:54.391Z"
   },
   {
    "duration": 8,
    "start_time": "2021-12-15T18:44:09.338Z"
   },
   {
    "duration": 11,
    "start_time": "2021-12-15T19:09:43.264Z"
   },
   {
    "duration": 2,
    "start_time": "2021-12-15T19:09:47.044Z"
   },
   {
    "duration": 49,
    "start_time": "2021-12-15T19:09:47.173Z"
   },
   {
    "duration": 12,
    "start_time": "2021-12-15T19:09:47.224Z"
   },
   {
    "duration": 6,
    "start_time": "2021-12-15T19:09:47.238Z"
   },
   {
    "duration": 13,
    "start_time": "2021-12-15T19:09:47.246Z"
   },
   {
    "duration": 31,
    "start_time": "2021-12-15T19:09:47.261Z"
   },
   {
    "duration": 16,
    "start_time": "2021-12-15T19:09:47.293Z"
   },
   {
    "duration": 41,
    "start_time": "2021-12-15T19:09:47.311Z"
   },
   {
    "duration": 8,
    "start_time": "2021-12-15T19:09:47.354Z"
   },
   {
    "duration": 26,
    "start_time": "2021-12-15T19:09:47.365Z"
   },
   {
    "duration": 57,
    "start_time": "2021-12-15T19:09:47.393Z"
   },
   {
    "duration": 4,
    "start_time": "2021-12-15T19:09:47.452Z"
   },
   {
    "duration": 30,
    "start_time": "2021-12-15T19:09:47.458Z"
   },
   {
    "duration": 55,
    "start_time": "2021-12-15T19:09:47.489Z"
   },
   {
    "duration": 41,
    "start_time": "2021-12-15T19:09:47.546Z"
   },
   {
    "duration": 8,
    "start_time": "2021-12-15T19:09:47.589Z"
   },
   {
    "duration": 25,
    "start_time": "2021-12-15T19:09:47.598Z"
   },
   {
    "duration": 30,
    "start_time": "2021-12-15T19:09:47.625Z"
   },
   {
    "duration": 10,
    "start_time": "2021-12-15T19:09:47.657Z"
   },
   {
    "duration": 34,
    "start_time": "2021-12-15T19:09:47.669Z"
   },
   {
    "duration": 10,
    "start_time": "2021-12-15T19:09:47.705Z"
   },
   {
    "duration": 29,
    "start_time": "2021-12-15T19:09:47.717Z"
   },
   {
    "duration": 3,
    "start_time": "2021-12-15T19:09:47.748Z"
   },
   {
    "duration": 13,
    "start_time": "2021-12-15T19:09:47.753Z"
   },
   {
    "duration": 22,
    "start_time": "2021-12-15T19:09:47.767Z"
   },
   {
    "duration": 8,
    "start_time": "2021-12-15T19:09:47.791Z"
   },
   {
    "duration": 6,
    "start_time": "2021-12-15T19:09:47.800Z"
   },
   {
    "duration": 41,
    "start_time": "2021-12-15T19:09:47.810Z"
   },
   {
    "duration": 8,
    "start_time": "2021-12-15T19:09:47.853Z"
   },
   {
    "duration": 20,
    "start_time": "2021-12-15T19:09:47.863Z"
   },
   {
    "duration": 21,
    "start_time": "2021-12-15T19:09:47.885Z"
   },
   {
    "duration": 11,
    "start_time": "2021-12-15T19:09:47.908Z"
   },
   {
    "duration": 12,
    "start_time": "2021-12-15T19:09:47.921Z"
   },
   {
    "duration": 30,
    "start_time": "2021-12-15T19:09:47.934Z"
   },
   {
    "duration": 40,
    "start_time": "2021-12-15T19:09:47.965Z"
   },
   {
    "duration": 13,
    "start_time": "2021-12-15T19:09:48.007Z"
   },
   {
    "duration": 22,
    "start_time": "2021-12-15T19:09:48.022Z"
   },
   {
    "duration": 15,
    "start_time": "2021-12-15T19:09:48.046Z"
   },
   {
    "duration": 25,
    "start_time": "2021-12-15T19:09:48.063Z"
   },
   {
    "duration": 58,
    "start_time": "2021-12-15T19:09:48.090Z"
   },
   {
    "duration": 6,
    "start_time": "2021-12-15T19:09:48.150Z"
   },
   {
    "duration": 6,
    "start_time": "2021-12-15T19:09:48.158Z"
   },
   {
    "duration": 6,
    "start_time": "2021-12-15T19:09:48.166Z"
   },
   {
    "duration": 28,
    "start_time": "2021-12-15T19:09:48.174Z"
   },
   {
    "duration": 5,
    "start_time": "2021-12-15T19:09:48.204Z"
   },
   {
    "duration": 41,
    "start_time": "2021-12-15T19:09:48.211Z"
   },
   {
    "duration": 4,
    "start_time": "2021-12-15T19:09:48.254Z"
   },
   {
    "duration": 18,
    "start_time": "2021-12-15T19:09:48.260Z"
   },
   {
    "duration": 30,
    "start_time": "2021-12-15T19:09:48.279Z"
   },
   {
    "duration": 35,
    "start_time": "2021-12-15T19:09:48.311Z"
   },
   {
    "duration": 22,
    "start_time": "2021-12-15T19:09:48.347Z"
   },
   {
    "duration": 25,
    "start_time": "2021-12-15T19:09:48.371Z"
   },
   {
    "duration": 48,
    "start_time": "2021-12-15T19:09:48.398Z"
   },
   {
    "duration": 98,
    "start_time": "2021-12-15T19:09:48.448Z"
   },
   {
    "duration": 9,
    "start_time": "2021-12-15T19:09:48.548Z"
   },
   {
    "duration": 92,
    "start_time": "2021-12-15T19:09:48.559Z"
   },
   {
    "duration": 93,
    "start_time": "2021-12-15T19:09:48.653Z"
   },
   {
    "duration": 2,
    "start_time": "2021-12-15T19:09:48.748Z"
   },
   {
    "duration": 17,
    "start_time": "2021-12-15T19:09:48.752Z"
   },
   {
    "duration": 27,
    "start_time": "2021-12-15T19:09:48.770Z"
   },
   {
    "duration": 29,
    "start_time": "2021-12-15T19:09:48.799Z"
   },
   {
    "duration": 5,
    "start_time": "2021-12-15T19:09:48.830Z"
   },
   {
    "duration": 15,
    "start_time": "2021-12-15T19:09:48.844Z"
   },
   {
    "duration": 23,
    "start_time": "2021-12-15T19:09:48.860Z"
   },
   {
    "duration": 18,
    "start_time": "2021-12-15T19:09:48.885Z"
   },
   {
    "duration": 7,
    "start_time": "2021-12-15T19:09:48.905Z"
   },
   {
    "duration": 3,
    "start_time": "2021-12-15T19:11:55.620Z"
   },
   {
    "duration": 83,
    "start_time": "2021-12-15T19:11:55.625Z"
   },
   {
    "duration": 38,
    "start_time": "2021-12-15T19:11:55.711Z"
   },
   {
    "duration": 23,
    "start_time": "2021-12-15T19:11:55.751Z"
   },
   {
    "duration": 21,
    "start_time": "2021-12-15T19:11:55.777Z"
   },
   {
    "duration": 63,
    "start_time": "2021-12-15T19:11:55.800Z"
   },
   {
    "duration": 22,
    "start_time": "2021-12-15T19:11:55.865Z"
   },
   {
    "duration": 24,
    "start_time": "2021-12-15T19:11:55.889Z"
   },
   {
    "duration": 23,
    "start_time": "2021-12-15T19:11:55.915Z"
   },
   {
    "duration": 33,
    "start_time": "2021-12-15T19:11:55.940Z"
   },
   {
    "duration": 20,
    "start_time": "2021-12-15T19:11:55.975Z"
   },
   {
    "duration": 26,
    "start_time": "2021-12-15T19:11:55.997Z"
   },
   {
    "duration": 29,
    "start_time": "2021-12-15T19:11:56.025Z"
   },
   {
    "duration": 43,
    "start_time": "2021-12-15T19:11:56.056Z"
   },
   {
    "duration": 39,
    "start_time": "2021-12-15T19:11:56.101Z"
   },
   {
    "duration": 25,
    "start_time": "2021-12-15T19:11:56.141Z"
   },
   {
    "duration": 12,
    "start_time": "2021-12-15T19:11:56.168Z"
   },
   {
    "duration": 26,
    "start_time": "2021-12-15T19:11:56.182Z"
   },
   {
    "duration": 34,
    "start_time": "2021-12-15T19:11:56.210Z"
   },
   {
    "duration": 53,
    "start_time": "2021-12-15T19:11:56.246Z"
   },
   {
    "duration": 12,
    "start_time": "2021-12-15T19:11:56.301Z"
   },
   {
    "duration": 54,
    "start_time": "2021-12-15T19:11:56.314Z"
   },
   {
    "duration": 4,
    "start_time": "2021-12-15T19:11:56.372Z"
   },
   {
    "duration": 27,
    "start_time": "2021-12-15T19:11:56.379Z"
   },
   {
    "duration": 53,
    "start_time": "2021-12-15T19:11:56.408Z"
   },
   {
    "duration": 16,
    "start_time": "2021-12-15T19:11:56.463Z"
   },
   {
    "duration": 25,
    "start_time": "2021-12-15T19:11:56.481Z"
   },
   {
    "duration": 42,
    "start_time": "2021-12-15T19:11:56.508Z"
   },
   {
    "duration": 9,
    "start_time": "2021-12-15T19:11:56.552Z"
   },
   {
    "duration": 9,
    "start_time": "2021-12-15T19:11:56.563Z"
   },
   {
    "duration": 32,
    "start_time": "2021-12-15T19:11:56.574Z"
   },
   {
    "duration": 9,
    "start_time": "2021-12-15T19:11:56.608Z"
   },
   {
    "duration": 23,
    "start_time": "2021-12-15T19:11:56.618Z"
   },
   {
    "duration": 49,
    "start_time": "2021-12-15T19:11:56.643Z"
   },
   {
    "duration": 54,
    "start_time": "2021-12-15T19:11:56.693Z"
   },
   {
    "duration": 23,
    "start_time": "2021-12-15T19:11:56.750Z"
   },
   {
    "duration": 15,
    "start_time": "2021-12-15T19:11:56.775Z"
   },
   {
    "duration": 23,
    "start_time": "2021-12-15T19:11:56.792Z"
   },
   {
    "duration": 30,
    "start_time": "2021-12-15T19:11:56.817Z"
   },
   {
    "duration": 66,
    "start_time": "2021-12-15T19:11:56.849Z"
   },
   {
    "duration": 5,
    "start_time": "2021-12-15T19:11:56.918Z"
   },
   {
    "duration": 46,
    "start_time": "2021-12-15T19:11:56.925Z"
   },
   {
    "duration": 31,
    "start_time": "2021-12-15T19:11:56.973Z"
   },
   {
    "duration": 34,
    "start_time": "2021-12-15T19:11:57.005Z"
   },
   {
    "duration": 18,
    "start_time": "2021-12-15T19:11:57.040Z"
   },
   {
    "duration": 35,
    "start_time": "2021-12-15T19:11:57.059Z"
   },
   {
    "duration": 5,
    "start_time": "2021-12-15T19:11:57.096Z"
   },
   {
    "duration": 20,
    "start_time": "2021-12-15T19:11:57.102Z"
   },
   {
    "duration": 41,
    "start_time": "2021-12-15T19:11:57.124Z"
   },
   {
    "duration": 17,
    "start_time": "2021-12-15T19:11:57.167Z"
   },
   {
    "duration": 46,
    "start_time": "2021-12-15T19:11:57.186Z"
   },
   {
    "duration": 44,
    "start_time": "2021-12-15T19:11:57.234Z"
   },
   {
    "duration": 32,
    "start_time": "2021-12-15T19:11:57.280Z"
   },
   {
    "duration": 101,
    "start_time": "2021-12-15T19:11:57.315Z"
   },
   {
    "duration": 30,
    "start_time": "2021-12-15T19:11:57.417Z"
   },
   {
    "duration": 105,
    "start_time": "2021-12-15T19:11:57.448Z"
   },
   {
    "duration": 147,
    "start_time": "2021-12-15T19:11:57.555Z"
   },
   {
    "duration": 3,
    "start_time": "2021-12-15T19:11:57.704Z"
   },
   {
    "duration": 21,
    "start_time": "2021-12-15T19:11:57.709Z"
   },
   {
    "duration": 41,
    "start_time": "2021-12-15T19:11:57.732Z"
   },
   {
    "duration": 35,
    "start_time": "2021-12-15T19:11:57.776Z"
   },
   {
    "duration": 5,
    "start_time": "2021-12-15T19:11:57.813Z"
   },
   {
    "duration": 7,
    "start_time": "2021-12-15T19:11:57.820Z"
   },
   {
    "duration": 24,
    "start_time": "2021-12-15T19:11:57.828Z"
   },
   {
    "duration": 17,
    "start_time": "2021-12-15T19:11:57.853Z"
   },
   {
    "duration": 7,
    "start_time": "2021-12-15T19:11:57.872Z"
   },
   {
    "duration": 6,
    "start_time": "2021-12-15T19:13:00.651Z"
   },
   {
    "duration": 612,
    "start_time": "2021-12-15T19:13:14.981Z"
   },
   {
    "duration": 4,
    "start_time": "2021-12-15T19:13:18.453Z"
   },
   {
    "duration": 7,
    "start_time": "2021-12-15T19:13:42.997Z"
   },
   {
    "duration": 6,
    "start_time": "2021-12-15T19:24:51.564Z"
   },
   {
    "duration": 671,
    "start_time": "2021-12-15T19:48:43.529Z"
   },
   {
    "duration": 332,
    "start_time": "2021-12-15T19:49:00.710Z"
   },
   {
    "duration": 247,
    "start_time": "2021-12-15T19:49:11.469Z"
   },
   {
    "duration": 59,
    "start_time": "2021-12-15T19:49:25.140Z"
   },
   {
    "duration": 43,
    "start_time": "2021-12-15T19:50:38.457Z"
   },
   {
    "duration": 34,
    "start_time": "2021-12-15T19:51:52.965Z"
   },
   {
    "duration": 3,
    "start_time": "2021-12-15T19:52:02.914Z"
   },
   {
    "duration": 71,
    "start_time": "2021-12-15T19:52:02.918Z"
   },
   {
    "duration": 13,
    "start_time": "2021-12-15T19:52:02.991Z"
   },
   {
    "duration": 29,
    "start_time": "2021-12-15T19:52:03.006Z"
   },
   {
    "duration": 25,
    "start_time": "2021-12-15T19:52:03.044Z"
   },
   {
    "duration": 45,
    "start_time": "2021-12-15T19:52:03.070Z"
   },
   {
    "duration": 17,
    "start_time": "2021-12-15T19:52:03.117Z"
   },
   {
    "duration": 20,
    "start_time": "2021-12-15T19:52:03.137Z"
   },
   {
    "duration": 22,
    "start_time": "2021-12-15T19:52:03.159Z"
   },
   {
    "duration": 52,
    "start_time": "2021-12-15T19:52:03.182Z"
   },
   {
    "duration": 25,
    "start_time": "2021-12-15T19:52:03.236Z"
   },
   {
    "duration": 16,
    "start_time": "2021-12-15T19:52:03.263Z"
   },
   {
    "duration": 44,
    "start_time": "2021-12-15T19:52:03.280Z"
   },
   {
    "duration": 51,
    "start_time": "2021-12-15T19:52:03.325Z"
   },
   {
    "duration": 17,
    "start_time": "2021-12-15T19:52:03.378Z"
   },
   {
    "duration": 6,
    "start_time": "2021-12-15T19:52:03.397Z"
   },
   {
    "duration": 13,
    "start_time": "2021-12-15T19:52:03.404Z"
   },
   {
    "duration": 35,
    "start_time": "2021-12-15T19:52:03.419Z"
   },
   {
    "duration": 10,
    "start_time": "2021-12-15T19:52:03.456Z"
   },
   {
    "duration": 25,
    "start_time": "2021-12-15T19:52:03.467Z"
   },
   {
    "duration": 8,
    "start_time": "2021-12-15T19:52:03.494Z"
   },
   {
    "duration": 42,
    "start_time": "2021-12-15T19:52:03.504Z"
   },
   {
    "duration": 3,
    "start_time": "2021-12-15T19:52:03.556Z"
   },
   {
    "duration": 14,
    "start_time": "2021-12-15T19:52:03.562Z"
   },
   {
    "duration": 23,
    "start_time": "2021-12-15T19:52:03.577Z"
   },
   {
    "duration": 8,
    "start_time": "2021-12-15T19:52:03.601Z"
   },
   {
    "duration": 6,
    "start_time": "2021-12-15T19:52:03.611Z"
   },
   {
    "duration": 47,
    "start_time": "2021-12-15T19:52:03.618Z"
   },
   {
    "duration": 7,
    "start_time": "2021-12-15T19:52:03.667Z"
   },
   {
    "duration": 6,
    "start_time": "2021-12-15T19:52:03.675Z"
   },
   {
    "duration": 7,
    "start_time": "2021-12-15T19:52:03.683Z"
   },
   {
    "duration": 8,
    "start_time": "2021-12-15T19:52:03.692Z"
   },
   {
    "duration": 5,
    "start_time": "2021-12-15T19:52:03.702Z"
   },
   {
    "duration": 50,
    "start_time": "2021-12-15T19:52:03.708Z"
   },
   {
    "duration": 12,
    "start_time": "2021-12-15T19:52:03.760Z"
   },
   {
    "duration": 5,
    "start_time": "2021-12-15T19:52:03.774Z"
   },
   {
    "duration": 11,
    "start_time": "2021-12-15T19:52:03.780Z"
   },
   {
    "duration": 6,
    "start_time": "2021-12-15T19:52:03.792Z"
   },
   {
    "duration": 9,
    "start_time": "2021-12-15T19:52:03.799Z"
   },
   {
    "duration": 74,
    "start_time": "2021-12-15T19:52:03.809Z"
   },
   {
    "duration": 5,
    "start_time": "2021-12-15T19:52:03.885Z"
   },
   {
    "duration": 9,
    "start_time": "2021-12-15T19:52:03.892Z"
   },
   {
    "duration": 10,
    "start_time": "2021-12-15T19:52:03.902Z"
   },
   {
    "duration": 38,
    "start_time": "2021-12-15T19:52:03.913Z"
   },
   {
    "duration": 6,
    "start_time": "2021-12-15T19:52:03.954Z"
   },
   {
    "duration": 25,
    "start_time": "2021-12-15T19:52:03.961Z"
   },
   {
    "duration": 3,
    "start_time": "2021-12-15T19:52:03.988Z"
   },
   {
    "duration": 17,
    "start_time": "2021-12-15T19:52:03.993Z"
   },
   {
    "duration": 49,
    "start_time": "2021-12-15T19:52:04.011Z"
   },
   {
    "duration": 15,
    "start_time": "2021-12-15T19:52:04.062Z"
   },
   {
    "duration": 21,
    "start_time": "2021-12-15T19:52:04.079Z"
   },
   {
    "duration": 52,
    "start_time": "2021-12-15T19:52:04.101Z"
   },
   {
    "duration": 22,
    "start_time": "2021-12-15T19:52:04.154Z"
   },
   {
    "duration": 100,
    "start_time": "2021-12-15T19:52:04.178Z"
   },
   {
    "duration": 6,
    "start_time": "2021-12-15T19:52:04.280Z"
   },
   {
    "duration": 97,
    "start_time": "2021-12-15T19:52:04.287Z"
   },
   {
    "duration": 87,
    "start_time": "2021-12-15T19:52:04.386Z"
   },
   {
    "duration": 2,
    "start_time": "2021-12-15T19:52:04.474Z"
   },
   {
    "duration": 10,
    "start_time": "2021-12-15T19:52:04.478Z"
   },
   {
    "duration": 14,
    "start_time": "2021-12-15T19:52:04.489Z"
   },
   {
    "duration": 45,
    "start_time": "2021-12-15T19:52:04.505Z"
   },
   {
    "duration": 5,
    "start_time": "2021-12-15T19:52:04.553Z"
   },
   {
    "duration": 6,
    "start_time": "2021-12-15T19:52:04.560Z"
   },
   {
    "duration": 12,
    "start_time": "2021-12-15T19:52:04.567Z"
   },
   {
    "duration": 15,
    "start_time": "2021-12-15T19:52:04.580Z"
   },
   {
    "duration": 5,
    "start_time": "2021-12-15T19:52:04.597Z"
   },
   {
    "duration": 67,
    "start_time": "2021-12-15T19:52:04.604Z"
   },
   {
    "duration": 37,
    "start_time": "2021-12-15T19:53:10.052Z"
   },
   {
    "duration": 3,
    "start_time": "2021-12-15T19:53:14.749Z"
   },
   {
    "duration": 63,
    "start_time": "2021-12-15T19:53:14.755Z"
   },
   {
    "duration": 11,
    "start_time": "2021-12-15T19:53:14.820Z"
   },
   {
    "duration": 16,
    "start_time": "2021-12-15T19:53:14.833Z"
   },
   {
    "duration": 15,
    "start_time": "2021-12-15T19:53:14.851Z"
   },
   {
    "duration": 36,
    "start_time": "2021-12-15T19:53:14.868Z"
   },
   {
    "duration": 15,
    "start_time": "2021-12-15T19:53:14.905Z"
   },
   {
    "duration": 18,
    "start_time": "2021-12-15T19:53:14.949Z"
   },
   {
    "duration": 16,
    "start_time": "2021-12-15T19:53:14.969Z"
   },
   {
    "duration": 32,
    "start_time": "2021-12-15T19:53:14.987Z"
   },
   {
    "duration": 47,
    "start_time": "2021-12-15T19:53:15.021Z"
   },
   {
    "duration": 11,
    "start_time": "2021-12-15T19:53:15.070Z"
   },
   {
    "duration": 29,
    "start_time": "2021-12-15T19:53:15.083Z"
   },
   {
    "duration": 51,
    "start_time": "2021-12-15T19:53:15.114Z"
   },
   {
    "duration": 19,
    "start_time": "2021-12-15T19:53:15.166Z"
   },
   {
    "duration": 6,
    "start_time": "2021-12-15T19:53:15.187Z"
   },
   {
    "duration": 17,
    "start_time": "2021-12-15T19:53:15.195Z"
   },
   {
    "duration": 21,
    "start_time": "2021-12-15T19:53:15.214Z"
   },
   {
    "duration": 21,
    "start_time": "2021-12-15T19:53:15.237Z"
   },
   {
    "duration": 27,
    "start_time": "2021-12-15T19:53:15.260Z"
   },
   {
    "duration": 8,
    "start_time": "2021-12-15T19:53:15.288Z"
   },
   {
    "duration": 19,
    "start_time": "2021-12-15T19:53:15.297Z"
   },
   {
    "duration": 4,
    "start_time": "2021-12-15T19:53:15.318Z"
   },
   {
    "duration": 33,
    "start_time": "2021-12-15T19:53:15.324Z"
   },
   {
    "duration": 25,
    "start_time": "2021-12-15T19:53:15.359Z"
   },
   {
    "duration": 24,
    "start_time": "2021-12-15T19:53:15.386Z"
   },
   {
    "duration": 21,
    "start_time": "2021-12-15T19:53:15.414Z"
   },
   {
    "duration": 35,
    "start_time": "2021-12-15T19:53:15.437Z"
   },
   {
    "duration": 10,
    "start_time": "2021-12-15T19:53:15.474Z"
   },
   {
    "duration": 23,
    "start_time": "2021-12-15T19:53:15.485Z"
   },
   {
    "duration": 22,
    "start_time": "2021-12-15T19:53:15.510Z"
   },
   {
    "duration": 26,
    "start_time": "2021-12-15T19:53:15.533Z"
   },
   {
    "duration": 26,
    "start_time": "2021-12-15T19:53:15.561Z"
   },
   {
    "duration": 40,
    "start_time": "2021-12-15T19:53:15.588Z"
   },
   {
    "duration": 37,
    "start_time": "2021-12-15T19:53:15.630Z"
   },
   {
    "duration": 20,
    "start_time": "2021-12-15T19:53:15.669Z"
   },
   {
    "duration": 7,
    "start_time": "2021-12-15T19:53:15.690Z"
   },
   {
    "duration": 13,
    "start_time": "2021-12-15T19:53:15.698Z"
   },
   {
    "duration": 16,
    "start_time": "2021-12-15T19:53:15.713Z"
   },
   {
    "duration": 52,
    "start_time": "2021-12-15T19:53:15.731Z"
   },
   {
    "duration": 6,
    "start_time": "2021-12-15T19:53:15.785Z"
   },
   {
    "duration": 17,
    "start_time": "2021-12-15T19:53:15.792Z"
   },
   {
    "duration": 25,
    "start_time": "2021-12-15T19:53:15.811Z"
   },
   {
    "duration": 32,
    "start_time": "2021-12-15T19:53:15.838Z"
   },
   {
    "duration": 5,
    "start_time": "2021-12-15T19:53:15.872Z"
   },
   {
    "duration": 43,
    "start_time": "2021-12-15T19:53:15.879Z"
   },
   {
    "duration": 3,
    "start_time": "2021-12-15T19:53:15.924Z"
   },
   {
    "duration": 36,
    "start_time": "2021-12-15T19:53:15.929Z"
   },
   {
    "duration": 52,
    "start_time": "2021-12-15T19:53:15.966Z"
   },
   {
    "duration": 14,
    "start_time": "2021-12-15T19:53:16.020Z"
   },
   {
    "duration": 35,
    "start_time": "2021-12-15T19:53:16.036Z"
   },
   {
    "duration": 47,
    "start_time": "2021-12-15T19:53:16.073Z"
   },
   {
    "duration": 31,
    "start_time": "2021-12-15T19:53:16.122Z"
   },
   {
    "duration": 108,
    "start_time": "2021-12-15T19:53:16.156Z"
   },
   {
    "duration": 32,
    "start_time": "2021-12-15T19:53:16.265Z"
   },
   {
    "duration": 94,
    "start_time": "2021-12-15T19:53:16.298Z"
   },
   {
    "duration": 92,
    "start_time": "2021-12-15T19:53:16.393Z"
   },
   {
    "duration": 3,
    "start_time": "2021-12-15T19:53:16.487Z"
   },
   {
    "duration": 5,
    "start_time": "2021-12-15T19:53:16.492Z"
   },
   {
    "duration": 12,
    "start_time": "2021-12-15T19:53:16.499Z"
   },
   {
    "duration": 50,
    "start_time": "2021-12-15T19:53:16.513Z"
   },
   {
    "duration": 4,
    "start_time": "2021-12-15T19:53:16.565Z"
   },
   {
    "duration": 6,
    "start_time": "2021-12-15T19:53:16.571Z"
   },
   {
    "duration": 14,
    "start_time": "2021-12-15T19:53:16.578Z"
   },
   {
    "duration": 18,
    "start_time": "2021-12-15T19:53:16.594Z"
   },
   {
    "duration": 41,
    "start_time": "2021-12-15T19:53:16.614Z"
   },
   {
    "duration": 38,
    "start_time": "2021-12-15T19:53:16.657Z"
   },
   {
    "duration": 2,
    "start_time": "2021-12-15T19:54:13.105Z"
   },
   {
    "duration": 68,
    "start_time": "2021-12-15T19:54:13.109Z"
   },
   {
    "duration": 12,
    "start_time": "2021-12-15T19:54:13.180Z"
   },
   {
    "duration": 9,
    "start_time": "2021-12-15T19:54:13.194Z"
   },
   {
    "duration": 44,
    "start_time": "2021-12-15T19:54:13.205Z"
   },
   {
    "duration": 30,
    "start_time": "2021-12-15T19:54:13.251Z"
   },
   {
    "duration": 18,
    "start_time": "2021-12-15T19:54:13.282Z"
   },
   {
    "duration": 44,
    "start_time": "2021-12-15T19:54:13.301Z"
   },
   {
    "duration": 7,
    "start_time": "2021-12-15T19:54:13.348Z"
   },
   {
    "duration": 22,
    "start_time": "2021-12-15T19:54:13.357Z"
   },
   {
    "duration": 16,
    "start_time": "2021-12-15T19:54:13.381Z"
   },
   {
    "duration": 4,
    "start_time": "2021-12-15T19:54:13.398Z"
   },
   {
    "duration": 55,
    "start_time": "2021-12-15T19:54:13.403Z"
   },
   {
    "duration": 37,
    "start_time": "2021-12-15T19:54:13.460Z"
   },
   {
    "duration": 17,
    "start_time": "2021-12-15T19:54:13.499Z"
   },
   {
    "duration": 32,
    "start_time": "2021-12-15T19:54:13.518Z"
   },
   {
    "duration": 12,
    "start_time": "2021-12-15T19:54:13.551Z"
   },
   {
    "duration": 9,
    "start_time": "2021-12-15T19:54:13.565Z"
   },
   {
    "duration": 7,
    "start_time": "2021-12-15T19:54:13.576Z"
   },
   {
    "duration": 24,
    "start_time": "2021-12-15T19:54:13.585Z"
   },
   {
    "duration": 41,
    "start_time": "2021-12-15T19:54:13.610Z"
   },
   {
    "duration": 13,
    "start_time": "2021-12-15T19:54:13.652Z"
   },
   {
    "duration": 3,
    "start_time": "2021-12-15T19:54:13.666Z"
   },
   {
    "duration": 13,
    "start_time": "2021-12-15T19:54:13.671Z"
   },
   {
    "duration": 21,
    "start_time": "2021-12-15T19:54:13.685Z"
   },
   {
    "duration": 41,
    "start_time": "2021-12-15T19:54:13.708Z"
   },
   {
    "duration": 4,
    "start_time": "2021-12-15T19:54:13.753Z"
   },
   {
    "duration": 16,
    "start_time": "2021-12-15T19:54:13.760Z"
   },
   {
    "duration": 7,
    "start_time": "2021-12-15T19:54:13.777Z"
   },
   {
    "duration": 5,
    "start_time": "2021-12-15T19:54:13.786Z"
   },
   {
    "duration": 8,
    "start_time": "2021-12-15T19:54:13.792Z"
   },
   {
    "duration": 44,
    "start_time": "2021-12-15T19:54:13.801Z"
   },
   {
    "duration": 5,
    "start_time": "2021-12-15T19:54:13.847Z"
   },
   {
    "duration": 17,
    "start_time": "2021-12-15T19:54:13.854Z"
   },
   {
    "duration": 13,
    "start_time": "2021-12-15T19:54:13.873Z"
   },
   {
    "duration": 25,
    "start_time": "2021-12-15T19:54:13.888Z"
   },
   {
    "duration": 17,
    "start_time": "2021-12-15T19:54:13.915Z"
   },
   {
    "duration": 26,
    "start_time": "2021-12-15T19:54:13.934Z"
   },
   {
    "duration": 19,
    "start_time": "2021-12-15T19:54:13.961Z"
   },
   {
    "duration": 73,
    "start_time": "2021-12-15T19:54:13.981Z"
   },
   {
    "duration": 6,
    "start_time": "2021-12-15T19:54:14.055Z"
   },
   {
    "duration": 27,
    "start_time": "2021-12-15T19:54:14.062Z"
   },
   {
    "duration": 29,
    "start_time": "2021-12-15T19:54:14.091Z"
   },
   {
    "duration": 36,
    "start_time": "2021-12-15T19:54:14.122Z"
   },
   {
    "duration": 5,
    "start_time": "2021-12-15T19:54:14.160Z"
   },
   {
    "duration": 37,
    "start_time": "2021-12-15T19:54:14.167Z"
   },
   {
    "duration": 4,
    "start_time": "2021-12-15T19:54:14.206Z"
   },
   {
    "duration": 24,
    "start_time": "2021-12-15T19:54:14.211Z"
   },
   {
    "duration": 30,
    "start_time": "2021-12-15T19:54:14.237Z"
   },
   {
    "duration": 15,
    "start_time": "2021-12-15T19:54:14.268Z"
   },
   {
    "duration": 49,
    "start_time": "2021-12-15T19:54:14.285Z"
   },
   {
    "duration": 34,
    "start_time": "2021-12-15T19:54:14.336Z"
   },
   {
    "duration": 23,
    "start_time": "2021-12-15T19:54:14.372Z"
   },
   {
    "duration": 101,
    "start_time": "2021-12-15T19:54:14.397Z"
   },
   {
    "duration": 6,
    "start_time": "2021-12-15T19:54:14.501Z"
   },
   {
    "duration": 105,
    "start_time": "2021-12-15T19:54:14.509Z"
   },
   {
    "duration": 78,
    "start_time": "2021-12-15T19:54:14.615Z"
   },
   {
    "duration": 3,
    "start_time": "2021-12-15T19:54:14.694Z"
   },
   {
    "duration": 5,
    "start_time": "2021-12-15T19:54:14.698Z"
   },
   {
    "duration": 10,
    "start_time": "2021-12-15T19:54:14.705Z"
   },
   {
    "duration": 37,
    "start_time": "2021-12-15T19:54:14.717Z"
   },
   {
    "duration": 4,
    "start_time": "2021-12-15T19:54:14.756Z"
   },
   {
    "duration": 5,
    "start_time": "2021-12-15T19:54:14.761Z"
   },
   {
    "duration": 14,
    "start_time": "2021-12-15T19:54:14.768Z"
   },
   {
    "duration": 15,
    "start_time": "2021-12-15T19:54:14.784Z"
   },
   {
    "duration": 6,
    "start_time": "2021-12-15T19:54:14.801Z"
   },
   {
    "duration": 76,
    "start_time": "2021-12-15T19:54:14.809Z"
   },
   {
    "duration": 12,
    "start_time": "2021-12-15T20:05:11.232Z"
   },
   {
    "duration": 51,
    "start_time": "2021-12-15T20:05:11.245Z"
   },
   {
    "duration": 13,
    "start_time": "2021-12-15T20:05:11.298Z"
   },
   {
    "duration": 6,
    "start_time": "2021-12-15T20:05:11.313Z"
   },
   {
    "duration": 14,
    "start_time": "2021-12-15T20:05:11.346Z"
   },
   {
    "duration": 34,
    "start_time": "2021-12-15T20:05:11.362Z"
   },
   {
    "duration": 55,
    "start_time": "2021-12-15T20:05:11.398Z"
   },
   {
    "duration": 16,
    "start_time": "2021-12-15T20:05:11.455Z"
   },
   {
    "duration": 9,
    "start_time": "2021-12-15T20:05:11.474Z"
   },
   {
    "duration": 60,
    "start_time": "2021-12-15T20:05:11.486Z"
   },
   {
    "duration": 18,
    "start_time": "2021-12-15T20:05:11.548Z"
   },
   {
    "duration": 3,
    "start_time": "2021-12-15T20:05:11.568Z"
   },
   {
    "duration": 19,
    "start_time": "2021-12-15T20:05:11.573Z"
   },
   {
    "duration": 80,
    "start_time": "2021-12-15T20:05:11.593Z"
   },
   {
    "duration": 20,
    "start_time": "2021-12-15T20:05:11.675Z"
   },
   {
    "duration": 8,
    "start_time": "2021-12-15T20:05:11.697Z"
   },
   {
    "duration": 43,
    "start_time": "2021-12-15T20:05:11.707Z"
   },
   {
    "duration": 13,
    "start_time": "2021-12-15T20:05:11.752Z"
   },
   {
    "duration": 9,
    "start_time": "2021-12-15T20:05:11.766Z"
   },
   {
    "duration": 29,
    "start_time": "2021-12-15T20:05:11.777Z"
   },
   {
    "duration": 39,
    "start_time": "2021-12-15T20:05:11.807Z"
   },
   {
    "duration": 13,
    "start_time": "2021-12-15T20:05:11.848Z"
   },
   {
    "duration": 4,
    "start_time": "2021-12-15T20:05:11.866Z"
   },
   {
    "duration": 12,
    "start_time": "2021-12-15T20:05:11.872Z"
   },
   {
    "duration": 58,
    "start_time": "2021-12-15T20:05:11.886Z"
   },
   {
    "duration": 21,
    "start_time": "2021-12-15T20:05:11.946Z"
   },
   {
    "duration": 7,
    "start_time": "2021-12-15T20:05:11.969Z"
   },
   {
    "duration": 17,
    "start_time": "2021-12-15T20:05:11.978Z"
   },
   {
    "duration": 8,
    "start_time": "2021-12-15T20:05:11.997Z"
   },
   {
    "duration": 6,
    "start_time": "2021-12-15T20:05:12.007Z"
   },
   {
    "duration": 37,
    "start_time": "2021-12-15T20:05:12.014Z"
   },
   {
    "duration": 8,
    "start_time": "2021-12-15T20:05:12.054Z"
   },
   {
    "duration": 7,
    "start_time": "2021-12-15T20:05:12.064Z"
   },
   {
    "duration": 16,
    "start_time": "2021-12-15T20:05:12.073Z"
   },
   {
    "duration": 15,
    "start_time": "2021-12-15T20:05:12.091Z"
   },
   {
    "duration": 8,
    "start_time": "2021-12-15T20:05:12.145Z"
   },
   {
    "duration": 5,
    "start_time": "2021-12-15T20:05:12.155Z"
   },
   {
    "duration": 8,
    "start_time": "2021-12-15T20:05:12.161Z"
   },
   {
    "duration": 10,
    "start_time": "2021-12-15T20:05:12.170Z"
   },
   {
    "duration": 73,
    "start_time": "2021-12-15T20:05:12.181Z"
   },
   {
    "duration": 5,
    "start_time": "2021-12-15T20:05:12.256Z"
   },
   {
    "duration": 6,
    "start_time": "2021-12-15T20:05:12.264Z"
   },
   {
    "duration": 7,
    "start_time": "2021-12-15T20:05:12.271Z"
   },
   {
    "duration": 22,
    "start_time": "2021-12-15T20:05:12.279Z"
   },
   {
    "duration": 5,
    "start_time": "2021-12-15T20:05:12.302Z"
   },
   {
    "duration": 52,
    "start_time": "2021-12-15T20:05:12.309Z"
   },
   {
    "duration": 4,
    "start_time": "2021-12-15T20:05:12.362Z"
   },
   {
    "duration": 14,
    "start_time": "2021-12-15T20:05:12.368Z"
   },
   {
    "duration": 30,
    "start_time": "2021-12-15T20:05:12.384Z"
   },
   {
    "duration": 43,
    "start_time": "2021-12-15T20:05:12.416Z"
   },
   {
    "duration": 20,
    "start_time": "2021-12-15T20:05:12.461Z"
   },
   {
    "duration": 24,
    "start_time": "2021-12-15T20:05:12.483Z"
   },
   {
    "duration": 52,
    "start_time": "2021-12-15T20:05:12.509Z"
   },
   {
    "duration": 103,
    "start_time": "2021-12-15T20:05:12.563Z"
   },
   {
    "duration": 6,
    "start_time": "2021-12-15T20:05:12.668Z"
   },
   {
    "duration": 107,
    "start_time": "2021-12-15T20:05:12.676Z"
   },
   {
    "duration": 86,
    "start_time": "2021-12-15T20:05:12.784Z"
   },
   {
    "duration": 1,
    "start_time": "2021-12-15T20:05:12.872Z"
   },
   {
    "duration": 5,
    "start_time": "2021-12-15T20:05:12.875Z"
   },
   {
    "duration": 13,
    "start_time": "2021-12-15T20:05:12.882Z"
   },
   {
    "duration": 26,
    "start_time": "2021-12-15T20:05:12.897Z"
   },
   {
    "duration": 20,
    "start_time": "2021-12-15T20:05:12.925Z"
   },
   {
    "duration": 6,
    "start_time": "2021-12-15T20:05:12.947Z"
   },
   {
    "duration": 16,
    "start_time": "2021-12-15T20:05:12.954Z"
   },
   {
    "duration": 22,
    "start_time": "2021-12-15T20:05:12.972Z"
   },
   {
    "duration": 7,
    "start_time": "2021-12-15T20:05:12.996Z"
   },
   {
    "duration": 71,
    "start_time": "2021-12-15T20:05:13.005Z"
   },
   {
    "duration": 258,
    "start_time": "2021-12-15T20:06:00.979Z"
   },
   {
    "duration": 253,
    "start_time": "2021-12-15T20:06:11.308Z"
   },
   {
    "duration": 6,
    "start_time": "2021-12-15T20:06:22.876Z"
   },
   {
    "duration": 15,
    "start_time": "2021-12-15T20:06:52.000Z"
   },
   {
    "duration": 250,
    "start_time": "2021-12-15T20:07:10.407Z"
   },
   {
    "duration": 968,
    "start_time": "2021-12-15T20:07:31.355Z"
   },
   {
    "duration": 263,
    "start_time": "2021-12-15T20:07:50.872Z"
   },
   {
    "duration": 87,
    "start_time": "2021-12-15T20:08:34.403Z"
   },
   {
    "duration": 318,
    "start_time": "2021-12-15T20:08:38.572Z"
   },
   {
    "duration": 278,
    "start_time": "2021-12-15T20:08:45.263Z"
   },
   {
    "duration": 270,
    "start_time": "2021-12-15T20:09:49.427Z"
   },
   {
    "duration": 3,
    "start_time": "2021-12-15T20:11:14.719Z"
   },
   {
    "duration": 78,
    "start_time": "2021-12-15T20:11:14.724Z"
   },
   {
    "duration": 13,
    "start_time": "2021-12-15T20:11:14.804Z"
   },
   {
    "duration": 26,
    "start_time": "2021-12-15T20:11:14.819Z"
   },
   {
    "duration": 25,
    "start_time": "2021-12-15T20:11:14.847Z"
   },
   {
    "duration": 52,
    "start_time": "2021-12-15T20:11:14.874Z"
   },
   {
    "duration": 26,
    "start_time": "2021-12-15T20:11:14.927Z"
   },
   {
    "duration": 18,
    "start_time": "2021-12-15T20:11:14.956Z"
   },
   {
    "duration": 8,
    "start_time": "2021-12-15T20:11:14.976Z"
   },
   {
    "duration": 70,
    "start_time": "2021-12-15T20:11:14.986Z"
   },
   {
    "duration": 27,
    "start_time": "2021-12-15T20:11:15.058Z"
   },
   {
    "duration": 15,
    "start_time": "2021-12-15T20:11:15.087Z"
   },
   {
    "duration": 44,
    "start_time": "2021-12-15T20:11:15.104Z"
   },
   {
    "duration": 41,
    "start_time": "2021-12-15T20:11:15.150Z"
   },
   {
    "duration": 38,
    "start_time": "2021-12-15T20:11:15.193Z"
   },
   {
    "duration": 16,
    "start_time": "2021-12-15T20:11:15.233Z"
   },
   {
    "duration": 17,
    "start_time": "2021-12-15T20:11:15.250Z"
   },
   {
    "duration": 13,
    "start_time": "2021-12-15T20:11:15.269Z"
   },
   {
    "duration": 14,
    "start_time": "2021-12-15T20:11:15.284Z"
   },
   {
    "duration": 46,
    "start_time": "2021-12-15T20:11:15.299Z"
   },
   {
    "duration": 8,
    "start_time": "2021-12-15T20:11:15.347Z"
   },
   {
    "duration": 36,
    "start_time": "2021-12-15T20:11:15.356Z"
   },
   {
    "duration": 14,
    "start_time": "2021-12-15T20:11:15.396Z"
   },
   {
    "duration": 36,
    "start_time": "2021-12-15T20:11:15.412Z"
   },
   {
    "duration": 29,
    "start_time": "2021-12-15T20:11:15.450Z"
   },
   {
    "duration": 14,
    "start_time": "2021-12-15T20:11:15.480Z"
   },
   {
    "duration": 24,
    "start_time": "2021-12-15T20:11:15.496Z"
   },
   {
    "duration": 35,
    "start_time": "2021-12-15T20:11:15.521Z"
   },
   {
    "duration": 13,
    "start_time": "2021-12-15T20:11:15.558Z"
   },
   {
    "duration": 14,
    "start_time": "2021-12-15T20:11:15.573Z"
   },
   {
    "duration": 10,
    "start_time": "2021-12-15T20:11:15.589Z"
   },
   {
    "duration": 16,
    "start_time": "2021-12-15T20:11:15.601Z"
   },
   {
    "duration": 28,
    "start_time": "2021-12-15T20:11:15.618Z"
   },
   {
    "duration": 15,
    "start_time": "2021-12-15T20:11:15.648Z"
   },
   {
    "duration": 42,
    "start_time": "2021-12-15T20:11:15.665Z"
   },
   {
    "duration": 28,
    "start_time": "2021-12-15T20:11:15.709Z"
   },
   {
    "duration": 22,
    "start_time": "2021-12-15T20:11:15.739Z"
   },
   {
    "duration": 14,
    "start_time": "2021-12-15T20:11:15.763Z"
   },
   {
    "duration": 24,
    "start_time": "2021-12-15T20:11:15.778Z"
   },
   {
    "duration": 53,
    "start_time": "2021-12-15T20:11:15.804Z"
   },
   {
    "duration": 6,
    "start_time": "2021-12-15T20:11:15.858Z"
   },
   {
    "duration": 25,
    "start_time": "2021-12-15T20:11:15.866Z"
   },
   {
    "duration": 30,
    "start_time": "2021-12-15T20:11:15.893Z"
   },
   {
    "duration": 38,
    "start_time": "2021-12-15T20:11:15.925Z"
   },
   {
    "duration": 26,
    "start_time": "2021-12-15T20:11:15.965Z"
   },
   {
    "duration": 43,
    "start_time": "2021-12-15T20:11:15.994Z"
   },
   {
    "duration": 19,
    "start_time": "2021-12-15T20:11:16.039Z"
   },
   {
    "duration": 32,
    "start_time": "2021-12-15T20:11:16.059Z"
   },
   {
    "duration": 59,
    "start_time": "2021-12-15T20:11:16.093Z"
   },
   {
    "duration": 18,
    "start_time": "2021-12-15T20:11:16.155Z"
   },
   {
    "duration": 33,
    "start_time": "2021-12-15T20:11:16.176Z"
   },
   {
    "duration": 39,
    "start_time": "2021-12-15T20:11:16.211Z"
   },
   {
    "duration": 24,
    "start_time": "2021-12-15T20:11:16.252Z"
   },
   {
    "duration": 135,
    "start_time": "2021-12-15T20:11:16.278Z"
   },
   {
    "duration": 22,
    "start_time": "2021-12-15T20:11:16.416Z"
   },
   {
    "duration": 152,
    "start_time": "2021-12-15T20:11:16.443Z"
   },
   {
    "duration": 147,
    "start_time": "2021-12-15T20:11:16.597Z"
   },
   {
    "duration": 2,
    "start_time": "2021-12-15T20:11:16.747Z"
   },
   {
    "duration": 31,
    "start_time": "2021-12-15T20:11:16.752Z"
   },
   {
    "duration": 34,
    "start_time": "2021-12-15T20:11:16.785Z"
   },
   {
    "duration": 39,
    "start_time": "2021-12-15T20:11:16.821Z"
   },
   {
    "duration": 5,
    "start_time": "2021-12-15T20:11:16.862Z"
   },
   {
    "duration": 21,
    "start_time": "2021-12-15T20:11:16.869Z"
   },
   {
    "duration": 26,
    "start_time": "2021-12-15T20:11:16.892Z"
   },
   {
    "duration": 16,
    "start_time": "2021-12-15T20:11:16.920Z"
   },
   {
    "duration": 26,
    "start_time": "2021-12-15T20:11:16.938Z"
   },
   {
    "duration": 73,
    "start_time": "2021-12-15T20:11:16.967Z"
   },
   {
    "duration": 7,
    "start_time": "2021-12-15T20:11:17.046Z"
   },
   {
    "duration": 3,
    "start_time": "2021-12-15T20:12:06.608Z"
   },
   {
    "duration": 70,
    "start_time": "2021-12-15T20:12:06.614Z"
   },
   {
    "duration": 13,
    "start_time": "2021-12-15T20:12:06.686Z"
   },
   {
    "duration": 23,
    "start_time": "2021-12-15T20:12:06.702Z"
   },
   {
    "duration": 24,
    "start_time": "2021-12-15T20:12:06.727Z"
   },
   {
    "duration": 51,
    "start_time": "2021-12-15T20:12:06.753Z"
   },
   {
    "duration": 16,
    "start_time": "2021-12-15T20:12:06.806Z"
   },
   {
    "duration": 27,
    "start_time": "2021-12-15T20:12:06.824Z"
   },
   {
    "duration": 7,
    "start_time": "2021-12-15T20:12:06.853Z"
   },
   {
    "duration": 31,
    "start_time": "2021-12-15T20:12:06.863Z"
   },
   {
    "duration": 55,
    "start_time": "2021-12-15T20:12:06.897Z"
   },
   {
    "duration": 4,
    "start_time": "2021-12-15T20:12:06.954Z"
   },
   {
    "duration": 23,
    "start_time": "2021-12-15T20:12:06.960Z"
   },
   {
    "duration": 99,
    "start_time": "2021-12-15T20:12:06.985Z"
   },
   {
    "duration": 30,
    "start_time": "2021-12-15T20:12:07.087Z"
   },
   {
    "duration": 29,
    "start_time": "2021-12-15T20:12:07.119Z"
   },
   {
    "duration": 14,
    "start_time": "2021-12-15T20:12:07.150Z"
   },
   {
    "duration": 8,
    "start_time": "2021-12-15T20:12:07.166Z"
   },
   {
    "duration": 9,
    "start_time": "2021-12-15T20:12:07.176Z"
   },
   {
    "duration": 63,
    "start_time": "2021-12-15T20:12:07.187Z"
   },
   {
    "duration": 8,
    "start_time": "2021-12-15T20:12:07.252Z"
   },
   {
    "duration": 16,
    "start_time": "2021-12-15T20:12:07.262Z"
   },
   {
    "duration": 3,
    "start_time": "2021-12-15T20:12:07.280Z"
   },
   {
    "duration": 13,
    "start_time": "2021-12-15T20:12:07.285Z"
   },
   {
    "duration": 60,
    "start_time": "2021-12-15T20:12:07.300Z"
   },
   {
    "duration": 8,
    "start_time": "2021-12-15T20:12:07.362Z"
   },
   {
    "duration": 7,
    "start_time": "2021-12-15T20:12:07.371Z"
   },
   {
    "duration": 15,
    "start_time": "2021-12-15T20:12:07.383Z"
   },
   {
    "duration": 8,
    "start_time": "2021-12-15T20:12:07.401Z"
   },
   {
    "duration": 39,
    "start_time": "2021-12-15T20:12:07.410Z"
   },
   {
    "duration": 9,
    "start_time": "2021-12-15T20:12:07.452Z"
   },
   {
    "duration": 9,
    "start_time": "2021-12-15T20:12:07.462Z"
   },
   {
    "duration": 6,
    "start_time": "2021-12-15T20:12:07.473Z"
   },
   {
    "duration": 15,
    "start_time": "2021-12-15T20:12:07.481Z"
   },
   {
    "duration": 55,
    "start_time": "2021-12-15T20:12:07.499Z"
   },
   {
    "duration": 7,
    "start_time": "2021-12-15T20:12:07.555Z"
   },
   {
    "duration": 5,
    "start_time": "2021-12-15T20:12:07.564Z"
   },
   {
    "duration": 5,
    "start_time": "2021-12-15T20:12:07.571Z"
   },
   {
    "duration": 10,
    "start_time": "2021-12-15T20:12:07.578Z"
   },
   {
    "duration": 86,
    "start_time": "2021-12-15T20:12:07.590Z"
   },
   {
    "duration": 7,
    "start_time": "2021-12-15T20:12:07.678Z"
   },
   {
    "duration": 7,
    "start_time": "2021-12-15T20:12:07.688Z"
   },
   {
    "duration": 7,
    "start_time": "2021-12-15T20:12:07.697Z"
   },
   {
    "duration": 38,
    "start_time": "2021-12-15T20:12:07.706Z"
   },
   {
    "duration": 7,
    "start_time": "2021-12-15T20:12:07.747Z"
   },
   {
    "duration": 31,
    "start_time": "2021-12-15T20:12:07.756Z"
   },
   {
    "duration": 4,
    "start_time": "2021-12-15T20:12:07.789Z"
   },
   {
    "duration": 19,
    "start_time": "2021-12-15T20:12:07.795Z"
   },
   {
    "duration": 43,
    "start_time": "2021-12-15T20:12:07.844Z"
   },
   {
    "duration": 18,
    "start_time": "2021-12-15T20:12:07.889Z"
   },
   {
    "duration": 45,
    "start_time": "2021-12-15T20:12:07.909Z"
   },
   {
    "duration": 27,
    "start_time": "2021-12-15T20:12:07.956Z"
   },
   {
    "duration": 23,
    "start_time": "2021-12-15T20:12:07.985Z"
   },
   {
    "duration": 123,
    "start_time": "2021-12-15T20:12:08.010Z"
   },
   {
    "duration": 15,
    "start_time": "2021-12-15T20:12:08.135Z"
   },
   {
    "duration": 103,
    "start_time": "2021-12-15T20:12:08.152Z"
   },
   {
    "duration": 100,
    "start_time": "2021-12-15T20:12:08.257Z"
   },
   {
    "duration": 3,
    "start_time": "2021-12-15T20:12:08.358Z"
   },
   {
    "duration": 5,
    "start_time": "2021-12-15T20:12:08.363Z"
   },
   {
    "duration": 12,
    "start_time": "2021-12-15T20:12:08.370Z"
   },
   {
    "duration": 30,
    "start_time": "2021-12-15T20:12:08.383Z"
   },
   {
    "duration": 4,
    "start_time": "2021-12-15T20:12:08.415Z"
   },
   {
    "duration": 6,
    "start_time": "2021-12-15T20:12:08.460Z"
   },
   {
    "duration": 15,
    "start_time": "2021-12-15T20:12:08.468Z"
   },
   {
    "duration": 24,
    "start_time": "2021-12-15T20:12:08.485Z"
   },
   {
    "duration": 8,
    "start_time": "2021-12-15T20:12:08.511Z"
   },
   {
    "duration": 57,
    "start_time": "2021-12-15T20:12:08.521Z"
   },
   {
    "duration": 5,
    "start_time": "2021-12-15T20:12:08.579Z"
   },
   {
    "duration": 13,
    "start_time": "2021-12-15T20:12:50.434Z"
   },
   {
    "duration": 5,
    "start_time": "2021-12-15T20:12:56.802Z"
   },
   {
    "duration": 3,
    "start_time": "2021-12-15T20:13:06.384Z"
   },
   {
    "duration": 57,
    "start_time": "2021-12-15T20:13:06.388Z"
   },
   {
    "duration": 13,
    "start_time": "2021-12-15T20:13:06.448Z"
   },
   {
    "duration": 5,
    "start_time": "2021-12-15T20:13:06.463Z"
   },
   {
    "duration": 14,
    "start_time": "2021-12-15T20:13:06.469Z"
   },
   {
    "duration": 63,
    "start_time": "2021-12-15T20:13:06.485Z"
   },
   {
    "duration": 18,
    "start_time": "2021-12-15T20:13:06.550Z"
   },
   {
    "duration": 16,
    "start_time": "2021-12-15T20:13:06.570Z"
   },
   {
    "duration": 7,
    "start_time": "2021-12-15T20:13:06.588Z"
   },
   {
    "duration": 64,
    "start_time": "2021-12-15T20:13:06.597Z"
   },
   {
    "duration": 17,
    "start_time": "2021-12-15T20:13:06.662Z"
   },
   {
    "duration": 3,
    "start_time": "2021-12-15T20:13:06.682Z"
   },
   {
    "duration": 66,
    "start_time": "2021-12-15T20:13:06.687Z"
   },
   {
    "duration": 40,
    "start_time": "2021-12-15T20:13:06.755Z"
   },
   {
    "duration": 19,
    "start_time": "2021-12-15T20:13:06.796Z"
   },
   {
    "duration": 32,
    "start_time": "2021-12-15T20:13:06.817Z"
   },
   {
    "duration": 12,
    "start_time": "2021-12-15T20:13:06.850Z"
   },
   {
    "duration": 9,
    "start_time": "2021-12-15T20:13:06.863Z"
   },
   {
    "duration": 8,
    "start_time": "2021-12-15T20:13:06.873Z"
   },
   {
    "duration": 62,
    "start_time": "2021-12-15T20:13:06.883Z"
   },
   {
    "duration": 9,
    "start_time": "2021-12-15T20:13:06.947Z"
   },
   {
    "duration": 15,
    "start_time": "2021-12-15T20:13:06.958Z"
   },
   {
    "duration": 3,
    "start_time": "2021-12-15T20:13:06.977Z"
   },
   {
    "duration": 11,
    "start_time": "2021-12-15T20:13:06.983Z"
   },
   {
    "duration": 61,
    "start_time": "2021-12-15T20:13:06.996Z"
   },
   {
    "duration": 8,
    "start_time": "2021-12-15T20:13:07.058Z"
   },
   {
    "duration": 8,
    "start_time": "2021-12-15T20:13:07.068Z"
   },
   {
    "duration": 18,
    "start_time": "2021-12-15T20:13:07.078Z"
   },
   {
    "duration": 8,
    "start_time": "2021-12-15T20:13:07.097Z"
   },
   {
    "duration": 39,
    "start_time": "2021-12-15T20:13:07.106Z"
   },
   {
    "duration": 7,
    "start_time": "2021-12-15T20:13:07.147Z"
   },
   {
    "duration": 14,
    "start_time": "2021-12-15T20:13:07.155Z"
   },
   {
    "duration": 5,
    "start_time": "2021-12-15T20:13:07.171Z"
   },
   {
    "duration": 16,
    "start_time": "2021-12-15T20:13:07.177Z"
   },
   {
    "duration": 19,
    "start_time": "2021-12-15T20:13:07.194Z"
   },
   {
    "duration": 35,
    "start_time": "2021-12-15T20:13:07.215Z"
   },
   {
    "duration": 4,
    "start_time": "2021-12-15T20:13:07.253Z"
   },
   {
    "duration": 4,
    "start_time": "2021-12-15T20:13:07.259Z"
   },
   {
    "duration": 8,
    "start_time": "2021-12-15T20:13:07.265Z"
   },
   {
    "duration": 99,
    "start_time": "2021-12-15T20:13:07.275Z"
   },
   {
    "duration": 6,
    "start_time": "2021-12-15T20:13:07.376Z"
   },
   {
    "duration": 8,
    "start_time": "2021-12-15T20:13:07.384Z"
   },
   {
    "duration": 6,
    "start_time": "2021-12-15T20:13:07.394Z"
   },
   {
    "duration": 43,
    "start_time": "2021-12-15T20:13:07.402Z"
   },
   {
    "duration": 6,
    "start_time": "2021-12-15T20:13:07.448Z"
   },
   {
    "duration": 32,
    "start_time": "2021-12-15T20:13:07.456Z"
   },
   {
    "duration": 4,
    "start_time": "2021-12-15T20:13:07.490Z"
   },
   {
    "duration": 17,
    "start_time": "2021-12-15T20:13:07.496Z"
   },
   {
    "duration": 43,
    "start_time": "2021-12-15T20:13:07.544Z"
   },
   {
    "duration": 23,
    "start_time": "2021-12-15T20:13:07.589Z"
   },
   {
    "duration": 52,
    "start_time": "2021-12-15T20:13:07.614Z"
   },
   {
    "duration": 35,
    "start_time": "2021-12-15T20:13:07.668Z"
   },
   {
    "duration": 51,
    "start_time": "2021-12-15T20:13:07.705Z"
   },
   {
    "duration": 108,
    "start_time": "2021-12-15T20:13:07.758Z"
   },
   {
    "duration": 7,
    "start_time": "2021-12-15T20:13:07.868Z"
   },
   {
    "duration": 135,
    "start_time": "2021-12-15T20:13:07.877Z"
   },
   {
    "duration": 92,
    "start_time": "2021-12-15T20:13:08.015Z"
   },
   {
    "duration": 2,
    "start_time": "2021-12-15T20:13:08.109Z"
   },
   {
    "duration": 12,
    "start_time": "2021-12-15T20:13:08.114Z"
   },
   {
    "duration": 18,
    "start_time": "2021-12-15T20:13:08.127Z"
   },
   {
    "duration": 59,
    "start_time": "2021-12-15T20:13:08.147Z"
   },
   {
    "duration": 56,
    "start_time": "2021-12-15T20:13:08.208Z"
   },
   {
    "duration": 27,
    "start_time": "2021-12-15T20:13:08.266Z"
   },
   {
    "duration": 39,
    "start_time": "2021-12-15T20:13:08.295Z"
   },
   {
    "duration": 21,
    "start_time": "2021-12-15T20:13:08.336Z"
   },
   {
    "duration": 27,
    "start_time": "2021-12-15T20:13:08.359Z"
   },
   {
    "duration": 58,
    "start_time": "2021-12-15T20:13:08.388Z"
   },
   {
    "duration": 3,
    "start_time": "2021-12-15T20:16:48.928Z"
   },
   {
    "duration": 54,
    "start_time": "2021-12-15T20:16:48.933Z"
   },
   {
    "duration": 14,
    "start_time": "2021-12-15T20:16:48.990Z"
   },
   {
    "duration": 7,
    "start_time": "2021-12-15T20:16:49.006Z"
   },
   {
    "duration": 42,
    "start_time": "2021-12-15T20:16:49.015Z"
   },
   {
    "duration": 34,
    "start_time": "2021-12-15T20:16:49.059Z"
   },
   {
    "duration": 26,
    "start_time": "2021-12-15T20:16:49.095Z"
   },
   {
    "duration": 44,
    "start_time": "2021-12-15T20:16:49.122Z"
   },
   {
    "duration": 9,
    "start_time": "2021-12-15T20:16:49.169Z"
   },
   {
    "duration": 27,
    "start_time": "2021-12-15T20:16:49.181Z"
   },
   {
    "duration": 18,
    "start_time": "2021-12-15T20:16:49.246Z"
   },
   {
    "duration": 3,
    "start_time": "2021-12-15T20:16:49.266Z"
   },
   {
    "duration": 23,
    "start_time": "2021-12-15T20:16:49.271Z"
   },
   {
    "duration": 75,
    "start_time": "2021-12-15T20:16:49.296Z"
   },
   {
    "duration": 20,
    "start_time": "2021-12-15T20:16:49.373Z"
   },
   {
    "duration": 7,
    "start_time": "2021-12-15T20:16:49.394Z"
   },
   {
    "duration": 44,
    "start_time": "2021-12-15T20:16:49.403Z"
   },
   {
    "duration": 11,
    "start_time": "2021-12-15T20:16:49.449Z"
   },
   {
    "duration": 9,
    "start_time": "2021-12-15T20:16:49.462Z"
   },
   {
    "duration": 36,
    "start_time": "2021-12-15T20:16:49.473Z"
   },
   {
    "duration": 39,
    "start_time": "2021-12-15T20:16:49.511Z"
   },
   {
    "duration": 17,
    "start_time": "2021-12-15T20:16:49.552Z"
   },
   {
    "duration": 5,
    "start_time": "2021-12-15T20:16:49.570Z"
   },
   {
    "duration": 12,
    "start_time": "2021-12-15T20:16:49.577Z"
   },
   {
    "duration": 54,
    "start_time": "2021-12-15T20:16:49.591Z"
   },
   {
    "duration": 8,
    "start_time": "2021-12-15T20:16:49.647Z"
   },
   {
    "duration": 5,
    "start_time": "2021-12-15T20:16:49.659Z"
   },
   {
    "duration": 19,
    "start_time": "2021-12-15T20:16:49.667Z"
   },
   {
    "duration": 7,
    "start_time": "2021-12-15T20:16:49.688Z"
   },
   {
    "duration": 5,
    "start_time": "2021-12-15T20:16:49.697Z"
   },
   {
    "duration": 45,
    "start_time": "2021-12-15T20:16:49.704Z"
   },
   {
    "duration": 7,
    "start_time": "2021-12-15T20:16:49.751Z"
   },
   {
    "duration": 5,
    "start_time": "2021-12-15T20:16:49.760Z"
   },
   {
    "duration": 16,
    "start_time": "2021-12-15T20:16:49.766Z"
   },
   {
    "duration": 13,
    "start_time": "2021-12-15T20:16:49.783Z"
   },
   {
    "duration": 8,
    "start_time": "2021-12-15T20:16:49.798Z"
   },
   {
    "duration": 39,
    "start_time": "2021-12-15T20:16:49.808Z"
   },
   {
    "duration": 5,
    "start_time": "2021-12-15T20:16:49.849Z"
   },
   {
    "duration": 8,
    "start_time": "2021-12-15T20:16:49.856Z"
   },
   {
    "duration": 44,
    "start_time": "2021-12-15T20:16:49.866Z"
   },
   {
    "duration": 32,
    "start_time": "2021-12-15T20:16:49.912Z"
   },
   {
    "duration": 7,
    "start_time": "2021-12-15T20:16:49.946Z"
   },
   {
    "duration": 6,
    "start_time": "2021-12-15T20:16:49.955Z"
   },
   {
    "duration": 20,
    "start_time": "2021-12-15T20:16:49.963Z"
   },
   {
    "duration": 5,
    "start_time": "2021-12-15T20:16:49.985Z"
   },
   {
    "duration": 52,
    "start_time": "2021-12-15T20:16:49.992Z"
   },
   {
    "duration": 4,
    "start_time": "2021-12-15T20:16:50.046Z"
   },
   {
    "duration": 14,
    "start_time": "2021-12-15T20:16:50.053Z"
   },
   {
    "duration": 40,
    "start_time": "2021-12-15T20:16:50.069Z"
   },
   {
    "duration": 56,
    "start_time": "2021-12-15T20:16:50.111Z"
   },
   {
    "duration": 38,
    "start_time": "2021-12-15T20:16:50.169Z"
   },
   {
    "duration": 57,
    "start_time": "2021-12-15T20:16:50.210Z"
   },
   {
    "duration": 51,
    "start_time": "2021-12-15T20:16:50.270Z"
   },
   {
    "duration": 95,
    "start_time": "2021-12-15T20:16:50.324Z"
   },
   {
    "duration": 18,
    "start_time": "2021-12-15T20:16:50.436Z"
   },
   {
    "duration": 206,
    "start_time": "2021-12-15T20:16:50.458Z"
   },
   {
    "duration": 83,
    "start_time": "2021-12-15T20:16:50.680Z"
   },
   {
    "duration": 2,
    "start_time": "2021-12-15T20:16:50.764Z"
   },
   {
    "duration": 7,
    "start_time": "2021-12-15T20:16:50.768Z"
   },
   {
    "duration": 13,
    "start_time": "2021-12-15T20:16:50.777Z"
   },
   {
    "duration": 30,
    "start_time": "2021-12-15T20:16:50.791Z"
   },
   {
    "duration": 5,
    "start_time": "2021-12-15T20:16:50.822Z"
   },
   {
    "duration": 5,
    "start_time": "2021-12-15T20:16:50.845Z"
   },
   {
    "duration": 15,
    "start_time": "2021-12-15T20:16:50.851Z"
   },
   {
    "duration": 33,
    "start_time": "2021-12-15T20:16:50.868Z"
   },
   {
    "duration": 6,
    "start_time": "2021-12-15T20:16:50.903Z"
   },
   {
    "duration": 52,
    "start_time": "2021-12-15T20:16:50.911Z"
   },
   {
    "duration": 2,
    "start_time": "2021-12-15T20:16:50.965Z"
   },
   {
    "duration": 13,
    "start_time": "2021-12-15T20:27:02.783Z"
   },
   {
    "duration": 583,
    "start_time": "2021-12-16T08:02:51.880Z"
   },
   {
    "duration": 46,
    "start_time": "2021-12-16T08:02:52.465Z"
   },
   {
    "duration": 19,
    "start_time": "2021-12-16T08:02:52.513Z"
   },
   {
    "duration": 4,
    "start_time": "2021-12-16T08:02:52.533Z"
   },
   {
    "duration": 15,
    "start_time": "2021-12-16T08:02:52.538Z"
   },
   {
    "duration": 46,
    "start_time": "2021-12-16T08:02:52.555Z"
   },
   {
    "duration": 16,
    "start_time": "2021-12-16T08:02:52.602Z"
   },
   {
    "duration": 14,
    "start_time": "2021-12-16T08:02:52.620Z"
   },
   {
    "duration": 10,
    "start_time": "2021-12-16T08:02:52.636Z"
   },
   {
    "duration": 49,
    "start_time": "2021-12-16T08:02:52.647Z"
   },
   {
    "duration": 17,
    "start_time": "2021-12-16T08:02:52.697Z"
   },
   {
    "duration": 4,
    "start_time": "2021-12-16T08:02:52.715Z"
   },
   {
    "duration": 20,
    "start_time": "2021-12-16T08:02:52.720Z"
   },
   {
    "duration": 68,
    "start_time": "2021-12-16T08:02:52.742Z"
   },
   {
    "duration": 18,
    "start_time": "2021-12-16T08:02:52.812Z"
   },
   {
    "duration": 6,
    "start_time": "2021-12-16T08:02:52.832Z"
   },
   {
    "duration": 12,
    "start_time": "2021-12-16T08:02:52.840Z"
   },
   {
    "duration": 42,
    "start_time": "2021-12-16T08:02:52.853Z"
   },
   {
    "duration": 8,
    "start_time": "2021-12-16T08:02:52.897Z"
   },
   {
    "duration": 23,
    "start_time": "2021-12-16T08:02:52.906Z"
   },
   {
    "duration": 8,
    "start_time": "2021-12-16T08:02:52.930Z"
   },
   {
    "duration": 18,
    "start_time": "2021-12-16T08:02:52.940Z"
   },
   {
    "duration": 28,
    "start_time": "2021-12-16T08:02:52.962Z"
   },
   {
    "duration": 12,
    "start_time": "2021-12-16T08:02:52.993Z"
   },
   {
    "duration": 20,
    "start_time": "2021-12-16T08:02:53.006Z"
   },
   {
    "duration": 8,
    "start_time": "2021-12-16T08:02:53.028Z"
   },
   {
    "duration": 6,
    "start_time": "2021-12-16T08:02:53.037Z"
   },
   {
    "duration": 47,
    "start_time": "2021-12-16T08:02:53.045Z"
   },
   {
    "duration": 7,
    "start_time": "2021-12-16T08:02:53.093Z"
   },
   {
    "duration": 25,
    "start_time": "2021-12-16T08:02:53.102Z"
   },
   {
    "duration": 11,
    "start_time": "2021-12-16T08:02:53.129Z"
   },
   {
    "duration": 16,
    "start_time": "2021-12-16T08:02:53.142Z"
   },
   {
    "duration": 4,
    "start_time": "2021-12-16T08:02:53.160Z"
   },
   {
    "duration": 14,
    "start_time": "2021-12-16T08:02:53.166Z"
   },
   {
    "duration": 19,
    "start_time": "2021-12-16T08:02:53.182Z"
   },
   {
    "duration": 5,
    "start_time": "2021-12-16T08:02:53.203Z"
   },
   {
    "duration": 7,
    "start_time": "2021-12-16T08:02:53.210Z"
   },
   {
    "duration": 8,
    "start_time": "2021-12-16T08:02:53.218Z"
   },
   {
    "duration": 13,
    "start_time": "2021-12-16T08:02:53.228Z"
   },
   {
    "duration": 55,
    "start_time": "2021-12-16T08:02:53.242Z"
   },
   {
    "duration": 5,
    "start_time": "2021-12-16T08:02:53.298Z"
   },
   {
    "duration": 12,
    "start_time": "2021-12-16T08:02:53.305Z"
   },
   {
    "duration": 10,
    "start_time": "2021-12-16T08:02:53.318Z"
   },
   {
    "duration": 19,
    "start_time": "2021-12-16T08:02:53.330Z"
   },
   {
    "duration": 5,
    "start_time": "2021-12-16T08:02:53.350Z"
   },
   {
    "duration": 36,
    "start_time": "2021-12-16T08:02:53.356Z"
   },
   {
    "duration": 4,
    "start_time": "2021-12-16T08:02:53.393Z"
   },
   {
    "duration": 17,
    "start_time": "2021-12-16T08:02:53.398Z"
   },
   {
    "duration": 27,
    "start_time": "2021-12-16T08:02:53.417Z"
   },
   {
    "duration": 14,
    "start_time": "2021-12-16T08:02:53.445Z"
   },
   {
    "duration": 45,
    "start_time": "2021-12-16T08:02:53.460Z"
   },
   {
    "duration": 22,
    "start_time": "2021-12-16T08:02:53.507Z"
   },
   {
    "duration": 19,
    "start_time": "2021-12-16T08:02:53.531Z"
   },
   {
    "duration": 105,
    "start_time": "2021-12-16T08:02:53.552Z"
   },
   {
    "duration": 11,
    "start_time": "2021-12-16T08:02:53.659Z"
   },
   {
    "duration": 86,
    "start_time": "2021-12-16T08:02:53.672Z"
   },
   {
    "duration": 79,
    "start_time": "2021-12-16T08:02:53.760Z"
   },
   {
    "duration": 2,
    "start_time": "2021-12-16T08:02:53.841Z"
   },
   {
    "duration": 16,
    "start_time": "2021-12-16T08:02:53.844Z"
   },
   {
    "duration": 21,
    "start_time": "2021-12-16T08:02:53.862Z"
   },
   {
    "duration": 28,
    "start_time": "2021-12-16T08:02:53.885Z"
   },
   {
    "duration": 4,
    "start_time": "2021-12-16T08:02:53.915Z"
   },
   {
    "duration": 22,
    "start_time": "2021-12-16T08:02:53.920Z"
   },
   {
    "duration": 14,
    "start_time": "2021-12-16T08:02:53.944Z"
   },
   {
    "duration": 33,
    "start_time": "2021-12-16T08:02:53.959Z"
   },
   {
    "duration": 6,
    "start_time": "2021-12-16T08:02:53.994Z"
   },
   {
    "duration": 38,
    "start_time": "2021-12-16T08:02:54.001Z"
   },
   {
    "duration": 3,
    "start_time": "2021-12-16T08:02:54.043Z"
   },
   {
    "duration": 10,
    "start_time": "2021-12-16T08:02:54.047Z"
   },
   {
    "duration": 633,
    "start_time": "2021-12-16T08:13:03.227Z"
   },
   {
    "duration": 4,
    "start_time": "2021-12-16T08:13:09.437Z"
   },
   {
    "duration": 341,
    "start_time": "2021-12-16T08:13:19.105Z"
   },
   {
    "duration": 10,
    "start_time": "2021-12-16T08:14:30.985Z"
   },
   {
    "duration": 254,
    "start_time": "2021-12-16T08:14:40.585Z"
   },
   {
    "duration": 7,
    "start_time": "2021-12-16T08:14:44.170Z"
   },
   {
    "duration": 8,
    "start_time": "2021-12-16T08:14:55.434Z"
   },
   {
    "duration": 7144,
    "start_time": "2021-12-16T08:15:16.966Z"
   },
   {
    "duration": 8440,
    "start_time": "2021-12-16T08:15:27.475Z"
   },
   {
    "duration": 4,
    "start_time": "2021-12-16T08:15:48.134Z"
   },
   {
    "duration": 7,
    "start_time": "2021-12-16T08:15:59.082Z"
   },
   {
    "duration": 6,
    "start_time": "2021-12-16T08:16:11.452Z"
   },
   {
    "duration": 648,
    "start_time": "2021-12-16T08:16:18.250Z"
   },
   {
    "duration": 7,
    "start_time": "2021-12-16T08:16:25.210Z"
   },
   {
    "duration": 10,
    "start_time": "2021-12-16T08:17:37.990Z"
   },
   {
    "duration": 253,
    "start_time": "2021-12-16T08:18:27.236Z"
   },
   {
    "duration": 247,
    "start_time": "2021-12-16T08:18:35.732Z"
   },
   {
    "duration": 79,
    "start_time": "2021-12-16T08:19:57.325Z"
   },
   {
    "duration": 7,
    "start_time": "2021-12-16T08:20:00.277Z"
   },
   {
    "duration": 241,
    "start_time": "2021-12-16T08:20:10.695Z"
   },
   {
    "duration": 10,
    "start_time": "2021-12-16T08:20:43.125Z"
   },
   {
    "duration": 7,
    "start_time": "2021-12-16T08:21:04.990Z"
   },
   {
    "duration": 7,
    "start_time": "2021-12-16T08:21:09.934Z"
   },
   {
    "duration": 248,
    "start_time": "2021-12-16T08:23:37.984Z"
   },
   {
    "duration": 8,
    "start_time": "2021-12-16T08:24:17.096Z"
   },
   {
    "duration": 8,
    "start_time": "2021-12-16T08:24:23.057Z"
   },
   {
    "duration": 235,
    "start_time": "2021-12-16T08:24:52.513Z"
   },
   {
    "duration": 8,
    "start_time": "2021-12-16T08:25:29.153Z"
   },
   {
    "duration": 14,
    "start_time": "2021-12-16T08:26:38.099Z"
   },
   {
    "duration": 7,
    "start_time": "2021-12-16T08:26:47.610Z"
   },
   {
    "duration": 12,
    "start_time": "2021-12-16T08:27:00.538Z"
   },
   {
    "duration": 9,
    "start_time": "2021-12-16T08:28:22.349Z"
   },
   {
    "duration": 87,
    "start_time": "2021-12-16T08:30:31.812Z"
   },
   {
    "duration": 97,
    "start_time": "2021-12-16T08:30:34.726Z"
   },
   {
    "duration": 85,
    "start_time": "2021-12-16T08:30:46.788Z"
   },
   {
    "duration": 79,
    "start_time": "2021-12-16T08:30:50.766Z"
   },
   {
    "duration": 9,
    "start_time": "2021-12-16T08:30:54.989Z"
   },
   {
    "duration": 251,
    "start_time": "2021-12-16T08:32:56.798Z"
   },
   {
    "duration": 234,
    "start_time": "2021-12-16T08:33:00.254Z"
   },
   {
    "duration": 77,
    "start_time": "2021-12-16T08:33:09.694Z"
   },
   {
    "duration": 243,
    "start_time": "2021-12-16T08:33:13.216Z"
   },
   {
    "duration": 8,
    "start_time": "2021-12-16T08:33:19.654Z"
   },
   {
    "duration": 4,
    "start_time": "2021-12-16T09:00:48.685Z"
   },
   {
    "duration": 3,
    "start_time": "2021-12-16T09:38:58.485Z"
   },
   {
    "duration": 59,
    "start_time": "2021-12-16T09:38:58.490Z"
   },
   {
    "duration": 15,
    "start_time": "2021-12-16T09:38:58.551Z"
   },
   {
    "duration": 4,
    "start_time": "2021-12-16T09:38:58.588Z"
   },
   {
    "duration": 14,
    "start_time": "2021-12-16T09:38:58.594Z"
   },
   {
    "duration": 35,
    "start_time": "2021-12-16T09:38:58.610Z"
   },
   {
    "duration": 55,
    "start_time": "2021-12-16T09:38:58.648Z"
   },
   {
    "duration": 18,
    "start_time": "2021-12-16T09:38:58.705Z"
   },
   {
    "duration": 7,
    "start_time": "2021-12-16T09:38:58.725Z"
   },
   {
    "duration": 63,
    "start_time": "2021-12-16T09:38:58.733Z"
   },
   {
    "duration": 18,
    "start_time": "2021-12-16T09:38:58.797Z"
   },
   {
    "duration": 3,
    "start_time": "2021-12-16T09:38:58.817Z"
   },
   {
    "duration": 17,
    "start_time": "2021-12-16T09:38:58.822Z"
   },
   {
    "duration": 79,
    "start_time": "2021-12-16T09:38:58.841Z"
   },
   {
    "duration": 19,
    "start_time": "2021-12-16T09:38:58.922Z"
   },
   {
    "duration": 6,
    "start_time": "2021-12-16T09:38:58.943Z"
   },
   {
    "duration": 38,
    "start_time": "2021-12-16T09:38:58.951Z"
   },
   {
    "duration": 12,
    "start_time": "2021-12-16T09:38:58.991Z"
   },
   {
    "duration": 9,
    "start_time": "2021-12-16T09:38:59.006Z"
   },
   {
    "duration": 25,
    "start_time": "2021-12-16T09:38:59.018Z"
   },
   {
    "duration": 8,
    "start_time": "2021-12-16T09:38:59.044Z"
   },
   {
    "duration": 43,
    "start_time": "2021-12-16T09:38:59.054Z"
   },
   {
    "duration": 3,
    "start_time": "2021-12-16T09:38:59.099Z"
   },
   {
    "duration": 17,
    "start_time": "2021-12-16T09:38:59.104Z"
   },
   {
    "duration": 33,
    "start_time": "2021-12-16T09:38:59.123Z"
   },
   {
    "duration": 33,
    "start_time": "2021-12-16T09:38:59.158Z"
   },
   {
    "duration": 6,
    "start_time": "2021-12-16T09:38:59.193Z"
   },
   {
    "duration": 23,
    "start_time": "2021-12-16T09:38:59.201Z"
   },
   {
    "duration": 8,
    "start_time": "2021-12-16T09:38:59.226Z"
   },
   {
    "duration": 7,
    "start_time": "2021-12-16T09:38:59.236Z"
   },
   {
    "duration": 44,
    "start_time": "2021-12-16T09:38:59.245Z"
   },
   {
    "duration": 8,
    "start_time": "2021-12-16T09:38:59.290Z"
   },
   {
    "duration": 7,
    "start_time": "2021-12-16T09:38:59.299Z"
   },
   {
    "duration": 17,
    "start_time": "2021-12-16T09:38:59.307Z"
   },
   {
    "duration": 18,
    "start_time": "2021-12-16T09:38:59.325Z"
   },
   {
    "duration": 8,
    "start_time": "2021-12-16T09:38:59.345Z"
   },
   {
    "duration": 33,
    "start_time": "2021-12-16T09:38:59.355Z"
   },
   {
    "duration": 4,
    "start_time": "2021-12-16T09:38:59.390Z"
   },
   {
    "duration": 16,
    "start_time": "2021-12-16T09:38:59.396Z"
   },
   {
    "duration": 60,
    "start_time": "2021-12-16T09:38:59.414Z"
   },
   {
    "duration": 16,
    "start_time": "2021-12-16T09:38:59.476Z"
   },
   {
    "duration": 18,
    "start_time": "2021-12-16T09:38:59.494Z"
   },
   {
    "duration": 31,
    "start_time": "2021-12-16T09:38:59.513Z"
   },
   {
    "duration": 24,
    "start_time": "2021-12-16T09:38:59.546Z"
   },
   {
    "duration": 7,
    "start_time": "2021-12-16T09:38:59.572Z"
   },
   {
    "duration": 26,
    "start_time": "2021-12-16T09:38:59.581Z"
   },
   {
    "duration": 4,
    "start_time": "2021-12-16T09:38:59.610Z"
   },
   {
    "duration": 17,
    "start_time": "2021-12-16T09:38:59.616Z"
   },
   {
    "duration": 58,
    "start_time": "2021-12-16T09:38:59.634Z"
   },
   {
    "duration": 16,
    "start_time": "2021-12-16T09:38:59.694Z"
   },
   {
    "duration": 20,
    "start_time": "2021-12-16T09:38:59.712Z"
   },
   {
    "duration": 27,
    "start_time": "2021-12-16T09:38:59.734Z"
   },
   {
    "duration": 31,
    "start_time": "2021-12-16T09:38:59.788Z"
   },
   {
    "duration": 133,
    "start_time": "2021-12-16T09:38:59.821Z"
   },
   {
    "duration": 6,
    "start_time": "2021-12-16T09:38:59.962Z"
   },
   {
    "duration": 136,
    "start_time": "2021-12-16T09:38:59.988Z"
   },
   {
    "duration": 134,
    "start_time": "2021-12-16T09:39:00.126Z"
   },
   {
    "duration": 2,
    "start_time": "2021-12-16T09:39:00.263Z"
   },
   {
    "duration": 19,
    "start_time": "2021-12-16T09:39:00.267Z"
   },
   {
    "duration": 19,
    "start_time": "2021-12-16T09:39:00.288Z"
   },
   {
    "duration": 39,
    "start_time": "2021-12-16T09:39:00.309Z"
   },
   {
    "duration": 7,
    "start_time": "2021-12-16T09:39:00.350Z"
   },
   {
    "duration": 8,
    "start_time": "2021-12-16T09:39:00.359Z"
   },
   {
    "duration": 40,
    "start_time": "2021-12-16T09:39:00.369Z"
   },
   {
    "duration": 23,
    "start_time": "2021-12-16T09:39:00.411Z"
   },
   {
    "duration": 9,
    "start_time": "2021-12-16T09:39:00.436Z"
   },
   {
    "duration": 63,
    "start_time": "2021-12-16T09:39:00.447Z"
   },
   {
    "duration": 20,
    "start_time": "2021-12-16T09:39:00.512Z"
   },
   {
    "duration": 16,
    "start_time": "2021-12-16T09:39:00.534Z"
   },
   {
    "duration": 9,
    "start_time": "2021-12-16T09:39:00.552Z"
   },
   {
    "duration": 759,
    "start_time": "2021-12-16T09:39:00.563Z"
   },
   {
    "duration": 9,
    "start_time": "2021-12-16T09:39:44.856Z"
   },
   {
    "duration": 241,
    "start_time": "2021-12-16T09:39:58.009Z"
   },
   {
    "duration": 243,
    "start_time": "2021-12-16T09:40:21.857Z"
   },
   {
    "duration": 6,
    "start_time": "2021-12-16T09:40:24.784Z"
   },
   {
    "duration": 5,
    "start_time": "2021-12-16T09:40:28.832Z"
   },
   {
    "duration": 453,
    "start_time": "2021-12-16T09:43:00.074Z"
   },
   {
    "duration": 4,
    "start_time": "2021-12-16T09:43:18.178Z"
   },
   {
    "duration": 4,
    "start_time": "2021-12-16T09:43:26.643Z"
   },
   {
    "duration": 4,
    "start_time": "2021-12-16T09:46:14.820Z"
   },
   {
    "duration": 5,
    "start_time": "2021-12-16T09:46:38.460Z"
   },
   {
    "duration": 8,
    "start_time": "2021-12-16T09:51:51.581Z"
   },
   {
    "duration": 5,
    "start_time": "2021-12-16T09:51:53.655Z"
   },
   {
    "duration": 5,
    "start_time": "2021-12-16T09:53:54.145Z"
   },
   {
    "duration": 3,
    "start_time": "2021-12-16T10:10:54.585Z"
   },
   {
    "duration": 4,
    "start_time": "2021-12-16T10:12:30.197Z"
   },
   {
    "duration": 243,
    "start_time": "2021-12-16T10:12:41.045Z"
   },
   {
    "duration": 4,
    "start_time": "2021-12-16T10:12:44.998Z"
   },
   {
    "duration": 243,
    "start_time": "2021-12-16T10:13:21.342Z"
   },
   {
    "duration": 521,
    "start_time": "2021-12-16T10:13:44.174Z"
   },
   {
    "duration": 248,
    "start_time": "2021-12-16T10:13:50.869Z"
   },
   {
    "duration": 258,
    "start_time": "2021-12-16T10:13:59.862Z"
   },
   {
    "duration": 246,
    "start_time": "2021-12-16T10:14:19.169Z"
   },
   {
    "duration": 270,
    "start_time": "2021-12-16T10:14:29.238Z"
   },
   {
    "duration": 326,
    "start_time": "2021-12-16T10:14:36.847Z"
   },
   {
    "duration": 5,
    "start_time": "2021-12-16T10:17:48.921Z"
   },
   {
    "duration": 8,
    "start_time": "2021-12-16T11:22:55.392Z"
   },
   {
    "duration": 8,
    "start_time": "2021-12-16T11:23:13.794Z"
   },
   {
    "duration": 9,
    "start_time": "2021-12-16T11:23:17.155Z"
   },
   {
    "duration": 5,
    "start_time": "2021-12-16T11:26:11.660Z"
   },
   {
    "duration": 228,
    "start_time": "2021-12-16T11:26:44.653Z"
   },
   {
    "duration": 5,
    "start_time": "2021-12-16T11:26:49.661Z"
   },
   {
    "duration": 2,
    "start_time": "2021-12-16T11:27:04.901Z"
   },
   {
    "duration": 8,
    "start_time": "2021-12-16T13:05:30.851Z"
   },
   {
    "duration": 2,
    "start_time": "2021-12-16T13:05:35.644Z"
   },
   {
    "duration": 4,
    "start_time": "2021-12-16T13:05:38.340Z"
   },
   {
    "duration": 4,
    "start_time": "2021-12-16T13:10:40.808Z"
   },
   {
    "duration": 3,
    "start_time": "2021-12-16T13:26:53.539Z"
   },
   {
    "duration": 3,
    "start_time": "2021-12-16T13:28:16.603Z"
   },
   {
    "duration": 3,
    "start_time": "2021-12-16T13:28:32.696Z"
   },
   {
    "duration": 3,
    "start_time": "2021-12-16T13:28:38.940Z"
   },
   {
    "duration": 4,
    "start_time": "2021-12-16T13:34:42.687Z"
   },
   {
    "duration": 4,
    "start_time": "2021-12-16T14:27:30.783Z"
   },
   {
    "duration": 6095,
    "start_time": "2021-12-16T14:27:31.890Z"
   },
   {
    "duration": 11,
    "start_time": "2021-12-16T14:27:59.755Z"
   },
   {
    "duration": 20,
    "start_time": "2021-12-16T14:28:08.201Z"
   },
   {
    "duration": 676,
    "start_time": "2021-12-16T14:28:51.121Z"
   },
   {
    "duration": 234,
    "start_time": "2021-12-16T14:29:00.299Z"
   },
   {
    "duration": 5,
    "start_time": "2021-12-16T14:29:09.314Z"
   },
   {
    "duration": 34,
    "start_time": "2021-12-16T14:31:25.357Z"
   },
   {
    "duration": 33,
    "start_time": "2021-12-16T14:31:31.945Z"
   },
   {
    "duration": 22,
    "start_time": "2021-12-16T14:32:33.962Z"
   },
   {
    "duration": 231,
    "start_time": "2021-12-16T14:34:55.323Z"
   },
   {
    "duration": 231,
    "start_time": "2021-12-16T14:34:59.718Z"
   },
   {
    "duration": 359,
    "start_time": "2021-12-16T14:35:04.030Z"
   },
   {
    "duration": 244,
    "start_time": "2021-12-16T14:35:11.080Z"
   },
   {
    "duration": 239,
    "start_time": "2021-12-16T14:35:30.072Z"
   },
   {
    "duration": 25,
    "start_time": "2021-12-16T14:35:35.184Z"
   },
   {
    "duration": 724,
    "start_time": "2021-12-16T17:26:32.456Z"
   },
   {
    "duration": 63,
    "start_time": "2021-12-16T17:26:33.182Z"
   },
   {
    "duration": 29,
    "start_time": "2021-12-16T17:26:33.249Z"
   },
   {
    "duration": 5,
    "start_time": "2021-12-16T17:26:33.281Z"
   },
   {
    "duration": 40,
    "start_time": "2021-12-16T17:26:33.289Z"
   },
   {
    "duration": 46,
    "start_time": "2021-12-16T17:26:33.331Z"
   },
   {
    "duration": 51,
    "start_time": "2021-12-16T17:26:33.379Z"
   },
   {
    "duration": 25,
    "start_time": "2021-12-16T17:26:33.432Z"
   },
   {
    "duration": 10,
    "start_time": "2021-12-16T17:26:33.461Z"
   },
   {
    "duration": 65,
    "start_time": "2021-12-16T17:26:33.475Z"
   },
   {
    "duration": 24,
    "start_time": "2021-12-16T17:26:33.543Z"
   },
   {
    "duration": 50,
    "start_time": "2021-12-16T17:26:33.569Z"
   },
   {
    "duration": 29,
    "start_time": "2021-12-16T17:26:33.621Z"
   },
   {
    "duration": 98,
    "start_time": "2021-12-16T17:26:33.652Z"
   },
   {
    "duration": 25,
    "start_time": "2021-12-16T17:26:33.752Z"
   },
   {
    "duration": 42,
    "start_time": "2021-12-16T17:26:33.779Z"
   },
   {
    "duration": 20,
    "start_time": "2021-12-16T17:26:33.823Z"
   },
   {
    "duration": 12,
    "start_time": "2021-12-16T17:26:33.846Z"
   },
   {
    "duration": 12,
    "start_time": "2021-12-16T17:26:33.861Z"
   },
   {
    "duration": 39,
    "start_time": "2021-12-16T17:26:33.918Z"
   },
   {
    "duration": 11,
    "start_time": "2021-12-16T17:26:33.959Z"
   },
   {
    "duration": 55,
    "start_time": "2021-12-16T17:26:33.972Z"
   },
   {
    "duration": 4,
    "start_time": "2021-12-16T17:26:34.029Z"
   },
   {
    "duration": 23,
    "start_time": "2021-12-16T17:26:34.035Z"
   },
   {
    "duration": 68,
    "start_time": "2021-12-16T17:26:34.061Z"
   },
   {
    "duration": 12,
    "start_time": "2021-12-16T17:26:34.132Z"
   },
   {
    "duration": 6,
    "start_time": "2021-12-16T17:26:34.151Z"
   },
   {
    "duration": 65,
    "start_time": "2021-12-16T17:26:34.161Z"
   },
   {
    "duration": 10,
    "start_time": "2021-12-16T17:26:34.228Z"
   },
   {
    "duration": 8,
    "start_time": "2021-12-16T17:26:34.240Z"
   },
   {
    "duration": 9,
    "start_time": "2021-12-16T17:26:34.250Z"
   },
   {
    "duration": 58,
    "start_time": "2021-12-16T17:26:34.262Z"
   },
   {
    "duration": 8,
    "start_time": "2021-12-16T17:26:34.323Z"
   },
   {
    "duration": 21,
    "start_time": "2021-12-16T17:26:34.333Z"
   },
   {
    "duration": 63,
    "start_time": "2021-12-16T17:26:34.356Z"
   },
   {
    "duration": 10,
    "start_time": "2021-12-16T17:26:34.421Z"
   },
   {
    "duration": 6,
    "start_time": "2021-12-16T17:26:34.433Z"
   },
   {
    "duration": 6,
    "start_time": "2021-12-16T17:26:34.441Z"
   },
   {
    "duration": 14,
    "start_time": "2021-12-16T17:26:34.449Z"
   },
   {
    "duration": 157,
    "start_time": "2021-12-16T17:26:34.466Z"
   },
   {
    "duration": 9,
    "start_time": "2021-12-16T17:26:34.626Z"
   },
   {
    "duration": 9,
    "start_time": "2021-12-16T17:26:34.638Z"
   },
   {
    "duration": 7,
    "start_time": "2021-12-16T17:26:34.649Z"
   },
   {
    "duration": 64,
    "start_time": "2021-12-16T17:26:34.659Z"
   },
   {
    "duration": 9,
    "start_time": "2021-12-16T17:26:34.726Z"
   },
   {
    "duration": 39,
    "start_time": "2021-12-16T17:26:34.737Z"
   },
   {
    "duration": 7,
    "start_time": "2021-12-16T17:26:34.779Z"
   },
   {
    "duration": 17,
    "start_time": "2021-12-16T17:26:34.818Z"
   },
   {
    "duration": 45,
    "start_time": "2021-12-16T17:26:34.837Z"
   },
   {
    "duration": 53,
    "start_time": "2021-12-16T17:26:34.884Z"
   },
   {
    "duration": 33,
    "start_time": "2021-12-16T17:26:34.940Z"
   },
   {
    "duration": 73,
    "start_time": "2021-12-16T17:26:34.975Z"
   },
   {
    "duration": 35,
    "start_time": "2021-12-16T17:26:35.050Z"
   },
   {
    "duration": 140,
    "start_time": "2021-12-16T17:26:35.117Z"
   },
   {
    "duration": 31,
    "start_time": "2021-12-16T17:26:35.259Z"
   },
   {
    "duration": 120,
    "start_time": "2021-12-16T17:26:35.293Z"
   },
   {
    "duration": 124,
    "start_time": "2021-12-16T17:26:35.415Z"
   },
   {
    "duration": 3,
    "start_time": "2021-12-16T17:26:35.541Z"
   },
   {
    "duration": 16,
    "start_time": "2021-12-16T17:26:35.546Z"
   },
   {
    "duration": 31,
    "start_time": "2021-12-16T17:26:35.564Z"
   },
   {
    "duration": 51,
    "start_time": "2021-12-16T17:26:35.597Z"
   },
   {
    "duration": 6,
    "start_time": "2021-12-16T17:26:35.651Z"
   },
   {
    "duration": 8,
    "start_time": "2021-12-16T17:26:35.660Z"
   },
   {
    "duration": 22,
    "start_time": "2021-12-16T17:26:35.670Z"
   },
   {
    "duration": 26,
    "start_time": "2021-12-16T17:26:35.717Z"
   },
   {
    "duration": 11,
    "start_time": "2021-12-16T17:26:35.746Z"
   },
   {
    "duration": 83,
    "start_time": "2021-12-16T17:26:35.759Z"
   },
   {
    "duration": 3,
    "start_time": "2021-12-16T17:26:35.845Z"
   },
   {
    "duration": 28,
    "start_time": "2021-12-16T17:26:35.851Z"
   },
   {
    "duration": 7,
    "start_time": "2021-12-16T17:26:35.882Z"
   },
   {
    "duration": 1045,
    "start_time": "2021-12-16T17:26:35.918Z"
   },
   {
    "duration": 6,
    "start_time": "2021-12-16T17:26:36.966Z"
   },
   {
    "duration": 5,
    "start_time": "2021-12-16T17:26:36.974Z"
   },
   {
    "duration": 5,
    "start_time": "2021-12-16T17:26:36.981Z"
   },
   {
    "duration": 19,
    "start_time": "2021-12-16T17:26:37.016Z"
   },
   {
    "duration": 15,
    "start_time": "2021-12-16T17:26:37.037Z"
   },
   {
    "duration": 63,
    "start_time": "2021-12-16T17:26:37.054Z"
   },
   {
    "duration": 32,
    "start_time": "2021-12-16T18:04:17.256Z"
   },
   {
    "duration": 10,
    "start_time": "2021-12-16T18:11:38.546Z"
   },
   {
    "duration": 10,
    "start_time": "2021-12-16T18:12:16.119Z"
   },
   {
    "duration": 10,
    "start_time": "2021-12-16T18:19:20.479Z"
   },
   {
    "duration": 7,
    "start_time": "2021-12-16T18:21:23.018Z"
   },
   {
    "duration": 8,
    "start_time": "2021-12-16T18:21:36.127Z"
   },
   {
    "duration": 8,
    "start_time": "2021-12-16T18:21:47.118Z"
   },
   {
    "duration": 9,
    "start_time": "2021-12-16T18:21:52.978Z"
   },
   {
    "duration": 9,
    "start_time": "2021-12-16T18:22:25.803Z"
   },
   {
    "duration": 9,
    "start_time": "2021-12-16T18:22:50.350Z"
   },
   {
    "duration": 12,
    "start_time": "2021-12-16T18:28:46.452Z"
   },
   {
    "duration": 12,
    "start_time": "2021-12-16T18:29:06.994Z"
   },
   {
    "duration": 11,
    "start_time": "2021-12-16T18:29:17.137Z"
   },
   {
    "duration": 11,
    "start_time": "2021-12-16T18:29:31.363Z"
   },
   {
    "duration": 76,
    "start_time": "2021-12-16T18:29:49.538Z"
   },
   {
    "duration": 375,
    "start_time": "2021-12-16T18:29:58.054Z"
   },
   {
    "duration": 12,
    "start_time": "2021-12-16T18:30:09.054Z"
   },
   {
    "duration": 256,
    "start_time": "2021-12-16T18:30:38.979Z"
   },
   {
    "duration": 267,
    "start_time": "2021-12-16T18:32:31.662Z"
   },
   {
    "duration": 326,
    "start_time": "2021-12-16T18:33:31.817Z"
   },
   {
    "duration": 8,
    "start_time": "2021-12-16T18:35:05.097Z"
   },
   {
    "duration": 6,
    "start_time": "2021-12-16T18:35:10.630Z"
   },
   {
    "duration": 289,
    "start_time": "2021-12-16T18:36:52.552Z"
   },
   {
    "duration": 6,
    "start_time": "2021-12-16T18:36:59.608Z"
   },
   {
    "duration": 7,
    "start_time": "2021-12-16T18:37:01.515Z"
   },
   {
    "duration": 269,
    "start_time": "2021-12-16T18:37:12.455Z"
   },
   {
    "duration": 85,
    "start_time": "2021-12-16T18:40:41.682Z"
   },
   {
    "duration": 256,
    "start_time": "2021-12-16T18:40:51.190Z"
   },
   {
    "duration": 26,
    "start_time": "2021-12-16T18:41:32.707Z"
   },
   {
    "duration": 46,
    "start_time": "2021-12-16T18:41:52.244Z"
   },
   {
    "duration": 266,
    "start_time": "2021-12-16T18:42:52.040Z"
   },
   {
    "duration": 79,
    "start_time": "2021-12-16T18:43:02.317Z"
   },
   {
    "duration": 274,
    "start_time": "2021-12-16T18:46:10.704Z"
   },
   {
    "duration": 13,
    "start_time": "2021-12-16T18:49:19.815Z"
   },
   {
    "duration": 11,
    "start_time": "2021-12-16T18:49:48.184Z"
   },
   {
    "duration": 247,
    "start_time": "2021-12-16T18:50:03.748Z"
   },
   {
    "duration": 82,
    "start_time": "2021-12-16T18:50:50.967Z"
   },
   {
    "duration": 245,
    "start_time": "2021-12-16T18:51:20.546Z"
   },
   {
    "duration": 11,
    "start_time": "2021-12-16T18:51:37.534Z"
   },
   {
    "duration": 15,
    "start_time": "2021-12-16T18:58:08.862Z"
   },
   {
    "duration": 19,
    "start_time": "2021-12-16T18:58:53.848Z"
   },
   {
    "duration": 10,
    "start_time": "2021-12-16T18:59:56.369Z"
   },
   {
    "duration": 18,
    "start_time": "2021-12-16T19:00:04.048Z"
   },
   {
    "duration": 21,
    "start_time": "2021-12-16T19:01:34.801Z"
   },
   {
    "duration": 261,
    "start_time": "2021-12-16T19:02:04.914Z"
   },
   {
    "duration": 19,
    "start_time": "2021-12-16T19:02:13.863Z"
   },
   {
    "duration": 19,
    "start_time": "2021-12-16T19:02:53.229Z"
   },
   {
    "duration": 20,
    "start_time": "2021-12-16T19:03:09.603Z"
   },
   {
    "duration": 21,
    "start_time": "2021-12-16T19:04:02.934Z"
   },
   {
    "duration": 20,
    "start_time": "2021-12-16T19:04:09.457Z"
   },
   {
    "duration": 14,
    "start_time": "2021-12-16T19:07:17.113Z"
   },
   {
    "duration": 12,
    "start_time": "2021-12-16T19:07:24.018Z"
   },
   {
    "duration": 9,
    "start_time": "2021-12-16T19:07:45.117Z"
   },
   {
    "duration": 11,
    "start_time": "2021-12-16T19:08:08.622Z"
   },
   {
    "duration": 11,
    "start_time": "2021-12-16T19:08:35.356Z"
   },
   {
    "duration": 15,
    "start_time": "2021-12-16T19:09:16.894Z"
   },
   {
    "duration": 16,
    "start_time": "2021-12-16T19:11:13.587Z"
   },
   {
    "duration": 17,
    "start_time": "2021-12-16T19:19:28.071Z"
   },
   {
    "duration": 18,
    "start_time": "2021-12-16T19:19:37.570Z"
   },
   {
    "duration": 19,
    "start_time": "2021-12-16T19:19:48.849Z"
   },
   {
    "duration": 17,
    "start_time": "2021-12-16T19:20:15.017Z"
   },
   {
    "duration": 17,
    "start_time": "2021-12-16T19:20:49.469Z"
   },
   {
    "duration": 95,
    "start_time": "2021-12-16T19:22:45.221Z"
   },
   {
    "duration": 317,
    "start_time": "2021-12-16T19:22:48.989Z"
   },
   {
    "duration": 325,
    "start_time": "2021-12-16T19:23:10.076Z"
   },
   {
    "duration": 306,
    "start_time": "2021-12-16T19:23:19.625Z"
   },
   {
    "duration": 14,
    "start_time": "2021-12-16T19:23:27.677Z"
   },
   {
    "duration": 15,
    "start_time": "2021-12-16T19:23:41.147Z"
   },
   {
    "duration": 309,
    "start_time": "2021-12-16T19:28:22.062Z"
   },
   {
    "duration": 23,
    "start_time": "2021-12-16T19:28:41.779Z"
   },
   {
    "duration": 72,
    "start_time": "2021-12-16T19:29:41.539Z"
   },
   {
    "duration": 47,
    "start_time": "2021-12-16T19:30:25.844Z"
   },
   {
    "duration": 68,
    "start_time": "2021-12-16T19:31:25.945Z"
   },
   {
    "duration": 69,
    "start_time": "2021-12-16T19:31:43.358Z"
   },
   {
    "duration": 288,
    "start_time": "2021-12-16T19:33:01.914Z"
   },
   {
    "duration": 289,
    "start_time": "2021-12-16T19:34:31.477Z"
   },
   {
    "duration": 30,
    "start_time": "2021-12-16T19:35:43.635Z"
   },
   {
    "duration": 28,
    "start_time": "2021-12-16T19:39:45.200Z"
   },
   {
    "duration": 31,
    "start_time": "2021-12-16T19:46:41.791Z"
   },
   {
    "duration": 30,
    "start_time": "2021-12-16T19:47:26.280Z"
   },
   {
    "duration": 7268,
    "start_time": "2021-12-16T19:49:05.310Z"
   },
   {
    "duration": 34,
    "start_time": "2021-12-16T19:49:45.886Z"
   },
   {
    "duration": 34,
    "start_time": "2021-12-16T19:51:39.887Z"
   },
   {
    "duration": 26,
    "start_time": "2021-12-16T19:51:50.999Z"
   },
   {
    "duration": 33,
    "start_time": "2021-12-16T19:52:29.026Z"
   },
   {
    "duration": 34,
    "start_time": "2021-12-16T19:52:34.435Z"
   },
   {
    "duration": 34,
    "start_time": "2021-12-16T19:55:35.302Z"
   },
   {
    "duration": 33,
    "start_time": "2021-12-16T20:13:19.667Z"
   },
   {
    "duration": 21,
    "start_time": "2021-12-16T20:42:25.447Z"
   },
   {
    "duration": 17,
    "start_time": "2021-12-16T20:43:08.667Z"
   },
   {
    "duration": 22,
    "start_time": "2021-12-16T20:43:19.625Z"
   },
   {
    "duration": 21,
    "start_time": "2021-12-16T20:43:31.393Z"
   },
   {
    "duration": 20,
    "start_time": "2021-12-16T20:43:41.826Z"
   },
   {
    "duration": 21,
    "start_time": "2021-12-16T20:46:52.221Z"
   },
   {
    "duration": 8674,
    "start_time": "2021-12-16T20:53:42.949Z"
   },
   {
    "duration": 36,
    "start_time": "2021-12-16T20:54:10.701Z"
   },
   {
    "duration": 33,
    "start_time": "2021-12-16T21:03:04.904Z"
   },
   {
    "duration": 33,
    "start_time": "2021-12-16T21:03:23.734Z"
   },
   {
    "duration": 502,
    "start_time": "2021-12-16T21:21:42.713Z"
   },
   {
    "duration": 35,
    "start_time": "2021-12-16T21:21:56.818Z"
   },
   {
    "duration": 7231,
    "start_time": "2021-12-16T21:28:33.371Z"
   },
   {
    "duration": -591,
    "start_time": "2021-12-16T21:28:51.865Z"
   },
   {
    "duration": 36,
    "start_time": "2021-12-16T21:29:04.629Z"
   },
   {
    "duration": 34,
    "start_time": "2021-12-16T21:29:13.034Z"
   },
   {
    "duration": 4,
    "start_time": "2021-12-16T21:29:17.330Z"
   },
   {
    "duration": 65,
    "start_time": "2021-12-16T21:29:17.337Z"
   },
   {
    "duration": 22,
    "start_time": "2021-12-16T21:29:17.418Z"
   },
   {
    "duration": 5,
    "start_time": "2021-12-16T21:29:17.443Z"
   },
   {
    "duration": 30,
    "start_time": "2021-12-16T21:29:17.450Z"
   },
   {
    "duration": 81,
    "start_time": "2021-12-16T21:29:17.482Z"
   },
   {
    "duration": 22,
    "start_time": "2021-12-16T21:29:17.565Z"
   },
   {
    "duration": 32,
    "start_time": "2021-12-16T21:29:17.624Z"
   },
   {
    "duration": 10,
    "start_time": "2021-12-16T21:29:17.659Z"
   },
   {
    "duration": 64,
    "start_time": "2021-12-16T21:29:17.671Z"
   },
   {
    "duration": 23,
    "start_time": "2021-12-16T21:29:17.738Z"
   },
   {
    "duration": 15,
    "start_time": "2021-12-16T21:29:17.764Z"
   },
   {
    "duration": 59,
    "start_time": "2021-12-16T21:29:17.781Z"
   },
   {
    "duration": 92,
    "start_time": "2021-12-16T21:29:17.842Z"
   },
   {
    "duration": 23,
    "start_time": "2021-12-16T21:29:17.937Z"
   },
   {
    "duration": 9,
    "start_time": "2021-12-16T21:29:17.963Z"
   },
   {
    "duration": 60,
    "start_time": "2021-12-16T21:29:17.974Z"
   },
   {
    "duration": 21,
    "start_time": "2021-12-16T21:29:18.037Z"
   },
   {
    "duration": 11,
    "start_time": "2021-12-16T21:29:18.061Z"
   },
   {
    "duration": 56,
    "start_time": "2021-12-16T21:29:18.074Z"
   },
   {
    "duration": 10,
    "start_time": "2021-12-16T21:29:18.133Z"
   },
   {
    "duration": 33,
    "start_time": "2021-12-16T21:29:18.146Z"
   },
   {
    "duration": 8,
    "start_time": "2021-12-16T21:29:18.185Z"
   },
   {
    "duration": 25,
    "start_time": "2021-12-16T21:29:18.220Z"
   },
   {
    "duration": 46,
    "start_time": "2021-12-16T21:29:18.247Z"
   },
   {
    "duration": 11,
    "start_time": "2021-12-16T21:29:18.296Z"
   },
   {
    "duration": 12,
    "start_time": "2021-12-16T21:29:18.326Z"
   },
   {
    "duration": 36,
    "start_time": "2021-12-16T21:29:18.341Z"
   },
   {
    "duration": 13,
    "start_time": "2021-12-16T21:29:18.379Z"
   },
   {
    "duration": 16,
    "start_time": "2021-12-16T21:29:18.394Z"
   },
   {
    "duration": 17,
    "start_time": "2021-12-16T21:29:18.416Z"
   },
   {
    "duration": 25,
    "start_time": "2021-12-16T21:29:18.435Z"
   },
   {
    "duration": 32,
    "start_time": "2021-12-16T21:29:18.462Z"
   },
   {
    "duration": 22,
    "start_time": "2021-12-16T21:29:18.497Z"
   },
   {
    "duration": 35,
    "start_time": "2021-12-16T21:29:18.521Z"
   },
   {
    "duration": 28,
    "start_time": "2021-12-16T21:29:18.559Z"
   },
   {
    "duration": 15,
    "start_time": "2021-12-16T21:29:18.589Z"
   },
   {
    "duration": 24,
    "start_time": "2021-12-16T21:29:18.606Z"
   },
   {
    "duration": 23,
    "start_time": "2021-12-16T21:29:18.632Z"
   },
   {
    "duration": 95,
    "start_time": "2021-12-16T21:29:18.658Z"
   },
   {
    "duration": 7,
    "start_time": "2021-12-16T21:29:18.756Z"
   },
   {
    "duration": 17,
    "start_time": "2021-12-16T21:29:18.766Z"
   },
   {
    "duration": 20,
    "start_time": "2021-12-16T21:29:18.786Z"
   },
   {
    "duration": 48,
    "start_time": "2021-12-16T21:29:18.809Z"
   },
   {
    "duration": 17,
    "start_time": "2021-12-16T21:29:18.860Z"
   },
   {
    "duration": 46,
    "start_time": "2021-12-16T21:29:18.879Z"
   },
   {
    "duration": 7,
    "start_time": "2021-12-16T21:29:18.928Z"
   },
   {
    "duration": 21,
    "start_time": "2021-12-16T21:29:18.937Z"
   },
   {
    "duration": 69,
    "start_time": "2021-12-16T21:29:18.961Z"
   },
   {
    "duration": 25,
    "start_time": "2021-12-16T21:29:19.033Z"
   },
   {
    "duration": 38,
    "start_time": "2021-12-16T21:29:19.061Z"
   },
   {
    "duration": 39,
    "start_time": "2021-12-16T21:29:19.122Z"
   },
   {
    "duration": 60,
    "start_time": "2021-12-16T21:29:19.163Z"
   },
   {
    "duration": 165,
    "start_time": "2021-12-16T21:29:19.230Z"
   },
   {
    "duration": 32,
    "start_time": "2021-12-16T21:29:19.398Z"
   },
   {
    "duration": 146,
    "start_time": "2021-12-16T21:29:19.433Z"
   },
   {
    "duration": 122,
    "start_time": "2021-12-16T21:29:19.582Z"
   },
   {
    "duration": 2,
    "start_time": "2021-12-16T21:29:19.707Z"
   },
   {
    "duration": 16,
    "start_time": "2021-12-16T21:29:19.711Z"
   },
   {
    "duration": 18,
    "start_time": "2021-12-16T21:29:19.730Z"
   },
   {
    "duration": 36,
    "start_time": "2021-12-16T21:29:19.751Z"
   },
   {
    "duration": 40,
    "start_time": "2021-12-16T21:29:19.789Z"
   },
   {
    "duration": 7,
    "start_time": "2021-12-16T21:29:19.832Z"
   },
   {
    "duration": 18,
    "start_time": "2021-12-16T21:29:19.841Z"
   },
   {
    "duration": 24,
    "start_time": "2021-12-16T21:29:19.861Z"
   },
   {
    "duration": 41,
    "start_time": "2021-12-16T21:29:19.887Z"
   },
   {
    "duration": 52,
    "start_time": "2021-12-16T21:29:19.931Z"
   },
   {
    "duration": 28,
    "start_time": "2021-12-16T21:29:20.024Z"
   },
   {
    "duration": 16,
    "start_time": "2021-12-16T21:29:20.055Z"
   },
   {
    "duration": 5,
    "start_time": "2021-12-16T21:29:20.074Z"
   },
   {
    "duration": 986,
    "start_time": "2021-12-16T21:29:20.081Z"
   },
   {
    "duration": 6,
    "start_time": "2021-12-16T21:29:21.069Z"
   },
   {
    "duration": 5,
    "start_time": "2021-12-16T21:29:21.078Z"
   },
   {
    "duration": 6,
    "start_time": "2021-12-16T21:29:21.085Z"
   },
   {
    "duration": 46,
    "start_time": "2021-12-16T21:29:21.093Z"
   },
   {
    "duration": 6,
    "start_time": "2021-12-16T21:29:21.141Z"
   },
   {
    "duration": 67,
    "start_time": "2021-12-16T21:29:21.150Z"
   },
   {
    "duration": 20,
    "start_time": "2021-12-16T21:29:21.220Z"
   },
   {
    "duration": 34,
    "start_time": "2021-12-16T21:29:21.242Z"
   },
   {
    "duration": 54,
    "start_time": "2021-12-16T21:29:21.278Z"
   },
   {
    "duration": 34,
    "start_time": "2021-12-16T21:29:21.335Z"
   },
   {
    "duration": 10,
    "start_time": "2021-12-16T21:31:15.641Z"
   },
   {
    "duration": 34,
    "start_time": "2021-12-16T21:31:51.696Z"
   },
   {
    "duration": 12,
    "start_time": "2021-12-16T21:32:08.381Z"
   },
   {
    "duration": 13,
    "start_time": "2021-12-16T21:32:30.832Z"
   },
   {
    "duration": 12,
    "start_time": "2021-12-16T21:35:23.563Z"
   },
   {
    "duration": 12,
    "start_time": "2021-12-16T21:36:00.079Z"
   },
   {
    "duration": 6,
    "start_time": "2021-12-16T21:36:10.750Z"
   },
   {
    "duration": 8,
    "start_time": "2021-12-16T21:36:18.820Z"
   },
   {
    "duration": 5,
    "start_time": "2021-12-16T21:42:58.976Z"
   },
   {
    "duration": 4,
    "start_time": "2021-12-16T21:43:09.510Z"
   },
   {
    "duration": 67,
    "start_time": "2021-12-16T21:43:09.516Z"
   },
   {
    "duration": 49,
    "start_time": "2021-12-16T21:43:09.585Z"
   },
   {
    "duration": 5,
    "start_time": "2021-12-16T21:43:09.637Z"
   },
   {
    "duration": 15,
    "start_time": "2021-12-16T21:43:09.645Z"
   },
   {
    "duration": 101,
    "start_time": "2021-12-16T21:43:09.662Z"
   },
   {
    "duration": 60,
    "start_time": "2021-12-16T21:43:09.765Z"
   },
   {
    "duration": 26,
    "start_time": "2021-12-16T21:43:09.829Z"
   },
   {
    "duration": 9,
    "start_time": "2021-12-16T21:43:09.858Z"
   },
   {
    "duration": 71,
    "start_time": "2021-12-16T21:43:09.869Z"
   },
   {
    "duration": 22,
    "start_time": "2021-12-16T21:43:09.942Z"
   },
   {
    "duration": 5,
    "start_time": "2021-12-16T21:43:09.966Z"
   },
   {
    "duration": 71,
    "start_time": "2021-12-16T21:43:09.973Z"
   },
   {
    "duration": 78,
    "start_time": "2021-12-16T21:43:10.047Z"
   },
   {
    "duration": 32,
    "start_time": "2021-12-16T21:43:10.129Z"
   },
   {
    "duration": 10,
    "start_time": "2021-12-16T21:43:10.163Z"
   },
   {
    "duration": 60,
    "start_time": "2021-12-16T21:43:10.175Z"
   },
   {
    "duration": 10,
    "start_time": "2021-12-16T21:43:10.237Z"
   },
   {
    "duration": 10,
    "start_time": "2021-12-16T21:43:10.249Z"
   },
   {
    "duration": 69,
    "start_time": "2021-12-16T21:43:10.262Z"
   },
   {
    "duration": 11,
    "start_time": "2021-12-16T21:43:10.333Z"
   },
   {
    "duration": 16,
    "start_time": "2021-12-16T21:43:10.346Z"
   },
   {
    "duration": 4,
    "start_time": "2021-12-16T21:43:10.368Z"
   },
   {
    "duration": 66,
    "start_time": "2021-12-16T21:43:10.376Z"
   },
   {
    "duration": 36,
    "start_time": "2021-12-16T21:43:10.445Z"
   },
   {
    "duration": 15,
    "start_time": "2021-12-16T21:43:10.484Z"
   },
   {
    "duration": 8,
    "start_time": "2021-12-16T21:43:10.522Z"
   },
   {
    "duration": 26,
    "start_time": "2021-12-16T21:43:10.533Z"
   },
   {
    "duration": 10,
    "start_time": "2021-12-16T21:43:10.562Z"
   },
   {
    "duration": 7,
    "start_time": "2021-12-16T21:43:10.575Z"
   },
   {
    "duration": 16,
    "start_time": "2021-12-16T21:43:10.619Z"
   },
   {
    "duration": 10,
    "start_time": "2021-12-16T21:43:10.637Z"
   },
   {
    "duration": 7,
    "start_time": "2021-12-16T21:43:10.650Z"
   },
   {
    "duration": 66,
    "start_time": "2021-12-16T21:43:10.660Z"
   },
   {
    "duration": 25,
    "start_time": "2021-12-16T21:43:10.728Z"
   },
   {
    "duration": 9,
    "start_time": "2021-12-16T21:43:10.756Z"
   },
   {
    "duration": 8,
    "start_time": "2021-12-16T21:43:10.768Z"
   },
   {
    "duration": 48,
    "start_time": "2021-12-16T21:43:10.778Z"
   },
   {
    "duration": 11,
    "start_time": "2021-12-16T21:43:10.829Z"
   },
   {
    "duration": 100,
    "start_time": "2021-12-16T21:43:10.842Z"
   },
   {
    "duration": 8,
    "start_time": "2021-12-16T21:43:10.943Z"
   },
   {
    "duration": 11,
    "start_time": "2021-12-16T21:43:10.953Z"
   },
   {
    "duration": 10,
    "start_time": "2021-12-16T21:43:10.966Z"
   },
   {
    "duration": 58,
    "start_time": "2021-12-16T21:43:10.978Z"
   },
   {
    "duration": 7,
    "start_time": "2021-12-16T21:43:11.038Z"
   },
   {
    "duration": 39,
    "start_time": "2021-12-16T21:43:11.048Z"
   },
   {
    "duration": 27,
    "start_time": "2021-12-16T21:43:11.089Z"
   },
   {
    "duration": 20,
    "start_time": "2021-12-16T21:43:11.119Z"
   },
   {
    "duration": 45,
    "start_time": "2021-12-16T21:43:11.142Z"
   },
   {
    "duration": 32,
    "start_time": "2021-12-16T21:43:11.218Z"
   },
   {
    "duration": 31,
    "start_time": "2021-12-16T21:43:11.252Z"
   },
   {
    "duration": 64,
    "start_time": "2021-12-16T21:43:11.285Z"
   },
   {
    "duration": 37,
    "start_time": "2021-12-16T21:43:11.352Z"
   },
   {
    "duration": 156,
    "start_time": "2021-12-16T21:43:11.418Z"
   },
   {
    "duration": 8,
    "start_time": "2021-12-16T21:43:11.576Z"
   },
   {
    "duration": 156,
    "start_time": "2021-12-16T21:43:11.587Z"
   },
   {
    "duration": 132,
    "start_time": "2021-12-16T21:43:11.745Z"
   },
   {
    "duration": 3,
    "start_time": "2021-12-16T21:43:11.879Z"
   },
   {
    "duration": 6,
    "start_time": "2021-12-16T21:43:11.885Z"
   },
   {
    "duration": 36,
    "start_time": "2021-12-16T21:43:11.893Z"
   },
   {
    "duration": 37,
    "start_time": "2021-12-16T21:43:11.932Z"
   },
   {
    "duration": 6,
    "start_time": "2021-12-16T21:43:11.971Z"
   },
   {
    "duration": 43,
    "start_time": "2021-12-16T21:43:11.980Z"
   },
   {
    "duration": 20,
    "start_time": "2021-12-16T21:43:12.026Z"
   },
   {
    "duration": 25,
    "start_time": "2021-12-16T21:43:12.048Z"
   },
   {
    "duration": 43,
    "start_time": "2021-12-16T21:43:12.076Z"
   },
   {
    "duration": 50,
    "start_time": "2021-12-16T21:43:12.125Z"
   },
   {
    "duration": 45,
    "start_time": "2021-12-16T21:43:12.182Z"
   },
   {
    "duration": 23,
    "start_time": "2021-12-16T21:43:12.230Z"
   },
   {
    "duration": 6,
    "start_time": "2021-12-16T21:43:12.255Z"
   },
   {
    "duration": 1014,
    "start_time": "2021-12-16T21:43:12.264Z"
   },
   {
    "duration": 6,
    "start_time": "2021-12-16T21:43:13.281Z"
   },
   {
    "duration": 7,
    "start_time": "2021-12-16T21:43:13.290Z"
   },
   {
    "duration": 13,
    "start_time": "2021-12-16T21:43:13.317Z"
   },
   {
    "duration": 19,
    "start_time": "2021-12-16T21:43:13.333Z"
   },
   {
    "duration": 7,
    "start_time": "2021-12-16T21:43:13.354Z"
   },
   {
    "duration": 74,
    "start_time": "2021-12-16T21:43:13.363Z"
   },
   {
    "duration": 14,
    "start_time": "2021-12-16T21:43:13.440Z"
   },
   {
    "duration": 5,
    "start_time": "2021-12-16T21:43:13.456Z"
   },
   {
    "duration": 6,
    "start_time": "2021-12-16T21:43:13.464Z"
   },
   {
    "duration": 53,
    "start_time": "2021-12-16T21:43:13.474Z"
   },
   {
    "duration": 34,
    "start_time": "2021-12-16T21:43:13.529Z"
   },
   {
    "duration": 20,
    "start_time": "2021-12-16T21:43:13.565Z"
   },
   {
    "duration": 62,
    "start_time": "2021-12-16T21:43:13.588Z"
   },
   {
    "duration": 585,
    "start_time": "2021-12-16T21:45:50.521Z"
   },
   {
    "duration": 34,
    "start_time": "2021-12-16T21:45:56.565Z"
   },
   {
    "duration": 7,
    "start_time": "2021-12-16T21:46:43.168Z"
   },
   {
    "duration": 8,
    "start_time": "2021-12-16T21:46:54.328Z"
   },
   {
    "duration": 4,
    "start_time": "2021-12-16T21:47:53.334Z"
   },
   {
    "duration": 91,
    "start_time": "2021-12-16T21:47:53.341Z"
   },
   {
    "duration": 22,
    "start_time": "2021-12-16T21:47:53.436Z"
   },
   {
    "duration": 6,
    "start_time": "2021-12-16T21:47:53.460Z"
   },
   {
    "duration": 17,
    "start_time": "2021-12-16T21:47:53.469Z"
   },
   {
    "duration": 78,
    "start_time": "2021-12-16T21:47:53.488Z"
   },
   {
    "duration": 22,
    "start_time": "2021-12-16T21:47:53.569Z"
   },
   {
    "duration": 27,
    "start_time": "2021-12-16T21:47:53.620Z"
   },
   {
    "duration": 10,
    "start_time": "2021-12-16T21:47:53.651Z"
   },
   {
    "duration": 81,
    "start_time": "2021-12-16T21:47:53.663Z"
   },
   {
    "duration": 26,
    "start_time": "2021-12-16T21:47:53.748Z"
   },
   {
    "duration": 49,
    "start_time": "2021-12-16T21:47:53.776Z"
   },
   {
    "duration": 36,
    "start_time": "2021-12-16T21:47:53.828Z"
   },
   {
    "duration": 98,
    "start_time": "2021-12-16T21:47:53.867Z"
   },
   {
    "duration": 58,
    "start_time": "2021-12-16T21:47:53.968Z"
   },
   {
    "duration": 11,
    "start_time": "2021-12-16T21:47:54.030Z"
   },
   {
    "duration": 19,
    "start_time": "2021-12-16T21:47:54.044Z"
   },
   {
    "duration": 22,
    "start_time": "2021-12-16T21:47:54.065Z"
   },
   {
    "duration": 35,
    "start_time": "2021-12-16T21:47:54.090Z"
   },
   {
    "duration": 54,
    "start_time": "2021-12-16T21:47:54.129Z"
   },
   {
    "duration": 47,
    "start_time": "2021-12-16T21:47:54.186Z"
   },
   {
    "duration": 18,
    "start_time": "2021-12-16T21:47:54.236Z"
   },
   {
    "duration": 5,
    "start_time": "2021-12-16T21:47:54.256Z"
   },
   {
    "duration": 60,
    "start_time": "2021-12-16T21:47:54.264Z"
   },
   {
    "duration": 38,
    "start_time": "2021-12-16T21:47:54.331Z"
   },
   {
    "duration": 13,
    "start_time": "2021-12-16T21:47:54.372Z"
   },
   {
    "duration": 8,
    "start_time": "2021-12-16T21:47:54.425Z"
   },
   {
    "duration": 25,
    "start_time": "2021-12-16T21:47:54.437Z"
   },
   {
    "duration": 11,
    "start_time": "2021-12-16T21:47:54.465Z"
   },
   {
    "duration": 50,
    "start_time": "2021-12-16T21:47:54.479Z"
   },
   {
    "duration": 11,
    "start_time": "2021-12-16T21:47:54.531Z"
   },
   {
    "duration": 9,
    "start_time": "2021-12-16T21:47:54.545Z"
   },
   {
    "duration": 7,
    "start_time": "2021-12-16T21:47:54.557Z"
   },
   {
    "duration": 65,
    "start_time": "2021-12-16T21:47:54.566Z"
   },
   {
    "duration": 25,
    "start_time": "2021-12-16T21:47:54.634Z"
   },
   {
    "duration": 10,
    "start_time": "2021-12-16T21:47:54.661Z"
   },
   {
    "duration": 6,
    "start_time": "2021-12-16T21:47:54.673Z"
   },
   {
    "duration": 41,
    "start_time": "2021-12-16T21:47:54.681Z"
   },
   {
    "duration": 21,
    "start_time": "2021-12-16T21:47:54.724Z"
   },
   {
    "duration": 93,
    "start_time": "2021-12-16T21:47:54.747Z"
   },
   {
    "duration": 8,
    "start_time": "2021-12-16T21:47:54.842Z"
   },
   {
    "duration": 10,
    "start_time": "2021-12-16T21:47:54.853Z"
   },
   {
    "duration": 8,
    "start_time": "2021-12-16T21:47:54.866Z"
   },
   {
    "duration": 61,
    "start_time": "2021-12-16T21:47:54.876Z"
   },
   {
    "duration": 8,
    "start_time": "2021-12-16T21:47:54.940Z"
   },
   {
    "duration": 37,
    "start_time": "2021-12-16T21:47:54.952Z"
   },
   {
    "duration": 8,
    "start_time": "2021-12-16T21:47:55.017Z"
   },
   {
    "duration": 19,
    "start_time": "2021-12-16T21:47:55.032Z"
   },
   {
    "duration": 76,
    "start_time": "2021-12-16T21:47:55.055Z"
   },
   {
    "duration": 24,
    "start_time": "2021-12-16T21:47:55.134Z"
   },
   {
    "duration": 58,
    "start_time": "2021-12-16T21:47:55.161Z"
   },
   {
    "duration": 40,
    "start_time": "2021-12-16T21:47:55.222Z"
   },
   {
    "duration": 58,
    "start_time": "2021-12-16T21:47:55.265Z"
   },
   {
    "duration": 146,
    "start_time": "2021-12-16T21:47:55.326Z"
   },
   {
    "duration": 9,
    "start_time": "2021-12-16T21:47:55.475Z"
   },
   {
    "duration": 218,
    "start_time": "2021-12-16T21:47:55.487Z"
   },
   {
    "duration": 188,
    "start_time": "2021-12-16T21:47:55.707Z"
   },
   {
    "duration": 3,
    "start_time": "2021-12-16T21:47:55.898Z"
   },
   {
    "duration": 13,
    "start_time": "2021-12-16T21:47:55.904Z"
   },
   {
    "duration": 22,
    "start_time": "2021-12-16T21:47:55.920Z"
   },
   {
    "duration": 37,
    "start_time": "2021-12-16T21:47:55.945Z"
   },
   {
    "duration": 42,
    "start_time": "2021-12-16T21:47:55.985Z"
   },
   {
    "duration": 12,
    "start_time": "2021-12-16T21:47:56.029Z"
   },
   {
    "duration": 18,
    "start_time": "2021-12-16T21:47:56.043Z"
   },
   {
    "duration": 24,
    "start_time": "2021-12-16T21:47:56.064Z"
   },
   {
    "duration": 17,
    "start_time": "2021-12-16T21:47:56.118Z"
   },
   {
    "duration": 50,
    "start_time": "2021-12-16T21:47:56.137Z"
   },
   {
    "duration": 68,
    "start_time": "2021-12-16T21:47:56.189Z"
   },
   {
    "duration": 16,
    "start_time": "2021-12-16T21:47:56.259Z"
   },
   {
    "duration": 5,
    "start_time": "2021-12-16T21:47:56.277Z"
   },
   {
    "duration": 1114,
    "start_time": "2021-12-16T21:47:56.285Z"
   },
   {
    "duration": 5,
    "start_time": "2021-12-16T21:47:57.402Z"
   },
   {
    "duration": 5,
    "start_time": "2021-12-16T21:47:57.421Z"
   },
   {
    "duration": 8,
    "start_time": "2021-12-16T21:47:57.429Z"
   },
   {
    "duration": 18,
    "start_time": "2021-12-16T21:47:57.440Z"
   },
   {
    "duration": 9,
    "start_time": "2021-12-16T21:47:57.460Z"
   },
   {
    "duration": 85,
    "start_time": "2021-12-16T21:47:57.472Z"
   },
   {
    "duration": 13,
    "start_time": "2021-12-16T21:47:57.560Z"
   },
   {
    "duration": 6,
    "start_time": "2021-12-16T21:47:57.575Z"
   },
   {
    "duration": 8,
    "start_time": "2021-12-16T21:47:57.617Z"
   },
   {
    "duration": 577,
    "start_time": "2021-12-16T21:47:57.636Z"
   },
   {
    "duration": 8,
    "start_time": "2021-12-16T21:47:58.218Z"
   },
   {
    "duration": 19,
    "start_time": "2021-12-16T21:47:58.229Z"
   },
   {
    "duration": 80,
    "start_time": "2021-12-16T21:47:58.251Z"
   },
   {
    "duration": 24,
    "start_time": "2021-12-16T21:47:58.334Z"
   },
   {
    "duration": 62,
    "start_time": "2021-12-16T21:47:58.361Z"
   },
   {
    "duration": 32,
    "start_time": "2021-12-16T21:50:23.327Z"
   },
   {
    "duration": 5,
    "start_time": "2021-12-16T21:50:29.032Z"
   },
   {
    "duration": 7376,
    "start_time": "2021-12-16T21:52:17.451Z"
   },
   {
    "duration": 97,
    "start_time": "2021-12-16T21:52:58.952Z"
   },
   {
    "duration": 26,
    "start_time": "2021-12-16T21:53:50.804Z"
   },
   {
    "duration": 37,
    "start_time": "2021-12-16T21:55:00.926Z"
   },
   {
    "duration": 92,
    "start_time": "2021-12-16T21:57:29.138Z"
   },
   {
    "duration": 96,
    "start_time": "2021-12-16T21:57:47.664Z"
   },
   {
    "duration": 113,
    "start_time": "2021-12-16T21:58:00.782Z"
   },
   {
    "duration": 93,
    "start_time": "2021-12-16T21:58:42.561Z"
   },
   {
    "duration": 91,
    "start_time": "2021-12-16T21:59:13.584Z"
   },
   {
    "duration": 103,
    "start_time": "2021-12-16T21:59:18.918Z"
   },
   {
    "duration": 86,
    "start_time": "2021-12-16T21:59:44.124Z"
   },
   {
    "duration": 102,
    "start_time": "2021-12-16T22:00:03.836Z"
   },
   {
    "duration": 86,
    "start_time": "2021-12-16T22:00:08.432Z"
   },
   {
    "duration": 98,
    "start_time": "2021-12-16T22:00:39.402Z"
   },
   {
    "duration": 91,
    "start_time": "2021-12-16T22:01:00.439Z"
   },
   {
    "duration": 4,
    "start_time": "2021-12-16T22:01:11.746Z"
   },
   {
    "duration": 66,
    "start_time": "2021-12-16T22:01:11.752Z"
   },
   {
    "duration": 21,
    "start_time": "2021-12-16T22:01:11.821Z"
   },
   {
    "duration": 8,
    "start_time": "2021-12-16T22:01:11.845Z"
   },
   {
    "duration": 14,
    "start_time": "2021-12-16T22:01:11.856Z"
   },
   {
    "duration": 92,
    "start_time": "2021-12-16T22:01:11.873Z"
   },
   {
    "duration": 65,
    "start_time": "2021-12-16T22:01:11.969Z"
   },
   {
    "duration": 25,
    "start_time": "2021-12-16T22:01:12.037Z"
   },
   {
    "duration": 11,
    "start_time": "2021-12-16T22:01:12.064Z"
   },
   {
    "duration": 70,
    "start_time": "2021-12-16T22:01:12.078Z"
   },
   {
    "duration": 22,
    "start_time": "2021-12-16T22:01:12.150Z"
   },
   {
    "duration": 46,
    "start_time": "2021-12-16T22:01:12.175Z"
   },
   {
    "duration": 28,
    "start_time": "2021-12-16T22:01:12.224Z"
   },
   {
    "duration": 89,
    "start_time": "2021-12-16T22:01:12.254Z"
   },
   {
    "duration": 26,
    "start_time": "2021-12-16T22:01:12.346Z"
   },
   {
    "duration": 11,
    "start_time": "2021-12-16T22:01:12.375Z"
   },
   {
    "duration": 19,
    "start_time": "2021-12-16T22:01:12.426Z"
   },
   {
    "duration": 12,
    "start_time": "2021-12-16T22:01:12.448Z"
   },
   {
    "duration": 13,
    "start_time": "2021-12-16T22:01:12.466Z"
   },
   {
    "duration": 67,
    "start_time": "2021-12-16T22:01:12.483Z"
   },
   {
    "duration": 11,
    "start_time": "2021-12-16T22:01:12.553Z"
   },
   {
    "duration": 16,
    "start_time": "2021-12-16T22:01:12.567Z"
   },
   {
    "duration": 39,
    "start_time": "2021-12-16T22:01:12.586Z"
   },
   {
    "duration": 17,
    "start_time": "2021-12-16T22:01:12.632Z"
   },
   {
    "duration": 37,
    "start_time": "2021-12-16T22:01:12.651Z"
   },
   {
    "duration": 19,
    "start_time": "2021-12-16T22:01:12.720Z"
   },
   {
    "duration": 7,
    "start_time": "2021-12-16T22:01:12.742Z"
   },
   {
    "duration": 25,
    "start_time": "2021-12-16T22:01:12.752Z"
   },
   {
    "duration": 53,
    "start_time": "2021-12-16T22:01:12.779Z"
   },
   {
    "duration": 9,
    "start_time": "2021-12-16T22:01:12.834Z"
   },
   {
    "duration": 12,
    "start_time": "2021-12-16T22:01:12.845Z"
   },
   {
    "duration": 12,
    "start_time": "2021-12-16T22:01:12.859Z"
   },
   {
    "duration": 49,
    "start_time": "2021-12-16T22:01:12.873Z"
   },
   {
    "duration": 24,
    "start_time": "2021-12-16T22:01:12.925Z"
   },
   {
    "duration": 23,
    "start_time": "2021-12-16T22:01:12.952Z"
   },
   {
    "duration": 10,
    "start_time": "2021-12-16T22:01:12.978Z"
   },
   {
    "duration": 11,
    "start_time": "2021-12-16T22:01:13.017Z"
   },
   {
    "duration": 10,
    "start_time": "2021-12-16T22:01:13.031Z"
   },
   {
    "duration": 14,
    "start_time": "2021-12-16T22:01:13.043Z"
   },
   {
    "duration": 116,
    "start_time": "2021-12-16T22:01:13.059Z"
   },
   {
    "duration": 8,
    "start_time": "2021-12-16T22:01:13.177Z"
   },
   {
    "duration": 8,
    "start_time": "2021-12-16T22:01:13.187Z"
   },
   {
    "duration": 26,
    "start_time": "2021-12-16T22:01:13.198Z"
   },
   {
    "duration": 31,
    "start_time": "2021-12-16T22:01:13.227Z"
   },
   {
    "duration": 9,
    "start_time": "2021-12-16T22:01:13.260Z"
   },
   {
    "duration": 80,
    "start_time": "2021-12-16T22:01:13.272Z"
   },
   {
    "duration": 5,
    "start_time": "2021-12-16T22:01:13.355Z"
   },
   {
    "duration": 21,
    "start_time": "2021-12-16T22:01:13.363Z"
   },
   {
    "duration": 76,
    "start_time": "2021-12-16T22:01:13.387Z"
   },
   {
    "duration": 24,
    "start_time": "2021-12-16T22:01:13.466Z"
   },
   {
    "duration": 58,
    "start_time": "2021-12-16T22:01:13.493Z"
   },
   {
    "duration": 69,
    "start_time": "2021-12-16T22:01:13.553Z"
   },
   {
    "duration": 38,
    "start_time": "2021-12-16T22:01:13.625Z"
   },
   {
    "duration": 181,
    "start_time": "2021-12-16T22:01:13.665Z"
   },
   {
    "duration": 8,
    "start_time": "2021-12-16T22:01:13.854Z"
   },
   {
    "duration": 141,
    "start_time": "2021-12-16T22:01:13.865Z"
   },
   {
    "duration": 133,
    "start_time": "2021-12-16T22:01:14.009Z"
   },
   {
    "duration": 3,
    "start_time": "2021-12-16T22:01:14.144Z"
   },
   {
    "duration": 7,
    "start_time": "2021-12-16T22:01:14.149Z"
   },
   {
    "duration": 16,
    "start_time": "2021-12-16T22:01:14.158Z"
   },
   {
    "duration": 67,
    "start_time": "2021-12-16T22:01:14.176Z"
   },
   {
    "duration": 6,
    "start_time": "2021-12-16T22:01:14.246Z"
   },
   {
    "duration": 8,
    "start_time": "2021-12-16T22:01:14.254Z"
   },
   {
    "duration": 18,
    "start_time": "2021-12-16T22:01:14.264Z"
   },
   {
    "duration": 31,
    "start_time": "2021-12-16T22:01:14.316Z"
   },
   {
    "duration": 10,
    "start_time": "2021-12-16T22:01:14.349Z"
   },
   {
    "duration": 87,
    "start_time": "2021-12-16T22:01:14.361Z"
   },
   {
    "duration": 31,
    "start_time": "2021-12-16T22:01:14.451Z"
   },
   {
    "duration": 40,
    "start_time": "2021-12-16T22:01:14.484Z"
   },
   {
    "duration": 6,
    "start_time": "2021-12-16T22:01:14.528Z"
   },
   {
    "duration": 996,
    "start_time": "2021-12-16T22:01:14.536Z"
   },
   {
    "duration": 6,
    "start_time": "2021-12-16T22:01:15.534Z"
   },
   {
    "duration": 5,
    "start_time": "2021-12-16T22:01:15.542Z"
   },
   {
    "duration": 7,
    "start_time": "2021-12-16T22:01:15.549Z"
   },
   {
    "duration": 28,
    "start_time": "2021-12-16T22:01:15.558Z"
   },
   {
    "duration": 36,
    "start_time": "2021-12-16T22:01:15.589Z"
   },
   {
    "duration": 40,
    "start_time": "2021-12-16T22:01:15.628Z"
   },
   {
    "duration": 11,
    "start_time": "2021-12-16T22:01:15.670Z"
   },
   {
    "duration": 5,
    "start_time": "2021-12-16T22:01:15.683Z"
   },
   {
    "duration": 35,
    "start_time": "2021-12-16T22:01:15.690Z"
   },
   {
    "duration": 569,
    "start_time": "2021-12-16T22:01:15.729Z"
   },
   {
    "duration": 22,
    "start_time": "2021-12-16T22:01:16.300Z"
   },
   {
    "duration": 17,
    "start_time": "2021-12-16T22:01:16.324Z"
   },
   {
    "duration": 40,
    "start_time": "2021-12-16T22:01:16.343Z"
   },
   {
    "duration": 54,
    "start_time": "2021-12-16T22:01:16.385Z"
   },
   {
    "duration": 7103,
    "start_time": "2021-12-16T22:01:16.441Z"
   },
   {
    "duration": -588,
    "start_time": "2021-12-16T22:01:24.135Z"
   },
   {
    "duration": -595,
    "start_time": "2021-12-16T22:01:24.143Z"
   },
   {
    "duration": 4,
    "start_time": "2021-12-16T22:03:03.059Z"
   },
   {
    "duration": 68,
    "start_time": "2021-12-16T22:03:03.065Z"
   },
   {
    "duration": 20,
    "start_time": "2021-12-16T22:03:03.136Z"
   },
   {
    "duration": 30,
    "start_time": "2021-12-16T22:03:03.158Z"
   },
   {
    "duration": 43,
    "start_time": "2021-12-16T22:03:03.190Z"
   },
   {
    "duration": 51,
    "start_time": "2021-12-16T22:03:03.236Z"
   },
   {
    "duration": 27,
    "start_time": "2021-12-16T22:03:03.317Z"
   },
   {
    "duration": 27,
    "start_time": "2021-12-16T22:03:03.347Z"
   },
   {
    "duration": 14,
    "start_time": "2021-12-16T22:03:03.418Z"
   },
   {
    "duration": 34,
    "start_time": "2021-12-16T22:03:03.435Z"
   },
   {
    "duration": 69,
    "start_time": "2021-12-16T22:03:03.472Z"
   },
   {
    "duration": 9,
    "start_time": "2021-12-16T22:03:03.544Z"
   },
   {
    "duration": 32,
    "start_time": "2021-12-16T22:03:03.556Z"
   },
   {
    "duration": 80,
    "start_time": "2021-12-16T22:03:03.590Z"
   },
   {
    "duration": 23,
    "start_time": "2021-12-16T22:03:03.672Z"
   },
   {
    "duration": 13,
    "start_time": "2021-12-16T22:03:03.718Z"
   },
   {
    "duration": 18,
    "start_time": "2021-12-16T22:03:03.733Z"
   },
   {
    "duration": 21,
    "start_time": "2021-12-16T22:03:03.754Z"
   },
   {
    "duration": 48,
    "start_time": "2021-12-16T22:03:03.777Z"
   },
   {
    "duration": 40,
    "start_time": "2021-12-16T22:03:03.827Z"
   },
   {
    "duration": 11,
    "start_time": "2021-12-16T22:03:03.869Z"
   },
   {
    "duration": 54,
    "start_time": "2021-12-16T22:03:03.882Z"
   },
   {
    "duration": 5,
    "start_time": "2021-12-16T22:03:03.939Z"
   },
   {
    "duration": 19,
    "start_time": "2021-12-16T22:03:03.947Z"
   },
   {
    "duration": 87,
    "start_time": "2021-12-16T22:03:03.969Z"
   },
   {
    "duration": 13,
    "start_time": "2021-12-16T22:03:04.059Z"
   },
   {
    "duration": 11,
    "start_time": "2021-12-16T22:03:04.079Z"
   },
   {
    "duration": 51,
    "start_time": "2021-12-16T22:03:04.094Z"
   },
   {
    "duration": 10,
    "start_time": "2021-12-16T22:03:04.148Z"
   },
   {
    "duration": 8,
    "start_time": "2021-12-16T22:03:04.160Z"
   },
   {
    "duration": 10,
    "start_time": "2021-12-16T22:03:04.170Z"
   },
   {
    "duration": 53,
    "start_time": "2021-12-16T22:03:04.182Z"
   },
   {
    "duration": 7,
    "start_time": "2021-12-16T22:03:04.237Z"
   },
   {
    "duration": 24,
    "start_time": "2021-12-16T22:03:04.246Z"
   },
   {
    "duration": 50,
    "start_time": "2021-12-16T22:03:04.272Z"
   },
   {
    "duration": 13,
    "start_time": "2021-12-16T22:03:04.325Z"
   },
   {
    "duration": 5,
    "start_time": "2021-12-16T22:03:04.341Z"
   },
   {
    "duration": 9,
    "start_time": "2021-12-16T22:03:04.348Z"
   },
   {
    "duration": 13,
    "start_time": "2021-12-16T22:03:04.359Z"
   },
   {
    "duration": 123,
    "start_time": "2021-12-16T22:03:04.374Z"
   },
   {
    "duration": 8,
    "start_time": "2021-12-16T22:03:04.499Z"
   },
   {
    "duration": 20,
    "start_time": "2021-12-16T22:03:04.509Z"
   },
   {
    "duration": 6,
    "start_time": "2021-12-16T22:03:04.532Z"
   },
   {
    "duration": 28,
    "start_time": "2021-12-16T22:03:04.540Z"
   },
   {
    "duration": 6,
    "start_time": "2021-12-16T22:03:04.570Z"
   },
   {
    "duration": 75,
    "start_time": "2021-12-16T22:03:04.578Z"
   },
   {
    "duration": 5,
    "start_time": "2021-12-16T22:03:04.655Z"
   },
   {
    "duration": 18,
    "start_time": "2021-12-16T22:03:04.662Z"
   },
   {
    "duration": 82,
    "start_time": "2021-12-16T22:03:04.683Z"
   },
   {
    "duration": 48,
    "start_time": "2021-12-16T22:03:04.768Z"
   },
   {
    "duration": 40,
    "start_time": "2021-12-16T22:03:04.819Z"
   },
   {
    "duration": 37,
    "start_time": "2021-12-16T22:03:04.861Z"
   },
   {
    "duration": 38,
    "start_time": "2021-12-16T22:03:04.923Z"
   },
   {
    "duration": 140,
    "start_time": "2021-12-16T22:03:04.963Z"
   },
   {
    "duration": 19,
    "start_time": "2021-12-16T22:03:05.106Z"
   },
   {
    "duration": 138,
    "start_time": "2021-12-16T22:03:05.130Z"
   },
   {
    "duration": 128,
    "start_time": "2021-12-16T22:03:05.270Z"
   },
   {
    "duration": 2,
    "start_time": "2021-12-16T22:03:05.400Z"
   },
   {
    "duration": 14,
    "start_time": "2021-12-16T22:03:05.404Z"
   },
   {
    "duration": 21,
    "start_time": "2021-12-16T22:03:05.422Z"
   },
   {
    "duration": 37,
    "start_time": "2021-12-16T22:03:05.452Z"
   },
   {
    "duration": 29,
    "start_time": "2021-12-16T22:03:05.491Z"
   },
   {
    "duration": 10,
    "start_time": "2021-12-16T22:03:05.524Z"
   },
   {
    "duration": 36,
    "start_time": "2021-12-16T22:03:05.537Z"
   },
   {
    "duration": 31,
    "start_time": "2021-12-16T22:03:05.575Z"
   },
   {
    "duration": 16,
    "start_time": "2021-12-16T22:03:05.617Z"
   },
   {
    "duration": 54,
    "start_time": "2021-12-16T22:03:05.636Z"
   },
   {
    "duration": 54,
    "start_time": "2021-12-16T22:03:05.692Z"
   },
   {
    "duration": 16,
    "start_time": "2021-12-16T22:03:05.748Z"
   },
   {
    "duration": 6,
    "start_time": "2021-12-16T22:03:05.766Z"
   },
   {
    "duration": 1004,
    "start_time": "2021-12-16T22:03:05.775Z"
   },
   {
    "duration": 5,
    "start_time": "2021-12-16T22:03:06.782Z"
   },
   {
    "duration": 6,
    "start_time": "2021-12-16T22:03:06.790Z"
   },
   {
    "duration": 22,
    "start_time": "2021-12-16T22:03:06.799Z"
   },
   {
    "duration": 24,
    "start_time": "2021-12-16T22:03:06.823Z"
   },
   {
    "duration": 26,
    "start_time": "2021-12-16T22:03:06.850Z"
   },
   {
    "duration": 50,
    "start_time": "2021-12-16T22:03:06.879Z"
   },
   {
    "duration": 12,
    "start_time": "2021-12-16T22:03:06.932Z"
   },
   {
    "duration": 5,
    "start_time": "2021-12-16T22:03:06.946Z"
   },
   {
    "duration": 5,
    "start_time": "2021-12-16T22:03:06.954Z"
   },
   {
    "duration": 601,
    "start_time": "2021-12-16T22:03:06.969Z"
   },
   {
    "duration": 6,
    "start_time": "2021-12-16T22:03:07.573Z"
   },
   {
    "duration": 39,
    "start_time": "2021-12-16T22:03:07.582Z"
   },
   {
    "duration": 41,
    "start_time": "2021-12-16T22:03:07.624Z"
   },
   {
    "duration": 21,
    "start_time": "2021-12-16T22:03:07.667Z"
   },
   {
    "duration": 6960,
    "start_time": "2021-12-16T22:03:07.690Z"
   },
   {
    "duration": -582,
    "start_time": "2021-12-16T22:03:15.235Z"
   },
   {
    "duration": -585,
    "start_time": "2021-12-16T22:03:15.239Z"
   },
   {
    "duration": 7285,
    "start_time": "2021-12-16T22:04:08.202Z"
   },
   {
    "duration": 37,
    "start_time": "2021-12-16T22:04:43.083Z"
   },
   {
    "duration": 4,
    "start_time": "2021-12-16T22:05:06.299Z"
   },
   {
    "duration": 63,
    "start_time": "2021-12-16T22:05:06.306Z"
   },
   {
    "duration": 20,
    "start_time": "2021-12-16T22:05:06.372Z"
   },
   {
    "duration": 7,
    "start_time": "2021-12-16T22:05:06.394Z"
   },
   {
    "duration": 23,
    "start_time": "2021-12-16T22:05:06.403Z"
   },
   {
    "duration": 49,
    "start_time": "2021-12-16T22:05:06.428Z"
   },
   {
    "duration": 22,
    "start_time": "2021-12-16T22:05:06.479Z"
   },
   {
    "duration": 38,
    "start_time": "2021-12-16T22:05:06.504Z"
   },
   {
    "duration": 9,
    "start_time": "2021-12-16T22:05:06.547Z"
   },
   {
    "duration": 36,
    "start_time": "2021-12-16T22:05:06.559Z"
   },
   {
    "duration": 43,
    "start_time": "2021-12-16T22:05:06.597Z"
   },
   {
    "duration": 7,
    "start_time": "2021-12-16T22:05:06.642Z"
   },
   {
    "duration": 25,
    "start_time": "2021-12-16T22:05:06.652Z"
   },
   {
    "duration": 73,
    "start_time": "2021-12-16T22:05:06.679Z"
   },
   {
    "duration": 25,
    "start_time": "2021-12-16T22:05:06.754Z"
   },
   {
    "duration": 8,
    "start_time": "2021-12-16T22:05:06.782Z"
   },
   {
    "duration": 31,
    "start_time": "2021-12-16T22:05:06.793Z"
   },
   {
    "duration": 10,
    "start_time": "2021-12-16T22:05:06.826Z"
   },
   {
    "duration": 10,
    "start_time": "2021-12-16T22:05:06.839Z"
   },
   {
    "duration": 39,
    "start_time": "2021-12-16T22:05:06.851Z"
   },
   {
    "duration": 28,
    "start_time": "2021-12-16T22:05:06.893Z"
   },
   {
    "duration": 20,
    "start_time": "2021-12-16T22:05:06.924Z"
   },
   {
    "duration": 4,
    "start_time": "2021-12-16T22:05:06.947Z"
   },
   {
    "duration": 17,
    "start_time": "2021-12-16T22:05:06.953Z"
   },
   {
    "duration": 47,
    "start_time": "2021-12-16T22:05:06.972Z"
   },
   {
    "duration": 18,
    "start_time": "2021-12-16T22:05:07.022Z"
   },
   {
    "duration": 65,
    "start_time": "2021-12-16T22:05:07.052Z"
   },
   {
    "duration": 38,
    "start_time": "2021-12-16T22:05:07.123Z"
   },
   {
    "duration": 61,
    "start_time": "2021-12-16T22:05:07.164Z"
   },
   {
    "duration": 8,
    "start_time": "2021-12-16T22:05:07.228Z"
   },
   {
    "duration": 11,
    "start_time": "2021-12-16T22:05:07.239Z"
   },
   {
    "duration": 68,
    "start_time": "2021-12-16T22:05:07.252Z"
   },
   {
    "duration": 10,
    "start_time": "2021-12-16T22:05:07.323Z"
   },
   {
    "duration": 81,
    "start_time": "2021-12-16T22:05:07.336Z"
   },
   {
    "duration": 26,
    "start_time": "2021-12-16T22:05:07.419Z"
   },
   {
    "duration": 10,
    "start_time": "2021-12-16T22:05:07.447Z"
   },
   {
    "duration": 60,
    "start_time": "2021-12-16T22:05:07.460Z"
   },
   {
    "duration": 9,
    "start_time": "2021-12-16T22:05:07.523Z"
   },
   {
    "duration": 13,
    "start_time": "2021-12-16T22:05:07.534Z"
   },
   {
    "duration": 124,
    "start_time": "2021-12-16T22:05:07.550Z"
   },
   {
    "duration": 7,
    "start_time": "2021-12-16T22:05:07.677Z"
   },
   {
    "duration": 38,
    "start_time": "2021-12-16T22:05:07.686Z"
   },
   {
    "duration": 9,
    "start_time": "2021-12-16T22:05:07.726Z"
   },
   {
    "duration": 28,
    "start_time": "2021-12-16T22:05:07.738Z"
   },
   {
    "duration": 8,
    "start_time": "2021-12-16T22:05:07.768Z"
   },
   {
    "duration": 69,
    "start_time": "2021-12-16T22:05:07.778Z"
   },
   {
    "duration": 5,
    "start_time": "2021-12-16T22:05:07.849Z"
   },
   {
    "duration": 20,
    "start_time": "2021-12-16T22:05:07.856Z"
   },
   {
    "duration": 74,
    "start_time": "2021-12-16T22:05:07.878Z"
   },
   {
    "duration": 23,
    "start_time": "2021-12-16T22:05:07.955Z"
   },
   {
    "duration": 55,
    "start_time": "2021-12-16T22:05:07.980Z"
   },
   {
    "duration": 37,
    "start_time": "2021-12-16T22:05:08.037Z"
   },
   {
    "duration": 59,
    "start_time": "2021-12-16T22:05:08.076Z"
   },
   {
    "duration": 153,
    "start_time": "2021-12-16T22:05:08.138Z"
   },
   {
    "duration": 26,
    "start_time": "2021-12-16T22:05:08.294Z"
   },
   {
    "duration": 129,
    "start_time": "2021-12-16T22:05:08.322Z"
   },
   {
    "duration": 128,
    "start_time": "2021-12-16T22:05:08.453Z"
   },
   {
    "duration": 4,
    "start_time": "2021-12-16T22:05:08.584Z"
   },
   {
    "duration": 7,
    "start_time": "2021-12-16T22:05:08.590Z"
   },
   {
    "duration": 32,
    "start_time": "2021-12-16T22:05:08.599Z"
   },
   {
    "duration": 37,
    "start_time": "2021-12-16T22:05:08.634Z"
   },
   {
    "duration": 7,
    "start_time": "2021-12-16T22:05:08.673Z"
   },
   {
    "duration": 37,
    "start_time": "2021-12-16T22:05:08.682Z"
   },
   {
    "duration": 17,
    "start_time": "2021-12-16T22:05:08.721Z"
   },
   {
    "duration": 24,
    "start_time": "2021-12-16T22:05:08.740Z"
   },
   {
    "duration": 10,
    "start_time": "2021-12-16T22:05:08.766Z"
   },
   {
    "duration": 92,
    "start_time": "2021-12-16T22:05:08.779Z"
   },
   {
    "duration": 44,
    "start_time": "2021-12-16T22:05:08.873Z"
   },
   {
    "duration": 15,
    "start_time": "2021-12-16T22:05:08.920Z"
   },
   {
    "duration": 6,
    "start_time": "2021-12-16T22:05:08.937Z"
   },
   {
    "duration": 1094,
    "start_time": "2021-12-16T22:05:08.946Z"
   },
   {
    "duration": 6,
    "start_time": "2021-12-16T22:05:10.043Z"
   },
   {
    "duration": 6,
    "start_time": "2021-12-16T22:05:10.051Z"
   },
   {
    "duration": 6,
    "start_time": "2021-12-16T22:05:10.060Z"
   },
   {
    "duration": 57,
    "start_time": "2021-12-16T22:05:10.069Z"
   },
   {
    "duration": 10,
    "start_time": "2021-12-16T22:05:10.129Z"
   },
   {
    "duration": 48,
    "start_time": "2021-12-16T22:05:10.142Z"
   },
   {
    "duration": 33,
    "start_time": "2021-12-16T22:05:10.192Z"
   },
   {
    "duration": 5,
    "start_time": "2021-12-16T22:05:10.228Z"
   },
   {
    "duration": 6,
    "start_time": "2021-12-16T22:05:10.235Z"
   },
   {
    "duration": 591,
    "start_time": "2021-12-16T22:05:10.250Z"
   },
   {
    "duration": 6,
    "start_time": "2021-12-16T22:05:10.844Z"
   },
   {
    "duration": 18,
    "start_time": "2021-12-16T22:05:10.853Z"
   },
   {
    "duration": 69,
    "start_time": "2021-12-16T22:05:10.874Z"
   },
   {
    "duration": 24,
    "start_time": "2021-12-16T22:05:10.946Z"
   },
   {
    "duration": 69,
    "start_time": "2021-12-16T22:05:10.973Z"
   },
   {
    "duration": 99,
    "start_time": "2021-12-16T22:05:11.045Z"
   },
   {
    "duration": -589,
    "start_time": "2021-12-16T22:05:11.735Z"
   },
   {
    "duration": 35,
    "start_time": "2021-12-16T22:06:45.816Z"
   },
   {
    "duration": 100,
    "start_time": "2021-12-16T22:08:33.897Z"
   },
   {
    "duration": 95,
    "start_time": "2021-12-16T22:09:10.884Z"
   },
   {
    "duration": 92,
    "start_time": "2021-12-16T22:09:39.972Z"
   },
   {
    "duration": 87,
    "start_time": "2021-12-16T22:09:46.098Z"
   },
   {
    "duration": 103,
    "start_time": "2021-12-16T22:09:50.995Z"
   },
   {
    "duration": 4,
    "start_time": "2021-12-16T22:10:39.277Z"
   },
   {
    "duration": 5,
    "start_time": "2021-12-16T22:11:07.873Z"
   },
   {
    "duration": 9,
    "start_time": "2021-12-16T22:11:14.018Z"
   },
   {
    "duration": 90,
    "start_time": "2021-12-16T22:11:14.032Z"
   },
   {
    "duration": 22,
    "start_time": "2021-12-16T22:11:14.125Z"
   },
   {
    "duration": 6,
    "start_time": "2021-12-16T22:11:14.149Z"
   },
   {
    "duration": 65,
    "start_time": "2021-12-16T22:11:14.156Z"
   },
   {
    "duration": 47,
    "start_time": "2021-12-16T22:11:14.224Z"
   },
   {
    "duration": 50,
    "start_time": "2021-12-16T22:11:14.274Z"
   },
   {
    "duration": 25,
    "start_time": "2021-12-16T22:11:14.328Z"
   },
   {
    "duration": 9,
    "start_time": "2021-12-16T22:11:14.356Z"
   },
   {
    "duration": 75,
    "start_time": "2021-12-16T22:11:14.367Z"
   },
   {
    "duration": 26,
    "start_time": "2021-12-16T22:11:14.445Z"
   },
   {
    "duration": 53,
    "start_time": "2021-12-16T22:11:14.474Z"
   },
   {
    "duration": 24,
    "start_time": "2021-12-16T22:11:14.530Z"
   },
   {
    "duration": 99,
    "start_time": "2021-12-16T22:11:14.557Z"
   },
   {
    "duration": 23,
    "start_time": "2021-12-16T22:11:14.659Z"
   },
   {
    "duration": 9,
    "start_time": "2021-12-16T22:11:14.685Z"
   },
   {
    "duration": 47,
    "start_time": "2021-12-16T22:11:14.696Z"
   },
   {
    "duration": 11,
    "start_time": "2021-12-16T22:11:14.746Z"
   },
   {
    "duration": 11,
    "start_time": "2021-12-16T22:11:14.759Z"
   },
   {
    "duration": 69,
    "start_time": "2021-12-16T22:11:14.772Z"
   },
   {
    "duration": 11,
    "start_time": "2021-12-16T22:11:14.843Z"
   },
   {
    "duration": 21,
    "start_time": "2021-12-16T22:11:14.857Z"
   },
   {
    "duration": 35,
    "start_time": "2021-12-16T22:11:14.884Z"
   },
   {
    "duration": 19,
    "start_time": "2021-12-16T22:11:14.924Z"
   },
   {
    "duration": 35,
    "start_time": "2021-12-16T22:11:14.945Z"
   },
   {
    "duration": 48,
    "start_time": "2021-12-16T22:11:14.982Z"
   },
   {
    "duration": 15,
    "start_time": "2021-12-16T22:11:15.032Z"
   },
   {
    "duration": 27,
    "start_time": "2021-12-16T22:11:15.049Z"
   },
   {
    "duration": 15,
    "start_time": "2021-12-16T22:11:15.078Z"
   },
   {
    "duration": 37,
    "start_time": "2021-12-16T22:11:15.095Z"
   },
   {
    "duration": 10,
    "start_time": "2021-12-16T22:11:15.135Z"
   },
   {
    "duration": 11,
    "start_time": "2021-12-16T22:11:15.147Z"
   },
   {
    "duration": 7,
    "start_time": "2021-12-16T22:11:15.160Z"
   },
   {
    "duration": 71,
    "start_time": "2021-12-16T22:11:15.170Z"
   },
   {
    "duration": 21,
    "start_time": "2021-12-16T22:11:15.244Z"
   },
   {
    "duration": 9,
    "start_time": "2021-12-16T22:11:15.267Z"
   },
   {
    "duration": 10,
    "start_time": "2021-12-16T22:11:15.278Z"
   },
   {
    "duration": 38,
    "start_time": "2021-12-16T22:11:15.290Z"
   },
   {
    "duration": 13,
    "start_time": "2021-12-16T22:11:15.330Z"
   },
   {
    "duration": 94,
    "start_time": "2021-12-16T22:11:15.345Z"
   },
   {
    "duration": 9,
    "start_time": "2021-12-16T22:11:15.442Z"
   },
   {
    "duration": 9,
    "start_time": "2021-12-16T22:11:15.453Z"
   },
   {
    "duration": 7,
    "start_time": "2021-12-16T22:11:15.465Z"
   },
   {
    "duration": 64,
    "start_time": "2021-12-16T22:11:15.474Z"
   },
   {
    "duration": 8,
    "start_time": "2021-12-16T22:11:15.540Z"
   },
   {
    "duration": 39,
    "start_time": "2021-12-16T22:11:15.550Z"
   },
   {
    "duration": 38,
    "start_time": "2021-12-16T22:11:15.591Z"
   },
   {
    "duration": 17,
    "start_time": "2021-12-16T22:11:15.632Z"
   },
   {
    "duration": 75,
    "start_time": "2021-12-16T22:11:15.651Z"
   },
   {
    "duration": 24,
    "start_time": "2021-12-16T22:11:15.731Z"
   },
   {
    "duration": 31,
    "start_time": "2021-12-16T22:11:15.757Z"
   },
   {
    "duration": 72,
    "start_time": "2021-12-16T22:11:15.790Z"
   },
   {
    "duration": 55,
    "start_time": "2021-12-16T22:11:15.864Z"
   },
   {
    "duration": 158,
    "start_time": "2021-12-16T22:11:15.923Z"
   },
   {
    "duration": 10,
    "start_time": "2021-12-16T22:11:16.084Z"
   },
   {
    "duration": 164,
    "start_time": "2021-12-16T22:11:16.096Z"
   },
   {
    "duration": 132,
    "start_time": "2021-12-16T22:11:16.263Z"
   },
   {
    "duration": 2,
    "start_time": "2021-12-16T22:11:16.398Z"
   },
   {
    "duration": 17,
    "start_time": "2021-12-16T22:11:16.403Z"
   },
   {
    "duration": 18,
    "start_time": "2021-12-16T22:11:16.422Z"
   },
   {
    "duration": 37,
    "start_time": "2021-12-16T22:11:16.442Z"
   },
   {
    "duration": 36,
    "start_time": "2021-12-16T22:11:16.481Z"
   },
   {
    "duration": 7,
    "start_time": "2021-12-16T22:11:16.521Z"
   },
   {
    "duration": 38,
    "start_time": "2021-12-16T22:11:16.530Z"
   },
   {
    "duration": 24,
    "start_time": "2021-12-16T22:11:16.571Z"
   },
   {
    "duration": 34,
    "start_time": "2021-12-16T22:11:16.598Z"
   },
   {
    "duration": 78,
    "start_time": "2021-12-16T22:11:16.635Z"
   },
   {
    "duration": 35,
    "start_time": "2021-12-16T22:11:16.723Z"
   },
   {
    "duration": 17,
    "start_time": "2021-12-16T22:11:16.762Z"
   },
   {
    "duration": 5,
    "start_time": "2021-12-16T22:11:16.781Z"
   },
   {
    "duration": 1040,
    "start_time": "2021-12-16T22:11:16.788Z"
   },
   {
    "duration": 7,
    "start_time": "2021-12-16T22:11:17.831Z"
   },
   {
    "duration": 19,
    "start_time": "2021-12-16T22:11:17.840Z"
   },
   {
    "duration": 23,
    "start_time": "2021-12-16T22:11:17.862Z"
   },
   {
    "duration": 49,
    "start_time": "2021-12-16T22:11:17.887Z"
   },
   {
    "duration": 28,
    "start_time": "2021-12-16T22:11:17.939Z"
   },
   {
    "duration": 64,
    "start_time": "2021-12-16T22:11:17.969Z"
   },
   {
    "duration": 12,
    "start_time": "2021-12-16T22:11:18.036Z"
   },
   {
    "duration": 7,
    "start_time": "2021-12-16T22:11:18.051Z"
   },
   {
    "duration": 18,
    "start_time": "2021-12-16T22:11:18.060Z"
   },
   {
    "duration": 643,
    "start_time": "2021-12-16T22:11:18.081Z"
   },
   {
    "duration": 10,
    "start_time": "2021-12-16T22:11:18.726Z"
   },
   {
    "duration": 36,
    "start_time": "2021-12-16T22:11:18.738Z"
   },
   {
    "duration": 59,
    "start_time": "2021-12-16T22:11:18.777Z"
   },
   {
    "duration": 22,
    "start_time": "2021-12-16T22:11:18.839Z"
   },
   {
    "duration": 61,
    "start_time": "2021-12-16T22:11:18.863Z"
   },
   {
    "duration": 5,
    "start_time": "2021-12-16T22:11:18.927Z"
   },
   {
    "duration": 23,
    "start_time": "2021-12-16T22:11:18.934Z"
   },
   {
    "duration": 20,
    "start_time": "2021-12-16T22:12:04.274Z"
   },
   {
    "duration": 15,
    "start_time": "2021-12-16T22:12:29.457Z"
   },
   {
    "duration": 4,
    "start_time": "2021-12-16T22:14:07.878Z"
   },
   {
    "duration": 14,
    "start_time": "2021-12-16T22:14:27.047Z"
   },
   {
    "duration": 3,
    "start_time": "2021-12-16T22:14:40.430Z"
   },
   {
    "duration": 21,
    "start_time": "2021-12-16T22:15:31.495Z"
   },
   {
    "duration": 17,
    "start_time": "2021-12-16T22:16:00.360Z"
   },
   {
    "duration": 18,
    "start_time": "2021-12-16T22:21:49.072Z"
   },
   {
    "duration": 5,
    "start_time": "2021-12-16T22:24:37.588Z"
   },
   {
    "duration": 5,
    "start_time": "2021-12-16T22:27:40.666Z"
   },
   {
    "duration": 31,
    "start_time": "2021-12-16T22:28:10.340Z"
   },
   {
    "duration": 4,
    "start_time": "2021-12-16T22:28:43.752Z"
   },
   {
    "duration": 67,
    "start_time": "2021-12-16T22:28:43.761Z"
   },
   {
    "duration": 21,
    "start_time": "2021-12-16T22:28:43.830Z"
   },
   {
    "duration": 8,
    "start_time": "2021-12-16T22:28:43.854Z"
   },
   {
    "duration": 15,
    "start_time": "2021-12-16T22:28:43.865Z"
   },
   {
    "duration": 90,
    "start_time": "2021-12-16T22:28:43.883Z"
   },
   {
    "duration": 33,
    "start_time": "2021-12-16T22:28:44.017Z"
   },
   {
    "duration": 27,
    "start_time": "2021-12-16T22:28:44.052Z"
   },
   {
    "duration": 43,
    "start_time": "2021-12-16T22:28:44.083Z"
   },
   {
    "duration": 38,
    "start_time": "2021-12-16T22:28:44.130Z"
   },
   {
    "duration": 74,
    "start_time": "2021-12-16T22:28:44.170Z"
   },
   {
    "duration": 6,
    "start_time": "2021-12-16T22:28:44.246Z"
   },
   {
    "duration": 63,
    "start_time": "2021-12-16T22:28:44.254Z"
   },
   {
    "duration": 62,
    "start_time": "2021-12-16T22:28:44.321Z"
   },
   {
    "duration": 49,
    "start_time": "2021-12-16T22:28:44.386Z"
   },
   {
    "duration": 9,
    "start_time": "2021-12-16T22:28:44.438Z"
   },
   {
    "duration": 17,
    "start_time": "2021-12-16T22:28:44.449Z"
   },
   {
    "duration": 11,
    "start_time": "2021-12-16T22:28:44.469Z"
   },
   {
    "duration": 13,
    "start_time": "2021-12-16T22:28:44.526Z"
   },
   {
    "duration": 41,
    "start_time": "2021-12-16T22:28:44.542Z"
   },
   {
    "duration": 41,
    "start_time": "2021-12-16T22:28:44.586Z"
   },
   {
    "duration": 17,
    "start_time": "2021-12-16T22:28:44.630Z"
   },
   {
    "duration": 5,
    "start_time": "2021-12-16T22:28:44.649Z"
   },
   {
    "duration": 17,
    "start_time": "2021-12-16T22:28:44.660Z"
   },
   {
    "duration": 37,
    "start_time": "2021-12-16T22:28:44.722Z"
   },
   {
    "duration": 12,
    "start_time": "2021-12-16T22:28:44.761Z"
   },
   {
    "duration": 8,
    "start_time": "2021-12-16T22:28:44.775Z"
   },
   {
    "duration": 60,
    "start_time": "2021-12-16T22:28:44.785Z"
   },
   {
    "duration": 12,
    "start_time": "2021-12-16T22:28:44.847Z"
   },
   {
    "duration": 8,
    "start_time": "2021-12-16T22:28:44.861Z"
   },
   {
    "duration": 10,
    "start_time": "2021-12-16T22:28:44.872Z"
   },
   {
    "duration": 14,
    "start_time": "2021-12-16T22:28:44.918Z"
   },
   {
    "duration": 10,
    "start_time": "2021-12-16T22:28:44.935Z"
   },
   {
    "duration": 22,
    "start_time": "2021-12-16T22:28:44.948Z"
   },
   {
    "duration": 65,
    "start_time": "2021-12-16T22:28:44.973Z"
   },
   {
    "duration": 9,
    "start_time": "2021-12-16T22:28:45.040Z"
   },
   {
    "duration": 10,
    "start_time": "2021-12-16T22:28:45.051Z"
   },
   {
    "duration": 8,
    "start_time": "2021-12-16T22:28:45.063Z"
   },
   {
    "duration": 50,
    "start_time": "2021-12-16T22:28:45.074Z"
   },
   {
    "duration": 73,
    "start_time": "2021-12-16T22:28:45.127Z"
   },
   {
    "duration": 18,
    "start_time": "2021-12-16T22:28:45.202Z"
   },
   {
    "duration": 10,
    "start_time": "2021-12-16T22:28:45.229Z"
   },
   {
    "duration": 9,
    "start_time": "2021-12-16T22:28:45.242Z"
   },
   {
    "duration": 29,
    "start_time": "2021-12-16T22:28:45.253Z"
   },
   {
    "duration": 37,
    "start_time": "2021-12-16T22:28:45.284Z"
   },
   {
    "duration": 48,
    "start_time": "2021-12-16T22:28:45.323Z"
   },
   {
    "duration": 7,
    "start_time": "2021-12-16T22:28:45.374Z"
   },
   {
    "duration": 43,
    "start_time": "2021-12-16T22:28:45.384Z"
   },
   {
    "duration": 47,
    "start_time": "2021-12-16T22:28:45.429Z"
   },
   {
    "duration": 58,
    "start_time": "2021-12-16T22:28:45.479Z"
   },
   {
    "duration": 31,
    "start_time": "2021-12-16T22:28:45.539Z"
   },
   {
    "duration": 71,
    "start_time": "2021-12-16T22:28:45.572Z"
   },
   {
    "duration": 36,
    "start_time": "2021-12-16T22:28:45.645Z"
   },
   {
    "duration": 153,
    "start_time": "2021-12-16T22:28:45.683Z"
   },
   {
    "duration": 10,
    "start_time": "2021-12-16T22:28:45.838Z"
   },
   {
    "duration": 151,
    "start_time": "2021-12-16T22:28:45.851Z"
   },
   {
    "duration": 137,
    "start_time": "2021-12-16T22:28:46.005Z"
   },
   {
    "duration": 3,
    "start_time": "2021-12-16T22:28:46.144Z"
   },
   {
    "duration": 7,
    "start_time": "2021-12-16T22:28:46.149Z"
   },
   {
    "duration": 16,
    "start_time": "2021-12-16T22:28:46.158Z"
   },
   {
    "duration": 64,
    "start_time": "2021-12-16T22:28:46.176Z"
   },
   {
    "duration": 6,
    "start_time": "2021-12-16T22:28:46.242Z"
   },
   {
    "duration": 7,
    "start_time": "2021-12-16T22:28:46.251Z"
   },
   {
    "duration": 17,
    "start_time": "2021-12-16T22:28:46.260Z"
   },
   {
    "duration": 60,
    "start_time": "2021-12-16T22:28:46.279Z"
   },
   {
    "duration": 9,
    "start_time": "2021-12-16T22:28:46.342Z"
   },
   {
    "duration": 77,
    "start_time": "2021-12-16T22:28:46.353Z"
   },
   {
    "duration": 32,
    "start_time": "2021-12-16T22:28:46.433Z"
   },
   {
    "duration": 16,
    "start_time": "2021-12-16T22:28:46.474Z"
   },
   {
    "duration": 12,
    "start_time": "2021-12-16T22:28:46.520Z"
   },
   {
    "duration": 1019,
    "start_time": "2021-12-16T22:28:46.535Z"
   },
   {
    "duration": 7,
    "start_time": "2021-12-16T22:28:47.558Z"
   },
   {
    "duration": 5,
    "start_time": "2021-12-16T22:28:47.567Z"
   },
   {
    "duration": 6,
    "start_time": "2021-12-16T22:28:47.574Z"
   },
   {
    "duration": 55,
    "start_time": "2021-12-16T22:28:47.582Z"
   },
   {
    "duration": 8,
    "start_time": "2021-12-16T22:28:47.639Z"
   },
   {
    "duration": 42,
    "start_time": "2021-12-16T22:28:47.650Z"
   },
   {
    "duration": 40,
    "start_time": "2021-12-16T22:28:47.694Z"
   },
   {
    "duration": 5,
    "start_time": "2021-12-16T22:28:47.737Z"
   },
   {
    "duration": 13,
    "start_time": "2021-12-16T22:28:47.744Z"
   },
   {
    "duration": 588,
    "start_time": "2021-12-16T22:28:47.760Z"
   },
   {
    "duration": 7,
    "start_time": "2021-12-16T22:28:48.350Z"
   },
   {
    "duration": 13,
    "start_time": "2021-12-16T22:28:48.359Z"
   },
   {
    "duration": 4,
    "start_time": "2021-12-16T22:28:48.375Z"
   },
   {
    "duration": 53,
    "start_time": "2021-12-16T22:28:48.382Z"
   },
   {
    "duration": 3,
    "start_time": "2021-12-16T22:28:48.437Z"
   },
   {
    "duration": 43,
    "start_time": "2021-12-16T22:28:48.443Z"
   },
   {
    "duration": 54,
    "start_time": "2021-12-16T22:28:48.489Z"
   },
   {
    "duration": 20,
    "start_time": "2021-12-16T22:28:48.545Z"
   },
   {
    "duration": 6,
    "start_time": "2021-12-16T22:28:48.568Z"
   },
   {
    "duration": 59,
    "start_time": "2021-12-16T22:28:48.576Z"
   },
   {
    "duration": 18,
    "start_time": "2021-12-16T22:28:48.637Z"
   },
   {
    "duration": 5,
    "start_time": "2021-12-16T22:28:48.658Z"
   },
   {
    "duration": 51,
    "start_time": "2021-12-16T22:28:48.666Z"
   },
   {
    "duration": 35,
    "start_time": "2021-12-16T22:30:21.793Z"
   },
   {
    "duration": 41,
    "start_time": "2021-12-16T22:30:32.993Z"
   },
   {
    "duration": 3,
    "start_time": "2021-12-16T22:30:54.678Z"
   },
   {
    "duration": 33,
    "start_time": "2021-12-16T22:31:15.171Z"
   },
   {
    "duration": 336,
    "start_time": "2021-12-16T22:32:08.284Z"
   },
   {
    "duration": 35,
    "start_time": "2021-12-16T22:32:38.394Z"
   },
   {
    "duration": 35,
    "start_time": "2021-12-16T22:33:02.718Z"
   },
   {
    "duration": 35,
    "start_time": "2021-12-16T22:33:23.785Z"
   },
   {
    "duration": 31,
    "start_time": "2021-12-16T22:33:39.334Z"
   },
   {
    "duration": 3,
    "start_time": "2021-12-16T22:33:42.850Z"
   },
   {
    "duration": 72,
    "start_time": "2021-12-16T22:33:42.856Z"
   },
   {
    "duration": 23,
    "start_time": "2021-12-16T22:33:42.932Z"
   },
   {
    "duration": 7,
    "start_time": "2021-12-16T22:33:42.959Z"
   },
   {
    "duration": 62,
    "start_time": "2021-12-16T22:33:42.969Z"
   },
   {
    "duration": 110,
    "start_time": "2021-12-16T22:33:43.035Z"
   },
   {
    "duration": 24,
    "start_time": "2021-12-16T22:33:43.148Z"
   },
   {
    "duration": 59,
    "start_time": "2021-12-16T22:33:43.175Z"
   },
   {
    "duration": 12,
    "start_time": "2021-12-16T22:33:43.240Z"
   },
   {
    "duration": 83,
    "start_time": "2021-12-16T22:33:43.256Z"
   },
   {
    "duration": 24,
    "start_time": "2021-12-16T22:33:43.341Z"
   },
   {
    "duration": 5,
    "start_time": "2021-12-16T22:33:43.367Z"
   },
   {
    "duration": 24,
    "start_time": "2021-12-16T22:33:43.418Z"
   },
   {
    "duration": 88,
    "start_time": "2021-12-16T22:33:43.444Z"
   },
   {
    "duration": 26,
    "start_time": "2021-12-16T22:33:43.534Z"
   },
   {
    "duration": 9,
    "start_time": "2021-12-16T22:33:43.562Z"
   },
   {
    "duration": 54,
    "start_time": "2021-12-16T22:33:43.574Z"
   },
   {
    "duration": 13,
    "start_time": "2021-12-16T22:33:43.630Z"
   },
   {
    "duration": 13,
    "start_time": "2021-12-16T22:33:43.645Z"
   },
   {
    "duration": 81,
    "start_time": "2021-12-16T22:33:43.660Z"
   },
   {
    "duration": 14,
    "start_time": "2021-12-16T22:33:43.744Z"
   },
   {
    "duration": 22,
    "start_time": "2021-12-16T22:33:43.761Z"
   },
   {
    "duration": 6,
    "start_time": "2021-12-16T22:33:43.818Z"
   },
   {
    "duration": 20,
    "start_time": "2021-12-16T22:33:43.827Z"
   },
   {
    "duration": 69,
    "start_time": "2021-12-16T22:33:43.850Z"
   },
   {
    "duration": 12,
    "start_time": "2021-12-16T22:33:43.921Z"
   },
   {
    "duration": 6,
    "start_time": "2021-12-16T22:33:43.940Z"
   },
   {
    "duration": 24,
    "start_time": "2021-12-16T22:33:43.951Z"
   },
   {
    "duration": 12,
    "start_time": "2021-12-16T22:33:44.017Z"
   },
   {
    "duration": 8,
    "start_time": "2021-12-16T22:33:44.031Z"
   },
   {
    "duration": 11,
    "start_time": "2021-12-16T22:33:44.041Z"
   },
   {
    "duration": 10,
    "start_time": "2021-12-16T22:33:44.054Z"
   },
   {
    "duration": 53,
    "start_time": "2021-12-16T22:33:44.067Z"
   },
   {
    "duration": 25,
    "start_time": "2021-12-16T22:33:44.122Z"
   },
   {
    "duration": 25,
    "start_time": "2021-12-16T22:33:44.150Z"
   },
   {
    "duration": 42,
    "start_time": "2021-12-16T22:33:44.177Z"
   },
   {
    "duration": 6,
    "start_time": "2021-12-16T22:33:44.222Z"
   },
   {
    "duration": 7,
    "start_time": "2021-12-16T22:33:44.230Z"
   },
   {
    "duration": 11,
    "start_time": "2021-12-16T22:33:44.240Z"
   },
   {
    "duration": 109,
    "start_time": "2021-12-16T22:33:44.253Z"
   },
   {
    "duration": 9,
    "start_time": "2021-12-16T22:33:44.364Z"
   },
   {
    "duration": 14,
    "start_time": "2021-12-16T22:33:44.375Z"
   },
   {
    "duration": 25,
    "start_time": "2021-12-16T22:33:44.392Z"
   },
   {
    "duration": 30,
    "start_time": "2021-12-16T22:33:44.419Z"
   },
   {
    "duration": 8,
    "start_time": "2021-12-16T22:33:44.451Z"
   },
   {
    "duration": 74,
    "start_time": "2021-12-16T22:33:44.462Z"
   },
   {
    "duration": 6,
    "start_time": "2021-12-16T22:33:44.539Z"
   },
   {
    "duration": 21,
    "start_time": "2021-12-16T22:33:44.548Z"
   },
   {
    "duration": 82,
    "start_time": "2021-12-16T22:33:44.572Z"
   },
   {
    "duration": 25,
    "start_time": "2021-12-16T22:33:44.657Z"
   },
   {
    "duration": 57,
    "start_time": "2021-12-16T22:33:44.685Z"
   },
   {
    "duration": 38,
    "start_time": "2021-12-16T22:33:44.745Z"
   },
   {
    "duration": 115,
    "start_time": "2021-12-16T22:33:44.785Z"
   },
   {
    "duration": 140,
    "start_time": "2021-12-16T22:33:44.917Z"
   },
   {
    "duration": 10,
    "start_time": "2021-12-16T22:33:45.059Z"
   },
   {
    "duration": 146,
    "start_time": "2021-12-16T22:33:45.072Z"
   },
   {
    "duration": 128,
    "start_time": "2021-12-16T22:33:45.220Z"
   },
   {
    "duration": 3,
    "start_time": "2021-12-16T22:33:45.350Z"
   },
   {
    "duration": 5,
    "start_time": "2021-12-16T22:33:45.356Z"
   },
   {
    "duration": 19,
    "start_time": "2021-12-16T22:33:45.363Z"
   },
   {
    "duration": 59,
    "start_time": "2021-12-16T22:33:45.384Z"
   },
   {
    "duration": 6,
    "start_time": "2021-12-16T22:33:45.445Z"
   },
   {
    "duration": 10,
    "start_time": "2021-12-16T22:33:45.453Z"
   },
   {
    "duration": 19,
    "start_time": "2021-12-16T22:33:45.465Z"
   },
   {
    "duration": 24,
    "start_time": "2021-12-16T22:33:45.518Z"
   },
   {
    "duration": 10,
    "start_time": "2021-12-16T22:33:45.544Z"
   },
   {
    "duration": 80,
    "start_time": "2021-12-16T22:33:45.556Z"
   },
   {
    "duration": 33,
    "start_time": "2021-12-16T22:33:45.639Z"
   },
   {
    "duration": 15,
    "start_time": "2021-12-16T22:33:45.675Z"
   },
   {
    "duration": 35,
    "start_time": "2021-12-16T22:33:45.692Z"
   },
   {
    "duration": 980,
    "start_time": "2021-12-16T22:33:45.729Z"
   },
   {
    "duration": 5,
    "start_time": "2021-12-16T22:33:46.717Z"
   },
   {
    "duration": 5,
    "start_time": "2021-12-16T22:33:46.725Z"
   },
   {
    "duration": 7,
    "start_time": "2021-12-16T22:33:46.732Z"
   },
   {
    "duration": 18,
    "start_time": "2021-12-16T22:33:46.742Z"
   },
   {
    "duration": 6,
    "start_time": "2021-12-16T22:33:46.763Z"
   },
   {
    "duration": 81,
    "start_time": "2021-12-16T22:33:46.772Z"
   },
   {
    "duration": 11,
    "start_time": "2021-12-16T22:33:46.855Z"
   },
   {
    "duration": 4,
    "start_time": "2021-12-16T22:33:46.869Z"
   },
   {
    "duration": 5,
    "start_time": "2021-12-16T22:33:46.876Z"
   },
   {
    "duration": 550,
    "start_time": "2021-12-16T22:33:46.925Z"
   },
   {
    "duration": 7,
    "start_time": "2021-12-16T22:33:47.477Z"
   },
   {
    "duration": 5,
    "start_time": "2021-12-16T22:33:47.486Z"
   },
   {
    "duration": 25,
    "start_time": "2021-12-16T22:33:47.493Z"
   },
   {
    "duration": 15,
    "start_time": "2021-12-16T22:33:47.521Z"
   },
   {
    "duration": 3,
    "start_time": "2021-12-16T22:33:47.539Z"
   },
   {
    "duration": 40,
    "start_time": "2021-12-16T22:33:47.544Z"
   },
   {
    "duration": 31,
    "start_time": "2021-12-16T22:33:47.586Z"
   },
   {
    "duration": 24,
    "start_time": "2021-12-16T22:33:47.620Z"
   },
   {
    "duration": 4,
    "start_time": "2021-12-16T22:33:47.646Z"
   },
   {
    "duration": 8,
    "start_time": "2021-12-16T22:33:47.652Z"
   },
   {
    "duration": 57,
    "start_time": "2021-12-16T22:33:47.662Z"
   },
   {
    "duration": 18,
    "start_time": "2021-12-16T22:33:47.722Z"
   },
   {
    "duration": 37,
    "start_time": "2021-12-16T22:33:47.742Z"
   },
   {
    "duration": 42,
    "start_time": "2021-12-16T22:33:47.781Z"
   },
   {
    "duration": 33,
    "start_time": "2021-12-16T22:38:57.039Z"
   },
   {
    "duration": 3,
    "start_time": "2021-12-16T22:46:23.471Z"
   },
   {
    "duration": 74,
    "start_time": "2021-12-16T22:46:23.477Z"
   },
   {
    "duration": 19,
    "start_time": "2021-12-16T22:46:23.554Z"
   },
   {
    "duration": 43,
    "start_time": "2021-12-16T22:46:23.576Z"
   },
   {
    "duration": 28,
    "start_time": "2021-12-16T22:46:23.622Z"
   },
   {
    "duration": 84,
    "start_time": "2021-12-16T22:46:23.653Z"
   },
   {
    "duration": 21,
    "start_time": "2021-12-16T22:46:23.740Z"
   },
   {
    "duration": 51,
    "start_time": "2021-12-16T22:46:23.765Z"
   },
   {
    "duration": 10,
    "start_time": "2021-12-16T22:46:23.820Z"
   },
   {
    "duration": 52,
    "start_time": "2021-12-16T22:46:23.832Z"
   },
   {
    "duration": 28,
    "start_time": "2021-12-16T22:46:23.918Z"
   },
   {
    "duration": 7,
    "start_time": "2021-12-16T22:46:23.949Z"
   },
   {
    "duration": 65,
    "start_time": "2021-12-16T22:46:23.959Z"
   },
   {
    "duration": 62,
    "start_time": "2021-12-16T22:46:24.027Z"
   },
   {
    "duration": 52,
    "start_time": "2021-12-16T22:46:24.091Z"
   },
   {
    "duration": 12,
    "start_time": "2021-12-16T22:46:24.146Z"
   },
   {
    "duration": 18,
    "start_time": "2021-12-16T22:46:24.160Z"
   },
   {
    "duration": 44,
    "start_time": "2021-12-16T22:46:24.181Z"
   },
   {
    "duration": 12,
    "start_time": "2021-12-16T22:46:24.228Z"
   },
   {
    "duration": 78,
    "start_time": "2021-12-16T22:46:24.242Z"
   },
   {
    "duration": 12,
    "start_time": "2021-12-16T22:46:24.323Z"
   },
   {
    "duration": 19,
    "start_time": "2021-12-16T22:46:24.338Z"
   },
   {
    "duration": 5,
    "start_time": "2021-12-16T22:46:24.364Z"
   },
   {
    "duration": 61,
    "start_time": "2021-12-16T22:46:24.372Z"
   },
   {
    "duration": 39,
    "start_time": "2021-12-16T22:46:24.436Z"
   },
   {
    "duration": 45,
    "start_time": "2021-12-16T22:46:24.478Z"
   },
   {
    "duration": 9,
    "start_time": "2021-12-16T22:46:24.526Z"
   },
   {
    "duration": 26,
    "start_time": "2021-12-16T22:46:24.538Z"
   },
   {
    "duration": 54,
    "start_time": "2021-12-16T22:46:24.567Z"
   },
   {
    "duration": 10,
    "start_time": "2021-12-16T22:46:24.623Z"
   },
   {
    "duration": 13,
    "start_time": "2021-12-16T22:46:24.636Z"
   },
   {
    "duration": 13,
    "start_time": "2021-12-16T22:46:24.652Z"
   },
   {
    "duration": 57,
    "start_time": "2021-12-16T22:46:24.667Z"
   },
   {
    "duration": 25,
    "start_time": "2021-12-16T22:46:24.726Z"
   },
   {
    "duration": 29,
    "start_time": "2021-12-16T22:46:24.754Z"
   },
   {
    "duration": 39,
    "start_time": "2021-12-16T22:46:24.786Z"
   },
   {
    "duration": 11,
    "start_time": "2021-12-16T22:46:24.828Z"
   },
   {
    "duration": 9,
    "start_time": "2021-12-16T22:46:24.841Z"
   },
   {
    "duration": 13,
    "start_time": "2021-12-16T22:46:24.852Z"
   },
   {
    "duration": 104,
    "start_time": "2021-12-16T22:46:24.867Z"
   },
   {
    "duration": 7,
    "start_time": "2021-12-16T22:46:24.973Z"
   },
   {
    "duration": 9,
    "start_time": "2021-12-16T22:46:24.982Z"
   },
   {
    "duration": 25,
    "start_time": "2021-12-16T22:46:24.993Z"
   },
   {
    "duration": 31,
    "start_time": "2021-12-16T22:46:25.021Z"
   },
   {
    "duration": 7,
    "start_time": "2021-12-16T22:46:25.054Z"
   },
   {
    "duration": 65,
    "start_time": "2021-12-16T22:46:25.063Z"
   },
   {
    "duration": 5,
    "start_time": "2021-12-16T22:46:25.130Z"
   },
   {
    "duration": 18,
    "start_time": "2021-12-16T22:46:25.138Z"
   },
   {
    "duration": 81,
    "start_time": "2021-12-16T22:46:25.158Z"
   },
   {
    "duration": 24,
    "start_time": "2021-12-16T22:46:25.241Z"
   },
   {
    "duration": 57,
    "start_time": "2021-12-16T22:46:25.267Z"
   },
   {
    "duration": 36,
    "start_time": "2021-12-16T22:46:25.327Z"
   },
   {
    "duration": 54,
    "start_time": "2021-12-16T22:46:25.366Z"
   },
   {
    "duration": 142,
    "start_time": "2021-12-16T22:46:25.422Z"
   },
   {
    "duration": 9,
    "start_time": "2021-12-16T22:46:25.566Z"
   },
   {
    "duration": 146,
    "start_time": "2021-12-16T22:46:25.578Z"
   },
   {
    "duration": 133,
    "start_time": "2021-12-16T22:46:25.726Z"
   },
   {
    "duration": 3,
    "start_time": "2021-12-16T22:46:25.862Z"
   },
   {
    "duration": 5,
    "start_time": "2021-12-16T22:46:25.868Z"
   },
   {
    "duration": 16,
    "start_time": "2021-12-16T22:46:25.875Z"
   },
   {
    "duration": 57,
    "start_time": "2021-12-16T22:46:25.893Z"
   },
   {
    "duration": 6,
    "start_time": "2021-12-16T22:46:25.952Z"
   },
   {
    "duration": 6,
    "start_time": "2021-12-16T22:46:25.960Z"
   },
   {
    "duration": 49,
    "start_time": "2021-12-16T22:46:25.969Z"
   },
   {
    "duration": 26,
    "start_time": "2021-12-16T22:46:26.020Z"
   },
   {
    "duration": 9,
    "start_time": "2021-12-16T22:46:26.048Z"
   },
   {
    "duration": 76,
    "start_time": "2021-12-16T22:46:26.059Z"
   },
   {
    "duration": 35,
    "start_time": "2021-12-16T22:46:26.143Z"
   },
   {
    "duration": 36,
    "start_time": "2021-12-16T22:46:26.182Z"
   },
   {
    "duration": 4,
    "start_time": "2021-12-16T22:46:26.221Z"
   },
   {
    "duration": 967,
    "start_time": "2021-12-16T22:46:26.228Z"
   },
   {
    "duration": 6,
    "start_time": "2021-12-16T22:46:27.197Z"
   },
   {
    "duration": 15,
    "start_time": "2021-12-16T22:46:27.205Z"
   },
   {
    "duration": 7,
    "start_time": "2021-12-16T22:46:27.223Z"
   },
   {
    "duration": 17,
    "start_time": "2021-12-16T22:46:27.233Z"
   },
   {
    "duration": 7,
    "start_time": "2021-12-16T22:46:27.253Z"
   },
   {
    "duration": 83,
    "start_time": "2021-12-16T22:46:27.263Z"
   },
   {
    "duration": 11,
    "start_time": "2021-12-16T22:46:27.348Z"
   },
   {
    "duration": 5,
    "start_time": "2021-12-16T22:46:27.361Z"
   },
   {
    "duration": 5,
    "start_time": "2021-12-16T22:46:27.369Z"
   },
   {
    "duration": 683,
    "start_time": "2021-12-16T22:46:27.376Z"
   },
   {
    "duration": 6,
    "start_time": "2021-12-16T22:46:28.062Z"
   },
   {
    "duration": 4,
    "start_time": "2021-12-16T22:46:28.070Z"
   },
   {
    "duration": 5,
    "start_time": "2021-12-16T22:46:28.077Z"
   },
   {
    "duration": 43,
    "start_time": "2021-12-16T22:46:28.085Z"
   },
   {
    "duration": 2,
    "start_time": "2021-12-16T22:46:28.131Z"
   },
   {
    "duration": 44,
    "start_time": "2021-12-16T22:46:28.135Z"
   },
   {
    "duration": 3,
    "start_time": "2021-12-16T22:46:28.182Z"
   },
   {
    "duration": 43,
    "start_time": "2021-12-16T22:46:28.187Z"
   },
   {
    "duration": 6,
    "start_time": "2021-12-16T22:46:28.232Z"
   },
   {
    "duration": 10,
    "start_time": "2021-12-16T22:46:28.240Z"
   },
   {
    "duration": 35,
    "start_time": "2021-12-16T22:46:28.252Z"
   },
   {
    "duration": 41,
    "start_time": "2021-12-16T22:46:28.290Z"
   },
   {
    "duration": 38,
    "start_time": "2021-12-16T22:46:28.333Z"
   },
   {
    "duration": 16,
    "start_time": "2021-12-16T22:46:28.374Z"
   },
   {
    "duration": 32,
    "start_time": "2021-12-16T22:46:28.418Z"
   },
   {
    "duration": 803,
    "start_time": "2021-12-17T09:38:27.081Z"
   },
   {
    "duration": 89,
    "start_time": "2021-12-17T09:38:27.887Z"
   },
   {
    "duration": 45,
    "start_time": "2021-12-17T09:38:27.980Z"
   },
   {
    "duration": 7,
    "start_time": "2021-12-17T09:38:28.029Z"
   },
   {
    "duration": 22,
    "start_time": "2021-12-17T09:38:28.064Z"
   },
   {
    "duration": 85,
    "start_time": "2021-12-17T09:38:28.089Z"
   },
   {
    "duration": 29,
    "start_time": "2021-12-17T09:38:28.176Z"
   },
   {
    "duration": 22,
    "start_time": "2021-12-17T09:38:28.208Z"
   },
   {
    "duration": 36,
    "start_time": "2021-12-17T09:38:28.233Z"
   },
   {
    "duration": 33,
    "start_time": "2021-12-17T09:38:28.272Z"
   },
   {
    "duration": 68,
    "start_time": "2021-12-17T09:38:28.308Z"
   },
   {
    "duration": 5,
    "start_time": "2021-12-17T09:38:28.378Z"
   },
   {
    "duration": 24,
    "start_time": "2021-12-17T09:38:28.386Z"
   },
   {
    "duration": 98,
    "start_time": "2021-12-17T09:38:28.412Z"
   },
   {
    "duration": 24,
    "start_time": "2021-12-17T09:38:28.512Z"
   },
   {
    "duration": 30,
    "start_time": "2021-12-17T09:38:28.538Z"
   },
   {
    "duration": 17,
    "start_time": "2021-12-17T09:38:28.571Z"
   },
   {
    "duration": 11,
    "start_time": "2021-12-17T09:38:28.590Z"
   },
   {
    "duration": 12,
    "start_time": "2021-12-17T09:38:28.603Z"
   },
   {
    "duration": 84,
    "start_time": "2021-12-17T09:38:28.618Z"
   },
   {
    "duration": 12,
    "start_time": "2021-12-17T09:38:28.704Z"
   },
   {
    "duration": 53,
    "start_time": "2021-12-17T09:38:28.720Z"
   },
   {
    "duration": 7,
    "start_time": "2021-12-17T09:38:28.779Z"
   },
   {
    "duration": 19,
    "start_time": "2021-12-17T09:38:28.789Z"
   },
   {
    "duration": 71,
    "start_time": "2021-12-17T09:38:28.811Z"
   },
   {
    "duration": 11,
    "start_time": "2021-12-17T09:38:28.884Z"
   },
   {
    "duration": 7,
    "start_time": "2021-12-17T09:38:28.897Z"
   },
   {
    "duration": 65,
    "start_time": "2021-12-17T09:38:28.906Z"
   },
   {
    "duration": 11,
    "start_time": "2021-12-17T09:38:28.973Z"
   },
   {
    "duration": 8,
    "start_time": "2021-12-17T09:38:28.986Z"
   },
   {
    "duration": 10,
    "start_time": "2021-12-17T09:38:28.997Z"
   },
   {
    "duration": 11,
    "start_time": "2021-12-17T09:38:29.009Z"
   },
   {
    "duration": 8,
    "start_time": "2021-12-17T09:38:29.063Z"
   },
   {
    "duration": 21,
    "start_time": "2021-12-17T09:38:29.073Z"
   },
   {
    "duration": 22,
    "start_time": "2021-12-17T09:38:29.097Z"
   },
   {
    "duration": 45,
    "start_time": "2021-12-17T09:38:29.121Z"
   },
   {
    "duration": 7,
    "start_time": "2021-12-17T09:38:29.169Z"
   },
   {
    "duration": 6,
    "start_time": "2021-12-17T09:38:29.180Z"
   },
   {
    "duration": 13,
    "start_time": "2021-12-17T09:38:29.189Z"
   },
   {
    "duration": 120,
    "start_time": "2021-12-17T09:38:29.204Z"
   },
   {
    "duration": 9,
    "start_time": "2021-12-17T09:38:29.328Z"
   },
   {
    "duration": 30,
    "start_time": "2021-12-17T09:38:29.339Z"
   },
   {
    "duration": 6,
    "start_time": "2021-12-17T09:38:29.372Z"
   },
   {
    "duration": 27,
    "start_time": "2021-12-17T09:38:29.380Z"
   },
   {
    "duration": 7,
    "start_time": "2021-12-17T09:38:29.409Z"
   },
   {
    "duration": 77,
    "start_time": "2021-12-17T09:38:29.419Z"
   },
   {
    "duration": 6,
    "start_time": "2021-12-17T09:38:29.498Z"
   },
   {
    "duration": 56,
    "start_time": "2021-12-17T09:38:29.507Z"
   },
   {
    "duration": 46,
    "start_time": "2021-12-17T09:38:29.565Z"
   },
   {
    "duration": 53,
    "start_time": "2021-12-17T09:38:29.614Z"
   },
   {
    "duration": 32,
    "start_time": "2021-12-17T09:38:29.670Z"
   },
   {
    "duration": 67,
    "start_time": "2021-12-17T09:38:29.705Z"
   },
   {
    "duration": 37,
    "start_time": "2021-12-17T09:38:29.775Z"
   },
   {
    "duration": 182,
    "start_time": "2021-12-17T09:38:29.816Z"
   },
   {
    "duration": 8,
    "start_time": "2021-12-17T09:38:30.000Z"
   },
   {
    "duration": 148,
    "start_time": "2021-12-17T09:38:30.010Z"
   },
   {
    "duration": 135,
    "start_time": "2021-12-17T09:38:30.161Z"
   },
   {
    "duration": 3,
    "start_time": "2021-12-17T09:38:30.298Z"
   },
   {
    "duration": 23,
    "start_time": "2021-12-17T09:38:30.304Z"
   },
   {
    "duration": 40,
    "start_time": "2021-12-17T09:38:30.330Z"
   },
   {
    "duration": 64,
    "start_time": "2021-12-17T09:38:30.373Z"
   },
   {
    "duration": 8,
    "start_time": "2021-12-17T09:38:30.440Z"
   },
   {
    "duration": 42,
    "start_time": "2021-12-17T09:38:30.450Z"
   },
   {
    "duration": 38,
    "start_time": "2021-12-17T09:38:30.494Z"
   },
   {
    "duration": 37,
    "start_time": "2021-12-17T09:38:30.535Z"
   },
   {
    "duration": 19,
    "start_time": "2021-12-17T09:38:30.575Z"
   },
   {
    "duration": 54,
    "start_time": "2021-12-17T09:38:30.597Z"
   },
   {
    "duration": 4,
    "start_time": "2021-12-17T09:38:30.667Z"
   },
   {
    "duration": 41,
    "start_time": "2021-12-17T09:38:30.675Z"
   },
   {
    "duration": 6,
    "start_time": "2021-12-17T09:38:30.719Z"
   },
   {
    "duration": 945,
    "start_time": "2021-12-17T09:38:30.728Z"
   },
   {
    "duration": 8,
    "start_time": "2021-12-17T09:38:31.676Z"
   },
   {
    "duration": 4,
    "start_time": "2021-12-17T09:38:31.687Z"
   },
   {
    "duration": 5,
    "start_time": "2021-12-17T09:38:31.694Z"
   },
   {
    "duration": 17,
    "start_time": "2021-12-17T09:38:31.702Z"
   },
   {
    "duration": 43,
    "start_time": "2021-12-17T09:38:31.721Z"
   },
   {
    "duration": 40,
    "start_time": "2021-12-17T09:38:31.767Z"
   },
   {
    "duration": 11,
    "start_time": "2021-12-17T09:38:31.810Z"
   },
   {
    "duration": 6,
    "start_time": "2021-12-17T09:38:31.862Z"
   },
   {
    "duration": 5,
    "start_time": "2021-12-17T09:38:31.870Z"
   },
   {
    "duration": 647,
    "start_time": "2021-12-17T09:38:31.878Z"
   },
   {
    "duration": 7,
    "start_time": "2021-12-17T09:38:32.528Z"
   },
   {
    "duration": 5,
    "start_time": "2021-12-17T09:38:32.537Z"
   },
   {
    "duration": 25,
    "start_time": "2021-12-17T09:38:32.544Z"
   },
   {
    "duration": 16,
    "start_time": "2021-12-17T09:38:32.571Z"
   },
   {
    "duration": 4,
    "start_time": "2021-12-17T09:38:32.589Z"
   },
   {
    "duration": 78,
    "start_time": "2021-12-17T09:38:32.595Z"
   },
   {
    "duration": 3,
    "start_time": "2021-12-17T09:38:32.675Z"
   },
   {
    "duration": 22,
    "start_time": "2021-12-17T09:38:32.680Z"
   },
   {
    "duration": 3,
    "start_time": "2021-12-17T09:38:32.705Z"
   },
   {
    "duration": 8,
    "start_time": "2021-12-17T09:38:32.711Z"
   },
   {
    "duration": 71,
    "start_time": "2021-12-17T09:38:32.721Z"
   },
   {
    "duration": 17,
    "start_time": "2021-12-17T09:38:32.794Z"
   },
   {
    "duration": 62,
    "start_time": "2021-12-17T09:38:32.814Z"
   },
   {
    "duration": 16,
    "start_time": "2021-12-17T09:38:32.879Z"
   },
   {
    "duration": 37,
    "start_time": "2021-12-17T09:38:32.898Z"
   },
   {
    "duration": 450,
    "start_time": "2021-12-17T09:54:49.888Z"
   },
   {
    "duration": 7,
    "start_time": "2021-12-17T09:55:14.831Z"
   },
   {
    "duration": 213,
    "start_time": "2021-12-17T09:55:14.841Z"
   },
   {
    "duration": 27,
    "start_time": "2021-12-17T09:55:15.058Z"
   },
   {
    "duration": 19,
    "start_time": "2021-12-17T09:55:15.095Z"
   },
   {
    "duration": 74,
    "start_time": "2021-12-17T09:55:15.116Z"
   },
   {
    "duration": 138,
    "start_time": "2021-12-17T09:55:15.192Z"
   },
   {
    "duration": 27,
    "start_time": "2021-12-17T09:55:15.339Z"
   },
   {
    "duration": 5,
    "start_time": "2021-12-17T09:55:18.689Z"
   },
   {
    "duration": 6,
    "start_time": "2021-12-17T09:55:42.378Z"
   },
   {
    "duration": 5,
    "start_time": "2021-12-17T09:55:45.690Z"
   },
   {
    "duration": 89,
    "start_time": "2021-12-17T09:57:31.323Z"
   },
   {
    "duration": 81,
    "start_time": "2021-12-17T09:58:40.604Z"
   },
   {
    "duration": 4,
    "start_time": "2021-12-17T09:58:55.684Z"
   },
   {
    "duration": 88,
    "start_time": "2021-12-17T10:01:29.654Z"
   },
   {
    "duration": 90,
    "start_time": "2021-12-17T10:01:33.510Z"
   },
   {
    "duration": 85,
    "start_time": "2021-12-17T10:01:46.767Z"
   },
   {
    "duration": 92,
    "start_time": "2021-12-17T10:01:53.214Z"
   },
   {
    "duration": 87,
    "start_time": "2021-12-17T10:02:06.607Z"
   },
   {
    "duration": 259,
    "start_time": "2021-12-17T10:02:50.470Z"
   },
   {
    "duration": 86,
    "start_time": "2021-12-17T10:02:56.230Z"
   },
   {
    "duration": 89,
    "start_time": "2021-12-17T10:03:14.448Z"
   },
   {
    "duration": 133,
    "start_time": "2021-12-17T10:03:18.944Z"
   },
   {
    "duration": 90,
    "start_time": "2021-12-17T10:03:31.359Z"
   },
   {
    "duration": 6,
    "start_time": "2021-12-17T10:04:46.551Z"
   },
   {
    "duration": 6,
    "start_time": "2021-12-17T10:04:52.192Z"
   },
   {
    "duration": 5,
    "start_time": "2021-12-17T10:05:05.791Z"
   },
   {
    "duration": 6,
    "start_time": "2021-12-17T10:05:14.192Z"
   },
   {
    "duration": 5,
    "start_time": "2021-12-17T10:05:17.440Z"
   },
   {
    "duration": 4,
    "start_time": "2021-12-17T12:02:09.635Z"
   },
   {
    "duration": 92,
    "start_time": "2021-12-17T12:02:09.642Z"
   },
   {
    "duration": 20,
    "start_time": "2021-12-17T12:02:09.737Z"
   },
   {
    "duration": 35,
    "start_time": "2021-12-17T12:02:09.759Z"
   },
   {
    "duration": 16,
    "start_time": "2021-12-17T12:02:09.797Z"
   },
   {
    "duration": 51,
    "start_time": "2021-12-17T12:02:09.815Z"
   },
   {
    "duration": 13,
    "start_time": "2021-12-17T12:02:09.869Z"
   },
   {
    "duration": 5,
    "start_time": "2021-12-17T12:08:14.447Z"
   },
   {
    "duration": 77,
    "start_time": "2021-12-17T12:08:14.454Z"
   },
   {
    "duration": 19,
    "start_time": "2021-12-17T12:08:14.534Z"
   },
   {
    "duration": 5,
    "start_time": "2021-12-17T12:08:14.556Z"
   },
   {
    "duration": 23,
    "start_time": "2021-12-17T12:08:14.567Z"
   },
   {
    "duration": 48,
    "start_time": "2021-12-17T12:08:14.593Z"
   },
   {
    "duration": 22,
    "start_time": "2021-12-17T12:08:14.663Z"
   },
   {
    "duration": 7,
    "start_time": "2021-12-17T12:08:22.467Z"
   },
   {
    "duration": 7,
    "start_time": "2021-12-17T12:08:37.072Z"
   },
   {
    "duration": 5,
    "start_time": "2021-12-17T12:23:34.024Z"
   },
   {
    "duration": 71,
    "start_time": "2021-12-17T12:23:34.031Z"
   },
   {
    "duration": 19,
    "start_time": "2021-12-17T12:23:34.106Z"
   },
   {
    "duration": 6,
    "start_time": "2021-12-17T12:23:34.128Z"
   },
   {
    "duration": 40,
    "start_time": "2021-12-17T12:23:34.136Z"
   },
   {
    "duration": 50,
    "start_time": "2021-12-17T12:23:34.179Z"
   },
   {
    "duration": 39,
    "start_time": "2021-12-17T12:23:34.231Z"
   },
   {
    "duration": 7,
    "start_time": "2021-12-17T12:23:34.273Z"
   },
   {
    "duration": 30,
    "start_time": "2021-12-17T12:23:34.284Z"
   },
   {
    "duration": 13,
    "start_time": "2021-12-17T12:23:34.317Z"
   },
   {
    "duration": 5,
    "start_time": "2021-12-17T13:37:31.412Z"
   },
   {
    "duration": 771,
    "start_time": "2021-12-17T16:56:47.006Z"
   },
   {
    "duration": 420,
    "start_time": "2021-12-17T16:56:47.779Z"
   },
   {
    "duration": 38,
    "start_time": "2021-12-17T16:56:48.203Z"
   },
   {
    "duration": 5,
    "start_time": "2021-12-17T16:56:48.244Z"
   },
   {
    "duration": 15,
    "start_time": "2021-12-17T16:56:48.263Z"
   },
   {
    "duration": 47,
    "start_time": "2021-12-17T16:56:48.280Z"
   },
   {
    "duration": 12,
    "start_time": "2021-12-17T16:56:48.362Z"
   },
   {
    "duration": 6,
    "start_time": "2021-12-17T16:56:48.377Z"
   },
   {
    "duration": 29,
    "start_time": "2021-12-17T16:56:48.386Z"
   },
   {
    "duration": 3,
    "start_time": "2021-12-17T16:56:48.417Z"
   },
   {
    "duration": 68,
    "start_time": "2021-12-17T16:56:48.422Z"
   },
   {
    "duration": 3,
    "start_time": "2021-12-17T16:56:48.493Z"
   },
   {
    "duration": 67,
    "start_time": "2021-12-17T16:56:48.498Z"
   },
   {
    "duration": 6,
    "start_time": "2021-12-17T16:56:48.567Z"
   },
   {
    "duration": 31,
    "start_time": "2021-12-17T16:56:48.575Z"
   },
   {
    "duration": 96,
    "start_time": "2021-12-17T16:56:48.608Z"
   },
   {
    "duration": 25,
    "start_time": "2021-12-17T16:56:48.706Z"
   },
   {
    "duration": 31,
    "start_time": "2021-12-17T16:56:48.733Z"
   },
   {
    "duration": 18,
    "start_time": "2021-12-17T16:56:48.766Z"
   },
   {
    "duration": 14,
    "start_time": "2021-12-17T16:56:48.786Z"
   },
   {
    "duration": 14,
    "start_time": "2021-12-17T16:56:48.803Z"
   },
   {
    "duration": 104,
    "start_time": "2021-12-17T16:56:48.819Z"
   },
   {
    "duration": 36,
    "start_time": "2021-12-17T16:56:48.933Z"
   },
   {
    "duration": 24,
    "start_time": "2021-12-17T16:56:48.975Z"
   },
   {
    "duration": 6,
    "start_time": "2021-12-17T16:56:49.002Z"
   },
   {
    "duration": 65,
    "start_time": "2021-12-17T16:56:49.011Z"
   },
   {
    "duration": 56,
    "start_time": "2021-12-17T16:56:49.079Z"
   },
   {
    "duration": 38,
    "start_time": "2021-12-17T16:56:49.138Z"
   },
   {
    "duration": 8,
    "start_time": "2021-12-17T16:56:49.179Z"
   },
   {
    "duration": 36,
    "start_time": "2021-12-17T16:56:49.190Z"
   },
   {
    "duration": 36,
    "start_time": "2021-12-17T16:56:49.228Z"
   },
   {
    "duration": 9,
    "start_time": "2021-12-17T16:56:49.267Z"
   },
   {
    "duration": 10,
    "start_time": "2021-12-17T16:56:49.279Z"
   },
   {
    "duration": 12,
    "start_time": "2021-12-17T16:56:49.291Z"
   },
   {
    "duration": 9,
    "start_time": "2021-12-17T16:56:49.305Z"
   },
   {
    "duration": 33,
    "start_time": "2021-12-17T16:56:49.364Z"
   },
   {
    "duration": 52,
    "start_time": "2021-12-17T16:56:49.400Z"
   },
   {
    "duration": 32,
    "start_time": "2021-12-17T16:56:49.455Z"
   },
   {
    "duration": 14,
    "start_time": "2021-12-17T16:56:49.490Z"
   },
   {
    "duration": 19,
    "start_time": "2021-12-17T16:56:49.507Z"
   },
   {
    "duration": 26,
    "start_time": "2021-12-17T16:56:49.529Z"
   },
   {
    "duration": 82,
    "start_time": "2021-12-17T16:56:49.557Z"
   },
   {
    "duration": 8,
    "start_time": "2021-12-17T16:56:49.642Z"
   },
   {
    "duration": 31,
    "start_time": "2021-12-17T16:56:49.663Z"
   },
   {
    "duration": 32,
    "start_time": "2021-12-17T16:56:49.697Z"
   },
   {
    "duration": 47,
    "start_time": "2021-12-17T16:56:49.731Z"
   },
   {
    "duration": 14,
    "start_time": "2021-12-17T16:56:49.780Z"
   },
   {
    "duration": 44,
    "start_time": "2021-12-17T16:56:49.797Z"
   },
   {
    "duration": 21,
    "start_time": "2021-12-17T16:56:49.844Z"
   },
   {
    "duration": 19,
    "start_time": "2021-12-17T16:56:49.868Z"
   },
   {
    "duration": 84,
    "start_time": "2021-12-17T16:56:49.890Z"
   },
   {
    "duration": 26,
    "start_time": "2021-12-17T16:56:49.977Z"
   },
   {
    "duration": 62,
    "start_time": "2021-12-17T16:56:50.006Z"
   },
   {
    "duration": 39,
    "start_time": "2021-12-17T16:56:50.071Z"
   },
   {
    "duration": 60,
    "start_time": "2021-12-17T16:56:50.113Z"
   },
   {
    "duration": 153,
    "start_time": "2021-12-17T16:56:50.175Z"
   },
   {
    "duration": 31,
    "start_time": "2021-12-17T16:56:50.331Z"
   },
   {
    "duration": 138,
    "start_time": "2021-12-17T16:56:50.365Z"
   },
   {
    "duration": 132,
    "start_time": "2021-12-17T16:56:50.506Z"
   },
   {
    "duration": 3,
    "start_time": "2021-12-17T16:56:50.640Z"
   },
   {
    "duration": 5,
    "start_time": "2021-12-17T16:56:50.645Z"
   },
   {
    "duration": 13,
    "start_time": "2021-12-17T16:56:50.663Z"
   },
   {
    "duration": 36,
    "start_time": "2021-12-17T16:56:50.679Z"
   },
   {
    "duration": 45,
    "start_time": "2021-12-17T16:56:50.718Z"
   },
   {
    "duration": 7,
    "start_time": "2021-12-17T16:56:50.765Z"
   },
   {
    "duration": 18,
    "start_time": "2021-12-17T16:56:50.774Z"
   },
   {
    "duration": 23,
    "start_time": "2021-12-17T16:56:50.794Z"
   },
   {
    "duration": 9,
    "start_time": "2021-12-17T16:56:50.871Z"
   },
   {
    "duration": 51,
    "start_time": "2021-12-17T16:56:50.884Z"
   },
   {
    "duration": 25,
    "start_time": "2021-12-17T16:56:50.938Z"
   },
   {
    "duration": 19,
    "start_time": "2021-12-17T16:56:50.965Z"
   },
   {
    "duration": 5,
    "start_time": "2021-12-17T16:56:50.987Z"
   },
   {
    "duration": 1129,
    "start_time": "2021-12-17T16:56:50.996Z"
   },
   {
    "duration": 6,
    "start_time": "2021-12-17T16:56:52.128Z"
   },
   {
    "duration": 15,
    "start_time": "2021-12-17T16:56:52.136Z"
   },
   {
    "duration": 13,
    "start_time": "2021-12-17T16:56:52.153Z"
   },
   {
    "duration": 24,
    "start_time": "2021-12-17T16:56:52.169Z"
   },
   {
    "duration": 24,
    "start_time": "2021-12-17T16:56:52.195Z"
   },
   {
    "duration": 54,
    "start_time": "2021-12-17T16:56:52.221Z"
   },
   {
    "duration": 11,
    "start_time": "2021-12-17T16:56:52.277Z"
   },
   {
    "duration": 26,
    "start_time": "2021-12-17T16:56:52.290Z"
   },
   {
    "duration": 25,
    "start_time": "2021-12-17T16:56:52.319Z"
   },
   {
    "duration": 599,
    "start_time": "2021-12-17T16:56:52.347Z"
   },
   {
    "duration": 16,
    "start_time": "2021-12-17T16:56:52.948Z"
   },
   {
    "duration": 28,
    "start_time": "2021-12-17T16:56:52.966Z"
   },
   {
    "duration": 24,
    "start_time": "2021-12-17T16:56:52.997Z"
   },
   {
    "duration": 33,
    "start_time": "2021-12-17T16:56:53.024Z"
   },
   {
    "duration": 15,
    "start_time": "2021-12-17T16:56:53.060Z"
   },
   {
    "duration": 71,
    "start_time": "2021-12-17T16:56:53.077Z"
   },
   {
    "duration": 3,
    "start_time": "2021-12-17T16:56:53.151Z"
   },
   {
    "duration": 45,
    "start_time": "2021-12-17T16:56:53.157Z"
   },
   {
    "duration": 17,
    "start_time": "2021-12-17T16:56:53.204Z"
   },
   {
    "duration": 48,
    "start_time": "2021-12-17T16:56:53.224Z"
   },
   {
    "duration": 55,
    "start_time": "2021-12-17T16:56:53.275Z"
   },
   {
    "duration": 19,
    "start_time": "2021-12-17T16:56:53.333Z"
   },
   {
    "duration": 58,
    "start_time": "2021-12-17T16:56:53.354Z"
   },
   {
    "duration": 18,
    "start_time": "2021-12-17T16:56:53.415Z"
   },
   {
    "duration": 33,
    "start_time": "2021-12-17T16:56:53.435Z"
   },
   {
    "duration": 4,
    "start_time": "2021-12-17T17:08:02.480Z"
   },
   {
    "duration": 70,
    "start_time": "2021-12-17T17:08:02.487Z"
   },
   {
    "duration": 20,
    "start_time": "2021-12-17T17:08:02.560Z"
   },
   {
    "duration": 5,
    "start_time": "2021-12-17T17:08:02.583Z"
   },
   {
    "duration": 14,
    "start_time": "2021-12-17T17:08:02.590Z"
   },
   {
    "duration": 87,
    "start_time": "2021-12-17T17:08:02.607Z"
   },
   {
    "duration": 12,
    "start_time": "2021-12-17T17:08:02.696Z"
   },
   {
    "duration": 5,
    "start_time": "2021-12-17T17:08:12.675Z"
   },
   {
    "duration": 78,
    "start_time": "2021-12-17T17:08:12.683Z"
   },
   {
    "duration": 20,
    "start_time": "2021-12-17T17:08:12.764Z"
   },
   {
    "duration": 7,
    "start_time": "2021-12-17T17:08:12.788Z"
   },
   {
    "duration": 17,
    "start_time": "2021-12-17T17:08:12.798Z"
   },
   {
    "duration": 84,
    "start_time": "2021-12-17T17:08:12.818Z"
   },
   {
    "duration": 14,
    "start_time": "2021-12-17T17:08:12.905Z"
   },
   {
    "duration": 7,
    "start_time": "2021-12-17T17:08:43.835Z"
   },
   {
    "duration": 13,
    "start_time": "2021-12-17T17:16:18.308Z"
   },
   {
    "duration": 13,
    "start_time": "2021-12-17T17:16:26.188Z"
   },
   {
    "duration": 4,
    "start_time": "2021-12-17T17:16:32.147Z"
   },
   {
    "duration": 67,
    "start_time": "2021-12-17T17:16:32.154Z"
   },
   {
    "duration": 18,
    "start_time": "2021-12-17T17:16:32.224Z"
   },
   {
    "duration": 21,
    "start_time": "2021-12-17T17:16:32.245Z"
   },
   {
    "duration": 24,
    "start_time": "2021-12-17T17:16:32.268Z"
   },
   {
    "duration": 48,
    "start_time": "2021-12-17T17:16:32.294Z"
   },
   {
    "duration": 29,
    "start_time": "2021-12-17T17:16:32.345Z"
   },
   {
    "duration": 7,
    "start_time": "2021-12-17T17:16:32.376Z"
   },
   {
    "duration": 33,
    "start_time": "2021-12-17T17:16:32.385Z"
   },
   {
    "duration": 43,
    "start_time": "2021-12-17T17:16:32.420Z"
   },
   {
    "duration": 34,
    "start_time": "2021-12-17T17:16:32.466Z"
   },
   {
    "duration": 67,
    "start_time": "2021-12-17T17:16:32.503Z"
   },
   {
    "duration": 19,
    "start_time": "2021-12-17T17:16:42.866Z"
   },
   {
    "duration": 4,
    "start_time": "2021-12-17T17:17:29.538Z"
   },
   {
    "duration": 67,
    "start_time": "2021-12-17T17:17:29.545Z"
   },
   {
    "duration": 20,
    "start_time": "2021-12-17T17:17:29.615Z"
   },
   {
    "duration": 25,
    "start_time": "2021-12-17T17:17:29.638Z"
   },
   {
    "duration": 15,
    "start_time": "2021-12-17T17:17:29.665Z"
   },
   {
    "duration": 48,
    "start_time": "2021-12-17T17:17:29.682Z"
   },
   {
    "duration": 14,
    "start_time": "2021-12-17T17:17:29.763Z"
   },
   {
    "duration": 6,
    "start_time": "2021-12-17T17:17:29.780Z"
   },
   {
    "duration": 37,
    "start_time": "2021-12-17T17:17:29.790Z"
   },
   {
    "duration": 5,
    "start_time": "2021-12-17T17:17:29.862Z"
   },
   {
    "duration": 36,
    "start_time": "2021-12-17T17:17:29.870Z"
   },
   {
    "duration": 408,
    "start_time": "2021-12-17T17:20:19.393Z"
   },
   {
    "duration": 4,
    "start_time": "2021-12-17T17:20:29.989Z"
   },
   {
    "duration": 68,
    "start_time": "2021-12-17T17:20:29.995Z"
   },
   {
    "duration": 19,
    "start_time": "2021-12-17T17:20:30.066Z"
   },
   {
    "duration": 27,
    "start_time": "2021-12-17T17:20:30.088Z"
   },
   {
    "duration": 46,
    "start_time": "2021-12-17T17:20:30.117Z"
   },
   {
    "duration": 83,
    "start_time": "2021-12-17T17:20:30.166Z"
   },
   {
    "duration": 14,
    "start_time": "2021-12-17T17:20:30.252Z"
   },
   {
    "duration": 28,
    "start_time": "2021-12-17T17:20:30.268Z"
   },
   {
    "duration": 51,
    "start_time": "2021-12-17T17:20:30.299Z"
   },
   {
    "duration": 44,
    "start_time": "2021-12-17T17:20:30.352Z"
   },
   {
    "duration": 49,
    "start_time": "2021-12-17T17:20:30.399Z"
   },
   {
    "duration": 242,
    "start_time": "2021-12-17T17:20:43.394Z"
   },
   {
    "duration": 13,
    "start_time": "2021-12-17T17:20:49.576Z"
   },
   {
    "duration": 5,
    "start_time": "2021-12-17T17:20:59.873Z"
   },
   {
    "duration": 65,
    "start_time": "2021-12-17T17:20:59.880Z"
   },
   {
    "duration": 25,
    "start_time": "2021-12-17T17:20:59.948Z"
   },
   {
    "duration": 7,
    "start_time": "2021-12-17T17:20:59.976Z"
   },
   {
    "duration": 16,
    "start_time": "2021-12-17T17:20:59.986Z"
   },
   {
    "duration": 85,
    "start_time": "2021-12-17T17:21:00.004Z"
   },
   {
    "duration": 12,
    "start_time": "2021-12-17T17:21:00.092Z"
   },
   {
    "duration": 7,
    "start_time": "2021-12-17T17:21:00.107Z"
   },
   {
    "duration": 55,
    "start_time": "2021-12-17T17:21:00.116Z"
   },
   {
    "duration": 3,
    "start_time": "2021-12-17T17:21:00.174Z"
   },
   {
    "duration": 83,
    "start_time": "2021-12-17T17:21:00.180Z"
   },
   {
    "duration": 17,
    "start_time": "2021-12-17T17:21:00.266Z"
   },
   {
    "duration": 7244,
    "start_time": "2021-12-17T17:21:19.736Z"
   },
   {
    "duration": 20,
    "start_time": "2021-12-17T17:21:37.539Z"
   },
   {
    "duration": 9,
    "start_time": "2021-12-17T17:24:01.235Z"
   },
   {
    "duration": 7240,
    "start_time": "2021-12-17T17:24:10.592Z"
   },
   {
    "duration": 6270,
    "start_time": "2021-12-17T17:24:22.725Z"
   },
   {
    "duration": 281,
    "start_time": "2021-12-17T17:25:44.162Z"
   },
   {
    "duration": 7,
    "start_time": "2021-12-17T17:26:29.634Z"
   },
   {
    "duration": 9,
    "start_time": "2021-12-17T17:26:37.994Z"
   },
   {
    "duration": 6,
    "start_time": "2021-12-17T17:26:56.262Z"
   },
   {
    "duration": 264,
    "start_time": "2021-12-17T17:29:27.627Z"
   },
   {
    "duration": 17,
    "start_time": "2021-12-17T17:30:43.522Z"
   },
   {
    "duration": 28,
    "start_time": "2021-12-17T17:31:03.025Z"
   },
   {
    "duration": 25,
    "start_time": "2021-12-17T17:35:54.170Z"
   },
   {
    "duration": 51,
    "start_time": "2021-12-17T17:36:52.805Z"
   },
   {
    "duration": 271,
    "start_time": "2021-12-17T17:38:55.649Z"
   },
   {
    "duration": 249,
    "start_time": "2021-12-17T17:39:05.460Z"
   },
   {
    "duration": 41,
    "start_time": "2021-12-17T17:39:23.722Z"
   },
   {
    "duration": 30,
    "start_time": "2021-12-17T17:42:07.255Z"
   },
   {
    "duration": 33,
    "start_time": "2021-12-17T17:42:32.519Z"
   },
   {
    "duration": 33,
    "start_time": "2021-12-17T17:42:43.364Z"
   },
   {
    "duration": 30,
    "start_time": "2021-12-17T17:42:58.836Z"
   },
   {
    "duration": 7166,
    "start_time": "2021-12-17T17:43:10.761Z"
   },
   {
    "duration": 9,
    "start_time": "2021-12-17T17:43:55.601Z"
   },
   {
    "duration": 8,
    "start_time": "2021-12-17T17:44:15.526Z"
   },
   {
    "duration": 17,
    "start_time": "2021-12-17T17:45:15.199Z"
   },
   {
    "duration": 31,
    "start_time": "2021-12-17T17:45:38.839Z"
   },
   {
    "duration": 11,
    "start_time": "2021-12-17T17:45:45.744Z"
   },
   {
    "duration": 20,
    "start_time": "2021-12-17T17:46:12.260Z"
   },
   {
    "duration": 13,
    "start_time": "2021-12-17T17:46:25.553Z"
   },
   {
    "duration": 6367,
    "start_time": "2021-12-17T17:46:54.334Z"
   },
   {
    "duration": 7550,
    "start_time": "2021-12-17T17:47:00.980Z"
   },
   {
    "duration": 31,
    "start_time": "2021-12-17T17:47:29.581Z"
   },
   {
    "duration": 11,
    "start_time": "2021-12-17T17:47:32.356Z"
   },
   {
    "duration": 283,
    "start_time": "2021-12-17T17:48:26.567Z"
   },
   {
    "duration": 283,
    "start_time": "2021-12-17T17:51:19.383Z"
   },
   {
    "duration": 304,
    "start_time": "2021-12-17T17:51:33.774Z"
   },
   {
    "duration": 383,
    "start_time": "2021-12-17T17:51:42.190Z"
   },
   {
    "duration": 27,
    "start_time": "2021-12-17T17:53:01.094Z"
   },
   {
    "duration": 6961,
    "start_time": "2021-12-17T17:57:59.243Z"
   },
   {
    "duration": 6465,
    "start_time": "2021-12-17T17:58:15.988Z"
   },
   {
    "duration": 7385,
    "start_time": "2021-12-17T17:58:46.435Z"
   },
   {
    "duration": 7,
    "start_time": "2021-12-17T17:58:58.837Z"
   },
   {
    "duration": 12,
    "start_time": "2021-12-17T17:59:13.972Z"
   },
   {
    "duration": 8,
    "start_time": "2021-12-17T17:59:24.660Z"
   },
   {
    "duration": -2202,
    "start_time": "2021-12-17T18:00:58.464Z"
   },
   {
    "duration": 5295,
    "start_time": "2021-12-17T18:00:58.119Z"
   },
   {
    "duration": 254,
    "start_time": "2021-12-17T18:01:17.714Z"
   },
   {
    "duration": 6233,
    "start_time": "2021-12-17T18:01:52.820Z"
   },
   {
    "duration": 6970,
    "start_time": "2021-12-17T18:03:00.844Z"
   },
   {
    "duration": 5234,
    "start_time": "2021-12-17T18:03:20.525Z"
   },
   {
    "duration": 6575,
    "start_time": "2021-12-17T18:06:39.974Z"
   },
   {
    "duration": 9331,
    "start_time": "2021-12-17T18:06:51.566Z"
   },
   {
    "duration": -2108,
    "start_time": "2021-12-17T18:11:35.781Z"
   },
   {
    "duration": 13,
    "start_time": "2021-12-17T18:11:35.997Z"
   },
   {
    "duration": 10,
    "start_time": "2021-12-17T18:12:43.364Z"
   },
   {
    "duration": 86,
    "start_time": "2021-12-17T18:12:53.692Z"
   },
   {
    "duration": 239,
    "start_time": "2021-12-17T18:13:04.641Z"
   },
   {
    "duration": 7,
    "start_time": "2021-12-17T18:13:09.788Z"
   },
   {
    "duration": 5890,
    "start_time": "2021-12-17T18:13:31.392Z"
   },
   {
    "duration": 5457,
    "start_time": "2021-12-17T18:13:43.704Z"
   },
   {
    "duration": 7,
    "start_time": "2021-12-17T18:14:53.710Z"
   },
   {
    "duration": 11,
    "start_time": "2021-12-17T18:15:20.485Z"
   },
   {
    "duration": 37,
    "start_time": "2021-12-17T18:16:47.805Z"
   },
   {
    "duration": 87,
    "start_time": "2021-12-17T18:21:12.433Z"
   },
   {
    "duration": 109,
    "start_time": "2021-12-17T18:21:22.862Z"
   },
   {
    "duration": 36,
    "start_time": "2021-12-17T18:21:43.391Z"
   },
   {
    "duration": 34,
    "start_time": "2021-12-17T18:22:03.968Z"
   },
   {
    "duration": 34,
    "start_time": "2021-12-17T18:22:16.817Z"
   },
   {
    "duration": 89,
    "start_time": "2021-12-17T18:23:30.544Z"
   },
   {
    "duration": 83,
    "start_time": "2021-12-17T18:23:48.123Z"
   },
   {
    "duration": 298,
    "start_time": "2021-12-17T18:24:02.409Z"
   },
   {
    "duration": 87,
    "start_time": "2021-12-17T18:24:34.768Z"
   },
   {
    "duration": 91,
    "start_time": "2021-12-17T18:24:43.612Z"
   },
   {
    "duration": 92,
    "start_time": "2021-12-17T18:25:16.649Z"
   },
   {
    "duration": 36,
    "start_time": "2021-12-17T18:25:33.182Z"
   },
   {
    "duration": 28,
    "start_time": "2021-12-17T18:27:02.341Z"
   },
   {
    "duration": 7059,
    "start_time": "2021-12-17T18:28:34.489Z"
   },
   {
    "duration": 6058,
    "start_time": "2021-12-17T18:28:48.652Z"
   },
   {
    "duration": 30,
    "start_time": "2021-12-17T18:29:15.138Z"
   },
   {
    "duration": 5,
    "start_time": "2021-12-17T18:32:50.355Z"
   },
   {
    "duration": 30,
    "start_time": "2021-12-17T18:33:23.380Z"
   },
   {
    "duration": 26,
    "start_time": "2021-12-17T18:34:03.926Z"
   },
   {
    "duration": 5,
    "start_time": "2021-12-17T18:40:07.108Z"
   },
   {
    "duration": 37,
    "start_time": "2021-12-17T18:40:10.659Z"
   },
   {
    "duration": 8,
    "start_time": "2021-12-17T18:40:35.283Z"
   },
   {
    "duration": 41,
    "start_time": "2021-12-17T18:40:37.533Z"
   },
   {
    "duration": 7,
    "start_time": "2021-12-17T18:42:01.641Z"
   },
   {
    "duration": 44,
    "start_time": "2021-12-17T18:42:04.184Z"
   },
   {
    "duration": 6,
    "start_time": "2021-12-17T18:42:16.585Z"
   },
   {
    "duration": 39,
    "start_time": "2021-12-17T18:42:19.134Z"
   },
   {
    "duration": 4,
    "start_time": "2021-12-17T18:43:33.696Z"
   },
   {
    "duration": 74,
    "start_time": "2021-12-17T18:43:33.702Z"
   },
   {
    "duration": 20,
    "start_time": "2021-12-17T18:43:33.780Z"
   },
   {
    "duration": 17,
    "start_time": "2021-12-17T18:43:33.802Z"
   },
   {
    "duration": 23,
    "start_time": "2021-12-17T18:43:33.821Z"
   },
   {
    "duration": 60,
    "start_time": "2021-12-17T18:43:33.846Z"
   },
   {
    "duration": 12,
    "start_time": "2021-12-17T18:43:33.909Z"
   },
   {
    "duration": 26,
    "start_time": "2021-12-17T18:43:33.924Z"
   },
   {
    "duration": 31,
    "start_time": "2021-12-17T18:43:33.952Z"
   },
   {
    "duration": 3,
    "start_time": "2021-12-17T18:43:33.986Z"
   },
   {
    "duration": 77,
    "start_time": "2021-12-17T18:43:33.991Z"
   },
   {
    "duration": 28,
    "start_time": "2021-12-17T18:43:34.071Z"
   },
   {
    "duration": 7,
    "start_time": "2021-12-17T18:43:34.101Z"
   },
   {
    "duration": 72,
    "start_time": "2021-12-17T18:43:34.110Z"
   },
   {
    "duration": 499,
    "start_time": "2021-12-17T18:43:53.684Z"
   },
   {
    "duration": 8,
    "start_time": "2021-12-17T18:44:37.539Z"
   },
   {
    "duration": 5,
    "start_time": "2021-12-17T18:47:53.996Z"
   },
   {
    "duration": 25,
    "start_time": "2021-12-17T18:47:56.447Z"
   },
   {
    "duration": 34,
    "start_time": "2021-12-17T18:48:15.138Z"
   },
   {
    "duration": 33,
    "start_time": "2021-12-17T18:48:34.131Z"
   },
   {
    "duration": 36,
    "start_time": "2021-12-17T18:49:55.725Z"
   },
   {
    "duration": 8,
    "start_time": "2021-12-17T18:50:03.830Z"
   },
   {
    "duration": 33,
    "start_time": "2021-12-17T19:16:53.098Z"
   },
   {
    "duration": 204,
    "start_time": "2021-12-17T19:20:49.031Z"
   },
   {
    "duration": 48,
    "start_time": "2021-12-17T19:22:29.226Z"
   },
   {
    "duration": 33,
    "start_time": "2021-12-17T19:25:21.771Z"
   },
   {
    "duration": 49,
    "start_time": "2021-12-17T19:25:58.262Z"
   },
   {
    "duration": 34,
    "start_time": "2021-12-17T19:26:03.888Z"
   },
   {
    "duration": 31,
    "start_time": "2021-12-17T19:26:42.126Z"
   },
   {
    "duration": 47,
    "start_time": "2021-12-17T19:28:33.783Z"
   },
   {
    "duration": 43,
    "start_time": "2021-12-17T19:29:25.369Z"
   },
   {
    "duration": 4,
    "start_time": "2021-12-17T19:31:45.580Z"
   },
   {
    "duration": 67,
    "start_time": "2021-12-17T19:31:45.587Z"
   },
   {
    "duration": 19,
    "start_time": "2021-12-17T19:31:45.662Z"
   },
   {
    "duration": 6,
    "start_time": "2021-12-17T19:31:45.685Z"
   },
   {
    "duration": 18,
    "start_time": "2021-12-17T19:31:45.694Z"
   },
   {
    "duration": 86,
    "start_time": "2021-12-17T19:31:45.715Z"
   },
   {
    "duration": 13,
    "start_time": "2021-12-17T19:31:45.805Z"
   },
   {
    "duration": 5,
    "start_time": "2021-12-17T19:31:45.821Z"
   },
   {
    "duration": 47,
    "start_time": "2021-12-17T19:31:45.835Z"
   },
   {
    "duration": 3,
    "start_time": "2021-12-17T19:31:45.884Z"
   },
   {
    "duration": 80,
    "start_time": "2021-12-17T19:31:45.890Z"
   },
   {
    "duration": 31,
    "start_time": "2021-12-17T19:31:45.973Z"
   },
   {
    "duration": 5,
    "start_time": "2021-12-17T19:31:46.006Z"
   },
   {
    "duration": 75,
    "start_time": "2021-12-17T19:31:46.013Z"
   },
   {
    "duration": 33,
    "start_time": "2021-12-17T19:31:46.090Z"
   },
   {
    "duration": 65,
    "start_time": "2021-12-17T19:31:46.126Z"
   },
   {
    "duration": 32,
    "start_time": "2021-12-17T19:31:46.194Z"
   },
   {
    "duration": 58,
    "start_time": "2021-12-17T19:31:46.228Z"
   },
   {
    "duration": 141,
    "start_time": "2021-12-17T19:34:56.281Z"
   },
   {
    "duration": 85,
    "start_time": "2021-12-17T19:35:13.314Z"
   },
   {
    "duration": 4,
    "start_time": "2021-12-17T19:35:27.530Z"
   },
   {
    "duration": 86,
    "start_time": "2021-12-17T19:35:27.538Z"
   },
   {
    "duration": 35,
    "start_time": "2021-12-17T19:35:27.628Z"
   },
   {
    "duration": 7,
    "start_time": "2021-12-17T19:35:27.667Z"
   },
   {
    "duration": 16,
    "start_time": "2021-12-17T19:35:27.676Z"
   },
   {
    "duration": 106,
    "start_time": "2021-12-17T19:35:27.694Z"
   },
   {
    "duration": 19,
    "start_time": "2021-12-17T19:35:27.806Z"
   },
   {
    "duration": 7,
    "start_time": "2021-12-17T19:35:27.829Z"
   },
   {
    "duration": 31,
    "start_time": "2021-12-17T19:35:27.862Z"
   },
   {
    "duration": 4,
    "start_time": "2021-12-17T19:35:27.895Z"
   },
   {
    "duration": 81,
    "start_time": "2021-12-17T19:35:27.901Z"
   },
   {
    "duration": 33,
    "start_time": "2021-12-17T19:35:27.985Z"
   },
   {
    "duration": 133,
    "start_time": "2021-12-17T19:35:28.021Z"
   },
   {
    "duration": -2150,
    "start_time": "2021-12-17T19:35:30.308Z"
   },
   {
    "duration": -2153,
    "start_time": "2021-12-17T19:35:30.312Z"
   },
   {
    "duration": -2158,
    "start_time": "2021-12-17T19:35:30.319Z"
   },
   {
    "duration": -2160,
    "start_time": "2021-12-17T19:35:30.323Z"
   },
   {
    "duration": -2162,
    "start_time": "2021-12-17T19:35:30.327Z"
   },
   {
    "duration": 5,
    "start_time": "2021-12-17T19:35:45.562Z"
   },
   {
    "duration": 4,
    "start_time": "2021-12-17T19:35:50.994Z"
   },
   {
    "duration": 64,
    "start_time": "2021-12-17T19:35:51.001Z"
   },
   {
    "duration": 30,
    "start_time": "2021-12-17T19:35:51.068Z"
   },
   {
    "duration": 7,
    "start_time": "2021-12-17T19:35:51.100Z"
   },
   {
    "duration": 15,
    "start_time": "2021-12-17T19:35:51.109Z"
   },
   {
    "duration": 77,
    "start_time": "2021-12-17T19:35:51.127Z"
   },
   {
    "duration": 13,
    "start_time": "2021-12-17T19:35:51.207Z"
   },
   {
    "duration": 6,
    "start_time": "2021-12-17T19:35:51.222Z"
   },
   {
    "duration": 54,
    "start_time": "2021-12-17T19:35:51.232Z"
   },
   {
    "duration": 3,
    "start_time": "2021-12-17T19:35:51.289Z"
   },
   {
    "duration": 82,
    "start_time": "2021-12-17T19:35:51.295Z"
   },
   {
    "duration": 30,
    "start_time": "2021-12-17T19:35:51.380Z"
   },
   {
    "duration": 6,
    "start_time": "2021-12-17T19:35:51.413Z"
   },
   {
    "duration": 5,
    "start_time": "2021-12-17T19:36:03.776Z"
   },
   {
    "duration": 76,
    "start_time": "2021-12-17T19:36:03.785Z"
   },
   {
    "duration": 21,
    "start_time": "2021-12-17T19:36:03.865Z"
   },
   {
    "duration": 37,
    "start_time": "2021-12-17T19:36:03.889Z"
   },
   {
    "duration": 40,
    "start_time": "2021-12-17T19:36:03.929Z"
   },
   {
    "duration": 71,
    "start_time": "2021-12-17T19:36:03.972Z"
   },
   {
    "duration": 13,
    "start_time": "2021-12-17T19:36:04.046Z"
   },
   {
    "duration": 25,
    "start_time": "2021-12-17T19:36:04.063Z"
   },
   {
    "duration": 65,
    "start_time": "2021-12-17T19:36:04.092Z"
   },
   {
    "duration": 3,
    "start_time": "2021-12-17T19:36:04.161Z"
   },
   {
    "duration": 53,
    "start_time": "2021-12-17T19:36:04.167Z"
   },
   {
    "duration": 61,
    "start_time": "2021-12-17T19:36:04.223Z"
   },
   {
    "duration": 22,
    "start_time": "2021-12-17T19:36:04.287Z"
   },
   {
    "duration": 45,
    "start_time": "2021-12-17T19:36:04.313Z"
   },
   {
    "duration": 44,
    "start_time": "2021-12-17T19:36:04.361Z"
   },
   {
    "duration": 35,
    "start_time": "2021-12-17T19:36:04.407Z"
   },
   {
    "duration": 32,
    "start_time": "2021-12-17T19:36:04.446Z"
   },
   {
    "duration": 44,
    "start_time": "2021-12-17T19:36:04.481Z"
   },
   {
    "duration": 24,
    "start_time": "2021-12-17T19:36:04.528Z"
   },
   {
    "duration": 4,
    "start_time": "2021-12-17T19:36:29.394Z"
   },
   {
    "duration": 71,
    "start_time": "2021-12-17T19:36:29.401Z"
   },
   {
    "duration": 22,
    "start_time": "2021-12-17T19:36:29.475Z"
   },
   {
    "duration": 6,
    "start_time": "2021-12-17T19:36:29.500Z"
   },
   {
    "duration": 76,
    "start_time": "2021-12-17T19:36:29.509Z"
   },
   {
    "duration": 103,
    "start_time": "2021-12-17T19:36:29.588Z"
   },
   {
    "duration": 19,
    "start_time": "2021-12-17T19:36:29.696Z"
   },
   {
    "duration": 6,
    "start_time": "2021-12-17T19:36:29.719Z"
   },
   {
    "duration": 33,
    "start_time": "2021-12-17T19:36:29.763Z"
   },
   {
    "duration": 3,
    "start_time": "2021-12-17T19:36:29.799Z"
   },
   {
    "duration": 67,
    "start_time": "2021-12-17T19:36:29.804Z"
   },
   {
    "duration": 29,
    "start_time": "2021-12-17T19:36:29.874Z"
   },
   {
    "duration": 5,
    "start_time": "2021-12-17T19:36:29.905Z"
   },
   {
    "duration": 61,
    "start_time": "2021-12-17T19:36:29.913Z"
   },
   {
    "duration": 16,
    "start_time": "2021-12-17T19:36:29.976Z"
   },
   {
    "duration": 23,
    "start_time": "2021-12-17T19:36:29.995Z"
   },
   {
    "duration": 51,
    "start_time": "2021-12-17T19:36:30.020Z"
   },
   {
    "duration": 24,
    "start_time": "2021-12-17T19:36:30.074Z"
   },
   {
    "duration": 23,
    "start_time": "2021-12-17T19:36:30.106Z"
   },
   {
    "duration": 31,
    "start_time": "2021-12-17T19:36:30.134Z"
   },
   {
    "duration": 29,
    "start_time": "2021-12-17T19:36:30.168Z"
   },
   {
    "duration": 101,
    "start_time": "2021-12-17T19:36:30.200Z"
   },
   {
    "duration": 26,
    "start_time": "2021-12-17T19:36:30.304Z"
   },
   {
    "duration": 31,
    "start_time": "2021-12-17T19:36:30.333Z"
   },
   {
    "duration": 18,
    "start_time": "2021-12-17T19:36:30.367Z"
   },
   {
    "duration": 33,
    "start_time": "2021-12-17T19:36:30.388Z"
   },
   {
    "duration": 17,
    "start_time": "2021-12-17T19:36:30.423Z"
   },
   {
    "duration": 58,
    "start_time": "2021-12-17T19:36:30.442Z"
   },
   {
    "duration": 16,
    "start_time": "2021-12-17T19:36:30.503Z"
   },
   {
    "duration": 52,
    "start_time": "2021-12-17T19:36:30.523Z"
   },
   {
    "duration": 6,
    "start_time": "2021-12-17T19:36:30.578Z"
   },
   {
    "duration": 23,
    "start_time": "2021-12-17T19:36:30.587Z"
   },
   {
    "duration": 86,
    "start_time": "2021-12-17T19:36:30.613Z"
   },
   {
    "duration": 19,
    "start_time": "2021-12-17T19:36:30.703Z"
   },
   {
    "duration": 40,
    "start_time": "2021-12-17T19:36:30.725Z"
   },
   {
    "duration": 39,
    "start_time": "2021-12-17T19:36:30.768Z"
   },
   {
    "duration": 15,
    "start_time": "2021-12-17T19:36:30.810Z"
   },
   {
    "duration": 38,
    "start_time": "2021-12-17T19:36:30.828Z"
   },
   {
    "duration": 12,
    "start_time": "2021-12-17T19:36:30.869Z"
   },
   {
    "duration": 11,
    "start_time": "2021-12-17T19:36:30.885Z"
   },
   {
    "duration": 8,
    "start_time": "2021-12-17T19:36:30.898Z"
   },
   {
    "duration": 59,
    "start_time": "2021-12-17T19:36:30.908Z"
   },
   {
    "duration": 25,
    "start_time": "2021-12-17T19:36:30.969Z"
   },
   {
    "duration": 15,
    "start_time": "2021-12-17T19:36:30.997Z"
   },
   {
    "duration": 6,
    "start_time": "2021-12-17T19:36:31.014Z"
   },
   {
    "duration": 42,
    "start_time": "2021-12-17T19:36:31.023Z"
   },
   {
    "duration": 12,
    "start_time": "2021-12-17T19:36:31.068Z"
   },
   {
    "duration": 103,
    "start_time": "2021-12-17T19:36:31.083Z"
   },
   {
    "duration": 7,
    "start_time": "2021-12-17T19:36:31.189Z"
   },
   {
    "duration": 16,
    "start_time": "2021-12-17T19:36:31.199Z"
   },
   {
    "duration": 6,
    "start_time": "2021-12-17T19:36:31.217Z"
   },
   {
    "duration": 53,
    "start_time": "2021-12-17T19:36:31.225Z"
   },
   {
    "duration": 7,
    "start_time": "2021-12-17T19:36:31.280Z"
   },
   {
    "duration": 38,
    "start_time": "2021-12-17T19:36:31.290Z"
   },
   {
    "duration": 6,
    "start_time": "2021-12-17T19:36:31.364Z"
   },
   {
    "duration": 21,
    "start_time": "2021-12-17T19:36:31.374Z"
   },
   {
    "duration": 76,
    "start_time": "2021-12-17T19:36:31.397Z"
   },
   {
    "duration": 27,
    "start_time": "2021-12-17T19:36:31.476Z"
   },
   {
    "duration": 59,
    "start_time": "2021-12-17T19:36:31.505Z"
   },
   {
    "duration": 39,
    "start_time": "2021-12-17T19:36:31.567Z"
   },
   {
    "duration": 57,
    "start_time": "2021-12-17T19:36:31.608Z"
   },
   {
    "duration": 171,
    "start_time": "2021-12-17T19:36:31.668Z"
   },
   {
    "duration": 29,
    "start_time": "2021-12-17T19:36:31.842Z"
   },
   {
    "duration": 139,
    "start_time": "2021-12-17T19:36:31.874Z"
   },
   {
    "duration": 129,
    "start_time": "2021-12-17T19:36:32.015Z"
   },
   {
    "duration": 4,
    "start_time": "2021-12-17T19:36:32.146Z"
   },
   {
    "duration": 11,
    "start_time": "2021-12-17T19:36:32.163Z"
   },
   {
    "duration": 25,
    "start_time": "2021-12-17T19:36:32.176Z"
   },
   {
    "duration": 40,
    "start_time": "2021-12-17T19:36:32.204Z"
   },
   {
    "duration": 21,
    "start_time": "2021-12-17T19:36:32.246Z"
   },
   {
    "duration": 24,
    "start_time": "2021-12-17T19:36:32.270Z"
   },
   {
    "duration": 23,
    "start_time": "2021-12-17T19:36:32.296Z"
   },
   {
    "duration": 42,
    "start_time": "2021-12-17T19:36:32.321Z"
   },
   {
    "duration": 9,
    "start_time": "2021-12-17T19:36:32.365Z"
   },
   {
    "duration": 52,
    "start_time": "2021-12-17T19:36:32.377Z"
   },
   {
    "duration": 63,
    "start_time": "2021-12-17T19:36:32.431Z"
   },
   {
    "duration": 18,
    "start_time": "2021-12-17T19:36:32.496Z"
   },
   {
    "duration": 5,
    "start_time": "2021-12-17T19:36:32.517Z"
   },
   {
    "duration": 1030,
    "start_time": "2021-12-17T19:36:32.524Z"
   },
   {
    "duration": 6,
    "start_time": "2021-12-17T19:36:33.564Z"
   },
   {
    "duration": 14,
    "start_time": "2021-12-17T19:36:33.573Z"
   },
   {
    "duration": 21,
    "start_time": "2021-12-17T19:36:33.590Z"
   },
   {
    "duration": 30,
    "start_time": "2021-12-17T19:36:33.613Z"
   },
   {
    "duration": 13,
    "start_time": "2021-12-17T19:36:33.645Z"
   },
   {
    "duration": 50,
    "start_time": "2021-12-17T19:36:33.660Z"
   },
   {
    "duration": 11,
    "start_time": "2021-12-17T19:36:33.712Z"
   },
   {
    "duration": 13,
    "start_time": "2021-12-17T19:36:33.725Z"
   },
   {
    "duration": 24,
    "start_time": "2021-12-17T19:36:33.741Z"
   },
   {
    "duration": 688,
    "start_time": "2021-12-17T19:36:33.768Z"
   },
   {
    "duration": 9,
    "start_time": "2021-12-17T19:36:34.462Z"
   },
   {
    "duration": 10,
    "start_time": "2021-12-17T19:36:34.474Z"
   },
   {
    "duration": 5,
    "start_time": "2021-12-17T19:36:34.487Z"
   },
   {
    "duration": 17,
    "start_time": "2021-12-17T19:36:34.495Z"
   },
   {
    "duration": 3,
    "start_time": "2021-12-17T19:36:34.515Z"
   },
   {
    "duration": 78,
    "start_time": "2021-12-17T19:36:34.521Z"
   },
   {
    "duration": 4,
    "start_time": "2021-12-17T19:36:34.601Z"
   },
   {
    "duration": 29,
    "start_time": "2021-12-17T19:36:34.607Z"
   },
   {
    "duration": 24,
    "start_time": "2021-12-17T19:36:34.639Z"
   },
   {
    "duration": 4,
    "start_time": "2021-12-17T19:36:34.665Z"
   },
   {
    "duration": 42,
    "start_time": "2021-12-17T19:36:34.672Z"
   },
   {
    "duration": 18,
    "start_time": "2021-12-17T19:36:34.716Z"
   },
   {
    "duration": 35,
    "start_time": "2021-12-17T19:36:34.763Z"
   },
   {
    "duration": 18,
    "start_time": "2021-12-17T19:36:34.800Z"
   },
   {
    "duration": 76,
    "start_time": "2021-12-17T19:36:34.821Z"
   },
   {
    "duration": 5,
    "start_time": "2021-12-17T19:37:21.618Z"
   },
   {
    "duration": 75,
    "start_time": "2021-12-17T19:37:21.626Z"
   },
   {
    "duration": 20,
    "start_time": "2021-12-17T19:37:21.705Z"
   },
   {
    "duration": 6,
    "start_time": "2021-12-17T19:37:21.728Z"
   },
   {
    "duration": 22,
    "start_time": "2021-12-17T19:37:21.763Z"
   },
   {
    "duration": 76,
    "start_time": "2021-12-17T19:37:21.788Z"
   },
   {
    "duration": 12,
    "start_time": "2021-12-17T19:37:21.866Z"
   },
   {
    "duration": 6,
    "start_time": "2021-12-17T19:37:21.880Z"
   },
   {
    "duration": 24,
    "start_time": "2021-12-17T19:37:21.889Z"
   },
   {
    "duration": 4,
    "start_time": "2021-12-17T19:37:21.916Z"
   },
   {
    "duration": 41,
    "start_time": "2021-12-17T19:37:21.963Z"
   },
   {
    "duration": 94,
    "start_time": "2021-12-17T19:37:22.006Z"
   },
   {
    "duration": 7,
    "start_time": "2021-12-17T19:37:22.103Z"
   },
   {
    "duration": 74,
    "start_time": "2021-12-17T19:37:22.114Z"
   },
   {
    "duration": 53,
    "start_time": "2021-12-17T19:37:22.191Z"
   },
   {
    "duration": 51,
    "start_time": "2021-12-17T19:37:22.264Z"
   },
   {
    "duration": 69,
    "start_time": "2021-12-17T19:37:22.318Z"
   },
   {
    "duration": 34,
    "start_time": "2021-12-17T19:37:22.390Z"
   },
   {
    "duration": 51,
    "start_time": "2021-12-17T19:37:22.426Z"
   },
   {
    "duration": 23,
    "start_time": "2021-12-17T19:41:13.878Z"
   },
   {
    "duration": 17,
    "start_time": "2021-12-17T19:43:44.433Z"
   },
   {
    "duration": 16,
    "start_time": "2021-12-17T19:46:34.222Z"
   },
   {
    "duration": 78,
    "start_time": "2021-12-17T19:47:29.814Z"
   },
   {
    "duration": 4,
    "start_time": "2021-12-17T19:50:13.160Z"
   },
   {
    "duration": 105,
    "start_time": "2021-12-17T19:50:13.166Z"
   },
   {
    "duration": 30,
    "start_time": "2021-12-17T19:50:13.275Z"
   },
   {
    "duration": 24,
    "start_time": "2021-12-17T19:50:13.308Z"
   },
   {
    "duration": 61,
    "start_time": "2021-12-17T19:50:13.334Z"
   },
   {
    "duration": 79,
    "start_time": "2021-12-17T19:50:13.399Z"
   },
   {
    "duration": 17,
    "start_time": "2021-12-17T19:50:13.483Z"
   },
   {
    "duration": 55,
    "start_time": "2021-12-17T19:50:13.504Z"
   },
   {
    "duration": 38,
    "start_time": "2021-12-17T19:50:13.562Z"
   },
   {
    "duration": 22,
    "start_time": "2021-12-17T19:50:13.603Z"
   },
   {
    "duration": 112,
    "start_time": "2021-12-17T19:50:13.628Z"
   },
   {
    "duration": 64,
    "start_time": "2021-12-17T19:50:13.743Z"
   },
   {
    "duration": 34,
    "start_time": "2021-12-17T19:50:13.810Z"
   },
   {
    "duration": 64,
    "start_time": "2021-12-17T19:50:13.847Z"
   },
   {
    "duration": 62,
    "start_time": "2021-12-17T19:50:13.913Z"
   },
   {
    "duration": 69,
    "start_time": "2021-12-17T19:50:13.978Z"
   },
   {
    "duration": 5,
    "start_time": "2021-12-17T20:09:40.467Z"
   },
   {
    "duration": 98,
    "start_time": "2021-12-17T20:09:40.476Z"
   },
   {
    "duration": 31,
    "start_time": "2021-12-17T20:09:40.578Z"
   },
   {
    "duration": 8,
    "start_time": "2021-12-17T20:09:40.613Z"
   },
   {
    "duration": 50,
    "start_time": "2021-12-17T20:09:40.624Z"
   },
   {
    "duration": 84,
    "start_time": "2021-12-17T20:09:40.678Z"
   },
   {
    "duration": 20,
    "start_time": "2021-12-17T20:09:40.765Z"
   },
   {
    "duration": 7,
    "start_time": "2021-12-17T20:09:40.790Z"
   },
   {
    "duration": 16,
    "start_time": "2021-12-17T20:09:40.801Z"
   },
   {
    "duration": 47,
    "start_time": "2021-12-17T20:09:40.820Z"
   },
   {
    "duration": 50,
    "start_time": "2021-12-17T20:09:40.870Z"
   },
   {
    "duration": 4,
    "start_time": "2021-12-17T20:09:52.227Z"
   },
   {
    "duration": 108,
    "start_time": "2021-12-17T20:09:52.234Z"
   },
   {
    "duration": 34,
    "start_time": "2021-12-17T20:09:52.347Z"
   },
   {
    "duration": 7,
    "start_time": "2021-12-17T20:09:52.385Z"
   },
   {
    "duration": 21,
    "start_time": "2021-12-17T20:09:52.395Z"
   },
   {
    "duration": 103,
    "start_time": "2021-12-17T20:09:52.419Z"
   },
   {
    "duration": 39,
    "start_time": "2021-12-17T20:09:52.525Z"
   },
   {
    "duration": 5,
    "start_time": "2021-12-17T20:09:52.566Z"
   },
   {
    "duration": 16,
    "start_time": "2021-12-17T20:09:52.575Z"
   },
   {
    "duration": 7,
    "start_time": "2021-12-17T20:09:52.594Z"
   },
   {
    "duration": 75,
    "start_time": "2021-12-17T20:09:52.604Z"
   },
   {
    "duration": 34,
    "start_time": "2021-12-17T20:09:52.682Z"
   },
   {
    "duration": 4,
    "start_time": "2021-12-17T20:22:15.719Z"
   },
   {
    "duration": 74,
    "start_time": "2021-12-17T20:22:15.726Z"
   },
   {
    "duration": 19,
    "start_time": "2021-12-17T20:22:15.803Z"
   },
   {
    "duration": 33,
    "start_time": "2021-12-17T20:22:15.825Z"
   },
   {
    "duration": 36,
    "start_time": "2021-12-17T20:22:15.861Z"
   },
   {
    "duration": 46,
    "start_time": "2021-12-17T20:22:15.900Z"
   },
   {
    "duration": 18,
    "start_time": "2021-12-17T20:22:15.949Z"
   },
   {
    "duration": 8,
    "start_time": "2021-12-17T20:22:15.970Z"
   },
   {
    "duration": 36,
    "start_time": "2021-12-17T20:22:15.981Z"
   },
   {
    "duration": 9,
    "start_time": "2021-12-17T20:22:16.019Z"
   },
   {
    "duration": 59,
    "start_time": "2021-12-17T20:22:16.031Z"
   },
   {
    "duration": 33,
    "start_time": "2021-12-17T20:22:16.092Z"
   },
   {
    "duration": 4,
    "start_time": "2021-12-17T20:24:41.616Z"
   },
   {
    "duration": 64,
    "start_time": "2021-12-17T20:24:41.623Z"
   },
   {
    "duration": 21,
    "start_time": "2021-12-17T20:24:41.690Z"
   },
   {
    "duration": 7,
    "start_time": "2021-12-17T20:24:41.714Z"
   },
   {
    "duration": 43,
    "start_time": "2021-12-17T20:24:41.723Z"
   },
   {
    "duration": 46,
    "start_time": "2021-12-17T20:24:41.768Z"
   },
   {
    "duration": 12,
    "start_time": "2021-12-17T20:24:41.817Z"
   },
   {
    "duration": 36,
    "start_time": "2021-12-17T20:24:41.832Z"
   },
   {
    "duration": 14,
    "start_time": "2021-12-17T20:24:41.871Z"
   },
   {
    "duration": 6,
    "start_time": "2021-12-17T20:24:41.887Z"
   },
   {
    "duration": 70,
    "start_time": "2021-12-17T20:24:41.895Z"
   },
   {
    "duration": 4,
    "start_time": "2021-12-17T20:24:46.755Z"
   },
   {
    "duration": 65,
    "start_time": "2021-12-17T20:24:46.766Z"
   },
   {
    "duration": 29,
    "start_time": "2021-12-17T20:24:46.834Z"
   },
   {
    "duration": 8,
    "start_time": "2021-12-17T20:24:46.868Z"
   },
   {
    "duration": 21,
    "start_time": "2021-12-17T20:24:46.881Z"
   },
   {
    "duration": 120,
    "start_time": "2021-12-17T20:24:46.905Z"
   },
   {
    "duration": 16,
    "start_time": "2021-12-17T20:24:47.029Z"
   },
   {
    "duration": 18,
    "start_time": "2021-12-17T20:24:47.047Z"
   },
   {
    "duration": 19,
    "start_time": "2021-12-17T20:24:47.068Z"
   },
   {
    "duration": 8,
    "start_time": "2021-12-17T20:24:47.090Z"
   },
   {
    "duration": 40,
    "start_time": "2021-12-17T20:24:47.101Z"
   },
   {
    "duration": 43,
    "start_time": "2021-12-17T20:24:47.143Z"
   },
   {
    "duration": 4,
    "start_time": "2021-12-17T20:26:35.025Z"
   },
   {
    "duration": 65,
    "start_time": "2021-12-17T20:26:35.032Z"
   },
   {
    "duration": 20,
    "start_time": "2021-12-17T20:26:35.100Z"
   },
   {
    "duration": 6,
    "start_time": "2021-12-17T20:26:35.124Z"
   },
   {
    "duration": 38,
    "start_time": "2021-12-17T20:26:35.133Z"
   },
   {
    "duration": 67,
    "start_time": "2021-12-17T20:26:35.174Z"
   },
   {
    "duration": 18,
    "start_time": "2021-12-17T20:26:35.264Z"
   },
   {
    "duration": 6,
    "start_time": "2021-12-17T20:26:35.287Z"
   },
   {
    "duration": 17,
    "start_time": "2021-12-17T20:26:35.296Z"
   },
   {
    "duration": 5,
    "start_time": "2021-12-17T20:26:35.316Z"
   },
   {
    "duration": 67,
    "start_time": "2021-12-17T20:26:35.323Z"
   },
   {
    "duration": 32,
    "start_time": "2021-12-17T20:26:35.392Z"
   },
   {
    "duration": 4,
    "start_time": "2021-12-17T21:52:19.353Z"
   },
   {
    "duration": 85,
    "start_time": "2021-12-17T21:52:19.360Z"
   },
   {
    "duration": 30,
    "start_time": "2021-12-17T21:52:19.448Z"
   },
   {
    "duration": 6,
    "start_time": "2021-12-17T21:52:19.480Z"
   },
   {
    "duration": 16,
    "start_time": "2021-12-17T21:52:19.488Z"
   },
   {
    "duration": 101,
    "start_time": "2021-12-17T21:52:19.506Z"
   },
   {
    "duration": 51,
    "start_time": "2021-12-17T21:52:19.611Z"
   },
   {
    "duration": 5,
    "start_time": "2021-12-17T21:52:19.666Z"
   },
   {
    "duration": 20,
    "start_time": "2021-12-17T21:52:19.673Z"
   },
   {
    "duration": 5,
    "start_time": "2021-12-17T21:52:19.696Z"
   },
   {
    "duration": 73,
    "start_time": "2021-12-17T21:52:19.704Z"
   },
   {
    "duration": 33,
    "start_time": "2021-12-17T21:52:19.780Z"
   },
   {
    "duration": 59,
    "start_time": "2021-12-17T21:52:19.816Z"
   },
   {
    "duration": 31,
    "start_time": "2021-12-17T21:52:19.877Z"
   },
   {
    "duration": 53,
    "start_time": "2021-12-17T21:52:19.911Z"
   },
   {
    "duration": 30,
    "start_time": "2021-12-17T21:52:19.966Z"
   },
   {
    "duration": 22,
    "start_time": "2021-12-17T21:52:19.998Z"
   },
   {
    "duration": 92,
    "start_time": "2021-12-17T21:52:20.023Z"
   },
   {
    "duration": 42,
    "start_time": "2021-12-17T21:52:20.123Z"
   },
   {
    "duration": 13,
    "start_time": "2021-12-17T21:52:20.169Z"
   },
   {
    "duration": 20,
    "start_time": "2021-12-17T21:52:20.185Z"
   },
   {
    "duration": 68,
    "start_time": "2021-12-17T21:52:20.207Z"
   },
   {
    "duration": 11,
    "start_time": "2021-12-17T21:52:20.278Z"
   },
   {
    "duration": 32,
    "start_time": "2021-12-17T21:52:20.292Z"
   },
   {
    "duration": 6,
    "start_time": "2021-12-17T21:52:20.327Z"
   },
   {
    "duration": 19,
    "start_time": "2021-12-17T21:52:20.363Z"
   },
   {
    "duration": 46,
    "start_time": "2021-12-17T21:52:20.384Z"
   },
   {
    "duration": 31,
    "start_time": "2021-12-17T21:52:20.432Z"
   },
   {
    "duration": 13,
    "start_time": "2021-12-17T21:52:20.466Z"
   },
   {
    "duration": 37,
    "start_time": "2021-12-17T21:52:20.482Z"
   },
   {
    "duration": 21,
    "start_time": "2021-12-17T21:52:20.522Z"
   },
   {
    "duration": 35,
    "start_time": "2021-12-17T21:52:20.547Z"
   },
   {
    "duration": 28,
    "start_time": "2021-12-17T21:52:20.585Z"
   },
   {
    "duration": 15,
    "start_time": "2021-12-17T21:52:20.617Z"
   },
   {
    "duration": 19,
    "start_time": "2021-12-17T21:52:20.635Z"
   },
   {
    "duration": 38,
    "start_time": "2021-12-17T21:52:20.657Z"
   },
   {
    "duration": 39,
    "start_time": "2021-12-17T21:52:20.698Z"
   },
   {
    "duration": 34,
    "start_time": "2021-12-17T21:52:20.740Z"
   },
   {
    "duration": 20,
    "start_time": "2021-12-17T21:52:20.777Z"
   },
   {
    "duration": 15,
    "start_time": "2021-12-17T21:52:20.800Z"
   },
   {
    "duration": 36,
    "start_time": "2021-12-17T21:52:20.817Z"
   },
   {
    "duration": 78,
    "start_time": "2021-12-17T21:52:20.855Z"
   },
   {
    "duration": 7,
    "start_time": "2021-12-17T21:52:20.936Z"
   },
   {
    "duration": 28,
    "start_time": "2021-12-17T21:52:20.945Z"
   },
   {
    "duration": 13,
    "start_time": "2021-12-17T21:52:20.975Z"
   },
   {
    "duration": 43,
    "start_time": "2021-12-17T21:52:20.990Z"
   },
   {
    "duration": 24,
    "start_time": "2021-12-17T21:52:21.035Z"
   },
   {
    "duration": 58,
    "start_time": "2021-12-17T21:52:21.061Z"
   },
   {
    "duration": 5,
    "start_time": "2021-12-17T21:52:21.122Z"
   },
   {
    "duration": 30,
    "start_time": "2021-12-17T21:52:21.129Z"
   },
   {
    "duration": 45,
    "start_time": "2021-12-17T21:52:21.161Z"
   },
   {
    "duration": 25,
    "start_time": "2021-12-17T21:52:21.208Z"
   },
   {
    "duration": 46,
    "start_time": "2021-12-17T21:52:21.235Z"
   },
   {
    "duration": 38,
    "start_time": "2021-12-17T21:52:21.283Z"
   },
   {
    "duration": 60,
    "start_time": "2021-12-17T21:52:21.330Z"
   },
   {
    "duration": 152,
    "start_time": "2021-12-17T21:52:21.393Z"
   },
   {
    "duration": 25,
    "start_time": "2021-12-17T21:52:21.548Z"
   },
   {
    "duration": 202,
    "start_time": "2021-12-17T21:52:21.576Z"
   },
   {
    "duration": 131,
    "start_time": "2021-12-17T21:52:21.781Z"
   },
   {
    "duration": 4,
    "start_time": "2021-12-17T21:52:21.915Z"
   },
   {
    "duration": 14,
    "start_time": "2021-12-17T21:52:21.922Z"
   },
   {
    "duration": 29,
    "start_time": "2021-12-17T21:52:21.939Z"
   },
   {
    "duration": 38,
    "start_time": "2021-12-17T21:52:21.971Z"
   },
   {
    "duration": 7,
    "start_time": "2021-12-17T21:52:22.013Z"
   },
   {
    "duration": 41,
    "start_time": "2021-12-17T21:52:22.023Z"
   },
   {
    "duration": 25,
    "start_time": "2021-12-17T21:52:22.066Z"
   },
   {
    "duration": 36,
    "start_time": "2021-12-17T21:52:22.094Z"
   },
   {
    "duration": 33,
    "start_time": "2021-12-17T21:52:22.133Z"
   },
   {
    "duration": 50,
    "start_time": "2021-12-17T21:52:22.169Z"
   },
   {
    "duration": 54,
    "start_time": "2021-12-17T21:52:22.221Z"
   },
   {
    "duration": 17,
    "start_time": "2021-12-17T21:52:22.277Z"
   },
   {
    "duration": 15,
    "start_time": "2021-12-17T21:52:22.297Z"
   },
   {
    "duration": 976,
    "start_time": "2021-12-17T21:52:22.315Z"
   },
   {
    "duration": 6,
    "start_time": "2021-12-17T21:52:23.294Z"
   },
   {
    "duration": 9,
    "start_time": "2021-12-17T21:52:23.303Z"
   },
   {
    "duration": 8,
    "start_time": "2021-12-17T21:52:23.314Z"
   },
   {
    "duration": 42,
    "start_time": "2021-12-17T21:52:23.325Z"
   },
   {
    "duration": 8,
    "start_time": "2021-12-17T21:52:23.370Z"
   },
   {
    "duration": 43,
    "start_time": "2021-12-17T21:52:23.380Z"
   },
   {
    "duration": 39,
    "start_time": "2021-12-17T21:52:23.426Z"
   },
   {
    "duration": 6,
    "start_time": "2021-12-17T21:52:23.467Z"
   },
   {
    "duration": 6,
    "start_time": "2021-12-17T21:52:23.475Z"
   },
   {
    "duration": 1009,
    "start_time": "2021-12-17T21:52:23.483Z"
   },
   {
    "duration": 9,
    "start_time": "2021-12-17T21:52:24.494Z"
   },
   {
    "duration": 6,
    "start_time": "2021-12-17T21:52:24.506Z"
   },
   {
    "duration": 6,
    "start_time": "2021-12-17T21:52:24.515Z"
   },
   {
    "duration": 55,
    "start_time": "2021-12-17T21:52:24.524Z"
   },
   {
    "duration": 4,
    "start_time": "2021-12-17T21:52:24.582Z"
   },
   {
    "duration": 44,
    "start_time": "2021-12-17T21:52:24.589Z"
   },
   {
    "duration": 28,
    "start_time": "2021-12-17T21:52:24.636Z"
   },
   {
    "duration": 24,
    "start_time": "2021-12-17T21:52:24.666Z"
   },
   {
    "duration": 4,
    "start_time": "2021-12-17T21:52:24.692Z"
   },
   {
    "duration": 4,
    "start_time": "2021-12-17T21:52:24.699Z"
   },
   {
    "duration": 75,
    "start_time": "2021-12-17T21:52:24.706Z"
   },
   {
    "duration": 17,
    "start_time": "2021-12-17T21:52:24.784Z"
   },
   {
    "duration": 60,
    "start_time": "2021-12-17T21:52:24.804Z"
   },
   {
    "duration": 18,
    "start_time": "2021-12-17T21:52:24.866Z"
   },
   {
    "duration": 32,
    "start_time": "2021-12-17T21:52:24.886Z"
   },
   {
    "duration": 601,
    "start_time": "2021-12-18T07:34:16.247Z"
   },
   {
    "duration": 50,
    "start_time": "2021-12-18T07:34:16.850Z"
   },
   {
    "duration": 19,
    "start_time": "2021-12-18T07:34:16.902Z"
   },
   {
    "duration": 3,
    "start_time": "2021-12-18T07:34:16.923Z"
   },
   {
    "duration": 24,
    "start_time": "2021-12-18T07:34:16.927Z"
   },
   {
    "duration": 36,
    "start_time": "2021-12-18T07:34:16.953Z"
   },
   {
    "duration": 270,
    "start_time": "2021-12-18T07:40:18.946Z"
   },
   {
    "duration": 31,
    "start_time": "2021-12-18T07:40:29.978Z"
   },
   {
    "duration": 22,
    "start_time": "2021-12-18T07:40:44.335Z"
   },
   {
    "duration": 234,
    "start_time": "2021-12-18T07:41:05.356Z"
   },
   {
    "duration": 8,
    "start_time": "2021-12-18T07:41:14.758Z"
   },
   {
    "duration": 15,
    "start_time": "2021-12-18T07:43:06.089Z"
   },
   {
    "duration": 8,
    "start_time": "2021-12-18T07:49:05.001Z"
   },
   {
    "duration": 221,
    "start_time": "2021-12-18T07:50:46.141Z"
   },
   {
    "duration": 209,
    "start_time": "2021-12-18T07:54:38.962Z"
   },
   {
    "duration": 3,
    "start_time": "2021-12-18T09:59:29.305Z"
   },
   {
    "duration": 54,
    "start_time": "2021-12-18T09:59:29.310Z"
   },
   {
    "duration": 13,
    "start_time": "2021-12-18T09:59:29.366Z"
   },
   {
    "duration": 11,
    "start_time": "2021-12-18T09:59:29.382Z"
   },
   {
    "duration": 16,
    "start_time": "2021-12-18T09:59:29.395Z"
   },
   {
    "duration": 55,
    "start_time": "2021-12-18T09:59:29.413Z"
   },
   {
    "duration": 11,
    "start_time": "2021-12-18T09:59:29.471Z"
   },
   {
    "duration": 5,
    "start_time": "2021-12-18T09:59:29.485Z"
   },
   {
    "duration": 14,
    "start_time": "2021-12-18T09:59:29.493Z"
   },
   {
    "duration": 4,
    "start_time": "2021-12-18T09:59:29.509Z"
   },
   {
    "duration": 64,
    "start_time": "2021-12-18T09:59:29.514Z"
   },
   {
    "duration": 24,
    "start_time": "2021-12-18T09:59:29.580Z"
   },
   {
    "duration": 23,
    "start_time": "2021-12-18T09:59:29.606Z"
   },
   {
    "duration": 52,
    "start_time": "2021-12-18T09:59:29.632Z"
   },
   {
    "duration": 22,
    "start_time": "2021-12-18T09:59:29.686Z"
   },
   {
    "duration": 63,
    "start_time": "2021-12-18T09:59:29.710Z"
   },
   {
    "duration": 19,
    "start_time": "2021-12-18T09:59:29.775Z"
   },
   {
    "duration": 92,
    "start_time": "2021-12-18T09:59:29.796Z"
   },
   {
    "duration": 31,
    "start_time": "2021-12-18T09:59:29.891Z"
   },
   {
    "duration": 10,
    "start_time": "2021-12-18T09:59:29.924Z"
   },
   {
    "duration": 34,
    "start_time": "2021-12-18T09:59:29.937Z"
   },
   {
    "duration": 30,
    "start_time": "2021-12-18T09:59:29.973Z"
   },
   {
    "duration": 13,
    "start_time": "2021-12-18T09:59:30.009Z"
   },
   {
    "duration": 53,
    "start_time": "2021-12-18T09:59:30.026Z"
   },
   {
    "duration": 4,
    "start_time": "2021-12-18T09:59:30.081Z"
   },
   {
    "duration": 26,
    "start_time": "2021-12-18T09:59:30.087Z"
   },
   {
    "duration": 55,
    "start_time": "2021-12-18T09:59:30.116Z"
   },
   {
    "duration": 13,
    "start_time": "2021-12-18T09:59:30.173Z"
   },
   {
    "duration": 14,
    "start_time": "2021-12-18T09:59:30.188Z"
   },
   {
    "duration": 41,
    "start_time": "2021-12-18T09:59:30.204Z"
   },
   {
    "duration": 26,
    "start_time": "2021-12-18T09:59:30.247Z"
   },
   {
    "duration": 10,
    "start_time": "2021-12-18T09:59:30.275Z"
   },
   {
    "duration": 17,
    "start_time": "2021-12-18T09:59:30.287Z"
   },
   {
    "duration": 19,
    "start_time": "2021-12-18T09:59:30.306Z"
   },
   {
    "duration": 8,
    "start_time": "2021-12-18T09:59:30.328Z"
   },
   {
    "duration": 45,
    "start_time": "2021-12-18T09:59:30.338Z"
   },
   {
    "duration": 17,
    "start_time": "2021-12-18T09:59:30.385Z"
   },
   {
    "duration": 8,
    "start_time": "2021-12-18T09:59:30.404Z"
   },
   {
    "duration": 21,
    "start_time": "2021-12-18T09:59:30.414Z"
   },
   {
    "duration": 22,
    "start_time": "2021-12-18T09:59:30.437Z"
   },
   {
    "duration": 23,
    "start_time": "2021-12-18T09:59:30.463Z"
   },
   {
    "duration": 65,
    "start_time": "2021-12-18T09:59:30.488Z"
   },
   {
    "duration": 12,
    "start_time": "2021-12-18T09:59:30.556Z"
   },
   {
    "duration": 29,
    "start_time": "2021-12-18T09:59:30.570Z"
   },
   {
    "duration": 12,
    "start_time": "2021-12-18T09:59:30.602Z"
   },
   {
    "duration": 38,
    "start_time": "2021-12-18T09:59:30.617Z"
   },
   {
    "duration": 8,
    "start_time": "2021-12-18T09:59:30.657Z"
   },
   {
    "duration": 42,
    "start_time": "2021-12-18T09:59:30.667Z"
   },
   {
    "duration": 5,
    "start_time": "2021-12-18T09:59:30.711Z"
   },
   {
    "duration": 23,
    "start_time": "2021-12-18T09:59:30.718Z"
   },
   {
    "duration": 36,
    "start_time": "2021-12-18T09:59:30.764Z"
   },
   {
    "duration": 22,
    "start_time": "2021-12-18T09:59:30.803Z"
   },
   {
    "duration": 47,
    "start_time": "2021-12-18T09:59:30.827Z"
   },
   {
    "duration": 32,
    "start_time": "2021-12-18T09:59:30.876Z"
   },
   {
    "duration": 28,
    "start_time": "2021-12-18T09:59:30.910Z"
   },
   {
    "duration": 99,
    "start_time": "2021-12-18T09:59:30.964Z"
   },
   {
    "duration": 5,
    "start_time": "2021-12-18T09:59:31.065Z"
   },
   {
    "duration": 112,
    "start_time": "2021-12-18T09:59:31.072Z"
   },
   {
    "duration": 105,
    "start_time": "2021-12-18T09:59:31.186Z"
   },
   {
    "duration": 13,
    "start_time": "2021-12-18T09:59:31.293Z"
   },
   {
    "duration": 35,
    "start_time": "2021-12-18T09:59:31.308Z"
   },
   {
    "duration": 22,
    "start_time": "2021-12-18T09:59:31.346Z"
   },
   {
    "duration": 24,
    "start_time": "2021-12-18T09:59:31.370Z"
   },
   {
    "duration": 32,
    "start_time": "2021-12-18T09:59:31.396Z"
   },
   {
    "duration": 9,
    "start_time": "2021-12-18T09:59:31.430Z"
   },
   {
    "duration": 60,
    "start_time": "2021-12-18T09:59:31.441Z"
   },
   {
    "duration": 4,
    "start_time": "2021-12-18T09:59:31.503Z"
   },
   {
    "duration": 16,
    "start_time": "2021-12-18T09:59:31.512Z"
   },
   {
    "duration": 14,
    "start_time": "2021-12-18T09:59:31.531Z"
   },
   {
    "duration": 688,
    "start_time": "2021-12-18T09:59:31.547Z"
   },
   {
    "duration": 5,
    "start_time": "2021-12-18T09:59:32.237Z"
   },
   {
    "duration": 5,
    "start_time": "2021-12-18T09:59:32.243Z"
   },
   {
    "duration": 17,
    "start_time": "2021-12-18T09:59:32.250Z"
   },
   {
    "duration": 15,
    "start_time": "2021-12-18T09:59:32.269Z"
   },
   {
    "duration": 11,
    "start_time": "2021-12-18T09:59:32.286Z"
   },
   {
    "duration": 35,
    "start_time": "2021-12-18T09:59:32.299Z"
   },
   {
    "duration": 29,
    "start_time": "2021-12-18T09:59:32.336Z"
   },
   {
    "duration": 4,
    "start_time": "2021-12-18T09:59:32.367Z"
   },
   {
    "duration": 5,
    "start_time": "2021-12-18T09:59:32.372Z"
   },
   {
    "duration": 559,
    "start_time": "2021-12-18T09:59:32.379Z"
   },
   {
    "duration": 7,
    "start_time": "2021-12-18T09:59:32.940Z"
   },
   {
    "duration": 18,
    "start_time": "2021-12-18T09:59:32.949Z"
   },
   {
    "duration": 4,
    "start_time": "2021-12-18T09:59:32.970Z"
   },
   {
    "duration": 14,
    "start_time": "2021-12-18T09:59:32.976Z"
   },
   {
    "duration": 27,
    "start_time": "2021-12-18T09:59:32.992Z"
   },
   {
    "duration": 14,
    "start_time": "2021-12-18T09:59:33.021Z"
   },
   {
    "duration": 25,
    "start_time": "2021-12-18T09:59:33.064Z"
   },
   {
    "duration": 14,
    "start_time": "2021-12-18T09:59:33.090Z"
   },
   {
    "duration": 35,
    "start_time": "2021-12-18T09:59:33.106Z"
   },
   {
    "duration": 32,
    "start_time": "2021-12-18T09:59:33.143Z"
   },
   {
    "duration": 29,
    "start_time": "2021-12-18T09:59:33.177Z"
   },
   {
    "duration": 3,
    "start_time": "2021-12-18T10:38:04.536Z"
   },
   {
    "duration": 52,
    "start_time": "2021-12-18T10:38:04.541Z"
   },
   {
    "duration": 13,
    "start_time": "2021-12-18T10:38:04.596Z"
   },
   {
    "duration": 5,
    "start_time": "2021-12-18T10:38:04.612Z"
   },
   {
    "duration": 15,
    "start_time": "2021-12-18T10:38:04.619Z"
   },
   {
    "duration": 34,
    "start_time": "2021-12-18T10:38:04.664Z"
   },
   {
    "duration": 10,
    "start_time": "2021-12-18T10:38:04.700Z"
   },
   {
    "duration": 5,
    "start_time": "2021-12-18T10:38:04.711Z"
   },
   {
    "duration": 50,
    "start_time": "2021-12-18T10:38:04.719Z"
   },
   {
    "duration": 4,
    "start_time": "2021-12-18T10:38:04.771Z"
   },
   {
    "duration": 37,
    "start_time": "2021-12-18T10:38:04.777Z"
   },
   {
    "duration": 52,
    "start_time": "2021-12-18T10:38:04.816Z"
   },
   {
    "duration": 23,
    "start_time": "2021-12-18T10:38:04.869Z"
   },
   {
    "duration": 25,
    "start_time": "2021-12-18T10:38:04.894Z"
   },
   {
    "duration": 64,
    "start_time": "2021-12-18T10:38:04.921Z"
   },
   {
    "duration": 23,
    "start_time": "2021-12-18T10:38:04.987Z"
   },
   {
    "duration": 51,
    "start_time": "2021-12-18T10:38:05.012Z"
   },
   {
    "duration": 41,
    "start_time": "2021-12-18T10:38:05.065Z"
   },
   {
    "duration": 20,
    "start_time": "2021-12-18T10:38:05.108Z"
   },
   {
    "duration": 38,
    "start_time": "2021-12-18T10:38:05.130Z"
   },
   {
    "duration": 9,
    "start_time": "2021-12-18T10:38:05.170Z"
   },
   {
    "duration": 26,
    "start_time": "2021-12-18T10:38:05.181Z"
   },
   {
    "duration": 10,
    "start_time": "2021-12-18T10:38:05.209Z"
   },
   {
    "duration": 54,
    "start_time": "2021-12-18T10:38:05.221Z"
   },
   {
    "duration": 3,
    "start_time": "2021-12-18T10:38:05.277Z"
   },
   {
    "duration": 20,
    "start_time": "2021-12-18T10:38:05.283Z"
   },
   {
    "duration": 70,
    "start_time": "2021-12-18T10:38:05.310Z"
   },
   {
    "duration": 14,
    "start_time": "2021-12-18T10:38:05.384Z"
   },
   {
    "duration": 7,
    "start_time": "2021-12-18T10:38:05.400Z"
   },
   {
    "duration": 18,
    "start_time": "2021-12-18T10:38:05.409Z"
   },
   {
    "duration": 35,
    "start_time": "2021-12-18T10:38:05.429Z"
   },
   {
    "duration": 7,
    "start_time": "2021-12-18T10:38:05.466Z"
   },
   {
    "duration": 10,
    "start_time": "2021-12-18T10:38:05.474Z"
   },
   {
    "duration": 8,
    "start_time": "2021-12-18T10:38:05.486Z"
   },
   {
    "duration": 6,
    "start_time": "2021-12-18T10:38:05.495Z"
   },
   {
    "duration": 60,
    "start_time": "2021-12-18T10:38:05.503Z"
   },
   {
    "duration": 15,
    "start_time": "2021-12-18T10:38:05.565Z"
   },
   {
    "duration": 12,
    "start_time": "2021-12-18T10:38:05.582Z"
   },
   {
    "duration": 6,
    "start_time": "2021-12-18T10:38:05.595Z"
   },
   {
    "duration": 12,
    "start_time": "2021-12-18T10:38:05.603Z"
   },
   {
    "duration": 14,
    "start_time": "2021-12-18T10:38:05.617Z"
   },
   {
    "duration": 74,
    "start_time": "2021-12-18T10:38:05.632Z"
   },
   {
    "duration": 8,
    "start_time": "2021-12-18T10:38:05.708Z"
   },
   {
    "duration": 14,
    "start_time": "2021-12-18T10:38:05.718Z"
   },
   {
    "duration": 7,
    "start_time": "2021-12-18T10:38:05.735Z"
   },
   {
    "duration": 31,
    "start_time": "2021-12-18T10:38:05.764Z"
   },
   {
    "duration": 7,
    "start_time": "2021-12-18T10:38:05.798Z"
   },
   {
    "duration": 62,
    "start_time": "2021-12-18T10:38:05.807Z"
   },
   {
    "duration": 6,
    "start_time": "2021-12-18T10:38:05.872Z"
   },
   {
    "duration": 18,
    "start_time": "2021-12-18T10:38:05.880Z"
   },
   {
    "duration": 66,
    "start_time": "2021-12-18T10:38:05.901Z"
   },
   {
    "duration": 25,
    "start_time": "2021-12-18T10:38:05.970Z"
   },
   {
    "duration": 32,
    "start_time": "2021-12-18T10:38:05.997Z"
   },
   {
    "duration": 65,
    "start_time": "2021-12-18T10:38:06.031Z"
   },
   {
    "duration": 23,
    "start_time": "2021-12-18T10:38:06.099Z"
   },
   {
    "duration": 103,
    "start_time": "2021-12-18T10:38:06.123Z"
   },
   {
    "duration": 7,
    "start_time": "2021-12-18T10:38:06.228Z"
   },
   {
    "duration": 98,
    "start_time": "2021-12-18T10:38:06.237Z"
   },
   {
    "duration": 89,
    "start_time": "2021-12-18T10:38:06.337Z"
   },
   {
    "duration": 10,
    "start_time": "2021-12-18T10:38:06.427Z"
   },
   {
    "duration": 46,
    "start_time": "2021-12-18T10:38:06.439Z"
   },
   {
    "duration": 5,
    "start_time": "2021-12-18T10:38:06.487Z"
   },
   {
    "duration": 20,
    "start_time": "2021-12-18T10:38:06.494Z"
   },
   {
    "duration": 48,
    "start_time": "2021-12-18T10:38:06.516Z"
   },
   {
    "duration": 9,
    "start_time": "2021-12-18T10:38:06.567Z"
   },
   {
    "duration": 70,
    "start_time": "2021-12-18T10:38:06.578Z"
   },
   {
    "duration": 20,
    "start_time": "2021-12-18T10:38:06.650Z"
   },
   {
    "duration": 20,
    "start_time": "2021-12-18T10:38:06.672Z"
   },
   {
    "duration": 948,
    "start_time": "2021-12-18T10:38:06.694Z"
   },
   {
    "duration": 4,
    "start_time": "2021-12-18T10:38:07.645Z"
   },
   {
    "duration": 13,
    "start_time": "2021-12-18T10:38:07.651Z"
   },
   {
    "duration": 5,
    "start_time": "2021-12-18T10:38:07.667Z"
   },
   {
    "duration": 17,
    "start_time": "2021-12-18T10:38:07.674Z"
   },
   {
    "duration": 25,
    "start_time": "2021-12-18T10:38:07.693Z"
   },
   {
    "duration": 47,
    "start_time": "2021-12-18T10:38:07.721Z"
   },
   {
    "duration": 10,
    "start_time": "2021-12-18T10:38:07.770Z"
   },
   {
    "duration": 3,
    "start_time": "2021-12-18T10:38:07.783Z"
   },
   {
    "duration": 8,
    "start_time": "2021-12-18T10:38:07.788Z"
   },
   {
    "duration": 334,
    "start_time": "2021-12-18T10:38:07.797Z"
   },
   {
    "duration": 6,
    "start_time": "2021-12-18T10:38:08.133Z"
   },
   {
    "duration": 18,
    "start_time": "2021-12-18T10:38:08.145Z"
   },
   {
    "duration": 6,
    "start_time": "2021-12-18T10:38:08.166Z"
   },
   {
    "duration": 13,
    "start_time": "2021-12-18T10:38:08.174Z"
   },
   {
    "duration": 27,
    "start_time": "2021-12-18T10:38:08.189Z"
   },
   {
    "duration": 46,
    "start_time": "2021-12-18T10:38:08.218Z"
   },
   {
    "duration": 27,
    "start_time": "2021-12-18T10:38:08.266Z"
   },
   {
    "duration": 17,
    "start_time": "2021-12-18T10:38:08.295Z"
   },
   {
    "duration": 50,
    "start_time": "2021-12-18T10:38:08.313Z"
   },
   {
    "duration": 16,
    "start_time": "2021-12-18T10:38:08.365Z"
   },
   {
    "duration": 47,
    "start_time": "2021-12-18T10:38:08.383Z"
   },
   {
    "duration": 3,
    "start_time": "2021-12-18T11:13:50.017Z"
   },
   {
    "duration": 58,
    "start_time": "2021-12-18T11:13:50.022Z"
   },
   {
    "duration": 12,
    "start_time": "2021-12-18T11:13:50.082Z"
   },
   {
    "duration": 6,
    "start_time": "2021-12-18T11:13:50.095Z"
   },
   {
    "duration": 13,
    "start_time": "2021-12-18T11:13:50.103Z"
   },
   {
    "duration": 72,
    "start_time": "2021-12-18T11:13:50.118Z"
   },
   {
    "duration": 10,
    "start_time": "2021-12-18T11:13:50.192Z"
   },
   {
    "duration": 4,
    "start_time": "2021-12-18T11:13:50.204Z"
   },
   {
    "duration": 18,
    "start_time": "2021-12-18T11:13:50.211Z"
   },
   {
    "duration": 3,
    "start_time": "2021-12-18T11:13:50.231Z"
   },
   {
    "duration": 27,
    "start_time": "2021-12-18T11:13:50.263Z"
   },
   {
    "duration": 21,
    "start_time": "2021-12-18T11:13:50.291Z"
   },
   {
    "duration": 19,
    "start_time": "2021-12-18T11:13:50.313Z"
   },
   {
    "duration": 44,
    "start_time": "2021-12-18T11:13:50.334Z"
   },
   {
    "duration": 20,
    "start_time": "2021-12-18T11:13:50.380Z"
   },
   {
    "duration": 19,
    "start_time": "2021-12-18T11:13:50.402Z"
   },
   {
    "duration": 47,
    "start_time": "2021-12-18T11:13:50.422Z"
   },
   {
    "duration": 40,
    "start_time": "2021-12-18T11:13:50.470Z"
   },
   {
    "duration": 20,
    "start_time": "2021-12-18T11:13:50.512Z"
   },
   {
    "duration": 33,
    "start_time": "2021-12-18T11:13:50.534Z"
   },
   {
    "duration": 8,
    "start_time": "2021-12-18T11:13:50.569Z"
   },
   {
    "duration": 40,
    "start_time": "2021-12-18T11:13:50.579Z"
   },
   {
    "duration": 12,
    "start_time": "2021-12-18T11:13:50.621Z"
   },
   {
    "duration": 45,
    "start_time": "2021-12-18T11:13:50.635Z"
   },
   {
    "duration": 3,
    "start_time": "2021-12-18T11:13:50.682Z"
   },
   {
    "duration": 18,
    "start_time": "2021-12-18T11:13:50.688Z"
   },
   {
    "duration": 23,
    "start_time": "2021-12-18T11:13:50.711Z"
   },
   {
    "duration": 34,
    "start_time": "2021-12-18T11:13:50.737Z"
   },
   {
    "duration": 7,
    "start_time": "2021-12-18T11:13:50.772Z"
   },
   {
    "duration": 20,
    "start_time": "2021-12-18T11:13:50.781Z"
   },
   {
    "duration": 12,
    "start_time": "2021-12-18T11:13:50.802Z"
   },
   {
    "duration": 8,
    "start_time": "2021-12-18T11:13:50.815Z"
   },
   {
    "duration": 42,
    "start_time": "2021-12-18T11:13:50.825Z"
   },
   {
    "duration": 7,
    "start_time": "2021-12-18T11:13:50.869Z"
   },
   {
    "duration": 5,
    "start_time": "2021-12-18T11:13:50.878Z"
   },
   {
    "duration": 14,
    "start_time": "2021-12-18T11:13:50.885Z"
   },
   {
    "duration": 19,
    "start_time": "2021-12-18T11:13:50.901Z"
   },
   {
    "duration": 11,
    "start_time": "2021-12-18T11:13:50.921Z"
   },
   {
    "duration": 7,
    "start_time": "2021-12-18T11:13:50.934Z"
   },
   {
    "duration": 5,
    "start_time": "2021-12-18T11:13:50.964Z"
   },
   {
    "duration": 12,
    "start_time": "2021-12-18T11:13:50.970Z"
   },
   {
    "duration": 49,
    "start_time": "2021-12-18T11:13:50.984Z"
   },
   {
    "duration": 6,
    "start_time": "2021-12-18T11:13:51.035Z"
   },
   {
    "duration": 6,
    "start_time": "2021-12-18T11:13:51.064Z"
   },
   {
    "duration": 9,
    "start_time": "2021-12-18T11:13:51.072Z"
   },
   {
    "duration": 31,
    "start_time": "2021-12-18T11:13:51.083Z"
   },
   {
    "duration": 6,
    "start_time": "2021-12-18T11:13:51.116Z"
   },
   {
    "duration": 58,
    "start_time": "2021-12-18T11:13:51.124Z"
   },
   {
    "duration": 5,
    "start_time": "2021-12-18T11:13:51.184Z"
   },
   {
    "duration": 19,
    "start_time": "2021-12-18T11:13:51.191Z"
   },
   {
    "duration": 56,
    "start_time": "2021-12-18T11:13:51.212Z"
   },
   {
    "duration": 17,
    "start_time": "2021-12-18T11:13:51.269Z"
   },
   {
    "duration": 23,
    "start_time": "2021-12-18T11:13:51.289Z"
   },
   {
    "duration": 24,
    "start_time": "2021-12-18T11:13:51.314Z"
   },
   {
    "duration": 22,
    "start_time": "2021-12-18T11:13:51.364Z"
   },
   {
    "duration": 100,
    "start_time": "2021-12-18T11:13:51.388Z"
   },
   {
    "duration": 9,
    "start_time": "2021-12-18T11:13:51.490Z"
   },
   {
    "duration": 98,
    "start_time": "2021-12-18T11:13:51.501Z"
   },
   {
    "duration": 86,
    "start_time": "2021-12-18T11:13:51.603Z"
   },
   {
    "duration": 11,
    "start_time": "2021-12-18T11:13:51.691Z"
   },
   {
    "duration": 32,
    "start_time": "2021-12-18T11:13:51.704Z"
   },
   {
    "duration": 26,
    "start_time": "2021-12-18T11:13:51.738Z"
   },
   {
    "duration": 18,
    "start_time": "2021-12-18T11:13:51.767Z"
   },
   {
    "duration": 24,
    "start_time": "2021-12-18T11:13:51.788Z"
   },
   {
    "duration": 6,
    "start_time": "2021-12-18T11:13:51.814Z"
   },
   {
    "duration": 67,
    "start_time": "2021-12-18T11:13:51.822Z"
   },
   {
    "duration": 26,
    "start_time": "2021-12-18T11:13:51.891Z"
   },
   {
    "duration": 11,
    "start_time": "2021-12-18T11:13:51.919Z"
   },
   {
    "duration": 918,
    "start_time": "2021-12-18T11:13:51.932Z"
   },
   {
    "duration": 12,
    "start_time": "2021-12-18T11:13:52.852Z"
   },
   {
    "duration": 5,
    "start_time": "2021-12-18T11:13:52.865Z"
   },
   {
    "duration": 9,
    "start_time": "2021-12-18T11:13:52.871Z"
   },
   {
    "duration": 22,
    "start_time": "2021-12-18T11:13:52.881Z"
   },
   {
    "duration": 6,
    "start_time": "2021-12-18T11:13:52.905Z"
   },
   {
    "duration": 33,
    "start_time": "2021-12-18T11:13:52.914Z"
   },
   {
    "duration": 21,
    "start_time": "2021-12-18T11:13:52.949Z"
   },
   {
    "duration": 3,
    "start_time": "2021-12-18T11:13:52.972Z"
   },
   {
    "duration": 4,
    "start_time": "2021-12-18T11:13:52.977Z"
   },
   {
    "duration": 359,
    "start_time": "2021-12-18T11:13:52.983Z"
   },
   {
    "duration": 5,
    "start_time": "2021-12-18T11:13:53.344Z"
   },
   {
    "duration": 3,
    "start_time": "2021-12-18T11:13:53.363Z"
   },
   {
    "duration": 5,
    "start_time": "2021-12-18T11:13:53.368Z"
   },
   {
    "duration": 19,
    "start_time": "2021-12-18T11:13:53.374Z"
   },
   {
    "duration": 37,
    "start_time": "2021-12-18T11:13:53.395Z"
   },
   {
    "duration": 36,
    "start_time": "2021-12-18T11:13:53.435Z"
   },
   {
    "duration": 33,
    "start_time": "2021-12-18T11:13:53.473Z"
   },
   {
    "duration": 15,
    "start_time": "2021-12-18T11:13:53.508Z"
   },
   {
    "duration": 70,
    "start_time": "2021-12-18T11:13:53.525Z"
   },
   {
    "duration": 20,
    "start_time": "2021-12-18T11:13:53.597Z"
   },
   {
    "duration": 34,
    "start_time": "2021-12-18T11:13:53.619Z"
   },
   {
    "duration": 3,
    "start_time": "2021-12-18T11:57:54.979Z"
   },
   {
    "duration": 56,
    "start_time": "2021-12-18T11:57:54.984Z"
   },
   {
    "duration": 13,
    "start_time": "2021-12-18T11:57:55.042Z"
   },
   {
    "duration": 8,
    "start_time": "2021-12-18T11:57:55.058Z"
   },
   {
    "duration": 16,
    "start_time": "2021-12-18T11:57:55.068Z"
   },
   {
    "duration": 31,
    "start_time": "2021-12-18T11:57:55.085Z"
   },
   {
    "duration": 47,
    "start_time": "2021-12-18T11:57:55.118Z"
   },
   {
    "duration": 4,
    "start_time": "2021-12-18T11:57:55.166Z"
   },
   {
    "duration": 18,
    "start_time": "2021-12-18T11:57:55.172Z"
   },
   {
    "duration": 4,
    "start_time": "2021-12-18T11:57:55.192Z"
   },
   {
    "duration": 25,
    "start_time": "2021-12-18T11:57:55.197Z"
   },
   {
    "duration": 46,
    "start_time": "2021-12-18T11:57:55.224Z"
   },
   {
    "duration": 21,
    "start_time": "2021-12-18T11:57:55.272Z"
   },
   {
    "duration": 19,
    "start_time": "2021-12-18T11:57:55.295Z"
   },
   {
    "duration": 51,
    "start_time": "2021-12-18T11:57:55.316Z"
   },
   {
    "duration": 19,
    "start_time": "2021-12-18T11:57:55.369Z"
   },
   {
    "duration": 21,
    "start_time": "2021-12-18T11:57:55.390Z"
   },
   {
    "duration": 67,
    "start_time": "2021-12-18T11:57:55.413Z"
   },
   {
    "duration": 19,
    "start_time": "2021-12-18T11:57:55.481Z"
   },
   {
    "duration": 9,
    "start_time": "2021-12-18T11:57:55.502Z"
   },
   {
    "duration": 24,
    "start_time": "2021-12-18T11:57:55.513Z"
   },
   {
    "duration": 45,
    "start_time": "2021-12-18T11:57:55.539Z"
   },
   {
    "duration": 8,
    "start_time": "2021-12-18T11:57:55.586Z"
   },
   {
    "duration": 24,
    "start_time": "2021-12-18T11:57:55.596Z"
   },
   {
    "duration": 13,
    "start_time": "2021-12-18T11:57:55.622Z"
   },
   {
    "duration": 43,
    "start_time": "2021-12-18T11:57:55.637Z"
   },
   {
    "duration": 27,
    "start_time": "2021-12-18T11:57:55.684Z"
   },
   {
    "duration": 8,
    "start_time": "2021-12-18T11:57:55.714Z"
   },
   {
    "duration": 11,
    "start_time": "2021-12-18T11:57:55.724Z"
   },
   {
    "duration": 39,
    "start_time": "2021-12-18T11:57:55.737Z"
   },
   {
    "duration": 29,
    "start_time": "2021-12-18T11:57:55.778Z"
   },
   {
    "duration": 36,
    "start_time": "2021-12-18T11:57:55.808Z"
   },
   {
    "duration": 22,
    "start_time": "2021-12-18T11:57:55.845Z"
   },
   {
    "duration": 36,
    "start_time": "2021-12-18T11:57:55.869Z"
   },
   {
    "duration": 12,
    "start_time": "2021-12-18T11:57:55.907Z"
   },
   {
    "duration": 38,
    "start_time": "2021-12-18T11:57:55.921Z"
   },
   {
    "duration": 45,
    "start_time": "2021-12-18T11:57:55.960Z"
   },
   {
    "duration": 17,
    "start_time": "2021-12-18T11:57:56.007Z"
   },
   {
    "duration": 32,
    "start_time": "2021-12-18T11:57:56.026Z"
   },
   {
    "duration": 18,
    "start_time": "2021-12-18T11:57:56.059Z"
   },
   {
    "duration": 46,
    "start_time": "2021-12-18T11:57:56.079Z"
   },
   {
    "duration": 75,
    "start_time": "2021-12-18T11:57:56.127Z"
   },
   {
    "duration": 5,
    "start_time": "2021-12-18T11:57:56.204Z"
   },
   {
    "duration": 29,
    "start_time": "2021-12-18T11:57:56.211Z"
   },
   {
    "duration": 14,
    "start_time": "2021-12-18T11:57:56.242Z"
   },
   {
    "duration": 48,
    "start_time": "2021-12-18T11:57:56.258Z"
   },
   {
    "duration": 30,
    "start_time": "2021-12-18T11:57:56.308Z"
   },
   {
    "duration": 37,
    "start_time": "2021-12-18T11:57:56.340Z"
   },
   {
    "duration": 6,
    "start_time": "2021-12-18T11:57:56.380Z"
   },
   {
    "duration": 40,
    "start_time": "2021-12-18T11:57:56.388Z"
   },
   {
    "duration": 46,
    "start_time": "2021-12-18T11:57:56.430Z"
   },
   {
    "duration": 21,
    "start_time": "2021-12-18T11:57:56.477Z"
   },
   {
    "duration": 22,
    "start_time": "2021-12-18T11:57:56.500Z"
   },
   {
    "duration": 37,
    "start_time": "2021-12-18T11:57:56.524Z"
   },
   {
    "duration": 22,
    "start_time": "2021-12-18T11:57:56.562Z"
   },
   {
    "duration": 86,
    "start_time": "2021-12-18T11:57:56.586Z"
   },
   {
    "duration": 44,
    "start_time": "2021-12-18T11:57:56.674Z"
   },
   {
    "duration": 98,
    "start_time": "2021-12-18T11:57:56.720Z"
   },
   {
    "duration": 87,
    "start_time": "2021-12-18T11:57:56.820Z"
   },
   {
    "duration": 11,
    "start_time": "2021-12-18T11:57:56.908Z"
   },
   {
    "duration": 44,
    "start_time": "2021-12-18T11:57:56.921Z"
   },
   {
    "duration": 5,
    "start_time": "2021-12-18T11:57:56.968Z"
   },
   {
    "duration": 35,
    "start_time": "2021-12-18T11:57:56.975Z"
   },
   {
    "duration": 30,
    "start_time": "2021-12-18T11:57:57.012Z"
   },
   {
    "duration": 8,
    "start_time": "2021-12-18T11:57:57.044Z"
   },
   {
    "duration": 63,
    "start_time": "2021-12-18T11:57:57.054Z"
   },
   {
    "duration": 26,
    "start_time": "2021-12-18T11:57:57.119Z"
   },
   {
    "duration": 17,
    "start_time": "2021-12-18T11:57:57.147Z"
   },
   {
    "duration": 664,
    "start_time": "2021-12-18T11:57:57.166Z"
   },
   {
    "duration": 6,
    "start_time": "2021-12-18T11:57:57.832Z"
   },
   {
    "duration": 26,
    "start_time": "2021-12-18T11:57:57.840Z"
   },
   {
    "duration": 16,
    "start_time": "2021-12-18T11:57:57.868Z"
   },
   {
    "duration": 35,
    "start_time": "2021-12-18T11:57:57.886Z"
   },
   {
    "duration": 30,
    "start_time": "2021-12-18T11:57:57.923Z"
   },
   {
    "duration": 38,
    "start_time": "2021-12-18T11:57:57.955Z"
   },
   {
    "duration": 7,
    "start_time": "2021-12-18T11:57:57.995Z"
   },
   {
    "duration": 16,
    "start_time": "2021-12-18T11:57:58.004Z"
   },
   {
    "duration": 30,
    "start_time": "2021-12-18T11:57:58.022Z"
   },
   {
    "duration": 335,
    "start_time": "2021-12-18T11:57:58.054Z"
   },
   {
    "duration": 6,
    "start_time": "2021-12-18T11:57:58.391Z"
   },
   {
    "duration": 22,
    "start_time": "2021-12-18T11:57:58.403Z"
   },
   {
    "duration": 33,
    "start_time": "2021-12-18T11:57:58.427Z"
   },
   {
    "duration": 37,
    "start_time": "2021-12-18T11:57:58.461Z"
   },
   {
    "duration": 33,
    "start_time": "2021-12-18T11:57:58.500Z"
   },
   {
    "duration": 14,
    "start_time": "2021-12-18T11:57:58.535Z"
   },
   {
    "duration": 46,
    "start_time": "2021-12-18T11:57:58.550Z"
   },
   {
    "duration": 12,
    "start_time": "2021-12-18T11:57:58.598Z"
   },
   {
    "duration": 55,
    "start_time": "2021-12-18T11:57:58.612Z"
   },
   {
    "duration": 19,
    "start_time": "2021-12-18T11:57:58.669Z"
   },
   {
    "duration": 38,
    "start_time": "2021-12-18T11:57:58.690Z"
   },
   {
    "duration": 3,
    "start_time": "2021-12-18T11:58:39.377Z"
   },
   {
    "duration": 57,
    "start_time": "2021-12-18T11:58:39.382Z"
   },
   {
    "duration": 15,
    "start_time": "2021-12-18T11:58:39.441Z"
   },
   {
    "duration": 4,
    "start_time": "2021-12-18T11:58:39.462Z"
   },
   {
    "duration": 12,
    "start_time": "2021-12-18T11:58:39.468Z"
   },
   {
    "duration": 31,
    "start_time": "2021-12-18T11:58:39.482Z"
   },
   {
    "duration": 49,
    "start_time": "2021-12-18T11:58:39.515Z"
   },
   {
    "duration": 4,
    "start_time": "2021-12-18T11:58:39.566Z"
   },
   {
    "duration": 16,
    "start_time": "2021-12-18T11:58:39.573Z"
   },
   {
    "duration": 3,
    "start_time": "2021-12-18T11:58:39.591Z"
   },
   {
    "duration": 25,
    "start_time": "2021-12-18T11:58:39.596Z"
   },
   {
    "duration": 62,
    "start_time": "2021-12-18T11:58:39.623Z"
   },
   {
    "duration": 22,
    "start_time": "2021-12-18T11:58:39.687Z"
   },
   {
    "duration": 59,
    "start_time": "2021-12-18T11:58:39.711Z"
   },
   {
    "duration": 33,
    "start_time": "2021-12-18T11:58:39.772Z"
   },
   {
    "duration": 30,
    "start_time": "2021-12-18T11:58:39.807Z"
   },
   {
    "duration": 39,
    "start_time": "2021-12-18T11:58:39.839Z"
   },
   {
    "duration": 52,
    "start_time": "2021-12-18T11:58:39.881Z"
   },
   {
    "duration": 44,
    "start_time": "2021-12-18T11:58:39.936Z"
   },
   {
    "duration": 7,
    "start_time": "2021-12-18T11:58:39.982Z"
   },
   {
    "duration": 9,
    "start_time": "2021-12-18T11:58:39.991Z"
   },
   {
    "duration": 32,
    "start_time": "2021-12-18T11:58:40.001Z"
   },
   {
    "duration": 11,
    "start_time": "2021-12-18T11:58:40.064Z"
   },
   {
    "duration": 12,
    "start_time": "2021-12-18T11:58:40.077Z"
   },
   {
    "duration": 4,
    "start_time": "2021-12-18T11:58:40.091Z"
   },
   {
    "duration": 14,
    "start_time": "2021-12-18T11:58:40.098Z"
   },
   {
    "duration": 76,
    "start_time": "2021-12-18T11:58:40.118Z"
   },
   {
    "duration": 12,
    "start_time": "2021-12-18T11:58:40.197Z"
   },
   {
    "duration": 7,
    "start_time": "2021-12-18T11:58:40.211Z"
   },
   {
    "duration": 44,
    "start_time": "2021-12-18T11:58:40.220Z"
   },
   {
    "duration": 10,
    "start_time": "2021-12-18T11:58:40.266Z"
   },
   {
    "duration": 8,
    "start_time": "2021-12-18T11:58:40.278Z"
   },
   {
    "duration": 8,
    "start_time": "2021-12-18T11:58:40.288Z"
   },
   {
    "duration": 8,
    "start_time": "2021-12-18T11:58:40.298Z"
   },
   {
    "duration": 4,
    "start_time": "2021-12-18T11:58:40.308Z"
   },
   {
    "duration": 54,
    "start_time": "2021-12-18T11:58:40.314Z"
   },
   {
    "duration": 14,
    "start_time": "2021-12-18T11:58:40.370Z"
   },
   {
    "duration": 9,
    "start_time": "2021-12-18T11:58:40.385Z"
   },
   {
    "duration": 4,
    "start_time": "2021-12-18T11:58:40.396Z"
   },
   {
    "duration": 5,
    "start_time": "2021-12-18T11:58:40.402Z"
   },
   {
    "duration": 14,
    "start_time": "2021-12-18T11:58:40.409Z"
   },
   {
    "duration": 83,
    "start_time": "2021-12-18T11:58:40.425Z"
   },
   {
    "duration": 5,
    "start_time": "2021-12-18T11:58:40.510Z"
   },
   {
    "duration": 8,
    "start_time": "2021-12-18T11:58:40.517Z"
   },
   {
    "duration": 4,
    "start_time": "2021-12-18T11:58:40.527Z"
   },
   {
    "duration": 43,
    "start_time": "2021-12-18T11:58:40.533Z"
   },
   {
    "duration": 6,
    "start_time": "2021-12-18T11:58:40.578Z"
   },
   {
    "duration": 28,
    "start_time": "2021-12-18T11:58:40.586Z"
   },
   {
    "duration": 5,
    "start_time": "2021-12-18T11:58:40.616Z"
   },
   {
    "duration": 42,
    "start_time": "2021-12-18T11:58:40.623Z"
   },
   {
    "duration": 45,
    "start_time": "2021-12-18T11:58:40.668Z"
   },
   {
    "duration": 23,
    "start_time": "2021-12-18T11:58:40.716Z"
   },
   {
    "duration": 34,
    "start_time": "2021-12-18T11:58:40.763Z"
   },
   {
    "duration": 39,
    "start_time": "2021-12-18T11:58:40.799Z"
   },
   {
    "duration": 44,
    "start_time": "2021-12-18T11:58:40.840Z"
   },
   {
    "duration": 103,
    "start_time": "2021-12-18T11:58:40.886Z"
   },
   {
    "duration": 9,
    "start_time": "2021-12-18T11:58:40.991Z"
   },
   {
    "duration": 99,
    "start_time": "2021-12-18T11:58:41.001Z"
   },
   {
    "duration": 91,
    "start_time": "2021-12-18T11:58:41.102Z"
   },
   {
    "duration": 12,
    "start_time": "2021-12-18T11:58:41.195Z"
   },
   {
    "duration": 28,
    "start_time": "2021-12-18T11:58:41.208Z"
   },
   {
    "duration": 25,
    "start_time": "2021-12-18T11:58:41.238Z"
   },
   {
    "duration": 14,
    "start_time": "2021-12-18T11:58:41.266Z"
   },
   {
    "duration": 18,
    "start_time": "2021-12-18T11:58:41.282Z"
   },
   {
    "duration": 7,
    "start_time": "2021-12-18T11:58:41.302Z"
   },
   {
    "duration": 70,
    "start_time": "2021-12-18T11:58:41.310Z"
   },
   {
    "duration": 24,
    "start_time": "2021-12-18T11:58:41.382Z"
   },
   {
    "duration": 12,
    "start_time": "2021-12-18T11:58:41.408Z"
   },
   {
    "duration": 696,
    "start_time": "2021-12-18T11:58:41.422Z"
   },
   {
    "duration": 5,
    "start_time": "2021-12-18T11:58:42.120Z"
   },
   {
    "duration": 4,
    "start_time": "2021-12-18T11:58:42.127Z"
   },
   {
    "duration": 5,
    "start_time": "2021-12-18T11:58:42.133Z"
   },
   {
    "duration": 33,
    "start_time": "2021-12-18T11:58:42.139Z"
   },
   {
    "duration": 7,
    "start_time": "2021-12-18T11:58:42.173Z"
   },
   {
    "duration": 32,
    "start_time": "2021-12-18T11:58:42.181Z"
   },
   {
    "duration": 9,
    "start_time": "2021-12-18T11:58:42.215Z"
   },
   {
    "duration": 4,
    "start_time": "2021-12-18T11:58:42.226Z"
   },
   {
    "duration": 4,
    "start_time": "2021-12-18T11:58:42.264Z"
   },
   {
    "duration": 342,
    "start_time": "2021-12-18T11:58:42.270Z"
   },
   {
    "duration": 5,
    "start_time": "2021-12-18T11:58:42.614Z"
   },
   {
    "duration": 3,
    "start_time": "2021-12-18T11:58:42.625Z"
   },
   {
    "duration": 5,
    "start_time": "2021-12-18T11:58:42.630Z"
   },
   {
    "duration": 31,
    "start_time": "2021-12-18T11:58:42.637Z"
   },
   {
    "duration": 29,
    "start_time": "2021-12-18T11:58:42.670Z"
   },
   {
    "duration": 14,
    "start_time": "2021-12-18T11:58:42.701Z"
   },
   {
    "duration": 51,
    "start_time": "2021-12-18T11:58:42.717Z"
   },
   {
    "duration": 14,
    "start_time": "2021-12-18T11:58:42.770Z"
   },
   {
    "duration": 28,
    "start_time": "2021-12-18T11:58:42.786Z"
   },
   {
    "duration": 12,
    "start_time": "2021-12-18T11:58:42.816Z"
   },
   {
    "duration": 50,
    "start_time": "2021-12-18T11:58:42.830Z"
   },
   {
    "duration": 3,
    "start_time": "2021-12-18T12:43:03.612Z"
   },
   {
    "duration": 73,
    "start_time": "2021-12-18T12:43:03.618Z"
   },
   {
    "duration": 17,
    "start_time": "2021-12-18T12:43:03.694Z"
   },
   {
    "duration": 5,
    "start_time": "2021-12-18T12:43:03.714Z"
   },
   {
    "duration": 45,
    "start_time": "2021-12-18T12:43:03.721Z"
   },
   {
    "duration": 45,
    "start_time": "2021-12-18T12:43:03.768Z"
   },
   {
    "duration": 13,
    "start_time": "2021-12-18T12:43:03.815Z"
   },
   {
    "duration": 35,
    "start_time": "2021-12-18T12:43:03.830Z"
   },
   {
    "duration": 18,
    "start_time": "2021-12-18T12:43:03.867Z"
   },
   {
    "duration": 4,
    "start_time": "2021-12-18T12:43:03.889Z"
   },
   {
    "duration": 34,
    "start_time": "2021-12-18T12:43:03.896Z"
   },
   {
    "duration": 48,
    "start_time": "2021-12-18T12:43:03.932Z"
   },
   {
    "duration": 20,
    "start_time": "2021-12-18T12:43:03.982Z"
   },
   {
    "duration": 20,
    "start_time": "2021-12-18T12:43:04.004Z"
   },
   {
    "duration": 46,
    "start_time": "2021-12-18T12:43:04.026Z"
   },
   {
    "duration": 18,
    "start_time": "2021-12-18T12:43:04.074Z"
   },
   {
    "duration": 18,
    "start_time": "2021-12-18T12:43:04.094Z"
   },
   {
    "duration": 68,
    "start_time": "2021-12-18T12:43:04.113Z"
   },
   {
    "duration": 21,
    "start_time": "2021-12-18T12:43:04.182Z"
   },
   {
    "duration": 7,
    "start_time": "2021-12-18T12:43:04.205Z"
   },
   {
    "duration": 8,
    "start_time": "2021-12-18T12:43:04.213Z"
   },
   {
    "duration": 55,
    "start_time": "2021-12-18T12:43:04.223Z"
   },
   {
    "duration": 9,
    "start_time": "2021-12-18T12:43:04.279Z"
   },
   {
    "duration": 13,
    "start_time": "2021-12-18T12:43:04.289Z"
   },
   {
    "duration": 3,
    "start_time": "2021-12-18T12:43:04.304Z"
   },
   {
    "duration": 17,
    "start_time": "2021-12-18T12:43:04.308Z"
   },
   {
    "duration": 54,
    "start_time": "2021-12-18T12:43:04.327Z"
   },
   {
    "duration": 8,
    "start_time": "2021-12-18T12:43:04.385Z"
   },
   {
    "duration": 5,
    "start_time": "2021-12-18T12:43:04.396Z"
   },
   {
    "duration": 17,
    "start_time": "2021-12-18T12:43:04.403Z"
   },
   {
    "duration": 9,
    "start_time": "2021-12-18T12:43:04.421Z"
   },
   {
    "duration": 36,
    "start_time": "2021-12-18T12:43:04.432Z"
   },
   {
    "duration": 8,
    "start_time": "2021-12-18T12:43:04.469Z"
   },
   {
    "duration": 10,
    "start_time": "2021-12-18T12:43:04.478Z"
   },
   {
    "duration": 9,
    "start_time": "2021-12-18T12:43:04.490Z"
   },
   {
    "duration": 17,
    "start_time": "2021-12-18T12:43:04.501Z"
   },
   {
    "duration": 16,
    "start_time": "2021-12-18T12:43:04.520Z"
   },
   {
    "duration": 33,
    "start_time": "2021-12-18T12:43:04.538Z"
   },
   {
    "duration": 7,
    "start_time": "2021-12-18T12:43:04.573Z"
   },
   {
    "duration": 8,
    "start_time": "2021-12-18T12:43:04.581Z"
   },
   {
    "duration": 15,
    "start_time": "2021-12-18T12:43:04.591Z"
   },
   {
    "duration": 68,
    "start_time": "2021-12-18T12:43:04.608Z"
   },
   {
    "duration": 6,
    "start_time": "2021-12-18T12:43:04.678Z"
   },
   {
    "duration": 9,
    "start_time": "2021-12-18T12:43:04.686Z"
   },
   {
    "duration": 6,
    "start_time": "2021-12-18T12:43:04.697Z"
   },
   {
    "duration": 19,
    "start_time": "2021-12-18T12:43:04.705Z"
   },
   {
    "duration": 5,
    "start_time": "2021-12-18T12:43:04.726Z"
   },
   {
    "duration": 52,
    "start_time": "2021-12-18T12:43:04.732Z"
   },
   {
    "duration": 4,
    "start_time": "2021-12-18T12:43:04.786Z"
   },
   {
    "duration": 19,
    "start_time": "2021-12-18T12:43:04.792Z"
   },
   {
    "duration": 63,
    "start_time": "2021-12-18T12:43:04.812Z"
   },
   {
    "duration": 16,
    "start_time": "2021-12-18T12:43:04.877Z"
   },
   {
    "duration": 21,
    "start_time": "2021-12-18T12:43:04.894Z"
   },
   {
    "duration": 53,
    "start_time": "2021-12-18T12:43:04.917Z"
   },
   {
    "duration": 23,
    "start_time": "2021-12-18T12:43:04.972Z"
   },
   {
    "duration": 97,
    "start_time": "2021-12-18T12:43:04.997Z"
   },
   {
    "duration": 11,
    "start_time": "2021-12-18T12:43:05.096Z"
   },
   {
    "duration": 96,
    "start_time": "2021-12-18T12:43:05.108Z"
   },
   {
    "duration": 86,
    "start_time": "2021-12-18T12:43:05.205Z"
   },
   {
    "duration": 11,
    "start_time": "2021-12-18T12:43:05.293Z"
   },
   {
    "duration": 28,
    "start_time": "2021-12-18T12:43:05.306Z"
   },
   {
    "duration": 5,
    "start_time": "2021-12-18T12:43:05.336Z"
   },
   {
    "duration": 33,
    "start_time": "2021-12-18T12:43:05.343Z"
   },
   {
    "duration": 20,
    "start_time": "2021-12-18T12:43:05.377Z"
   },
   {
    "duration": 8,
    "start_time": "2021-12-18T12:43:05.399Z"
   },
   {
    "duration": 72,
    "start_time": "2021-12-18T12:43:05.408Z"
   },
   {
    "duration": 24,
    "start_time": "2021-12-18T12:43:05.482Z"
   },
   {
    "duration": 12,
    "start_time": "2021-12-18T12:43:05.508Z"
   },
   {
    "duration": 683,
    "start_time": "2021-12-18T12:43:05.521Z"
   },
   {
    "duration": 6,
    "start_time": "2021-12-18T12:43:06.206Z"
   },
   {
    "duration": 5,
    "start_time": "2021-12-18T12:43:06.214Z"
   },
   {
    "duration": 15,
    "start_time": "2021-12-18T12:43:06.221Z"
   },
   {
    "duration": 26,
    "start_time": "2021-12-18T12:43:06.238Z"
   },
   {
    "duration": 11,
    "start_time": "2021-12-18T12:43:06.266Z"
   },
   {
    "duration": 41,
    "start_time": "2021-12-18T12:43:06.279Z"
   },
   {
    "duration": 7,
    "start_time": "2021-12-18T12:43:06.322Z"
   },
   {
    "duration": 9,
    "start_time": "2021-12-18T12:43:06.330Z"
   },
   {
    "duration": 24,
    "start_time": "2021-12-18T12:43:06.340Z"
   },
   {
    "duration": 316,
    "start_time": "2021-12-18T12:43:06.366Z"
   },
   {
    "duration": 5,
    "start_time": "2021-12-18T12:43:06.684Z"
   },
   {
    "duration": 4,
    "start_time": "2021-12-18T12:43:06.690Z"
   },
   {
    "duration": 3,
    "start_time": "2021-12-18T12:43:06.699Z"
   },
   {
    "duration": 16,
    "start_time": "2021-12-18T12:43:06.704Z"
   },
   {
    "duration": 46,
    "start_time": "2021-12-18T12:43:06.722Z"
   },
   {
    "duration": 15,
    "start_time": "2021-12-18T12:43:06.769Z"
   },
   {
    "duration": 26,
    "start_time": "2021-12-18T12:43:06.785Z"
   },
   {
    "duration": 12,
    "start_time": "2021-12-18T12:43:06.812Z"
   },
   {
    "duration": 49,
    "start_time": "2021-12-18T12:43:06.825Z"
   },
   {
    "duration": 12,
    "start_time": "2021-12-18T12:43:06.875Z"
   },
   {
    "duration": 24,
    "start_time": "2021-12-18T12:43:06.889Z"
   },
   {
    "duration": 3,
    "start_time": "2021-12-18T12:47:24.282Z"
   },
   {
    "duration": 54,
    "start_time": "2021-12-18T12:47:24.287Z"
   },
   {
    "duration": 12,
    "start_time": "2021-12-18T12:47:24.343Z"
   },
   {
    "duration": 14,
    "start_time": "2021-12-18T12:47:24.357Z"
   },
   {
    "duration": 25,
    "start_time": "2021-12-18T12:47:24.373Z"
   },
   {
    "duration": 31,
    "start_time": "2021-12-18T12:47:24.400Z"
   },
   {
    "duration": 9,
    "start_time": "2021-12-18T12:47:24.434Z"
   },
   {
    "duration": 6,
    "start_time": "2021-12-18T12:47:24.465Z"
   },
   {
    "duration": 19,
    "start_time": "2021-12-18T12:47:24.473Z"
   },
   {
    "duration": 6,
    "start_time": "2021-12-18T12:47:24.494Z"
   },
   {
    "duration": 60,
    "start_time": "2021-12-18T12:47:24.503Z"
   },
   {
    "duration": 23,
    "start_time": "2021-12-18T12:47:24.565Z"
   },
   {
    "duration": 23,
    "start_time": "2021-12-18T12:47:24.590Z"
   },
   {
    "duration": 21,
    "start_time": "2021-12-18T12:47:24.615Z"
   },
   {
    "duration": 24,
    "start_time": "2021-12-18T12:47:24.664Z"
   },
   {
    "duration": 19,
    "start_time": "2021-12-18T12:47:24.689Z"
   },
   {
    "duration": 15,
    "start_time": "2021-12-18T12:47:24.710Z"
   },
   {
    "duration": 73,
    "start_time": "2021-12-18T12:47:24.727Z"
   },
   {
    "duration": 19,
    "start_time": "2021-12-18T12:47:24.805Z"
   },
   {
    "duration": 7,
    "start_time": "2021-12-18T12:47:24.827Z"
   },
   {
    "duration": 8,
    "start_time": "2021-12-18T12:47:24.864Z"
   },
   {
    "duration": 26,
    "start_time": "2021-12-18T12:47:24.873Z"
   },
   {
    "duration": 8,
    "start_time": "2021-12-18T12:47:24.901Z"
   },
   {
    "duration": 13,
    "start_time": "2021-12-18T12:47:24.911Z"
   },
   {
    "duration": 39,
    "start_time": "2021-12-18T12:47:24.926Z"
   },
   {
    "duration": 23,
    "start_time": "2021-12-18T12:47:24.967Z"
   },
   {
    "duration": 28,
    "start_time": "2021-12-18T12:47:24.992Z"
   },
   {
    "duration": 12,
    "start_time": "2021-12-18T12:47:25.022Z"
   },
   {
    "duration": 7,
    "start_time": "2021-12-18T12:47:25.063Z"
   },
   {
    "duration": 24,
    "start_time": "2021-12-18T12:47:25.072Z"
   },
   {
    "duration": 12,
    "start_time": "2021-12-18T12:47:25.098Z"
   },
   {
    "duration": 13,
    "start_time": "2021-12-18T12:47:25.111Z"
   },
   {
    "duration": 10,
    "start_time": "2021-12-18T12:47:25.126Z"
   },
   {
    "duration": 34,
    "start_time": "2021-12-18T12:47:25.138Z"
   },
   {
    "duration": 7,
    "start_time": "2021-12-18T12:47:25.174Z"
   },
   {
    "duration": 17,
    "start_time": "2021-12-18T12:47:25.183Z"
   },
   {
    "duration": 17,
    "start_time": "2021-12-18T12:47:25.202Z"
   },
   {
    "duration": 13,
    "start_time": "2021-12-18T12:47:25.221Z"
   },
   {
    "duration": 5,
    "start_time": "2021-12-18T12:47:25.264Z"
   },
   {
    "duration": 6,
    "start_time": "2021-12-18T12:47:25.270Z"
   },
   {
    "duration": 15,
    "start_time": "2021-12-18T12:47:25.277Z"
   },
   {
    "duration": 47,
    "start_time": "2021-12-18T12:47:25.294Z"
   },
   {
    "duration": 24,
    "start_time": "2021-12-18T12:47:25.343Z"
   },
   {
    "duration": 7,
    "start_time": "2021-12-18T12:47:25.368Z"
   },
   {
    "duration": 6,
    "start_time": "2021-12-18T12:47:25.377Z"
   },
   {
    "duration": 20,
    "start_time": "2021-12-18T12:47:25.384Z"
   },
   {
    "duration": 5,
    "start_time": "2021-12-18T12:47:25.406Z"
   },
   {
    "duration": 51,
    "start_time": "2021-12-18T12:47:25.413Z"
   },
   {
    "duration": 3,
    "start_time": "2021-12-18T12:47:25.466Z"
   },
   {
    "duration": 16,
    "start_time": "2021-12-18T12:47:25.471Z"
   },
   {
    "duration": 29,
    "start_time": "2021-12-18T12:47:25.488Z"
   },
   {
    "duration": 17,
    "start_time": "2021-12-18T12:47:25.518Z"
   },
   {
    "duration": 21,
    "start_time": "2021-12-18T12:47:25.564Z"
   },
   {
    "duration": 27,
    "start_time": "2021-12-18T12:47:25.586Z"
   },
   {
    "duration": 48,
    "start_time": "2021-12-18T12:47:25.618Z"
   },
   {
    "duration": 103,
    "start_time": "2021-12-18T12:47:25.668Z"
   },
   {
    "duration": 9,
    "start_time": "2021-12-18T12:47:25.773Z"
   },
   {
    "duration": 96,
    "start_time": "2021-12-18T12:47:25.784Z"
   },
   {
    "duration": 88,
    "start_time": "2021-12-18T12:47:25.882Z"
   },
   {
    "duration": 9,
    "start_time": "2021-12-18T12:47:25.972Z"
   },
   {
    "duration": 26,
    "start_time": "2021-12-18T12:47:25.983Z"
   },
   {
    "duration": 5,
    "start_time": "2021-12-18T12:47:26.010Z"
   },
   {
    "duration": 14,
    "start_time": "2021-12-18T12:47:26.016Z"
   },
   {
    "duration": 16,
    "start_time": "2021-12-18T12:47:26.064Z"
   },
   {
    "duration": 6,
    "start_time": "2021-12-18T12:47:26.082Z"
   },
   {
    "duration": 36,
    "start_time": "2021-12-18T12:47:26.090Z"
   },
   {
    "duration": 57,
    "start_time": "2021-12-18T12:47:26.128Z"
   },
   {
    "duration": 12,
    "start_time": "2021-12-18T12:47:26.187Z"
   },
   {
    "duration": 691,
    "start_time": "2021-12-18T12:47:26.202Z"
   },
   {
    "duration": 5,
    "start_time": "2021-12-18T12:47:26.894Z"
   },
   {
    "duration": 10,
    "start_time": "2021-12-18T12:47:26.901Z"
   },
   {
    "duration": 11,
    "start_time": "2021-12-18T12:47:26.913Z"
   },
   {
    "duration": 16,
    "start_time": "2021-12-18T12:47:26.925Z"
   },
   {
    "duration": 6,
    "start_time": "2021-12-18T12:47:26.943Z"
   },
   {
    "duration": 32,
    "start_time": "2021-12-18T12:47:26.964Z"
   },
   {
    "duration": 8,
    "start_time": "2021-12-18T12:47:26.998Z"
   },
   {
    "duration": 4,
    "start_time": "2021-12-18T12:47:27.008Z"
   },
   {
    "duration": 7,
    "start_time": "2021-12-18T12:47:27.014Z"
   },
   {
    "duration": 365,
    "start_time": "2021-12-18T12:47:27.023Z"
   },
   {
    "duration": 7,
    "start_time": "2021-12-18T12:47:27.390Z"
   },
   {
    "duration": 3,
    "start_time": "2021-12-18T12:47:27.399Z"
   },
   {
    "duration": 5,
    "start_time": "2021-12-18T12:47:27.404Z"
   },
   {
    "duration": 14,
    "start_time": "2021-12-18T12:47:27.411Z"
   },
   {
    "duration": 54,
    "start_time": "2021-12-18T12:47:27.427Z"
   },
   {
    "duration": 14,
    "start_time": "2021-12-18T12:47:27.482Z"
   },
   {
    "duration": 29,
    "start_time": "2021-12-18T12:47:27.498Z"
   },
   {
    "duration": 13,
    "start_time": "2021-12-18T12:47:27.529Z"
   },
   {
    "duration": 28,
    "start_time": "2021-12-18T12:47:27.564Z"
   },
   {
    "duration": 14,
    "start_time": "2021-12-18T12:47:27.594Z"
   },
   {
    "duration": 27,
    "start_time": "2021-12-18T12:47:27.611Z"
   },
   {
    "duration": 4,
    "start_time": "2021-12-18T12:53:15.011Z"
   },
   {
    "duration": 76,
    "start_time": "2021-12-18T12:53:15.017Z"
   },
   {
    "duration": 20,
    "start_time": "2021-12-18T12:53:15.095Z"
   },
   {
    "duration": 5,
    "start_time": "2021-12-18T12:53:15.117Z"
   },
   {
    "duration": 46,
    "start_time": "2021-12-18T12:53:15.124Z"
   },
   {
    "duration": 48,
    "start_time": "2021-12-18T12:53:15.172Z"
   },
   {
    "duration": 48,
    "start_time": "2021-12-18T12:53:15.223Z"
   },
   {
    "duration": 5,
    "start_time": "2021-12-18T12:53:15.274Z"
   },
   {
    "duration": 16,
    "start_time": "2021-12-18T12:53:15.281Z"
   },
   {
    "duration": 5,
    "start_time": "2021-12-18T12:53:15.299Z"
   },
   {
    "duration": 64,
    "start_time": "2021-12-18T12:53:15.306Z"
   },
   {
    "duration": 33,
    "start_time": "2021-12-18T12:53:15.372Z"
   },
   {
    "duration": 23,
    "start_time": "2021-12-18T12:53:15.407Z"
   },
   {
    "duration": 49,
    "start_time": "2021-12-18T12:53:15.432Z"
   },
   {
    "duration": 21,
    "start_time": "2021-12-18T12:53:15.483Z"
   },
   {
    "duration": 20,
    "start_time": "2021-12-18T12:53:15.506Z"
   },
   {
    "duration": 45,
    "start_time": "2021-12-18T12:53:15.527Z"
   },
   {
    "duration": 38,
    "start_time": "2021-12-18T12:53:15.574Z"
   },
   {
    "duration": 19,
    "start_time": "2021-12-18T12:53:15.616Z"
   },
   {
    "duration": 33,
    "start_time": "2021-12-18T12:53:15.637Z"
   },
   {
    "duration": 8,
    "start_time": "2021-12-18T12:53:15.672Z"
   },
   {
    "duration": 25,
    "start_time": "2021-12-18T12:53:15.682Z"
   },
   {
    "duration": 9,
    "start_time": "2021-12-18T12:53:15.709Z"
   },
   {
    "duration": 50,
    "start_time": "2021-12-18T12:53:15.720Z"
   },
   {
    "duration": 3,
    "start_time": "2021-12-18T12:53:15.771Z"
   },
   {
    "duration": 18,
    "start_time": "2021-12-18T12:53:15.776Z"
   },
   {
    "duration": 21,
    "start_time": "2021-12-18T12:53:15.796Z"
   },
   {
    "duration": 12,
    "start_time": "2021-12-18T12:53:15.819Z"
   },
   {
    "duration": 6,
    "start_time": "2021-12-18T12:53:15.833Z"
   },
   {
    "duration": 17,
    "start_time": "2021-12-18T12:53:15.863Z"
   },
   {
    "duration": 7,
    "start_time": "2021-12-18T12:53:15.882Z"
   },
   {
    "duration": 9,
    "start_time": "2021-12-18T12:53:15.891Z"
   },
   {
    "duration": 10,
    "start_time": "2021-12-18T12:53:15.902Z"
   },
   {
    "duration": 8,
    "start_time": "2021-12-18T12:53:15.913Z"
   },
   {
    "duration": 8,
    "start_time": "2021-12-18T12:53:15.923Z"
   },
   {
    "duration": 15,
    "start_time": "2021-12-18T12:53:15.963Z"
   },
   {
    "duration": 14,
    "start_time": "2021-12-18T12:53:15.980Z"
   },
   {
    "duration": 8,
    "start_time": "2021-12-18T12:53:15.995Z"
   },
   {
    "duration": 16,
    "start_time": "2021-12-18T12:53:16.004Z"
   },
   {
    "duration": 8,
    "start_time": "2021-12-18T12:53:16.022Z"
   },
   {
    "duration": 40,
    "start_time": "2021-12-18T12:53:16.032Z"
   },
   {
    "duration": 47,
    "start_time": "2021-12-18T12:53:16.074Z"
   },
   {
    "duration": 5,
    "start_time": "2021-12-18T12:53:16.122Z"
   },
   {
    "duration": 8,
    "start_time": "2021-12-18T12:53:16.128Z"
   },
   {
    "duration": 27,
    "start_time": "2021-12-18T12:53:16.137Z"
   },
   {
    "duration": 31,
    "start_time": "2021-12-18T12:53:16.166Z"
   },
   {
    "duration": 5,
    "start_time": "2021-12-18T12:53:16.199Z"
   },
   {
    "duration": 31,
    "start_time": "2021-12-18T12:53:16.205Z"
   },
   {
    "duration": 4,
    "start_time": "2021-12-18T12:53:16.237Z"
   },
   {
    "duration": 32,
    "start_time": "2021-12-18T12:53:16.242Z"
   },
   {
    "duration": 28,
    "start_time": "2021-12-18T12:53:16.276Z"
   },
   {
    "duration": 16,
    "start_time": "2021-12-18T12:53:16.306Z"
   },
   {
    "duration": 60,
    "start_time": "2021-12-18T12:53:16.323Z"
   },
   {
    "duration": 31,
    "start_time": "2021-12-18T12:53:16.384Z"
   },
   {
    "duration": 45,
    "start_time": "2021-12-18T12:53:16.419Z"
   },
   {
    "duration": 102,
    "start_time": "2021-12-18T12:53:16.466Z"
   },
   {
    "duration": 8,
    "start_time": "2021-12-18T12:53:16.570Z"
   },
   {
    "duration": 110,
    "start_time": "2021-12-18T12:53:16.580Z"
   },
   {
    "duration": 91,
    "start_time": "2021-12-18T12:53:16.691Z"
   },
   {
    "duration": 10,
    "start_time": "2021-12-18T12:53:16.784Z"
   },
   {
    "duration": 40,
    "start_time": "2021-12-18T12:53:16.796Z"
   },
   {
    "duration": 5,
    "start_time": "2021-12-18T12:53:16.838Z"
   },
   {
    "duration": 13,
    "start_time": "2021-12-18T12:53:16.864Z"
   },
   {
    "duration": 17,
    "start_time": "2021-12-18T12:53:16.879Z"
   },
   {
    "duration": 7,
    "start_time": "2021-12-18T12:53:16.897Z"
   },
   {
    "duration": 65,
    "start_time": "2021-12-18T12:53:16.906Z"
   },
   {
    "duration": 27,
    "start_time": "2021-12-18T12:53:16.973Z"
   },
   {
    "duration": 11,
    "start_time": "2021-12-18T12:53:17.002Z"
   },
   {
    "duration": 718,
    "start_time": "2021-12-18T12:53:17.014Z"
   },
   {
    "duration": 5,
    "start_time": "2021-12-18T12:53:17.734Z"
   },
   {
    "duration": 14,
    "start_time": "2021-12-18T12:53:17.740Z"
   },
   {
    "duration": 28,
    "start_time": "2021-12-18T12:53:17.755Z"
   },
   {
    "duration": 44,
    "start_time": "2021-12-18T12:53:17.785Z"
   },
   {
    "duration": 13,
    "start_time": "2021-12-18T12:53:17.831Z"
   },
   {
    "duration": 38,
    "start_time": "2021-12-18T12:53:17.846Z"
   },
   {
    "duration": 7,
    "start_time": "2021-12-18T12:53:17.886Z"
   },
   {
    "duration": 25,
    "start_time": "2021-12-18T12:53:17.895Z"
   },
   {
    "duration": 4,
    "start_time": "2021-12-18T12:53:17.921Z"
   },
   {
    "duration": 324,
    "start_time": "2021-12-18T12:53:17.927Z"
   },
   {
    "duration": 5,
    "start_time": "2021-12-18T12:53:18.253Z"
   },
   {
    "duration": 3,
    "start_time": "2021-12-18T12:53:18.263Z"
   },
   {
    "duration": 4,
    "start_time": "2021-12-18T12:53:18.268Z"
   },
   {
    "duration": 13,
    "start_time": "2021-12-18T12:53:18.274Z"
   },
   {
    "duration": 24,
    "start_time": "2021-12-18T12:53:18.289Z"
   },
   {
    "duration": 13,
    "start_time": "2021-12-18T12:53:18.315Z"
   },
   {
    "duration": 48,
    "start_time": "2021-12-18T12:53:18.329Z"
   },
   {
    "duration": 13,
    "start_time": "2021-12-18T12:53:18.378Z"
   },
   {
    "duration": 29,
    "start_time": "2021-12-18T12:53:18.393Z"
   },
   {
    "duration": 40,
    "start_time": "2021-12-18T12:53:18.425Z"
   },
   {
    "duration": 31,
    "start_time": "2021-12-18T12:53:18.467Z"
   },
   {
    "duration": 4,
    "start_time": "2021-12-18T12:56:13.861Z"
   },
   {
    "duration": 54,
    "start_time": "2021-12-18T12:56:13.870Z"
   },
   {
    "duration": 15,
    "start_time": "2021-12-18T12:56:13.927Z"
   },
   {
    "duration": 6,
    "start_time": "2021-12-18T12:56:13.944Z"
   },
   {
    "duration": 19,
    "start_time": "2021-12-18T12:56:13.979Z"
   },
   {
    "duration": 36,
    "start_time": "2021-12-18T12:56:14.000Z"
   },
   {
    "duration": 26,
    "start_time": "2021-12-18T12:56:14.038Z"
   },
   {
    "duration": 6,
    "start_time": "2021-12-18T12:56:14.066Z"
   },
   {
    "duration": 19,
    "start_time": "2021-12-18T12:56:14.075Z"
   },
   {
    "duration": 4,
    "start_time": "2021-12-18T12:56:14.097Z"
   },
   {
    "duration": 46,
    "start_time": "2021-12-18T12:56:14.102Z"
   },
   {
    "duration": 26,
    "start_time": "2021-12-18T12:56:14.150Z"
   },
   {
    "duration": 30,
    "start_time": "2021-12-18T12:56:14.178Z"
   },
   {
    "duration": 56,
    "start_time": "2021-12-18T12:56:14.210Z"
   },
   {
    "duration": 29,
    "start_time": "2021-12-18T12:56:14.268Z"
   },
   {
    "duration": 28,
    "start_time": "2021-12-18T12:56:14.299Z"
   },
   {
    "duration": 48,
    "start_time": "2021-12-18T12:56:14.329Z"
   },
   {
    "duration": 65,
    "start_time": "2021-12-18T12:56:14.380Z"
   },
   {
    "duration": 28,
    "start_time": "2021-12-18T12:56:14.463Z"
   },
   {
    "duration": 9,
    "start_time": "2021-12-18T12:56:14.495Z"
   },
   {
    "duration": 11,
    "start_time": "2021-12-18T12:56:14.506Z"
   },
   {
    "duration": 79,
    "start_time": "2021-12-18T12:56:14.519Z"
   },
   {
    "duration": 11,
    "start_time": "2021-12-18T12:56:14.600Z"
   },
   {
    "duration": 29,
    "start_time": "2021-12-18T12:56:14.613Z"
   },
   {
    "duration": 30,
    "start_time": "2021-12-18T12:56:14.644Z"
   },
   {
    "duration": 26,
    "start_time": "2021-12-18T12:56:14.676Z"
   },
   {
    "duration": 27,
    "start_time": "2021-12-18T12:56:14.707Z"
   },
   {
    "duration": 7,
    "start_time": "2021-12-18T12:56:14.737Z"
   },
   {
    "duration": 12,
    "start_time": "2021-12-18T12:56:14.746Z"
   },
   {
    "duration": 32,
    "start_time": "2021-12-18T12:56:14.759Z"
   },
   {
    "duration": 9,
    "start_time": "2021-12-18T12:56:14.793Z"
   },
   {
    "duration": 22,
    "start_time": "2021-12-18T12:56:14.804Z"
   },
   {
    "duration": 31,
    "start_time": "2021-12-18T12:56:14.828Z"
   },
   {
    "duration": 24,
    "start_time": "2021-12-18T12:56:14.861Z"
   },
   {
    "duration": 15,
    "start_time": "2021-12-18T12:56:14.887Z"
   },
   {
    "duration": 15,
    "start_time": "2021-12-18T12:56:14.903Z"
   },
   {
    "duration": 15,
    "start_time": "2021-12-18T12:56:14.920Z"
   },
   {
    "duration": 7,
    "start_time": "2021-12-18T12:56:14.937Z"
   },
   {
    "duration": 13,
    "start_time": "2021-12-18T12:56:14.945Z"
   },
   {
    "duration": 36,
    "start_time": "2021-12-18T12:56:14.961Z"
   },
   {
    "duration": 42,
    "start_time": "2021-12-18T12:56:14.998Z"
   },
   {
    "duration": 59,
    "start_time": "2021-12-18T12:56:15.043Z"
   },
   {
    "duration": 6,
    "start_time": "2021-12-18T12:56:15.104Z"
   },
   {
    "duration": 9,
    "start_time": "2021-12-18T12:56:15.112Z"
   },
   {
    "duration": 5,
    "start_time": "2021-12-18T12:56:15.123Z"
   },
   {
    "duration": 42,
    "start_time": "2021-12-18T12:56:15.130Z"
   },
   {
    "duration": 5,
    "start_time": "2021-12-18T12:56:15.174Z"
   },
   {
    "duration": 26,
    "start_time": "2021-12-18T12:56:15.180Z"
   },
   {
    "duration": 5,
    "start_time": "2021-12-18T12:56:15.208Z"
   },
   {
    "duration": 15,
    "start_time": "2021-12-18T12:56:15.215Z"
   },
   {
    "duration": 60,
    "start_time": "2021-12-18T12:56:15.232Z"
   },
   {
    "duration": 17,
    "start_time": "2021-12-18T12:56:15.294Z"
   },
   {
    "duration": 23,
    "start_time": "2021-12-18T12:56:15.313Z"
   },
   {
    "duration": 27,
    "start_time": "2021-12-18T12:56:15.363Z"
   },
   {
    "duration": 24,
    "start_time": "2021-12-18T12:56:15.392Z"
   },
   {
    "duration": 107,
    "start_time": "2021-12-18T12:56:15.418Z"
   },
   {
    "duration": 9,
    "start_time": "2021-12-18T12:56:15.527Z"
   },
   {
    "duration": 100,
    "start_time": "2021-12-18T12:56:15.537Z"
   },
   {
    "duration": 90,
    "start_time": "2021-12-18T12:56:15.639Z"
   },
   {
    "duration": 14,
    "start_time": "2021-12-18T12:56:15.732Z"
   },
   {
    "duration": 39,
    "start_time": "2021-12-18T12:56:15.748Z"
   },
   {
    "duration": 6,
    "start_time": "2021-12-18T12:56:15.789Z"
   },
   {
    "duration": 14,
    "start_time": "2021-12-18T12:56:15.796Z"
   },
   {
    "duration": 17,
    "start_time": "2021-12-18T12:56:15.812Z"
   },
   {
    "duration": 32,
    "start_time": "2021-12-18T12:56:15.831Z"
   },
   {
    "duration": 39,
    "start_time": "2021-12-18T12:56:15.866Z"
   },
   {
    "duration": 33,
    "start_time": "2021-12-18T12:56:15.907Z"
   },
   {
    "duration": 16,
    "start_time": "2021-12-18T12:56:15.964Z"
   },
   {
    "duration": 726,
    "start_time": "2021-12-18T12:56:15.982Z"
   },
   {
    "duration": 5,
    "start_time": "2021-12-18T12:56:16.710Z"
   },
   {
    "duration": 5,
    "start_time": "2021-12-18T12:56:16.717Z"
   },
   {
    "duration": 6,
    "start_time": "2021-12-18T12:56:16.724Z"
   },
   {
    "duration": 38,
    "start_time": "2021-12-18T12:56:16.732Z"
   },
   {
    "duration": 7,
    "start_time": "2021-12-18T12:56:16.772Z"
   },
   {
    "duration": 31,
    "start_time": "2021-12-18T12:56:16.781Z"
   },
   {
    "duration": 10,
    "start_time": "2021-12-18T12:56:16.814Z"
   },
   {
    "duration": 5,
    "start_time": "2021-12-18T12:56:16.826Z"
   },
   {
    "duration": 5,
    "start_time": "2021-12-18T12:56:16.864Z"
   },
   {
    "duration": 329,
    "start_time": "2021-12-18T12:56:16.871Z"
   },
   {
    "duration": 5,
    "start_time": "2021-12-18T12:56:17.202Z"
   },
   {
    "duration": 3,
    "start_time": "2021-12-18T12:56:17.213Z"
   },
   {
    "duration": 11,
    "start_time": "2021-12-18T12:56:17.218Z"
   },
   {
    "duration": 37,
    "start_time": "2021-12-18T12:56:17.231Z"
   },
   {
    "duration": 29,
    "start_time": "2021-12-18T12:56:17.270Z"
   },
   {
    "duration": 14,
    "start_time": "2021-12-18T12:56:17.301Z"
   },
   {
    "duration": 50,
    "start_time": "2021-12-18T12:56:17.317Z"
   },
   {
    "duration": 13,
    "start_time": "2021-12-18T12:56:17.369Z"
   },
   {
    "duration": 35,
    "start_time": "2021-12-18T12:56:17.384Z"
   },
   {
    "duration": 44,
    "start_time": "2021-12-18T12:56:17.421Z"
   },
   {
    "duration": 24,
    "start_time": "2021-12-18T12:56:17.467Z"
   },
   {
    "duration": 3,
    "start_time": "2021-12-18T13:00:35.131Z"
   },
   {
    "duration": 63,
    "start_time": "2021-12-18T13:00:35.136Z"
   },
   {
    "duration": 16,
    "start_time": "2021-12-18T13:00:35.201Z"
   },
   {
    "duration": 44,
    "start_time": "2021-12-18T13:00:35.220Z"
   },
   {
    "duration": 11,
    "start_time": "2021-12-18T13:00:35.266Z"
   },
   {
    "duration": 41,
    "start_time": "2021-12-18T13:00:35.279Z"
   },
   {
    "duration": 42,
    "start_time": "2021-12-18T13:00:35.323Z"
   },
   {
    "duration": 6,
    "start_time": "2021-12-18T13:00:35.367Z"
   },
   {
    "duration": 24,
    "start_time": "2021-12-18T13:00:35.375Z"
   },
   {
    "duration": 19,
    "start_time": "2021-12-18T13:00:35.401Z"
   },
   {
    "duration": 59,
    "start_time": "2021-12-18T13:00:35.422Z"
   },
   {
    "duration": 23,
    "start_time": "2021-12-18T13:00:35.483Z"
   },
   {
    "duration": 27,
    "start_time": "2021-12-18T13:00:35.508Z"
   },
   {
    "duration": 50,
    "start_time": "2021-12-18T13:00:35.537Z"
   },
   {
    "duration": 33,
    "start_time": "2021-12-18T13:00:35.589Z"
   },
   {
    "duration": 47,
    "start_time": "2021-12-18T13:00:35.624Z"
   },
   {
    "duration": 19,
    "start_time": "2021-12-18T13:00:35.674Z"
   },
   {
    "duration": 41,
    "start_time": "2021-12-18T13:00:35.695Z"
   },
   {
    "duration": 21,
    "start_time": "2021-12-18T13:00:35.767Z"
   },
   {
    "duration": 8,
    "start_time": "2021-12-18T13:00:35.791Z"
   },
   {
    "duration": 25,
    "start_time": "2021-12-18T13:00:35.801Z"
   },
   {
    "duration": 54,
    "start_time": "2021-12-18T13:00:35.828Z"
   },
   {
    "duration": 12,
    "start_time": "2021-12-18T13:00:35.885Z"
   },
   {
    "duration": 26,
    "start_time": "2021-12-18T13:00:35.899Z"
   },
   {
    "duration": 4,
    "start_time": "2021-12-18T13:00:35.927Z"
   },
   {
    "duration": 40,
    "start_time": "2021-12-18T13:00:35.933Z"
   },
   {
    "duration": 34,
    "start_time": "2021-12-18T13:00:35.975Z"
   },
   {
    "duration": 12,
    "start_time": "2021-12-18T13:00:36.011Z"
   },
   {
    "duration": 13,
    "start_time": "2021-12-18T13:00:36.025Z"
   },
   {
    "duration": 40,
    "start_time": "2021-12-18T13:00:36.040Z"
   },
   {
    "duration": 9,
    "start_time": "2021-12-18T13:00:36.081Z"
   },
   {
    "duration": 10,
    "start_time": "2021-12-18T13:00:36.092Z"
   },
   {
    "duration": 19,
    "start_time": "2021-12-18T13:00:36.104Z"
   },
   {
    "duration": 9,
    "start_time": "2021-12-18T13:00:36.125Z"
   },
   {
    "duration": 8,
    "start_time": "2021-12-18T13:00:36.164Z"
   },
   {
    "duration": 22,
    "start_time": "2021-12-18T13:00:36.174Z"
   },
   {
    "duration": 24,
    "start_time": "2021-12-18T13:00:36.198Z"
   },
   {
    "duration": 9,
    "start_time": "2021-12-18T13:00:36.224Z"
   },
   {
    "duration": 31,
    "start_time": "2021-12-18T13:00:36.235Z"
   },
   {
    "duration": 6,
    "start_time": "2021-12-18T13:00:36.268Z"
   },
   {
    "duration": 13,
    "start_time": "2021-12-18T13:00:36.276Z"
   },
   {
    "duration": 48,
    "start_time": "2021-12-18T13:00:36.291Z"
   },
   {
    "duration": 27,
    "start_time": "2021-12-18T13:00:36.341Z"
   },
   {
    "duration": 9,
    "start_time": "2021-12-18T13:00:36.370Z"
   },
   {
    "duration": 5,
    "start_time": "2021-12-18T13:00:36.381Z"
   },
   {
    "duration": 25,
    "start_time": "2021-12-18T13:00:36.388Z"
   },
   {
    "duration": 6,
    "start_time": "2021-12-18T13:00:36.415Z"
   },
   {
    "duration": 60,
    "start_time": "2021-12-18T13:00:36.423Z"
   },
   {
    "duration": 6,
    "start_time": "2021-12-18T13:00:36.486Z"
   },
   {
    "duration": 21,
    "start_time": "2021-12-18T13:00:36.494Z"
   },
   {
    "duration": 68,
    "start_time": "2021-12-18T13:00:36.517Z"
   },
   {
    "duration": 20,
    "start_time": "2021-12-18T13:00:36.587Z"
   },
   {
    "duration": 31,
    "start_time": "2021-12-18T13:00:36.609Z"
   },
   {
    "duration": 47,
    "start_time": "2021-12-18T13:00:36.642Z"
   },
   {
    "duration": 23,
    "start_time": "2021-12-18T13:00:36.695Z"
   },
   {
    "duration": 145,
    "start_time": "2021-12-18T13:00:36.721Z"
   },
   {
    "duration": 31,
    "start_time": "2021-12-18T13:00:36.868Z"
   },
   {
    "duration": 101,
    "start_time": "2021-12-18T13:00:36.901Z"
   },
   {
    "duration": 135,
    "start_time": "2021-12-18T13:00:37.004Z"
   },
   {
    "duration": 24,
    "start_time": "2021-12-18T13:00:37.141Z"
   },
   {
    "duration": 39,
    "start_time": "2021-12-18T13:00:37.167Z"
   },
   {
    "duration": 7,
    "start_time": "2021-12-18T13:00:37.208Z"
   },
   {
    "duration": 33,
    "start_time": "2021-12-18T13:00:37.218Z"
   },
   {
    "duration": 26,
    "start_time": "2021-12-18T13:00:37.264Z"
   },
   {
    "duration": 8,
    "start_time": "2021-12-18T13:00:37.293Z"
   },
   {
    "duration": 68,
    "start_time": "2021-12-18T13:00:37.303Z"
   },
   {
    "duration": 32,
    "start_time": "2021-12-18T13:00:37.373Z"
   },
   {
    "duration": 21,
    "start_time": "2021-12-18T13:00:37.407Z"
   },
   {
    "duration": 1016,
    "start_time": "2021-12-18T13:00:37.430Z"
   },
   {
    "duration": 14,
    "start_time": "2021-12-18T13:00:38.449Z"
   },
   {
    "duration": 3,
    "start_time": "2021-12-18T13:00:38.466Z"
   },
   {
    "duration": 4,
    "start_time": "2021-12-18T13:00:38.473Z"
   },
   {
    "duration": 23,
    "start_time": "2021-12-18T13:00:38.480Z"
   },
   {
    "duration": 7,
    "start_time": "2021-12-18T13:00:38.505Z"
   },
   {
    "duration": 71,
    "start_time": "2021-12-18T13:00:38.514Z"
   },
   {
    "duration": 11,
    "start_time": "2021-12-18T13:00:38.587Z"
   },
   {
    "duration": 5,
    "start_time": "2021-12-18T13:00:38.600Z"
   },
   {
    "duration": 9,
    "start_time": "2021-12-18T13:00:38.606Z"
   },
   {
    "duration": 347,
    "start_time": "2021-12-18T13:00:38.617Z"
   },
   {
    "duration": 5,
    "start_time": "2021-12-18T13:00:38.966Z"
   },
   {
    "duration": 5,
    "start_time": "2021-12-18T13:00:38.973Z"
   },
   {
    "duration": 5,
    "start_time": "2021-12-18T13:00:38.980Z"
   },
   {
    "duration": 15,
    "start_time": "2021-12-18T13:00:38.987Z"
   },
   {
    "duration": 60,
    "start_time": "2021-12-18T13:00:39.004Z"
   },
   {
    "duration": 16,
    "start_time": "2021-12-18T13:00:39.066Z"
   },
   {
    "duration": 27,
    "start_time": "2021-12-18T13:00:39.084Z"
   },
   {
    "duration": 13,
    "start_time": "2021-12-18T13:00:39.113Z"
   },
   {
    "duration": 55,
    "start_time": "2021-12-18T13:00:39.127Z"
   },
   {
    "duration": 13,
    "start_time": "2021-12-18T13:00:39.184Z"
   },
   {
    "duration": 24,
    "start_time": "2021-12-18T13:00:39.199Z"
   },
   {
    "duration": 3,
    "start_time": "2021-12-18T13:01:21.835Z"
   },
   {
    "duration": 59,
    "start_time": "2021-12-18T13:01:21.840Z"
   },
   {
    "duration": 13,
    "start_time": "2021-12-18T13:01:21.901Z"
   },
   {
    "duration": 9,
    "start_time": "2021-12-18T13:01:21.915Z"
   },
   {
    "duration": 42,
    "start_time": "2021-12-18T13:01:21.926Z"
   },
   {
    "duration": 32,
    "start_time": "2021-12-18T13:01:21.969Z"
   },
   {
    "duration": 10,
    "start_time": "2021-12-18T13:01:22.003Z"
   },
   {
    "duration": 5,
    "start_time": "2021-12-18T13:01:22.016Z"
   },
   {
    "duration": 17,
    "start_time": "2021-12-18T13:01:22.063Z"
   },
   {
    "duration": 5,
    "start_time": "2021-12-18T13:01:22.082Z"
   },
   {
    "duration": 27,
    "start_time": "2021-12-18T13:01:22.089Z"
   },
   {
    "duration": 54,
    "start_time": "2021-12-18T13:01:22.117Z"
   },
   {
    "duration": 24,
    "start_time": "2021-12-18T13:01:22.173Z"
   },
   {
    "duration": 21,
    "start_time": "2021-12-18T13:01:22.199Z"
   },
   {
    "duration": 54,
    "start_time": "2021-12-18T13:01:22.222Z"
   },
   {
    "duration": 22,
    "start_time": "2021-12-18T13:01:22.277Z"
   },
   {
    "duration": 17,
    "start_time": "2021-12-18T13:01:22.301Z"
   },
   {
    "duration": 70,
    "start_time": "2021-12-18T13:01:22.320Z"
   },
   {
    "duration": 20,
    "start_time": "2021-12-18T13:01:22.394Z"
   },
   {
    "duration": 8,
    "start_time": "2021-12-18T13:01:22.417Z"
   },
   {
    "duration": 36,
    "start_time": "2021-12-18T13:01:22.428Z"
   },
   {
    "duration": 28,
    "start_time": "2021-12-18T13:01:22.466Z"
   },
   {
    "duration": 12,
    "start_time": "2021-12-18T13:01:22.495Z"
   },
   {
    "duration": 17,
    "start_time": "2021-12-18T13:01:22.509Z"
   },
   {
    "duration": 38,
    "start_time": "2021-12-18T13:01:22.528Z"
   },
   {
    "duration": 21,
    "start_time": "2021-12-18T13:01:22.568Z"
   },
   {
    "duration": 25,
    "start_time": "2021-12-18T13:01:22.591Z"
   },
   {
    "duration": 9,
    "start_time": "2021-12-18T13:01:22.617Z"
   },
   {
    "duration": 8,
    "start_time": "2021-12-18T13:01:22.628Z"
   },
   {
    "duration": 43,
    "start_time": "2021-12-18T13:01:22.637Z"
   },
   {
    "duration": 9,
    "start_time": "2021-12-18T13:01:22.681Z"
   },
   {
    "duration": 9,
    "start_time": "2021-12-18T13:01:22.692Z"
   },
   {
    "duration": 14,
    "start_time": "2021-12-18T13:01:22.703Z"
   },
   {
    "duration": 8,
    "start_time": "2021-12-18T13:01:22.719Z"
   },
   {
    "duration": 39,
    "start_time": "2021-12-18T13:01:22.729Z"
   },
   {
    "duration": 17,
    "start_time": "2021-12-18T13:01:22.770Z"
   },
   {
    "duration": 24,
    "start_time": "2021-12-18T13:01:22.789Z"
   },
   {
    "duration": 7,
    "start_time": "2021-12-18T13:01:22.814Z"
   },
   {
    "duration": 14,
    "start_time": "2021-12-18T13:01:22.822Z"
   },
   {
    "duration": 28,
    "start_time": "2021-12-18T13:01:22.838Z"
   },
   {
    "duration": 16,
    "start_time": "2021-12-18T13:01:22.867Z"
   },
   {
    "duration": 51,
    "start_time": "2021-12-18T13:01:22.885Z"
   },
   {
    "duration": 6,
    "start_time": "2021-12-18T13:01:22.937Z"
   },
   {
    "duration": 19,
    "start_time": "2021-12-18T13:01:22.944Z"
   },
   {
    "duration": 5,
    "start_time": "2021-12-18T13:01:22.965Z"
   },
   {
    "duration": 24,
    "start_time": "2021-12-18T13:01:22.971Z"
   },
   {
    "duration": 6,
    "start_time": "2021-12-18T13:01:22.997Z"
   },
   {
    "duration": 32,
    "start_time": "2021-12-18T13:01:23.004Z"
   },
   {
    "duration": 28,
    "start_time": "2021-12-18T13:01:23.038Z"
   },
   {
    "duration": 95,
    "start_time": "2021-12-18T13:01:23.068Z"
   },
   {
    "duration": 32,
    "start_time": "2021-12-18T13:01:23.165Z"
   },
   {
    "duration": 18,
    "start_time": "2021-12-18T13:01:23.199Z"
   },
   {
    "duration": 53,
    "start_time": "2021-12-18T13:01:23.219Z"
   },
   {
    "duration": 28,
    "start_time": "2021-12-18T13:01:23.274Z"
   },
   {
    "duration": 23,
    "start_time": "2021-12-18T13:01:23.307Z"
   },
   {
    "duration": 108,
    "start_time": "2021-12-18T13:01:23.333Z"
   },
   {
    "duration": 24,
    "start_time": "2021-12-18T13:01:23.443Z"
   },
   {
    "duration": 106,
    "start_time": "2021-12-18T13:01:23.469Z"
   },
   {
    "duration": 96,
    "start_time": "2021-12-18T13:01:23.577Z"
   },
   {
    "duration": 13,
    "start_time": "2021-12-18T13:01:23.675Z"
   },
   {
    "duration": 29,
    "start_time": "2021-12-18T13:01:23.690Z"
   },
   {
    "duration": 6,
    "start_time": "2021-12-18T13:01:23.721Z"
   },
   {
    "duration": 48,
    "start_time": "2021-12-18T13:01:23.729Z"
   },
   {
    "duration": 20,
    "start_time": "2021-12-18T13:01:23.779Z"
   },
   {
    "duration": 8,
    "start_time": "2021-12-18T13:01:23.801Z"
   },
   {
    "duration": 71,
    "start_time": "2021-12-18T13:01:23.811Z"
   },
   {
    "duration": 39,
    "start_time": "2021-12-18T13:01:23.885Z"
   },
   {
    "duration": 13,
    "start_time": "2021-12-18T13:01:23.926Z"
   },
   {
    "duration": 749,
    "start_time": "2021-12-18T13:01:23.941Z"
   },
   {
    "duration": 5,
    "start_time": "2021-12-18T13:01:24.693Z"
   },
   {
    "duration": 6,
    "start_time": "2021-12-18T13:01:24.699Z"
   },
   {
    "duration": 6,
    "start_time": "2021-12-18T13:01:24.706Z"
   },
   {
    "duration": 17,
    "start_time": "2021-12-18T13:01:24.714Z"
   },
   {
    "duration": 32,
    "start_time": "2021-12-18T13:01:24.733Z"
   },
   {
    "duration": 37,
    "start_time": "2021-12-18T13:01:24.767Z"
   },
   {
    "duration": 9,
    "start_time": "2021-12-18T13:01:24.806Z"
   },
   {
    "duration": 4,
    "start_time": "2021-12-18T13:01:24.817Z"
   },
   {
    "duration": 8,
    "start_time": "2021-12-18T13:01:24.823Z"
   },
   {
    "duration": 353,
    "start_time": "2021-12-18T13:01:24.834Z"
   },
   {
    "duration": 6,
    "start_time": "2021-12-18T13:01:25.189Z"
   },
   {
    "duration": 3,
    "start_time": "2021-12-18T13:01:25.197Z"
   },
   {
    "duration": 6,
    "start_time": "2021-12-18T13:01:25.202Z"
   },
   {
    "duration": 16,
    "start_time": "2021-12-18T13:01:25.209Z"
   },
   {
    "duration": 58,
    "start_time": "2021-12-18T13:01:25.227Z"
   },
   {
    "duration": 16,
    "start_time": "2021-12-18T13:01:25.287Z"
   },
   {
    "duration": 24,
    "start_time": "2021-12-18T13:01:25.305Z"
   },
   {
    "duration": 39,
    "start_time": "2021-12-18T13:01:25.331Z"
   },
   {
    "duration": 29,
    "start_time": "2021-12-18T13:01:25.372Z"
   },
   {
    "duration": 15,
    "start_time": "2021-12-18T13:01:25.403Z"
   },
   {
    "duration": 54,
    "start_time": "2021-12-18T13:01:25.420Z"
   },
   {
    "duration": 3,
    "start_time": "2021-12-18T13:06:21.108Z"
   },
   {
    "duration": 76,
    "start_time": "2021-12-18T13:06:21.113Z"
   },
   {
    "duration": 13,
    "start_time": "2021-12-18T13:06:21.191Z"
   },
   {
    "duration": 15,
    "start_time": "2021-12-18T13:06:21.207Z"
   },
   {
    "duration": 45,
    "start_time": "2021-12-18T13:06:21.223Z"
   },
   {
    "duration": 65,
    "start_time": "2021-12-18T13:06:21.270Z"
   },
   {
    "duration": 10,
    "start_time": "2021-12-18T13:06:21.339Z"
   },
   {
    "duration": 14,
    "start_time": "2021-12-18T13:06:21.351Z"
   },
   {
    "duration": 34,
    "start_time": "2021-12-18T13:06:21.367Z"
   },
   {
    "duration": 12,
    "start_time": "2021-12-18T13:06:21.402Z"
   },
   {
    "duration": 51,
    "start_time": "2021-12-18T13:06:21.416Z"
   },
   {
    "duration": 33,
    "start_time": "2021-12-18T13:06:21.469Z"
   },
   {
    "duration": 23,
    "start_time": "2021-12-18T13:06:21.503Z"
   },
   {
    "duration": 45,
    "start_time": "2021-12-18T13:06:21.528Z"
   },
   {
    "duration": 30,
    "start_time": "2021-12-18T13:06:21.576Z"
   },
   {
    "duration": 27,
    "start_time": "2021-12-18T13:06:21.608Z"
   },
   {
    "duration": 26,
    "start_time": "2021-12-18T13:06:21.637Z"
   },
   {
    "duration": 49,
    "start_time": "2021-12-18T13:06:21.665Z"
   },
   {
    "duration": 20,
    "start_time": "2021-12-18T13:06:21.719Z"
   },
   {
    "duration": 23,
    "start_time": "2021-12-18T13:06:21.743Z"
   },
   {
    "duration": 22,
    "start_time": "2021-12-18T13:06:21.769Z"
   },
   {
    "duration": 45,
    "start_time": "2021-12-18T13:06:21.793Z"
   },
   {
    "duration": 10,
    "start_time": "2021-12-18T13:06:21.840Z"
   },
   {
    "duration": 34,
    "start_time": "2021-12-18T13:06:21.852Z"
   },
   {
    "duration": 14,
    "start_time": "2021-12-18T13:06:21.888Z"
   },
   {
    "duration": 43,
    "start_time": "2021-12-18T13:06:21.904Z"
   },
   {
    "duration": 36,
    "start_time": "2021-12-18T13:06:21.949Z"
   },
   {
    "duration": 9,
    "start_time": "2021-12-18T13:06:21.988Z"
   },
   {
    "duration": 24,
    "start_time": "2021-12-18T13:06:21.999Z"
   },
   {
    "duration": 32,
    "start_time": "2021-12-18T13:06:22.025Z"
   },
   {
    "duration": 16,
    "start_time": "2021-12-18T13:06:22.059Z"
   },
   {
    "duration": 30,
    "start_time": "2021-12-18T13:06:22.077Z"
   },
   {
    "duration": 23,
    "start_time": "2021-12-18T13:06:22.109Z"
   },
   {
    "duration": 20,
    "start_time": "2021-12-18T13:06:22.134Z"
   },
   {
    "duration": 25,
    "start_time": "2021-12-18T13:06:22.155Z"
   },
   {
    "duration": 34,
    "start_time": "2021-12-18T13:06:22.182Z"
   },
   {
    "duration": 20,
    "start_time": "2021-12-18T13:06:22.219Z"
   },
   {
    "duration": 21,
    "start_time": "2021-12-18T13:06:22.241Z"
   },
   {
    "duration": 27,
    "start_time": "2021-12-18T13:06:22.264Z"
   },
   {
    "duration": 24,
    "start_time": "2021-12-18T13:06:22.293Z"
   },
   {
    "duration": 45,
    "start_time": "2021-12-18T13:06:22.319Z"
   },
   {
    "duration": 80,
    "start_time": "2021-12-18T13:06:22.366Z"
   },
   {
    "duration": 7,
    "start_time": "2021-12-18T13:06:22.448Z"
   },
   {
    "duration": 85,
    "start_time": "2021-12-18T13:06:22.457Z"
   },
   {
    "duration": 21,
    "start_time": "2021-12-18T13:06:22.544Z"
   },
   {
    "duration": 98,
    "start_time": "2021-12-18T13:06:22.567Z"
   },
   {
    "duration": 36,
    "start_time": "2021-12-18T13:06:22.667Z"
   },
   {
    "duration": 79,
    "start_time": "2021-12-18T13:06:22.705Z"
   },
   {
    "duration": 13,
    "start_time": "2021-12-18T13:06:22.786Z"
   },
   {
    "duration": 45,
    "start_time": "2021-12-18T13:06:22.801Z"
   },
   {
    "duration": 56,
    "start_time": "2021-12-18T13:06:22.848Z"
   },
   {
    "duration": 32,
    "start_time": "2021-12-18T13:06:22.906Z"
   },
   {
    "duration": 64,
    "start_time": "2021-12-18T13:06:22.940Z"
   },
   {
    "duration": 39,
    "start_time": "2021-12-18T13:06:23.006Z"
   },
   {
    "duration": 23,
    "start_time": "2021-12-18T13:06:23.050Z"
   },
   {
    "duration": 90,
    "start_time": "2021-12-18T13:06:23.076Z"
   },
   {
    "duration": 40,
    "start_time": "2021-12-18T13:06:23.168Z"
   },
   {
    "duration": 99,
    "start_time": "2021-12-18T13:06:23.210Z"
   },
   {
    "duration": 109,
    "start_time": "2021-12-18T13:06:23.310Z"
   },
   {
    "duration": 16,
    "start_time": "2021-12-18T13:06:23.423Z"
   },
   {
    "duration": 49,
    "start_time": "2021-12-18T13:06:23.441Z"
   },
   {
    "duration": 28,
    "start_time": "2021-12-18T13:06:23.492Z"
   },
   {
    "duration": 35,
    "start_time": "2021-12-18T13:06:23.522Z"
   },
   {
    "duration": 31,
    "start_time": "2021-12-18T13:06:23.558Z"
   },
   {
    "duration": 15,
    "start_time": "2021-12-18T13:06:23.591Z"
   },
   {
    "duration": 61,
    "start_time": "2021-12-18T13:06:23.608Z"
   },
   {
    "duration": 38,
    "start_time": "2021-12-18T13:06:23.672Z"
   },
   {
    "duration": 13,
    "start_time": "2021-12-18T13:06:23.712Z"
   },
   {
    "duration": 789,
    "start_time": "2021-12-18T13:06:23.727Z"
   },
   {
    "duration": 5,
    "start_time": "2021-12-18T13:06:24.518Z"
   },
   {
    "duration": 25,
    "start_time": "2021-12-18T13:06:24.525Z"
   },
   {
    "duration": 29,
    "start_time": "2021-12-18T13:06:24.552Z"
   },
   {
    "duration": 47,
    "start_time": "2021-12-18T13:06:24.583Z"
   },
   {
    "duration": 13,
    "start_time": "2021-12-18T13:06:24.632Z"
   },
   {
    "duration": 51,
    "start_time": "2021-12-18T13:06:24.648Z"
   },
   {
    "duration": 9,
    "start_time": "2021-12-18T13:06:24.702Z"
   },
   {
    "duration": 32,
    "start_time": "2021-12-18T13:06:24.713Z"
   },
   {
    "duration": 17,
    "start_time": "2021-12-18T13:06:24.748Z"
   },
   {
    "duration": 485,
    "start_time": "2021-12-18T13:06:24.767Z"
   },
   {
    "duration": 10,
    "start_time": "2021-12-18T13:06:25.253Z"
   },
   {
    "duration": 14,
    "start_time": "2021-12-18T13:06:25.265Z"
   },
   {
    "duration": 24,
    "start_time": "2021-12-18T13:06:25.281Z"
   },
   {
    "duration": 42,
    "start_time": "2021-12-18T13:06:25.307Z"
   },
   {
    "duration": 53,
    "start_time": "2021-12-18T13:06:25.352Z"
   },
   {
    "duration": 21,
    "start_time": "2021-12-18T13:06:25.408Z"
   },
   {
    "duration": 62,
    "start_time": "2021-12-18T13:06:25.431Z"
   },
   {
    "duration": 11,
    "start_time": "2021-12-18T13:06:25.495Z"
   },
   {
    "duration": 54,
    "start_time": "2021-12-18T13:06:25.507Z"
   },
   {
    "duration": 19,
    "start_time": "2021-12-18T13:06:25.562Z"
   },
   {
    "duration": 50,
    "start_time": "2021-12-18T13:06:25.583Z"
   },
   {
    "duration": 3,
    "start_time": "2021-12-18T13:13:39.492Z"
   },
   {
    "duration": 52,
    "start_time": "2021-12-18T13:13:39.502Z"
   },
   {
    "duration": 11,
    "start_time": "2021-12-18T13:13:39.556Z"
   },
   {
    "duration": 5,
    "start_time": "2021-12-18T13:13:39.569Z"
   },
   {
    "duration": 13,
    "start_time": "2021-12-18T13:13:39.576Z"
   },
   {
    "duration": 31,
    "start_time": "2021-12-18T13:13:39.592Z"
   },
   {
    "duration": 44,
    "start_time": "2021-12-18T13:13:39.625Z"
   },
   {
    "duration": 5,
    "start_time": "2021-12-18T13:13:39.671Z"
   },
   {
    "duration": 14,
    "start_time": "2021-12-18T13:13:39.678Z"
   },
   {
    "duration": 4,
    "start_time": "2021-12-18T13:13:39.695Z"
   },
   {
    "duration": 64,
    "start_time": "2021-12-18T13:13:39.701Z"
   },
   {
    "duration": 24,
    "start_time": "2021-12-18T13:13:39.768Z"
   },
   {
    "duration": 21,
    "start_time": "2021-12-18T13:13:39.793Z"
   },
   {
    "duration": 47,
    "start_time": "2021-12-18T13:13:39.816Z"
   },
   {
    "duration": 21,
    "start_time": "2021-12-18T13:13:39.865Z"
   },
   {
    "duration": 20,
    "start_time": "2021-12-18T13:13:39.888Z"
   },
   {
    "duration": 20,
    "start_time": "2021-12-18T13:13:39.909Z"
   },
   {
    "duration": 72,
    "start_time": "2021-12-18T13:13:39.930Z"
   },
   {
    "duration": 19,
    "start_time": "2021-12-18T13:13:40.004Z"
   },
   {
    "duration": 8,
    "start_time": "2021-12-18T13:13:40.025Z"
   },
   {
    "duration": 36,
    "start_time": "2021-12-18T13:13:40.035Z"
   },
   {
    "duration": 28,
    "start_time": "2021-12-18T13:13:40.074Z"
   },
   {
    "duration": 10,
    "start_time": "2021-12-18T13:13:40.104Z"
   },
   {
    "duration": 53,
    "start_time": "2021-12-18T13:13:40.116Z"
   },
   {
    "duration": 4,
    "start_time": "2021-12-18T13:13:40.172Z"
   },
   {
    "duration": 16,
    "start_time": "2021-12-18T13:13:40.178Z"
   },
   {
    "duration": 23,
    "start_time": "2021-12-18T13:13:40.196Z"
   },
   {
    "duration": 8,
    "start_time": "2021-12-18T13:13:40.224Z"
   },
   {
    "duration": 6,
    "start_time": "2021-12-18T13:13:40.263Z"
   },
   {
    "duration": 17,
    "start_time": "2021-12-18T13:13:40.271Z"
   },
   {
    "duration": 10,
    "start_time": "2021-12-18T13:13:40.291Z"
   },
   {
    "duration": 8,
    "start_time": "2021-12-18T13:13:40.303Z"
   },
   {
    "duration": 8,
    "start_time": "2021-12-18T13:13:40.313Z"
   },
   {
    "duration": 46,
    "start_time": "2021-12-18T13:13:40.323Z"
   },
   {
    "duration": 6,
    "start_time": "2021-12-18T13:13:40.371Z"
   },
   {
    "duration": 14,
    "start_time": "2021-12-18T13:13:40.379Z"
   },
   {
    "duration": 13,
    "start_time": "2021-12-18T13:13:40.395Z"
   },
   {
    "duration": 7,
    "start_time": "2021-12-18T13:13:40.410Z"
   },
   {
    "duration": 44,
    "start_time": "2021-12-18T13:13:40.419Z"
   },
   {
    "duration": 5,
    "start_time": "2021-12-18T13:13:40.465Z"
   },
   {
    "duration": 10,
    "start_time": "2021-12-18T13:13:40.472Z"
   },
   {
    "duration": 43,
    "start_time": "2021-12-18T13:13:40.483Z"
   },
   {
    "duration": 6,
    "start_time": "2021-12-18T13:13:40.528Z"
   },
   {
    "duration": 32,
    "start_time": "2021-12-18T13:13:40.535Z"
   },
   {
    "duration": 7,
    "start_time": "2021-12-18T13:13:40.569Z"
   },
   {
    "duration": 22,
    "start_time": "2021-12-18T13:13:40.578Z"
   },
   {
    "duration": 5,
    "start_time": "2021-12-18T13:13:40.602Z"
   },
   {
    "duration": 32,
    "start_time": "2021-12-18T13:13:40.608Z"
   },
   {
    "duration": 22,
    "start_time": "2021-12-18T13:13:40.641Z"
   },
   {
    "duration": 15,
    "start_time": "2021-12-18T13:13:40.665Z"
   },
   {
    "duration": 31,
    "start_time": "2021-12-18T13:13:40.682Z"
   },
   {
    "duration": 49,
    "start_time": "2021-12-18T13:13:40.715Z"
   },
   {
    "duration": 20,
    "start_time": "2021-12-18T13:13:40.766Z"
   },
   {
    "duration": 24,
    "start_time": "2021-12-18T13:13:40.788Z"
   },
   {
    "duration": 22,
    "start_time": "2021-12-18T13:13:40.814Z"
   },
   {
    "duration": 83,
    "start_time": "2021-12-18T13:13:40.863Z"
   },
   {
    "duration": 6,
    "start_time": "2021-12-18T13:13:40.964Z"
   },
   {
    "duration": 76,
    "start_time": "2021-12-18T13:13:40.972Z"
   },
   {
    "duration": 75,
    "start_time": "2021-12-18T13:13:41.064Z"
   },
   {
    "duration": 23,
    "start_time": "2021-12-18T13:13:41.141Z"
   },
   {
    "duration": 27,
    "start_time": "2021-12-18T13:13:41.166Z"
   },
   {
    "duration": 4,
    "start_time": "2021-12-18T13:13:41.195Z"
   },
   {
    "duration": 16,
    "start_time": "2021-12-18T13:13:41.201Z"
   },
   {
    "duration": 17,
    "start_time": "2021-12-18T13:13:41.219Z"
   },
   {
    "duration": 7,
    "start_time": "2021-12-18T13:13:41.264Z"
   },
   {
    "duration": 39,
    "start_time": "2021-12-18T13:13:41.273Z"
   },
   {
    "duration": 28,
    "start_time": "2021-12-18T13:13:41.314Z"
   },
   {
    "duration": 12,
    "start_time": "2021-12-18T13:13:41.364Z"
   },
   {
    "duration": 687,
    "start_time": "2021-12-18T13:13:41.377Z"
   },
   {
    "duration": 4,
    "start_time": "2021-12-18T13:13:42.066Z"
   },
   {
    "duration": 27,
    "start_time": "2021-12-18T13:13:42.072Z"
   },
   {
    "duration": 17,
    "start_time": "2021-12-18T13:13:42.101Z"
   },
   {
    "duration": 32,
    "start_time": "2021-12-18T13:13:42.120Z"
   },
   {
    "duration": 21,
    "start_time": "2021-12-18T13:13:42.153Z"
   },
   {
    "duration": 36,
    "start_time": "2021-12-18T13:13:42.176Z"
   },
   {
    "duration": 8,
    "start_time": "2021-12-18T13:13:42.214Z"
   },
   {
    "duration": 11,
    "start_time": "2021-12-18T13:13:42.223Z"
   },
   {
    "duration": 32,
    "start_time": "2021-12-18T13:13:42.236Z"
   },
   {
    "duration": 331,
    "start_time": "2021-12-18T13:13:42.270Z"
   },
   {
    "duration": 6,
    "start_time": "2021-12-18T13:13:42.603Z"
   },
   {
    "duration": 3,
    "start_time": "2021-12-18T13:13:42.610Z"
   },
   {
    "duration": 4,
    "start_time": "2021-12-18T13:13:42.619Z"
   },
   {
    "duration": 14,
    "start_time": "2021-12-18T13:13:42.625Z"
   },
   {
    "duration": 48,
    "start_time": "2021-12-18T13:13:42.641Z"
   },
   {
    "duration": 17,
    "start_time": "2021-12-18T13:13:42.691Z"
   },
   {
    "duration": 22,
    "start_time": "2021-12-18T13:13:42.710Z"
   },
   {
    "duration": 35,
    "start_time": "2021-12-18T13:13:42.733Z"
   },
   {
    "duration": 26,
    "start_time": "2021-12-18T13:13:42.770Z"
   },
   {
    "duration": 13,
    "start_time": "2021-12-18T13:13:42.798Z"
   },
   {
    "duration": 56,
    "start_time": "2021-12-18T13:13:42.813Z"
   },
   {
    "duration": 4,
    "start_time": "2021-12-18T13:16:48.474Z"
   },
   {
    "duration": 58,
    "start_time": "2021-12-18T13:16:48.480Z"
   },
   {
    "duration": 23,
    "start_time": "2021-12-18T13:16:48.540Z"
   },
   {
    "duration": 4,
    "start_time": "2021-12-18T13:16:48.565Z"
   },
   {
    "duration": 12,
    "start_time": "2021-12-18T13:16:48.571Z"
   },
   {
    "duration": 38,
    "start_time": "2021-12-18T13:16:48.585Z"
   },
   {
    "duration": 40,
    "start_time": "2021-12-18T13:16:48.625Z"
   },
   {
    "duration": 4,
    "start_time": "2021-12-18T13:16:48.667Z"
   },
   {
    "duration": 12,
    "start_time": "2021-12-18T13:16:48.674Z"
   },
   {
    "duration": 4,
    "start_time": "2021-12-18T13:16:48.688Z"
   },
   {
    "duration": 29,
    "start_time": "2021-12-18T13:16:48.694Z"
   },
   {
    "duration": 52,
    "start_time": "2021-12-18T13:16:48.725Z"
   },
   {
    "duration": 24,
    "start_time": "2021-12-18T13:16:48.779Z"
   },
   {
    "duration": 22,
    "start_time": "2021-12-18T13:16:48.805Z"
   },
   {
    "duration": 47,
    "start_time": "2021-12-18T13:16:48.828Z"
   },
   {
    "duration": 22,
    "start_time": "2021-12-18T13:16:48.877Z"
   },
   {
    "duration": 18,
    "start_time": "2021-12-18T13:16:48.900Z"
   },
   {
    "duration": 75,
    "start_time": "2021-12-18T13:16:48.920Z"
   },
   {
    "duration": 21,
    "start_time": "2021-12-18T13:16:48.997Z"
   },
   {
    "duration": 8,
    "start_time": "2021-12-18T13:16:49.019Z"
   },
   {
    "duration": 40,
    "start_time": "2021-12-18T13:16:49.029Z"
   },
   {
    "duration": 42,
    "start_time": "2021-12-18T13:16:49.071Z"
   },
   {
    "duration": 12,
    "start_time": "2021-12-18T13:16:49.115Z"
   },
   {
    "duration": 45,
    "start_time": "2021-12-18T13:16:49.130Z"
   },
   {
    "duration": 4,
    "start_time": "2021-12-18T13:16:49.177Z"
   },
   {
    "duration": 17,
    "start_time": "2021-12-18T13:16:49.183Z"
   },
   {
    "duration": 24,
    "start_time": "2021-12-18T13:16:49.205Z"
   },
   {
    "duration": 38,
    "start_time": "2021-12-18T13:16:49.233Z"
   },
   {
    "duration": 14,
    "start_time": "2021-12-18T13:16:49.273Z"
   },
   {
    "duration": 18,
    "start_time": "2021-12-18T13:16:49.289Z"
   },
   {
    "duration": 19,
    "start_time": "2021-12-18T13:16:49.309Z"
   },
   {
    "duration": 11,
    "start_time": "2021-12-18T13:16:49.330Z"
   },
   {
    "duration": 27,
    "start_time": "2021-12-18T13:16:49.344Z"
   },
   {
    "duration": 10,
    "start_time": "2021-12-18T13:16:49.373Z"
   },
   {
    "duration": 8,
    "start_time": "2021-12-18T13:16:49.384Z"
   },
   {
    "duration": 16,
    "start_time": "2021-12-18T13:16:49.394Z"
   },
   {
    "duration": 13,
    "start_time": "2021-12-18T13:16:49.412Z"
   },
   {
    "duration": 7,
    "start_time": "2021-12-18T13:16:49.463Z"
   },
   {
    "duration": 7,
    "start_time": "2021-12-18T13:16:49.472Z"
   },
   {
    "duration": 6,
    "start_time": "2021-12-18T13:16:49.480Z"
   },
   {
    "duration": 15,
    "start_time": "2021-12-18T13:16:49.489Z"
   },
   {
    "duration": 75,
    "start_time": "2021-12-18T13:16:49.506Z"
   },
   {
    "duration": 5,
    "start_time": "2021-12-18T13:16:49.583Z"
   },
   {
    "duration": 14,
    "start_time": "2021-12-18T13:16:49.590Z"
   },
   {
    "duration": 5,
    "start_time": "2021-12-18T13:16:49.606Z"
   },
   {
    "duration": 50,
    "start_time": "2021-12-18T13:16:49.613Z"
   },
   {
    "duration": 7,
    "start_time": "2021-12-18T13:16:49.666Z"
   },
   {
    "duration": 37,
    "start_time": "2021-12-18T13:16:49.675Z"
   },
   {
    "duration": 5,
    "start_time": "2021-12-18T13:16:49.714Z"
   },
   {
    "duration": 46,
    "start_time": "2021-12-18T13:16:49.721Z"
   },
   {
    "duration": 33,
    "start_time": "2021-12-18T13:16:49.769Z"
   },
   {
    "duration": 18,
    "start_time": "2021-12-18T13:16:49.804Z"
   },
   {
    "duration": 47,
    "start_time": "2021-12-18T13:16:49.824Z"
   },
   {
    "duration": 26,
    "start_time": "2021-12-18T13:16:49.873Z"
   },
   {
    "duration": 24,
    "start_time": "2021-12-18T13:16:49.901Z"
   },
   {
    "duration": 153,
    "start_time": "2021-12-18T13:16:49.928Z"
   },
   {
    "duration": 6,
    "start_time": "2021-12-18T13:16:50.083Z"
   },
   {
    "duration": 99,
    "start_time": "2021-12-18T13:16:50.091Z"
   },
   {
    "duration": 92,
    "start_time": "2021-12-18T13:16:50.192Z"
   },
   {
    "duration": 10,
    "start_time": "2021-12-18T13:16:50.286Z"
   },
   {
    "duration": 27,
    "start_time": "2021-12-18T13:16:50.298Z"
   },
   {
    "duration": 5,
    "start_time": "2021-12-18T13:16:50.327Z"
   },
   {
    "duration": 42,
    "start_time": "2021-12-18T13:16:50.333Z"
   },
   {
    "duration": 20,
    "start_time": "2021-12-18T13:16:50.377Z"
   },
   {
    "duration": 7,
    "start_time": "2021-12-18T13:16:50.400Z"
   },
   {
    "duration": 65,
    "start_time": "2021-12-18T13:16:50.409Z"
   },
   {
    "duration": 30,
    "start_time": "2021-12-18T13:16:50.476Z"
   },
   {
    "duration": 14,
    "start_time": "2021-12-18T13:16:50.508Z"
   },
   {
    "duration": 1004,
    "start_time": "2021-12-18T13:16:50.524Z"
   },
   {
    "duration": 5,
    "start_time": "2021-12-18T13:16:51.530Z"
   },
   {
    "duration": 6,
    "start_time": "2021-12-18T13:16:51.537Z"
   },
   {
    "duration": 20,
    "start_time": "2021-12-18T13:16:51.545Z"
   },
   {
    "duration": 17,
    "start_time": "2021-12-18T13:16:51.567Z"
   },
   {
    "duration": 5,
    "start_time": "2021-12-18T13:16:51.586Z"
   },
   {
    "duration": 32,
    "start_time": "2021-12-18T13:16:51.593Z"
   },
   {
    "duration": 36,
    "start_time": "2021-12-18T13:16:51.627Z"
   },
   {
    "duration": 5,
    "start_time": "2021-12-18T13:16:51.665Z"
   },
   {
    "duration": 7,
    "start_time": "2021-12-18T13:16:51.672Z"
   },
   {
    "duration": 332,
    "start_time": "2021-12-18T13:16:51.681Z"
   },
   {
    "duration": 6,
    "start_time": "2021-12-18T13:16:52.015Z"
   },
   {
    "duration": 4,
    "start_time": "2021-12-18T13:16:52.026Z"
   },
   {
    "duration": 6,
    "start_time": "2021-12-18T13:16:52.032Z"
   },
   {
    "duration": 31,
    "start_time": "2021-12-18T13:16:52.040Z"
   },
   {
    "duration": 28,
    "start_time": "2021-12-18T13:16:52.073Z"
   },
   {
    "duration": 14,
    "start_time": "2021-12-18T13:16:52.103Z"
   },
   {
    "duration": 55,
    "start_time": "2021-12-18T13:16:52.119Z"
   },
   {
    "duration": 13,
    "start_time": "2021-12-18T13:16:52.176Z"
   },
   {
    "duration": 30,
    "start_time": "2021-12-18T13:16:52.191Z"
   },
   {
    "duration": 14,
    "start_time": "2021-12-18T13:16:52.222Z"
   },
   {
    "duration": 44,
    "start_time": "2021-12-18T13:16:52.238Z"
   },
   {
    "duration": 4,
    "start_time": "2021-12-18T13:20:48.447Z"
   },
   {
    "duration": 55,
    "start_time": "2021-12-18T13:20:48.457Z"
   },
   {
    "duration": 13,
    "start_time": "2021-12-18T13:20:48.514Z"
   },
   {
    "duration": 5,
    "start_time": "2021-12-18T13:20:48.529Z"
   },
   {
    "duration": 37,
    "start_time": "2021-12-18T13:20:48.536Z"
   },
   {
    "duration": 32,
    "start_time": "2021-12-18T13:20:48.575Z"
   },
   {
    "duration": 9,
    "start_time": "2021-12-18T13:20:48.609Z"
   },
   {
    "duration": 6,
    "start_time": "2021-12-18T13:20:48.620Z"
   },
   {
    "duration": 15,
    "start_time": "2021-12-18T13:20:48.664Z"
   },
   {
    "duration": 4,
    "start_time": "2021-12-18T13:20:48.683Z"
   },
   {
    "duration": 25,
    "start_time": "2021-12-18T13:20:48.690Z"
   },
   {
    "duration": 59,
    "start_time": "2021-12-18T13:20:48.716Z"
   },
   {
    "duration": 21,
    "start_time": "2021-12-18T13:20:48.777Z"
   },
   {
    "duration": 19,
    "start_time": "2021-12-18T13:20:48.800Z"
   },
   {
    "duration": 55,
    "start_time": "2021-12-18T13:20:48.821Z"
   },
   {
    "duration": 19,
    "start_time": "2021-12-18T13:20:48.878Z"
   },
   {
    "duration": 17,
    "start_time": "2021-12-18T13:20:48.899Z"
   },
   {
    "duration": 69,
    "start_time": "2021-12-18T13:20:48.918Z"
   },
   {
    "duration": 19,
    "start_time": "2021-12-18T13:20:48.988Z"
   },
   {
    "duration": 7,
    "start_time": "2021-12-18T13:20:49.009Z"
   },
   {
    "duration": 10,
    "start_time": "2021-12-18T13:20:49.018Z"
   },
   {
    "duration": 53,
    "start_time": "2021-12-18T13:20:49.030Z"
   },
   {
    "duration": 9,
    "start_time": "2021-12-18T13:20:49.084Z"
   },
   {
    "duration": 15,
    "start_time": "2021-12-18T13:20:49.096Z"
   },
   {
    "duration": 4,
    "start_time": "2021-12-18T13:20:49.113Z"
   },
   {
    "duration": 53,
    "start_time": "2021-12-18T13:20:49.119Z"
   },
   {
    "duration": 36,
    "start_time": "2021-12-18T13:20:49.174Z"
   },
   {
    "duration": 12,
    "start_time": "2021-12-18T13:20:49.216Z"
   },
   {
    "duration": 32,
    "start_time": "2021-12-18T13:20:49.232Z"
   },
   {
    "duration": 24,
    "start_time": "2021-12-18T13:20:49.267Z"
   },
   {
    "duration": 11,
    "start_time": "2021-12-18T13:20:49.294Z"
   },
   {
    "duration": 15,
    "start_time": "2021-12-18T13:20:49.307Z"
   },
   {
    "duration": 9,
    "start_time": "2021-12-18T13:20:49.324Z"
   },
   {
    "duration": 10,
    "start_time": "2021-12-18T13:20:49.364Z"
   },
   {
    "duration": 7,
    "start_time": "2021-12-18T13:20:49.376Z"
   },
   {
    "duration": 17,
    "start_time": "2021-12-18T13:20:49.385Z"
   },
   {
    "duration": 14,
    "start_time": "2021-12-18T13:20:49.403Z"
   },
   {
    "duration": 7,
    "start_time": "2021-12-18T13:20:49.419Z"
   },
   {
    "duration": 5,
    "start_time": "2021-12-18T13:20:49.463Z"
   },
   {
    "duration": 5,
    "start_time": "2021-12-18T13:20:49.470Z"
   },
   {
    "duration": 13,
    "start_time": "2021-12-18T13:20:49.477Z"
   },
   {
    "duration": 47,
    "start_time": "2021-12-18T13:20:49.492Z"
   },
   {
    "duration": 27,
    "start_time": "2021-12-18T13:20:49.541Z"
   },
   {
    "duration": 8,
    "start_time": "2021-12-18T13:20:49.570Z"
   },
   {
    "duration": 5,
    "start_time": "2021-12-18T13:20:49.579Z"
   },
   {
    "duration": 26,
    "start_time": "2021-12-18T13:20:49.586Z"
   },
   {
    "duration": 5,
    "start_time": "2021-12-18T13:20:49.614Z"
   },
   {
    "duration": 61,
    "start_time": "2021-12-18T13:20:49.621Z"
   },
   {
    "duration": 4,
    "start_time": "2021-12-18T13:20:49.684Z"
   },
   {
    "duration": 17,
    "start_time": "2021-12-18T13:20:49.689Z"
   },
   {
    "duration": 31,
    "start_time": "2021-12-18T13:20:49.708Z"
   },
   {
    "duration": 42,
    "start_time": "2021-12-18T13:20:49.741Z"
   },
   {
    "duration": 21,
    "start_time": "2021-12-18T13:20:49.784Z"
   },
   {
    "duration": 25,
    "start_time": "2021-12-18T13:20:49.807Z"
   },
   {
    "duration": 22,
    "start_time": "2021-12-18T13:20:49.864Z"
   },
   {
    "duration": 105,
    "start_time": "2021-12-18T13:20:49.888Z"
   },
   {
    "duration": 10,
    "start_time": "2021-12-18T13:20:49.994Z"
   },
   {
    "duration": 104,
    "start_time": "2021-12-18T13:20:50.005Z"
   },
   {
    "duration": 86,
    "start_time": "2021-12-18T13:20:50.111Z"
   },
   {
    "duration": 11,
    "start_time": "2021-12-18T13:20:50.198Z"
   },
   {
    "duration": 26,
    "start_time": "2021-12-18T13:20:50.211Z"
   },
   {
    "duration": 27,
    "start_time": "2021-12-18T13:20:50.238Z"
   },
   {
    "duration": 17,
    "start_time": "2021-12-18T13:20:50.266Z"
   },
   {
    "duration": 17,
    "start_time": "2021-12-18T13:20:50.285Z"
   },
   {
    "duration": 6,
    "start_time": "2021-12-18T13:20:50.304Z"
   },
   {
    "duration": 65,
    "start_time": "2021-12-18T13:20:50.312Z"
   },
   {
    "duration": 28,
    "start_time": "2021-12-18T13:20:50.378Z"
   },
   {
    "duration": 12,
    "start_time": "2021-12-18T13:20:50.407Z"
   },
   {
    "duration": 1093,
    "start_time": "2021-12-18T13:20:50.420Z"
   },
   {
    "duration": 5,
    "start_time": "2021-12-18T13:20:51.516Z"
   },
   {
    "duration": 5,
    "start_time": "2021-12-18T13:20:51.523Z"
   },
   {
    "duration": 5,
    "start_time": "2021-12-18T13:20:51.530Z"
   },
   {
    "duration": 35,
    "start_time": "2021-12-18T13:20:51.536Z"
   },
   {
    "duration": 7,
    "start_time": "2021-12-18T13:20:51.572Z"
   },
   {
    "duration": 32,
    "start_time": "2021-12-18T13:20:51.581Z"
   },
   {
    "duration": 10,
    "start_time": "2021-12-18T13:20:51.615Z"
   },
   {
    "duration": 39,
    "start_time": "2021-12-18T13:20:51.627Z"
   },
   {
    "duration": 5,
    "start_time": "2021-12-18T13:20:51.667Z"
   },
   {
    "duration": 318,
    "start_time": "2021-12-18T13:20:51.674Z"
   },
   {
    "duration": 5,
    "start_time": "2021-12-18T13:20:51.994Z"
   },
   {
    "duration": 3,
    "start_time": "2021-12-18T13:20:52.001Z"
   },
   {
    "duration": 4,
    "start_time": "2021-12-18T13:20:52.010Z"
   },
   {
    "duration": 15,
    "start_time": "2021-12-18T13:20:52.016Z"
   },
   {
    "duration": 54,
    "start_time": "2021-12-18T13:20:52.033Z"
   },
   {
    "duration": 16,
    "start_time": "2021-12-18T13:20:52.088Z"
   },
   {
    "duration": 27,
    "start_time": "2021-12-18T13:20:52.105Z"
   },
   {
    "duration": 34,
    "start_time": "2021-12-18T13:20:52.133Z"
   },
   {
    "duration": 28,
    "start_time": "2021-12-18T13:20:52.169Z"
   },
   {
    "duration": 12,
    "start_time": "2021-12-18T13:20:52.199Z"
   },
   {
    "duration": 26,
    "start_time": "2021-12-18T13:20:52.213Z"
   },
   {
    "duration": 4,
    "start_time": "2021-12-18T13:24:33.009Z"
   },
   {
    "duration": 56,
    "start_time": "2021-12-18T13:24:33.015Z"
   },
   {
    "duration": 14,
    "start_time": "2021-12-18T13:24:33.074Z"
   },
   {
    "duration": 8,
    "start_time": "2021-12-18T13:24:33.091Z"
   },
   {
    "duration": 14,
    "start_time": "2021-12-18T13:24:33.101Z"
   },
   {
    "duration": 64,
    "start_time": "2021-12-18T13:24:33.117Z"
   },
   {
    "duration": 10,
    "start_time": "2021-12-18T13:24:33.182Z"
   },
   {
    "duration": 4,
    "start_time": "2021-12-18T13:24:33.195Z"
   },
   {
    "duration": 12,
    "start_time": "2021-12-18T13:24:33.201Z"
   },
   {
    "duration": 5,
    "start_time": "2021-12-18T13:24:33.214Z"
   },
   {
    "duration": 71,
    "start_time": "2021-12-18T13:24:33.221Z"
   },
   {
    "duration": 33,
    "start_time": "2021-12-18T13:24:33.294Z"
   },
   {
    "duration": 49,
    "start_time": "2021-12-18T13:24:33.329Z"
   },
   {
    "duration": 31,
    "start_time": "2021-12-18T13:24:33.380Z"
   },
   {
    "duration": 23,
    "start_time": "2021-12-18T13:24:33.413Z"
   },
   {
    "duration": 45,
    "start_time": "2021-12-18T13:24:33.438Z"
   },
   {
    "duration": 22,
    "start_time": "2021-12-18T13:24:33.485Z"
   },
   {
    "duration": 60,
    "start_time": "2021-12-18T13:24:33.510Z"
   },
   {
    "duration": 19,
    "start_time": "2021-12-18T13:24:33.572Z"
   },
   {
    "duration": 9,
    "start_time": "2021-12-18T13:24:33.593Z"
   },
   {
    "duration": 9,
    "start_time": "2021-12-18T13:24:33.603Z"
   },
   {
    "duration": 60,
    "start_time": "2021-12-18T13:24:33.614Z"
   },
   {
    "duration": 10,
    "start_time": "2021-12-18T13:24:33.678Z"
   },
   {
    "duration": 14,
    "start_time": "2021-12-18T13:24:33.691Z"
   },
   {
    "duration": 3,
    "start_time": "2021-12-18T13:24:33.707Z"
   },
   {
    "duration": 15,
    "start_time": "2021-12-18T13:24:33.712Z"
   },
   {
    "duration": 57,
    "start_time": "2021-12-18T13:24:33.729Z"
   },
   {
    "duration": 9,
    "start_time": "2021-12-18T13:24:33.787Z"
   },
   {
    "duration": 7,
    "start_time": "2021-12-18T13:24:33.798Z"
   },
   {
    "duration": 17,
    "start_time": "2021-12-18T13:24:33.807Z"
   },
   {
    "duration": 45,
    "start_time": "2021-12-18T13:24:33.826Z"
   },
   {
    "duration": 6,
    "start_time": "2021-12-18T13:24:33.873Z"
   },
   {
    "duration": 8,
    "start_time": "2021-12-18T13:24:33.881Z"
   },
   {
    "duration": 7,
    "start_time": "2021-12-18T13:24:33.891Z"
   },
   {
    "duration": 6,
    "start_time": "2021-12-18T13:24:33.900Z"
   },
   {
    "duration": 17,
    "start_time": "2021-12-18T13:24:33.908Z"
   },
   {
    "duration": 42,
    "start_time": "2021-12-18T13:24:33.927Z"
   },
   {
    "duration": 7,
    "start_time": "2021-12-18T13:24:33.971Z"
   },
   {
    "duration": 12,
    "start_time": "2021-12-18T13:24:33.979Z"
   },
   {
    "duration": 14,
    "start_time": "2021-12-18T13:24:33.993Z"
   },
   {
    "duration": 14,
    "start_time": "2021-12-18T13:24:34.009Z"
   },
   {
    "duration": 66,
    "start_time": "2021-12-18T13:24:34.025Z"
   },
   {
    "duration": 5,
    "start_time": "2021-12-18T13:24:34.093Z"
   },
   {
    "duration": 8,
    "start_time": "2021-12-18T13:24:34.100Z"
   },
   {
    "duration": 5,
    "start_time": "2021-12-18T13:24:34.110Z"
   },
   {
    "duration": 54,
    "start_time": "2021-12-18T13:24:34.116Z"
   },
   {
    "duration": 7,
    "start_time": "2021-12-18T13:24:34.172Z"
   },
   {
    "duration": 31,
    "start_time": "2021-12-18T13:24:34.181Z"
   },
   {
    "duration": 5,
    "start_time": "2021-12-18T13:24:34.214Z"
   },
   {
    "duration": 16,
    "start_time": "2021-12-18T13:24:34.220Z"
   },
   {
    "duration": 52,
    "start_time": "2021-12-18T13:24:34.238Z"
   },
   {
    "duration": 16,
    "start_time": "2021-12-18T13:24:34.291Z"
   },
   {
    "duration": 19,
    "start_time": "2021-12-18T13:24:34.309Z"
   },
   {
    "duration": 54,
    "start_time": "2021-12-18T13:24:34.330Z"
   },
   {
    "duration": 21,
    "start_time": "2021-12-18T13:24:34.385Z"
   },
   {
    "duration": 99,
    "start_time": "2021-12-18T13:24:34.408Z"
   },
   {
    "duration": 9,
    "start_time": "2021-12-18T13:24:34.508Z"
   },
   {
    "duration": 96,
    "start_time": "2021-12-18T13:24:34.519Z"
   },
   {
    "duration": 85,
    "start_time": "2021-12-18T13:24:34.617Z"
   },
   {
    "duration": 9,
    "start_time": "2021-12-18T13:24:34.704Z"
   },
   {
    "duration": 24,
    "start_time": "2021-12-18T13:24:34.715Z"
   },
   {
    "duration": 23,
    "start_time": "2021-12-18T13:24:34.741Z"
   },
   {
    "duration": 16,
    "start_time": "2021-12-18T13:24:34.766Z"
   },
   {
    "duration": 17,
    "start_time": "2021-12-18T13:24:34.784Z"
   },
   {
    "duration": 6,
    "start_time": "2021-12-18T13:24:34.802Z"
   },
   {
    "duration": 60,
    "start_time": "2021-12-18T13:24:34.810Z"
   },
   {
    "duration": 28,
    "start_time": "2021-12-18T13:24:34.872Z"
   },
   {
    "duration": 11,
    "start_time": "2021-12-18T13:24:34.905Z"
   },
   {
    "duration": 702,
    "start_time": "2021-12-18T13:24:34.918Z"
   },
   {
    "duration": 5,
    "start_time": "2021-12-18T13:24:35.622Z"
   },
   {
    "duration": 12,
    "start_time": "2021-12-18T13:24:35.628Z"
   },
   {
    "duration": 10,
    "start_time": "2021-12-18T13:24:35.641Z"
   },
   {
    "duration": 15,
    "start_time": "2021-12-18T13:24:35.653Z"
   },
   {
    "duration": 12,
    "start_time": "2021-12-18T13:24:35.670Z"
   },
   {
    "duration": 30,
    "start_time": "2021-12-18T13:24:35.684Z"
   },
   {
    "duration": 8,
    "start_time": "2021-12-18T13:24:35.716Z"
   },
   {
    "duration": 4,
    "start_time": "2021-12-18T13:24:35.725Z"
   },
   {
    "duration": 8,
    "start_time": "2021-12-18T13:24:35.731Z"
   },
   {
    "duration": 312,
    "start_time": "2021-12-18T13:24:35.764Z"
   },
   {
    "duration": 6,
    "start_time": "2021-12-18T13:24:36.078Z"
   },
   {
    "duration": 11,
    "start_time": "2021-12-18T13:24:36.086Z"
   },
   {
    "duration": 4,
    "start_time": "2021-12-18T13:24:36.099Z"
   },
   {
    "duration": 17,
    "start_time": "2021-12-18T13:24:36.105Z"
   },
   {
    "duration": 49,
    "start_time": "2021-12-18T13:24:36.124Z"
   },
   {
    "duration": 13,
    "start_time": "2021-12-18T13:24:36.175Z"
   },
   {
    "duration": 25,
    "start_time": "2021-12-18T13:24:36.190Z"
   },
   {
    "duration": 11,
    "start_time": "2021-12-18T13:24:36.217Z"
   },
   {
    "duration": 48,
    "start_time": "2021-12-18T13:24:36.230Z"
   },
   {
    "duration": 11,
    "start_time": "2021-12-18T13:24:36.280Z"
   },
   {
    "duration": 23,
    "start_time": "2021-12-18T13:24:36.292Z"
   },
   {
    "duration": 4,
    "start_time": "2021-12-18T13:27:00.849Z"
   },
   {
    "duration": 98,
    "start_time": "2021-12-18T13:27:00.855Z"
   },
   {
    "duration": 19,
    "start_time": "2021-12-18T13:27:00.957Z"
   },
   {
    "duration": 26,
    "start_time": "2021-12-18T13:27:00.979Z"
   },
   {
    "duration": 29,
    "start_time": "2021-12-18T13:27:01.007Z"
   },
   {
    "duration": 42,
    "start_time": "2021-12-18T13:27:01.038Z"
   },
   {
    "duration": 10,
    "start_time": "2021-12-18T13:27:01.082Z"
   },
   {
    "duration": 5,
    "start_time": "2021-12-18T13:27:01.093Z"
   },
   {
    "duration": 34,
    "start_time": "2021-12-18T13:27:01.101Z"
   },
   {
    "duration": 4,
    "start_time": "2021-12-18T13:27:01.137Z"
   },
   {
    "duration": 36,
    "start_time": "2021-12-18T13:27:01.142Z"
   },
   {
    "duration": 22,
    "start_time": "2021-12-18T13:27:01.180Z"
   },
   {
    "duration": 21,
    "start_time": "2021-12-18T13:27:01.204Z"
   },
   {
    "duration": 42,
    "start_time": "2021-12-18T13:27:01.227Z"
   },
   {
    "duration": 22,
    "start_time": "2021-12-18T13:27:01.270Z"
   },
   {
    "duration": 21,
    "start_time": "2021-12-18T13:27:01.294Z"
   },
   {
    "duration": 49,
    "start_time": "2021-12-18T13:27:01.316Z"
   },
   {
    "duration": 44,
    "start_time": "2021-12-18T13:27:01.367Z"
   },
   {
    "duration": 22,
    "start_time": "2021-12-18T13:27:01.413Z"
   },
   {
    "duration": 34,
    "start_time": "2021-12-18T13:27:01.437Z"
   },
   {
    "duration": 11,
    "start_time": "2021-12-18T13:27:01.473Z"
   },
   {
    "duration": 69,
    "start_time": "2021-12-18T13:27:01.486Z"
   },
   {
    "duration": 9,
    "start_time": "2021-12-18T13:27:01.557Z"
   },
   {
    "duration": 30,
    "start_time": "2021-12-18T13:27:01.568Z"
   },
   {
    "duration": 22,
    "start_time": "2021-12-18T13:27:01.600Z"
   },
   {
    "duration": 87,
    "start_time": "2021-12-18T13:27:01.624Z"
   },
   {
    "duration": 50,
    "start_time": "2021-12-18T13:27:01.717Z"
   },
   {
    "duration": 11,
    "start_time": "2021-12-18T13:27:01.771Z"
   },
   {
    "duration": 16,
    "start_time": "2021-12-18T13:27:01.784Z"
   },
   {
    "duration": 29,
    "start_time": "2021-12-18T13:27:01.802Z"
   },
   {
    "duration": 28,
    "start_time": "2021-12-18T13:27:01.833Z"
   },
   {
    "duration": 16,
    "start_time": "2021-12-18T13:27:01.862Z"
   },
   {
    "duration": 15,
    "start_time": "2021-12-18T13:27:01.881Z"
   },
   {
    "duration": 15,
    "start_time": "2021-12-18T13:27:01.899Z"
   },
   {
    "duration": 19,
    "start_time": "2021-12-18T13:27:01.917Z"
   },
   {
    "duration": 15,
    "start_time": "2021-12-18T13:27:01.938Z"
   },
   {
    "duration": 26,
    "start_time": "2021-12-18T13:27:01.955Z"
   },
   {
    "duration": 9,
    "start_time": "2021-12-18T13:27:01.983Z"
   },
   {
    "duration": 27,
    "start_time": "2021-12-18T13:27:01.994Z"
   },
   {
    "duration": 29,
    "start_time": "2021-12-18T13:27:02.023Z"
   },
   {
    "duration": 24,
    "start_time": "2021-12-18T13:27:02.054Z"
   },
   {
    "duration": 73,
    "start_time": "2021-12-18T13:27:02.080Z"
   },
   {
    "duration": 6,
    "start_time": "2021-12-18T13:27:02.155Z"
   },
   {
    "duration": 27,
    "start_time": "2021-12-18T13:27:02.163Z"
   },
   {
    "duration": 29,
    "start_time": "2021-12-18T13:27:02.192Z"
   },
   {
    "duration": 36,
    "start_time": "2021-12-18T13:27:02.223Z"
   },
   {
    "duration": 24,
    "start_time": "2021-12-18T13:27:02.261Z"
   },
   {
    "duration": 45,
    "start_time": "2021-12-18T13:27:02.287Z"
   },
   {
    "duration": 5,
    "start_time": "2021-12-18T13:27:02.334Z"
   },
   {
    "duration": 29,
    "start_time": "2021-12-18T13:27:02.340Z"
   },
   {
    "duration": 47,
    "start_time": "2021-12-18T13:27:02.371Z"
   },
   {
    "duration": 16,
    "start_time": "2021-12-18T13:27:02.420Z"
   },
   {
    "duration": 30,
    "start_time": "2021-12-18T13:27:02.438Z"
   },
   {
    "duration": 25,
    "start_time": "2021-12-18T13:27:02.470Z"
   },
   {
    "duration": 34,
    "start_time": "2021-12-18T13:27:02.497Z"
   },
   {
    "duration": 195,
    "start_time": "2021-12-18T13:27:02.533Z"
   },
   {
    "duration": 32,
    "start_time": "2021-12-18T13:27:02.730Z"
   },
   {
    "duration": 80,
    "start_time": "2021-12-18T13:27:02.763Z"
   },
   {
    "duration": 104,
    "start_time": "2021-12-18T13:27:02.845Z"
   },
   {
    "duration": 10,
    "start_time": "2021-12-18T13:27:02.950Z"
   },
   {
    "duration": 28,
    "start_time": "2021-12-18T13:27:02.962Z"
   },
   {
    "duration": 5,
    "start_time": "2021-12-18T13:27:02.992Z"
   },
   {
    "duration": 16,
    "start_time": "2021-12-18T13:27:02.998Z"
   },
   {
    "duration": 17,
    "start_time": "2021-12-18T13:27:03.016Z"
   },
   {
    "duration": 7,
    "start_time": "2021-12-18T13:27:03.063Z"
   },
   {
    "duration": 41,
    "start_time": "2021-12-18T13:27:03.072Z"
   },
   {
    "duration": 48,
    "start_time": "2021-12-18T13:27:03.115Z"
   },
   {
    "duration": 13,
    "start_time": "2021-12-18T13:27:03.165Z"
   },
   {
    "duration": 772,
    "start_time": "2021-12-18T13:27:03.180Z"
   },
   {
    "duration": 11,
    "start_time": "2021-12-18T13:27:03.954Z"
   },
   {
    "duration": 5,
    "start_time": "2021-12-18T13:27:03.967Z"
   },
   {
    "duration": 11,
    "start_time": "2021-12-18T13:27:03.974Z"
   },
   {
    "duration": 19,
    "start_time": "2021-12-18T13:27:03.987Z"
   },
   {
    "duration": 8,
    "start_time": "2021-12-18T13:27:04.008Z"
   },
   {
    "duration": 47,
    "start_time": "2021-12-18T13:27:04.018Z"
   },
   {
    "duration": 9,
    "start_time": "2021-12-18T13:27:04.067Z"
   },
   {
    "duration": 4,
    "start_time": "2021-12-18T13:27:04.077Z"
   },
   {
    "duration": 5,
    "start_time": "2021-12-18T13:27:04.083Z"
   },
   {
    "duration": 346,
    "start_time": "2021-12-18T13:27:04.090Z"
   },
   {
    "duration": 5,
    "start_time": "2021-12-18T13:27:04.438Z"
   },
   {
    "duration": 3,
    "start_time": "2021-12-18T13:27:04.450Z"
   },
   {
    "duration": 4,
    "start_time": "2021-12-18T13:27:04.463Z"
   },
   {
    "duration": 17,
    "start_time": "2021-12-18T13:27:04.469Z"
   },
   {
    "duration": 29,
    "start_time": "2021-12-18T13:27:04.488Z"
   },
   {
    "duration": 16,
    "start_time": "2021-12-18T13:27:04.519Z"
   },
   {
    "duration": 60,
    "start_time": "2021-12-18T13:27:04.537Z"
   },
   {
    "duration": 19,
    "start_time": "2021-12-18T13:27:04.599Z"
   },
   {
    "duration": 53,
    "start_time": "2021-12-18T13:27:04.620Z"
   },
   {
    "duration": 17,
    "start_time": "2021-12-18T13:27:04.675Z"
   },
   {
    "duration": 42,
    "start_time": "2021-12-18T13:27:04.694Z"
   },
   {
    "duration": 3,
    "start_time": "2021-12-18T13:29:01.079Z"
   },
   {
    "duration": 59,
    "start_time": "2021-12-18T13:29:01.087Z"
   },
   {
    "duration": 14,
    "start_time": "2021-12-18T13:29:01.148Z"
   },
   {
    "duration": 11,
    "start_time": "2021-12-18T13:29:01.165Z"
   },
   {
    "duration": 23,
    "start_time": "2021-12-18T13:29:01.178Z"
   },
   {
    "duration": 62,
    "start_time": "2021-12-18T13:29:01.202Z"
   },
   {
    "duration": 11,
    "start_time": "2021-12-18T13:29:01.265Z"
   },
   {
    "duration": 16,
    "start_time": "2021-12-18T13:29:01.277Z"
   },
   {
    "duration": 19,
    "start_time": "2021-12-18T13:29:01.295Z"
   },
   {
    "duration": 4,
    "start_time": "2021-12-18T13:29:01.317Z"
   },
   {
    "duration": 53,
    "start_time": "2021-12-18T13:29:01.323Z"
   },
   {
    "duration": 32,
    "start_time": "2021-12-18T13:29:01.379Z"
   },
   {
    "duration": 29,
    "start_time": "2021-12-18T13:29:01.414Z"
   },
   {
    "duration": 30,
    "start_time": "2021-12-18T13:29:01.464Z"
   },
   {
    "duration": 32,
    "start_time": "2021-12-18T13:29:01.496Z"
   },
   {
    "duration": 55,
    "start_time": "2021-12-18T13:29:01.530Z"
   },
   {
    "duration": 21,
    "start_time": "2021-12-18T13:29:01.587Z"
   },
   {
    "duration": 88,
    "start_time": "2021-12-18T13:29:01.610Z"
   },
   {
    "duration": 28,
    "start_time": "2021-12-18T13:29:01.700Z"
   },
   {
    "duration": 11,
    "start_time": "2021-12-18T13:29:01.730Z"
   },
   {
    "duration": 45,
    "start_time": "2021-12-18T13:29:01.743Z"
   },
   {
    "duration": 58,
    "start_time": "2021-12-18T13:29:01.791Z"
   },
   {
    "duration": 11,
    "start_time": "2021-12-18T13:29:01.851Z"
   },
   {
    "duration": 41,
    "start_time": "2021-12-18T13:29:01.864Z"
   },
   {
    "duration": 38,
    "start_time": "2021-12-18T13:29:01.907Z"
   },
   {
    "duration": 94,
    "start_time": "2021-12-18T13:29:01.947Z"
   },
   {
    "duration": 24,
    "start_time": "2021-12-18T13:29:02.044Z"
   },
   {
    "duration": 12,
    "start_time": "2021-12-18T13:29:02.072Z"
   },
   {
    "duration": 14,
    "start_time": "2021-12-18T13:29:02.087Z"
   },
   {
    "duration": 27,
    "start_time": "2021-12-18T13:29:02.103Z"
   },
   {
    "duration": 51,
    "start_time": "2021-12-18T13:29:02.132Z"
   },
   {
    "duration": 19,
    "start_time": "2021-12-18T13:29:02.185Z"
   },
   {
    "duration": 11,
    "start_time": "2021-12-18T13:29:02.206Z"
   },
   {
    "duration": 16,
    "start_time": "2021-12-18T13:29:02.219Z"
   },
   {
    "duration": 16,
    "start_time": "2021-12-18T13:29:02.237Z"
   },
   {
    "duration": 18,
    "start_time": "2021-12-18T13:29:02.257Z"
   },
   {
    "duration": 27,
    "start_time": "2021-12-18T13:29:02.277Z"
   },
   {
    "duration": 15,
    "start_time": "2021-12-18T13:29:02.306Z"
   },
   {
    "duration": 6,
    "start_time": "2021-12-18T13:29:02.323Z"
   },
   {
    "duration": 5,
    "start_time": "2021-12-18T13:29:02.331Z"
   },
   {
    "duration": 26,
    "start_time": "2021-12-18T13:29:02.337Z"
   },
   {
    "duration": 52,
    "start_time": "2021-12-18T13:29:02.365Z"
   },
   {
    "duration": 6,
    "start_time": "2021-12-18T13:29:02.419Z"
   },
   {
    "duration": 10,
    "start_time": "2021-12-18T13:29:02.427Z"
   },
   {
    "duration": 27,
    "start_time": "2021-12-18T13:29:02.439Z"
   },
   {
    "duration": 25,
    "start_time": "2021-12-18T13:29:02.468Z"
   },
   {
    "duration": 6,
    "start_time": "2021-12-18T13:29:02.495Z"
   },
   {
    "duration": 37,
    "start_time": "2021-12-18T13:29:02.503Z"
   },
   {
    "duration": 4,
    "start_time": "2021-12-18T13:29:02.542Z"
   },
   {
    "duration": 16,
    "start_time": "2021-12-18T13:29:02.564Z"
   },
   {
    "duration": 35,
    "start_time": "2021-12-18T13:29:02.582Z"
   },
   {
    "duration": 18,
    "start_time": "2021-12-18T13:29:02.618Z"
   },
   {
    "duration": 24,
    "start_time": "2021-12-18T13:29:02.664Z"
   },
   {
    "duration": 32,
    "start_time": "2021-12-18T13:29:02.689Z"
   },
   {
    "duration": 49,
    "start_time": "2021-12-18T13:29:02.723Z"
   },
   {
    "duration": 97,
    "start_time": "2021-12-18T13:29:02.775Z"
   },
   {
    "duration": 21,
    "start_time": "2021-12-18T13:29:02.874Z"
   },
   {
    "duration": 93,
    "start_time": "2021-12-18T13:29:02.897Z"
   },
   {
    "duration": 95,
    "start_time": "2021-12-18T13:29:02.991Z"
   },
   {
    "duration": 10,
    "start_time": "2021-12-18T13:29:03.088Z"
   },
   {
    "duration": 26,
    "start_time": "2021-12-18T13:29:03.100Z"
   },
   {
    "duration": 5,
    "start_time": "2021-12-18T13:29:03.129Z"
   },
   {
    "duration": 15,
    "start_time": "2021-12-18T13:29:03.164Z"
   },
   {
    "duration": 17,
    "start_time": "2021-12-18T13:29:03.180Z"
   },
   {
    "duration": 6,
    "start_time": "2021-12-18T13:29:03.199Z"
   },
   {
    "duration": 64,
    "start_time": "2021-12-18T13:29:03.207Z"
   },
   {
    "duration": 29,
    "start_time": "2021-12-18T13:29:03.273Z"
   },
   {
    "duration": 13,
    "start_time": "2021-12-18T13:29:03.304Z"
   },
   {
    "duration": 1007,
    "start_time": "2021-12-18T13:29:03.319Z"
   },
   {
    "duration": 4,
    "start_time": "2021-12-18T13:29:04.328Z"
   },
   {
    "duration": 6,
    "start_time": "2021-12-18T13:29:04.334Z"
   },
   {
    "duration": 21,
    "start_time": "2021-12-18T13:29:04.341Z"
   },
   {
    "duration": 19,
    "start_time": "2021-12-18T13:29:04.364Z"
   },
   {
    "duration": 5,
    "start_time": "2021-12-18T13:29:04.385Z"
   },
   {
    "duration": 32,
    "start_time": "2021-12-18T13:29:04.392Z"
   },
   {
    "duration": 9,
    "start_time": "2021-12-18T13:29:04.426Z"
   },
   {
    "duration": 5,
    "start_time": "2021-12-18T13:29:04.464Z"
   },
   {
    "duration": 5,
    "start_time": "2021-12-18T13:29:04.472Z"
   },
   {
    "duration": 345,
    "start_time": "2021-12-18T13:29:04.479Z"
   },
   {
    "duration": 6,
    "start_time": "2021-12-18T13:29:04.826Z"
   },
   {
    "duration": 28,
    "start_time": "2021-12-18T13:29:04.834Z"
   },
   {
    "duration": 4,
    "start_time": "2021-12-18T13:29:04.869Z"
   },
   {
    "duration": 18,
    "start_time": "2021-12-18T13:29:04.875Z"
   },
   {
    "duration": 31,
    "start_time": "2021-12-18T13:29:04.895Z"
   },
   {
    "duration": 36,
    "start_time": "2021-12-18T13:29:04.928Z"
   },
   {
    "duration": 36,
    "start_time": "2021-12-18T13:29:04.967Z"
   },
   {
    "duration": 19,
    "start_time": "2021-12-18T13:29:05.006Z"
   },
   {
    "duration": 53,
    "start_time": "2021-12-18T13:29:05.027Z"
   },
   {
    "duration": 16,
    "start_time": "2021-12-18T13:29:05.082Z"
   },
   {
    "duration": 27,
    "start_time": "2021-12-18T13:29:05.100Z"
   },
   {
    "duration": 3,
    "start_time": "2021-12-18T13:30:48.415Z"
   },
   {
    "duration": 66,
    "start_time": "2021-12-18T13:30:48.420Z"
   },
   {
    "duration": 15,
    "start_time": "2021-12-18T13:30:48.489Z"
   },
   {
    "duration": 12,
    "start_time": "2021-12-18T13:30:48.507Z"
   },
   {
    "duration": 42,
    "start_time": "2021-12-18T13:30:48.521Z"
   },
   {
    "duration": 31,
    "start_time": "2021-12-18T13:30:48.565Z"
   },
   {
    "duration": 10,
    "start_time": "2021-12-18T13:30:48.598Z"
   },
   {
    "duration": 4,
    "start_time": "2021-12-18T13:30:48.610Z"
   },
   {
    "duration": 54,
    "start_time": "2021-12-18T13:30:48.616Z"
   },
   {
    "duration": 4,
    "start_time": "2021-12-18T13:30:48.672Z"
   },
   {
    "duration": 26,
    "start_time": "2021-12-18T13:30:48.678Z"
   },
   {
    "duration": 20,
    "start_time": "2021-12-18T13:30:48.706Z"
   },
   {
    "duration": 43,
    "start_time": "2021-12-18T13:30:48.728Z"
   },
   {
    "duration": 21,
    "start_time": "2021-12-18T13:30:48.773Z"
   },
   {
    "duration": 21,
    "start_time": "2021-12-18T13:30:48.796Z"
   },
   {
    "duration": 18,
    "start_time": "2021-12-18T13:30:48.819Z"
   },
   {
    "duration": 39,
    "start_time": "2021-12-18T13:30:48.839Z"
   },
   {
    "duration": 40,
    "start_time": "2021-12-18T13:30:48.880Z"
   },
   {
    "duration": 48,
    "start_time": "2021-12-18T13:30:48.922Z"
   },
   {
    "duration": 8,
    "start_time": "2021-12-18T13:30:48.972Z"
   },
   {
    "duration": 9,
    "start_time": "2021-12-18T13:30:48.982Z"
   },
   {
    "duration": 26,
    "start_time": "2021-12-18T13:30:48.992Z"
   },
   {
    "duration": 41,
    "start_time": "2021-12-18T13:30:49.022Z"
   },
   {
    "duration": 13,
    "start_time": "2021-12-18T13:30:49.066Z"
   },
   {
    "duration": 4,
    "start_time": "2021-12-18T13:30:49.080Z"
   },
   {
    "duration": 17,
    "start_time": "2021-12-18T13:30:49.086Z"
   },
   {
    "duration": 23,
    "start_time": "2021-12-18T13:30:49.104Z"
   },
   {
    "duration": 36,
    "start_time": "2021-12-18T13:30:49.129Z"
   },
   {
    "duration": 8,
    "start_time": "2021-12-18T13:30:49.166Z"
   },
   {
    "duration": 17,
    "start_time": "2021-12-18T13:30:49.175Z"
   },
   {
    "duration": 8,
    "start_time": "2021-12-18T13:30:49.194Z"
   },
   {
    "duration": 6,
    "start_time": "2021-12-18T13:30:49.204Z"
   },
   {
    "duration": 10,
    "start_time": "2021-12-18T13:30:49.212Z"
   },
   {
    "duration": 8,
    "start_time": "2021-12-18T13:30:49.264Z"
   },
   {
    "duration": 6,
    "start_time": "2021-12-18T13:30:49.274Z"
   },
   {
    "duration": 16,
    "start_time": "2021-12-18T13:30:49.281Z"
   },
   {
    "duration": 13,
    "start_time": "2021-12-18T13:30:49.299Z"
   },
   {
    "duration": 9,
    "start_time": "2021-12-18T13:30:49.314Z"
   },
   {
    "duration": 7,
    "start_time": "2021-12-18T13:30:49.325Z"
   },
   {
    "duration": 6,
    "start_time": "2021-12-18T13:30:49.364Z"
   },
   {
    "duration": 12,
    "start_time": "2021-12-18T13:30:49.372Z"
   },
   {
    "duration": 88,
    "start_time": "2021-12-18T13:30:49.386Z"
   },
   {
    "duration": 6,
    "start_time": "2021-12-18T13:30:49.477Z"
   },
   {
    "duration": 7,
    "start_time": "2021-12-18T13:30:49.484Z"
   },
   {
    "duration": 5,
    "start_time": "2021-12-18T13:30:49.492Z"
   },
   {
    "duration": 21,
    "start_time": "2021-12-18T13:30:49.498Z"
   },
   {
    "duration": 5,
    "start_time": "2021-12-18T13:30:49.520Z"
   },
   {
    "duration": 56,
    "start_time": "2021-12-18T13:30:49.527Z"
   },
   {
    "duration": 4,
    "start_time": "2021-12-18T13:30:49.585Z"
   },
   {
    "duration": 16,
    "start_time": "2021-12-18T13:30:49.591Z"
   },
   {
    "duration": 59,
    "start_time": "2021-12-18T13:30:49.609Z"
   },
   {
    "duration": 16,
    "start_time": "2021-12-18T13:30:49.670Z"
   },
   {
    "duration": 19,
    "start_time": "2021-12-18T13:30:49.688Z"
   },
   {
    "duration": 55,
    "start_time": "2021-12-18T13:30:49.709Z"
   },
   {
    "duration": 26,
    "start_time": "2021-12-18T13:30:49.766Z"
   },
   {
    "duration": 113,
    "start_time": "2021-12-18T13:30:49.794Z"
   },
   {
    "duration": 8,
    "start_time": "2021-12-18T13:30:49.909Z"
   },
   {
    "duration": 101,
    "start_time": "2021-12-18T13:30:49.919Z"
   },
   {
    "duration": 80,
    "start_time": "2021-12-18T13:30:50.021Z"
   },
   {
    "duration": 10,
    "start_time": "2021-12-18T13:30:50.103Z"
   },
   {
    "duration": 27,
    "start_time": "2021-12-18T13:30:50.114Z"
   },
   {
    "duration": 22,
    "start_time": "2021-12-18T13:30:50.142Z"
   },
   {
    "duration": 25,
    "start_time": "2021-12-18T13:30:50.166Z"
   },
   {
    "duration": 20,
    "start_time": "2021-12-18T13:30:50.194Z"
   },
   {
    "duration": 9,
    "start_time": "2021-12-18T13:30:50.216Z"
   },
   {
    "duration": 74,
    "start_time": "2021-12-18T13:30:50.227Z"
   },
   {
    "duration": 29,
    "start_time": "2021-12-18T13:30:50.304Z"
   },
   {
    "duration": 31,
    "start_time": "2021-12-18T13:30:50.340Z"
   },
   {
    "duration": 695,
    "start_time": "2021-12-18T13:30:50.374Z"
   },
   {
    "duration": 4,
    "start_time": "2021-12-18T13:30:51.071Z"
   },
   {
    "duration": 4,
    "start_time": "2021-12-18T13:30:51.077Z"
   },
   {
    "duration": 5,
    "start_time": "2021-12-18T13:30:51.083Z"
   },
   {
    "duration": 17,
    "start_time": "2021-12-18T13:30:51.090Z"
   },
   {
    "duration": 5,
    "start_time": "2021-12-18T13:30:51.109Z"
   },
   {
    "duration": 55,
    "start_time": "2021-12-18T13:30:51.115Z"
   },
   {
    "duration": 8,
    "start_time": "2021-12-18T13:30:51.172Z"
   },
   {
    "duration": 4,
    "start_time": "2021-12-18T13:30:51.182Z"
   },
   {
    "duration": 5,
    "start_time": "2021-12-18T13:30:51.188Z"
   },
   {
    "duration": 346,
    "start_time": "2021-12-18T13:30:51.195Z"
   },
   {
    "duration": 6,
    "start_time": "2021-12-18T13:30:51.543Z"
   },
   {
    "duration": 4,
    "start_time": "2021-12-18T13:30:51.562Z"
   },
   {
    "duration": 5,
    "start_time": "2021-12-18T13:30:51.567Z"
   },
   {
    "duration": 14,
    "start_time": "2021-12-18T13:30:51.574Z"
   },
   {
    "duration": 27,
    "start_time": "2021-12-18T13:30:51.590Z"
   },
   {
    "duration": 13,
    "start_time": "2021-12-18T13:30:51.619Z"
   },
   {
    "duration": 26,
    "start_time": "2021-12-18T13:30:51.664Z"
   },
   {
    "duration": 12,
    "start_time": "2021-12-18T13:30:51.692Z"
   },
   {
    "duration": 37,
    "start_time": "2021-12-18T13:30:51.706Z"
   },
   {
    "duration": 28,
    "start_time": "2021-12-18T13:30:51.744Z"
   },
   {
    "duration": 23,
    "start_time": "2021-12-18T13:30:51.774Z"
   },
   {
    "duration": 621,
    "start_time": "2021-12-19T15:52:51.135Z"
   },
   {
    "duration": 52,
    "start_time": "2021-12-19T15:52:51.758Z"
   },
   {
    "duration": 18,
    "start_time": "2021-12-19T15:52:51.813Z"
   },
   {
    "duration": 18,
    "start_time": "2021-12-19T15:52:51.833Z"
   },
   {
    "duration": 30,
    "start_time": "2021-12-19T15:52:51.853Z"
   },
   {
    "duration": 50,
    "start_time": "2021-12-19T15:52:51.886Z"
   },
   {
    "duration": 9,
    "start_time": "2021-12-19T15:52:51.938Z"
   },
   {
    "duration": 28,
    "start_time": "2021-12-19T15:52:51.950Z"
   },
   {
    "duration": 24,
    "start_time": "2021-12-19T15:52:51.980Z"
   },
   {
    "duration": 32,
    "start_time": "2021-12-19T15:52:52.006Z"
   },
   {
    "duration": 59,
    "start_time": "2021-12-19T15:52:52.039Z"
   },
   {
    "duration": 21,
    "start_time": "2021-12-19T15:52:52.100Z"
   },
   {
    "duration": 32,
    "start_time": "2021-12-19T15:52:52.123Z"
   },
   {
    "duration": 32,
    "start_time": "2021-12-19T15:52:52.156Z"
   },
   {
    "duration": 28,
    "start_time": "2021-12-19T15:52:52.190Z"
   },
   {
    "duration": 20,
    "start_time": "2021-12-19T15:52:52.219Z"
   },
   {
    "duration": 26,
    "start_time": "2021-12-19T15:52:52.241Z"
   },
   {
    "duration": 39,
    "start_time": "2021-12-19T15:52:52.268Z"
   },
   {
    "duration": 17,
    "start_time": "2021-12-19T15:52:52.309Z"
   },
   {
    "duration": 36,
    "start_time": "2021-12-19T15:52:52.328Z"
   },
   {
    "duration": 9,
    "start_time": "2021-12-19T15:52:52.366Z"
   },
   {
    "duration": 31,
    "start_time": "2021-12-19T15:52:52.376Z"
   },
   {
    "duration": 8,
    "start_time": "2021-12-19T15:52:52.411Z"
   },
   {
    "duration": 46,
    "start_time": "2021-12-19T15:52:52.422Z"
   },
   {
    "duration": 4,
    "start_time": "2021-12-19T15:52:52.470Z"
   },
   {
    "duration": 18,
    "start_time": "2021-12-19T15:52:52.475Z"
   },
   {
    "duration": 23,
    "start_time": "2021-12-19T15:52:52.495Z"
   },
   {
    "duration": 11,
    "start_time": "2021-12-19T15:52:52.520Z"
   },
   {
    "duration": 7,
    "start_time": "2021-12-19T15:52:52.564Z"
   },
   {
    "duration": 17,
    "start_time": "2021-12-19T15:52:52.572Z"
   },
   {
    "duration": 8,
    "start_time": "2021-12-19T15:52:52.591Z"
   },
   {
    "duration": 6,
    "start_time": "2021-12-19T15:52:52.601Z"
   },
   {
    "duration": 15,
    "start_time": "2021-12-19T15:52:52.608Z"
   },
   {
    "duration": 10,
    "start_time": "2021-12-19T15:52:52.625Z"
   },
   {
    "duration": 30,
    "start_time": "2021-12-19T15:52:52.637Z"
   },
   {
    "duration": 18,
    "start_time": "2021-12-19T15:52:52.669Z"
   },
   {
    "duration": 15,
    "start_time": "2021-12-19T15:52:52.689Z"
   },
   {
    "duration": 9,
    "start_time": "2021-12-19T15:52:52.706Z"
   },
   {
    "duration": 7,
    "start_time": "2021-12-19T15:52:52.717Z"
   },
   {
    "duration": 12,
    "start_time": "2021-12-19T15:52:52.726Z"
   },
   {
    "duration": 62,
    "start_time": "2021-12-19T15:52:52.740Z"
   },
   {
    "duration": 58,
    "start_time": "2021-12-19T15:52:52.804Z"
   },
   {
    "duration": 5,
    "start_time": "2021-12-19T15:52:52.864Z"
   },
   {
    "duration": 40,
    "start_time": "2021-12-19T15:52:52.870Z"
   },
   {
    "duration": 33,
    "start_time": "2021-12-19T15:52:52.912Z"
   },
   {
    "duration": 50,
    "start_time": "2021-12-19T15:52:52.947Z"
   },
   {
    "duration": 32,
    "start_time": "2021-12-19T15:52:52.999Z"
   },
   {
    "duration": 43,
    "start_time": "2021-12-19T15:52:53.033Z"
   },
   {
    "duration": 17,
    "start_time": "2021-12-19T15:52:53.077Z"
   },
   {
    "duration": 39,
    "start_time": "2021-12-19T15:52:53.096Z"
   },
   {
    "duration": 52,
    "start_time": "2021-12-19T15:52:53.137Z"
   },
   {
    "duration": 21,
    "start_time": "2021-12-19T15:52:53.191Z"
   },
   {
    "duration": 45,
    "start_time": "2021-12-19T15:52:53.214Z"
   },
   {
    "duration": 33,
    "start_time": "2021-12-19T15:52:53.261Z"
   },
   {
    "duration": 24,
    "start_time": "2021-12-19T15:52:53.296Z"
   },
   {
    "duration": 143,
    "start_time": "2021-12-19T15:52:53.322Z"
   },
   {
    "duration": 41,
    "start_time": "2021-12-19T15:52:53.469Z"
   },
   {
    "duration": 94,
    "start_time": "2021-12-19T15:52:53.511Z"
   },
   {
    "duration": 82,
    "start_time": "2021-12-19T15:52:53.607Z"
   },
   {
    "duration": 9,
    "start_time": "2021-12-19T15:52:53.691Z"
   },
   {
    "duration": 44,
    "start_time": "2021-12-19T15:52:53.702Z"
   },
   {
    "duration": 13,
    "start_time": "2021-12-19T15:52:53.748Z"
   },
   {
    "duration": 45,
    "start_time": "2021-12-19T15:52:53.763Z"
   },
   {
    "duration": 27,
    "start_time": "2021-12-19T15:52:53.810Z"
   },
   {
    "duration": 21,
    "start_time": "2021-12-19T15:52:53.839Z"
   },
   {
    "duration": 55,
    "start_time": "2021-12-19T15:52:53.863Z"
   },
   {
    "duration": 4,
    "start_time": "2021-12-19T15:52:53.920Z"
   },
   {
    "duration": 31,
    "start_time": "2021-12-19T15:52:53.929Z"
   },
   {
    "duration": 646,
    "start_time": "2021-12-19T15:52:53.963Z"
   },
   {
    "duration": 3,
    "start_time": "2021-12-19T15:52:54.611Z"
   },
   {
    "duration": 5,
    "start_time": "2021-12-19T15:52:54.616Z"
   },
   {
    "duration": 7,
    "start_time": "2021-12-19T15:52:54.623Z"
   },
   {
    "duration": 15,
    "start_time": "2021-12-19T15:52:54.632Z"
   },
   {
    "duration": 15,
    "start_time": "2021-12-19T15:52:54.649Z"
   },
   {
    "duration": 29,
    "start_time": "2021-12-19T15:52:54.666Z"
   },
   {
    "duration": 8,
    "start_time": "2021-12-19T15:52:54.696Z"
   },
   {
    "duration": 4,
    "start_time": "2021-12-19T15:52:54.705Z"
   },
   {
    "duration": 290,
    "start_time": "2021-12-19T15:52:54.711Z"
   },
   {
    "duration": 222,
    "start_time": "2021-12-19T15:53:10.742Z"
   },
   {
    "duration": 228,
    "start_time": "2021-12-19T15:53:37.430Z"
   },
   {
    "duration": 8,
    "start_time": "2021-12-19T15:53:54.339Z"
   },
   {
    "duration": 8,
    "start_time": "2021-12-19T15:53:58.410Z"
   },
   {
    "duration": 92,
    "start_time": "2021-12-19T16:13:24.566Z"
   },
   {
    "duration": 69,
    "start_time": "2021-12-19T16:14:02.867Z"
   },
   {
    "duration": 65,
    "start_time": "2021-12-19T16:14:18.878Z"
   },
   {
    "duration": 63,
    "start_time": "2021-12-19T16:14:27.149Z"
   },
   {
    "duration": 66,
    "start_time": "2021-12-19T16:15:18.920Z"
   },
   {
    "duration": 61,
    "start_time": "2021-12-19T16:15:29.109Z"
   },
   {
    "duration": 71,
    "start_time": "2021-12-19T16:15:39.260Z"
   },
   {
    "duration": 77,
    "start_time": "2021-12-19T16:16:19.061Z"
   },
   {
    "duration": 291,
    "start_time": "2021-12-19T16:22:00.170Z"
   },
   {
    "duration": 202,
    "start_time": "2021-12-19T16:24:26.971Z"
   },
   {
    "duration": 223,
    "start_time": "2021-12-19T16:26:27.948Z"
   },
   {
    "duration": 377,
    "start_time": "2021-12-19T16:30:49.538Z"
   },
   {
    "duration": 399,
    "start_time": "2021-12-19T16:31:04.663Z"
   },
   {
    "duration": 3,
    "start_time": "2021-12-19T16:31:46.359Z"
   },
   {
    "duration": 54,
    "start_time": "2021-12-19T16:31:46.363Z"
   },
   {
    "duration": 12,
    "start_time": "2021-12-19T16:31:46.420Z"
   },
   {
    "duration": 4,
    "start_time": "2021-12-19T16:31:46.434Z"
   },
   {
    "duration": 31,
    "start_time": "2021-12-19T16:31:46.440Z"
   },
   {
    "duration": 32,
    "start_time": "2021-12-19T16:31:46.473Z"
   },
   {
    "duration": 8,
    "start_time": "2021-12-19T16:31:46.507Z"
   },
   {
    "duration": 4,
    "start_time": "2021-12-19T16:31:46.517Z"
   },
   {
    "duration": 49,
    "start_time": "2021-12-19T16:31:46.523Z"
   },
   {
    "duration": 3,
    "start_time": "2021-12-19T16:31:46.574Z"
   },
   {
    "duration": 33,
    "start_time": "2021-12-19T16:31:46.579Z"
   },
   {
    "duration": 22,
    "start_time": "2021-12-19T16:31:46.614Z"
   },
   {
    "duration": 49,
    "start_time": "2021-12-19T16:31:46.638Z"
   },
   {
    "duration": 26,
    "start_time": "2021-12-19T16:31:46.690Z"
   },
   {
    "duration": 50,
    "start_time": "2021-12-19T16:31:46.718Z"
   },
   {
    "duration": 29,
    "start_time": "2021-12-19T16:31:46.770Z"
   },
   {
    "duration": 18,
    "start_time": "2021-12-19T16:31:46.801Z"
   },
   {
    "duration": 64,
    "start_time": "2021-12-19T16:31:46.821Z"
   },
   {
    "duration": 18,
    "start_time": "2021-12-19T16:31:46.887Z"
   },
   {
    "duration": 8,
    "start_time": "2021-12-19T16:31:46.907Z"
   },
   {
    "duration": 8,
    "start_time": "2021-12-19T16:31:46.917Z"
   },
   {
    "duration": 52,
    "start_time": "2021-12-19T16:31:46.927Z"
   },
   {
    "duration": 8,
    "start_time": "2021-12-19T16:31:46.981Z"
   },
   {
    "duration": 12,
    "start_time": "2021-12-19T16:31:46.990Z"
   },
   {
    "duration": 3,
    "start_time": "2021-12-19T16:31:47.004Z"
   },
   {
    "duration": 14,
    "start_time": "2021-12-19T16:31:47.008Z"
   },
   {
    "duration": 65,
    "start_time": "2021-12-19T16:31:47.025Z"
   },
   {
    "duration": 11,
    "start_time": "2021-12-19T16:31:47.093Z"
   },
   {
    "duration": 6,
    "start_time": "2021-12-19T16:31:47.106Z"
   },
   {
    "duration": 22,
    "start_time": "2021-12-19T16:31:47.114Z"
   },
   {
    "duration": 34,
    "start_time": "2021-12-19T16:31:47.138Z"
   },
   {
    "duration": 7,
    "start_time": "2021-12-19T16:31:47.174Z"
   },
   {
    "duration": 8,
    "start_time": "2021-12-19T16:31:47.182Z"
   },
   {
    "duration": 8,
    "start_time": "2021-12-19T16:31:47.192Z"
   },
   {
    "duration": 5,
    "start_time": "2021-12-19T16:31:47.201Z"
   },
   {
    "duration": 22,
    "start_time": "2021-12-19T16:31:47.208Z"
   },
   {
    "duration": 41,
    "start_time": "2021-12-19T16:31:47.231Z"
   },
   {
    "duration": 8,
    "start_time": "2021-12-19T16:31:47.273Z"
   },
   {
    "duration": 7,
    "start_time": "2021-12-19T16:31:47.283Z"
   },
   {
    "duration": 12,
    "start_time": "2021-12-19T16:31:47.292Z"
   },
   {
    "duration": 12,
    "start_time": "2021-12-19T16:31:47.305Z"
   },
   {
    "duration": 56,
    "start_time": "2021-12-19T16:31:47.318Z"
   },
   {
    "duration": 5,
    "start_time": "2021-12-19T16:31:47.376Z"
   },
   {
    "duration": 6,
    "start_time": "2021-12-19T16:31:47.382Z"
   },
   {
    "duration": 6,
    "start_time": "2021-12-19T16:31:47.390Z"
   },
   {
    "duration": 31,
    "start_time": "2021-12-19T16:31:47.398Z"
   },
   {
    "duration": 7,
    "start_time": "2021-12-19T16:31:47.431Z"
   },
   {
    "duration": 57,
    "start_time": "2021-12-19T16:31:47.439Z"
   },
   {
    "duration": 5,
    "start_time": "2021-12-19T16:31:47.498Z"
   },
   {
    "duration": 14,
    "start_time": "2021-12-19T16:31:47.504Z"
   },
   {
    "duration": 53,
    "start_time": "2021-12-19T16:31:47.520Z"
   },
   {
    "duration": 14,
    "start_time": "2021-12-19T16:31:47.575Z"
   },
   {
    "duration": 22,
    "start_time": "2021-12-19T16:31:47.591Z"
   },
   {
    "duration": 49,
    "start_time": "2021-12-19T16:31:47.615Z"
   },
   {
    "duration": 22,
    "start_time": "2021-12-19T16:31:47.666Z"
   },
   {
    "duration": 99,
    "start_time": "2021-12-19T16:31:47.690Z"
   },
   {
    "duration": 11,
    "start_time": "2021-12-19T16:31:47.791Z"
   },
   {
    "duration": 87,
    "start_time": "2021-12-19T16:31:47.804Z"
   },
   {
    "duration": 80,
    "start_time": "2021-12-19T16:31:47.893Z"
   },
   {
    "duration": 9,
    "start_time": "2021-12-19T16:31:47.974Z"
   },
   {
    "duration": 24,
    "start_time": "2021-12-19T16:31:47.985Z"
   },
   {
    "duration": 4,
    "start_time": "2021-12-19T16:31:48.010Z"
   },
   {
    "duration": 14,
    "start_time": "2021-12-19T16:31:48.015Z"
   },
   {
    "duration": 41,
    "start_time": "2021-12-19T16:31:48.030Z"
   },
   {
    "duration": 6,
    "start_time": "2021-12-19T16:31:48.073Z"
   },
   {
    "duration": 35,
    "start_time": "2021-12-19T16:31:48.080Z"
   },
   {
    "duration": 3,
    "start_time": "2021-12-19T16:31:48.116Z"
   },
   {
    "duration": 13,
    "start_time": "2021-12-19T16:31:48.120Z"
   },
   {
    "duration": 654,
    "start_time": "2021-12-19T16:31:48.134Z"
   },
   {
    "duration": 214,
    "start_time": "2021-12-19T16:31:58.212Z"
   },
   {
    "duration": 190,
    "start_time": "2021-12-19T16:32:19.660Z"
   },
   {
    "duration": 839,
    "start_time": "2021-12-19T16:33:39.820Z"
   },
   {
    "duration": 376,
    "start_time": "2021-12-19T16:34:44.390Z"
   },
   {
    "duration": 192,
    "start_time": "2021-12-19T16:35:04.327Z"
   },
   {
    "duration": 218,
    "start_time": "2021-12-19T16:35:13.021Z"
   },
   {
    "duration": 2160,
    "start_time": "2021-12-19T16:35:50.407Z"
   },
   {
    "duration": 3,
    "start_time": "2021-12-19T16:40:03.558Z"
   },
   {
    "duration": 57,
    "start_time": "2021-12-19T16:40:03.565Z"
   },
   {
    "duration": 12,
    "start_time": "2021-12-19T16:40:03.624Z"
   },
   {
    "duration": 6,
    "start_time": "2021-12-19T16:40:03.638Z"
   },
   {
    "duration": 21,
    "start_time": "2021-12-19T16:40:03.645Z"
   },
   {
    "duration": 38,
    "start_time": "2021-12-19T16:40:03.668Z"
   },
   {
    "duration": 10,
    "start_time": "2021-12-19T16:40:03.707Z"
   },
   {
    "duration": 5,
    "start_time": "2021-12-19T16:40:03.718Z"
   },
   {
    "duration": 49,
    "start_time": "2021-12-19T16:40:03.724Z"
   },
   {
    "duration": 4,
    "start_time": "2021-12-19T16:40:03.775Z"
   },
   {
    "duration": 26,
    "start_time": "2021-12-19T16:40:03.781Z"
   },
   {
    "duration": 61,
    "start_time": "2021-12-19T16:40:03.809Z"
   },
   {
    "duration": 21,
    "start_time": "2021-12-19T16:40:03.872Z"
   },
   {
    "duration": 19,
    "start_time": "2021-12-19T16:40:03.895Z"
   },
   {
    "duration": 52,
    "start_time": "2021-12-19T16:40:03.915Z"
   },
   {
    "duration": 19,
    "start_time": "2021-12-19T16:40:03.969Z"
   },
   {
    "duration": 16,
    "start_time": "2021-12-19T16:40:03.990Z"
   },
   {
    "duration": 64,
    "start_time": "2021-12-19T16:40:04.008Z"
   },
   {
    "duration": 19,
    "start_time": "2021-12-19T16:40:04.074Z"
   },
   {
    "duration": 8,
    "start_time": "2021-12-19T16:40:04.095Z"
   },
   {
    "duration": 10,
    "start_time": "2021-12-19T16:40:04.104Z"
   },
   {
    "duration": 56,
    "start_time": "2021-12-19T16:40:04.116Z"
   },
   {
    "duration": 9,
    "start_time": "2021-12-19T16:40:04.174Z"
   },
   {
    "duration": 17,
    "start_time": "2021-12-19T16:40:04.184Z"
   },
   {
    "duration": 3,
    "start_time": "2021-12-19T16:40:04.202Z"
   },
   {
    "duration": 20,
    "start_time": "2021-12-19T16:40:04.207Z"
   },
   {
    "duration": 55,
    "start_time": "2021-12-19T16:40:04.229Z"
   },
   {
    "duration": 9,
    "start_time": "2021-12-19T16:40:04.289Z"
   },
   {
    "duration": 10,
    "start_time": "2021-12-19T16:40:04.300Z"
   },
   {
    "duration": 21,
    "start_time": "2021-12-19T16:40:04.311Z"
   },
   {
    "duration": 29,
    "start_time": "2021-12-19T16:40:04.334Z"
   },
   {
    "duration": 8,
    "start_time": "2021-12-19T16:40:04.365Z"
   },
   {
    "duration": 23,
    "start_time": "2021-12-19T16:40:04.375Z"
   },
   {
    "duration": 16,
    "start_time": "2021-12-19T16:40:04.399Z"
   },
   {
    "duration": 21,
    "start_time": "2021-12-19T16:40:04.417Z"
   },
   {
    "duration": 27,
    "start_time": "2021-12-19T16:40:04.440Z"
   },
   {
    "duration": 19,
    "start_time": "2021-12-19T16:40:04.468Z"
   },
   {
    "duration": 21,
    "start_time": "2021-12-19T16:40:04.489Z"
   },
   {
    "duration": 13,
    "start_time": "2021-12-19T16:40:04.511Z"
   },
   {
    "duration": 16,
    "start_time": "2021-12-19T16:40:04.525Z"
   },
   {
    "duration": 14,
    "start_time": "2021-12-19T16:40:04.543Z"
   },
   {
    "duration": 52,
    "start_time": "2021-12-19T16:40:04.559Z"
   },
   {
    "duration": 5,
    "start_time": "2021-12-19T16:40:04.612Z"
   },
   {
    "duration": 7,
    "start_time": "2021-12-19T16:40:04.619Z"
   },
   {
    "duration": 5,
    "start_time": "2021-12-19T16:40:04.628Z"
   },
   {
    "duration": 33,
    "start_time": "2021-12-19T16:40:04.634Z"
   },
   {
    "duration": 6,
    "start_time": "2021-12-19T16:40:04.669Z"
   },
   {
    "duration": 34,
    "start_time": "2021-12-19T16:40:04.676Z"
   },
   {
    "duration": 6,
    "start_time": "2021-12-19T16:40:04.712Z"
   },
   {
    "duration": 44,
    "start_time": "2021-12-19T16:40:04.720Z"
   },
   {
    "duration": 32,
    "start_time": "2021-12-19T16:40:04.766Z"
   },
   {
    "duration": 17,
    "start_time": "2021-12-19T16:40:04.800Z"
   },
   {
    "duration": 50,
    "start_time": "2021-12-19T16:40:04.819Z"
   },
   {
    "duration": 29,
    "start_time": "2021-12-19T16:40:04.871Z"
   },
   {
    "duration": 21,
    "start_time": "2021-12-19T16:40:04.902Z"
   },
   {
    "duration": 103,
    "start_time": "2021-12-19T16:40:04.926Z"
   },
   {
    "duration": 17,
    "start_time": "2021-12-19T16:40:05.031Z"
   },
   {
    "duration": 105,
    "start_time": "2021-12-19T16:40:05.050Z"
   },
   {
    "duration": 108,
    "start_time": "2021-12-19T16:40:05.163Z"
   },
   {
    "duration": 11,
    "start_time": "2021-12-19T16:40:05.273Z"
   },
   {
    "duration": 30,
    "start_time": "2021-12-19T16:40:05.286Z"
   },
   {
    "duration": 4,
    "start_time": "2021-12-19T16:40:05.319Z"
   },
   {
    "duration": 27,
    "start_time": "2021-12-19T16:40:05.324Z"
   },
   {
    "duration": 20,
    "start_time": "2021-12-19T16:40:05.363Z"
   },
   {
    "duration": 7,
    "start_time": "2021-12-19T16:40:05.385Z"
   },
   {
    "duration": 70,
    "start_time": "2021-12-19T16:40:05.393Z"
   },
   {
    "duration": 3,
    "start_time": "2021-12-19T16:40:05.465Z"
   },
   {
    "duration": 23,
    "start_time": "2021-12-19T16:40:05.470Z"
   },
   {
    "duration": 689,
    "start_time": "2021-12-19T16:40:05.495Z"
   },
   {
    "duration": 5,
    "start_time": "2021-12-19T16:40:06.186Z"
   },
   {
    "duration": 327,
    "start_time": "2021-12-19T16:40:06.193Z"
   },
   {
    "duration": 1982,
    "start_time": "2021-12-19T16:40:06.522Z"
   },
   {
    "duration": 3,
    "start_time": "2021-12-19T16:56:32.164Z"
   },
   {
    "duration": 53,
    "start_time": "2021-12-19T16:56:32.171Z"
   },
   {
    "duration": 12,
    "start_time": "2021-12-19T16:56:32.226Z"
   },
   {
    "duration": 5,
    "start_time": "2021-12-19T16:56:32.241Z"
   },
   {
    "duration": 26,
    "start_time": "2021-12-19T16:56:32.248Z"
   },
   {
    "duration": 30,
    "start_time": "2021-12-19T16:56:32.276Z"
   },
   {
    "duration": 11,
    "start_time": "2021-12-19T16:56:32.308Z"
   },
   {
    "duration": 4,
    "start_time": "2021-12-19T16:56:32.321Z"
   },
   {
    "duration": 54,
    "start_time": "2021-12-19T16:56:32.327Z"
   },
   {
    "duration": 4,
    "start_time": "2021-12-19T16:56:32.385Z"
   },
   {
    "duration": 24,
    "start_time": "2021-12-19T16:56:32.392Z"
   },
   {
    "duration": 64,
    "start_time": "2021-12-19T16:56:32.418Z"
   },
   {
    "duration": 29,
    "start_time": "2021-12-19T16:56:32.484Z"
   },
   {
    "duration": 48,
    "start_time": "2021-12-19T16:56:32.515Z"
   },
   {
    "duration": 29,
    "start_time": "2021-12-19T16:56:32.565Z"
   },
   {
    "duration": 27,
    "start_time": "2021-12-19T16:56:32.596Z"
   },
   {
    "duration": 44,
    "start_time": "2021-12-19T16:56:32.625Z"
   },
   {
    "duration": 38,
    "start_time": "2021-12-19T16:56:32.670Z"
   },
   {
    "duration": 20,
    "start_time": "2021-12-19T16:56:32.709Z"
   },
   {
    "duration": 33,
    "start_time": "2021-12-19T16:56:32.731Z"
   },
   {
    "duration": 8,
    "start_time": "2021-12-19T16:56:32.766Z"
   },
   {
    "duration": 27,
    "start_time": "2021-12-19T16:56:32.775Z"
   },
   {
    "duration": 9,
    "start_time": "2021-12-19T16:56:32.803Z"
   },
   {
    "duration": 15,
    "start_time": "2021-12-19T16:56:32.814Z"
   },
   {
    "duration": 3,
    "start_time": "2021-12-19T16:56:32.864Z"
   },
   {
    "duration": 14,
    "start_time": "2021-12-19T16:56:32.868Z"
   },
   {
    "duration": 21,
    "start_time": "2021-12-19T16:56:32.884Z"
   },
   {
    "duration": 9,
    "start_time": "2021-12-19T16:56:32.908Z"
   },
   {
    "duration": 5,
    "start_time": "2021-12-19T16:56:32.919Z"
   },
   {
    "duration": 54,
    "start_time": "2021-12-19T16:56:32.926Z"
   },
   {
    "duration": 9,
    "start_time": "2021-12-19T16:56:32.982Z"
   },
   {
    "duration": 6,
    "start_time": "2021-12-19T16:56:32.992Z"
   },
   {
    "duration": 9,
    "start_time": "2021-12-19T16:56:33.000Z"
   },
   {
    "duration": 51,
    "start_time": "2021-12-19T16:56:33.010Z"
   },
   {
    "duration": 22,
    "start_time": "2021-12-19T16:56:33.069Z"
   },
   {
    "duration": 43,
    "start_time": "2021-12-19T16:56:33.105Z"
   },
   {
    "duration": 20,
    "start_time": "2021-12-19T16:56:33.150Z"
   },
   {
    "duration": 10,
    "start_time": "2021-12-19T16:56:33.172Z"
   },
   {
    "duration": 6,
    "start_time": "2021-12-19T16:56:33.184Z"
   },
   {
    "duration": 13,
    "start_time": "2021-12-19T16:56:33.192Z"
   },
   {
    "duration": 10,
    "start_time": "2021-12-19T16:56:33.207Z"
   },
   {
    "duration": 91,
    "start_time": "2021-12-19T16:56:33.219Z"
   },
   {
    "duration": 5,
    "start_time": "2021-12-19T16:56:33.312Z"
   },
   {
    "duration": 10,
    "start_time": "2021-12-19T16:56:33.318Z"
   },
   {
    "duration": 6,
    "start_time": "2021-12-19T16:56:33.329Z"
   },
   {
    "duration": 29,
    "start_time": "2021-12-19T16:56:33.336Z"
   },
   {
    "duration": 5,
    "start_time": "2021-12-19T16:56:33.367Z"
   },
   {
    "duration": 31,
    "start_time": "2021-12-19T16:56:33.374Z"
   },
   {
    "duration": 4,
    "start_time": "2021-12-19T16:56:33.407Z"
   },
   {
    "duration": 19,
    "start_time": "2021-12-19T16:56:33.413Z"
   },
   {
    "duration": 56,
    "start_time": "2021-12-19T16:56:33.435Z"
   },
   {
    "duration": 19,
    "start_time": "2021-12-19T16:56:33.493Z"
   },
   {
    "duration": 19,
    "start_time": "2021-12-19T16:56:33.514Z"
   },
   {
    "duration": 52,
    "start_time": "2021-12-19T16:56:33.535Z"
   },
   {
    "duration": 22,
    "start_time": "2021-12-19T16:56:33.589Z"
   },
   {
    "duration": 104,
    "start_time": "2021-12-19T16:56:33.613Z"
   },
   {
    "duration": 6,
    "start_time": "2021-12-19T16:56:33.718Z"
   },
   {
    "duration": 117,
    "start_time": "2021-12-19T16:56:33.726Z"
   },
   {
    "duration": 97,
    "start_time": "2021-12-19T16:56:33.845Z"
   },
   {
    "duration": 13,
    "start_time": "2021-12-19T16:56:33.944Z"
   },
   {
    "duration": 30,
    "start_time": "2021-12-19T16:56:33.963Z"
   },
   {
    "duration": 4,
    "start_time": "2021-12-19T16:56:33.994Z"
   },
   {
    "duration": 18,
    "start_time": "2021-12-19T16:56:34.001Z"
   },
   {
    "duration": 46,
    "start_time": "2021-12-19T16:56:34.021Z"
   },
   {
    "duration": 9,
    "start_time": "2021-12-19T16:56:34.068Z"
   },
   {
    "duration": 45,
    "start_time": "2021-12-19T16:56:34.078Z"
   },
   {
    "duration": 60,
    "start_time": "2021-12-19T16:56:34.124Z"
   },
   {
    "duration": 13,
    "start_time": "2021-12-19T16:56:34.186Z"
   },
   {
    "duration": 691,
    "start_time": "2021-12-19T16:56:34.201Z"
   },
   {
    "duration": 4,
    "start_time": "2021-12-19T16:56:34.894Z"
   },
   {
    "duration": 315,
    "start_time": "2021-12-19T16:56:34.900Z"
   },
   {
    "duration": 1953,
    "start_time": "2021-12-19T16:56:35.217Z"
   },
   {
    "duration": 3,
    "start_time": "2021-12-19T16:56:37.172Z"
   },
   {
    "duration": 18,
    "start_time": "2021-12-19T16:56:37.177Z"
   },
   {
    "duration": 26,
    "start_time": "2021-12-19T16:56:37.198Z"
   },
   {
    "duration": 22,
    "start_time": "2021-12-19T16:56:37.226Z"
   },
   {
    "duration": 50,
    "start_time": "2021-12-19T16:56:37.250Z"
   },
   {
    "duration": 10,
    "start_time": "2021-12-19T16:56:37.302Z"
   },
   {
    "duration": 36,
    "start_time": "2021-12-19T16:56:37.315Z"
   },
   {
    "duration": 18,
    "start_time": "2021-12-19T16:56:37.352Z"
   },
   {
    "duration": 23,
    "start_time": "2021-12-19T16:56:37.372Z"
   },
   {
    "duration": 27,
    "start_time": "2021-12-19T16:56:37.399Z"
   },
   {
    "duration": 22,
    "start_time": "2021-12-19T16:56:37.428Z"
   },
   {
    "duration": 18,
    "start_time": "2021-12-19T16:56:37.452Z"
   },
   {
    "duration": 13,
    "start_time": "2021-12-19T16:56:37.472Z"
   },
   {
    "duration": 34,
    "start_time": "2021-12-19T16:56:37.487Z"
   },
   {
    "duration": 28,
    "start_time": "2021-12-19T16:56:37.523Z"
   },
   {
    "duration": 32,
    "start_time": "2021-12-19T16:56:37.553Z"
   },
   {
    "duration": 15,
    "start_time": "2021-12-19T16:56:37.587Z"
   },
   {
    "duration": 52,
    "start_time": "2021-12-19T16:56:37.604Z"
   },
   {
    "duration": 20,
    "start_time": "2021-12-19T16:56:37.658Z"
   },
   {
    "duration": 24,
    "start_time": "2021-12-19T16:56:37.679Z"
   },
   {
    "duration": 20,
    "start_time": "2021-12-19T16:56:37.705Z"
   },
   {
    "duration": 39,
    "start_time": "2021-12-19T16:56:37.727Z"
   },
   {
    "duration": 3,
    "start_time": "2021-12-19T17:05:31.580Z"
   },
   {
    "duration": 68,
    "start_time": "2021-12-19T17:05:31.586Z"
   },
   {
    "duration": 12,
    "start_time": "2021-12-19T17:05:31.655Z"
   },
   {
    "duration": 17,
    "start_time": "2021-12-19T17:05:31.669Z"
   },
   {
    "duration": 17,
    "start_time": "2021-12-19T17:05:31.688Z"
   },
   {
    "duration": 36,
    "start_time": "2021-12-19T17:05:31.707Z"
   },
   {
    "duration": 27,
    "start_time": "2021-12-19T17:05:31.744Z"
   },
   {
    "duration": 3,
    "start_time": "2021-12-19T17:05:31.774Z"
   },
   {
    "duration": 14,
    "start_time": "2021-12-19T17:05:31.779Z"
   },
   {
    "duration": 3,
    "start_time": "2021-12-19T17:05:31.795Z"
   },
   {
    "duration": 69,
    "start_time": "2021-12-19T17:05:31.800Z"
   },
   {
    "duration": 21,
    "start_time": "2021-12-19T17:05:31.870Z"
   },
   {
    "duration": 21,
    "start_time": "2021-12-19T17:05:31.893Z"
   },
   {
    "duration": 53,
    "start_time": "2021-12-19T17:05:31.915Z"
   },
   {
    "duration": 21,
    "start_time": "2021-12-19T17:05:31.970Z"
   },
   {
    "duration": 19,
    "start_time": "2021-12-19T17:05:31.993Z"
   },
   {
    "duration": 51,
    "start_time": "2021-12-19T17:05:32.014Z"
   },
   {
    "duration": 38,
    "start_time": "2021-12-19T17:05:32.067Z"
   },
   {
    "duration": 33,
    "start_time": "2021-12-19T17:05:32.106Z"
   },
   {
    "duration": 29,
    "start_time": "2021-12-19T17:05:32.141Z"
   },
   {
    "duration": 10,
    "start_time": "2021-12-19T17:05:32.172Z"
   },
   {
    "duration": 38,
    "start_time": "2021-12-19T17:05:32.184Z"
   },
   {
    "duration": 39,
    "start_time": "2021-12-19T17:05:32.227Z"
   },
   {
    "duration": 78,
    "start_time": "2021-12-19T17:05:32.269Z"
   },
   {
    "duration": 4,
    "start_time": "2021-12-19T17:05:32.349Z"
   },
   {
    "duration": 17,
    "start_time": "2021-12-19T17:05:32.355Z"
   },
   {
    "duration": 23,
    "start_time": "2021-12-19T17:05:32.374Z"
   },
   {
    "duration": 19,
    "start_time": "2021-12-19T17:05:32.398Z"
   },
   {
    "duration": 6,
    "start_time": "2021-12-19T17:05:32.419Z"
   },
   {
    "duration": 40,
    "start_time": "2021-12-19T17:05:32.427Z"
   },
   {
    "duration": 14,
    "start_time": "2021-12-19T17:05:32.469Z"
   },
   {
    "duration": 6,
    "start_time": "2021-12-19T17:05:32.484Z"
   },
   {
    "duration": 9,
    "start_time": "2021-12-19T17:05:32.492Z"
   },
   {
    "duration": 7,
    "start_time": "2021-12-19T17:05:32.503Z"
   },
   {
    "duration": 9,
    "start_time": "2021-12-19T17:05:32.512Z"
   },
   {
    "duration": 50,
    "start_time": "2021-12-19T17:05:32.522Z"
   },
   {
    "duration": 13,
    "start_time": "2021-12-19T17:05:32.573Z"
   },
   {
    "duration": 12,
    "start_time": "2021-12-19T17:05:32.588Z"
   },
   {
    "duration": 4,
    "start_time": "2021-12-19T17:05:32.602Z"
   },
   {
    "duration": 10,
    "start_time": "2021-12-19T17:05:32.608Z"
   },
   {
    "duration": 12,
    "start_time": "2021-12-19T17:05:32.620Z"
   },
   {
    "duration": 68,
    "start_time": "2021-12-19T17:05:32.634Z"
   },
   {
    "duration": 5,
    "start_time": "2021-12-19T17:05:32.704Z"
   },
   {
    "duration": 7,
    "start_time": "2021-12-19T17:05:32.711Z"
   },
   {
    "duration": 5,
    "start_time": "2021-12-19T17:05:32.719Z"
   },
   {
    "duration": 41,
    "start_time": "2021-12-19T17:05:32.725Z"
   },
   {
    "duration": 4,
    "start_time": "2021-12-19T17:05:32.768Z"
   },
   {
    "duration": 29,
    "start_time": "2021-12-19T17:05:32.773Z"
   },
   {
    "duration": 3,
    "start_time": "2021-12-19T17:05:32.804Z"
   },
   {
    "duration": 19,
    "start_time": "2021-12-19T17:05:32.809Z"
   },
   {
    "duration": 57,
    "start_time": "2021-12-19T17:05:32.829Z"
   },
   {
    "duration": 14,
    "start_time": "2021-12-19T17:05:32.888Z"
   },
   {
    "duration": 21,
    "start_time": "2021-12-19T17:05:32.904Z"
   },
   {
    "duration": 55,
    "start_time": "2021-12-19T17:05:32.927Z"
   },
   {
    "duration": 20,
    "start_time": "2021-12-19T17:05:32.983Z"
   },
   {
    "duration": 93,
    "start_time": "2021-12-19T17:05:33.005Z"
   },
   {
    "duration": 8,
    "start_time": "2021-12-19T17:05:33.101Z"
   },
   {
    "duration": 103,
    "start_time": "2021-12-19T17:05:33.110Z"
   },
   {
    "duration": 88,
    "start_time": "2021-12-19T17:05:33.214Z"
   },
   {
    "duration": 12,
    "start_time": "2021-12-19T17:05:33.304Z"
   },
   {
    "duration": 27,
    "start_time": "2021-12-19T17:05:33.318Z"
   },
   {
    "duration": 17,
    "start_time": "2021-12-19T17:05:33.347Z"
   },
   {
    "duration": 26,
    "start_time": "2021-12-19T17:05:33.366Z"
   },
   {
    "duration": 28,
    "start_time": "2021-12-19T17:05:33.394Z"
   },
   {
    "duration": 9,
    "start_time": "2021-12-19T17:05:33.424Z"
   },
   {
    "duration": 66,
    "start_time": "2021-12-19T17:05:33.435Z"
   },
   {
    "duration": 44,
    "start_time": "2021-12-19T17:05:33.503Z"
   },
   {
    "duration": 11,
    "start_time": "2021-12-19T17:05:33.565Z"
   },
   {
    "duration": 677,
    "start_time": "2021-12-19T17:05:33.579Z"
   },
   {
    "duration": 8,
    "start_time": "2021-12-19T17:05:34.258Z"
   },
   {
    "duration": 202,
    "start_time": "2021-12-19T17:05:34.268Z"
   },
   {
    "duration": 2012,
    "start_time": "2021-12-19T17:05:34.472Z"
   },
   {
    "duration": 3,
    "start_time": "2021-12-19T17:05:36.486Z"
   },
   {
    "duration": 7,
    "start_time": "2021-12-19T17:05:36.490Z"
   },
   {
    "duration": 18,
    "start_time": "2021-12-19T17:05:36.499Z"
   },
   {
    "duration": 6,
    "start_time": "2021-12-19T17:05:36.519Z"
   },
   {
    "duration": 65,
    "start_time": "2021-12-19T17:05:36.527Z"
   },
   {
    "duration": 11,
    "start_time": "2021-12-19T17:05:36.594Z"
   },
   {
    "duration": 4,
    "start_time": "2021-12-19T17:05:36.607Z"
   },
   {
    "duration": 4,
    "start_time": "2021-12-19T17:05:36.613Z"
   },
   {
    "duration": 7,
    "start_time": "2021-12-19T17:05:36.618Z"
   },
   {
    "duration": 7,
    "start_time": "2021-12-19T17:05:36.627Z"
   },
   {
    "duration": 29,
    "start_time": "2021-12-19T17:05:36.636Z"
   },
   {
    "duration": 5,
    "start_time": "2021-12-19T17:05:36.667Z"
   },
   {
    "duration": 6,
    "start_time": "2021-12-19T17:05:36.673Z"
   },
   {
    "duration": 13,
    "start_time": "2021-12-19T17:05:36.681Z"
   },
   {
    "duration": 15,
    "start_time": "2021-12-19T17:05:36.695Z"
   },
   {
    "duration": 24,
    "start_time": "2021-12-19T17:05:36.712Z"
   },
   {
    "duration": 40,
    "start_time": "2021-12-19T17:05:36.737Z"
   },
   {
    "duration": 28,
    "start_time": "2021-12-19T17:05:36.779Z"
   },
   {
    "duration": 10,
    "start_time": "2021-12-19T17:05:36.808Z"
   },
   {
    "duration": 52,
    "start_time": "2021-12-19T17:05:36.820Z"
   },
   {
    "duration": 12,
    "start_time": "2021-12-19T17:05:36.874Z"
   },
   {
    "duration": 23,
    "start_time": "2021-12-19T17:05:36.888Z"
   },
   {
    "duration": 3,
    "start_time": "2021-12-19T17:13:34.075Z"
   },
   {
    "duration": 59,
    "start_time": "2021-12-19T17:13:34.080Z"
   },
   {
    "duration": 22,
    "start_time": "2021-12-19T17:13:34.141Z"
   },
   {
    "duration": 5,
    "start_time": "2021-12-19T17:13:34.166Z"
   },
   {
    "duration": 13,
    "start_time": "2021-12-19T17:13:34.173Z"
   },
   {
    "duration": 79,
    "start_time": "2021-12-19T17:13:34.188Z"
   },
   {
    "duration": 14,
    "start_time": "2021-12-19T17:13:34.269Z"
   },
   {
    "duration": 5,
    "start_time": "2021-12-19T17:13:34.286Z"
   },
   {
    "duration": 16,
    "start_time": "2021-12-19T17:13:34.293Z"
   },
   {
    "duration": 4,
    "start_time": "2021-12-19T17:13:34.311Z"
   },
   {
    "duration": 60,
    "start_time": "2021-12-19T17:13:34.317Z"
   },
   {
    "duration": 22,
    "start_time": "2021-12-19T17:13:34.379Z"
   },
   {
    "duration": 21,
    "start_time": "2021-12-19T17:13:34.403Z"
   },
   {
    "duration": 48,
    "start_time": "2021-12-19T17:13:34.425Z"
   },
   {
    "duration": 25,
    "start_time": "2021-12-19T17:13:34.474Z"
   },
   {
    "duration": 20,
    "start_time": "2021-12-19T17:13:34.500Z"
   },
   {
    "duration": 44,
    "start_time": "2021-12-19T17:13:34.522Z"
   },
   {
    "duration": 39,
    "start_time": "2021-12-19T17:13:34.569Z"
   },
   {
    "duration": 24,
    "start_time": "2021-12-19T17:13:34.610Z"
   },
   {
    "duration": 30,
    "start_time": "2021-12-19T17:13:34.636Z"
   },
   {
    "duration": 8,
    "start_time": "2021-12-19T17:13:34.668Z"
   },
   {
    "duration": 26,
    "start_time": "2021-12-19T17:13:34.677Z"
   },
   {
    "duration": 8,
    "start_time": "2021-12-19T17:13:34.707Z"
   },
   {
    "duration": 52,
    "start_time": "2021-12-19T17:13:34.718Z"
   },
   {
    "duration": 3,
    "start_time": "2021-12-19T17:13:34.771Z"
   },
   {
    "duration": 13,
    "start_time": "2021-12-19T17:13:34.776Z"
   },
   {
    "duration": 22,
    "start_time": "2021-12-19T17:13:34.791Z"
   },
   {
    "duration": 9,
    "start_time": "2021-12-19T17:13:34.814Z"
   },
   {
    "duration": 40,
    "start_time": "2021-12-19T17:13:34.825Z"
   },
   {
    "duration": 18,
    "start_time": "2021-12-19T17:13:34.866Z"
   },
   {
    "duration": 15,
    "start_time": "2021-12-19T17:13:34.885Z"
   },
   {
    "duration": 7,
    "start_time": "2021-12-19T17:13:34.901Z"
   },
   {
    "duration": 8,
    "start_time": "2021-12-19T17:13:34.910Z"
   },
   {
    "duration": 9,
    "start_time": "2021-12-19T17:13:34.920Z"
   },
   {
    "duration": 6,
    "start_time": "2021-12-19T17:13:34.964Z"
   },
   {
    "duration": 16,
    "start_time": "2021-12-19T17:13:34.972Z"
   },
   {
    "duration": 15,
    "start_time": "2021-12-19T17:13:34.989Z"
   },
   {
    "duration": 13,
    "start_time": "2021-12-19T17:13:35.006Z"
   },
   {
    "duration": 9,
    "start_time": "2021-12-19T17:13:35.021Z"
   },
   {
    "duration": 13,
    "start_time": "2021-12-19T17:13:35.032Z"
   },
   {
    "duration": 21,
    "start_time": "2021-12-19T17:13:35.047Z"
   },
   {
    "duration": 47,
    "start_time": "2021-12-19T17:13:35.070Z"
   },
   {
    "duration": 5,
    "start_time": "2021-12-19T17:13:35.118Z"
   },
   {
    "duration": 7,
    "start_time": "2021-12-19T17:13:35.124Z"
   },
   {
    "duration": 7,
    "start_time": "2021-12-19T17:13:35.133Z"
   },
   {
    "duration": 20,
    "start_time": "2021-12-19T17:13:35.164Z"
   },
   {
    "duration": 5,
    "start_time": "2021-12-19T17:13:35.186Z"
   },
   {
    "duration": 34,
    "start_time": "2021-12-19T17:13:35.192Z"
   },
   {
    "duration": 3,
    "start_time": "2021-12-19T17:13:35.228Z"
   },
   {
    "duration": 44,
    "start_time": "2021-12-19T17:13:35.233Z"
   },
   {
    "duration": 31,
    "start_time": "2021-12-19T17:13:35.278Z"
   },
   {
    "duration": 18,
    "start_time": "2021-12-19T17:13:35.311Z"
   },
   {
    "duration": 51,
    "start_time": "2021-12-19T17:13:35.331Z"
   },
   {
    "duration": 27,
    "start_time": "2021-12-19T17:13:35.384Z"
   },
   {
    "duration": 51,
    "start_time": "2021-12-19T17:13:35.413Z"
   },
   {
    "duration": 78,
    "start_time": "2021-12-19T17:13:35.466Z"
   },
   {
    "duration": 19,
    "start_time": "2021-12-19T17:13:35.546Z"
   },
   {
    "duration": 116,
    "start_time": "2021-12-19T17:13:35.567Z"
   },
   {
    "duration": 131,
    "start_time": "2021-12-19T17:13:35.685Z"
   },
   {
    "duration": 13,
    "start_time": "2021-12-19T17:13:35.818Z"
   },
   {
    "duration": 39,
    "start_time": "2021-12-19T17:13:35.833Z"
   },
   {
    "duration": 4,
    "start_time": "2021-12-19T17:13:35.874Z"
   },
   {
    "duration": 18,
    "start_time": "2021-12-19T17:13:35.880Z"
   },
   {
    "duration": 19,
    "start_time": "2021-12-19T17:13:35.900Z"
   },
   {
    "duration": 8,
    "start_time": "2021-12-19T17:13:35.921Z"
   },
   {
    "duration": 47,
    "start_time": "2021-12-19T17:13:35.963Z"
   },
   {
    "duration": 53,
    "start_time": "2021-12-19T17:13:36.011Z"
   },
   {
    "duration": 12,
    "start_time": "2021-12-19T17:13:36.070Z"
   },
   {
    "duration": 961,
    "start_time": "2021-12-19T17:13:36.085Z"
   },
   {
    "duration": 5,
    "start_time": "2021-12-19T17:13:37.048Z"
   },
   {
    "duration": 200,
    "start_time": "2021-12-19T17:13:37.063Z"
   },
   {
    "duration": 2538,
    "start_time": "2021-12-19T17:13:37.265Z"
   },
   {
    "duration": 2,
    "start_time": "2021-12-19T17:13:39.805Z"
   },
   {
    "duration": 6,
    "start_time": "2021-12-19T17:13:39.809Z"
   },
   {
    "duration": 12,
    "start_time": "2021-12-19T17:13:39.816Z"
   },
   {
    "duration": 7,
    "start_time": "2021-12-19T17:13:39.830Z"
   },
   {
    "duration": 59,
    "start_time": "2021-12-19T17:13:39.838Z"
   },
   {
    "duration": 9,
    "start_time": "2021-12-19T17:13:39.899Z"
   },
   {
    "duration": 3,
    "start_time": "2021-12-19T17:13:39.910Z"
   },
   {
    "duration": 5,
    "start_time": "2021-12-19T17:13:39.914Z"
   },
   {
    "duration": 7,
    "start_time": "2021-12-19T17:13:39.920Z"
   },
   {
    "duration": 7,
    "start_time": "2021-12-19T17:13:39.928Z"
   },
   {
    "duration": 28,
    "start_time": "2021-12-19T17:13:39.937Z"
   },
   {
    "duration": 5,
    "start_time": "2021-12-19T17:13:39.966Z"
   },
   {
    "duration": 4,
    "start_time": "2021-12-19T17:13:39.973Z"
   },
   {
    "duration": 13,
    "start_time": "2021-12-19T17:13:39.979Z"
   },
   {
    "duration": 17,
    "start_time": "2021-12-19T17:13:39.993Z"
   },
   {
    "duration": 28,
    "start_time": "2021-12-19T17:13:40.012Z"
   },
   {
    "duration": 30,
    "start_time": "2021-12-19T17:13:40.041Z"
   },
   {
    "duration": 27,
    "start_time": "2021-12-19T17:13:40.073Z"
   },
   {
    "duration": 9,
    "start_time": "2021-12-19T17:13:40.102Z"
   },
   {
    "duration": 22,
    "start_time": "2021-12-19T17:13:40.113Z"
   },
   {
    "duration": 35,
    "start_time": "2021-12-19T17:13:40.137Z"
   },
   {
    "duration": 23,
    "start_time": "2021-12-19T17:13:40.173Z"
   },
   {
    "duration": 3,
    "start_time": "2021-12-19T17:22:48.817Z"
   },
   {
    "duration": 85,
    "start_time": "2021-12-19T17:22:48.823Z"
   },
   {
    "duration": 19,
    "start_time": "2021-12-19T17:22:48.910Z"
   },
   {
    "duration": 5,
    "start_time": "2021-12-19T17:22:48.931Z"
   },
   {
    "duration": 16,
    "start_time": "2021-12-19T17:22:48.964Z"
   },
   {
    "duration": 38,
    "start_time": "2021-12-19T17:22:48.982Z"
   },
   {
    "duration": 46,
    "start_time": "2021-12-19T17:22:49.022Z"
   },
   {
    "duration": 5,
    "start_time": "2021-12-19T17:22:49.071Z"
   },
   {
    "duration": 15,
    "start_time": "2021-12-19T17:22:49.079Z"
   },
   {
    "duration": 5,
    "start_time": "2021-12-19T17:22:49.096Z"
   },
   {
    "duration": 23,
    "start_time": "2021-12-19T17:22:49.103Z"
   },
   {
    "duration": 62,
    "start_time": "2021-12-19T17:22:49.128Z"
   },
   {
    "duration": 22,
    "start_time": "2021-12-19T17:22:49.191Z"
   },
   {
    "duration": 50,
    "start_time": "2021-12-19T17:22:49.215Z"
   },
   {
    "duration": 23,
    "start_time": "2021-12-19T17:22:49.267Z"
   },
   {
    "duration": 28,
    "start_time": "2021-12-19T17:22:49.293Z"
   },
   {
    "duration": 49,
    "start_time": "2021-12-19T17:22:49.323Z"
   },
   {
    "duration": 71,
    "start_time": "2021-12-19T17:22:49.373Z"
   },
   {
    "duration": 51,
    "start_time": "2021-12-19T17:22:49.446Z"
   },
   {
    "duration": 11,
    "start_time": "2021-12-19T17:22:49.500Z"
   },
   {
    "duration": 9,
    "start_time": "2021-12-19T17:22:49.513Z"
   },
   {
    "duration": 73,
    "start_time": "2021-12-19T17:22:49.523Z"
   },
   {
    "duration": 23,
    "start_time": "2021-12-19T17:22:49.602Z"
   },
   {
    "duration": 44,
    "start_time": "2021-12-19T17:22:49.629Z"
   },
   {
    "duration": 4,
    "start_time": "2021-12-19T17:22:49.676Z"
   },
   {
    "duration": 15,
    "start_time": "2021-12-19T17:22:49.682Z"
   },
   {
    "duration": 25,
    "start_time": "2021-12-19T17:22:49.698Z"
   },
   {
    "duration": 43,
    "start_time": "2021-12-19T17:22:49.725Z"
   },
   {
    "duration": 13,
    "start_time": "2021-12-19T17:22:49.770Z"
   },
   {
    "duration": 18,
    "start_time": "2021-12-19T17:22:49.785Z"
   },
   {
    "duration": 157,
    "start_time": "2021-12-19T17:22:49.805Z"
   },
   {
    "duration": 91,
    "start_time": "2021-12-19T17:22:49.964Z"
   },
   {
    "duration": 13,
    "start_time": "2021-12-19T17:22:50.057Z"
   },
   {
    "duration": 9,
    "start_time": "2021-12-19T17:22:50.072Z"
   },
   {
    "duration": 9,
    "start_time": "2021-12-19T17:22:50.083Z"
   },
   {
    "duration": 19,
    "start_time": "2021-12-19T17:22:50.094Z"
   },
   {
    "duration": 20,
    "start_time": "2021-12-19T17:22:50.115Z"
   },
   {
    "duration": 32,
    "start_time": "2021-12-19T17:22:50.137Z"
   },
   {
    "duration": 6,
    "start_time": "2021-12-19T17:22:50.171Z"
   },
   {
    "duration": 11,
    "start_time": "2021-12-19T17:22:50.179Z"
   },
   {
    "duration": 15,
    "start_time": "2021-12-19T17:22:50.192Z"
   },
   {
    "duration": 78,
    "start_time": "2021-12-19T17:22:50.209Z"
   },
   {
    "duration": 5,
    "start_time": "2021-12-19T17:22:50.290Z"
   },
   {
    "duration": 23,
    "start_time": "2021-12-19T17:22:50.297Z"
   },
   {
    "duration": 24,
    "start_time": "2021-12-19T17:22:50.322Z"
   },
   {
    "duration": 33,
    "start_time": "2021-12-19T17:22:50.348Z"
   },
   {
    "duration": 14,
    "start_time": "2021-12-19T17:22:50.383Z"
   },
   {
    "duration": 33,
    "start_time": "2021-12-19T17:22:50.399Z"
   },
   {
    "duration": 5,
    "start_time": "2021-12-19T17:22:50.435Z"
   },
   {
    "duration": 37,
    "start_time": "2021-12-19T17:22:50.442Z"
   },
   {
    "duration": 32,
    "start_time": "2021-12-19T17:22:50.481Z"
   },
   {
    "duration": 16,
    "start_time": "2021-12-19T17:22:50.515Z"
   },
   {
    "duration": 47,
    "start_time": "2021-12-19T17:22:50.533Z"
   },
   {
    "duration": 41,
    "start_time": "2021-12-19T17:22:50.582Z"
   },
   {
    "duration": 20,
    "start_time": "2021-12-19T17:22:50.625Z"
   },
   {
    "duration": 84,
    "start_time": "2021-12-19T17:22:50.647Z"
   },
   {
    "duration": 12,
    "start_time": "2021-12-19T17:22:50.733Z"
   },
   {
    "duration": 115,
    "start_time": "2021-12-19T17:22:50.764Z"
   },
   {
    "duration": 105,
    "start_time": "2021-12-19T17:22:50.881Z"
   },
   {
    "duration": 13,
    "start_time": "2021-12-19T17:22:50.987Z"
   },
   {
    "duration": 27,
    "start_time": "2021-12-19T17:22:51.002Z"
   },
   {
    "duration": 5,
    "start_time": "2021-12-19T17:22:51.030Z"
   },
   {
    "duration": 37,
    "start_time": "2021-12-19T17:22:51.037Z"
   },
   {
    "duration": 20,
    "start_time": "2021-12-19T17:22:51.075Z"
   },
   {
    "duration": 7,
    "start_time": "2021-12-19T17:22:51.097Z"
   },
   {
    "duration": 75,
    "start_time": "2021-12-19T17:22:51.106Z"
   },
   {
    "duration": 46,
    "start_time": "2021-12-19T17:22:51.183Z"
   },
   {
    "duration": 29,
    "start_time": "2021-12-19T17:22:51.236Z"
   },
   {
    "duration": 1061,
    "start_time": "2021-12-19T17:22:51.267Z"
   },
   {
    "duration": 4,
    "start_time": "2021-12-19T17:22:52.330Z"
   },
   {
    "duration": 209,
    "start_time": "2021-12-19T17:22:52.337Z"
   },
   {
    "duration": 2569,
    "start_time": "2021-12-19T17:22:52.548Z"
   },
   {
    "duration": 3,
    "start_time": "2021-12-19T17:22:55.119Z"
   },
   {
    "duration": 12,
    "start_time": "2021-12-19T17:22:55.123Z"
   },
   {
    "duration": 24,
    "start_time": "2021-12-19T17:22:55.137Z"
   },
   {
    "duration": 18,
    "start_time": "2021-12-19T17:22:55.163Z"
   },
   {
    "duration": 43,
    "start_time": "2021-12-19T17:22:55.183Z"
   },
   {
    "duration": 8,
    "start_time": "2021-12-19T17:22:55.227Z"
   },
   {
    "duration": 5,
    "start_time": "2021-12-19T17:22:55.237Z"
   },
   {
    "duration": 11,
    "start_time": "2021-12-19T17:22:55.244Z"
   },
   {
    "duration": 31,
    "start_time": "2021-12-19T17:22:55.256Z"
   },
   {
    "duration": 6,
    "start_time": "2021-12-19T17:22:55.288Z"
   },
   {
    "duration": 19,
    "start_time": "2021-12-19T17:22:55.296Z"
   },
   {
    "duration": 8,
    "start_time": "2021-12-19T17:22:55.317Z"
   },
   {
    "duration": 10,
    "start_time": "2021-12-19T17:22:55.327Z"
   },
   {
    "duration": 15,
    "start_time": "2021-12-19T17:22:55.339Z"
   },
   {
    "duration": 15,
    "start_time": "2021-12-19T17:22:55.356Z"
   },
   {
    "duration": 34,
    "start_time": "2021-12-19T17:22:55.373Z"
   },
   {
    "duration": 18,
    "start_time": "2021-12-19T17:22:55.409Z"
   },
   {
    "duration": 40,
    "start_time": "2021-12-19T17:22:55.428Z"
   },
   {
    "duration": 12,
    "start_time": "2021-12-19T17:22:55.469Z"
   },
   {
    "duration": 31,
    "start_time": "2021-12-19T17:22:55.482Z"
   },
   {
    "duration": 16,
    "start_time": "2021-12-19T17:22:55.515Z"
   },
   {
    "duration": 46,
    "start_time": "2021-12-19T17:22:55.533Z"
   },
   {
    "duration": 3,
    "start_time": "2021-12-19T17:28:19.418Z"
   },
   {
    "duration": 95,
    "start_time": "2021-12-19T17:28:19.422Z"
   },
   {
    "duration": 12,
    "start_time": "2021-12-19T17:28:19.519Z"
   },
   {
    "duration": 23,
    "start_time": "2021-12-19T17:28:19.533Z"
   },
   {
    "duration": 30,
    "start_time": "2021-12-19T17:28:19.558Z"
   },
   {
    "duration": 45,
    "start_time": "2021-12-19T17:28:19.590Z"
   },
   {
    "duration": 28,
    "start_time": "2021-12-19T17:28:19.637Z"
   },
   {
    "duration": 4,
    "start_time": "2021-12-19T17:28:19.667Z"
   },
   {
    "duration": 27,
    "start_time": "2021-12-19T17:28:19.673Z"
   },
   {
    "duration": 20,
    "start_time": "2021-12-19T17:28:19.701Z"
   },
   {
    "duration": 32,
    "start_time": "2021-12-19T17:28:19.722Z"
   },
   {
    "duration": 25,
    "start_time": "2021-12-19T17:28:19.756Z"
   },
   {
    "duration": 27,
    "start_time": "2021-12-19T17:28:19.783Z"
   },
   {
    "duration": 21,
    "start_time": "2021-12-19T17:28:19.812Z"
   },
   {
    "duration": 47,
    "start_time": "2021-12-19T17:28:19.834Z"
   },
   {
    "duration": 21,
    "start_time": "2021-12-19T17:28:19.883Z"
   },
   {
    "duration": 23,
    "start_time": "2021-12-19T17:28:19.906Z"
   },
   {
    "duration": 75,
    "start_time": "2021-12-19T17:28:19.931Z"
   },
   {
    "duration": 28,
    "start_time": "2021-12-19T17:28:20.010Z"
   },
   {
    "duration": 28,
    "start_time": "2021-12-19T17:28:20.042Z"
   },
   {
    "duration": 11,
    "start_time": "2021-12-19T17:28:20.073Z"
   },
   {
    "duration": 47,
    "start_time": "2021-12-19T17:28:20.086Z"
   },
   {
    "duration": 14,
    "start_time": "2021-12-19T17:28:20.135Z"
   },
   {
    "duration": 38,
    "start_time": "2021-12-19T17:28:20.151Z"
   },
   {
    "duration": 25,
    "start_time": "2021-12-19T17:28:20.191Z"
   },
   {
    "duration": 32,
    "start_time": "2021-12-19T17:28:20.218Z"
   },
   {
    "duration": 47,
    "start_time": "2021-12-19T17:28:20.252Z"
   },
   {
    "duration": 10,
    "start_time": "2021-12-19T17:28:20.301Z"
   },
   {
    "duration": 30,
    "start_time": "2021-12-19T17:28:20.312Z"
   },
   {
    "duration": 46,
    "start_time": "2021-12-19T17:28:20.344Z"
   },
   {
    "duration": 26,
    "start_time": "2021-12-19T17:28:20.393Z"
   },
   {
    "duration": 19,
    "start_time": "2021-12-19T17:28:20.421Z"
   },
   {
    "duration": 22,
    "start_time": "2021-12-19T17:28:20.441Z"
   },
   {
    "duration": 26,
    "start_time": "2021-12-19T17:28:20.465Z"
   },
   {
    "duration": 29,
    "start_time": "2021-12-19T17:28:20.494Z"
   },
   {
    "duration": 29,
    "start_time": "2021-12-19T17:28:20.525Z"
   },
   {
    "duration": 33,
    "start_time": "2021-12-19T17:28:20.556Z"
   },
   {
    "duration": 27,
    "start_time": "2021-12-19T17:28:20.591Z"
   },
   {
    "duration": 28,
    "start_time": "2021-12-19T17:28:20.620Z"
   },
   {
    "duration": 37,
    "start_time": "2021-12-19T17:28:20.649Z"
   },
   {
    "duration": 17,
    "start_time": "2021-12-19T17:28:20.688Z"
   },
   {
    "duration": 82,
    "start_time": "2021-12-19T17:28:20.707Z"
   },
   {
    "duration": 6,
    "start_time": "2021-12-19T17:28:20.791Z"
   },
   {
    "duration": 23,
    "start_time": "2021-12-19T17:28:20.799Z"
   },
   {
    "duration": 29,
    "start_time": "2021-12-19T17:28:20.824Z"
   },
   {
    "duration": 60,
    "start_time": "2021-12-19T17:28:20.855Z"
   },
   {
    "duration": 6,
    "start_time": "2021-12-19T17:28:20.917Z"
   },
   {
    "duration": 47,
    "start_time": "2021-12-19T17:28:20.925Z"
   },
   {
    "duration": 4,
    "start_time": "2021-12-19T17:28:20.974Z"
   },
   {
    "duration": 32,
    "start_time": "2021-12-19T17:28:20.980Z"
   },
   {
    "duration": 52,
    "start_time": "2021-12-19T17:28:21.014Z"
   },
   {
    "duration": 23,
    "start_time": "2021-12-19T17:28:21.068Z"
   },
   {
    "duration": 25,
    "start_time": "2021-12-19T17:28:21.093Z"
   },
   {
    "duration": 52,
    "start_time": "2021-12-19T17:28:21.120Z"
   },
   {
    "duration": 26,
    "start_time": "2021-12-19T17:28:21.180Z"
   },
   {
    "duration": 103,
    "start_time": "2021-12-19T17:28:21.209Z"
   },
   {
    "duration": 29,
    "start_time": "2021-12-19T17:28:21.313Z"
   },
   {
    "duration": 137,
    "start_time": "2021-12-19T17:28:21.344Z"
   },
   {
    "duration": 127,
    "start_time": "2021-12-19T17:28:21.484Z"
   },
   {
    "duration": 14,
    "start_time": "2021-12-19T17:28:21.612Z"
   },
   {
    "duration": 40,
    "start_time": "2021-12-19T17:28:21.628Z"
   },
   {
    "duration": 6,
    "start_time": "2021-12-19T17:28:21.671Z"
   },
   {
    "duration": 48,
    "start_time": "2021-12-19T17:28:21.680Z"
   },
   {
    "duration": 40,
    "start_time": "2021-12-19T17:28:21.730Z"
   },
   {
    "duration": 11,
    "start_time": "2021-12-19T17:28:21.773Z"
   },
   {
    "duration": 95,
    "start_time": "2021-12-19T17:28:21.786Z"
   },
   {
    "duration": 47,
    "start_time": "2021-12-19T17:28:21.883Z"
   },
   {
    "duration": 31,
    "start_time": "2021-12-19T17:28:21.933Z"
   },
   {
    "duration": 725,
    "start_time": "2021-12-19T17:28:21.966Z"
   },
   {
    "duration": 5,
    "start_time": "2021-12-19T17:28:22.693Z"
   },
   {
    "duration": 321,
    "start_time": "2021-12-19T17:28:22.700Z"
   },
   {
    "duration": 2031,
    "start_time": "2021-12-19T17:28:23.023Z"
   },
   {
    "duration": 3,
    "start_time": "2021-12-19T17:28:25.055Z"
   },
   {
    "duration": 10,
    "start_time": "2021-12-19T17:28:25.063Z"
   },
   {
    "duration": 26,
    "start_time": "2021-12-19T17:28:25.076Z"
   },
   {
    "duration": 7,
    "start_time": "2021-12-19T17:28:25.104Z"
   },
   {
    "duration": 56,
    "start_time": "2021-12-19T17:28:25.113Z"
   },
   {
    "duration": 11,
    "start_time": "2021-12-19T17:28:25.171Z"
   },
   {
    "duration": 18,
    "start_time": "2021-12-19T17:28:25.184Z"
   },
   {
    "duration": 19,
    "start_time": "2021-12-19T17:28:25.204Z"
   },
   {
    "duration": 15,
    "start_time": "2021-12-19T17:28:25.225Z"
   },
   {
    "duration": 9,
    "start_time": "2021-12-19T17:28:25.241Z"
   },
   {
    "duration": 22,
    "start_time": "2021-12-19T17:28:25.251Z"
   },
   {
    "duration": 12,
    "start_time": "2021-12-19T17:28:25.275Z"
   },
   {
    "duration": 4,
    "start_time": "2021-12-19T17:28:25.289Z"
   },
   {
    "duration": 11,
    "start_time": "2021-12-19T17:28:25.294Z"
   },
   {
    "duration": 16,
    "start_time": "2021-12-19T17:28:25.307Z"
   },
   {
    "duration": 23,
    "start_time": "2021-12-19T17:28:25.325Z"
   },
   {
    "duration": 31,
    "start_time": "2021-12-19T17:28:25.350Z"
   },
   {
    "duration": 37,
    "start_time": "2021-12-19T17:28:25.384Z"
   },
   {
    "duration": 13,
    "start_time": "2021-12-19T17:28:25.423Z"
   },
   {
    "duration": 46,
    "start_time": "2021-12-19T17:28:25.437Z"
   },
   {
    "duration": 12,
    "start_time": "2021-12-19T17:28:25.484Z"
   },
   {
    "duration": 37,
    "start_time": "2021-12-19T17:28:25.498Z"
   },
   {
    "duration": 3,
    "start_time": "2021-12-19T17:34:40.844Z"
   },
   {
    "duration": 74,
    "start_time": "2021-12-19T17:34:40.851Z"
   },
   {
    "duration": 18,
    "start_time": "2021-12-19T17:34:40.927Z"
   },
   {
    "duration": 7,
    "start_time": "2021-12-19T17:34:40.964Z"
   },
   {
    "duration": 22,
    "start_time": "2021-12-19T17:34:40.973Z"
   },
   {
    "duration": 82,
    "start_time": "2021-12-19T17:34:40.999Z"
   },
   {
    "duration": 13,
    "start_time": "2021-12-19T17:34:41.084Z"
   },
   {
    "duration": 5,
    "start_time": "2021-12-19T17:34:41.101Z"
   },
   {
    "duration": 13,
    "start_time": "2021-12-19T17:34:41.108Z"
   },
   {
    "duration": 6,
    "start_time": "2021-12-19T17:34:41.166Z"
   },
   {
    "duration": 39,
    "start_time": "2021-12-19T17:34:41.174Z"
   },
   {
    "duration": 27,
    "start_time": "2021-12-19T17:34:41.215Z"
   },
   {
    "duration": 47,
    "start_time": "2021-12-19T17:34:41.243Z"
   },
   {
    "duration": 21,
    "start_time": "2021-12-19T17:34:41.292Z"
   },
   {
    "duration": 50,
    "start_time": "2021-12-19T17:34:41.315Z"
   },
   {
    "duration": 29,
    "start_time": "2021-12-19T17:34:41.369Z"
   },
   {
    "duration": 20,
    "start_time": "2021-12-19T17:34:41.401Z"
   },
   {
    "duration": 86,
    "start_time": "2021-12-19T17:34:41.423Z"
   },
   {
    "duration": 23,
    "start_time": "2021-12-19T17:34:41.511Z"
   },
   {
    "duration": 28,
    "start_time": "2021-12-19T17:34:41.537Z"
   },
   {
    "duration": 11,
    "start_time": "2021-12-19T17:34:41.567Z"
   },
   {
    "duration": 34,
    "start_time": "2021-12-19T17:34:41.580Z"
   },
   {
    "duration": 10,
    "start_time": "2021-12-19T17:34:41.615Z"
   },
   {
    "duration": 58,
    "start_time": "2021-12-19T17:34:41.627Z"
   },
   {
    "duration": 4,
    "start_time": "2021-12-19T17:34:41.688Z"
   },
   {
    "duration": 16,
    "start_time": "2021-12-19T17:34:41.694Z"
   },
   {
    "duration": 23,
    "start_time": "2021-12-19T17:34:41.711Z"
   },
   {
    "duration": 13,
    "start_time": "2021-12-19T17:34:41.763Z"
   },
   {
    "duration": 12,
    "start_time": "2021-12-19T17:34:41.780Z"
   },
   {
    "duration": 18,
    "start_time": "2021-12-19T17:34:41.795Z"
   },
   {
    "duration": 9,
    "start_time": "2021-12-19T17:34:41.815Z"
   },
   {
    "duration": 41,
    "start_time": "2021-12-19T17:34:41.826Z"
   },
   {
    "duration": 13,
    "start_time": "2021-12-19T17:34:41.870Z"
   },
   {
    "duration": 9,
    "start_time": "2021-12-19T17:34:41.888Z"
   },
   {
    "duration": 6,
    "start_time": "2021-12-19T17:34:41.899Z"
   },
   {
    "duration": 18,
    "start_time": "2021-12-19T17:34:41.907Z"
   },
   {
    "duration": 20,
    "start_time": "2021-12-19T17:34:41.963Z"
   },
   {
    "duration": 13,
    "start_time": "2021-12-19T17:34:41.985Z"
   },
   {
    "duration": 5,
    "start_time": "2021-12-19T17:34:42.001Z"
   },
   {
    "duration": 7,
    "start_time": "2021-12-19T17:34:42.008Z"
   },
   {
    "duration": 10,
    "start_time": "2021-12-19T17:34:42.017Z"
   },
   {
    "duration": 88,
    "start_time": "2021-12-19T17:34:42.029Z"
   },
   {
    "duration": 6,
    "start_time": "2021-12-19T17:34:42.120Z"
   },
   {
    "duration": 9,
    "start_time": "2021-12-19T17:34:42.128Z"
   },
   {
    "duration": 5,
    "start_time": "2021-12-19T17:34:42.139Z"
   },
   {
    "duration": 30,
    "start_time": "2021-12-19T17:34:42.164Z"
   },
   {
    "duration": 7,
    "start_time": "2021-12-19T17:34:42.196Z"
   },
   {
    "duration": 27,
    "start_time": "2021-12-19T17:34:42.205Z"
   },
   {
    "duration": 36,
    "start_time": "2021-12-19T17:34:42.233Z"
   },
   {
    "duration": 23,
    "start_time": "2021-12-19T17:34:42.274Z"
   },
   {
    "duration": 44,
    "start_time": "2021-12-19T17:34:42.299Z"
   },
   {
    "duration": 35,
    "start_time": "2021-12-19T17:34:42.363Z"
   },
   {
    "duration": 32,
    "start_time": "2021-12-19T17:34:42.401Z"
   },
   {
    "duration": 52,
    "start_time": "2021-12-19T17:34:42.435Z"
   },
   {
    "duration": 30,
    "start_time": "2021-12-19T17:34:42.488Z"
   },
   {
    "duration": 176,
    "start_time": "2021-12-19T17:34:42.520Z"
   },
   {
    "duration": 12,
    "start_time": "2021-12-19T17:34:42.698Z"
   },
   {
    "duration": 130,
    "start_time": "2021-12-19T17:34:42.712Z"
   },
   {
    "duration": 120,
    "start_time": "2021-12-19T17:34:42.844Z"
   },
   {
    "duration": 17,
    "start_time": "2021-12-19T17:34:42.967Z"
   },
   {
    "duration": 45,
    "start_time": "2021-12-19T17:34:42.986Z"
   },
   {
    "duration": 30,
    "start_time": "2021-12-19T17:34:43.033Z"
   },
   {
    "duration": 24,
    "start_time": "2021-12-19T17:34:43.067Z"
   },
   {
    "duration": 30,
    "start_time": "2021-12-19T17:34:43.092Z"
   },
   {
    "duration": 7,
    "start_time": "2021-12-19T17:34:43.123Z"
   },
   {
    "duration": 79,
    "start_time": "2021-12-19T17:34:43.132Z"
   },
   {
    "duration": 58,
    "start_time": "2021-12-19T17:34:43.213Z"
   },
   {
    "duration": 18,
    "start_time": "2021-12-19T17:34:43.274Z"
   },
   {
    "duration": 997,
    "start_time": "2021-12-19T17:34:43.295Z"
   },
   {
    "duration": 5,
    "start_time": "2021-12-19T17:34:44.295Z"
   },
   {
    "duration": 325,
    "start_time": "2021-12-19T17:34:44.302Z"
   },
   {
    "duration": 2590,
    "start_time": "2021-12-19T17:34:44.630Z"
   },
   {
    "duration": 3,
    "start_time": "2021-12-19T17:34:47.222Z"
   },
   {
    "duration": 7,
    "start_time": "2021-12-19T17:34:47.226Z"
   },
   {
    "duration": 29,
    "start_time": "2021-12-19T17:34:47.235Z"
   },
   {
    "duration": 5,
    "start_time": "2021-12-19T17:34:47.267Z"
   },
   {
    "duration": 40,
    "start_time": "2021-12-19T17:34:47.274Z"
   },
   {
    "duration": 8,
    "start_time": "2021-12-19T17:34:47.316Z"
   },
   {
    "duration": 4,
    "start_time": "2021-12-19T17:34:47.326Z"
   },
   {
    "duration": 4,
    "start_time": "2021-12-19T17:34:47.367Z"
   },
   {
    "duration": 4,
    "start_time": "2021-12-19T17:34:47.374Z"
   },
   {
    "duration": 2,
    "start_time": "2021-12-19T17:34:47.387Z"
   },
   {
    "duration": 10,
    "start_time": "2021-12-19T17:34:47.391Z"
   },
   {
    "duration": 6,
    "start_time": "2021-12-19T17:34:47.403Z"
   },
   {
    "duration": 6,
    "start_time": "2021-12-19T17:34:47.412Z"
   },
   {
    "duration": 13,
    "start_time": "2021-12-19T17:34:47.420Z"
   },
   {
    "duration": 42,
    "start_time": "2021-12-19T17:34:47.434Z"
   },
   {
    "duration": 34,
    "start_time": "2021-12-19T17:34:47.478Z"
   },
   {
    "duration": 48,
    "start_time": "2021-12-19T17:34:47.515Z"
   },
   {
    "duration": 40,
    "start_time": "2021-12-19T17:34:47.566Z"
   },
   {
    "duration": 13,
    "start_time": "2021-12-19T17:34:47.609Z"
   },
   {
    "duration": 60,
    "start_time": "2021-12-19T17:34:47.624Z"
   },
   {
    "duration": 20,
    "start_time": "2021-12-19T17:34:47.688Z"
   },
   {
    "duration": 87,
    "start_time": "2021-12-19T17:34:47.711Z"
   },
   {
    "duration": 3,
    "start_time": "2021-12-19T17:37:30.858Z"
   },
   {
    "duration": 68,
    "start_time": "2021-12-19T17:37:30.863Z"
   },
   {
    "duration": 12,
    "start_time": "2021-12-19T17:37:30.933Z"
   },
   {
    "duration": 20,
    "start_time": "2021-12-19T17:37:30.947Z"
   },
   {
    "duration": 22,
    "start_time": "2021-12-19T17:37:30.969Z"
   },
   {
    "duration": 71,
    "start_time": "2021-12-19T17:37:30.993Z"
   },
   {
    "duration": 12,
    "start_time": "2021-12-19T17:37:31.066Z"
   },
   {
    "duration": 5,
    "start_time": "2021-12-19T17:37:31.081Z"
   },
   {
    "duration": 22,
    "start_time": "2021-12-19T17:37:31.089Z"
   },
   {
    "duration": 19,
    "start_time": "2021-12-19T17:37:31.114Z"
   },
   {
    "duration": 55,
    "start_time": "2021-12-19T17:37:31.136Z"
   },
   {
    "duration": 25,
    "start_time": "2021-12-19T17:37:31.192Z"
   },
   {
    "duration": 50,
    "start_time": "2021-12-19T17:37:31.219Z"
   },
   {
    "duration": 33,
    "start_time": "2021-12-19T17:37:31.271Z"
   },
   {
    "duration": 24,
    "start_time": "2021-12-19T17:37:31.307Z"
   },
   {
    "duration": 51,
    "start_time": "2021-12-19T17:37:31.333Z"
   },
   {
    "duration": 23,
    "start_time": "2021-12-19T17:37:31.387Z"
   },
   {
    "duration": 62,
    "start_time": "2021-12-19T17:37:31.412Z"
   },
   {
    "duration": 30,
    "start_time": "2021-12-19T17:37:31.476Z"
   },
   {
    "duration": 9,
    "start_time": "2021-12-19T17:37:31.508Z"
   },
   {
    "duration": 11,
    "start_time": "2021-12-19T17:37:31.519Z"
   },
   {
    "duration": 67,
    "start_time": "2021-12-19T17:37:31.532Z"
   },
   {
    "duration": 10,
    "start_time": "2021-12-19T17:37:31.604Z"
   },
   {
    "duration": 23,
    "start_time": "2021-12-19T17:37:31.618Z"
   },
   {
    "duration": 8,
    "start_time": "2021-12-19T17:37:31.665Z"
   },
   {
    "duration": 25,
    "start_time": "2021-12-19T17:37:31.676Z"
   },
   {
    "duration": 42,
    "start_time": "2021-12-19T17:37:31.703Z"
   },
   {
    "duration": 27,
    "start_time": "2021-12-19T17:37:31.747Z"
   },
   {
    "duration": 12,
    "start_time": "2021-12-19T17:37:31.776Z"
   },
   {
    "duration": 35,
    "start_time": "2021-12-19T17:37:31.790Z"
   },
   {
    "duration": 12,
    "start_time": "2021-12-19T17:37:31.828Z"
   },
   {
    "duration": 35,
    "start_time": "2021-12-19T17:37:31.842Z"
   },
   {
    "duration": 11,
    "start_time": "2021-12-19T17:37:31.882Z"
   },
   {
    "duration": 20,
    "start_time": "2021-12-19T17:37:31.895Z"
   },
   {
    "duration": 7,
    "start_time": "2021-12-19T17:37:31.917Z"
   },
   {
    "duration": 16,
    "start_time": "2021-12-19T17:37:31.926Z"
   },
   {
    "duration": 31,
    "start_time": "2021-12-19T17:37:31.964Z"
   },
   {
    "duration": 11,
    "start_time": "2021-12-19T17:37:31.998Z"
   },
   {
    "duration": 8,
    "start_time": "2021-12-19T17:37:32.011Z"
   },
   {
    "duration": 11,
    "start_time": "2021-12-19T17:37:32.021Z"
   },
   {
    "duration": 14,
    "start_time": "2021-12-19T17:37:32.034Z"
   },
   {
    "duration": 95,
    "start_time": "2021-12-19T17:37:32.049Z"
   },
   {
    "duration": 19,
    "start_time": "2021-12-19T17:37:32.147Z"
   },
   {
    "duration": 11,
    "start_time": "2021-12-19T17:37:32.168Z"
   },
   {
    "duration": 15,
    "start_time": "2021-12-19T17:37:32.181Z"
   },
   {
    "duration": 44,
    "start_time": "2021-12-19T17:37:32.198Z"
   },
   {
    "duration": 7,
    "start_time": "2021-12-19T17:37:32.244Z"
   },
   {
    "duration": 46,
    "start_time": "2021-12-19T17:37:32.253Z"
   },
   {
    "duration": 4,
    "start_time": "2021-12-19T17:37:32.301Z"
   },
   {
    "duration": 19,
    "start_time": "2021-12-19T17:37:32.307Z"
   },
   {
    "duration": 61,
    "start_time": "2021-12-19T17:37:32.328Z"
   },
   {
    "duration": 21,
    "start_time": "2021-12-19T17:37:32.391Z"
   },
   {
    "duration": 24,
    "start_time": "2021-12-19T17:37:32.414Z"
   },
   {
    "duration": 62,
    "start_time": "2021-12-19T17:37:32.440Z"
   },
   {
    "duration": 22,
    "start_time": "2021-12-19T17:37:32.504Z"
   },
   {
    "duration": 111,
    "start_time": "2021-12-19T17:37:32.528Z"
   },
   {
    "duration": 26,
    "start_time": "2021-12-19T17:37:32.641Z"
   },
   {
    "duration": 171,
    "start_time": "2021-12-19T17:37:32.671Z"
   },
   {
    "duration": 142,
    "start_time": "2021-12-19T17:37:32.844Z"
   },
   {
    "duration": 14,
    "start_time": "2021-12-19T17:37:32.988Z"
   },
   {
    "duration": 35,
    "start_time": "2021-12-19T17:37:33.004Z"
   },
   {
    "duration": 4,
    "start_time": "2021-12-19T17:37:33.041Z"
   },
   {
    "duration": 20,
    "start_time": "2021-12-19T17:37:33.066Z"
   },
   {
    "duration": 23,
    "start_time": "2021-12-19T17:37:33.089Z"
   },
   {
    "duration": 14,
    "start_time": "2021-12-19T17:37:33.114Z"
   },
   {
    "duration": 81,
    "start_time": "2021-12-19T17:37:33.130Z"
   },
   {
    "duration": 85,
    "start_time": "2021-12-19T17:37:33.213Z"
   },
   {
    "duration": 11,
    "start_time": "2021-12-19T17:37:33.303Z"
   },
   {
    "duration": 984,
    "start_time": "2021-12-19T17:37:33.317Z"
   },
   {
    "duration": 5,
    "start_time": "2021-12-19T17:37:34.303Z"
   },
   {
    "duration": 326,
    "start_time": "2021-12-19T17:37:34.310Z"
   },
   {
    "duration": 2079,
    "start_time": "2021-12-19T17:37:34.638Z"
   },
   {
    "duration": 3,
    "start_time": "2021-12-19T17:37:36.719Z"
   },
   {
    "duration": 9,
    "start_time": "2021-12-19T17:37:36.723Z"
   },
   {
    "duration": 13,
    "start_time": "2021-12-19T17:37:36.733Z"
   },
   {
    "duration": 22,
    "start_time": "2021-12-19T17:37:36.748Z"
   },
   {
    "duration": 46,
    "start_time": "2021-12-19T17:37:36.774Z"
   },
   {
    "duration": 9,
    "start_time": "2021-12-19T17:37:36.821Z"
   },
   {
    "duration": 3,
    "start_time": "2021-12-19T17:37:36.832Z"
   },
   {
    "duration": 27,
    "start_time": "2021-12-19T17:37:36.837Z"
   },
   {
    "duration": 14,
    "start_time": "2021-12-19T17:37:36.867Z"
   },
   {
    "duration": 6,
    "start_time": "2021-12-19T17:37:36.883Z"
   },
   {
    "duration": 17,
    "start_time": "2021-12-19T17:37:36.891Z"
   },
   {
    "duration": 5,
    "start_time": "2021-12-19T17:37:36.911Z"
   },
   {
    "duration": 5,
    "start_time": "2021-12-19T17:37:36.918Z"
   },
   {
    "duration": 14,
    "start_time": "2021-12-19T17:37:36.925Z"
   },
   {
    "duration": 35,
    "start_time": "2021-12-19T17:37:36.941Z"
   },
   {
    "duration": 26,
    "start_time": "2021-12-19T17:37:36.978Z"
   },
   {
    "duration": 18,
    "start_time": "2021-12-19T17:37:37.006Z"
   },
   {
    "duration": 55,
    "start_time": "2021-12-19T17:37:37.026Z"
   },
   {
    "duration": 13,
    "start_time": "2021-12-19T17:37:37.083Z"
   },
   {
    "duration": 23,
    "start_time": "2021-12-19T17:37:37.098Z"
   },
   {
    "duration": 41,
    "start_time": "2021-12-19T17:37:37.123Z"
   },
   {
    "duration": 31,
    "start_time": "2021-12-19T17:37:37.168Z"
   },
   {
    "duration": 4,
    "start_time": "2021-12-19T17:40:48.464Z"
   },
   {
    "duration": 65,
    "start_time": "2021-12-19T17:40:48.471Z"
   },
   {
    "duration": 33,
    "start_time": "2021-12-19T17:40:48.538Z"
   },
   {
    "duration": 5,
    "start_time": "2021-12-19T17:40:48.574Z"
   },
   {
    "duration": 17,
    "start_time": "2021-12-19T17:40:48.581Z"
   },
   {
    "duration": 85,
    "start_time": "2021-12-19T17:40:48.600Z"
   },
   {
    "duration": 15,
    "start_time": "2021-12-19T17:40:48.687Z"
   },
   {
    "duration": 7,
    "start_time": "2021-12-19T17:40:48.705Z"
   },
   {
    "duration": 55,
    "start_time": "2021-12-19T17:40:48.715Z"
   },
   {
    "duration": 5,
    "start_time": "2021-12-19T17:40:48.772Z"
   },
   {
    "duration": 28,
    "start_time": "2021-12-19T17:40:48.779Z"
   },
   {
    "duration": 55,
    "start_time": "2021-12-19T17:40:48.809Z"
   },
   {
    "duration": 30,
    "start_time": "2021-12-19T17:40:48.867Z"
   },
   {
    "duration": 21,
    "start_time": "2021-12-19T17:40:48.899Z"
   },
   {
    "duration": 45,
    "start_time": "2021-12-19T17:40:48.921Z"
   },
   {
    "duration": 30,
    "start_time": "2021-12-19T17:40:48.968Z"
   },
   {
    "duration": 18,
    "start_time": "2021-12-19T17:40:49.000Z"
   },
   {
    "duration": 101,
    "start_time": "2021-12-19T17:40:49.020Z"
   },
   {
    "duration": 25,
    "start_time": "2021-12-19T17:40:49.122Z"
   },
   {
    "duration": 26,
    "start_time": "2021-12-19T17:40:49.149Z"
   },
   {
    "duration": 11,
    "start_time": "2021-12-19T17:40:49.177Z"
   },
   {
    "duration": 43,
    "start_time": "2021-12-19T17:40:49.190Z"
   },
   {
    "duration": 15,
    "start_time": "2021-12-19T17:40:49.264Z"
   },
   {
    "duration": 21,
    "start_time": "2021-12-19T17:40:49.283Z"
   },
   {
    "duration": 4,
    "start_time": "2021-12-19T17:40:49.306Z"
   },
   {
    "duration": 16,
    "start_time": "2021-12-19T17:40:49.311Z"
   },
   {
    "duration": 58,
    "start_time": "2021-12-19T17:40:49.328Z"
   },
   {
    "duration": 12,
    "start_time": "2021-12-19T17:40:49.389Z"
   },
   {
    "duration": 7,
    "start_time": "2021-12-19T17:40:49.403Z"
   },
   {
    "duration": 28,
    "start_time": "2021-12-19T17:40:49.412Z"
   },
   {
    "duration": 29,
    "start_time": "2021-12-19T17:40:49.441Z"
   },
   {
    "duration": 10,
    "start_time": "2021-12-19T17:40:49.472Z"
   },
   {
    "duration": 24,
    "start_time": "2021-12-19T17:40:49.485Z"
   },
   {
    "duration": 22,
    "start_time": "2021-12-19T17:40:49.511Z"
   },
   {
    "duration": 16,
    "start_time": "2021-12-19T17:40:49.535Z"
   },
   {
    "duration": 32,
    "start_time": "2021-12-19T17:40:49.553Z"
   },
   {
    "duration": 21,
    "start_time": "2021-12-19T17:40:49.587Z"
   },
   {
    "duration": 8,
    "start_time": "2021-12-19T17:40:49.611Z"
   },
   {
    "duration": 24,
    "start_time": "2021-12-19T17:40:49.621Z"
   },
   {
    "duration": 27,
    "start_time": "2021-12-19T17:40:49.647Z"
   },
   {
    "duration": 12,
    "start_time": "2021-12-19T17:40:49.677Z"
   },
   {
    "duration": 64,
    "start_time": "2021-12-19T17:40:49.691Z"
   },
   {
    "duration": 10,
    "start_time": "2021-12-19T17:40:49.757Z"
   },
   {
    "duration": 11,
    "start_time": "2021-12-19T17:40:49.770Z"
   },
   {
    "duration": 6,
    "start_time": "2021-12-19T17:40:49.784Z"
   },
   {
    "duration": 24,
    "start_time": "2021-12-19T17:40:49.792Z"
   },
   {
    "duration": 5,
    "start_time": "2021-12-19T17:40:49.818Z"
   },
   {
    "duration": 44,
    "start_time": "2021-12-19T17:40:49.825Z"
   },
   {
    "duration": 5,
    "start_time": "2021-12-19T17:40:49.872Z"
   },
   {
    "duration": 22,
    "start_time": "2021-12-19T17:40:49.879Z"
   },
   {
    "duration": 30,
    "start_time": "2021-12-19T17:40:49.903Z"
   },
   {
    "duration": 55,
    "start_time": "2021-12-19T17:40:49.934Z"
   },
   {
    "duration": 22,
    "start_time": "2021-12-19T17:40:49.992Z"
   },
   {
    "duration": 54,
    "start_time": "2021-12-19T17:40:50.016Z"
   },
   {
    "duration": 29,
    "start_time": "2021-12-19T17:40:50.072Z"
   },
   {
    "duration": 105,
    "start_time": "2021-12-19T17:40:50.103Z"
   },
   {
    "duration": 6,
    "start_time": "2021-12-19T17:40:50.209Z"
   },
   {
    "duration": 127,
    "start_time": "2021-12-19T17:40:50.216Z"
   },
   {
    "duration": 118,
    "start_time": "2021-12-19T17:40:50.345Z"
   },
   {
    "duration": 13,
    "start_time": "2021-12-19T17:40:50.465Z"
   },
   {
    "duration": 28,
    "start_time": "2021-12-19T17:40:50.479Z"
   },
   {
    "duration": 4,
    "start_time": "2021-12-19T17:40:50.509Z"
   },
   {
    "duration": 26,
    "start_time": "2021-12-19T17:40:50.514Z"
   },
   {
    "duration": 40,
    "start_time": "2021-12-19T17:40:50.542Z"
   },
   {
    "duration": 7,
    "start_time": "2021-12-19T17:40:50.583Z"
   },
   {
    "duration": 48,
    "start_time": "2021-12-19T17:40:50.592Z"
   },
   {
    "duration": 84,
    "start_time": "2021-12-19T17:40:50.642Z"
   },
   {
    "duration": 13,
    "start_time": "2021-12-19T17:40:50.731Z"
   },
   {
    "duration": 748,
    "start_time": "2021-12-19T17:40:50.746Z"
   },
   {
    "duration": 5,
    "start_time": "2021-12-19T17:40:51.496Z"
   },
   {
    "duration": 242,
    "start_time": "2021-12-19T17:40:51.503Z"
   },
   {
    "duration": 2262,
    "start_time": "2021-12-19T17:40:51.747Z"
   },
   {
    "duration": 3,
    "start_time": "2021-12-19T17:40:54.011Z"
   },
   {
    "duration": 17,
    "start_time": "2021-12-19T17:40:54.016Z"
   },
   {
    "duration": 12,
    "start_time": "2021-12-19T17:40:54.035Z"
   },
   {
    "duration": 19,
    "start_time": "2021-12-19T17:40:54.049Z"
   },
   {
    "duration": 47,
    "start_time": "2021-12-19T17:40:54.070Z"
   },
   {
    "duration": 10,
    "start_time": "2021-12-19T17:40:54.119Z"
   },
   {
    "duration": 2,
    "start_time": "2021-12-19T17:40:54.130Z"
   },
   {
    "duration": 4,
    "start_time": "2021-12-19T17:40:54.134Z"
   },
   {
    "duration": 3,
    "start_time": "2021-12-19T17:40:54.169Z"
   },
   {
    "duration": 8,
    "start_time": "2021-12-19T17:40:54.175Z"
   },
   {
    "duration": 13,
    "start_time": "2021-12-19T17:40:54.185Z"
   },
   {
    "duration": 7,
    "start_time": "2021-12-19T17:40:54.200Z"
   },
   {
    "duration": 6,
    "start_time": "2021-12-19T17:40:54.209Z"
   },
   {
    "duration": 13,
    "start_time": "2021-12-19T17:40:54.217Z"
   },
   {
    "duration": 36,
    "start_time": "2021-12-19T17:40:54.233Z"
   },
   {
    "duration": 29,
    "start_time": "2021-12-19T17:40:54.271Z"
   },
   {
    "duration": 17,
    "start_time": "2021-12-19T17:40:54.302Z"
   },
   {
    "duration": 60,
    "start_time": "2021-12-19T17:40:54.321Z"
   },
   {
    "duration": 16,
    "start_time": "2021-12-19T17:40:54.383Z"
   },
   {
    "duration": 36,
    "start_time": "2021-12-19T17:40:54.401Z"
   },
   {
    "duration": 42,
    "start_time": "2021-12-19T17:40:54.439Z"
   },
   {
    "duration": 45,
    "start_time": "2021-12-19T17:40:54.484Z"
   },
   {
    "duration": 28,
    "start_time": "2021-12-19T17:43:11.374Z"
   },
   {
    "duration": 19,
    "start_time": "2021-12-19T17:43:33.853Z"
   },
   {
    "duration": 2,
    "start_time": "2021-12-19T17:43:41.009Z"
   },
   {
    "duration": 81,
    "start_time": "2021-12-19T17:43:41.014Z"
   },
   {
    "duration": 18,
    "start_time": "2021-12-19T17:43:41.098Z"
   },
   {
    "duration": 6,
    "start_time": "2021-12-19T17:43:41.118Z"
   },
   {
    "duration": 37,
    "start_time": "2021-12-19T17:43:41.126Z"
   },
   {
    "duration": 45,
    "start_time": "2021-12-19T17:43:41.166Z"
   },
   {
    "duration": 12,
    "start_time": "2021-12-19T17:43:41.214Z"
   },
   {
    "duration": 39,
    "start_time": "2021-12-19T17:43:41.228Z"
   },
   {
    "duration": 19,
    "start_time": "2021-12-19T17:43:41.270Z"
   },
   {
    "duration": 4,
    "start_time": "2021-12-19T17:43:41.291Z"
   },
   {
    "duration": 65,
    "start_time": "2021-12-19T17:43:41.298Z"
   },
   {
    "duration": 34,
    "start_time": "2021-12-19T17:43:41.366Z"
   },
   {
    "duration": 25,
    "start_time": "2021-12-19T17:43:41.403Z"
   },
   {
    "duration": 54,
    "start_time": "2021-12-19T17:43:41.430Z"
   },
   {
    "duration": 22,
    "start_time": "2021-12-19T17:43:41.488Z"
   },
   {
    "duration": 23,
    "start_time": "2021-12-19T17:43:41.513Z"
   },
   {
    "duration": 44,
    "start_time": "2021-12-19T17:43:41.538Z"
   },
   {
    "duration": 41,
    "start_time": "2021-12-19T17:43:41.585Z"
   },
   {
    "duration": 49,
    "start_time": "2021-12-19T17:43:41.629Z"
   },
   {
    "duration": 13,
    "start_time": "2021-12-19T17:43:41.682Z"
   },
   {
    "duration": 9,
    "start_time": "2021-12-19T17:43:41.698Z"
   },
   {
    "duration": 27,
    "start_time": "2021-12-19T17:43:41.708Z"
   },
   {
    "duration": 41,
    "start_time": "2021-12-19T17:43:41.737Z"
   },
   {
    "duration": 20,
    "start_time": "2021-12-19T17:43:41.781Z"
   },
   {
    "duration": 4,
    "start_time": "2021-12-19T17:43:41.802Z"
   },
   {
    "duration": 17,
    "start_time": "2021-12-19T17:43:41.807Z"
   },
   {
    "duration": 68,
    "start_time": "2021-12-19T17:43:41.827Z"
   },
   {
    "duration": 9,
    "start_time": "2021-12-19T17:43:41.896Z"
   },
   {
    "duration": 7,
    "start_time": "2021-12-19T17:43:41.907Z"
   },
   {
    "duration": 18,
    "start_time": "2021-12-19T17:43:41.916Z"
   },
   {
    "duration": 18,
    "start_time": "2021-12-19T17:43:41.967Z"
   },
   {
    "duration": 11,
    "start_time": "2021-12-19T17:43:41.987Z"
   },
   {
    "duration": 9,
    "start_time": "2021-12-19T17:43:41.999Z"
   },
   {
    "duration": 9,
    "start_time": "2021-12-19T17:43:42.009Z"
   },
   {
    "duration": 6,
    "start_time": "2021-12-19T17:43:42.020Z"
   },
   {
    "duration": 47,
    "start_time": "2021-12-19T17:43:42.028Z"
   },
   {
    "duration": 18,
    "start_time": "2021-12-19T17:43:42.078Z"
   },
   {
    "duration": 13,
    "start_time": "2021-12-19T17:43:42.098Z"
   },
   {
    "duration": 25,
    "start_time": "2021-12-19T17:43:42.113Z"
   },
   {
    "duration": 6,
    "start_time": "2021-12-19T17:43:42.140Z"
   },
   {
    "duration": 25,
    "start_time": "2021-12-19T17:43:42.147Z"
   },
   {
    "duration": 73,
    "start_time": "2021-12-19T17:43:42.175Z"
   },
   {
    "duration": 18,
    "start_time": "2021-12-19T17:43:42.250Z"
   },
   {
    "duration": 9,
    "start_time": "2021-12-19T17:43:42.270Z"
   },
   {
    "duration": 9,
    "start_time": "2021-12-19T17:43:42.281Z"
   },
   {
    "duration": 22,
    "start_time": "2021-12-19T17:43:42.292Z"
   },
   {
    "duration": 5,
    "start_time": "2021-12-19T17:43:42.316Z"
   },
   {
    "duration": 73,
    "start_time": "2021-12-19T17:43:42.323Z"
   },
   {
    "duration": 5,
    "start_time": "2021-12-19T17:43:42.398Z"
   },
   {
    "duration": 27,
    "start_time": "2021-12-19T17:43:42.405Z"
   },
   {
    "duration": 57,
    "start_time": "2021-12-19T17:43:42.435Z"
   },
   {
    "duration": 23,
    "start_time": "2021-12-19T17:43:42.494Z"
   },
   {
    "duration": 21,
    "start_time": "2021-12-19T17:43:42.519Z"
   },
   {
    "duration": 43,
    "start_time": "2021-12-19T17:43:42.564Z"
   },
   {
    "duration": 33,
    "start_time": "2021-12-19T17:43:42.614Z"
   },
   {
    "duration": 107,
    "start_time": "2021-12-19T17:43:42.666Z"
   },
   {
    "duration": 13,
    "start_time": "2021-12-19T17:43:42.775Z"
   },
   {
    "duration": 180,
    "start_time": "2021-12-19T17:43:42.791Z"
   },
   {
    "duration": 150,
    "start_time": "2021-12-19T17:43:42.977Z"
   },
   {
    "duration": 13,
    "start_time": "2021-12-19T17:43:43.129Z"
   },
   {
    "duration": 53,
    "start_time": "2021-12-19T17:43:43.144Z"
   },
   {
    "duration": 5,
    "start_time": "2021-12-19T17:43:43.200Z"
   },
   {
    "duration": 18,
    "start_time": "2021-12-19T17:43:43.207Z"
   },
   {
    "duration": 49,
    "start_time": "2021-12-19T17:43:43.227Z"
   },
   {
    "duration": 17,
    "start_time": "2021-12-19T17:43:43.279Z"
   },
   {
    "duration": 51,
    "start_time": "2021-12-19T17:43:43.301Z"
   },
   {
    "duration": 70,
    "start_time": "2021-12-19T17:43:43.363Z"
   },
   {
    "duration": 35,
    "start_time": "2021-12-19T17:43:43.435Z"
   },
   {
    "duration": 759,
    "start_time": "2021-12-19T17:43:43.473Z"
   },
   {
    "duration": 4,
    "start_time": "2021-12-19T17:43:44.234Z"
   },
   {
    "duration": 219,
    "start_time": "2021-12-19T17:43:44.240Z"
   },
   {
    "duration": 2306,
    "start_time": "2021-12-19T17:43:44.460Z"
   },
   {
    "duration": 4,
    "start_time": "2021-12-19T17:43:46.770Z"
   },
   {
    "duration": 23,
    "start_time": "2021-12-19T17:43:46.776Z"
   },
   {
    "duration": 33,
    "start_time": "2021-12-19T17:43:46.801Z"
   },
   {
    "duration": 44,
    "start_time": "2021-12-19T17:43:46.835Z"
   },
   {
    "duration": 54,
    "start_time": "2021-12-19T17:43:46.881Z"
   },
   {
    "duration": 12,
    "start_time": "2021-12-19T17:43:46.937Z"
   },
   {
    "duration": 38,
    "start_time": "2021-12-19T17:43:46.951Z"
   },
   {
    "duration": 2,
    "start_time": "2021-12-19T17:43:46.992Z"
   },
   {
    "duration": 29,
    "start_time": "2021-12-19T17:43:46.996Z"
   },
   {
    "duration": 31,
    "start_time": "2021-12-19T17:43:47.027Z"
   },
   {
    "duration": 33,
    "start_time": "2021-12-19T17:43:47.060Z"
   },
   {
    "duration": 10,
    "start_time": "2021-12-19T17:43:47.096Z"
   },
   {
    "duration": 23,
    "start_time": "2021-12-19T17:43:47.108Z"
   },
   {
    "duration": 25,
    "start_time": "2021-12-19T17:43:47.133Z"
   },
   {
    "duration": 30,
    "start_time": "2021-12-19T17:43:47.161Z"
   },
   {
    "duration": 57,
    "start_time": "2021-12-19T17:43:47.193Z"
   },
   {
    "duration": 23,
    "start_time": "2021-12-19T17:43:47.252Z"
   },
   {
    "duration": 56,
    "start_time": "2021-12-19T17:43:47.279Z"
   },
   {
    "duration": 15,
    "start_time": "2021-12-19T17:43:47.338Z"
   },
   {
    "duration": 52,
    "start_time": "2021-12-19T17:43:47.355Z"
   },
   {
    "duration": 18,
    "start_time": "2021-12-19T17:43:47.409Z"
   },
   {
    "duration": 56,
    "start_time": "2021-12-19T17:43:47.429Z"
   }
  ],
  "kernelspec": {
   "display_name": "Python 3 (ipykernel)",
   "language": "python",
   "name": "python3"
  },
  "language_info": {
   "codemirror_mode": {
    "name": "ipython",
    "version": 3
   },
   "file_extension": ".py",
   "mimetype": "text/x-python",
   "name": "python",
   "nbconvert_exporter": "python",
   "pygments_lexer": "ipython3",
   "version": "3.9.7"
  },
  "toc": {
   "base_numbering": 1,
   "nav_menu": {},
   "number_sections": true,
   "sideBar": true,
   "skip_h1_title": true,
   "title_cell": "Содержание",
   "title_sidebar": "Contents",
   "toc_cell": true,
   "toc_position": {},
   "toc_section_display": true,
   "toc_window_display": true
  }
 },
 "nbformat": 4,
 "nbformat_minor": 2
}
